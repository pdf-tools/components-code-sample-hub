{
  "cells": [
    {
      "cell_type": "markdown",
      "id": "c345b7ac-816b-4f21-a442-9854826a15b3",
      "metadata": {
          "id": "85ea8f2b-07f0-4fb1-b476-fe7b99b2cdad"
      },
      "source": [
        "[![Open In Colab](https://colab.research.google.com/assets/colab-badge.svg)](https://colab.research.google.com/github/pdf-tools/components-code-sample-hub/blob/main/jupyter/pdftools_sdk/pdftools_sdk_global_sign_dss_add_timestamp.ipynb)"
      ]
    },
    {
      "cell_type": "code",
      "execution_count": null,
      "id": "77aa71a0-9038-4676-8b3a-ff1a6af8f762",
      "metadata": {
          "id": "c32ef147-9ee5-4237-a703-0057581d686e"
      },
      "outputs": [],
      "source": [
        "%pip install https://pdftools-public-downloads-production.s3.eu-west-1.amazonaws.com/productkits/PDFSDK/latest/pdftools_sdk-latest.tar.gz\n",
        "%pip install ipython"
      ]
    },
    {
      "cell_type": "markdown",
      "id": "a7513fb7-8317-41cd-b2ab-17fb0f0b6361",
      "metadata": {
          "id": "4acd7114-7927-4937-b7be-13cd5f7e1c16"
      },
      "source": [
        "# Add a document time-stamp to a PDF using the GlobalSign Digital Signing Service\n",
        "Add a trusted document time-stamp to a PDF and confirm\n",
        "that the signed document has not been altered. This type\n",
        "of signature proves that the document existed at a\n",
        "specific time and ensures its integrity."
      ]
    },
    {
      "cell_type": "code",
      "execution_count": null,
      "id": "6b0c185a-aa8e-41c3-af11-d040bdfc0b05",
      "metadata": {
          "id": "3c3e0925-0b57-471c-9346-fc43e8e63a9c"
      },
      "outputs": [],
      "source": [
        "import io\n",
        "from pdftools_sdk.pdf import Document\n",
        "from pdftools_sdk.sign import Signer\n",
        "from pdftools_sdk.crypto.providers.global_sign_dss import Session\n",
        "from pdftools_sdk.http_client_handler import HttpClientHandler"
      ]
    },
    {
      "cell_type": "code",
      "execution_count": null,
      "id": "b856b387-ae3e-4f2a-8c57-78c43fd5076c",
      "metadata": {
          "id": "0e58a2c1-aa93-454f-884d-cfb7bb5fb719"
      },
      "outputs": [],
      "source": [
        "# Download a file from a given URL and save it to the local system\n",
        "def prepare_file(url: str, path: str):\n",
        "    import requests\n",
        "    response = requests.get(url)\n",
        "    response.raise_for_status()\n",
        "\n",
        "    with open(path, 'wb') as f:\n",
        "        f.write(response.content)"
      ]
    },
    {
      "cell_type": "code",
      "execution_count": null,
      "id": "84f3cbd1-dc5e-4cfb-89e3-a5c61bda1619",
      "metadata": {
          "id": "b602d35e-5a1f-40de-a57c-0b23b9e360a2"
      },
      "outputs": [],
      "source": [
        "# Set input arguments\n",
        "input_url = 'https://pdftools-public-downloads-production.s3.eu-west-1.amazonaws.com/samples/testfiles/InvoiceNone.pdf'\n",
        "input_path = 'InvoiceNone.pdf'\n",
        "prepare_file(input_url, input_path)\n",
        "output_path = 'Timestamped.pdf'"
      ]
    },
    {
      "cell_type": "code",
      "execution_count": null,
      "id": "c808e554-6530-4cf3-bcd8-1c2a8ac171bd",
      "metadata": {
          "id": "1b9b6dcc-2d0e-4ae1-a333-5e6cf77a4e40"
      },
      "outputs": [],
      "source": [
        "def add_timestamp(session: Session, input_path: str, output_path: str):\n",
        "    # Create time-stamp configuration\n",
        "    timestamp = session.create_timestamp()\n",
        "\n",
        "    # Open input document\n",
        "    with io.FileIO(input_path, 'rb') as in_stream:\n",
        "        with Document.open(in_stream) as input_document:\n",
        "\n",
        "            # Create stream for output file\n",
        "            with io.FileIO(output_path, 'wb+') as output_stream:\n",
        "\n",
        "                # Add the document time-stamp\n",
        "                signer = Signer()\n",
        "                signer.add_timestamp(input_document, timestamp, output_stream)"
      ]
    },
    {
      "cell_type": "code",
      "execution_count": null,
      "id": "e7c3ba87-fe11-46c3-8c42-7ab8be82abd8",
      "metadata": {
          "id": "ab07243a-6d71-4124-a13e-ac76919764ef"
      },
      "outputs": [],
      "source": [
        "try:\n",
        "    # By default, a test license key is active. In this case, a watermark is added to the output. \n",
        "    # If you have a license key, please uncomment the following call and set the license key.\n",
        "    # from pdftools_sdk.sdk import Sdk\n",
        "    # Sdk.initialize(\"INSERT-LICENSE-KEY\")\n",

        "\n",
        "    # Optional: Set your proxy configuration\n",
        "    # Sdk.set_proxy(\"http://myproxy:8080\")\n",
        "    \n",
        "    # Configure the SSL client certificate to connect to the service\n",
        "    http_client_handler = HttpClientHandler()\n",
        "    with io.FileIO(\"***insert .cer path***\", 'rb') as cert_stream:\n",
        "        with io.FileIO(\"***insert .key path***\", 'rb') as key_stream:\n",
        "            http_client_handler.set_client_certificate_and_key(cert_stream, key_stream, \"***insert password***\")\n",
        "    \n",
        "            # Connect to the GlobalSign DSS service\n",
        "            with Session(\"https://emea.api.dss.globalsign.com:8443\", \"***insert api_key***\", \"***insert api_secret***\", http_client_handler) as session:\n",
        "                # Add a document time-stamp to a PDF\n",
        "                add_timestamp(session, input_path, output_path)\n",

        "\n",
        "    print(f\"Successfully created file {output_path}\")\n",

        "except Exception as e:\n",
        "    print(f\"An error occurred: {e}\")"
      ]
    }
  ],
  "metadata": {
    "kernelspec": {
      "display_name": "Python 3",
      "language": "python",
      "name": "python3"
    },
    "language_info": {
      "codemirror_mode": {
        "name": "ipython",
        "version": 3
      },
      "file_extension": ".py",
      "mimetype": "text/x-python",
      "name": "python",
      "nbconvert_exporter": "python",
      "pygments_lexer": "ipython3",
      "version": "3.12.8"
    },
    "colab": {
      "provenance": []
    }
  },
  "nbformat": 4,
  "nbformat_minor": 5
}