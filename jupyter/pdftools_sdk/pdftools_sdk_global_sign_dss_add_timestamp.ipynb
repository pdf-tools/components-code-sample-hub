{
  "cells": [
    {
      "cell_type": "markdown",
      "id": "332f75bb-2d91-41fc-a097-3abefff9bde2",
      "metadata": {
          "id": "884579ac-c864-413f-a7cd-834298febce8"
      },
      "source": [
        "[![Open In Colab](https://colab.research.google.com/assets/colab-badge.svg)](https://colab.research.google.com/github/pdf-tools/components-code-sample-hub/blob/main/jupyter/pdftools_sdk/pdftools_sdk_global_sign_dss_add_timestamp.ipynb)"
      ]
    },
    {
      "cell_type": "code",
      "execution_count": null,
      "id": "a92731f8-bf7f-4207-87ee-f9041e6e2d1a",
      "metadata": {
          "id": "932559e4-a20b-408d-b830-4d56a228248a"
      },
      "outputs": [],
      "source": [
        "%pip install https://pdftools-public-downloads-production.s3.eu-west-1.amazonaws.com/productkits/PDFSDK/latest/pdftools_sdk-latest.tar.gz\n",
        "%pip install ipython"
      ]
    },
    {
      "cell_type": "markdown",
      "id": "eb252115-3a95-4800-9fa4-67a004bdc770",
      "metadata": {
          "id": "c9810d9b-1152-45e4-bcac-0669de3ecbda"
      },
      "source": [
        "# Add a document time-stamp to a PDF using the GlobalSign Digital Signing Service\n",
        "Add a trusted document time-stamp to a PDF and confirm\n",
        "that the signed document has not been altered. This type\n",
        "of signature proves that the document existed at a\n",
        "specific time and ensures its integrity."
      ]
    },
    {
      "cell_type": "code",
      "execution_count": null,
      "id": "d83e6db1-0885-48b3-9417-e2cdc1362bad",
      "metadata": {
          "id": "b8b81a65-654b-43c7-971d-0a1f50546bf1"
      },
      "outputs": [],
      "source": [
        "import io\n",
        "from pdftools_sdk.pdf import Document\n",
        "from pdftools_sdk.sign import Signer\n",
        "from pdftools_sdk.crypto.providers.global_sign_dss import Session\n",
        "from pdftools_sdk.http_client_handler import HttpClientHandler"
      ]
    },
    {
      "cell_type": "code",
      "execution_count": null,
      "id": "d2c0d3ee-34ba-4fba-afd5-88e8e54232f5",
      "metadata": {
          "id": "45dd04f8-ade6-46c3-98f4-99f1bf231ad2"
      },
      "outputs": [],
      "source": [
        "# Download a file from a given URL and save it to the local system\n",
        "def prepare_file(url: str, path: str):\n",
        "    import requests\n",
        "    response = requests.get(url)\n",
        "    response.raise_for_status()\n",
        "\n",
        "    with open(path, 'wb') as f:\n",
        "        f.write(response.content)"
      ]
    },
    {
      "cell_type": "code",
      "execution_count": null,
      "id": "f411a72b-8b9f-47fe-81d3-e67953412ea1",
      "metadata": {
          "id": "72230763-e2a4-4498-85d2-8b5a3d494158"
      },
      "outputs": [],
      "source": [
        "# Set input arguments\n",
        "input_url = 'https://pdftools-public-downloads-production.s3.eu-west-1.amazonaws.com/samples/testfiles/InvoiceNone.pdf'\n",
        "input_path = 'InvoiceNone.pdf'\n",
        "prepare_file(input_url, input_path)\n",
        "output_path = 'Timestamped.pdf'"
      ]
    },
    {
      "cell_type": "code",
      "execution_count": null,
      "id": "d866847c-22bb-4dd9-b0ce-fb119908903f",
      "metadata": {
          "id": "4be61caf-aae3-4545-9dda-3f00e6a3aef3"
      },
      "outputs": [],
      "source": [
        "def add_timestamp(session: Session, input_path: str, output_path: str):\n",
        "    # Create time-stamp configuration\n",
        "    timestamp = session.create_timestamp()\n",
        "\n",
        "    # Open input document\n",
        "    with io.FileIO(input_path, 'rb') as in_stream:\n",
        "        with Document.open(in_stream) as input_document:\n",
        "\n",
        "            # Create stream for output file\n",
        "            with io.FileIO(output_path, 'wb+') as output_stream:\n",
        "\n",
        "                # Add the document time-stamp\n",
        "                signer = Signer()\n",
        "                signer.add_timestamp(input_document, timestamp, output_stream)"
      ]
    },
    {
      "cell_type": "code",
      "execution_count": null,
      "id": "1c84cd5f-5446-4456-a717-961c7b851244",
      "metadata": {
          "id": "b14627ad-9a44-49bd-ad5d-8861a30827db"
      },
      "outputs": [],
      "source": [
        "try:\n",
        "    # By default, a test license key is active. In this case, a watermark is added to the output. \n",
        "    # If you have a license key, please uncomment the following call and set the license key.\n",
        "    # from pdftools_sdk.sdk import Sdk\n",
        "    # Sdk.initialize(\"<PDFSDK,V1,MGAASQD6L2JMQHL54PK08RQX8GG4SS0M8DAHVPH0VMP3NB8R9DUK>\")\n",

        "\n",
        "    # Optional: Set your proxy configuration\n",
        "    # Sdk.set_proxy(\"http://myproxy:8080\")\n",
        "    \n",
        "    # Configure the SSL client certificate to connect to the service\n",
        "    http_client_handler = HttpClientHandler()\n",
        "    with io.FileIO(\"***insert .cer path***\", 'rb') as cert_stream:\n",
        "        with io.FileIO(\"***insert .key path***\", 'rb') as key_stream:\n",
        "            http_client_handler.set_client_certificate_and_key(cert_stream, key_stream, \"***insert password***\")\n",
        "    \n",
        "            # Connect to the GlobalSign DSS service\n",
        "            with Session(\"https://emea.api.dss.globalsign.com:8443\", \"***insert api_key***\", \"***insert api_secret***\", http_client_handler) as session:\n",
        "                # Add a document time-stamp to a PDF\n",
        "                add_timestamp(session, input_path, output_path)\n",

        "\n",
        "    print(f\"Successfully created file {output_path}\")\n",

        "except Exception as e:\n",
        "    print(f\"An error occurred: {e}\")"
      ]
    }
  ],
  "metadata": {
    "kernelspec": {
      "display_name": "Python 3",
      "language": "python",
      "name": "python3"
    },
    "language_info": {
      "codemirror_mode": {
        "name": "ipython",
        "version": 3
      },
      "file_extension": ".py",
      "mimetype": "text/x-python",
      "name": "python",
      "nbconvert_exporter": "python",
      "pygments_lexer": "ipython3",
      "version": "3.12.8"
    },
    "colab": {
      "provenance": []
    }
  },
  "nbformat": 4,
  "nbformat_minor": 5
}