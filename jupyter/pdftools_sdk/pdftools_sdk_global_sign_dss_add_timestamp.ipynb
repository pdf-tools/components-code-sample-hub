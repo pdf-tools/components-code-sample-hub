{
  "cells": [
    {
      "cell_type": "markdown",
      "id": "dfeedd46-e64c-4af1-be51-f15f3e2fdffb",
      "metadata": {
          "id": "ba82436c-ca14-4dfc-acdf-b0bccf28d010"
      },
      "source": [
        "[![Open In Colab](https://colab.research.google.com/assets/colab-badge.svg)](https://colab.research.google.com/github/pdf-tools/components-code-sample-hub/blob/main/jupyter/pdftools_sdk/pdftools_sdk_global_sign_dss_add_timestamp.ipynb)"
      ]
    },
    {
      "cell_type": "code",
      "execution_count": null,
      "id": "3544c822-e767-440f-92a1-2dc60b844cae",
      "metadata": {
          "id": "a05ddad0-d0e0-4004-8bdb-dca3a3230134"
      },
      "outputs": [],
      "source": [
        "%pip install pdftools_sdk\n",
        "%pip install ipython"
      ]
    },
    {
      "cell_type": "markdown",
      "id": "c4921212-359b-487a-9b3f-220c72d5fad2",
      "metadata": {
          "id": "e84d0507-2a06-4a17-8df2-c6a6ecdcdbc6"
      },
      "source": [
        "# Add a document time-stamp to a PDF using the GlobalSign Digital Signing Service\n",
        "Add a trusted document time-stamp to a PDF and confirm\n",
        "that the signed document has not been altered. This type\n",
        "of signature proves that the document existed at a\n",
        "specific time and ensures its integrity."
      ]
    },
    {
      "cell_type": "code",
      "execution_count": null,
      "id": "08daa776-f5e4-4801-b16f-65964fd86714",
      "metadata": {
          "id": "d0c6e09d-3979-479f-9f55-3f99dc42cd72"
      },
      "outputs": [],
      "source": [
        "import io\n",
        "from pdftools_sdk.pdf import Document\n",
        "from pdftools_sdk.sign import Signer\n",
        "from pdftools_sdk.crypto.providers.global_sign_dss import Session\n",
        "from pdftools_sdk.http_client_handler import HttpClientHandler"
      ]
    },
    {
      "cell_type": "code",
      "execution_count": null,
      "id": "4637dbb4-7b3f-401c-9015-892d8bf22c3f",
      "metadata": {
          "id": "8a29a00c-a0b1-444e-b75c-ff20620f2c7f"
      },
      "outputs": [],
      "source": [
        "# Download a file from a given URL and save it to the local system\n",
        "def prepare_file(url: str, path: str):\n",
        "    import requests\n",
        "    response = requests.get(url)\n",
        "    response.raise_for_status()\n",
        "\n",
        "    with open(path, 'wb') as f:\n",
        "        f.write(response.content)"
      ]
    },
    {
      "cell_type": "code",
      "execution_count": null,
      "id": "4c26132f-9ba5-4169-93ba-ca82b3718713",
      "metadata": {
          "id": "96bade37-1345-4188-84d1-46b21137daff"
      },
      "outputs": [],
      "source": [
        "# Set input arguments\n",
        "input_url = 'https://pdftools-public-downloads-production.s3.eu-west-1.amazonaws.com/samples/testfiles/InvoiceNone.pdf'\n",
        "input_path = 'InvoiceNone.pdf'\n",
        "prepare_file(input_url, input_path)\n",
        "output_path = 'Timestamped.pdf'"
      ]
    },
    {
      "cell_type": "code",
      "execution_count": null,
      "id": "1dab56f6-d0dc-4865-96c1-5a5fbba1cc59",
      "metadata": {
          "id": "4e9848e0-b7f3-4f75-951d-0177b910b306"
      },
      "outputs": [],
      "source": [
        "def add_timestamp(session: Session, input_path: str, output_path: str):\n",
        "    # Create time-stamp configuration\n",
        "    timestamp = session.create_timestamp()\n",
        "\n",
        "    # Open input document\n",
        "    with io.FileIO(input_path, 'rb') as in_stream:\n",
        "        with Document.open(in_stream) as input_document:\n",
        "\n",
        "            # Create stream for output file\n",
        "            with io.FileIO(output_path, 'wb+') as output_stream:\n",
        "\n",
        "                # Add the document time-stamp\n",
        "                signer = Signer()\n",
        "                signer.add_timestamp(input_document, timestamp, output_stream)"
      ]
    },
    {
      "cell_type": "code",
      "execution_count": null,
      "id": "2fd73e2a-93c0-4f71-a259-b4dd222b0536",
      "metadata": {
          "id": "eba01821-c9f5-4adf-85b9-355333c120ce"
      },
      "outputs": [],
      "source": [
        "try:\n",
        "    # By default, a test license key is active. In this case, a watermark is added to the output. \n",
        "    # If you have a license key, please uncomment the following call and set the license key.\n",
        "    # from pdftools_sdk.sdk import Sdk\n",
        "    # Sdk.initialize(\"INSERT-LICENSE-KEY\")\n",

        "\n",
        "    # Optional: Set your proxy configuration\n",
        "    # Sdk.set_proxy(\"http://myproxy:8080\")\n",
        "    \n",
        "    # Configure the SSL client certificate to connect to the service\n",
        "    http_client_handler = HttpClientHandler()\n",
        "    with io.FileIO(\"***insert .cer path***\", 'rb') as cert_stream:\n",
        "        with io.FileIO(\"***insert .key path***\", 'rb') as key_stream:\n",
        "            http_client_handler.set_client_certificate_and_key(cert_stream, key_stream, \"***insert password***\")\n",
        "    \n",
        "            # Connect to the GlobalSign DSS service\n",
        "            with Session(\"https://emea.api.dss.globalsign.com:8443\", \"***insert api_key***\", \"***insert api_secret***\", http_client_handler) as session:\n",
        "                # Add a document time-stamp to a PDF\n",
        "                add_timestamp(session, input_path, output_path)\n",

        "\n",
        "    print(f\"Successfully created file {output_path}\")\n",

        "except Exception as e:\n",
        "    print(f\"An error occurred: {e}\")"
      ]
    }
  ],
  "metadata": {
    "kernelspec": {
      "display_name": "Python 3",
      "language": "python",
      "name": "python3"
    },
    "language_info": {
      "codemirror_mode": {
        "name": "ipython",
        "version": 3
      },
      "file_extension": ".py",
      "mimetype": "text/x-python",
      "name": "python",
      "nbconvert_exporter": "python",
      "pygments_lexer": "ipython3",
      "version": "3.12.8"
    },
    "colab": {
      "provenance": []
    }
  },
  "nbformat": 4,
  "nbformat_minor": 5
}