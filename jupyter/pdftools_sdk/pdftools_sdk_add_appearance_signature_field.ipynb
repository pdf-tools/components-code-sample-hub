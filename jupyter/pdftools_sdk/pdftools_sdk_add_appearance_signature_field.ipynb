{
  "cells": [
    {
      "cell_type": "markdown",
      "id": "1448b603-e05e-4183-b70d-6b32078228d2",
      "metadata": {
          "id": "e86aa9d5-9b0b-4742-9070-d3978d7f7277"
      },
      "source": [
        "[![Open In Colab](https://colab.research.google.com/assets/colab-badge.svg)](https://colab.research.google.com/github/pdf-tools/components-code-sample-hub/blob/main/jupyter/pdftools_sdk/pdftools_sdk_add_appearance_signature_field.ipynb)"
      ]
    },
    {
      "cell_type": "code",
      "execution_count": null,
      "id": "d7011976-61fb-42c8-a27d-2962230ccc2c",
      "metadata": {
          "id": "52268aaf-e376-4b89-bbf0-a10af9b425f1"
      },
      "outputs": [],
      "source": [
        "%pip install https://pdftools-public-downloads-production.s3.eu-west-1.amazonaws.com/productkits/PDFSDK/latest/pdftools_sdk-latest.tar.gz\n",
        "%pip install ipython"
      ]
    },
    {
      "cell_type": "markdown",
      "id": "7a5fd1f9-6445-4d80-869d-c24000f4a91f",
      "metadata": {
          "id": "bc8b8fc2-a7c5-4a23-b90b-1484d0f35b7b"
      },
      "source": [
        "# Sign a PDF and apply a visual signature appearance\n",
        "Sign a PDF document using a provided certificate and\n",
        "apply a visual signature appearance. This process\n",
        "requires an input PDF that already contains a signature\n",
        "field. The provided certificate is used to sign the\n",
        "document and attach the signature to the existing field.\n",
        "The visual appearance of the signature is updated using\n",
        "an XML or JSON file, allowing the addition of text,\n",
        "images, or PDFs. This signature consists of both a\n",
        "visible and a non-visible part. Only the non-visible part\n",
        "is used by other applications to verify the integrity of\n",
        "the signed part of the document and validate the signing\n",
        "certificate. The signing certificate is retrieved from a\n",
        "password-protected PKCS#12 file (.pfx or .p12)."
      ]
    },
    {
      "cell_type": "code",
      "execution_count": null,
      "id": "a8af6ea0-1608-4504-910d-02a013d67cbf",
      "metadata": {
          "id": "cadd97ec-d7f5-46be-a6e8-23af457fa8a6"
      },
      "outputs": [],
      "source": [
        "import io\n",
        "import os\n",
        "from pdftools_sdk.pdf import Document\n",
        "from pdftools_sdk.sign import Signer\n",
        "from pdftools_sdk.crypto.providers.built_in import Provider\n",
        "from pdftools_sdk.sign.appearance import Appearance"
      ]
    },
    {
      "cell_type": "code",
      "execution_count": null,
      "id": "ff92cb6f-aef5-44ec-a018-5c57237498a9",
      "metadata": {
          "id": "28a8c7ad-e918-4449-b65a-c35721db1d07"
      },
      "outputs": [],
      "source": [
        "# Download a file from a given URL and save it to the local system\n",
        "def prepare_file(url: str, path: str):\n",
        "    import requests\n",
        "    response = requests.get(url)\n",
        "    response.raise_for_status()\n",
        "\n",
        "    with open(path, 'wb') as f:\n",
        "        f.write(response.content)"
      ]
    },
    {
      "cell_type": "code",
      "execution_count": null,
      "id": "17ea11a6-5d26-42d6-96d7-ca29ca0ee1f3",
      "metadata": {
          "id": "f386529f-4c3b-4be3-a81f-ad31dfe3ed89"
      },
      "outputs": [],
      "source": [
        "# Set input arguments\n",
        "certificate_file = 'INSERT-PFX-FILE'  # Placeholder for PFX file\n",
        "password = 'INSERT-PASSWORD'\n",
        "appearance_config_file_url = 'https://pdftools-public-downloads-production.s3.eu-west-1.amazonaws.com/samples/testfiles/visual_appearance.xml'\n",
        "appearance_config_file = 'visual_appearance.xml'\n",
        "prepare_file(appearance_config_file_url, appearance_config_file)\n",
        "appearance_file_urls = [\n",
        "    'https://pdftools-public-downloads-production.s3.eu-west-1.amazonaws.com/samples/testfiles/DigitalSignature.jpg',\n",
        "    'https://pdftools-public-downloads-production.s3.eu-west-1.amazonaws.com/samples/testfiles/butterfly.pdf',\n",
        "    'https://pdftools-public-downloads-production.s3.eu-west-1.amazonaws.com/samples/testfiles/pdftools-icon.png',\n",
        "    'https://pdftools-public-downloads-production.s3.eu-west-1.amazonaws.com/samples/testfiles/TestFileResources/OpenSans-Semibold.ttf'\n",
        "]\n",
        "appearance_file_paths = ['DigitalSignature.jpg', 'butterfly.pdf', 'pdftools-icon.png', 'OpenSans-Semibold.ttf']\n",
        "for url, path in zip(appearance_file_urls, appearance_file_paths):\n",
        "    prepare_file(url, path)\n",
        "input_url = 'https://pdftools-public-downloads-production.s3.eu-west-1.amazonaws.com/samples/testfiles/Invoice_field.pdf'\n",
        "input_path = 'Invoice_field.pdf'\n",
        "prepare_file(input_url, input_path)\n",
        "output_path = 'Signed_Invoice_field.pdf'"
      ]
    },
    {
      "cell_type": "code",
      "execution_count": null,
      "id": "fab3edd2-80e2-46e3-b843-11731287c0e3",
      "metadata": {
          "id": "1e06b4c6-3981-4347-bf59-f3ca1f32cf5c"
      },
      "outputs": [],
      "source": [
        "def add_appearance_signature_field(certificate_file: str, password: str, appearance_config_file: str, input_path: str, output_path: str):\n",
        "    # Create a session to the built-in cryptographic provider\n",
        "    with Provider() as session:\n",
        "        # Create signature configuration from PFX (or P12) file\n",
        "        with io.FileIO(certificate_file, 'rb') as pfx_str:\n",
        "            signature = session.create_signature_from_certificate(pfx_str, password)\n",
        "\n",
        "            # Open input document\n",
        "            with io.FileIO(input_path, 'rb') as input_pdf_stream:\n",
        "                with Document.open(input_pdf_stream) as input_pdf_document:\n",
        "                    # Choose first signature field\n",
        "                    for field in input_pdf_document.signature_fields:\n",
        "                        if field:\n",
        "                            signature.field_name = field.field_name\n",
        "                            break\n",
        "\n",
        "                    # Create stream for output file\n",
        "                    with io.FileIO(output_path, 'wb+') as output_stream:\n",
        "                        # Create appearance configuration from either XML or JSON file\n",
        "                        with io.FileIO(appearance_config_file, 'rb') as appearance_config_stream:\n",
        "                            if os.path.splitext(appearance_config_file)[1].lower() == \".xml\":\n",
        "                                signature.appearance = Appearance.create_from_xml(appearance_config_stream)\n",
        "                            else:\n",
        "                                signature.appearance = Appearance.create_from_json(appearance_config_stream)\n",
        "\n",
        "                            signature.appearance.custom_text_variables[\"company\"] = \"Daily Planet\"\n",
        "\n",
        "                            # Sign the input document\n",
        "                            signer = Signer()\n",
        "                            signer.sign(input_pdf_document, signature, output_stream)"
      ]
    },
    {
      "cell_type": "code",
      "execution_count": null,
      "id": "a998f6fb-0363-4f72-9863-16832c52c0a2",
      "metadata": {
          "id": "0aa99125-b1d8-41dd-862e-e8d46a804ce9"
      },
      "outputs": [],
      "source": [
        "try:\n",
        "    # By default, a test license key is active. In this case, a watermark is added to the output. \n",
        "    # If you have a license key, please uncomment the following call and set the license key.\n",
        "    # from pdftools_sdk.sdk import Sdk\n",
        "    # Sdk.initialize(\"<PDFSDK,V1,MGAASQD6L2JMQHL54PK08RQX8GG4SS0M8DAHVPH0VMP3NB8R9DUK>\")\n",

        "\n",
        "    # Sign the input document\n",
        "    add_appearance_signature_field(certificate_file, password, appearance_config_file, input_path, output_path)\n",

        "\n",
        "    print(f\"Successfully created file {output_path}\")\n",

        "except Exception as e:\n",
        "    print(f\"An error occurred: {e}\")"
      ]
    }
  ],
  "metadata": {
    "kernelspec": {
      "display_name": "Python 3",
      "language": "python",
      "name": "python3"
    },
    "language_info": {
      "codemirror_mode": {
        "name": "ipython",
        "version": 3
      },
      "file_extension": ".py",
      "mimetype": "text/x-python",
      "name": "python",
      "nbconvert_exporter": "python",
      "pygments_lexer": "ipython3",
      "version": "3.12.8"
    },
    "colab": {
      "provenance": []
    }
  },
  "nbformat": 4,
  "nbformat_minor": 5
}