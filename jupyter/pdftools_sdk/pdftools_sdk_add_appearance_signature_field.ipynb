{
  "cells": [
    {
      "cell_type": "markdown",
      "id": "22af0523-84bf-4a73-b958-29e7e8d8ea55",
      "metadata": {
          "id": "c2384250-b119-4739-be1b-7007551ce37b"
      },
      "source": [
        "[![Open In Colab](https://colab.research.google.com/assets/colab-badge.svg)](https://colab.research.google.com/github/pdf-tools/components-code-sample-hub/blob/main/jupyter/pdftools_sdk/pdftools_sdk_add_appearance_signature_field.ipynb)"
      ]
    },
    {
      "cell_type": "code",
      "execution_count": null,
      "id": "217962eb-a635-4281-bd38-06db8aa761d4",
      "metadata": {
          "id": "a46f82ba-1d2f-4ad7-94f4-821ea6d68321"
      },
      "outputs": [],
      "source": [
        "%pip install https://pdftools-public-downloads-production.s3.eu-west-1.amazonaws.com/productkits/PDFSDK/latest/pdftools_sdk-latest.tar.gz\n",
        "%pip install ipython"
      ]
    },
    {
      "cell_type": "markdown",
      "id": "c1bbe6c3-10ee-495b-9219-5f20e27ad536",
      "metadata": {
          "id": "b0c002cd-a5f6-4640-8a20-4fb13cd87d14"
      },
      "source": [
        "# Sign a PDF and apply a visual signature appearance\n",
        "Sign a PDF document using a provided certificate and\n",
        "apply a visual signature appearance. This process\n",
        "requires an input PDF that already contains a signature\n",
        "field. The provided certificate is used to sign the\n",
        "document and attach the signature to the existing field.\n",
        "The visual appearance of the signature is updated using\n",
        "an XML or JSON file, allowing the addition of text,\n",
        "images, or PDFs. This signature consists of both a\n",
        "visible and a non-visible part. Only the non-visible part\n",
        "is used by other applications to verify the integrity of\n",
        "the signed part of the document and validate the signing\n",
        "certificate. The signing certificate is retrieved from a\n",
        "password-protected PKCS#12 file (.pfx or .p12)."
      ]
    },
    {
      "cell_type": "code",
      "execution_count": null,
      "id": "ffc9ac84-6ac1-4e63-868f-1cc5616b38a6",
      "metadata": {
          "id": "72bc8625-d37d-45a3-8102-64221de1418c"
      },
      "outputs": [],
      "source": [
        "import io\n",
        "import os\n",
        "from pdftools_sdk.pdf import Document\n",
        "from pdftools_sdk.sign import Signer\n",
        "from pdftools_sdk.crypto.providers.built_in import Provider\n",
        "from pdftools_sdk.sign.appearance import Appearance"
      ]
    },
    {
      "cell_type": "code",
      "execution_count": null,
      "id": "8c41d9a1-f787-42ee-988b-0fe76220f8ea",
      "metadata": {
          "id": "f24ba1d5-680c-497a-b55a-84092411e28b"
      },
      "outputs": [],
      "source": [
        "# Download a file from a given URL and save it to the local system\n",
        "def prepare_file(url: str, path: str):\n",
        "    import requests\n",
        "    response = requests.get(url)\n",
        "    response.raise_for_status()\n",
        "\n",
        "    with open(path, 'wb') as f:\n",
        "        f.write(response.content)"
      ]
    },
    {
      "cell_type": "code",
      "execution_count": null,
      "id": "a3cf078c-7f27-456b-bab6-495288ac6bb5",
      "metadata": {
          "id": "b6e7be68-54d3-4b1b-9eea-8992f0484ee9"
      },
      "outputs": [],
      "source": [
        "# Set input arguments\n",
        "certificate_file = 'INSERT-PFX-FILE'  # Placeholder for PFX file\n",
        "password = 'INSERT-PASSWORD'\n",
        "appearance_config_file_url = 'https://pdftools-public-downloads-production.s3.eu-west-1.amazonaws.com/samples/testfiles/visual_appearance.xml'\n",
        "appearance_config_file = 'visual_appearance.xml'\n",
        "prepare_file(appearance_config_file_url, appearance_config_file)\n",
        "appearance_file_urls = [\n",
        "    'https://pdftools-public-downloads-production.s3.eu-west-1.amazonaws.com/samples/testfiles/DigitalSignature.jpg',\n",
        "    'https://pdftools-public-downloads-production.s3.eu-west-1.amazonaws.com/samples/testfiles/butterfly.pdf',\n",
        "    'https://pdftools-public-downloads-production.s3.eu-west-1.amazonaws.com/samples/testfiles/pdftools-icon.png',\n",
        "    'https://pdftools-public-downloads-production.s3.eu-west-1.amazonaws.com/samples/testfiles/TestFileResources/OpenSans-Semibold.ttf'\n",
        "]\n",
        "appearance_file_paths = ['DigitalSignature.jpg', 'butterfly.pdf', 'pdftools-icon.png', 'OpenSans-Semibold.ttf']\n",
        "for url, path in zip(appearance_file_urls, appearance_file_paths):\n",
        "    prepare_file(url, path)\n",
        "input_url = 'https://pdftools-public-downloads-production.s3.eu-west-1.amazonaws.com/samples/testfiles/Invoice_field.pdf'\n",
        "input_path = 'Invoice_field.pdf'\n",
        "prepare_file(input_url, input_path)\n",
        "output_path = 'Signed_Invoice_field.pdf'"
      ]
    },
    {
      "cell_type": "code",
      "execution_count": null,
      "id": "c3e9c503-5f17-47ac-9a5b-8dd2771e920e",
      "metadata": {
          "id": "7f258bad-b06f-4ba8-9405-3d108c5d6ba8"
      },
      "outputs": [],
      "source": [
        "def add_appearance_signature_field(certificate_file: str, password: str, appearance_config_file: str, input_path: str, output_path: str):\n",
        "    # Create a session to the built-in cryptographic provider\n",
        "    with Provider() as session:\n",
        "        # Create signature configuration from PFX (or P12) file\n",
        "        with io.FileIO(certificate_file, 'rb') as pfx_str:\n",
        "            signature = session.create_signature_from_certificate(pfx_str, password)\n",
        "\n",
        "            # Open input document\n",
        "            with io.FileIO(input_path, 'rb') as input_pdf_stream:\n",
        "                with Document.open(input_pdf_stream) as input_pdf_document:\n",
        "                    # Choose first signature field\n",
        "                    for field in input_pdf_document.signature_fields:\n",
        "                        if field:\n",
        "                            signature.field_name = field.field_name\n",
        "                            break\n",
        "\n",
        "                    # Create stream for output file\n",
        "                    with io.FileIO(output_path, 'wb+') as output_stream:\n",
        "                        # Create appearance configuration from either XML or JSON file\n",
        "                        with io.FileIO(appearance_config_file, 'rb') as appearance_config_stream:\n",
        "                            if os.path.splitext(appearance_config_file)[1].lower() == \".xml\":\n",
        "                                signature.appearance = Appearance.create_from_xml(appearance_config_stream)\n",
        "                            else:\n",
        "                                signature.appearance = Appearance.create_from_json(appearance_config_stream)\n",
        "\n",
        "                            signature.appearance.custom_text_variables[\"company\"] = \"Daily Planet\"\n",
        "\n",
        "                            # Sign the input document\n",
        "                            signer = Signer()\n",
        "                            signer.sign(input_pdf_document, signature, output_stream)"
      ]
    },
    {
      "cell_type": "code",
      "execution_count": null,
      "id": "dade774d-18ce-4bd7-8351-26bf32c7604f",
      "metadata": {
          "id": "09fbf635-f547-4a07-85e6-704a92f55db2"
      },
      "outputs": [],
      "source": [
        "try:\n",
        "    # By default, a test license key is active. In this case, a watermark is added to the output. \n",
        "    # If you have a license key, please uncomment the following call and set the license key.\n",
        "    # from pdftools_sdk.sdk import Sdk\n",
        "    # Sdk.initialize(\"INSERT-LICENSE-KEY\")\n",

        "\n",
        "    # Sign the input document\n",
        "    add_appearance_signature_field(certificate_file, password, appearance_config_file, input_path, output_path)\n",

        "\n",
        "    print(f\"Successfully created file {output_path}\")\n",

        "except Exception as e:\n",
        "    print(f\"An error occurred: {e}\")"
      ]
    }
  ],
  "metadata": {
    "kernelspec": {
      "display_name": "Python 3",
      "language": "python",
      "name": "python3"
    },
    "language_info": {
      "codemirror_mode": {
        "name": "ipython",
        "version": 3
      },
      "file_extension": ".py",
      "mimetype": "text/x-python",
      "name": "python",
      "nbconvert_exporter": "python",
      "pygments_lexer": "ipython3",
      "version": "3.12.8"
    },
    "colab": {
      "provenance": []
    }
  },
  "nbformat": 4,
  "nbformat_minor": 5
}