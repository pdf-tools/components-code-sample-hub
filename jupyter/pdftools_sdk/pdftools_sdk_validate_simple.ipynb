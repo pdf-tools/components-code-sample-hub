{
  "cells": [
    {
      "cell_type": "markdown",
      "id": "0f916ce3-e799-4b63-bcb6-68d39b75120e",
      "metadata": {
          "id": "274636f4-ec44-4998-8d50-e7bed780b1af"
      },
      "source": [
        "[![Open In Colab](https://colab.research.google.com/assets/colab-badge.svg)](https://colab.research.google.com/github/pdf-tools/components-code-sample-hub/blob/main/jupyter/pdftools_sdk/pdftools_sdk_validate_simple.ipynb)"
      ]
    },
    {
      "cell_type": "code",
      "execution_count": null,
      "id": "3638867c-67be-4133-8fb4-dfc160c1be14",
      "metadata": {
          "id": "be6f3c7d-2ee4-4f18-90d7-4b5a21417204"
      },
      "outputs": [],
      "source": [
        "%pip install https://pdftools-public-downloads-production.s3.eu-west-1.amazonaws.com/productkits/PDFSDK/latest/pdftools_sdk-latest.tar.gz\n",
        "%pip install ipython"
      ]
    },
    {
      "cell_type": "markdown",
      "id": "7723e876-280e-49a5-a439-a0908bf5936b",
      "metadata": {
          "id": "4e05090f-f825-4d7a-b4f7-ee20ef0b0000"
      },
      "source": [
        "# Validate PDF conformance\n",
        "Assess whether a PDF document adheres to specific\n",
        "standards and conformance levels."
      ]
    },
    {
      "cell_type": "code",
      "execution_count": null,
      "id": "37c66b66-1bc3-4f0d-953a-981834efcb2a",
      "metadata": {
          "id": "0ff2377f-10ce-4f45-9011-bc1be58bc3a2"
      },
      "outputs": [],
      "source": [
        "import io\n",
        "from pdftools_sdk.pdf import Document, Conformance\n",
        "from pdftools_sdk.pdf_a.validation import Validator, ErrorCategory"
      ]
    },
    {
      "cell_type": "code",
      "execution_count": null,
      "id": "7f0013ec-430b-4b45-a27c-bde68a4a81cf",
      "metadata": {
          "id": "8737a290-e561-4fe2-856d-9e7da80aefe5"
      },
      "outputs": [],
      "source": [
        "# Download a file from a given URL and save it to the local system\n",
        "def prepare_file(url: str, path: str):\n",
        "    import requests\n",
        "    response = requests.get(url)\n",
        "    response.raise_for_status()\n",
        "\n",
        "    with open(path, 'wb') as f:\n",
        "        f.write(response.content)"
      ]
    },
    {
      "cell_type": "code",
      "execution_count": null,
      "id": "6b713e91-4359-4f40-a565-2ee1559ce9aa",
      "metadata": {
          "id": "ccdd01db-cf7e-439c-acae-1f8225d94892"
      },
      "outputs": [],
      "source": [
        "# Set input arguments\n",
        "input_url = 'https://pdftools-public-downloads-production.s3.eu-west-1.amazonaws.com/samples/testfiles/PdfPrimerWhitepaper.pdf'\n",
        "input_file_path = 'PdfPrimerWhitepaper.pdf'\n",
        "prepare_file(input_url, input_file_path)"
      ]
    },
    {
      "cell_type": "code",
      "execution_count": null,
      "id": "f1142a83-a067-408e-b181-b81c591ac18f",
      "metadata": {
          "id": "43a34192-126a-4f65-a508-edeb4ec25339"
      },
      "outputs": [],
      "source": [
        "def error_listener(context, data_part: str, message: str, category: ErrorCategory, context_text: str, page_no: int, object_no: int):\n",
        "    if page_no > 0:\n",
        "        print(f\"- {category.name}: {message.decode()} ({context_text.decode()} on page {page_no})\")\n",
        "    else:\n",
        "        print(f\"- {category.name}: {message.decode()} ({context_text.decode()})\")"
      ]
    },
    {
      "cell_type": "code",
      "execution_count": null,
      "id": "2c1ed77f-8bbc-4896-b390-1093d858814f",
      "metadata": {
          "id": "62637bbc-cd88-4905-94c4-a93ed52360f5"
      },
      "outputs": [],
      "source": [
        "def validate(input_file_path: str):\n",
        "    # Open the document\n",
        "    with io.FileIO(input_file_path, 'rb') as in_stream:\n",
        "        with Document.open(in_stream) as input_document:\n",
        "            # Create a validator object that writes all validation error messages to the console\n",
        "            validator = Validator()\n",
        "            validator.add_error_handler(error_listener)\n",
        "\n",
        "            # Validate the standard conformance of the document\n",
        "            return validator.validate(input_document)"
      ]
    },
    {
      "cell_type": "code",
      "execution_count": null,
      "id": "e2ddad89-499a-48fd-a64e-c958d0bb0f56",
      "metadata": {
          "id": "98e4c682-871a-4169-b711-887ab9f61ef9"
      },
      "outputs": [],
      "source": [
        "try:\n",
        "    # By default, a test license key is active. In this case, a watermark is added to the output. \n",
        "    # If you have a license key, please uncomment the following call and set the license key.\n",
        "    # from pdftools_sdk.sdk import Sdk\n",
        "    # Sdk.initialize(\"INSERT-LICENSE-KEY\")\n",

        "\n",
        "    validation_result = validate(input_file_path)\n",
        "    \n",
        "    # Report the validation result\n",
        "    if validation_result.is_conforming:\n",
        "        print(f\"Document conforms to {Conformance(validation_result.conformance).name}.\")\n",
        "    else:\n",
        "        print(f\"Document does not conform to {Conformance(validation_result.conformance).name}.\")\n",

        "\n",
        "    print(f\"Validation of {input_file_path} finished.\")\n",

        "except Exception as e:\n",
        "    print(f\"An error occurred: {e}\")"
      ]
    }
  ],
  "metadata": {
    "kernelspec": {
      "display_name": "Python 3",
      "language": "python",
      "name": "python3"
    },
    "language_info": {
      "codemirror_mode": {
        "name": "ipython",
        "version": 3
      },
      "file_extension": ".py",
      "mimetype": "text/x-python",
      "name": "python",
      "nbconvert_exporter": "python",
      "pygments_lexer": "ipython3",
      "version": "3.12.8"
    },
    "colab": {
      "provenance": []
    }
  },
  "nbformat": 4,
  "nbformat_minor": 5
}