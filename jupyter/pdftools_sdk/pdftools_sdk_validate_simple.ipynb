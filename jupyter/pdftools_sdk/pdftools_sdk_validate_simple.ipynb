{
  "cells": [
    {
      "cell_type": "markdown",
      "id": "cbb9ea27-f40d-4e6e-8e02-dd4f0a0b4e50",
      "metadata": {
          "id": "28d2b5dc-1133-44d4-8e80-70dcf7536967"
      },
      "source": [
        "[![Open In Colab](https://colab.research.google.com/assets/colab-badge.svg)](https://colab.research.google.com/github/pdf-tools/components-code-sample-hub/blob/main/jupyter/pdftools_sdk/pdftools_sdk_validate_simple.ipynb)"
      ]
    },
    {
      "cell_type": "code",
      "execution_count": null,
      "id": "6f97927f-a3ad-4b9b-b39b-d5e7db5689c8",
      "metadata": {
          "id": "d812c8b2-141c-4b6a-be57-5627315152ea"
      },
      "outputs": [],
      "source": [
        "%pip install https://pdftools-public-downloads-production.s3.eu-west-1.amazonaws.com/productkits/PDFSDK/latest/pdftools_sdk-latest.tar.gz\n",
        "%pip install ipython"
      ]
    },
    {
      "cell_type": "markdown",
      "id": "7833c494-829b-45c3-a21a-c039cbedfa8a",
      "metadata": {
          "id": "b015c5da-32d1-48fb-a795-9ccc8649aa4d"
      },
      "source": [
        "# Validate PDF conformance\n",
        "Assess whether a PDF document adheres to specific\n",
        "standards and conformance levels."
      ]
    },
    {
      "cell_type": "code",
      "execution_count": null,
      "id": "10cef102-5752-4554-8e68-47b2269d3559",
      "metadata": {
          "id": "da24d45f-fcf5-4f27-b0ef-fac2bf8b52b6"
      },
      "outputs": [],
      "source": [
        "import io\n",
        "from pdftools_sdk.pdf import Document, Conformance\n",
        "from pdftools_sdk.pdf_a.validation import Validator, ErrorCategory"
      ]
    },
    {
      "cell_type": "code",
      "execution_count": null,
      "id": "95b44432-d307-4671-aaf3-5027ddfd3544",
      "metadata": {
          "id": "94b5fb2b-74c2-4dd9-931c-4e1d69541944"
      },
      "outputs": [],
      "source": [
        "# Download a file from a given URL and save it to the local system\n",
        "def prepare_file(url: str, path: str):\n",
        "    import requests\n",
        "    response = requests.get(url)\n",
        "    response.raise_for_status()\n",
        "\n",
        "    with open(path, 'wb') as f:\n",
        "        f.write(response.content)"
      ]
    },
    {
      "cell_type": "code",
      "execution_count": null,
      "id": "fe97365a-dec8-45fc-8742-49eff28cab3b",
      "metadata": {
          "id": "ccedb1b1-c876-4f1e-8a76-448cd0056daa"
      },
      "outputs": [],
      "source": [
        "# Set input arguments\n",
        "input_url = 'https://pdftools-public-downloads-production.s3.eu-west-1.amazonaws.com/samples/testfiles/PdfPrimerWhitepaper.pdf'\n",
        "input_file_path = 'PdfPrimerWhitepaper.pdf'\n",
        "prepare_file(input_url, input_file_path)"
      ]
    },
    {
      "cell_type": "code",
      "execution_count": null,
      "id": "a86460d8-7caa-469b-9006-67bbb02f2e8f",
      "metadata": {
          "id": "4daed999-f776-4a43-94d5-9bebf518a083"
      },
      "outputs": [],
      "source": [
        "def error_listener(context, data_part: str, message: str, category: ErrorCategory, context_text: str, page_no: int, object_no: int):\n",
        "    if page_no > 0:\n",
        "        print(f\"- {category.name}: {message.decode()} ({context_text.decode()} on page {page_no})\")\n",
        "    else:\n",
        "        print(f\"- {category.name}: {message.decode()} ({context_text.decode()})\")"
      ]
    },
    {
      "cell_type": "code",
      "execution_count": null,
      "id": "96ef6803-235b-481b-839d-46dcfe67c757",
      "metadata": {
          "id": "9022da9c-db6c-47ed-bdee-2f44b7491492"
      },
      "outputs": [],
      "source": [
        "def validate(input_file_path: str):\n",
        "    # Open the document\n",
        "    with io.FileIO(input_file_path, 'rb') as in_stream:\n",
        "        with Document.open(in_stream) as input_document:\n",
        "            # Create a validator object that writes all validation error messages to the console\n",
        "            validator = Validator()\n",
        "            validator.add_error_handler(error_listener)\n",
        "\n",
        "            # Validate the standard conformance of the document\n",
        "            return validator.validate(input_document)"
      ]
    },
    {
      "cell_type": "code",
      "execution_count": null,
      "id": "a7ae83e7-a183-477c-8925-37c2aaecf3f8",
      "metadata": {
          "id": "a154816b-06a0-4442-a0f4-dbf2aac27d2d"
      },
      "outputs": [],
      "source": [
        "try:\n",
        "    # By default, a test license key is active. In this case, a watermark is added to the output. \n",
        "    # If you have a license key, please uncomment the following call and set the license key.\n",
        "    # from pdftools_sdk.sdk import Sdk\n",
        "    # Sdk.initialize(\"INSERT-LICENSE-KEY\")\n",

        "\n",
        "    validation_result = validate(input_file_path)\n",
        "    \n",
        "    # Report the validation result\n",
        "    if validation_result.is_conforming:\n",
        "        print(f\"Document conforms to {Conformance(validation_result.conformance).name}.\")\n",
        "    else:\n",
        "        print(f\"Document does not conform to {Conformance(validation_result.conformance).name}.\")\n",

        "\n",
        "    print(f\"Validation of {input_file_path} finished.\")\n",

        "except Exception as e:\n",
        "    print(f\"An error occurred: {e}\")"
      ]
    }
  ],
  "metadata": {
    "kernelspec": {
      "display_name": "Python 3",
      "language": "python",
      "name": "python3"
    },
    "language_info": {
      "codemirror_mode": {
        "name": "ipython",
        "version": 3
      },
      "file_extension": ".py",
      "mimetype": "text/x-python",
      "name": "python",
      "nbconvert_exporter": "python",
      "pygments_lexer": "ipython3",
      "version": "3.12.8"
    },
    "colab": {
      "provenance": []
    }
  },
  "nbformat": 4,
  "nbformat_minor": 5
}