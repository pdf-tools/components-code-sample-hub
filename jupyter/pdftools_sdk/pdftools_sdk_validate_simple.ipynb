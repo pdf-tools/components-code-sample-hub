{
  "cells": [
    {
      "cell_type": "markdown",
      "id": "d6b202b8-f00a-4dda-8dc8-248c78ff8c91",
      "metadata": {
          "id": "eb1a6797-4cd2-40da-9bba-c6173fc71387"
      },
      "source": [
        "[![Open In Colab](https://colab.research.google.com/assets/colab-badge.svg)](https://colab.research.google.com/github/pdf-tools/components-code-sample-hub/blob/main/jupyter/pdftools_sdk/pdftools_sdk_validate_simple.ipynb)"
      ]
    },
    {
      "cell_type": "code",
      "execution_count": null,
      "id": "a38665d3-e7a7-49f1-b3a3-e8c4418c8a3b",
      "metadata": {
          "id": "60b2bcba-7e69-4b21-b91b-70e0198b5d9e"
      },
      "outputs": [],
      "source": [
        "%pip install https://pdftools-public-downloads-production.s3.eu-west-1.amazonaws.com/productkits/PDFSDK/latest/pdftools_sdk-latest.tar.gz\n",
        "%pip install ipython"
      ]
    },
    {
      "cell_type": "markdown",
      "id": "bd398c5f-7f97-4031-bbce-c7a5412b398f",
      "metadata": {
          "id": "613d99a1-beb8-436b-8583-18c5cb27253e"
      },
      "source": [
        "# Validate PDF conformance\n",
        "Assess whether a PDF document adheres to specific\n",
        "standards and conformance levels."
      ]
    },
    {
      "cell_type": "code",
      "execution_count": null,
      "id": "bf6050f3-e31c-4c41-ae98-26e14bf07162",
      "metadata": {
          "id": "0f4b6cce-eb77-4873-97bc-dfbe36098d72"
      },
      "outputs": [],
      "source": [
        "import io\n",
        "from pdftools_sdk.pdf import Document, Conformance\n",
        "from pdftools_sdk.pdf_a.validation import Validator, ErrorCategory"
      ]
    },
    {
      "cell_type": "code",
      "execution_count": null,
      "id": "dd0a0643-ce93-4957-9b80-d835707e794a",
      "metadata": {
          "id": "8e554070-1f72-4a45-94ea-a9bfcc3d3140"
      },
      "outputs": [],
      "source": [
        "# Download a file from a given URL and save it to the local system\n",
        "def prepare_file(url: str, path: str):\n",
        "    import requests\n",
        "    response = requests.get(url)\n",
        "    response.raise_for_status()\n",
        "\n",
        "    with open(path, 'wb') as f:\n",
        "        f.write(response.content)"
      ]
    },
    {
      "cell_type": "code",
      "execution_count": null,
      "id": "527b46b1-83c0-417f-b4ef-e55dcefd0ef1",
      "metadata": {
          "id": "5531f3e6-02d0-485a-be48-16669a4ec178"
      },
      "outputs": [],
      "source": [
        "# Set input arguments\n",
        "input_url = 'https://pdftools-public-downloads-production.s3.eu-west-1.amazonaws.com/samples/testfiles/PdfPrimerWhitepaper.pdf'\n",
        "input_file_path = 'PdfPrimerWhitepaper.pdf'\n",
        "prepare_file(input_url, input_file_path)"
      ]
    },
    {
      "cell_type": "code",
      "execution_count": null,
      "id": "960feaf0-6847-4e4e-b531-74fc55d76af9",
      "metadata": {
          "id": "a498c3b0-66c3-4c73-b254-ab3d598576ff"
      },
      "outputs": [],
      "source": [
        "def error_listener(context, data_part: str, message: str, category: ErrorCategory, context_text: str, page_no: int, object_no: int):\n",
        "    if page_no > 0:\n",
        "        print(f\"- {category.name}: {message.decode()} ({context_text.decode()} on page {page_no})\")\n",
        "    else:\n",
        "        print(f\"- {category.name}: {message.decode()} ({context_text.decode()})\")"
      ]
    },
    {
      "cell_type": "code",
      "execution_count": null,
      "id": "e602dc37-3771-4998-94fa-922af026e9b8",
      "metadata": {
          "id": "17a885dc-97a1-40db-8f1d-d613b8180a9a"
      },
      "outputs": [],
      "source": [
        "def validate(input_file_path: str):\n",
        "    # Open the document\n",
        "    with io.FileIO(input_file_path, 'rb') as in_stream:\n",
        "        with Document.open(in_stream) as input_document:\n",
        "            # Create a validator object that writes all validation error messages to the console\n",
        "            validator = Validator()\n",
        "            validator.add_error_handler(error_listener)\n",
        "\n",
        "            # Validate the standard conformance of the document\n",
        "            return validator.validate(input_document)"
      ]
    },
    {
      "cell_type": "code",
      "execution_count": null,
      "id": "707718f3-9abe-4832-bd78-c5340d137e00",
      "metadata": {
          "id": "53bc57a1-8780-4803-a415-932af94aafe0"
      },
      "outputs": [],
      "source": [
        "try:\n",
        "    # By default, a test license key is active. In this case, a watermark is added to the output. \n",
        "    # If you have a license key, please uncomment the following call and set the license key.\n",
        "    # from pdftools_sdk.sdk import Sdk\n",
        "    # Sdk.initialize(\"<PDFSDK,V1,MGAASQD6L2JMQHL54PK08RQX8GG4SS0M8DAHVPH0VMP3NB8R9DUK>\")\n",

        "\n",
        "    validation_result = validate(input_file_path)\n",
        "    \n",
        "    # Report the validation result\n",
        "    if validation_result.is_conforming:\n",
        "        print(f\"Document conforms to {Conformance(validation_result.conformance).name}.\")\n",
        "    else:\n",
        "        print(f\"Document does not conform to {Conformance(validation_result.conformance).name}.\")\n",

        "\n",
        "    print(f\"Validation of {input_file_path} finished.\")\n",

        "except Exception as e:\n",
        "    print(f\"An error occurred: {e}\")"
      ]
    }
  ],
  "metadata": {
    "kernelspec": {
      "display_name": "Python 3",
      "language": "python",
      "name": "python3"
    },
    "language_info": {
      "codemirror_mode": {
        "name": "ipython",
        "version": 3
      },
      "file_extension": ".py",
      "mimetype": "text/x-python",
      "name": "python",
      "nbconvert_exporter": "python",
      "pygments_lexer": "ipython3",
      "version": "3.12.8"
    },
    "colab": {
      "provenance": []
    }
  },
  "nbformat": 4,
  "nbformat_minor": 5
}