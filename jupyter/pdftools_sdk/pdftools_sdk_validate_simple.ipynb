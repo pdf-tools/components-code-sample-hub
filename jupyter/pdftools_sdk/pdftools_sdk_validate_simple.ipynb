{
  "cells": [
    {
      "cell_type": "markdown",
      "id": "d4fea525-1d8b-4d92-a3fc-4387f7b7f22f",
      "metadata": {
          "id": "7ebb30e4-54f0-4fd6-98bc-8db06ab10feb"
      },
      "source": [
        "[![Open In Colab](https://colab.research.google.com/assets/colab-badge.svg)](https://colab.research.google.com/github/pdf-tools/components-code-sample-hub/blob/main/jupyter/pdftools_sdk/pdftools_sdk_validate_simple.ipynb)"
      ]
    },
    {
      "cell_type": "code",
      "execution_count": null,
      "id": "58cf6d44-d40c-49f6-92f0-3acf46843461",
      "metadata": {
          "id": "c8269070-f98b-43bb-a33a-788b1b472b25"
      },
      "outputs": [],
      "source": [
        "%pip install pdftools_sdk\n",
        "%pip install ipython"
      ]
    },
    {
      "cell_type": "markdown",
      "id": "9f60f382-0587-4c01-a2ed-525c5ef0853c",
      "metadata": {
          "id": "3b98239d-138a-47df-9d40-44f3239a26aa"
      },
      "source": [
        "# Validate PDF conformance\n",
        "Assess whether a PDF document adheres to specific\n",
        "standards and conformance levels."
      ]
    },
    {
      "cell_type": "code",
      "execution_count": null,
      "id": "124d5d18-1dcd-482f-a1eb-4094a062b4f6",
      "metadata": {
          "id": "27b61fb7-d59d-47c1-8fe1-d177e6fe089c"
      },
      "outputs": [],
      "source": [
        "import io\n",
        "from pdftools_sdk.pdf import Document, Conformance\n",
        "from pdftools_sdk.pdf_a.validation import Validator, ErrorCategory"
      ]
    },
    {
      "cell_type": "code",
      "execution_count": null,
      "id": "3ed6bb67-af30-42ba-973c-cd6256362573",
      "metadata": {
          "id": "6a5e3278-3ab9-4948-b96d-1100cf883a84"
      },
      "outputs": [],
      "source": [
        "# Download a file from a given URL and save it to the local system\n",
        "def prepare_file(url: str, path: str):\n",
        "    import requests\n",
        "    response = requests.get(url)\n",
        "    response.raise_for_status()\n",
        "\n",
        "    with open(path, 'wb') as f:\n",
        "        f.write(response.content)"
      ]
    },
    {
      "cell_type": "code",
      "execution_count": null,
      "id": "6289eb83-0808-44f6-a4be-3ebb89dc85d9",
      "metadata": {
          "id": "62fba8ee-62b6-4922-b376-4660525580ed"
      },
      "outputs": [],
      "source": [
        "# Set input arguments\n",
        "input_url = 'https://pdftools-public-downloads-production.s3.eu-west-1.amazonaws.com/samples/testfiles/PdfPrimerWhitepaper.pdf'\n",
        "input_file_path = 'PdfPrimerWhitepaper.pdf'\n",
        "prepare_file(input_url, input_file_path)"
      ]
    },
    {
      "cell_type": "code",
      "execution_count": null,
      "id": "8b9e9800-af1c-4c96-9118-b9cecfc8c4f7",
      "metadata": {
          "id": "ee872b06-4b33-4406-9b33-9e2dace979dc"
      },
      "outputs": [],
      "source": [
        "def error_listener(context, data_part: str, message: str, category: ErrorCategory, context_text: str, page_no: int, object_no: int):\n",
        "    if page_no > 0:\n",
        "        print(f\"- {category.name}: {message.decode()} ({context_text.decode()} on page {page_no})\")\n",
        "    else:\n",
        "        print(f\"- {category.name}: {message.decode()} ({context_text.decode()})\")"
      ]
    },{
      "cell_type": "code",
      "execution_count": null,
      "id": "b89dcd65-ee2f-4432-abc7-a21e46435bd2",
      "metadata": {
          "id": "77f7befb-ea8c-4acd-9467-ea878e9c3101"
      },
      "outputs": [],
      "source": [
        "def validate(input_file_path: str):\n",
        "    # Open the document\n",
        "    with io.FileIO(input_file_path, 'rb') as in_stream:\n",
        "        with Document.open(in_stream) as input_document:\n",
        "            # Create a validator object that writes all validation error messages to the console\n",
        "            validator = Validator()\n",
        "            validator.add_error_handler(error_listener)\n",
        "\n",
        "            # Validate the standard conformance of the document\n",
        "            return validator.validate(input_document)"
      ]
    },
    {
      "cell_type": "code",
      "execution_count": null,
      "id": "c9d3dedf-6b68-4e03-b511-019d69531b95",
      "metadata": {
          "id": "4cfe33fa-3104-4060-93b9-83974d9d729a"
      },
      "outputs": [],
      "source": [
        "try:\n",
        "    # By default, a test license key is active. In this case, a watermark is added to the output. \n",
        "    # If you have a license key, please uncomment the following call and set the license key.\n",
        "    # from pdftools_sdk.sdk import Sdk\n",
        "    # Sdk.initialize(\"INSERT-LICENSE-KEY\")\n",

        "\n",
        "    validation_result = validate(input_file_path)\n",
        "    \n",
        "    # Report the validation result\n",
        "    if validation_result.is_conforming:\n",
        "        print(f\"Document conforms to {Conformance(validation_result.conformance).name}.\")\n",
        "    else:\n",
        "        print(f\"Document does not conform to {Conformance(validation_result.conformance).name}.\")\n",

        "\n",
        "    print(f\"Validation of {input_file_path} finished.\")\n",

        "except Exception as e:\n",
        "    print(f\"An error occurred: {e}\")"
      ]
    }
  ],
  "metadata": {
    "kernelspec": {
      "display_name": "Python 3",
      "language": "python",
      "name": "python3"
    },
    "language_info": {
      "codemirror_mode": {
        "name": "ipython",
        "version": 3
      },
      "file_extension": ".py",
      "mimetype": "text/x-python",
      "name": "python",
      "nbconvert_exporter": "python",
      "pygments_lexer": "ipython3",
      "version": "3.12.8"
    },
    "colab": {
      "provenance": []
    }
  },
  "nbformat": 4,
  "nbformat_minor": 5
}