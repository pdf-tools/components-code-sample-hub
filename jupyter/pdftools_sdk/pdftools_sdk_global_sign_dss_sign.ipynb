{
  "cells": [
    {
      "cell_type": "markdown",
      "id": "aab430fc-55e0-45f7-b492-683e3b776291",
      "metadata": {
          "id": "9ef63291-496d-48aa-82ae-bb1c5f322e78"
      },
      "source": [
        "[![Open In Colab](https://colab.research.google.com/assets/colab-badge.svg)](https://colab.research.google.com/github/pdf-tools/components-code-sample-hub/blob/main/jupyter/pdftools_sdk/pdftools_sdk_global_sign_dss_sign.ipynb)"
      ]
    },
    {
      "cell_type": "code",
      "execution_count": null,
      "id": "60927c13-eab7-4573-a6e9-2b7e6dd4c613",
      "metadata": {
          "id": "d32055dd-b982-473c-b8d0-06ae802329ab"
      },
      "outputs": [],
      "source": [
        "%pip install https://pdftools-public-downloads-production.s3.eu-west-1.amazonaws.com/productkits/PDFSDK/latest/pdftools_sdk-latest.tar.gz\n",
        "%pip install ipython"
      ]
    },
    {
      "cell_type": "markdown",
      "id": "c1f293da-6bc4-4393-8656-c37dc3982504",
      "metadata": {
          "id": "a42e8440-d9b2-430c-b863-cd5160f3542c"
      },
      "source": [
        "# Sign a PDF using the GlobalSign Digital Signing Service\n",
        "Add a document signature, sometimes called an approval\n",
        "signature.\n",
        "This type of signature verifies that the signed document\n",
        "has not been altered and authenticates the signer's\n",
        "identity.\n",
        "\n",
        "Validation information is embedded to enable the\n",
        "long-term validation (LTV) of the signature."
      ]
    },
    {
      "cell_type": "code",
      "execution_count": null,
      "id": "a0eec50e-90cc-4fe0-9742-96cff888901e",
      "metadata": {
          "id": "b9396b75-eef2-4599-aeb5-7f7ab22ed608"
      },
      "outputs": [],
      "source": [
        "import io\n",
        "import json\n",
        "from pdftools_sdk.pdf import Document\n",
        "from pdftools_sdk.sign import Signer\n",
        "from pdftools_sdk.crypto.providers.global_sign_dss import Session\n",
        "from pdftools_sdk.crypto import ValidationInformation\n",
        "from pdftools_sdk.http_client_handler import HttpClientHandler"
      ]
    },
    {
      "cell_type": "code",
      "execution_count": null,
      "id": "9344ee6f-ef4c-4604-8761-9c7ad10b6c0f",
      "metadata": {
          "id": "81f3dc86-c3c8-4a97-8aeb-1936c9efaaa0"
      },
      "outputs": [],
      "source": [
        "# Download a file from a given URL and save it to the local system\n",
        "def prepare_file(url: str, path: str):\n",
        "    import requests\n",
        "    response = requests.get(url)\n",
        "    response.raise_for_status()\n",
        "\n",
        "    with open(path, 'wb') as f:\n",
        "        f.write(response.content)"
      ]
    },
    {
      "cell_type": "code",
      "execution_count": null,
      "id": "fde83e03-ab86-4d6e-8dbb-ce18fbbfb650",
      "metadata": {
          "id": "5f7cd917-2d52-4403-82dc-91ab140de602"
      },
      "outputs": [],
      "source": [
        "# Set input arguments\n",
        "common_name = 'John Doe'  # Placeholder for dynamic identity\n",
        "input_url = 'https://pdftools-public-downloads-production.s3.eu-west-1.amazonaws.com/samples/testfiles/InvoiceNone.pdf'\n",
        "input_path = 'InvoiceNone.pdf'\n",
        "prepare_file(input_url, input_path)\n",
        "output_path = 'Signed.pdf'"
      ]
    },
    {
      "cell_type": "code",
      "execution_count": null,
      "id": "5debffff-65ae-4f0c-848e-beb42b8dcba5",
      "metadata": {
          "id": "6051d677-0f1e-4fbe-a58a-001a03f5f20e"
      },
      "outputs": [],
      "source": [
        "def sign(session: Session, common_name: str, input_path: str, output_path: str):\n",
        "    # Create a signing certificate for an account with a dynamic identity\n",
        "    identity = json.dumps({\"subject_dn\": {\"common_name\": common_name}})\n",
        "    signature = session.create_signature_for_dynamic_identity(identity)\n",
        "\n",
        "    # Embed validation information to enable the long term validation (LTV) of the signature (default)\n",
        "    signature.validation_information = ValidationInformation.EMBED_IN_DOCUMENT\n",
        "\n",
        "    # Open input document\n",
        "    with io.FileIO(input_path, 'rb') as in_stream:\n",
        "        with Document.open(in_stream) as input_document:\n",
        "\n",
        "            # Create stream for output file\n",
        "            with io.FileIO(output_path, 'wb+') as output_stream:\n",
        "\n",
        "                # Sign the document\n",
        "                signer = Signer()\n",
        "                signer.sign(input_document, signature, output_stream)"
      ]
    },
    {
      "cell_type": "code",
      "execution_count": null,
      "id": "584f2f32-eff9-4191-9812-b28ffa52e5d2",
      "metadata": {
          "id": "2f6742d4-91db-4b6e-8947-0931c4e2df6f"
      },
      "outputs": [],
      "source": [
        "try:\n",
        "    # By default, a test license key is active. In this case, a watermark is added to the output. \n",
        "    # If you have a license key, please uncomment the following call and set the license key.\n",
        "    # from pdftools_sdk.sdk import Sdk\n",
        "    # Sdk.initialize(\"INSERT-LICENSE-KEY\")\n",

        "\n",
        "    # Optional: Set your proxy configuration\n",
        "    # Sdk.set_proxy(\"http://myproxy:8080\")\n",
        "    \n",
        "    # Configure the SSL client certificate to connect to the service\n",
        "    http_client_handler = HttpClientHandler()\n",
        "    with io.FileIO(\"***insert .cer path***\", 'rb') as cert_stream:\n",
        "        with io.FileIO(\"***insert .key path***\", 'rb') as key_stream:\n",
        "            http_client_handler.set_client_certificate_and_key(cert_stream, key_stream, \"***insert password***\")\n",
        "    \n",
        "            # Connect to the GlobalSign DSS service\n",
        "            with Session(\"https://emea.api.dss.globalsign.com:8443\", \"***insert api_key***\", \"***insert api_secret***\", http_client_handler) as session:\n",
        "                # Sign a PDF document\n",
        "                sign(session, common_name, input_path, output_path)\n",

        "\n",
        "    print(f\"Successfully created file {output_path}\")\n",

        "except Exception as e:\n",
        "    print(f\"An error occurred: {e}\")"
      ]
    }
  ],
  "metadata": {
    "kernelspec": {
      "display_name": "Python 3",
      "language": "python",
      "name": "python3"
    },
    "language_info": {
      "codemirror_mode": {
        "name": "ipython",
        "version": 3
      },
      "file_extension": ".py",
      "mimetype": "text/x-python",
      "name": "python",
      "nbconvert_exporter": "python",
      "pygments_lexer": "ipython3",
      "version": "3.12.8"
    },
    "colab": {
      "provenance": []
    }
  },
  "nbformat": 4,
  "nbformat_minor": 5
}