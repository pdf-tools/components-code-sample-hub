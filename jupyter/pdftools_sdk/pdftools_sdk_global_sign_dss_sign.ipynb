{
  "cells": [
    {
      "cell_type": "markdown",
      "id": "2ca9bdd0-816e-4dce-9715-1875964890b3",
      "metadata": {
          "id": "72178e11-e9d2-431a-b1a9-5df1aec428aa"
      },
      "source": [
        "[![Open In Colab](https://colab.research.google.com/assets/colab-badge.svg)](https://colab.research.google.com/github/pdf-tools/components-code-sample-hub/blob/main/jupyter/pdftools_sdk/pdftools_sdk_global_sign_dss_sign.ipynb)"
      ]
    },
    {
      "cell_type": "code",
      "execution_count": null,
      "id": "cf8dc804-77b0-4d8e-82eb-266d573f73db",
      "metadata": {
          "id": "51cdc94d-c1f3-49c2-9737-b2a4fb0d24f9"
      },
      "outputs": [],
      "source": [
        "%pip install https://pdftools-public-downloads-production.s3.eu-west-1.amazonaws.com/productkits/PDFSDK/latest/pdftools_sdk-latest.tar.gz\n",
        "%pip install ipython"
      ]
    },
    {
      "cell_type": "markdown",
      "id": "dabdbd18-fba5-4c09-97cb-c92a41753e9e",
      "metadata": {
          "id": "3cc6a1c4-7ea7-42c6-b92a-1f1ea2701c7c"
      },
      "source": [
        "# Sign a PDF using the GlobalSign Digital Signing Service\n",
        "Add a document signature, sometimes called an approval\n",
        "signature.\n",
        "This type of signature verifies that the signed document\n",
        "has not been altered and authenticates the signer's\n",
        "identity.\n",
        "\n",
        "Validation information is embedded to enable the\n",
        "long-term validation (LTV) of the signature."
      ]
    },
    {
      "cell_type": "code",
      "execution_count": null,
      "id": "2aaee911-c2ed-4b57-b062-a626ccf48e27",
      "metadata": {
          "id": "dd97ca3e-aaa0-4749-b268-9cdcfc11d7c7"
      },
      "outputs": [],
      "source": [
        "import io\n",
        "import json\n",
        "from pdftools_sdk.pdf import Document\n",
        "from pdftools_sdk.sign import Signer\n",
        "from pdftools_sdk.crypto.providers.global_sign_dss import Session\n",
        "from pdftools_sdk.crypto import ValidationInformation\n",
        "from pdftools_sdk.http_client_handler import HttpClientHandler"
      ]
    },
    {
      "cell_type": "code",
      "execution_count": null,
      "id": "45a82015-79dd-48c5-b957-5b7896fe8dbf",
      "metadata": {
          "id": "c99e7a34-e0c5-4c71-b60b-913f4db632da"
      },
      "outputs": [],
      "source": [
        "# Download a file from a given URL and save it to the local system\n",
        "def prepare_file(url: str, path: str):\n",
        "    import requests\n",
        "    response = requests.get(url)\n",
        "    response.raise_for_status()\n",
        "\n",
        "    with open(path, 'wb') as f:\n",
        "        f.write(response.content)"
      ]
    },
    {
      "cell_type": "code",
      "execution_count": null,
      "id": "dda9a3fa-2855-447c-ba22-4f6aba9f5dc3",
      "metadata": {
          "id": "839b86d8-c78b-4b47-ad69-9865ca8ab244"
      },
      "outputs": [],
      "source": [
        "# Set input arguments\n",
        "common_name = 'John Doe'  # Placeholder for dynamic identity\n",
        "input_url = 'https://pdftools-public-downloads-production.s3.eu-west-1.amazonaws.com/samples/testfiles/InvoiceNone.pdf'\n",
        "input_path = 'InvoiceNone.pdf'\n",
        "prepare_file(input_url, input_path)\n",
        "output_path = 'Signed.pdf'"
      ]
    },
    {
      "cell_type": "code",
      "execution_count": null,
      "id": "56fbb6fa-8825-47d2-bf07-5b9b9742e1c4",
      "metadata": {
          "id": "5069be2a-0a86-4dcf-b979-7482db880582"
      },
      "outputs": [],
      "source": [
        "def sign(session: Session, common_name: str, input_path: str, output_path: str):\n",
        "    # Create a signing certificate for an account with a dynamic identity\n",
        "    identity = json.dumps({\"subject_dn\": {\"common_name\": common_name}})\n",
        "    signature = session.create_signature_for_dynamic_identity(identity)\n",
        "\n",
        "    # Embed validation information to enable the long term validation (LTV) of the signature (default)\n",
        "    signature.validation_information = ValidationInformation.EMBED_IN_DOCUMENT\n",
        "\n",
        "    # Open input document\n",
        "    with io.FileIO(input_path, 'rb') as in_stream:\n",
        "        with Document.open(in_stream) as input_document:\n",
        "\n",
        "            # Create stream for output file\n",
        "            with io.FileIO(output_path, 'wb+') as output_stream:\n",
        "\n",
        "                # Sign the document\n",
        "                signer = Signer()\n",
        "                signer.sign(input_document, signature, output_stream)"
      ]
    },
    {
      "cell_type": "code",
      "execution_count": null,
      "id": "0c27331a-ffbe-46c1-99c7-249dd2255a09",
      "metadata": {
          "id": "9109b9f7-b8e7-4d58-b708-31823cc93979"
      },
      "outputs": [],
      "source": [
        "try:\n",
        "    # By default, a test license key is active. In this case, a watermark is added to the output. \n",
        "    # If you have a license key, please uncomment the following call and set the license key.\n",
        "    # from pdftools_sdk.sdk import Sdk\n",
        "    # Sdk.initialize(\"<PDFSDK,V1,MGAASQD6L2JMQHL54PK08RQX8GG4SS0M8DAHVPH0VMP3NB8R9DUK>\")\n",

        "\n",
        "    # Optional: Set your proxy configuration\n",
        "    # Sdk.set_proxy(\"http://myproxy:8080\")\n",
        "    \n",
        "    # Configure the SSL client certificate to connect to the service\n",
        "    http_client_handler = HttpClientHandler()\n",
        "    with io.FileIO(\"***insert .cer path***\", 'rb') as cert_stream:\n",
        "        with io.FileIO(\"***insert .key path***\", 'rb') as key_stream:\n",
        "            http_client_handler.set_client_certificate_and_key(cert_stream, key_stream, \"***insert password***\")\n",
        "    \n",
        "            # Connect to the GlobalSign DSS service\n",
        "            with Session(\"https://emea.api.dss.globalsign.com:8443\", \"***insert api_key***\", \"***insert api_secret***\", http_client_handler) as session:\n",
        "                # Sign a PDF document\n",
        "                sign(session, common_name, input_path, output_path)\n",

        "\n",
        "    print(f\"Successfully created file {output_path}\")\n",

        "except Exception as e:\n",
        "    print(f\"An error occurred: {e}\")"
      ]
    }
  ],
  "metadata": {
    "kernelspec": {
      "display_name": "Python 3",
      "language": "python",
      "name": "python3"
    },
    "language_info": {
      "codemirror_mode": {
        "name": "ipython",
        "version": 3
      },
      "file_extension": ".py",
      "mimetype": "text/x-python",
      "name": "python",
      "nbconvert_exporter": "python",
      "pygments_lexer": "ipython3",
      "version": "3.12.8"
    },
    "colab": {
      "provenance": []
    }
  },
  "nbformat": 4,
  "nbformat_minor": 5
}