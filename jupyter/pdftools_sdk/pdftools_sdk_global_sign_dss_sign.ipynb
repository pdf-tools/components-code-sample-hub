{
  "cells": [
    {
      "cell_type": "markdown",
      "id": "147045e5-6b54-422a-ba42-056f3f83a424",
      "metadata": {
          "id": "7ea66c82-cf14-45f3-99fa-07136b7b8452"
      },
      "source": [
        "[![Open In Colab](https://colab.research.google.com/assets/colab-badge.svg)](https://colab.research.google.com/github/pdf-tools/components-code-sample-hub/blob/main/jupyter/pdftools_sdk/pdftools_sdk_global_sign_dss_sign.ipynb)"
      ]
    },
    {
      "cell_type": "code",
      "execution_count": null,
      "id": "7859bfae-d931-478e-90d4-db566ef49e68",
      "metadata": {
          "id": "737be122-b196-4c73-b466-f98a3dc9fd96"
      },
      "outputs": [],
      "source": [
        "%pip install pdftools_sdk\n",
        "%pip install ipython"
      ]
    },
    {
      "cell_type": "markdown",
      "id": "28a4ddcf-8c8c-4119-833d-e4f8549854c6",
      "metadata": {
          "id": "829f110b-9135-462b-8223-441db822e0c9"
      },
      "source": [
        "# Sign a PDF using the GlobalSign Digital Signing Service\n",
        "Add a document signature, sometimes called an approval\n",
        "signature.\n",
        "This type of signature verifies that the signed document\n",
        "has not been altered and authenticates the signer's\n",
        "identity.\n",
        "\n",
        "Validation information is embedded to enable the\n",
        "long-term validation (LTV) of the signature."
      ]
    },
    {
      "cell_type": "code",
      "execution_count": null,
      "id": "b4811d17-79bc-4745-9cdf-45de7bd30d4c",
      "metadata": {
          "id": "1575994f-8d95-4ad4-bd42-2b1b5f64b3d3"
      },
      "outputs": [],
      "source": [
        "import io\n",
        "import json\n",
        "from pdftools_sdk.pdf import Document\n",
        "from pdftools_sdk.sign import Signer\n",
        "from pdftools_sdk.crypto.providers.global_sign_dss import Session\n",
        "from pdftools_sdk.crypto import ValidationInformation\n",
        "from pdftools_sdk.http_client_handler import HttpClientHandler"
      ]
    },
    {
      "cell_type": "code",
      "execution_count": null,
      "id": "17c9e961-98e9-4af2-9029-fd4c2871d6e7",
      "metadata": {
          "id": "52388483-bc39-4ee7-9d56-3c0f40b55e7d"
      },
      "outputs": [],
      "source": [
        "# Download a file from a given URL and save it to the local system\n",
        "def prepare_file(url: str, path: str):\n",
        "    import requests\n",
        "    response = requests.get(url)\n",
        "    response.raise_for_status()\n",
        "\n",
        "    with open(path, 'wb') as f:\n",
        "        f.write(response.content)"
      ]
    },
    {
      "cell_type": "code",
      "execution_count": null,
      "id": "4e5a74c8-d23d-4ddc-8634-32c390da34bc",
      "metadata": {
          "id": "dc7ecc39-cd86-4605-9cb5-e0c2371b2957"
      },
      "outputs": [],
      "source": [
        "# Set input arguments\n",
        "common_name = 'John Doe'  # Placeholder for dynamic identity\n",
        "input_url = 'https://pdftools-public-downloads-production.s3.eu-west-1.amazonaws.com/samples/testfiles/InvoiceNone.pdf'\n",
        "input_path = 'InvoiceNone.pdf'\n",
        "prepare_file(input_url, input_path)\n",
        "output_path = 'Signed.pdf'"
      ]
    },
    {
      "cell_type": "code",
      "execution_count": null,
      "id": "6519c4ec-e0a0-42d2-a7ac-35c24ff9b09c",
      "metadata": {
          "id": "5dfc35d3-c7a1-470d-a628-8af00648915e"
      },
      "outputs": [],
      "source": [
        "def sign(session: Session, common_name: str, input_path: str, output_path: str):\n",
        "    # Create a signing certificate for an account with a dynamic identity\n",
        "    identity = json.dumps({\"subject_dn\": {\"common_name\": common_name}})\n",
        "    signature = session.create_signature_for_dynamic_identity(identity)\n",
        "\n",
        "    # Embed validation information to enable the long term validation (LTV) of the signature (default)\n",
        "    signature.validation_information = ValidationInformation.EMBED_IN_DOCUMENT\n",
        "\n",
        "    # Open input document\n",
        "    with io.FileIO(input_path, 'rb') as in_stream:\n",
        "        with Document.open(in_stream) as input_document:\n",
        "\n",
        "            # Create stream for output file\n",
        "            with io.FileIO(output_path, 'wb+') as output_stream:\n",
        "\n",
        "                # Sign the document\n",
        "                signer = Signer()\n",
        "                signer.sign(input_document, signature, output_stream)"
      ]
    },
    {
      "cell_type": "code",
      "execution_count": null,
      "id": "c2a935f9-04d4-498f-9469-4706c1705b25",
      "metadata": {
          "id": "e65b6901-8d78-4083-93b2-e8176d9f70e7"
      },
      "outputs": [],
      "source": [
        "try:\n",
        "    # By default, a test license key is active. In this case, a watermark is added to the output. \n",
        "    # If you have a license key, please uncomment the following call and set the license key.\n",
        "    # from pdftools_sdk.sdk import Sdk\n",
        "    # Sdk.initialize(\"INSERT-LICENSE-KEY\")\n",

        "\n",
        "    # Optional: Set your proxy configuration\n",
        "    # Sdk.set_proxy(\"http://myproxy:8080\")\n",
        "    \n",
        "    # Configure the SSL client certificate to connect to the service\n",
        "    http_client_handler = HttpClientHandler()\n",
        "    with io.FileIO(\"***insert .cer path***\", 'rb') as cert_stream:\n",
        "        with io.FileIO(\"***insert .key path***\", 'rb') as key_stream:\n",
        "            http_client_handler.set_client_certificate_and_key(cert_stream, key_stream, \"***insert password***\")\n",
        "    \n",
        "            # Connect to the GlobalSign DSS service\n",
        "            with Session(\"https://emea.api.dss.globalsign.com:8443\", \"***insert api_key***\", \"***insert api_secret***\", http_client_handler) as session:\n",
        "                # Sign a PDF document\n",
        "                sign(session, common_name, input_path, output_path)\n",

        "\n",
        "    print(f\"Successfully created file {output_path}\")\n",

        "except Exception as e:\n",
        "    print(f\"An error occurred: {e}\")"
      ]
    }
  ],
  "metadata": {
    "kernelspec": {
      "display_name": "Python 3",
      "language": "python",
      "name": "python3"
    },
    "language_info": {
      "codemirror_mode": {
        "name": "ipython",
        "version": 3
      },
      "file_extension": ".py",
      "mimetype": "text/x-python",
      "name": "python",
      "nbconvert_exporter": "python",
      "pygments_lexer": "ipython3",
      "version": "3.12.8"
    },
    "colab": {
      "provenance": []
    }
  },
  "nbformat": 4,
  "nbformat_minor": 5
}