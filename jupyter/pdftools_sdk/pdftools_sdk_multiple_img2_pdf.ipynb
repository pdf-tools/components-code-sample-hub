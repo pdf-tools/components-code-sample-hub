{
  "cells": [
    {
      "cell_type": "markdown",
      "id": "05c076f1-7df0-41aa-9066-173e99a24f31",
      "metadata": {
          "id": "86887fbb-bbd2-46bb-a3e9-2bad3bf39944"
      },
      "source": [
        "[![Open In Colab](https://colab.research.google.com/assets/colab-badge.svg)](https://colab.research.google.com/github/pdf-tools/components-code-sample-hub/blob/main/jupyter/pdftools_sdk/pdftools_sdk_multiple_img2_pdf.ipynb)"
      ]
    },
    {
      "cell_type": "code",
      "execution_count": null,
      "id": "4e79ccdf-82b4-4441-9e2e-c586c3535365",
      "metadata": {
          "id": "6e550af5-b150-492f-897e-876c13b7b53f"
      },
      "outputs": [],
      "source": [
        "%pip install pdftools_sdk\n",
        "%pip install ipython"
      ]
    },
    {
      "cell_type": "markdown",
      "id": "05cca86a-3853-4bc4-b9b6-1121bd197e49",
      "metadata": {
          "id": "282acd1d-21eb-44e4-a7e4-b3fec3fbbac6"
      },
      "source": [
        "# Convert multiple images to a PDF\n",
        "Convert a list of images into a single PDF. Supported\n",
        "image types are TIFF, JPEG, BMP, GIF, PNG, JBIG2, and\n",
        "JPEG2000."
      ]
    },
    {
      "cell_type": "code",
      "execution_count": null,
      "id": "fb5114b9-385a-4d1b-aced-fc0f8f98f504",
      "metadata": {
          "id": "0a04d510-92ba-4078-8b1c-c513f032f3e7"
      },
      "outputs": [],
      "source": [
        "import io\n",
        "from pdftools_sdk.image import Document as ImageDocument, DocumentList as ImageDocumentList\n",
        "from pdftools_sdk.image2_pdf import Converter\n",
        "from pdftools_sdk.image2_pdf.profiles import Default"
      ]
    },
    {
      "cell_type": "code",
      "execution_count": null,
      "id": "b43a59a3-a90c-4d56-9e9b-2e24143372ad",
      "metadata": {
          "id": "32132915-9081-4161-abda-0d5672b49557"
      },
      "outputs": [],
      "source": [
        "# Download a file from a given URL and save it to the local system\n",
        "def prepare_file(url: str, path: str):\n",
        "    import requests\n",
        "    response = requests.get(url)\n",
        "    response.raise_for_status()\n",
        "\n",
        "    with open(path, 'wb') as f:\n",
        "        f.write(response.content)"
      ]
    },
    {
      "cell_type": "code",
      "execution_count": null,
      "id": "7133cbd2-55f1-4436-b256-7af08d1dab25",
      "metadata": {
          "id": "0b1281eb-3d9c-4c95-b7a5-fe6e0b4e00e2"
      },
      "outputs": [],
      "source": [
        "# Set input arguments\n",
        "input_urls = [\n",
        "    'https://pdftools-public-downloads-production.s3.eu-west-1.amazonaws.com/samples/testfiles/ideas.tiff',\n",
        "    'https://pdftools-public-downloads-production.s3.eu-west-1.amazonaws.com/samples/testfiles/multipage.tif',\n",
        "    'https://pdftools-public-downloads-production.s3.eu-west-1.amazonaws.com/samples/testfiles/coffee.jpg',\n",
        "    'https://pdftools-public-downloads-production.s3.eu-west-1.amazonaws.com/samples/testfiles/connection.jpg'\n",
        "]\n",
        "input_image_paths = ['ideas.tiff', 'multipage.tif', 'coffee.jpg', 'connection.jpg']\n",
        "for url, path in zip(input_urls, input_image_paths):\n",
        "    prepare_file(url, path)\n",
        "output_file_path = 'Combined.pdf'"
      ]
    },
    {
      "cell_type": "code",
      "execution_count": null,
      "id": "d710ee8f-b368-418d-9209-b5d1f5062738",
      "metadata": {
          "id": "cf12761b-3252-47b6-98da-b43c5c3d8cfc"
      },
      "outputs": [],
      "source": [
        "def images_to_pdf(input_image_paths: list[str], output_file_path: str):\n",
        "    try:\n",
        "        stream_list = []\n",
        "        images = ImageDocumentList()\n",
        "\n",
        "        # Open input images and store in list\n",
        "        for input_image_path in input_image_paths:\n",
        "            image_stream = io.FileIO(input_image_path, 'rb')\n",
        "            stream_list.append(image_stream)\n",
        "            images.append(ImageDocument.open(image_stream))\n",
        "\n",
        "        # Create the profile that defines the conversion parameters.\n",
        "        profile = Default()\n",
        "\n",
        "        # Optionally the profile's parameters can be changed according to the \n",
        "        # requirements of your conversion process.\n",
        "\n",
        "        # Create output stream\n",
        "        with io.FileIO(output_file_path, 'wb+') as output_stream:\n",
        "            converter = Converter()\n",
        "            converter.convert_multiple(images, output_stream, profile)\n",
        "    finally:\n",
        "        if 'images' in locals():\n",
        "            for image in images:\n",
        "                image.__exit__(None, None, None)\n",
        "        if 'stream_list' in locals(): \n",
        "            for stream in stream_list:\n",
        "                stream.__exit__(None, None, None)"
      ]
    },
    {
      "cell_type": "code",
      "execution_count": null,
      "id": "33711be9-7098-4959-a65c-10f93e3161df",
      "metadata": {
          "id": "e95cf558-cf60-4bd9-930c-e1407b5d498d"
      },
      "outputs": [],
      "source": [
        "try:\n",
        "    # By default, a test license key is active. In this case, a watermark is added to the output. \n",
        "    # If you have a license key, please uncomment the following call and set the license key.\n",
        "    # from pdftools_sdk.sdk import Sdk\n",
        "    # Sdk.initialize(\"INSERT-LICENSE-KEY\")\n",

        "\n",
        "    images_to_pdf(input_image_paths, output_file_path)\n",

        "\n",
        "    print(f\"Successfully created file {output_file_path}\")\n",

        "except Exception as e:\n",
        "    print(f\"An error occurred: {e}\")"
      ]
    }
  ],
  "metadata": {
    "kernelspec": {
      "display_name": "Python 3",
      "language": "python",
      "name": "python3"
    },
    "language_info": {
      "codemirror_mode": {
        "name": "ipython",
        "version": 3
      },
      "file_extension": ".py",
      "mimetype": "text/x-python",
      "name": "python",
      "nbconvert_exporter": "python",
      "pygments_lexer": "ipython3",
      "version": "3.12.8"
    },
    "colab": {
      "provenance": []
    }
  },
  "nbformat": 4,
  "nbformat_minor": 5
}