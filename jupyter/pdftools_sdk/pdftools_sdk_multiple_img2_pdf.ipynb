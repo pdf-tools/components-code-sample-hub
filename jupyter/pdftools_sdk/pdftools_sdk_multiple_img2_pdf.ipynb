{
  "cells": [
    {
      "cell_type": "markdown",
      "id": "4d0dc61f-43ce-41dc-9f76-f009306da0f8",
      "metadata": {
          "id": "907a594d-3f35-4802-a84b-4cad9640a64a"
      },
      "source": [
        "[![Open In Colab](https://colab.research.google.com/assets/colab-badge.svg)](https://colab.research.google.com/github/pdf-tools/components-code-sample-hub/blob/main/jupyter/pdftools_sdk/pdftools_sdk_multiple_img2_pdf.ipynb)"
      ]
    },
    {
      "cell_type": "code",
      "execution_count": null,
      "id": "4b0ea6ed-edd2-42dc-888d-5ac1952a75bf",
      "metadata": {
          "id": "cd2c8d98-b1f2-4d6e-a53a-09f23f7c2381"
      },
      "outputs": [],
      "source": [
        "%pip install https://pdftools-public-downloads-production.s3.eu-west-1.amazonaws.com/productkits/PDFSDK/latest/pdftools_sdk-latest.tar.gz\n",
        "%pip install ipython"
      ]
    },
    {
      "cell_type": "markdown",
      "id": "b590df3a-e169-4cb2-93da-e5d811e91686",
      "metadata": {
          "id": "959a82ef-2732-4a67-a299-cc8b7d06d0fa"
      },
      "source": [
        "# Convert multiple images to a PDF\n",
        "Convert a list of images into a single PDF. Supported\n",
        "image types are TIFF, JPEG, BMP, GIF, PNG, JBIG2, and\n",
        "JPEG2000."
      ]
    },
    {
      "cell_type": "code",
      "execution_count": null,
      "id": "ec4f6f56-5204-4ef8-84c9-1db0e57bdf2f",
      "metadata": {
          "id": "d4273d9d-2eb6-425c-b3a4-c187533187ef"
      },
      "outputs": [],
      "source": [
        "import io\n",
        "from pdftools_sdk.image import Document as ImageDocument, DocumentList as ImageDocumentList\n",
        "from pdftools_sdk.image2_pdf import Converter\n",
        "from pdftools_sdk.image2_pdf.profiles import Default"
      ]
    },
    {
      "cell_type": "code",
      "execution_count": null,
      "id": "0420ee80-66cc-43f1-b597-2bad7468eb07",
      "metadata": {
          "id": "d20d55c4-9527-4080-8566-f6faade7ff84"
      },
      "outputs": [],
      "source": [
        "# Download a file from a given URL and save it to the local system\n",
        "def prepare_file(url: str, path: str):\n",
        "    import requests\n",
        "    response = requests.get(url)\n",
        "    response.raise_for_status()\n",
        "\n",
        "    with open(path, 'wb') as f:\n",
        "        f.write(response.content)"
      ]
    },
    {
      "cell_type": "code",
      "execution_count": null,
      "id": "d9d7533d-f780-4acb-9d1e-c2c2415d6f91",
      "metadata": {
          "id": "c32a1e06-deaa-4b58-a855-1efa6dc8efb2"
      },
      "outputs": [],
      "source": [
        "# Set input arguments\n",
        "input_urls = [\n",
        "    'https://pdftools-public-downloads-production.s3.eu-west-1.amazonaws.com/samples/testfiles/ideas.tiff',\n",
        "    'https://pdftools-public-downloads-production.s3.eu-west-1.amazonaws.com/samples/testfiles/multipage.tif',\n",
        "    'https://pdftools-public-downloads-production.s3.eu-west-1.amazonaws.com/samples/testfiles/coffee.jpg',\n",
        "    'https://pdftools-public-downloads-production.s3.eu-west-1.amazonaws.com/samples/testfiles/connection.jpg'\n",
        "]\n",
        "input_image_paths = ['ideas.tiff', 'multipage.tif', 'coffee.jpg', 'connection.jpg']\n",
        "for url, path in zip(input_urls, input_image_paths):\n",
        "    prepare_file(url, path)\n",
        "output_file_path = 'Combined.pdf'"
      ]
    },
    {
      "cell_type": "code",
      "execution_count": null,
      "id": "49873e47-d2cc-4777-95dc-497cb7106f2d",
      "metadata": {
          "id": "b8534004-4cec-4490-b4f5-64f696c7252b"
      },
      "outputs": [],
      "source": [
        "def images_to_pdf(input_image_paths: list[str], output_file_path: str):\n",
        "    try:\n",
        "        stream_list = []\n",
        "        images = ImageDocumentList()\n",
        "\n",
        "        # Open input images and store in list\n",
        "        for input_image_path in input_image_paths:\n",
        "            image_stream = io.FileIO(input_image_path, 'rb')\n",
        "            stream_list.append(image_stream)\n",
        "            images.append(ImageDocument.open(image_stream))\n",
        "\n",
        "        # Create the profile that defines the conversion parameters.\n",
        "        profile = Default()\n",
        "\n",
        "        # Optionally the profile's parameters can be changed according to the \n",
        "        # requirements of your conversion process.\n",
        "\n",
        "        # Create output stream\n",
        "        with io.FileIO(output_file_path, 'wb+') as output_stream:\n",
        "            converter = Converter()\n",
        "            converter.convert_multiple(images, output_stream, profile)\n",
        "    finally:\n",
        "        if 'images' in locals():\n",
        "            for image in images:\n",
        "                image.__exit__(None, None, None)\n",
        "        if 'stream_list' in locals(): \n",
        "            for stream in stream_list:\n",
        "                stream.__exit__(None, None, None)"
      ]
    },
    {
      "cell_type": "code",
      "execution_count": null,
      "id": "00009c2f-693d-40f1-b1e6-8fac850d2d06",
      "metadata": {
          "id": "a924416f-06f2-4a40-8601-48f576187f51"
      },
      "outputs": [],
      "source": [
        "try:\n",
        "    # By default, a test license key is active. In this case, a watermark is added to the output. \n",
        "    # If you have a license key, please uncomment the following call and set the license key.\n",
        "    # from pdftools_sdk.sdk import Sdk\n",
        "    # Sdk.initialize(\"INSERT-LICENSE-KEY\")\n",

        "\n",
        "    images_to_pdf(input_image_paths, output_file_path)\n",

        "\n",
        "    print(f\"Successfully created file {output_file_path}\")\n",

        "except Exception as e:\n",
        "    print(f\"An error occurred: {e}\")"
      ]
    }
  ],
  "metadata": {
    "kernelspec": {
      "display_name": "Python 3",
      "language": "python",
      "name": "python3"
    },
    "language_info": {
      "codemirror_mode": {
        "name": "ipython",
        "version": 3
      },
      "file_extension": ".py",
      "mimetype": "text/x-python",
      "name": "python",
      "nbconvert_exporter": "python",
      "pygments_lexer": "ipython3",
      "version": "3.12.8"
    },
    "colab": {
      "provenance": []
    }
  },
  "nbformat": 4,
  "nbformat_minor": 5
}