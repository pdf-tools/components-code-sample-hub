{
  "cells": [
    {
      "cell_type": "markdown",
      "id": "863d1914-7e2e-482d-838e-bdb64a6446c4",
      "metadata": {
          "id": "962d4690-5888-4250-8b26-c2d59fcda0c8"
      },
      "source": [
        "[![Open In Colab](https://colab.research.google.com/assets/colab-badge.svg)](https://colab.research.google.com/github/pdf-tools/components-code-sample-hub/blob/main/jupyter/pdftools_sdk/pdftools_sdk_multiple_img2_pdf.ipynb)"
      ]
    },
    {
      "cell_type": "code",
      "execution_count": null,
      "id": "89c48fb1-9a5b-406e-8b3f-cc937257dbd9",
      "metadata": {
          "id": "bb87e057-b9e7-4c90-ae28-9e966ce73eaa"
      },
      "outputs": [],
      "source": [
        "%pip install https://pdftools-public-downloads-production.s3.eu-west-1.amazonaws.com/productkits/PDFSDK/latest/pdftools_sdk-latest.tar.gz\n",
        "%pip install ipython"
      ]
    },
    {
      "cell_type": "markdown",
      "id": "2716d265-b14b-4ba3-857a-0b18705ee580",
      "metadata": {
          "id": "4d5274ee-66f0-4708-9562-a0caf07afa09"
      },
      "source": [
        "# Convert multiple images to a PDF\n",
        "Convert a list of images into a single PDF. Supported\n",
        "image types are TIFF, JPEG, BMP, GIF, PNG, JBIG2, and\n",
        "JPEG2000."
      ]
    },
    {
      "cell_type": "code",
      "execution_count": null,
      "id": "f6b2eb7c-ee71-4ba2-aca5-9a0d22d7aca0",
      "metadata": {
          "id": "2c0c4887-3745-4d4c-9919-b9f15b18d058"
      },
      "outputs": [],
      "source": [
        "import io\n",
        "from pdftools_sdk.image import Document as ImageDocument, DocumentList as ImageDocumentList\n",
        "from pdftools_sdk.image2_pdf import Converter\n",
        "from pdftools_sdk.image2_pdf.profiles import Default"
      ]
    },
    {
      "cell_type": "code",
      "execution_count": null,
      "id": "1f131a36-048e-4da4-865d-2f1e731c71b9",
      "metadata": {
          "id": "7abd3ea2-7571-4885-a787-0706e9fc9623"
      },
      "outputs": [],
      "source": [
        "# Download a file from a given URL and save it to the local system\n",
        "def prepare_file(url: str, path: str):\n",
        "    import requests\n",
        "    response = requests.get(url)\n",
        "    response.raise_for_status()\n",
        "\n",
        "    with open(path, 'wb') as f:\n",
        "        f.write(response.content)"
      ]
    },
    {
      "cell_type": "code",
      "execution_count": null,
      "id": "4b3d23ab-ebf4-4250-bb75-a2ecd11b6bc7",
      "metadata": {
          "id": "4d807418-de10-4302-84e6-e4431c925bea"
      },
      "outputs": [],
      "source": [
        "# Set input arguments\n",
        "input_urls = [\n",
        "    'https://pdftools-public-downloads-production.s3.eu-west-1.amazonaws.com/samples/testfiles/ideas.tiff',\n",
        "    'https://pdftools-public-downloads-production.s3.eu-west-1.amazonaws.com/samples/testfiles/multipage.tif',\n",
        "    'https://pdftools-public-downloads-production.s3.eu-west-1.amazonaws.com/samples/testfiles/coffee.jpg',\n",
        "    'https://pdftools-public-downloads-production.s3.eu-west-1.amazonaws.com/samples/testfiles/connection.jpg'\n",
        "]\n",
        "input_image_paths = ['ideas.tiff', 'multipage.tif', 'coffee.jpg', 'connection.jpg']\n",
        "for url, path in zip(input_urls, input_image_paths):\n",
        "    prepare_file(url, path)\n",
        "output_file_path = 'Combined.pdf'"
      ]
    },
    {
      "cell_type": "code",
      "execution_count": null,
      "id": "1059c1d8-c2a9-48aa-bb84-8676b0128433",
      "metadata": {
          "id": "e1c37b1c-aa51-4388-81ce-665c333649b0"
      },
      "outputs": [],
      "source": [
        "def images_to_pdf(input_image_paths: list[str], output_file_path: str):\n",
        "    try:\n",
        "        stream_list = []\n",
        "        images = ImageDocumentList()\n",
        "\n",
        "        # Open input images and store in list\n",
        "        for input_image_path in input_image_paths:\n",
        "            image_stream = io.FileIO(input_image_path, 'rb')\n",
        "            stream_list.append(image_stream)\n",
        "            images.append(ImageDocument.open(image_stream))\n",
        "\n",
        "        # Create the profile that defines the conversion parameters.\n",
        "        profile = Default()\n",
        "\n",
        "        # Optionally the profile's parameters can be changed according to the \n",
        "        # requirements of your conversion process.\n",
        "\n",
        "        # Create output stream\n",
        "        with io.FileIO(output_file_path, 'wb+') as output_stream:\n",
        "            converter = Converter()\n",
        "            converter.convert_multiple(images, output_stream, profile)\n",
        "    finally:\n",
        "        if 'images' in locals():\n",
        "            for image in images:\n",
        "                image.__exit__(None, None, None)\n",
        "        if 'stream_list' in locals(): \n",
        "            for stream in stream_list:\n",
        "                stream.__exit__(None, None, None)"
      ]
    },
    {
      "cell_type": "code",
      "execution_count": null,
      "id": "3c4276c8-51c1-4142-a553-e0eaf99c65b0",
      "metadata": {
          "id": "65c58514-4bee-473d-8191-b95f07d3e755"
      },
      "outputs": [],
      "source": [
        "try:\n",
        "    # By default, a test license key is active. In this case, a watermark is added to the output. \n",
        "    # If you have a license key, please uncomment the following call and set the license key.\n",
        "    # from pdftools_sdk.sdk import Sdk\n",
        "    # Sdk.initialize(\"INSERT-LICENSE-KEY\")\n",

        "\n",
        "    images_to_pdf(input_image_paths, output_file_path)\n",

        "\n",
        "    print(f\"Successfully created file {output_file_path}\")\n",

        "except Exception as e:\n",
        "    print(f\"An error occurred: {e}\")"
      ]
    }
  ],
  "metadata": {
    "kernelspec": {
      "display_name": "Python 3",
      "language": "python",
      "name": "python3"
    },
    "language_info": {
      "codemirror_mode": {
        "name": "ipython",
        "version": 3
      },
      "file_extension": ".py",
      "mimetype": "text/x-python",
      "name": "python",
      "nbconvert_exporter": "python",
      "pygments_lexer": "ipython3",
      "version": "3.12.8"
    },
    "colab": {
      "provenance": []
    }
  },
  "nbformat": 4,
  "nbformat_minor": 5
}