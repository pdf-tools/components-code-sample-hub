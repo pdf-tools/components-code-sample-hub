{
  "cells": [
    {
      "cell_type": "markdown",
      "id": "69b6e29c-3fa5-4a69-a846-d09921506075",
      "metadata": {
          "id": "a0bf03c7-5a07-4f3e-a379-f23523873764"
      },
      "source": [
        "[![Open In Colab](https://colab.research.google.com/assets/colab-badge.svg)](https://colab.research.google.com/github/pdf-tools/components-code-sample-hub/blob/main/jupyter/pdftools_sdk/pdftools_sdk_multiple_img2_pdf.ipynb)"
      ]
    },
    {
      "cell_type": "code",
      "execution_count": null,
      "id": "8d1b15f9-109c-47c5-8647-9ade72b73862",
      "metadata": {
          "id": "0fcd9a93-6d46-4e96-afb0-4f11f8d67c20"
      },
      "outputs": [],
      "source": [
        "%pip install https://pdftools-public-downloads-production.s3.eu-west-1.amazonaws.com/productkits/PDFSDK/latest/pdftools_sdk-latest.tar.gz\n",
        "%pip install ipython"
      ]
    },
    {
      "cell_type": "markdown",
      "id": "3843de08-c142-4f6e-9bb9-54caa75324bc",
      "metadata": {
          "id": "be83de39-6afe-4295-89d4-0c0e03fd9309"
      },
      "source": [
        "# Convert multiple images to a PDF\n",
        "Convert a list of images into a single PDF. Supported\n",
        "image types are TIFF, JPEG, BMP, GIF, PNG, JBIG2, and\n",
        "JPEG2000."
      ]
    },
    {
      "cell_type": "code",
      "execution_count": null,
      "id": "731f9d0b-b485-4715-94dd-653983ee1879",
      "metadata": {
          "id": "d1d751a9-0ff6-4bbe-bcb6-445619c55fed"
      },
      "outputs": [],
      "source": [
        "import io\n",
        "from pdftools_sdk.image import Document as ImageDocument, DocumentList as ImageDocumentList\n",
        "from pdftools_sdk.image2_pdf import Converter\n",
        "from pdftools_sdk.image2_pdf.profiles import Default"
      ]
    },
    {
      "cell_type": "code",
      "execution_count": null,
      "id": "09b2b9e1-5e2a-4d55-8975-024e18c8bf05",
      "metadata": {
          "id": "d1c8e24d-d037-48fc-a20b-57e95dcd9c32"
      },
      "outputs": [],
      "source": [
        "# Download a file from a given URL and save it to the local system\n",
        "def prepare_file(url: str, path: str):\n",
        "    import requests\n",
        "    response = requests.get(url)\n",
        "    response.raise_for_status()\n",
        "\n",
        "    with open(path, 'wb') as f:\n",
        "        f.write(response.content)"
      ]
    },
    {
      "cell_type": "code",
      "execution_count": null,
      "id": "c6aa04a0-d97c-4064-97f2-543522a54cb0",
      "metadata": {
          "id": "42b6a535-e311-4a9c-95bb-108dfa027b27"
      },
      "outputs": [],
      "source": [
        "# Set input arguments\n",
        "input_urls = [\n",
        "    'https://pdftools-public-downloads-production.s3.eu-west-1.amazonaws.com/samples/testfiles/ideas.tiff',\n",
        "    'https://pdftools-public-downloads-production.s3.eu-west-1.amazonaws.com/samples/testfiles/multipage.tif',\n",
        "    'https://pdftools-public-downloads-production.s3.eu-west-1.amazonaws.com/samples/testfiles/coffee.jpg',\n",
        "    'https://pdftools-public-downloads-production.s3.eu-west-1.amazonaws.com/samples/testfiles/connection.jpg'\n",
        "]\n",
        "input_image_paths = ['ideas.tiff', 'multipage.tif', 'coffee.jpg', 'connection.jpg']\n",
        "for url, path in zip(input_urls, input_image_paths):\n",
        "    prepare_file(url, path)\n",
        "output_file_path = 'Combined.pdf'"
      ]
    },
    {
      "cell_type": "code",
      "execution_count": null,
      "id": "c09201fc-054f-460c-9cb0-e6bf2bec6639",
      "metadata": {
          "id": "bcca93c7-b9ff-4d58-95a3-097af69af6ed"
      },
      "outputs": [],
      "source": [
        "def images_to_pdf(input_image_paths: list[str], output_file_path: str):\n",
        "    try:\n",
        "        stream_list = []\n",
        "        images = ImageDocumentList()\n",
        "\n",
        "        # Open input images and store in list\n",
        "        for input_image_path in input_image_paths:\n",
        "            image_stream = io.FileIO(input_image_path, 'rb')\n",
        "            stream_list.append(image_stream)\n",
        "            images.append(ImageDocument.open(image_stream))\n",
        "\n",
        "        # Create the profile that defines the conversion parameters.\n",
        "        profile = Default()\n",
        "\n",
        "        # Optionally the profile's parameters can be changed according to the \n",
        "        # requirements of your conversion process.\n",
        "\n",
        "        # Create output stream\n",
        "        with io.FileIO(output_file_path, 'wb+') as output_stream:\n",
        "            converter = Converter()\n",
        "            converter.convert_multiple(images, output_stream, profile)\n",
        "    finally:\n",
        "        if 'images' in locals():\n",
        "            for image in images:\n",
        "                image.__exit__(None, None, None)\n",
        "        if 'stream_list' in locals(): \n",
        "            for stream in stream_list:\n",
        "                stream.__exit__(None, None, None)"
      ]
    },
    {
      "cell_type": "code",
      "execution_count": null,
      "id": "2408b3d0-a423-4d1a-a9f3-e7e45a9419e7",
      "metadata": {
          "id": "392279f1-aa47-4d12-a0b5-656502af9246"
      },
      "outputs": [],
      "source": [
        "try:\n",
        "    # By default, a test license key is active. In this case, a watermark is added to the output. \n",
        "    # If you have a license key, please uncomment the following call and set the license key.\n",
        "    # from pdftools_sdk.sdk import Sdk\n",
        "    # Sdk.initialize(\"<PDFSDK,V1,MGAASQD6L2JMQHL54PK08RQX8GG4SS0M8DAHVPH0VMP3NB8R9DUK>\")\n",

        "\n",
        "    images_to_pdf(input_image_paths, output_file_path)\n",

        "\n",
        "    print(f\"Successfully created file {output_file_path}\")\n",

        "except Exception as e:\n",
        "    print(f\"An error occurred: {e}\")"
      ]
    }
  ],
  "metadata": {
    "kernelspec": {
      "display_name": "Python 3",
      "language": "python",
      "name": "python3"
    },
    "language_info": {
      "codemirror_mode": {
        "name": "ipython",
        "version": 3
      },
      "file_extension": ".py",
      "mimetype": "text/x-python",
      "name": "python",
      "nbconvert_exporter": "python",
      "pygments_lexer": "ipython3",
      "version": "3.12.8"
    },
    "colab": {
      "provenance": []
    }
  },
  "nbformat": 4,
  "nbformat_minor": 5
}