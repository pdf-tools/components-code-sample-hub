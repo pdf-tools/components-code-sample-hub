{
  "cells": [
    {
      "cell_type": "markdown",
      "id": "48b362e4-f076-41ef-b5a3-20b8be924f11",
      "metadata": {
          "id": "3e72d31f-42b6-4526-a7e1-27ce558391e9"
      },
      "source": [
        "[![Open In Colab](https://colab.research.google.com/assets/colab-badge.svg)](https://colab.research.google.com/github/pdf-tools/components-code-sample-hub/blob/main/jupyter/pdftools_sdk/pdftools_sdk_merge.ipynb)"
      ]
    },
    {
      "cell_type": "code",
      "execution_count": null,
      "id": "acd1878d-990f-42f1-b47d-8e6b1148669f",
      "metadata": {
          "id": "4a36191d-eead-4c1b-9bae-b5bb57f6f085"
      },
      "outputs": [],
      "source": [
        "%pip install https://pdftools-public-downloads-production.s3.eu-west-1.amazonaws.com/productkits/PDFSDK/latest/pdftools_sdk-latest.tar.gz\n",
        "%pip install ipython"
      ]
    },
    {
      "cell_type": "markdown",
      "id": "a13bb347-79b4-4675-837d-27045bc2c709",
      "metadata": {
          "id": "d8e837b0-7016-4782-aa0e-8a1d04d55a30"
      },
      "source": [
        "# Merge PDFs\n",
        "Merge multiple PDF documents into a single file."
      ]
    },
    {
      "cell_type": "code",
      "execution_count": null,
      "id": "b7fa6927-cdf1-4dca-b7f9-29dd27d4fdf9",
      "metadata": {
          "id": "9cc86304-7d19-4eb0-8438-28bfbd171ec3"
      },
      "outputs": [],
      "source": [
        "import io\n",
        "from pdftools_sdk.document_assembly import DocumentAssembler\n",
        "from pdftools_sdk.pdf import Document"
      ]
    },
    {
      "cell_type": "code",
      "execution_count": null,
      "id": "c4aa2c87-bad0-4fa1-8c51-5358de5acc0d",
      "metadata": {
          "id": "3a614a38-e3ef-4d77-b3ca-958df0e68b4d"
      },
      "outputs": [],
      "source": [
        "# Download a file from a given URL and save it to the local system\n",
        "def prepare_file(url: str, path: str):\n",
        "    import requests\n",
        "    response = requests.get(url)\n",
        "    response.raise_for_status()\n",
        "\n",
        "    with open(path, 'wb') as f:\n",
        "        f.write(response.content)"
      ]
    },
    {
      "cell_type": "code",
      "execution_count": null,
      "id": "27533975-731d-4ab8-a547-cc1780d78e89",
      "metadata": {
          "id": "c3e4fdd5-b0d4-4e0a-ba8d-d68e35a1d72f"
      },
      "outputs": [],
      "source": [
        "# Set input arguments\n",
        "input_file_urls = [\n",
        "    'https://pdftools-public-downloads-production.s3.eu-west-1.amazonaws.com/samples/testfiles/InvoiceNone.pdf',\n",
        "    'https://pdftools-public-downloads-production.s3.eu-west-1.amazonaws.com/samples/testfiles/Form2None.pdf'\n",
        "]\n",
        "input_paths = ['InvoiceNone.pdf', 'Form2None.pdf']\n",
        "for url, path in zip(input_file_urls, input_paths):\n",
        "    prepare_file(url, path)\n",
        "\n",
        "output_path = 'Merged.pdf'"
      ]
    },
    {
      "cell_type": "code",
      "execution_count": null,
      "id": "1a596f2c-6ebb-4abe-a49b-181c5805aa33",
      "metadata": {
          "id": "c744b873-2e35-450e-97ca-c220741454b9"
      },
      "outputs": [],
      "source": [
        "def merge(input_paths: str, output_path: str):\n",
        "    # Create output stream\n",
        "    with io.FileIO(output_path, 'wb+') as output_stream:\n",
        "        with DocumentAssembler(output_stream, None, None) as assembler:\n",
        "\n",
        "            for input_path in input_paths:\n",
        "                with open(input_path, 'rb') as input_stream:\n",
        "                    with Document.open(input_stream) as input_document:\n",
        "                        # Append the content of the input documents to the output document\n",
        "                        assembler.append(input_document)\n",
        "\n",
        "            # Merge input documents into an output document\n",
        "            assembler.assemble()"
      ]
    },
    {
      "cell_type": "code",
      "execution_count": null,
      "id": "53ed27b5-4ffd-462c-b40d-4088abb550ff",
      "metadata": {
          "id": "d124c829-cc0b-4b72-bb0f-b8ac23827c2d"
      },
      "outputs": [],
      "source": [
        "try:\n",
        "    # By default, a test license key is active. In this case, a watermark is added to the output. \n",
        "    # If you have a license key, please uncomment the following call and set the license key.\n",
        "    # from pdftools_sdk.sdk import Sdk\n",
        "    # Sdk.initialize(\"INSERT-LICENSE-KEY\")\n",

        "\n",
        "    merge(input_paths, output_path)\n",

        "\n",
        "    print(f\"Successfully created file {output_path}.\")\n",

        "except Exception as e:\n",
        "    print(f\"An error occurred: {e}\")"
      ]
    }
  ],
  "metadata": {
    "kernelspec": {
      "display_name": "Python 3",
      "language": "python",
      "name": "python3"
    },
    "language_info": {
      "codemirror_mode": {
        "name": "ipython",
        "version": 3
      },
      "file_extension": ".py",
      "mimetype": "text/x-python",
      "name": "python",
      "nbconvert_exporter": "python",
      "pygments_lexer": "ipython3",
      "version": "3.12.8"
    },
    "colab": {
      "provenance": []
    }
  },
  "nbformat": 4,
  "nbformat_minor": 5
}