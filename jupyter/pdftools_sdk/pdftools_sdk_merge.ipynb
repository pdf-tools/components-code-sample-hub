{
  "cells": [
    {
      "cell_type": "markdown",
      "id": "d70f8bf9-f18f-486b-8c8d-623aa559b071",
      "metadata": {
          "id": "532d435f-6414-4c75-b365-c1cf89a6107b"
      },
      "source": [
        "[![Open In Colab](https://colab.research.google.com/assets/colab-badge.svg)](https://colab.research.google.com/github/pdf-tools/components-code-sample-hub/blob/main/jupyter/pdftools_sdk/pdftools_sdk_merge.ipynb)"
      ]
    },
    {
      "cell_type": "code",
      "execution_count": null,
      "id": "d8d397e4-af63-4d0f-aae3-f2673f62a275",
      "metadata": {
          "id": "657ef864-9efa-4a21-ad57-11ebb7b9d344"
      },
      "outputs": [],
      "source": [
        "%pip install pdftools_sdk\n",
        "%pip install ipython"
      ]
    },
    {
      "cell_type": "markdown",
      "id": "4ea3cdb7-e3f1-4743-907f-14af1612da9d",
      "metadata": {
          "id": "0d3d371c-1ed7-4c49-9611-28e2e3efcaee"
      },
      "source": [
        "# Merge PDFs\n",
        "Merge multiple PDF documents into a single file."
      ]
    },
    {
      "cell_type": "code",
      "execution_count": null,
      "id": "4b1791fc-6646-4e44-ba38-18b8140cdb03",
      "metadata": {
          "id": "856006b6-a86d-42d5-9df8-1b65e092589b"
      },
      "outputs": [],
      "source": [
        "import io\n",
        "from pdftools_sdk.document_assembly import DocumentAssembler\n",
        "from pdftools_sdk.pdf import Document"
      ]
    },
    {
      "cell_type": "code",
      "execution_count": null,
      "id": "468d968b-340e-4a63-acad-b49039017799",
      "metadata": {
          "id": "44fb6b7a-b1b8-452d-86a5-bc8af7945bc8"
      },
      "outputs": [],
      "source": [
        "# Download a file from a given URL and save it to the local system\n",
        "def prepare_file(url: str, path: str):\n",
        "    import requests\n",
        "    response = requests.get(url)\n",
        "    response.raise_for_status()\n",
        "\n",
        "    with open(path, 'wb') as f:\n",
        "        f.write(response.content)"
      ]
    },
    {
      "cell_type": "code",
      "execution_count": null,
      "id": "3792ad59-ef73-439e-916a-0034eaffccb8",
      "metadata": {
          "id": "2a32a224-be55-42f1-a993-b1ac230a903a"
      },
      "outputs": [],
      "source": [
        "# Set input arguments\n",
        "input_file_urls = [\n",
        "    'https://pdftools-public-downloads-production.s3.eu-west-1.amazonaws.com/samples/testfiles/InvoiceNone.pdf',\n",
        "    'https://pdftools-public-downloads-production.s3.eu-west-1.amazonaws.com/samples/testfiles/Form2None.pdf'\n",
        "]\n",
        "input_paths = ['InvoiceNone.pdf', 'Form2None.pdf']\n",
        "for url, path in zip(input_file_urls, input_paths):\n",
        "    prepare_file(url, path)\n",
        "\n",
        "output_path = 'Merged.pdf'"
      ]
    },
    {
      "cell_type": "code",
      "execution_count": null,
      "id": "1e14f711-7c6d-46ef-8fd4-7163a5376801",
      "metadata": {
          "id": "26312ce4-3fd9-4a4e-8a3f-ad6edc64db47"
      },
      "outputs": [],
      "source": [
        "def merge(input_paths: str, output_path: str):\n",
        "    # Create output stream\n",
        "    with io.FileIO(output_path, 'wb+') as output_stream:\n",
        "        with DocumentAssembler(output_stream, None, None) as assembler:\n",
        "\n",
        "            for input_path in input_paths:\n",
        "                with open(input_path, 'rb') as input_stream:\n",
        "                    with Document.open(input_stream) as input_document:\n",
        "                        # Append the content of the input documents to the output document\n",
        "                        assembler.append(input_document)\n",
        "\n",
        "            # Merge input documents into an output document\n",
        "            assembler.assemble()"
      ]
    },
    {
      "cell_type": "code",
      "execution_count": null,
      "id": "400ad10a-aa1e-4c58-98b6-7488600317f2",
      "metadata": {
          "id": "95ae2b67-d330-43e0-a60a-044b6520233d"
      },
      "outputs": [],
      "source": [
        "try:\n",
        "    # By default, a test license key is active. In this case, a watermark is added to the output. \n",
        "    # If you have a license key, please uncomment the following call and set the license key.\n",
        "    # from pdftools_sdk.sdk import Sdk\n",
        "    # Sdk.initialize(\"INSERT-LICENSE-KEY\")\n",

        "\n",
        "    merge(input_paths, output_path)\n",

        "\n",
        "    print(f\"Successfully created file {output_path}.\")\n",

        "except Exception as e:\n",
        "    print(f\"An error occurred: {e}\")"
      ]
    }
  ],
  "metadata": {
    "kernelspec": {
      "display_name": "Python 3",
      "language": "python",
      "name": "python3"
    },
    "language_info": {
      "codemirror_mode": {
        "name": "ipython",
        "version": 3
      },
      "file_extension": ".py",
      "mimetype": "text/x-python",
      "name": "python",
      "nbconvert_exporter": "python",
      "pygments_lexer": "ipython3",
      "version": "3.12.8"
    },
    "colab": {
      "provenance": []
    }
  },
  "nbformat": 4,
  "nbformat_minor": 5
}