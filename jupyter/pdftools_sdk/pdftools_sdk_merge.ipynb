{
  "cells": [
    {
      "cell_type": "markdown",
      "id": "13962a2f-dc16-4aea-a832-bd92d4126745",
      "metadata": {
          "id": "efd2f63b-b97d-4a6f-9819-3611be118cf2"
      },
      "source": [
        "[![Open In Colab](https://colab.research.google.com/assets/colab-badge.svg)](https://colab.research.google.com/github/pdf-tools/components-code-sample-hub/blob/main/jupyter/pdftools_sdk/pdftools_sdk_merge.ipynb)"
      ]
    },
    {
      "cell_type": "code",
      "execution_count": null,
      "id": "6d208404-f915-4b12-abf5-ab37c811a068",
      "metadata": {
          "id": "b3cbca6f-d661-455c-bf23-c90cb64c0f1b"
      },
      "outputs": [],
      "source": [
        "%pip install https://pdftools-public-downloads-production.s3.eu-west-1.amazonaws.com/productkits/PDFSDK/latest/pdftools_sdk-latest.tar.gz\n",
        "%pip install ipython"
      ]
    },
    {
      "cell_type": "markdown",
      "id": "c903ff8f-9520-468f-baac-3551d32746ed",
      "metadata": {
          "id": "8e9af564-9094-485d-b233-7c3ade7d3042"
      },
      "source": [
        "# Merge PDFs\n",
        "Merge multiple PDF documents into a single file."
      ]
    },
    {
      "cell_type": "code",
      "execution_count": null,
      "id": "44942209-c434-4642-b089-9b3046b82075",
      "metadata": {
          "id": "e4c60ae4-b375-465c-8691-9c8bbebf8444"
      },
      "outputs": [],
      "source": [
        "import io\n",
        "from pdftools_sdk.document_assembly import DocumentAssembler\n",
        "from pdftools_sdk.pdf import Document"
      ]
    },
    {
      "cell_type": "code",
      "execution_count": null,
      "id": "9f175029-4268-4d09-897c-b3e23b475b95",
      "metadata": {
          "id": "fc65ef8d-0279-4fc6-89b9-75b024e6e040"
      },
      "outputs": [],
      "source": [
        "# Download a file from a given URL and save it to the local system\n",
        "def prepare_file(url: str, path: str):\n",
        "    import requests\n",
        "    response = requests.get(url)\n",
        "    response.raise_for_status()\n",
        "\n",
        "    with open(path, 'wb') as f:\n",
        "        f.write(response.content)"
      ]
    },
    {
      "cell_type": "code",
      "execution_count": null,
      "id": "bfa07fac-77a6-4e2d-8254-408cf1c4b76b",
      "metadata": {
          "id": "fcd7fa8c-f72d-432f-b60a-fb3f97a6c0b4"
      },
      "outputs": [],
      "source": [
        "# Set input arguments\n",
        "input_file_urls = [\n",
        "    'https://pdftools-public-downloads-production.s3.eu-west-1.amazonaws.com/samples/testfiles/InvoiceNone.pdf',\n",
        "    'https://pdftools-public-downloads-production.s3.eu-west-1.amazonaws.com/samples/testfiles/Form2None.pdf'\n",
        "]\n",
        "input_paths = ['InvoiceNone.pdf', 'Form2None.pdf']\n",
        "for url, path in zip(input_file_urls, input_paths):\n",
        "    prepare_file(url, path)\n",
        "\n",
        "output_path = 'Merged.pdf'"
      ]
    },
    {
      "cell_type": "code",
      "execution_count": null,
      "id": "575935a9-3b0f-4d6b-8129-4bfce763a117",
      "metadata": {
          "id": "f98e9642-d1c4-4364-b0cb-b1b6b824f5d4"
      },
      "outputs": [],
      "source": [
        "def merge(input_paths: str, output_path: str):\n",
        "    # Create output stream\n",
        "    with io.FileIO(output_path, 'wb+') as output_stream:\n",
        "        with DocumentAssembler(output_stream, None, None) as assembler:\n",
        "\n",
        "            for input_path in input_paths:\n",
        "                with open(input_path, 'rb') as input_stream:\n",
        "                    with Document.open(input_stream) as input_document:\n",
        "                        # Append the content of the input documents to the output document\n",
        "                        assembler.append(input_document)\n",
        "\n",
        "            # Merge input documents into an output document\n",
        "            assembler.assemble()"
      ]
    },
    {
      "cell_type": "code",
      "execution_count": null,
      "id": "58f671f6-47ed-4547-9331-c98a3dcb46af",
      "metadata": {
          "id": "6ebcc3de-271e-4a29-af66-b6b83c3e93fd"
      },
      "outputs": [],
      "source": [
        "try:\n",
        "    # By default, a test license key is active. In this case, a watermark is added to the output. \n",
        "    # If you have a license key, please uncomment the following call and set the license key.\n",
        "    # from pdftools_sdk.sdk import Sdk\n",
        "    # Sdk.initialize(\"<PDFSDK,V1,MGAASQD6L2JMQHL54PK08RQX8GG4SS0M8DAHVPH0VMP3NB8R9DUK>\")\n",

        "\n",
        "    merge(input_paths, output_path)\n",

        "\n",
        "    print(f\"Successfully created file {output_path}.\")\n",

        "except Exception as e:\n",
        "    print(f\"An error occurred: {e}\")"
      ]
    }
  ],
  "metadata": {
    "kernelspec": {
      "display_name": "Python 3",
      "language": "python",
      "name": "python3"
    },
    "language_info": {
      "codemirror_mode": {
        "name": "ipython",
        "version": 3
      },
      "file_extension": ".py",
      "mimetype": "text/x-python",
      "name": "python",
      "nbconvert_exporter": "python",
      "pygments_lexer": "ipython3",
      "version": "3.12.8"
    },
    "colab": {
      "provenance": []
    }
  },
  "nbformat": 4,
  "nbformat_minor": 5
}