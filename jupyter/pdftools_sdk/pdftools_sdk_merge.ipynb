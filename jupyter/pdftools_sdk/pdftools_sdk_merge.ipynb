{
  "cells": [
    {
      "cell_type": "markdown",
      "id": "0f444e44-87b9-43b2-b754-15f6b01b68ef",
      "metadata": {
          "id": "22923800-2e53-4e81-b24d-d7e49330cad8"
      },
      "source": [
        "[![Open In Colab](https://colab.research.google.com/assets/colab-badge.svg)](https://colab.research.google.com/github/pdf-tools/components-code-sample-hub/blob/main/jupyter/pdftools_sdk/pdftools_sdk_merge.ipynb)"
      ]
    },
    {
      "cell_type": "code",
      "execution_count": null,
      "id": "ece76343-9539-440e-b6d9-243d915d31f4",
      "metadata": {
          "id": "4ed072f7-e6a5-41bc-9252-d408b73e8d5e"
      },
      "outputs": [],
      "source": [
        "%pip install https://pdftools-public-downloads-production.s3.eu-west-1.amazonaws.com/productkits/PDFSDK/latest/pdftools_sdk-latest.tar.gz\n",
        "%pip install ipython"
      ]
    },
    {
      "cell_type": "markdown",
      "id": "fe17a5aa-00ad-416c-90b4-5fb27ad60f9c",
      "metadata": {
          "id": "98812b08-979f-45cd-9d44-5f67319646d6"
      },
      "source": [
        "# Merge PDFs\n",
        "Merge multiple PDF documents into a single file."
      ]
    },
    {
      "cell_type": "code",
      "execution_count": null,
      "id": "a79ee7f8-3568-46a9-a787-ec8bc0e9c162",
      "metadata": {
          "id": "a551b9aa-2284-4bf4-9b55-1acd34ba80fd"
      },
      "outputs": [],
      "source": [
        "import io\n",
        "from pdftools_sdk.document_assembly import DocumentAssembler\n",
        "from pdftools_sdk.pdf import Document"
      ]
    },
    {
      "cell_type": "code",
      "execution_count": null,
      "id": "1f42c955-279e-4947-bdfe-ed4986c62204",
      "metadata": {
          "id": "fd898584-4992-4002-a740-f879802287b4"
      },
      "outputs": [],
      "source": [
        "# Download a file from a given URL and save it to the local system\n",
        "def prepare_file(url: str, path: str):\n",
        "    import requests\n",
        "    response = requests.get(url)\n",
        "    response.raise_for_status()\n",
        "\n",
        "    with open(path, 'wb') as f:\n",
        "        f.write(response.content)"
      ]
    },
    {
      "cell_type": "code",
      "execution_count": null,
      "id": "65a0df25-4717-4f87-9cc4-76277a30cb50",
      "metadata": {
          "id": "675dfa74-2a42-45ed-a2e7-84b57c850d11"
      },
      "outputs": [],
      "source": [
        "# Set input arguments\n",
        "input_file_urls = [\n",
        "    'https://pdftools-public-downloads-production.s3.eu-west-1.amazonaws.com/samples/testfiles/InvoiceNone.pdf',\n",
        "    'https://pdftools-public-downloads-production.s3.eu-west-1.amazonaws.com/samples/testfiles/Form2None.pdf'\n",
        "]\n",
        "input_paths = ['InvoiceNone.pdf', 'Form2None.pdf']\n",
        "for url, path in zip(input_file_urls, input_paths):\n",
        "    prepare_file(url, path)\n",
        "\n",
        "output_path = 'Merged.pdf'"
      ]
    },
    {
      "cell_type": "code",
      "execution_count": null,
      "id": "0e1984ab-b821-40ee-a2ad-7225cc2fbba5",
      "metadata": {
          "id": "effdce60-b807-49e3-b391-7aab8a5a2a6c"
      },
      "outputs": [],
      "source": [
        "def merge(input_paths: str, output_path: str):\n",
        "    # Create output stream\n",
        "    with io.FileIO(output_path, 'wb+') as output_stream:\n",
        "        with DocumentAssembler(output_stream, None, None) as assembler:\n",
        "\n",
        "            for input_path in input_paths:\n",
        "                with open(input_path, 'rb') as input_stream:\n",
        "                    with Document.open(input_stream) as input_document:\n",
        "                        # Append the content of the input documents to the output document\n",
        "                        assembler.append(input_document)\n",
        "\n",
        "            # Merge input documents into an output document\n",
        "            assembler.assemble()"
      ]
    },
    {
      "cell_type": "code",
      "execution_count": null,
      "id": "f954fbbe-ed1f-4365-9788-235be565bfa6",
      "metadata": {
          "id": "5f354956-7fec-4654-a893-3f8ec4d1fa06"
      },
      "outputs": [],
      "source": [
        "try:\n",
        "    # By default, a test license key is active. In this case, a watermark is added to the output. \n",
        "    # If you have a license key, please uncomment the following call and set the license key.\n",
        "    # from pdftools_sdk.sdk import Sdk\n",
        "    # Sdk.initialize(\"INSERT-LICENSE-KEY\")\n",

        "\n",
        "    merge(input_paths, output_path)\n",

        "\n",
        "    print(f\"Successfully created file {output_path}.\")\n",

        "except Exception as e:\n",
        "    print(f\"An error occurred: {e}\")"
      ]
    }
  ],
  "metadata": {
    "kernelspec": {
      "display_name": "Python 3",
      "language": "python",
      "name": "python3"
    },
    "language_info": {
      "codemirror_mode": {
        "name": "ipython",
        "version": 3
      },
      "file_extension": ".py",
      "mimetype": "text/x-python",
      "name": "python",
      "nbconvert_exporter": "python",
      "pygments_lexer": "ipython3",
      "version": "3.12.8"
    },
    "colab": {
      "provenance": []
    }
  },
  "nbformat": 4,
  "nbformat_minor": 5
}