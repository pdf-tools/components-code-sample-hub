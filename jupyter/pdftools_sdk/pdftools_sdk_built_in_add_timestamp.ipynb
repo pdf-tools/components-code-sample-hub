{
  "cells": [
    {
      "cell_type": "markdown",
      "id": "cc2ad610-a7e8-4ec5-ab83-6bcccd7566f6",
      "metadata": {
          "id": "0601a982-efea-46ac-949f-256dc93e3666"
      },
      "source": [
        "[![Open In Colab](https://colab.research.google.com/assets/colab-badge.svg)](https://colab.research.google.com/github/pdf-tools/components-code-sample-hub/blob/main/jupyter/pdftools_sdk/pdftools_sdk_built_in_add_timestamp.ipynb)"
      ]
    },
    {
      "cell_type": "code",
      "execution_count": null,
      "id": "996bfbe9-6921-4724-8eb9-0b4822e50cc0",
      "metadata": {
          "id": "a6735c72-f07d-400b-9554-7bdbce9be3e8"
      },
      "outputs": [],
      "source": [
        "%pip install https://pdftools-public-downloads-production.s3.eu-west-1.amazonaws.com/productkits/PDFSDK/latest/pdftools_sdk-latest.tar.gz\n",
        "%pip install ipython"
      ]
    },
    {
      "cell_type": "markdown",
      "id": "76d23d41-3e26-4e9b-8f05-ee1bf117dad8",
      "metadata": {
          "id": "59b5aff3-7a6f-406f-a074-266ed299bf1b"
      },
      "source": [
        "# Add a document time-stamp to a PDF\n",
        "Add a trusted document time-stamp to a PDF\n",
        "and confirm that the signed document has not been\n",
        "altered. This type of signature proves that\n",
        "the document existed at a specific time and ensures its\n",
        "integrity."
      ]
    },
    {
      "cell_type": "code",
      "execution_count": null,
      "id": "495df1f9-1f16-446e-a85b-6ba9e84b2125",
      "metadata": {
          "id": "ec370cb1-1725-46d1-a5fc-498cf4b9b349"
      },
      "outputs": [],
      "source": [
        "import io\n",
        "from pdftools_sdk.pdf import Document\n",
        "from pdftools_sdk.sign import Signer\n",
        "from pdftools_sdk.crypto.providers.built_in import Provider"
      ]
    },
    {
      "cell_type": "code",
      "execution_count": null,
      "id": "50a216d2-07b3-4b6b-b2fc-827a1caa2fbb",
      "metadata": {
          "id": "e1165e7f-6826-423b-968e-4b7b281ac0de"
      },
      "outputs": [],
      "source": [
        "# Download a file from a given URL and save it to the local system\n",
        "def prepare_file(url: str, path: str):\n",
        "    import requests\n",
        "    response = requests.get(url)\n",
        "    response.raise_for_status()\n",
        "\n",
        "    with open(path, 'wb') as f:\n",
        "        f.write(response.content)"
      ]
    },
    {
      "cell_type": "code",
      "execution_count": null,
      "id": "2a8cdcce-d2ac-4a70-b13b-61583a85c091",
      "metadata": {
          "id": "33bcd570-5bd9-4e9c-9163-dc546a9b77b0"
      },
      "outputs": [],
      "source": [
        "# Set input arguments\n",
        "time_stamp_url = 'http://timestamp.example.com'  # Placeholder for a real timestamp URL\n",
        "input_url = 'https://pdftools-public-downloads-production.s3.eu-west-1.amazonaws.com/samples/testfiles/InvoiceNone.pdf'\n",
        "input_path = 'InvoiceNone.pdf'\n",
        "prepare_file(input_url, input_path)\n",
        "output_path = 'Timestamped.pdf'"
      ]
    },
    {
      "cell_type": "code",
      "execution_count": null,
      "id": "09f071e3-697a-40de-94cd-16fbe5b5a1cc",
      "metadata": {
          "id": "eccd1913-3c97-44e5-90ae-86b220910a8b"
      },
      "outputs": [],
      "source": [
        "def add_timestamp(time_stamp_url: str, input_path: str, output_path: str):\n",
        "    # Create a session to the built-in cryptographic provider\n",
        "    with Provider() as session:\n",
        "        session.timestamp_url = time_stamp_url\n",
        "\n",
        "        # Create time-stamp configuration\n",
        "        timestamp = session.create_timestamp()\n",
        "\n",
        "        # Open input document\n",
        "        with io.FileIO(input_path, 'rb') as in_stream:\n",
        "            with Document.open(in_stream) as input_document:\n",
        "\n",
        "                # Create stream for output file\n",
        "                with io.FileIO(output_path, 'wb+') as output_stream:\n",
        "\n",
        "                    # Add the document time-stamp\n",
        "                    signer = Signer()\n",
        "                    signer.add_timestamp(input_document, timestamp, output_stream)"
      ]
    },
    {
      "cell_type": "code",
      "execution_count": null,
      "id": "dbca8424-f294-4a4a-91b5-e18b06f4fd19",
      "metadata": {
          "id": "ba799d63-87d4-42f2-97ed-64b6f0fea7ce"
      },
      "outputs": [],
      "source": [
        "try:\n",
        "    # By default, a test license key is active. In this case, a watermark is added to the output. \n",
        "    # If you have a license key, please uncomment the following call and set the license key.\n",
        "    # from pdftools_sdk.sdk import Sdk\n",
        "    # Sdk.initialize(\"<PDFSDK,V1,MGAASQD6L2JMQHL54PK08RQX8GG4SS0M8DAHVPH0VMP3NB8R9DUK>\")\n",

        "\n",
        "    # Optional: Set your proxy configuration\n",
        "    # Sdk.Proxy = new Uri(\"http://myproxy:8080\");\n",
        "    \n",
        "    # Add a document time-stamp to a PDF\n",
        "    add_timestamp(time_stamp_url, input_path, output_path)\n",

        "\n",
        "    print(f\"Successfully created file {output_path}\")\n",

        "except Exception as e:\n",
        "    print(f\"An error occurred: {e}\")"
      ]
    }
  ],
  "metadata": {
    "kernelspec": {
      "display_name": "Python 3",
      "language": "python",
      "name": "python3"
    },
    "language_info": {
      "codemirror_mode": {
        "name": "ipython",
        "version": 3
      },
      "file_extension": ".py",
      "mimetype": "text/x-python",
      "name": "python",
      "nbconvert_exporter": "python",
      "pygments_lexer": "ipython3",
      "version": "3.12.8"
    },
    "colab": {
      "provenance": []
    }
  },
  "nbformat": 4,
  "nbformat_minor": 5
}