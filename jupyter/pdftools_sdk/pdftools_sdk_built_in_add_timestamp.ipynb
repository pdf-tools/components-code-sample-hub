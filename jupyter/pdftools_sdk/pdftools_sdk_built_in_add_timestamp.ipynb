{
  "cells": [
    {
      "cell_type": "markdown",
      "id": "6d06fd21-6ccc-47c0-b0ba-c8edea15ba55",
      "metadata": {
          "id": "ea9c5cb2-6978-4339-838c-66a46c650f40"
      },
      "source": [
        "[![Open In Colab](https://colab.research.google.com/assets/colab-badge.svg)](https://colab.research.google.com/github/pdf-tools/components-code-sample-hub/blob/main/jupyter/pdftools_sdk/pdftools_sdk_built_in_add_timestamp.ipynb)"
      ]
    },
    {
      "cell_type": "code",
      "execution_count": null,
      "id": "2b8958bc-aace-4e00-bf88-4540a28743cf",
      "metadata": {
          "id": "ed91aefd-e447-4dc8-8612-bba344d61c74"
      },
      "outputs": [],
      "source": [
        "%pip install https://pdftools-public-downloads-production.s3.eu-west-1.amazonaws.com/productkits/PDFSDK/latest/pdftools_sdk-latest.tar.gz\n",
        "%pip install ipython"
      ]
    },
    {
      "cell_type": "markdown",
      "id": "34fdffe6-76bb-4b79-8acf-25f61ae807cb",
      "metadata": {
          "id": "6ff091a1-527c-4074-8fbe-7269a3ba7a5c"
      },
      "source": [
        "# Add a document time-stamp to a PDF\n",
        "Add a trusted document time-stamp to a PDF\n",
        "and confirm that the signed document has not been\n",
        "altered. This type of signature proves that\n",
        "the document existed at a specific time and ensures its\n",
        "integrity."
      ]
    },
    {
      "cell_type": "code",
      "execution_count": null,
      "id": "037c5572-b52e-4589-9294-7efb7e1ebaf1",
      "metadata": {
          "id": "ed244d7a-fe85-483a-925c-969bf0774543"
      },
      "outputs": [],
      "source": [
        "import io\n",
        "from pdftools_sdk.pdf import Document\n",
        "from pdftools_sdk.sign import Signer\n",
        "from pdftools_sdk.crypto.providers.built_in import Provider"
      ]
    },
    {
      "cell_type": "code",
      "execution_count": null,
      "id": "36f73523-d1f9-4c5d-9048-b966eab0e55a",
      "metadata": {
          "id": "fc921d65-ad91-488b-a9cc-d5152f084d7d"
      },
      "outputs": [],
      "source": [
        "# Download a file from a given URL and save it to the local system\n",
        "def prepare_file(url: str, path: str):\n",
        "    import requests\n",
        "    response = requests.get(url)\n",
        "    response.raise_for_status()\n",
        "\n",
        "    with open(path, 'wb') as f:\n",
        "        f.write(response.content)"
      ]
    },
    {
      "cell_type": "code",
      "execution_count": null,
      "id": "affdd418-91a7-4f31-9a70-17befe184432",
      "metadata": {
          "id": "e12025ad-9886-426f-8b12-bfa70ef93357"
      },
      "outputs": [],
      "source": [
        "# Set input arguments\n",
        "time_stamp_url = 'http://timestamp.example.com'  # Placeholder for a real timestamp URL\n",
        "input_url = 'https://pdftools-public-downloads-production.s3.eu-west-1.amazonaws.com/samples/testfiles/InvoiceNone.pdf'\n",
        "input_path = 'InvoiceNone.pdf'\n",
        "prepare_file(input_url, input_path)\n",
        "output_path = 'Timestamped.pdf'"
      ]
    },
    {
      "cell_type": "code",
      "execution_count": null,
      "id": "863008a1-8317-447f-99a2-a2672f1222ed",
      "metadata": {
          "id": "471a73f6-f177-40da-ba43-3eaa34723f58"
      },
      "outputs": [],
      "source": [
        "def add_timestamp(time_stamp_url: str, input_path: str, output_path: str):\n",
        "    # Create a session to the built-in cryptographic provider\n",
        "    with Provider() as session:\n",
        "        session.timestamp_url = time_stamp_url\n",
        "\n",
        "        # Create time-stamp configuration\n",
        "        timestamp = session.create_timestamp()\n",
        "\n",
        "        # Open input document\n",
        "        with io.FileIO(input_path, 'rb') as in_stream:\n",
        "            with Document.open(in_stream) as input_document:\n",
        "\n",
        "                # Create stream for output file\n",
        "                with io.FileIO(output_path, 'wb+') as output_stream:\n",
        "\n",
        "                    # Add the document time-stamp\n",
        "                    signer = Signer()\n",
        "                    signer.add_timestamp(input_document, timestamp, output_stream)"
      ]
    },
    {
      "cell_type": "code",
      "execution_count": null,
      "id": "952bc1d4-178d-4cbf-b266-a9220c6ca832",
      "metadata": {
          "id": "e2b13d8e-af22-4302-a6cd-86fd9e1a1bde"
      },
      "outputs": [],
      "source": [
        "try:\n",
        "    # By default, a test license key is active. In this case, a watermark is added to the output. \n",
        "    # If you have a license key, please uncomment the following call and set the license key.\n",
        "    # from pdftools_sdk.sdk import Sdk\n",
        "    # Sdk.initialize(\"INSERT-LICENSE-KEY\")\n",

        "\n",
        "    # Optional: Set your proxy configuration\n",
        "    # Sdk.Proxy = new Uri(\"http://myproxy:8080\");\n",
        "    \n",
        "    # Add a document time-stamp to a PDF\n",
        "    add_timestamp(time_stamp_url, input_path, output_path)\n",

        "\n",
        "    print(f\"Successfully created file {output_path}\")\n",

        "except Exception as e:\n",
        "    print(f\"An error occurred: {e}\")"
      ]
    }
  ],
  "metadata": {
    "kernelspec": {
      "display_name": "Python 3",
      "language": "python",
      "name": "python3"
    },
    "language_info": {
      "codemirror_mode": {
        "name": "ipython",
        "version": 3
      },
      "file_extension": ".py",
      "mimetype": "text/x-python",
      "name": "python",
      "nbconvert_exporter": "python",
      "pygments_lexer": "ipython3",
      "version": "3.12.8"
    },
    "colab": {
      "provenance": []
    }
  },
  "nbformat": 4,
  "nbformat_minor": 5
}