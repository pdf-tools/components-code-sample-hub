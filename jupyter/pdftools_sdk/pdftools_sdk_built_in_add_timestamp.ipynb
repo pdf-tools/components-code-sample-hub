{
  "cells": [
    {
      "cell_type": "markdown",
      "id": "df59c2cd-3023-4d5c-940e-02553a1d63d1",
      "metadata": {
          "id": "9387e1d7-9c4a-4095-b4d0-0b4d894fe2e0"
      },
      "source": [
        "[![Open In Colab](https://colab.research.google.com/assets/colab-badge.svg)](https://colab.research.google.com/github/pdf-tools/components-code-sample-hub/blob/main/jupyter/pdftools_sdk/pdftools_sdk_built_in_add_timestamp.ipynb)"
      ]
    },
    {
      "cell_type": "code",
      "execution_count": null,
      "id": "e7a2b0e2-5e8d-411e-90dc-7c836ae4d09c",
      "metadata": {
          "id": "a455614b-5d1b-4e02-bed3-62943335688f"
      },
      "outputs": [],
      "source": [
        "%pip install pdftools_sdk\n",
        "%pip install ipython"
      ]
    },
    {
      "cell_type": "markdown",
      "id": "205e5550-da12-4ae0-9ec8-9382b54e81d9",
      "metadata": {
          "id": "30e74985-30ae-4e24-bfc9-b4726812f701"
      },
      "source": [
        "# Add a document time-stamp to a PDF\n",
        "Add a trusted document time-stamp to a PDF\n",
        "and confirm that the signed document has not been\n",
        "altered. This type of signature proves that\n",
        "the document existed at a specific time and ensures its\n",
        "integrity."
      ]
    },
    {
      "cell_type": "code",
      "execution_count": null,
      "id": "17588251-4069-4193-8ad1-0e3d8f8006ed",
      "metadata": {
          "id": "c635ebd1-5458-45c6-8a18-15f1741a6b84"
      },
      "outputs": [],
      "source": [
        "import io\n",
        "from pdftools_sdk.pdf import Document\n",
        "from pdftools_sdk.sign import Signer\n",
        "from pdftools_sdk.crypto.providers.built_in import Provider"
      ]
    },
    {
      "cell_type": "code",
      "execution_count": null,
      "id": "acbaea19-3ae1-4c7f-8b3f-10306badcce4",
      "metadata": {
          "id": "0a16590c-e0b7-400d-826f-ae556efcea1c"
      },
      "outputs": [],
      "source": [
        "# Download a file from a given URL and save it to the local system\n",
        "def prepare_file(url: str, path: str):\n",
        "    import requests\n",
        "    response = requests.get(url)\n",
        "    response.raise_for_status()\n",
        "\n",
        "    with open(path, 'wb') as f:\n",
        "        f.write(response.content)"
      ]
    },
    {
      "cell_type": "code",
      "execution_count": null,
      "id": "38ec1dc0-aba3-4acc-8bf4-84cc5f9e0d30",
      "metadata": {
          "id": "5b2d191b-59bc-42d7-824c-ac493598ea71"
      },
      "outputs": [],
      "source": [
        "# Set input arguments\n",
        "time_stamp_url = 'http://timestamp.example.com'  # Placeholder for a real timestamp URL\n",
        "input_url = 'https://pdftools-public-downloads-production.s3.eu-west-1.amazonaws.com/samples/testfiles/InvoiceNone.pdf'\n",
        "input_path = 'InvoiceNone.pdf'\n",
        "prepare_file(input_url, input_path)\n",
        "output_path = 'Timestamped.pdf'"
      ]
    },
    {
      "cell_type": "code",
      "execution_count": null,
      "id": "9ef502f4-dbde-4dfa-8b74-6e21b672ab46",
      "metadata": {
          "id": "79d3d9de-a68b-4817-93cf-85a361632e17"
      },
      "outputs": [],
      "source": [
        "def add_timestamp(time_stamp_url: str, input_path: str, output_path: str):\n",
        "    # Create a session to the built-in cryptographic provider\n",
        "    with Provider() as session:\n",
        "        session.timestamp_url = time_stamp_url\n",
        "\n",
        "        # Create time-stamp configuration\n",
        "        timestamp = session.create_timestamp()\n",
        "\n",
        "        # Open input document\n",
        "        with io.FileIO(input_path, 'rb') as in_stream:\n",
        "            with Document.open(in_stream) as input_document:\n",
        "\n",
        "                # Create stream for output file\n",
        "                with io.FileIO(output_path, 'wb+') as output_stream:\n",
        "\n",
        "                    # Add the document time-stamp\n",
        "                    signer = Signer()\n",
        "                    signer.add_timestamp(input_document, timestamp, output_stream)"
      ]
    },
    {
      "cell_type": "code",
      "execution_count": null,
      "id": "365e01ea-5ab3-43a5-9043-0f74d0980cb1",
      "metadata": {
          "id": "146fb7b7-42a5-465d-ad33-0b924fd7f9e6"
      },
      "outputs": [],
      "source": [
        "try:\n",
        "    # By default, a test license key is active. In this case, a watermark is added to the output. \n",
        "    # If you have a license key, please uncomment the following call and set the license key.\n",
        "    # from pdftools_sdk.sdk import Sdk\n",
        "    # Sdk.initialize(\"INSERT-LICENSE-KEY\")\n",

        "\n",
        "    # Optional: Set your proxy configuration\n",
        "    # Sdk.Proxy = new Uri(\"http://myproxy:8080\");\n",
        "    \n",
        "    # Add a document time-stamp to a PDF\n",
        "    add_timestamp(time_stamp_url, input_path, output_path)\n",

        "\n",
        "    print(f\"Successfully created file {output_path}\")\n",

        "except Exception as e:\n",
        "    print(f\"An error occurred: {e}\")"
      ]
    }
  ],
  "metadata": {
    "kernelspec": {
      "display_name": "Python 3",
      "language": "python",
      "name": "python3"
    },
    "language_info": {
      "codemirror_mode": {
        "name": "ipython",
        "version": 3
      },
      "file_extension": ".py",
      "mimetype": "text/x-python",
      "name": "python",
      "nbconvert_exporter": "python",
      "pygments_lexer": "ipython3",
      "version": "3.12.8"
    },
    "colab": {
      "provenance": []
    }
  },
  "nbformat": 4,
  "nbformat_minor": 5
}