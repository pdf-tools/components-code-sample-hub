{
  "cells": [
    {
      "cell_type": "markdown",
      "id": "c000d7e3-bd65-4d71-80fd-b6468bb18c1c",
      "metadata": {
          "id": "a532e475-e88f-46f2-a4cd-113f882bbf96"
      },
      "source": [
        "[![Open In Colab](https://colab.research.google.com/assets/colab-badge.svg)](https://colab.research.google.com/github/pdf-tools/components-code-sample-hub/blob/main/jupyter/pdftools_sdk/pdftools_sdk_built_in_add_timestamp.ipynb)"
      ]
    },
    {
      "cell_type": "code",
      "execution_count": null,
      "id": "e249733f-9925-4443-8282-6c632038b908",
      "metadata": {
          "id": "9b7b521c-aeac-437f-8b01-818fbe160a82"
      },
      "outputs": [],
      "source": [
        "%pip install https://pdftools-public-downloads-production.s3.eu-west-1.amazonaws.com/productkits/PDFSDK/latest/pdftools_sdk-latest.tar.gz\n",
        "%pip install ipython"
      ]
    },
    {
      "cell_type": "markdown",
      "id": "4d868533-0ca6-4f4a-b9eb-025370e41a2c",
      "metadata": {
          "id": "9ddc0c50-2ee2-4e9d-b937-459aa0fdc569"
      },
      "source": [
        "# Add a document time-stamp to a PDF\n",
        "Add a trusted document time-stamp to a PDF\n",
        "and confirm that the signed document has not been\n",
        "altered. This type of signature proves that\n",
        "the document existed at a specific time and ensures its\n",
        "integrity."
      ]
    },
    {
      "cell_type": "code",
      "execution_count": null,
      "id": "1fc87b2d-3606-49a2-a662-d54d2d5bb084",
      "metadata": {
          "id": "6e51ef2d-0b3b-4bde-87a4-ed56c4dc32f4"
      },
      "outputs": [],
      "source": [
        "import io\n",
        "from pdftools_sdk.pdf import Document\n",
        "from pdftools_sdk.sign import Signer\n",
        "from pdftools_sdk.crypto.providers.built_in import Provider"
      ]
    },
    {
      "cell_type": "code",
      "execution_count": null,
      "id": "91fd93a8-d3f0-44f5-8562-dbea721f6803",
      "metadata": {
          "id": "effc4c63-ee09-471b-9223-abeaec3b45df"
      },
      "outputs": [],
      "source": [
        "# Download a file from a given URL and save it to the local system\n",
        "def prepare_file(url: str, path: str):\n",
        "    import requests\n",
        "    response = requests.get(url)\n",
        "    response.raise_for_status()\n",
        "\n",
        "    with open(path, 'wb') as f:\n",
        "        f.write(response.content)"
      ]
    },
    {
      "cell_type": "code",
      "execution_count": null,
      "id": "154da186-c733-4de0-a095-b8dc94800803",
      "metadata": {
          "id": "c19d5fc7-7ae5-4bb9-a3e0-22636d807746"
      },
      "outputs": [],
      "source": [
        "# Set input arguments\n",
        "time_stamp_url = 'http://timestamp.example.com'  # Placeholder for a real timestamp URL\n",
        "input_url = 'https://pdftools-public-downloads-production.s3.eu-west-1.amazonaws.com/samples/testfiles/InvoiceNone.pdf'\n",
        "input_path = 'InvoiceNone.pdf'\n",
        "prepare_file(input_url, input_path)\n",
        "output_path = 'Timestamped.pdf'"
      ]
    },
    {
      "cell_type": "code",
      "execution_count": null,
      "id": "1113b51c-56ae-47bd-bc63-8ddf2c2894ae",
      "metadata": {
          "id": "713c0211-9c64-4b80-9089-d7fed5b14ee6"
      },
      "outputs": [],
      "source": [
        "def add_timestamp(time_stamp_url: str, input_path: str, output_path: str):\n",
        "    # Create a session to the built-in cryptographic provider\n",
        "    with Provider() as session:\n",
        "        session.timestamp_url = time_stamp_url\n",
        "\n",
        "        # Create time-stamp configuration\n",
        "        timestamp = session.create_timestamp()\n",
        "\n",
        "        # Open input document\n",
        "        with io.FileIO(input_path, 'rb') as in_stream:\n",
        "            with Document.open(in_stream) as input_document:\n",
        "\n",
        "                # Create stream for output file\n",
        "                with io.FileIO(output_path, 'wb+') as output_stream:\n",
        "\n",
        "                    # Add the document time-stamp\n",
        "                    signer = Signer()\n",
        "                    signer.add_timestamp(input_document, timestamp, output_stream)"
      ]
    },
    {
      "cell_type": "code",
      "execution_count": null,
      "id": "b0f7336c-0a9a-4d44-b18e-ac55226607ad",
      "metadata": {
          "id": "14c63f2c-6f65-4a3d-97fb-24f06cf5e0a2"
      },
      "outputs": [],
      "source": [
        "try:\n",
        "    # By default, a test license key is active. In this case, a watermark is added to the output. \n",
        "    # If you have a license key, please uncomment the following call and set the license key.\n",
        "    # from pdftools_sdk.sdk import Sdk\n",
        "    # Sdk.initialize(\"INSERT-LICENSE-KEY\")\n",

        "\n",
        "    # Optional: Set your proxy configuration\n",
        "    # Sdk.Proxy = new Uri(\"http://myproxy:8080\");\n",
        "    \n",
        "    # Add a document time-stamp to a PDF\n",
        "    add_timestamp(time_stamp_url, input_path, output_path)\n",

        "\n",
        "    print(f\"Successfully created file {output_path}\")\n",

        "except Exception as e:\n",
        "    print(f\"An error occurred: {e}\")"
      ]
    }
  ],
  "metadata": {
    "kernelspec": {
      "display_name": "Python 3",
      "language": "python",
      "name": "python3"
    },
    "language_info": {
      "codemirror_mode": {
        "name": "ipython",
        "version": 3
      },
      "file_extension": ".py",
      "mimetype": "text/x-python",
      "name": "python",
      "nbconvert_exporter": "python",
      "pygments_lexer": "ipython3",
      "version": "3.12.8"
    },
    "colab": {
      "provenance": []
    }
  },
  "nbformat": 4,
  "nbformat_minor": 5
}