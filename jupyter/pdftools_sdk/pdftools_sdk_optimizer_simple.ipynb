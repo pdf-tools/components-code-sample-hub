{
  "cells": [
    {
      "cell_type": "markdown",
      "id": "839a88b7-ed13-44f8-ba1e-3c6d73fe65fa",
      "metadata": {
          "id": "9be0e097-5b84-456f-a1d4-a0de52b53489"
      },
      "source": [
        "[![Open In Colab](https://colab.research.google.com/assets/colab-badge.svg)](https://colab.research.google.com/github/pdf-tools/components-code-sample-hub/blob/main/jupyter/pdftools_sdk/pdftools_sdk_optimizer_simple.ipynb)"
      ]
    },
    {
      "cell_type": "code",
      "execution_count": null,
      "id": "f7d1394c-5702-4225-b60f-e610b3ab2eab",
      "metadata": {
          "id": "160d8975-c82b-487b-8ad4-5d4ab6424127"
      },
      "outputs": [],
      "source": [
        "%pip install https://pdftools-public-downloads-production.s3.eu-west-1.amazonaws.com/productkits/PDFSDK/latest/pdftools_sdk-latest.tar.gz\n",
        "%pip install ipython"
      ]
    },
    {
      "cell_type": "markdown",
      "id": "34be866b-b16e-477a-91fc-56b096ff0e6a",
      "metadata": {
          "id": "693c0418-1ef0-4202-9607-9ac86e50519a"
      },
      "source": [
        "# Optimize a PDF\n",
        "Optimize a PDF with the \"Web\" optimization profile."
      ]
    },
    {
      "cell_type": "code",
      "execution_count": null,
      "id": "c5b338d6-1902-4e23-8eda-bddf00200052",
      "metadata": {
          "id": "faabcb8b-b0ef-42a6-9e77-9591b6d13dde"
      },
      "outputs": [],
      "source": [
        "import io\n",
        "from pdftools_sdk.optimization import Optimizer\n",
        "from pdftools_sdk.optimization.profiles import Web\n",
        "from pdftools_sdk.pdf import Document"
      ]
    },
    {
      "cell_type": "code",
      "execution_count": null,
      "id": "11ad1767-ab28-48a7-9012-fad77e82bb4b",
      "metadata": {
          "id": "5c2587a9-8555-4f52-a6ad-f5a2c319d5a4"
      },
      "outputs": [],
      "source": [
        "# Download a file from a given URL and save it to the local system\n",
        "def prepare_file(url: str, path: str):\n",
        "    import requests\n",
        "    response = requests.get(url)\n",
        "    response.raise_for_status()\n",
        "\n",
        "    with open(path, 'wb') as f:\n",
        "        f.write(response.content)"
      ]
    },
    {
      "cell_type": "code",
      "execution_count": null,
      "id": "d7b3c22b-78d5-4fc0-84bb-c6d744cd6b0f",
      "metadata": {
          "id": "ff7b631d-4e8c-42c7-9833-9568c4fe5803"
      },
      "outputs": [],
      "source": [
        "# Set input arguments\n",
        "input_url = 'https://pdftools-public-downloads-production.s3.eu-west-1.amazonaws.com/samples/testfiles/PdfPrimerWhitepaper.pdf'\n",
        "input_path = 'PdfPrimerWhitepaper.pdf'\n",
        "prepare_file(input_url, input_path)\n",
        "output_path = 'Optimized.pdf'"
      ]
    },
    {
      "cell_type": "code",
      "execution_count": null,
      "id": "9110c275-e0e8-47ff-9372-fadd6118a103",
      "metadata": {
          "id": "e7b2bbee-8a39-422e-ae6a-fb882ea5c849"
      },
      "outputs": [],
      "source": [
        "def optimize_pdf(input_path: str, output_path: str):\n",
        "    # Open input document\n",
        "    with io.FileIO(input_path, 'rb') as input_stream:\n",
        "        with Document.open(input_stream) as input_document:\n",
        "            # Create the profile that defines the optimization parameters.\n",
        "            # The Web profile is used to optimize documents for electronic document exchange.\n",
        "            profile = Web()\n",
        "\n",
        "            # Optionally the profile's parameters can be changed according to the \n",
        "            # requirements of your optimization process.\n",
        "\n",
        "            # Create output stream\n",
        "            with io.FileIO(output_path, 'wb+') as output_stream:\n",
        "                # Optimize the document\n",
        "                optimizer = Optimizer()\n",
        "                optimizer.optimize_document(input_document, output_stream, profile)"
      ]
    },
    {
      "cell_type": "code",
      "execution_count": null,
      "id": "e53bcfdc-65b1-41bb-ae53-013c42b2f3fc",
      "metadata": {
          "id": "476291e8-822b-4f43-82ff-5883204c88b9"
      },
      "outputs": [],
      "source": [
        "try:\n",
        "    # By default, a test license key is active. In this case, a watermark is added to the output. \n",
        "    # If you have a license key, please uncomment the following call and set the license key.\n",
        "    # from pdftools_sdk.sdk import Sdk\n",
        "    # Sdk.initialize(\"INSERT-LICENSE-KEY\")\n",

        "\n",
        "    optimize_pdf(input_path, output_path)\n",

        "\n",
        "    print(f\"Successfully created file {output_path}.\")\n",

        "except Exception as e:\n",
        "    print(f\"An error occurred: {e}\")"
      ]
    }
  ],
  "metadata": {
    "kernelspec": {
      "display_name": "Python 3",
      "language": "python",
      "name": "python3"
    },
    "language_info": {
      "codemirror_mode": {
        "name": "ipython",
        "version": 3
      },
      "file_extension": ".py",
      "mimetype": "text/x-python",
      "name": "python",
      "nbconvert_exporter": "python",
      "pygments_lexer": "ipython3",
      "version": "3.12.8"
    },
    "colab": {
      "provenance": []
    }
  },
  "nbformat": 4,
  "nbformat_minor": 5
}