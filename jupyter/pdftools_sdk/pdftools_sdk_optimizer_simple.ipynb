{
  "cells": [
    {
      "cell_type": "markdown",
      "id": "3bf2008f-e4e1-440e-b51c-a972f28f38b2",
      "metadata": {
          "id": "12b1083f-33a0-43db-8143-341a98a0f1ef"
      },
      "source": [
        "[![Open In Colab](https://colab.research.google.com/assets/colab-badge.svg)](https://colab.research.google.com/github/pdf-tools/components-code-sample-hub/blob/main/jupyter/pdftools_sdk/pdftools_sdk_optimizer_simple.ipynb)"
      ]
    },
    {
      "cell_type": "code",
      "execution_count": null,
      "id": "23f0d62a-25cd-4642-ba1e-71b704ec9e3c",
      "metadata": {
          "id": "6bdd2330-9db9-4438-9be7-8ea4969cea3c"
      },
      "outputs": [],
      "source": [
        "%pip install https://pdftools-public-downloads-production.s3.eu-west-1.amazonaws.com/productkits/PDFSDK/latest/pdftools_sdk-latest.tar.gz\n",
        "%pip install ipython"
      ]
    },
    {
      "cell_type": "markdown",
      "id": "bb61a996-5262-4fb4-858c-733fcf2445ee",
      "metadata": {
          "id": "920d5c99-3dfc-4022-a2f6-f8118cc01051"
      },
      "source": [
        "# Optimize a PDF\n",
        "Optimize a PDF with the \"Web\" optimization profile."
      ]
    },
    {
      "cell_type": "code",
      "execution_count": null,
      "id": "022ded23-324d-4b91-a309-78ac9d38fe41",
      "metadata": {
          "id": "591c035a-d8c0-40de-b8c2-4e8688c41f56"
      },
      "outputs": [],
      "source": [
        "import io\n",
        "from pdftools_sdk.optimization import Optimizer\n",
        "from pdftools_sdk.optimization.profiles import Web\n",
        "from pdftools_sdk.pdf import Document"
      ]
    },
    {
      "cell_type": "code",
      "execution_count": null,
      "id": "5b0f9d45-e9f4-4198-ad58-a0c130fe9a16",
      "metadata": {
          "id": "00ae0b7b-69e0-43ff-9778-480e2ff4a5b6"
      },
      "outputs": [],
      "source": [
        "# Download a file from a given URL and save it to the local system\n",
        "def prepare_file(url: str, path: str):\n",
        "    import requests\n",
        "    response = requests.get(url)\n",
        "    response.raise_for_status()\n",
        "\n",
        "    with open(path, 'wb') as f:\n",
        "        f.write(response.content)"
      ]
    },
    {
      "cell_type": "code",
      "execution_count": null,
      "id": "369a7f2a-58b1-4ba8-a55f-2a5a8f9ddcdd",
      "metadata": {
          "id": "e4416eb7-8cd1-430a-97e1-879c2dcbec3c"
      },
      "outputs": [],
      "source": [
        "# Set input arguments\n",
        "input_url = 'https://pdftools-public-downloads-production.s3.eu-west-1.amazonaws.com/samples/testfiles/PdfPrimerWhitepaper.pdf'\n",
        "input_path = 'PdfPrimerWhitepaper.pdf'\n",
        "prepare_file(input_url, input_path)\n",
        "output_path = 'Optimized.pdf'"
      ]
    },
    {
      "cell_type": "code",
      "execution_count": null,
      "id": "46f2f303-38ae-4d44-bc27-debbc1fc2abc",
      "metadata": {
          "id": "91707f0f-0b27-497b-8bfc-4fb80c6f8aa5"
      },
      "outputs": [],
      "source": [
        "def optimize_pdf(input_path: str, output_path: str):\n",
        "    # Open input document\n",
        "    with io.FileIO(input_path, 'rb') as input_stream:\n",
        "        with Document.open(input_stream) as input_document:\n",
        "            # Create the profile that defines the optimization parameters.\n",
        "            # The Web profile is used to optimize documents for electronic document exchange.\n",
        "            profile = Web()\n",
        "\n",
        "            # Optionally the profile's parameters can be changed according to the \n",
        "            # requirements of your optimization process.\n",
        "\n",
        "            # Create output stream\n",
        "            with io.FileIO(output_path, 'wb+') as output_stream:\n",
        "                # Optimize the document\n",
        "                optimizer = Optimizer()\n",
        "                optimizer.optimize_document(input_document, output_stream, profile)"
      ]
    },
    {
      "cell_type": "code",
      "execution_count": null,
      "id": "2700b562-6827-4cda-bcf2-dfca25d33968",
      "metadata": {
          "id": "dd9ac043-8c6a-4e3f-95de-51eea38d81aa"
      },
      "outputs": [],
      "source": [
        "try:\n",
        "    # By default, a test license key is active. In this case, a watermark is added to the output. \n",
        "    # If you have a license key, please uncomment the following call and set the license key.\n",
        "    # from pdftools_sdk.sdk import Sdk\n",
        "    # Sdk.initialize(\"<PDFSDK,V1,MGAASQD6L2JMQHL54PK08RQX8GG4SS0M8DAHVPH0VMP3NB8R9DUK>\")\n",

        "\n",
        "    optimize_pdf(input_path, output_path)\n",

        "\n",
        "    print(f\"Successfully created file {output_path}.\")\n",

        "except Exception as e:\n",
        "    print(f\"An error occurred: {e}\")"
      ]
    }
  ],
  "metadata": {
    "kernelspec": {
      "display_name": "Python 3",
      "language": "python",
      "name": "python3"
    },
    "language_info": {
      "codemirror_mode": {
        "name": "ipython",
        "version": 3
      },
      "file_extension": ".py",
      "mimetype": "text/x-python",
      "name": "python",
      "nbconvert_exporter": "python",
      "pygments_lexer": "ipython3",
      "version": "3.12.8"
    },
    "colab": {
      "provenance": []
    }
  },
  "nbformat": 4,
  "nbformat_minor": 5
}