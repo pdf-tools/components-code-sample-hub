{
  "cells": [
    {
      "cell_type": "markdown",
      "id": "656bdd2c-8c14-4efd-bd55-e98cf4bcaed2",
      "metadata": {
          "id": "1ef41ffd-2e27-422d-9b18-21f03ec247d9"
      },
      "source": [
        "[![Open In Colab](https://colab.research.google.com/assets/colab-badge.svg)](https://colab.research.google.com/github/pdf-tools/components-code-sample-hub/blob/main/jupyter/pdftools_sdk/pdftools_sdk_optimizer_simple.ipynb)"
      ]
    },
    {
      "cell_type": "code",
      "execution_count": null,
      "id": "76cfe1fd-7c3e-45fa-9e52-eae755aee69d",
      "metadata": {
          "id": "919d201f-5f81-4d1f-a1a5-abe8036db8a7"
      },
      "outputs": [],
      "source": [
        "%pip install https://pdftools-public-downloads-production.s3.eu-west-1.amazonaws.com/productkits/PDFSDK/latest/pdftools_sdk-latest.tar.gz\n",
        "%pip install ipython"
      ]
    },
    {
      "cell_type": "markdown",
      "id": "e9bc8de3-ebfa-48f8-9f96-4b3b7022dcf1",
      "metadata": {
          "id": "96cfcac1-d054-424c-8451-2444755507ab"
      },
      "source": [
        "# Optimize a PDF\n",
        "Optimize a PDF with the \"Web\" optimization profile."
      ]
    },
    {
      "cell_type": "code",
      "execution_count": null,
      "id": "b1cf517d-25d1-48b0-99c1-34c2d7c2f870",
      "metadata": {
          "id": "0e471188-3861-4266-aa83-0eb931081d37"
      },
      "outputs": [],
      "source": [
        "import io\n",
        "from pdftools_sdk.optimization import Optimizer\n",
        "from pdftools_sdk.optimization.profiles import Web\n",
        "from pdftools_sdk.pdf import Document"
      ]
    },
    {
      "cell_type": "code",
      "execution_count": null,
      "id": "763ffd56-ca6e-4e8d-a198-cd2632537979",
      "metadata": {
          "id": "42dbc1e0-98bd-47f7-85e4-54081e884725"
      },
      "outputs": [],
      "source": [
        "# Download a file from a given URL and save it to the local system\n",
        "def prepare_file(url: str, path: str):\n",
        "    import requests\n",
        "    response = requests.get(url)\n",
        "    response.raise_for_status()\n",
        "\n",
        "    with open(path, 'wb') as f:\n",
        "        f.write(response.content)"
      ]
    },
    {
      "cell_type": "code",
      "execution_count": null,
      "id": "0703ba55-07f6-4005-8d90-a1a9ff5c8f9c",
      "metadata": {
          "id": "45c013b9-d335-45b6-8fad-50e544140ee4"
      },
      "outputs": [],
      "source": [
        "# Set input arguments\n",
        "input_url = 'https://pdftools-public-downloads-production.s3.eu-west-1.amazonaws.com/samples/testfiles/PdfPrimerWhitepaper.pdf'\n",
        "input_path = 'PdfPrimerWhitepaper.pdf'\n",
        "prepare_file(input_url, input_path)\n",
        "output_path = 'Optimized.pdf'"
      ]
    },
    {
      "cell_type": "code",
      "execution_count": null,
      "id": "a07fca47-9fec-4b74-b415-d086d1eed560",
      "metadata": {
          "id": "268bfca6-7b8c-414e-864c-b8cb91e7fcd4"
      },
      "outputs": [],
      "source": [
        "def optimize_pdf(input_path: str, output_path: str):\n",
        "    # Open input document\n",
        "    with io.FileIO(input_path, 'rb') as input_stream:\n",
        "        with Document.open(input_stream) as input_document:\n",
        "            # Create the profile that defines the optimization parameters.\n",
        "            # The Web profile is used to optimize documents for electronic document exchange.\n",
        "            profile = Web()\n",
        "\n",
        "            # Optionally the profile's parameters can be changed according to the \n",
        "            # requirements of your optimization process.\n",
        "\n",
        "            # Create output stream\n",
        "            with io.FileIO(output_path, 'wb+') as output_stream:\n",
        "                # Optimize the document\n",
        "                optimizer = Optimizer()\n",
        "                optimizer.optimize_document(input_document, output_stream, profile)"
      ]
    },
    {
      "cell_type": "code",
      "execution_count": null,
      "id": "0fd60309-e0d1-4067-914b-0c4d471c2c61",
      "metadata": {
          "id": "da8cfcf2-841c-4606-9337-4ab1a65fff3e"
      },
      "outputs": [],
      "source": [
        "try:\n",
        "    # By default, a test license key is active. In this case, a watermark is added to the output. \n",
        "    # If you have a license key, please uncomment the following call and set the license key.\n",
        "    # from pdftools_sdk.sdk import Sdk\n",
        "    # Sdk.initialize(\"INSERT-LICENSE-KEY\")\n",

        "\n",
        "    optimize_pdf(input_path, output_path)\n",

        "\n",
        "    print(f\"Successfully created file {output_path}.\")\n",

        "except Exception as e:\n",
        "    print(f\"An error occurred: {e}\")"
      ]
    }
  ],
  "metadata": {
    "kernelspec": {
      "display_name": "Python 3",
      "language": "python",
      "name": "python3"
    },
    "language_info": {
      "codemirror_mode": {
        "name": "ipython",
        "version": 3
      },
      "file_extension": ".py",
      "mimetype": "text/x-python",
      "name": "python",
      "nbconvert_exporter": "python",
      "pygments_lexer": "ipython3",
      "version": "3.12.8"
    },
    "colab": {
      "provenance": []
    }
  },
  "nbformat": 4,
  "nbformat_minor": 5
}