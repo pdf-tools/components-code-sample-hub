{
  "cells": [
    {
      "cell_type": "markdown",
      "id": "261a7ef7-944f-410a-8026-4ae4690a0e82",
      "metadata": {
          "id": "f5cd44f2-202c-40a6-a97a-e148d2024046"
      },
      "source": [
        "[![Open In Colab](https://colab.research.google.com/assets/colab-badge.svg)](https://colab.research.google.com/github/pdf-tools/components-code-sample-hub/blob/main/jupyter/pdftools_sdk/pdftools_sdk_signatures_validate.ipynb)"
      ]
    },
    {
      "cell_type": "code",
      "execution_count": null,
      "id": "aa414a62-c999-412a-bd8b-faf48f1e569a",
      "metadata": {
          "id": "b564f4ca-de44-409c-aabf-b242074ddc98"
      },
      "outputs": [],
      "source": [
        "%pip install https://pdftools-public-downloads-production.s3.eu-west-1.amazonaws.com/productkits/PDFSDK/latest/pdftools_sdk-latest.tar.gz\n",
        "%pip install ipython"
      ]
    },
    {
      "cell_type": "markdown",
      "id": "8b6ab293-a951-4d30-a135-4da37bc76520",
      "metadata": {
          "id": "23015a91-b1ce-4948-ac8f-a28570e2a968"
      },
      "source": [
        "# Validate the signatures contained in an input document\n",
        "Extract and validate signature information for all\n",
        "digital signatures in the input document, then print the\n",
        "results to the console."
      ]
    },
    {
      "cell_type": "code",
      "execution_count": null,
      "id": "568bc927-7dd7-46ef-984c-a3e05d2946b0",
      "metadata": {
          "id": "3adce2ec-26ec-46db-b5de-122767e33de3"
      },
      "outputs": [],
      "source": [
        "import io\n",
        "import os\n",
        "import hashlib\n",
        "from pdftools_sdk.pdf import Document, DocumentSignature\n",
        "from pdftools_sdk.signature_validation import *\n",
        "from pdftools_sdk.signature_validation.profiles import Default, RevocationCheckPolicy"
      ]
    },
    {
      "cell_type": "code",
      "execution_count": null,
      "id": "6e27fbe3-0b2b-4039-b71a-6a2f2e636acd",
      "metadata": {
          "id": "c03288e7-5080-42b4-8473-fbc8e040064a"
      },
      "outputs": [],
      "source": [
        "# Download a file from a given URL and save it to the local system\n",
        "def prepare_file(url: str, path: str):\n",
        "    import requests\n",
        "    response = requests.get(url)\n",
        "    response.raise_for_status()\n",
        "\n",
        "    with open(path, 'wb') as f:\n",
        "        f.write(response.content)"
      ]
    },
    {
      "cell_type": "code",
      "execution_count": null,
      "id": "18b78028-90b7-4563-87d7-dacbafd6d961",
      "metadata": {
          "id": "847edf18-6609-4219-8ff6-46867ae78c67"
      },
      "outputs": [],
      "source": [
        "# Set input arguments\n",
        "input_url = 'https://pdftools-public-downloads-production.s3.eu-west-1.amazonaws.com/samples/testfiles/InvoiceSigned.pdf'\n",
        "input_file = 'InvoiceSigned.pdf'\n",
        "prepare_file(input_url, input_file)\n",
        "cer_url = 'https://pdftools-public-downloads-production.s3.eu-west-1.amazonaws.com/samples/testfiles/swisscom-rootca-4.cer'\n",
        "cer_file = 'swisscom-rootca-4.cer'\n",
        "prepare_file(cer_url, cer_file)\n",
        "cert_dir = '.'  # Placeholder directory with swisscom-rootca-4.cer"
      ]
    },
    {
      "cell_type": "code",
      "execution_count": null,
      "id": "5eee4929-82f0-4a11-ba94-5e741e344514",
      "metadata": {
          "id": "c14baeb0-75b7-4132-a5e3-964e4075f306"
      },
      "outputs": [],
      "source": [
        "def constraint_to_string(indication: Indication, sub_indication: str, message: str):\n",
        "    # Convert indication to a string based on its value\n",
        "    indication_str = (\n",
        "        \"\" if indication == Indication.VALID else\n",
        "        \"?\" if indication == Indication.INDETERMINATE else\n",
        "        \"!\"\n",
        "    )\n",
        "\n",
        "    # Return the formatted string\n",
        "    return f\"{indication_str}{sub_indication} {message}\""
      ]
    },
    {
      "cell_type": "code",
      "execution_count": null,
      "id": "ec66b81f-8ee4-47ab-9cec-d86a6b323977",
      "metadata": {
          "id": "25ed4417-b6e8-462d-9a39-7d6337f60e7a"
      },
      "outputs": [],
      "source": [
        "def format_sha1_digest(fingerprint: str, delimiter: str):\n",
        "    return delimiter.join(fingerprint[i:i+2] for i in range(0, len(fingerprint), 2))"
      ]
    },
    {
      "cell_type": "code",
      "execution_count": null,
      "id": "81a3f0e2-be5f-4a2a-a1db-15b2e6da254c",
      "metadata": {
          "id": "eb84bcef-9ad3-4fe5-b5e7-9d5770c14afc"
      },
      "outputs": [],
      "source": [
        "def print_certificate(cert: Certificate):\n",
        "    if cert is not None:\n",
        "        print(f\"    - Subject    : {cert.subject_name}\")\n",
        "        print(f\"    - Issuer     : {cert.issuer_name}\")\n",
        "        print(f\"    - Validity   : {cert.not_before} - {cert.not_after}\")\n",
        "        try:\n",
        "            # Convert the list of integers to bytes\n",
        "            raw_data_bytes = bytes(cert.raw_data)\n",
        "\n",
        "            # Fingerprint calculation using hashlib\n",
        "            fingerprint = hashlib.sha1(raw_data_bytes).hexdigest().upper()\n",
        "            print(f\"    - Fingerprint: {format_sha1_digest(fingerprint, '-')}\")\n",
        "        except Exception as ex:\n",
        "            print(str(ex))\n",
        "        # Extract and print the individual DataSource names\n",
        "        sources = [source.name for source in DataSource if source in cert.source]\n",
        "        print(f\"    - Source     : {', '.join(sources)}\")\n",
        "        print(f\"    - Validity   : {constraint_to_string(cert.validity.indication, cert.validity.sub_indication.name, cert.validity.message)}\")\n",
        "    else:\n",
        "        print(\"    - null\")"
      ]
    },
    {
      "cell_type": "code",
      "execution_count": null,
      "id": "8ad66718-6af3-4209-acf7-372c07e29e12",
      "metadata": {
          "id": "027c7e0e-4bb2-42c1-8f2c-191333b9e573"
      },
      "outputs": [],
      "source": [
        "def print_signature_content(content: SignatureContent):\n",
        "    if content is not None:\n",
        "        print(f\"  - Validity  : {constraint_to_string(content.validity.indication, content.validity.sub_indication.name, content.validity.message)}\")\n",
        "\n",
        "        if isinstance(content, UnsupportedSignatureContent):\n",
        "            pass  # No action for unsupported content\n",
        "        elif isinstance(content, CmsSignatureContent):\n",
        "            print(f\"  - Validation: {content.validation_time} from {content.validation_time_source.name}\")\n",
        "            print(f\"  - Hash      : {content.hash_algorithm.name}\")\n",
        "            print(\"  - Signing Cert\")\n",
        "            print_certificate(content.signing_certificate)\n",
        "            print(\"  - Chain\")\n",
        "            for index, cert in enumerate(content.certificate_chain, start=1):\n",
        "                print(f\"  - Issuer Cert {index}\")\n",
        "                print_certificate(cert)\n",
        "            print(f\"  - Chain     : {'complete' if content.certificate_chain.is_complete else 'incomplete'} chain\")\n",
        "            print(\"  Time-Stamp\")\n",
        "            print_signature_content(content.time_stamp)\n",
        "        elif isinstance(content, TimeStampContent):\n",
        "            print(f\"  - Validation: {content.validation_time} from {content.validation_time_source.name}\")\n",
        "            print(f\"  - Hash      : {content.hash_algorithm.name}\")\n",
        "            print(f\"  - Time      : {content.date}\")\n",
        "            print(\"  - Signing Cert\")\n",
        "            print_certificate(content.signing_certificate)\n",
        "            print(\"  - Chain\")\n",
        "            for index, cert in enumerate(content.certificate_chain, start=1):\n",
        "                print(f\"  - Issuer Cert {index}\")\n",
        "                print_certificate(cert)\n",
        "            print(f\"  - Chain     : {'complete' if content.certificate_chain.is_complete else 'incomplete'} chain\")\n",
        "        else:\n",
        "            print(f\"Unsupported signature content type {str(type(content))}\")\n",
        "    else:\n",
        "        print(\"  - null\")"
      ]
    },
    {
      "cell_type": "code",
      "execution_count": null,
      "id": "69a606c7-eb5e-4614-9bcf-83dcc58de4da",
      "metadata": {
          "id": "6f9ac621-2905-428c-9acd-03514f47731c"
      },
      "outputs": [],
      "source": [
        "def on_constraint_event(message: str, indication: Indication, sub_indication: SubIndication, signature: DocumentSignature, data_part: str):\n",
        "    print(f\"  - {signature.name}\" + (f\": {data_part}\" if len(data_part) > 0 else \"\") + \": \" +\n",
        "          constraint_to_string(indication, sub_indication.name, message))"
      ]
    },
    {
      "cell_type": "code",
      "execution_count": null,
      "id": "6eeed466-473b-4cb3-b8ce-c679bcf6f9cf",
      "metadata": {
          "id": "038fa69d-3a20-4141-8087-cee1922e9e80"
      },
      "outputs": [],
      "source": [
        "def validate(input_file: str, cert_dir: str):\n",
        "    # Use the default validation profile as a base for further settings\n",
        "    profile = Default()\n",
        "\n",
        "    # For offline operation, build a custom trust list from the file system and disable external revocation checks\n",
        "    if cert_dir:\n",
        "        print(\"Using 'offline' validation mode with custom trust list.\")\n",
        "        print()\n",
        "\n",
        "        # create a CustomTrustList to hold the certificates\n",
        "        ctl = CustomTrustList()\n",
        "\n",
        "        # Iterate through files in the certificate directory and add certificates to the custom trust list\n",
        "        if os.path.isdir(cert_dir):\n",
        "            for file_name in os.listdir(cert_dir):\n",
        "                try:\n",
        "                    with io.FileIO(os.path.join(cert_dir, file_name), 'rb') as cert_stream:\n",
        "                        if file_name.endswith(\".cer\") or file_name.endswith(\".pem\"):\n",
        "                            ctl.add_certificates(cert_stream)\n",
        "                        elif file_name.endswith(\".p12\") or file_name.endswith(\".pfx\"):\n",
        "                            # If a password is required, use add_archive(certStr, password).\n",
        "                            ctl.add_archive(cert_stream)\n",
        "                except Exception as e:\n",
        "                    print(f\"Could not add certificate '{file_name}' to custom trust list: {e}\")\n",
        "        else:\n",
        "            print(f\"Directory {cert_dir} is missing. No certificates were added to the custom trust list.\")\n",
        "        print()\n",
        "\n",
        "        profile.custom_trust_list = ctl\n",
        "\n",
        "        # Configure validation options\n",
        "        validation_options = profile.validation_options\n",
        "        validation_options.time_source = TimeSource.PROOF_OF_EXISTENCE | TimeSource.EXPIRED_TIME_STAMP | TimeSource.SIGNATURE_TIME\n",
        "        validation_options.certificate_sources = DataSource.EMBED_IN_SIGNATURE | DataSource.EMBED_IN_DOCUMENT | DataSource.CUSTOM_TRUST_LIST\n",
        "\n",
        "        # Disable revocation checks.\n",
        "        profile.signing_cert_trust_constraints.revocation_check_policy = RevocationCheckPolicy.NO_CHECK\n",
        "        profile.time_stamp_trust_constraints.revocation_check_policy = RevocationCheckPolicy.NO_CHECK\n",
        "\n",
        "    # Validate ALL signatures in the document (not only the latest)\n",
        "    signatureSelector = SignatureSelector.ALL\n",
        "\n",
        "    # Create the validator object and event listeners\n",
        "    validator = Validator()\n",
        "    validator.add_constraint_handler(on_constraint_event)\n",
        "\n",
        "    try:\n",
        "        with io.FileIO(input_file, 'rb') as in_stream:\n",
        "            # Open input document\n",
        "            # If a password is required, use Open(inStr, password)\n",
        "            with Document.open(in_stream) as document:\n",
        "                print(\"Validation Constraints\")\n",
        "                results = validator.validate(document, profile, signatureSelector)\n",
        "                print()\n",
        "                print(f\"Signatures validated: {len(results)}\")\n",
        "                print()\n",
        "\n",
        "                for result in results:\n",
        "                    field = result.signature_field\n",
        "                    print(f\"{field.field_name} of {field.name}\")\n",
        "                    try:\n",
        "                        print(f\"  - Revision  : {'latest' if field.revision.is_latest else 'intermediate'}\")\n",
        "                    except Exception as ex:\n",
        "                        print(f\"Unable to validate document Revision: {str(ex)}\")\n",
        "\n",
        "                    print_signature_content(result.signature_content)\n",
        "                    print()\n",
        "    except Exception as e:\n",
        "        print(f\"Unable to validate file: {e}\")"
      ]
    },
    {
      "cell_type": "code",
      "execution_count": null,
      "id": "c5b149da-5f51-48f6-8383-eed289d90728",
      "metadata": {
          "id": "d3fc1c40-e2db-4ddc-93cd-133b49bd3944"
      },
      "outputs": [],
      "source": [
        "try:\n",
        "    # By default, a test license key is active. In this case, a watermark is added to the output. \n",
        "    # If you have a license key, please uncomment the following call and set the license key.\n",
        "    # from pdftools_sdk.sdk import Sdk\n",
        "    # Sdk.initialize(\"INSERT-LICENSE-KEY\")\n",

        "\n",
        "    # Optional: Set your proxy configuration\n",
        "    # Sdk.set_proxy(\"http://myproxy:8080\")\n",
        "    \n",
        "    validate(input_file, cert_dir)\n",

        "\n",
        "    print(f\"Signatures validated successfully\")\n",

        "except Exception as e:\n",
        "    print(f\"An error occurred: {e}\")"
      ]
    }
  ],
  "metadata": {
    "kernelspec": {
      "display_name": "Python 3",
      "language": "python",
      "name": "python3"
    },
    "language_info": {
      "codemirror_mode": {
        "name": "ipython",
        "version": 3
      },
      "file_extension": ".py",
      "mimetype": "text/x-python",
      "name": "python",
      "nbconvert_exporter": "python",
      "pygments_lexer": "ipython3",
      "version": "3.12.8"
    },
    "colab": {
      "provenance": []
    }
  },
  "nbformat": 4,
  "nbformat_minor": 5
}