{
  "cells": [
    {
      "cell_type": "markdown",
      "id": "7080277b-2d35-4a8b-99ee-03b0297edff5",
      "metadata": {
          "id": "c0698838-0bfd-44b2-915e-76e119d38751"
      },
      "source": [
        "[![Open In Colab](https://colab.research.google.com/assets/colab-badge.svg)](https://colab.research.google.com/github/pdf-tools/components-code-sample-hub/blob/main/jupyter/pdftools_sdk/pdftools_sdk_signatures_validate.ipynb)"
      ]
    },
    {
      "cell_type": "code",
      "execution_count": null,
      "id": "a0c1fb5a-7f32-4615-9eba-e6a535817e59",
      "metadata": {
          "id": "78fc1ce4-8d15-43c8-aa29-b5bdfa374446"
      },
      "outputs": [],
      "source": [
        "%pip install https://pdftools-public-downloads-production.s3.eu-west-1.amazonaws.com/productkits/PDFSDK/latest/pdftools_sdk-latest.tar.gz\n",
        "%pip install ipython"
      ]
    },
    {
      "cell_type": "markdown",
      "id": "307ae3c8-6ce0-4046-9ef2-ebd8ae32957d",
      "metadata": {
          "id": "8c869d7f-486b-4b09-9d9e-88b19b499759"
      },
      "source": [
        "# Validate the signatures contained in an input document\n",
        "Extract and validate signature information for all\n",
        "digital signatures in the input document, then print the\n",
        "results to the console."
      ]
    },
    {
      "cell_type": "code",
      "execution_count": null,
      "id": "f99802fc-9a60-4f55-8999-2602e55e608c",
      "metadata": {
          "id": "0f858b0c-708f-4ffe-84a0-00d768735928"
      },
      "outputs": [],
      "source": [
        "import io\n",
        "import os\n",
        "import hashlib\n",
        "from pdftools_sdk.pdf import Document, DocumentSignature\n",
        "from pdftools_sdk.signature_validation import *\n",
        "from pdftools_sdk.signature_validation.profiles import Default, RevocationCheckPolicy"
      ]
    },
    {
      "cell_type": "code",
      "execution_count": null,
      "id": "3d46b8cf-a5b7-4050-98b4-00bf0516a68a",
      "metadata": {
          "id": "3db6dff9-894a-49ae-b284-feecfc50a33b"
      },
      "outputs": [],
      "source": [
        "# Download a file from a given URL and save it to the local system\n",
        "def prepare_file(url: str, path: str):\n",
        "    import requests\n",
        "    response = requests.get(url)\n",
        "    response.raise_for_status()\n",
        "\n",
        "    with open(path, 'wb') as f:\n",
        "        f.write(response.content)"
      ]
    },
    {
      "cell_type": "code",
      "execution_count": null,
      "id": "34101f3f-690a-4055-b648-c4086b2c6b34",
      "metadata": {
          "id": "87ca4921-e50e-4138-bbf5-ad22fe36762a"
      },
      "outputs": [],
      "source": [
        "# Set input arguments\n",
        "input_url = 'https://pdftools-public-downloads-production.s3.eu-west-1.amazonaws.com/samples/testfiles/InvoiceSigned.pdf'\n",
        "input_file = 'InvoiceSigned.pdf'\n",
        "prepare_file(input_url, input_file)\n",
        "cer_url = 'https://pdftools-public-downloads-production.s3.eu-west-1.amazonaws.com/samples/testfiles/swisscom-rootca-4.cer'\n",
        "cer_file = 'swisscom-rootca-4.cer'\n",
        "prepare_file(cer_url, cer_file)\n",
        "cert_dir = '.'  # Placeholder directory with swisscom-rootca-4.cer"
      ]
    },
    {
      "cell_type": "code",
      "execution_count": null,
      "id": "972cbb99-6019-49e2-aa48-3efc4d218a63",
      "metadata": {
          "id": "a845e307-20f6-4846-bb8c-eda592bc6cd6"
      },
      "outputs": [],
      "source": [
        "def constraint_to_string(indication: Indication, sub_indication: str, message: str):\n",
        "    # Convert indication to a string based on its value\n",
        "    indication_str = (\n",
        "        \"\" if indication == Indication.VALID else\n",
        "        \"?\" if indication == Indication.INDETERMINATE else\n",
        "        \"!\"\n",
        "    )\n",
        "\n",
        "    # Return the formatted string\n",
        "    return f\"{indication_str}{sub_indication} {message}\""
      ]
    },
    {
      "cell_type": "code",
      "execution_count": null,
      "id": "c6b9eca9-4c25-42a4-9cf4-1a5a3a902c33",
      "metadata": {
          "id": "90bc7403-c8ec-4213-bac4-8c5277d24551"
      },
      "outputs": [],
      "source": [
        "def format_sha1_digest(fingerprint: str, delimiter: str):\n",
        "    return delimiter.join(fingerprint[i:i+2] for i in range(0, len(fingerprint), 2))"
      ]
    },
    {
      "cell_type": "code",
      "execution_count": null,
      "id": "b824bd39-4364-4b70-9fb0-c30aaeccecc5",
      "metadata": {
          "id": "21ed2e5d-8452-4354-93df-281b984a61b1"
      },
      "outputs": [],
      "source": [
        "def print_certificate(cert: Certificate):\n",
        "    if cert is not None:\n",
        "        print(f\"    - Subject    : {cert.subject_name}\")\n",
        "        print(f\"    - Issuer     : {cert.issuer_name}\")\n",
        "        print(f\"    - Validity   : {cert.not_before} - {cert.not_after}\")\n",
        "        try:\n",
        "            # Convert the list of integers to bytes\n",
        "            raw_data_bytes = bytes(cert.raw_data)\n",
        "\n",
        "            # Fingerprint calculation using hashlib\n",
        "            fingerprint = hashlib.sha1(raw_data_bytes).hexdigest().upper()\n",
        "            print(f\"    - Fingerprint: {format_sha1_digest(fingerprint, '-')}\")\n",
        "        except Exception as ex:\n",
        "            print(str(ex))\n",
        "        # Extract and print the individual DataSource names\n",
        "        sources = [source.name for source in DataSource if source in cert.source]\n",
        "        print(f\"    - Source     : {', '.join(sources)}\")\n",
        "        print(f\"    - Validity   : {constraint_to_string(cert.validity.indication, cert.validity.sub_indication.name, cert.validity.message)}\")\n",
        "    else:\n",
        "        print(\"    - null\")"
      ]
    },
    {
      "cell_type": "code",
      "execution_count": null,
      "id": "c918bb7a-9082-4a4c-9dc3-2bfc1c17ac57",
      "metadata": {
          "id": "58e25f0a-d38d-4e35-94e2-679bf7998e2a"
      },
      "outputs": [],
      "source": [
        "def print_signature_content(content: SignatureContent):\n",
        "    if content is not None:\n",
        "        print(f\"  - Validity  : {constraint_to_string(content.validity.indication, content.validity.sub_indication.name, content.validity.message)}\")\n",
        "\n",
        "        if isinstance(content, UnsupportedSignatureContent):\n",
        "            pass  # No action for unsupported content\n",
        "        elif isinstance(content, CmsSignatureContent):\n",
        "            print(f\"  - Validation: {content.validation_time} from {content.validation_time_source.name}\")\n",
        "            print(f\"  - Hash      : {content.hash_algorithm.name}\")\n",
        "            print(\"  - Signing Cert\")\n",
        "            print_certificate(content.signing_certificate)\n",
        "            print(\"  - Chain\")\n",
        "            for index, cert in enumerate(content.certificate_chain, start=1):\n",
        "                print(f\"  - Issuer Cert {index}\")\n",
        "                print_certificate(cert)\n",
        "            print(f\"  - Chain     : {'complete' if content.certificate_chain.is_complete else 'incomplete'} chain\")\n",
        "            print(\"  Time-Stamp\")\n",
        "            print_signature_content(content.time_stamp)\n",
        "        elif isinstance(content, TimeStampContent):\n",
        "            print(f\"  - Validation: {content.validation_time} from {content.validation_time_source.name}\")\n",
        "            print(f\"  - Hash      : {content.hash_algorithm.name}\")\n",
        "            print(f\"  - Time      : {content.date}\")\n",
        "            print(\"  - Signing Cert\")\n",
        "            print_certificate(content.signing_certificate)\n",
        "            print(\"  - Chain\")\n",
        "            for index, cert in enumerate(content.certificate_chain, start=1):\n",
        "                print(f\"  - Issuer Cert {index}\")\n",
        "                print_certificate(cert)\n",
        "            print(f\"  - Chain     : {'complete' if content.certificate_chain.is_complete else 'incomplete'} chain\")\n",
        "        else:\n",
        "            print(f\"Unsupported signature content type {str(type(content))}\")\n",
        "    else:\n",
        "        print(\"  - null\")"
      ]
    },
    {
      "cell_type": "code",
      "execution_count": null,
      "id": "3bc4c1a7-227a-4154-aa40-d388f84908e6",
      "metadata": {
          "id": "abe46054-4bae-4403-9024-6066dc0ea560"
      },
      "outputs": [],
      "source": [
        "def on_constraint_event(message: str, indication: Indication, sub_indication: SubIndication, signature: DocumentSignature, data_part: str):\n",
        "    print(f\"  - {signature.name}\" + (f\": {data_part}\" if len(data_part) > 0 else \"\") + \": \" +\n",
        "          constraint_to_string(indication, sub_indication.name, message))"
      ]
    },
    {
      "cell_type": "code",
      "execution_count": null,
      "id": "2cc2d403-e3a5-4c4e-971d-d4811f07dac7",
      "metadata": {
          "id": "b9d347eb-d27f-4321-af88-284fb81727fd"
      },
      "outputs": [],
      "source": [
        "def validate(input_file: str, cert_dir: str):\n",
        "    # Use the default validation profile as a base for further settings\n",
        "    profile = Default()\n",
        "\n",
        "    # For offline operation, build a custom trust list from the file system and disable external revocation checks\n",
        "    if cert_dir:\n",
        "        print(\"Using 'offline' validation mode with custom trust list.\")\n",
        "        print()\n",
        "\n",
        "        # create a CustomTrustList to hold the certificates\n",
        "        ctl = CustomTrustList()\n",
        "\n",
        "        # Iterate through files in the certificate directory and add certificates to the custom trust list\n",
        "        if os.path.isdir(cert_dir):\n",
        "            for file_name in os.listdir(cert_dir):\n",
        "                try:\n",
        "                    with io.FileIO(os.path.join(cert_dir, file_name), 'rb') as cert_stream:\n",
        "                        if file_name.endswith(\".cer\") or file_name.endswith(\".pem\"):\n",
        "                            ctl.add_certificates(cert_stream)\n",
        "                        elif file_name.endswith(\".p12\") or file_name.endswith(\".pfx\"):\n",
        "                            # If a password is required, use add_archive(certStr, password).\n",
        "                            ctl.add_archive(cert_stream)\n",
        "                except Exception as e:\n",
        "                    print(f\"Could not add certificate '{file_name}' to custom trust list: {e}\")\n",
        "        else:\n",
        "            print(f\"Directory {cert_dir} is missing. No certificates were added to the custom trust list.\")\n",
        "        print()\n",
        "\n",
        "        profile.custom_trust_list = ctl\n",
        "\n",
        "        # Configure validation options\n",
        "        validation_options = profile.validation_options\n",
        "        validation_options.time_source = TimeSource.PROOF_OF_EXISTENCE | TimeSource.EXPIRED_TIME_STAMP | TimeSource.SIGNATURE_TIME\n",
        "        validation_options.certificate_sources = DataSource.EMBED_IN_SIGNATURE | DataSource.EMBED_IN_DOCUMENT | DataSource.CUSTOM_TRUST_LIST\n",
        "\n",
        "        # Disable revocation checks.\n",
        "        profile.signing_cert_trust_constraints.revocation_check_policy = RevocationCheckPolicy.NO_CHECK\n",
        "        profile.time_stamp_trust_constraints.revocation_check_policy = RevocationCheckPolicy.NO_CHECK\n",
        "\n",
        "    # Validate ALL signatures in the document (not only the latest)\n",
        "    signatureSelector = SignatureSelector.ALL\n",
        "\n",
        "    # Create the validator object and event listeners\n",
        "    validator = Validator()\n",
        "    validator.add_constraint_handler(on_constraint_event)\n",
        "\n",
        "    try:\n",
        "        with io.FileIO(input_file, 'rb') as in_stream:\n",
        "            # Open input document\n",
        "            # If a password is required, use Open(inStr, password)\n",
        "            with Document.open(in_stream) as document:\n",
        "                print(\"Validation Constraints\")\n",
        "                results = validator.validate(document, profile, signatureSelector)\n",
        "                print()\n",
        "                print(f\"Signatures validated: {len(results)}\")\n",
        "                print()\n",
        "\n",
        "                for result in results:\n",
        "                    field = result.signature_field\n",
        "                    print(f\"{field.field_name} of {field.name}\")\n",
        "                    try:\n",
        "                        print(f\"  - Revision  : {'latest' if field.revision.is_latest else 'intermediate'}\")\n",
        "                    except Exception as ex:\n",
        "                        print(f\"Unable to validate document Revision: {str(ex)}\")\n",
        "\n",
        "                    print_signature_content(result.signature_content)\n",
        "                    print()\n",
        "    except Exception as e:\n",
        "        print(f\"Unable to validate file: {e}\")"
      ]
    },
    {
      "cell_type": "code",
      "execution_count": null,
      "id": "22f3ab25-3bce-4758-9e82-da779b4f7809",
      "metadata": {
          "id": "a4b395b2-93cc-4e55-831b-3ee6a7488b47"
      },
      "outputs": [],
      "source": [
        "try:\n",
        "    # By default, a test license key is active. In this case, a watermark is added to the output. \n",
        "    # If you have a license key, please uncomment the following call and set the license key.\n",
        "    # from pdftools_sdk.sdk import Sdk\n",
        "    # Sdk.initialize(\"INSERT-LICENSE-KEY\")\n",

        "\n",
        "    # Optional: Set your proxy configuration\n",
        "    # Sdk.set_proxy(\"http://myproxy:8080\")\n",
        "    \n",
        "    validate(input_file, cert_dir)\n",

        "\n",
        "    print(f\"Signatures validated successfully\")\n",

        "except Exception as e:\n",
        "    print(f\"An error occurred: {e}\")"
      ]
    }
  ],
  "metadata": {
    "kernelspec": {
      "display_name": "Python 3",
      "language": "python",
      "name": "python3"
    },
    "language_info": {
      "codemirror_mode": {
        "name": "ipython",
        "version": 3
      },
      "file_extension": ".py",
      "mimetype": "text/x-python",
      "name": "python",
      "nbconvert_exporter": "python",
      "pygments_lexer": "ipython3",
      "version": "3.12.8"
    },
    "colab": {
      "provenance": []
    }
  },
  "nbformat": 4,
  "nbformat_minor": 5
}