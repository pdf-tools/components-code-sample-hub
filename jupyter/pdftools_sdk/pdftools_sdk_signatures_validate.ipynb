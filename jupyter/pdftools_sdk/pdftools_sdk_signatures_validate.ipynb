{
  "cells": [
    {
      "cell_type": "markdown",
      "id": "43915d3e-8900-4583-9ef1-144f15b55316",
      "metadata": {
          "id": "b90ae17e-c239-4ded-b87d-d19af821c676"
      },
      "source": [
        "[![Open In Colab](https://colab.research.google.com/assets/colab-badge.svg)](https://colab.research.google.com/github/pdf-tools/components-code-sample-hub/blob/main/jupyter/pdftools_sdk/pdftools_sdk_signatures_validate.ipynb)"
      ]
    },
    {
      "cell_type": "code",
      "execution_count": null,
      "id": "9d3ff3ca-80bb-4ff1-9db2-6468917ef750",
      "metadata": {
          "id": "06e9343d-0e89-4d64-8dd5-3674780c3a04"
      },
      "outputs": [],
      "source": [
        "%pip install pdftools_sdk\n",
        "%pip install ipython"
      ]
    },
    {
      "cell_type": "markdown",
      "id": "34632cd2-8b30-4cf1-bc0d-ef31a60a4777",
      "metadata": {
          "id": "4c040130-ab0b-4997-b727-c5ab52ffaee9"
      },
      "source": [
        "# Validate the signatures contained in an input document\n",
        "Extract and validate signature information for all\n",
        "digital signatures in the input document, then print the\n",
        "results to the console."
      ]
    },
    {
      "cell_type": "code",
      "execution_count": null,
      "id": "43203e7f-9c3e-4c42-9058-cf50da556c89",
      "metadata": {
          "id": "047abf17-477d-4c3e-97d2-5dbdf38c70fd"
      },
      "outputs": [],
      "source": [
        "import io\n",
        "import os\n",
        "import hashlib\n",
        "from pdftools_sdk.pdf import Document, DocumentSignature\n",
        "from pdftools_sdk.signature_validation import *\n",
        "from pdftools_sdk.signature_validation.profiles import Default, RevocationCheckPolicy"
      ]
    },
    {
      "cell_type": "code",
      "execution_count": null,
      "id": "be2ed19e-05e0-45be-acd3-6cca122d6bb1",
      "metadata": {
          "id": "3f8304a1-6c46-4c65-b4b1-2b0ed5fc2fdf"
      },
      "outputs": [],
      "source": [
        "# Download a file from a given URL and save it to the local system\n",
        "def prepare_file(url: str, path: str):\n",
        "    import requests\n",
        "    response = requests.get(url)\n",
        "    response.raise_for_status()\n",
        "\n",
        "    with open(path, 'wb') as f:\n",
        "        f.write(response.content)"
      ]
    },
    {
      "cell_type": "code",
      "execution_count": null,
      "id": "32c6acb2-4fa3-4415-8ac9-a1beb72674a1",
      "metadata": {
          "id": "6339dfc6-b283-4bd8-81ad-d50cc7edb615"
      },
      "outputs": [],
      "source": [
        "# Set input arguments\n",
        "input_url = 'https://pdftools-public-downloads-production.s3.eu-west-1.amazonaws.com/samples/testfiles/InvoiceSigned.pdf'\n",
        "input_file = 'InvoiceSigned.pdf'\n",
        "prepare_file(input_url, input_file)\n",
        "cer_url = 'https://pdftools-public-downloads-production.s3.eu-west-1.amazonaws.com/samples/testfiles/swisscom-rootca-4.cer'\n",
        "cer_file = 'swisscom-rootca-4.cer'\n",
        "prepare_file(cer_url, cer_file)\n",
        "cert_dir = '.'  # Placeholder directory with swisscom-rootca-4.cer"
      ]
    },
    {
      "cell_type": "code",
      "execution_count": null,
      "id": "68409342-dd53-40d5-b294-50af6c2aaa38",
      "metadata": {
          "id": "a612e82c-dc05-48f8-ba57-0c83383e69af"
      },
      "outputs": [],
      "source": [
        "def constraint_to_string(indication: Indication, sub_indication: str, message: str):\n",
        "    # Convert indication to a string based on its value\n",
        "    indication_str = (\n",
        "        \"\" if indication == Indication.VALID else\n",
        "        \"?\" if indication == Indication.INDETERMINATE else\n",
        "        \"!\"\n",
        "    )\n",
        "\n",
        "    # Return the formatted string\n",
        "    return f\"{indication_str}{sub_indication} {message}\""
      ]
    },{
      "cell_type": "code",
      "execution_count": null,
      "id": "a73b8cbb-1ae2-47c3-823e-ac83aad003bd",
      "metadata": {
          "id": "d66bf72b-3885-49e7-a8c0-e18174d2b603"
      },
      "outputs": [],
      "source": [
        "def format_sha1_digest(fingerprint: str, delimiter: str):\n",
        "    return delimiter.join(fingerprint[i:i+2] for i in range(0, len(fingerprint), 2))"
      ]
    },{
      "cell_type": "code",
      "execution_count": null,
      "id": "866251fc-d2f2-421d-b227-ec6af1d99f18",
      "metadata": {
          "id": "1fb90458-f795-4d24-a333-6c89426e8314"
      },
      "outputs": [],
      "source": [
        "def print_certificate(cert: Certificate):\n",
        "    if cert is not None:\n",
        "        print(f\"    - Subject    : {cert.subject_name}\")\n",
        "        print(f\"    - Issuer     : {cert.issuer_name}\")\n",
        "        print(f\"    - Validity   : {cert.not_before} - {cert.not_after}\")\n",
        "        try:\n",
        "            # Convert the list of integers to bytes\n",
        "            raw_data_bytes = bytes(cert.raw_data)\n",
        "\n",
        "            # Fingerprint calculation using hashlib\n",
        "            fingerprint = hashlib.sha1(raw_data_bytes).hexdigest().upper()\n",
        "            print(f\"    - Fingerprint: {format_sha1_digest(fingerprint, '-')}\")\n",
        "        except Exception as ex:\n",
        "            print(str(ex))\n",
        "        # Extract and print the individual DataSource names\n",
        "        sources = [source.name for source in DataSource if source in cert.source]\n",
        "        print(f\"    - Source     : {', '.join(sources)}\")\n",
        "        print(f\"    - Validity   : {constraint_to_string(cert.validity.indication, cert.validity.sub_indication.name, cert.validity.message)}\")\n",
        "    else:\n",
        "        print(\"    - null\")"
      ]
    },{
      "cell_type": "code",
      "execution_count": null,
      "id": "3b3dd066-bfcc-4f05-9221-f3a636e5706d",
      "metadata": {
          "id": "b14d0325-fed6-43fa-961a-5dd40026d8a6"
      },
      "outputs": [],
      "source": [
        "def print_signature_content(content: SignatureContent):\n",
        "    if content is not None:\n",
        "        print(f\"  - Validity  : {constraint_to_string(content.validity.indication, content.validity.sub_indication.name, content.validity.message)}\")\n",
        "\n",
        "        if isinstance(content, UnsupportedSignatureContent):\n",
        "            pass  # No action for unsupported content\n",
        "        elif isinstance(content, CmsSignatureContent):\n",
        "            print(f\"  - Validation: {content.validation_time} from {content.validation_time_source.name}\")\n",
        "            print(f\"  - Hash      : {content.hash_algorithm.name}\")\n",
        "            print(\"  - Signing Cert\")\n",
        "            print_certificate(content.signing_certificate)\n",
        "            print(\"  - Chain\")\n",
        "            for index, cert in enumerate(content.certificate_chain, start=1):\n",
        "                print(f\"  - Issuer Cert {index}\")\n",
        "                print_certificate(cert)\n",
        "            print(f\"  - Chain     : {'complete' if content.certificate_chain.is_complete else 'incomplete'} chain\")\n",
        "            print(\"  Time-Stamp\")\n",
        "            print_signature_content(content.time_stamp)\n",
        "        elif isinstance(content, TimeStampContent):\n",
        "            print(f\"  - Validation: {content.validation_time} from {content.validation_time_source.name}\")\n",
        "            print(f\"  - Hash      : {content.hash_algorithm.name}\")\n",
        "            print(f\"  - Time      : {content.date}\")\n",
        "            print(\"  - Signing Cert\")\n",
        "            print_certificate(content.signing_certificate)\n",
        "            print(\"  - Chain\")\n",
        "            for index, cert in enumerate(content.certificate_chain, start=1):\n",
        "                print(f\"  - Issuer Cert {index}\")\n",
        "                print_certificate(cert)\n",
        "            print(f\"  - Chain     : {'complete' if content.certificate_chain.is_complete else 'incomplete'} chain\")\n",
        "        else:\n",
        "            print(f\"Unsupported signature content type {str(type(content))}\")\n",
        "    else:\n",
        "        print(\"  - null\")"
      ]
    },{
      "cell_type": "code",
      "execution_count": null,
      "id": "5198707d-f8b4-4d86-a382-2a1d321bc197",
      "metadata": {
          "id": "64397bee-4514-4833-b4c4-31a535fe9a12"
      },
      "outputs": [],
      "source": [
        "def on_constraint_event(message: str, indication: Indication, sub_indication: SubIndication, signature: DocumentSignature, data_part: str):\n",
        "    print(f\"  - {signature.name}\" + (f\": {data_part}\" if len(data_part) > 0 else \"\") + \": \" +\n",
        "          constraint_to_string(indication, sub_indication.name, message))"
      ]
    },{
      "cell_type": "code",
      "execution_count": null,
      "id": "67b9c173-4be8-405e-b550-75138ea6b3e5",
      "metadata": {
          "id": "5c9f95c0-783c-4329-8839-c7c0c14dd1db"
      },
      "outputs": [],
      "source": [
        "def validate(input_file: str, cert_dir: str):\n",
        "    # Use the default validation profile as a base for further settings\n",
        "    profile = Default()\n",
        "\n",
        "    # For offline operation, build a custom trust list from the file system and disable external revocation checks\n",
        "    if cert_dir:\n",
        "        print(\"Using 'offline' validation mode with custom trust list.\")\n",
        "        print()\n",
        "\n",
        "        # create a CustomTrustList to hold the certificates\n",
        "        ctl = CustomTrustList()\n",
        "\n",
        "        # Iterate through files in the certificate directory and add certificates to the custom trust list\n",
        "        if os.path.isdir(cert_dir):\n",
        "            for file_name in os.listdir(cert_dir):\n",
        "                try:\n",
        "                    with io.FileIO(os.path.join(cert_dir, file_name), 'rb') as cert_stream:\n",
        "                        if file_name.endswith(\".cer\") or file_name.endswith(\".pem\"):\n",
        "                            ctl.add_certificates(cert_stream)\n",
        "                        elif file_name.endswith(\".p12\") or file_name.endswith(\".pfx\"):\n",
        "                            # If a password is required, use add_archive(certStr, password).\n",
        "                            ctl.add_archive(cert_stream)\n",
        "                except Exception as e:\n",
        "                    print(f\"Could not add certificate '{file_name}' to custom trust list: {e}\")\n",
        "        else:\n",
        "            print(f\"Directory {cert_dir} is missing. No certificates were added to the custom trust list.\")\n",
        "        print()\n",
        "\n",
        "        profile.custom_trust_list = ctl\n",
        "\n",
        "        # Configure validation options\n",
        "        validation_options = profile.validation_options\n",
        "        validation_options.time_source = TimeSource.PROOF_OF_EXISTENCE | TimeSource.EXPIRED_TIME_STAMP | TimeSource.SIGNATURE_TIME\n",
        "        validation_options.certificate_sources = DataSource.EMBED_IN_SIGNATURE | DataSource.EMBED_IN_DOCUMENT | DataSource.CUSTOM_TRUST_LIST\n",
        "\n",
        "        # Disable revocation checks.\n",
        "        profile.signing_cert_trust_constraints.revocation_check_policy = RevocationCheckPolicy.NO_CHECK\n",
        "        profile.time_stamp_trust_constraints.revocation_check_policy = RevocationCheckPolicy.NO_CHECK\n",
        "\n",
        "    # Validate ALL signatures in the document (not only the latest)\n",
        "    signatureSelector = SignatureSelector.ALL\n",
        "\n",
        "    # Create the validator object and event listeners\n",
        "    validator = Validator()\n",
        "    validator.add_constraint_handler(on_constraint_event)\n",
        "\n",
        "    try:\n",
        "        with io.FileIO(input_file, 'rb') as in_stream:\n",
        "            # Open input document\n",
        "            # If a password is required, use Open(inStr, password)\n",
        "            with Document.open(in_stream) as document:\n",
        "                print(\"Validation Constraints\")\n",
        "                results = validator.validate(document, profile, signatureSelector)\n",
        "                print()\n",
        "                print(f\"Signatures validated: {len(results)}\")\n",
        "                print()\n",
        "\n",
        "                for result in results:\n",
        "                    field = result.signature_field\n",
        "                    print(f\"{field.field_name} of {field.name}\")\n",
        "                    try:\n",
        "                        print(f\"  - Revision  : {'latest' if field.revision.is_latest else 'intermediate'}\")\n",
        "                    except Exception as ex:\n",
        "                        print(f\"Unable to validate document Revision: {str(ex)}\")\n",
        "\n",
        "                    print_signature_content(result.signature_content)\n",
        "                    print()\n",
        "    except Exception as e:\n",
        "        print(f\"Unable to validate file: {e}\")"
      ]
    },
    {
      "cell_type": "code",
      "execution_count": null,
      "id": "a00ef48c-8c3c-48d9-a02e-d940f65322d0",
      "metadata": {
          "id": "657ce16a-53d8-43a5-a9c1-85ec08dd9597"
      },
      "outputs": [],
      "source": [
        "try:\n",
        "    # By default, a test license key is active. In this case, a watermark is added to the output. \n",
        "    # If you have a license key, please uncomment the following call and set the license key.\n",
        "    # from pdftools_sdk.sdk import Sdk\n",
        "    # Sdk.initialize(\"INSERT-LICENSE-KEY\")\n",

        "\n",
        "    # Optional: Set your proxy configuration\n",
        "    # Sdk.set_proxy(\"http://myproxy:8080\")\n",
        "    \n",
        "    validate(input_file, cert_dir)\n",

        "\n",
        "    print(f\"Signatures validated successfully\")\n",

        "except Exception as e:\n",
        "    print(f\"An error occurred: {e}\")"
      ]
    }
  ],
  "metadata": {
    "kernelspec": {
      "display_name": "Python 3",
      "language": "python",
      "name": "python3"
    },
    "language_info": {
      "codemirror_mode": {
        "name": "ipython",
        "version": 3
      },
      "file_extension": ".py",
      "mimetype": "text/x-python",
      "name": "python",
      "nbconvert_exporter": "python",
      "pygments_lexer": "ipython3",
      "version": "3.12.8"
    },
    "colab": {
      "provenance": []
    }
  },
  "nbformat": 4,
  "nbformat_minor": 5
}