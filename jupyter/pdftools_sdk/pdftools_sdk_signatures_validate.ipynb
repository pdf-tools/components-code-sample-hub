{
  "cells": [
    {
      "cell_type": "markdown",
      "id": "45e39b97-a6d6-4dc2-81c7-69734ace4739",
      "metadata": {
          "id": "80280120-80d8-463e-9a84-317cccdd1b41"
      },
      "source": [
        "[![Open In Colab](https://colab.research.google.com/assets/colab-badge.svg)](https://colab.research.google.com/github/pdf-tools/components-code-sample-hub/blob/main/jupyter/pdftools_sdk/pdftools_sdk_signatures_validate.ipynb)"
      ]
    },
    {
      "cell_type": "code",
      "execution_count": null,
      "id": "97c62384-adfb-4c56-bb5e-6f6651747f85",
      "metadata": {
          "id": "d1c9a8f9-2810-48b7-ad6d-5b656e3b0a41"
      },
      "outputs": [],
      "source": [
        "%pip install https://pdftools-public-downloads-production.s3.eu-west-1.amazonaws.com/productkits/PDFSDK/latest/pdftools_sdk-latest.tar.gz\n",
        "%pip install ipython"
      ]
    },
    {
      "cell_type": "markdown",
      "id": "601de023-deea-43ac-b4e8-612d7c32e42e",
      "metadata": {
          "id": "aeb5768b-6098-4844-a68e-b1d7df0804ca"
      },
      "source": [
        "# Validate the signatures contained in an input document\n",
        "Extract and validate signature information for all\n",
        "digital signatures in the input document, then print the\n",
        "results to the console."
      ]
    },
    {
      "cell_type": "code",
      "execution_count": null,
      "id": "a9b51afe-1f8d-4783-9b22-a3613d77b7f6",
      "metadata": {
          "id": "3fde9cd0-3ee4-49c1-aa6a-9a3b04a3a812"
      },
      "outputs": [],
      "source": [
        "import io\n",
        "import os\n",
        "import hashlib\n",
        "from pdftools_sdk.pdf import Document, DocumentSignature\n",
        "from pdftools_sdk.signature_validation import *\n",
        "from pdftools_sdk.signature_validation.profiles import Default, RevocationCheckPolicy"
      ]
    },
    {
      "cell_type": "code",
      "execution_count": null,
      "id": "d09a331a-c48f-45be-a2fc-e65a76dce248",
      "metadata": {
          "id": "94ed958f-b2a9-40f8-9509-de2dffaf6585"
      },
      "outputs": [],
      "source": [
        "# Download a file from a given URL and save it to the local system\n",
        "def prepare_file(url: str, path: str):\n",
        "    import requests\n",
        "    response = requests.get(url)\n",
        "    response.raise_for_status()\n",
        "\n",
        "    with open(path, 'wb') as f:\n",
        "        f.write(response.content)"
      ]
    },
    {
      "cell_type": "code",
      "execution_count": null,
      "id": "ce001d18-31d4-4d01-af87-a91a9d762a10",
      "metadata": {
          "id": "22aae64c-1eb3-4b59-9db3-575c417093a3"
      },
      "outputs": [],
      "source": [
        "# Set input arguments\n",
        "input_url = 'https://pdftools-public-downloads-production.s3.eu-west-1.amazonaws.com/samples/testfiles/InvoiceSigned.pdf'\n",
        "input_file = 'InvoiceSigned.pdf'\n",
        "prepare_file(input_url, input_file)\n",
        "cer_url = 'https://pdftools-public-downloads-production.s3.eu-west-1.amazonaws.com/samples/testfiles/swisscom-rootca-4.cer'\n",
        "cer_file = 'swisscom-rootca-4.cer'\n",
        "prepare_file(cer_url, cer_file)\n",
        "cert_dir = '.'  # Placeholder directory with swisscom-rootca-4.cer"
      ]
    },
    {
      "cell_type": "code",
      "execution_count": null,
      "id": "842c2889-04e6-478f-b481-acc12445722d",
      "metadata": {
          "id": "e4a6f424-be63-4e99-9dfd-209fd313db07"
      },
      "outputs": [],
      "source": [
        "def constraint_to_string(indication: Indication, sub_indication: str, message: str):\n",
        "    # Convert indication to a string based on its value\n",
        "    indication_str = (\n",
        "        \"\" if indication == Indication.VALID else\n",
        "        \"?\" if indication == Indication.INDETERMINATE else\n",
        "        \"!\"\n",
        "    )\n",
        "\n",
        "    # Return the formatted string\n",
        "    return f\"{indication_str}{sub_indication} {message}\""
      ]
    },
    {
      "cell_type": "code",
      "execution_count": null,
      "id": "f0d9eff3-7760-4b8a-bfd6-1f7c9cbc2848",
      "metadata": {
          "id": "126aef4b-ca96-46b2-aa8e-2c12a0372dc8"
      },
      "outputs": [],
      "source": [
        "def format_sha1_digest(fingerprint: str, delimiter: str):\n",
        "    return delimiter.join(fingerprint[i:i+2] for i in range(0, len(fingerprint), 2))"
      ]
    },
    {
      "cell_type": "code",
      "execution_count": null,
      "id": "bcbdd4b5-4d6b-41a8-a176-f6d75168fe5a",
      "metadata": {
          "id": "803ceeca-0e3b-41a6-a369-1d021732f897"
      },
      "outputs": [],
      "source": [
        "def print_certificate(cert: Certificate):\n",
        "    if cert is not None:\n",
        "        print(f\"    - Subject    : {cert.subject_name}\")\n",
        "        print(f\"    - Issuer     : {cert.issuer_name}\")\n",
        "        print(f\"    - Validity   : {cert.not_before} - {cert.not_after}\")\n",
        "        try:\n",
        "            # Convert the list of integers to bytes\n",
        "            raw_data_bytes = bytes(cert.raw_data)\n",
        "\n",
        "            # Fingerprint calculation using hashlib\n",
        "            fingerprint = hashlib.sha1(raw_data_bytes).hexdigest().upper()\n",
        "            print(f\"    - Fingerprint: {format_sha1_digest(fingerprint, '-')}\")\n",
        "        except Exception as ex:\n",
        "            print(str(ex))\n",
        "        # Extract and print the individual DataSource names\n",
        "        sources = [source.name for source in DataSource if source in cert.source]\n",
        "        print(f\"    - Source     : {', '.join(sources)}\")\n",
        "        print(f\"    - Validity   : {constraint_to_string(cert.validity.indication, cert.validity.sub_indication.name, cert.validity.message)}\")\n",
        "    else:\n",
        "        print(\"    - null\")"
      ]
    },
    {
      "cell_type": "code",
      "execution_count": null,
      "id": "8343b20e-4789-48a2-8e63-a8acce9945b4",
      "metadata": {
          "id": "a0eb9c55-bacf-4b19-beaa-c0965db04d98"
      },
      "outputs": [],
      "source": [
        "def print_signature_content(content: SignatureContent):\n",
        "    if content is not None:\n",
        "        print(f\"  - Validity  : {constraint_to_string(content.validity.indication, content.validity.sub_indication.name, content.validity.message)}\")\n",
        "\n",
        "        if isinstance(content, UnsupportedSignatureContent):\n",
        "            pass  # No action for unsupported content\n",
        "        elif isinstance(content, CmsSignatureContent):\n",
        "            print(f\"  - Validation: {content.validation_time} from {content.validation_time_source.name}\")\n",
        "            print(f\"  - Hash      : {content.hash_algorithm.name}\")\n",
        "            print(\"  - Signing Cert\")\n",
        "            print_certificate(content.signing_certificate)\n",
        "            print(\"  - Chain\")\n",
        "            for index, cert in enumerate(content.certificate_chain, start=1):\n",
        "                print(f\"  - Issuer Cert {index}\")\n",
        "                print_certificate(cert)\n",
        "            print(f\"  - Chain     : {'complete' if content.certificate_chain.is_complete else 'incomplete'} chain\")\n",
        "            print(\"  Time-Stamp\")\n",
        "            print_signature_content(content.time_stamp)\n",
        "        elif isinstance(content, TimeStampContent):\n",
        "            print(f\"  - Validation: {content.validation_time} from {content.validation_time_source.name}\")\n",
        "            print(f\"  - Hash      : {content.hash_algorithm.name}\")\n",
        "            print(f\"  - Time      : {content.date}\")\n",
        "            print(\"  - Signing Cert\")\n",
        "            print_certificate(content.signing_certificate)\n",
        "            print(\"  - Chain\")\n",
        "            for index, cert in enumerate(content.certificate_chain, start=1):\n",
        "                print(f\"  - Issuer Cert {index}\")\n",
        "                print_certificate(cert)\n",
        "            print(f\"  - Chain     : {'complete' if content.certificate_chain.is_complete else 'incomplete'} chain\")\n",
        "        else:\n",
        "            print(f\"Unsupported signature content type {str(type(content))}\")\n",
        "    else:\n",
        "        print(\"  - null\")"
      ]
    },
    {
      "cell_type": "code",
      "execution_count": null,
      "id": "1fa67789-37ef-45be-bc25-a32df4a72962",
      "metadata": {
          "id": "bcfaf830-58de-4cb5-bf83-0ac437766192"
      },
      "outputs": [],
      "source": [
        "def on_constraint_event(message: str, indication: Indication, sub_indication: SubIndication, signature: DocumentSignature, data_part: str):\n",
        "    print(f\"  - {signature.name}\" + (f\": {data_part}\" if len(data_part) > 0 else \"\") + \": \" +\n",
        "          constraint_to_string(indication, sub_indication.name, message))"
      ]
    },
    {
      "cell_type": "code",
      "execution_count": null,
      "id": "e238bfcf-37ef-43c3-abda-aab029e42fba",
      "metadata": {
          "id": "cafe16e9-629f-44c8-9ee7-0c3b4067f798"
      },
      "outputs": [],
      "source": [
        "def validate(input_file: str, cert_dir: str):\n",
        "    # Use the default validation profile as a base for further settings\n",
        "    profile = Default()\n",
        "\n",
        "    # For offline operation, build a custom trust list from the file system and disable external revocation checks\n",
        "    if cert_dir:\n",
        "        print(\"Using 'offline' validation mode with custom trust list.\")\n",
        "        print()\n",
        "\n",
        "        # create a CustomTrustList to hold the certificates\n",
        "        ctl = CustomTrustList()\n",
        "\n",
        "        # Iterate through files in the certificate directory and add certificates to the custom trust list\n",
        "        if os.path.isdir(cert_dir):\n",
        "            for file_name in os.listdir(cert_dir):\n",
        "                try:\n",
        "                    with io.FileIO(os.path.join(cert_dir, file_name), 'rb') as cert_stream:\n",
        "                        if file_name.endswith(\".cer\") or file_name.endswith(\".pem\"):\n",
        "                            ctl.add_certificates(cert_stream)\n",
        "                        elif file_name.endswith(\".p12\") or file_name.endswith(\".pfx\"):\n",
        "                            # If a password is required, use add_archive(certStr, password).\n",
        "                            ctl.add_archive(cert_stream)\n",
        "                except Exception as e:\n",
        "                    print(f\"Could not add certificate '{file_name}' to custom trust list: {e}\")\n",
        "        else:\n",
        "            print(f\"Directory {cert_dir} is missing. No certificates were added to the custom trust list.\")\n",
        "        print()\n",
        "\n",
        "        profile.custom_trust_list = ctl\n",
        "\n",
        "        # Configure validation options\n",
        "        validation_options = profile.validation_options\n",
        "        validation_options.time_source = TimeSource.PROOF_OF_EXISTENCE | TimeSource.EXPIRED_TIME_STAMP | TimeSource.SIGNATURE_TIME\n",
        "        validation_options.certificate_sources = DataSource.EMBED_IN_SIGNATURE | DataSource.EMBED_IN_DOCUMENT | DataSource.CUSTOM_TRUST_LIST\n",
        "\n",
        "        # Disable revocation checks.\n",
        "        profile.signing_cert_trust_constraints.revocation_check_policy = RevocationCheckPolicy.NO_CHECK\n",
        "        profile.time_stamp_trust_constraints.revocation_check_policy = RevocationCheckPolicy.NO_CHECK\n",
        "\n",
        "    # Validate ALL signatures in the document (not only the latest)\n",
        "    signatureSelector = SignatureSelector.ALL\n",
        "\n",
        "    # Create the validator object and event listeners\n",
        "    validator = Validator()\n",
        "    validator.add_constraint_handler(on_constraint_event)\n",
        "\n",
        "    try:\n",
        "        with io.FileIO(input_file, 'rb') as in_stream:\n",
        "            # Open input document\n",
        "            # If a password is required, use Open(inStr, password)\n",
        "            with Document.open(in_stream) as document:\n",
        "                print(\"Validation Constraints\")\n",
        "                results = validator.validate(document, profile, signatureSelector)\n",
        "                print()\n",
        "                print(f\"Signatures validated: {len(results)}\")\n",
        "                print()\n",
        "\n",
        "                for result in results:\n",
        "                    field = result.signature_field\n",
        "                    print(f\"{field.field_name} of {field.name}\")\n",
        "                    try:\n",
        "                        print(f\"  - Revision  : {'latest' if field.revision.is_latest else 'intermediate'}\")\n",
        "                    except Exception as ex:\n",
        "                        print(f\"Unable to validate document Revision: {str(ex)}\")\n",
        "\n",
        "                    print_signature_content(result.signature_content)\n",
        "                    print()\n",
        "    except Exception as e:\n",
        "        print(f\"Unable to validate file: {e}\")"
      ]
    },
    {
      "cell_type": "code",
      "execution_count": null,
      "id": "a62aa953-1344-4bff-92c6-f85bd8c2f51f",
      "metadata": {
          "id": "19a91f01-b6f1-44a8-aaa7-2409de8c379f"
      },
      "outputs": [],
      "source": [
        "try:\n",
        "    # By default, a test license key is active. In this case, a watermark is added to the output. \n",
        "    # If you have a license key, please uncomment the following call and set the license key.\n",
        "    # from pdftools_sdk.sdk import Sdk\n",
        "    # Sdk.initialize(\"<PDFSDK,V1,MGAASQD6L2JMQHL54PK08RQX8GG4SS0M8DAHVPH0VMP3NB8R9DUK>\")\n",

        "\n",
        "    # Optional: Set your proxy configuration\n",
        "    # Sdk.set_proxy(\"http://myproxy:8080\")\n",
        "    \n",
        "    validate(input_file, cert_dir)\n",

        "\n",
        "    print(f\"Signatures validated successfully\")\n",

        "except Exception as e:\n",
        "    print(f\"An error occurred: {e}\")"
      ]
    }
  ],
  "metadata": {
    "kernelspec": {
      "display_name": "Python 3",
      "language": "python",
      "name": "python3"
    },
    "language_info": {
      "codemirror_mode": {
        "name": "ipython",
        "version": 3
      },
      "file_extension": ".py",
      "mimetype": "text/x-python",
      "name": "python",
      "nbconvert_exporter": "python",
      "pygments_lexer": "ipython3",
      "version": "3.12.8"
    },
    "colab": {
      "provenance": []
    }
  },
  "nbformat": 4,
  "nbformat_minor": 5
}