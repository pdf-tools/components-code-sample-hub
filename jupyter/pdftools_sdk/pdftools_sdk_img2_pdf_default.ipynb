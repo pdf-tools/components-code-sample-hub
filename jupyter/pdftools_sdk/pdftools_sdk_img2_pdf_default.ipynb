{
  "cells": [
    {
      "cell_type": "markdown",
      "id": "77535caa-9827-459f-8020-ef09606f56eb",
      "metadata": {
          "id": "879aac78-39c9-4163-a7df-1dbe3378f72a"
      },
      "source": [
        "[![Open In Colab](https://colab.research.google.com/assets/colab-badge.svg)](https://colab.research.google.com/github/pdf-tools/components-code-sample-hub/blob/main/jupyter/pdftools_sdk/pdftools_sdk_img2_pdf_default.ipynb)"
      ]
    },
    {
      "cell_type": "code",
      "execution_count": null,
      "id": "b2289934-012f-4cdd-9406-854aa1444213",
      "metadata": {
          "id": "29200cf1-ab39-4c9f-91fe-b4b18b718313"
      },
      "outputs": [],
      "source": [
        "%pip install https://pdftools-public-downloads-production.s3.eu-west-1.amazonaws.com/productkits/PDFSDK/latest/pdftools_sdk-latest.tar.gz\n",
        "%pip install ipython"
      ]
    },
    {
      "cell_type": "markdown",
      "id": "762180ab-4210-439a-ab60-a4a54707bf6f",
      "metadata": {
          "id": "44781188-df1f-454c-b824-d07b448e4000"
      },
      "source": [
        "# Convert image to PDF\n",
        "Convert an image to a PDF. The default settings for this\n",
        "conversion profile place each image on a separate A4\n",
        "portrait page with a 2 cm margin."
      ]
    },
    {
      "cell_type": "code",
      "execution_count": null,
      "id": "5be35462-0d1a-4326-b19f-38d7ad77622f",
      "metadata": {
          "id": "8550c687-6d91-4a7e-94a1-09ca452caba9"
      },
      "outputs": [],
      "source": [
        "import io\n",
        "from pdftools_sdk.image import Document\n",
        "from pdftools_sdk.image2_pdf import Converter\n",
        "from pdftools_sdk.image2_pdf.profiles import Default"
      ]
    },
    {
      "cell_type": "code",
      "execution_count": null,
      "id": "75e65574-91f7-492c-89bd-8828016f785d",
      "metadata": {
          "id": "a1ed2ba4-0b42-47ca-aaf9-82fea452d4c7"
      },
      "outputs": [],
      "source": [
        "# Download a file from a given URL and save it to the local system\n",
        "def prepare_file(url: str, path: str):\n",
        "    import requests\n",
        "    response = requests.get(url)\n",
        "    response.raise_for_status()\n",
        "\n",
        "    with open(path, 'wb') as f:\n",
        "        f.write(response.content)"
      ]
    },
    {
      "cell_type": "code",
      "execution_count": null,
      "id": "b151f270-0326-4bb9-8f92-1a01ce0dab9c",
      "metadata": {
          "id": "fcde42da-bb60-4b89-ba78-12c04e22ab8b"
      },
      "outputs": [],
      "source": [
        "# Set input arguments\n",
        "input_url = 'https://pdftools-public-downloads-production.s3.eu-west-1.amazonaws.com/samples/testfiles/ideas.tiff'\n",
        "input_path = 'ideas.tiff'\n",
        "prepare_file(input_url, input_path)\n",
        "output_path = 'Ideas.pdf'"
      ]
    },
    {
      "cell_type": "code",
      "execution_count": null,
      "id": "3315e05c-d969-4ba5-a375-29944f114ae4",
      "metadata": {
          "id": "94852f1d-959d-4021-a665-3059b2750546"
      },
      "outputs": [],
      "source": [
        "def convert_image_to_pdf(input_path: str, output_path: str):\n",
        "    # Open image document\n",
        "    with io.FileIO(input_path, 'rb') as in_stream:\n",
        "        with Document.open(in_stream) as input_document:\n",
        "\n",
        "            # Create the profile that defines the conversion parameters (Default profile)\n",
        "            profile = Default()\n",
        "\n",
        "            # Optionally, you can adjust the profile's parameters if needed\n",
        "\n",
        "            # Create output stream\n",
        "            with io.FileIO(output_path, 'wb+') as output_stream:\n",
        "\n",
        "                # Convert the image to a PDF document\n",
        "                converter = Converter()\n",
        "                converter.convert(input_document, output_stream, profile)"
      ]
    },
    {
      "cell_type": "code",
      "execution_count": null,
      "id": "7a247306-fab3-43a1-a0b4-0628cd267a06",
      "metadata": {
          "id": "f444c935-f53a-4a1c-91ba-dfb5bced44c9"
      },
      "outputs": [],
      "source": [
        "try:\n",
        "    # By default, a test license key is active. In this case, a watermark is added to the output. \n",
        "    # If you have a license key, please uncomment the following call and set the license key.\n",
        "    # from pdftools_sdk.sdk import Sdk\n",
        "    # Sdk.initialize(\"INSERT-LICENSE-KEY\")\n",

        "\n",
        "    # Optional: Set your proxy configuration\n",
        "    # Sdk.set_proxy(\"http://myproxy:8080\")\n",
        "    \n",
        "    convert_image_to_pdf(input_path, output_path)\n",

        "\n",
        "    print(f\"Successfully created file {output_path}\")\n",

        "except Exception as e:\n",
        "    print(f\"An error occurred: {e}\")"
      ]
    }
  ],
  "metadata": {
    "kernelspec": {
      "display_name": "Python 3",
      "language": "python",
      "name": "python3"
    },
    "language_info": {
      "codemirror_mode": {
        "name": "ipython",
        "version": 3
      },
      "file_extension": ".py",
      "mimetype": "text/x-python",
      "name": "python",
      "nbconvert_exporter": "python",
      "pygments_lexer": "ipython3",
      "version": "3.12.8"
    },
    "colab": {
      "provenance": []
    }
  },
  "nbformat": 4,
  "nbformat_minor": 5
}