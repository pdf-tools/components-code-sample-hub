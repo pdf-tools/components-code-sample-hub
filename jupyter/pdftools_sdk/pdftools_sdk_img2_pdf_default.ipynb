{
  "cells": [
    {
      "cell_type": "markdown",
      "id": "b9704c70-cae6-4301-84c9-c3f93160d87d",
      "metadata": {
          "id": "a5149f7a-f4f7-4214-8c37-46e17330468e"
      },
      "source": [
        "[![Open In Colab](https://colab.research.google.com/assets/colab-badge.svg)](https://colab.research.google.com/github/pdf-tools/components-code-sample-hub/blob/main/jupyter/pdftools_sdk/pdftools_sdk_img2_pdf_default.ipynb)"
      ]
    },
    {
      "cell_type": "code",
      "execution_count": null,
      "id": "82eb0035-e3e4-49bd-a80f-d447f565d248",
      "metadata": {
          "id": "6a0b859b-0e1d-4292-977d-cd0471c460af"
      },
      "outputs": [],
      "source": [
        "%pip install pdftools_sdk\n",
        "%pip install ipython"
      ]
    },
    {
      "cell_type": "markdown",
      "id": "72fde708-273d-462e-8303-6e1d622b5544",
      "metadata": {
          "id": "b94fe041-c612-4244-b248-9b4f1daf6d39"
      },
      "source": [
        "# Convert image to PDF\n",
        "Convert an image to a PDF. The default settings for this\n",
        "conversion profile place each image on a separate A4\n",
        "portrait page with a 2 cm margin."
      ]
    },
    {
      "cell_type": "code",
      "execution_count": null,
      "id": "77cba9aa-41e0-4794-8e9b-0ffb998c385f",
      "metadata": {
          "id": "9a2a5ec6-2fe8-44c5-82aa-1196b9208527"
      },
      "outputs": [],
      "source": [
        "import io\n",
        "from pdftools_sdk.image import Document\n",
        "from pdftools_sdk.image2_pdf import Converter\n",
        "from pdftools_sdk.image2_pdf.profiles import Default"
      ]
    },
    {
      "cell_type": "code",
      "execution_count": null,
      "id": "c2698da0-4f5e-4d10-9877-108efd506837",
      "metadata": {
          "id": "f97cea11-0e15-4574-ac63-fec1852bc724"
      },
      "outputs": [],
      "source": [
        "# Download a file from a given URL and save it to the local system\n",
        "def prepare_file(url: str, path: str):\n",
        "    import requests\n",
        "    response = requests.get(url)\n",
        "    response.raise_for_status()\n",
        "\n",
        "    with open(path, 'wb') as f:\n",
        "        f.write(response.content)"
      ]
    },
    {
      "cell_type": "code",
      "execution_count": null,
      "id": "7d8eca52-cb45-462c-893f-36f5f17a4b8c",
      "metadata": {
          "id": "10b5c42c-58f3-4737-accf-d408aa7f9e37"
      },
      "outputs": [],
      "source": [
        "# Set input arguments\n",
        "input_url = 'https://pdftools-public-downloads-production.s3.eu-west-1.amazonaws.com/samples/testfiles/ideas.tiff'\n",
        "input_path = 'ideas.tiff'\n",
        "prepare_file(input_url, input_path)\n",
        "output_path = 'Ideas.pdf'"
      ]
    },
    {
      "cell_type": "code",
      "execution_count": null,
      "id": "9da58ef9-4cce-422c-ad0e-663b8051f42b",
      "metadata": {
          "id": "6f9257e8-8b73-4387-8a90-037b3c5f14bc"
      },
      "outputs": [],
      "source": [
        "def convert_image_to_pdf(input_path: str, output_path: str):\n",
        "    # Open image document\n",
        "    with io.FileIO(input_path, 'rb') as in_stream:\n",
        "        with Document.open(in_stream) as input_document:\n",
        "\n",
        "            # Create the profile that defines the conversion parameters (Default profile)\n",
        "            profile = Default()\n",
        "\n",
        "            # Optionally, you can adjust the profile's parameters if needed\n",
        "\n",
        "            # Create output stream\n",
        "            with io.FileIO(output_path, 'wb+') as output_stream:\n",
        "\n",
        "                # Convert the image to a PDF document\n",
        "                converter = Converter()\n",
        "                converter.convert(input_document, output_stream, profile)"
      ]
    },
    {
      "cell_type": "code",
      "execution_count": null,
      "id": "649fd9ab-7c1b-4dbc-947f-dcc2ccfc985c",
      "metadata": {
          "id": "cc20fc74-c0e6-4423-aaf2-c55f19e30647"
      },
      "outputs": [],
      "source": [
        "try:\n",
        "    # By default, a test license key is active. In this case, a watermark is added to the output. \n",
        "    # If you have a license key, please uncomment the following call and set the license key.\n",
        "    # from pdftools_sdk.sdk import Sdk\n",
        "    # Sdk.initialize(\"INSERT-LICENSE-KEY\")\n",

        "\n",
        "    # Optional: Set your proxy configuration\n",
        "    # Sdk.set_proxy(\"http://myproxy:8080\")\n",
        "    \n",
        "    convert_image_to_pdf(input_path, output_path)\n",

        "\n",
        "    print(f\"Successfully created file {output_path}\")\n",

        "except Exception as e:\n",
        "    print(f\"An error occurred: {e}\")"
      ]
    }
  ],
  "metadata": {
    "kernelspec": {
      "display_name": "Python 3",
      "language": "python",
      "name": "python3"
    },
    "language_info": {
      "codemirror_mode": {
        "name": "ipython",
        "version": 3
      },
      "file_extension": ".py",
      "mimetype": "text/x-python",
      "name": "python",
      "nbconvert_exporter": "python",
      "pygments_lexer": "ipython3",
      "version": "3.12.8"
    },
    "colab": {
      "provenance": []
    }
  },
  "nbformat": 4,
  "nbformat_minor": 5
}