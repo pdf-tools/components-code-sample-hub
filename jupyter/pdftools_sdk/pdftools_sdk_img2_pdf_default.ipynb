{
  "cells": [
    {
      "cell_type": "markdown",
      "id": "40079aaa-8d38-4f78-ab76-443fe8ee2051",
      "metadata": {
          "id": "965ef7ae-80ba-4744-ab2a-7bf5c4a680ce"
      },
      "source": [
        "[![Open In Colab](https://colab.research.google.com/assets/colab-badge.svg)](https://colab.research.google.com/github/pdf-tools/components-code-sample-hub/blob/main/jupyter/pdftools_sdk/pdftools_sdk_img2_pdf_default.ipynb)"
      ]
    },
    {
      "cell_type": "code",
      "execution_count": null,
      "id": "d5ce604a-4f38-45a4-a835-429f8721ae8b",
      "metadata": {
          "id": "b62a4352-cbee-48ed-8f49-9baf62dcb840"
      },
      "outputs": [],
      "source": [
        "%pip install https://pdftools-public-downloads-production.s3.eu-west-1.amazonaws.com/productkits/PDFSDK/latest/pdftools_sdk-latest.tar.gz\n",
        "%pip install ipython"
      ]
    },
    {
      "cell_type": "markdown",
      "id": "7cd057fc-dc4d-4c20-8b95-7dd8382064df",
      "metadata": {
          "id": "9e64d8a4-5975-4add-a8b2-9514216c98b4"
      },
      "source": [
        "# Convert image to PDF\n",
        "Convert an image to a PDF. The default settings for this\n",
        "conversion profile place each image on a separate A4\n",
        "portrait page with a 2 cm margin."
      ]
    },
    {
      "cell_type": "code",
      "execution_count": null,
      "id": "fd4cedf4-5b2f-4cc6-877a-a8361340c107",
      "metadata": {
          "id": "3403cde9-f7ad-4046-a2ef-077348fbaf0e"
      },
      "outputs": [],
      "source": [
        "import io\n",
        "from pdftools_sdk.image import Document\n",
        "from pdftools_sdk.image2_pdf import Converter\n",
        "from pdftools_sdk.image2_pdf.profiles import Default"
      ]
    },
    {
      "cell_type": "code",
      "execution_count": null,
      "id": "1578753e-cfb5-498c-bbb3-32a79b557e76",
      "metadata": {
          "id": "8bc590c5-208a-41d4-a6ef-8c41e1a16089"
      },
      "outputs": [],
      "source": [
        "# Download a file from a given URL and save it to the local system\n",
        "def prepare_file(url: str, path: str):\n",
        "    import requests\n",
        "    response = requests.get(url)\n",
        "    response.raise_for_status()\n",
        "\n",
        "    with open(path, 'wb') as f:\n",
        "        f.write(response.content)"
      ]
    },
    {
      "cell_type": "code",
      "execution_count": null,
      "id": "0bd78825-aafe-4eed-8d7d-fd171d617c01",
      "metadata": {
          "id": "8e4236d7-711a-4100-b95f-7549e5d85e7c"
      },
      "outputs": [],
      "source": [
        "# Set input arguments\n",
        "input_url = 'https://pdftools-public-downloads-production.s3.eu-west-1.amazonaws.com/samples/testfiles/ideas.tiff'\n",
        "input_path = 'ideas.tiff'\n",
        "prepare_file(input_url, input_path)\n",
        "output_path = 'Ideas.pdf'"
      ]
    },
    {
      "cell_type": "code",
      "execution_count": null,
      "id": "622113f0-621e-4790-990d-6d6994e56dc9",
      "metadata": {
          "id": "bbb66b47-fd78-4f24-9515-b25fa2dfcd88"
      },
      "outputs": [],
      "source": [
        "def convert_image_to_pdf(input_path: str, output_path: str):\n",
        "    # Open image document\n",
        "    with io.FileIO(input_path, 'rb') as in_stream:\n",
        "        with Document.open(in_stream) as input_document:\n",
        "\n",
        "            # Create the profile that defines the conversion parameters (Default profile)\n",
        "            profile = Default()\n",
        "\n",
        "            # Optionally, you can adjust the profile's parameters if needed\n",
        "\n",
        "            # Create output stream\n",
        "            with io.FileIO(output_path, 'wb+') as output_stream:\n",
        "\n",
        "                # Convert the image to a PDF document\n",
        "                converter = Converter()\n",
        "                converter.convert(input_document, output_stream, profile)"
      ]
    },
    {
      "cell_type": "code",
      "execution_count": null,
      "id": "3a7a3f6b-c681-49b2-be81-6db5d152da57",
      "metadata": {
          "id": "6e382190-c648-40a3-a983-eaf6fce27e17"
      },
      "outputs": [],
      "source": [
        "try:\n",
        "    # By default, a test license key is active. In this case, a watermark is added to the output. \n",
        "    # If you have a license key, please uncomment the following call and set the license key.\n",
        "    # from pdftools_sdk.sdk import Sdk\n",
        "    # Sdk.initialize(\"<PDFSDK,V1,MGAASQD6L2JMQHL54PK08RQX8GG4SS0M8DAHVPH0VMP3NB8R9DUK>\")\n",

        "\n",
        "    # Optional: Set your proxy configuration\n",
        "    # Sdk.set_proxy(\"http://myproxy:8080\")\n",
        "    \n",
        "    convert_image_to_pdf(input_path, output_path)\n",

        "\n",
        "    print(f\"Successfully created file {output_path}\")\n",

        "except Exception as e:\n",
        "    print(f\"An error occurred: {e}\")"
      ]
    }
  ],
  "metadata": {
    "kernelspec": {
      "display_name": "Python 3",
      "language": "python",
      "name": "python3"
    },
    "language_info": {
      "codemirror_mode": {
        "name": "ipython",
        "version": 3
      },
      "file_extension": ".py",
      "mimetype": "text/x-python",
      "name": "python",
      "nbconvert_exporter": "python",
      "pygments_lexer": "ipython3",
      "version": "3.12.8"
    },
    "colab": {
      "provenance": []
    }
  },
  "nbformat": 4,
  "nbformat_minor": 5
}