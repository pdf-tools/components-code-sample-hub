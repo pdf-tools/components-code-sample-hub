{
  "cells": [
    {
      "cell_type": "markdown",
      "id": "49e4d840-040e-4865-8f07-68adc7de6e99",
      "metadata": {
          "id": "6fc6d6ba-105c-4709-8d42-f2f86a61575b"
      },
      "source": [
        "[![Open In Colab](https://colab.research.google.com/assets/colab-badge.svg)](https://colab.research.google.com/github/pdf-tools/components-code-sample-hub/blob/main/jupyter/pdftools_sdk/pdftools_sdk_img2_pdf_default.ipynb)"
      ]
    },
    {
      "cell_type": "code",
      "execution_count": null,
      "id": "c949fd58-a572-476c-8ad6-84cffdd84f1f",
      "metadata": {
          "id": "2f6279aa-59e9-4039-b7dc-1e2004ae7926"
      },
      "outputs": [],
      "source": [
        "%pip install https://pdftools-public-downloads-production.s3.eu-west-1.amazonaws.com/productkits/PDFSDK/latest/pdftools_sdk-latest.tar.gz\n",
        "%pip install ipython"
      ]
    },
    {
      "cell_type": "markdown",
      "id": "201de6e9-db53-47b0-a91f-41c5e8eb611b",
      "metadata": {
          "id": "e984f8b6-05e2-4f40-80aa-3f3ccc160594"
      },
      "source": [
        "# Convert image to PDF\n",
        "Convert an image to a PDF. The default settings for this\n",
        "conversion profile place each image on a separate A4\n",
        "portrait page with a 2 cm margin."
      ]
    },
    {
      "cell_type": "code",
      "execution_count": null,
      "id": "81ce80c3-9c74-4ccd-84a2-76b31986d824",
      "metadata": {
          "id": "18692925-51b2-4eb4-85b6-013c947b7f05"
      },
      "outputs": [],
      "source": [
        "import io\n",
        "from pdftools_sdk.image import Document\n",
        "from pdftools_sdk.image2_pdf import Converter\n",
        "from pdftools_sdk.image2_pdf.profiles import Default"
      ]
    },
    {
      "cell_type": "code",
      "execution_count": null,
      "id": "018e909f-0283-4892-b29f-aff6c902b06e",
      "metadata": {
          "id": "fd8b99e9-9f4f-462a-b217-92b06a86b038"
      },
      "outputs": [],
      "source": [
        "# Download a file from a given URL and save it to the local system\n",
        "def prepare_file(url: str, path: str):\n",
        "    import requests\n",
        "    response = requests.get(url)\n",
        "    response.raise_for_status()\n",
        "\n",
        "    with open(path, 'wb') as f:\n",
        "        f.write(response.content)"
      ]
    },
    {
      "cell_type": "code",
      "execution_count": null,
      "id": "0b00d92e-e63f-4264-95e0-076b0f3b77e3",
      "metadata": {
          "id": "418ec762-0735-4953-b9ee-d8241c8d7cf3"
      },
      "outputs": [],
      "source": [
        "# Set input arguments\n",
        "input_url = 'https://pdftools-public-downloads-production.s3.eu-west-1.amazonaws.com/samples/testfiles/ideas.tiff'\n",
        "input_path = 'ideas.tiff'\n",
        "prepare_file(input_url, input_path)\n",
        "output_path = 'Ideas.pdf'"
      ]
    },
    {
      "cell_type": "code",
      "execution_count": null,
      "id": "9fa88b62-776f-401a-8a27-7d3df5ac5ad1",
      "metadata": {
          "id": "373da8b7-ccf8-4868-98de-d59a7a5227f2"
      },
      "outputs": [],
      "source": [
        "def convert_image_to_pdf(input_path: str, output_path: str):\n",
        "    # Open image document\n",
        "    with io.FileIO(input_path, 'rb') as in_stream:\n",
        "        with Document.open(in_stream) as input_document:\n",
        "\n",
        "            # Create the profile that defines the conversion parameters (Default profile)\n",
        "            profile = Default()\n",
        "\n",
        "            # Optionally, you can adjust the profile's parameters if needed\n",
        "\n",
        "            # Create output stream\n",
        "            with io.FileIO(output_path, 'wb+') as output_stream:\n",
        "\n",
        "                # Convert the image to a PDF document\n",
        "                converter = Converter()\n",
        "                converter.convert(input_document, output_stream, profile)"
      ]
    },
    {
      "cell_type": "code",
      "execution_count": null,
      "id": "5236a4dc-e5f0-41cc-9da4-beb51230d598",
      "metadata": {
          "id": "b0b376ec-79f0-4876-a578-70806ac67bff"
      },
      "outputs": [],
      "source": [
        "try:\n",
        "    # By default, a test license key is active. In this case, a watermark is added to the output. \n",
        "    # If you have a license key, please uncomment the following call and set the license key.\n",
        "    # from pdftools_sdk.sdk import Sdk\n",
        "    # Sdk.initialize(\"INSERT-LICENSE-KEY\")\n",

        "\n",
        "    # Optional: Set your proxy configuration\n",
        "    # Sdk.set_proxy(\"http://myproxy:8080\")\n",
        "    \n",
        "    convert_image_to_pdf(input_path, output_path)\n",

        "\n",
        "    print(f\"Successfully created file {output_path}\")\n",

        "except Exception as e:\n",
        "    print(f\"An error occurred: {e}\")"
      ]
    }
  ],
  "metadata": {
    "kernelspec": {
      "display_name": "Python 3",
      "language": "python",
      "name": "python3"
    },
    "language_info": {
      "codemirror_mode": {
        "name": "ipython",
        "version": 3
      },
      "file_extension": ".py",
      "mimetype": "text/x-python",
      "name": "python",
      "nbconvert_exporter": "python",
      "pygments_lexer": "ipython3",
      "version": "3.12.8"
    },
    "colab": {
      "provenance": []
    }
  },
  "nbformat": 4,
  "nbformat_minor": 5
}