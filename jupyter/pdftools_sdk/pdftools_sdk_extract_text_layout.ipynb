{
  "cells": [
    {
      "cell_type": "markdown",
      "id": "aac2c2f2-72f6-49f3-b9cc-5e0b5747a925",
      "metadata": {
          "id": "8b8f9d3b-3a46-4466-8721-2eed5313b793"
      },
      "source": [
        "[![Open In Colab](https://colab.research.google.com/assets/colab-badge.svg)](https://colab.research.google.com/github/pdf-tools/components-code-sample-hub/blob/main/jupyter/pdftools_sdk/pdftools_sdk_extract_text_layout.ipynb)"
      ]
    },
    {
      "cell_type": "code",
      "execution_count": null,
      "id": "5fbd7173-39f2-4586-815f-d38403b633d6",
      "metadata": {
          "id": "d42dab3f-b93e-4f08-9d06-06a34f0de550"
      },
      "outputs": [],
      "source": [
        "%pip install pdftools_sdk\n",
        "%pip install ipython"
      ]
    },
    {
      "cell_type": "markdown",
      "id": "4592acaa-a9fa-485b-9c33-35e9b21bbfa2",
      "metadata": {
          "id": "b613f5df-ac03-4a05-839a-5f73e7d48afc"
      },
      "source": [
        "# Extract text mimicing layout\n",
        "Extracting text from a PDF page by page into text files,\n",
        "preserving the original layout by adding whitespaces to\n",
        "the monospace text."
      ]
    },
    {
      "cell_type": "code",
      "execution_count": null,
      "id": "1a799fe1-ae60-49d0-a416-613ca4b5aa90",
      "metadata": {
          "id": "63a5405d-49e3-4940-a7bf-49241e4a7d0b"
      },
      "outputs": [],
      "source": [
        "import io\n",
        "import os\n",
        "from pdftools_sdk.pdf import Document\n",
        "from pdftools_sdk.extraction import Extractor, TextOptions, TextExtractionFormat"
      ]
    },
    {
      "cell_type": "code",
      "execution_count": null,
      "id": "67b8728f-2672-4794-a9d7-71870be3d047",
      "metadata": {
          "id": "37da7bba-c447-467d-a4bc-372c1c65d86b"
      },
      "outputs": [],
      "source": [
        "# Download a file from a given URL and save it to the local system\n",
        "def prepare_file(url: str, path: str):\n",
        "    import requests\n",
        "    response = requests.get(url)\n",
        "    response.raise_for_status()\n",
        "\n",
        "    with open(path, 'wb') as f:\n",
        "        f.write(response.content)"
      ]
    },
    {
      "cell_type": "code",
      "execution_count": null,
      "id": "f750f5ba-d38d-4120-9162-6ba33dc4f33b",
      "metadata": {
          "id": "09e0569b-5116-45d1-ba00-c6bad30400bd"
      },
      "outputs": [],
      "source": [
        "# Set input arguments\n",
        "input_url = 'https://pdftools-public-downloads-production.s3.eu-west-1.amazonaws.com/samples/testfiles/PdfPrimerWhitepaper.pdf'\n",
        "input_path = 'PdfPrimerWhitepaper.pdf'\n",
        "prepare_file(input_url, input_path)\n",
        "output_dir = 'extracted_text'"
      ]
    },
    {
      "cell_type": "code",
      "execution_count": null,
      "id": "873b0959-db01-4114-aaf2-d622d9acd093",
      "metadata": {
          "id": "4f53e988-863e-4647-a7a7-d652760f2dae"
      },
      "outputs": [],
      "source": [
        "def extract_text(input_file_path: str, output_directory: str):\n",
        "    # Open input document\n",
        "    with open(input_file_path, 'rb') as in_stream:\n",
        "        with Document.open(in_stream) as in_doc:\n",
        "            # Create directory if it doesn't exist\n",
        "            if not os.path.exists(output_directory):\n",
        "                os.makedirs(output_directory)\n",
        "\n",
        "            # Set extraction options\n",
        "            options = TextOptions()\n",
        "            options.extraction_format = TextExtractionFormat.MONOSPACE\n",
        "            options.advance_width = 9.2\n",
        "\n",
        "            # Extract text page by page\n",
        "            extractor = Extractor()\n",
        "            for i in range(in_doc.page_count):\n",
        "                output_file = os.path.join(output_directory, f\"page{i + 1}.txt\")\n",
        "                with open(output_file, 'wb') as out_stream:\n",
        "                    extractor.extract_text(in_doc, out_stream, options, i + 1, i + 1)"
      ]
    },
    {
      "cell_type": "code",
      "execution_count": null,
      "id": "a9427a78-82cf-4a2c-b324-797462d53f94",
      "metadata": {
          "id": "ceb5d0c0-fbbd-472a-9362-55027c1d67bb"
      },
      "outputs": [],
      "source": [
        "try:\n",
        "    # By default, a test license key is active. In this case, a watermark is added to the output. \n",
        "    # If you have a license key, please uncomment the following call and set the license key.\n",
        "    # from pdftools_sdk.sdk import Sdk\n",
        "    # Sdk.initialize(\"INSERT-LICENSE-KEY\")\n",

        "\n",
        "    extract_text(input_path, output_dir)\n",

        "\n",
        "    print(f\"Successfully extracted page-wise text from PDF to {output_dir}\")\n",

        "except Exception as e:\n",
        "    print(f\"An error occurred: {e}\")"
      ]
    }
  ],
  "metadata": {
    "kernelspec": {
      "display_name": "Python 3",
      "language": "python",
      "name": "python3"
    },
    "language_info": {
      "codemirror_mode": {
        "name": "ipython",
        "version": 3
      },
      "file_extension": ".py",
      "mimetype": "text/x-python",
      "name": "python",
      "nbconvert_exporter": "python",
      "pygments_lexer": "ipython3",
      "version": "3.12.8"
    },
    "colab": {
      "provenance": []
    }
  },
  "nbformat": 4,
  "nbformat_minor": 5
}