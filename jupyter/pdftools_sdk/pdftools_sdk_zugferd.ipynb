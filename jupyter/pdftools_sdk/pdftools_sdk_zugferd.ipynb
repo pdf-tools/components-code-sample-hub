{
  "cells": [
    {
      "cell_type": "markdown",
      "id": "92d755e9-8182-406f-9225-14bb71a80a2f",
      "metadata": {
          "id": "59282f9c-a821-4413-b183-c1c5ea17698c"
      },
      "source": [
        "[![Open In Colab](https://colab.research.google.com/assets/colab-badge.svg)](https://colab.research.google.com/github/pdf-tools/components-code-sample-hub/blob/main/jupyter/pdftools_sdk/pdftools_sdk_zugferd.ipynb)"
      ]
    },
    {
      "cell_type": "code",
      "execution_count": null,
      "id": "91b4ea28-b074-4df6-a1f2-45a1737824fa",
      "metadata": {
          "id": "8be0404a-cfc3-4dd7-9556-df107f1f266d"
      },
      "outputs": [],
      "source": [
        "%pip install pdftools_sdk\n",
        "%pip install ipython"
      ]
    },
    {
      "cell_type": "markdown",
      "id": "b54053ae-fb51-4cae-b693-bae359ba63d8",
      "metadata": {
          "id": "e03ac07a-945c-4c4a-abca-cb239c3f3e94"
      },
      "source": [
        "# Create a ZUGFeRD invoice\n",
        "Convert a PDF to PDF/A-3 and embed XML data to create a\n",
        "ZUGFeRD-compliant invoice."
      ]
    },
    {
      "cell_type": "code",
      "execution_count": null,
      "id": "b3f141f0-87d6-427f-b4e5-fb1d4dc26ad9",
      "metadata": {
          "id": "18f7e74e-92c5-402d-b6f8-ffc3a985d053"
      },
      "outputs": [],
      "source": [
        "import io\n",
        "from pdftools_sdk.pdf import Document, Conformance\n",
        "from pdftools_sdk.pdf_a.validation import Validator, AnalysisOptions\n",
        "from pdftools_sdk.pdf_a.conversion import Converter, InvoiceType, EventSeverity, EventCategory, EventCode"
      ]
    },
    {
      "cell_type": "code",
      "execution_count": null,
      "id": "e131939c-34fe-4d44-b8d0-49d3b4bd2529",
      "metadata": {
          "id": "f73fab7d-3274-433a-a16a-fe6b27573b65"
      },
      "outputs": [],
      "source": [
        "# Download a file from a given URL and save it to the local system\n",
        "def prepare_file(url: str, path: str):\n",
        "    import requests\n",
        "    response = requests.get(url)\n",
        "    response.raise_for_status()\n",
        "\n",
        "    with open(path, 'wb') as f:\n",
        "        f.write(response.content)"
      ]
    },
    {
      "cell_type": "code",
      "execution_count": null,
      "id": "568aea79-d7eb-4238-9b60-6bcb1251deb6",
      "metadata": {
          "id": "97758181-3d92-4a90-bea3-b0d8db0d8902"
      },
      "outputs": [],
      "source": [
        "# Set input arguments\n",
        "input_url = 'https://pdftools-public-downloads-production.s3.eu-west-1.amazonaws.com/samples/testfiles/InvoiceNone.pdf'\n",
        "input_path = 'InvoiceNone.pdf'\n",
        "prepare_file(input_url, input_path)\n",
        "zugferd_xml_url = 'https://pdftools-public-downloads-production.s3.eu-west-1.amazonaws.com/samples/testfiles/ZUGFeRD-invoice.xml'\n",
        "zugferd_xml_path = 'ZUGFeRD-invoice.xml'\n",
        "prepare_file(zugferd_xml_url, zugferd_xml_path)\n",
        "output_path = 'ZUGFeRDInvoice.pdf'"
      ]
    },
    {
      "cell_type": "code",
      "execution_count": null,
      "id": "b2860785-333a-4f47-94f6-ffeb8647b816",
      "metadata": {
          "id": "93936b81-ca68-4c63-ac34-2ce7f02211fa"
      },
      "outputs": [],
      "source": [
        "def add_zugferd_invoice(input_path: str, zugferd_xml_path: str, output_path: str):\n",
        "    # Open input document\n",
        "    with io.FileIO(input_path, 'rb') as input_stream:\n",
        "        with Document.open(input_stream) as input_document:\n",
        "            # Create the Validator object, and use the Conformance object to create\n",
        "            # an AnalysisOptions object that controls the behavior of the Validator.\n",
        "            validator = Validator()\n",
        "            # The conformance has to be set to PDF/A-3 when adding the XML invoice file\n",
        "            analysis_options = AnalysisOptions()\n",
        "            analysis_options.conformance = Conformance.PDF_A3_U\n",
        "\n",
        "            # Run the analysis\n",
        "            analysis_result = validator.analyze(input_document, analysis_options)\n",
        "\n",
        "            # Create a converter object\n",
        "            converter = Converter()\n",
        "\n",
        "            # Add the invoice XML file\n",
        "            with io.FileIO(zugferd_xml_path, 'rb') as invoice_stream:\n",
        "                converter.add_invoice_xml(InvoiceType.ZUGFERD, invoice_stream)\n",
        "\n",
        "                # Add handler for conversion events\n",
        "                event_severity_holder = [EventSeverity.INFORMATION]\n",
        "                converter.add_conversion_event_handler(lambda *args: handle_conversion_event(*args, event_severity_holder))\n",
        "\n",
        "                # Create output file\n",
        "                with io.FileIO(output_path, 'wb+') as output_stream:\n",
        "                    # Convert the input document to PDF/A\n",
        "                    with converter.convert(analysis_result, input_document, output_stream) as output_document:\n",
        "                        if event_severity_holder[0] == EventSeverity.INFORMATION:\n",
        "                            print(f\"Successfully converted document to {output_document.conformance.name}.\")\n",
        "                        elif event_severity_holder[0] == EventSeverity.WARNING:\n",
        "                            print(f\"Warnings occurred during the conversion to {output_document.conformance}.\")\n",
        "                            print(\"Check the output file to decide if the result is acceptable.\")\n",
        "                        elif event_severity_holder[0] == EventSeverity.ERROR:\n",
        "                            raise Exception(f\"Unable to convert document to PDF/A-3U because of critical conversion events.\")"
      ]
    },{
      "cell_type": "code",
      "execution_count": null,
      "id": "be0a1088-06b4-4104-b6ba-038ae1f97ace",
      "metadata": {
          "id": "743af034-fe8a-439a-9ab7-e0b6cd60b7f9"
      },
      "outputs": [],
      "source": [
        "def handle_conversion_event(data_part: str, message: str, severity: EventSeverity, category: EventCategory, code: EventCode, context: str, page_no: int, event_severity_holder: list[EventSeverity]):\n",
        "    # Optionally the suggested severity can be changed according to\n",
        "    # the requirements of your conversion process and, for example,\n",
        "    # the event's category (e.Category).\n",
        "\n",
        "    if severity > event_severity_holder[0]:\n",
        "        event_severity_holder[0] = severity\n",
        "\n",
        "    print(f\"- {severity.name} {category.name}: {message} ({context}{f' on page {page_no}' if page_no > 0 else ''})\")"
      ]
    },
    {
      "cell_type": "code",
      "execution_count": null,
      "id": "7e504605-00e6-4e00-ad72-7f97ec9de67b",
      "metadata": {
          "id": "2db5d41a-a67c-4ca8-90b7-c74973178a41"
      },
      "outputs": [],
      "source": [
        "try:\n",
        "    # By default, a test license key is active. In this case, a watermark is added to the output. \n",
        "    # If you have a license key, please uncomment the following call and set the license key.\n",
        "    # from pdftools_sdk.sdk import Sdk\n",
        "    # Sdk.initialize(\"INSERT-LICENSE-KEY\")\n",

        "\n",
        "    # Optional: Set your proxy configuration\n",
        "    # Sdk.set_proxy(\"http://myproxy:8080\")\n",
        "    \n",
        "    add_zugferd_invoice(input_path, zugferd_xml_path, output_path)\n",

        "\n",
        "    print(f\"Successfully created file {output_path}\")\n",

        "except Exception as e:\n",
        "    print(f\"An error occurred: {e}\")"
      ]
    }
  ],
  "metadata": {
    "kernelspec": {
      "display_name": "Python 3",
      "language": "python",
      "name": "python3"
    },
    "language_info": {
      "codemirror_mode": {
        "name": "ipython",
        "version": 3
      },
      "file_extension": ".py",
      "mimetype": "text/x-python",
      "name": "python",
      "nbconvert_exporter": "python",
      "pygments_lexer": "ipython3",
      "version": "3.12.8"
    },
    "colab": {
      "provenance": []
    }
  },
  "nbformat": 4,
  "nbformat_minor": 5
}