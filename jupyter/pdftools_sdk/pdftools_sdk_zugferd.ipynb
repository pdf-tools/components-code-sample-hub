{
  "cells": [
    {
      "cell_type": "markdown",
      "id": "f68b46fd-7026-47a4-aa2f-3dfadd73fa3c",
      "metadata": {
          "id": "fc324037-1015-482b-9da0-58dd868ea7b9"
      },
      "source": [
        "[![Open In Colab](https://colab.research.google.com/assets/colab-badge.svg)](https://colab.research.google.com/github/pdf-tools/components-code-sample-hub/blob/main/jupyter/pdftools_sdk/pdftools_sdk_zugferd.ipynb)"
      ]
    },
    {
      "cell_type": "code",
      "execution_count": null,
      "id": "32b01eef-98ab-441b-a8b0-7620ba4f96db",
      "metadata": {
          "id": "1b2e8c2c-fd3f-471e-885e-10c846e703df"
      },
      "outputs": [],
      "source": [
        "%pip install https://pdftools-public-downloads-production.s3.eu-west-1.amazonaws.com/productkits/PDFSDK/latest/pdftools_sdk-latest.tar.gz\n",
        "%pip install ipython"
      ]
    },
    {
      "cell_type": "markdown",
      "id": "d8bd0926-c4f3-42e0-a97e-0c8b0b59c85a",
      "metadata": {
          "id": "ba3815a4-13c2-4f3c-82ab-cafdbbf6b9b3"
      },
      "source": [
        "# Create a ZUGFeRD invoice\n",
        "Convert a PDF to PDF/A-3 and embed XML data to create a\n",
        "ZUGFeRD-compliant invoice."
      ]
    },
    {
      "cell_type": "code",
      "execution_count": null,
      "id": "a562db58-9d27-4330-81fc-665b80613905",
      "metadata": {
          "id": "89691db4-90e4-4cd9-a0f6-04226a427998"
      },
      "outputs": [],
      "source": [
        "import io\n",
        "from pdftools_sdk.pdf import Document, Conformance\n",
        "from pdftools_sdk.pdf_a.validation import Validator, AnalysisOptions\n",
        "from pdftools_sdk.pdf_a.conversion import Converter, InvoiceType, EventSeverity, EventCategory, EventCode"
      ]
    },
    {
      "cell_type": "code",
      "execution_count": null,
      "id": "569d97d3-1934-40dc-b84e-6794a020f3da",
      "metadata": {
          "id": "56574420-e7d2-485a-a92f-38cdebbb3b1c"
      },
      "outputs": [],
      "source": [
        "# Download a file from a given URL and save it to the local system\n",
        "def prepare_file(url: str, path: str):\n",
        "    import requests\n",
        "    response = requests.get(url)\n",
        "    response.raise_for_status()\n",
        "\n",
        "    with open(path, 'wb') as f:\n",
        "        f.write(response.content)"
      ]
    },
    {
      "cell_type": "code",
      "execution_count": null,
      "id": "65d5fb46-566f-41dd-bde2-ee40031d2aa2",
      "metadata": {
          "id": "456231ff-e525-41ef-956b-012602f97bff"
      },
      "outputs": [],
      "source": [
        "# Set input arguments\n",
        "input_url = 'https://pdftools-public-downloads-production.s3.eu-west-1.amazonaws.com/samples/testfiles/InvoiceNone.pdf'\n",
        "input_path = 'InvoiceNone.pdf'\n",
        "prepare_file(input_url, input_path)\n",
        "zugferd_xml_url = 'https://pdftools-public-downloads-production.s3.eu-west-1.amazonaws.com/samples/testfiles/ZUGFeRD-invoice.xml'\n",
        "zugferd_xml_path = 'ZUGFeRD-invoice.xml'\n",
        "prepare_file(zugferd_xml_url, zugferd_xml_path)\n",
        "output_path = 'ZUGFeRDInvoice.pdf'"
      ]
    },
    {
      "cell_type": "code",
      "execution_count": null,
      "id": "86b44064-9f82-4318-854c-54b34bd76100",
      "metadata": {
          "id": "a2a3dd03-7e65-446a-8ebb-0dc2a2a86a53"
      },
      "outputs": [],
      "source": [
        "def add_zugferd_invoice(input_path: str, zugferd_xml_path: str, output_path: str):\n",
        "    # Open input document\n",
        "    with io.FileIO(input_path, 'rb') as input_stream:\n",
        "        with Document.open(input_stream) as input_document:\n",
        "            # Create the Validator object, and use the Conformance object to create\n",
        "            # an AnalysisOptions object that controls the behavior of the Validator.\n",
        "            validator = Validator()\n",
        "            # The conformance has to be set to PDF/A-3 when adding the XML invoice file\n",
        "            analysis_options = AnalysisOptions()\n",
        "            analysis_options.conformance = Conformance.PDF_A3_U\n",
        "\n",
        "            # Run the analysis\n",
        "            analysis_result = validator.analyze(input_document, analysis_options)\n",
        "\n",
        "            # Create a converter object\n",
        "            converter = Converter()\n",
        "\n",
        "            # Add the invoice XML file\n",
        "            with io.FileIO(zugferd_xml_path, 'rb') as invoice_stream:\n",
        "                converter.add_invoice_xml(InvoiceType.ZUGFERD, invoice_stream)\n",
        "\n",
        "                # Add handler for conversion events\n",
        "                event_severity_holder = [EventSeverity.INFORMATION]\n",
        "                converter.add_conversion_event_handler(lambda *args: handle_conversion_event(*args, event_severity_holder))\n",
        "\n",
        "                # Create output file\n",
        "                with io.FileIO(output_path, 'wb+') as output_stream:\n",
        "                    # Convert the input document to PDF/A\n",
        "                    with converter.convert(analysis_result, input_document, output_stream) as output_document:\n",
        "                        if event_severity_holder[0] == EventSeverity.INFORMATION:\n",
        "                            print(f\"Successfully converted document to {output_document.conformance.name}.\")\n",
        "                        elif event_severity_holder[0] == EventSeverity.WARNING:\n",
        "                            print(f\"Warnings occurred during the conversion to {output_document.conformance}.\")\n",
        "                            print(\"Check the output file to decide if the result is acceptable.\")\n",
        "                        elif event_severity_holder[0] == EventSeverity.ERROR:\n",
        "                            raise Exception(f\"Unable to convert document to PDF/A-3U because of critical conversion events.\")"
      ]
    },
    {
      "cell_type": "code",
      "execution_count": null,
      "id": "66beff1f-4d13-44ba-9f81-ca30db2a0854",
      "metadata": {
          "id": "cb8eba64-70d8-4f1b-b382-ffdd7cef0a7f"
      },
      "outputs": [],
      "source": [
        "def handle_conversion_event(data_part: str, message: str, severity: EventSeverity, category: EventCategory, code: EventCode, context: str, page_no: int, event_severity_holder: list[EventSeverity]):\n",
        "    # Optionally the suggested severity can be changed according to\n",
        "    # the requirements of your conversion process and, for example,\n",
        "    # the event's category (e.Category).\n",
        "\n",
        "    if severity > event_severity_holder[0]:\n",
        "        event_severity_holder[0] = severity\n",
        "\n",
        "    print(f\"- {severity.name} {category.name}: {message} ({context}{f' on page {page_no}' if page_no > 0 else ''})\")"
      ]
    },
    {
      "cell_type": "code",
      "execution_count": null,
      "id": "f547bd55-26cd-4137-a3cf-f95a27656bb9",
      "metadata": {
          "id": "34d6c84d-d5a5-4698-8c16-fb48638ecf2c"
      },
      "outputs": [],
      "source": [
        "try:\n",
        "    # By default, a test license key is active. In this case, a watermark is added to the output. \n",
        "    # If you have a license key, please uncomment the following call and set the license key.\n",
        "    # from pdftools_sdk.sdk import Sdk\n",
        "    # Sdk.initialize(\"INSERT-LICENSE-KEY\")\n",

        "\n",
        "    # Optional: Set your proxy configuration\n",
        "    # Sdk.set_proxy(\"http://myproxy:8080\")\n",
        "    \n",
        "    add_zugferd_invoice(input_path, zugferd_xml_path, output_path)\n",

        "\n",
        "    print(f\"Successfully created file {output_path}\")\n",

        "except Exception as e:\n",
        "    print(f\"An error occurred: {e}\")"
      ]
    }
  ],
  "metadata": {
    "kernelspec": {
      "display_name": "Python 3",
      "language": "python",
      "name": "python3"
    },
    "language_info": {
      "codemirror_mode": {
        "name": "ipython",
        "version": 3
      },
      "file_extension": ".py",
      "mimetype": "text/x-python",
      "name": "python",
      "nbconvert_exporter": "python",
      "pygments_lexer": "ipython3",
      "version": "3.12.8"
    },
    "colab": {
      "provenance": []
    }
  },
  "nbformat": 4,
  "nbformat_minor": 5
}