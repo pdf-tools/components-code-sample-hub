{
  "cells": [
    {
      "cell_type": "markdown",
      "id": "f140fcb6-a306-4d2c-83a6-eccaff09e21d",
      "metadata": {
          "id": "a359fbb0-ddf6-40b3-8824-e8dbbad8b301"
      },
      "source": [
        "[![Open In Colab](https://colab.research.google.com/assets/colab-badge.svg)](https://colab.research.google.com/github/pdf-tools/components-code-sample-hub/blob/main/jupyter/pdftools_sdk/pdftools_sdk_zugferd.ipynb)"
      ]
    },
    {
      "cell_type": "code",
      "execution_count": null,
      "id": "1a9e3164-769c-4700-a082-ed526f1fd7e8",
      "metadata": {
          "id": "6332d44b-5c80-45c9-86cc-310152ffd66b"
      },
      "outputs": [],
      "source": [
        "%pip install https://pdftools-public-downloads-production.s3.eu-west-1.amazonaws.com/productkits/PDFSDK/latest/pdftools_sdk-latest.tar.gz\n",
        "%pip install ipython"
      ]
    },
    {
      "cell_type": "markdown",
      "id": "4976b42b-6e2e-4022-bd6e-942572e38de3",
      "metadata": {
          "id": "f0fe917a-1d91-4a7b-b4d1-5c56fdda5d40"
      },
      "source": [
        "# Create a ZUGFeRD invoice\n",
        "Convert a PDF to PDF/A-3 and embed XML data to create a\n",
        "ZUGFeRD-compliant invoice."
      ]
    },
    {
      "cell_type": "code",
      "execution_count": null,
      "id": "c5d5a7e0-af94-4689-9cde-f17ca02c40f4",
      "metadata": {
          "id": "3d498210-80b7-4ba9-93d0-41d2d2f23e72"
      },
      "outputs": [],
      "source": [
        "import io\n",
        "from pdftools_sdk.pdf import Document, Conformance\n",
        "from pdftools_sdk.pdf_a.validation import Validator, AnalysisOptions\n",
        "from pdftools_sdk.pdf_a.conversion import Converter, InvoiceType, EventSeverity, EventCategory, EventCode"
      ]
    },
    {
      "cell_type": "code",
      "execution_count": null,
      "id": "736f8b49-1e29-4838-8b0a-57159f756e92",
      "metadata": {
          "id": "8f904f69-0cfa-42c1-b720-1a08a626153f"
      },
      "outputs": [],
      "source": [
        "# Download a file from a given URL and save it to the local system\n",
        "def prepare_file(url: str, path: str):\n",
        "    import requests\n",
        "    response = requests.get(url)\n",
        "    response.raise_for_status()\n",
        "\n",
        "    with open(path, 'wb') as f:\n",
        "        f.write(response.content)"
      ]
    },
    {
      "cell_type": "code",
      "execution_count": null,
      "id": "f3693e3e-30ff-4b33-af1f-42f774211a9e",
      "metadata": {
          "id": "ad4f662d-ff5b-4f9a-bac4-e334375f7266"
      },
      "outputs": [],
      "source": [
        "# Set input arguments\n",
        "input_url = 'https://pdftools-public-downloads-production.s3.eu-west-1.amazonaws.com/samples/testfiles/InvoiceNone.pdf'\n",
        "input_path = 'InvoiceNone.pdf'\n",
        "prepare_file(input_url, input_path)\n",
        "zugferd_xml_url = 'https://pdftools-public-downloads-production.s3.eu-west-1.amazonaws.com/samples/testfiles/ZUGFeRD-invoice.xml'\n",
        "zugferd_xml_path = 'ZUGFeRD-invoice.xml'\n",
        "prepare_file(zugferd_xml_url, zugferd_xml_path)\n",
        "output_path = 'ZUGFeRDInvoice.pdf'"
      ]
    },
    {
      "cell_type": "code",
      "execution_count": null,
      "id": "9763c537-4c04-43d4-b3ef-4d1176d719c5",
      "metadata": {
          "id": "3ad0797a-ebba-4bc7-9f25-1552d635f5fd"
      },
      "outputs": [],
      "source": [
        "def add_zugferd_invoice(input_path: str, zugferd_xml_path: str, output_path: str):\n",
        "    # Open input document\n",
        "    with io.FileIO(input_path, 'rb') as input_stream:\n",
        "        with Document.open(input_stream) as input_document:\n",
        "            # Create the Validator object, and use the Conformance object to create\n",
        "            # an AnalysisOptions object that controls the behavior of the Validator.\n",
        "            validator = Validator()\n",
        "            # The conformance has to be set to PDF/A-3 when adding the XML invoice file\n",
        "            analysis_options = AnalysisOptions()\n",
        "            analysis_options.conformance = Conformance.PDF_A3_U\n",
        "\n",
        "            # Run the analysis\n",
        "            analysis_result = validator.analyze(input_document, analysis_options)\n",
        "\n",
        "            # Create a converter object\n",
        "            converter = Converter()\n",
        "\n",
        "            # Add the invoice XML file\n",
        "            with io.FileIO(zugferd_xml_path, 'rb') as invoice_stream:\n",
        "                converter.add_invoice_xml(InvoiceType.ZUGFERD, invoice_stream)\n",
        "\n",
        "                # Add handler for conversion events\n",
        "                event_severity_holder = [EventSeverity.INFORMATION]\n",
        "                converter.add_conversion_event_handler(lambda *args: handle_conversion_event(*args, event_severity_holder))\n",
        "\n",
        "                # Create output file\n",
        "                with io.FileIO(output_path, 'wb+') as output_stream:\n",
        "                    # Convert the input document to PDF/A\n",
        "                    with converter.convert(analysis_result, input_document, output_stream) as output_document:\n",
        "                        if event_severity_holder[0] == EventSeverity.INFORMATION:\n",
        "                            print(f\"Successfully converted document to {output_document.conformance.name}.\")\n",
        "                        elif event_severity_holder[0] == EventSeverity.WARNING:\n",
        "                            print(f\"Warnings occurred during the conversion to {output_document.conformance}.\")\n",
        "                            print(\"Check the output file to decide if the result is acceptable.\")\n",
        "                        elif event_severity_holder[0] == EventSeverity.ERROR:\n",
        "                            raise Exception(f\"Unable to convert document to PDF/A-3U because of critical conversion events.\")"
      ]
    },
    {
      "cell_type": "code",
      "execution_count": null,
      "id": "f88349b6-9bf1-4f05-93e3-26b375c57f6e",
      "metadata": {
          "id": "adfce0ef-4f90-4ce4-ae10-c756ebed1262"
      },
      "outputs": [],
      "source": [
        "def handle_conversion_event(data_part: str, message: str, severity: EventSeverity, category: EventCategory, code: EventCode, context: str, page_no: int, event_severity_holder: list[EventSeverity]):\n",
        "    # Optionally the suggested severity can be changed according to\n",
        "    # the requirements of your conversion process and, for example,\n",
        "    # the event's category (e.Category).\n",
        "\n",
        "    if severity > event_severity_holder[0]:\n",
        "        event_severity_holder[0] = severity\n",
        "\n",
        "    print(f\"- {severity.name} {category.name}: {message} ({context}{f' on page {page_no}' if page_no > 0 else ''})\")"
      ]
    },
    {
      "cell_type": "code",
      "execution_count": null,
      "id": "f301f6de-5622-4b67-a921-72cd9e3a4194",
      "metadata": {
          "id": "27b09f8c-0450-4e7c-aaad-78c787496c77"
      },
      "outputs": [],
      "source": [
        "try:\n",
        "    # By default, a test license key is active. In this case, a watermark is added to the output. \n",
        "    # If you have a license key, please uncomment the following call and set the license key.\n",
        "    # from pdftools_sdk.sdk import Sdk\n",
        "    # Sdk.initialize(\"INSERT-LICENSE-KEY\")\n",

        "\n",
        "    # Optional: Set your proxy configuration\n",
        "    # Sdk.set_proxy(\"http://myproxy:8080\")\n",
        "    \n",
        "    add_zugferd_invoice(input_path, zugferd_xml_path, output_path)\n",

        "\n",
        "    print(f\"Successfully created file {output_path}\")\n",

        "except Exception as e:\n",
        "    print(f\"An error occurred: {e}\")"
      ]
    }
  ],
  "metadata": {
    "kernelspec": {
      "display_name": "Python 3",
      "language": "python",
      "name": "python3"
    },
    "language_info": {
      "codemirror_mode": {
        "name": "ipython",
        "version": 3
      },
      "file_extension": ".py",
      "mimetype": "text/x-python",
      "name": "python",
      "nbconvert_exporter": "python",
      "pygments_lexer": "ipython3",
      "version": "3.12.8"
    },
    "colab": {
      "provenance": []
    }
  },
  "nbformat": 4,
  "nbformat_minor": 5
}