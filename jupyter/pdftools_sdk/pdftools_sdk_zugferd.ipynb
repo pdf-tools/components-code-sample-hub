{
  "cells": [
    {
      "cell_type": "markdown",
      "id": "ade66016-9751-47f3-a407-547765c73fa6",
      "metadata": {
          "id": "b1903f2e-8a15-45bb-a683-92c1cd55d00b"
      },
      "source": [
        "[![Open In Colab](https://colab.research.google.com/assets/colab-badge.svg)](https://colab.research.google.com/github/pdf-tools/components-code-sample-hub/blob/main/jupyter/pdftools_sdk/pdftools_sdk_zugferd.ipynb)"
      ]
    },
    {
      "cell_type": "code",
      "execution_count": null,
      "id": "8982565c-1e61-4b93-aae5-c04c865887c4",
      "metadata": {
          "id": "d1fa4104-806b-4082-93df-1bfd6d6b9d49"
      },
      "outputs": [],
      "source": [
        "%pip install https://pdftools-public-downloads-production.s3.eu-west-1.amazonaws.com/productkits/PDFSDK/latest/pdftools_sdk-latest.tar.gz\n",
        "%pip install ipython"
      ]
    },
    {
      "cell_type": "markdown",
      "id": "c94fb681-3239-4cd8-bfac-2d708dc186da",
      "metadata": {
          "id": "f052b391-7c86-4282-a689-99e1ce5b5ab8"
      },
      "source": [
        "# Create a ZUGFeRD invoice\n",
        "Convert a PDF to PDF/A-3 and embed XML data to create a\n",
        "ZUGFeRD-compliant invoice."
      ]
    },
    {
      "cell_type": "code",
      "execution_count": null,
      "id": "99a5da10-0cac-443a-b920-78744bbb1159",
      "metadata": {
          "id": "f24f41ed-b2bb-42cd-8427-0bb2cbdc22b4"
      },
      "outputs": [],
      "source": [
        "import io\n",
        "from pdftools_sdk.pdf import Document, Conformance\n",
        "from pdftools_sdk.pdf_a.validation import Validator, AnalysisOptions\n",
        "from pdftools_sdk.pdf_a.conversion import Converter, InvoiceType, EventSeverity, EventCategory, EventCode"
      ]
    },
    {
      "cell_type": "code",
      "execution_count": null,
      "id": "3a880b66-f193-416a-8335-1e84117271b4",
      "metadata": {
          "id": "f9f0d21f-35f8-4ef0-b937-6f610c6688a6"
      },
      "outputs": [],
      "source": [
        "# Download a file from a given URL and save it to the local system\n",
        "def prepare_file(url: str, path: str):\n",
        "    import requests\n",
        "    response = requests.get(url)\n",
        "    response.raise_for_status()\n",
        "\n",
        "    with open(path, 'wb') as f:\n",
        "        f.write(response.content)"
      ]
    },
    {
      "cell_type": "code",
      "execution_count": null,
      "id": "98df8c4d-9090-4ccc-a8b0-de5eaa484a41",
      "metadata": {
          "id": "8c939288-5a3e-432f-804a-524e87aa5b68"
      },
      "outputs": [],
      "source": [
        "# Set input arguments\n",
        "input_url = 'https://pdftools-public-downloads-production.s3.eu-west-1.amazonaws.com/samples/testfiles/InvoiceNone.pdf'\n",
        "input_path = 'InvoiceNone.pdf'\n",
        "prepare_file(input_url, input_path)\n",
        "zugferd_xml_url = 'https://pdftools-public-downloads-production.s3.eu-west-1.amazonaws.com/samples/testfiles/ZUGFeRD-invoice.xml'\n",
        "zugferd_xml_path = 'ZUGFeRD-invoice.xml'\n",
        "prepare_file(zugferd_xml_url, zugferd_xml_path)\n",
        "output_path = 'ZUGFeRDInvoice.pdf'"
      ]
    },
    {
      "cell_type": "code",
      "execution_count": null,
      "id": "27a4bce1-13d7-417b-8728-dcda52c27e06",
      "metadata": {
          "id": "0b32aebc-0461-4a7d-b2a6-4a1c6dec6a8d"
      },
      "outputs": [],
      "source": [
        "def add_zugferd_invoice(input_path: str, zugferd_xml_path: str, output_path: str):\n",
        "    # Open input document\n",
        "    with io.FileIO(input_path, 'rb') as input_stream:\n",
        "        with Document.open(input_stream) as input_document:\n",
        "            # Create the Validator object, and use the Conformance object to create\n",
        "            # an AnalysisOptions object that controls the behavior of the Validator.\n",
        "            validator = Validator()\n",
        "            # The conformance has to be set to PDF/A-3 when adding the XML invoice file\n",
        "            analysis_options = AnalysisOptions()\n",
        "            analysis_options.conformance = Conformance.PDF_A3_U\n",
        "\n",
        "            # Run the analysis\n",
        "            analysis_result = validator.analyze(input_document, analysis_options)\n",
        "\n",
        "            # Create a converter object\n",
        "            converter = Converter()\n",
        "\n",
        "            # Add the invoice XML file\n",
        "            with io.FileIO(zugferd_xml_path, 'rb') as invoice_stream:\n",
        "                converter.add_invoice_xml(InvoiceType.ZUGFERD, invoice_stream)\n",
        "\n",
        "                # Add handler for conversion events\n",
        "                event_severity_holder = [EventSeverity.INFORMATION]\n",
        "                converter.add_conversion_event_handler(lambda *args: handle_conversion_event(*args, event_severity_holder))\n",
        "\n",
        "                # Create output file\n",
        "                with io.FileIO(output_path, 'wb+') as output_stream:\n",
        "                    # Convert the input document to PDF/A\n",
        "                    with converter.convert(analysis_result, input_document, output_stream) as output_document:\n",
        "                        if event_severity_holder[0] == EventSeverity.INFORMATION:\n",
        "                            print(f\"Successfully converted document to {output_document.conformance.name}.\")\n",
        "                        elif event_severity_holder[0] == EventSeverity.WARNING:\n",
        "                            print(f\"Warnings occurred during the conversion to {output_document.conformance}.\")\n",
        "                            print(\"Check the output file to decide if the result is acceptable.\")\n",
        "                        elif event_severity_holder[0] == EventSeverity.ERROR:\n",
        "                            raise Exception(f\"Unable to convert document to PDF/A-3U because of critical conversion events.\")"
      ]
    },
    {
      "cell_type": "code",
      "execution_count": null,
      "id": "7492e36e-1ee5-4361-ae19-ce3c61d5bdae",
      "metadata": {
          "id": "a6667345-791d-4bf7-8aea-0ab282a99d54"
      },
      "outputs": [],
      "source": [
        "def handle_conversion_event(data_part: str, message: str, severity: EventSeverity, category: EventCategory, code: EventCode, context: str, page_no: int, event_severity_holder: list[EventSeverity]):\n",
        "    # Optionally the suggested severity can be changed according to\n",
        "    # the requirements of your conversion process and, for example,\n",
        "    # the event's category (e.Category).\n",
        "\n",
        "    if severity > event_severity_holder[0]:\n",
        "        event_severity_holder[0] = severity\n",
        "\n",
        "    print(f\"- {severity.name} {category.name}: {message} ({context}{f' on page {page_no}' if page_no > 0 else ''})\")"
      ]
    },
    {
      "cell_type": "code",
      "execution_count": null,
      "id": "e4c39728-5725-4c8a-9e24-a7b2723db7bd",
      "metadata": {
          "id": "1bdb55e7-dea2-40f5-b5b3-c726aae0b3f4"
      },
      "outputs": [],
      "source": [
        "try:\n",
        "    # By default, a test license key is active. In this case, a watermark is added to the output. \n",
        "    # If you have a license key, please uncomment the following call and set the license key.\n",
        "    # from pdftools_sdk.sdk import Sdk\n",
        "    # Sdk.initialize(\"<PDFSDK,V1,MGAASQD6L2JMQHL54PK08RQX8GG4SS0M8DAHVPH0VMP3NB8R9DUK>\")\n",

        "\n",
        "    # Optional: Set your proxy configuration\n",
        "    # Sdk.set_proxy(\"http://myproxy:8080\")\n",
        "    \n",
        "    add_zugferd_invoice(input_path, zugferd_xml_path, output_path)\n",

        "\n",
        "    print(f\"Successfully created file {output_path}\")\n",

        "except Exception as e:\n",
        "    print(f\"An error occurred: {e}\")"
      ]
    }
  ],
  "metadata": {
    "kernelspec": {
      "display_name": "Python 3",
      "language": "python",
      "name": "python3"
    },
    "language_info": {
      "codemirror_mode": {
        "name": "ipython",
        "version": 3
      },
      "file_extension": ".py",
      "mimetype": "text/x-python",
      "name": "python",
      "nbconvert_exporter": "python",
      "pygments_lexer": "ipython3",
      "version": "3.12.8"
    },
    "colab": {
      "provenance": []
    }
  },
  "nbformat": 4,
  "nbformat_minor": 5
}