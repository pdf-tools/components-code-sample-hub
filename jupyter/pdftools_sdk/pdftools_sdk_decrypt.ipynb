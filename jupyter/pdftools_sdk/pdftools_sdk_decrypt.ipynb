{
  "cells": [
    {
      "cell_type": "markdown",
      "id": "ce688eb3-f1e0-43e5-a3fe-cee4ac41f819",
      "metadata": {
          "id": "f8aa0ef8-28c1-4a5c-9d84-e2c47533767b"
      },
      "source": [
        "[![Open In Colab](https://colab.research.google.com/assets/colab-badge.svg)](https://colab.research.google.com/github/pdf-tools/components-code-sample-hub/blob/main/jupyter/pdftools_sdk/pdftools_sdk_decrypt.ipynb)"
      ]
    },
    {
      "cell_type": "code",
      "execution_count": null,
      "id": "a79663de-0925-4f54-96c6-fd62fd851c07",
      "metadata": {
          "id": "d2d5fa7f-3491-4a2f-9e77-5ae233433246"
      },
      "outputs": [],
      "source": [
        "%pip install https://pdftools-public-downloads-production.s3.eu-west-1.amazonaws.com/productkits/PDFSDK/latest/pdftools_sdk-latest.tar.gz\n",
        "%pip install ipython"
      ]
    },
    {
      "cell_type": "markdown",
      "id": "fca9e9d5-e96c-44b3-ab42-3b212841ef18",
      "metadata": {
          "id": "c9e1ebe0-0a48-431a-b62d-7e8e28864c4f"
      },
      "source": [
        "# Decrypt an encrypted PDF\n",
        "Remove encryption from a PDF."
      ]
    },
    {
      "cell_type": "code",
      "execution_count": null,
      "id": "a91c3b1f-e4e6-4af3-ac2b-05c5ea1bbe35",
      "metadata": {
          "id": "6e3b4baf-3172-4f86-aadf-1b2d808da183"
      },
      "outputs": [],
      "source": [
        "import io\n",
        "from pdftools_sdk.pdf import Document\n",
        "from pdftools_sdk.sign import OutputOptions as SignOutputOptions, SignatureRemoval, Signer"
      ]
    },
    {
      "cell_type": "code",
      "execution_count": null,
      "id": "ead40b8b-16df-40c4-9467-703f46296aee",
      "metadata": {
          "id": "91b1992b-3b3c-4854-a2ab-e342e55f9be7"
      },
      "outputs": [],
      "source": [
        "# Download a file from a given URL and save it to the local system\n",
        "def prepare_file(url: str, path: str):\n",
        "    import requests\n",
        "    response = requests.get(url)\n",
        "    response.raise_for_status()\n",
        "\n",
        "    with open(path, 'wb') as f:\n",
        "        f.write(response.content)"
      ]
    },
    {
      "cell_type": "code",
      "execution_count": null,
      "id": "ca40f981-0351-4d2b-acc2-aa86da3cbc24",
      "metadata": {
          "id": "c9e0fc34-8da4-401b-b180-5d4acb282e3f"
      },
      "outputs": [],
      "source": [
        "# Set input arguments\n",
        "password = 'pdftools'\n",
        "input_url = 'https://pdftools-public-downloads-production.s3.eu-west-1.amazonaws.com/samples/testfiles/InvoiceEncrypted(pwd_pdftools).pdf'\n",
        "input_path = 'InvoiceEncrypted(pwd_pdftools).pdf'\n",
        "prepare_file(input_url, input_path)\n",
        "output_path = 'Decrypted.pdf'"
      ]
    },
    {
      "cell_type": "code",
      "execution_count": null,
      "id": "071ebd0c-a6f1-47bb-8dd9-c17c7c017351",
      "metadata": {
          "id": "14d6ccbe-82eb-4b94-848a-f3c12b0aba2d"
      },
      "outputs": [],
      "source": [
        "def decrypt(password, input_path, output_path):\n",
        "    # Use password to open encrypted input document\n",
        "    with io.FileIO(input_path, 'rb') as in_stream:\n",
        "        with Document.open(in_stream, password) as input_document:\n",
        "            if input_document.permissions == None:\n",
        "                print(f\"Input file is not encrypted.\")\n",
        "                return\n",
        "\n",
        "            # Create stream for output file\n",
        "            with io.FileIO(output_path, 'wb+') as output_stream:\n",
        "                # Set encryption options\n",
        "                output_options = SignOutputOptions()\n",
        "                # Set encryption parameters to no encryption\n",
        "                output_options.encryption = None\n",
        "                # Allow removal of signatures. Otherwise the Encryption property is ignored for signed input documents\n",
        "                # (see warning category Sign.WarningCategory.SignedDocEncryptionUnchanged).\n",
        "                output_options.remove_signatures = SignatureRemoval.SIGNED\n",
        "\n",
        "                # Decrypt the document\n",
        "                signer = Signer()\n",
        "                signer.process(input_document, output_stream, output_options)"
      ]
    },
    {
      "cell_type": "code",
      "execution_count": null,
      "id": "d2fc98dc-2558-4987-9ca9-50699978e8ff",
      "metadata": {
          "id": "e53cc61c-95e6-4b53-af24-09419ffafe2f"
      },
      "outputs": [],
      "source": [
        "try:\n",
        "    # By default, a test license key is active. In this case, a watermark is added to the output. \n",
        "    # If you have a license key, please uncomment the following call and set the license key.\n",
        "    # from pdftools_sdk.sdk import Sdk\n",
        "    # Sdk.initialize(\"<PDFSDK,V1,MGAASQD6L2JMQHL54PK08RQX8GG4SS0M8DAHVPH0VMP3NB8R9DUK>\")\n",

        "\n",
        "    # Decrypt a PDF document\n",
        "    decrypt(password, input_path, output_path)\n",

        "\n",
        "    print(f\"Successfully created decrypted {output_path}\")\n",

        "except Exception as e:\n",
        "    print(f\"An error occurred: {e}\")"
      ]
    }
  ],
  "metadata": {
    "kernelspec": {
      "display_name": "Python 3",
      "language": "python",
      "name": "python3"
    },
    "language_info": {
      "codemirror_mode": {
        "name": "ipython",
        "version": 3
      },
      "file_extension": ".py",
      "mimetype": "text/x-python",
      "name": "python",
      "nbconvert_exporter": "python",
      "pygments_lexer": "ipython3",
      "version": "3.12.8"
    },
    "colab": {
      "provenance": []
    }
  },
  "nbformat": 4,
  "nbformat_minor": 5
}