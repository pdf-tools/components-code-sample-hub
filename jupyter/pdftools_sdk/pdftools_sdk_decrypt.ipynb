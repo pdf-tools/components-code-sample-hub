{
  "cells": [
    {
      "cell_type": "markdown",
      "id": "c4b614e5-711d-4b28-b7bb-a952a22f129f",
      "metadata": {
          "id": "e299f6bd-7472-4233-a955-a0e78a6f1915"
      },
      "source": [
        "[![Open In Colab](https://colab.research.google.com/assets/colab-badge.svg)](https://colab.research.google.com/github/pdf-tools/components-code-sample-hub/blob/main/jupyter/pdftools_sdk/pdftools_sdk_decrypt.ipynb)"
      ]
    },
    {
      "cell_type": "code",
      "execution_count": null,
      "id": "21f08c89-9cb7-4c54-8bcc-fc25844dc8a7",
      "metadata": {
          "id": "97098e82-b973-4b62-a403-a2b9453f6db6"
      },
      "outputs": [],
      "source": [
        "%pip install pdftools_sdk\n",
        "%pip install ipython"
      ]
    },
    {
      "cell_type": "markdown",
      "id": "f5d8f4c9-4128-45a0-8477-9d81f6736770",
      "metadata": {
          "id": "7f2af0e5-117f-4c2c-8cf1-7818bab583ed"
      },
      "source": [
        "# Decrypt an encrypted PDF\n",
        "Remove encryption from a PDF."
      ]
    },
    {
      "cell_type": "code",
      "execution_count": null,
      "id": "a10846c7-ce24-4d4f-a2b4-4bc96c897312",
      "metadata": {
          "id": "fa9c1093-0b5a-4bcc-baf7-483e6de632c2"
      },
      "outputs": [],
      "source": [
        "import io\n",
        "from pdftools_sdk.pdf import Document\n",
        "from pdftools_sdk.sign import OutputOptions as SignOutputOptions, SignatureRemoval, Signer"
      ]
    },
    {
      "cell_type": "code",
      "execution_count": null,
      "id": "3c0c2dbd-6479-4762-aacf-e7c89b42f5b7",
      "metadata": {
          "id": "b480011f-6021-45a3-9a6d-6e2d52d91b8d"
      },
      "outputs": [],
      "source": [
        "# Download a file from a given URL and save it to the local system\n",
        "def prepare_file(url: str, path: str):\n",
        "    import requests\n",
        "    response = requests.get(url)\n",
        "    response.raise_for_status()\n",
        "\n",
        "    with open(path, 'wb') as f:\n",
        "        f.write(response.content)"
      ]
    },
    {
      "cell_type": "code",
      "execution_count": null,
      "id": "7cf6fef8-2452-4177-9a21-39a40ec37ca1",
      "metadata": {
          "id": "ee3b23ab-55b9-41b2-aeff-7dcb577ac30f"
      },
      "outputs": [],
      "source": [
        "# Set input arguments\n",
        "password = 'pdftools'\n",
        "input_url = 'https://pdftools-public-downloads-production.s3.eu-west-1.amazonaws.com/samples/testfiles/InvoiceEncrypted(pwd_pdftools).pdf'\n",
        "input_path = 'InvoiceEncrypted(pwd_pdftools).pdf'\n",
        "prepare_file(input_url, input_path)\n",
        "output_path = 'Decrypted.pdf'"
      ]
    },
    {
      "cell_type": "code",
      "execution_count": null,
      "id": "331eb899-9d84-48b4-ba13-705d1e610162",
      "metadata": {
          "id": "3982674c-7c61-451b-9516-34ccac074c16"
      },
      "outputs": [],
      "source": [
        "def decrypt(password, input_path, output_path):\n",
        "    # Use password to open encrypted input document\n",
        "    with io.FileIO(input_path, 'rb') as in_stream:\n",
        "        with Document.open(in_stream, password) as input_document:\n",
        "            if input_document.permissions == None:\n",
        "                print(f\"Input file is not encrypted.\")\n",
        "                return\n",
        "\n",
        "            # Create stream for output file\n",
        "            with io.FileIO(output_path, 'wb+') as output_stream:\n",
        "                # Set encryption options\n",
        "                output_options = SignOutputOptions()\n",
        "                # Set encryption parameters to no encryption\n",
        "                output_options.encryption = None\n",
        "                # Allow removal of signatures. Otherwise the Encryption property is ignored for signed input documents\n",
        "                # (see warning category Sign.WarningCategory.SignedDocEncryptionUnchanged).\n",
        "                output_options.remove_signatures = SignatureRemoval.SIGNED\n",
        "\n",
        "                # Decrypt the document\n",
        "                signer = Signer()\n",
        "                signer.process(input_document, output_stream, output_options)"
      ]
    },
    {
      "cell_type": "code",
      "execution_count": null,
      "id": "99c0b116-d76e-41d7-baf6-6171bc364988",
      "metadata": {
          "id": "edcefdae-867a-4ce5-ba3e-cf5b78a4db58"
      },
      "outputs": [],
      "source": [
        "try:\n",
        "    # By default, a test license key is active. In this case, a watermark is added to the output. \n",
        "    # If you have a license key, please uncomment the following call and set the license key.\n",
        "    # from pdftools_sdk.sdk import Sdk\n",
        "    # Sdk.initialize(\"INSERT-LICENSE-KEY\")\n",

        "\n",
        "    # Decrypt a PDF document\n",
        "    decrypt(password, input_path, output_path)\n",

        "\n",
        "    print(f\"Successfully created decrypted {output_path}\")\n",

        "except Exception as e:\n",
        "    print(f\"An error occurred: {e}\")"
      ]
    }
  ],
  "metadata": {
    "kernelspec": {
      "display_name": "Python 3",
      "language": "python",
      "name": "python3"
    },
    "language_info": {
      "codemirror_mode": {
        "name": "ipython",
        "version": 3
      },
      "file_extension": ".py",
      "mimetype": "text/x-python",
      "name": "python",
      "nbconvert_exporter": "python",
      "pygments_lexer": "ipython3",
      "version": "3.12.8"
    },
    "colab": {
      "provenance": []
    }
  },
  "nbformat": 4,
  "nbformat_minor": 5
}