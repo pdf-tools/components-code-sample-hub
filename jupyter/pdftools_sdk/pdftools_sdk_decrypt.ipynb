{
  "cells": [
    {
      "cell_type": "markdown",
      "id": "da43730c-f38b-4dd2-872a-08a16254903b",
      "metadata": {
          "id": "09dca383-4d29-4bb7-80d6-33f622bd2298"
      },
      "source": [
        "[![Open In Colab](https://colab.research.google.com/assets/colab-badge.svg)](https://colab.research.google.com/github/pdf-tools/components-code-sample-hub/blob/main/jupyter/pdftools_sdk/pdftools_sdk_decrypt.ipynb)"
      ]
    },
    {
      "cell_type": "code",
      "execution_count": null,
      "id": "ff670e07-cc63-4cda-871e-c1eb8dbd4aef",
      "metadata": {
          "id": "ba4fedcd-f546-48cd-928f-bac94368f756"
      },
      "outputs": [],
      "source": [
        "%pip install https://pdftools-public-downloads-production.s3.eu-west-1.amazonaws.com/productkits/PDFSDK/latest/pdftools_sdk-latest.tar.gz\n",
        "%pip install ipython"
      ]
    },
    {
      "cell_type": "markdown",
      "id": "52f818b1-0281-4cb0-ad4f-5454a3ed694f",
      "metadata": {
          "id": "aa1d3c6d-fb4c-474a-a079-95d47710358f"
      },
      "source": [
        "# Decrypt an encrypted PDF\n",
        "Remove encryption from a PDF."
      ]
    },
    {
      "cell_type": "code",
      "execution_count": null,
      "id": "8abf391b-962b-43a4-a406-ecfcfe6eff8a",
      "metadata": {
          "id": "79fe227f-278d-44d3-bcd5-b3e0642e0a8e"
      },
      "outputs": [],
      "source": [
        "import io\n",
        "from pdftools_sdk.pdf import Document\n",
        "from pdftools_sdk.sign import OutputOptions as SignOutputOptions, SignatureRemoval, Signer"
      ]
    },
    {
      "cell_type": "code",
      "execution_count": null,
      "id": "c50c86d5-6e6d-4f35-96f9-0b6bde74c633",
      "metadata": {
          "id": "f419d1a8-2ce4-4c1c-8f6b-88ae3acd187a"
      },
      "outputs": [],
      "source": [
        "# Download a file from a given URL and save it to the local system\n",
        "def prepare_file(url: str, path: str):\n",
        "    import requests\n",
        "    response = requests.get(url)\n",
        "    response.raise_for_status()\n",
        "\n",
        "    with open(path, 'wb') as f:\n",
        "        f.write(response.content)"
      ]
    },
    {
      "cell_type": "code",
      "execution_count": null,
      "id": "12ace190-c530-4c99-8352-78d945693cb9",
      "metadata": {
          "id": "2a783d7a-0909-44c7-88d4-a86b630f428e"
      },
      "outputs": [],
      "source": [
        "# Set input arguments\n",
        "password = 'pdftools'\n",
        "input_url = 'https://pdftools-public-downloads-production.s3.eu-west-1.amazonaws.com/samples/testfiles/InvoiceEncrypted(pwd_pdftools).pdf'\n",
        "input_path = 'InvoiceEncrypted(pwd_pdftools).pdf'\n",
        "prepare_file(input_url, input_path)\n",
        "output_path = 'Decrypted.pdf'"
      ]
    },
    {
      "cell_type": "code",
      "execution_count": null,
      "id": "f1f15a7c-7b53-40f9-a805-f551d007da42",
      "metadata": {
          "id": "823e90b7-d8d4-4bbb-b0ef-0453bc2a7fe2"
      },
      "outputs": [],
      "source": [
        "def decrypt(password, input_path, output_path):\n",
        "    # Use password to open encrypted input document\n",
        "    with io.FileIO(input_path, 'rb') as in_stream:\n",
        "        with Document.open(in_stream, password) as input_document:\n",
        "            if input_document.permissions == None:\n",
        "                print(f\"Input file is not encrypted.\")\n",
        "                return\n",
        "\n",
        "            # Create stream for output file\n",
        "            with io.FileIO(output_path, 'wb+') as output_stream:\n",
        "                # Set encryption options\n",
        "                output_options = SignOutputOptions()\n",
        "                # Set encryption parameters to no encryption\n",
        "                output_options.encryption = None\n",
        "                # Allow removal of signatures. Otherwise the Encryption property is ignored for signed input documents\n",
        "                # (see warning category Sign.WarningCategory.SignedDocEncryptionUnchanged).\n",
        "                output_options.remove_signatures = SignatureRemoval.SIGNED\n",
        "\n",
        "                # Decrypt the document\n",
        "                signer = Signer()\n",
        "                signer.process(input_document, output_stream, output_options)"
      ]
    },
    {
      "cell_type": "code",
      "execution_count": null,
      "id": "0f84616d-9498-4dee-b70c-1bb55cc081c1",
      "metadata": {
          "id": "f4741d45-59ab-4aa6-a087-8a24bba9b2ea"
      },
      "outputs": [],
      "source": [
        "try:\n",
        "    # By default, a test license key is active. In this case, a watermark is added to the output. \n",
        "    # If you have a license key, please uncomment the following call and set the license key.\n",
        "    # from pdftools_sdk.sdk import Sdk\n",
        "    # Sdk.initialize(\"INSERT-LICENSE-KEY\")\n",

        "\n",
        "    # Decrypt a PDF document\n",
        "    decrypt(password, input_path, output_path)\n",

        "\n",
        "    print(f\"Successfully created decrypted {output_path}\")\n",

        "except Exception as e:\n",
        "    print(f\"An error occurred: {e}\")"
      ]
    }
  ],
  "metadata": {
    "kernelspec": {
      "display_name": "Python 3",
      "language": "python",
      "name": "python3"
    },
    "language_info": {
      "codemirror_mode": {
        "name": "ipython",
        "version": 3
      },
      "file_extension": ".py",
      "mimetype": "text/x-python",
      "name": "python",
      "nbconvert_exporter": "python",
      "pygments_lexer": "ipython3",
      "version": "3.12.8"
    },
    "colab": {
      "provenance": []
    }
  },
  "nbformat": 4,
  "nbformat_minor": 5
}