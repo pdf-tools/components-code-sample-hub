{
  "cells": [
    {
      "cell_type": "markdown",
      "id": "c4e63816-6b08-4740-9d93-55baa0561734",
      "metadata": {
          "id": "074b9e52-f71d-43c8-abd5-1a9eed3a2487"
      },
      "source": [
        "[![Open In Colab](https://colab.research.google.com/assets/colab-badge.svg)](https://colab.research.google.com/github/pdf-tools/components-code-sample-hub/blob/main/jupyter/pdftools_sdk/pdftools_sdk_decrypt.ipynb)"
      ]
    },
    {
      "cell_type": "code",
      "execution_count": null,
      "id": "63067435-d5cc-4d67-9d0b-7ce3630fe786",
      "metadata": {
          "id": "78917583-363d-4216-ad3d-06eae26978a6"
      },
      "outputs": [],
      "source": [
        "%pip install https://pdftools-public-downloads-production.s3.eu-west-1.amazonaws.com/productkits/PDFSDK/latest/pdftools_sdk-latest.tar.gz\n",
        "%pip install ipython"
      ]
    },
    {
      "cell_type": "markdown",
      "id": "99ee581f-7dc8-47c1-a73f-6a8ec033ab74",
      "metadata": {
          "id": "6e76b368-3866-46af-b0e5-44dd49bc25f3"
      },
      "source": [
        "# Decrypt an encrypted PDF\n",
        "Remove encryption from a PDF."
      ]
    },
    {
      "cell_type": "code",
      "execution_count": null,
      "id": "ca8d6344-d3df-4713-8501-03ba77fe92fb",
      "metadata": {
          "id": "37bd0581-3bfd-48be-af16-ccb6ef01f01b"
      },
      "outputs": [],
      "source": [
        "import io\n",
        "from pdftools_sdk.pdf import Document\n",
        "from pdftools_sdk.sign import OutputOptions as SignOutputOptions, SignatureRemoval, Signer"
      ]
    },
    {
      "cell_type": "code",
      "execution_count": null,
      "id": "f494b2b4-12f6-462b-9fb5-22aaebfb181a",
      "metadata": {
          "id": "904f2659-e61b-4f05-b5fb-575100406526"
      },
      "outputs": [],
      "source": [
        "# Download a file from a given URL and save it to the local system\n",
        "def prepare_file(url: str, path: str):\n",
        "    import requests\n",
        "    response = requests.get(url)\n",
        "    response.raise_for_status()\n",
        "\n",
        "    with open(path, 'wb') as f:\n",
        "        f.write(response.content)"
      ]
    },
    {
      "cell_type": "code",
      "execution_count": null,
      "id": "7c237ce4-7935-4d19-87c6-c147e81cb73c",
      "metadata": {
          "id": "a56058de-4c8b-48a3-b91d-dfbc8acbfd01"
      },
      "outputs": [],
      "source": [
        "# Set input arguments\n",
        "password = 'pdftools'\n",
        "input_url = 'https://pdftools-public-downloads-production.s3.eu-west-1.amazonaws.com/samples/testfiles/InvoiceEncrypted(pwd_pdftools).pdf'\n",
        "input_path = 'InvoiceEncrypted(pwd_pdftools).pdf'\n",
        "prepare_file(input_url, input_path)\n",
        "output_path = 'Decrypted.pdf'"
      ]
    },
    {
      "cell_type": "code",
      "execution_count": null,
      "id": "72da6ecf-38f2-4d24-8627-008238cb4bfc",
      "metadata": {
          "id": "3b0387a6-67c8-4058-8dc7-53bb9e8879f7"
      },
      "outputs": [],
      "source": [
        "def decrypt(password, input_path, output_path):\n",
        "    # Use password to open encrypted input document\n",
        "    with io.FileIO(input_path, 'rb') as in_stream:\n",
        "        with Document.open(in_stream, password) as input_document:\n",
        "            if input_document.permissions == None:\n",
        "                print(f\"Input file is not encrypted.\")\n",
        "                return\n",
        "\n",
        "            # Create stream for output file\n",
        "            with io.FileIO(output_path, 'wb+') as output_stream:\n",
        "                # Set encryption options\n",
        "                output_options = SignOutputOptions()\n",
        "                # Set encryption parameters to no encryption\n",
        "                output_options.encryption = None\n",
        "                # Allow removal of signatures. Otherwise the Encryption property is ignored for signed input documents\n",
        "                # (see warning category Sign.WarningCategory.SignedDocEncryptionUnchanged).\n",
        "                output_options.remove_signatures = SignatureRemoval.SIGNED\n",
        "\n",
        "                # Decrypt the document\n",
        "                signer = Signer()\n",
        "                signer.process(input_document, output_stream, output_options)"
      ]
    },
    {
      "cell_type": "code",
      "execution_count": null,
      "id": "a7fb8b36-2550-4b3b-8b67-c0306254fb17",
      "metadata": {
          "id": "a85dc4d5-23cd-4fcb-bd49-85bc1de13949"
      },
      "outputs": [],
      "source": [
        "try:\n",
        "    # By default, a test license key is active. In this case, a watermark is added to the output. \n",
        "    # If you have a license key, please uncomment the following call and set the license key.\n",
        "    # from pdftools_sdk.sdk import Sdk\n",
        "    # Sdk.initialize(\"INSERT-LICENSE-KEY\")\n",

        "\n",
        "    # Decrypt a PDF document\n",
        "    decrypt(password, input_path, output_path)\n",

        "\n",
        "    print(f\"Successfully created decrypted {output_path}\")\n",

        "except Exception as e:\n",
        "    print(f\"An error occurred: {e}\")"
      ]
    }
  ],
  "metadata": {
    "kernelspec": {
      "display_name": "Python 3",
      "language": "python",
      "name": "python3"
    },
    "language_info": {
      "codemirror_mode": {
        "name": "ipython",
        "version": 3
      },
      "file_extension": ".py",
      "mimetype": "text/x-python",
      "name": "python",
      "nbconvert_exporter": "python",
      "pygments_lexer": "ipython3",
      "version": "3.12.8"
    },
    "colab": {
      "provenance": []
    }
  },
  "nbformat": 4,
  "nbformat_minor": 5
}