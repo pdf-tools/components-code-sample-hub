{
  "cells": [
    {
      "cell_type": "markdown",
      "id": "143c0370-b97a-4ae2-8fa5-da0b8ff7c4c1",
      "metadata": {
          "id": "b92851fb-6b30-411f-8d8a-174e7d5dc83b"
      },
      "source": [
        "[![Open In Colab](https://colab.research.google.com/assets/colab-badge.svg)](https://colab.research.google.com/github/pdf-tools/components-code-sample-hub/blob/main/jupyter/pdftools_sdk/pdftools_sdk_pdf2_img_simple.ipynb)"
      ]
    },
    {
      "cell_type": "code",
      "execution_count": null,
      "id": "102dc622-0e3d-4960-9f80-93aa106b7dad",
      "metadata": {
          "id": "465bd071-7eac-4383-b188-d54c2cfc0825"
      },
      "outputs": [],
      "source": [
        "%pip install https://pdftools-public-downloads-production.s3.eu-west-1.amazonaws.com/productkits/PDFSDK/latest/pdftools_sdk-latest.tar.gz\n",
        "%pip install ipython"
      ]
    },
    {
      "cell_type": "markdown",
      "id": "7ea5ac81-e74c-40b4-8dab-1677d01f6ed7",
      "metadata": {
          "id": "6cdc1bbd-4ce2-4e06-a493-2e7fa9f64a15"
      },
      "source": [
        "# Convert PDF to image\n",
        "Convert a PDF to a rasterized image. In this example, the\n",
        "conversion profile outputs the PDF as a TIFF image\n",
        "suitable for archiving."
      ]
    },
    {
      "cell_type": "code",
      "execution_count": null,
      "id": "8e166f58-6210-41b2-882b-63676232cf2d",
      "metadata": {
          "id": "1acbc3f3-5a24-488b-a7e2-bb9ca2f18652"
      },
      "outputs": [],
      "source": [
        "import io\n",
        "from pdftools_sdk.pdf import Document\n",
        "from pdftools_sdk.pdf2_image import Converter\n",
        "from pdftools_sdk.pdf2_image.profiles import Archive"
      ]
    },
    {
      "cell_type": "code",
      "execution_count": null,
      "id": "e70f3dc3-150e-4688-a138-51e3fa7de879",
      "metadata": {
          "id": "93e0a1f6-a2eb-4fe0-bd33-385f1b0280d8"
      },
      "outputs": [],
      "source": [
        "# Download a file from a given URL and save it to the local system\n",
        "def prepare_file(url: str, path: str):\n",
        "    import requests\n",
        "    response = requests.get(url)\n",
        "    response.raise_for_status()\n",
        "\n",
        "    with open(path, 'wb') as f:\n",
        "        f.write(response.content)"
      ]
    },
    {
      "cell_type": "code",
      "execution_count": null,
      "id": "393339c3-06b4-4f58-8a9c-a96777b0af23",
      "metadata": {
          "id": "46aad5ea-1559-4395-8065-adffa5d7ac12"
      },
      "outputs": [],
      "source": [
        "# Set input arguments\n",
        "input_url = 'https://pdftools-public-downloads-production.s3.eu-west-1.amazonaws.com/samples/testfiles/PdfPrimerWhitepaper.pdf'\n",
        "input_pdf_path = 'PdfPrimerWhitepaper.pdf'\n",
        "prepare_file(input_url, input_pdf_path)\n",
        "output_image_path = 'Whitepaper.tiff'"
      ]
    },
    {
      "cell_type": "code",
      "execution_count": null,
      "id": "e81a59d8-2f61-4c38-9424-e2899c367bb6",
      "metadata": {
          "id": "6504b701-d567-4ea0-9766-2804ec335520"
      },
      "outputs": [],
      "source": [
        "def pdf_to_image(input_pdf_path: str, output_image_path: str):\n",
        "    # Open input document\n",
        "    with io.FileIO(input_pdf_path, 'rb') as input_pdf_stream:\n",
        "        with Document.open(input_pdf_stream) as input_pdf_document:\n",
        "            # Create the profile that defines the conversion parameters.\n",
        "            # The Archive profile converts PDF documents to TIFF images for archiving.\n",
        "            profile = Archive()\n",
        "\n",
        "            # Optionally the profile's parameters can be changed according to the \n",
        "            # requirements of your conversion process.\n",
        "\n",
        "            # Create output stream\n",
        "            with io.FileIO(output_image_path, 'wb+') as output_stream:\n",
        "                # Convert the PDF document to an image document\n",
        "                converter = Converter()\n",
        "                converter.convert_document(input_pdf_document, output_stream, profile)"
      ]
    },
    {
      "cell_type": "code",
      "execution_count": null,
      "id": "48f3e591-e1c8-4e6b-8723-8d5fadcabce8",
      "metadata": {
          "id": "0f32f1f1-cada-419e-898e-80ab3d35f00f"
      },
      "outputs": [],
      "source": [
        "try:\n",
        "    # By default, a test license key is active. In this case, a watermark is added to the output. \n",
        "    # If you have a license key, please uncomment the following call and set the license key.\n",
        "    # from pdftools_sdk.sdk import Sdk\n",
        "    # Sdk.initialize(\"INSERT-LICENSE-KEY\")\n",

        "\n",
        "    pdf_to_image(input_pdf_path, output_image_path)\n",

        "\n",
        "    print(f\"Successfully created file {output_image_path}\")\n",

        "except Exception as e:\n",
        "    print(f\"An error occurred: {e}\")"
      ]
    }
  ],
  "metadata": {
    "kernelspec": {
      "display_name": "Python 3",
      "language": "python",
      "name": "python3"
    },
    "language_info": {
      "codemirror_mode": {
        "name": "ipython",
        "version": 3
      },
      "file_extension": ".py",
      "mimetype": "text/x-python",
      "name": "python",
      "nbconvert_exporter": "python",
      "pygments_lexer": "ipython3",
      "version": "3.12.8"
    },
    "colab": {
      "provenance": []
    }
  },
  "nbformat": 4,
  "nbformat_minor": 5
}