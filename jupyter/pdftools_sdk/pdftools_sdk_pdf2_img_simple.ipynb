{
  "cells": [
    {
      "cell_type": "markdown",
      "id": "2f8ac0cd-9bf1-449a-8114-eb2ae2c838d1",
      "metadata": {
          "id": "a0da10f8-d52b-45ec-91cd-8ca65483b0e3"
      },
      "source": [
        "[![Open In Colab](https://colab.research.google.com/assets/colab-badge.svg)](https://colab.research.google.com/github/pdf-tools/components-code-sample-hub/blob/main/jupyter/pdftools_sdk/pdftools_sdk_pdf2_img_simple.ipynb)"
      ]
    },
    {
      "cell_type": "code",
      "execution_count": null,
      "id": "2ea9bf0b-b5af-4568-9740-f755482e68c3",
      "metadata": {
          "id": "768546dd-0b58-4d33-85e8-3b1eb4b39f87"
      },
      "outputs": [],
      "source": [
        "%pip install https://pdftools-public-downloads-production.s3.eu-west-1.amazonaws.com/productkits/PDFSDK/latest/pdftools_sdk-latest.tar.gz\n",
        "%pip install ipython"
      ]
    },
    {
      "cell_type": "markdown",
      "id": "9d54f9bf-32f4-494a-a792-d930169ea914",
      "metadata": {
          "id": "71fa7c01-3ec7-470b-b38b-c82ce17aeafb"
      },
      "source": [
        "# Convert PDF to image\n",
        "Convert a PDF to a rasterized image. In this example, the\n",
        "conversion profile outputs the PDF as a TIFF image\n",
        "suitable for archiving."
      ]
    },
    {
      "cell_type": "code",
      "execution_count": null,
      "id": "eb9767a2-3170-46c2-82db-800984149c68",
      "metadata": {
          "id": "a626e2d5-51e4-4f0f-9217-4f1a44e57557"
      },
      "outputs": [],
      "source": [
        "import io\n",
        "from pdftools_sdk.pdf import Document\n",
        "from pdftools_sdk.pdf2_image import Converter\n",
        "from pdftools_sdk.pdf2_image.profiles import Archive"
      ]
    },
    {
      "cell_type": "code",
      "execution_count": null,
      "id": "d461d19a-7369-41bb-ac13-e693fe9b2b25",
      "metadata": {
          "id": "39da5909-5f2a-4ad3-9d5f-ffdcedb620d7"
      },
      "outputs": [],
      "source": [
        "# Download a file from a given URL and save it to the local system\n",
        "def prepare_file(url: str, path: str):\n",
        "    import requests\n",
        "    response = requests.get(url)\n",
        "    response.raise_for_status()\n",
        "\n",
        "    with open(path, 'wb') as f:\n",
        "        f.write(response.content)"
      ]
    },
    {
      "cell_type": "code",
      "execution_count": null,
      "id": "3f0d234d-7724-4227-87eb-5a99546600f2",
      "metadata": {
          "id": "52cb89dc-77d2-416c-b740-aaca3da5c4bb"
      },
      "outputs": [],
      "source": [
        "# Set input arguments\n",
        "input_url = 'https://pdftools-public-downloads-production.s3.eu-west-1.amazonaws.com/samples/testfiles/PdfPrimerWhitepaper.pdf'\n",
        "input_pdf_path = 'PdfPrimerWhitepaper.pdf'\n",
        "prepare_file(input_url, input_pdf_path)\n",
        "output_image_path = 'Whitepaper.tiff'"
      ]
    },
    {
      "cell_type": "code",
      "execution_count": null,
      "id": "43f1480a-e975-4c44-8a07-31e960cfea75",
      "metadata": {
          "id": "441fbcc8-f32d-43cd-816c-83b02ce85c86"
      },
      "outputs": [],
      "source": [
        "def pdf_to_image(input_pdf_path: str, output_image_path: str):\n",
        "    # Open input document\n",
        "    with io.FileIO(input_pdf_path, 'rb') as input_pdf_stream:\n",
        "        with Document.open(input_pdf_stream) as input_pdf_document:\n",
        "            # Create the profile that defines the conversion parameters.\n",
        "            # The Archive profile converts PDF documents to TIFF images for archiving.\n",
        "            profile = Archive()\n",
        "\n",
        "            # Optionally the profile's parameters can be changed according to the \n",
        "            # requirements of your conversion process.\n",
        "\n",
        "            # Create output stream\n",
        "            with io.FileIO(output_image_path, 'wb+') as output_stream:\n",
        "                # Convert the PDF document to an image document\n",
        "                converter = Converter()\n",
        "                converter.convert_document(input_pdf_document, output_stream, profile)"
      ]
    },
    {
      "cell_type": "code",
      "execution_count": null,
      "id": "ba6e63e3-dd4f-4e09-aecc-3629a38a94dc",
      "metadata": {
          "id": "7caf774e-f908-4538-aea9-a2667d622eae"
      },
      "outputs": [],
      "source": [
        "try:\n",
        "    # By default, a test license key is active. In this case, a watermark is added to the output. \n",
        "    # If you have a license key, please uncomment the following call and set the license key.\n",
        "    # from pdftools_sdk.sdk import Sdk\n",
        "    # Sdk.initialize(\"<PDFSDK,V1,MGAASQD6L2JMQHL54PK08RQX8GG4SS0M8DAHVPH0VMP3NB8R9DUK>\")\n",

        "\n",
        "    pdf_to_image(input_pdf_path, output_image_path)\n",

        "\n",
        "    print(f\"Successfully created file {output_image_path}\")\n",

        "except Exception as e:\n",
        "    print(f\"An error occurred: {e}\")"
      ]
    }
  ],
  "metadata": {
    "kernelspec": {
      "display_name": "Python 3",
      "language": "python",
      "name": "python3"
    },
    "language_info": {
      "codemirror_mode": {
        "name": "ipython",
        "version": 3
      },
      "file_extension": ".py",
      "mimetype": "text/x-python",
      "name": "python",
      "nbconvert_exporter": "python",
      "pygments_lexer": "ipython3",
      "version": "3.12.8"
    },
    "colab": {
      "provenance": []
    }
  },
  "nbformat": 4,
  "nbformat_minor": 5
}