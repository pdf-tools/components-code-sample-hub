{
  "cells": [
    {
      "cell_type": "markdown",
      "id": "fc899498-388a-4b45-9b8d-543d0934c76d",
      "metadata": {
          "id": "4636c520-69d9-4219-89ea-cd929962b4b8"
      },
      "source": [
        "[![Open In Colab](https://colab.research.google.com/assets/colab-badge.svg)](https://colab.research.google.com/github/pdf-tools/components-code-sample-hub/blob/main/jupyter/pdftools_sdk/pdftools_sdk_pdf2_img_simple.ipynb)"
      ]
    },
    {
      "cell_type": "code",
      "execution_count": null,
      "id": "c86e6479-35c3-49b4-bf5d-213d8674014c",
      "metadata": {
          "id": "ba7e7ba3-661e-42c4-8fac-351453aa042e"
      },
      "outputs": [],
      "source": [
        "%pip install pdftools_sdk\n",
        "%pip install ipython"
      ]
    },
    {
      "cell_type": "markdown",
      "id": "7deec50b-c38b-45fe-a763-d6e6c08e7329",
      "metadata": {
          "id": "f8885f09-cb0e-4898-b8ef-35d20fe3a5b8"
      },
      "source": [
        "# Convert PDF to image\n",
        "Convert a PDF to a rasterized image. In this example, the\n",
        "conversion profile outputs the PDF as a TIFF image\n",
        "suitable for archiving."
      ]
    },
    {
      "cell_type": "code",
      "execution_count": null,
      "id": "30dc6f6a-d019-4699-b7df-b6c052281216",
      "metadata": {
          "id": "fe408b76-3d62-499e-9dfe-9fc6342c52ba"
      },
      "outputs": [],
      "source": [
        "import io\n",
        "from pdftools_sdk.pdf import Document\n",
        "from pdftools_sdk.pdf2_image import Converter\n",
        "from pdftools_sdk.pdf2_image.profiles import Archive"
      ]
    },
    {
      "cell_type": "code",
      "execution_count": null,
      "id": "9d215946-2645-4955-a1d3-87b9acaf331c",
      "metadata": {
          "id": "7c999d69-8fed-47f5-ad82-ad4d60beb71c"
      },
      "outputs": [],
      "source": [
        "# Download a file from a given URL and save it to the local system\n",
        "def prepare_file(url: str, path: str):\n",
        "    import requests\n",
        "    response = requests.get(url)\n",
        "    response.raise_for_status()\n",
        "\n",
        "    with open(path, 'wb') as f:\n",
        "        f.write(response.content)"
      ]
    },
    {
      "cell_type": "code",
      "execution_count": null,
      "id": "0731349d-5630-4708-92a5-bbcb4ea13f34",
      "metadata": {
          "id": "d17d12f4-b999-4407-8bc3-153fab5bc8b4"
      },
      "outputs": [],
      "source": [
        "# Set input arguments\n",
        "input_url = 'https://pdftools-public-downloads-production.s3.eu-west-1.amazonaws.com/samples/testfiles/PdfPrimerWhitepaper.pdf'\n",
        "input_pdf_path = 'PdfPrimerWhitepaper.pdf'\n",
        "prepare_file(input_url, input_pdf_path)\n",
        "output_image_path = 'Whitepaper.tiff'"
      ]
    },
    {
      "cell_type": "code",
      "execution_count": null,
      "id": "b5ce0d7f-318f-4514-aa05-292749ac87ac",
      "metadata": {
          "id": "7fe76523-df4e-4e1d-b1d3-c824aaca2c0c"
      },
      "outputs": [],
      "source": [
        "def pdf_to_image(input_pdf_path: str, output_image_path: str):\n",
        "    # Open input document\n",
        "    with io.FileIO(input_pdf_path, 'rb') as input_pdf_stream:\n",
        "        with Document.open(input_pdf_stream) as input_pdf_document:\n",
        "            # Create the profile that defines the conversion parameters.\n",
        "            # The Archive profile converts PDF documents to TIFF images for archiving.\n",
        "            profile = Archive()\n",
        "\n",
        "            # Optionally the profile's parameters can be changed according to the \n",
        "            # requirements of your conversion process.\n",
        "\n",
        "            # Create output stream\n",
        "            with io.FileIO(output_image_path, 'wb+') as output_stream:\n",
        "                # Convert the PDF document to an image document\n",
        "                converter = Converter()\n",
        "                converter.convert_document(input_pdf_document, output_stream, profile)"
      ]
    },
    {
      "cell_type": "code",
      "execution_count": null,
      "id": "dcfc8e87-de6e-4d94-973f-af68a3cd42a4",
      "metadata": {
          "id": "a0fef8bf-3532-4cce-906d-eb30078ce12d"
      },
      "outputs": [],
      "source": [
        "try:\n",
        "    # By default, a test license key is active. In this case, a watermark is added to the output. \n",
        "    # If you have a license key, please uncomment the following call and set the license key.\n",
        "    # from pdftools_sdk.sdk import Sdk\n",
        "    # Sdk.initialize(\"INSERT-LICENSE-KEY\")\n",

        "\n",
        "    pdf_to_image(input_pdf_path, output_image_path)\n",

        "\n",
        "    print(f\"Successfully created file {output_image_path}\")\n",

        "except Exception as e:\n",
        "    print(f\"An error occurred: {e}\")"
      ]
    }
  ],
  "metadata": {
    "kernelspec": {
      "display_name": "Python 3",
      "language": "python",
      "name": "python3"
    },
    "language_info": {
      "codemirror_mode": {
        "name": "ipython",
        "version": 3
      },
      "file_extension": ".py",
      "mimetype": "text/x-python",
      "name": "python",
      "nbconvert_exporter": "python",
      "pygments_lexer": "ipython3",
      "version": "3.12.8"
    },
    "colab": {
      "provenance": []
    }
  },
  "nbformat": 4,
  "nbformat_minor": 5
}