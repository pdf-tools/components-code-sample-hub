{
  "cells": [
    {
      "cell_type": "markdown",
      "id": "becab60e-c29f-4abb-b644-2dae1af56849",
      "metadata": {
          "id": "06f9aa84-9063-45c1-93d0-13a9ea3b6c09"
      },
      "source": [
        "[![Open In Colab](https://colab.research.google.com/assets/colab-badge.svg)](https://colab.research.google.com/github/pdf-tools/components-code-sample-hub/blob/main/jupyter/pdftools_sdk/pdftools_sdk_pdf2_img_simple.ipynb)"
      ]
    },
    {
      "cell_type": "code",
      "execution_count": null,
      "id": "f53e72a1-3b21-4a77-a88e-76baad2291f3",
      "metadata": {
          "id": "81a6a468-051b-4786-852c-0ed2a8a5c910"
      },
      "outputs": [],
      "source": [
        "%pip install https://pdftools-public-downloads-production.s3.eu-west-1.amazonaws.com/productkits/PDFSDK/latest/pdftools_sdk-latest.tar.gz\n",
        "%pip install ipython"
      ]
    },
    {
      "cell_type": "markdown",
      "id": "5e7020b9-f127-4483-8c36-567a000e0ee0",
      "metadata": {
          "id": "1b3f33e5-6430-4092-becc-8783174330bb"
      },
      "source": [
        "# Convert PDF to image\n",
        "Convert a PDF to a rasterized image. In this example, the\n",
        "conversion profile outputs the PDF as a TIFF image\n",
        "suitable for archiving."
      ]
    },
    {
      "cell_type": "code",
      "execution_count": null,
      "id": "59502735-1c0f-40a5-81a2-811855fb597e",
      "metadata": {
          "id": "b969cbc2-b483-4ae0-9043-79b891019d4b"
      },
      "outputs": [],
      "source": [
        "import io\n",
        "from pdftools_sdk.pdf import Document\n",
        "from pdftools_sdk.pdf2_image import Converter\n",
        "from pdftools_sdk.pdf2_image.profiles import Archive"
      ]
    },
    {
      "cell_type": "code",
      "execution_count": null,
      "id": "d2f2d228-ff5e-4751-9eda-ac308b5b312e",
      "metadata": {
          "id": "7b243cd4-09fc-41ad-abe2-5492c57a9726"
      },
      "outputs": [],
      "source": [
        "# Download a file from a given URL and save it to the local system\n",
        "def prepare_file(url: str, path: str):\n",
        "    import requests\n",
        "    response = requests.get(url)\n",
        "    response.raise_for_status()\n",
        "\n",
        "    with open(path, 'wb') as f:\n",
        "        f.write(response.content)"
      ]
    },
    {
      "cell_type": "code",
      "execution_count": null,
      "id": "9db4530a-edde-4ac7-a849-832110936ded",
      "metadata": {
          "id": "8dbc4bd1-68ad-4abc-9541-e44979399865"
      },
      "outputs": [],
      "source": [
        "# Set input arguments\n",
        "input_url = 'https://pdftools-public-downloads-production.s3.eu-west-1.amazonaws.com/samples/testfiles/PdfPrimerWhitepaper.pdf'\n",
        "input_pdf_path = 'PdfPrimerWhitepaper.pdf'\n",
        "prepare_file(input_url, input_pdf_path)\n",
        "output_image_path = 'Whitepaper.tiff'"
      ]
    },
    {
      "cell_type": "code",
      "execution_count": null,
      "id": "16f04828-4304-42b8-8d90-f5120c59451f",
      "metadata": {
          "id": "4a8f2a9e-64c5-4905-8687-7c34eb39b959"
      },
      "outputs": [],
      "source": [
        "def pdf_to_image(input_pdf_path: str, output_image_path: str):\n",
        "    # Open input document\n",
        "    with io.FileIO(input_pdf_path, 'rb') as input_pdf_stream:\n",
        "        with Document.open(input_pdf_stream) as input_pdf_document:\n",
        "            # Create the profile that defines the conversion parameters.\n",
        "            # The Archive profile converts PDF documents to TIFF images for archiving.\n",
        "            profile = Archive()\n",
        "\n",
        "            # Optionally the profile's parameters can be changed according to the \n",
        "            # requirements of your conversion process.\n",
        "\n",
        "            # Create output stream\n",
        "            with io.FileIO(output_image_path, 'wb+') as output_stream:\n",
        "                # Convert the PDF document to an image document\n",
        "                converter = Converter()\n",
        "                converter.convert_document(input_pdf_document, output_stream, profile)"
      ]
    },
    {
      "cell_type": "code",
      "execution_count": null,
      "id": "4fe53a04-4662-415a-979f-fd5bcf681ab0",
      "metadata": {
          "id": "43b70580-0c98-4c99-b4c0-f62238dd42d0"
      },
      "outputs": [],
      "source": [
        "try:\n",
        "    # By default, a test license key is active. In this case, a watermark is added to the output. \n",
        "    # If you have a license key, please uncomment the following call and set the license key.\n",
        "    # from pdftools_sdk.sdk import Sdk\n",
        "    # Sdk.initialize(\"INSERT-LICENSE-KEY\")\n",

        "\n",
        "    pdf_to_image(input_pdf_path, output_image_path)\n",

        "\n",
        "    print(f\"Successfully created file {output_image_path}\")\n",

        "except Exception as e:\n",
        "    print(f\"An error occurred: {e}\")"
      ]
    }
  ],
  "metadata": {
    "kernelspec": {
      "display_name": "Python 3",
      "language": "python",
      "name": "python3"
    },
    "language_info": {
      "codemirror_mode": {
        "name": "ipython",
        "version": 3
      },
      "file_extension": ".py",
      "mimetype": "text/x-python",
      "name": "python",
      "nbconvert_exporter": "python",
      "pygments_lexer": "ipython3",
      "version": "3.12.8"
    },
    "colab": {
      "provenance": []
    }
  },
  "nbformat": 4,
  "nbformat_minor": 5
}