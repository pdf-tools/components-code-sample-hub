{
  "cells": [
    {
      "cell_type": "markdown",
      "id": "8eb2d416-4c1c-4d7a-8d70-bdc577a22799",
      "metadata": {
          "id": "a91b46ad-a6bb-4952-9ace-61351eb6d8c4"
      },
      "source": [
        "[![Open In Colab](https://colab.research.google.com/assets/colab-badge.svg)](https://colab.research.google.com/github/pdf-tools/components-code-sample-hub/blob/main/jupyter/pdftools_sdk/pdftools_sdk_pkcs11_sign.ipynb)"
      ]
    },
    {
      "cell_type": "code",
      "execution_count": null,
      "id": "bbc6731f-2b44-4299-ae99-018dc41e46e4",
      "metadata": {
          "id": "74ee977e-96fe-4440-ad48-35c630701e1a"
      },
      "outputs": [],
      "source": [
        "%pip install https://pdftools-public-downloads-production.s3.eu-west-1.amazonaws.com/productkits/PDFSDK/latest/pdftools_sdk-latest.tar.gz\n",
        "%pip install ipython"
      ]
    },
    {
      "cell_type": "markdown",
      "id": "d828da85-7758-4e21-b9a0-1358bb01be4a",
      "metadata": {
          "id": "7c68867b-b983-4e8e-a72f-fb07986173ca"
      },
      "source": [
        "# Sign a PDF using a PKCS#11 device\n",
        "Add a document signature, sometimes called an approval\n",
        "signature.\n",
        "This type of signature verifies the integrity of the\n",
        "signed part of the document and authenticates the\n",
        "signer's identity.\n",
        "\n",
        "Validation information is embedded to enable the\n",
        "long-term validation (LTV) of the signature.\n",
        "\n",
        "The signing certificate is stored on a cryptographic\n",
        "device with PKCS#11 middleware (driver)."
      ]
    },
    {
      "cell_type": "code",
      "execution_count": null,
      "id": "422149fe-020c-46c2-bbca-a34e7b21a79c",
      "metadata": {
          "id": "9ef5ce59-484f-47b9-a838-5611797068be"
      },
      "outputs": [],
      "source": [
        "import io\n",
        "from pdftools_sdk.pdf import Document\n",
        "from pdftools_sdk.sign import Signer\n",
        "from pdftools_sdk.crypto.providers.pkcs11 import Module, Session"
      ]
    },
    {
      "cell_type": "code",
      "execution_count": null,
      "id": "3bfab7cd-accd-4f09-8584-8f575391f88c",
      "metadata": {
          "id": "7ee9e472-ba98-4f1f-83ee-b0d5f7b8c38b"
      },
      "outputs": [],
      "source": [
        "# Download a file from a given URL and save it to the local system\n",
        "def prepare_file(url: str, path: str):\n",
        "    import requests\n",
        "    response = requests.get(url)\n",
        "    response.raise_for_status()\n",
        "\n",
        "    with open(path, 'wb') as f:\n",
        "        f.write(response.content)"
      ]
    },
    {
      "cell_type": "code",
      "execution_count": null,
      "id": "5ee3d253-87b1-4ac0-b9a5-e163384d4448",
      "metadata": {
          "id": "c3037a51-4c1e-43a2-b382-3de707770283"
      },
      "outputs": [],
      "source": [
        "# Set input arguments\n",
        "pkcs11_library = 'path/to/pkcs11.dll'  # Placeholder for PKCS#11 library path\n",
        "password = 'INSERT-PASSWORD'  # Placeholder for PIN\n",
        "certificate = 'CertificateName'  # Placeholder for certificate name\n",
        "input_url = 'https://pdftools-public-downloads-production.s3.eu-west-1.amazonaws.com/samples/testfiles/InvoiceNone.pdf'\n",
        "input_path = 'InvoiceNone.pdf'\n",
        "prepare_file(input_url, input_path)\n",
        "output_path = 'SignedPKCS11.pdf'"
      ]
    },
    {
      "cell_type": "code",
      "execution_count": null,
      "id": "1b4b5417-fd2a-48ea-8045-831488591237",
      "metadata": {
          "id": "518b0bc1-c4ba-4222-9a76-c9a1466f7f3d"
      },
      "outputs": [],
      "source": [
        "def sign(session: Session, certificate: str, input_path: str, output_path: str):\n",
        "    # Create the signature configuration for the certificate\n",
        "    signature = session.create_signature_from_name(certificate)\n",
        "\n",
        "    # Open input document\n",
        "    with io.FileIO(input_path, 'rb') as in_stream:\n",
        "        with Document.open(in_stream) as input_document:\n",
        "\n",
        "            # Create stream for output file\n",
        "            with io.FileIO(output_path, 'wb+') as output_stream:\n",
        "\n",
        "                # Sign the input document\n",
        "                signer = Signer()\n",
        "                signer.sign(input_document, signature, output_stream)"
      ]
    },
    {
      "cell_type": "code",
      "execution_count": null,
      "id": "fa305c11-2a91-4e4c-b819-6d89732619bf",
      "metadata": {
          "id": "8c02e593-ca09-4fac-83f2-fbae3455f1df"
      },
      "outputs": [],
      "source": [
        "try:\n",
        "    # By default, a test license key is active. In this case, a watermark is added to the output. \n",
        "    # If you have a license key, please uncomment the following call and set the license key.\n",
        "    # from pdftools_sdk.sdk import Sdk\n",
        "    # Sdk.initialize(\"INSERT-LICENSE-KEY\")\n",

        "\n",
        "    # Optional: Set your proxy configuration\n",
        "    # Sdk.set_proxy(\"http://myproxy:8080\")\n",
        "    \n",
        "    # Load the PKCS#11 driver module (middleware)\n",
        "    # The module can only be loaded once in the application.\n",
        "    with Module.load(pkcs11_library) as module:\n",
        "    \n",
        "        # Create a session to the cryptographic device and log in with the password (pin)\n",
        "        # Use devices[i] if you have more than one device installed instead of devices.get_single()\n",
        "        with module.devices.get_single().create_session(password) as session:\n",
        "            # Sign a PDF document\n",
        "            sign(session, certificate, input_path, output_path)\n",

        "\n",
        "    print(f\"Successfully created file {output_path}\")\n",

        "except Exception as e:\n",
        "    print(f\"An error occurred: {e}\")"
      ]
    }
  ],
  "metadata": {
    "kernelspec": {
      "display_name": "Python 3",
      "language": "python",
      "name": "python3"
    },
    "language_info": {
      "codemirror_mode": {
        "name": "ipython",
        "version": 3
      },
      "file_extension": ".py",
      "mimetype": "text/x-python",
      "name": "python",
      "nbconvert_exporter": "python",
      "pygments_lexer": "ipython3",
      "version": "3.12.8"
    },
    "colab": {
      "provenance": []
    }
  },
  "nbformat": 4,
  "nbformat_minor": 5
}