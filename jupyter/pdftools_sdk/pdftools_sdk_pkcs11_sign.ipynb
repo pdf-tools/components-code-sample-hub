{
  "cells": [
    {
      "cell_type": "markdown",
      "id": "9850d94a-f3c0-48fc-ac89-63e9e3a47b3d",
      "metadata": {
          "id": "214f7375-bbac-4f69-a255-0cb2b02684eb"
      },
      "source": [
        "[![Open In Colab](https://colab.research.google.com/assets/colab-badge.svg)](https://colab.research.google.com/github/pdf-tools/components-code-sample-hub/blob/main/jupyter/pdftools_sdk/pdftools_sdk_pkcs11_sign.ipynb)"
      ]
    },
    {
      "cell_type": "code",
      "execution_count": null,
      "id": "9e9a3fa3-0511-4f38-ad96-d7dbecb135fb",
      "metadata": {
          "id": "59533d69-6d2b-433b-9171-50070f9e3a65"
      },
      "outputs": [],
      "source": [
        "%pip install pdftools_sdk\n",
        "%pip install ipython"
      ]
    },
    {
      "cell_type": "markdown",
      "id": "87bddfad-e6bc-4a05-bfe1-bb9331936284",
      "metadata": {
          "id": "84575cdb-1257-4b3d-89c5-fdb1251a04e8"
      },
      "source": [
        "# Sign a PDF using a PKCS#11 device\n",
        "Add a document signature, sometimes called an approval\n",
        "signature.\n",
        "This type of signature verifies the integrity of the\n",
        "signed part of the document and authenticates the\n",
        "signer's identity.\n",
        "\n",
        "Validation information is embedded to enable the\n",
        "long-term validation (LTV) of the signature.\n",
        "\n",
        "The signing certificate is stored on a cryptographic\n",
        "device with PKCS#11 middleware (driver)."
      ]
    },
    {
      "cell_type": "code",
      "execution_count": null,
      "id": "2ee44154-ede7-4e30-a9fb-fc60b2217999",
      "metadata": {
          "id": "93d41450-3a56-49ca-85c0-df498e2df50d"
      },
      "outputs": [],
      "source": [
        "import io\n",
        "from pdftools_sdk.pdf import Document\n",
        "from pdftools_sdk.sign import Signer\n",
        "from pdftools_sdk.crypto.providers.pkcs11 import Module, Session"
      ]
    },
    {
      "cell_type": "code",
      "execution_count": null,
      "id": "2fa39c66-ee82-42d3-8851-d1887be1c18e",
      "metadata": {
          "id": "658eea0a-8a5a-469d-976d-e622727ee7db"
      },
      "outputs": [],
      "source": [
        "# Download a file from a given URL and save it to the local system\n",
        "def prepare_file(url: str, path: str):\n",
        "    import requests\n",
        "    response = requests.get(url)\n",
        "    response.raise_for_status()\n",
        "\n",
        "    with open(path, 'wb') as f:\n",
        "        f.write(response.content)"
      ]
    },
    {
      "cell_type": "code",
      "execution_count": null,
      "id": "eedf08b6-a42c-47a3-955e-bb5b51d577b3",
      "metadata": {
          "id": "b5ede325-8d66-41d9-b455-ae3b597b6d4b"
      },
      "outputs": [],
      "source": [
        "# Set input arguments\n",
        "pkcs11_library = 'path/to/pkcs11.dll'  # Placeholder for PKCS#11 library path\n",
        "password = 'INSERT-PASSWORD'  # Placeholder for PIN\n",
        "certificate = 'CertificateName'  # Placeholder for certificate name\n",
        "input_url = 'https://pdftools-public-downloads-production.s3.eu-west-1.amazonaws.com/samples/testfiles/InvoiceNone.pdf'\n",
        "input_path = 'InvoiceNone.pdf'\n",
        "prepare_file(input_url, input_path)\n",
        "output_path = 'SignedPKCS11.pdf'"
      ]
    },
    {
      "cell_type": "code",
      "execution_count": null,
      "id": "be2caddb-755a-425e-a769-486d2b7908ec",
      "metadata": {
          "id": "3a5a3979-4921-408e-a6aa-02e17b35a763"
      },
      "outputs": [],
      "source": [
        "def sign(session: Session, certificate: str, input_path: str, output_path: str):\n",
        "    # Create the signature configuration for the certificate\n",
        "    signature = session.create_signature_from_name(certificate)\n",
        "\n",
        "    # Open input document\n",
        "    with io.FileIO(input_path, 'rb') as in_stream:\n",
        "        with Document.open(in_stream) as input_document:\n",
        "\n",
        "            # Create stream for output file\n",
        "            with io.FileIO(output_path, 'wb+') as output_stream:\n",
        "\n",
        "                # Sign the input document\n",
        "                signer = Signer()\n",
        "                signer.sign(input_document, signature, output_stream)"
      ]
    },
    {
      "cell_type": "code",
      "execution_count": null,
      "id": "796c2e9f-8ed6-4f7b-8fc6-71a0a54dfbb3",
      "metadata": {
          "id": "0de832a7-b79b-435f-9f0f-7179c5974ab8"
      },
      "outputs": [],
      "source": [
        "try:\n",
        "    # By default, a test license key is active. In this case, a watermark is added to the output. \n",
        "    # If you have a license key, please uncomment the following call and set the license key.\n",
        "    # from pdftools_sdk.sdk import Sdk\n",
        "    # Sdk.initialize(\"INSERT-LICENSE-KEY\")\n",

        "\n",
        "    # Optional: Set your proxy configuration\n",
        "    # Sdk.set_proxy(\"http://myproxy:8080\")\n",
        "    \n",
        "    # Load the PKCS#11 driver module (middleware)\n",
        "    # The module can only be loaded once in the application.\n",
        "    with Module.load(pkcs11_library) as module:\n",
        "    \n",
        "        # Create a session to the cryptographic device and log in with the password (pin)\n",
        "        # Use devices[i] if you have more than one device installed instead of devices.get_single()\n",
        "        with module.devices.get_single().create_session(password) as session:\n",
        "            # Sign a PDF document\n",
        "            sign(session, certificate, input_path, output_path)\n",

        "\n",
        "    print(f\"Successfully created file {output_path}\")\n",

        "except Exception as e:\n",
        "    print(f\"An error occurred: {e}\")"
      ]
    }
  ],
  "metadata": {
    "kernelspec": {
      "display_name": "Python 3",
      "language": "python",
      "name": "python3"
    },
    "language_info": {
      "codemirror_mode": {
        "name": "ipython",
        "version": 3
      },
      "file_extension": ".py",
      "mimetype": "text/x-python",
      "name": "python",
      "nbconvert_exporter": "python",
      "pygments_lexer": "ipython3",
      "version": "3.12.8"
    },
    "colab": {
      "provenance": []
    }
  },
  "nbformat": 4,
  "nbformat_minor": 5
}