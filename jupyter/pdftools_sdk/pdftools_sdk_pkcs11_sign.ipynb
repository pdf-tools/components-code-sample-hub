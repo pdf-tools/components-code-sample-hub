{
  "cells": [
    {
      "cell_type": "markdown",
      "id": "549afaf5-a94f-40ac-9df7-3d2c04548257",
      "metadata": {
          "id": "4b6817ab-0a8b-4499-9c3b-b7767a4fc3d1"
      },
      "source": [
        "[![Open In Colab](https://colab.research.google.com/assets/colab-badge.svg)](https://colab.research.google.com/github/pdf-tools/components-code-sample-hub/blob/main/jupyter/pdftools_sdk/pdftools_sdk_pkcs11_sign.ipynb)"
      ]
    },
    {
      "cell_type": "code",
      "execution_count": null,
      "id": "918ad1bc-0d2d-4c29-82bf-65d01c6a6736",
      "metadata": {
          "id": "2cfc2df9-b1c4-4301-b269-b6851310435b"
      },
      "outputs": [],
      "source": [
        "%pip install https://pdftools-public-downloads-production.s3.eu-west-1.amazonaws.com/productkits/PDFSDK/latest/pdftools_sdk-latest.tar.gz\n",
        "%pip install ipython"
      ]
    },
    {
      "cell_type": "markdown",
      "id": "132458a9-97cb-40d0-af13-84cf5d35d6e1",
      "metadata": {
          "id": "d03f0aff-dc36-4f6b-9679-595a98607eae"
      },
      "source": [
        "# Sign a PDF using a PKCS#11 device\n",
        "Add a document signature, sometimes called an approval\n",
        "signature.\n",
        "This type of signature verifies the integrity of the\n",
        "signed part of the document and authenticates the\n",
        "signer's identity.\n",
        "\n",
        "Validation information is embedded to enable the\n",
        "long-term validation (LTV) of the signature.\n",
        "\n",
        "The signing certificate is stored on a cryptographic\n",
        "device with PKCS#11 middleware (driver)."
      ]
    },
    {
      "cell_type": "code",
      "execution_count": null,
      "id": "24fb5cc1-f9ab-4a59-b2d1-352a1930dd60",
      "metadata": {
          "id": "8bc6881b-eaf9-48c5-ab9e-3c25cae54cf1"
      },
      "outputs": [],
      "source": [
        "import io\n",
        "from pdftools_sdk.pdf import Document\n",
        "from pdftools_sdk.sign import Signer\n",
        "from pdftools_sdk.crypto.providers.pkcs11 import Module, Session"
      ]
    },
    {
      "cell_type": "code",
      "execution_count": null,
      "id": "893df2f7-8610-4c87-be10-141ac11d6285",
      "metadata": {
          "id": "b2217d05-9348-4191-8703-e6dafcba8d2a"
      },
      "outputs": [],
      "source": [
        "# Download a file from a given URL and save it to the local system\n",
        "def prepare_file(url: str, path: str):\n",
        "    import requests\n",
        "    response = requests.get(url)\n",
        "    response.raise_for_status()\n",
        "\n",
        "    with open(path, 'wb') as f:\n",
        "        f.write(response.content)"
      ]
    },
    {
      "cell_type": "code",
      "execution_count": null,
      "id": "d2232710-fd05-4dbd-bc9a-4c34f9f41e98",
      "metadata": {
          "id": "c55d5744-9822-4b7c-ad99-3425d67cfffe"
      },
      "outputs": [],
      "source": [
        "# Set input arguments\n",
        "pkcs11_library = 'path/to/pkcs11.dll'  # Placeholder for PKCS#11 library path\n",
        "password = 'INSERT-PASSWORD'  # Placeholder for PIN\n",
        "certificate = 'CertificateName'  # Placeholder for certificate name\n",
        "input_url = 'https://pdftools-public-downloads-production.s3.eu-west-1.amazonaws.com/samples/testfiles/InvoiceNone.pdf'\n",
        "input_path = 'InvoiceNone.pdf'\n",
        "prepare_file(input_url, input_path)\n",
        "output_path = 'SignedPKCS11.pdf'"
      ]
    },
    {
      "cell_type": "code",
      "execution_count": null,
      "id": "2018aaac-138e-4a05-a36b-a9fb160c7114",
      "metadata": {
          "id": "783f8db0-5995-481b-9412-e95b4dc54405"
      },
      "outputs": [],
      "source": [
        "def sign(session: Session, certificate: str, input_path: str, output_path: str):\n",
        "    # Create the signature configuration for the certificate\n",
        "    signature = session.create_signature_from_name(certificate)\n",
        "\n",
        "    # Open input document\n",
        "    with io.FileIO(input_path, 'rb') as in_stream:\n",
        "        with Document.open(in_stream) as input_document:\n",
        "\n",
        "            # Create stream for output file\n",
        "            with io.FileIO(output_path, 'wb+') as output_stream:\n",
        "\n",
        "                # Sign the input document\n",
        "                signer = Signer()\n",
        "                signer.sign(input_document, signature, output_stream)"
      ]
    },
    {
      "cell_type": "code",
      "execution_count": null,
      "id": "4a2e457a-ba12-4e2e-ac48-2a2e5e4df561",
      "metadata": {
          "id": "9b26eb5d-6a89-4b87-9383-c36ecb17611c"
      },
      "outputs": [],
      "source": [
        "try:\n",
        "    # By default, a test license key is active. In this case, a watermark is added to the output. \n",
        "    # If you have a license key, please uncomment the following call and set the license key.\n",
        "    # from pdftools_sdk.sdk import Sdk\n",
        "    # Sdk.initialize(\"INSERT-LICENSE-KEY\")\n",

        "\n",
        "    # Optional: Set your proxy configuration\n",
        "    # Sdk.set_proxy(\"http://myproxy:8080\")\n",
        "    \n",
        "    # Load the PKCS#11 driver module (middleware)\n",
        "    # The module can only be loaded once in the application.\n",
        "    with Module.load(pkcs11_library) as module:\n",
        "    \n",
        "        # Create a session to the cryptographic device and log in with the password (pin)\n",
        "        # Use devices[i] if you have more than one device installed instead of devices.get_single()\n",
        "        with module.devices.get_single().create_session(password) as session:\n",
        "            # Sign a PDF document\n",
        "            sign(session, certificate, input_path, output_path)\n",

        "\n",
        "    print(f\"Successfully created file {output_path}\")\n",

        "except Exception as e:\n",
        "    print(f\"An error occurred: {e}\")"
      ]
    }
  ],
  "metadata": {
    "kernelspec": {
      "display_name": "Python 3",
      "language": "python",
      "name": "python3"
    },
    "language_info": {
      "codemirror_mode": {
        "name": "ipython",
        "version": 3
      },
      "file_extension": ".py",
      "mimetype": "text/x-python",
      "name": "python",
      "nbconvert_exporter": "python",
      "pygments_lexer": "ipython3",
      "version": "3.12.8"
    },
    "colab": {
      "provenance": []
    }
  },
  "nbformat": 4,
  "nbformat_minor": 5
}