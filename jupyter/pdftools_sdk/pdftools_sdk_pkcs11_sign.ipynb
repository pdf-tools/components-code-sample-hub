{
  "cells": [
    {
      "cell_type": "markdown",
      "id": "2d0d6083-aa6a-4529-8527-c373ede2ba8c",
      "metadata": {
          "id": "581bcce9-5d06-4596-917e-dea460367e8c"
      },
      "source": [
        "[![Open In Colab](https://colab.research.google.com/assets/colab-badge.svg)](https://colab.research.google.com/github/pdf-tools/components-code-sample-hub/blob/main/jupyter/pdftools_sdk/pdftools_sdk_pkcs11_sign.ipynb)"
      ]
    },
    {
      "cell_type": "code",
      "execution_count": null,
      "id": "a2fe0b1f-4336-4b7f-b0a6-6b7baf8346dd",
      "metadata": {
          "id": "02743594-7fc5-4dc3-8286-78324809bc86"
      },
      "outputs": [],
      "source": [
        "%pip install https://pdftools-public-downloads-production.s3.eu-west-1.amazonaws.com/productkits/PDFSDK/latest/pdftools_sdk-latest.tar.gz\n",
        "%pip install ipython"
      ]
    },
    {
      "cell_type": "markdown",
      "id": "688f2421-e326-42a4-8b99-3919fe779d00",
      "metadata": {
          "id": "23577004-bda9-4f20-8fe1-4dd07fa4c969"
      },
      "source": [
        "# Sign a PDF using a PKCS#11 device\n",
        "Add a document signature, sometimes called an approval\n",
        "signature.\n",
        "This type of signature verifies the integrity of the\n",
        "signed part of the document and authenticates the\n",
        "signer's identity.\n",
        "\n",
        "Validation information is embedded to enable the\n",
        "long-term validation (LTV) of the signature.\n",
        "\n",
        "The signing certificate is stored on a cryptographic\n",
        "device with PKCS#11 middleware (driver)."
      ]
    },
    {
      "cell_type": "code",
      "execution_count": null,
      "id": "d7278ee6-e228-4f3e-b4c3-a37eea3763f5",
      "metadata": {
          "id": "fd236b85-65cf-456c-85ce-2171f4e8a241"
      },
      "outputs": [],
      "source": [
        "import io\n",
        "from pdftools_sdk.pdf import Document\n",
        "from pdftools_sdk.sign import Signer\n",
        "from pdftools_sdk.crypto.providers.pkcs11 import Module, Session"
      ]
    },
    {
      "cell_type": "code",
      "execution_count": null,
      "id": "68aaf775-d0a6-4b07-b0d9-de2ca858a3dc",
      "metadata": {
          "id": "d86f6eea-33b1-48f6-b831-b78c849fe723"
      },
      "outputs": [],
      "source": [
        "# Download a file from a given URL and save it to the local system\n",
        "def prepare_file(url: str, path: str):\n",
        "    import requests\n",
        "    response = requests.get(url)\n",
        "    response.raise_for_status()\n",
        "\n",
        "    with open(path, 'wb') as f:\n",
        "        f.write(response.content)"
      ]
    },
    {
      "cell_type": "code",
      "execution_count": null,
      "id": "f4520f83-007b-4a41-8173-960eb145bf46",
      "metadata": {
          "id": "62986b61-1594-4385-9d3c-9929a8ea765e"
      },
      "outputs": [],
      "source": [
        "# Set input arguments\n",
        "pkcs11_library = 'path/to/pkcs11.dll'  # Placeholder for PKCS#11 library path\n",
        "password = 'INSERT-PASSWORD'  # Placeholder for PIN\n",
        "certificate = 'CertificateName'  # Placeholder for certificate name\n",
        "input_url = 'https://pdftools-public-downloads-production.s3.eu-west-1.amazonaws.com/samples/testfiles/InvoiceNone.pdf'\n",
        "input_path = 'InvoiceNone.pdf'\n",
        "prepare_file(input_url, input_path)\n",
        "output_path = 'SignedPKCS11.pdf'"
      ]
    },
    {
      "cell_type": "code",
      "execution_count": null,
      "id": "78eaaaec-9a95-42a5-a5e7-eea0d7592d5a",
      "metadata": {
          "id": "70cfcfa6-2f98-4aeb-b5f3-f60762d0626c"
      },
      "outputs": [],
      "source": [
        "def sign(session: Session, certificate: str, input_path: str, output_path: str):\n",
        "    # Create the signature configuration for the certificate\n",
        "    signature = session.create_signature_from_name(certificate)\n",
        "\n",
        "    # Open input document\n",
        "    with io.FileIO(input_path, 'rb') as in_stream:\n",
        "        with Document.open(in_stream) as input_document:\n",
        "\n",
        "            # Create stream for output file\n",
        "            with io.FileIO(output_path, 'wb+') as output_stream:\n",
        "\n",
        "                # Sign the input document\n",
        "                signer = Signer()\n",
        "                signer.sign(input_document, signature, output_stream)"
      ]
    },
    {
      "cell_type": "code",
      "execution_count": null,
      "id": "ee288cdf-b40d-42f8-8ac1-e32bf56ced2c",
      "metadata": {
          "id": "1ea9eb20-a531-4087-b388-54801008304c"
      },
      "outputs": [],
      "source": [
        "try:\n",
        "    # By default, a test license key is active. In this case, a watermark is added to the output. \n",
        "    # If you have a license key, please uncomment the following call and set the license key.\n",
        "    # from pdftools_sdk.sdk import Sdk\n",
        "    # Sdk.initialize(\"<PDFSDK,V1,MGAASQD6L2JMQHL54PK08RQX8GG4SS0M8DAHVPH0VMP3NB8R9DUK>\")\n",

        "\n",
        "    # Optional: Set your proxy configuration\n",
        "    # Sdk.set_proxy(\"http://myproxy:8080\")\n",
        "    \n",
        "    # Load the PKCS#11 driver module (middleware)\n",
        "    # The module can only be loaded once in the application.\n",
        "    with Module.load(pkcs11_library) as module:\n",
        "    \n",
        "        # Create a session to the cryptographic device and log in with the password (pin)\n",
        "        # Use devices[i] if you have more than one device installed instead of devices.get_single()\n",
        "        with module.devices.get_single().create_session(password) as session:\n",
        "            # Sign a PDF document\n",
        "            sign(session, certificate, input_path, output_path)\n",

        "\n",
        "    print(f\"Successfully created file {output_path}\")\n",

        "except Exception as e:\n",
        "    print(f\"An error occurred: {e}\")"
      ]
    }
  ],
  "metadata": {
    "kernelspec": {
      "display_name": "Python 3",
      "language": "python",
      "name": "python3"
    },
    "language_info": {
      "codemirror_mode": {
        "name": "ipython",
        "version": 3
      },
      "file_extension": ".py",
      "mimetype": "text/x-python",
      "name": "python",
      "nbconvert_exporter": "python",
      "pygments_lexer": "ipython3",
      "version": "3.12.8"
    },
    "colab": {
      "provenance": []
    }
  },
  "nbformat": 4,
  "nbformat_minor": 5
}