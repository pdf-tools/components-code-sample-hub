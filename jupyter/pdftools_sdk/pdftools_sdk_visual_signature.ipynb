{
  "cells": [
    {
      "cell_type": "markdown",
      "id": "bd660b81-2c17-4127-a215-6e286ff9491e",
      "metadata": {
          "id": "f82c95c4-24ba-4f45-991c-2f5ef29ffae8"
      },
      "source": [
        "[![Open In Colab](https://colab.research.google.com/assets/colab-badge.svg)](https://colab.research.google.com/github/pdf-tools/components-code-sample-hub/blob/main/jupyter/pdftools_sdk/pdftools_sdk_visual_signature.ipynb)"
      ]
    },
    {
      "cell_type": "code",
      "execution_count": null,
      "id": "22d59ebe-5085-4662-9958-3537e0cccd9d",
      "metadata": {
          "id": "48b5a896-af84-43ed-a6a7-bc61ad1676bf"
      },
      "outputs": [],
      "source": [
        "%pip install pdftools_sdk\n",
        "%pip install ipython"
      ]
    },
    {
      "cell_type": "markdown",
      "id": "15e077a4-5a0d-47b7-8d21-cb07bc34fc2e",
      "metadata": {
          "id": "4d053ed9-1326-4b18-9c1b-8312a813c4e1"
      },
      "source": [
        "# Sign a PDF and add a visual appearance\n",
        "Add a document signature with a visual appearance.\n",
        "The visual appearance is configured using an XML or JSON\n",
        "file, allowing the addition of text, images, or PDFs.\n",
        "\n",
        "This signature consists of both a visible and a\n",
        "non-visible part.\n",
        "Only the non-visible part verifies the integrity of the\n",
        "signed part of the document and authenticates the\n",
        "signer's identity.\n",
        "The signing certificate is read from a password-protected\n",
        "PKCS#12 file (.pfx or .p12)."
      ]
    },
    {
      "cell_type": "code",
      "execution_count": null,
      "id": "2e6b16e3-6c00-4902-a790-b9a6c00b9a07",
      "metadata": {
          "id": "7d46c1c5-b7a5-4ee5-b872-673e15d1d7b0"
      },
      "outputs": [],
      "source": [
        "import io\n",
        "from pdftools_sdk.pdf import Document\n",
        "from pdftools_sdk.sign import Signer\n",
        "from pdftools_sdk.crypto.providers.built_in import Provider\n",
        "from pdftools_sdk.sign import Appearance"
      ]
    },
    {
      "cell_type": "code",
      "execution_count": null,
      "id": "a22ab51c-9f12-4017-9c39-682ed0853885",
      "metadata": {
          "id": "a9b9eb76-fcc2-4daf-b3db-7982dc19e7e5"
      },
      "outputs": [],
      "source": [
        "# Download a file from a given URL and save it to the local system\n",
        "def prepare_file(url: str, path: str):\n",
        "    import requests\n",
        "    response = requests.get(url)\n",
        "    response.raise_for_status()\n",
        "\n",
        "    with open(path, 'wb') as f:\n",
        "        f.write(response.content)"
      ]
    },
    {
      "cell_type": "code",
      "execution_count": null,
      "id": "f179c3aa-c6ef-4b2e-9168-ca22362cde08",
      "metadata": {
          "id": "e91b6663-15ad-46b2-b095-c8d61810f7d6"
      },
      "outputs": [],
      "source": [
        "# Set input arguments\n",
        "certificate_file = 'INSERT-PFX-FILE'  # Placeholder for PFX file\n",
        "password = 'INSERT-PASSWORD'\n",
        "appearance_config_url = 'https://pdftools-public-downloads-production.s3.eu-west-1.amazonaws.com/samples/testfiles/visual_appearance.xml'\n",
        "appearance_config_file = 'visual_appearance.xml'\n",
        "prepare_file(appearance_config_url, appearance_config_file)\n",
        "input_url = 'https://pdftools-public-downloads-production.s3.eu-west-1.amazonaws.com/samples/testfiles/InvoiceNone.pdf'\n",
        "input_path = 'InvoiceNone.pdf'\n",
        "prepare_file(input_url, input_path)\n",
        "output_path = 'SignedWithAppearance.pdf'"
      ]
    },
    {
      "cell_type": "code",
      "execution_count": null,
      "id": "629475f2-50eb-44da-95d5-189f835d5263",
      "metadata": {
          "id": "10eabd5c-9abe-4464-a3a5-64ed3333742b"
      },
      "outputs": [],
      "source": [
        "def sign(certificate_file: str, password: str, appearance_config_file: str, input_path: str, output_path: str):\n",
        "    # Create a session with the built-in cryptographic provider\n",
        "    with Provider() as session:\n",
        "        # Open certificate file\n",
        "        with io.FileIO(certificate_file, 'rb') as pfx_stream:\n",
        "            # Create signature configuration from PFX (or P12) file\n",
        "            signature = session.create_signature_from_certificate(pfx_stream, password)\n",
        "\n",
        "            # Create appearance from either an XML or JSON file\n",
        "            with io.FileIO(appearance_config_file, 'rb') as appearance_stream:\n",
        "                if appearance_config_file.endswith(\".xml\"):\n",
        "                    signature.appearance = Appearance.create_from_xml(appearance_stream)\n",
        "                else:\n",
        "                    signature.appearance = Appearance.create_from_json(appearance_stream)\n",
        "\n",
        "            signature.appearance.page_number = 1\n",
        "            signature.appearance.custom_text_variables[\"company\"] = \"Daily Planet\"\n",
        "\n",
        "            # Open input document\n",
        "            with io.FileIO(input_path, 'rb') as input_stream:\n",
        "                with Document.open(input_stream) as input_document:\n",
        "                    # Create stream for output file\n",
        "                    with io.FileIO(output_path, 'wb+') as output_stream:\n",
        "                        # Sign the input document\n",
        "                        signer = Signer()\n",
        "                        signer.sign(input_document, signature, output_stream)"
      ]
    },
    {
      "cell_type": "code",
      "execution_count": null,
      "id": "ff5df215-5673-45a3-88ae-cf96e34e494d",
      "metadata": {
          "id": "784b08be-957a-47fa-a257-eced88c043c6"
      },
      "outputs": [],
      "source": [
        "try:\n",
        "    # By default, a test license key is active. In this case, a watermark is added to the output. \n",
        "    # If you have a license key, please uncomment the following call and set the license key.\n",
        "    # from pdftools_sdk.sdk import Sdk\n",
        "    # Sdk.initialize(\"INSERT-LICENSE-KEY\")\n",

        "\n",
        "    # Optional: Set your proxy configuration\n",
        "    # Sdk.set_proxy(\"http://myproxy:8080\")\n",
        "    \n",
        "    # Sign a PDF document\n",
        "    sign(certificate_file, password, appearance_config_file, input_path, output_path)\n",

        "\n",
        "    print(f\"Successfully created file {output_path}\")\n",

        "except Exception as e:\n",
        "    print(f\"An error occurred: {e}\")"
      ]
    }
  ],
  "metadata": {
    "kernelspec": {
      "display_name": "Python 3",
      "language": "python",
      "name": "python3"
    },
    "language_info": {
      "codemirror_mode": {
        "name": "ipython",
        "version": 3
      },
      "file_extension": ".py",
      "mimetype": "text/x-python",
      "name": "python",
      "nbconvert_exporter": "python",
      "pygments_lexer": "ipython3",
      "version": "3.12.8"
    },
    "colab": {
      "provenance": []
    }
  },
  "nbformat": 4,
  "nbformat_minor": 5
}