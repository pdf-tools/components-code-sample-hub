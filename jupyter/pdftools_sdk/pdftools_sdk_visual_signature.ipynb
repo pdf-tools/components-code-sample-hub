{
  "cells": [
    {
      "cell_type": "markdown",
      "id": "6006d8d7-7160-4345-b94e-f474c0621133",
      "metadata": {
          "id": "1ba15e72-9f81-41ee-8686-7fd1a8fd6d0a"
      },
      "source": [
        "[![Open In Colab](https://colab.research.google.com/assets/colab-badge.svg)](https://colab.research.google.com/github/pdf-tools/components-code-sample-hub/blob/main/jupyter/pdftools_sdk/pdftools_sdk_visual_signature.ipynb)"
      ]
    },
    {
      "cell_type": "code",
      "execution_count": null,
      "id": "f99f7c6d-7934-48fd-b98f-820fd7ae1cbc",
      "metadata": {
          "id": "8f71ae45-7b41-4f04-93ba-b509521c18b1"
      },
      "outputs": [],
      "source": [
        "%pip install https://pdftools-public-downloads-production.s3.eu-west-1.amazonaws.com/productkits/PDFSDK/latest/pdftools_sdk-latest.tar.gz\n",
        "%pip install ipython"
      ]
    },
    {
      "cell_type": "markdown",
      "id": "b17d3da7-c3ea-4167-bf6a-8aedbbf39989",
      "metadata": {
          "id": "907179dc-2b03-4e31-b08f-50f3365c4930"
      },
      "source": [
        "# Sign a PDF and add a visual appearance\n",
        "Add a document signature with a visual appearance.\n",
        "The visual appearance is configured using an XML or JSON\n",
        "file, allowing the addition of text, images, or PDFs.\n",
        "\n",
        "This signature consists of both a visible and a\n",
        "non-visible part.\n",
        "Only the non-visible part verifies the integrity of the\n",
        "signed part of the document and authenticates the\n",
        "signer's identity.\n",
        "The signing certificate is read from a password-protected\n",
        "PKCS#12 file (.pfx or .p12)."
      ]
    },
    {
      "cell_type": "code",
      "execution_count": null,
      "id": "e080acd1-a095-4ac4-9c17-0df5b9469f59",
      "metadata": {
          "id": "bd53caff-3134-4732-a6c8-c1c9ff54c8fa"
      },
      "outputs": [],
      "source": [
        "import io\n",
        "from pdftools_sdk.pdf import Document\n",
        "from pdftools_sdk.sign import Signer\n",
        "from pdftools_sdk.crypto.providers.built_in import Provider\n",
        "from pdftools_sdk.sign import Appearance"
      ]
    },
    {
      "cell_type": "code",
      "execution_count": null,
      "id": "49b02fff-a1c1-4aa0-9090-f27279830918",
      "metadata": {
          "id": "271fec6d-c39a-4b52-99bc-f52d6f0c00a9"
      },
      "outputs": [],
      "source": [
        "# Download a file from a given URL and save it to the local system\n",
        "def prepare_file(url: str, path: str):\n",
        "    import requests\n",
        "    response = requests.get(url)\n",
        "    response.raise_for_status()\n",
        "\n",
        "    with open(path, 'wb') as f:\n",
        "        f.write(response.content)"
      ]
    },
    {
      "cell_type": "code",
      "execution_count": null,
      "id": "5facb101-c943-4d7a-b35c-52ba45411302",
      "metadata": {
          "id": "507c6e92-9b55-4dd3-ac50-c57dc138b7f3"
      },
      "outputs": [],
      "source": [
        "# Set input arguments\n",
        "certificate_file = 'INSERT-PFX-FILE'  # Placeholder for PFX file\n",
        "password = 'INSERT-PASSWORD'\n",
        "appearance_config_url = 'https://pdftools-public-downloads-production.s3.eu-west-1.amazonaws.com/samples/testfiles/visual_appearance.xml'\n",
        "appearance_config_file = 'visual_appearance.xml'\n",
        "prepare_file(appearance_config_url, appearance_config_file)\n",
        "input_url = 'https://pdftools-public-downloads-production.s3.eu-west-1.amazonaws.com/samples/testfiles/InvoiceNone.pdf'\n",
        "input_path = 'InvoiceNone.pdf'\n",
        "prepare_file(input_url, input_path)\n",
        "output_path = 'SignedWithAppearance.pdf'"
      ]
    },
    {
      "cell_type": "code",
      "execution_count": null,
      "id": "4c84d148-eebc-4f5e-bd4a-aaaa92115aa2",
      "metadata": {
          "id": "16c10131-0f42-4a6e-ab45-7f3deff4d261"
      },
      "outputs": [],
      "source": [
        "def sign(certificate_file: str, password: str, appearance_config_file: str, input_path: str, output_path: str):\n",
        "    # Create a session with the built-in cryptographic provider\n",
        "    with Provider() as session:\n",
        "        # Open certificate file\n",
        "        with io.FileIO(certificate_file, 'rb') as pfx_stream:\n",
        "            # Create signature configuration from PFX (or P12) file\n",
        "            signature = session.create_signature_from_certificate(pfx_stream, password)\n",
        "\n",
        "            # Create appearance from either an XML or JSON file\n",
        "            with io.FileIO(appearance_config_file, 'rb') as appearance_stream:\n",
        "                if appearance_config_file.endswith(\".xml\"):\n",
        "                    signature.appearance = Appearance.create_from_xml(appearance_stream)\n",
        "                else:\n",
        "                    signature.appearance = Appearance.create_from_json(appearance_stream)\n",
        "\n",
        "            signature.appearance.page_number = 1\n",
        "            signature.appearance.custom_text_variables[\"company\"] = \"Daily Planet\"\n",
        "\n",
        "            # Open input document\n",
        "            with io.FileIO(input_path, 'rb') as input_stream:\n",
        "                with Document.open(input_stream) as input_document:\n",
        "                    # Create stream for output file\n",
        "                    with io.FileIO(output_path, 'wb+') as output_stream:\n",
        "                        # Sign the input document\n",
        "                        signer = Signer()\n",
        "                        signer.sign(input_document, signature, output_stream)"
      ]
    },
    {
      "cell_type": "code",
      "execution_count": null,
      "id": "bfc57e57-d222-47ee-9872-273ede646291",
      "metadata": {
          "id": "9bcfe320-c7b3-4937-8aca-04ae723e0fc8"
      },
      "outputs": [],
      "source": [
        "try:\n",
        "    # By default, a test license key is active. In this case, a watermark is added to the output. \n",
        "    # If you have a license key, please uncomment the following call and set the license key.\n",
        "    # from pdftools_sdk.sdk import Sdk\n",
        "    # Sdk.initialize(\"INSERT-LICENSE-KEY\")\n",

        "\n",
        "    # Optional: Set your proxy configuration\n",
        "    # Sdk.set_proxy(\"http://myproxy:8080\")\n",
        "    \n",
        "    # Sign a PDF document\n",
        "    sign(certificate_file, password, appearance_config_file, input_path, output_path)\n",

        "\n",
        "    print(f\"Successfully created file {output_path}\")\n",

        "except Exception as e:\n",
        "    print(f\"An error occurred: {e}\")"
      ]
    }
  ],
  "metadata": {
    "kernelspec": {
      "display_name": "Python 3",
      "language": "python",
      "name": "python3"
    },
    "language_info": {
      "codemirror_mode": {
        "name": "ipython",
        "version": 3
      },
      "file_extension": ".py",
      "mimetype": "text/x-python",
      "name": "python",
      "nbconvert_exporter": "python",
      "pygments_lexer": "ipython3",
      "version": "3.12.8"
    },
    "colab": {
      "provenance": []
    }
  },
  "nbformat": 4,
  "nbformat_minor": 5
}