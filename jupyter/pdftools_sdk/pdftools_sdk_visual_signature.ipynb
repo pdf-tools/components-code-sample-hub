{
  "cells": [
    {
      "cell_type": "markdown",
      "id": "0021a6ab-effe-4260-b894-14cc8bc1fd7d",
      "metadata": {
          "id": "3fdd4889-a616-4082-b8c6-1341cb730ab1"
      },
      "source": [
        "[![Open In Colab](https://colab.research.google.com/assets/colab-badge.svg)](https://colab.research.google.com/github/pdf-tools/components-code-sample-hub/blob/main/jupyter/pdftools_sdk/pdftools_sdk_visual_signature.ipynb)"
      ]
    },
    {
      "cell_type": "code",
      "execution_count": null,
      "id": "09549cd9-22da-41d5-8b72-e4c8f7871b51",
      "metadata": {
          "id": "65f4f0ec-0161-4db7-af1e-cd2bb2cb5c1f"
      },
      "outputs": [],
      "source": [
        "%pip install https://pdftools-public-downloads-production.s3.eu-west-1.amazonaws.com/productkits/PDFSDK/latest/pdftools_sdk-latest.tar.gz\n",
        "%pip install ipython"
      ]
    },
    {
      "cell_type": "markdown",
      "id": "6a973f0f-bdf7-473b-be95-44a8db8590f9",
      "metadata": {
          "id": "b3cff329-9816-4f2e-9558-09c93ca40ffe"
      },
      "source": [
        "# Sign a PDF and add a visual appearance\n",
        "Add a document signature with a visual appearance.\n",
        "The visual appearance is configured using an XML or JSON\n",
        "file, allowing the addition of text, images, or PDFs.\n",
        "\n",
        "This signature consists of both a visible and a\n",
        "non-visible part.\n",
        "Only the non-visible part verifies the integrity of the\n",
        "signed part of the document and authenticates the\n",
        "signer's identity.\n",
        "The signing certificate is read from a password-protected\n",
        "PKCS#12 file (.pfx or .p12)."
      ]
    },
    {
      "cell_type": "code",
      "execution_count": null,
      "id": "b6058a4e-218d-43ee-99f3-1f8bf6605cc9",
      "metadata": {
          "id": "01db3ce1-f545-48fc-a737-b9ebd3673792"
      },
      "outputs": [],
      "source": [
        "import io\n",
        "from pdftools_sdk.pdf import Document\n",
        "from pdftools_sdk.sign import Signer\n",
        "from pdftools_sdk.crypto.providers.built_in import Provider\n",
        "from pdftools_sdk.sign import Appearance"
      ]
    },
    {
      "cell_type": "code",
      "execution_count": null,
      "id": "0969d340-f476-43f8-9259-4add26a07fe9",
      "metadata": {
          "id": "af492476-90eb-42aa-a001-83bd79dd10b4"
      },
      "outputs": [],
      "source": [
        "# Download a file from a given URL and save it to the local system\n",
        "def prepare_file(url: str, path: str):\n",
        "    import requests\n",
        "    response = requests.get(url)\n",
        "    response.raise_for_status()\n",
        "\n",
        "    with open(path, 'wb') as f:\n",
        "        f.write(response.content)"
      ]
    },
    {
      "cell_type": "code",
      "execution_count": null,
      "id": "a0f56732-e3dc-431d-8035-9ea7f147b3a6",
      "metadata": {
          "id": "41f1b38b-7e33-4112-93a5-c692be5673cc"
      },
      "outputs": [],
      "source": [
        "# Set input arguments\n",
        "certificate_file = 'INSERT-PFX-FILE'  # Placeholder for PFX file\n",
        "password = 'INSERT-PASSWORD'\n",
        "appearance_config_url = 'https://pdftools-public-downloads-production.s3.eu-west-1.amazonaws.com/samples/testfiles/visual_appearance.xml'\n",
        "appearance_config_file = 'visual_appearance.xml'\n",
        "prepare_file(appearance_config_url, appearance_config_file)\n",
        "input_url = 'https://pdftools-public-downloads-production.s3.eu-west-1.amazonaws.com/samples/testfiles/InvoiceNone.pdf'\n",
        "input_path = 'InvoiceNone.pdf'\n",
        "prepare_file(input_url, input_path)\n",
        "output_path = 'SignedWithAppearance.pdf'"
      ]
    },
    {
      "cell_type": "code",
      "execution_count": null,
      "id": "7d691f4a-9495-44cc-aa11-8c778cf53a98",
      "metadata": {
          "id": "073e0355-d022-4b94-830c-0b1390fdea2b"
      },
      "outputs": [],
      "source": [
        "def sign(certificate_file: str, password: str, appearance_config_file: str, input_path: str, output_path: str):\n",
        "    # Create a session with the built-in cryptographic provider\n",
        "    with Provider() as session:\n",
        "        # Open certificate file\n",
        "        with io.FileIO(certificate_file, 'rb') as pfx_stream:\n",
        "            # Create signature configuration from PFX (or P12) file\n",
        "            signature = session.create_signature_from_certificate(pfx_stream, password)\n",
        "\n",
        "            # Create appearance from either an XML or JSON file\n",
        "            with io.FileIO(appearance_config_file, 'rb') as appearance_stream:\n",
        "                if appearance_config_file.endswith(\".xml\"):\n",
        "                    signature.appearance = Appearance.create_from_xml(appearance_stream)\n",
        "                else:\n",
        "                    signature.appearance = Appearance.create_from_json(appearance_stream)\n",
        "\n",
        "            signature.appearance.page_number = 1\n",
        "            signature.appearance.custom_text_variables[\"company\"] = \"Daily Planet\"\n",
        "\n",
        "            # Open input document\n",
        "            with io.FileIO(input_path, 'rb') as input_stream:\n",
        "                with Document.open(input_stream) as input_document:\n",
        "                    # Create stream for output file\n",
        "                    with io.FileIO(output_path, 'wb+') as output_stream:\n",
        "                        # Sign the input document\n",
        "                        signer = Signer()\n",
        "                        signer.sign(input_document, signature, output_stream)"
      ]
    },
    {
      "cell_type": "code",
      "execution_count": null,
      "id": "3a81716d-8caa-47d8-82f7-3f0ab4794ee9",
      "metadata": {
          "id": "d433a69a-9ebd-4e4d-90d4-071869da9a28"
      },
      "outputs": [],
      "source": [
        "try:\n",
        "    # By default, a test license key is active. In this case, a watermark is added to the output. \n",
        "    # If you have a license key, please uncomment the following call and set the license key.\n",
        "    # from pdftools_sdk.sdk import Sdk\n",
        "    # Sdk.initialize(\"INSERT-LICENSE-KEY\")\n",

        "\n",
        "    # Optional: Set your proxy configuration\n",
        "    # Sdk.set_proxy(\"http://myproxy:8080\")\n",
        "    \n",
        "    # Sign a PDF document\n",
        "    sign(certificate_file, password, appearance_config_file, input_path, output_path)\n",

        "\n",
        "    print(f\"Successfully created file {output_path}\")\n",

        "except Exception as e:\n",
        "    print(f\"An error occurred: {e}\")"
      ]
    }
  ],
  "metadata": {
    "kernelspec": {
      "display_name": "Python 3",
      "language": "python",
      "name": "python3"
    },
    "language_info": {
      "codemirror_mode": {
        "name": "ipython",
        "version": 3
      },
      "file_extension": ".py",
      "mimetype": "text/x-python",
      "name": "python",
      "nbconvert_exporter": "python",
      "pygments_lexer": "ipython3",
      "version": "3.12.8"
    },
    "colab": {
      "provenance": []
    }
  },
  "nbformat": 4,
  "nbformat_minor": 5
}