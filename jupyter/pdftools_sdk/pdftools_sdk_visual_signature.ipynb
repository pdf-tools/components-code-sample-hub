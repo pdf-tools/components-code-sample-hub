{
  "cells": [
    {
      "cell_type": "markdown",
      "id": "785d38a8-1e6d-41b0-9061-7732692b9b3a",
      "metadata": {
          "id": "9d38e059-4a4d-4c3d-9679-7137444246d9"
      },
      "source": [
        "[![Open In Colab](https://colab.research.google.com/assets/colab-badge.svg)](https://colab.research.google.com/github/pdf-tools/components-code-sample-hub/blob/main/jupyter/pdftools_sdk/pdftools_sdk_visual_signature.ipynb)"
      ]
    },
    {
      "cell_type": "code",
      "execution_count": null,
      "id": "be1703ac-981e-4ab7-a8e4-5c904c8eed1a",
      "metadata": {
          "id": "c057d8cc-6f4a-413f-be10-4c8bdded7de1"
      },
      "outputs": [],
      "source": [
        "%pip install https://pdftools-public-downloads-production.s3.eu-west-1.amazonaws.com/productkits/PDFSDK/latest/pdftools_sdk-latest.tar.gz\n",
        "%pip install ipython"
      ]
    },
    {
      "cell_type": "markdown",
      "id": "e600e3b6-0081-4936-967d-2e45b55b5538",
      "metadata": {
          "id": "ee6d4b5d-3a5a-42d3-8506-0a45852c47d8"
      },
      "source": [
        "# Sign a PDF and add a visual appearance\n",
        "Add a document signature with a visual appearance.\n",
        "The visual appearance is configured using an XML or JSON\n",
        "file, allowing the addition of text, images, or PDFs.\n",
        "\n",
        "This signature consists of both a visible and a\n",
        "non-visible part.\n",
        "Only the non-visible part verifies the integrity of the\n",
        "signed part of the document and authenticates the\n",
        "signer's identity.\n",
        "The signing certificate is read from a password-protected\n",
        "PKCS#12 file (.pfx or .p12)."
      ]
    },
    {
      "cell_type": "code",
      "execution_count": null,
      "id": "e6f96293-2c3a-4c09-bb29-f3d36e861841",
      "metadata": {
          "id": "2f886144-ec2d-473c-933e-29e1fdf38e49"
      },
      "outputs": [],
      "source": [
        "import io\n",
        "from pdftools_sdk.pdf import Document\n",
        "from pdftools_sdk.sign import Signer\n",
        "from pdftools_sdk.crypto.providers.built_in import Provider\n",
        "from pdftools_sdk.sign import Appearance"
      ]
    },
    {
      "cell_type": "code",
      "execution_count": null,
      "id": "4f0bea8d-a5e7-4492-a941-fb0d07278a00",
      "metadata": {
          "id": "2fa3da45-00c3-4438-98d7-f9c11c028df1"
      },
      "outputs": [],
      "source": [
        "# Download a file from a given URL and save it to the local system\n",
        "def prepare_file(url: str, path: str):\n",
        "    import requests\n",
        "    response = requests.get(url)\n",
        "    response.raise_for_status()\n",
        "\n",
        "    with open(path, 'wb') as f:\n",
        "        f.write(response.content)"
      ]
    },
    {
      "cell_type": "code",
      "execution_count": null,
      "id": "0081c2e1-7314-4d10-8a27-b591d304ebd5",
      "metadata": {
          "id": "6ce3eda9-6351-4240-b888-f937b1fb357e"
      },
      "outputs": [],
      "source": [
        "# Set input arguments\n",
        "certificate_file = 'INSERT-PFX-FILE'  # Placeholder for PFX file\n",
        "password = 'INSERT-PASSWORD'\n",
        "appearance_config_url = 'https://pdftools-public-downloads-production.s3.eu-west-1.amazonaws.com/samples/testfiles/visual_appearance.xml'\n",
        "appearance_config_file = 'visual_appearance.xml'\n",
        "prepare_file(appearance_config_url, appearance_config_file)\n",
        "input_url = 'https://pdftools-public-downloads-production.s3.eu-west-1.amazonaws.com/samples/testfiles/InvoiceNone.pdf'\n",
        "input_path = 'InvoiceNone.pdf'\n",
        "prepare_file(input_url, input_path)\n",
        "output_path = 'SignedWithAppearance.pdf'"
      ]
    },
    {
      "cell_type": "code",
      "execution_count": null,
      "id": "f18c8646-0dc2-4ecc-9fae-102a5e9f0be3",
      "metadata": {
          "id": "58727fd1-ccff-42af-9f07-358a485bf42f"
      },
      "outputs": [],
      "source": [
        "def sign(certificate_file: str, password: str, appearance_config_file: str, input_path: str, output_path: str):\n",
        "    # Create a session with the built-in cryptographic provider\n",
        "    with Provider() as session:\n",
        "        # Open certificate file\n",
        "        with io.FileIO(certificate_file, 'rb') as pfx_stream:\n",
        "            # Create signature configuration from PFX (or P12) file\n",
        "            signature = session.create_signature_from_certificate(pfx_stream, password)\n",
        "\n",
        "            # Create appearance from either an XML or JSON file\n",
        "            with io.FileIO(appearance_config_file, 'rb') as appearance_stream:\n",
        "                if appearance_config_file.endswith(\".xml\"):\n",
        "                    signature.appearance = Appearance.create_from_xml(appearance_stream)\n",
        "                else:\n",
        "                    signature.appearance = Appearance.create_from_json(appearance_stream)\n",
        "\n",
        "            signature.appearance.page_number = 1\n",
        "            signature.appearance.custom_text_variables[\"company\"] = \"Daily Planet\"\n",
        "\n",
        "            # Open input document\n",
        "            with io.FileIO(input_path, 'rb') as input_stream:\n",
        "                with Document.open(input_stream) as input_document:\n",
        "                    # Create stream for output file\n",
        "                    with io.FileIO(output_path, 'wb+') as output_stream:\n",
        "                        # Sign the input document\n",
        "                        signer = Signer()\n",
        "                        signer.sign(input_document, signature, output_stream)"
      ]
    },
    {
      "cell_type": "code",
      "execution_count": null,
      "id": "e0c67efd-ee41-4e88-a4b2-66edf4bf0f13",
      "metadata": {
          "id": "7bc6b6a3-d019-4f7e-8438-274cca3cfaf9"
      },
      "outputs": [],
      "source": [
        "try:\n",
        "    # By default, a test license key is active. In this case, a watermark is added to the output. \n",
        "    # If you have a license key, please uncomment the following call and set the license key.\n",
        "    # from pdftools_sdk.sdk import Sdk\n",
        "    # Sdk.initialize(\"<PDFSDK,V1,MGAASQD6L2JMQHL54PK08RQX8GG4SS0M8DAHVPH0VMP3NB8R9DUK>\")\n",

        "\n",
        "    # Optional: Set your proxy configuration\n",
        "    # Sdk.set_proxy(\"http://myproxy:8080\")\n",
        "    \n",
        "    # Sign a PDF document\n",
        "    sign(certificate_file, password, appearance_config_file, input_path, output_path)\n",

        "\n",
        "    print(f\"Successfully created file {output_path}\")\n",

        "except Exception as e:\n",
        "    print(f\"An error occurred: {e}\")"
      ]
    }
  ],
  "metadata": {
    "kernelspec": {
      "display_name": "Python 3",
      "language": "python",
      "name": "python3"
    },
    "language_info": {
      "codemirror_mode": {
        "name": "ipython",
        "version": 3
      },
      "file_extension": ".py",
      "mimetype": "text/x-python",
      "name": "python",
      "nbconvert_exporter": "python",
      "pygments_lexer": "ipython3",
      "version": "3.12.8"
    },
    "colab": {
      "provenance": []
    }
  },
  "nbformat": 4,
  "nbformat_minor": 5
}