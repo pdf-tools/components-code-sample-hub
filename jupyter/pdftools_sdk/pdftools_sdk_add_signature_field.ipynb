{
  "cells": [
    {
      "cell_type": "markdown",
      "id": "45dcce1b-06f6-499a-b01f-b9a823f151d9",
      "metadata": {
          "id": "d0923854-657e-4a92-afe3-8882cd54d620"
      },
      "source": [
        "[![Open In Colab](https://colab.research.google.com/assets/colab-badge.svg)](https://colab.research.google.com/github/pdf-tools/components-code-sample-hub/blob/main/jupyter/pdftools_sdk/pdftools_sdk_add_signature_field.ipynb)"
      ]
    },
    {
      "cell_type": "code",
      "execution_count": null,
      "id": "6ecb849b-a6bd-48e7-83d8-73e3649a2c3e",
      "metadata": {
          "id": "352ab09b-f12b-41fe-9b25-7c8db4784a35"
      },
      "outputs": [],
      "source": [
        "%pip install pdftools_sdk\n",
        "%pip install ipython"
      ]
    },
    {
      "cell_type": "markdown",
      "id": "03b272cb-4c7a-4151-99dc-bb7093b59bbe",
      "metadata": {
          "id": "b8543288-3ba8-421c-89f3-aa9207142dee"
      },
      "source": [
        "# Add a signature field to a PDF\n",
        "Add an unsigned signature field that can be signed in\n",
        "another application.\n",
        "The signature field indicates that the document requires\n",
        "a signature and defines the page and position\n",
        "where the signature's visual appearance will be placed.\n",
        "This is especially useful for forms and contracts\n",
        "with designated signature spaces. The signature visual\n",
        "appearance is irrelevant to the signature validation\n",
        "process and only serves as a visual cue for the user."
      ]
    },
    {
      "cell_type": "code",
      "execution_count": null,
      "id": "5b11b863-7f1e-4171-b0ec-d2fbf89099ac",
      "metadata": {
          "id": "db824c34-2e3a-451e-8714-34052e0d6925"
      },
      "outputs": [],
      "source": [
        "import io\n",
        "from pdftools_sdk.pdf import Document\n",
        "from pdftools_sdk.sign import Signer, SignatureFieldOptions, Appearance\n",
        "from pdftools_sdk.geometry.units import Size"
      ]
    },
    {
      "cell_type": "code",
      "execution_count": null,
      "id": "5671191a-1f48-4da7-9e0e-c8429e91017f",
      "metadata": {
          "id": "6f1d42ba-1dcd-4c52-b871-acc6fee8030b"
      },
      "outputs": [],
      "source": [
        "# Download a file from a given URL and save it to the local system\n",
        "def prepare_file(url: str, path: str):\n",
        "    import requests\n",
        "    response = requests.get(url)\n",
        "    response.raise_for_status()\n",
        "\n",
        "    with open(path, 'wb') as f:\n",
        "        f.write(response.content)"
      ]
    },
    {
      "cell_type": "code",
      "execution_count": null,
      "id": "631fbe03-7836-4d6f-b899-6e764ae2cd90",
      "metadata": {
          "id": "ca22edfe-2454-4f7a-9758-ca3f6fbfccfc"
      },
      "outputs": [],
      "source": [
        "# Set input arguments\n",
        "input_url = 'https://pdftools-public-downloads-production.s3.eu-west-1.amazonaws.com/samples/testfiles/FormNone.pdf'\n",
        "input_path = 'FormNone.pdf'\n",
        "prepare_file(input_url, input_path)\n",
        "output_path = 'FormWithField.pdf'"
      ]
    },
    {
      "cell_type": "code",
      "execution_count": null,
      "id": "71195cdf-657d-4244-adcf-6da46d1a87dc",
      "metadata": {
          "id": "6acfa411-ffff-484a-8426-c5923e441915"
      },
      "outputs": [],
      "source": [
        "def add_signature_field(input_path: str, output_path: str):\n",
        "    # Open input document\n",
        "    with io.FileIO(input_path, 'rb') as in_stream:\n",
        "        with Document.open(in_stream) as input_document:\n",
        "            # Create empty field appearance that is 6cm by 3cm in size\n",
        "            appearance = Appearance.create_field_bounding_box(Size(170.08, 85.04))\n",
        "\n",
        "            # Add field to last page of document\n",
        "            appearance.page_number = input_document.page_count\n",
        "\n",
        "            # Position field\n",
        "            appearance.bottom = 85.04\n",
        "            appearance.left = 184.25\n",
        "\n",
        "            # Create a signature field configuration\n",
        "            field = SignatureFieldOptions(appearance)\n",
        "\n",
        "            # Create stream for output file\n",
        "            with io.FileIO(output_path, 'wb+') as output_stream:\n",
        "                # Sign the input document\n",
        "                signer = Signer()\n",
        "                signer.add_signature_field(input_document, field, output_stream)"
      ]
    },
    {
      "cell_type": "code",
      "execution_count": null,
      "id": "e14d151f-6fc7-474e-803d-0d4c662168e5",
      "metadata": {
          "id": "3659c790-634f-4f39-94fb-b8a7ad0cc219"
      },
      "outputs": [],
      "source": [
        "try:\n",
        "    # By default, a test license key is active. In this case, a watermark is added to the output. \n",
        "    # If you have a license key, please uncomment the following call and set the license key.\n",
        "    # from pdftools_sdk.sdk import Sdk\n",
        "    # Sdk.initialize(\"INSERT-LICENSE-KEY\")\n",

        "\n",
        "    # Sign the input document\n",
        "    add_signature_field(input_path, output_path)\n",

        "\n",
        "    print(f\"Successfully created file {output_path}\")\n",

        "except Exception as e:\n",
        "    print(f\"An error occurred: {e}\")"
      ]
    }
  ],
  "metadata": {
    "kernelspec": {
      "display_name": "Python 3",
      "language": "python",
      "name": "python3"
    },
    "language_info": {
      "codemirror_mode": {
        "name": "ipython",
        "version": 3
      },
      "file_extension": ".py",
      "mimetype": "text/x-python",
      "name": "python",
      "nbconvert_exporter": "python",
      "pygments_lexer": "ipython3",
      "version": "3.12.8"
    },
    "colab": {
      "provenance": []
    }
  },
  "nbformat": 4,
  "nbformat_minor": 5
}