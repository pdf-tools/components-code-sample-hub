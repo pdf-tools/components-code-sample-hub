{
  "cells": [
    {
      "cell_type": "markdown",
      "id": "b7063f89-d83a-4f8f-91e3-e44ccee92e5a",
      "metadata": {
          "id": "6ef845f5-2815-4144-8e4a-483fed9e4e6f"
      },
      "source": [
        "[![Open In Colab](https://colab.research.google.com/assets/colab-badge.svg)](https://colab.research.google.com/github/pdf-tools/components-code-sample-hub/blob/main/jupyter/pdftools_sdk/pdftools_sdk_add_signature_field.ipynb)"
      ]
    },
    {
      "cell_type": "code",
      "execution_count": null,
      "id": "4994805f-2eed-44ae-a398-efbcb4e98e67",
      "metadata": {
          "id": "e55fb541-6965-4003-9fce-54f4d05e98b1"
      },
      "outputs": [],
      "source": [
        "%pip install https://pdftools-public-downloads-production.s3.eu-west-1.amazonaws.com/productkits/PDFSDK/latest/pdftools_sdk-latest.tar.gz\n",
        "%pip install ipython"
      ]
    },
    {
      "cell_type": "markdown",
      "id": "1727bfae-5336-49be-a4c8-eabe346320e7",
      "metadata": {
          "id": "1d479c01-dc83-405b-acb9-22b00cc7282c"
      },
      "source": [
        "# Add a signature field to a PDF\n",
        "Add an unsigned signature field that can be signed in\n",
        "another application.\n",
        "The signature field indicates that the document requires\n",
        "a signature and defines the page and position\n",
        "where the signature's visual appearance will be placed.\n",
        "This is especially useful for forms and contracts\n",
        "with designated signature spaces. The signature visual\n",
        "appearance is irrelevant to the signature validation\n",
        "process and only serves as a visual cue for the user."
      ]
    },
    {
      "cell_type": "code",
      "execution_count": null,
      "id": "f5d3c3ff-0de3-4247-8dfb-f952fe6f97a9",
      "metadata": {
          "id": "b36ad6ea-c41a-43c5-bc96-376d747cc995"
      },
      "outputs": [],
      "source": [
        "import io\n",
        "from pdftools_sdk.pdf import Document\n",
        "from pdftools_sdk.sign import Signer, SignatureFieldOptions, Appearance\n",
        "from pdftools_sdk.geometry.units import Size"
      ]
    },
    {
      "cell_type": "code",
      "execution_count": null,
      "id": "ff0e57d2-920a-48d6-b46a-efacb0966dd0",
      "metadata": {
          "id": "ef173fd3-4ed7-4fdd-81f6-b40c4c41d684"
      },
      "outputs": [],
      "source": [
        "# Download a file from a given URL and save it to the local system\n",
        "def prepare_file(url: str, path: str):\n",
        "    import requests\n",
        "    response = requests.get(url)\n",
        "    response.raise_for_status()\n",
        "\n",
        "    with open(path, 'wb') as f:\n",
        "        f.write(response.content)"
      ]
    },
    {
      "cell_type": "code",
      "execution_count": null,
      "id": "fc26bcf8-d1c0-4f97-ae87-6cf126121fdc",
      "metadata": {
          "id": "88233c25-ec6b-48f8-a6d8-2ae5b56d3f94"
      },
      "outputs": [],
      "source": [
        "# Set input arguments\n",
        "input_url = 'https://pdftools-public-downloads-production.s3.eu-west-1.amazonaws.com/samples/testfiles/FormNone.pdf'\n",
        "input_path = 'FormNone.pdf'\n",
        "prepare_file(input_url, input_path)\n",
        "output_path = 'FormWithField.pdf'"
      ]
    },
    {
      "cell_type": "code",
      "execution_count": null,
      "id": "382e257e-7d1f-4e03-9ef9-464b492ca10e",
      "metadata": {
          "id": "cba1f86d-0b98-4ae5-aa85-1ca9d8794413"
      },
      "outputs": [],
      "source": [
        "def add_signature_field(input_path: str, output_path: str):\n",
        "    # Open input document\n",
        "    with io.FileIO(input_path, 'rb') as in_stream:\n",
        "        with Document.open(in_stream) as input_document:\n",
        "            # Create empty field appearance that is 6cm by 3cm in size\n",
        "            appearance = Appearance.create_field_bounding_box(Size(170.08, 85.04))\n",
        "\n",
        "            # Add field to last page of document\n",
        "            appearance.page_number = input_document.page_count\n",
        "\n",
        "            # Position field\n",
        "            appearance.bottom = 85.04\n",
        "            appearance.left = 184.25\n",
        "\n",
        "            # Create a signature field configuration\n",
        "            field = SignatureFieldOptions(appearance)\n",
        "\n",
        "            # Create stream for output file\n",
        "            with io.FileIO(output_path, 'wb+') as output_stream:\n",
        "                # Sign the input document\n",
        "                signer = Signer()\n",
        "                signer.add_signature_field(input_document, field, output_stream)"
      ]
    },
    {
      "cell_type": "code",
      "execution_count": null,
      "id": "1d634b11-1c0f-49b3-beca-8dee762fb28d",
      "metadata": {
          "id": "19425cc2-494c-4d24-b8d2-35cf339a14b5"
      },
      "outputs": [],
      "source": [
        "try:\n",
        "    # By default, a test license key is active. In this case, a watermark is added to the output. \n",
        "    # If you have a license key, please uncomment the following call and set the license key.\n",
        "    # from pdftools_sdk.sdk import Sdk\n",
        "    # Sdk.initialize(\"INSERT-LICENSE-KEY\")\n",

        "\n",
        "    # Sign the input document\n",
        "    add_signature_field(input_path, output_path)\n",

        "\n",
        "    print(f\"Successfully created file {output_path}\")\n",

        "except Exception as e:\n",
        "    print(f\"An error occurred: {e}\")"
      ]
    }
  ],
  "metadata": {
    "kernelspec": {
      "display_name": "Python 3",
      "language": "python",
      "name": "python3"
    },
    "language_info": {
      "codemirror_mode": {
        "name": "ipython",
        "version": 3
      },
      "file_extension": ".py",
      "mimetype": "text/x-python",
      "name": "python",
      "nbconvert_exporter": "python",
      "pygments_lexer": "ipython3",
      "version": "3.12.8"
    },
    "colab": {
      "provenance": []
    }
  },
  "nbformat": 4,
  "nbformat_minor": 5
}