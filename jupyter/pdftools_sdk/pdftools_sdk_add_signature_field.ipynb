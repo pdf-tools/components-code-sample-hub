{
  "cells": [
    {
      "cell_type": "markdown",
      "id": "e74c2c99-d143-417a-82fc-66bb68b3cc44",
      "metadata": {
          "id": "450ce5df-469d-4ef0-b8a2-ecf59f7300ac"
      },
      "source": [
        "[![Open In Colab](https://colab.research.google.com/assets/colab-badge.svg)](https://colab.research.google.com/github/pdf-tools/components-code-sample-hub/blob/main/jupyter/pdftools_sdk/pdftools_sdk_add_signature_field.ipynb)"
      ]
    },
    {
      "cell_type": "code",
      "execution_count": null,
      "id": "54477b1e-8b70-49e4-a5c1-93b4f22844aa",
      "metadata": {
          "id": "5a97d0d0-be1a-4df1-a4ca-64218be4fb3e"
      },
      "outputs": [],
      "source": [
        "%pip install https://pdftools-public-downloads-production.s3.eu-west-1.amazonaws.com/productkits/PDFSDK/latest/pdftools_sdk-latest.tar.gz\n",
        "%pip install ipython"
      ]
    },
    {
      "cell_type": "markdown",
      "id": "294b2c6e-e75a-4a67-a38e-83e270945203",
      "metadata": {
          "id": "a7e609bb-9bbf-4e15-83e5-61fb44372747"
      },
      "source": [
        "# Add a signature field to a PDF\n",
        "Add an unsigned signature field that can be signed in\n",
        "another application.\n",
        "The signature field indicates that the document requires\n",
        "a signature and defines the page and position\n",
        "where the signature's visual appearance will be placed.\n",
        "This is especially useful for forms and contracts\n",
        "with designated signature spaces. The signature visual\n",
        "appearance is irrelevant to the signature validation\n",
        "process and only serves as a visual cue for the user."
      ]
    },
    {
      "cell_type": "code",
      "execution_count": null,
      "id": "664780e9-205e-4a4c-8954-098b1db4cba1",
      "metadata": {
          "id": "daf45dca-9aba-40d1-864c-3483e1eb837e"
      },
      "outputs": [],
      "source": [
        "import io\n",
        "from pdftools_sdk.pdf import Document\n",
        "from pdftools_sdk.sign import Signer, SignatureFieldOptions, Appearance\n",
        "from pdftools_sdk.geometry.units import Size"
      ]
    },
    {
      "cell_type": "code",
      "execution_count": null,
      "id": "2ec554b7-1b41-493a-9efd-91a687875d41",
      "metadata": {
          "id": "6e077c97-c4bb-4e1d-a9f8-7d18734d6f65"
      },
      "outputs": [],
      "source": [
        "# Download a file from a given URL and save it to the local system\n",
        "def prepare_file(url: str, path: str):\n",
        "    import requests\n",
        "    response = requests.get(url)\n",
        "    response.raise_for_status()\n",
        "\n",
        "    with open(path, 'wb') as f:\n",
        "        f.write(response.content)"
      ]
    },
    {
      "cell_type": "code",
      "execution_count": null,
      "id": "b2edc719-6fd5-483d-a65d-64439e76ddc5",
      "metadata": {
          "id": "41242332-1866-4b37-8cbf-3ebb418a05de"
      },
      "outputs": [],
      "source": [
        "# Set input arguments\n",
        "input_url = 'https://pdftools-public-downloads-production.s3.eu-west-1.amazonaws.com/samples/testfiles/FormNone.pdf'\n",
        "input_path = 'FormNone.pdf'\n",
        "prepare_file(input_url, input_path)\n",
        "output_path = 'FormWithField.pdf'"
      ]
    },
    {
      "cell_type": "code",
      "execution_count": null,
      "id": "67085d50-e5be-46e4-93c4-2464ac3cf4e2",
      "metadata": {
          "id": "ea3fa8de-61c1-4c4f-bab6-d64a276ac8fe"
      },
      "outputs": [],
      "source": [
        "def add_signature_field(input_path: str, output_path: str):\n",
        "    # Open input document\n",
        "    with io.FileIO(input_path, 'rb') as in_stream:\n",
        "        with Document.open(in_stream) as input_document:\n",
        "            # Create empty field appearance that is 6cm by 3cm in size\n",
        "            appearance = Appearance.create_field_bounding_box(Size(170.08, 85.04))\n",
        "\n",
        "            # Add field to last page of document\n",
        "            appearance.page_number = input_document.page_count\n",
        "\n",
        "            # Position field\n",
        "            appearance.bottom = 85.04\n",
        "            appearance.left = 184.25\n",
        "\n",
        "            # Create a signature field configuration\n",
        "            field = SignatureFieldOptions(appearance)\n",
        "\n",
        "            # Create stream for output file\n",
        "            with io.FileIO(output_path, 'wb+') as output_stream:\n",
        "                # Sign the input document\n",
        "                signer = Signer()\n",
        "                signer.add_signature_field(input_document, field, output_stream)"
      ]
    },
    {
      "cell_type": "code",
      "execution_count": null,
      "id": "d706bfc5-ae3f-4519-a5be-1298a99a130b",
      "metadata": {
          "id": "8f4a4b63-29c1-4f3c-9d7e-f54b3905b675"
      },
      "outputs": [],
      "source": [
        "try:\n",
        "    # By default, a test license key is active. In this case, a watermark is added to the output. \n",
        "    # If you have a license key, please uncomment the following call and set the license key.\n",
        "    # from pdftools_sdk.sdk import Sdk\n",
        "    # Sdk.initialize(\"<PDFSDK,V1,MGAASQD6L2JMQHL54PK08RQX8GG4SS0M8DAHVPH0VMP3NB8R9DUK>\")\n",

        "\n",
        "    # Sign the input document\n",
        "    add_signature_field(input_path, output_path)\n",

        "\n",
        "    print(f\"Successfully created file {output_path}\")\n",

        "except Exception as e:\n",
        "    print(f\"An error occurred: {e}\")"
      ]
    }
  ],
  "metadata": {
    "kernelspec": {
      "display_name": "Python 3",
      "language": "python",
      "name": "python3"
    },
    "language_info": {
      "codemirror_mode": {
        "name": "ipython",
        "version": 3
      },
      "file_extension": ".py",
      "mimetype": "text/x-python",
      "name": "python",
      "nbconvert_exporter": "python",
      "pygments_lexer": "ipython3",
      "version": "3.12.8"
    },
    "colab": {
      "provenance": []
    }
  },
  "nbformat": 4,
  "nbformat_minor": 5
}