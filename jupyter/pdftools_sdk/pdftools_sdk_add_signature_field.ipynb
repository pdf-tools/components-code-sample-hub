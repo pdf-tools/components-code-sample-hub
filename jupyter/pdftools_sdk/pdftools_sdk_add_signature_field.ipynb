{
  "cells": [
    {
      "cell_type": "markdown",
      "id": "229bd94f-1aaf-483f-bc89-c47d8702ba18",
      "metadata": {
          "id": "b3a0a451-04f0-4282-9fc3-1ca1eafbb2ee"
      },
      "source": [
        "[![Open In Colab](https://colab.research.google.com/assets/colab-badge.svg)](https://colab.research.google.com/github/pdf-tools/components-code-sample-hub/blob/main/jupyter/pdftools_sdk/pdftools_sdk_add_signature_field.ipynb)"
      ]
    },
    {
      "cell_type": "code",
      "execution_count": null,
      "id": "730d4103-902f-46db-bb73-733b0d85786b",
      "metadata": {
          "id": "a5006a8d-6fc9-4667-a6df-ed2930fee3f9"
      },
      "outputs": [],
      "source": [
        "%pip install https://pdftools-public-downloads-production.s3.eu-west-1.amazonaws.com/productkits/PDFSDK/latest/pdftools_sdk-latest.tar.gz\n",
        "%pip install ipython"
      ]
    },
    {
      "cell_type": "markdown",
      "id": "e94043af-b7c9-4ae2-878b-d500ff970228",
      "metadata": {
          "id": "1723967c-5fd5-4f03-b4d2-e8a006a0924d"
      },
      "source": [
        "# Add a signature field to a PDF\n",
        "Add an unsigned signature field that can be signed in\n",
        "another application.\n",
        "The signature field indicates that the document requires\n",
        "a signature and defines the page and position\n",
        "where the signature's visual appearance will be placed.\n",
        "This is especially useful for forms and contracts\n",
        "with designated signature spaces. The signature visual\n",
        "appearance is irrelevant to the signature validation\n",
        "process and only serves as a visual cue for the user."
      ]
    },
    {
      "cell_type": "code",
      "execution_count": null,
      "id": "89c3a55c-774a-48d7-b1f6-baedd7243f09",
      "metadata": {
          "id": "1dcfe441-e315-4633-a100-d421167d3b84"
      },
      "outputs": [],
      "source": [
        "import io\n",
        "from pdftools_sdk.pdf import Document\n",
        "from pdftools_sdk.sign import Signer, SignatureFieldOptions, Appearance\n",
        "from pdftools_sdk.geometry.units import Size"
      ]
    },
    {
      "cell_type": "code",
      "execution_count": null,
      "id": "18ba85a3-cff8-49d7-9e91-6c722790e2cd",
      "metadata": {
          "id": "55afa8c3-4c8e-4c88-a7f9-9ee32eab1103"
      },
      "outputs": [],
      "source": [
        "# Download a file from a given URL and save it to the local system\n",
        "def prepare_file(url: str, path: str):\n",
        "    import requests\n",
        "    response = requests.get(url)\n",
        "    response.raise_for_status()\n",
        "\n",
        "    with open(path, 'wb') as f:\n",
        "        f.write(response.content)"
      ]
    },
    {
      "cell_type": "code",
      "execution_count": null,
      "id": "41ad1997-3169-4e6a-8ca0-795c9e2fdb6b",
      "metadata": {
          "id": "630fd531-6cc6-48ec-bb2e-59802d5040b4"
      },
      "outputs": [],
      "source": [
        "# Set input arguments\n",
        "input_url = 'https://pdftools-public-downloads-production.s3.eu-west-1.amazonaws.com/samples/testfiles/FormNone.pdf'\n",
        "input_path = 'FormNone.pdf'\n",
        "prepare_file(input_url, input_path)\n",
        "output_path = 'FormWithField.pdf'"
      ]
    },
    {
      "cell_type": "code",
      "execution_count": null,
      "id": "898b2fd9-6e49-4e7d-ad54-ee68b25e5384",
      "metadata": {
          "id": "7ba30f54-bac9-4230-91dc-e21f15731ff4"
      },
      "outputs": [],
      "source": [
        "def add_signature_field(input_path: str, output_path: str):\n",
        "    # Open input document\n",
        "    with io.FileIO(input_path, 'rb') as in_stream:\n",
        "        with Document.open(in_stream) as input_document:\n",
        "            # Create empty field appearance that is 6cm by 3cm in size\n",
        "            appearance = Appearance.create_field_bounding_box(Size(170.08, 85.04))\n",
        "\n",
        "            # Add field to last page of document\n",
        "            appearance.page_number = input_document.page_count\n",
        "\n",
        "            # Position field\n",
        "            appearance.bottom = 85.04\n",
        "            appearance.left = 184.25\n",
        "\n",
        "            # Create a signature field configuration\n",
        "            field = SignatureFieldOptions(appearance)\n",
        "\n",
        "            # Create stream for output file\n",
        "            with io.FileIO(output_path, 'wb+') as output_stream:\n",
        "                # Sign the input document\n",
        "                signer = Signer()\n",
        "                signer.add_signature_field(input_document, field, output_stream)"
      ]
    },
    {
      "cell_type": "code",
      "execution_count": null,
      "id": "60d06c5d-e144-4a74-aa44-4100a9509644",
      "metadata": {
          "id": "325a3314-ce05-4b26-83ad-2029f8831ab6"
      },
      "outputs": [],
      "source": [
        "try:\n",
        "    # By default, a test license key is active. In this case, a watermark is added to the output. \n",
        "    # If you have a license key, please uncomment the following call and set the license key.\n",
        "    # from pdftools_sdk.sdk import Sdk\n",
        "    # Sdk.initialize(\"INSERT-LICENSE-KEY\")\n",

        "\n",
        "    # Sign the input document\n",
        "    add_signature_field(input_path, output_path)\n",

        "\n",
        "    print(f\"Successfully created file {output_path}\")\n",

        "except Exception as e:\n",
        "    print(f\"An error occurred: {e}\")"
      ]
    }
  ],
  "metadata": {
    "kernelspec": {
      "display_name": "Python 3",
      "language": "python",
      "name": "python3"
    },
    "language_info": {
      "codemirror_mode": {
        "name": "ipython",
        "version": 3
      },
      "file_extension": ".py",
      "mimetype": "text/x-python",
      "name": "python",
      "nbconvert_exporter": "python",
      "pygments_lexer": "ipython3",
      "version": "3.12.8"
    },
    "colab": {
      "provenance": []
    }
  },
  "nbformat": 4,
  "nbformat_minor": 5
}