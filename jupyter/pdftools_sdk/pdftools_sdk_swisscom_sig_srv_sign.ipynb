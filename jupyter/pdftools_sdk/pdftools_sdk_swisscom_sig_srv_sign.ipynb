{
  "cells": [
    {
      "cell_type": "markdown",
      "id": "7a9e0dc4-e694-4775-9f73-9db92974db7b",
      "metadata": {
          "id": "25d66c22-8bc3-4c56-87bf-fdf2888535b7"
      },
      "source": [
        "[![Open In Colab](https://colab.research.google.com/assets/colab-badge.svg)](https://colab.research.google.com/github/pdf-tools/components-code-sample-hub/blob/main/jupyter/pdftools_sdk/pdftools_sdk_swisscom_sig_srv_sign.ipynb)"
      ]
    },
    {
      "cell_type": "code",
      "execution_count": null,
      "id": "7e87fc19-3e77-4034-91b6-63784e1587df",
      "metadata": {
          "id": "bccb0aad-29d9-4d2b-a227-4ddbdb9022ce"
      },
      "outputs": [],
      "source": [
        "%pip install https://pdftools-public-downloads-production.s3.eu-west-1.amazonaws.com/productkits/PDFSDK/latest/pdftools_sdk-latest.tar.gz\n",
        "%pip install ipython"
      ]
    },
    {
      "cell_type": "markdown",
      "id": "21e4f09c-c9b0-4e71-9791-dc1cb8c6501d",
      "metadata": {
          "id": "531820d6-c1ca-4ce7-b7e4-05b93573c3d2"
      },
      "source": [
        "# Sign a PDF using the Swisscom Signing Service\n",
        "Add a document signature, also called an approval\n",
        "signature. This signature verifies the integrity of the\n",
        "signed part of the document and confirms the certificate\n",
        "used for singing.\n",
        "\n",
        "Validation information is embedded to enable the\n",
        "long-term validation (LTV) of the signature."
      ]
    },
    {
      "cell_type": "code",
      "execution_count": null,
      "id": "8cddb541-a0e7-492f-bf74-c309a1fbea45",
      "metadata": {
          "id": "50e91536-63f0-434b-8b72-019ee622883e"
      },
      "outputs": [],
      "source": [
        "import io\n",
        "from pdftools_sdk.pdf import Document\n",
        "from pdftools_sdk.sign import Signer\n",
        "from pdftools_sdk.crypto.providers.swisscom_sig_srv import Session\n",
        "from pdftools_sdk.http_client_handler import HttpClientHandler"
      ]
    },
    {
      "cell_type": "code",
      "execution_count": null,
      "id": "479db807-e486-4f0e-8745-35e72c8a28ee",
      "metadata": {
          "id": "4d137274-1641-4117-ae42-4b64d3c1c2b6"
      },
      "outputs": [],
      "source": [
        "# Download a file from a given URL and save it to the local system\n",
        "def prepare_file(url: str, path: str):\n",
        "    import requests\n",
        "    response = requests.get(url)\n",
        "    response.raise_for_status()\n",
        "\n",
        "    with open(path, 'wb') as f:\n",
        "        f.write(response.content)"
      ]
    },
    {
      "cell_type": "code",
      "execution_count": null,
      "id": "829844db-f809-4000-940a-c444169e0a3e",
      "metadata": {
          "id": "55283751-a837-4531-b56e-e465033f5c62"
      },
      "outputs": [],
      "source": [
        "# Set input arguments\n",
        "identity = 'INSERT-IDENTITY'  # Placeholder for Swisscom identity\n",
        "common_name = 'John Doe'  # Placeholder for common name\n",
        "input_url = 'https://pdftools-public-downloads-production.s3.eu-west-1.amazonaws.com/samples/testfiles/InvoiceNone.pdf'\n",
        "input_path = 'InvoiceNone.pdf'\n",
        "prepare_file(input_url, input_path)\n",
        "output_path = 'SignedSwisscom.pdf'"
      ]
    },
    {
      "cell_type": "code",
      "execution_count": null,
      "id": "2af23997-59af-4ff9-ab8e-9f913b4e6e1c",
      "metadata": {
          "id": "7d3a1e34-05b7-401e-a453-9ffc7200c40b"
      },
      "outputs": [],
      "source": [
        "def sign(session: Session, identity: str, common_name: str, input_path: str, output_path: str):\n",
        "    # Create a signing certificate for a static identity\n",
        "    signature = session.create_signature_for_static_identity(identity, common_name)\n",
        "\n",
        "    # Embed validation information to enable the long-term validation (LTV) of the signature (default)\n",
        "    signature.embed_validation_information = True\n",
        "\n",
        "    # Open input document\n",
        "    with io.FileIO(input_path, 'rb') as input_stream:\n",
        "        with Document.open(input_stream) as input_document:\n",
        "            # Create stream for output file\n",
        "            with io.FileIO(output_path, 'wb+') as output_stream:\n",
        "                # Sign the document\n",
        "                signer = Signer()\n",
        "                signer.sign(input_document, signature, output_stream)"
      ]
    },
    {
      "cell_type": "code",
      "execution_count": null,
      "id": "dcad5b1b-56ba-458c-b4ab-1b43b9ac774c",
      "metadata": {
          "id": "a5f4898f-5b4d-4bc4-b237-98a0607ae21e"
      },
      "outputs": [],
      "source": [
        "try:\n",
        "    # By default, a test license key is active. In this case, a watermark is added to the output. \n",
        "    # If you have a license key, please uncomment the following call and set the license key.\n",
        "    # from pdftools_sdk.sdk import Sdk\n",
        "    # Sdk.initialize(\"<PDFSDK,V1,MGAASQD6L2JMQHL54PK08RQX8GG4SS0M8DAHVPH0VMP3NB8R9DUK>\")\n",

        "\n",
        "    # Optional: Set your proxy configuration\n",
        "    # Sdk.set_proxy(\"http://myproxy:8080\")\n",
        "    \n",
        "    # Configure the SSL client certificate to connect to the service\n",
        "    http_client_handler = HttpClientHandler()\n",
        "    with io.FileIO(\"C:/path/to/clientcert.p12\", 'rb') as cert_stream:\n",
        "        http_client_handler.set_client_certificate(cert_stream, \"***insert password***\")\n",
        "    \n",
        "        # Connect to the Swisscom Signing Service\n",
        "        with Session(\"https://ais.swisscom.com\", http_client_handler) as session:\n",
        "            # Sign the PDF document\n",
        "            sign(session, identity, common_name, input_path, output_path)\n",

        "\n",
        "    print(f\"Successfully created file {output_path}\")\n",

        "except Exception as e:\n",
        "    print(f\"An error occurred: {e}\")"
      ]
    }
  ],
  "metadata": {
    "kernelspec": {
      "display_name": "Python 3",
      "language": "python",
      "name": "python3"
    },
    "language_info": {
      "codemirror_mode": {
        "name": "ipython",
        "version": 3
      },
      "file_extension": ".py",
      "mimetype": "text/x-python",
      "name": "python",
      "nbconvert_exporter": "python",
      "pygments_lexer": "ipython3",
      "version": "3.12.8"
    },
    "colab": {
      "provenance": []
    }
  },
  "nbformat": 4,
  "nbformat_minor": 5
}