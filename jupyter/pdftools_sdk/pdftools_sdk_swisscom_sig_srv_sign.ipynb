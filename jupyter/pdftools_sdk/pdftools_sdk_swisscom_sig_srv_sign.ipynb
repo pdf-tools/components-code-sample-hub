{
  "cells": [
    {
      "cell_type": "markdown",
      "id": "3fc2b1a3-2283-4c0f-8acb-fcabd9c75bd2",
      "metadata": {
          "id": "135058b2-2457-4894-823f-78dbaedb7beb"
      },
      "source": [
        "[![Open In Colab](https://colab.research.google.com/assets/colab-badge.svg)](https://colab.research.google.com/github/pdf-tools/components-code-sample-hub/blob/main/jupyter/pdftools_sdk/pdftools_sdk_swisscom_sig_srv_sign.ipynb)"
      ]
    },
    {
      "cell_type": "code",
      "execution_count": null,
      "id": "17c9da58-ee0b-4878-a0ac-3104962a0ee4",
      "metadata": {
          "id": "89bcfc26-d4bb-485c-a52c-b3f0d770e69d"
      },
      "outputs": [],
      "source": [
        "%pip install https://pdftools-public-downloads-production.s3.eu-west-1.amazonaws.com/productkits/PDFSDK/latest/pdftools_sdk-latest.tar.gz\n",
        "%pip install ipython"
      ]
    },
    {
      "cell_type": "markdown",
      "id": "8f97a63e-92db-4a68-998e-d51ff428f19a",
      "metadata": {
          "id": "1de36044-81f1-4fdf-9854-5bc6af9ebc37"
      },
      "source": [
        "# Sign a PDF using the Swisscom Signing Service\n",
        "Add a document signature, also called an approval\n",
        "signature. This signature verifies the integrity of the\n",
        "signed part of the document and confirms the certificate\n",
        "used for singing.\n",
        "\n",
        "Validation information is embedded to enable the\n",
        "long-term validation (LTV) of the signature."
      ]
    },
    {
      "cell_type": "code",
      "execution_count": null,
      "id": "83def514-2110-4faf-834c-310654597961",
      "metadata": {
          "id": "fb95d01f-e8b7-48b2-a1c4-bd4098fd5ee2"
      },
      "outputs": [],
      "source": [
        "import io\n",
        "from pdftools_sdk.pdf import Document\n",
        "from pdftools_sdk.sign import Signer\n",
        "from pdftools_sdk.crypto.providers.swisscom_sig_srv import Session\n",
        "from pdftools_sdk.http_client_handler import HttpClientHandler"
      ]
    },
    {
      "cell_type": "code",
      "execution_count": null,
      "id": "c622af7c-4174-436d-b044-abaa1cd432f4",
      "metadata": {
          "id": "deba2f1d-d298-432d-95a6-6b9f4e66c3df"
      },
      "outputs": [],
      "source": [
        "# Download a file from a given URL and save it to the local system\n",
        "def prepare_file(url: str, path: str):\n",
        "    import requests\n",
        "    response = requests.get(url)\n",
        "    response.raise_for_status()\n",
        "\n",
        "    with open(path, 'wb') as f:\n",
        "        f.write(response.content)"
      ]
    },
    {
      "cell_type": "code",
      "execution_count": null,
      "id": "c9670260-a08c-4e3d-97d3-5dcf3e46d52f",
      "metadata": {
          "id": "a7cb86b4-aba8-43d9-824a-7b06dee3cb5b"
      },
      "outputs": [],
      "source": [
        "# Set input arguments\n",
        "identity = 'INSERT-IDENTITY'  # Placeholder for Swisscom identity\n",
        "common_name = 'John Doe'  # Placeholder for common name\n",
        "input_url = 'https://pdftools-public-downloads-production.s3.eu-west-1.amazonaws.com/samples/testfiles/InvoiceNone.pdf'\n",
        "input_path = 'InvoiceNone.pdf'\n",
        "prepare_file(input_url, input_path)\n",
        "output_path = 'SignedSwisscom.pdf'"
      ]
    },
    {
      "cell_type": "code",
      "execution_count": null,
      "id": "2ad75b4a-2b87-4767-9d0f-c1844ccdece7",
      "metadata": {
          "id": "81e87a39-90e1-4e7e-abb2-56a289b0fcd8"
      },
      "outputs": [],
      "source": [
        "def sign(session: Session, identity: str, common_name: str, input_path: str, output_path: str):\n",
        "    # Create a signing certificate for a static identity\n",
        "    signature = session.create_signature_for_static_identity(identity, common_name)\n",
        "\n",
        "    # Embed validation information to enable the long-term validation (LTV) of the signature (default)\n",
        "    signature.embed_validation_information = True\n",
        "\n",
        "    # Open input document\n",
        "    with io.FileIO(input_path, 'rb') as input_stream:\n",
        "        with Document.open(input_stream) as input_document:\n",
        "            # Create stream for output file\n",
        "            with io.FileIO(output_path, 'wb+') as output_stream:\n",
        "                # Sign the document\n",
        "                signer = Signer()\n",
        "                signer.sign(input_document, signature, output_stream)"
      ]
    },
    {
      "cell_type": "code",
      "execution_count": null,
      "id": "534d83be-a16b-4226-a979-0f85179df990",
      "metadata": {
          "id": "196b1753-c09b-4c04-8cba-934cf6f2e45d"
      },
      "outputs": [],
      "source": [
        "try:\n",
        "    # By default, a test license key is active. In this case, a watermark is added to the output. \n",
        "    # If you have a license key, please uncomment the following call and set the license key.\n",
        "    # from pdftools_sdk.sdk import Sdk\n",
        "    # Sdk.initialize(\"INSERT-LICENSE-KEY\")\n",

        "\n",
        "    # Optional: Set your proxy configuration\n",
        "    # Sdk.set_proxy(\"http://myproxy:8080\")\n",
        "    \n",
        "    # Configure the SSL client certificate to connect to the service\n",
        "    http_client_handler = HttpClientHandler()\n",
        "    with io.FileIO(\"C:/path/to/clientcert.p12\", 'rb') as cert_stream:\n",
        "        http_client_handler.set_client_certificate(cert_stream, \"***insert password***\")\n",
        "    \n",
        "        # Connect to the Swisscom Signing Service\n",
        "        with Session(\"https://ais.swisscom.com\", http_client_handler) as session:\n",
        "            # Sign the PDF document\n",
        "            sign(session, identity, common_name, input_path, output_path)\n",

        "\n",
        "    print(f\"Successfully created file {output_path}\")\n",

        "except Exception as e:\n",
        "    print(f\"An error occurred: {e}\")"
      ]
    }
  ],
  "metadata": {
    "kernelspec": {
      "display_name": "Python 3",
      "language": "python",
      "name": "python3"
    },
    "language_info": {
      "codemirror_mode": {
        "name": "ipython",
        "version": 3
      },
      "file_extension": ".py",
      "mimetype": "text/x-python",
      "name": "python",
      "nbconvert_exporter": "python",
      "pygments_lexer": "ipython3",
      "version": "3.12.8"
    },
    "colab": {
      "provenance": []
    }
  },
  "nbformat": 4,
  "nbformat_minor": 5
}