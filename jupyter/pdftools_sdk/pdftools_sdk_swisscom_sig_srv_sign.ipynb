{
  "cells": [
    {
      "cell_type": "markdown",
      "id": "4df25aad-9c1b-41dc-b5b0-729cf1c58332",
      "metadata": {
          "id": "bb4ee2b8-1fc3-401a-b6e5-0d0f5a37c27e"
      },
      "source": [
        "[![Open In Colab](https://colab.research.google.com/assets/colab-badge.svg)](https://colab.research.google.com/github/pdf-tools/components-code-sample-hub/blob/main/jupyter/pdftools_sdk/pdftools_sdk_swisscom_sig_srv_sign.ipynb)"
      ]
    },
    {
      "cell_type": "code",
      "execution_count": null,
      "id": "2dee63dc-15ae-44e8-861a-dc12e06cd1f5",
      "metadata": {
          "id": "191e2e72-82ff-4c78-a356-9799183e6c09"
      },
      "outputs": [],
      "source": [
        "%pip install https://pdftools-public-downloads-production.s3.eu-west-1.amazonaws.com/productkits/PDFSDK/latest/pdftools_sdk-latest.tar.gz\n",
        "%pip install ipython"
      ]
    },
    {
      "cell_type": "markdown",
      "id": "8df2f114-571c-44d0-89e7-3ddf10739695",
      "metadata": {
          "id": "45f4ed72-440d-4164-8fe8-f68e14eb9bcc"
      },
      "source": [
        "# Sign a PDF using the Swisscom Signing Service\n",
        "Add a document signature, also called an approval\n",
        "signature. This signature verifies the integrity of the\n",
        "signed part of the document and confirms the certificate\n",
        "used for singing.\n",
        "\n",
        "Validation information is embedded to enable the\n",
        "long-term validation (LTV) of the signature."
      ]
    },
    {
      "cell_type": "code",
      "execution_count": null,
      "id": "e92b39c4-e384-4e22-840c-7bbc38d0fa8e",
      "metadata": {
          "id": "53173902-a53f-40cf-863a-416ab66249df"
      },
      "outputs": [],
      "source": [
        "import io\n",
        "from pdftools_sdk.pdf import Document\n",
        "from pdftools_sdk.sign import Signer\n",
        "from pdftools_sdk.crypto.providers.swisscom_sig_srv import Session\n",
        "from pdftools_sdk.http_client_handler import HttpClientHandler"
      ]
    },
    {
      "cell_type": "code",
      "execution_count": null,
      "id": "3c9e3ecb-74e8-446e-a635-80bfa9506e12",
      "metadata": {
          "id": "d6b08150-ed2e-43d5-829c-a12671e8fc30"
      },
      "outputs": [],
      "source": [
        "# Download a file from a given URL and save it to the local system\n",
        "def prepare_file(url: str, path: str):\n",
        "    import requests\n",
        "    response = requests.get(url)\n",
        "    response.raise_for_status()\n",
        "\n",
        "    with open(path, 'wb') as f:\n",
        "        f.write(response.content)"
      ]
    },
    {
      "cell_type": "code",
      "execution_count": null,
      "id": "51cec2bd-b9d9-44fc-96f2-08e307c525cc",
      "metadata": {
          "id": "c5e5489a-3871-4f05-b85f-fe58ba82cbc8"
      },
      "outputs": [],
      "source": [
        "# Set input arguments\n",
        "identity = 'INSERT-IDENTITY'  # Placeholder for Swisscom identity\n",
        "common_name = 'John Doe'  # Placeholder for common name\n",
        "input_url = 'https://pdftools-public-downloads-production.s3.eu-west-1.amazonaws.com/samples/testfiles/InvoiceNone.pdf'\n",
        "input_path = 'InvoiceNone.pdf'\n",
        "prepare_file(input_url, input_path)\n",
        "output_path = 'SignedSwisscom.pdf'"
      ]
    },
    {
      "cell_type": "code",
      "execution_count": null,
      "id": "dacaa3d6-8400-4023-83df-4d6d2fad7231",
      "metadata": {
          "id": "e9351397-7ce9-4bfb-940f-bc3e7b8b5aa9"
      },
      "outputs": [],
      "source": [
        "def sign(session: Session, identity: str, common_name: str, input_path: str, output_path: str):\n",
        "    # Create a signing certificate for a static identity\n",
        "    signature = session.create_signature_for_static_identity(identity, common_name)\n",
        "\n",
        "    # Embed validation information to enable the long-term validation (LTV) of the signature (default)\n",
        "    signature.embed_validation_information = True\n",
        "\n",
        "    # Open input document\n",
        "    with io.FileIO(input_path, 'rb') as input_stream:\n",
        "        with Document.open(input_stream) as input_document:\n",
        "            # Create stream for output file\n",
        "            with io.FileIO(output_path, 'wb+') as output_stream:\n",
        "                # Sign the document\n",
        "                signer = Signer()\n",
        "                signer.sign(input_document, signature, output_stream)"
      ]
    },
    {
      "cell_type": "code",
      "execution_count": null,
      "id": "7df0102e-349f-452d-87ad-1a6c8c828253",
      "metadata": {
          "id": "d9095782-e989-4bf6-9012-45942b8e5e3d"
      },
      "outputs": [],
      "source": [
        "try:\n",
        "    # By default, a test license key is active. In this case, a watermark is added to the output. \n",
        "    # If you have a license key, please uncomment the following call and set the license key.\n",
        "    # from pdftools_sdk.sdk import Sdk\n",
        "    # Sdk.initialize(\"INSERT-LICENSE-KEY\")\n",

        "\n",
        "    # Optional: Set your proxy configuration\n",
        "    # Sdk.set_proxy(\"http://myproxy:8080\")\n",
        "    \n",
        "    # Configure the SSL client certificate to connect to the service\n",
        "    http_client_handler = HttpClientHandler()\n",
        "    with io.FileIO(\"C:/path/to/clientcert.p12\", 'rb') as cert_stream:\n",
        "        http_client_handler.set_client_certificate(cert_stream, \"***insert password***\")\n",
        "    \n",
        "        # Connect to the Swisscom Signing Service\n",
        "        with Session(\"https://ais.swisscom.com\", http_client_handler) as session:\n",
        "            # Sign the PDF document\n",
        "            sign(session, identity, common_name, input_path, output_path)\n",

        "\n",
        "    print(f\"Successfully created file {output_path}\")\n",

        "except Exception as e:\n",
        "    print(f\"An error occurred: {e}\")"
      ]
    }
  ],
  "metadata": {
    "kernelspec": {
      "display_name": "Python 3",
      "language": "python",
      "name": "python3"
    },
    "language_info": {
      "codemirror_mode": {
        "name": "ipython",
        "version": 3
      },
      "file_extension": ".py",
      "mimetype": "text/x-python",
      "name": "python",
      "nbconvert_exporter": "python",
      "pygments_lexer": "ipython3",
      "version": "3.12.8"
    },
    "colab": {
      "provenance": []
    }
  },
  "nbformat": 4,
  "nbformat_minor": 5
}