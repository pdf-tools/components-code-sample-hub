{
  "cells": [
    {
      "cell_type": "markdown",
      "id": "ff788afd-6645-4bac-ad3b-48b97d12c82b",
      "metadata": {
          "id": "9a942e10-bb6e-4928-8916-0ca7fe6105d9"
      },
      "source": [
        "[![Open In Colab](https://colab.research.google.com/assets/colab-badge.svg)](https://colab.research.google.com/github/pdf-tools/components-code-sample-hub/blob/main/jupyter/pdftools_sdk/pdftools_sdk_swisscom_sig_srv_sign.ipynb)"
      ]
    },
    {
      "cell_type": "code",
      "execution_count": null,
      "id": "385f7a93-19ef-4ddf-ad79-2b979c8b3fac",
      "metadata": {
          "id": "881f9a11-16c7-4903-a6ec-40a8efd55833"
      },
      "outputs": [],
      "source": [
        "%pip install pdftools_sdk\n",
        "%pip install ipython"
      ]
    },
    {
      "cell_type": "markdown",
      "id": "d40022f5-1039-4bbf-a944-bb46efe3d63e",
      "metadata": {
          "id": "b0d05bc7-aa81-4472-aada-7dd754ea6e17"
      },
      "source": [
        "# Sign a PDF using the Swisscom Signing Service\n",
        "Add a document signature, also called an approval\n",
        "signature. This signature verifies the integrity of the\n",
        "signed part of the document and confirms the certificate\n",
        "used for singing.\n",
        "\n",
        "Validation information is embedded to enable the\n",
        "long-term validation (LTV) of the signature."
      ]
    },
    {
      "cell_type": "code",
      "execution_count": null,
      "id": "59cc9a18-136d-4ec4-bc76-b5beac207153",
      "metadata": {
          "id": "45b4b417-8b3d-45f8-a87f-0d84df4ccba3"
      },
      "outputs": [],
      "source": [
        "import io\n",
        "from pdftools_sdk.pdf import Document\n",
        "from pdftools_sdk.sign import Signer\n",
        "from pdftools_sdk.crypto.providers.swisscom_sig_srv import Session\n",
        "from pdftools_sdk.http_client_handler import HttpClientHandler"
      ]
    },
    {
      "cell_type": "code",
      "execution_count": null,
      "id": "9f68bdc9-6099-4d20-872b-0cd0b08aa3c2",
      "metadata": {
          "id": "502790c0-96e9-48e4-bd19-25b4ef55b27b"
      },
      "outputs": [],
      "source": [
        "# Download a file from a given URL and save it to the local system\n",
        "def prepare_file(url: str, path: str):\n",
        "    import requests\n",
        "    response = requests.get(url)\n",
        "    response.raise_for_status()\n",
        "\n",
        "    with open(path, 'wb') as f:\n",
        "        f.write(response.content)"
      ]
    },
    {
      "cell_type": "code",
      "execution_count": null,
      "id": "ac9e711d-cd4c-4d70-9d82-0908a81ccdfc",
      "metadata": {
          "id": "00c7185d-44fa-4bbb-acee-da87210e89f1"
      },
      "outputs": [],
      "source": [
        "# Set input arguments\n",
        "identity = 'INSERT-IDENTITY'  # Placeholder for Swisscom identity\n",
        "common_name = 'John Doe'  # Placeholder for common name\n",
        "input_url = 'https://pdftools-public-downloads-production.s3.eu-west-1.amazonaws.com/samples/testfiles/InvoiceNone.pdf'\n",
        "input_path = 'InvoiceNone.pdf'\n",
        "prepare_file(input_url, input_path)\n",
        "output_path = 'SignedSwisscom.pdf'"
      ]
    },
    {
      "cell_type": "code",
      "execution_count": null,
      "id": "c65f2d7b-9481-45c0-abad-b0ceaa9e8169",
      "metadata": {
          "id": "1ac2a400-d508-4656-bf10-9d47383676e5"
      },
      "outputs": [],
      "source": [
        "def sign(session: Session, identity: str, common_name: str, input_path: str, output_path: str):\n",
        "    # Create a signing certificate for a static identity\n",
        "    signature = session.create_signature_for_static_identity(identity, common_name)\n",
        "\n",
        "    # Embed validation information to enable the long-term validation (LTV) of the signature (default)\n",
        "    signature.embed_validation_information = True\n",
        "\n",
        "    # Open input document\n",
        "    with io.FileIO(input_path, 'rb') as input_stream:\n",
        "        with Document.open(input_stream) as input_document:\n",
        "            # Create stream for output file\n",
        "            with io.FileIO(output_path, 'wb+') as output_stream:\n",
        "                # Sign the document\n",
        "                signer = Signer()\n",
        "                signer.sign(input_document, signature, output_stream)"
      ]
    },
    {
      "cell_type": "code",
      "execution_count": null,
      "id": "2ed1aea8-d324-44b0-8e5e-fd86fe4d4812",
      "metadata": {
          "id": "a53c5a37-88e5-413c-bd74-9db2fb7dc875"
      },
      "outputs": [],
      "source": [
        "try:\n",
        "    # By default, a test license key is active. In this case, a watermark is added to the output. \n",
        "    # If you have a license key, please uncomment the following call and set the license key.\n",
        "    # from pdftools_sdk.sdk import Sdk\n",
        "    # Sdk.initialize(\"INSERT-LICENSE-KEY\")\n",

        "\n",
        "    # Optional: Set your proxy configuration\n",
        "    # Sdk.set_proxy(\"http://myproxy:8080\")\n",
        "    \n",
        "    # Configure the SSL client certificate to connect to the service\n",
        "    http_client_handler = HttpClientHandler()\n",
        "    with io.FileIO(\"C:/path/to/clientcert.p12\", 'rb') as cert_stream:\n",
        "        http_client_handler.set_client_certificate(cert_stream, \"***insert password***\")\n",
        "    \n",
        "        # Connect to the Swisscom Signing Service\n",
        "        with Session(\"https://ais.swisscom.com\", http_client_handler) as session:\n",
        "            # Sign the PDF document\n",
        "            sign(session, identity, common_name, input_path, output_path)\n",

        "\n",
        "    print(f\"Successfully created file {output_path}\")\n",

        "except Exception as e:\n",
        "    print(f\"An error occurred: {e}\")"
      ]
    }
  ],
  "metadata": {
    "kernelspec": {
      "display_name": "Python 3",
      "language": "python",
      "name": "python3"
    },
    "language_info": {
      "codemirror_mode": {
        "name": "ipython",
        "version": 3
      },
      "file_extension": ".py",
      "mimetype": "text/x-python",
      "name": "python",
      "nbconvert_exporter": "python",
      "pygments_lexer": "ipython3",
      "version": "3.12.8"
    },
    "colab": {
      "provenance": []
    }
  },
  "nbformat": 4,
  "nbformat_minor": 5
}