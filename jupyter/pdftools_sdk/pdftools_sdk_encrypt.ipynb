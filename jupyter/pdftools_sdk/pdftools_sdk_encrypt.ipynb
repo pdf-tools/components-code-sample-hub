{
  "cells": [
    {
      "cell_type": "markdown",
      "id": "51563a31-ba31-4b07-be1f-409d43f1d7a1",
      "metadata": {
          "id": "dcff60ad-33a2-4700-ad58-6a2c6958bf7f"
      },
      "source": [
        "[![Open In Colab](https://colab.research.google.com/assets/colab-badge.svg)](https://colab.research.google.com/github/pdf-tools/components-code-sample-hub/blob/main/jupyter/pdftools_sdk/pdftools_sdk_encrypt.ipynb)"
      ]
    },
    {
      "cell_type": "code",
      "execution_count": null,
      "id": "6e382442-4c32-4ec7-a703-e257df57d55d",
      "metadata": {
          "id": "2deb73c8-9da4-43c1-a089-f4e66c2c150d"
      },
      "outputs": [],
      "source": [
        "%pip install https://pdftools-public-downloads-production.s3.eu-west-1.amazonaws.com/productkits/PDFSDK/latest/pdftools_sdk-latest.tar.gz\n",
        "%pip install ipython"
      ]
    },
    {
      "cell_type": "markdown",
      "id": "0a2e7b2a-3acc-43e3-a52a-b487c4794cd7",
      "metadata": {
          "id": "63c28824-04bb-4d77-9496-cc56fffc0a98"
      },
      "source": [
        "# Encrypt a PDF\n",
        "Encrypt a PDF with a user password.\n",
        "To open the document, the user password is required."
      ]
    },
    {
      "cell_type": "code",
      "execution_count": null,
      "id": "4e977484-6871-4359-ba3a-1475529d1b0c",
      "metadata": {
          "id": "c662e6b0-70f9-4c5d-92e0-7170a0cf951d"
      },
      "outputs": [],
      "source": [
        "import io\n",
        "from pdftools_sdk.pdf import Document, Encryption, Permission\n",
        "from pdftools_sdk.sign import OutputOptions as SignOutputOptions, SignatureRemoval, Signer"
      ]
    },
    {
      "cell_type": "code",
      "execution_count": null,
      "id": "81da9411-2b00-4130-ac9b-1f0c986426d0",
      "metadata": {
          "id": "eaef0486-2a99-4347-9d3a-04627bf719b6"
      },
      "outputs": [],
      "source": [
        "# Download a file from a given URL and save it to the local system\n",
        "def prepare_file(url: str, path: str):\n",
        "    import requests\n",
        "    response = requests.get(url)\n",
        "    response.raise_for_status()\n",
        "\n",
        "    with open(path, 'wb') as f:\n",
        "        f.write(response.content)"
      ]
    },
    {
      "cell_type": "code",
      "execution_count": null,
      "id": "d0c75199-ea2c-4ca1-899e-28ad44ea3903",
      "metadata": {
          "id": "816a7f76-8c20-4fce-812f-2e4fe2462ace"
      },
      "outputs": [],
      "source": [
        "# Set input arguments\n",
        "password = 'asdf'\n",
        "input_url = 'https://pdftools-public-downloads-production.s3.eu-west-1.amazonaws.com/samples/testfiles/InvoiceNone.pdf'\n",
        "input_path = 'InvoiceNone.pdf'\n",
        "prepare_file(input_url, input_path)\n",
        "output_path = 'Encrypted.pdf'"
      ]
    },
    {
      "cell_type": "code",
      "execution_count": null,
      "id": "73e5e87b-917a-47cc-a6f8-e31a27fdeb41",
      "metadata": {
          "id": "a84cde3c-a96d-4a5b-b7cb-7e9c37bb8b4a"
      },
      "outputs": [],
      "source": [
        "def encrypt(password: str, input_path: str, output_path: str):\n",
        "    # Open input document\n",
        "    with io.FileIO(input_path, 'rb') as in_stream:\n",
        "        with Document.open(in_stream) as input_document:\n",
        "            # Create stream for output file\n",
        "            with io.FileIO(output_path, 'wb+') as output_stream:\n",
        "                # Set encryption options\n",
        "                output_options = SignOutputOptions()\n",
        "                # Set a user password that will be required to open the document.\n",
        "                # Note that this will remove PDF/A conformance of input files (see warning category Sign.WarningCategory.PdfARemoved)\n",
        "                output_options.encryption = Encryption(password, None, Permission.ALL)\n",
        "                # Allow removal of signatures. Otherwise the Encryption property is ignored for signed input documents\n",
        "                # (see warning category Sign.WarningCategory.SignedDocEncryptionUnchanged).\n",
        "                output_options.remove_signatures = SignatureRemoval.SIGNED\n",
        "\n",
        "                # Encrypt the document\n",
        "                signer = Signer()\n",
        "                signer.process(input_document, output_stream, output_options)"
      ]
    },
    {
      "cell_type": "code",
      "execution_count": null,
      "id": "d1ab21b2-be2a-48ce-a03d-a404563f0a0a",
      "metadata": {
          "id": "801fb097-2bf0-4f93-b9d1-f5258a1b6169"
      },
      "outputs": [],
      "source": [
        "try:\n",
        "    # By default, a test license key is active. In this case, a watermark is added to the output. \n",
        "    # If you have a license key, please uncomment the following call and set the license key.\n",
        "    # from pdftools_sdk.sdk import Sdk\n",
        "    # Sdk.initialize(\"<PDFSDK,V1,MGAASQD6L2JMQHL54PK08RQX8GG4SS0M8DAHVPH0VMP3NB8R9DUK>\")\n",

        "\n",
        "    # Encrypt a PDF document\n",
        "    encrypt(password, input_path, output_path)\n",

        "\n",
        "    print(f\"Successfully created encrypted {output_path}\")\n",

        "except Exception as e:\n",
        "    print(f\"An error occurred: {e}\")"
      ]
    }
  ],
  "metadata": {
    "kernelspec": {
      "display_name": "Python 3",
      "language": "python",
      "name": "python3"
    },
    "language_info": {
      "codemirror_mode": {
        "name": "ipython",
        "version": 3
      },
      "file_extension": ".py",
      "mimetype": "text/x-python",
      "name": "python",
      "nbconvert_exporter": "python",
      "pygments_lexer": "ipython3",
      "version": "3.12.8"
    },
    "colab": {
      "provenance": []
    }
  },
  "nbformat": 4,
  "nbformat_minor": 5
}