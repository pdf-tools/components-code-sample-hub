{
  "cells": [
    {
      "cell_type": "markdown",
      "id": "56b4f248-31e7-4dc1-aa6e-8261ce73dd07",
      "metadata": {
          "id": "0f1469b6-e312-4213-ace2-2e1ce4553510"
      },
      "source": [
        "[![Open In Colab](https://colab.research.google.com/assets/colab-badge.svg)](https://colab.research.google.com/github/pdf-tools/components-code-sample-hub/blob/main/jupyter/pdftools_sdk/pdftools_sdk_encrypt.ipynb)"
      ]
    },
    {
      "cell_type": "code",
      "execution_count": null,
      "id": "f6606f11-5c32-4dac-9e25-05b9e72a9eb7",
      "metadata": {
          "id": "7fbb2365-9392-4f99-86e6-214b4a4d198d"
      },
      "outputs": [],
      "source": [
        "%pip install https://pdftools-public-downloads-production.s3.eu-west-1.amazonaws.com/productkits/PDFSDK/latest/pdftools_sdk-latest.tar.gz\n",
        "%pip install ipython"
      ]
    },
    {
      "cell_type": "markdown",
      "id": "7ed969a4-4b94-4979-af2e-8e1df0c786fd",
      "metadata": {
          "id": "3fe2ae86-2cb0-4c40-afda-9656cf653a34"
      },
      "source": [
        "# Encrypt a PDF\n",
        "Encrypt a PDF with a user password.\n",
        "To open the document, the user password is required."
      ]
    },
    {
      "cell_type": "code",
      "execution_count": null,
      "id": "274e2f72-c286-40e2-976e-b6bc0f61082b",
      "metadata": {
          "id": "5b6bc51d-a0ad-4f90-913a-5dedb44c195e"
      },
      "outputs": [],
      "source": [
        "import io\n",
        "from pdftools_sdk.pdf import Document, Encryption, Permission\n",
        "from pdftools_sdk.sign import OutputOptions as SignOutputOptions, SignatureRemoval, Signer"
      ]
    },
    {
      "cell_type": "code",
      "execution_count": null,
      "id": "3b8e7600-4e1f-4bce-a365-a01cbef4e8cb",
      "metadata": {
          "id": "0dbeaef5-dd33-4994-89dc-42e253b708d7"
      },
      "outputs": [],
      "source": [
        "# Download a file from a given URL and save it to the local system\n",
        "def prepare_file(url: str, path: str):\n",
        "    import requests\n",
        "    response = requests.get(url)\n",
        "    response.raise_for_status()\n",
        "\n",
        "    with open(path, 'wb') as f:\n",
        "        f.write(response.content)"
      ]
    },
    {
      "cell_type": "code",
      "execution_count": null,
      "id": "d38a2b85-0678-43f9-9af5-f7add5799e6b",
      "metadata": {
          "id": "b467f341-244b-4547-8333-d9feefc2ad98"
      },
      "outputs": [],
      "source": [
        "# Set input arguments\n",
        "password = 'asdf'\n",
        "input_url = 'https://pdftools-public-downloads-production.s3.eu-west-1.amazonaws.com/samples/testfiles/InvoiceNone.pdf'\n",
        "input_path = 'InvoiceNone.pdf'\n",
        "prepare_file(input_url, input_path)\n",
        "output_path = 'Encrypted.pdf'"
      ]
    },
    {
      "cell_type": "code",
      "execution_count": null,
      "id": "5bedae89-88ab-4678-9e66-3a3015809688",
      "metadata": {
          "id": "e89247fe-e730-403e-a00f-5d306fc97acd"
      },
      "outputs": [],
      "source": [
        "def encrypt(password: str, input_path: str, output_path: str):\n",
        "    # Open input document\n",
        "    with io.FileIO(input_path, 'rb') as in_stream:\n",
        "        with Document.open(in_stream) as input_document:\n",
        "            # Create stream for output file\n",
        "            with io.FileIO(output_path, 'wb+') as output_stream:\n",
        "                # Set encryption options\n",
        "                output_options = SignOutputOptions()\n",
        "                # Set a user password that will be required to open the document.\n",
        "                # Note that this will remove PDF/A conformance of input files (see warning category Sign.WarningCategory.PdfARemoved)\n",
        "                output_options.encryption = Encryption(password, None, Permission.ALL)\n",
        "                # Allow removal of signatures. Otherwise the Encryption property is ignored for signed input documents\n",
        "                # (see warning category Sign.WarningCategory.SignedDocEncryptionUnchanged).\n",
        "                output_options.remove_signatures = SignatureRemoval.SIGNED\n",
        "\n",
        "                # Encrypt the document\n",
        "                signer = Signer()\n",
        "                signer.process(input_document, output_stream, output_options)"
      ]
    },
    {
      "cell_type": "code",
      "execution_count": null,
      "id": "cd902298-35da-45ed-8c7c-1914c7a2ff25",
      "metadata": {
          "id": "d0a9a0ab-a2de-4445-ae2a-386249f13afa"
      },
      "outputs": [],
      "source": [
        "try:\n",
        "    # By default, a test license key is active. In this case, a watermark is added to the output. \n",
        "    # If you have a license key, please uncomment the following call and set the license key.\n",
        "    # from pdftools_sdk.sdk import Sdk\n",
        "    # Sdk.initialize(\"INSERT-LICENSE-KEY\")\n",

        "\n",
        "    # Encrypt a PDF document\n",
        "    encrypt(password, input_path, output_path)\n",

        "\n",
        "    print(f\"Successfully created encrypted {output_path}\")\n",

        "except Exception as e:\n",
        "    print(f\"An error occurred: {e}\")"
      ]
    }
  ],
  "metadata": {
    "kernelspec": {
      "display_name": "Python 3",
      "language": "python",
      "name": "python3"
    },
    "language_info": {
      "codemirror_mode": {
        "name": "ipython",
        "version": 3
      },
      "file_extension": ".py",
      "mimetype": "text/x-python",
      "name": "python",
      "nbconvert_exporter": "python",
      "pygments_lexer": "ipython3",
      "version": "3.12.8"
    },
    "colab": {
      "provenance": []
    }
  },
  "nbformat": 4,
  "nbformat_minor": 5
}