{
  "cells": [
    {
      "cell_type": "markdown",
      "id": "73dca779-440c-479c-94b7-c4083db17e2b",
      "metadata": {
          "id": "c56e31af-0d12-4515-9b4c-1cda9ab65635"
      },
      "source": [
        "[![Open In Colab](https://colab.research.google.com/assets/colab-badge.svg)](https://colab.research.google.com/github/pdf-tools/components-code-sample-hub/blob/main/jupyter/pdftools_sdk/pdftools_sdk_encrypt.ipynb)"
      ]
    },
    {
      "cell_type": "code",
      "execution_count": null,
      "id": "634bcf4c-dece-4aea-b8ca-6be22bc91acd",
      "metadata": {
          "id": "ae902083-301f-40ce-8db9-41e72bb9e8e6"
      },
      "outputs": [],
      "source": [
        "%pip install pdftools_sdk\n",
        "%pip install ipython"
      ]
    },
    {
      "cell_type": "markdown",
      "id": "f8e458e2-3ca3-4b77-897d-1a153d4e13c7",
      "metadata": {
          "id": "82567693-8c60-4975-a598-4f2ab649e5b6"
      },
      "source": [
        "# Encrypt a PDF\n",
        "Encrypt a PDF with a user password.\n",
        "To open the document, the user password is required."
      ]
    },
    {
      "cell_type": "code",
      "execution_count": null,
      "id": "18e57cc4-773e-4f28-a20e-6c88c3331b9f",
      "metadata": {
          "id": "664c1339-d3e1-44df-a22c-a51e493bff7c"
      },
      "outputs": [],
      "source": [
        "import io\n",
        "from pdftools_sdk.pdf import Document, Encryption, Permission\n",
        "from pdftools_sdk.sign import OutputOptions as SignOutputOptions, SignatureRemoval, Signer"
      ]
    },
    {
      "cell_type": "code",
      "execution_count": null,
      "id": "28987baa-7274-4648-a869-fbf9fa88ae40",
      "metadata": {
          "id": "8b971847-ab0e-48ca-a640-4448f18a23d1"
      },
      "outputs": [],
      "source": [
        "# Download a file from a given URL and save it to the local system\n",
        "def prepare_file(url: str, path: str):\n",
        "    import requests\n",
        "    response = requests.get(url)\n",
        "    response.raise_for_status()\n",
        "\n",
        "    with open(path, 'wb') as f:\n",
        "        f.write(response.content)"
      ]
    },
    {
      "cell_type": "code",
      "execution_count": null,
      "id": "3300dee8-c101-4752-97e6-867aa0199900",
      "metadata": {
          "id": "4afc6a45-4106-4c5b-9a98-33ede6952ae3"
      },
      "outputs": [],
      "source": [
        "# Set input arguments\n",
        "password = 'asdf'\n",
        "input_url = 'https://pdftools-public-downloads-production.s3.eu-west-1.amazonaws.com/samples/testfiles/InvoiceNone.pdf'\n",
        "input_path = 'InvoiceNone.pdf'\n",
        "prepare_file(input_url, input_path)\n",
        "output_path = 'Encrypted.pdf'"
      ]
    },
    {
      "cell_type": "code",
      "execution_count": null,
      "id": "58f98c12-5d65-4b41-b10e-2f30aa8d05bc",
      "metadata": {
          "id": "9ef7481f-9aaf-4345-a73b-dd658247a576"
      },
      "outputs": [],
      "source": [
        "def encrypt(password: str, input_path: str, output_path: str):\n",
        "    # Open input document\n",
        "    with io.FileIO(input_path, 'rb') as in_stream:\n",
        "        with Document.open(in_stream) as input_document:\n",
        "            # Create stream for output file\n",
        "            with io.FileIO(output_path, 'wb+') as output_stream:\n",
        "                # Set encryption options\n",
        "                output_options = SignOutputOptions()\n",
        "                # Set a user password that will be required to open the document.\n",
        "                # Note that this will remove PDF/A conformance of input files (see warning category Sign.WarningCategory.PdfARemoved)\n",
        "                output_options.encryption = Encryption(password, None, Permission.ALL)\n",
        "                # Allow removal of signatures. Otherwise the Encryption property is ignored for signed input documents\n",
        "                # (see warning category Sign.WarningCategory.SignedDocEncryptionUnchanged).\n",
        "                output_options.remove_signatures = SignatureRemoval.SIGNED\n",
        "\n",
        "                # Encrypt the document\n",
        "                signer = Signer()\n",
        "                signer.process(input_document, output_stream, output_options)"
      ]
    },
    {
      "cell_type": "code",
      "execution_count": null,
      "id": "d9248b21-f1b6-477a-a6c4-1ea966f57b42",
      "metadata": {
          "id": "67c68a2f-f605-43b1-85c7-6605f7e12cdb"
      },
      "outputs": [],
      "source": [
        "try:\n",
        "    # By default, a test license key is active. In this case, a watermark is added to the output. \n",
        "    # If you have a license key, please uncomment the following call and set the license key.\n",
        "    # from pdftools_sdk.sdk import Sdk\n",
        "    # Sdk.initialize(\"INSERT-LICENSE-KEY\")\n",

        "\n",
        "    # Encrypt a PDF document\n",
        "    encrypt(password, input_path, output_path)\n",

        "\n",
        "    print(f\"Successfully created encrypted {output_path}\")\n",

        "except Exception as e:\n",
        "    print(f\"An error occurred: {e}\")"
      ]
    }
  ],
  "metadata": {
    "kernelspec": {
      "display_name": "Python 3",
      "language": "python",
      "name": "python3"
    },
    "language_info": {
      "codemirror_mode": {
        "name": "ipython",
        "version": 3
      },
      "file_extension": ".py",
      "mimetype": "text/x-python",
      "name": "python",
      "nbconvert_exporter": "python",
      "pygments_lexer": "ipython3",
      "version": "3.12.8"
    },
    "colab": {
      "provenance": []
    }
  },
  "nbformat": 4,
  "nbformat_minor": 5
}