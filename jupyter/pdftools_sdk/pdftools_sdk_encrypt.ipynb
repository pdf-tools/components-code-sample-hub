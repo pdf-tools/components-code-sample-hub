{
  "cells": [
    {
      "cell_type": "markdown",
      "id": "d6fe8bce-0932-4428-9852-9d2f23688b1d",
      "metadata": {
          "id": "035c6979-3d8e-4f45-bd2f-45a986d043f5"
      },
      "source": [
        "[![Open In Colab](https://colab.research.google.com/assets/colab-badge.svg)](https://colab.research.google.com/github/pdf-tools/components-code-sample-hub/blob/main/jupyter/pdftools_sdk/pdftools_sdk_encrypt.ipynb)"
      ]
    },
    {
      "cell_type": "code",
      "execution_count": null,
      "id": "eb396e50-f482-48dc-a325-db67ef70d4b9",
      "metadata": {
          "id": "d45a676b-019a-42e2-8f24-c60a5cbeabaa"
      },
      "outputs": [],
      "source": [
        "%pip install https://pdftools-public-downloads-production.s3.eu-west-1.amazonaws.com/productkits/PDFSDK/latest/pdftools_sdk-latest.tar.gz\n",
        "%pip install ipython"
      ]
    },
    {
      "cell_type": "markdown",
      "id": "4af086c4-6770-40ff-89ab-1328dc44060c",
      "metadata": {
          "id": "ac171f5f-bf5c-4140-9cb8-ce484c575b29"
      },
      "source": [
        "# Encrypt a PDF\n",
        "Encrypt a PDF with a user password.\n",
        "To open the document, the user password is required."
      ]
    },
    {
      "cell_type": "code",
      "execution_count": null,
      "id": "0ff7863c-e42f-481b-a0d5-30c87e09ce26",
      "metadata": {
          "id": "3b94a8bd-248b-4fd1-a542-e3a1e662a13f"
      },
      "outputs": [],
      "source": [
        "import io\n",
        "from pdftools_sdk.pdf import Document, Encryption, Permission\n",
        "from pdftools_sdk.sign import OutputOptions as SignOutputOptions, SignatureRemoval, Signer"
      ]
    },
    {
      "cell_type": "code",
      "execution_count": null,
      "id": "c1ecfa7b-3391-4604-9b03-21657a7abd55",
      "metadata": {
          "id": "12bcdae2-351a-45ae-9b64-bf9b76117b6b"
      },
      "outputs": [],
      "source": [
        "# Download a file from a given URL and save it to the local system\n",
        "def prepare_file(url: str, path: str):\n",
        "    import requests\n",
        "    response = requests.get(url)\n",
        "    response.raise_for_status()\n",
        "\n",
        "    with open(path, 'wb') as f:\n",
        "        f.write(response.content)"
      ]
    },
    {
      "cell_type": "code",
      "execution_count": null,
      "id": "c56cd5b3-a0c9-49fd-b6bd-ea00cc2562e1",
      "metadata": {
          "id": "f9dc460f-a534-420b-ae96-5f31903e89f3"
      },
      "outputs": [],
      "source": [
        "# Set input arguments\n",
        "password = 'asdf'\n",
        "input_url = 'https://pdftools-public-downloads-production.s3.eu-west-1.amazonaws.com/samples/testfiles/InvoiceNone.pdf'\n",
        "input_path = 'InvoiceNone.pdf'\n",
        "prepare_file(input_url, input_path)\n",
        "output_path = 'Encrypted.pdf'"
      ]
    },
    {
      "cell_type": "code",
      "execution_count": null,
      "id": "aaf3448d-4b33-4a35-aea6-3fcea03df0eb",
      "metadata": {
          "id": "b4ded44b-17dd-4b73-9315-30aafecafc05"
      },
      "outputs": [],
      "source": [
        "def encrypt(password: str, input_path: str, output_path: str):\n",
        "    # Open input document\n",
        "    with io.FileIO(input_path, 'rb') as in_stream:\n",
        "        with Document.open(in_stream) as input_document:\n",
        "            # Create stream for output file\n",
        "            with io.FileIO(output_path, 'wb+') as output_stream:\n",
        "                # Set encryption options\n",
        "                output_options = SignOutputOptions()\n",
        "                # Set a user password that will be required to open the document.\n",
        "                # Note that this will remove PDF/A conformance of input files (see warning category Sign.WarningCategory.PdfARemoved)\n",
        "                output_options.encryption = Encryption(password, None, Permission.ALL)\n",
        "                # Allow removal of signatures. Otherwise the Encryption property is ignored for signed input documents\n",
        "                # (see warning category Sign.WarningCategory.SignedDocEncryptionUnchanged).\n",
        "                output_options.remove_signatures = SignatureRemoval.SIGNED\n",
        "\n",
        "                # Encrypt the document\n",
        "                signer = Signer()\n",
        "                signer.process(input_document, output_stream, output_options)"
      ]
    },
    {
      "cell_type": "code",
      "execution_count": null,
      "id": "04cb3709-1a15-4a36-9599-a319d15321f1",
      "metadata": {
          "id": "a1fbc2a4-d75a-4cb9-a493-74486d74cecd"
      },
      "outputs": [],
      "source": [
        "try:\n",
        "    # By default, a test license key is active. In this case, a watermark is added to the output. \n",
        "    # If you have a license key, please uncomment the following call and set the license key.\n",
        "    # from pdftools_sdk.sdk import Sdk\n",
        "    # Sdk.initialize(\"INSERT-LICENSE-KEY\")\n",

        "\n",
        "    # Encrypt a PDF document\n",
        "    encrypt(password, input_path, output_path)\n",

        "\n",
        "    print(f\"Successfully created encrypted {output_path}\")\n",

        "except Exception as e:\n",
        "    print(f\"An error occurred: {e}\")"
      ]
    }
  ],
  "metadata": {
    "kernelspec": {
      "display_name": "Python 3",
      "language": "python",
      "name": "python3"
    },
    "language_info": {
      "codemirror_mode": {
        "name": "ipython",
        "version": 3
      },
      "file_extension": ".py",
      "mimetype": "text/x-python",
      "name": "python",
      "nbconvert_exporter": "python",
      "pygments_lexer": "ipython3",
      "version": "3.12.8"
    },
    "colab": {
      "provenance": []
    }
  },
  "nbformat": 4,
  "nbformat_minor": 5
}