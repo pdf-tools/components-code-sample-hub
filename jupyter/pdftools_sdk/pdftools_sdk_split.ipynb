{
  "cells": [
    {
      "cell_type": "markdown",
      "id": "aa481f08-24f8-4477-af90-93665b16e8c8",
      "metadata": {
          "id": "74ec1218-d942-42e7-8c3d-b79294420f5b"
      },
      "source": [
        "[![Open In Colab](https://colab.research.google.com/assets/colab-badge.svg)](https://colab.research.google.com/github/pdf-tools/components-code-sample-hub/blob/main/jupyter/pdftools_sdk/pdftools_sdk_split.ipynb)"
      ]
    },
    {
      "cell_type": "code",
      "execution_count": null,
      "id": "31ab8226-300d-4ec6-88eb-2e8db6262abc",
      "metadata": {
          "id": "dc714166-8268-4726-84aa-07838a48df23"
      },
      "outputs": [],
      "source": [
        "%pip install pdftools_sdk\n",
        "%pip install ipython"
      ]
    },
    {
      "cell_type": "markdown",
      "id": "45852ba1-cc18-44a3-b8f9-5819467ceda1",
      "metadata": {
          "id": "7cd6bc3e-8d46-4a0c-b67d-848d2e72412a"
      },
      "source": [
        "# Split a PDF\n",
        "Divide a PDF document into multiple PDF files."
      ]
    },
    {
      "cell_type": "code",
      "execution_count": null,
      "id": "abbf903a-9519-4f26-94db-0c6c5aebd8c1",
      "metadata": {
          "id": "fda5c921-ece1-4197-b398-ffa84cbb1e3e"
      },
      "outputs": [],
      "source": [
        "import io\n",
        "import os\n",
        "from pdftools_sdk.document_assembly import DocumentAssembler\n",
        "from pdftools_sdk.pdf import Document"
      ]
    },
    {
      "cell_type": "code",
      "execution_count": null,
      "id": "d69e3b51-9caf-4c76-9dae-1b903ffdaea4",
      "metadata": {
          "id": "ac88cfbc-39d4-4ce9-9248-e4735814ef34"
      },
      "outputs": [],
      "source": [
        "# Download a file from a given URL and save it to the local system\n",
        "def prepare_file(url: str, path: str):\n",
        "    import requests\n",
        "    response = requests.get(url)\n",
        "    response.raise_for_status()\n",
        "\n",
        "    with open(path, 'wb') as f:\n",
        "        f.write(response.content)"
      ]
    },
    {
      "cell_type": "code",
      "execution_count": null,
      "id": "bcd76240-93a9-4dfa-a996-be9e8f838dfe",
      "metadata": {
          "id": "5a137701-e80a-4c7c-8723-e16c5e655c15"
      },
      "outputs": [],
      "source": [
        "# Set input arguments\n",
        "input_url = 'https://pdftools-public-downloads-production.s3.eu-west-1.amazonaws.com/samples/testfiles/PdfPrimerWhitepaper.pdf'\n",
        "input_path = 'PdfPrimerWhitepaper.pdf'\n",
        "prepare_file(input_url, input_path)\n",
        "output_path = 'PdfPrimerWhitepaper_split.pdf'"
      ]
    },
    {
      "cell_type": "code",
      "execution_count": null,
      "id": "f45bdbbc-f300-4e52-bfe2-974b9a9891ef",
      "metadata": {
          "id": "8f61f81c-216d-4a77-af90-ab7c1b7d79a3"
      },
      "outputs": [],
      "source": [
        "def split_pdf(input_file_path: str, output_file_path: str):\n",
        "    # Open input document\n",
        "    with open(input_file_path, 'rb') as input_stream:\n",
        "        with Document.open(input_stream) as input_document:\n",
        "            # Split the input document page by page\n",
        "            for i in range(1, input_document.page_count + 1):\n",
        "                current_out_file = construct_file_name(output_file_path, i)\n",
        "                with open(current_out_file, 'wb+') as output_stream:\n",
        "                    with DocumentAssembler(output_stream, None, None) as assembler:\n",
        "                        assembler.append(input_document, i, i)\n",
        "                        assembler.assemble()"
      ]
    },{
      "cell_type": "code",
      "execution_count": null,
      "id": "4e23e479-d77f-4f80-b0eb-a734c8eea190",
      "metadata": {
          "id": "98956e69-f4e7-4fa8-a198-e2cf1d4f7fd2"
      },
      "outputs": [],
      "source": [
        "# Construct file name from input path and page number of input document\n",
        "def construct_file_name(input_file: str, page_number: int):\n",
        "    # Split the directory and file name from the input path\n",
        "    directory, basename = os.path.split(input_file)\n",
        "\n",
        "    # Split the file base name and extension\n",
        "    base, extension = os.path.splitext(basename)\n",
        "\n",
        "    return os.path.join(directory, f\"{base}_page_{page_number}{extension}\")"
      ]
    },
    {
      "cell_type": "code",
      "execution_count": null,
      "id": "107d5a77-607b-4596-bd95-42dc691430dd",
      "metadata": {
          "id": "6f6acff7-e4b5-4398-8541-99a1af7b6537"
      },
      "outputs": [],
      "source": [
        "try:\n",
        "    # By default, a test license key is active. In this case, a watermark is added to the output. \n",
        "    # If you have a license key, please uncomment the following call and set the license key.\n",
        "    # from pdftools_sdk.sdk import Sdk\n",
        "    # Sdk.initialize(\"INSERT-LICENSE-KEY\")\n",

        "\n",
        "    split_pdf(input_path, output_path)\n",

        "\n",
        "    print(\"Execution successful.\")\n",

        "except Exception as e:\n",
        "    print(f\"An error occurred: {e}\")"
      ]
    }
  ],
  "metadata": {
    "kernelspec": {
      "display_name": "Python 3",
      "language": "python",
      "name": "python3"
    },
    "language_info": {
      "codemirror_mode": {
        "name": "ipython",
        "version": 3
      },
      "file_extension": ".py",
      "mimetype": "text/x-python",
      "name": "python",
      "nbconvert_exporter": "python",
      "pygments_lexer": "ipython3",
      "version": "3.12.8"
    },
    "colab": {
      "provenance": []
    }
  },
  "nbformat": 4,
  "nbformat_minor": 5
}