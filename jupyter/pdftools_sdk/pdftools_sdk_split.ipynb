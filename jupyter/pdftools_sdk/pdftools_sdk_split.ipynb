{
  "cells": [
    {
      "cell_type": "markdown",
      "id": "1b214ab1-870d-44d6-96c1-3f551c00d86d",
      "metadata": {
          "id": "e1fddc49-c194-4c85-8fb0-9ce11013020e"
      },
      "source": [
        "[![Open In Colab](https://colab.research.google.com/assets/colab-badge.svg)](https://colab.research.google.com/github/pdf-tools/components-code-sample-hub/blob/main/jupyter/pdftools_sdk/pdftools_sdk_split.ipynb)"
      ]
    },
    {
      "cell_type": "code",
      "execution_count": null,
      "id": "5acc096e-9c4a-4deb-aff9-d060ccf5b923",
      "metadata": {
          "id": "47de6814-ddb6-4cd1-b31f-4d319a99ec46"
      },
      "outputs": [],
      "source": [
        "%pip install https://pdftools-public-downloads-production.s3.eu-west-1.amazonaws.com/productkits/PDFSDK/latest/pdftools_sdk-latest.tar.gz\n",
        "%pip install ipython"
      ]
    },
    {
      "cell_type": "markdown",
      "id": "6efcb4c0-c802-4192-aa5f-90c9039088b3",
      "metadata": {
          "id": "989880d1-aa5f-412c-9348-cfb4cd7868a4"
      },
      "source": [
        "# Split a PDF\n",
        "Divide a PDF document into multiple PDF files."
      ]
    },
    {
      "cell_type": "code",
      "execution_count": null,
      "id": "e41c84a3-7fb2-4fd1-a929-fcc5dc94e823",
      "metadata": {
          "id": "19eb9974-3fc8-4441-8369-c07bfb10f42a"
      },
      "outputs": [],
      "source": [
        "import io\n",
        "import os\n",
        "from pdftools_sdk.document_assembly import DocumentAssembler\n",
        "from pdftools_sdk.pdf import Document"
      ]
    },
    {
      "cell_type": "code",
      "execution_count": null,
      "id": "82aacd59-c8ee-4da2-a544-1bfdf705af45",
      "metadata": {
          "id": "1ac936da-e261-4237-9c60-244470dbbb92"
      },
      "outputs": [],
      "source": [
        "# Download a file from a given URL and save it to the local system\n",
        "def prepare_file(url: str, path: str):\n",
        "    import requests\n",
        "    response = requests.get(url)\n",
        "    response.raise_for_status()\n",
        "\n",
        "    with open(path, 'wb') as f:\n",
        "        f.write(response.content)"
      ]
    },
    {
      "cell_type": "code",
      "execution_count": null,
      "id": "0dd81397-3ac1-466a-8827-b1ee7fb6e7ab",
      "metadata": {
          "id": "18f7601d-86d8-438c-a4d5-093c858e36a8"
      },
      "outputs": [],
      "source": [
        "# Set input arguments\n",
        "input_url = 'https://pdftools-public-downloads-production.s3.eu-west-1.amazonaws.com/samples/testfiles/PdfPrimerWhitepaper.pdf'\n",
        "input_path = 'PdfPrimerWhitepaper.pdf'\n",
        "prepare_file(input_url, input_path)\n",
        "output_path = 'PdfPrimerWhitepaper_split.pdf'"
      ]
    },
    {
      "cell_type": "code",
      "execution_count": null,
      "id": "fddbd90c-4c79-42a0-8e4d-733483d32097",
      "metadata": {
          "id": "bc410e56-9a87-4168-a67c-57f04dea1320"
      },
      "outputs": [],
      "source": [
        "def split_pdf(input_file_path: str, output_file_path: str):\n",
        "    # Open input document\n",
        "    with open(input_file_path, 'rb') as input_stream:\n",
        "        with Document.open(input_stream) as input_document:\n",
        "            # Split the input document page by page\n",
        "            for i in range(1, input_document.page_count + 1):\n",
        "                current_out_file = construct_file_name(output_file_path, i)\n",
        "                with open(current_out_file, 'wb+') as output_stream:\n",
        "                    with DocumentAssembler(output_stream, None, None) as assembler:\n",
        "                        assembler.append(input_document, i, i)\n",
        "                        assembler.assemble()"
      ]
    },
    {
      "cell_type": "code",
      "execution_count": null,
      "id": "ce289c68-cbde-41ab-ab6a-8f32ac349cfc",
      "metadata": {
          "id": "487022bf-d588-4ced-964a-151c37031ddc"
      },
      "outputs": [],
      "source": [
        "# Construct file name from input path and page number of input document\n",
        "def construct_file_name(input_file: str, page_number: int):\n",
        "    # Split the directory and file name from the input path\n",
        "    directory, basename = os.path.split(input_file)\n",
        "\n",
        "    # Split the file base name and extension\n",
        "    base, extension = os.path.splitext(basename)\n",
        "\n",
        "    return os.path.join(directory, f\"{base}_page_{page_number}{extension}\")"
      ]
    },
    {
      "cell_type": "code",
      "execution_count": null,
      "id": "10834ec8-189e-43d7-8a59-8257cc60dc5e",
      "metadata": {
          "id": "8e1201f0-5a86-4d45-83a6-f25568eacfca"
      },
      "outputs": [],
      "source": [
        "try:\n",
        "    # By default, a test license key is active. In this case, a watermark is added to the output. \n",
        "    # If you have a license key, please uncomment the following call and set the license key.\n",
        "    # from pdftools_sdk.sdk import Sdk\n",
        "    # Sdk.initialize(\"INSERT-LICENSE-KEY\")\n",

        "\n",
        "    split_pdf(input_path, output_path)\n",

        "\n",
        "    print(\"Execution successful.\")\n",

        "except Exception as e:\n",
        "    print(f\"An error occurred: {e}\")"
      ]
    }
  ],
  "metadata": {
    "kernelspec": {
      "display_name": "Python 3",
      "language": "python",
      "name": "python3"
    },
    "language_info": {
      "codemirror_mode": {
        "name": "ipython",
        "version": 3
      },
      "file_extension": ".py",
      "mimetype": "text/x-python",
      "name": "python",
      "nbconvert_exporter": "python",
      "pygments_lexer": "ipython3",
      "version": "3.12.8"
    },
    "colab": {
      "provenance": []
    }
  },
  "nbformat": 4,
  "nbformat_minor": 5
}