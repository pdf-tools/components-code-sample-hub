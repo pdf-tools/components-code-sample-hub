{
  "cells": [
    {
      "cell_type": "markdown",
      "id": "a2fa0f9d-854e-4667-b3b8-1df7faa9bf79",
      "metadata": {
          "id": "1301e8bd-0990-4e45-8c4c-202a76ef9fbb"
      },
      "source": [
        "[![Open In Colab](https://colab.research.google.com/assets/colab-badge.svg)](https://colab.research.google.com/github/pdf-tools/components-code-sample-hub/blob/main/jupyter/pdftools_sdk/pdftools_sdk_split.ipynb)"
      ]
    },
    {
      "cell_type": "code",
      "execution_count": null,
      "id": "0ed525c9-a483-44f5-9a1d-aa635f93c09c",
      "metadata": {
          "id": "153de8a7-13fe-4cb3-989f-e8fef2328cf5"
      },
      "outputs": [],
      "source": [
        "%pip install https://pdftools-public-downloads-production.s3.eu-west-1.amazonaws.com/productkits/PDFSDK/latest/pdftools_sdk-latest.tar.gz\n",
        "%pip install ipython"
      ]
    },
    {
      "cell_type": "markdown",
      "id": "7818cf87-b3c3-4383-88e1-dbb1ffb7eb70",
      "metadata": {
          "id": "aeef4298-195b-461c-803e-e07f4de5b33f"
      },
      "source": [
        "# Split a PDF\n",
        "Divide a PDF document into multiple PDF files."
      ]
    },
    {
      "cell_type": "code",
      "execution_count": null,
      "id": "4d8345c9-645b-41e0-b053-7a6f307a7eba",
      "metadata": {
          "id": "4e1bf1e2-cb38-49d0-8e7e-e86b54129958"
      },
      "outputs": [],
      "source": [
        "import io\n",
        "import os\n",
        "from pdftools_sdk.document_assembly import DocumentAssembler\n",
        "from pdftools_sdk.pdf import Document"
      ]
    },
    {
      "cell_type": "code",
      "execution_count": null,
      "id": "27ce4c90-d561-4606-af7c-a39a97fbda9c",
      "metadata": {
          "id": "dd0366af-2b35-4819-bbae-9e7ed5441e75"
      },
      "outputs": [],
      "source": [
        "# Download a file from a given URL and save it to the local system\n",
        "def prepare_file(url: str, path: str):\n",
        "    import requests\n",
        "    response = requests.get(url)\n",
        "    response.raise_for_status()\n",
        "\n",
        "    with open(path, 'wb') as f:\n",
        "        f.write(response.content)"
      ]
    },
    {
      "cell_type": "code",
      "execution_count": null,
      "id": "7f7b917b-9e8f-4120-9710-3bcccb3fa41b",
      "metadata": {
          "id": "c348aef6-c54f-4245-81e6-2d779388b4bf"
      },
      "outputs": [],
      "source": [
        "# Set input arguments\n",
        "input_url = 'https://pdftools-public-downloads-production.s3.eu-west-1.amazonaws.com/samples/testfiles/PdfPrimerWhitepaper.pdf'\n",
        "input_path = 'PdfPrimerWhitepaper.pdf'\n",
        "prepare_file(input_url, input_path)\n",
        "output_path = 'PdfPrimerWhitepaper_split.pdf'"
      ]
    },
    {
      "cell_type": "code",
      "execution_count": null,
      "id": "4a39ca3a-e298-4ecc-8234-22b7caf98deb",
      "metadata": {
          "id": "6c629691-9d80-439c-bc50-75d52c04539f"
      },
      "outputs": [],
      "source": [
        "def split_pdf(input_file_path: str, output_file_path: str):\n",
        "    # Open input document\n",
        "    with open(input_file_path, 'rb') as input_stream:\n",
        "        with Document.open(input_stream) as input_document:\n",
        "            # Split the input document page by page\n",
        "            for i in range(1, input_document.page_count + 1):\n",
        "                current_out_file = construct_file_name(output_file_path, i)\n",
        "                with open(current_out_file, 'wb+') as output_stream:\n",
        "                    with DocumentAssembler(output_stream, None, None) as assembler:\n",
        "                        assembler.append(input_document, i, i)\n",
        "                        assembler.assemble()"
      ]
    },
    {
      "cell_type": "code",
      "execution_count": null,
      "id": "dd6240de-d75b-4c91-b45b-9b44b5d2defc",
      "metadata": {
          "id": "d4b7be00-dbb8-4d78-87ee-78e4fb01ee18"
      },
      "outputs": [],
      "source": [
        "# Construct file name from input path and page number of input document\n",
        "def construct_file_name(input_file: str, page_number: int):\n",
        "    # Split the directory and file name from the input path\n",
        "    directory, basename = os.path.split(input_file)\n",
        "\n",
        "    # Split the file base name and extension\n",
        "    base, extension = os.path.splitext(basename)\n",
        "\n",
        "    return os.path.join(directory, f\"{base}_page_{page_number}{extension}\")"
      ]
    },
    {
      "cell_type": "code",
      "execution_count": null,
      "id": "a10544df-9dc4-4d1d-a5b8-78aa5b293354",
      "metadata": {
          "id": "50bc2c00-c667-477c-b2eb-24e887089f65"
      },
      "outputs": [],
      "source": [
        "try:\n",
        "    # By default, a test license key is active. In this case, a watermark is added to the output. \n",
        "    # If you have a license key, please uncomment the following call and set the license key.\n",
        "    # from pdftools_sdk.sdk import Sdk\n",
        "    # Sdk.initialize(\"<PDFSDK,V1,MGAASQD6L2JMQHL54PK08RQX8GG4SS0M8DAHVPH0VMP3NB8R9DUK>\")\n",

        "\n",
        "    split_pdf(input_path, output_path)\n",

        "\n",
        "    print(\"Execution successful.\")\n",

        "except Exception as e:\n",
        "    print(f\"An error occurred: {e}\")"
      ]
    }
  ],
  "metadata": {
    "kernelspec": {
      "display_name": "Python 3",
      "language": "python",
      "name": "python3"
    },
    "language_info": {
      "codemirror_mode": {
        "name": "ipython",
        "version": 3
      },
      "file_extension": ".py",
      "mimetype": "text/x-python",
      "name": "python",
      "nbconvert_exporter": "python",
      "pygments_lexer": "ipython3",
      "version": "3.12.8"
    },
    "colab": {
      "provenance": []
    }
  },
  "nbformat": 4,
  "nbformat_minor": 5
}