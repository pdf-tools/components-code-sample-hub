{
  "cells": [
    {
      "cell_type": "markdown",
      "id": "d4367904-fae7-4663-9d3e-e079dda53532",
      "metadata": {
          "id": "77ce896a-35a5-4c14-bbdb-60cc753d7a22"
      },
      "source": [
        "[![Open In Colab](https://colab.research.google.com/assets/colab-badge.svg)](https://colab.research.google.com/github/pdf-tools/components-code-sample-hub/blob/main/jupyter/pdftools_sdk/pdftools_sdk_split.ipynb)"
      ]
    },
    {
      "cell_type": "code",
      "execution_count": null,
      "id": "ec12f191-1d90-439a-b250-cbb9ee1366dc",
      "metadata": {
          "id": "759b2eff-aca2-41e3-bbad-6e8f660085e4"
      },
      "outputs": [],
      "source": [
        "%pip install https://pdftools-public-downloads-production.s3.eu-west-1.amazonaws.com/productkits/PDFSDK/latest/pdftools_sdk-latest.tar.gz\n",
        "%pip install ipython"
      ]
    },
    {
      "cell_type": "markdown",
      "id": "5e19f8df-db3a-4043-b473-3a60ee3e3791",
      "metadata": {
          "id": "dd264ca2-a983-4d3a-bc43-f0b36da216f0"
      },
      "source": [
        "# Split a PDF\n",
        "Divide a PDF document into multiple PDF files."
      ]
    },
    {
      "cell_type": "code",
      "execution_count": null,
      "id": "3e01ecce-c82f-4469-9e5f-6d3ae7011f17",
      "metadata": {
          "id": "07a6ede8-f200-48b6-9b9e-9678119f5ba7"
      },
      "outputs": [],
      "source": [
        "import io\n",
        "import os\n",
        "from pdftools_sdk.document_assembly import DocumentAssembler\n",
        "from pdftools_sdk.pdf import Document"
      ]
    },
    {
      "cell_type": "code",
      "execution_count": null,
      "id": "7d91f725-dc1e-4265-973c-9a5d7ef188b1",
      "metadata": {
          "id": "b6c722be-173b-4444-a26f-7be52ae0822f"
      },
      "outputs": [],
      "source": [
        "# Download a file from a given URL and save it to the local system\n",
        "def prepare_file(url: str, path: str):\n",
        "    import requests\n",
        "    response = requests.get(url)\n",
        "    response.raise_for_status()\n",
        "\n",
        "    with open(path, 'wb') as f:\n",
        "        f.write(response.content)"
      ]
    },
    {
      "cell_type": "code",
      "execution_count": null,
      "id": "8fcaf163-e041-448d-a646-10d50ac4c8cb",
      "metadata": {
          "id": "65377cf9-926b-4bce-9296-09d9a933cbeb"
      },
      "outputs": [],
      "source": [
        "# Set input arguments\n",
        "input_url = 'https://pdftools-public-downloads-production.s3.eu-west-1.amazonaws.com/samples/testfiles/PdfPrimerWhitepaper.pdf'\n",
        "input_path = 'PdfPrimerWhitepaper.pdf'\n",
        "prepare_file(input_url, input_path)\n",
        "output_path = 'PdfPrimerWhitepaper_split.pdf'"
      ]
    },
    {
      "cell_type": "code",
      "execution_count": null,
      "id": "67132e21-d9b9-4e20-9f94-5043d5aafc84",
      "metadata": {
          "id": "07efb241-59c4-4f13-a664-ffe5210562f5"
      },
      "outputs": [],
      "source": [
        "def split_pdf(input_file_path: str, output_file_path: str):\n",
        "    # Open input document\n",
        "    with open(input_file_path, 'rb') as input_stream:\n",
        "        with Document.open(input_stream) as input_document:\n",
        "            # Split the input document page by page\n",
        "            for i in range(1, input_document.page_count + 1):\n",
        "                current_out_file = construct_file_name(output_file_path, i)\n",
        "                with open(current_out_file, 'wb+') as output_stream:\n",
        "                    with DocumentAssembler(output_stream, None, None) as assembler:\n",
        "                        assembler.append(input_document, i, i)\n",
        "                        assembler.assemble()"
      ]
    },
    {
      "cell_type": "code",
      "execution_count": null,
      "id": "ae310229-4cbb-4972-89a1-ecb28eaf7fee",
      "metadata": {
          "id": "41bd3a89-7c3d-4b09-afce-91f1af9d53c2"
      },
      "outputs": [],
      "source": [
        "# Construct file name from input path and page number of input document\n",
        "def construct_file_name(input_file: str, page_number: int):\n",
        "    # Split the directory and file name from the input path\n",
        "    directory, basename = os.path.split(input_file)\n",
        "\n",
        "    # Split the file base name and extension\n",
        "    base, extension = os.path.splitext(basename)\n",
        "\n",
        "    return os.path.join(directory, f\"{base}_page_{page_number}{extension}\")"
      ]
    },
    {
      "cell_type": "code",
      "execution_count": null,
      "id": "8ef8d1bb-2147-4e3f-9316-ff8c44b21bd0",
      "metadata": {
          "id": "6fc45145-8634-4c55-b8a5-3c0c7cf5c9a5"
      },
      "outputs": [],
      "source": [
        "try:\n",
        "    # By default, a test license key is active. In this case, a watermark is added to the output. \n",
        "    # If you have a license key, please uncomment the following call and set the license key.\n",
        "    # from pdftools_sdk.sdk import Sdk\n",
        "    # Sdk.initialize(\"INSERT-LICENSE-KEY\")\n",

        "\n",
        "    split_pdf(input_path, output_path)\n",

        "\n",
        "    print(\"Execution successful.\")\n",

        "except Exception as e:\n",
        "    print(f\"An error occurred: {e}\")"
      ]
    }
  ],
  "metadata": {
    "kernelspec": {
      "display_name": "Python 3",
      "language": "python",
      "name": "python3"
    },
    "language_info": {
      "codemirror_mode": {
        "name": "ipython",
        "version": 3
      },
      "file_extension": ".py",
      "mimetype": "text/x-python",
      "name": "python",
      "nbconvert_exporter": "python",
      "pygments_lexer": "ipython3",
      "version": "3.12.8"
    },
    "colab": {
      "provenance": []
    }
  },
  "nbformat": 4,
  "nbformat_minor": 5
}