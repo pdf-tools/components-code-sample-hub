{
  "cells": [
    {
      "cell_type": "markdown",
      "id": "517e764a-9431-406b-954f-ee1de7f2972d",
      "metadata": {
          "id": "f3d193e5-2ccd-4440-b07c-1ec9efac7c14"
      },
      "source": [
        "[![Open In Colab](https://colab.research.google.com/assets/colab-badge.svg)](https://colab.research.google.com/github/pdf-tools/components-code-sample-hub/blob/main/jupyter/pdftools_sdk/pdftools_sdk_built_in_sign.ipynb)"
      ]
    },
    {
      "cell_type": "code",
      "execution_count": null,
      "id": "37f13085-ebf3-4663-b2c3-8ee70c6382c4",
      "metadata": {
          "id": "dcbc8a56-8549-4121-99d3-efb5f91fa8a7"
      },
      "outputs": [],
      "source": [
        "%pip install pdftools_sdk\n",
        "%pip install ipython"
      ]
    },
    {
      "cell_type": "markdown",
      "id": "f8babd6d-56de-493c-995d-8c3481ca080f",
      "metadata": {
          "id": "20e1310c-d103-4686-b6c7-cc06bb322618"
      },
      "source": [
        "# Sign a PDF using a software-based certificate file\n",
        "Add a document signature, sometimes called an approval\n",
        "signature.\n",
        "This type of signature verifies the integrity of the\n",
        "signed part of the document and authenticates the\n",
        "signer's identity.\n",
        "\n",
        "Validation information is embedded to enable the\n",
        "long-term validation (LTV) of the signature.\n",
        "\n",
        "The signing certificate is read from a password-protected\n",
        "PKCS#12 file (.pfx or .p12)."
      ]
    },
    {
      "cell_type": "code",
      "execution_count": null,
      "id": "93e6aa03-fce6-4ce5-a2c5-50f2072e2c6d",
      "metadata": {
          "id": "7a9eedd7-f5bc-4436-b06b-0b8186d4011e"
      },
      "outputs": [],
      "source": [
        "import io\n",
        "from pdftools_sdk.pdf import Document\n",
        "from pdftools_sdk.sign import Signer, Appearance\n",
        "from pdftools_sdk.crypto.providers.built_in import Provider\n",
        "from pdftools_sdk.crypto import ValidationInformation\n",
        "from pdftools_sdk.geometry.units.size import Size"
      ]
    },
    {
      "cell_type": "code",
      "execution_count": null,
      "id": "3b9710b1-3ddf-4a31-b6b1-663719a223e9",
      "metadata": {
          "id": "ec7908b1-d501-4540-9ab7-ee78fa340850"
      },
      "outputs": [],
      "source": [
        "# Download a file from a given URL and save it to the local system\n",
        "def prepare_file(url: str, path: str):\n",
        "    import requests\n",
        "    response = requests.get(url)\n",
        "    response.raise_for_status()\n",
        "\n",
        "    with open(path, 'wb') as f:\n",
        "        f.write(response.content)"
      ]
    },
    {
      "cell_type": "code",
      "execution_count": null,
      "id": "0061f0af-86e8-4fe0-b43d-445d26c21b3f",
      "metadata": {
          "id": "f305aebf-6941-40e9-9a45-446cbd2d88c4"
      },
      "outputs": [],
      "source": [
        "# Set input arguments\n",
        "certificate_file = 'INSERT-PFX-FILE'  # Placeholder for PFX file\n",
        "password = 'INSERT-PASSWORD'\n",
        "input_url = 'https://pdftools-public-downloads-production.s3.eu-west-1.amazonaws.com/samples/testfiles/InvoiceNone.pdf'\n",
        "input_path = 'InvoiceNone.pdf'\n",
        "prepare_file(input_url, input_path)\n",
        "output_path = 'Signed.pdf'"
      ]
    },
    {
      "cell_type": "code",
      "execution_count": null,
      "id": "350bf9ca-f6de-46f5-88f9-7491248a20d7",
      "metadata": {
          "id": "df07a2b5-6088-4899-be13-b5f87bd3123c"
      },
      "outputs": [],
      "source": [
        "def sign(certificate_file: str, password: str, input_path: str, output_path: str):\n",
        "    # Create a session to the built-in cryptographic provider\n",
        "    with Provider() as session:\n",
        "        with io.FileIO(certificate_file, 'rb') as pfx_str:\n",
        "            # Create signature configuration from PFX (or P12) file\n",
        "            signature = session.create_signature_from_certificate(pfx_str, password)\n",
        "\n",
        "            # Embed validation information to enable long-term validation (LTV) of the signature\n",
        "            signature.validation_information = ValidationInformation.EMBED_IN_DOCUMENT\n",
        "\n",
        "            signature.appearance = Appearance.create_field_bounding_box(Size(width=200, height=300))\n",
        "            signature.appearance.page_number = 1\n",
        "\n",
        "            # Open input document\n",
        "            with io.FileIO(input_path, 'rb') as input_pdf_stream:\n",
        "                with Document.open(input_pdf_stream) as input_pdf_document:\n",
        "                    # Create stream for output file\n",
        "                    with io.FileIO(output_path, 'wb+') as output_stream:\n",
        "                        # Sign the input document\n",
        "                        signer = Signer()\n",
        "                        signer.sign(input_pdf_document, signature, output_stream)"
      ]
    },
    {
      "cell_type": "code",
      "execution_count": null,
      "id": "45bc18f6-e7ae-4538-968d-477fc1479da8",
      "metadata": {
          "id": "6e1353c3-1e63-46ea-b6bc-82efde322c2e"
      },
      "outputs": [],
      "source": [
        "try:\n",
        "    # By default, a test license key is active. In this case, a watermark is added to the output. \n",
        "    # If you have a license key, please uncomment the following call and set the license key.\n",
        "    # from pdftools_sdk.sdk import Sdk\n",
        "    # Sdk.initialize(\"INSERT-LICENSE-KEY\")\n",

        "\n",
        "    # Sign a PDF document\n",
        "    sign(certificate_file, password, input_path, output_path)\n",

        "\n",
        "    print(f\"Successfully created signed document {output_path}\")\n",

        "except Exception as e:\n",
        "    print(f\"An error occurred: {e}\")"
      ]
    }
  ],
  "metadata": {
    "kernelspec": {
      "display_name": "Python 3",
      "language": "python",
      "name": "python3"
    },
    "language_info": {
      "codemirror_mode": {
        "name": "ipython",
        "version": 3
      },
      "file_extension": ".py",
      "mimetype": "text/x-python",
      "name": "python",
      "nbconvert_exporter": "python",
      "pygments_lexer": "ipython3",
      "version": "3.12.8"
    },
    "colab": {
      "provenance": []
    }
  },
  "nbformat": 4,
  "nbformat_minor": 5
}