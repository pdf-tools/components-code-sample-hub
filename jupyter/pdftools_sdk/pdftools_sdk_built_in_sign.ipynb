{
  "cells": [
    {
      "cell_type": "markdown",
      "id": "af8aee8a-5d2e-4ec9-97b7-7ace7f81a8be",
      "metadata": {
          "id": "d275215a-26dd-4a94-8f81-7e96708990a2"
      },
      "source": [
        "[![Open In Colab](https://colab.research.google.com/assets/colab-badge.svg)](https://colab.research.google.com/github/pdf-tools/components-code-sample-hub/blob/main/jupyter/pdftools_sdk/pdftools_sdk_built_in_sign.ipynb)"
      ]
    },
    {
      "cell_type": "code",
      "execution_count": null,
      "id": "9b272c71-1e85-41c3-a4f8-f1fd97fdc5e9",
      "metadata": {
          "id": "20152dae-5aca-41e2-99db-d6e7988df72c"
      },
      "outputs": [],
      "source": [
        "%pip install https://pdftools-public-downloads-production.s3.eu-west-1.amazonaws.com/productkits/PDFSDK/latest/pdftools_sdk-latest.tar.gz\n",
        "%pip install ipython"
      ]
    },
    {
      "cell_type": "markdown",
      "id": "2a389245-db58-4eb5-b5b2-cd7194541fe3",
      "metadata": {
          "id": "5b29e1db-455d-40c5-80f9-566fc7a04d33"
      },
      "source": [
        "# Sign a PDF using a software-based certificate file\n",
        "Add a document signature, sometimes called an approval\n",
        "signature.\n",
        "This type of signature verifies the integrity of the\n",
        "signed part of the document and authenticates the\n",
        "signer's identity.\n",
        "\n",
        "Validation information is embedded to enable the\n",
        "long-term validation (LTV) of the signature.\n",
        "\n",
        "The signing certificate is read from a password-protected\n",
        "PKCS#12 file (.pfx or .p12)."
      ]
    },
    {
      "cell_type": "code",
      "execution_count": null,
      "id": "c739be1e-d88c-4ad1-a583-80acc022c4b6",
      "metadata": {
          "id": "f7734742-35b2-4b13-a197-63dac9152fc4"
      },
      "outputs": [],
      "source": [
        "import io\n",
        "from pdftools_sdk.pdf import Document\n",
        "from pdftools_sdk.sign import Signer, Appearance\n",
        "from pdftools_sdk.crypto.providers.built_in import Provider\n",
        "from pdftools_sdk.crypto import ValidationInformation\n",
        "from pdftools_sdk.geometry.units.size import Size"
      ]
    },
    {
      "cell_type": "code",
      "execution_count": null,
      "id": "249aeb77-551c-4e6e-a16c-b62de576a77c",
      "metadata": {
          "id": "cedc3919-4b14-42fe-9a2a-5b8abb941a2f"
      },
      "outputs": [],
      "source": [
        "# Download a file from a given URL and save it to the local system\n",
        "def prepare_file(url: str, path: str):\n",
        "    import requests\n",
        "    response = requests.get(url)\n",
        "    response.raise_for_status()\n",
        "\n",
        "    with open(path, 'wb') as f:\n",
        "        f.write(response.content)"
      ]
    },
    {
      "cell_type": "code",
      "execution_count": null,
      "id": "ce24377d-383f-4c55-b0f9-d20cf21a54b8",
      "metadata": {
          "id": "ca45b851-be44-4f11-93d6-c2085f3f5d4b"
      },
      "outputs": [],
      "source": [
        "# Set input arguments\n",
        "certificate_file = 'INSERT-PFX-FILE'  # Placeholder for PFX file\n",
        "password = 'INSERT-PASSWORD'\n",
        "input_url = 'https://pdftools-public-downloads-production.s3.eu-west-1.amazonaws.com/samples/testfiles/InvoiceNone.pdf'\n",
        "input_path = 'InvoiceNone.pdf'\n",
        "prepare_file(input_url, input_path)\n",
        "output_path = 'Signed.pdf'"
      ]
    },
    {
      "cell_type": "code",
      "execution_count": null,
      "id": "07a8b50d-054e-499e-b82d-6af137811def",
      "metadata": {
          "id": "a3dc3f97-50da-42b4-968a-de3a75fe84d4"
      },
      "outputs": [],
      "source": [
        "def sign(certificate_file: str, password: str, input_path: str, output_path: str):\n",
        "    # Create a session to the built-in cryptographic provider\n",
        "    with Provider() as session:\n",
        "        with io.FileIO(certificate_file, 'rb') as pfx_str:\n",
        "            # Create signature configuration from PFX (or P12) file\n",
        "            signature = session.create_signature_from_certificate(pfx_str, password)\n",
        "\n",
        "            # Embed validation information to enable long-term validation (LTV) of the signature\n",
        "            signature.validation_information = ValidationInformation.EMBED_IN_DOCUMENT\n",
        "\n",
        "            signature.appearance = Appearance.create_field_bounding_box(Size(width=200, height=300))\n",
        "            signature.appearance.page_number = 1\n",
        "\n",
        "            # Open input document\n",
        "            with io.FileIO(input_path, 'rb') as input_pdf_stream:\n",
        "                with Document.open(input_pdf_stream) as input_pdf_document:\n",
        "                    # Create stream for output file\n",
        "                    with io.FileIO(output_path, 'wb+') as output_stream:\n",
        "                        # Sign the input document\n",
        "                        signer = Signer()\n",
        "                        signer.sign(input_pdf_document, signature, output_stream)"
      ]
    },
    {
      "cell_type": "code",
      "execution_count": null,
      "id": "efa5cbb6-8dac-4f56-946f-7960461f01ca",
      "metadata": {
          "id": "c88a43a7-6338-48b0-bde3-bb3a4ec7bfd3"
      },
      "outputs": [],
      "source": [
        "try:\n",
        "    # By default, a test license key is active. In this case, a watermark is added to the output. \n",
        "    # If you have a license key, please uncomment the following call and set the license key.\n",
        "    # from pdftools_sdk.sdk import Sdk\n",
        "    # Sdk.initialize(\"<PDFSDK,V1,MGAASQD6L2JMQHL54PK08RQX8GG4SS0M8DAHVPH0VMP3NB8R9DUK>\")\n",

        "\n",
        "    # Sign a PDF document\n",
        "    sign(certificate_file, password, input_path, output_path)\n",

        "\n",
        "    print(f\"Successfully created signed document {output_path}\")\n",

        "except Exception as e:\n",
        "    print(f\"An error occurred: {e}\")"
      ]
    }
  ],
  "metadata": {
    "kernelspec": {
      "display_name": "Python 3",
      "language": "python",
      "name": "python3"
    },
    "language_info": {
      "codemirror_mode": {
        "name": "ipython",
        "version": 3
      },
      "file_extension": ".py",
      "mimetype": "text/x-python",
      "name": "python",
      "nbconvert_exporter": "python",
      "pygments_lexer": "ipython3",
      "version": "3.12.8"
    },
    "colab": {
      "provenance": []
    }
  },
  "nbformat": 4,
  "nbformat_minor": 5
}