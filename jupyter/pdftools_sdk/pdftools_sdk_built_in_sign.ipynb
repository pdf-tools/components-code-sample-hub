{
  "cells": [
    {
      "cell_type": "markdown",
      "id": "7422ddc2-1af2-4d5d-97aa-2b4f1e5d04d7",
      "metadata": {
          "id": "9e05ad05-613a-4116-92da-f00ee6c1e7fa"
      },
      "source": [
        "[![Open In Colab](https://colab.research.google.com/assets/colab-badge.svg)](https://colab.research.google.com/github/pdf-tools/components-code-sample-hub/blob/main/jupyter/pdftools_sdk/pdftools_sdk_built_in_sign.ipynb)"
      ]
    },
    {
      "cell_type": "code",
      "execution_count": null,
      "id": "70237fe4-f0ee-4002-9477-bc10420b81ab",
      "metadata": {
          "id": "67bd5636-8898-4d3c-9794-1f6a12f93730"
      },
      "outputs": [],
      "source": [
        "%pip install https://pdftools-public-downloads-production.s3.eu-west-1.amazonaws.com/productkits/PDFSDK/latest/pdftools_sdk-latest.tar.gz\n",
        "%pip install ipython"
      ]
    },
    {
      "cell_type": "markdown",
      "id": "16a5412a-821d-4c69-91eb-612de06d38ea",
      "metadata": {
          "id": "e9564c5b-949c-40db-8ab8-06ceed5d2a75"
      },
      "source": [
        "# Sign a PDF using a software-based certificate file\n",
        "Add a document signature, sometimes called an approval\n",
        "signature.\n",
        "This type of signature verifies the integrity of the\n",
        "signed part of the document and authenticates the\n",
        "signer's identity.\n",
        "\n",
        "Validation information is embedded to enable the\n",
        "long-term validation (LTV) of the signature.\n",
        "\n",
        "The signing certificate is read from a password-protected\n",
        "PKCS#12 file (.pfx or .p12)."
      ]
    },
    {
      "cell_type": "code",
      "execution_count": null,
      "id": "f534d0a1-a0e6-4048-b604-140deb724b9b",
      "metadata": {
          "id": "309d3531-9b77-44c0-a8dd-4b2f7f6c4ef0"
      },
      "outputs": [],
      "source": [
        "import io\n",
        "from pdftools_sdk.pdf import Document\n",
        "from pdftools_sdk.sign import Signer, Appearance\n",
        "from pdftools_sdk.crypto.providers.built_in import Provider\n",
        "from pdftools_sdk.crypto import ValidationInformation\n",
        "from pdftools_sdk.geometry.units.size import Size"
      ]
    },
    {
      "cell_type": "code",
      "execution_count": null,
      "id": "2959fd25-4481-40ea-a000-fcd3b741e5c6",
      "metadata": {
          "id": "c3910d58-fefa-4088-ad8d-da2c78a6764e"
      },
      "outputs": [],
      "source": [
        "# Download a file from a given URL and save it to the local system\n",
        "def prepare_file(url: str, path: str):\n",
        "    import requests\n",
        "    response = requests.get(url)\n",
        "    response.raise_for_status()\n",
        "\n",
        "    with open(path, 'wb') as f:\n",
        "        f.write(response.content)"
      ]
    },
    {
      "cell_type": "code",
      "execution_count": null,
      "id": "ee6dedc0-5d5c-4c79-9619-16fa870b1c50",
      "metadata": {
          "id": "fcaff3ca-8080-4186-a473-8afc72320a59"
      },
      "outputs": [],
      "source": [
        "# Set input arguments\n",
        "certificate_file = 'INSERT-PFX-FILE'  # Placeholder for PFX file\n",
        "password = 'INSERT-PASSWORD'\n",
        "input_url = 'https://pdftools-public-downloads-production.s3.eu-west-1.amazonaws.com/samples/testfiles/InvoiceNone.pdf'\n",
        "input_path = 'InvoiceNone.pdf'\n",
        "prepare_file(input_url, input_path)\n",
        "output_path = 'Signed.pdf'"
      ]
    },
    {
      "cell_type": "code",
      "execution_count": null,
      "id": "86c46ce9-094f-4a67-a626-3407d22df230",
      "metadata": {
          "id": "19f66e3f-266c-47f4-9285-a593029327ce"
      },
      "outputs": [],
      "source": [
        "def sign(certificate_file: str, password: str, input_path: str, output_path: str):\n",
        "    # Create a session to the built-in cryptographic provider\n",
        "    with Provider() as session:\n",
        "        with io.FileIO(certificate_file, 'rb') as pfx_str:\n",
        "            # Create signature configuration from PFX (or P12) file\n",
        "            signature = session.create_signature_from_certificate(pfx_str, password)\n",
        "\n",
        "            # Embed validation information to enable long-term validation (LTV) of the signature\n",
        "            signature.validation_information = ValidationInformation.EMBED_IN_DOCUMENT\n",
        "\n",
        "            signature.appearance = Appearance.create_field_bounding_box(Size(width=200, height=300))\n",
        "            signature.appearance.page_number = 1\n",
        "\n",
        "            # Open input document\n",
        "            with io.FileIO(input_path, 'rb') as input_pdf_stream:\n",
        "                with Document.open(input_pdf_stream) as input_pdf_document:\n",
        "                    # Create stream for output file\n",
        "                    with io.FileIO(output_path, 'wb+') as output_stream:\n",
        "                        # Sign the input document\n",
        "                        signer = Signer()\n",
        "                        signer.sign(input_pdf_document, signature, output_stream)"
      ]
    },
    {
      "cell_type": "code",
      "execution_count": null,
      "id": "d07ab3e2-11f1-450c-8909-7ac4bbd28985",
      "metadata": {
          "id": "85c4ebea-6dc7-45f4-81ce-a30fcf57a13c"
      },
      "outputs": [],
      "source": [
        "try:\n",
        "    # By default, a test license key is active. In this case, a watermark is added to the output. \n",
        "    # If you have a license key, please uncomment the following call and set the license key.\n",
        "    # from pdftools_sdk.sdk import Sdk\n",
        "    # Sdk.initialize(\"INSERT-LICENSE-KEY\")\n",

        "\n",
        "    # Sign a PDF document\n",
        "    sign(certificate_file, password, input_path, output_path)\n",

        "\n",
        "    print(f\"Successfully created signed document {output_path}\")\n",

        "except Exception as e:\n",
        "    print(f\"An error occurred: {e}\")"
      ]
    }
  ],
  "metadata": {
    "kernelspec": {
      "display_name": "Python 3",
      "language": "python",
      "name": "python3"
    },
    "language_info": {
      "codemirror_mode": {
        "name": "ipython",
        "version": 3
      },
      "file_extension": ".py",
      "mimetype": "text/x-python",
      "name": "python",
      "nbconvert_exporter": "python",
      "pygments_lexer": "ipython3",
      "version": "3.12.8"
    },
    "colab": {
      "provenance": []
    }
  },
  "nbformat": 4,
  "nbformat_minor": 5
}