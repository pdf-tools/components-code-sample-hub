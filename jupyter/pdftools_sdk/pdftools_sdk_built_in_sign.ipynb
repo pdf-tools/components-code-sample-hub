{
  "cells": [
    {
      "cell_type": "markdown",
      "id": "5dbcffc2-5f79-4a0a-af28-acf0f7a995c5",
      "metadata": {
          "id": "8812505f-f1bd-49bb-b65b-5c7a97b3898e"
      },
      "source": [
        "[![Open In Colab](https://colab.research.google.com/assets/colab-badge.svg)](https://colab.research.google.com/github/pdf-tools/components-code-sample-hub/blob/main/jupyter/pdftools_sdk/pdftools_sdk_built_in_sign.ipynb)"
      ]
    },
    {
      "cell_type": "code",
      "execution_count": null,
      "id": "8ac42601-a6b9-4604-a995-6e66bca54e11",
      "metadata": {
          "id": "03a407bf-fb07-46b8-bdd6-133a3d9b57c7"
      },
      "outputs": [],
      "source": [
        "%pip install https://pdftools-public-downloads-production.s3.eu-west-1.amazonaws.com/productkits/PDFSDK/latest/pdftools_sdk-latest.tar.gz\n",
        "%pip install ipython"
      ]
    },
    {
      "cell_type": "markdown",
      "id": "721dd273-3d5a-40dc-a430-114d7c4112bb",
      "metadata": {
          "id": "a8774f78-1592-496f-9760-0975904f71ae"
      },
      "source": [
        "# Sign a PDF using a software-based certificate file\n",
        "Add a document signature, sometimes called an approval\n",
        "signature.\n",
        "This type of signature verifies the integrity of the\n",
        "signed part of the document and authenticates the\n",
        "signer's identity.\n",
        "\n",
        "Validation information is embedded to enable the\n",
        "long-term validation (LTV) of the signature.\n",
        "\n",
        "The signing certificate is read from a password-protected\n",
        "PKCS#12 file (.pfx or .p12)."
      ]
    },
    {
      "cell_type": "code",
      "execution_count": null,
      "id": "1fd1a7bb-7120-4cc2-89bb-2779bf063b3f",
      "metadata": {
          "id": "a235edf2-d38e-4465-ab92-a897509cbf7a"
      },
      "outputs": [],
      "source": [
        "import io\n",
        "from pdftools_sdk.pdf import Document\n",
        "from pdftools_sdk.sign import Signer, Appearance\n",
        "from pdftools_sdk.crypto.providers.built_in import Provider\n",
        "from pdftools_sdk.crypto import ValidationInformation\n",
        "from pdftools_sdk.geometry.units.size import Size"
      ]
    },
    {
      "cell_type": "code",
      "execution_count": null,
      "id": "b3ef3c00-6f0d-4eeb-b3fe-861c0c343fbc",
      "metadata": {
          "id": "91f74f5e-3945-4ce2-b23b-abd84ecb8edd"
      },
      "outputs": [],
      "source": [
        "# Download a file from a given URL and save it to the local system\n",
        "def prepare_file(url: str, path: str):\n",
        "    import requests\n",
        "    response = requests.get(url)\n",
        "    response.raise_for_status()\n",
        "\n",
        "    with open(path, 'wb') as f:\n",
        "        f.write(response.content)"
      ]
    },
    {
      "cell_type": "code",
      "execution_count": null,
      "id": "66a6cd2a-bea4-494b-b7a9-cd5e2dc060c3",
      "metadata": {
          "id": "3622b370-cf81-46f6-90fd-ded69610956f"
      },
      "outputs": [],
      "source": [
        "# Set input arguments\n",
        "certificate_file = 'INSERT-PFX-FILE'  # Placeholder for PFX file\n",
        "password = 'INSERT-PASSWORD'\n",
        "input_url = 'https://pdftools-public-downloads-production.s3.eu-west-1.amazonaws.com/samples/testfiles/InvoiceNone.pdf'\n",
        "input_path = 'InvoiceNone.pdf'\n",
        "prepare_file(input_url, input_path)\n",
        "output_path = 'Signed.pdf'"
      ]
    },
    {
      "cell_type": "code",
      "execution_count": null,
      "id": "bd7fa6f8-0f54-44b4-8f2c-d6e1c3795b73",
      "metadata": {
          "id": "4bc66490-3ca8-4f97-b274-c2127ba601b6"
      },
      "outputs": [],
      "source": [
        "def sign(certificate_file: str, password: str, input_path: str, output_path: str):\n",
        "    # Create a session to the built-in cryptographic provider\n",
        "    with Provider() as session:\n",
        "        with io.FileIO(certificate_file, 'rb') as pfx_str:\n",
        "            # Create signature configuration from PFX (or P12) file\n",
        "            signature = session.create_signature_from_certificate(pfx_str, password)\n",
        "\n",
        "            # Embed validation information to enable long-term validation (LTV) of the signature\n",
        "            signature.validation_information = ValidationInformation.EMBED_IN_DOCUMENT\n",
        "\n",
        "            signature.appearance = Appearance.create_field_bounding_box(Size(width=200, height=300))\n",
        "            signature.appearance.page_number = 1\n",
        "\n",
        "            # Open input document\n",
        "            with io.FileIO(input_path, 'rb') as input_pdf_stream:\n",
        "                with Document.open(input_pdf_stream) as input_pdf_document:\n",
        "                    # Create stream for output file\n",
        "                    with io.FileIO(output_path, 'wb+') as output_stream:\n",
        "                        # Sign the input document\n",
        "                        signer = Signer()\n",
        "                        signer.sign(input_pdf_document, signature, output_stream)"
      ]
    },
    {
      "cell_type": "code",
      "execution_count": null,
      "id": "92c64b1a-79e4-4f94-a311-134890f44e8b",
      "metadata": {
          "id": "c7f3e1f0-8177-4690-aef9-774ddce0febd"
      },
      "outputs": [],
      "source": [
        "try:\n",
        "    # By default, a test license key is active. In this case, a watermark is added to the output. \n",
        "    # If you have a license key, please uncomment the following call and set the license key.\n",
        "    # from pdftools_sdk.sdk import Sdk\n",
        "    # Sdk.initialize(\"INSERT-LICENSE-KEY\")\n",

        "\n",
        "    # Sign a PDF document\n",
        "    sign(certificate_file, password, input_path, output_path)\n",

        "\n",
        "    print(f\"Successfully created signed document {output_path}\")\n",

        "except Exception as e:\n",
        "    print(f\"An error occurred: {e}\")"
      ]
    }
  ],
  "metadata": {
    "kernelspec": {
      "display_name": "Python 3",
      "language": "python",
      "name": "python3"
    },
    "language_info": {
      "codemirror_mode": {
        "name": "ipython",
        "version": 3
      },
      "file_extension": ".py",
      "mimetype": "text/x-python",
      "name": "python",
      "nbconvert_exporter": "python",
      "pygments_lexer": "ipython3",
      "version": "3.12.8"
    },
    "colab": {
      "provenance": []
    }
  },
  "nbformat": 4,
  "nbformat_minor": 5
}