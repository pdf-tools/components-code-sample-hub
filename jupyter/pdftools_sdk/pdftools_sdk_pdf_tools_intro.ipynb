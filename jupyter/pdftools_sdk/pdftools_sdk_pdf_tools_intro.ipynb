{
  "cells": [
    {
      "cell_type": "markdown",
      "id": "283611b8-f77c-4594-ad80-3ca09d1b3846",
      "metadata": {
          "id": "efd6432f-f37a-47fc-89e9-70b78d6c764e"
      },
      "source": [
        "[![Open In Colab](https://colab.research.google.com/assets/colab-badge.svg)](https://colab.research.google.com/github/pdf-tools/components-code-sample-hub/blob/main/jupyter/pdftools_sdk/pdftools_sdk_pdf_tools_intro.ipynb)"
      ]
    },
    {
      "cell_type": "code",
      "execution_count": null,
      "id": "e2bf93db-83c3-4ad2-8c4c-159654dcba0b",
      "metadata": {
          "id": "5ab80eb5-3576-44ce-ac88-3ab978e47902"
      },
      "outputs": [],
      "source": [
        "%pip install https://pdftools-public-downloads-production.s3.eu-west-1.amazonaws.com/productkits/PDFSDK/latest/pdftools_sdk-latest.tar.gz\n",
        "%pip install ipython"
      ]
    },
    {
      "cell_type": "markdown",
      "id": "2a6b02f2-c75d-44ce-a13e-502e567122bf",
      "metadata": {
          "id": "28cb5b28-3542-40de-b3bd-527cbc3e4f32"
      },
      "source": [
        "# Hello, Pdftools SDK!\n",
        "Add a cover page from an image to a PDF."
      ]
    },
    {
      "cell_type": "code",
      "execution_count": null,
      "id": "7e2a0fc3-783c-4c79-a4b9-82c6cdea7fcf",
      "metadata": {
          "id": "c0f027bb-a3e8-4ca7-ab2e-42565d6dfcf2"
      },
      "outputs": [],
      "source": [
        "import io\n",
        "from pdftools_sdk.image import Document as ImageDocument\n",
        "from pdftools_sdk.pdf import Document as PdfDocument\n",
        "from pdftools_sdk.image2_pdf import Converter\n",
        "from pdftools_sdk.image2_pdf.profiles import Default\n",
        "from pdftools_sdk.document_assembly import DocumentAssembler"
      ]
    },
    {
      "cell_type": "code",
      "execution_count": null,
      "id": "5fa37868-8ee9-4f84-ab15-06a88dcaf0d6",
      "metadata": {
          "id": "6ba9db33-f538-4b44-aff4-d858c5f18b97"
      },
      "outputs": [],
      "source": [
        "# Download a file from a given URL and save it to the local system\n",
        "def prepare_file(url: str, path: str):\n",
        "    import requests\n",
        "    response = requests.get(url)\n",
        "    response.raise_for_status()\n",
        "\n",
        "    with open(path, 'wb') as f:\n",
        "        f.write(response.content)"
      ]
    },
    {
      "cell_type": "code",
      "execution_count": null,
      "id": "5a40ad42-0ae5-44a5-9a88-63ffd7100abc",
      "metadata": {
          "id": "bba940ff-0608-4621-901b-b1a6344e00b1"
      },
      "outputs": [],
      "source": [
        "# Set input arguments\n",
        "cover_image_url = 'https://pdftools-public-downloads-production.s3.eu-west-1.amazonaws.com/samples/testfiles/ideas.tiff'\n",
        "cover_image = 'ideas.tiff'\n",
        "prepare_file(cover_image_url, cover_image)\n",
        "content_pdf_url = 'https://pdftools-public-downloads-production.s3.eu-west-1.amazonaws.com/samples/testfiles/PdfPrimerWhitepaper.pdf'\n",
        "content_pdf_path = 'PdfPrimerWhitepaper.pdf'\n",
        "prepare_file(content_pdf_url, content_pdf_path)\n",
        "output_path = 'MergedWithCover.pdf'"
      ]
    },
    {
      "cell_type": "code",
      "execution_count": null,
      "id": "ece96559-12b5-4259-882c-0201f806f3cb",
      "metadata": {
          "id": "bd27912d-1b3d-4afe-b2b4-cdf10921fdec"
      },
      "outputs": [],
      "source": [
        "def add_cover_to_pdf(cover_image: str, content_pdf_path: str, output_path: str):\n",
        "    # Convert the image cover to a PDF (stored in memory)\n",
        "    with io.BytesIO() as cover_stream:\n",
        "        with io.FileIO(cover_image, 'rb') as image_stream:\n",
        "            with ImageDocument.open(image_stream) as image_document:\n",
        "\n",
        "                # Create the profile for converting the image to PDF\n",
        "                profile = Default()\n",
        "\n",
        "                # Convert image to PDF\n",
        "                converter = Converter()\n",
        "                converter.convert(image_document, cover_stream, profile)\n",
        "\n",
        "        # Prepare the content PDF and merge with the cover\n",
        "        with io.FileIO(content_pdf_path, 'rb') as content_pdf_stream:\n",
        "            with PdfDocument.open(content_pdf_stream) as content_pdf_document:\n",
        "\n",
        "                # Open output stream and append cover and content\n",
        "                with io.FileIO(output_path, 'wb+') as output_stream:\n",
        "                    with DocumentAssembler(output_stream, None, None) as assembler:\n",
        "                        # Append cover page (convert from memory stream to PDF)\n",
        "                        assembler.append(PdfDocument.open(io.BytesIO(cover_stream.getvalue())), 1, 1)\n",
        "\n",
        "                        # Append the content PDF\n",
        "                        assembler.append(content_pdf_document)\n",
        "\n",
        "                        # Finalize the merged document\n",
        "                        assembler.assemble()"
      ]
    },
    {
      "cell_type": "code",
      "execution_count": null,
      "id": "24fcd4dd-23c2-4b8e-b457-e2519d43bfa5",
      "metadata": {
          "id": "387a4d19-a416-47b4-8eb5-77e1a3496d1f"
      },
      "outputs": [],
      "source": [
        "try:\n",
        "    # By default, a test license key is active. In this case, a watermark is added to the output. \n",
        "    # If you have a license key, please uncomment the following call and set the license key.\n",
        "    # from pdftools_sdk.sdk import Sdk\n",
        "    # Sdk.initialize(\"INSERT-LICENSE-KEY\")\n",

        "\n",
        "    # Optional: Set your proxy configuration\n",
        "    # Sdk.set_proxy(\"http://myproxy:8080\")\n",
        "    \n",
        "    add_cover_to_pdf(cover_image, content_pdf_path, output_path)\n",

        "\n",
        "    print(f\"Successfully created file {output_path}\")\n",

        "except Exception as e:\n",
        "    print(f\"An error occurred: {e}\")"
      ]
    }
  ],
  "metadata": {
    "kernelspec": {
      "display_name": "Python 3",
      "language": "python",
      "name": "python3"
    },
    "language_info": {
      "codemirror_mode": {
        "name": "ipython",
        "version": 3
      },
      "file_extension": ".py",
      "mimetype": "text/x-python",
      "name": "python",
      "nbconvert_exporter": "python",
      "pygments_lexer": "ipython3",
      "version": "3.12.8"
    },
    "colab": {
      "provenance": []
    }
  },
  "nbformat": 4,
  "nbformat_minor": 5
}