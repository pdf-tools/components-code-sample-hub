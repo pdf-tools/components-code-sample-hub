{
  "cells": [
    {
      "cell_type": "markdown",
      "id": "0b5f94b0-0a07-491f-864e-00545aabf036",
      "metadata": {
          "id": "f7c4f195-1326-4aa6-ad40-2e192cb2fb4b"
      },
      "source": [
        "[![Open In Colab](https://colab.research.google.com/assets/colab-badge.svg)](https://colab.research.google.com/github/pdf-tools/components-code-sample-hub/blob/main/jupyter/pdftools_sdk/pdftools_sdk_pdf_tools_intro.ipynb)"
      ]
    },
    {
      "cell_type": "code",
      "execution_count": null,
      "id": "62bd423e-d3f4-4aa1-9746-f1bd107380e6",
      "metadata": {
          "id": "ad2fd5ba-3d56-473f-9f0f-c384433662a0"
      },
      "outputs": [],
      "source": [
        "%pip install https://pdftools-public-downloads-production.s3.eu-west-1.amazonaws.com/productkits/PDFSDK/latest/pdftools_sdk-latest.tar.gz\n",
        "%pip install ipython"
      ]
    },
    {
      "cell_type": "markdown",
      "id": "c2030f3a-3ba5-44ca-b1c4-4f0dcb9fd7b7",
      "metadata": {
          "id": "075a20d2-a9dc-418b-ae54-7ac751ba32dc"
      },
      "source": [
        "# Hello, Pdftools SDK!\n",
        "Add a cover page from an image to a PDF."
      ]
    },
    {
      "cell_type": "code",
      "execution_count": null,
      "id": "c794f52e-a4ea-4bc7-9678-22cb3f33f2b0",
      "metadata": {
          "id": "582e67e2-b008-4b37-b54e-2c6e3fb9d90d"
      },
      "outputs": [],
      "source": [
        "import io\n",
        "from pdftools_sdk.image import Document as ImageDocument\n",
        "from pdftools_sdk.pdf import Document as PdfDocument\n",
        "from pdftools_sdk.image2_pdf import Converter\n",
        "from pdftools_sdk.image2_pdf.profiles import Default\n",
        "from pdftools_sdk.document_assembly import DocumentAssembler"
      ]
    },
    {
      "cell_type": "code",
      "execution_count": null,
      "id": "e5fd6745-10cd-4c7f-9b3f-4051d35e995b",
      "metadata": {
          "id": "ced8ef36-e252-4b9d-baf1-74aa7a45b51e"
      },
      "outputs": [],
      "source": [
        "# Download a file from a given URL and save it to the local system\n",
        "def prepare_file(url: str, path: str):\n",
        "    import requests\n",
        "    response = requests.get(url)\n",
        "    response.raise_for_status()\n",
        "\n",
        "    with open(path, 'wb') as f:\n",
        "        f.write(response.content)"
      ]
    },
    {
      "cell_type": "code",
      "execution_count": null,
      "id": "7a8fc98b-3e92-42d7-836b-ed70ff203004",
      "metadata": {
          "id": "1ceb788d-0a13-46f3-a114-e4d29eb55107"
      },
      "outputs": [],
      "source": [
        "# Set input arguments\n",
        "cover_image_url = 'https://pdftools-public-downloads-production.s3.eu-west-1.amazonaws.com/samples/testfiles/ideas.tiff'\n",
        "cover_image = 'ideas.tiff'\n",
        "prepare_file(cover_image_url, cover_image)\n",
        "content_pdf_url = 'https://pdftools-public-downloads-production.s3.eu-west-1.amazonaws.com/samples/testfiles/PdfPrimerWhitepaper.pdf'\n",
        "content_pdf_path = 'PdfPrimerWhitepaper.pdf'\n",
        "prepare_file(content_pdf_url, content_pdf_path)\n",
        "output_path = 'MergedWithCover.pdf'"
      ]
    },
    {
      "cell_type": "code",
      "execution_count": null,
      "id": "5294587d-420c-42ed-9954-856aee0882fa",
      "metadata": {
          "id": "f1b7a117-6d7b-45e1-8471-3f724c6e66d7"
      },
      "outputs": [],
      "source": [
        "def add_cover_to_pdf(cover_image: str, content_pdf_path: str, output_path: str):\n",
        "    # Convert the image cover to a PDF (stored in memory)\n",
        "    with io.BytesIO() as cover_stream:\n",
        "        with io.FileIO(cover_image, 'rb') as image_stream:\n",
        "            with ImageDocument.open(image_stream) as image_document:\n",
        "\n",
        "                # Create the profile for converting the image to PDF\n",
        "                profile = Default()\n",
        "\n",
        "                # Convert image to PDF\n",
        "                converter = Converter()\n",
        "                converter.convert(image_document, cover_stream, profile)\n",
        "\n",
        "        # Prepare the content PDF and merge with the cover\n",
        "        with io.FileIO(content_pdf_path, 'rb') as content_pdf_stream:\n",
        "            with PdfDocument.open(content_pdf_stream) as content_pdf_document:\n",
        "\n",
        "                # Open output stream and append cover and content\n",
        "                with io.FileIO(output_path, 'wb+') as output_stream:\n",
        "                    with DocumentAssembler(output_stream, None, None) as assembler:\n",
        "                        # Append cover page (convert from memory stream to PDF)\n",
        "                        assembler.append(PdfDocument.open(io.BytesIO(cover_stream.getvalue())), 1, 1)\n",
        "\n",
        "                        # Append the content PDF\n",
        "                        assembler.append(content_pdf_document)\n",
        "\n",
        "                        # Finalize the merged document\n",
        "                        assembler.assemble()"
      ]
    },
    {
      "cell_type": "code",
      "execution_count": null,
      "id": "a59445f7-fbf0-413e-a36f-6c659b6e2f28",
      "metadata": {
          "id": "c48a4fb9-7f88-4695-9497-352088f5c7ea"
      },
      "outputs": [],
      "source": [
        "try:\n",
        "    # By default, a test license key is active. In this case, a watermark is added to the output. \n",
        "    # If you have a license key, please uncomment the following call and set the license key.\n",
        "    # from pdftools_sdk.sdk import Sdk\n",
        "    # Sdk.initialize(\"<PDFSDK,V1,MGAASQD6L2JMQHL54PK08RQX8GG4SS0M8DAHVPH0VMP3NB8R9DUK>\")\n",

        "\n",
        "    # Optional: Set your proxy configuration\n",
        "    # Sdk.set_proxy(\"http://myproxy:8080\")\n",
        "    \n",
        "    add_cover_to_pdf(cover_image, content_pdf_path, output_path)\n",

        "\n",
        "    print(f\"Successfully created file {output_path}\")\n",

        "except Exception as e:\n",
        "    print(f\"An error occurred: {e}\")"
      ]
    }
  ],
  "metadata": {
    "kernelspec": {
      "display_name": "Python 3",
      "language": "python",
      "name": "python3"
    },
    "language_info": {
      "codemirror_mode": {
        "name": "ipython",
        "version": 3
      },
      "file_extension": ".py",
      "mimetype": "text/x-python",
      "name": "python",
      "nbconvert_exporter": "python",
      "pygments_lexer": "ipython3",
      "version": "3.12.8"
    },
    "colab": {
      "provenance": []
    }
  },
  "nbformat": 4,
  "nbformat_minor": 5
}