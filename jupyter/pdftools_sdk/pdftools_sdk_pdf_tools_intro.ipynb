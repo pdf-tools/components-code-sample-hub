{
  "cells": [
    {
      "cell_type": "markdown",
      "id": "04639520-464f-4d06-b145-42163d7948c1",
      "metadata": {
          "id": "686ca283-6e19-48c9-b82d-b027460c96ce"
      },
      "source": [
        "[![Open In Colab](https://colab.research.google.com/assets/colab-badge.svg)](https://colab.research.google.com/github/pdf-tools/components-code-sample-hub/blob/main/jupyter/pdftools_sdk/pdftools_sdk_pdf_tools_intro.ipynb)"
      ]
    },
    {
      "cell_type": "code",
      "execution_count": null,
      "id": "a8bdf71e-2ea1-4d46-b596-36b2108422cc",
      "metadata": {
          "id": "1a580ca3-95bd-4c16-9e0d-8d4bd55e629f"
      },
      "outputs": [],
      "source": [
        "%pip install pdftools_sdk\n",
        "%pip install ipython"
      ]
    },
    {
      "cell_type": "markdown",
      "id": "6722ef0c-50b3-41a1-a311-427cc00d6e0c",
      "metadata": {
          "id": "c273c003-571d-463f-a575-03c9886b6f0d"
      },
      "source": [
        "# Hello, Pdftools SDK!\n",
        "Add a cover page from an image to a PDF."
      ]
    },
    {
      "cell_type": "code",
      "execution_count": null,
      "id": "fc03b33c-f5e6-4065-a56d-7a44b1bc1f22",
      "metadata": {
          "id": "d6287f17-cca8-4dec-822a-34514a8a5d6a"
      },
      "outputs": [],
      "source": [
        "import io\n",
        "from pdftools_sdk.image import Document as ImageDocument\n",
        "from pdftools_sdk.pdf import Document as PdfDocument\n",
        "from pdftools_sdk.image2_pdf import Converter\n",
        "from pdftools_sdk.image2_pdf.profiles import Default\n",
        "from pdftools_sdk.document_assembly import DocumentAssembler"
      ]
    },
    {
      "cell_type": "code",
      "execution_count": null,
      "id": "3c7331aa-a9a7-4730-9248-1e588d052eb5",
      "metadata": {
          "id": "1a577930-92b5-42f8-b1ab-d926b4af15ac"
      },
      "outputs": [],
      "source": [
        "# Download a file from a given URL and save it to the local system\n",
        "def prepare_file(url: str, path: str):\n",
        "    import requests\n",
        "    response = requests.get(url)\n",
        "    response.raise_for_status()\n",
        "\n",
        "    with open(path, 'wb') as f:\n",
        "        f.write(response.content)"
      ]
    },
    {
      "cell_type": "code",
      "execution_count": null,
      "id": "c620c6e8-30ac-4620-a471-62046d91a941",
      "metadata": {
          "id": "db176735-69f9-4920-8e12-9d63b5874acb"
      },
      "outputs": [],
      "source": [
        "# Set input arguments\n",
        "cover_image_url = 'https://pdftools-public-downloads-production.s3.eu-west-1.amazonaws.com/samples/testfiles/ideas.tiff'\n",
        "cover_image = 'ideas.tiff'\n",
        "prepare_file(cover_image_url, cover_image)\n",
        "content_pdf_url = 'https://pdftools-public-downloads-production.s3.eu-west-1.amazonaws.com/samples/testfiles/PdfPrimerWhitepaper.pdf'\n",
        "content_pdf_path = 'PdfPrimerWhitepaper.pdf'\n",
        "prepare_file(content_pdf_url, content_pdf_path)\n",
        "output_path = 'MergedWithCover.pdf'"
      ]
    },
    {
      "cell_type": "code",
      "execution_count": null,
      "id": "f88f230e-ccd0-4750-b7a9-36b1cf21dd5e",
      "metadata": {
          "id": "d1fe3521-8257-4e34-b46d-a88b541fcc9b"
      },
      "outputs": [],
      "source": [
        "def add_cover_to_pdf(cover_image: str, content_pdf_path: str, output_path: str):\n",
        "    # Convert the image cover to a PDF (stored in memory)\n",
        "    with io.BytesIO() as cover_stream:\n",
        "        with io.FileIO(cover_image, 'rb') as image_stream:\n",
        "            with ImageDocument.open(image_stream) as image_document:\n",
        "\n",
        "                # Create the profile for converting the image to PDF\n",
        "                profile = Default()\n",
        "\n",
        "                # Convert image to PDF\n",
        "                converter = Converter()\n",
        "                converter.convert(image_document, cover_stream, profile)\n",
        "\n",
        "        # Prepare the content PDF and merge with the cover\n",
        "        with io.FileIO(content_pdf_path, 'rb') as content_pdf_stream:\n",
        "            with PdfDocument.open(content_pdf_stream) as content_pdf_document:\n",
        "\n",
        "                # Open output stream and append cover and content\n",
        "                with io.FileIO(output_path, 'wb+') as output_stream:\n",
        "                    with DocumentAssembler(output_stream, None, None) as assembler:\n",
        "                        # Append cover page (convert from memory stream to PDF)\n",
        "                        assembler.append(PdfDocument.open(io.BytesIO(cover_stream.getvalue())), 1, 1)\n",
        "\n",
        "                        # Append the content PDF\n",
        "                        assembler.append(content_pdf_document)\n",
        "\n",
        "                        # Finalize the merged document\n",
        "                        assembler.assemble()"
      ]
    },
    {
      "cell_type": "code",
      "execution_count": null,
      "id": "bd9cdf56-0c83-4c3c-8462-1f500777d5ad",
      "metadata": {
          "id": "92f51a9d-695d-4ccd-a01c-50a4a92f3cef"
      },
      "outputs": [],
      "source": [
        "try:\n",
        "    # By default, a test license key is active. In this case, a watermark is added to the output. \n",
        "    # If you have a license key, please uncomment the following call and set the license key.\n",
        "    # from pdftools_sdk.sdk import Sdk\n",
        "    # Sdk.initialize(\"INSERT-LICENSE-KEY\")\n",

        "\n",
        "    # Optional: Set your proxy configuration\n",
        "    # Sdk.set_proxy(\"http://myproxy:8080\")\n",
        "    \n",
        "    add_cover_to_pdf(cover_image, content_pdf_path, output_path)\n",

        "\n",
        "    print(f\"Successfully created file {output_path}\")\n",

        "except Exception as e:\n",
        "    print(f\"An error occurred: {e}\")"
      ]
    }
  ],
  "metadata": {
    "kernelspec": {
      "display_name": "Python 3",
      "language": "python",
      "name": "python3"
    },
    "language_info": {
      "codemirror_mode": {
        "name": "ipython",
        "version": 3
      },
      "file_extension": ".py",
      "mimetype": "text/x-python",
      "name": "python",
      "nbconvert_exporter": "python",
      "pygments_lexer": "ipython3",
      "version": "3.12.8"
    },
    "colab": {
      "provenance": []
    }
  },
  "nbformat": 4,
  "nbformat_minor": 5
}