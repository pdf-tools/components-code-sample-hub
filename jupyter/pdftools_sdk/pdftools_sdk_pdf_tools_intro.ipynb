{
  "cells": [
    {
      "cell_type": "markdown",
      "id": "4a2135fc-2b81-451d-8325-bd8414f39d63",
      "metadata": {
          "id": "15331b06-6408-45d4-8cc2-c278669ca5eb"
      },
      "source": [
        "[![Open In Colab](https://colab.research.google.com/assets/colab-badge.svg)](https://colab.research.google.com/github/pdf-tools/components-code-sample-hub/blob/main/jupyter/pdftools_sdk/pdftools_sdk_pdf_tools_intro.ipynb)"
      ]
    },
    {
      "cell_type": "code",
      "execution_count": null,
      "id": "c65e888c-bcfd-48ee-9ef2-e8f61e8e155a",
      "metadata": {
          "id": "f982bc5b-2f5a-4a7d-869b-6d25d3cab092"
      },
      "outputs": [],
      "source": [
        "%pip install https://pdftools-public-downloads-production.s3.eu-west-1.amazonaws.com/productkits/PDFSDK/latest/pdftools_sdk-latest.tar.gz\n",
        "%pip install ipython"
      ]
    },
    {
      "cell_type": "markdown",
      "id": "1287c81e-d6aa-4e6c-938a-4f8ee96a81d7",
      "metadata": {
          "id": "132bdf6d-01f6-4f2c-ae76-5f150e69de47"
      },
      "source": [
        "# Hello, Pdftools SDK!\n",
        "Add a cover page from an image to a PDF."
      ]
    },
    {
      "cell_type": "code",
      "execution_count": null,
      "id": "8f50b636-9f04-45e2-b662-a5d0364a53be",
      "metadata": {
          "id": "a58fdd42-8510-45d9-a056-4ee983cf11a9"
      },
      "outputs": [],
      "source": [
        "import io\n",
        "from pdftools_sdk.image import Document as ImageDocument\n",
        "from pdftools_sdk.pdf import Document as PdfDocument\n",
        "from pdftools_sdk.image2_pdf import Converter\n",
        "from pdftools_sdk.image2_pdf.profiles import Default\n",
        "from pdftools_sdk.document_assembly import DocumentAssembler"
      ]
    },
    {
      "cell_type": "code",
      "execution_count": null,
      "id": "17a27e8e-71b7-4357-b801-9c88eef94b29",
      "metadata": {
          "id": "12e4eacc-37b8-4429-b179-047a518cde16"
      },
      "outputs": [],
      "source": [
        "# Download a file from a given URL and save it to the local system\n",
        "def prepare_file(url: str, path: str):\n",
        "    import requests\n",
        "    response = requests.get(url)\n",
        "    response.raise_for_status()\n",
        "\n",
        "    with open(path, 'wb') as f:\n",
        "        f.write(response.content)"
      ]
    },
    {
      "cell_type": "code",
      "execution_count": null,
      "id": "17c376a8-86b4-47ae-b671-1e1be34e51b3",
      "metadata": {
          "id": "af13f008-1b06-4d2d-9a6d-5f0371915bf9"
      },
      "outputs": [],
      "source": [
        "# Set input arguments\n",
        "cover_image_url = 'https://pdftools-public-downloads-production.s3.eu-west-1.amazonaws.com/samples/testfiles/ideas.tiff'\n",
        "cover_image = 'ideas.tiff'\n",
        "prepare_file(cover_image_url, cover_image)\n",
        "content_pdf_url = 'https://pdftools-public-downloads-production.s3.eu-west-1.amazonaws.com/samples/testfiles/PdfPrimerWhitepaper.pdf'\n",
        "content_pdf_path = 'PdfPrimerWhitepaper.pdf'\n",
        "prepare_file(content_pdf_url, content_pdf_path)\n",
        "output_path = 'MergedWithCover.pdf'"
      ]
    },
    {
      "cell_type": "code",
      "execution_count": null,
      "id": "5c280493-3c16-49b5-aa30-be17823e4cda",
      "metadata": {
          "id": "e95aaf47-aa5f-4e9e-a1fc-e5584a052b2c"
      },
      "outputs": [],
      "source": [
        "def add_cover_to_pdf(cover_image: str, content_pdf_path: str, output_path: str):\n",
        "    # Convert the image cover to a PDF (stored in memory)\n",
        "    with io.BytesIO() as cover_stream:\n",
        "        with io.FileIO(cover_image, 'rb') as image_stream:\n",
        "            with ImageDocument.open(image_stream) as image_document:\n",
        "\n",
        "                # Create the profile for converting the image to PDF\n",
        "                profile = Default()\n",
        "\n",
        "                # Convert image to PDF\n",
        "                converter = Converter()\n",
        "                converter.convert(image_document, cover_stream, profile)\n",
        "\n",
        "        # Prepare the content PDF and merge with the cover\n",
        "        with io.FileIO(content_pdf_path, 'rb') as content_pdf_stream:\n",
        "            with PdfDocument.open(content_pdf_stream) as content_pdf_document:\n",
        "\n",
        "                # Open output stream and append cover and content\n",
        "                with io.FileIO(output_path, 'wb+') as output_stream:\n",
        "                    with DocumentAssembler(output_stream, None, None) as assembler:\n",
        "                        # Append cover page (convert from memory stream to PDF)\n",
        "                        assembler.append(PdfDocument.open(io.BytesIO(cover_stream.getvalue())), 1, 1)\n",
        "\n",
        "                        # Append the content PDF\n",
        "                        assembler.append(content_pdf_document)\n",
        "\n",
        "                        # Finalize the merged document\n",
        "                        assembler.assemble()"
      ]
    },
    {
      "cell_type": "code",
      "execution_count": null,
      "id": "dce8fc18-d2fe-453d-97fb-9c365ea31b8f",
      "metadata": {
          "id": "84c545a5-e399-44f0-a637-4543d6e4d653"
      },
      "outputs": [],
      "source": [
        "try:\n",
        "    # By default, a test license key is active. In this case, a watermark is added to the output. \n",
        "    # If you have a license key, please uncomment the following call and set the license key.\n",
        "    # from pdftools_sdk.sdk import Sdk\n",
        "    # Sdk.initialize(\"INSERT-LICENSE-KEY\")\n",

        "\n",
        "    # Optional: Set your proxy configuration\n",
        "    # Sdk.set_proxy(\"http://myproxy:8080\")\n",
        "    \n",
        "    add_cover_to_pdf(cover_image, content_pdf_path, output_path)\n",

        "\n",
        "    print(f\"Successfully created file {output_path}\")\n",

        "except Exception as e:\n",
        "    print(f\"An error occurred: {e}\")"
      ]
    }
  ],
  "metadata": {
    "kernelspec": {
      "display_name": "Python 3",
      "language": "python",
      "name": "python3"
    },
    "language_info": {
      "codemirror_mode": {
        "name": "ipython",
        "version": 3
      },
      "file_extension": ".py",
      "mimetype": "text/x-python",
      "name": "python",
      "nbconvert_exporter": "python",
      "pygments_lexer": "ipython3",
      "version": "3.12.8"
    },
    "colab": {
      "provenance": []
    }
  },
  "nbformat": 4,
  "nbformat_minor": 5
}