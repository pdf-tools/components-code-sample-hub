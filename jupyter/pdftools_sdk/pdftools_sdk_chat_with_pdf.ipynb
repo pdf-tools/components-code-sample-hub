{
  "cells": [
    {
      "cell_type": "markdown",
      "id": "48be1ea5-41c7-45aa-aaf5-cb8a1c116fc8",
      "metadata": {
          "id": "148ee4dc-17f7-4ca8-bffc-b52c8c5969b2"
      },
      "source": [
        "[![Open In Colab](https://colab.research.google.com/assets/colab-badge.svg)](https://colab.research.google.com/github/pdf-tools/components-code-sample-hub/blob/main/jupyter/pdftools_sdk/pdftools_sdk_chat_with_pdf.ipynb)"
      ]
    },
    {
      "cell_type": "code",
      "execution_count": null,
      "id": "9828db8b-ab8b-4a72-8ecf-92c6a1cd066c",
      "metadata": {
          "id": "5aeca9d1-125a-4307-a60f-44d98a609876"
      },
      "outputs": [],
      "source": [
        "%pip install openai\n",
        "%pip install pdftools_sdk\n",
        "%pip install ipython"
      ]
    },
    {
      "cell_type": "markdown",
      "id": "1f9a6d80-8b82-4783-b78f-1611054c86b3",
      "metadata": {
          "id": "ee354adc-07a8-4f2d-84cd-85480754d3ad"
      },
      "source": [
        "# Chat with a PDF\n",
        "Ask a question about a PDF and get an answer on the\n",
        "console."
      ]
    },
    {
      "cell_type": "code",
      "execution_count": null,
      "id": "b71b43a7-7752-4331-8e0e-6bc777f26332",
      "metadata": {
          "id": "18676a2b-6762-4fe9-a15e-6afd88ab1efc"
      },
      "outputs": [],
      "source": [
        "import io\n",
        "from openai import OpenAI\n",
        "from pdftools_sdk.pdf import Document\n",
        "from pdftools_sdk.extraction import Extractor, TextOptions, TextExtractionFormat"
      ]
    },
    {
      "cell_type": "code",
      "execution_count": null,
      "id": "bc7cf84b-51f8-4608-a931-b3a683e740aa",
      "metadata": {
          "id": "774de487-b56f-4d76-9b62-0f8a967c9196"
      },
      "outputs": [],
      "source": [
        "# Download a file from a given URL and save it to the local system\n",
        "def prepare_file(url: str, path: str):\n",
        "    import requests\n",
        "    response = requests.get(url)\n",
        "    response.raise_for_status()\n",
        "\n",
        "    with open(path, 'wb') as f:\n",
        "        f.write(response.content)"
      ]
    },
    {
      "cell_type": "code",
      "execution_count": null,
      "id": "37a60d49-1d5a-41e5-aacf-6f75095766b3",
      "metadata": {
          "id": "620b7490-e1fe-418e-b272-fb7685eb0bf3"
      },
      "outputs": [],
      "source": [
        "# Set input arguments\n",
        "input_url = 'https://pdftools-public-downloads-production.s3.eu-west-1.amazonaws.com/samples/testfiles/PdfPrimerWhitepaper.pdf'\n",
        "input_path = 'PdfPrimerWhitepaper.pdf'\n",
        "prepare_file(input_url, input_path)\n",
        "question = 'What is the title?'"
      ]
    },
    {
      "cell_type": "code",
      "execution_count": null,
      "id": "6dcd3d7a-15ae-4efc-aa7e-1bb8a6227efe",
      "metadata": {
          "id": "d34cb608-3030-4b99-8434-a2cb81fd4878"
      },
      "outputs": [],
      "source": [
        "def extract_text(input_file_path: str) -> str:\n",
        "    # Open input document\n",
        "    with open(input_file_path, 'rb') as in_stream:\n",
        "        with Document.open(in_stream) as in_doc:\n",
        "            # Set extraction options\n",
        "            options = TextOptions()\n",
        "            options.extraction_format = TextExtractionFormat.DOCUMENT_ORDER\n",
        "\n",
        "            # Extract text from PDF\n",
        "            extractor = Extractor()\n",
        "            with io.BytesIO() as output_stream:\n",
        "                extractor.extract_text(in_doc, output_stream, options)\n",
        "                return output_stream.getvalue().decode('utf-8')"
      ]
    },{
      "cell_type": "code",
      "execution_count": null,
      "id": "fcc61335-150b-4887-a817-bf84af4ae456",
      "metadata": {
          "id": "7788a875-3ec9-45f1-b94f-54edb1141615"
      },
      "outputs": [],
      "source": [
        "def answer_question(text: str, question: str) -> str:\n",
        "    client = OpenAI(api_key=\"***insert-open-ai-api-key***\")\n",
        "\n",
        "    prompt = (\n",
        "        \"You are a helpful assistant. Use the provided text to answer the \"\n",
        "        \"question. If the answer is not in the text, say 'Not found'.\\n\\n\"\n",
        "        f\"Text: {text}\\nQuestion: {question}\\nAnswer:\"\n",
        "    )\n",
        "\n",
        "    response = client.chat.completions.create(\n",
        "        model=\"gpt-4\",\n",
        "        messages=[\n",
        "            {\"role\": \"system\", \"content\": \"You answer questions based on text.\"},\n",
        "            {\"role\": \"user\", \"content\": prompt}\n",
        "        ],\n",
        "    )\n",
        "\n",
        "    return response.choices[0].message.content.strip()"
      ]
    },
    {
      "cell_type": "code",
      "execution_count": null,
      "id": "8ecefc7a-d7d0-440b-9477-7832adc8ba15",
      "metadata": {
          "id": "4e33f3de-c763-4749-b7d7-820d230e7b05"
      },
      "outputs": [],
      "source": [
        "try:\n",
        "    # By default, a test license key is active. In this case, a watermark is added to the output. \n",
        "    # If you have a license key, please uncomment the following call and set the license key.\n",
        "    # from pdftools_sdk.sdk import Sdk\n",
        "    # Sdk.initialize(\"INSERT-LICENSE-KEY\")\n",

        "\n",
        "    extracted_text = extract_text(input_path)\n",
        "    answer = answer_question(extracted_text, question)\n",
        "    print(f\"Question: {question}\")\n",
        "    print(f\"Answer: {answer}\")\n",

        "\n",
        "    print(f\"Finished chatting with PDF.\")\n",

        "except Exception as e:\n",
        "    print(f\"An error occurred: {e}\")"
      ]
    }
  ],
  "metadata": {
    "kernelspec": {
      "display_name": "Python 3",
      "language": "python",
      "name": "python3"
    },
    "language_info": {
      "codemirror_mode": {
        "name": "ipython",
        "version": 3
      },
      "file_extension": ".py",
      "mimetype": "text/x-python",
      "name": "python",
      "nbconvert_exporter": "python",
      "pygments_lexer": "ipython3",
      "version": "3.12.8"
    },
    "colab": {
      "provenance": []
    }
  },
  "nbformat": 4,
  "nbformat_minor": 5
}