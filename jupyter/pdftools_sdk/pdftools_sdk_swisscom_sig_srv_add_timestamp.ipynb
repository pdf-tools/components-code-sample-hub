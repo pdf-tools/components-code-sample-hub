{
  "cells": [
    {
      "cell_type": "markdown",
      "id": "05671246-1b02-49da-839d-0974332ea578",
      "metadata": {
          "id": "144a379c-39b0-4c0b-b84e-9df10d76e66b"
      },
      "source": [
        "[![Open In Colab](https://colab.research.google.com/assets/colab-badge.svg)](https://colab.research.google.com/github/pdf-tools/components-code-sample-hub/blob/main/jupyter/pdftools_sdk/pdftools_sdk_swisscom_sig_srv_add_timestamp.ipynb)"
      ]
    },
    {
      "cell_type": "code",
      "execution_count": null,
      "id": "a1a572cd-33aa-42b9-8f19-3d9db8a1419e",
      "metadata": {
          "id": "3b2640dd-e76d-4f25-9212-280d184cb51f"
      },
      "outputs": [],
      "source": [
        "%pip install https://pdftools-public-downloads-production.s3.eu-west-1.amazonaws.com/productkits/PDFSDK/latest/pdftools_sdk-latest.tar.gz\n",
        "%pip install ipython"
      ]
    },
    {
      "cell_type": "markdown",
      "id": "be0ec6dd-4e1d-4940-bd1a-8082045b3503",
      "metadata": {
          "id": "a294ee2b-deb3-4ac0-94cf-6edf8f824bc5"
      },
      "source": [
        "# Add a document time-stamp to a PDF using the Swisscom Signing Service\n",
        "Add a trusted document time-stamp to a PDF and confirm\n",
        "that the signed document has not been altered. This type\n",
        "of signature proves that the document existed at a\n",
        "specific time and ensures its integrity."
      ]
    },
    {
      "cell_type": "code",
      "execution_count": null,
      "id": "09f1d6e8-4523-49d0-bc7f-ff5a5a91d71e",
      "metadata": {
          "id": "05c3ccc7-2af8-44fb-878a-76d7b35e4d8e"
      },
      "outputs": [],
      "source": [
        "import io\n",
        "from pdftools_sdk.pdf import Document\n",
        "from pdftools_sdk.sign import Signer\n",
        "from pdftools_sdk.crypto.providers.swisscom_sig_srv import Session\n",
        "from pdftools_sdk.http_client_handler import HttpClientHandler"
      ]
    },
    {
      "cell_type": "code",
      "execution_count": null,
      "id": "664b667d-fe6a-4c24-af6f-dafe9f4390de",
      "metadata": {
          "id": "555cb379-b48d-4b94-9093-08c3b2028e0c"
      },
      "outputs": [],
      "source": [
        "# Download a file from a given URL and save it to the local system\n",
        "def prepare_file(url: str, path: str):\n",
        "    import requests\n",
        "    response = requests.get(url)\n",
        "    response.raise_for_status()\n",
        "\n",
        "    with open(path, 'wb') as f:\n",
        "        f.write(response.content)"
      ]
    },
    {
      "cell_type": "code",
      "execution_count": null,
      "id": "c99d2cb5-829d-4fd4-b810-af2c7b301fa0",
      "metadata": {
          "id": "3a4dd976-c1eb-457b-9f92-5344e5356062"
      },
      "outputs": [],
      "source": [
        "# Set input arguments\n",
        "identity = 'INSERT-IDENTITY'  # Placeholder for Swisscom identity\n",
        "input_url = 'https://pdftools-public-downloads-production.s3.eu-west-1.amazonaws.com/samples/testfiles/InvoiceNone.pdf'\n",
        "input_path = 'InvoiceNone.pdf'\n",
        "prepare_file(input_url, input_path)\n",
        "output_path = 'TimestampedSwisscom.pdf'"
      ]
    },
    {
      "cell_type": "code",
      "execution_count": null,
      "id": "89621c98-16f3-4ff5-8c75-5ac53000e6c2",
      "metadata": {
          "id": "8990d63f-cae9-442f-835e-b5a1c91ff38e"
      },
      "outputs": [],
      "source": [
        "def add_timestamp(session: Session, identity: str, input_path: str, output_path: str):\n",
        "    # Create timestamp configuration\n",
        "    timestamp = session.create_timestamp(identity)\n",
        "\n",
        "    # Open input document\n",
        "    with io.FileIO(input_path, 'rb') as input_stream:\n",
        "        with Document.open(input_stream) as input_document:\n",
        "            # Create stream for output file\n",
        "            with io.FileIO(output_path, 'wb+') as output_stream:\n",
        "                # Add the document timestamp\n",
        "                signer = Signer()\n",
        "                signer.add_timestamp(input_document, timestamp, output_stream)"
      ]
    },
    {
      "cell_type": "code",
      "execution_count": null,
      "id": "80e91a53-e9ae-41d7-8e32-f77b48bf64e1",
      "metadata": {
          "id": "6df6f2f6-b7bc-4aa6-878f-105c89c32ca4"
      },
      "outputs": [],
      "source": [
        "try:\n",
        "    # By default, a test license key is active. In this case, a watermark is added to the output. \n",
        "    # If you have a license key, please uncomment the following call and set the license key.\n",
        "    # from pdftools_sdk.sdk import Sdk\n",
        "    # Sdk.initialize(\"INSERT-LICENSE-KEY\")\n",

        "\n",
        "    # Optional: Set your proxy configuration\n",
        "    # Sdk.set_proxy(\"http://myproxy:8080\")\n",
        "    \n",
        "    # Configure the SSL client certificate to connect to the service\n",
        "    http_client_handler = HttpClientHandler()\n",
        "    with io.FileIO(\"C:/path/to/clientcert.p12\", 'rb') as cert_stream:\n",
        "        http_client_handler.set_client_certificate(cert_stream, \"***insert password***\")\n",
        "    \n",
        "        # Connect to the Swisscom Signing Service\n",
        "        with Session(\"https://ais.swisscom.com\", http_client_handler) as session:\n",
        "            # Add a document timestamp to a PDF\n",
        "            add_timestamp(session, identity, input_path, output_path)\n",

        "\n",
        "    print(f\"Successfully created file {output_path}\")\n",

        "except Exception as e:\n",
        "    print(f\"An error occurred: {e}\")"
      ]
    }
  ],
  "metadata": {
    "kernelspec": {
      "display_name": "Python 3",
      "language": "python",
      "name": "python3"
    },
    "language_info": {
      "codemirror_mode": {
        "name": "ipython",
        "version": 3
      },
      "file_extension": ".py",
      "mimetype": "text/x-python",
      "name": "python",
      "nbconvert_exporter": "python",
      "pygments_lexer": "ipython3",
      "version": "3.12.8"
    },
    "colab": {
      "provenance": []
    }
  },
  "nbformat": 4,
  "nbformat_minor": 5
}