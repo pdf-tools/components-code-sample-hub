{
  "cells": [
    {
      "cell_type": "markdown",
      "id": "15735db6-55df-4005-b602-7b21dd9b16c0",
      "metadata": {
          "id": "a26f215f-c71e-4497-ad5b-72c53585db76"
      },
      "source": [
        "[![Open In Colab](https://colab.research.google.com/assets/colab-badge.svg)](https://colab.research.google.com/github/pdf-tools/components-code-sample-hub/blob/main/jupyter/pdftools_sdk/pdftools_sdk_swisscom_sig_srv_add_timestamp.ipynb)"
      ]
    },
    {
      "cell_type": "code",
      "execution_count": null,
      "id": "0e72b47e-9500-4056-930e-c1036cbc30a5",
      "metadata": {
          "id": "a7f8ee5f-a628-4cf0-948a-01fbcd2198a7"
      },
      "outputs": [],
      "source": [
        "%pip install https://pdftools-public-downloads-production.s3.eu-west-1.amazonaws.com/productkits/PDFSDK/latest/pdftools_sdk-latest.tar.gz\n",
        "%pip install ipython"
      ]
    },
    {
      "cell_type": "markdown",
      "id": "4cdcb66d-955a-4906-830f-c5de70287f9c",
      "metadata": {
          "id": "f1ea2224-3c01-47c8-bea9-6598fcecbcb7"
      },
      "source": [
        "# Add a document time-stamp to a PDF using the Swisscom Signing Service\n",
        "Add a trusted document time-stamp to a PDF and confirm\n",
        "that the signed document has not been altered. This type\n",
        "of signature proves that the document existed at a\n",
        "specific time and ensures its integrity."
      ]
    },
    {
      "cell_type": "code",
      "execution_count": null,
      "id": "80aede01-b50b-4c97-b3c2-ea4a451b19bc",
      "metadata": {
          "id": "a831b837-e9ba-48a0-94b6-84f4bef9bc3a"
      },
      "outputs": [],
      "source": [
        "import io\n",
        "from pdftools_sdk.pdf import Document\n",
        "from pdftools_sdk.sign import Signer\n",
        "from pdftools_sdk.crypto.providers.swisscom_sig_srv import Session\n",
        "from pdftools_sdk.http_client_handler import HttpClientHandler"
      ]
    },
    {
      "cell_type": "code",
      "execution_count": null,
      "id": "76a55ac8-8028-487f-9ef5-139476c02f07",
      "metadata": {
          "id": "424c7d67-96c0-465e-a5bd-329c62b94622"
      },
      "outputs": [],
      "source": [
        "# Download a file from a given URL and save it to the local system\n",
        "def prepare_file(url: str, path: str):\n",
        "    import requests\n",
        "    response = requests.get(url)\n",
        "    response.raise_for_status()\n",
        "\n",
        "    with open(path, 'wb') as f:\n",
        "        f.write(response.content)"
      ]
    },
    {
      "cell_type": "code",
      "execution_count": null,
      "id": "6c472ba6-4abf-4971-93ff-51e14458850a",
      "metadata": {
          "id": "f3135456-584f-4ed7-ab96-8a0c664689c4"
      },
      "outputs": [],
      "source": [
        "# Set input arguments\n",
        "identity = 'INSERT-IDENTITY'  # Placeholder for Swisscom identity\n",
        "input_url = 'https://pdftools-public-downloads-production.s3.eu-west-1.amazonaws.com/samples/testfiles/InvoiceNone.pdf'\n",
        "input_path = 'InvoiceNone.pdf'\n",
        "prepare_file(input_url, input_path)\n",
        "output_path = 'TimestampedSwisscom.pdf'"
      ]
    },
    {
      "cell_type": "code",
      "execution_count": null,
      "id": "e38a801f-11c1-4704-b636-27d737b82133",
      "metadata": {
          "id": "6534251f-43c9-4ba0-af2d-829b8ba54255"
      },
      "outputs": [],
      "source": [
        "def add_timestamp(session: Session, identity: str, input_path: str, output_path: str):\n",
        "    # Create timestamp configuration\n",
        "    timestamp = session.create_timestamp(identity)\n",
        "\n",
        "    # Open input document\n",
        "    with io.FileIO(input_path, 'rb') as input_stream:\n",
        "        with Document.open(input_stream) as input_document:\n",
        "            # Create stream for output file\n",
        "            with io.FileIO(output_path, 'wb+') as output_stream:\n",
        "                # Add the document timestamp\n",
        "                signer = Signer()\n",
        "                signer.add_timestamp(input_document, timestamp, output_stream)"
      ]
    },
    {
      "cell_type": "code",
      "execution_count": null,
      "id": "19b89083-d524-4f0f-a145-6e465e223eab",
      "metadata": {
          "id": "a6129f27-066e-45f1-8b2c-3bbba78faa59"
      },
      "outputs": [],
      "source": [
        "try:\n",
        "    # By default, a test license key is active. In this case, a watermark is added to the output. \n",
        "    # If you have a license key, please uncomment the following call and set the license key.\n",
        "    # from pdftools_sdk.sdk import Sdk\n",
        "    # Sdk.initialize(\"<PDFSDK,V1,MGAASQD6L2JMQHL54PK08RQX8GG4SS0M8DAHVPH0VMP3NB8R9DUK>\")\n",

        "\n",
        "    # Optional: Set your proxy configuration\n",
        "    # Sdk.set_proxy(\"http://myproxy:8080\")\n",
        "    \n",
        "    # Configure the SSL client certificate to connect to the service\n",
        "    http_client_handler = HttpClientHandler()\n",
        "    with io.FileIO(\"C:/path/to/clientcert.p12\", 'rb') as cert_stream:\n",
        "        http_client_handler.set_client_certificate(cert_stream, \"***insert password***\")\n",
        "    \n",
        "        # Connect to the Swisscom Signing Service\n",
        "        with Session(\"https://ais.swisscom.com\", http_client_handler) as session:\n",
        "            # Add a document timestamp to a PDF\n",
        "            add_timestamp(session, identity, input_path, output_path)\n",

        "\n",
        "    print(f\"Successfully created file {output_path}\")\n",

        "except Exception as e:\n",
        "    print(f\"An error occurred: {e}\")"
      ]
    }
  ],
  "metadata": {
    "kernelspec": {
      "display_name": "Python 3",
      "language": "python",
      "name": "python3"
    },
    "language_info": {
      "codemirror_mode": {
        "name": "ipython",
        "version": 3
      },
      "file_extension": ".py",
      "mimetype": "text/x-python",
      "name": "python",
      "nbconvert_exporter": "python",
      "pygments_lexer": "ipython3",
      "version": "3.12.8"
    },
    "colab": {
      "provenance": []
    }
  },
  "nbformat": 4,
  "nbformat_minor": 5
}