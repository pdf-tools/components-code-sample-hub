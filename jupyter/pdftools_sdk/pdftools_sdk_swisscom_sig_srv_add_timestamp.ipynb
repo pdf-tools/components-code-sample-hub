{
  "cells": [
    {
      "cell_type": "markdown",
      "id": "8e0eeaa1-e38c-4913-9f61-3b430ea33649",
      "metadata": {
          "id": "6a622d42-a257-458c-99fb-261fe7687d0d"
      },
      "source": [
        "[![Open In Colab](https://colab.research.google.com/assets/colab-badge.svg)](https://colab.research.google.com/github/pdf-tools/components-code-sample-hub/blob/main/jupyter/pdftools_sdk/pdftools_sdk_swisscom_sig_srv_add_timestamp.ipynb)"
      ]
    },
    {
      "cell_type": "code",
      "execution_count": null,
      "id": "67195fba-5dd2-4257-a493-e64737153d5f",
      "metadata": {
          "id": "24e9fa4b-249c-4727-ab41-b2b548d68e55"
      },
      "outputs": [],
      "source": [
        "%pip install pdftools_sdk\n",
        "%pip install ipython"
      ]
    },
    {
      "cell_type": "markdown",
      "id": "57d27304-7a5d-423d-959d-b76f455b01a7",
      "metadata": {
          "id": "265da527-3789-461f-927d-51fc0a0c9e5d"
      },
      "source": [
        "# Add a document time-stamp to a PDF using the Swisscom Signing Service\n",
        "Add a trusted document time-stamp to a PDF and confirm\n",
        "that the signed document has not been altered. This type\n",
        "of signature proves that the document existed at a\n",
        "specific time and ensures its integrity."
      ]
    },
    {
      "cell_type": "code",
      "execution_count": null,
      "id": "f475d80a-bbe6-45e7-9f89-cec27db8e959",
      "metadata": {
          "id": "b1b6d225-7072-4f4a-b74e-f8cba3f8ad74"
      },
      "outputs": [],
      "source": [
        "import io\n",
        "from pdftools_sdk.pdf import Document\n",
        "from pdftools_sdk.sign import Signer\n",
        "from pdftools_sdk.crypto.providers.swisscom_sig_srv import Session\n",
        "from pdftools_sdk.http_client_handler import HttpClientHandler"
      ]
    },
    {
      "cell_type": "code",
      "execution_count": null,
      "id": "18662431-8bdd-478d-8e89-93241dcca60b",
      "metadata": {
          "id": "fe8b9739-1396-4bb8-980c-9520ec90ffad"
      },
      "outputs": [],
      "source": [
        "# Download a file from a given URL and save it to the local system\n",
        "def prepare_file(url: str, path: str):\n",
        "    import requests\n",
        "    response = requests.get(url)\n",
        "    response.raise_for_status()\n",
        "\n",
        "    with open(path, 'wb') as f:\n",
        "        f.write(response.content)"
      ]
    },
    {
      "cell_type": "code",
      "execution_count": null,
      "id": "1be5946e-6c30-4651-8b51-e562f91a688c",
      "metadata": {
          "id": "0fb913b1-31f6-461b-94b8-920096c13a91"
      },
      "outputs": [],
      "source": [
        "# Set input arguments\n",
        "identity = 'INSERT-IDENTITY'  # Placeholder for Swisscom identity\n",
        "input_url = 'https://pdftools-public-downloads-production.s3.eu-west-1.amazonaws.com/samples/testfiles/InvoiceNone.pdf'\n",
        "input_path = 'InvoiceNone.pdf'\n",
        "prepare_file(input_url, input_path)\n",
        "output_path = 'TimestampedSwisscom.pdf'"
      ]
    },
    {
      "cell_type": "code",
      "execution_count": null,
      "id": "6f2ddea4-2c0c-4b01-8eef-1a4617d72b52",
      "metadata": {
          "id": "95924f95-2b83-4616-819f-302a164a9fb9"
      },
      "outputs": [],
      "source": [
        "def add_timestamp(session: Session, identity: str, input_path: str, output_path: str):\n",
        "    # Create timestamp configuration\n",
        "    timestamp = session.create_timestamp(identity)\n",
        "\n",
        "    # Open input document\n",
        "    with io.FileIO(input_path, 'rb') as input_stream:\n",
        "        with Document.open(input_stream) as input_document:\n",
        "            # Create stream for output file\n",
        "            with io.FileIO(output_path, 'wb+') as output_stream:\n",
        "                # Add the document timestamp\n",
        "                signer = Signer()\n",
        "                signer.add_timestamp(input_document, timestamp, output_stream)"
      ]
    },
    {
      "cell_type": "code",
      "execution_count": null,
      "id": "57223219-202e-4775-ba92-f6b9e8db521f",
      "metadata": {
          "id": "e93da1d3-d7b8-41f4-8abc-428dac36ff78"
      },
      "outputs": [],
      "source": [
        "try:\n",
        "    # By default, a test license key is active. In this case, a watermark is added to the output. \n",
        "    # If you have a license key, please uncomment the following call and set the license key.\n",
        "    # from pdftools_sdk.sdk import Sdk\n",
        "    # Sdk.initialize(\"INSERT-LICENSE-KEY\")\n",

        "\n",
        "    # Optional: Set your proxy configuration\n",
        "    # Sdk.set_proxy(\"http://myproxy:8080\")\n",
        "    \n",
        "    # Configure the SSL client certificate to connect to the service\n",
        "    http_client_handler = HttpClientHandler()\n",
        "    with io.FileIO(\"C:/path/to/clientcert.p12\", 'rb') as cert_stream:\n",
        "        http_client_handler.set_client_certificate(cert_stream, \"***insert password***\")\n",
        "    \n",
        "        # Connect to the Swisscom Signing Service\n",
        "        with Session(\"https://ais.swisscom.com\", http_client_handler) as session:\n",
        "            # Add a document timestamp to a PDF\n",
        "            add_timestamp(session, identity, input_path, output_path)\n",

        "\n",
        "    print(f\"Successfully created file {output_path}\")\n",

        "except Exception as e:\n",
        "    print(f\"An error occurred: {e}\")"
      ]
    }
  ],
  "metadata": {
    "kernelspec": {
      "display_name": "Python 3",
      "language": "python",
      "name": "python3"
    },
    "language_info": {
      "codemirror_mode": {
        "name": "ipython",
        "version": 3
      },
      "file_extension": ".py",
      "mimetype": "text/x-python",
      "name": "python",
      "nbconvert_exporter": "python",
      "pygments_lexer": "ipython3",
      "version": "3.12.8"
    },
    "colab": {
      "provenance": []
    }
  },
  "nbformat": 4,
  "nbformat_minor": 5
}