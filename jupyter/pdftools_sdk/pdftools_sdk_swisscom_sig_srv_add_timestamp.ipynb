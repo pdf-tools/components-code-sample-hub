{
  "cells": [
    {
      "cell_type": "markdown",
      "id": "6a481fc4-c773-4448-bb8c-62371656b8e4",
      "metadata": {
          "id": "f85d23eb-6f7a-49c2-bda3-5d546d803569"
      },
      "source": [
        "[![Open In Colab](https://colab.research.google.com/assets/colab-badge.svg)](https://colab.research.google.com/github/pdf-tools/components-code-sample-hub/blob/main/jupyter/pdftools_sdk/pdftools_sdk_swisscom_sig_srv_add_timestamp.ipynb)"
      ]
    },
    {
      "cell_type": "code",
      "execution_count": null,
      "id": "46199588-2c32-4c8f-83ae-c4f1e0f025fb",
      "metadata": {
          "id": "43a0d15e-6569-4c08-9a3f-dc7844a58ae5"
      },
      "outputs": [],
      "source": [
        "%pip install https://pdftools-public-downloads-production.s3.eu-west-1.amazonaws.com/productkits/PDFSDK/latest/pdftools_sdk-latest.tar.gz\n",
        "%pip install ipython"
      ]
    },
    {
      "cell_type": "markdown",
      "id": "3bded45c-b678-459e-a02f-e0f3943d125f",
      "metadata": {
          "id": "64e94419-0726-48fd-b077-f7ecb654e397"
      },
      "source": [
        "# Add a document time-stamp to a PDF using the Swisscom Signing Service\n",
        "Add a trusted document time-stamp to a PDF and confirm\n",
        "that the signed document has not been altered. This type\n",
        "of signature proves that the document existed at a\n",
        "specific time and ensures its integrity."
      ]
    },
    {
      "cell_type": "code",
      "execution_count": null,
      "id": "55cf7280-0875-499a-aeb9-9bffc55c2699",
      "metadata": {
          "id": "cc86d336-1067-40e8-986b-0d1717bc7e5b"
      },
      "outputs": [],
      "source": [
        "import io\n",
        "from pdftools_sdk.pdf import Document\n",
        "from pdftools_sdk.sign import Signer\n",
        "from pdftools_sdk.crypto.providers.swisscom_sig_srv import Session\n",
        "from pdftools_sdk.http_client_handler import HttpClientHandler"
      ]
    },
    {
      "cell_type": "code",
      "execution_count": null,
      "id": "b203f131-d2ac-4f90-89a4-08ccded0c184",
      "metadata": {
          "id": "113d37fa-5cfc-4723-89a4-2d10f934c76f"
      },
      "outputs": [],
      "source": [
        "# Download a file from a given URL and save it to the local system\n",
        "def prepare_file(url: str, path: str):\n",
        "    import requests\n",
        "    response = requests.get(url)\n",
        "    response.raise_for_status()\n",
        "\n",
        "    with open(path, 'wb') as f:\n",
        "        f.write(response.content)"
      ]
    },
    {
      "cell_type": "code",
      "execution_count": null,
      "id": "c5845f9c-c891-46e1-bdd7-6a9905f9f87b",
      "metadata": {
          "id": "c3d6b4e4-ac59-4d93-8e0a-bc019cfe6fa9"
      },
      "outputs": [],
      "source": [
        "# Set input arguments\n",
        "identity = 'INSERT-IDENTITY'  # Placeholder for Swisscom identity\n",
        "input_url = 'https://pdftools-public-downloads-production.s3.eu-west-1.amazonaws.com/samples/testfiles/InvoiceNone.pdf'\n",
        "input_path = 'InvoiceNone.pdf'\n",
        "prepare_file(input_url, input_path)\n",
        "output_path = 'TimestampedSwisscom.pdf'"
      ]
    },
    {
      "cell_type": "code",
      "execution_count": null,
      "id": "84d1b174-a25a-4282-b419-bb32db81e7c9",
      "metadata": {
          "id": "5c8ca8d0-c31d-4ba8-b92a-8131eabd869a"
      },
      "outputs": [],
      "source": [
        "def add_timestamp(session: Session, identity: str, input_path: str, output_path: str):\n",
        "    # Create timestamp configuration\n",
        "    timestamp = session.create_timestamp(identity)\n",
        "\n",
        "    # Open input document\n",
        "    with io.FileIO(input_path, 'rb') as input_stream:\n",
        "        with Document.open(input_stream) as input_document:\n",
        "            # Create stream for output file\n",
        "            with io.FileIO(output_path, 'wb+') as output_stream:\n",
        "                # Add the document timestamp\n",
        "                signer = Signer()\n",
        "                signer.add_timestamp(input_document, timestamp, output_stream)"
      ]
    },
    {
      "cell_type": "code",
      "execution_count": null,
      "id": "78bbee1e-e55e-4ed3-a19b-7f2ac9cda4ca",
      "metadata": {
          "id": "52ecfedf-2740-4d79-a93d-503791146ef6"
      },
      "outputs": [],
      "source": [
        "try:\n",
        "    # By default, a test license key is active. In this case, a watermark is added to the output. \n",
        "    # If you have a license key, please uncomment the following call and set the license key.\n",
        "    # from pdftools_sdk.sdk import Sdk\n",
        "    # Sdk.initialize(\"INSERT-LICENSE-KEY\")\n",

        "\n",
        "    # Optional: Set your proxy configuration\n",
        "    # Sdk.set_proxy(\"http://myproxy:8080\")\n",
        "    \n",
        "    # Configure the SSL client certificate to connect to the service\n",
        "    http_client_handler = HttpClientHandler()\n",
        "    with io.FileIO(\"C:/path/to/clientcert.p12\", 'rb') as cert_stream:\n",
        "        http_client_handler.set_client_certificate(cert_stream, \"***insert password***\")\n",
        "    \n",
        "        # Connect to the Swisscom Signing Service\n",
        "        with Session(\"https://ais.swisscom.com\", http_client_handler) as session:\n",
        "            # Add a document timestamp to a PDF\n",
        "            add_timestamp(session, identity, input_path, output_path)\n",

        "\n",
        "    print(f\"Successfully created file {output_path}\")\n",

        "except Exception as e:\n",
        "    print(f\"An error occurred: {e}\")"
      ]
    }
  ],
  "metadata": {
    "kernelspec": {
      "display_name": "Python 3",
      "language": "python",
      "name": "python3"
    },
    "language_info": {
      "codemirror_mode": {
        "name": "ipython",
        "version": 3
      },
      "file_extension": ".py",
      "mimetype": "text/x-python",
      "name": "python",
      "nbconvert_exporter": "python",
      "pygments_lexer": "ipython3",
      "version": "3.12.8"
    },
    "colab": {
      "provenance": []
    }
  },
  "nbformat": 4,
  "nbformat_minor": 5
}