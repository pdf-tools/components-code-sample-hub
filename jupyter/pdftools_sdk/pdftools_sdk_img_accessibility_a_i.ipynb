{
  "cells": [
    {
      "cell_type": "markdown",
      "id": "7416349c-3838-4ed5-a6b7-fe6c560bed78",
      "metadata": {
          "id": "a2f9640a-0579-4dd1-9d67-ec4983fa637e"
      },
      "source": [
        "[![Open In Colab](https://colab.research.google.com/assets/colab-badge.svg)](https://colab.research.google.com/github/pdf-tools/components-code-sample-hub/blob/main/jupyter/pdftools_sdk/pdftools_sdk_img_accessibility_a_i.ipynb)"
      ]
    },
    {
      "cell_type": "code",
      "execution_count": null,
      "id": "684a945d-982d-4a03-8422-d718c6f3c866",
      "metadata": {
          "id": "4fe61673-1c7b-4f92-b7ed-d2a392115a95"
      },
      "outputs": [],
      "source": [
        "%pip install openai\n",
        "%pip install https://pdftools-public-downloads-production.s3.eu-west-1.amazonaws.com/productkits/PDFSDK/latest/pdftools_sdk-latest.tar.gz\n",
        "%pip install ipython"
      ]
    },
    {
      "cell_type": "markdown",
      "id": "a7daeb2d-7f2c-4f2f-bb01-b401441b1de6",
      "metadata": {
          "id": "94114ff8-9825-4a2a-87cc-869e25880938"
      },
      "source": [
        "# Convert images to an accessible PDF/A document\n",
        "Convert images to an accessible PDF/A-2a document.\n",
        "Alternative texts are generated using the OpenAI API with\n",
        "a dedicated prompt."
      ]
    },
    {
      "cell_type": "code",
      "execution_count": null,
      "id": "0bf81586-6d92-4d34-87b1-29454de8e450",
      "metadata": {
          "id": "11668598-b866-4c39-b461-c8c1b7f4c880"
      },
      "outputs": [],
      "source": [
        "import io\n",
        "from openai import OpenAI\n",
        "import base64\n",
        "from pdftools_sdk.image import Document as ImageDocument, DocumentList as ImageDocumentList\n",
        "from pdftools_sdk.pdf import Conformance\n",
        "from pdftools_sdk.image2_pdf import Converter\n",
        "from pdftools_sdk.image2_pdf.profiles import Archive"
      ]
    },
    {
      "cell_type": "code",
      "execution_count": null,
      "id": "0c79723b-094a-4c93-a5c0-bc2838660c35",
      "metadata": {
          "id": "e6ce30a0-924b-4210-b1a2-edfa8f833ffa"
      },
      "outputs": [],
      "source": [
        "# Download a file from a given URL and save it to the local system\n",
        "def prepare_file(url: str, path: str):\n",
        "    import requests\n",
        "    response = requests.get(url)\n",
        "    response.raise_for_status()\n",
        "\n",
        "    with open(path, 'wb') as f:\n",
        "        f.write(response.content)"
      ]
    },
    {
      "cell_type": "code",
      "execution_count": null,
      "id": "98105ba1-ebda-40c8-96c2-020341d87a8c",
      "metadata": {
          "id": "81554252-a23d-4d5d-86d4-8bca03d74f06"
      },
      "outputs": [],
      "source": [
        "# Set input arguments\n",
        "input_urls = [\n",
        "    'https://pdftools-public-downloads-production.s3.eu-west-1.amazonaws.com/samples/testfiles/coffee.jpg',\n",
        "    'https://pdftools-public-downloads-production.s3.eu-west-1.amazonaws.com/samples/testfiles/connection.jpg',\n",
        "    'https://pdftools-public-downloads-production.s3.eu-west-1.amazonaws.com/samples/testfiles/butterfly.jpg',\n",
        "    'https://pdftools-public-downloads-production.s3.eu-west-1.amazonaws.com/samples/testfiles/DigitalSignature.jpg'\n",
        "]\n",
        "image_paths = ['coffee.jpg', 'connection.jpg', 'butterfly.jpg', 'DigitalSignature.jpg']\n",
        "for url, path in zip(input_urls, image_paths):\n",
        "    prepare_file(url, path)\n",
        "output_file_path = 'AccessiblePDFA.pdf'"
      ]
    },
    {
      "cell_type": "code",
      "execution_count": null,
      "id": "c3e1dd5e-112c-4505-a2aa-d6f4cee59ad3",
      "metadata": {
          "id": "89843104-a30a-4a78-80ca-d348f99558c2"
      },
      "outputs": [],
      "source": [
        "def get_alternate_text(image_path: str):\n",
        "    # Getting base64 representation of input image\n",
        "    with io.FileIO(image_path, 'rb') as image_stream:\n",
        "        base64_image = base64.b64encode(image_stream.read()).decode('utf-8')\n",
        "\n",
        "    # Instantiate OpenAI client and let AI create the alternate text\n",
        "    client = OpenAI(api_key=\"***insert-open-ai-api-key***\")\n",
        "    response = client.chat.completions.create(\n",
        "        model=\"gpt-4-turbo\",\n",
        "        messages=[\n",
        "            {\n",
        "            \"role\": \"user\",\n",
        "            \"content\": [\n",
        "                {\"type\": \"text\", \"text\": \"Write a short sentence what can be seen on the image. It shall explain to a person with impaired vision what is on the image. Write the answer in a poetic way in english.\"},\n",
        "                {\n",
        "                    \"type\": \"image_url\",\n",
        "                    \"image_url\":\n",
        "                        {\n",
        "                            \"url\": f\"data:image/jpeg;base64,{base64_image}\",\n",
        "                        },\n",
        "                },\n",
        "            ],\n",
        "            }\n",
        "        ],\n",
        "        max_tokens=300,\n",
        "    )\n",
        "\n",
        "    return response.choices[0].message.content.strip()"
      ]
    },
    {
      "cell_type": "code",
      "execution_count": null,
      "id": "645f2de7-731f-4890-82e6-92841bfef75f",
      "metadata": {
          "id": "b4617a54-c85b-47e0-9794-3398a23b3293"
      },
      "outputs": [],
      "source": [
        "def images_to_accessible_pdf(image_paths: list[str], output_file_path: str):\n",
        "    # Store stream descriptors and images in lists\n",
        "    stream_list = []\n",
        "    images = ImageDocumentList()\n",
        "\n",
        "    # Loop over all the image paths and store opened images into list\n",
        "    for input_image_path in image_paths:\n",
        "        image_stream = io.FileIO(input_image_path, 'rb')\n",
        "        stream_list.append(image_stream)\n",
        "        images.append(ImageDocument.open(image_stream))\n",
        "\n",
        "    # Create output stream for writing\n",
        "    with io.FileIO(output_file_path, 'wb+') as output_stream:\n",
        "        # Create the profile that defines the conversion parameters.\n",
        "        # The Archive profile converts images to PDF/A documents for archiving.\n",
        "        profile = Archive()\n",
        "\n",
        "        # Set conformance of output document to PDF/A-2a\n",
        "        profile.conformance = Conformance.PDF_A2_A\n",
        "\n",
        "        # For PDF/A level A, an alternate text is required for each page of the image.\n",
        "        # This is optional for other PDF/A levels, e.g. PDF/A-2b.\n",
        "        profile.language = \"en\"\n",
        "\n",
        "        # Set alternate texts created by AI\n",
        "        alternate_text_list = profile.alternate_text\n",
        "        for image_path in image_paths:                \n",
        "            alternate_text = get_alternate_text(image_path)\n",
        "            alternate_text_list.append(alternate_text)\n",
        "\n",
        "        converter = Converter()\n",
        "        out_document = converter.convert_multiple(images, output_stream, profile)\n",
        "        if not out_document:\n",
        "            print(f\"Error while converting images to Pdf.\")\n",
        "            return\n",
        "\n",
        "    # Cleanup in finally block\n",
        "    for image in images:\n",
        "        image.__exit__(None, None, None)\n",
        "    for stream in stream_list:\n",
        "        stream.__exit__(None, None, None)"
      ]
    },
    {
      "cell_type": "code",
      "execution_count": null,
      "id": "15c64bf5-5066-4603-9075-502528bcb39d",
      "metadata": {
          "id": "50f49c18-0610-4db9-a718-7f891ff42d59"
      },
      "outputs": [],
      "source": [
        "try:\n",
        "    # By default, a test license key is active. In this case, a watermark is added to the output. \n",
        "    # If you have a license key, please uncomment the following call and set the license key.\n",
        "    # from pdftools_sdk.sdk import Sdk\n",
        "    # Sdk.initialize(\"INSERT-LICENSE-KEY\")\n",

        "\n",
        "    images_to_accessible_pdf(image_paths, output_file_path)\n",

        "\n",
        "    print(f\"Successfully created file {output_file_path}\")\n",

        "except Exception as e:\n",
        "    print(f\"An error occurred: {e}\")"
      ]
    }
  ],
  "metadata": {
    "kernelspec": {
      "display_name": "Python 3",
      "language": "python",
      "name": "python3"
    },
    "language_info": {
      "codemirror_mode": {
        "name": "ipython",
        "version": 3
      },
      "file_extension": ".py",
      "mimetype": "text/x-python",
      "name": "python",
      "nbconvert_exporter": "python",
      "pygments_lexer": "ipython3",
      "version": "3.12.8"
    },
    "colab": {
      "provenance": []
    }
  },
  "nbformat": 4,
  "nbformat_minor": 5
}