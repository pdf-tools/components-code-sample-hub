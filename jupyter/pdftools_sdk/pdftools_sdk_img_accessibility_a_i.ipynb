{
  "cells": [
    {
      "cell_type": "markdown",
      "id": "b28afc85-0e43-4170-807f-517cf81f972c",
      "metadata": {
          "id": "ee7f4e00-2c4b-41ac-b2ba-c390d97ddc62"
      },
      "source": [
        "[![Open In Colab](https://colab.research.google.com/assets/colab-badge.svg)](https://colab.research.google.com/github/pdf-tools/components-code-sample-hub/blob/main/jupyter/pdftools_sdk/pdftools_sdk_img_accessibility_a_i.ipynb)"
      ]
    },
    {
      "cell_type": "code",
      "execution_count": null,
      "id": "53082e72-8280-406b-a9af-cfbf5ac1cdce",
      "metadata": {
          "id": "efafc79a-82ea-47fc-8b82-fe814b36d6b3"
      },
      "outputs": [],
      "source": [
        "%pip install openai\n",
        "%pip install https://pdftools-public-downloads-production.s3.eu-west-1.amazonaws.com/productkits/PDFSDK/latest/pdftools_sdk-latest.tar.gz\n",
        "%pip install ipython"
      ]
    },
    {
      "cell_type": "markdown",
      "id": "f47c7e29-2057-43c7-bd31-aac4844fee3e",
      "metadata": {
          "id": "01841d11-78b3-4ad2-82c1-cf8e4b68d0ed"
      },
      "source": [
        "# Convert images to an accessible PDF/A document\n",
        "Convert images to an accessible PDF/A-2a document.\n",
        "Alternative texts are generated using the OpenAI API with\n",
        "a dedicated prompt."
      ]
    },
    {
      "cell_type": "code",
      "execution_count": null,
      "id": "8ff8bbe5-3f8c-46b2-ac79-42bebe30839c",
      "metadata": {
          "id": "646d8852-1714-4388-953b-3f14c0a09c75"
      },
      "outputs": [],
      "source": [
        "import io\n",
        "from openai import OpenAI\n",
        "import base64\n",
        "from pdftools_sdk.image import Document as ImageDocument, DocumentList as ImageDocumentList\n",
        "from pdftools_sdk.pdf import Conformance\n",
        "from pdftools_sdk.image2_pdf import Converter\n",
        "from pdftools_sdk.image2_pdf.profiles import Archive"
      ]
    },
    {
      "cell_type": "code",
      "execution_count": null,
      "id": "15055ce5-08d0-4915-9e1c-d2ce26743e19",
      "metadata": {
          "id": "d4e00746-81ff-4832-a7c4-910ff7552930"
      },
      "outputs": [],
      "source": [
        "# Download a file from a given URL and save it to the local system\n",
        "def prepare_file(url: str, path: str):\n",
        "    import requests\n",
        "    response = requests.get(url)\n",
        "    response.raise_for_status()\n",
        "\n",
        "    with open(path, 'wb') as f:\n",
        "        f.write(response.content)"
      ]
    },
    {
      "cell_type": "code",
      "execution_count": null,
      "id": "6067a848-dc54-48a2-bcc6-e5aef7315416",
      "metadata": {
          "id": "022c9054-aaec-425a-9d36-09a68039b79f"
      },
      "outputs": [],
      "source": [
        "# Set input arguments\n",
        "input_urls = [\n",
        "    'https://pdftools-public-downloads-production.s3.eu-west-1.amazonaws.com/samples/testfiles/coffee.jpg',\n",
        "    'https://pdftools-public-downloads-production.s3.eu-west-1.amazonaws.com/samples/testfiles/connection.jpg',\n",
        "    'https://pdftools-public-downloads-production.s3.eu-west-1.amazonaws.com/samples/testfiles/butterfly.jpg',\n",
        "    'https://pdftools-public-downloads-production.s3.eu-west-1.amazonaws.com/samples/testfiles/DigitalSignature.jpg'\n",
        "]\n",
        "image_paths = ['coffee.jpg', 'connection.jpg', 'butterfly.jpg', 'DigitalSignature.jpg']\n",
        "for url, path in zip(input_urls, image_paths):\n",
        "    prepare_file(url, path)\n",
        "output_file_path = 'AccessiblePDFA.pdf'"
      ]
    },
    {
      "cell_type": "code",
      "execution_count": null,
      "id": "f2a7604c-e76c-4a62-9665-3444e8a36f2e",
      "metadata": {
          "id": "c576234b-da3b-409f-b5ff-e69ac7226985"
      },
      "outputs": [],
      "source": [
        "def get_alternate_text(image_path: str):\n",
        "    # Getting base64 representation of input image\n",
        "    with io.FileIO(image_path, 'rb') as image_stream:\n",
        "        base64_image = base64.b64encode(image_stream.read()).decode('utf-8')\n",
        "\n",
        "    # Instantiate OpenAI client and let AI create the alternate text\n",
        "    client = OpenAI(api_key=\"***insert-open-ai-api-key***\")\n",
        "    response = client.chat.completions.create(\n",
        "        model=\"gpt-4-turbo\",\n",
        "        messages=[\n",
        "            {\n",
        "            \"role\": \"user\",\n",
        "            \"content\": [\n",
        "                {\"type\": \"text\", \"text\": \"Write a short sentence what can be seen on the image. It shall explain to a person with impaired vision what is on the image. Write the answer in a poetic way in english.\"},\n",
        "                {\n",
        "                    \"type\": \"image_url\",\n",
        "                    \"image_url\":\n",
        "                        {\n",
        "                            \"url\": f\"data:image/jpeg;base64,{base64_image}\",\n",
        "                        },\n",
        "                },\n",
        "            ],\n",
        "            }\n",
        "        ],\n",
        "        max_tokens=300,\n",
        "    )\n",
        "\n",
        "    return response.choices[0].message.content.strip()"
      ]
    },
    {
      "cell_type": "code",
      "execution_count": null,
      "id": "ba5e7f27-0d6c-46e6-9f19-203f944b80a4",
      "metadata": {
          "id": "131cbccc-4ab5-4c60-a156-a9eab8e0335d"
      },
      "outputs": [],
      "source": [
        "def images_to_accessible_pdf(image_paths: list[str], output_file_path: str):\n",
        "    # Store stream descriptors and images in lists\n",
        "    stream_list = []\n",
        "    images = ImageDocumentList()\n",
        "\n",
        "    # Loop over all the image paths and store opened images into list\n",
        "    for input_image_path in image_paths:\n",
        "        image_stream = io.FileIO(input_image_path, 'rb')\n",
        "        stream_list.append(image_stream)\n",
        "        images.append(ImageDocument.open(image_stream))\n",
        "\n",
        "    # Create output stream for writing\n",
        "    with io.FileIO(output_file_path, 'wb+') as output_stream:\n",
        "        # Create the profile that defines the conversion parameters.\n",
        "        # The Archive profile converts images to PDF/A documents for archiving.\n",
        "        profile = Archive()\n",
        "\n",
        "        # Set conformance of output document to PDF/A-2a\n",
        "        profile.conformance = Conformance.PDF_A2_A\n",
        "\n",
        "        # For PDF/A level A, an alternate text is required for each page of the image.\n",
        "        # This is optional for other PDF/A levels, e.g. PDF/A-2b.\n",
        "        profile.language = \"en\"\n",
        "\n",
        "        # Set alternate texts created by AI\n",
        "        alternate_text_list = profile.alternate_text\n",
        "        for image_path in image_paths:                \n",
        "            alternate_text = get_alternate_text(image_path)\n",
        "            alternate_text_list.append(alternate_text)\n",
        "\n",
        "        converter = Converter()\n",
        "        out_document = converter.convert_multiple(images, output_stream, profile)\n",
        "        if not out_document:\n",
        "            print(f\"Error while converting images to Pdf.\")\n",
        "            return\n",
        "\n",
        "    # Cleanup in finally block\n",
        "    for image in images:\n",
        "        image.__exit__(None, None, None)\n",
        "    for stream in stream_list:\n",
        "        stream.__exit__(None, None, None)"
      ]
    },
    {
      "cell_type": "code",
      "execution_count": null,
      "id": "72b52dfe-34d0-4b8a-b9b2-64c18c5edf7f",
      "metadata": {
          "id": "c7516c12-c97c-40d1-950a-10bed34c4920"
      },
      "outputs": [],
      "source": [
        "try:\n",
        "    # By default, a test license key is active. In this case, a watermark is added to the output. \n",
        "    # If you have a license key, please uncomment the following call and set the license key.\n",
        "    # from pdftools_sdk.sdk import Sdk\n",
        "    # Sdk.initialize(\"INSERT-LICENSE-KEY\")\n",

        "\n",
        "    images_to_accessible_pdf(image_paths, output_file_path)\n",

        "\n",
        "    print(f\"Successfully created file {output_file_path}\")\n",

        "except Exception as e:\n",
        "    print(f\"An error occurred: {e}\")"
      ]
    }
  ],
  "metadata": {
    "kernelspec": {
      "display_name": "Python 3",
      "language": "python",
      "name": "python3"
    },
    "language_info": {
      "codemirror_mode": {
        "name": "ipython",
        "version": 3
      },
      "file_extension": ".py",
      "mimetype": "text/x-python",
      "name": "python",
      "nbconvert_exporter": "python",
      "pygments_lexer": "ipython3",
      "version": "3.12.8"
    },
    "colab": {
      "provenance": []
    }
  },
  "nbformat": 4,
  "nbformat_minor": 5
}