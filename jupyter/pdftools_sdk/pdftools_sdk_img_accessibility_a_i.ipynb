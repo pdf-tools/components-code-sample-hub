{
  "cells": [
    {
      "cell_type": "markdown",
      "id": "4498a37d-01e1-44d6-8c79-569e3b449f14",
      "metadata": {
          "id": "3650c3f3-b028-42b0-a9f8-64683a5b852f"
      },
      "source": [
        "[![Open In Colab](https://colab.research.google.com/assets/colab-badge.svg)](https://colab.research.google.com/github/pdf-tools/components-code-sample-hub/blob/main/jupyter/pdftools_sdk/pdftools_sdk_img_accessibility_a_i.ipynb)"
      ]
    },
    {
      "cell_type": "code",
      "execution_count": null,
      "id": "11187812-5877-4473-aee7-f447f4d7fa56",
      "metadata": {
          "id": "88385992-672e-428e-acc0-56baf17e06e0"
      },
      "outputs": [],
      "source": [
        "%pip install openai\n",
        "%pip install pdftools_sdk\n",
        "%pip install ipython"
      ]
    },
    {
      "cell_type": "markdown",
      "id": "2132d898-29e1-4b66-b517-f83ffe19826a",
      "metadata": {
          "id": "88415c59-f405-4a91-a7dc-587b6f8fa8a9"
      },
      "source": [
        "# Convert images to an accessible PDF/A document\n",
        "Convert images to an accessible PDF/A-2a document.\n",
        "Alternative texts are generated using the OpenAI API with\n",
        "a dedicated prompt."
      ]
    },
    {
      "cell_type": "code",
      "execution_count": null,
      "id": "3dbe2cee-40e3-4c5c-9ee6-18abf1be9998",
      "metadata": {
          "id": "38cbb7e8-547d-4039-b2a5-cc526c9d43bb"
      },
      "outputs": [],
      "source": [
        "import io\n",
        "from openai import OpenAI\n",
        "import base64\n",
        "from pdftools_sdk.image import Document as ImageDocument, DocumentList as ImageDocumentList\n",
        "from pdftools_sdk.pdf import Conformance\n",
        "from pdftools_sdk.image2_pdf import Converter\n",
        "from pdftools_sdk.image2_pdf.profiles import Archive"
      ]
    },
    {
      "cell_type": "code",
      "execution_count": null,
      "id": "eda86695-8b12-419e-9009-6a3664160a61",
      "metadata": {
          "id": "ab49f66f-cc2e-4831-ac77-69879d5524cb"
      },
      "outputs": [],
      "source": [
        "# Download a file from a given URL and save it to the local system\n",
        "def prepare_file(url: str, path: str):\n",
        "    import requests\n",
        "    response = requests.get(url)\n",
        "    response.raise_for_status()\n",
        "\n",
        "    with open(path, 'wb') as f:\n",
        "        f.write(response.content)"
      ]
    },
    {
      "cell_type": "code",
      "execution_count": null,
      "id": "a4509fc8-96d6-40d6-9bb9-c7c6149d72f5",
      "metadata": {
          "id": "98f2d7b9-6e06-473a-8e9a-07c1de1dca7b"
      },
      "outputs": [],
      "source": [
        "# Set input arguments\n",
        "input_urls = [\n",
        "    'https://pdftools-public-downloads-production.s3.eu-west-1.amazonaws.com/samples/testfiles/coffee.jpg',\n",
        "    'https://pdftools-public-downloads-production.s3.eu-west-1.amazonaws.com/samples/testfiles/connection.jpg',\n",
        "    'https://pdftools-public-downloads-production.s3.eu-west-1.amazonaws.com/samples/testfiles/butterfly.jpg',\n",
        "    'https://pdftools-public-downloads-production.s3.eu-west-1.amazonaws.com/samples/testfiles/DigitalSignature.jpg'\n",
        "]\n",
        "image_paths = ['coffee.jpg', 'connection.jpg', 'butterfly.jpg', 'DigitalSignature.jpg']\n",
        "for url, path in zip(input_urls, image_paths):\n",
        "    prepare_file(url, path)\n",
        "output_file_path = 'AccessiblePDFA.pdf'"
      ]
    },
    {
      "cell_type": "code",
      "execution_count": null,
      "id": "1a02e9fa-d01e-4acd-b3a0-af5c1952d061",
      "metadata": {
          "id": "2310e6d2-857c-425b-a350-f712da87ace0"
      },
      "outputs": [],
      "source": [
        "def get_alternate_text(image_path: str):\n",
        "    # Getting base64 representation of input image\n",
        "    with io.FileIO(image_path, 'rb') as image_stream:\n",
        "        base64_image = base64.b64encode(image_stream.read()).decode('utf-8')\n",
        "\n",
        "    # Instantiate OpenAI client and let AI create the alternate text\n",
        "    client = OpenAI(api_key=\"***insert-open-ai-api-key***\")\n",
        "    response = client.chat.completions.create(\n",
        "        model=\"gpt-4-turbo\",\n",
        "        messages=[\n",
        "            {\n",
        "            \"role\": \"user\",\n",
        "            \"content\": [\n",
        "                {\"type\": \"text\", \"text\": \"Write a short sentence what can be seen on the image. It shall explain to a person with impaired vision what is on the image. Write the answer in a poetic way in english.\"},\n",
        "                {\n",
        "                    \"type\": \"image_url\",\n",
        "                    \"image_url\":\n",
        "                        {\n",
        "                            \"url\": f\"data:image/jpeg;base64,{base64_image}\",\n",
        "                        },\n",
        "                },\n",
        "            ],\n",
        "            }\n",
        "        ],\n",
        "        max_tokens=300,\n",
        "    )\n",
        "\n",
        "    return response.choices[0].message.content.strip()"
      ]
    },{
      "cell_type": "code",
      "execution_count": null,
      "id": "d75446f8-f685-4a39-a5b3-b98e0bbf82bb",
      "metadata": {
          "id": "d1f30092-98fb-416f-9795-76e372688031"
      },
      "outputs": [],
      "source": [
        "def images_to_accessible_pdf(image_paths: list[str], output_file_path: str):\n",
        "    # Store stream descriptors and images in lists\n",
        "    stream_list = []\n",
        "    images = ImageDocumentList()\n",
        "\n",
        "    # Loop over all the image paths and store opened images into list\n",
        "    for input_image_path in image_paths:\n",
        "        image_stream = io.FileIO(input_image_path, 'rb')\n",
        "        stream_list.append(image_stream)\n",
        "        images.append(ImageDocument.open(image_stream))\n",
        "\n",
        "    # Create output stream for writing\n",
        "    with io.FileIO(output_file_path, 'wb+') as output_stream:\n",
        "        # Create the profile that defines the conversion parameters.\n",
        "        # The Archive profile converts images to PDF/A documents for archiving.\n",
        "        profile = Archive()\n",
        "\n",
        "        # Set conformance of output document to PDF/A-2a\n",
        "        profile.conformance = Conformance.PDF_A2_A\n",
        "\n",
        "        # For PDF/A level A, an alternate text is required for each page of the image.\n",
        "        # This is optional for other PDF/A levels, e.g. PDF/A-2b.\n",
        "        profile.language = \"en\"\n",
        "\n",
        "        # Set alternate texts created by AI\n",
        "        alternate_text_list = profile.alternate_text\n",
        "        for image_path in image_paths:                \n",
        "            alternate_text = get_alternate_text(image_path)\n",
        "            alternate_text_list.append(alternate_text)\n",
        "\n",
        "        converter = Converter()\n",
        "        out_document = converter.convert_multiple(images, output_stream, profile)\n",
        "        if not out_document:\n",
        "            print(f\"Error while converting images to Pdf.\")\n",
        "            return\n",
        "\n",
        "    # Cleanup in finally block\n",
        "    for image in images:\n",
        "        image.__exit__(None, None, None)\n",
        "    for stream in stream_list:\n",
        "        stream.__exit__(None, None, None)"
      ]
    },
    {
      "cell_type": "code",
      "execution_count": null,
      "id": "85f7c740-e16e-4669-b911-9b35f0be70a6",
      "metadata": {
          "id": "ff7327f4-8b30-4344-a108-f25a90caf344"
      },
      "outputs": [],
      "source": [
        "try:\n",
        "    # By default, a test license key is active. In this case, a watermark is added to the output. \n",
        "    # If you have a license key, please uncomment the following call and set the license key.\n",
        "    # from pdftools_sdk.sdk import Sdk\n",
        "    # Sdk.initialize(\"INSERT-LICENSE-KEY\")\n",

        "\n",
        "    images_to_accessible_pdf(image_paths, output_file_path)\n",

        "\n",
        "    print(f\"Successfully created file {output_file_path}\")\n",

        "except Exception as e:\n",
        "    print(f\"An error occurred: {e}\")"
      ]
    }
  ],
  "metadata": {
    "kernelspec": {
      "display_name": "Python 3",
      "language": "python",
      "name": "python3"
    },
    "language_info": {
      "codemirror_mode": {
        "name": "ipython",
        "version": 3
      },
      "file_extension": ".py",
      "mimetype": "text/x-python",
      "name": "python",
      "nbconvert_exporter": "python",
      "pygments_lexer": "ipython3",
      "version": "3.12.8"
    },
    "colab": {
      "provenance": []
    }
  },
  "nbformat": 4,
  "nbformat_minor": 5
}