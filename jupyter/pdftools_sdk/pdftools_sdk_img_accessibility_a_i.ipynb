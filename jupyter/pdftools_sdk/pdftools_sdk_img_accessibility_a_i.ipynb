{
  "cells": [
    {
      "cell_type": "markdown",
      "id": "3d56a018-7c64-4895-a49a-5c02516e9695",
      "metadata": {
          "id": "d20f937a-82c4-4efb-89ae-992b8b5bb694"
      },
      "source": [
        "[![Open In Colab](https://colab.research.google.com/assets/colab-badge.svg)](https://colab.research.google.com/github/pdf-tools/components-code-sample-hub/blob/main/jupyter/pdftools_sdk/pdftools_sdk_img_accessibility_a_i.ipynb)"
      ]
    },
    {
      "cell_type": "code",
      "execution_count": null,
      "id": "68971b88-9426-43f0-a439-2e7de3ff0312",
      "metadata": {
          "id": "0a4c99c9-8018-49d6-8f6a-92d6aba1d8ff"
      },
      "outputs": [],
      "source": [
        "%pip install openai\n",
        "%pip install https://pdftools-public-downloads-production.s3.eu-west-1.amazonaws.com/productkits/PDFSDK/latest/pdftools_sdk-latest.tar.gz\n",
        "%pip install ipython"
      ]
    },
    {
      "cell_type": "markdown",
      "id": "946ab024-6615-4f0a-b97d-95be9dcd75df",
      "metadata": {
          "id": "f74fa704-a9dc-4c8c-8ada-c09c36d20b7e"
      },
      "source": [
        "# Convert images to an accessible PDF/A document\n",
        "Convert images to an accessible PDF/A-2a document.\n",
        "Alternative texts are generated using the OpenAI API with\n",
        "a dedicated prompt."
      ]
    },
    {
      "cell_type": "code",
      "execution_count": null,
      "id": "99c27ef3-7653-48de-82aa-516728702a5c",
      "metadata": {
          "id": "96475930-be08-456e-97a5-5d0244aa693f"
      },
      "outputs": [],
      "source": [
        "import io\n",
        "from openai import OpenAI\n",
        "import base64\n",
        "from pdftools_sdk.image import Document as ImageDocument, DocumentList as ImageDocumentList\n",
        "from pdftools_sdk.pdf import Conformance\n",
        "from pdftools_sdk.image2_pdf import Converter\n",
        "from pdftools_sdk.image2_pdf.profiles import Archive"
      ]
    },
    {
      "cell_type": "code",
      "execution_count": null,
      "id": "36a12b64-432a-4f90-a645-50229db93cde",
      "metadata": {
          "id": "f3644a84-ba27-4b4a-b219-367c2d41d886"
      },
      "outputs": [],
      "source": [
        "# Download a file from a given URL and save it to the local system\n",
        "def prepare_file(url: str, path: str):\n",
        "    import requests\n",
        "    response = requests.get(url)\n",
        "    response.raise_for_status()\n",
        "\n",
        "    with open(path, 'wb') as f:\n",
        "        f.write(response.content)"
      ]
    },
    {
      "cell_type": "code",
      "execution_count": null,
      "id": "1ad1e354-a3f6-4a9e-9025-98c84bda2494",
      "metadata": {
          "id": "3f4142d2-0ff3-4c9a-bd95-097f1090d6a2"
      },
      "outputs": [],
      "source": [
        "# Set input arguments\n",
        "input_urls = [\n",
        "    'https://pdftools-public-downloads-production.s3.eu-west-1.amazonaws.com/samples/testfiles/coffee.jpg',\n",
        "    'https://pdftools-public-downloads-production.s3.eu-west-1.amazonaws.com/samples/testfiles/connection.jpg',\n",
        "    'https://pdftools-public-downloads-production.s3.eu-west-1.amazonaws.com/samples/testfiles/butterfly.jpg',\n",
        "    'https://pdftools-public-downloads-production.s3.eu-west-1.amazonaws.com/samples/testfiles/DigitalSignature.jpg'\n",
        "]\n",
        "image_paths = ['coffee.jpg', 'connection.jpg', 'butterfly.jpg', 'DigitalSignature.jpg']\n",
        "for url, path in zip(input_urls, image_paths):\n",
        "    prepare_file(url, path)\n",
        "output_file_path = 'AccessiblePDFA.pdf'"
      ]
    },
    {
      "cell_type": "code",
      "execution_count": null,
      "id": "fb5524ab-5317-4fe8-a63b-858ac2a177a5",
      "metadata": {
          "id": "af3e0d1e-8665-4aff-b9ea-6413876492b1"
      },
      "outputs": [],
      "source": [
        "def get_alternate_text(image_path: str):\n",
        "    # Getting base64 representation of input image\n",
        "    with io.FileIO(image_path, 'rb') as image_stream:\n",
        "        base64_image = base64.b64encode(image_stream.read()).decode('utf-8')\n",
        "\n",
        "    # Instantiate OpenAI client and let AI create the alternate text\n",
        "    client = OpenAI(api_key=\"***insert-open-ai-api-key***\")\n",
        "    response = client.chat.completions.create(\n",
        "        model=\"gpt-4-turbo\",\n",
        "        messages=[\n",
        "            {\n",
        "            \"role\": \"user\",\n",
        "            \"content\": [\n",
        "                {\"type\": \"text\", \"text\": \"Write a short sentence what can be seen on the image. It shall explain to a person with impaired vision what is on the image. Write the answer in a poetic way in english.\"},\n",
        "                {\n",
        "                    \"type\": \"image_url\",\n",
        "                    \"image_url\":\n",
        "                        {\n",
        "                            \"url\": f\"data:image/jpeg;base64,{base64_image}\",\n",
        "                        },\n",
        "                },\n",
        "            ],\n",
        "            }\n",
        "        ],\n",
        "        max_tokens=300,\n",
        "    )\n",
        "\n",
        "    return response.choices[0].message.content.strip()"
      ]
    },
    {
      "cell_type": "code",
      "execution_count": null,
      "id": "40f50230-7492-43f3-9601-75058ab2b579",
      "metadata": {
          "id": "24d3b3d3-990b-4e10-b427-0e28effde856"
      },
      "outputs": [],
      "source": [
        "def images_to_accessible_pdf(image_paths: list[str], output_file_path: str):\n",
        "    # Store stream descriptors and images in lists\n",
        "    stream_list = []\n",
        "    images = ImageDocumentList()\n",
        "\n",
        "    # Loop over all the image paths and store opened images into list\n",
        "    for input_image_path in image_paths:\n",
        "        image_stream = io.FileIO(input_image_path, 'rb')\n",
        "        stream_list.append(image_stream)\n",
        "        images.append(ImageDocument.open(image_stream))\n",
        "\n",
        "    # Create output stream for writing\n",
        "    with io.FileIO(output_file_path, 'wb+') as output_stream:\n",
        "        # Create the profile that defines the conversion parameters.\n",
        "        # The Archive profile converts images to PDF/A documents for archiving.\n",
        "        profile = Archive()\n",
        "\n",
        "        # Set conformance of output document to PDF/A-2a\n",
        "        profile.conformance = Conformance.PDF_A2_A\n",
        "\n",
        "        # For PDF/A level A, an alternate text is required for each page of the image.\n",
        "        # This is optional for other PDF/A levels, e.g. PDF/A-2b.\n",
        "        profile.language = \"en\"\n",
        "\n",
        "        # Set alternate texts created by AI\n",
        "        alternate_text_list = profile.alternate_text\n",
        "        for image_path in image_paths:                \n",
        "            alternate_text = get_alternate_text(image_path)\n",
        "            alternate_text_list.append(alternate_text)\n",
        "\n",
        "        converter = Converter()\n",
        "        out_document = converter.convert_multiple(images, output_stream, profile)\n",
        "        if not out_document:\n",
        "            print(f\"Error while converting images to Pdf.\")\n",
        "            return\n",
        "\n",
        "    # Cleanup in finally block\n",
        "    for image in images:\n",
        "        image.__exit__(None, None, None)\n",
        "    for stream in stream_list:\n",
        "        stream.__exit__(None, None, None)"
      ]
    },
    {
      "cell_type": "code",
      "execution_count": null,
      "id": "34717ef4-52ab-4b32-8193-94e21b19433a",
      "metadata": {
          "id": "b53daab6-8c43-4471-8771-917be65100ae"
      },
      "outputs": [],
      "source": [
        "try:\n",
        "    # By default, a test license key is active. In this case, a watermark is added to the output. \n",
        "    # If you have a license key, please uncomment the following call and set the license key.\n",
        "    # from pdftools_sdk.sdk import Sdk\n",
        "    # Sdk.initialize(\"<PDFSDK,V1,MGAASQD6L2JMQHL54PK08RQX8GG4SS0M8DAHVPH0VMP3NB8R9DUK>\")\n",

        "\n",
        "    images_to_accessible_pdf(image_paths, output_file_path)\n",

        "\n",
        "    print(f\"Successfully created file {output_file_path}\")\n",

        "except Exception as e:\n",
        "    print(f\"An error occurred: {e}\")"
      ]
    }
  ],
  "metadata": {
    "kernelspec": {
      "display_name": "Python 3",
      "language": "python",
      "name": "python3"
    },
    "language_info": {
      "codemirror_mode": {
        "name": "ipython",
        "version": 3
      },
      "file_extension": ".py",
      "mimetype": "text/x-python",
      "name": "python",
      "nbconvert_exporter": "python",
      "pygments_lexer": "ipython3",
      "version": "3.12.8"
    },
    "colab": {
      "provenance": []
    }
  },
  "nbformat": 4,
  "nbformat_minor": 5
}