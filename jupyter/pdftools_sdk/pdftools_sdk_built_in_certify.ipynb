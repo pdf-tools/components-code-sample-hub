{
  "cells": [
    {
      "cell_type": "markdown",
      "id": "6f3dffdb-45b9-479e-9d56-fe94600cdd6a",
      "metadata": {
          "id": "43cdc8c7-2f1f-46c3-a28f-224293190ad3"
      },
      "source": [
        "[![Open In Colab](https://colab.research.google.com/assets/colab-badge.svg)](https://colab.research.google.com/github/pdf-tools/components-code-sample-hub/blob/main/jupyter/pdftools_sdk/pdftools_sdk_built_in_certify.ipynb)"
      ]
    },
    {
      "cell_type": "code",
      "execution_count": null,
      "id": "51cd0feb-a576-4b32-ad25-74c6f3ff992d",
      "metadata": {
          "id": "83644ce9-9f19-4d0c-a177-9198932eefab"
      },
      "outputs": [],
      "source": [
        "%pip install https://pdftools-public-downloads-production.s3.eu-west-1.amazonaws.com/productkits/PDFSDK/latest/pdftools_sdk-latest.tar.gz\n",
        "%pip install ipython"
      ]
    },
    {
      "cell_type": "markdown",
      "id": "215ef7e3-11ec-4750-a3f7-5e744563fe2c",
      "metadata": {
          "id": "eda600cc-3be7-4e91-a747-485a88cbd861"
      },
      "source": [
        "# Certify a PDF\n",
        "This type of signature allows the PDF author to specify\n",
        "which types of modifications are permissible after\n",
        "signing.\n",
        "These signatures are also known as Modification Detection\n",
        "and Prevention (MDP) signatures.\n",
        "\n",
        "The signing certificate is read from a password-protected\n",
        "PKCS#12 file (.pfx or .p12).\n",
        ""
      ]
    },
    {
      "cell_type": "code",
      "execution_count": null,
      "id": "9616eda7-e311-4b8a-812c-8b728c218b95",
      "metadata": {
          "id": "e04260cb-63ee-4079-8636-0626ed060f14"
      },
      "outputs": [],
      "source": [
        "import io\n",
        "from pdftools_sdk.pdf import Document\n",
        "from pdftools_sdk.sign import Signer\n",
        "from pdftools_sdk.crypto.providers.built_in import Provider\n",
        "from pdftools_sdk.crypto import ValidationInformation"
      ]
    },
    {
      "cell_type": "code",
      "execution_count": null,
      "id": "36e42bc1-d9ae-4f16-92d0-777d1facb2b4",
      "metadata": {
          "id": "62024e0d-601b-4a03-9031-664128951a9d"
      },
      "outputs": [],
      "source": [
        "# Download a file from a given URL and save it to the local system\n",
        "def prepare_file(url: str, path: str):\n",
        "    import requests\n",
        "    response = requests.get(url)\n",
        "    response.raise_for_status()\n",
        "\n",
        "    with open(path, 'wb') as f:\n",
        "        f.write(response.content)"
      ]
    },
    {
      "cell_type": "code",
      "execution_count": null,
      "id": "b8aeb3c9-96cc-4654-ad2a-3073d32e3885",
      "metadata": {
          "id": "88de8c8e-941a-40b4-aaba-c149eaf7c167"
      },
      "outputs": [],
      "source": [
        "# Set input arguments\n",
        "certificate_file = 'INSERT-PFX-FILE'  # Placeholder for PFX file\n",
        "password = 'INSERT-PASSWORD'\n",
        "input_url = 'https://pdftools-public-downloads-production.s3.eu-west-1.amazonaws.com/samples/testfiles/InvoiceNone.pdf'\n",
        "input_path = 'InvoiceNone.pdf'\n",
        "prepare_file(input_url, input_path)\n",
        "output_path = 'Certified.pdf'"
      ]
    },
    {
      "cell_type": "code",
      "execution_count": null,
      "id": "249beb17-bf88-4a0e-af6c-61ec9bd4da0d",
      "metadata": {
          "id": "9e2ca7d8-91e0-4cea-8f4e-46a4616f967e"
      },
      "outputs": [],
      "source": [
        "def certify_document(certificate_file: str, password: str, input_path: str, output_path: str):\n",
        "    # Create a session to the built-in cryptographic provider\n",
        "    with Provider() as session:\n",
        "        with io.FileIO(certificate_file, 'rb') as pfx_stream:\n",
        "            # Create signature configuration from PFX (or P12) file\n",
        "            signature = session.create_signature_from_certificate(pfx_stream, password)\n",
        "\n",
        "            # Embed validation information to enable the long-term validation (LTV) of the signature\n",
        "            signature.validation_information = ValidationInformation.EMBED_IN_DOCUMENT\n",
        "\n",
        "            # Open input document\n",
        "            with io.FileIO(input_path, 'rb') as in_stream:\n",
        "                with Document.open(in_stream) as input_document:\n",
        "\n",
        "                    # Create stream for output file\n",
        "                    with io.FileIO(output_path, 'wb+') as output_stream:\n",
        "                        # Certify the document with the MDP signature\n",
        "                        signer = Signer()\n",
        "                        signer.certify(input_document, signature, output_stream)"
      ]
    },
    {
      "cell_type": "code",
      "execution_count": null,
      "id": "abd46cdb-1dfe-40d6-bcb4-c2ae5a0fe925",
      "metadata": {
          "id": "ef0ca905-4528-4718-9eee-baa3b5738ea8"
      },
      "outputs": [],
      "source": [
        "try:\n",
        "    # By default, a test license key is active. In this case, a watermark is added to the output. \n",
        "    # If you have a license key, please uncomment the following call and set the license key.\n",
        "    # from pdftools_sdk.sdk import Sdk\n",
        "    # Sdk.initialize(\"INSERT-LICENSE-KEY\")\n",

        "\n",
        "    # Certify a PDF document\n",
        "    certify_document(certificate_file, password, input_path, output_path)\n",

        "\n",
        "    print(f\"Successfully created file {output_path}\")\n",

        "except Exception as e:\n",
        "    print(f\"An error occurred: {e}\")"
      ]
    }
  ],
  "metadata": {
    "kernelspec": {
      "display_name": "Python 3",
      "language": "python",
      "name": "python3"
    },
    "language_info": {
      "codemirror_mode": {
        "name": "ipython",
        "version": 3
      },
      "file_extension": ".py",
      "mimetype": "text/x-python",
      "name": "python",
      "nbconvert_exporter": "python",
      "pygments_lexer": "ipython3",
      "version": "3.12.8"
    },
    "colab": {
      "provenance": []
    }
  },
  "nbformat": 4,
  "nbformat_minor": 5
}