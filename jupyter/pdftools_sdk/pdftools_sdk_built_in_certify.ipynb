{
  "cells": [
    {
      "cell_type": "markdown",
      "id": "e4103a58-ce82-4598-81f9-e7f0fe8f9c56",
      "metadata": {
          "id": "4413d5aa-bb16-4a6d-abd4-3c054a292a69"
      },
      "source": [
        "[![Open In Colab](https://colab.research.google.com/assets/colab-badge.svg)](https://colab.research.google.com/github/pdf-tools/components-code-sample-hub/blob/main/jupyter/pdftools_sdk/pdftools_sdk_built_in_certify.ipynb)"
      ]
    },
    {
      "cell_type": "code",
      "execution_count": null,
      "id": "667af430-7203-4e8a-84b6-dffed8c6f5d6",
      "metadata": {
          "id": "60f85a32-69d4-4fa2-9393-d51c0015b73b"
      },
      "outputs": [],
      "source": [
        "%pip install https://pdftools-public-downloads-production.s3.eu-west-1.amazonaws.com/productkits/PDFSDK/latest/pdftools_sdk-latest.tar.gz\n",
        "%pip install ipython"
      ]
    },
    {
      "cell_type": "markdown",
      "id": "a3fa5866-ffad-4341-b110-d081c8b03bea",
      "metadata": {
          "id": "6b7fa87b-620a-41ea-974c-a3f81504a06d"
      },
      "source": [
        "# Certify a PDF\n",
        "This type of signature allows the PDF author to specify\n",
        "which types of modifications are permissible after\n",
        "signing.\n",
        "These signatures are also known as Modification Detection\n",
        "and Prevention (MDP) signatures.\n",
        "\n",
        "The signing certificate is read from a password-protected\n",
        "PKCS#12 file (.pfx or .p12).\n",
        ""
      ]
    },
    {
      "cell_type": "code",
      "execution_count": null,
      "id": "c3384d8c-cbd7-45b4-ade9-b9857c865c64",
      "metadata": {
          "id": "c2fc5503-f594-4e70-a3ae-a941964d9e9d"
      },
      "outputs": [],
      "source": [
        "import io\n",
        "from pdftools_sdk.pdf import Document\n",
        "from pdftools_sdk.sign import Signer\n",
        "from pdftools_sdk.crypto.providers.built_in import Provider\n",
        "from pdftools_sdk.crypto import ValidationInformation"
      ]
    },
    {
      "cell_type": "code",
      "execution_count": null,
      "id": "b55735c8-7273-42bc-9dd7-82f6d11f1e75",
      "metadata": {
          "id": "fcd10422-37a0-4e76-a093-7adce63d3561"
      },
      "outputs": [],
      "source": [
        "# Download a file from a given URL and save it to the local system\n",
        "def prepare_file(url: str, path: str):\n",
        "    import requests\n",
        "    response = requests.get(url)\n",
        "    response.raise_for_status()\n",
        "\n",
        "    with open(path, 'wb') as f:\n",
        "        f.write(response.content)"
      ]
    },
    {
      "cell_type": "code",
      "execution_count": null,
      "id": "f83f3353-3ed8-41e0-948d-62958e99a896",
      "metadata": {
          "id": "83c44f79-628e-406c-9993-2315e07c9b61"
      },
      "outputs": [],
      "source": [
        "# Set input arguments\n",
        "certificate_file = 'INSERT-PFX-FILE'  # Placeholder for PFX file\n",
        "password = 'INSERT-PASSWORD'\n",
        "input_url = 'https://pdftools-public-downloads-production.s3.eu-west-1.amazonaws.com/samples/testfiles/InvoiceNone.pdf'\n",
        "input_path = 'InvoiceNone.pdf'\n",
        "prepare_file(input_url, input_path)\n",
        "output_path = 'Certified.pdf'"
      ]
    },
    {
      "cell_type": "code",
      "execution_count": null,
      "id": "5a2b5605-9f73-40b6-b179-a62a7bd48234",
      "metadata": {
          "id": "e3af0fb4-322c-404d-ac37-27c5b7c835b4"
      },
      "outputs": [],
      "source": [
        "def certify_document(certificate_file: str, password: str, input_path: str, output_path: str):\n",
        "    # Create a session to the built-in cryptographic provider\n",
        "    with Provider() as session:\n",
        "        with io.FileIO(certificate_file, 'rb') as pfx_stream:\n",
        "            # Create signature configuration from PFX (or P12) file\n",
        "            signature = session.create_signature_from_certificate(pfx_stream, password)\n",
        "\n",
        "            # Embed validation information to enable the long-term validation (LTV) of the signature\n",
        "            signature.validation_information = ValidationInformation.EMBED_IN_DOCUMENT\n",
        "\n",
        "            # Open input document\n",
        "            with io.FileIO(input_path, 'rb') as in_stream:\n",
        "                with Document.open(in_stream) as input_document:\n",
        "\n",
        "                    # Create stream for output file\n",
        "                    with io.FileIO(output_path, 'wb+') as output_stream:\n",
        "                        # Certify the document with the MDP signature\n",
        "                        signer = Signer()\n",
        "                        signer.certify(input_document, signature, output_stream)"
      ]
    },
    {
      "cell_type": "code",
      "execution_count": null,
      "id": "50d8c670-f28f-4d67-a730-cff3c807b104",
      "metadata": {
          "id": "18b6a6c8-18ae-4f1d-a02f-ef41689249f5"
      },
      "outputs": [],
      "source": [
        "try:\n",
        "    # By default, a test license key is active. In this case, a watermark is added to the output. \n",
        "    # If you have a license key, please uncomment the following call and set the license key.\n",
        "    # from pdftools_sdk.sdk import Sdk\n",
        "    # Sdk.initialize(\"<PDFSDK,V1,MGAASQD6L2JMQHL54PK08RQX8GG4SS0M8DAHVPH0VMP3NB8R9DUK>\")\n",

        "\n",
        "    # Certify a PDF document\n",
        "    certify_document(certificate_file, password, input_path, output_path)\n",

        "\n",
        "    print(f\"Successfully created file {output_path}\")\n",

        "except Exception as e:\n",
        "    print(f\"An error occurred: {e}\")"
      ]
    }
  ],
  "metadata": {
    "kernelspec": {
      "display_name": "Python 3",
      "language": "python",
      "name": "python3"
    },
    "language_info": {
      "codemirror_mode": {
        "name": "ipython",
        "version": 3
      },
      "file_extension": ".py",
      "mimetype": "text/x-python",
      "name": "python",
      "nbconvert_exporter": "python",
      "pygments_lexer": "ipython3",
      "version": "3.12.8"
    },
    "colab": {
      "provenance": []
    }
  },
  "nbformat": 4,
  "nbformat_minor": 5
}