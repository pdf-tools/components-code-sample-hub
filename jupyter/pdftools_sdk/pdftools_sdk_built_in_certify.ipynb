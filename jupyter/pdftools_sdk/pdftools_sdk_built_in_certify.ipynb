{
  "cells": [
    {
      "cell_type": "markdown",
      "id": "4230ab26-1443-4a01-8983-11037250fc2f",
      "metadata": {
          "id": "f905b8f7-9904-4881-9907-d5d9ac790ea8"
      },
      "source": [
        "[![Open In Colab](https://colab.research.google.com/assets/colab-badge.svg)](https://colab.research.google.com/github/pdf-tools/components-code-sample-hub/blob/main/jupyter/pdftools_sdk/pdftools_sdk_built_in_certify.ipynb)"
      ]
    },
    {
      "cell_type": "code",
      "execution_count": null,
      "id": "490a7d14-c1c7-487a-a464-9a8d6d6758b0",
      "metadata": {
          "id": "aacb2867-bc5e-423b-963b-d7e04fd7016f"
      },
      "outputs": [],
      "source": [
        "%pip install https://pdftools-public-downloads-production.s3.eu-west-1.amazonaws.com/productkits/PDFSDK/latest/pdftools_sdk-latest.tar.gz\n",
        "%pip install ipython"
      ]
    },
    {
      "cell_type": "markdown",
      "id": "d5fa9c32-2aa0-401e-a8a9-f66a8d4da73e",
      "metadata": {
          "id": "73b4fdb8-6856-4ba0-9401-8733df90c19a"
      },
      "source": [
        "# Certify a PDF\n",
        "This type of signature allows the PDF author to specify\n",
        "which types of modifications are permissible after\n",
        "signing.\n",
        "These signatures are also known as Modification Detection\n",
        "and Prevention (MDP) signatures.\n",
        "\n",
        "The signing certificate is read from a password-protected\n",
        "PKCS#12 file (.pfx or .p12).\n",
        ""
      ]
    },
    {
      "cell_type": "code",
      "execution_count": null,
      "id": "89c05c2e-5e74-42c2-8c19-6d92dd61a2cd",
      "metadata": {
          "id": "d82101a9-d6cd-475e-807e-7b357caa453e"
      },
      "outputs": [],
      "source": [
        "import io\n",
        "from pdftools_sdk.pdf import Document\n",
        "from pdftools_sdk.sign import Signer\n",
        "from pdftools_sdk.crypto.providers.built_in import Provider\n",
        "from pdftools_sdk.crypto import ValidationInformation"
      ]
    },
    {
      "cell_type": "code",
      "execution_count": null,
      "id": "8ce88d4f-c6d0-4b9d-b820-af8526617007",
      "metadata": {
          "id": "9d377dac-2fd7-46f8-aa09-8787b391d727"
      },
      "outputs": [],
      "source": [
        "# Download a file from a given URL and save it to the local system\n",
        "def prepare_file(url: str, path: str):\n",
        "    import requests\n",
        "    response = requests.get(url)\n",
        "    response.raise_for_status()\n",
        "\n",
        "    with open(path, 'wb') as f:\n",
        "        f.write(response.content)"
      ]
    },
    {
      "cell_type": "code",
      "execution_count": null,
      "id": "be92a698-da6a-478c-972b-8d6ac5bd2d21",
      "metadata": {
          "id": "39275eab-8ff4-4703-be0d-ffd5cbea26a3"
      },
      "outputs": [],
      "source": [
        "# Set input arguments\n",
        "certificate_file = 'INSERT-PFX-FILE'  # Placeholder for PFX file\n",
        "password = 'INSERT-PASSWORD'\n",
        "input_url = 'https://pdftools-public-downloads-production.s3.eu-west-1.amazonaws.com/samples/testfiles/InvoiceNone.pdf'\n",
        "input_path = 'InvoiceNone.pdf'\n",
        "prepare_file(input_url, input_path)\n",
        "output_path = 'Certified.pdf'"
      ]
    },
    {
      "cell_type": "code",
      "execution_count": null,
      "id": "ada1385f-a0a7-43e7-b111-a02209e8d38e",
      "metadata": {
          "id": "84e8f8a9-f49b-4bd9-a0fc-3aecfebcb855"
      },
      "outputs": [],
      "source": [
        "def certify_document(certificate_file: str, password: str, input_path: str, output_path: str):\n",
        "    # Create a session to the built-in cryptographic provider\n",
        "    with Provider() as session:\n",
        "        with io.FileIO(certificate_file, 'rb') as pfx_stream:\n",
        "            # Create signature configuration from PFX (or P12) file\n",
        "            signature = session.create_signature_from_certificate(pfx_stream, password)\n",
        "\n",
        "            # Embed validation information to enable the long-term validation (LTV) of the signature\n",
        "            signature.validation_information = ValidationInformation.EMBED_IN_DOCUMENT\n",
        "\n",
        "            # Open input document\n",
        "            with io.FileIO(input_path, 'rb') as in_stream:\n",
        "                with Document.open(in_stream) as input_document:\n",
        "\n",
        "                    # Create stream for output file\n",
        "                    with io.FileIO(output_path, 'wb+') as output_stream:\n",
        "                        # Certify the document with the MDP signature\n",
        "                        signer = Signer()\n",
        "                        signer.certify(input_document, signature, output_stream)"
      ]
    },
    {
      "cell_type": "code",
      "execution_count": null,
      "id": "2f90a8fc-ff96-41ca-9a4d-87d211dc1bac",
      "metadata": {
          "id": "726d6630-29c1-4f5e-80b5-c6a2c8fd002d"
      },
      "outputs": [],
      "source": [
        "try:\n",
        "    # By default, a test license key is active. In this case, a watermark is added to the output. \n",
        "    # If you have a license key, please uncomment the following call and set the license key.\n",
        "    # from pdftools_sdk.sdk import Sdk\n",
        "    # Sdk.initialize(\"INSERT-LICENSE-KEY\")\n",

        "\n",
        "    # Certify a PDF document\n",
        "    certify_document(certificate_file, password, input_path, output_path)\n",

        "\n",
        "    print(f\"Successfully created file {output_path}\")\n",

        "except Exception as e:\n",
        "    print(f\"An error occurred: {e}\")"
      ]
    }
  ],
  "metadata": {
    "kernelspec": {
      "display_name": "Python 3",
      "language": "python",
      "name": "python3"
    },
    "language_info": {
      "codemirror_mode": {
        "name": "ipython",
        "version": 3
      },
      "file_extension": ".py",
      "mimetype": "text/x-python",
      "name": "python",
      "nbconvert_exporter": "python",
      "pygments_lexer": "ipython3",
      "version": "3.12.8"
    },
    "colab": {
      "provenance": []
    }
  },
  "nbformat": 4,
  "nbformat_minor": 5
}