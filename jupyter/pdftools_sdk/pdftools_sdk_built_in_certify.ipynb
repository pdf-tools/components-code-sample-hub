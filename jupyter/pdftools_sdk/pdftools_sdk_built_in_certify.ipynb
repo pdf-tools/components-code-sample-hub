{
  "cells": [
    {
      "cell_type": "markdown",
      "id": "a8e1b603-187f-43c7-8533-6b894af0172d",
      "metadata": {
          "id": "61037d49-17e2-473f-8641-b7f2c418f4e6"
      },
      "source": [
        "[![Open In Colab](https://colab.research.google.com/assets/colab-badge.svg)](https://colab.research.google.com/github/pdf-tools/components-code-sample-hub/blob/main/jupyter/pdftools_sdk/pdftools_sdk_built_in_certify.ipynb)"
      ]
    },
    {
      "cell_type": "code",
      "execution_count": null,
      "id": "4c92408d-647a-46ab-acc8-94bdc1e5ffbf",
      "metadata": {
          "id": "c96d6c7d-fce6-4fc2-b153-7c7f35246143"
      },
      "outputs": [],
      "source": [
        "%pip install pdftools_sdk\n",
        "%pip install ipython"
      ]
    },
    {
      "cell_type": "markdown",
      "id": "bde33685-ee51-4311-8935-a0652e0ad5ee",
      "metadata": {
          "id": "8e8ea20f-a4e6-4859-9752-57657dea25c3"
      },
      "source": [
        "# Certify a PDF\n",
        "This type of signature allows the PDF author to specify\n",
        "which types of modifications are permissible after\n",
        "signing.\n",
        "These signatures are also known as Modification Detection\n",
        "and Prevention (MDP) signatures.\n",
        "\n",
        "The signing certificate is read from a password-protected\n",
        "PKCS#12 file (.pfx or .p12).\n",
        ""
      ]
    },
    {
      "cell_type": "code",
      "execution_count": null,
      "id": "1ff4524b-6729-487a-a3e2-4f26a31271d0",
      "metadata": {
          "id": "cbeae1a1-f4a3-4c51-82f4-5429d9ede5f6"
      },
      "outputs": [],
      "source": [
        "import io\n",
        "from pdftools_sdk.pdf import Document\n",
        "from pdftools_sdk.sign import Signer\n",
        "from pdftools_sdk.crypto.providers.built_in import Provider\n",
        "from pdftools_sdk.crypto import ValidationInformation"
      ]
    },
    {
      "cell_type": "code",
      "execution_count": null,
      "id": "44106aef-e992-4f52-bf44-886d994f0e2d",
      "metadata": {
          "id": "e4ddcae8-1949-453b-b8e5-c795ccb3e041"
      },
      "outputs": [],
      "source": [
        "# Download a file from a given URL and save it to the local system\n",
        "def prepare_file(url: str, path: str):\n",
        "    import requests\n",
        "    response = requests.get(url)\n",
        "    response.raise_for_status()\n",
        "\n",
        "    with open(path, 'wb') as f:\n",
        "        f.write(response.content)"
      ]
    },
    {
      "cell_type": "code",
      "execution_count": null,
      "id": "e9987c6f-6e72-463a-b2c9-65c7e1c669f9",
      "metadata": {
          "id": "3f466044-9975-4c75-b949-1cd581938b5b"
      },
      "outputs": [],
      "source": [
        "# Set input arguments\n",
        "certificate_file = 'INSERT-PFX-FILE'  # Placeholder for PFX file\n",
        "password = 'INSERT-PASSWORD'\n",
        "input_url = 'https://pdftools-public-downloads-production.s3.eu-west-1.amazonaws.com/samples/testfiles/InvoiceNone.pdf'\n",
        "input_path = 'InvoiceNone.pdf'\n",
        "prepare_file(input_url, input_path)\n",
        "output_path = 'Certified.pdf'"
      ]
    },
    {
      "cell_type": "code",
      "execution_count": null,
      "id": "21970122-3f17-4b2f-b503-32f2b1aa39cf",
      "metadata": {
          "id": "771ba084-6caa-4c12-9f3e-839701b974db"
      },
      "outputs": [],
      "source": [
        "def certify_document(certificate_file: str, password: str, input_path: str, output_path: str):\n",
        "    # Create a session to the built-in cryptographic provider\n",
        "    with Provider() as session:\n",
        "        with io.FileIO(certificate_file, 'rb') as pfx_stream:\n",
        "            # Create signature configuration from PFX (or P12) file\n",
        "            signature = session.create_signature_from_certificate(pfx_stream, password)\n",
        "\n",
        "            # Embed validation information to enable the long-term validation (LTV) of the signature\n",
        "            signature.validation_information = ValidationInformation.EMBED_IN_DOCUMENT\n",
        "\n",
        "            # Open input document\n",
        "            with io.FileIO(input_path, 'rb') as in_stream:\n",
        "                with Document.open(in_stream) as input_document:\n",
        "\n",
        "                    # Create stream for output file\n",
        "                    with io.FileIO(output_path, 'wb+') as output_stream:\n",
        "                        # Certify the document with the MDP signature\n",
        "                        signer = Signer()\n",
        "                        signer.certify(input_document, signature, output_stream)"
      ]
    },
    {
      "cell_type": "code",
      "execution_count": null,
      "id": "aad1e93b-33e1-4b24-baac-c3716c9e5115",
      "metadata": {
          "id": "fde7e895-3171-491a-b949-1a26b42bc89d"
      },
      "outputs": [],
      "source": [
        "try:\n",
        "    # By default, a test license key is active. In this case, a watermark is added to the output. \n",
        "    # If you have a license key, please uncomment the following call and set the license key.\n",
        "    # from pdftools_sdk.sdk import Sdk\n",
        "    # Sdk.initialize(\"INSERT-LICENSE-KEY\")\n",

        "\n",
        "    # Certify a PDF document\n",
        "    certify_document(certificate_file, password, input_path, output_path)\n",

        "\n",
        "    print(f\"Successfully created file {output_path}\")\n",

        "except Exception as e:\n",
        "    print(f\"An error occurred: {e}\")"
      ]
    }
  ],
  "metadata": {
    "kernelspec": {
      "display_name": "Python 3",
      "language": "python",
      "name": "python3"
    },
    "language_info": {
      "codemirror_mode": {
        "name": "ipython",
        "version": 3
      },
      "file_extension": ".py",
      "mimetype": "text/x-python",
      "name": "python",
      "nbconvert_exporter": "python",
      "pygments_lexer": "ipython3",
      "version": "3.12.8"
    },
    "colab": {
      "provenance": []
    }
  },
  "nbformat": 4,
  "nbformat_minor": 5
}