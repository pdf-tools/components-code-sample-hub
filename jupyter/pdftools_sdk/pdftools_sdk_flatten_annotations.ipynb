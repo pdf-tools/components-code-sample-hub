{
  "cells": [
    {
      "cell_type": "markdown",
      "id": "03a78ae1-f602-4974-9548-ebe57151f583",
      "metadata": {
          "id": "84757f83-1a58-42df-b80b-ac954a998a30"
      },
      "source": [
        "[![Open In Colab](https://colab.research.google.com/assets/colab-badge.svg)](https://colab.research.google.com/github/pdf-tools/components-code-sample-hub/blob/main/jupyter/pdftools_sdk/pdftools_sdk_flatten_annotations.ipynb)"
      ]
    },
    {
      "cell_type": "code",
      "execution_count": null,
      "id": "3e4737f3-2ae0-4bc6-b540-84640dfcf3d5",
      "metadata": {
          "id": "addcc821-c85a-4ce2-9d33-caba4349ad41"
      },
      "outputs": [],
      "source": [
        "%pip install https://pdftools-public-downloads-production.s3.eu-west-1.amazonaws.com/productkits/PDFSDK/latest/pdftools_sdk-latest.tar.gz\n",
        "%pip install ipython"
      ]
    },
    {
      "cell_type": "markdown",
      "id": "7594a7bb-0e8e-45ac-96e4-ccc677fe5cb3",
      "metadata": {
          "id": "08344f0c-c884-4b52-8d35-f14395227b9d"
      },
      "source": [
        "# Flatten annotations\n",
        "Optimize a PDF document by flattening the annotations of\n",
        "the PDF. As a result, the annotations are converted to\n",
        "static content."
      ]
    },
    {
      "cell_type": "code",
      "execution_count": null,
      "id": "e42f3a23-5c26-44ba-a09d-03506acebd5c",
      "metadata": {
          "id": "2b3f8b8a-40d9-4db6-b2e7-d6ee79022c7a"
      },
      "outputs": [],
      "source": [
        "import io\n",
        "from pdftools_sdk.pdf import Document\n",
        "from pdftools_sdk.optimization import Optimizer\n",
        "from pdftools_sdk.optimization.profiles import MinimalFileSize\n",
        "from pdftools_sdk.optimization.conversion_strategy import ConversionStrategy"
      ]
    },
    {
      "cell_type": "code",
      "execution_count": null,
      "id": "451a3aed-1c7c-427f-a8cc-a78266810a6a",
      "metadata": {
          "id": "5a3e45d3-e382-4194-b492-421a443c0443"
      },
      "outputs": [],
      "source": [
        "# Download a file from a given URL and save it to the local system\n",
        "def prepare_file(url: str, path: str):\n",
        "    import requests\n",
        "    response = requests.get(url)\n",
        "    response.raise_for_status()\n",
        "\n",
        "    with open(path, 'wb') as f:\n",
        "        f.write(response.content)"
      ]
    },
    {
      "cell_type": "code",
      "execution_count": null,
      "id": "ce1d385c-f2fa-4496-9492-d042a7e15b56",
      "metadata": {
          "id": "083eaf3e-9d34-4677-a905-06ac63ff2244"
      },
      "outputs": [],
      "source": [
        "# Set input arguments\n",
        "input_url = 'https://pdftools-public-downloads-production.s3.eu-west-1.amazonaws.com/samples/testfiles/FormAnnotated.pdf'\n",
        "input_path = 'FormAnnotated.pdf'\n",
        "prepare_file(input_url, input_path)\n",
        "output_path = 'Flattened.pdf'"
      ]
    },
    {
      "cell_type": "code",
      "execution_count": null,
      "id": "17381155-8acd-43e7-b1d2-711670b54b7d",
      "metadata": {
          "id": "448671f5-d2f5-4c17-85ac-72501a77a049"
      },
      "outputs": [],
      "source": [
        "def flatten_annotations(input_path: str, output_path: str):\n",
        "    # Open input document\n",
        "    with io.FileIO(input_path, 'rb') as in_stream:\n",
        "        with Document.open(in_stream) as input_document:\n",
        "\n",
        "            # Create the optimization profile for minimal file size\n",
        "            profile = MinimalFileSize()\n",
        "\n",
        "            # Flatten annotations, form fields, and links\n",
        "            profile.removal_options.annotations = ConversionStrategy.FLATTEN\n",
        "            profile.removal_options.form_fields = ConversionStrategy.FLATTEN\n",
        "            profile.removal_options.links = ConversionStrategy.FLATTEN\n",
        "\n",
        "            # Create output stream\n",
        "            with io.FileIO(output_path, 'wb+') as output_stream:\n",
        "\n",
        "                # Optimize the document\n",
        "                optimizer = Optimizer()\n",
        "                optimizer.optimize_document(input_document, output_stream, profile)"
      ]
    },
    {
      "cell_type": "code",
      "execution_count": null,
      "id": "7f507ac1-8ee9-48ce-8385-0ed3ad9abe13",
      "metadata": {
          "id": "9ec64777-9709-448c-bb59-6be74526da39"
      },
      "outputs": [],
      "source": [
        "try:\n",
        "    # By default, a test license key is active. In this case, a watermark is added to the output. \n",
        "    # If you have a license key, please uncomment the following call and set the license key.\n",
        "    # from pdftools_sdk.sdk import Sdk\n",
        "    # Sdk.initialize(\"INSERT-LICENSE-KEY\")\n",

        "\n",
        "    flatten_annotations(input_path, output_path)\n",

        "\n",
        "    print(f\"Successfully created file {output_path}\")\n",

        "except Exception as e:\n",
        "    print(f\"An error occurred: {e}\")"
      ]
    }
  ],
  "metadata": {
    "kernelspec": {
      "display_name": "Python 3",
      "language": "python",
      "name": "python3"
    },
    "language_info": {
      "codemirror_mode": {
        "name": "ipython",
        "version": 3
      },
      "file_extension": ".py",
      "mimetype": "text/x-python",
      "name": "python",
      "nbconvert_exporter": "python",
      "pygments_lexer": "ipython3",
      "version": "3.12.8"
    },
    "colab": {
      "provenance": []
    }
  },
  "nbformat": 4,
  "nbformat_minor": 5
}