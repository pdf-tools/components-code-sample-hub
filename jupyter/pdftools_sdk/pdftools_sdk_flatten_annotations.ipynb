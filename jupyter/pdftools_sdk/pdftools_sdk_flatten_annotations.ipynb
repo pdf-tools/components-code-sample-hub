{
  "cells": [
    {
      "cell_type": "markdown",
      "id": "918325f3-cfe0-476a-a9c9-393fd7fa29c1",
      "metadata": {
          "id": "9e01574f-1f87-4c20-a0e0-f7f2b21fb912"
      },
      "source": [
        "[![Open In Colab](https://colab.research.google.com/assets/colab-badge.svg)](https://colab.research.google.com/github/pdf-tools/components-code-sample-hub/blob/main/jupyter/pdftools_sdk/pdftools_sdk_flatten_annotations.ipynb)"
      ]
    },
    {
      "cell_type": "code",
      "execution_count": null,
      "id": "1b70edd7-f036-4553-91fe-fa4fa1981f01",
      "metadata": {
          "id": "c7752482-6027-4345-883f-6255777da6bc"
      },
      "outputs": [],
      "source": [
        "%pip install https://pdftools-public-downloads-production.s3.eu-west-1.amazonaws.com/productkits/PDFSDK/latest/pdftools_sdk-latest.tar.gz\n",
        "%pip install ipython"
      ]
    },
    {
      "cell_type": "markdown",
      "id": "7d74827c-14be-4ec2-ba5d-50c47b582234",
      "metadata": {
          "id": "4575c40e-ebe9-43a3-9003-458debc06313"
      },
      "source": [
        "# Flatten annotations\n",
        "Optimize a PDF document by flattening the annotations of\n",
        "the PDF. As a result, the annotations are converted to\n",
        "static content."
      ]
    },
    {
      "cell_type": "code",
      "execution_count": null,
      "id": "0c4ac046-5369-45e0-a334-c96e373f1c70",
      "metadata": {
          "id": "a8ca322a-c82d-45d9-8792-f98fb92be804"
      },
      "outputs": [],
      "source": [
        "import io\n",
        "from pdftools_sdk.pdf import Document\n",
        "from pdftools_sdk.optimization import Optimizer\n",
        "from pdftools_sdk.optimization.profiles import MinimalFileSize\n",
        "from pdftools_sdk.optimization.conversion_strategy import ConversionStrategy"
      ]
    },
    {
      "cell_type": "code",
      "execution_count": null,
      "id": "c02b5426-8e64-4b55-87cc-5037c80cc9ab",
      "metadata": {
          "id": "1356b104-cef4-42ff-a89d-f8432f7f0e22"
      },
      "outputs": [],
      "source": [
        "# Download a file from a given URL and save it to the local system\n",
        "def prepare_file(url: str, path: str):\n",
        "    import requests\n",
        "    response = requests.get(url)\n",
        "    response.raise_for_status()\n",
        "\n",
        "    with open(path, 'wb') as f:\n",
        "        f.write(response.content)"
      ]
    },
    {
      "cell_type": "code",
      "execution_count": null,
      "id": "f2dc5bc4-5d91-40e1-b769-9a264dc52796",
      "metadata": {
          "id": "228bd513-54a1-4eb0-ba01-f17ea663d4e8"
      },
      "outputs": [],
      "source": [
        "# Set input arguments\n",
        "input_url = 'https://pdftools-public-downloads-production.s3.eu-west-1.amazonaws.com/samples/testfiles/FormAnnotated.pdf'\n",
        "input_path = 'FormAnnotated.pdf'\n",
        "prepare_file(input_url, input_path)\n",
        "output_path = 'Flattened.pdf'"
      ]
    },
    {
      "cell_type": "code",
      "execution_count": null,
      "id": "75580658-1ebc-49b0-a0ae-04036fa84dfd",
      "metadata": {
          "id": "1231b667-f8b5-470d-b979-f636f0a5c53b"
      },
      "outputs": [],
      "source": [
        "def flatten_annotations(input_path: str, output_path: str):\n",
        "    # Open input document\n",
        "    with io.FileIO(input_path, 'rb') as in_stream:\n",
        "        with Document.open(in_stream) as input_document:\n",
        "\n",
        "            # Create the optimization profile for minimal file size\n",
        "            profile = MinimalFileSize()\n",
        "\n",
        "            # Flatten annotations, form fields, and links\n",
        "            profile.removal_options.annotations = ConversionStrategy.FLATTEN\n",
        "            profile.removal_options.form_fields = ConversionStrategy.FLATTEN\n",
        "            profile.removal_options.links = ConversionStrategy.FLATTEN\n",
        "\n",
        "            # Create output stream\n",
        "            with io.FileIO(output_path, 'wb+') as output_stream:\n",
        "\n",
        "                # Optimize the document\n",
        "                optimizer = Optimizer()\n",
        "                optimizer.optimize_document(input_document, output_stream, profile)"
      ]
    },
    {
      "cell_type": "code",
      "execution_count": null,
      "id": "ea1dc99d-0c73-4cbe-acb0-5e83dabc0b44",
      "metadata": {
          "id": "980c8f0d-c914-4ad4-8a55-ad8fb66dfa4a"
      },
      "outputs": [],
      "source": [
        "try:\n",
        "    # By default, a test license key is active. In this case, a watermark is added to the output. \n",
        "    # If you have a license key, please uncomment the following call and set the license key.\n",
        "    # from pdftools_sdk.sdk import Sdk\n",
        "    # Sdk.initialize(\"INSERT-LICENSE-KEY\")\n",

        "\n",
        "    flatten_annotations(input_path, output_path)\n",

        "\n",
        "    print(f\"Successfully created file {output_path}\")\n",

        "except Exception as e:\n",
        "    print(f\"An error occurred: {e}\")"
      ]
    }
  ],
  "metadata": {
    "kernelspec": {
      "display_name": "Python 3",
      "language": "python",
      "name": "python3"
    },
    "language_info": {
      "codemirror_mode": {
        "name": "ipython",
        "version": 3
      },
      "file_extension": ".py",
      "mimetype": "text/x-python",
      "name": "python",
      "nbconvert_exporter": "python",
      "pygments_lexer": "ipython3",
      "version": "3.12.8"
    },
    "colab": {
      "provenance": []
    }
  },
  "nbformat": 4,
  "nbformat_minor": 5
}