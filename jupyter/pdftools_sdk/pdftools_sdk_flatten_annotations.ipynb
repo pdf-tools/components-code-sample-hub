{
  "cells": [
    {
      "cell_type": "markdown",
      "id": "53ed40e2-5a7a-4ed0-8244-d0b81ed1df06",
      "metadata": {
          "id": "ac610056-271b-41e7-83e9-97cd26a75a11"
      },
      "source": [
        "[![Open In Colab](https://colab.research.google.com/assets/colab-badge.svg)](https://colab.research.google.com/github/pdf-tools/components-code-sample-hub/blob/main/jupyter/pdftools_sdk/pdftools_sdk_flatten_annotations.ipynb)"
      ]
    },
    {
      "cell_type": "code",
      "execution_count": null,
      "id": "c8330adb-ddce-41ae-a4e3-8593df375382",
      "metadata": {
          "id": "4417f2a7-155e-4d55-9a21-3d140f31f9b4"
      },
      "outputs": [],
      "source": [
        "%pip install https://pdftools-public-downloads-production.s3.eu-west-1.amazonaws.com/productkits/PDFSDK/latest/pdftools_sdk-latest.tar.gz\n",
        "%pip install ipython"
      ]
    },
    {
      "cell_type": "markdown",
      "id": "65b24b2b-7dc4-4e00-8a73-f4a2fcdcfb96",
      "metadata": {
          "id": "b7ab2e54-a34e-48bf-bc20-4e6d642357c5"
      },
      "source": [
        "# Flatten annotations\n",
        "Optimize a PDF document by flattening the annotations of\n",
        "the PDF. As a result, the annotations are converted to\n",
        "static content."
      ]
    },
    {
      "cell_type": "code",
      "execution_count": null,
      "id": "f57fc079-689c-4abd-8034-40f6d3d12414",
      "metadata": {
          "id": "5931a6fb-2897-4901-8b90-87b5334fad95"
      },
      "outputs": [],
      "source": [
        "import io\n",
        "from pdftools_sdk.pdf import Document\n",
        "from pdftools_sdk.optimization import Optimizer\n",
        "from pdftools_sdk.optimization.profiles import MinimalFileSize\n",
        "from pdftools_sdk.optimization.conversion_strategy import ConversionStrategy"
      ]
    },
    {
      "cell_type": "code",
      "execution_count": null,
      "id": "5487763d-bc81-495c-b66b-88750333cf0f",
      "metadata": {
          "id": "602fa421-6e4e-427c-850c-7ab4ee47511b"
      },
      "outputs": [],
      "source": [
        "# Download a file from a given URL and save it to the local system\n",
        "def prepare_file(url: str, path: str):\n",
        "    import requests\n",
        "    response = requests.get(url)\n",
        "    response.raise_for_status()\n",
        "\n",
        "    with open(path, 'wb') as f:\n",
        "        f.write(response.content)"
      ]
    },
    {
      "cell_type": "code",
      "execution_count": null,
      "id": "eb38190e-32f1-4612-a70b-84313345bf96",
      "metadata": {
          "id": "01be2e6f-d97c-4dad-a672-69e73ba3a15b"
      },
      "outputs": [],
      "source": [
        "# Set input arguments\n",
        "input_url = 'https://pdftools-public-downloads-production.s3.eu-west-1.amazonaws.com/samples/testfiles/FormAnnotated.pdf'\n",
        "input_path = 'FormAnnotated.pdf'\n",
        "prepare_file(input_url, input_path)\n",
        "output_path = 'Flattened.pdf'"
      ]
    },
    {
      "cell_type": "code",
      "execution_count": null,
      "id": "dbdb5782-f676-454b-af5f-baa3bc70657c",
      "metadata": {
          "id": "deeb5921-fefd-4f3b-9afe-4598250d3a3e"
      },
      "outputs": [],
      "source": [
        "def flatten_annotations(input_path: str, output_path: str):\n",
        "    # Open input document\n",
        "    with io.FileIO(input_path, 'rb') as in_stream:\n",
        "        with Document.open(in_stream) as input_document:\n",
        "\n",
        "            # Create the optimization profile for minimal file size\n",
        "            profile = MinimalFileSize()\n",
        "\n",
        "            # Flatten annotations, form fields, and links\n",
        "            profile.removal_options.annotations = ConversionStrategy.FLATTEN\n",
        "            profile.removal_options.form_fields = ConversionStrategy.FLATTEN\n",
        "            profile.removal_options.links = ConversionStrategy.FLATTEN\n",
        "\n",
        "            # Create output stream\n",
        "            with io.FileIO(output_path, 'wb+') as output_stream:\n",
        "\n",
        "                # Optimize the document\n",
        "                optimizer = Optimizer()\n",
        "                optimizer.optimize_document(input_document, output_stream, profile)"
      ]
    },
    {
      "cell_type": "code",
      "execution_count": null,
      "id": "a0558981-a264-44f0-8e9a-c5ac909a9e3d",
      "metadata": {
          "id": "2e4657e1-35e6-44cb-bb18-515290fba0d4"
      },
      "outputs": [],
      "source": [
        "try:\n",
        "    # By default, a test license key is active. In this case, a watermark is added to the output. \n",
        "    # If you have a license key, please uncomment the following call and set the license key.\n",
        "    # from pdftools_sdk.sdk import Sdk\n",
        "    # Sdk.initialize(\"<PDFSDK,V1,MGAASQD6L2JMQHL54PK08RQX8GG4SS0M8DAHVPH0VMP3NB8R9DUK>\")\n",

        "\n",
        "    flatten_annotations(input_path, output_path)\n",

        "\n",
        "    print(f\"Successfully created file {output_path}\")\n",

        "except Exception as e:\n",
        "    print(f\"An error occurred: {e}\")"
      ]
    }
  ],
  "metadata": {
    "kernelspec": {
      "display_name": "Python 3",
      "language": "python",
      "name": "python3"
    },
    "language_info": {
      "codemirror_mode": {
        "name": "ipython",
        "version": 3
      },
      "file_extension": ".py",
      "mimetype": "text/x-python",
      "name": "python",
      "nbconvert_exporter": "python",
      "pygments_lexer": "ipython3",
      "version": "3.12.8"
    },
    "colab": {
      "provenance": []
    }
  },
  "nbformat": 4,
  "nbformat_minor": 5
}