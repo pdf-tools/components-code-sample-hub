{
  "cells": [
    {
      "cell_type": "markdown",
      "id": "4b624bb3-f2d7-4bf9-b97a-4116970da983",
      "metadata": {
          "id": "de4ee330-61fd-4ca5-bbcf-f558188db89e"
      },
      "source": [
        "[![Open In Colab](https://colab.research.google.com/assets/colab-badge.svg)](https://colab.research.google.com/github/pdf-tools/components-code-sample-hub/blob/main/jupyter/pdftools_sdk/pdftools_sdk_flatten_annotations.ipynb)"
      ]
    },
    {
      "cell_type": "code",
      "execution_count": null,
      "id": "c61a9792-c503-4113-ab02-4419c899e2ae",
      "metadata": {
          "id": "4de6798f-e84b-4ab7-8a4e-39baaed58a88"
      },
      "outputs": [],
      "source": [
        "%pip install pdftools_sdk\n",
        "%pip install ipython"
      ]
    },
    {
      "cell_type": "markdown",
      "id": "4dc49cd9-7f3f-4c07-8efe-5c335f102599",
      "metadata": {
          "id": "cb9896d4-79fb-47ee-8ece-c528f5642e53"
      },
      "source": [
        "# Flatten annotations\n",
        "Optimize a PDF document by flattening the annotations of\n",
        "the PDF. As a result, the annotations are converted to\n",
        "static content."
      ]
    },
    {
      "cell_type": "code",
      "execution_count": null,
      "id": "6767d4fe-5052-4963-be5e-b93032d0859d",
      "metadata": {
          "id": "3b99fbbf-6dc9-48aa-b861-1720bc7de758"
      },
      "outputs": [],
      "source": [
        "import io\n",
        "from pdftools_sdk.pdf import Document\n",
        "from pdftools_sdk.optimization import Optimizer\n",
        "from pdftools_sdk.optimization.profiles import MinimalFileSize\n",
        "from pdftools_sdk.optimization.conversion_strategy import ConversionStrategy"
      ]
    },
    {
      "cell_type": "code",
      "execution_count": null,
      "id": "3eaaa030-88e0-4b44-bb6a-c2ac986c0540",
      "metadata": {
          "id": "9bb906ad-7d9f-422c-9e22-fdd374e7391a"
      },
      "outputs": [],
      "source": [
        "# Download a file from a given URL and save it to the local system\n",
        "def prepare_file(url: str, path: str):\n",
        "    import requests\n",
        "    response = requests.get(url)\n",
        "    response.raise_for_status()\n",
        "\n",
        "    with open(path, 'wb') as f:\n",
        "        f.write(response.content)"
      ]
    },
    {
      "cell_type": "code",
      "execution_count": null,
      "id": "f261060d-8ab9-449a-90ee-484d009cc2a5",
      "metadata": {
          "id": "393c64b1-e077-424c-98d9-ead3f8544ffe"
      },
      "outputs": [],
      "source": [
        "# Set input arguments\n",
        "input_url = 'https://pdftools-public-downloads-production.s3.eu-west-1.amazonaws.com/samples/testfiles/FormAnnotated.pdf'\n",
        "input_path = 'FormAnnotated.pdf'\n",
        "prepare_file(input_url, input_path)\n",
        "output_path = 'Flattened.pdf'"
      ]
    },
    {
      "cell_type": "code",
      "execution_count": null,
      "id": "7affad91-7ccf-41a1-b79d-f640dbb110be",
      "metadata": {
          "id": "5b1be7b3-89a7-49a5-b0af-07783cacb2cf"
      },
      "outputs": [],
      "source": [
        "def flatten_annotations(input_path: str, output_path: str):\n",
        "    # Open input document\n",
        "    with io.FileIO(input_path, 'rb') as in_stream:\n",
        "        with Document.open(in_stream) as input_document:\n",
        "\n",
        "            # Create the optimization profile for minimal file size\n",
        "            profile = MinimalFileSize()\n",
        "\n",
        "            # Flatten annotations, form fields, and links\n",
        "            profile.removal_options.annotations = ConversionStrategy.FLATTEN\n",
        "            profile.removal_options.form_fields = ConversionStrategy.FLATTEN\n",
        "            profile.removal_options.links = ConversionStrategy.FLATTEN\n",
        "\n",
        "            # Create output stream\n",
        "            with io.FileIO(output_path, 'wb+') as output_stream:\n",
        "\n",
        "                # Optimize the document\n",
        "                optimizer = Optimizer()\n",
        "                optimizer.optimize_document(input_document, output_stream, profile)"
      ]
    },
    {
      "cell_type": "code",
      "execution_count": null,
      "id": "ba5f2973-0d8d-4fc5-8a28-2ba7d62a666f",
      "metadata": {
          "id": "c30691c2-4dba-46dc-9cd8-4dd7a1f0ba49"
      },
      "outputs": [],
      "source": [
        "try:\n",
        "    # By default, a test license key is active. In this case, a watermark is added to the output. \n",
        "    # If you have a license key, please uncomment the following call and set the license key.\n",
        "    # from pdftools_sdk.sdk import Sdk\n",
        "    # Sdk.initialize(\"INSERT-LICENSE-KEY\")\n",

        "\n",
        "    flatten_annotations(input_path, output_path)\n",

        "\n",
        "    print(f\"Successfully created file {output_path}\")\n",

        "except Exception as e:\n",
        "    print(f\"An error occurred: {e}\")"
      ]
    }
  ],
  "metadata": {
    "kernelspec": {
      "display_name": "Python 3",
      "language": "python",
      "name": "python3"
    },
    "language_info": {
      "codemirror_mode": {
        "name": "ipython",
        "version": 3
      },
      "file_extension": ".py",
      "mimetype": "text/x-python",
      "name": "python",
      "nbconvert_exporter": "python",
      "pygments_lexer": "ipython3",
      "version": "3.12.8"
    },
    "colab": {
      "provenance": []
    }
  },
  "nbformat": 4,
  "nbformat_minor": 5
}