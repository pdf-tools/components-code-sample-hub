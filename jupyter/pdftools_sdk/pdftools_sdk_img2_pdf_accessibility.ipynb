{
  "cells": [
    {
      "cell_type": "markdown",
      "id": "5396a650-7000-49b0-887b-e7bdc4185277",
      "metadata": {
          "id": "8162dc39-6989-4739-a731-9551bbe4eeb0"
      },
      "source": [
        "[![Open In Colab](https://colab.research.google.com/assets/colab-badge.svg)](https://colab.research.google.com/github/pdf-tools/components-code-sample-hub/blob/main/jupyter/pdftools_sdk/pdftools_sdk_img2_pdf_accessibility.ipynb)"
      ]
    },
    {
      "cell_type": "code",
      "execution_count": null,
      "id": "1a3241a6-9b32-4e13-8c46-680fea891120",
      "metadata": {
          "id": "ba6dcf2b-9b90-4a97-9863-79dc423b894b"
      },
      "outputs": [],
      "source": [
        "%pip install https://pdftools-public-downloads-production.s3.eu-west-1.amazonaws.com/productkits/PDFSDK/latest/pdftools_sdk-latest.tar.gz\n",
        "%pip install ipython"
      ]
    },
    {
      "cell_type": "markdown",
      "id": "1626ace6-4f29-4930-8d7c-8af28f9eddd8",
      "metadata": {
          "id": "a0a4ddae-5626-4688-b1d7-445008f94a7f"
      },
      "source": [
        "# Convert an image to an accessible PDF/A document\n",
        "Convert an image to an accessible PDF/A-2a document.\n",
        "Alternative text is added to the image, as required for\n",
        "PDF/A level A, to ensure accessibility for people with\n",
        "disabilities who use assistive technologies."
      ]
    },
    {
      "cell_type": "code",
      "execution_count": null,
      "id": "686a992d-7251-4ae5-9df6-7e203c06536b",
      "metadata": {
          "id": "c1803a59-5548-49db-ba6d-4a1272660043"
      },
      "outputs": [],
      "source": [
        "import io\n",
        "from pdftools_sdk.image import Document\n",
        "from pdftools_sdk.pdf import Conformance\n",
        "from pdftools_sdk.image2_pdf import Converter\n",
        "from pdftools_sdk.image2_pdf.profiles import Archive"
      ]
    },
    {
      "cell_type": "code",
      "execution_count": null,
      "id": "b977dc42-c9fb-4b31-9066-ae5bb63a26b8",
      "metadata": {
          "id": "fa282823-4112-4248-b7ef-338b11436295"
      },
      "outputs": [],
      "source": [
        "# Download a file from a given URL and save it to the local system\n",
        "def prepare_file(url: str, path: str):\n",
        "    import requests\n",
        "    response = requests.get(url)\n",
        "    response.raise_for_status()\n",
        "\n",
        "    with open(path, 'wb') as f:\n",
        "        f.write(response.content)"
      ]
    },
    {
      "cell_type": "code",
      "execution_count": null,
      "id": "6c692cc2-621f-4001-9530-01888defd788",
      "metadata": {
          "id": "161d7e12-30b9-4673-9d52-7d9953c048a1"
      },
      "outputs": [],
      "source": [
        "# Set input arguments\n",
        "input_url = 'https://pdftools-public-downloads-production.s3.eu-west-1.amazonaws.com/samples/testfiles/ideas.tiff'\n",
        "input_path = 'ideas.tiff'\n",
        "prepare_file(input_url, input_path)\n",
        "alternate_text = 'Image of creative ideas'\n",
        "output_path = 'IdeasPDFA.pdf'"
      ]
    },
    {
      "cell_type": "code",
      "execution_count": null,
      "id": "e089967b-1b01-461d-be75-1207b3f4c148",
      "metadata": {
          "id": "6d221ff9-65e6-4020-bb70-30bb57948705"
      },
      "outputs": [],
      "source": [
        "def image_to_pdf(input_path: str, alternate_text: str, output_path: str):\n",
        "    # Open image document\n",
        "    with io.FileIO(input_path, 'rb') as image_stream:\n",
        "        with Document.open(image_stream) as image_document:\n",
        "            # Create the profile that defines the conversion parameters.\n",
        "            # The Archive profile converts images to PDF/A documents for archiving.\n",
        "            profile = Archive()\n",
        "\n",
        "            # Set conformance of output document to PDF/A-2a\n",
        "            profile.conformance = Conformance.PDF_A2_A\n",
        "\n",
        "            # For PDF/A level A, an alternate text is required for each page of the image.\n",
        "            # This is optional for other PDF/A levels, e.g. PDF/A-2b.\n",
        "            profile.language = \"en\"\n",
        "            profile.alternate_text.append(alternate_text)\n",
        "\n",
        "            # Optionally other profile parameters can be changed according to the \n",
        "            # requirements of your conversion process.\n",
        "\n",
        "            # Create output stream\n",
        "            with io.FileIO(output_path, 'wb+') as output_stream:\n",
        "                # Convert the image to a tagged PDF/A document\n",
        "                converter = Converter()\n",
        "                converter.convert(image_document, output_stream, profile)"
      ]
    },
    {
      "cell_type": "code",
      "execution_count": null,
      "id": "4e66d978-0cc7-4873-8564-c259d76c37cc",
      "metadata": {
          "id": "d6325fee-6899-4f61-ba71-c249199274c6"
      },
      "outputs": [],
      "source": [
        "try:\n",
        "    # By default, a test license key is active. In this case, a watermark is added to the output. \n",
        "    # If you have a license key, please uncomment the following call and set the license key.\n",
        "    # from pdftools_sdk.sdk import Sdk\n",
        "    # Sdk.initialize(\"INSERT-LICENSE-KEY\")\n",

        "\n",
        "    image_to_pdf(input_path, alternate_text, output_path)\n",

        "\n",
        "    print(f\"Successfully created file {output_path}\")\n",

        "except Exception as e:\n",
        "    print(f\"An error occurred: {e}\")"
      ]
    }
  ],
  "metadata": {
    "kernelspec": {
      "display_name": "Python 3",
      "language": "python",
      "name": "python3"
    },
    "language_info": {
      "codemirror_mode": {
        "name": "ipython",
        "version": 3
      },
      "file_extension": ".py",
      "mimetype": "text/x-python",
      "name": "python",
      "nbconvert_exporter": "python",
      "pygments_lexer": "ipython3",
      "version": "3.12.8"
    },
    "colab": {
      "provenance": []
    }
  },
  "nbformat": 4,
  "nbformat_minor": 5
}