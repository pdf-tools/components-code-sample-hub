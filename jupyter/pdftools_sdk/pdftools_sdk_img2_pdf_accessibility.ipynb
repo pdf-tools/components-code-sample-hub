{
  "cells": [
    {
      "cell_type": "markdown",
      "id": "df3f77bc-5d07-4689-8eb0-9e77fe4c3dfa",
      "metadata": {
          "id": "2a471602-144b-436b-a466-e0afd81b186d"
      },
      "source": [
        "[![Open In Colab](https://colab.research.google.com/assets/colab-badge.svg)](https://colab.research.google.com/github/pdf-tools/components-code-sample-hub/blob/main/jupyter/pdftools_sdk/pdftools_sdk_img2_pdf_accessibility.ipynb)"
      ]
    },
    {
      "cell_type": "code",
      "execution_count": null,
      "id": "6d1bbc4b-991f-4d17-8d2b-92bd0539fb5e",
      "metadata": {
          "id": "1b33b32f-4bf7-47a0-b822-851f94611f47"
      },
      "outputs": [],
      "source": [
        "%pip install pdftools_sdk\n",
        "%pip install ipython"
      ]
    },
    {
      "cell_type": "markdown",
      "id": "327de9e3-f443-4997-88d9-641d2d791d55",
      "metadata": {
          "id": "4d20cf29-a269-486e-ad4f-60768f149c4e"
      },
      "source": [
        "# Convert an image to an accessible PDF/A document\n",
        "Convert an image to an accessible PDF/A-2a document.\n",
        "Alternative text is added to the image, as required for\n",
        "PDF/A level A, to ensure accessibility for people with\n",
        "disabilities who use assistive technologies."
      ]
    },
    {
      "cell_type": "code",
      "execution_count": null,
      "id": "9ea03b44-ee52-402a-8f84-388068ac775e",
      "metadata": {
          "id": "0e23c345-b81e-4ec7-8466-731fd4cd6aed"
      },
      "outputs": [],
      "source": [
        "import io\n",
        "from pdftools_sdk.image import Document\n",
        "from pdftools_sdk.pdf import Conformance\n",
        "from pdftools_sdk.image2_pdf import Converter\n",
        "from pdftools_sdk.image2_pdf.profiles import Archive"
      ]
    },
    {
      "cell_type": "code",
      "execution_count": null,
      "id": "f4321397-e79c-42f5-b7fc-5e3a81b91265",
      "metadata": {
          "id": "44fa4806-b77b-45f9-bdda-a7c46d9f7a00"
      },
      "outputs": [],
      "source": [
        "# Download a file from a given URL and save it to the local system\n",
        "def prepare_file(url: str, path: str):\n",
        "    import requests\n",
        "    response = requests.get(url)\n",
        "    response.raise_for_status()\n",
        "\n",
        "    with open(path, 'wb') as f:\n",
        "        f.write(response.content)"
      ]
    },
    {
      "cell_type": "code",
      "execution_count": null,
      "id": "ab8b30a4-7f1f-41bb-9ffc-cded19ddbbbb",
      "metadata": {
          "id": "fbfd9bef-381c-48e3-ba49-6493aebd89c2"
      },
      "outputs": [],
      "source": [
        "# Set input arguments\n",
        "input_url = 'https://pdftools-public-downloads-production.s3.eu-west-1.amazonaws.com/samples/testfiles/ideas.tiff'\n",
        "input_path = 'ideas.tiff'\n",
        "prepare_file(input_url, input_path)\n",
        "alternate_text = 'Image of creative ideas'\n",
        "output_path = 'IdeasPDFA.pdf'"
      ]
    },
    {
      "cell_type": "code",
      "execution_count": null,
      "id": "62ffd931-7661-4a77-b8be-4219d7d72366",
      "metadata": {
          "id": "00af9ae1-80b8-4f54-b967-45503283f303"
      },
      "outputs": [],
      "source": [
        "def image_to_pdf(input_path: str, alternate_text: str, output_path: str):\n",
        "    # Open image document\n",
        "    with io.FileIO(input_path, 'rb') as image_stream:\n",
        "        with Document.open(image_stream) as image_document:\n",
        "            # Create the profile that defines the conversion parameters.\n",
        "            # The Archive profile converts images to PDF/A documents for archiving.\n",
        "            profile = Archive()\n",
        "\n",
        "            # Set conformance of output document to PDF/A-2a\n",
        "            profile.conformance = Conformance.PDF_A2_A\n",
        "\n",
        "            # For PDF/A level A, an alternate text is required for each page of the image.\n",
        "            # This is optional for other PDF/A levels, e.g. PDF/A-2b.\n",
        "            profile.language = \"en\"\n",
        "            profile.alternate_text.append(alternate_text)\n",
        "\n",
        "            # Optionally other profile parameters can be changed according to the \n",
        "            # requirements of your conversion process.\n",
        "\n",
        "            # Create output stream\n",
        "            with io.FileIO(output_path, 'wb+') as output_stream:\n",
        "                # Convert the image to a tagged PDF/A document\n",
        "                converter = Converter()\n",
        "                converter.convert(image_document, output_stream, profile)"
      ]
    },
    {
      "cell_type": "code",
      "execution_count": null,
      "id": "ee697796-28c1-43e3-ab96-439382cc9d18",
      "metadata": {
          "id": "cc4db53b-429b-4d9f-a6c5-2e4e6170585b"
      },
      "outputs": [],
      "source": [
        "try:\n",
        "    # By default, a test license key is active. In this case, a watermark is added to the output. \n",
        "    # If you have a license key, please uncomment the following call and set the license key.\n",
        "    # from pdftools_sdk.sdk import Sdk\n",
        "    # Sdk.initialize(\"INSERT-LICENSE-KEY\")\n",

        "\n",
        "    image_to_pdf(input_path, alternate_text, output_path)\n",

        "\n",
        "    print(f\"Successfully created file {output_path}\")\n",

        "except Exception as e:\n",
        "    print(f\"An error occurred: {e}\")"
      ]
    }
  ],
  "metadata": {
    "kernelspec": {
      "display_name": "Python 3",
      "language": "python",
      "name": "python3"
    },
    "language_info": {
      "codemirror_mode": {
        "name": "ipython",
        "version": 3
      },
      "file_extension": ".py",
      "mimetype": "text/x-python",
      "name": "python",
      "nbconvert_exporter": "python",
      "pygments_lexer": "ipython3",
      "version": "3.12.8"
    },
    "colab": {
      "provenance": []
    }
  },
  "nbformat": 4,
  "nbformat_minor": 5
}