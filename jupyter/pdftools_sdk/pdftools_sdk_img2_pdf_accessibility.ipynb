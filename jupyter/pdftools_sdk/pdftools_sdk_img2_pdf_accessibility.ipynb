{
  "cells": [
    {
      "cell_type": "markdown",
      "id": "1cb7da42-9708-4e69-91bd-8639f76df49f",
      "metadata": {
          "id": "e0c96bf9-9a14-4f06-92c4-1de7df3129e5"
      },
      "source": [
        "[![Open In Colab](https://colab.research.google.com/assets/colab-badge.svg)](https://colab.research.google.com/github/pdf-tools/components-code-sample-hub/blob/main/jupyter/pdftools_sdk/pdftools_sdk_img2_pdf_accessibility.ipynb)"
      ]
    },
    {
      "cell_type": "code",
      "execution_count": null,
      "id": "61779b22-563c-4423-96c1-924a48f4cd92",
      "metadata": {
          "id": "b80eafb5-4c74-40fa-a31d-56f33613431e"
      },
      "outputs": [],
      "source": [
        "%pip install https://pdftools-public-downloads-production.s3.eu-west-1.amazonaws.com/productkits/PDFSDK/latest/pdftools_sdk-latest.tar.gz\n",
        "%pip install ipython"
      ]
    },
    {
      "cell_type": "markdown",
      "id": "9e221e65-5b43-4038-9e5e-a80a149d94be",
      "metadata": {
          "id": "b287514f-cf56-4981-8b5c-2dd660a846c3"
      },
      "source": [
        "# Convert an image to an accessible PDF/A document\n",
        "Convert an image to an accessible PDF/A-2a document.\n",
        "Alternative text is added to the image, as required for\n",
        "PDF/A level A, to ensure accessibility for people with\n",
        "disabilities who use assistive technologies."
      ]
    },
    {
      "cell_type": "code",
      "execution_count": null,
      "id": "af1909df-0ccd-4cec-807f-99de5a0f16c5",
      "metadata": {
          "id": "9e82dec7-7595-4ef0-a8d3-d2fae191e05e"
      },
      "outputs": [],
      "source": [
        "import io\n",
        "from pdftools_sdk.image import Document\n",
        "from pdftools_sdk.pdf import Conformance\n",
        "from pdftools_sdk.image2_pdf import Converter\n",
        "from pdftools_sdk.image2_pdf.profiles import Archive"
      ]
    },
    {
      "cell_type": "code",
      "execution_count": null,
      "id": "a7cdfb50-5d7b-4776-9cf7-a03fee167d5b",
      "metadata": {
          "id": "419fe7e4-ce04-42bf-b01a-e991a56a9f65"
      },
      "outputs": [],
      "source": [
        "# Download a file from a given URL and save it to the local system\n",
        "def prepare_file(url: str, path: str):\n",
        "    import requests\n",
        "    response = requests.get(url)\n",
        "    response.raise_for_status()\n",
        "\n",
        "    with open(path, 'wb') as f:\n",
        "        f.write(response.content)"
      ]
    },
    {
      "cell_type": "code",
      "execution_count": null,
      "id": "55913503-d71e-4716-bd70-0991125d3702",
      "metadata": {
          "id": "c6097206-f0fd-49ce-9f31-1282b9580ef2"
      },
      "outputs": [],
      "source": [
        "# Set input arguments\n",
        "input_url = 'https://pdftools-public-downloads-production.s3.eu-west-1.amazonaws.com/samples/testfiles/ideas.tiff'\n",
        "input_path = 'ideas.tiff'\n",
        "prepare_file(input_url, input_path)\n",
        "alternate_text = 'Image of creative ideas'\n",
        "output_path = 'IdeasPDFA.pdf'"
      ]
    },
    {
      "cell_type": "code",
      "execution_count": null,
      "id": "bfccc8ea-6a58-492f-94b5-f30bbf7fa4cb",
      "metadata": {
          "id": "f7769c3d-8313-439b-b066-3f19a94a5423"
      },
      "outputs": [],
      "source": [
        "def image_to_pdf(input_path: str, alternate_text: str, output_path: str):\n",
        "    # Open image document\n",
        "    with io.FileIO(input_path, 'rb') as image_stream:\n",
        "        with Document.open(image_stream) as image_document:\n",
        "            # Create the profile that defines the conversion parameters.\n",
        "            # The Archive profile converts images to PDF/A documents for archiving.\n",
        "            profile = Archive()\n",
        "\n",
        "            # Set conformance of output document to PDF/A-2a\n",
        "            profile.conformance = Conformance.PDF_A2_A\n",
        "\n",
        "            # For PDF/A level A, an alternate text is required for each page of the image.\n",
        "            # This is optional for other PDF/A levels, e.g. PDF/A-2b.\n",
        "            profile.language = \"en\"\n",
        "            profile.alternate_text.append(alternate_text)\n",
        "\n",
        "            # Optionally other profile parameters can be changed according to the \n",
        "            # requirements of your conversion process.\n",
        "\n",
        "            # Create output stream\n",
        "            with io.FileIO(output_path, 'wb+') as output_stream:\n",
        "                # Convert the image to a tagged PDF/A document\n",
        "                converter = Converter()\n",
        "                converter.convert(image_document, output_stream, profile)"
      ]
    },
    {
      "cell_type": "code",
      "execution_count": null,
      "id": "8d131d39-01dd-4fbf-bea6-af1611130574",
      "metadata": {
          "id": "81094216-c450-4226-82be-9d90405af12a"
      },
      "outputs": [],
      "source": [
        "try:\n",
        "    # By default, a test license key is active. In this case, a watermark is added to the output. \n",
        "    # If you have a license key, please uncomment the following call and set the license key.\n",
        "    # from pdftools_sdk.sdk import Sdk\n",
        "    # Sdk.initialize(\"INSERT-LICENSE-KEY\")\n",

        "\n",
        "    image_to_pdf(input_path, alternate_text, output_path)\n",

        "\n",
        "    print(f\"Successfully created file {output_path}\")\n",

        "except Exception as e:\n",
        "    print(f\"An error occurred: {e}\")"
      ]
    }
  ],
  "metadata": {
    "kernelspec": {
      "display_name": "Python 3",
      "language": "python",
      "name": "python3"
    },
    "language_info": {
      "codemirror_mode": {
        "name": "ipython",
        "version": 3
      },
      "file_extension": ".py",
      "mimetype": "text/x-python",
      "name": "python",
      "nbconvert_exporter": "python",
      "pygments_lexer": "ipython3",
      "version": "3.12.8"
    },
    "colab": {
      "provenance": []
    }
  },
  "nbformat": 4,
  "nbformat_minor": 5
}