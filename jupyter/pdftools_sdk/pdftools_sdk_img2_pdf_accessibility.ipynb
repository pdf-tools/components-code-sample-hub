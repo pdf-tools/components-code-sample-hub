{
  "cells": [
    {
      "cell_type": "markdown",
      "id": "8ddeebda-4d90-4825-ad37-65af25b9e4aa",
      "metadata": {
          "id": "d60ff84b-cb2f-4498-9eef-525fbf7fbdc0"
      },
      "source": [
        "[![Open In Colab](https://colab.research.google.com/assets/colab-badge.svg)](https://colab.research.google.com/github/pdf-tools/components-code-sample-hub/blob/main/jupyter/pdftools_sdk/pdftools_sdk_img2_pdf_accessibility.ipynb)"
      ]
    },
    {
      "cell_type": "code",
      "execution_count": null,
      "id": "bea90afa-1008-4e7b-8036-50796f048c03",
      "metadata": {
          "id": "5b85139e-0742-410a-aa56-18ad73e04af0"
      },
      "outputs": [],
      "source": [
        "%pip install https://pdftools-public-downloads-production.s3.eu-west-1.amazonaws.com/productkits/PDFSDK/latest/pdftools_sdk-latest.tar.gz\n",
        "%pip install ipython"
      ]
    },
    {
      "cell_type": "markdown",
      "id": "d5cae8ef-d4ce-432c-b664-f1cc7453f09d",
      "metadata": {
          "id": "6c9fdb64-c24a-4f56-af30-30a85a118dfa"
      },
      "source": [
        "# Convert an image to an accessible PDF/A document\n",
        "Convert an image to an accessible PDF/A-2a document.\n",
        "Alternative text is added to the image, as required for\n",
        "PDF/A level A, to ensure accessibility for people with\n",
        "disabilities who use assistive technologies."
      ]
    },
    {
      "cell_type": "code",
      "execution_count": null,
      "id": "f6c5bdba-459f-4ecb-af09-753f71690636",
      "metadata": {
          "id": "2f36ef30-e891-41bc-b5d8-91e69e32a99d"
      },
      "outputs": [],
      "source": [
        "import io\n",
        "from pdftools_sdk.image import Document\n",
        "from pdftools_sdk.pdf import Conformance\n",
        "from pdftools_sdk.image2_pdf import Converter\n",
        "from pdftools_sdk.image2_pdf.profiles import Archive"
      ]
    },
    {
      "cell_type": "code",
      "execution_count": null,
      "id": "55185ba5-a478-4c0a-b9b9-a2a3392c0197",
      "metadata": {
          "id": "5433803c-a2c8-4a0c-81ca-9f5ac7a0d04e"
      },
      "outputs": [],
      "source": [
        "# Download a file from a given URL and save it to the local system\n",
        "def prepare_file(url: str, path: str):\n",
        "    import requests\n",
        "    response = requests.get(url)\n",
        "    response.raise_for_status()\n",
        "\n",
        "    with open(path, 'wb') as f:\n",
        "        f.write(response.content)"
      ]
    },
    {
      "cell_type": "code",
      "execution_count": null,
      "id": "fd72f2c5-e867-4836-840d-393b12f62aae",
      "metadata": {
          "id": "95e6cf6d-bc9b-4bff-91f8-3a64a7d3f27f"
      },
      "outputs": [],
      "source": [
        "# Set input arguments\n",
        "input_url = 'https://pdftools-public-downloads-production.s3.eu-west-1.amazonaws.com/samples/testfiles/ideas.tiff'\n",
        "input_path = 'ideas.tiff'\n",
        "prepare_file(input_url, input_path)\n",
        "alternate_text = 'Image of creative ideas'\n",
        "output_path = 'IdeasPDFA.pdf'"
      ]
    },
    {
      "cell_type": "code",
      "execution_count": null,
      "id": "023ba73c-7bab-4a80-9ab9-12ddd4025532",
      "metadata": {
          "id": "9cd01d7e-51a5-467e-a5ea-419088e85869"
      },
      "outputs": [],
      "source": [
        "def image_to_pdf(input_path: str, alternate_text: str, output_path: str):\n",
        "    # Open image document\n",
        "    with io.FileIO(input_path, 'rb') as image_stream:\n",
        "        with Document.open(image_stream) as image_document:\n",
        "            # Create the profile that defines the conversion parameters.\n",
        "            # The Archive profile converts images to PDF/A documents for archiving.\n",
        "            profile = Archive()\n",
        "\n",
        "            # Set conformance of output document to PDF/A-2a\n",
        "            profile.conformance = Conformance.PDF_A2_A\n",
        "\n",
        "            # For PDF/A level A, an alternate text is required for each page of the image.\n",
        "            # This is optional for other PDF/A levels, e.g. PDF/A-2b.\n",
        "            profile.language = \"en\"\n",
        "            profile.alternate_text.append(alternate_text)\n",
        "\n",
        "            # Optionally other profile parameters can be changed according to the \n",
        "            # requirements of your conversion process.\n",
        "\n",
        "            # Create output stream\n",
        "            with io.FileIO(output_path, 'wb+') as output_stream:\n",
        "                # Convert the image to a tagged PDF/A document\n",
        "                converter = Converter()\n",
        "                converter.convert(image_document, output_stream, profile)"
      ]
    },
    {
      "cell_type": "code",
      "execution_count": null,
      "id": "72c98885-87a2-433d-8329-abf5d950270a",
      "metadata": {
          "id": "36b79fc9-7fb7-4845-9480-7cf56702dd68"
      },
      "outputs": [],
      "source": [
        "try:\n",
        "    # By default, a test license key is active. In this case, a watermark is added to the output. \n",
        "    # If you have a license key, please uncomment the following call and set the license key.\n",
        "    # from pdftools_sdk.sdk import Sdk\n",
        "    # Sdk.initialize(\"<PDFSDK,V1,MGAASQD6L2JMQHL54PK08RQX8GG4SS0M8DAHVPH0VMP3NB8R9DUK>\")\n",

        "\n",
        "    image_to_pdf(input_path, alternate_text, output_path)\n",

        "\n",
        "    print(f\"Successfully created file {output_path}\")\n",

        "except Exception as e:\n",
        "    print(f\"An error occurred: {e}\")"
      ]
    }
  ],
  "metadata": {
    "kernelspec": {
      "display_name": "Python 3",
      "language": "python",
      "name": "python3"
    },
    "language_info": {
      "codemirror_mode": {
        "name": "ipython",
        "version": 3
      },
      "file_extension": ".py",
      "mimetype": "text/x-python",
      "name": "python",
      "nbconvert_exporter": "python",
      "pygments_lexer": "ipython3",
      "version": "3.12.8"
    },
    "colab": {
      "provenance": []
    }
  },
  "nbformat": 4,
  "nbformat_minor": 5
}