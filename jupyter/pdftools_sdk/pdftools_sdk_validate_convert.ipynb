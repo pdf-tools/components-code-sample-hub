{
  "cells": [
    {
      "cell_type": "markdown",
      "id": "77a48934-b16f-476b-b1f7-dcc27787b6ea",
      "metadata": {
          "id": "8cea9fc2-93bd-49bd-834d-7e2c554f6f99"
      },
      "source": [
        "[![Open In Colab](https://colab.research.google.com/assets/colab-badge.svg)](https://colab.research.google.com/github/pdf-tools/components-code-sample-hub/blob/main/jupyter/pdftools_sdk/pdftools_sdk_validate_convert.ipynb)"
      ]
    },
    {
      "cell_type": "code",
      "execution_count": null,
      "id": "fc2a9977-d77c-44c0-abf2-8ebed1a15142",
      "metadata": {
          "id": "90155c0e-769b-48c8-be88-a635f1b07828"
      },
      "outputs": [],
      "source": [
        "%pip install https://pdftools-public-downloads-production.s3.eu-west-1.amazonaws.com/productkits/PDFSDK/latest/pdftools_sdk-latest.tar.gz\n",
        "%pip install ipython"
      ]
    },
    {
      "cell_type": "markdown",
      "id": "274d6ac1-14ac-4af8-a699-7f5e4a7a7953",
      "metadata": {
          "id": "3169e2d6-ffb4-4756-b90d-39aeff4aa400"
      },
      "source": [
        "# Convert a PDF to PDF/A-2b if necessary\n",
        "Analyze the input PDF document. If it does not yet\n",
        "conform to PDF/A-2b, convert it to PDF/A-2b."
      ]
    },
    {
      "cell_type": "code",
      "execution_count": null,
      "id": "d44bc270-b355-41ff-b05c-0ce797fe5b61",
      "metadata": {
          "id": "f023e851-7e7d-45d7-a580-ee0fef8d4772"
      },
      "outputs": [],
      "source": [
        "import io\n",
        "from pdftools_sdk.pdf import Document, Conformance\n",
        "from pdftools_sdk.pdf_a.conversion import Converter, EventSeverity, EventCategory, EventCode\n",
        "from pdftools_sdk.pdf_a.validation import AnalysisOptions, Validator"
      ]
    },
    {
      "cell_type": "code",
      "execution_count": null,
      "id": "7a81bd6a-d927-45f6-870d-4af0e4f3fbf5",
      "metadata": {
          "id": "98dfb72d-ab94-46e1-869e-cf1a6c3081c2"
      },
      "outputs": [],
      "source": [
        "# Download a file from a given URL and save it to the local system\n",
        "def prepare_file(url: str, path: str):\n",
        "    import requests\n",
        "    response = requests.get(url)\n",
        "    response.raise_for_status()\n",
        "\n",
        "    with open(path, 'wb') as f:\n",
        "        f.write(response.content)"
      ]
    },
    {
      "cell_type": "code",
      "execution_count": null,
      "id": "83c15f9d-cbd9-47bc-ac4e-f34a9a29ca17",
      "metadata": {
          "id": "ea1e240e-ee94-4b41-808e-0b9c511c5f91"
      },
      "outputs": [],
      "source": [
        "# Set input arguments\n",
        "input_url = 'https://pdftools-public-downloads-production.s3.eu-west-1.amazonaws.com/samples/testfiles/PdfPrimerWhitepaper.pdf'\n",
        "input_file_path = 'PdfPrimerWhitepaper.pdf'\n",
        "prepare_file(input_url, input_file_path)\n",
        "output_file_path = 'ConvertedToPDFA2b.pdf'\n",
        "conformance = Conformance.PDF_A2_B"
      ]
    },
    {
      "cell_type": "code",
      "execution_count": null,
      "id": "f314d53f-b4ae-4154-af0c-cb38163d44b8",
      "metadata": {
          "id": "ce269bea-f576-4859-97ab-b3d77463159e"
      },
      "outputs": [],
      "source": [
        "def convert_if_not_conforming(input_file_path: str, output_file_path: str, conformance: Conformance):\n",
        "    with io.FileIO(input_file_path, 'rb') as in_stream:\n",
        "        with Document.open(in_stream) as input_document:\n",
        "\n",
        "            # Create the Validator object, and use the Conformance object to create\n",
        "            # an AnalysisOptions object that controls the behavior of the Validator.\n",
        "            validator = Validator()\n",
        "            analysis_options = AnalysisOptions()\n",
        "            analysis_options.conformance = conformance\n",
        "\n",
        "            # Run the analysis, and check the results.\n",
        "            # Only proceed if document is not conforming.\n",
        "            analysis_result = validator.analyze(input_document, analysis_options)\n",
        "            if analysis_result.is_conforming:\n",
        "                print(f\"Document conforms to {input_document.conformance.name} already.\")\n",
        "                return\n",
        "\n",
        "            # Create a converter object\n",
        "            converter = Converter()\n",
        "\n",
        "            # Add handler for conversion events\n",
        "            converter.add_conversion_event_handler(event_handler)\n",
        "\n",
        "            with io.FileIO(output_file_path, 'wb+') as output_stream:\n",
        "\n",
        "                # Convert the input document to PDF/A using the converter object\n",
        "                # and its conversion event handler\n",
        "                output_document = converter.convert(analysis_result, input_document, output_stream, None)\n",
        "\n",
        "                # Check if critical conversion events occurred\n",
        "                match events_severity:\n",
        "                    case EventSeverity.INFORMATION:\n",
        "                        print(f\"Successfully converted document to {output_document.conformance.name}.\")\n",
        "\n",
        "                    case EventSeverity.WARNING:\n",
        "                        print(f\"Warnings occurred during the conversion of document to {output_document.conformance.name}.\")\n",
        "                        print(\"Check the output file to decide if the result is acceptable.\")\n",
        "\n",
        "                    case EventSeverity.ERROR:\n",
        "                        raise Exception(f\"Unable to convert document to {conformance.name} because of critical conversion events.\")"
      ]
    },
    {
      "cell_type": "code",
      "execution_count": null,
      "id": "6bc6bbf9-0840-4394-a7f8-527c665c6a45",
      "metadata": {
          "id": "3308e80b-5a77-408a-93d1-24a6514a22fa"
      },
      "outputs": [],
      "source": [
        "def event_handler(data_part: str, message: str, severity: EventSeverity, category: EventCategory, code: EventCode, context_info: str, page_no: int):\n",
        "    # Get the event's suggested severity\n",
        "    suggested_severity = severity\n",
        "\n",
        "    # Optionally, the suggested severity can be changed according to\n",
        "    # the requirements of your conversion process and, for example,\n",
        "    # the event's category.\n",
        "\n",
        "    global events_severity\n",
        "\n",
        "    if suggested_severity > events_severity:\n",
        "        events_severity = suggested_severity\n",
        "\n",
        "    # Report conversion event\n",
        "    if suggested_severity == EventSeverity.INFORMATION:\n",
        "        severity_char = 'I'\n",
        "    elif suggested_severity == EventSeverity.WARNING:\n",
        "        severity_char = 'W'\n",
        "    else:\n",
        "        severity_char = 'E'\n",
        "\n",
        "    if page_no > 0:\n",
        "        print(f\"- {severity_char} {category.name}: {message} ({context_info} on page {page_no})\")\n",
        "    else:\n",
        "        print(f\"- {severity_char} {category.name}: {message} ({context_info})\")"
      ]
    },
    {
      "cell_type": "code",
      "execution_count": null,
      "id": "7864912a-9dfd-451a-bf23-7926719566f4",
      "metadata": {
          "id": "cae84c12-25fc-4460-8ff7-b0fc6e7df240"
      },
      "outputs": [],
      "source": [
        "try:\n",
        "    # By default, a test license key is active. In this case, a watermark is added to the output. \n",
        "    # If you have a license key, please uncomment the following call and set the license key.\n",
        "    # from pdftools_sdk.sdk import Sdk\n",
        "    # Sdk.initialize(\"INSERT-LICENSE-KEY\")\n",

        "\n",
        "    # Define global events_severity\n",
        "    events_severity = EventSeverity.INFORMATION\n",
        "    convert_if_not_conforming(input_file_path, output_file_path, conformance)\n",

        "\n",
        "    print(f\"Successfully created file {output_file_path}\")\n",

        "except Exception as e:\n",
        "    print(f\"An error occurred: {e}\")"
      ]
    }
  ],
  "metadata": {
    "kernelspec": {
      "display_name": "Python 3",
      "language": "python",
      "name": "python3"
    },
    "language_info": {
      "codemirror_mode": {
        "name": "ipython",
        "version": 3
      },
      "file_extension": ".py",
      "mimetype": "text/x-python",
      "name": "python",
      "nbconvert_exporter": "python",
      "pygments_lexer": "ipython3",
      "version": "3.12.8"
    },
    "colab": {
      "provenance": []
    }
  },
  "nbformat": 4,
  "nbformat_minor": 5
}