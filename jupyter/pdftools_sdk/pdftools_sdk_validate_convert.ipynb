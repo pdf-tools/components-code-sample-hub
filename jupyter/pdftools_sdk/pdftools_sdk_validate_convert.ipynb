{
  "cells": [
    {
      "cell_type": "markdown",
      "id": "06f5cd6b-0d85-442c-91c1-2bccfdffddd6",
      "metadata": {
          "id": "8bfcefb5-f3e0-4bc7-9b1a-ca0df18bd326"
      },
      "source": [
        "[![Open In Colab](https://colab.research.google.com/assets/colab-badge.svg)](https://colab.research.google.com/github/pdf-tools/components-code-sample-hub/blob/main/jupyter/pdftools_sdk/pdftools_sdk_validate_convert.ipynb)"
      ]
    },
    {
      "cell_type": "code",
      "execution_count": null,
      "id": "50914365-3d46-434e-8ab6-792fe9b7bae7",
      "metadata": {
          "id": "d6b11cf5-a31a-48e1-b4ff-e7a59b8419d1"
      },
      "outputs": [],
      "source": [
        "%pip install https://pdftools-public-downloads-production.s3.eu-west-1.amazonaws.com/productkits/PDFSDK/latest/pdftools_sdk-latest.tar.gz\n",
        "%pip install ipython"
      ]
    },
    {
      "cell_type": "markdown",
      "id": "69ea86fa-646b-4971-ab20-52e0c7f9972d",
      "metadata": {
          "id": "c1fa438e-63d4-4603-b690-f135b561b048"
      },
      "source": [
        "# Convert a PDF to PDF/A-2b if necessary\n",
        "Analyze the input PDF document. If it does not yet\n",
        "conform to PDF/A-2b, convert it to PDF/A-2b."
      ]
    },
    {
      "cell_type": "code",
      "execution_count": null,
      "id": "94ebfe86-4eff-4cc0-a029-1c6d4dced0ca",
      "metadata": {
          "id": "129da3d4-c733-4916-b820-74eaaf7e066c"
      },
      "outputs": [],
      "source": [
        "import io\n",
        "from pdftools_sdk.pdf import Document, Conformance\n",
        "from pdftools_sdk.pdf_a.conversion import Converter, EventSeverity, EventCategory, EventCode\n",
        "from pdftools_sdk.pdf_a.validation import AnalysisOptions, Validator"
      ]
    },
    {
      "cell_type": "code",
      "execution_count": null,
      "id": "460f69ee-cd39-4cdc-9441-e50290d2936b",
      "metadata": {
          "id": "e06aa1e6-92d7-49f3-a74a-3c21f72cfcce"
      },
      "outputs": [],
      "source": [
        "# Download a file from a given URL and save it to the local system\n",
        "def prepare_file(url: str, path: str):\n",
        "    import requests\n",
        "    response = requests.get(url)\n",
        "    response.raise_for_status()\n",
        "\n",
        "    with open(path, 'wb') as f:\n",
        "        f.write(response.content)"
      ]
    },
    {
      "cell_type": "code",
      "execution_count": null,
      "id": "9306587e-d39d-46dd-b98d-747e8f630579",
      "metadata": {
          "id": "88d1cb4d-0234-4c69-af79-f24bf8b5eb8b"
      },
      "outputs": [],
      "source": [
        "# Set input arguments\n",
        "input_url = 'https://pdftools-public-downloads-production.s3.eu-west-1.amazonaws.com/samples/testfiles/PdfPrimerWhitepaper.pdf'\n",
        "input_file_path = 'PdfPrimerWhitepaper.pdf'\n",
        "prepare_file(input_url, input_file_path)\n",
        "output_file_path = 'ConvertedToPDFA2b.pdf'\n",
        "conformance = Conformance.PDF_A2_B"
      ]
    },
    {
      "cell_type": "code",
      "execution_count": null,
      "id": "1f30c5aa-3ba3-4ac9-b8cb-dc5373b27eaa",
      "metadata": {
          "id": "36fec183-3d3e-42de-8bba-7fea841c1953"
      },
      "outputs": [],
      "source": [
        "def convert_if_not_conforming(input_file_path: str, output_file_path: str, conformance: Conformance):\n",
        "    with io.FileIO(input_file_path, 'rb') as in_stream:\n",
        "        with Document.open(in_stream) as input_document:\n",
        "\n",
        "            # Create the Validator object, and use the Conformance object to create\n",
        "            # an AnalysisOptions object that controls the behavior of the Validator.\n",
        "            validator = Validator()\n",
        "            analysis_options = AnalysisOptions()\n",
        "            analysis_options.conformance = conformance\n",
        "\n",
        "            # Run the analysis, and check the results.\n",
        "            # Only proceed if document is not conforming.\n",
        "            analysis_result = validator.analyze(input_document, analysis_options)\n",
        "            if analysis_result.is_conforming:\n",
        "                print(f\"Document conforms to {input_document.conformance.name} already.\")\n",
        "                return\n",
        "\n",
        "            # Create a converter object\n",
        "            converter = Converter()\n",
        "\n",
        "            # Add handler for conversion events\n",
        "            converter.add_conversion_event_handler(event_handler)\n",
        "\n",
        "            with io.FileIO(output_file_path, 'wb+') as output_stream:\n",
        "\n",
        "                # Convert the input document to PDF/A using the converter object\n",
        "                # and its conversion event handler\n",
        "                output_document = converter.convert(analysis_result, input_document, output_stream, None)\n",
        "\n",
        "                # Check if critical conversion events occurred\n",
        "                match events_severity:\n",
        "                    case EventSeverity.INFORMATION:\n",
        "                        print(f\"Successfully converted document to {output_document.conformance.name}.\")\n",
        "\n",
        "                    case EventSeverity.WARNING:\n",
        "                        print(f\"Warnings occurred during the conversion of document to {output_document.conformance.name}.\")\n",
        "                        print(\"Check the output file to decide if the result is acceptable.\")\n",
        "\n",
        "                    case EventSeverity.ERROR:\n",
        "                        raise Exception(f\"Unable to convert document to {conformance.name} because of critical conversion events.\")"
      ]
    },
    {
      "cell_type": "code",
      "execution_count": null,
      "id": "4944d86c-c64f-4d22-aed8-31b48bb17d20",
      "metadata": {
          "id": "44452d3b-f753-4815-a593-40cb2b5a8343"
      },
      "outputs": [],
      "source": [
        "def event_handler(data_part: str, message: str, severity: EventSeverity, category: EventCategory, code: EventCode, context_info: str, page_no: int):\n",
        "    # Get the event's suggested severity\n",
        "    suggested_severity = severity\n",
        "\n",
        "    # Optionally, the suggested severity can be changed according to\n",
        "    # the requirements of your conversion process and, for example,\n",
        "    # the event's category.\n",
        "\n",
        "    global events_severity\n",
        "\n",
        "    if suggested_severity > events_severity:\n",
        "        events_severity = suggested_severity\n",
        "\n",
        "    # Report conversion event\n",
        "    if suggested_severity == EventSeverity.INFORMATION:\n",
        "        severity_char = 'I'\n",
        "    elif suggested_severity == EventSeverity.WARNING:\n",
        "        severity_char = 'W'\n",
        "    else:\n",
        "        severity_char = 'E'\n",
        "\n",
        "    if page_no > 0:\n",
        "        print(f\"- {severity_char} {category.name}: {message} ({context_info} on page {page_no})\")\n",
        "    else:\n",
        "        print(f\"- {severity_char} {category.name}: {message} ({context_info})\")"
      ]
    },
    {
      "cell_type": "code",
      "execution_count": null,
      "id": "959bd826-076e-413a-8bbf-d5c7ccadf760",
      "metadata": {
          "id": "6ef2ff46-e256-4096-b34d-52c947b663fd"
      },
      "outputs": [],
      "source": [
        "try:\n",
        "    # By default, a test license key is active. In this case, a watermark is added to the output. \n",
        "    # If you have a license key, please uncomment the following call and set the license key.\n",
        "    # from pdftools_sdk.sdk import Sdk\n",
        "    # Sdk.initialize(\"INSERT-LICENSE-KEY\")\n",

        "\n",
        "    # Define global events_severity\n",
        "    events_severity = EventSeverity.INFORMATION\n",
        "    convert_if_not_conforming(input_file_path, output_file_path, conformance)\n",

        "\n",
        "    print(f\"Successfully created file {output_file_path}\")\n",

        "except Exception as e:\n",
        "    print(f\"An error occurred: {e}\")"
      ]
    }
  ],
  "metadata": {
    "kernelspec": {
      "display_name": "Python 3",
      "language": "python",
      "name": "python3"
    },
    "language_info": {
      "codemirror_mode": {
        "name": "ipython",
        "version": 3
      },
      "file_extension": ".py",
      "mimetype": "text/x-python",
      "name": "python",
      "nbconvert_exporter": "python",
      "pygments_lexer": "ipython3",
      "version": "3.12.8"
    },
    "colab": {
      "provenance": []
    }
  },
  "nbformat": 4,
  "nbformat_minor": 5
}