{
  "cells": [
    {
      "cell_type": "markdown",
      "id": "7a93dfd1-f9fe-4dce-8f52-eadde4ccdc14",
      "metadata": {
          "id": "4c9ac58b-4f35-4a85-a731-64c9e00d4ff2"
      },
      "source": [
        "[![Open In Colab](https://colab.research.google.com/assets/colab-badge.svg)](https://colab.research.google.com/github/pdf-tools/components-code-sample-hub/blob/main/jupyter/pdftools_sdk/pdftools_sdk_validate_convert.ipynb)"
      ]
    },
    {
      "cell_type": "code",
      "execution_count": null,
      "id": "b61ffea0-8ad1-4346-9739-2b1bfd553aa4",
      "metadata": {
          "id": "286a9705-2b19-47b6-87da-af0ce9641b61"
      },
      "outputs": [],
      "source": [
        "%pip install pdftools_sdk\n",
        "%pip install ipython"
      ]
    },
    {
      "cell_type": "markdown",
      "id": "91d955c5-db9c-41c9-b0b4-5edec0990be1",
      "metadata": {
          "id": "5bdc3b9e-ac38-4955-a6f4-11e9fca4c7db"
      },
      "source": [
        "# Convert a PDF to PDF/A-2b if necessary\n",
        "Analyze the input PDF document. If it does not yet\n",
        "conform to PDF/A-2b, convert it to PDF/A-2b."
      ]
    },
    {
      "cell_type": "code",
      "execution_count": null,
      "id": "f228138b-58d0-478e-af6e-3ab2218341c2",
      "metadata": {
          "id": "11eb67c3-5112-4cdb-8c17-1269b0346f68"
      },
      "outputs": [],
      "source": [
        "import io\n",
        "from pdftools_sdk.pdf import Document, Conformance\n",
        "from pdftools_sdk.pdf_a.conversion import Converter, EventSeverity, EventCategory, EventCode\n",
        "from pdftools_sdk.pdf_a.validation import AnalysisOptions, Validator"
      ]
    },
    {
      "cell_type": "code",
      "execution_count": null,
      "id": "33d076a0-3b42-4a48-a1cb-6596060546ef",
      "metadata": {
          "id": "143fe945-74bb-4067-8740-980e15b846c0"
      },
      "outputs": [],
      "source": [
        "# Download a file from a given URL and save it to the local system\n",
        "def prepare_file(url: str, path: str):\n",
        "    import requests\n",
        "    response = requests.get(url)\n",
        "    response.raise_for_status()\n",
        "\n",
        "    with open(path, 'wb') as f:\n",
        "        f.write(response.content)"
      ]
    },
    {
      "cell_type": "code",
      "execution_count": null,
      "id": "220c2705-3b85-4b53-aa96-c9330dbf7573",
      "metadata": {
          "id": "ad71c8a0-9ad5-4069-8677-e26197e42fc1"
      },
      "outputs": [],
      "source": [
        "# Set input arguments\n",
        "input_url = 'https://pdftools-public-downloads-production.s3.eu-west-1.amazonaws.com/samples/testfiles/PdfPrimerWhitepaper.pdf'\n",
        "input_file_path = 'PdfPrimerWhitepaper.pdf'\n",
        "prepare_file(input_url, input_file_path)\n",
        "output_file_path = 'ConvertedToPDFA2b.pdf'\n",
        "conformance = Conformance.PDF_A2_B"
      ]
    },
    {
      "cell_type": "code",
      "execution_count": null,
      "id": "b3a2d0be-391f-4f2a-a210-4d00e261022f",
      "metadata": {
          "id": "9fff6d17-a825-471a-904f-b5e50e4f676b"
      },
      "outputs": [],
      "source": [
        "def convert_if_not_conforming(input_file_path: str, output_file_path: str, conformance: Conformance):\n",
        "    with io.FileIO(input_file_path, 'rb') as in_stream:\n",
        "        with Document.open(in_stream) as input_document:\n",
        "\n",
        "            # Create the Validator object, and use the Conformance object to create\n",
        "            # an AnalysisOptions object that controls the behavior of the Validator.\n",
        "            validator = Validator()\n",
        "            analysis_options = AnalysisOptions()\n",
        "            analysis_options.conformance = conformance\n",
        "\n",
        "            # Run the analysis, and check the results.\n",
        "            # Only proceed if document is not conforming.\n",
        "            analysis_result = validator.analyze(input_document, analysis_options)\n",
        "            if analysis_result.is_conforming:\n",
        "                print(f\"Document conforms to {input_document.conformance.name} already.\")\n",
        "                return\n",
        "\n",
        "            # Create a converter object\n",
        "            converter = Converter()\n",
        "\n",
        "            # Add handler for conversion events\n",
        "            converter.add_conversion_event_handler(event_handler)\n",
        "\n",
        "            with io.FileIO(output_file_path, 'wb+') as output_stream:\n",
        "\n",
        "                # Convert the input document to PDF/A using the converter object\n",
        "                # and its conversion event handler\n",
        "                output_document = converter.convert(analysis_result, input_document, output_stream, None)\n",
        "\n",
        "                # Check if critical conversion events occurred\n",
        "                match events_severity:\n",
        "                    case EventSeverity.INFORMATION:\n",
        "                        print(f\"Successfully converted document to {output_document.conformance.name}.\")\n",
        "\n",
        "                    case EventSeverity.WARNING:\n",
        "                        print(f\"Warnings occurred during the conversion of document to {output_document.conformance.name}.\")\n",
        "                        print(\"Check the output file to decide if the result is acceptable.\")\n",
        "\n",
        "                    case EventSeverity.ERROR:\n",
        "                        raise Exception(f\"Unable to convert document to {conformance.name} because of critical conversion events.\")"
      ]
    },{
      "cell_type": "code",
      "execution_count": null,
      "id": "7943c3f5-1746-4e5b-a2cb-b432ca32c9b2",
      "metadata": {
          "id": "1f32044b-d4d5-4a78-a87d-d6c4b067d088"
      },
      "outputs": [],
      "source": [
        "def event_handler(data_part: str, message: str, severity: EventSeverity, category: EventCategory, code: EventCode, context_info: str, page_no: int):\n",
        "    # Get the event's suggested severity\n",
        "    suggested_severity = severity\n",
        "\n",
        "    # Optionally, the suggested severity can be changed according to\n",
        "    # the requirements of your conversion process and, for example,\n",
        "    # the event's category.\n",
        "\n",
        "    global events_severity\n",
        "\n",
        "    if suggested_severity > events_severity:\n",
        "        events_severity = suggested_severity\n",
        "\n",
        "    # Report conversion event\n",
        "    if suggested_severity == EventSeverity.INFORMATION:\n",
        "        severity_char = 'I'\n",
        "    elif suggested_severity == EventSeverity.WARNING:\n",
        "        severity_char = 'W'\n",
        "    else:\n",
        "        severity_char = 'E'\n",
        "\n",
        "    if page_no > 0:\n",
        "        print(f\"- {severity_char} {category.name}: {message} ({context_info} on page {page_no})\")\n",
        "    else:\n",
        "        print(f\"- {severity_char} {category.name}: {message} ({context_info})\")"
      ]
    },
    {
      "cell_type": "code",
      "execution_count": null,
      "id": "1b75fefa-e8e7-4b7c-b69b-46226daf327e",
      "metadata": {
          "id": "30038f78-36f3-4e97-9ee9-2d3811df9c33"
      },
      "outputs": [],
      "source": [
        "try:\n",
        "    # By default, a test license key is active. In this case, a watermark is added to the output. \n",
        "    # If you have a license key, please uncomment the following call and set the license key.\n",
        "    # from pdftools_sdk.sdk import Sdk\n",
        "    # Sdk.initialize(\"INSERT-LICENSE-KEY\")\n",

        "\n",
        "    # Define global events_severity\n",
        "    events_severity = EventSeverity.INFORMATION\n",
        "    convert_if_not_conforming(input_file_path, output_file_path, conformance)\n",

        "\n",
        "    print(f\"Successfully created file {output_file_path}\")\n",

        "except Exception as e:\n",
        "    print(f\"An error occurred: {e}\")"
      ]
    }
  ],
  "metadata": {
    "kernelspec": {
      "display_name": "Python 3",
      "language": "python",
      "name": "python3"
    },
    "language_info": {
      "codemirror_mode": {
        "name": "ipython",
        "version": 3
      },
      "file_extension": ".py",
      "mimetype": "text/x-python",
      "name": "python",
      "nbconvert_exporter": "python",
      "pygments_lexer": "ipython3",
      "version": "3.12.8"
    },
    "colab": {
      "provenance": []
    }
  },
  "nbformat": 4,
  "nbformat_minor": 5
}