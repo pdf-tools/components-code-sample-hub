{
  "cells": [
    {
      "cell_type": "markdown",
      "id": "4ddf6590-39bc-4090-b1ce-cf2116c7bdb6",
      "metadata": {
          "id": "89866109-1fea-4063-a3e7-e70d1bbc5f41"
      },
      "source": [
        "[![Open In Colab](https://colab.research.google.com/assets/colab-badge.svg)](https://colab.research.google.com/github/pdf-tools/components-code-sample-hub/blob/main/jupyter/pdftools_sdk/pdftools_sdk_validate_convert.ipynb)"
      ]
    },
    {
      "cell_type": "code",
      "execution_count": null,
      "id": "b1672cf6-7c07-4e47-b7ea-e37a56995b29",
      "metadata": {
          "id": "8e463db9-3d25-40a3-9159-2e703152706e"
      },
      "outputs": [],
      "source": [
        "%pip install https://pdftools-public-downloads-production.s3.eu-west-1.amazonaws.com/productkits/PDFSDK/latest/pdftools_sdk-latest.tar.gz\n",
        "%pip install ipython"
      ]
    },
    {
      "cell_type": "markdown",
      "id": "ced9b3a8-efd7-4c00-805f-61cb593fa508",
      "metadata": {
          "id": "b6e2eadf-1012-41f4-9fb7-230f00b3086e"
      },
      "source": [
        "# Convert a PDF to PDF/A-2b if necessary\n",
        "Analyze the input PDF document. If it does not yet\n",
        "conform to PDF/A-2b, convert it to PDF/A-2b."
      ]
    },
    {
      "cell_type": "code",
      "execution_count": null,
      "id": "f5c0c2b1-64d7-461b-95bd-608717236f90",
      "metadata": {
          "id": "3db25b00-e289-403d-93f6-af5f12606fbb"
      },
      "outputs": [],
      "source": [
        "import io\n",
        "from pdftools_sdk.pdf import Document, Conformance\n",
        "from pdftools_sdk.pdf_a.conversion import Converter, EventSeverity, EventCategory, EventCode\n",
        "from pdftools_sdk.pdf_a.validation import AnalysisOptions, Validator"
      ]
    },
    {
      "cell_type": "code",
      "execution_count": null,
      "id": "41c05439-d7cc-4edf-b2d9-70201dafb62a",
      "metadata": {
          "id": "e6b5b300-9a77-486c-bc7d-696515e6c5cb"
      },
      "outputs": [],
      "source": [
        "# Download a file from a given URL and save it to the local system\n",
        "def prepare_file(url: str, path: str):\n",
        "    import requests\n",
        "    response = requests.get(url)\n",
        "    response.raise_for_status()\n",
        "\n",
        "    with open(path, 'wb') as f:\n",
        "        f.write(response.content)"
      ]
    },
    {
      "cell_type": "code",
      "execution_count": null,
      "id": "78fcf2a2-674f-44ab-af93-6172c5ef0b56",
      "metadata": {
          "id": "942d3ab5-8db2-4ad9-b3ca-09b5ee39e96a"
      },
      "outputs": [],
      "source": [
        "# Set input arguments\n",
        "input_url = 'https://pdftools-public-downloads-production.s3.eu-west-1.amazonaws.com/samples/testfiles/PdfPrimerWhitepaper.pdf'\n",
        "input_file_path = 'PdfPrimerWhitepaper.pdf'\n",
        "prepare_file(input_url, input_file_path)\n",
        "output_file_path = 'ConvertedToPDFA2b.pdf'\n",
        "conformance = Conformance.PDF_A2_B"
      ]
    },
    {
      "cell_type": "code",
      "execution_count": null,
      "id": "20899889-2b48-4952-8b5e-e119f7cc8988",
      "metadata": {
          "id": "a188efd6-2518-4a3f-b9a3-b9d4de70140a"
      },
      "outputs": [],
      "source": [
        "def convert_if_not_conforming(input_file_path: str, output_file_path: str, conformance: Conformance):\n",
        "    with io.FileIO(input_file_path, 'rb') as in_stream:\n",
        "        with Document.open(in_stream) as input_document:\n",
        "\n",
        "            # Create the Validator object, and use the Conformance object to create\n",
        "            # an AnalysisOptions object that controls the behavior of the Validator.\n",
        "            validator = Validator()\n",
        "            analysis_options = AnalysisOptions()\n",
        "            analysis_options.conformance = conformance\n",
        "\n",
        "            # Run the analysis, and check the results.\n",
        "            # Only proceed if document is not conforming.\n",
        "            analysis_result = validator.analyze(input_document, analysis_options)\n",
        "            if analysis_result.is_conforming:\n",
        "                print(f\"Document conforms to {input_document.conformance.name} already.\")\n",
        "                return\n",
        "\n",
        "            # Create a converter object\n",
        "            converter = Converter()\n",
        "\n",
        "            # Add handler for conversion events\n",
        "            converter.add_conversion_event_handler(event_handler)\n",
        "\n",
        "            with io.FileIO(output_file_path, 'wb+') as output_stream:\n",
        "\n",
        "                # Convert the input document to PDF/A using the converter object\n",
        "                # and its conversion event handler\n",
        "                output_document = converter.convert(analysis_result, input_document, output_stream, None)\n",
        "\n",
        "                # Check if critical conversion events occurred\n",
        "                match events_severity:\n",
        "                    case EventSeverity.INFORMATION:\n",
        "                        print(f\"Successfully converted document to {output_document.conformance.name}.\")\n",
        "\n",
        "                    case EventSeverity.WARNING:\n",
        "                        print(f\"Warnings occurred during the conversion of document to {output_document.conformance.name}.\")\n",
        "                        print(\"Check the output file to decide if the result is acceptable.\")\n",
        "\n",
        "                    case EventSeverity.ERROR:\n",
        "                        raise Exception(f\"Unable to convert document to {conformance.name} because of critical conversion events.\")"
      ]
    },
    {
      "cell_type": "code",
      "execution_count": null,
      "id": "bf9a73d5-02a9-4eef-9aee-fc7d8781ac95",
      "metadata": {
          "id": "39559287-e74e-4fa1-a64c-a0e024299b39"
      },
      "outputs": [],
      "source": [
        "def event_handler(data_part: str, message: str, severity: EventSeverity, category: EventCategory, code: EventCode, context_info: str, page_no: int):\n",
        "    # Get the event's suggested severity\n",
        "    suggested_severity = severity\n",
        "\n",
        "    # Optionally, the suggested severity can be changed according to\n",
        "    # the requirements of your conversion process and, for example,\n",
        "    # the event's category.\n",
        "\n",
        "    global events_severity\n",
        "\n",
        "    if suggested_severity > events_severity:\n",
        "        events_severity = suggested_severity\n",
        "\n",
        "    # Report conversion event\n",
        "    if suggested_severity == EventSeverity.INFORMATION:\n",
        "        severity_char = 'I'\n",
        "    elif suggested_severity == EventSeverity.WARNING:\n",
        "        severity_char = 'W'\n",
        "    else:\n",
        "        severity_char = 'E'\n",
        "\n",
        "    if page_no > 0:\n",
        "        print(f\"- {severity_char} {category.name}: {message} ({context_info} on page {page_no})\")\n",
        "    else:\n",
        "        print(f\"- {severity_char} {category.name}: {message} ({context_info})\")"
      ]
    },
    {
      "cell_type": "code",
      "execution_count": null,
      "id": "f60aec95-d0fe-4e63-a859-2703e247e26c",
      "metadata": {
          "id": "def88f44-225f-4785-af75-a3577c96a26e"
      },
      "outputs": [],
      "source": [
        "try:\n",
        "    # By default, a test license key is active. In this case, a watermark is added to the output. \n",
        "    # If you have a license key, please uncomment the following call and set the license key.\n",
        "    # from pdftools_sdk.sdk import Sdk\n",
        "    # Sdk.initialize(\"<PDFSDK,V1,MGAASQD6L2JMQHL54PK08RQX8GG4SS0M8DAHVPH0VMP3NB8R9DUK>\")\n",

        "\n",
        "    # Define global events_severity\n",
        "    events_severity = EventSeverity.INFORMATION\n",
        "    convert_if_not_conforming(input_file_path, output_file_path, conformance)\n",

        "\n",
        "    print(f\"Successfully created file {output_file_path}\")\n",

        "except Exception as e:\n",
        "    print(f\"An error occurred: {e}\")"
      ]
    }
  ],
  "metadata": {
    "kernelspec": {
      "display_name": "Python 3",
      "language": "python",
      "name": "python3"
    },
    "language_info": {
      "codemirror_mode": {
        "name": "ipython",
        "version": 3
      },
      "file_extension": ".py",
      "mimetype": "text/x-python",
      "name": "python",
      "nbconvert_exporter": "python",
      "pygments_lexer": "ipython3",
      "version": "3.12.8"
    },
    "colab": {
      "provenance": []
    }
  },
  "nbformat": 4,
  "nbformat_minor": 5
}