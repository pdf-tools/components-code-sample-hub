{
  "cells": [
    {
      "cell_type": "markdown",
      "id": "b113fd16-3734-47da-b1b6-c15fc1b45157",
      "metadata": {
          "id": "a166fa48-d58c-4936-8465-42e68a3e32f9"
      },
      "source": [
        "[![Open In Colab](https://colab.research.google.com/assets/colab-badge.svg)](https://colab.research.google.com/github/pdf-tools/components-code-sample-hub/blob/main/jupyter/pdftools_toolbox/pdftools_toolbox_fit_page.ipynb)"
      ]
    },
    {
      "cell_type": "code",
      "execution_count": null,
      "id": "b1db69f3-5317-48c8-800c-2c58e03db39a",
      "metadata": {
          "id": "09c59ac8-cbc5-40fa-9761-fe8fe7bce763"
      },
      "outputs": [],
      "source": [
        "%pip install https://pdftools-public-downloads-production.s3.eu-west-1.amazonaws.com/productkits/PDFSDKXT/latest/pdftools_toolbox-latest.tar.gz\n",
        "%pip install ipython"
      ]
    },
    {
      "cell_type": "markdown",
      "id": "74bc15d3-256c-4da3-b141-1c2312ae2f26",
      "metadata": {
          "id": "d7719c1c-a0fd-4fb2-8362-767b5a9a4af8"
      },
      "source": [
        "# Fit pages to specific page format\n",
        "Fit each page of a PDF document to a specific page\n",
        "format."
      ]
    },
    {
      "cell_type": "code",
      "execution_count": null,
      "id": "eeda21b0-0bdf-40f6-af3a-a5b915a3867a",
      "metadata": {
          "id": "c6e8dd0b-4a06-435f-b9ef-e9cbc02d7d39"
      },
      "outputs": [],
      "source": [
        "import io\n",
        "from pdftools_toolbox.geometry.real import Size, Point, AffineTransform\n",
        "from pdftools_toolbox.pdf import Document, FileReference, Metadata, Page, PageCopyOptions\n",
        "from pdftools_toolbox.pdf.content import ContentGenerator, Group, IccBasedColorSpace\n",
        "from pdftools_toolbox.pdf.navigation import ViewerSettings"
      ]
    },
    {
      "cell_type": "code",
      "execution_count": null,
      "id": "2018309a-becd-4e14-8052-0a9e5d48bdc3",
      "metadata": {
          "id": "433ff18c-ba09-40e8-b347-7cf888ba89c3"
      },
      "outputs": [],
      "source": [
        "# Download a file from a given URL and save it to the local system\n",
        "def prepare_file(url: str, path: str):\n",
        "    import requests\n",
        "    response = requests.get(url)\n",
        "    response.raise_for_status()\n",
        "\n",
        "    with open(path, 'wb') as f:\n",
        "        f.write(response.content)"
      ]
    },
    {
      "cell_type": "code",
      "execution_count": null,
      "id": "512b90cd-cd77-4e76-8a0d-4ba00e105c43",
      "metadata": {
          "id": "05a5bc43-8763-4c99-9ded-0e961f26eca1"
      },
      "outputs": [],
      "source": [
        "# Set input arguments\n",
        "input_url = 'https://pdftools-public-downloads-production.s3.eu-west-1.amazonaws.com/samples/testfiles/GraphicsSmallPage.pdf'\n",
        "input_file_path = 'GraphicsSmallPage.pdf'\n",
        "prepare_file(input_url, input_file_path)\n",
        "output_file_path = 'GraphicsA4.pdf'"
      ]
    },
    {
      "cell_type": "code",
      "execution_count": null,
      "id": "acf76ff6-c082-4895-b733-371db16a21f9",
      "metadata": {
          "id": "9a44a16f-4dfd-416b-a942-755ef49bc6bd"
      },
      "outputs": [],
      "source": [
        "def copy_document_data(in_doc: Document, out_doc: Document):\n",
        "    # Copy document-wide data\n",
        "\n",
        "    # Output intent\n",
        "    if in_doc.output_intent is not None:\n",
        "        in_doc.output_intent = IccBasedColorSpace.copy(out_doc, in_doc.output_intent)\n",
        "\n",
        "    # Metadata\n",
        "    out_doc.metadata = Metadata.copy(out_doc, in_doc.metadata)\n",
        "\n",
        "    # Viewer settings\n",
        "    out_doc.viewer_settings = ViewerSettings.copy(out_doc, in_doc.viewer_settings)\n",
        "\n",
        "    # Associated files (for PDF/A-3 and PDF 2.0 only)\n",
        "    outAssociatedFiles = out_doc.associated_files\n",
        "    for in_file_ref in in_doc.associated_files:\n",
        "        outAssociatedFiles.append(FileReference.copy(out_doc, in_file_ref))\n",
        "\n",
        "    # Plain embedded files\n",
        "    out_embedded_files = out_doc.plain_embedded_files\n",
        "    for in_file_ref in in_doc.plain_embedded_files:\n",
        "        out_embedded_files.append(FileReference.copy(out_doc, in_file_ref))"
      ]
    },
    {
      "cell_type": "code",
      "execution_count": null,
      "id": "f5b46c8a-281e-4cb3-aa16-36aa18217143",
      "metadata": {
          "id": "7c52f4b8-e36d-45cd-b774-44683356b36b"
      },
      "outputs": [],
      "source": [
        "def scale_pages_to_fit(in_doc: Document, out_doc: Document):\n",
        "    copy_options = PageCopyOptions()\n",
        "\n",
        "    # Copy pages\n",
        "    for in_page in in_doc.pages:\n",
        "        page_size = in_page.size\n",
        "        rotate = (\n",
        "            ALLOW_ROTATE\n",
        "            and (page_size.height >= page_size.width) != (TARGET_SIZE.height >= TARGET_SIZE.width)\n",
        "        )\n",
        "\n",
        "        rotated_size = Size(\n",
        "            width=page_size.height, height=page_size.width\n",
        "        ) if rotate else page_size\n",
        "\n",
        "        if rotated_size.width == TARGET_SIZE.width and rotated_size.height == TARGET_SIZE.height:\n",
        "            # If size is correct, copy page only\n",
        "            out_page = Page.copy(out_doc, in_page, copy_options)\n",
        "\n",
        "            if rotate:\n",
        "                out_page.rotate(90)  # Clockwise rotation\n",
        "        else:\n",
        "            # Create new page of correct size and fit existing page onto it\n",
        "            out_page = Page.create(out_doc, TARGET_SIZE)\n",
        "\n",
        "            # Copy page as group\n",
        "            group = Group.copy_from_page(out_doc, in_page, copy_options)\n",
        "            # Calculate scaling and position of group\n",
        "            scale = min(TARGET_SIZE.width / rotated_size.width, TARGET_SIZE.height / rotated_size.height)\n",
        "\n",
        "            # Calculate position\n",
        "            position = Point(\n",
        "                x=(TARGET_SIZE.width - page_size.width * scale) / 2,\n",
        "                y=(TARGET_SIZE.height - page_size.height * scale) / 2,\n",
        "            )\n",
        "\n",
        "            # Create content generator\n",
        "            with ContentGenerator(out_page.content, False) as generator:\n",
        "\n",
        "                # Calculate and apply transformation\n",
        "                transform = AffineTransform.get_identity()\n",
        "                transform.translate(position.x, position.y)\n",
        "                transform.scale(scale, scale)\n",
        "\n",
        "                # Rotate input file \n",
        "                if rotate:\n",
        "                    center_point = Point(x=page_size.width / 2, y=page_size.height / 2)\n",
        "                    transform.rotate(90, center_point)\n",
        "\n",
        "                # Paint group\n",
        "                generator.transform(transform)\n",
        "                generator.paint_group(group, None, None)\n",
        "\n",
        "        # Add the page to the output document\n",
        "        out_doc.pages.append(out_page)"
      ]
    },
    {
      "cell_type": "code",
      "execution_count": null,
      "id": "86b91950-84ab-4ccf-b5fa-5075fb003149",
      "metadata": {
          "id": "290f703c-5a2a-41bc-a7e9-2b7ecf28f5bf"
      },
      "outputs": [],
      "source": [
        "try:\n",
        "    # Set and check license key. If the license key is not valid, an exception is thrown.\n",
        "    from pdftools_toolbox.sdk import Sdk\n",
        "    Sdk.initialize(\"<PDFSDK,V1,MGAASQD6L2JMQHL54PK08RQX8GG4SS0M8DAHVPH0VMP3NB8R9DUK>\", None)\n",

        "\n",
        "    # Define global variables\n",
        "    TARGET_SIZE = Size(width=595, height=842)  # A4 portrait\n",
        "    ALLOW_ROTATE = True\n",
        "    \n",
        "    # Open input document\n",
        "    with io.FileIO(input_file_path, \"rb\") as in_stream:\n",
        "        with Document.open(in_stream, None) as in_doc:\n",
        "    \n",
        "            # Create output document\n",
        "            with io.FileIO(output_file_path, \"wb+\") as out_stream:\n",
        "                with Document.create(out_stream, in_doc.conformance, None) as out_doc:\n",
        "    \n",
        "                    # Copy document-wide data\n",
        "                    copy_document_data(in_doc, out_doc)\n",
        "    \n",
        "                    # Process and resize pages\n",
        "                    scale_pages_to_fit(in_doc, out_doc)\n",

        "\n",
        "    print(\"Execution successful.\")\n",

        "except Exception as e:\n",
        "    print(f\"An error occurred: {e}\")"
      ]
    }
  ],
  "metadata": {
    "kernelspec": {
      "display_name": "Python 3",
      "language": "python",
      "name": "python3"
    },
    "language_info": {
      "codemirror_mode": {
        "name": "ipython",
        "version": 3
      },
      "file_extension": ".py",
      "mimetype": "text/x-python",
      "name": "python",
      "nbconvert_exporter": "python",
      "pygments_lexer": "ipython3",
      "version": "3.12.8"
    },
    "colab": {
      "provenance": []
    }
  },
  "nbformat": 4,
  "nbformat_minor": 5
}