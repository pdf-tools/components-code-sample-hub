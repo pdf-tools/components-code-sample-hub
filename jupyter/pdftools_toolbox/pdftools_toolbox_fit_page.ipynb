{
  "cells": [
    {
      "cell_type": "markdown",
      "id": "c86461be-2823-457a-8392-d033ec6cc992",
      "metadata": {
          "id": "84f3fb7c-543d-4aeb-b71c-67c5b46e1833"
      },
      "source": [
        "[![Open In Colab](https://colab.research.google.com/assets/colab-badge.svg)](https://colab.research.google.com/github/pdf-tools/components-code-sample-hub/blob/main/jupyter/pdftools_toolbox/pdftools_toolbox_fit_page.ipynb)"
      ]
    },
    {
      "cell_type": "code",
      "execution_count": null,
      "id": "032e8fde-36f9-409e-a0d4-8151f3595c46",
      "metadata": {
          "id": "7a2da131-8544-49d4-bfe8-f08ad62e37b0"
      },
      "outputs": [],
      "source": [
        "%pip install pdftools_toolbox\n",
        "%pip install ipython"
      ]
    },
    {
      "cell_type": "markdown",
      "id": "95f4f1d4-f5f4-4953-981a-0c69f0291381",
      "metadata": {
          "id": "c6708894-8987-4011-ad4a-87876b3e0a3c"
      },
      "source": [
        "# Fit pages to specific page format\n",
        "Fit each page of a PDF document to a specific page\n",
        "format."
      ]
    },
    {
      "cell_type": "code",
      "execution_count": null,
      "id": "b2790e1e-97a7-4e45-a78d-4ebc15d7b618",
      "metadata": {
          "id": "429dc37b-f89a-4e7d-8e9b-97d8f6abfca3"
      },
      "outputs": [],
      "source": [
        "import io\n",
        "from pdftools_toolbox.geometry.real import Size, Point, AffineTransform\n",
        "from pdftools_toolbox.pdf import Document, FileReference, Metadata, Page, PageCopyOptions\n",
        "from pdftools_toolbox.pdf.content import ContentGenerator, Group, IccBasedColorSpace\n",
        "from pdftools_toolbox.pdf.navigation import ViewerSettings"
      ]
    },
    {
      "cell_type": "code",
      "execution_count": null,
      "id": "0abb9f60-f32f-42be-a65d-2b40f0021007",
      "metadata": {
          "id": "0f5ef3fa-6bda-4966-8866-c005375331a5"
      },
      "outputs": [],
      "source": [
        "# Download a file from a given URL and save it to the local system\n",
        "def prepare_file(url: str, path: str):\n",
        "    import requests\n",
        "    response = requests.get(url)\n",
        "    response.raise_for_status()\n",
        "\n",
        "    with open(path, 'wb') as f:\n",
        "        f.write(response.content)"
      ]
    },
    {
      "cell_type": "code",
      "execution_count": null,
      "id": "2f4963fb-6eb7-4d33-b3c6-1c0bac69e819",
      "metadata": {
          "id": "9f79b1ae-32aa-4a04-9cd2-d067ca637745"
      },
      "outputs": [],
      "source": [
        "# Set input arguments\n",
        "input_url = 'https://pdftools-public-downloads-production.s3.eu-west-1.amazonaws.com/samples/testfiles/GraphicsSmallPage.pdf'\n",
        "input_file_path = 'GraphicsSmallPage.pdf'\n",
        "prepare_file(input_url, input_file_path)\n",
        "output_file_path = 'GraphicsA4.pdf'"
      ]
    },
    {
      "cell_type": "code",
      "execution_count": null,
      "id": "18518c39-93b8-4835-8562-8ae6759b042b",
      "metadata": {
          "id": "ff9d13c7-33bb-4e42-a464-0a60161a3825"
      },
      "outputs": [],
      "source": [
        "def copy_document_data(in_doc: Document, out_doc: Document):\n",
        "    # Copy document-wide data\n",
        "\n",
        "    # Output intent\n",
        "    if in_doc.output_intent is not None:\n",
        "        in_doc.output_intent = IccBasedColorSpace.copy(out_doc, in_doc.output_intent)\n",
        "\n",
        "    # Metadata\n",
        "    out_doc.metadata = Metadata.copy(out_doc, in_doc.metadata)\n",
        "\n",
        "    # Viewer settings\n",
        "    out_doc.viewer_settings = ViewerSettings.copy(out_doc, in_doc.viewer_settings)\n",
        "\n",
        "    # Associated files (for PDF/A-3 and PDF 2.0 only)\n",
        "    outAssociatedFiles = out_doc.associated_files\n",
        "    for in_file_ref in in_doc.associated_files:\n",
        "        outAssociatedFiles.append(FileReference.copy(out_doc, in_file_ref))\n",
        "\n",
        "    # Plain embedded files\n",
        "    out_embedded_files = out_doc.plain_embedded_files\n",
        "    for in_file_ref in in_doc.plain_embedded_files:\n",
        "        out_embedded_files.append(FileReference.copy(out_doc, in_file_ref))"
      ]
    },{
      "cell_type": "code",
      "execution_count": null,
      "id": "d63c7f66-8e38-44ac-9376-29ceeb6fa7a5",
      "metadata": {
          "id": "eafba358-1dcb-4c7f-a53c-d34e8572bac2"
      },
      "outputs": [],
      "source": [
        "def scale_pages_to_fit(in_doc: Document, out_doc: Document):\n",
        "    copy_options = PageCopyOptions()\n",
        "\n",
        "    # Copy pages\n",
        "    for in_page in in_doc.pages:\n",
        "        page_size = in_page.size\n",
        "        rotate = (\n",
        "            ALLOW_ROTATE\n",
        "            and (page_size.height >= page_size.width) != (TARGET_SIZE.height >= TARGET_SIZE.width)\n",
        "        )\n",
        "\n",
        "        rotated_size = Size(\n",
        "            width=page_size.height, height=page_size.width\n",
        "        ) if rotate else page_size\n",
        "\n",
        "        if rotated_size.width == TARGET_SIZE.width and rotated_size.height == TARGET_SIZE.height:\n",
        "            # If size is correct, copy page only\n",
        "            out_page = Page.copy(out_doc, in_page, copy_options)\n",
        "\n",
        "            if rotate:\n",
        "                out_page.rotate(90)  # Clockwise rotation\n",
        "        else:\n",
        "            # Create new page of correct size and fit existing page onto it\n",
        "            out_page = Page.create(out_doc, TARGET_SIZE)\n",
        "\n",
        "            # Copy page as group\n",
        "            group = Group.copy_from_page(out_doc, in_page, copy_options)\n",
        "            # Calculate scaling and position of group\n",
        "            scale = min(TARGET_SIZE.width / rotated_size.width, TARGET_SIZE.height / rotated_size.height)\n",
        "\n",
        "            # Calculate position\n",
        "            position = Point(\n",
        "                x=(TARGET_SIZE.width - page_size.width * scale) / 2,\n",
        "                y=(TARGET_SIZE.height - page_size.height * scale) / 2,\n",
        "            )\n",
        "\n",
        "            # Create content generator\n",
        "            with ContentGenerator(out_page.content, False) as generator:\n",
        "\n",
        "                # Calculate and apply transformation\n",
        "                transform = AffineTransform.get_identity()\n",
        "                transform.translate(position.x, position.y)\n",
        "                transform.scale(scale, scale)\n",
        "\n",
        "                # Rotate input file \n",
        "                if rotate:\n",
        "                    center_point = Point(x=page_size.width / 2, y=page_size.height / 2)\n",
        "                    transform.rotate(90, center_point)\n",
        "\n",
        "                # Paint group\n",
        "                generator.transform(transform)\n",
        "                generator.paint_group(group, None, None)\n",
        "\n",
        "        # Add the page to the output document\n",
        "        out_doc.pages.append(out_page)"
      ]
    },
    {
      "cell_type": "code",
      "execution_count": null,
      "id": "7689130e-f9df-453b-9c67-83e1944f725f",
      "metadata": {
          "id": "f2318c7d-d624-42bd-a016-cbecc174dbdc"
      },
      "outputs": [],
      "source": [
        "try:\n",
        "    # Set and check license key. If the license key is not valid, an exception is thrown.\n",
        "    from pdftools_toolbox.sdk import Sdk\n",
        "    Sdk.initialize(\"INSERT-LICENSE-KEY\", None)\n",

        "\n",
        "    # Define global variables\n",
        "    TARGET_SIZE = Size(width=595, height=842)  # A4 portrait\n",
        "    ALLOW_ROTATE = True\n",
        "    \n",
        "    # Open input document\n",
        "    with io.FileIO(input_file_path, \"rb\") as in_stream:\n",
        "        with Document.open(in_stream, None) as in_doc:\n",
        "    \n",
        "            # Create output document\n",
        "            with io.FileIO(output_file_path, \"wb+\") as out_stream:\n",
        "                with Document.create(out_stream, in_doc.conformance, None) as out_doc:\n",
        "    \n",
        "                    # Copy document-wide data\n",
        "                    copy_document_data(in_doc, out_doc)\n",
        "    \n",
        "                    # Process and resize pages\n",
        "                    scale_pages_to_fit(in_doc, out_doc)\n",

        "\n",
        "    print(\"Execution successful.\")\n",

        "except Exception as e:\n",
        "    print(f\"An error occurred: {e}\")"
      ]
    }
  ],
  "metadata": {
    "kernelspec": {
      "display_name": "Python 3",
      "language": "python",
      "name": "python3"
    },
    "language_info": {
      "codemirror_mode": {
        "name": "ipython",
        "version": 3
      },
      "file_extension": ".py",
      "mimetype": "text/x-python",
      "name": "python",
      "nbconvert_exporter": "python",
      "pygments_lexer": "ipython3",
      "version": "3.12.8"
    },
    "colab": {
      "provenance": []
    }
  },
  "nbformat": 4,
  "nbformat_minor": 5
}