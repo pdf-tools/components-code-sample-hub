{
  "cells": [
    {
      "cell_type": "markdown",
      "id": "47b85e92-af9a-4cb6-8fa2-0973140ea303",
      "metadata": {
          "id": "f37711df-e86b-4d2f-b058-7b40c2aab8a7"
      },
      "source": [
        "[![Open In Colab](https://colab.research.google.com/assets/colab-badge.svg)](https://colab.research.google.com/github/pdf-tools/components-code-sample-hub/blob/main/jupyter/pdftools_toolbox/pdftools_toolbox_fit_page.ipynb)"
      ]
    },
    {
      "cell_type": "code",
      "execution_count": null,
      "id": "0ee1fc95-c8cf-4f45-baf1-531da81dd6f2",
      "metadata": {
          "id": "c71e93be-cc3e-476d-bb5e-d12db5116e4f"
      },
      "outputs": [],
      "source": [
        "%pip install https://pdftools-public-downloads-production.s3.eu-west-1.amazonaws.com/productkits/PDFSDKXT/latest/pdftools_toolbox-latest.tar.gz\n",
        "%pip install ipython"
      ]
    },
    {
      "cell_type": "markdown",
      "id": "ea18e79d-f260-4868-ad31-7ec7ecba125a",
      "metadata": {
          "id": "431a67d7-17ec-4f98-9635-bf0977ae5b56"
      },
      "source": [
        "# Fit pages to specific page format\n",
        "Fit each page of a PDF document to a specific page\n",
        "format."
      ]
    },
    {
      "cell_type": "code",
      "execution_count": null,
      "id": "543995bb-b475-40e7-82bc-356670aa0bc6",
      "metadata": {
          "id": "d4a1b1ff-0306-41f6-94ad-b3a4a038f8c4"
      },
      "outputs": [],
      "source": [
        "import io\n",
        "from pdftools_toolbox.geometry.real import Size, Point, AffineTransform\n",
        "from pdftools_toolbox.pdf import Document, FileReference, Metadata, Page, PageCopyOptions\n",
        "from pdftools_toolbox.pdf.content import ContentGenerator, Group, IccBasedColorSpace\n",
        "from pdftools_toolbox.pdf.navigation import ViewerSettings"
      ]
    },
    {
      "cell_type": "code",
      "execution_count": null,
      "id": "67d1b6f8-c9c2-4041-850a-33b1845845e5",
      "metadata": {
          "id": "b078d251-3328-46a3-ba9c-d2efd9a41ede"
      },
      "outputs": [],
      "source": [
        "# Download a file from a given URL and save it to the local system\n",
        "def prepare_file(url: str, path: str):\n",
        "    import requests\n",
        "    response = requests.get(url)\n",
        "    response.raise_for_status()\n",
        "\n",
        "    with open(path, 'wb') as f:\n",
        "        f.write(response.content)"
      ]
    },
    {
      "cell_type": "code",
      "execution_count": null,
      "id": "968576fc-3dfc-4e4c-8608-1890457e889e",
      "metadata": {
          "id": "efc27f74-e2c6-4069-b341-8f56052a39a7"
      },
      "outputs": [],
      "source": [
        "# Set input arguments\n",
        "input_url = 'https://pdftools-public-downloads-production.s3.eu-west-1.amazonaws.com/samples/testfiles/GraphicsSmallPage.pdf'\n",
        "input_file_path = 'GraphicsSmallPage.pdf'\n",
        "prepare_file(input_url, input_file_path)\n",
        "output_file_path = 'GraphicsA4.pdf'"
      ]
    },
    {
      "cell_type": "code",
      "execution_count": null,
      "id": "c1a5d871-8dea-4c15-9a94-93c9ccec467f",
      "metadata": {
          "id": "151a9b78-a2ec-4091-9e42-87b98e53333e"
      },
      "outputs": [],
      "source": [
        "def copy_document_data(in_doc: Document, out_doc: Document):\n",
        "    # Copy document-wide data\n",
        "\n",
        "    # Output intent\n",
        "    if in_doc.output_intent is not None:\n",
        "        in_doc.output_intent = IccBasedColorSpace.copy(out_doc, in_doc.output_intent)\n",
        "\n",
        "    # Metadata\n",
        "    out_doc.metadata = Metadata.copy(out_doc, in_doc.metadata)\n",
        "\n",
        "    # Viewer settings\n",
        "    out_doc.viewer_settings = ViewerSettings.copy(out_doc, in_doc.viewer_settings)\n",
        "\n",
        "    # Associated files (for PDF/A-3 and PDF 2.0 only)\n",
        "    outAssociatedFiles = out_doc.associated_files\n",
        "    for in_file_ref in in_doc.associated_files:\n",
        "        outAssociatedFiles.append(FileReference.copy(out_doc, in_file_ref))\n",
        "\n",
        "    # Plain embedded files\n",
        "    out_embedded_files = out_doc.plain_embedded_files\n",
        "    for in_file_ref in in_doc.plain_embedded_files:\n",
        "        out_embedded_files.append(FileReference.copy(out_doc, in_file_ref))"
      ]
    },
    {
      "cell_type": "code",
      "execution_count": null,
      "id": "145afe26-de73-44e9-9de9-4bb436745e38",
      "metadata": {
          "id": "09085392-d1c8-4d9c-94b7-b807b4783954"
      },
      "outputs": [],
      "source": [
        "def scale_pages_to_fit(in_doc: Document, out_doc: Document):\n",
        "    copy_options = PageCopyOptions()\n",
        "\n",
        "    # Copy pages\n",
        "    for in_page in in_doc.pages:\n",
        "        page_size = in_page.size\n",
        "        rotate = (\n",
        "            ALLOW_ROTATE\n",
        "            and (page_size.height >= page_size.width) != (TARGET_SIZE.height >= TARGET_SIZE.width)\n",
        "        )\n",
        "\n",
        "        rotated_size = Size(\n",
        "            width=page_size.height, height=page_size.width\n",
        "        ) if rotate else page_size\n",
        "\n",
        "        if rotated_size.width == TARGET_SIZE.width and rotated_size.height == TARGET_SIZE.height:\n",
        "            # If size is correct, copy page only\n",
        "            out_page = Page.copy(out_doc, in_page, copy_options)\n",
        "\n",
        "            if rotate:\n",
        "                out_page.rotate(90)  # Clockwise rotation\n",
        "        else:\n",
        "            # Create new page of correct size and fit existing page onto it\n",
        "            out_page = Page.create(out_doc, TARGET_SIZE)\n",
        "\n",
        "            # Copy page as group\n",
        "            group = Group.copy_from_page(out_doc, in_page, copy_options)\n",
        "            # Calculate scaling and position of group\n",
        "            scale = min(TARGET_SIZE.width / rotated_size.width, TARGET_SIZE.height / rotated_size.height)\n",
        "\n",
        "            # Calculate position\n",
        "            position = Point(\n",
        "                x=(TARGET_SIZE.width - page_size.width * scale) / 2,\n",
        "                y=(TARGET_SIZE.height - page_size.height * scale) / 2,\n",
        "            )\n",
        "\n",
        "            # Create content generator\n",
        "            with ContentGenerator(out_page.content, False) as generator:\n",
        "\n",
        "                # Calculate and apply transformation\n",
        "                transform = AffineTransform.get_identity()\n",
        "                transform.translate(position.x, position.y)\n",
        "                transform.scale(scale, scale)\n",
        "\n",
        "                # Rotate input file \n",
        "                if rotate:\n",
        "                    center_point = Point(x=page_size.width / 2, y=page_size.height / 2)\n",
        "                    transform.rotate(90, center_point)\n",
        "\n",
        "                # Paint group\n",
        "                generator.transform(transform)\n",
        "                generator.paint_group(group, None, None)\n",
        "\n",
        "        # Add the page to the output document\n",
        "        out_doc.pages.append(out_page)"
      ]
    },
    {
      "cell_type": "code",
      "execution_count": null,
      "id": "b276164d-dfb5-468c-a624-3adf3de4a39b",
      "metadata": {
          "id": "aabd16c3-0109-4ceb-8271-7db9f5c70929"
      },
      "outputs": [],
      "source": [
        "try:\n",
        "    # Set and check license key. If the license key is not valid, an exception is thrown.\n",
        "    from pdftools_toolbox.sdk import Sdk\n",
        "    Sdk.initialize(\"INSERT-LICENSE-KEY\", None)\n",

        "\n",
        "    # Define global variables\n",
        "    TARGET_SIZE = Size(width=595, height=842)  # A4 portrait\n",
        "    ALLOW_ROTATE = True\n",
        "    \n",
        "    # Open input document\n",
        "    with io.FileIO(input_file_path, \"rb\") as in_stream:\n",
        "        with Document.open(in_stream, None) as in_doc:\n",
        "    \n",
        "            # Create output document\n",
        "            with io.FileIO(output_file_path, \"wb+\") as out_stream:\n",
        "                with Document.create(out_stream, in_doc.conformance, None) as out_doc:\n",
        "    \n",
        "                    # Copy document-wide data\n",
        "                    copy_document_data(in_doc, out_doc)\n",
        "    \n",
        "                    # Process and resize pages\n",
        "                    scale_pages_to_fit(in_doc, out_doc)\n",

        "\n",
        "    print(\"Execution successful.\")\n",

        "except Exception as e:\n",
        "    print(f\"An error occurred: {e}\")"
      ]
    }
  ],
  "metadata": {
    "kernelspec": {
      "display_name": "Python 3",
      "language": "python",
      "name": "python3"
    },
    "language_info": {
      "codemirror_mode": {
        "name": "ipython",
        "version": 3
      },
      "file_extension": ".py",
      "mimetype": "text/x-python",
      "name": "python",
      "nbconvert_exporter": "python",
      "pygments_lexer": "ipython3",
      "version": "3.12.8"
    },
    "colab": {
      "provenance": []
    }
  },
  "nbformat": 4,
  "nbformat_minor": 5
}