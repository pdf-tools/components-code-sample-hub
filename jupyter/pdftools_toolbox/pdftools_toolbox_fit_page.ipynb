{
  "cells": [
    {
      "cell_type": "markdown",
      "id": "f302080d-9f52-4d06-a745-4c78f3c61bef",
      "metadata": {
          "id": "4190206c-5de2-4676-b155-b1c993618786"
      },
      "source": [
        "[![Open In Colab](https://colab.research.google.com/assets/colab-badge.svg)](https://colab.research.google.com/github/pdf-tools/components-code-sample-hub/blob/main/jupyter/pdftools_toolbox/pdftools_toolbox_fit_page.ipynb)"
      ]
    },
    {
      "cell_type": "code",
      "execution_count": null,
      "id": "bd7156f5-8187-4a2e-9eec-126688071a2a",
      "metadata": {
          "id": "26a29ed0-18af-41f9-8b2d-5f36bf09396e"
      },
      "outputs": [],
      "source": [
        "%pip install https://pdftools-public-downloads-production.s3.eu-west-1.amazonaws.com/productkits/PDFSDKXT/latest/pdftools_toolbox-latest.tar.gz\n",
        "%pip install ipython"
      ]
    },
    {
      "cell_type": "markdown",
      "id": "15551745-44f3-4f10-a765-33bc340fa845",
      "metadata": {
          "id": "06769266-16d7-44c7-aebe-96d45233bf52"
      },
      "source": [
        "# Fit pages to specific page format\n",
        "Fit each page of a PDF document to a specific page\n",
        "format."
      ]
    },
    {
      "cell_type": "code",
      "execution_count": null,
      "id": "28b964b5-d62a-4bca-9444-4c746eb43fa1",
      "metadata": {
          "id": "3c1c8c10-a9f1-42f8-9511-7f9d2dfcca0c"
      },
      "outputs": [],
      "source": [
        "import io\n",
        "from pdftools_toolbox.geometry.real import Size, Point, AffineTransform\n",
        "from pdftools_toolbox.pdf import Document, FileReference, Metadata, Page, PageCopyOptions\n",
        "from pdftools_toolbox.pdf.content import ContentGenerator, Group, IccBasedColorSpace\n",
        "from pdftools_toolbox.pdf.navigation import ViewerSettings"
      ]
    },
    {
      "cell_type": "code",
      "execution_count": null,
      "id": "aa6f408b-bfbf-4166-83a0-b4af95ae4cdc",
      "metadata": {
          "id": "b381cb2f-d48b-4a19-b771-09570519e22c"
      },
      "outputs": [],
      "source": [
        "# Download a file from a given URL and save it to the local system\n",
        "def prepare_file(url: str, path: str):\n",
        "    import requests\n",
        "    response = requests.get(url)\n",
        "    response.raise_for_status()\n",
        "\n",
        "    with open(path, 'wb') as f:\n",
        "        f.write(response.content)"
      ]
    },
    {
      "cell_type": "code",
      "execution_count": null,
      "id": "66b7a63f-3a77-45b5-a537-85f01821a6ef",
      "metadata": {
          "id": "ded80e88-61a3-452c-830d-412037f1b3a8"
      },
      "outputs": [],
      "source": [
        "# Set input arguments\n",
        "input_url = 'https://pdftools-public-downloads-production.s3.eu-west-1.amazonaws.com/samples/testfiles/GraphicsSmallPage.pdf'\n",
        "input_file_path = 'GraphicsSmallPage.pdf'\n",
        "prepare_file(input_url, input_file_path)\n",
        "output_file_path = 'GraphicsA4.pdf'"
      ]
    },
    {
      "cell_type": "code",
      "execution_count": null,
      "id": "6d57ed89-16b0-4a8d-9d2a-63cfdbb51493",
      "metadata": {
          "id": "8b3b7bf6-9b6f-4710-b82c-740474ee442e"
      },
      "outputs": [],
      "source": [
        "def copy_document_data(in_doc: Document, out_doc: Document):\n",
        "    # Copy document-wide data\n",
        "\n",
        "    # Output intent\n",
        "    if in_doc.output_intent is not None:\n",
        "        in_doc.output_intent = IccBasedColorSpace.copy(out_doc, in_doc.output_intent)\n",
        "\n",
        "    # Metadata\n",
        "    out_doc.metadata = Metadata.copy(out_doc, in_doc.metadata)\n",
        "\n",
        "    # Viewer settings\n",
        "    out_doc.viewer_settings = ViewerSettings.copy(out_doc, in_doc.viewer_settings)\n",
        "\n",
        "    # Associated files (for PDF/A-3 and PDF 2.0 only)\n",
        "    outAssociatedFiles = out_doc.associated_files\n",
        "    for in_file_ref in in_doc.associated_files:\n",
        "        outAssociatedFiles.append(FileReference.copy(out_doc, in_file_ref))\n",
        "\n",
        "    # Plain embedded files\n",
        "    out_embedded_files = out_doc.plain_embedded_files\n",
        "    for in_file_ref in in_doc.plain_embedded_files:\n",
        "        out_embedded_files.append(FileReference.copy(out_doc, in_file_ref))"
      ]
    },
    {
      "cell_type": "code",
      "execution_count": null,
      "id": "27dd7d8a-b0ca-42cc-8dfa-4be6bb36fec3",
      "metadata": {
          "id": "a5f792ac-51c6-4fa6-855f-3fca042b7c5a"
      },
      "outputs": [],
      "source": [
        "def scale_pages_to_fit(in_doc: Document, out_doc: Document):\n",
        "    copy_options = PageCopyOptions()\n",
        "\n",
        "    # Copy pages\n",
        "    for in_page in in_doc.pages:\n",
        "        page_size = in_page.size\n",
        "        rotate = (\n",
        "            ALLOW_ROTATE\n",
        "            and (page_size.height >= page_size.width) != (TARGET_SIZE.height >= TARGET_SIZE.width)\n",
        "        )\n",
        "\n",
        "        rotated_size = Size(\n",
        "            width=page_size.height, height=page_size.width\n",
        "        ) if rotate else page_size\n",
        "\n",
        "        if rotated_size.width == TARGET_SIZE.width and rotated_size.height == TARGET_SIZE.height:\n",
        "            # If size is correct, copy page only\n",
        "            out_page = Page.copy(out_doc, in_page, copy_options)\n",
        "\n",
        "            if rotate:\n",
        "                out_page.rotate(90)  # Clockwise rotation\n",
        "        else:\n",
        "            # Create new page of correct size and fit existing page onto it\n",
        "            out_page = Page.create(out_doc, TARGET_SIZE)\n",
        "\n",
        "            # Copy page as group\n",
        "            group = Group.copy_from_page(out_doc, in_page, copy_options)\n",
        "            # Calculate scaling and position of group\n",
        "            scale = min(TARGET_SIZE.width / rotated_size.width, TARGET_SIZE.height / rotated_size.height)\n",
        "\n",
        "            # Calculate position\n",
        "            position = Point(\n",
        "                x=(TARGET_SIZE.width - page_size.width * scale) / 2,\n",
        "                y=(TARGET_SIZE.height - page_size.height * scale) / 2,\n",
        "            )\n",
        "\n",
        "            # Create content generator\n",
        "            with ContentGenerator(out_page.content, False) as generator:\n",
        "\n",
        "                # Calculate and apply transformation\n",
        "                transform = AffineTransform.get_identity()\n",
        "                transform.translate(position.x, position.y)\n",
        "                transform.scale(scale, scale)\n",
        "\n",
        "                # Rotate input file \n",
        "                if rotate:\n",
        "                    center_point = Point(x=page_size.width / 2, y=page_size.height / 2)\n",
        "                    transform.rotate(90, center_point)\n",
        "\n",
        "                # Paint group\n",
        "                generator.transform(transform)\n",
        "                generator.paint_group(group, None, None)\n",
        "\n",
        "        # Add the page to the output document\n",
        "        out_doc.pages.append(out_page)"
      ]
    },
    {
      "cell_type": "code",
      "execution_count": null,
      "id": "dfb2f91a-fe2a-4156-a280-982a8ff600d8",
      "metadata": {
          "id": "4dab1b18-e8f0-4dd5-ba71-39f797ac476c"
      },
      "outputs": [],
      "source": [
        "try:\n",
        "    # Set and check license key. If the license key is not valid, an exception is thrown.\n",
        "    from pdftools_toolbox.sdk import Sdk\n",
        "    Sdk.initialize(\"INSERT-LICENSE-KEY\", None)\n",

        "\n",
        "    # Define global variables\n",
        "    TARGET_SIZE = Size(width=595, height=842)  # A4 portrait\n",
        "    ALLOW_ROTATE = True\n",
        "    \n",
        "    # Open input document\n",
        "    with io.FileIO(input_file_path, \"rb\") as in_stream:\n",
        "        with Document.open(in_stream, None) as in_doc:\n",
        "    \n",
        "            # Create output document\n",
        "            with io.FileIO(output_file_path, \"wb+\") as out_stream:\n",
        "                with Document.create(out_stream, in_doc.conformance, None) as out_doc:\n",
        "    \n",
        "                    # Copy document-wide data\n",
        "                    copy_document_data(in_doc, out_doc)\n",
        "    \n",
        "                    # Process and resize pages\n",
        "                    scale_pages_to_fit(in_doc, out_doc)\n",

        "\n",
        "    print(\"Execution successful.\")\n",

        "except Exception as e:\n",
        "    print(f\"An error occurred: {e}\")"
      ]
    }
  ],
  "metadata": {
    "kernelspec": {
      "display_name": "Python 3",
      "language": "python",
      "name": "python3"
    },
    "language_info": {
      "codemirror_mode": {
        "name": "ipython",
        "version": 3
      },
      "file_extension": ".py",
      "mimetype": "text/x-python",
      "name": "python",
      "nbconvert_exporter": "python",
      "pygments_lexer": "ipython3",
      "version": "3.12.8"
    },
    "colab": {
      "provenance": []
    }
  },
  "nbformat": 4,
  "nbformat_minor": 5
}