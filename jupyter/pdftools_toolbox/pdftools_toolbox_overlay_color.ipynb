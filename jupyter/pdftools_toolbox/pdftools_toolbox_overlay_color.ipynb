{
  "cells": [
    {
      "cell_type": "markdown",
      "id": "8d32cde8-f6db-46c1-9e08-9f0085c85f9b",
      "metadata": {
          "id": "23147a20-28cc-4659-a85d-14bbb23eb2c2"
      },
      "source": [
        "[![Open In Colab](https://colab.research.google.com/assets/colab-badge.svg)](https://colab.research.google.com/github/pdf-tools/components-code-sample-hub/blob/main/jupyter/pdftools_toolbox/pdftools_toolbox_overlay_color.ipynb)"
      ]
    },
    {
      "cell_type": "code",
      "execution_count": null,
      "id": "27ae77ec-7c4a-4e9c-be90-509dad7be79c",
      "metadata": {
          "id": "a95abd66-5e6a-4ad0-a65a-b03867f3becc"
      },
      "outputs": [],
      "source": [
        "%pip install https://pdftools-public-downloads-production.s3.eu-west-1.amazonaws.com/productkits/PDFSDKXT/latest/pdftools_toolbox-latest.tar.gz\n",
        "%pip install ipython"
      ]
    },
    {
      "cell_type": "markdown",
      "id": "b3c8805b-a723-40a8-893f-70507fd9a2fd",
      "metadata": {
          "id": "f9c9f18d-8350-4c60-b361-fd0b80504dd8"
      },
      "source": [
        "# Overlay color of PDF\n",
        "Overlay all pages of a PDF document with a configurable\n",
        "color."
      ]
    },
    {
      "cell_type": "code",
      "execution_count": null,
      "id": "f877835e-f3dd-48cc-b889-80a0ab1b74fe",
      "metadata": {
          "id": "8cca70cd-9e8c-452f-a41e-76958d145868"
      },
      "outputs": [],
      "source": [
        "import io\n",
        "from pdftools_toolbox.geometry.real import Rectangle\n",
        "from pdftools_toolbox.pdf import Document, FileReference, Metadata, Page, PageCopyOptions\n",
        "from pdftools_toolbox.pdf.content import BlendMode, ColorSpace, ContentGenerator, Transparency, Fill, IccBasedColorSpace, Paint, ProcessColorSpaceType, Path, PathGenerator\n",
        "from pdftools_toolbox.pdf.navigation import ViewerSettings"
      ]
    },
    {
      "cell_type": "code",
      "execution_count": null,
      "id": "f3adba23-bd89-4349-895b-e21df3bdd99f",
      "metadata": {
          "id": "fe9595d3-390a-45da-a7db-a7f59bf409ee"
      },
      "outputs": [],
      "source": [
        "# Download a file from a given URL and save it to the local system\n",
        "def prepare_file(url: str, path: str):\n",
        "    import requests\n",
        "    response = requests.get(url)\n",
        "    response.raise_for_status()\n",
        "\n",
        "    with open(path, 'wb') as f:\n",
        "        f.write(response.content)"
      ]
    },
    {
      "cell_type": "code",
      "execution_count": null,
      "id": "ca3b67cb-b142-410c-9fa4-aeb8eff796a2",
      "metadata": {
          "id": "56698758-e3e5-425a-8a99-63c63e60e1aa"
      },
      "outputs": [],
      "source": [
        "# Set input arguments\n",
        "input_url = 'https://pdftools-public-downloads-production.s3.eu-west-1.amazonaws.com/samples/testfiles/GraphicsNone.pdf'\n",
        "input_file_path = 'GraphicsNone.pdf'\n",
        "prepare_file(input_url, input_file_path)\n",
        "options = \"-k 0.5 1.0\"  # grayscale 0.5, alpha 1.0\n",
        "output_file_path = 'GraphicsOverlay.pdf'"
      ]
    },
    {
      "cell_type": "code",
      "execution_count": null,
      "id": "af1630ae-8294-447d-8235-4eb7ac190a46",
      "metadata": {
          "id": "2ae8ff32-59a8-45d0-a6fb-19efa01a9f50"
      },
      "outputs": [],
      "source": [
        "def copy_document_data(in_doc: Document, out_doc: Document):\n",
        "    # Copy document-wide data\n",
        "\n",
        "    # Output intent\n",
        "    if in_doc.output_intent is not None:\n",
        "        in_doc.output_intent = IccBasedColorSpace.copy(out_doc, in_doc.output_intent)\n",
        "\n",
        "    # Metadata\n",
        "    out_doc.metadata = Metadata.copy(out_doc, in_doc.metadata)\n",
        "\n",
        "    # Viewer settings\n",
        "    out_doc.viewer_settings = ViewerSettings.copy(out_doc, in_doc.viewer_settings)\n",
        "\n",
        "    # Associated files (for PDF/A-3 and PDF 2.0 only)\n",
        "    outAssociatedFiles = out_doc.associated_files\n",
        "    for in_file_ref in in_doc.associated_files:\n",
        "        outAssociatedFiles.append(FileReference.copy(out_doc, in_file_ref))\n",
        "\n",
        "    # Plain embedded files\n",
        "    out_embedded_files = out_doc.plain_embedded_files\n",
        "    for in_file_ref in in_doc.plain_embedded_files:\n",
        "        out_embedded_files.append(FileReference.copy(out_doc, in_file_ref))"
      ]
    },
    {
      "cell_type": "code",
      "execution_count": null,
      "id": "65862860-fc4d-40f1-8f8e-1b06efd015ef",
      "metadata": {
          "id": "621dac64-1807-4a5d-beb7-ad186ebfe3f8"
      },
      "outputs": [],
      "source": [
        "def parse_options(options: str) -> tuple:\n",
        "    \"\"\"\n",
        "    Parse the options string to extract color, color type, and alpha.\n",
        "    \"\"\"\n",
        "    # Default values\n",
        "    color_type = ProcessColorSpaceType.GRAY\n",
        "    color = [0.9]\n",
        "    alpha = 1.0\n",
        "\n",
        "    if options is None:\n",
        "        return color, color_type, alpha\n",
        "\n",
        "    # Split options into tokens\n",
        "    tokens = options.split()\n",
        "    if not tokens:\n",
        "        return color, color_type, alpha\n",
        "\n",
        "    # Parse options\n",
        "    i = 0\n",
        "    while i < len(tokens):\n",
        "        arg = tokens[i]\n",
        "        if arg.startswith(\"-\"):\n",
        "            if len(arg) != 2:\n",
        "                raise ValueError(f\"Invalid option: {arg}\")\n",
        "\n",
        "            flag = arg[1]\n",
        "            i += 1  # Move to the next token\n",
        "\n",
        "            if flag == \"k\":  # Grayscale\n",
        "                if len(tokens) - i != 2:\n",
        "                    raise ValueError(\"Invalid arguments for -k. Requires (k) (a).\")\n",
        "                color_type = ProcessColorSpaceType.GRAY\n",
        "                color = [float(tokens[i])]\n",
        "                alpha = float(tokens[i + 1])\n",
        "                i += 2\n",
        "            elif flag == \"c\":  # CMYK\n",
        "                if len(tokens) - i != 5:\n",
        "                    raise ValueError(\"Invalid arguments for -c. Requires (c) (m) (y) (k) (a).\")\n",
        "                color_type = ProcessColorSpaceType.CMYK\n",
        "                color = [float(tokens[i]), float(tokens[i + 1]), float(tokens[i + 2]), float(tokens[i + 3])]\n",
        "                alpha = float(tokens[i + 4])\n",
        "                i += 5\n",
        "            elif flag == \"r\":  # RGB\n",
        "                if len(tokens) - i != 4:\n",
        "                    raise ValueError(\"Invalid arguments for -r. Requires (r) (g) (b) (a).\")\n",
        "                color_type = ProcessColorSpaceType.RGB\n",
        "                color = [float(tokens[i]), float(tokens[i + 1]), float(tokens[i + 2])]\n",
        "                alpha = float(tokens[i + 3])\n",
        "                i += 4\n",
        "            else:\n",
        "                raise ValueError(f\"Unsupported option: {flag}\")\n",
        "        else:\n",
        "            raise ValueError(f\"Unexpected token: {arg}\")\n",
        "\n",
        "    # Validate color and alpha values\n",
        "    if not (0 <= alpha <= 1 and all(0 <= c <= 1 for c in color)):\n",
        "        raise ValueError(\"Color and alpha values must be between 0 and 1.\")\n",
        "\n",
        "    return color, color_type, alpha"
      ]
    },
    {
      "cell_type": "code",
      "execution_count": null,
      "id": "91d7ac43-3338-403a-9a74-fd44799226e1",
      "metadata": {
          "id": "d64f2fc8-90c7-41f9-8d25-098d60652ade"
      },
      "outputs": [],
      "source": [
        "def apply_overlay_to_pages(in_doc: Document, out_doc: Document, color: list, color_type: ProcessColorSpaceType, color_alpha: float):\n",
        "    \"\"\"Apply the overlay color to all pages in the document.\"\"\"\n",
        "\n",
        "    # Create transparency and set blend mode\n",
        "    transparency = Transparency(color_alpha)\n",
        "    transparency.blend_mode = BlendMode.MULTIPLY\n",
        "\n",
        "    # Create color space\n",
        "    color_space = ColorSpace.create_process_color_space(out_doc, color_type)\n",
        "\n",
        "    # Create a transparent paint for the given color\n",
        "    paint = Paint.create(out_doc, color_space, color, transparency)\n",
        "    fill = Fill(paint)\n",
        "\n",
        "    # Get output pages\n",
        "    out_pages = out_doc.pages\n",
        "\n",
        "    # Define page copy options\n",
        "    copy_options = PageCopyOptions()\n",
        "\n",
        "    # Loop through all pages\n",
        "    for in_page in in_doc.pages:\n",
        "        # Create a new page\n",
        "        out_page = Page.copy(out_doc, in_page, copy_options)\n",
        "\n",
        "        in_page_size = in_page.size\n",
        "\n",
        "        # Create a content generator\n",
        "        with ContentGenerator(out_page.content, False) as generator:\n",
        "\n",
        "            # Make a rectangular path the same size as the page\n",
        "            path = Path()\n",
        "            with PathGenerator(path) as path_generator:\n",
        "                # Compute Rectangle\n",
        "                path_rectangle = Rectangle(\n",
        "                        left=0,\n",
        "                        bottom=0,\n",
        "                        right=in_page_size.width,\n",
        "                        top=in_page_size.height,\n",
        "                    )\n",
        "\n",
        "                path_generator.add_rectangle(path_rectangle)\n",
        "\n",
        "            # Paint the path with the transparent overlay\n",
        "            generator.paint_path(path, fill, None)\n",
        "\n",
        "        out_pages.append(out_page)"
      ]
    },
    {
      "cell_type": "code",
      "execution_count": null,
      "id": "89f4c768-e9f0-406a-a98f-14a7572554ce",
      "metadata": {
          "id": "92e15a31-a8da-4037-9316-d4ec1ec8cda7"
      },
      "outputs": [],
      "source": [
        "try:\n",
        "    # Set and check license key. If the license key is not valid, an exception is thrown.\n",
        "    from pdftools_toolbox.sdk import Sdk\n",
        "    Sdk.initialize(\"INSERT-LICENSE-KEY\", None)\n",

        "\n",
        "    # Parse the color options\n",
        "    color, color_type, color_alpha = parse_options(options)\n",
        "    \n",
        "    # Open the input and create the output document\n",
        "    with open(input_file_path, \"rb\") as in_stream:\n",
        "        with Document.open(in_stream, None) as in_doc:\n",
        "    \n",
        "            # Create output document\n",
        "            with open(output_file_path, \"wb+\") as out_stream:\n",
        "                with Document.create(out_stream, in_doc.conformance, None) as out_doc:\n",
        "    \n",
        "                    # Copy document-wide data\n",
        "                    copy_document_data(in_doc, out_doc)\n",
        "    \n",
        "                    # Apply the overlay\n",
        "                    apply_overlay_to_pages(in_doc, out_doc, color, color_type, color_alpha)\n",

        "\n",
        "    print(\"Execution successful.\")\n",

        "except Exception as e:\n",
        "    print(f\"An error occurred: {e}\")"
      ]
    }
  ],
  "metadata": {
    "kernelspec": {
      "display_name": "Python 3",
      "language": "python",
      "name": "python3"
    },
    "language_info": {
      "codemirror_mode": {
        "name": "ipython",
        "version": 3
      },
      "file_extension": ".py",
      "mimetype": "text/x-python",
      "name": "python",
      "nbconvert_exporter": "python",
      "pygments_lexer": "ipython3",
      "version": "3.12.8"
    },
    "colab": {
      "provenance": []
    }
  },
  "nbformat": 4,
  "nbformat_minor": 5
}