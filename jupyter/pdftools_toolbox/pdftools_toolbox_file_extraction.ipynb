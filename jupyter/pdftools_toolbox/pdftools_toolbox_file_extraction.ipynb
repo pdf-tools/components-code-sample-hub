{
  "cells": [
    {
      "cell_type": "markdown",
      "id": "bdffb891-691f-4cad-8ebc-784e09244571",
      "metadata": {
          "id": "e4817af5-b729-470a-b9cc-7c8ae684a641"
      },
      "source": [
        "[![Open In Colab](https://colab.research.google.com/assets/colab-badge.svg)](https://colab.research.google.com/github/pdf-tools/components-code-sample-hub/blob/main/jupyter/pdftools_toolbox/pdftools_toolbox_file_extraction.ipynb)"
      ]
    },
    {
      "cell_type": "code",
      "execution_count": null,
      "id": "49925612-1f1f-4fa1-a0f4-4361dde733fa",
      "metadata": {
          "id": "406705cd-90ce-4bc6-92e2-7ff076115d96"
      },
      "outputs": [],
      "source": [
        "%pip install https://pdftools-public-downloads-production.s3.eu-west-1.amazonaws.com/productkits/PDFSDKXT/latest/pdftools_toolbox-latest.tar.gz\n",
        "%pip install ipython"
      ]
    },
    {
      "cell_type": "markdown",
      "id": "1d0b72b2-6eda-4715-8bf3-175386b1ba7d",
      "metadata": {
          "id": "49cafc39-3e72-4b3f-aedc-a9b4c341c725"
      },
      "source": [
        "# Extract files embedded from a PDF\n",
        "Extract the embedded files contained in the PDF to the\n",
        "file system."
      ]
    },
    {
      "cell_type": "code",
      "execution_count": null,
      "id": "8b4c9f37-50ba-4439-81fe-7de0b9584eaa",
      "metadata": {
          "id": "60e84e8c-ef35-450b-8940-948a3e759559"
      },
      "outputs": [],
      "source": [
        "import io\n",
        "import os\n",
        "from pdftools_toolbox.pdf import Document, FileReference"
      ]
    },
    {
      "cell_type": "code",
      "execution_count": null,
      "id": "22a51e63-e007-4dff-afb2-02fadcf3c878",
      "metadata": {
          "id": "b4173c0d-2db2-4de4-a9ac-caa2a1ef71e8"
      },
      "outputs": [],
      "source": [
        "# Download a file from a given URL and save it to the local system\n",
        "def prepare_file(url: str, path: str):\n",
        "    import requests\n",
        "    response = requests.get(url)\n",
        "    response.raise_for_status()\n",
        "\n",
        "    with open(path, 'wb') as f:\n",
        "        f.write(response.content)"
      ]
    },
    {
      "cell_type": "code",
      "execution_count": null,
      "id": "1b57bec2-b536-4fc8-8bc7-2ee7b6cc42c5",
      "metadata": {
          "id": "89ca6fc2-c3e0-4fdf-af2b-dd5d2c199df2"
      },
      "outputs": [],
      "source": [
        "# Set input arguments\n",
        "input_url = 'https://pdftools-public-downloads-production.s3.eu-west-1.amazonaws.com/samples/testfiles/BlankFilesEmbedded.pdf'\n",
        "input_file_path = 'BlankFilesEmbedded.pdf'\n",
        "prepare_file(input_url, input_file_path)\n",
        "output_dir = 'extracted_files'"
      ]
    },
    {
      "cell_type": "code",
      "execution_count": null,
      "id": "453b738b-4c3b-40fd-b273-7dbda8d03c57",
      "metadata": {
          "id": "4783b656-4016-48b6-8383-a6eab8483235"
      },
      "outputs": [],
      "source": [
        "def copy_to_stream(data: io.IOBase, out_stream: io.IOBase, chunk_size: int = 4096):\n",
        "    \"\"\"Copy data from an IO stream to another.\"\"\"\n",
        "    while chunk := data.read(chunk_size):\n",
        "        out_stream.write(chunk)"
      ]
    },
    {
      "cell_type": "code",
      "execution_count": null,
      "id": "0f5e9f8c-9d64-4893-8223-78a6ef962618",
      "metadata": {
          "id": "7d2712f7-285f-48c2-b63a-d0ea60ecf76e"
      },
      "outputs": [],
      "source": [
        "def extract_file(file_reference: FileReference, output_dir: str):\n",
        "    # Remove null characters\n",
        "    clean_file_name = file_reference.name.replace(chr(0), \"\")\n",
        "    output_path = os.path.join(output_dir, clean_file_name)\n",
        "\n",
        "    if file_reference.data is None:\n",
        "        raise ValueError(\"The file_reference.data stream is None.\")\n",
        "    if not file_reference.data.readable():\n",
        "        raise ValueError(\"The file_reference.data stream is not readable.\")\n",
        "\n",
        "    # Ensure the output directory exists\n",
        "    os.makedirs(output_dir, exist_ok=True)\n",
        "\n",
        "    with io.FileIO(output_path, \"wb\") as out_file:\n",
        "        copy_to_stream(file_reference.data, out_file)"
      ]
    },
    {
      "cell_type": "code",
      "execution_count": null,
      "id": "7af7978c-4b89-4219-8418-7bf919d6f3cc",
      "metadata": {
          "id": "3a589a84-3213-482c-814c-783e2c29f2e9"
      },
      "outputs": [],
      "source": [
        "try:\n",
        "    # Set and check license key. If the license key is not valid, an exception is thrown.\n",
        "    from pdftools_toolbox.sdk import Sdk\n",
        "    Sdk.initialize(\"<PDFSDK,V1,MGAASQD6L2JMQHL54PK08RQX8GG4SS0M8DAHVPH0VMP3NB8R9DUK>\", None)\n",

        "\n",
        "    # Open input document\n",
        "    with io.FileIO(input_file_path, \"rb\") as in_stream:\n",
        "        with Document.open(in_stream, None) as in_doc:\n",
        "            file_ref_list = in_doc.all_embedded_files\n",
        "            for file_ref in file_ref_list:\n",
        "                extract_file(file_ref, output_dir)\n",

        "\n",
        "    print(\"Execution successful.\")\n",

        "except Exception as e:\n",
        "    print(f\"An error occurred: {e}\")"
      ]
    }
  ],
  "metadata": {
    "kernelspec": {
      "display_name": "Python 3",
      "language": "python",
      "name": "python3"
    },
    "language_info": {
      "codemirror_mode": {
        "name": "ipython",
        "version": 3
      },
      "file_extension": ".py",
      "mimetype": "text/x-python",
      "name": "python",
      "nbconvert_exporter": "python",
      "pygments_lexer": "ipython3",
      "version": "3.12.8"
    },
    "colab": {
      "provenance": []
    }
  },
  "nbformat": 4,
  "nbformat_minor": 5
}