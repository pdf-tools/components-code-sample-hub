{
  "cells": [
    {
      "cell_type": "markdown",
      "id": "eb47a64b-dc6f-4361-b71b-20e8b3148b64",
      "metadata": {
          "id": "f63876a3-707f-489f-8326-bca897777be4"
      },
      "source": [
        "[![Open In Colab](https://colab.research.google.com/assets/colab-badge.svg)](https://colab.research.google.com/github/pdf-tools/components-code-sample-hub/blob/main/jupyter/pdftools_toolbox/pdftools_toolbox_file_extraction.ipynb)"
      ]
    },
    {
      "cell_type": "code",
      "execution_count": null,
      "id": "c3a2b2c4-e691-4dab-a84d-8e4643e64bdf",
      "metadata": {
          "id": "ce82e9c2-621e-48d4-9055-444c5fb399a8"
      },
      "outputs": [],
      "source": [
        "%pip install https://pdftools-public-downloads-production.s3.eu-west-1.amazonaws.com/productkits/PDFSDKXT/latest/pdftools_toolbox-latest.tar.gz\n",
        "%pip install ipython"
      ]
    },
    {
      "cell_type": "markdown",
      "id": "1cec5518-d742-4c08-92b8-5a8149f19602",
      "metadata": {
          "id": "0b6561d3-4d23-4b3b-a9cb-715ffb81a8e9"
      },
      "source": [
        "# Extract files embedded from a PDF\n",
        "Extract the embedded files contained in the PDF to the\n",
        "file system."
      ]
    },
    {
      "cell_type": "code",
      "execution_count": null,
      "id": "8830aca6-309e-4afb-a75a-ab5e1b43c763",
      "metadata": {
          "id": "8c60fd03-ebb5-43c1-94bd-d4947d80a961"
      },
      "outputs": [],
      "source": [
        "import io\n",
        "import os\n",
        "from pdftools_toolbox.pdf import Document, FileReference"
      ]
    },
    {
      "cell_type": "code",
      "execution_count": null,
      "id": "2bf13924-79df-4990-b334-2f1bfca501f3",
      "metadata": {
          "id": "c3d6e67f-82cf-4157-a26d-e9d0633e42de"
      },
      "outputs": [],
      "source": [
        "# Download a file from a given URL and save it to the local system\n",
        "def prepare_file(url: str, path: str):\n",
        "    import requests\n",
        "    response = requests.get(url)\n",
        "    response.raise_for_status()\n",
        "\n",
        "    with open(path, 'wb') as f:\n",
        "        f.write(response.content)"
      ]
    },
    {
      "cell_type": "code",
      "execution_count": null,
      "id": "dab6fc70-085a-4661-ae3b-404107c2f069",
      "metadata": {
          "id": "f04a19bb-5cd4-4d91-9234-9c8499ed94c0"
      },
      "outputs": [],
      "source": [
        "# Set input arguments\n",
        "input_url = 'https://pdftools-public-downloads-production.s3.eu-west-1.amazonaws.com/samples/testfiles/BlankFilesEmbedded.pdf'\n",
        "input_file_path = 'BlankFilesEmbedded.pdf'\n",
        "prepare_file(input_url, input_file_path)\n",
        "output_dir = 'extracted_files'"
      ]
    },
    {
      "cell_type": "code",
      "execution_count": null,
      "id": "9bca895d-026a-452b-b286-3d4d7dfcf056",
      "metadata": {
          "id": "8e4a777d-a010-4bf9-99d2-4a667277b6dd"
      },
      "outputs": [],
      "source": [
        "def copy_to_stream(data: io.IOBase, out_stream: io.IOBase, chunk_size: int = 4096):\n",
        "    \"\"\"Copy data from an IO stream to another.\"\"\"\n",
        "    while chunk := data.read(chunk_size):\n",
        "        out_stream.write(chunk)"
      ]
    },
    {
      "cell_type": "code",
      "execution_count": null,
      "id": "8e3866b9-af0e-4263-92c3-becad154f068",
      "metadata": {
          "id": "eb775a87-c152-4b45-8336-a076e12d842f"
      },
      "outputs": [],
      "source": [
        "def extract_file(file_reference: FileReference, output_dir: str):\n",
        "    # Remove null characters\n",
        "    clean_file_name = file_reference.name.replace(chr(0), \"\")\n",
        "    output_path = os.path.join(output_dir, clean_file_name)\n",
        "\n",
        "    if file_reference.data is None:\n",
        "        raise ValueError(\"The file_reference.data stream is None.\")\n",
        "    if not file_reference.data.readable():\n",
        "        raise ValueError(\"The file_reference.data stream is not readable.\")\n",
        "\n",
        "    # Ensure the output directory exists\n",
        "    os.makedirs(output_dir, exist_ok=True)\n",
        "\n",
        "    with io.FileIO(output_path, \"wb\") as out_file:\n",
        "        copy_to_stream(file_reference.data, out_file)"
      ]
    },
    {
      "cell_type": "code",
      "execution_count": null,
      "id": "06ffeddf-c0c0-4594-b9a8-95d67f6330fe",
      "metadata": {
          "id": "87646e5f-2a3e-4880-8e09-37ca9d8f964e"
      },
      "outputs": [],
      "source": [
        "try:\n",
        "    # Set and check license key. If the license key is not valid, an exception is thrown.\n",
        "    from pdftools_toolbox.sdk import Sdk\n",
        "    Sdk.initialize(\"INSERT-LICENSE-KEY\", None)\n",

        "\n",
        "    # Open input document\n",
        "    with io.FileIO(input_file_path, \"rb\") as in_stream:\n",
        "        with Document.open(in_stream, None) as in_doc:\n",
        "            file_ref_list = in_doc.all_embedded_files\n",
        "            for file_ref in file_ref_list:\n",
        "                extract_file(file_ref, output_dir)\n",

        "\n",
        "    print(\"Execution successful.\")\n",

        "except Exception as e:\n",
        "    print(f\"An error occurred: {e}\")"
      ]
    }
  ],
  "metadata": {
    "kernelspec": {
      "display_name": "Python 3",
      "language": "python",
      "name": "python3"
    },
    "language_info": {
      "codemirror_mode": {
        "name": "ipython",
        "version": 3
      },
      "file_extension": ".py",
      "mimetype": "text/x-python",
      "name": "python",
      "nbconvert_exporter": "python",
      "pygments_lexer": "ipython3",
      "version": "3.12.8"
    },
    "colab": {
      "provenance": []
    }
  },
  "nbformat": 4,
  "nbformat_minor": 5
}