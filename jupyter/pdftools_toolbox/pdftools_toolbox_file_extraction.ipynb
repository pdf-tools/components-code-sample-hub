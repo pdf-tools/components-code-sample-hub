{
  "cells": [
    {
      "cell_type": "markdown",
      "id": "3ef5581c-f8e0-4f09-b5db-9225329221b0",
      "metadata": {
          "id": "8b2989aa-4de5-44c3-962a-a43fba6acc40"
      },
      "source": [
        "[![Open In Colab](https://colab.research.google.com/assets/colab-badge.svg)](https://colab.research.google.com/github/pdf-tools/components-code-sample-hub/blob/main/jupyter/pdftools_toolbox/pdftools_toolbox_file_extraction.ipynb)"
      ]
    },
    {
      "cell_type": "code",
      "execution_count": null,
      "id": "cc908b05-9ae3-4999-aa19-cd6693bb7fe3",
      "metadata": {
          "id": "d2c733b7-1706-4575-8d21-ad6f8f02e976"
      },
      "outputs": [],
      "source": [
        "%pip install https://pdftools-public-downloads-production.s3.eu-west-1.amazonaws.com/productkits/PDFSDKXT/latest/pdftools_toolbox-latest.tar.gz\n",
        "%pip install ipython"
      ]
    },
    {
      "cell_type": "markdown",
      "id": "fd3322ef-5fd8-4db9-be75-67f7f35cf9e3",
      "metadata": {
          "id": "32183886-fc40-43c9-93c0-6b83e9c045e3"
      },
      "source": [
        "# Extract files embedded from a PDF\n",
        "Extract the embedded files contained in the PDF to the\n",
        "file system."
      ]
    },
    {
      "cell_type": "code",
      "execution_count": null,
      "id": "f8dfae02-4f2c-47e0-942f-402759ebe84b",
      "metadata": {
          "id": "70fed5f2-853c-46da-ac6d-965e490d026c"
      },
      "outputs": [],
      "source": [
        "import io\n",
        "import os\n",
        "from pdftools_toolbox.pdf import Document, FileReference"
      ]
    },
    {
      "cell_type": "code",
      "execution_count": null,
      "id": "5fdb78c6-796f-4a08-a6c0-7bebfe81b4da",
      "metadata": {
          "id": "f3a246d8-316e-4f0b-aeba-a12c3af2c1c0"
      },
      "outputs": [],
      "source": [
        "# Download a file from a given URL and save it to the local system\n",
        "def prepare_file(url: str, path: str):\n",
        "    import requests\n",
        "    response = requests.get(url)\n",
        "    response.raise_for_status()\n",
        "\n",
        "    with open(path, 'wb') as f:\n",
        "        f.write(response.content)"
      ]
    },
    {
      "cell_type": "code",
      "execution_count": null,
      "id": "5106ffbc-c730-46ce-ac4b-88afb7930095",
      "metadata": {
          "id": "665fd2bb-f9b9-4bf2-b66a-4043ce1f9c7c"
      },
      "outputs": [],
      "source": [
        "# Set input arguments\n",
        "input_url = 'https://pdftools-public-downloads-production.s3.eu-west-1.amazonaws.com/samples/testfiles/BlankFilesEmbedded.pdf'\n",
        "input_file_path = 'BlankFilesEmbedded.pdf'\n",
        "prepare_file(input_url, input_file_path)\n",
        "output_dir = 'extracted_files'"
      ]
    },
    {
      "cell_type": "code",
      "execution_count": null,
      "id": "cb8f5597-421a-43dd-8e43-5a5ac6b90543",
      "metadata": {
          "id": "775ffe9e-12a3-460d-a6c6-3a72600341b8"
      },
      "outputs": [],
      "source": [
        "def copy_to_stream(data: io.IOBase, out_stream: io.IOBase, chunk_size: int = 4096):\n",
        "    \"\"\"Copy data from an IO stream to another.\"\"\"\n",
        "    while chunk := data.read(chunk_size):\n",
        "        out_stream.write(chunk)"
      ]
    },
    {
      "cell_type": "code",
      "execution_count": null,
      "id": "270aa4a3-a368-4f95-b6ba-a02408414e8a",
      "metadata": {
          "id": "a266a7d8-b413-4d0b-8239-9c20247791c4"
      },
      "outputs": [],
      "source": [
        "def extract_file(file_reference: FileReference, output_dir: str):\n",
        "    # Remove null characters\n",
        "    clean_file_name = file_reference.name.replace(chr(0), \"\")\n",
        "    output_path = os.path.join(output_dir, clean_file_name)\n",
        "\n",
        "    if file_reference.data is None:\n",
        "        raise ValueError(\"The file_reference.data stream is None.\")\n",
        "    if not file_reference.data.readable():\n",
        "        raise ValueError(\"The file_reference.data stream is not readable.\")\n",
        "\n",
        "    # Ensure the output directory exists\n",
        "    os.makedirs(output_dir, exist_ok=True)\n",
        "\n",
        "    with io.FileIO(output_path, \"wb\") as out_file:\n",
        "        copy_to_stream(file_reference.data, out_file)"
      ]
    },
    {
      "cell_type": "code",
      "execution_count": null,
      "id": "7f2b06f9-7ad9-41e5-bbc3-0fbafa51906e",
      "metadata": {
          "id": "667417e9-efaa-4fdf-bb24-041bc5987386"
      },
      "outputs": [],
      "source": [
        "try:\n",
        "    # Set and check license key. If the license key is not valid, an exception is thrown.\n",
        "    from pdftools_toolbox.sdk import Sdk\n",
        "    Sdk.initialize(\"INSERT-LICENSE-KEY\", None)\n",

        "\n",
        "    # Open input document\n",
        "    with io.FileIO(input_file_path, \"rb\") as in_stream:\n",
        "        with Document.open(in_stream, None) as in_doc:\n",
        "            file_ref_list = in_doc.all_embedded_files\n",
        "            for file_ref in file_ref_list:\n",
        "                extract_file(file_ref, output_dir)\n",

        "\n",
        "    print(\"Execution successful.\")\n",

        "except Exception as e:\n",
        "    print(f\"An error occurred: {e}\")"
      ]
    }
  ],
  "metadata": {
    "kernelspec": {
      "display_name": "Python 3",
      "language": "python",
      "name": "python3"
    },
    "language_info": {
      "codemirror_mode": {
        "name": "ipython",
        "version": 3
      },
      "file_extension": ".py",
      "mimetype": "text/x-python",
      "name": "python",
      "nbconvert_exporter": "python",
      "pygments_lexer": "ipython3",
      "version": "3.12.8"
    },
    "colab": {
      "provenance": []
    }
  },
  "nbformat": 4,
  "nbformat_minor": 5
}