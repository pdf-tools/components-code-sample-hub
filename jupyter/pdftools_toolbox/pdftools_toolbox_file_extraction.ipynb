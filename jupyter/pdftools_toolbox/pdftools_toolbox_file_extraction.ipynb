{
  "cells": [
    {
      "cell_type": "markdown",
      "id": "3f106001-7101-449c-b868-6644aa54e48f",
      "metadata": {
          "id": "adf46c7f-a984-41b5-8967-6050afc03690"
      },
      "source": [
        "[![Open In Colab](https://colab.research.google.com/assets/colab-badge.svg)](https://colab.research.google.com/github/pdf-tools/components-code-sample-hub/blob/main/jupyter/pdftools_toolbox/pdftools_toolbox_file_extraction.ipynb)"
      ]
    },
    {
      "cell_type": "code",
      "execution_count": null,
      "id": "2e240e81-4191-4b77-9980-15645f825960",
      "metadata": {
          "id": "aa95f13d-b450-4015-9c85-9248c8aab175"
      },
      "outputs": [],
      "source": [
        "%pip install pdftools_toolbox\n",
        "%pip install ipython"
      ]
    },
    {
      "cell_type": "markdown",
      "id": "0be07754-9a33-423b-b59d-daf9c2ebf79a",
      "metadata": {
          "id": "7da26501-5615-49d4-a4db-e1ef342dfc08"
      },
      "source": [
        "# Extract files embedded from a PDF\n",
        "Extract the embedded files contained in the PDF to the\n",
        "file system."
      ]
    },
    {
      "cell_type": "code",
      "execution_count": null,
      "id": "82d4200d-f13f-4aee-8bed-4470112b3c71",
      "metadata": {
          "id": "6443fc67-aff3-46b3-a2d4-5bb95d860458"
      },
      "outputs": [],
      "source": [
        "import io\n",
        "import os\n",
        "from pdftools_toolbox.pdf import Document, FileReference"
      ]
    },
    {
      "cell_type": "code",
      "execution_count": null,
      "id": "3dcca593-b732-4520-9680-3c6b5b4c35b5",
      "metadata": {
          "id": "e276134a-b731-4064-b86c-f49abefc11dc"
      },
      "outputs": [],
      "source": [
        "# Download a file from a given URL and save it to the local system\n",
        "def prepare_file(url: str, path: str):\n",
        "    import requests\n",
        "    response = requests.get(url)\n",
        "    response.raise_for_status()\n",
        "\n",
        "    with open(path, 'wb') as f:\n",
        "        f.write(response.content)"
      ]
    },
    {
      "cell_type": "code",
      "execution_count": null,
      "id": "06cc4e5f-e823-4425-86cd-ccbd506641a0",
      "metadata": {
          "id": "027ebd5d-aee1-49fe-b281-bcc5fcc1ffe6"
      },
      "outputs": [],
      "source": [
        "# Set input arguments\n",
        "input_url = 'https://pdftools-public-downloads-production.s3.eu-west-1.amazonaws.com/samples/testfiles/BlankFilesEmbedded.pdf'\n",
        "input_file_path = 'BlankFilesEmbedded.pdf'\n",
        "prepare_file(input_url, input_file_path)\n",
        "output_dir = 'extracted_files'"
      ]
    },
    {
      "cell_type": "code",
      "execution_count": null,
      "id": "b0354410-3d14-4df6-87f5-7feb47233d15",
      "metadata": {
          "id": "ca93973a-144b-4c6f-94c9-e4d6302ccf17"
      },
      "outputs": [],
      "source": [
        "def copy_to_stream(data: io.IOBase, out_stream: io.IOBase, chunk_size: int = 4096):\n",
        "    \"\"\"Copy data from an IO stream to another.\"\"\"\n",
        "    while chunk := data.read(chunk_size):\n",
        "        out_stream.write(chunk)"
      ]
    },{
      "cell_type": "code",
      "execution_count": null,
      "id": "c4ff2d3b-7610-4240-a229-c1df1b84fb24",
      "metadata": {
          "id": "e4f57de6-a031-47f6-be19-241eacc78e21"
      },
      "outputs": [],
      "source": [
        "def extract_file(file_reference: FileReference, output_dir: str):\n",
        "    # Remove null characters\n",
        "    clean_file_name = file_reference.name.replace(chr(0), \"\")\n",
        "    output_path = os.path.join(output_dir, clean_file_name)\n",
        "\n",
        "    if file_reference.data is None:\n",
        "        raise ValueError(\"The file_reference.data stream is None.\")\n",
        "    if not file_reference.data.readable():\n",
        "        raise ValueError(\"The file_reference.data stream is not readable.\")\n",
        "\n",
        "    # Ensure the output directory exists\n",
        "    os.makedirs(output_dir, exist_ok=True)\n",
        "\n",
        "    with io.FileIO(output_path, \"wb\") as out_file:\n",
        "        copy_to_stream(file_reference.data, out_file)"
      ]
    },
    {
      "cell_type": "code",
      "execution_count": null,
      "id": "7d57adac-6ae0-47f9-ac27-bd8f4e5e334f",
      "metadata": {
          "id": "35dadb22-df40-4c7a-bb37-944835500a44"
      },
      "outputs": [],
      "source": [
        "try:\n",
        "    # Set and check license key. If the license key is not valid, an exception is thrown.\n",
        "    from pdftools_toolbox.sdk import Sdk\n",
        "    Sdk.initialize(\"INSERT-LICENSE-KEY\", None)\n",

        "\n",
        "    # Open input document\n",
        "    with io.FileIO(input_file_path, \"rb\") as in_stream:\n",
        "        with Document.open(in_stream, None) as in_doc:\n",
        "            file_ref_list = in_doc.all_embedded_files\n",
        "            for file_ref in file_ref_list:\n",
        "                extract_file(file_ref, output_dir)\n",

        "\n",
        "    print(\"Execution successful.\")\n",

        "except Exception as e:\n",
        "    print(f\"An error occurred: {e}\")"
      ]
    }
  ],
  "metadata": {
    "kernelspec": {
      "display_name": "Python 3",
      "language": "python",
      "name": "python3"
    },
    "language_info": {
      "codemirror_mode": {
        "name": "ipython",
        "version": 3
      },
      "file_extension": ".py",
      "mimetype": "text/x-python",
      "name": "python",
      "nbconvert_exporter": "python",
      "pygments_lexer": "ipython3",
      "version": "3.12.8"
    },
    "colab": {
      "provenance": []
    }
  },
  "nbformat": 4,
  "nbformat_minor": 5
}