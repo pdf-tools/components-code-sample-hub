{
  "cells": [
    {
      "cell_type": "markdown",
      "id": "6d5adcac-4d96-4f17-9309-4966c17052b8",
      "metadata": {
          "id": "40adf91e-8712-4b7b-8ef8-b70049e9a0cd"
      },
      "source": [
        "[![Open In Colab](https://colab.research.google.com/assets/colab-badge.svg)](https://colab.research.google.com/github/pdf-tools/components-code-sample-hub/blob/main/jupyter/pdftools_toolbox/pdftools_toolbox_add_data_matrix.ipynb)"
      ]
    },
    {
      "cell_type": "code",
      "execution_count": null,
      "id": "80104284-8835-4090-9c96-acc3eda4a345",
      "metadata": {
          "id": "699bbf9d-5a1a-4eb5-b9c6-021b62c9b9de"
      },
      "outputs": [],
      "source": [
        "%pip install https://pdftools-public-downloads-production.s3.eu-west-1.amazonaws.com/productkits/PDFSDKXT/latest/pdftools_toolbox-latest.tar.gz\n",
        "%pip install ipython"
      ]
    },
    {
      "cell_type": "markdown",
      "id": "54ebe032-3b30-4047-b33f-67710cf15ce2",
      "metadata": {
          "id": "e95d598e-84bb-4d97-84a5-b74724d5abd7"
      },
      "source": [
        "# Add Data Matrix to PDF\n",
        "Add a two-dimensional barcode from an existing image on\n",
        "the first page of a PDF document."
      ]
    },
    {
      "cell_type": "code",
      "execution_count": null,
      "id": "82283fb7-1db7-4223-96f1-7f271626f554",
      "metadata": {
          "id": "bd493ad6-d75a-4236-9b84-174c7d5f29a6"
      },
      "outputs": [],
      "source": [
        "import io\n",
        "from pdftools_toolbox.pdf import Document, FileReference, Metadata, Page, PageCopyOptions, PageList\n",
        "from pdftools_toolbox.geometry.real import Rectangle\n",
        "from pdftools_toolbox.pdf.content import ContentGenerator, IccBasedColorSpace, Image\n",
        "from pdftools_toolbox.pdf.navigation import ViewerSettings"
      ]
    },
    {
      "cell_type": "code",
      "execution_count": null,
      "id": "cf05fa4b-4642-4229-8439-91adafc6232b",
      "metadata": {
          "id": "fc39c976-6010-4522-8f99-509aa391da14"
      },
      "outputs": [],
      "source": [
        "# Download a file from a given URL and save it to the local system\n",
        "def prepare_file(url: str, path: str):\n",
        "    import requests\n",
        "    response = requests.get(url)\n",
        "    response.raise_for_status()\n",
        "\n",
        "    with open(path, 'wb') as f:\n",
        "        f.write(response.content)"
      ]
    },
    {
      "cell_type": "code",
      "execution_count": null,
      "id": "22692967-495b-40f8-abb9-4be386e9bd13",
      "metadata": {
          "id": "b31ce42a-8a50-4b45-be67-0b3d02e9a5fe"
      },
      "outputs": [],
      "source": [
        "# Set input arguments\n",
        "input_url = 'https://pdftools-public-downloads-production.s3.eu-west-1.amazonaws.com/samples/testfiles/InvoiceNone.pdf'\n",
        "input_file_path = 'InvoiceNone.pdf'\n",
        "prepare_file(input_url, input_file_path)\n",
        "data_matrix_url = 'https://pdftools-public-downloads-production.s3.eu-west-1.amazonaws.com/samples/testfiles/DataMatrix.png'\n",
        "data_matrix_path = 'DataMatrix.png'\n",
        "prepare_file(data_matrix_url, data_matrix_path)\n",
        "output_file_path = 'InvoiceWithDataMatrix.pdf'"
      ]
    },
    {
      "cell_type": "code",
      "execution_count": null,
      "id": "e1af8b76-fe84-4313-a464-2a0ca6182811",
      "metadata": {
          "id": "7bac4457-3dbb-4783-8d0a-cbf959e29912"
      },
      "outputs": [],
      "source": [
        "def copy_document_data(in_doc: Document, out_doc: Document):\n",
        "    # Copy document-wide data\n",
        "\n",
        "    # Output intent\n",
        "    if in_doc.output_intent is not None:\n",
        "        in_doc.output_intent = IccBasedColorSpace.copy(out_doc, in_doc.output_intent)\n",
        "\n",
        "    # Metadata\n",
        "    out_doc.metadata = Metadata.copy(out_doc, in_doc.metadata)\n",
        "\n",
        "    # Viewer settings\n",
        "    out_doc.viewer_settings = ViewerSettings.copy(out_doc, in_doc.viewer_settings)\n",
        "\n",
        "    # Associated files (for PDF/A-3 and PDF 2.0 only)\n",
        "    outAssociatedFiles = out_doc.associated_files\n",
        "    for in_file_ref in in_doc.associated_files:\n",
        "        outAssociatedFiles.append(FileReference.copy(out_doc, in_file_ref))\n",
        "\n",
        "    # Plain embedded files\n",
        "    out_embedded_files = out_doc.plain_embedded_files\n",
        "    for in_file_ref in in_doc.plain_embedded_files:\n",
        "        out_embedded_files.append(FileReference.copy(out_doc, in_file_ref))"
      ]
    },
    {
      "cell_type": "code",
      "execution_count": null,
      "id": "04555465-4397-4e7e-9b59-26a3dec40f04",
      "metadata": {
          "id": "438927d9-cc15-41d9-8112-098c51c980bd"
      },
      "outputs": [],
      "source": [
        "def add_data_matrix(document: Document, page: Page, data_matrix_path: str):\n",
        "    # Create content generator\n",
        "    with ContentGenerator(page.content, False) as generator:\n",
        "\n",
        "        #  Import data matrix\n",
        "        with io.FileIO(data_matrix_path, 'rb') as in_matrix_stream:\n",
        "\n",
        "            # Create image object for data matrix\n",
        "            data_matrix = Image.create(document, in_matrix_stream)\n",
        "\n",
        "            # Data matrix size\n",
        "            data_matrix_size = 85\n",
        "\n",
        "            # Calculate Rectangle for data matrix\n",
        "            rect = Rectangle(left=border, bottom=page.size.height - (data_matrix_size + border), right=data_matrix_size + border, top=page.size.height - border)\n",
        "\n",
        "        # Paint the positioned barcode text\n",
        "        generator.paint_image(data_matrix, rect)"
      ]
    },
    {
      "cell_type": "code",
      "execution_count": null,
      "id": "a3ba5b16-9504-4223-8a67-18128111ccb1",
      "metadata": {
          "id": "5c72a801-75ab-4633-9e1c-44c9a6165776"
      },
      "outputs": [],
      "source": [
        "try:\n",
        "    # Set and check license key. If the license key is not valid, an exception is thrown.\n",
        "    from pdftools_toolbox.sdk import Sdk\n",
        "    Sdk.initialize(\"<PDFSDK,V1,MGAASQD6L2JMQHL54PK08RQX8GG4SS0M8DAHVPH0VMP3NB8R9DUK>\", None)\n",

        "\n",
        "    # Define border\n",
        "    border = 40\n",
        "    \n",
        "    # Open input document\n",
        "    with io.FileIO(input_file_path, 'rb') as in_stream:\n",
        "        with Document.open(in_stream, None) as in_doc:\n",
        "    \n",
        "            # Create output document\n",
        "            with io.FileIO(output_file_path, 'wb+') as output_stream:\n",
        "                with Document.create(output_stream, in_doc.conformance, None) as out_doc:\n",
        "    \n",
        "                    # Copy document-wide data\n",
        "                    copy_document_data(in_doc, out_doc)\n",
        "    \n",
        "                    # Define page copy options\n",
        "                    copy_options = PageCopyOptions()\n",
        "    \n",
        "                    # Copy first page, add datamatrix image, and append to output document\n",
        "                    out_page = Page.copy(out_doc, in_doc.pages[0], copy_options)\n",
        "                    add_data_matrix(out_doc, out_page, data_matrix_path)\n",
        "                    out_doc.pages.append(out_page)\n",
        "    \n",
        "                    # Copy remaining pages and append to output document\n",
        "                    in_page_range = in_doc.pages[1:]\n",
        "                    copied_pages = PageList.copy(out_doc, in_page_range, copy_options)\n",
        "                    out_doc.pages.extend(copied_pages)\n",

        "\n",
        "    print(\"Execution successful.\")\n",

        "except Exception as e:\n",
        "    print(f\"An error occurred: {e}\")"
      ]
    }
  ],
  "metadata": {
    "kernelspec": {
      "display_name": "Python 3",
      "language": "python",
      "name": "python3"
    },
    "language_info": {
      "codemirror_mode": {
        "name": "ipython",
        "version": 3
      },
      "file_extension": ".py",
      "mimetype": "text/x-python",
      "name": "python",
      "nbconvert_exporter": "python",
      "pygments_lexer": "ipython3",
      "version": "3.12.8"
    },
    "colab": {
      "provenance": []
    }
  },
  "nbformat": 4,
  "nbformat_minor": 5
}