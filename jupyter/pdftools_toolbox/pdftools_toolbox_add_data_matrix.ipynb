{
  "cells": [
    {
      "cell_type": "markdown",
      "id": "ab988620-b643-49a6-b90d-b3f9bad604f6",
      "metadata": {
          "id": "3b7f6e38-c2fa-4d5e-bc28-9c4470c47c45"
      },
      "source": [
        "[![Open In Colab](https://colab.research.google.com/assets/colab-badge.svg)](https://colab.research.google.com/github/pdf-tools/components-code-sample-hub/blob/main/jupyter/pdftools_toolbox/pdftools_toolbox_add_data_matrix.ipynb)"
      ]
    },
    {
      "cell_type": "code",
      "execution_count": null,
      "id": "040ed4a0-11c7-42f3-9957-2057d79c52a4",
      "metadata": {
          "id": "2147dd15-897e-46da-8746-600b3ba36356"
      },
      "outputs": [],
      "source": [
        "%pip install https://pdftools-public-downloads-production.s3.eu-west-1.amazonaws.com/productkits/PDFSDKXT/latest/pdftools_toolbox-latest.tar.gz\n",
        "%pip install ipython"
      ]
    },
    {
      "cell_type": "markdown",
      "id": "82dfbcb1-8549-442d-8d0a-b0ec7b3b976e",
      "metadata": {
          "id": "8bc50033-c1f6-408d-98a4-00315beacba7"
      },
      "source": [
        "# Add Data Matrix to PDF\n",
        "Add a two-dimensional barcode from an existing image on\n",
        "the first page of a PDF document."
      ]
    },
    {
      "cell_type": "code",
      "execution_count": null,
      "id": "5dc3487a-f9c8-485e-9e1a-0d2a2df0ca2e",
      "metadata": {
          "id": "38835889-5997-4116-a114-aefe3847a62f"
      },
      "outputs": [],
      "source": [
        "import io\n",
        "from pdftools_toolbox.pdf import Document, FileReference, Metadata, Page, PageCopyOptions, PageList\n",
        "from pdftools_toolbox.geometry.real import Rectangle\n",
        "from pdftools_toolbox.pdf.content import ContentGenerator, IccBasedColorSpace, Image\n",
        "from pdftools_toolbox.pdf.navigation import ViewerSettings"
      ]
    },
    {
      "cell_type": "code",
      "execution_count": null,
      "id": "f0e99d89-ba42-4d47-a2d5-a6c03209464e",
      "metadata": {
          "id": "8ba87500-49ff-4964-b4d9-311de628b2fe"
      },
      "outputs": [],
      "source": [
        "# Download a file from a given URL and save it to the local system\n",
        "def prepare_file(url: str, path: str):\n",
        "    import requests\n",
        "    response = requests.get(url)\n",
        "    response.raise_for_status()\n",
        "\n",
        "    with open(path, 'wb') as f:\n",
        "        f.write(response.content)"
      ]
    },
    {
      "cell_type": "code",
      "execution_count": null,
      "id": "8a98ea7d-dc2d-4044-8695-878821c0de63",
      "metadata": {
          "id": "ef83b448-c1a3-46b4-afa2-ed1977960008"
      },
      "outputs": [],
      "source": [
        "# Set input arguments\n",
        "input_url = 'https://pdftools-public-downloads-production.s3.eu-west-1.amazonaws.com/samples/testfiles/InvoiceNone.pdf'\n",
        "input_file_path = 'InvoiceNone.pdf'\n",
        "prepare_file(input_url, input_file_path)\n",
        "data_matrix_url = 'https://pdftools-public-downloads-production.s3.eu-west-1.amazonaws.com/samples/testfiles/DataMatrix.png'\n",
        "data_matrix_path = 'DataMatrix.png'\n",
        "prepare_file(data_matrix_url, data_matrix_path)\n",
        "output_file_path = 'InvoiceWithDataMatrix.pdf'"
      ]
    },
    {
      "cell_type": "code",
      "execution_count": null,
      "id": "91dd290b-86e2-4ae5-ae2f-6af88b4f873d",
      "metadata": {
          "id": "33618516-8c26-421a-9ae5-af020cdfeb22"
      },
      "outputs": [],
      "source": [
        "def copy_document_data(in_doc: Document, out_doc: Document):\n",
        "    # Copy document-wide data\n",
        "\n",
        "    # Output intent\n",
        "    if in_doc.output_intent is not None:\n",
        "        in_doc.output_intent = IccBasedColorSpace.copy(out_doc, in_doc.output_intent)\n",
        "\n",
        "    # Metadata\n",
        "    out_doc.metadata = Metadata.copy(out_doc, in_doc.metadata)\n",
        "\n",
        "    # Viewer settings\n",
        "    out_doc.viewer_settings = ViewerSettings.copy(out_doc, in_doc.viewer_settings)\n",
        "\n",
        "    # Associated files (for PDF/A-3 and PDF 2.0 only)\n",
        "    outAssociatedFiles = out_doc.associated_files\n",
        "    for in_file_ref in in_doc.associated_files:\n",
        "        outAssociatedFiles.append(FileReference.copy(out_doc, in_file_ref))\n",
        "\n",
        "    # Plain embedded files\n",
        "    out_embedded_files = out_doc.plain_embedded_files\n",
        "    for in_file_ref in in_doc.plain_embedded_files:\n",
        "        out_embedded_files.append(FileReference.copy(out_doc, in_file_ref))"
      ]
    },
    {
      "cell_type": "code",
      "execution_count": null,
      "id": "1a43a1f8-af38-4b7f-945e-cb0ff372b33e",
      "metadata": {
          "id": "015f6990-5520-4d69-bd7b-571ade14fbfc"
      },
      "outputs": [],
      "source": [
        "def add_data_matrix(document: Document, page: Page, data_matrix_path: str):\n",
        "    # Create content generator\n",
        "    with ContentGenerator(page.content, False) as generator:\n",
        "\n",
        "        #  Import data matrix\n",
        "        with io.FileIO(data_matrix_path, 'rb') as in_matrix_stream:\n",
        "\n",
        "            # Create image object for data matrix\n",
        "            data_matrix = Image.create(document, in_matrix_stream)\n",
        "\n",
        "            # Data matrix size\n",
        "            data_matrix_size = 85\n",
        "\n",
        "            # Calculate Rectangle for data matrix\n",
        "            rect = Rectangle(left=border, bottom=page.size.height - (data_matrix_size + border), right=data_matrix_size + border, top=page.size.height - border)\n",
        "\n",
        "        # Paint the positioned barcode text\n",
        "        generator.paint_image(data_matrix, rect)"
      ]
    },
    {
      "cell_type": "code",
      "execution_count": null,
      "id": "61886bf2-b07a-440b-b21a-bfba5c736e0a",
      "metadata": {
          "id": "f4e33816-f73a-4c52-a9aa-70726c0b5fa7"
      },
      "outputs": [],
      "source": [
        "try:\n",
        "    # Set and check license key. If the license key is not valid, an exception is thrown.\n",
        "    from pdftools_toolbox.sdk import Sdk\n",
        "    Sdk.initialize(\"INSERT-LICENSE-KEY\", None)\n",

        "\n",
        "    # Define border\n",
        "    border = 40\n",
        "    \n",
        "    # Open input document\n",
        "    with io.FileIO(input_file_path, 'rb') as in_stream:\n",
        "        with Document.open(in_stream, None) as in_doc:\n",
        "    \n",
        "            # Create output document\n",
        "            with io.FileIO(output_file_path, 'wb+') as output_stream:\n",
        "                with Document.create(output_stream, in_doc.conformance, None) as out_doc:\n",
        "    \n",
        "                    # Copy document-wide data\n",
        "                    copy_document_data(in_doc, out_doc)\n",
        "    \n",
        "                    # Define page copy options\n",
        "                    copy_options = PageCopyOptions()\n",
        "    \n",
        "                    # Copy first page, add datamatrix image, and append to output document\n",
        "                    out_page = Page.copy(out_doc, in_doc.pages[0], copy_options)\n",
        "                    add_data_matrix(out_doc, out_page, data_matrix_path)\n",
        "                    out_doc.pages.append(out_page)\n",
        "    \n",
        "                    # Copy remaining pages and append to output document\n",
        "                    in_page_range = in_doc.pages[1:]\n",
        "                    copied_pages = PageList.copy(out_doc, in_page_range, copy_options)\n",
        "                    out_doc.pages.extend(copied_pages)\n",

        "\n",
        "    print(\"Execution successful.\")\n",

        "except Exception as e:\n",
        "    print(f\"An error occurred: {e}\")"
      ]
    }
  ],
  "metadata": {
    "kernelspec": {
      "display_name": "Python 3",
      "language": "python",
      "name": "python3"
    },
    "language_info": {
      "codemirror_mode": {
        "name": "ipython",
        "version": 3
      },
      "file_extension": ".py",
      "mimetype": "text/x-python",
      "name": "python",
      "nbconvert_exporter": "python",
      "pygments_lexer": "ipython3",
      "version": "3.12.8"
    },
    "colab": {
      "provenance": []
    }
  },
  "nbformat": 4,
  "nbformat_minor": 5
}