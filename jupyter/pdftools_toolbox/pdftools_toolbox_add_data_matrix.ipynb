{
  "cells": [
    {
      "cell_type": "markdown",
      "id": "2517d469-81fa-4a5c-a29b-16a4609ba231",
      "metadata": {
          "id": "7a6f1483-49cb-4043-ade0-c86c33811aa4"
      },
      "source": [
        "[![Open In Colab](https://colab.research.google.com/assets/colab-badge.svg)](https://colab.research.google.com/github/pdf-tools/components-code-sample-hub/blob/main/jupyter/pdftools_toolbox/pdftools_toolbox_add_data_matrix.ipynb)"
      ]
    },
    {
      "cell_type": "code",
      "execution_count": null,
      "id": "ac91892d-a3a1-4291-b1c2-14addd7f57da",
      "metadata": {
          "id": "3866cc99-10aa-4652-9858-42c2f0718af4"
      },
      "outputs": [],
      "source": [
        "%pip install pdftools_toolbox\n",
        "%pip install ipython"
      ]
    },
    {
      "cell_type": "markdown",
      "id": "2b3aa871-e9fe-489c-b24c-49b46c1a9685",
      "metadata": {
          "id": "952bcf3d-f31c-4ee2-9d17-f9f92d71d015"
      },
      "source": [
        "# Add Data Matrix to PDF\n",
        "Add a two-dimensional barcode from an existing image on\n",
        "the first page of a PDF document."
      ]
    },
    {
      "cell_type": "code",
      "execution_count": null,
      "id": "51f4ff7b-0268-4513-aa23-518e26d506b7",
      "metadata": {
          "id": "789e0a5e-1a83-4bcd-b074-e8268f4025b3"
      },
      "outputs": [],
      "source": [
        "import io\n",
        "from pdftools_toolbox.pdf import Document, FileReference, Metadata, Page, PageCopyOptions, PageList\n",
        "from pdftools_toolbox.geometry.real import Rectangle\n",
        "from pdftools_toolbox.pdf.content import ContentGenerator, IccBasedColorSpace, Image\n",
        "from pdftools_toolbox.pdf.navigation import ViewerSettings"
      ]
    },
    {
      "cell_type": "code",
      "execution_count": null,
      "id": "96cb67a1-7031-4faa-b468-33b3d1bbe392",
      "metadata": {
          "id": "8a2e12c8-3012-449e-ae63-10f10a5a2082"
      },
      "outputs": [],
      "source": [
        "# Download a file from a given URL and save it to the local system\n",
        "def prepare_file(url: str, path: str):\n",
        "    import requests\n",
        "    response = requests.get(url)\n",
        "    response.raise_for_status()\n",
        "\n",
        "    with open(path, 'wb') as f:\n",
        "        f.write(response.content)"
      ]
    },
    {
      "cell_type": "code",
      "execution_count": null,
      "id": "ac9b057f-1196-4f5d-b545-9e187d7057fd",
      "metadata": {
          "id": "8006f7ca-aa0a-49bf-8573-252fc64f287a"
      },
      "outputs": [],
      "source": [
        "# Set input arguments\n",
        "input_url = 'https://pdftools-public-downloads-production.s3.eu-west-1.amazonaws.com/samples/testfiles/InvoiceNone.pdf'\n",
        "input_file_path = 'InvoiceNone.pdf'\n",
        "prepare_file(input_url, input_file_path)\n",
        "data_matrix_url = 'https://pdftools-public-downloads-production.s3.eu-west-1.amazonaws.com/samples/testfiles/DataMatrix.png'\n",
        "data_matrix_path = 'DataMatrix.png'\n",
        "prepare_file(data_matrix_url, data_matrix_path)\n",
        "output_file_path = 'InvoiceWithDataMatrix.pdf'"
      ]
    },
    {
      "cell_type": "code",
      "execution_count": null,
      "id": "427f5264-dd86-4475-b288-4efe81d63de3",
      "metadata": {
          "id": "eb69079a-60ce-4412-8259-a1e03e2d6e61"
      },
      "outputs": [],
      "source": [
        "def copy_document_data(in_doc: Document, out_doc: Document):\n",
        "    # Copy document-wide data\n",
        "\n",
        "    # Output intent\n",
        "    if in_doc.output_intent is not None:\n",
        "        in_doc.output_intent = IccBasedColorSpace.copy(out_doc, in_doc.output_intent)\n",
        "\n",
        "    # Metadata\n",
        "    out_doc.metadata = Metadata.copy(out_doc, in_doc.metadata)\n",
        "\n",
        "    # Viewer settings\n",
        "    out_doc.viewer_settings = ViewerSettings.copy(out_doc, in_doc.viewer_settings)\n",
        "\n",
        "    # Associated files (for PDF/A-3 and PDF 2.0 only)\n",
        "    outAssociatedFiles = out_doc.associated_files\n",
        "    for in_file_ref in in_doc.associated_files:\n",
        "        outAssociatedFiles.append(FileReference.copy(out_doc, in_file_ref))\n",
        "\n",
        "    # Plain embedded files\n",
        "    out_embedded_files = out_doc.plain_embedded_files\n",
        "    for in_file_ref in in_doc.plain_embedded_files:\n",
        "        out_embedded_files.append(FileReference.copy(out_doc, in_file_ref))"
      ]
    },{
      "cell_type": "code",
      "execution_count": null,
      "id": "0780050d-134d-4de0-8872-d1cfcec3501a",
      "metadata": {
          "id": "ddd0082e-34b5-4a3d-8f5e-ab3351f0e037"
      },
      "outputs": [],
      "source": [
        "def add_data_matrix(document: Document, page: Page, data_matrix_path: str):\n",
        "    # Create content generator\n",
        "    with ContentGenerator(page.content, False) as generator:\n",
        "\n",
        "        #  Import data matrix\n",
        "        with io.FileIO(data_matrix_path, 'rb') as in_matrix_stream:\n",
        "\n",
        "            # Create image object for data matrix\n",
        "            data_matrix = Image.create(document, in_matrix_stream)\n",
        "\n",
        "            # Data matrix size\n",
        "            data_matrix_size = 85\n",
        "\n",
        "            # Calculate Rectangle for data matrix\n",
        "            rect = Rectangle(left=border, bottom=page.size.height - (data_matrix_size + border), right=data_matrix_size + border, top=page.size.height - border)\n",
        "\n",
        "        # Paint the positioned barcode text\n",
        "        generator.paint_image(data_matrix, rect)"
      ]
    },
    {
      "cell_type": "code",
      "execution_count": null,
      "id": "425c4c27-40dc-43fc-ad1f-d65a3c26f9c2",
      "metadata": {
          "id": "dc1ee1d4-0e7b-4c6c-b131-9b1451e33b47"
      },
      "outputs": [],
      "source": [
        "try:\n",
        "    # Set and check license key. If the license key is not valid, an exception is thrown.\n",
        "    from pdftools_toolbox.sdk import Sdk\n",
        "    Sdk.initialize(\"INSERT-LICENSE-KEY\", None)\n",

        "\n",
        "    # Define border\n",
        "    border = 40\n",
        "    \n",
        "    # Open input document\n",
        "    with io.FileIO(input_file_path, 'rb') as in_stream:\n",
        "        with Document.open(in_stream, None) as in_doc:\n",
        "    \n",
        "            # Create output document\n",
        "            with io.FileIO(output_file_path, 'wb+') as output_stream:\n",
        "                with Document.create(output_stream, in_doc.conformance, None) as out_doc:\n",
        "    \n",
        "                    # Copy document-wide data\n",
        "                    copy_document_data(in_doc, out_doc)\n",
        "    \n",
        "                    # Define page copy options\n",
        "                    copy_options = PageCopyOptions()\n",
        "    \n",
        "                    # Copy first page, add datamatrix image, and append to output document\n",
        "                    out_page = Page.copy(out_doc, in_doc.pages[0], copy_options)\n",
        "                    add_data_matrix(out_doc, out_page, data_matrix_path)\n",
        "                    out_doc.pages.append(out_page)\n",
        "    \n",
        "                    # Copy remaining pages and append to output document\n",
        "                    in_page_range = in_doc.pages[1:]\n",
        "                    copied_pages = PageList.copy(out_doc, in_page_range, copy_options)\n",
        "                    out_doc.pages.extend(copied_pages)\n",

        "\n",
        "    print(\"Execution successful.\")\n",

        "except Exception as e:\n",
        "    print(f\"An error occurred: {e}\")"
      ]
    }
  ],
  "metadata": {
    "kernelspec": {
      "display_name": "Python 3",
      "language": "python",
      "name": "python3"
    },
    "language_info": {
      "codemirror_mode": {
        "name": "ipython",
        "version": 3
      },
      "file_extension": ".py",
      "mimetype": "text/x-python",
      "name": "python",
      "nbconvert_exporter": "python",
      "pygments_lexer": "ipython3",
      "version": "3.12.8"
    },
    "colab": {
      "provenance": []
    }
  },
  "nbformat": 4,
  "nbformat_minor": 5
}