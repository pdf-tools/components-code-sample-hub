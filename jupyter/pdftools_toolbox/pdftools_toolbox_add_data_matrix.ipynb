{
  "cells": [
    {
      "cell_type": "markdown",
      "id": "df3c6847-02c3-4314-942c-a8eb3498e2ab",
      "metadata": {
          "id": "e18be53f-989c-49e1-8293-027e6176fb08"
      },
      "source": [
        "[![Open In Colab](https://colab.research.google.com/assets/colab-badge.svg)](https://colab.research.google.com/github/pdf-tools/components-code-sample-hub/blob/main/jupyter/pdftools_toolbox/pdftools_toolbox_add_data_matrix.ipynb)"
      ]
    },
    {
      "cell_type": "code",
      "execution_count": null,
      "id": "65f49b2e-0409-4795-a9fd-dc20660ac3c2",
      "metadata": {
          "id": "a021f364-2f36-4465-9939-c82b5e2ea8ef"
      },
      "outputs": [],
      "source": [
        "%pip install https://pdftools-public-downloads-production.s3.eu-west-1.amazonaws.com/productkits/PDFSDKXT/latest/pdftools_toolbox-latest.tar.gz\n",
        "%pip install ipython"
      ]
    },
    {
      "cell_type": "markdown",
      "id": "1e50d5bf-b5fe-4d9c-9a3a-caebeeaebe23",
      "metadata": {
          "id": "e963974c-c846-45c8-abf3-35c09f29fab7"
      },
      "source": [
        "# Add Data Matrix to PDF\n",
        "Add a two-dimensional barcode from an existing image on\n",
        "the first page of a PDF document."
      ]
    },
    {
      "cell_type": "code",
      "execution_count": null,
      "id": "a07bbe26-ca86-4292-9115-896ad0452841",
      "metadata": {
          "id": "ad5661a1-eecb-432c-a4ae-b101cf76fe94"
      },
      "outputs": [],
      "source": [
        "import io\n",
        "from pdftools_toolbox.pdf import Document, FileReference, Metadata, Page, PageCopyOptions, PageList\n",
        "from pdftools_toolbox.geometry.real import Rectangle\n",
        "from pdftools_toolbox.pdf.content import ContentGenerator, IccBasedColorSpace, Image\n",
        "from pdftools_toolbox.pdf.navigation import ViewerSettings"
      ]
    },
    {
      "cell_type": "code",
      "execution_count": null,
      "id": "a9fbb924-a37b-4a03-b1e3-65f6a2d0fa22",
      "metadata": {
          "id": "39b51d06-6ec1-44d3-8856-6e76de41e8fd"
      },
      "outputs": [],
      "source": [
        "# Download a file from a given URL and save it to the local system\n",
        "def prepare_file(url: str, path: str):\n",
        "    import requests\n",
        "    response = requests.get(url)\n",
        "    response.raise_for_status()\n",
        "\n",
        "    with open(path, 'wb') as f:\n",
        "        f.write(response.content)"
      ]
    },
    {
      "cell_type": "code",
      "execution_count": null,
      "id": "82ed7f62-8374-491c-9abf-231dbbb1dc4f",
      "metadata": {
          "id": "a4e6ecc9-0fab-45ac-bd21-369929b05588"
      },
      "outputs": [],
      "source": [
        "# Set input arguments\n",
        "input_url = 'https://pdftools-public-downloads-production.s3.eu-west-1.amazonaws.com/samples/testfiles/InvoiceNone.pdf'\n",
        "input_file_path = 'InvoiceNone.pdf'\n",
        "prepare_file(input_url, input_file_path)\n",
        "data_matrix_url = 'https://pdftools-public-downloads-production.s3.eu-west-1.amazonaws.com/samples/testfiles/DataMatrix.png'\n",
        "data_matrix_path = 'DataMatrix.png'\n",
        "prepare_file(data_matrix_url, data_matrix_path)\n",
        "output_file_path = 'InvoiceWithDataMatrix.pdf'"
      ]
    },
    {
      "cell_type": "code",
      "execution_count": null,
      "id": "cca8548f-3a7b-4ef2-9eec-394291447a2b",
      "metadata": {
          "id": "c3c95288-89cd-4504-8842-22b2dcbb3e1e"
      },
      "outputs": [],
      "source": [
        "def copy_document_data(in_doc: Document, out_doc: Document):\n",
        "    # Copy document-wide data\n",
        "\n",
        "    # Output intent\n",
        "    if in_doc.output_intent is not None:\n",
        "        in_doc.output_intent = IccBasedColorSpace.copy(out_doc, in_doc.output_intent)\n",
        "\n",
        "    # Metadata\n",
        "    out_doc.metadata = Metadata.copy(out_doc, in_doc.metadata)\n",
        "\n",
        "    # Viewer settings\n",
        "    out_doc.viewer_settings = ViewerSettings.copy(out_doc, in_doc.viewer_settings)\n",
        "\n",
        "    # Associated files (for PDF/A-3 and PDF 2.0 only)\n",
        "    outAssociatedFiles = out_doc.associated_files\n",
        "    for in_file_ref in in_doc.associated_files:\n",
        "        outAssociatedFiles.append(FileReference.copy(out_doc, in_file_ref))\n",
        "\n",
        "    # Plain embedded files\n",
        "    out_embedded_files = out_doc.plain_embedded_files\n",
        "    for in_file_ref in in_doc.plain_embedded_files:\n",
        "        out_embedded_files.append(FileReference.copy(out_doc, in_file_ref))"
      ]
    },
    {
      "cell_type": "code",
      "execution_count": null,
      "id": "a1dab4e1-9a2d-4b67-921d-44b641bee011",
      "metadata": {
          "id": "9becf176-2e11-4566-af18-40865267c010"
      },
      "outputs": [],
      "source": [
        "def add_data_matrix(document: Document, page: Page, data_matrix_path: str):\n",
        "    # Create content generator\n",
        "    with ContentGenerator(page.content, False) as generator:\n",
        "\n",
        "        #  Import data matrix\n",
        "        with io.FileIO(data_matrix_path, 'rb') as in_matrix_stream:\n",
        "\n",
        "            # Create image object for data matrix\n",
        "            data_matrix = Image.create(document, in_matrix_stream)\n",
        "\n",
        "            # Data matrix size\n",
        "            data_matrix_size = 85\n",
        "\n",
        "            # Calculate Rectangle for data matrix\n",
        "            rect = Rectangle(left=border, bottom=page.size.height - (data_matrix_size + border), right=data_matrix_size + border, top=page.size.height - border)\n",
        "\n",
        "        # Paint the positioned barcode text\n",
        "        generator.paint_image(data_matrix, rect)"
      ]
    },
    {
      "cell_type": "code",
      "execution_count": null,
      "id": "4bf5dcb4-3955-4c07-af7d-d4ca3b72700e",
      "metadata": {
          "id": "21acd55e-b7c9-4fdf-9b3d-8245f2ff0872"
      },
      "outputs": [],
      "source": [
        "try:\n",
        "    # Set and check license key. If the license key is not valid, an exception is thrown.\n",
        "    from pdftools_toolbox.sdk import Sdk\n",
        "    Sdk.initialize(\"INSERT-LICENSE-KEY\", None)\n",

        "\n",
        "    # Define border\n",
        "    border = 40\n",
        "    \n",
        "    # Open input document\n",
        "    with io.FileIO(input_file_path, 'rb') as in_stream:\n",
        "        with Document.open(in_stream, None) as in_doc:\n",
        "    \n",
        "            # Create output document\n",
        "            with io.FileIO(output_file_path, 'wb+') as output_stream:\n",
        "                with Document.create(output_stream, in_doc.conformance, None) as out_doc:\n",
        "    \n",
        "                    # Copy document-wide data\n",
        "                    copy_document_data(in_doc, out_doc)\n",
        "    \n",
        "                    # Define page copy options\n",
        "                    copy_options = PageCopyOptions()\n",
        "    \n",
        "                    # Copy first page, add datamatrix image, and append to output document\n",
        "                    out_page = Page.copy(out_doc, in_doc.pages[0], copy_options)\n",
        "                    add_data_matrix(out_doc, out_page, data_matrix_path)\n",
        "                    out_doc.pages.append(out_page)\n",
        "    \n",
        "                    # Copy remaining pages and append to output document\n",
        "                    in_page_range = in_doc.pages[1:]\n",
        "                    copied_pages = PageList.copy(out_doc, in_page_range, copy_options)\n",
        "                    out_doc.pages.extend(copied_pages)\n",

        "\n",
        "    print(\"Execution successful.\")\n",

        "except Exception as e:\n",
        "    print(f\"An error occurred: {e}\")"
      ]
    }
  ],
  "metadata": {
    "kernelspec": {
      "display_name": "Python 3",
      "language": "python",
      "name": "python3"
    },
    "language_info": {
      "codemirror_mode": {
        "name": "ipython",
        "version": 3
      },
      "file_extension": ".py",
      "mimetype": "text/x-python",
      "name": "python",
      "nbconvert_exporter": "python",
      "pygments_lexer": "ipython3",
      "version": "3.12.8"
    },
    "colab": {
      "provenance": []
    }
  },
  "nbformat": 4,
  "nbformat_minor": 5
}