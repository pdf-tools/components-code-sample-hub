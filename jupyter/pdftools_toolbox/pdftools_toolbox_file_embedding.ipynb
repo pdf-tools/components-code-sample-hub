{
  "cells": [
    {
      "cell_type": "markdown",
      "id": "a38eacd0-e486-4895-ae65-e1c7ebd3a604",
      "metadata": {
          "id": "5edaca28-13db-4b2f-8c7e-9e6e2ded4a5c"
      },
      "source": [
        "[![Open In Colab](https://colab.research.google.com/assets/colab-badge.svg)](https://colab.research.google.com/github/pdf-tools/components-code-sample-hub/blob/main/jupyter/pdftools_toolbox/pdftools_toolbox_file_embedding.ipynb)"
      ]
    },
    {
      "cell_type": "code",
      "execution_count": null,
      "id": "e99da3a6-b082-490c-a3a3-b29ee258915d",
      "metadata": {
          "id": "63987005-e131-42c4-b899-4393fa02d095"
      },
      "outputs": [],
      "source": [
        "%pip install https://pdftools-public-downloads-production.s3.eu-west-1.amazonaws.com/productkits/PDFSDKXT/latest/pdftools_toolbox-latest.tar.gz\n",
        "%pip install ipython"
      ]
    },
    {
      "cell_type": "markdown",
      "id": "78b082fd-82ba-44e1-8c33-90a8b369b810",
      "metadata": {
          "id": "48aa0cf8-49a9-4928-8f57-25344a9c6bdd"
      },
      "source": [
        "# Embed files into a PDF\n",
        "Embed files into a PDF and attach them to the document or\n",
        "attach a page."
      ]
    },
    {
      "cell_type": "code",
      "execution_count": null,
      "id": "c9dcc00d-6423-4690-beca-b177e5a744b2",
      "metadata": {
          "id": "46910387-114f-403b-aeb1-0db3c589d634"
      },
      "outputs": [],
      "source": [
        "import io\n",
        "import os\n",
        "from datetime import datetime\n",
        "from pdftools_toolbox.pdf import Document, FileReference, Metadata, Page, PageCopyOptions, PageList\n",
        "from pdftools_toolbox.geometry.real import Point\n",
        "from pdftools_toolbox.pdf.annotations import FileAttachment\n",
        "from pdftools_toolbox.pdf.content import ColorSpace, IccBasedColorSpace, Paint, ProcessColorSpaceType, Transparency\n",
        "from pdftools_toolbox.pdf.navigation import ViewerSettings"
      ]
    },
    {
      "cell_type": "code",
      "execution_count": null,
      "id": "06fa4be4-cc7e-4457-9194-1ce6af95a06f",
      "metadata": {
          "id": "87278e79-3569-4c9f-a146-5b1ce189630b"
      },
      "outputs": [],
      "source": [
        "# Download a file from a given URL and save it to the local system\n",
        "def prepare_file(url: str, path: str):\n",
        "    import requests\n",
        "    response = requests.get(url)\n",
        "    response.raise_for_status()\n",
        "\n",
        "    with open(path, 'wb') as f:\n",
        "        f.write(response.content)"
      ]
    },
    {
      "cell_type": "code",
      "execution_count": null,
      "id": "6aad9ba0-5f3b-4111-9d88-4d69db53c7cf",
      "metadata": {
          "id": "f0c062a5-65db-4bd9-b3c3-92a81dcc56cc"
      },
      "outputs": [],
      "source": [
        "# Set input arguments\n",
        "input_url = 'https://pdftools-public-downloads-production.s3.eu-west-1.amazonaws.com/samples/testfiles/BlankNone.pdf'\n",
        "input_file_path = 'BlankNone.pdf'\n",
        "prepare_file(input_url, input_file_path)\n",
        "file_to_embed_url = 'https://pdftools-public-downloads-production.s3.eu-west-1.amazonaws.com/samples/testfiles/butterfly.pdf'\n",
        "file_to_embed = 'butterfly.pdf'\n",
        "prepare_file(file_to_embed_url, file_to_embed)\n",
        "output_file_path = 'BlankWithEmbeddedFile.pdf'\n",
        "page_number = 1"
      ]
    },
    {
      "cell_type": "code",
      "execution_count": null,
      "id": "111ad46a-9174-4b24-b4a9-2cb51957afb8",
      "metadata": {
          "id": "cb8650a7-8ee4-4c65-877c-8b77e41a5df9"
      },
      "outputs": [],
      "source": [
        "def copy_document_data(in_doc: Document, out_doc: Document):\n",
        "    # Copy document-wide data\n",
        "\n",
        "    # Output intent\n",
        "    if in_doc.output_intent is not None:\n",
        "        in_doc.output_intent = IccBasedColorSpace.copy(out_doc, in_doc.output_intent)\n",
        "\n",
        "    # Metadata\n",
        "    out_doc.metadata = Metadata.copy(out_doc, in_doc.metadata)\n",
        "\n",
        "    # Viewer settings\n",
        "    out_doc.viewer_settings = ViewerSettings.copy(out_doc, in_doc.viewer_settings)\n",
        "\n",
        "    # Associated files (for PDF/A-3 and PDF 2.0 only)\n",
        "    outAssociatedFiles = out_doc.associated_files\n",
        "    for in_file_ref in in_doc.associated_files:\n",
        "        outAssociatedFiles.append(FileReference.copy(out_doc, in_file_ref))\n",
        "\n",
        "    # Plain embedded files\n",
        "    out_embedded_files = out_doc.plain_embedded_files\n",
        "    for in_file_ref in in_doc.plain_embedded_files:\n",
        "        out_embedded_files.append(FileReference.copy(out_doc, in_file_ref))"
      ]
    },
    {
      "cell_type": "code",
      "execution_count": null,
      "id": "19264e5b-24c5-41f6-b744-100db6183189",
      "metadata": {
          "id": "4787d547-b970-4d08-905c-4614e839748d"
      },
      "outputs": [],
      "source": [
        "def embed_file(output_doc: Document, file_to_embed: str, page_number: int | None):\n",
        "    # Create file stream to read the file to embed\n",
        "    with open(file_to_embed, \"rb\") as file_stream:\n",
        "        # Create a file type depending on the file ending (e.g. \"application/pdf\")\n",
        "        file_to_embed_name = os.path.basename(file_to_embed)\n",
        "        file_type = \"application/\" + file_to_embed_name.split(\".\")[-1]\n",
        "\n",
        "        # Get the modified date from the file\n",
        "        last_modified = datetime.fromtimestamp(os.path.getmtime(file_to_embed))\n",
        "\n",
        "        # Create a new FileReference\n",
        "        file_ref = FileReference.create(output_doc, file_stream, file_to_embed_name, file_type, \"\", last_modified)\n",
        "\n",
        "        # If a page is set, add a FileAttachment annotation to that page\n",
        "        # otherwise, attach the file to the document\n",
        "        if page_number is not None and page_number > 0 and page_number <= len(output_doc.pages):\n",
        "            # Get the page to create the annotation on\n",
        "            page = output_doc.pages[page_number - 1]\n",
        "\n",
        "            # Get the color space\n",
        "            color_space = ColorSpace.create_process_color_space(output_doc, ProcessColorSpaceType.RGB)\n",
        "\n",
        "            # Choose the RGB color value\n",
        "            color = [1.0, 0.0, 0.0]  # Red color\n",
        "            transparency = Transparency(1)\n",
        "\n",
        "            # Create paint object\n",
        "            paint = Paint.create(output_doc, color_space, color, transparency)\n",
        "\n",
        "            # Put the annotation in the center of the page\n",
        "            point = Point(x = page.size.width/2, y = page.size.height/2)\n",
        "\n",
        "            # Create a FileReference annotation and attach it to a page so the FireReference is visible on that page\n",
        "            annotation = FileAttachment.create(output_doc, point, file_ref, paint)\n",
        "\n",
        "            # Add the annotation to the page\n",
        "            page.annotations.append(annotation)\n",
        "        else:\n",
        "            # Attach the file to the document\n",
        "            output_doc.plain_embedded_files.append(file_ref)"
      ]
    },
    {
      "cell_type": "code",
      "execution_count": null,
      "id": "8a0c61dc-df43-4411-9c8f-cbb3d81f4bcf",
      "metadata": {
          "id": "e8937786-5f8a-46e4-9fd4-4e1c484a8989"
      },
      "outputs": [],
      "source": [
        "try:\n",
        "    # Set and check license key. If the license key is not valid, an exception is thrown.\n",
        "    from pdftools_toolbox.sdk import Sdk\n",
        "    Sdk.initialize(\"INSERT-LICENSE-KEY\", None)\n",

        "\n",
        "    # Open input document\n",
        "    with io.FileIO(input_file_path, \"rb\") as in_stream:\n",
        "        with Document.open(in_stream, None) as in_doc:\n",
        "    \n",
        "            # Create output document\n",
        "            with io.FileIO(output_file_path, \"wb+\") as out_stream:\n",
        "                with Document.create(out_stream, in_doc.conformance, None) as out_doc:\n",
        "    \n",
        "                    # Copy document-wide data\n",
        "                    copy_document_data(in_doc, out_doc)\n",
        "    \n",
        "                    # Define page copy options\n",
        "                    copy_options = PageCopyOptions()\n",
        "    \n",
        "                    # Copy all pages and append to output document\n",
        "                    copied_pages = PageList.copy(out_doc, in_doc.pages, copy_options)\n",
        "                    out_doc.pages.extend(copied_pages)\n",
        "    \n",
        "                    embed_file(out_doc, file_to_embed, page_number)\n",

        "\n",
        "    print(\"Execution successful.\")\n",

        "except Exception as e:\n",
        "    print(f\"An error occurred: {e}\")"
      ]
    }
  ],
  "metadata": {
    "kernelspec": {
      "display_name": "Python 3",
      "language": "python",
      "name": "python3"
    },
    "language_info": {
      "codemirror_mode": {
        "name": "ipython",
        "version": 3
      },
      "file_extension": ".py",
      "mimetype": "text/x-python",
      "name": "python",
      "nbconvert_exporter": "python",
      "pygments_lexer": "ipython3",
      "version": "3.12.8"
    },
    "colab": {
      "provenance": []
    }
  },
  "nbformat": 4,
  "nbformat_minor": 5
}