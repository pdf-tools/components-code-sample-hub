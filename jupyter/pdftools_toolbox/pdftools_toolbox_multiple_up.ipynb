{
  "cells": [
    {
      "cell_type": "markdown",
      "id": "74a9f731-9a52-480b-8dc9-47589946bf6c",
      "metadata": {
          "id": "eefcdbb5-8ce0-4530-b468-ee3d6c6952fa"
      },
      "source": [
        "[![Open In Colab](https://colab.research.google.com/assets/colab-badge.svg)](https://colab.research.google.com/github/pdf-tools/components-code-sample-hub/blob/main/jupyter/pdftools_toolbox/pdftools_toolbox_multiple_up.ipynb)"
      ]
    },
    {
      "cell_type": "code",
      "execution_count": null,
      "id": "59d23b05-c6f1-4b4c-921e-72c9882f74ca",
      "metadata": {
          "id": "18cd8170-9d71-4860-a055-ad64f35e88ab"
      },
      "outputs": [],
      "source": [
        "%pip install https://pdftools-public-downloads-production.s3.eu-west-1.amazonaws.com/productkits/PDFSDKXT/latest/pdftools_toolbox-latest.tar.gz\n",
        "%pip install ipython"
      ]
    },
    {
      "cell_type": "markdown",
      "id": "2c3f8017-f211-4edf-936a-8a7e5dd8a91b",
      "metadata": {
          "id": "1655f36b-f390-45a5-a7ef-17a960249c1f"
      },
      "source": [
        "# Place multiple pages on one page\n",
        "Place four pages of a PDF document on a single page."
      ]
    },
    {
      "cell_type": "code",
      "execution_count": null,
      "id": "2aef959b-b788-4d99-aabe-bd4f2ef82a9b",
      "metadata": {
          "id": "212c1303-8be1-43c0-9031-78cfa1dea8b5"
      },
      "outputs": [],
      "source": [
        "import io\n",
        "from pdftools_toolbox.geometry.real import Rectangle, Size\n",
        "from pdftools_toolbox.pdf import Document, FileReference, Metadata, PageCopyOptions, Page\n",
        "from pdftools_toolbox.pdf.content import ContentGenerator, Group, IccBasedColorSpace\n",
        "from pdftools_toolbox.pdf.navigation import ViewerSettings"
      ]
    },
    {
      "cell_type": "code",
      "execution_count": null,
      "id": "5fdfd1d4-2bff-4ad6-8dfc-cd169fb85a8c",
      "metadata": {
          "id": "9335bc73-7576-4771-ab63-49360e1e5a55"
      },
      "outputs": [],
      "source": [
        "# Download a file from a given URL and save it to the local system\n",
        "def prepare_file(url: str, path: str):\n",
        "    import requests\n",
        "    response = requests.get(url)\n",
        "    response.raise_for_status()\n",
        "\n",
        "    with open(path, 'wb') as f:\n",
        "        f.write(response.content)"
      ]
    },
    {
      "cell_type": "code",
      "execution_count": null,
      "id": "c9667301-dbad-404b-8444-b2bd8b51383c",
      "metadata": {
          "id": "e9378331-ece8-4fd9-b5a9-fa2ed7a14845"
      },
      "outputs": [],
      "source": [
        "# Set input arguments\n",
        "input_url = 'https://pdftools-public-downloads-production.s3.eu-west-1.amazonaws.com/samples/testfiles/PdfPrimerWhitepaper.pdf'\n",
        "input_file_path = 'PdfPrimerWhitepaper.pdf'\n",
        "prepare_file(input_url, input_file_path)\n",
        "output_file_path = 'ImposedPages.pdf'"
      ]
    },
    {
      "cell_type": "code",
      "execution_count": null,
      "id": "0c2e67b9-2be7-4d4f-81c7-62c91b468e78",
      "metadata": {
          "id": "797b8fa5-8c7b-45bc-9d36-8fc732883b7c"
      },
      "outputs": [],
      "source": [
        "def copy_document_data(in_doc: Document, out_doc: Document):\n",
        "    # Copy document-wide data\n",
        "\n",
        "    # Output intent\n",
        "    if in_doc.output_intent is not None:\n",
        "        in_doc.output_intent = IccBasedColorSpace.copy(out_doc, in_doc.output_intent)\n",
        "\n",
        "    # Metadata\n",
        "    out_doc.metadata = Metadata.copy(out_doc, in_doc.metadata)\n",
        "\n",
        "    # Viewer settings\n",
        "    out_doc.viewer_settings = ViewerSettings.copy(out_doc, in_doc.viewer_settings)\n",
        "\n",
        "    # Associated files (for PDF/A-3 and PDF 2.0 only)\n",
        "    outAssociatedFiles = out_doc.associated_files\n",
        "    for in_file_ref in in_doc.associated_files:\n",
        "        outAssociatedFiles.append(FileReference.copy(out_doc, in_file_ref))\n",
        "\n",
        "    # Plain embedded files\n",
        "    out_embedded_files = out_doc.plain_embedded_files\n",
        "    for in_file_ref in in_doc.plain_embedded_files:\n",
        "        out_embedded_files.append(FileReference.copy(out_doc, in_file_ref))"
      ]
    },
    {
      "cell_type": "code",
      "execution_count": null,
      "id": "fb7e31d8-40a0-4df6-82f4-ee01435d02f9",
      "metadata": {
          "id": "fbe4e071-4602-4e6b-a6cd-8f87475794e6"
      },
      "outputs": [],
      "source": [
        "try:\n",
        "    # Set and check license key. If the license key is not valid, an exception is thrown.\n",
        "    from pdftools_toolbox.sdk import Sdk\n",
        "    Sdk.initialize(\"<PDFSDK,V1,MGAASQD6L2JMQHL54PK08RQX8GG4SS0M8DAHVPH0VMP3NB8R9DUK>\", None)\n",

        "\n",
        "    # Define global variables\n",
        "    nx = 2\n",
        "    ny = 2\n",
        "    page_size = Size(595.0, 842.0)  # A4 portrait\n",
        "    border = 10.0\n",
        "    \n",
        "    # Open input document\n",
        "    with io.FileIO(input_file_path, 'rb') as in_stream:\n",
        "        with Document.open(in_stream, None) as input_document:\n",
        "    \n",
        "            # Create output document\n",
        "            with io.FileIO(output_file_path, 'wb+') as output_stream:\n",
        "                with Document.create(output_stream, input_document.conformance, None) as output_document:\n",
        "                    out_pages = output_document.pages\n",
        "                    page_count = 0\n",
        "                    generator = None\n",
        "                    out_page = None\n",
        "    \n",
        "                    # Copy document-wide data\n",
        "                    copy_document_data(input_document, output_document)\n",
        "    \n",
        "                    # Copy all pages from input document\n",
        "                    for in_page in input_document.pages:\n",
        "                        if page_count == nx * ny:\n",
        "                            # Add to output document\n",
        "                            generator.__exit__(None, None, None)\n",
        "                            out_pages.append(out_page)\n",
        "                            out_page = None\n",
        "                            page_count = 0\n",
        "                        if out_page is None:\n",
        "                            # Create a new output page\n",
        "                            out_page = Page.create(output_document, page_size)\n",
        "                            generator = ContentGenerator(out_page.content, False)\n",
        "    \n",
        "                        # Get area where group has to be (// calculates the floor of the division)\n",
        "                        x = int(page_count % nx)\n",
        "                        y = int(ny - (page_count // nx) - 1)\n",
        "    \n",
        "                        # Compute cell size\n",
        "                        cell_width = (page_size.width - ((nx + 1) * border)) / nx\n",
        "                        cell_height = (page_size.height - ((ny + 1) * border)) / ny\n",
        "    \n",
        "                        # Compute cell position\n",
        "                        cell_x = border + x * (cell_width + border)\n",
        "                        cell_y = border + y * (cell_height + border)\n",
        "    \n",
        "                        # Define page copy options\n",
        "                        copy_options = PageCopyOptions()\n",
        "    \n",
        "                        # Copy page as group from input to output\n",
        "                        group = Group.copy_from_page(output_document, in_page, copy_options)\n",
        "    \n",
        "                        # Compute group position\n",
        "                        group_size = group.size\n",
        "                        scale = min(cell_width / group_size.width, cell_height / group_size.height)\n",
        "    \n",
        "                        # Compute target size\n",
        "                        target_width = group_size.width * scale\n",
        "                        target_height = group_size.height * scale\n",
        "    \n",
        "                        # Compute position\n",
        "                        target_x = cell_x + ((cell_width - target_width) / 2)\n",
        "                        target_y = cell_y + ((cell_height - target_height) / 2)\n",
        "    \n",
        "                        # Compute rectangle\n",
        "                        target_rect = Rectangle()\n",
        "                        target_rect.left = target_x\n",
        "                        target_rect.bottom = target_y\n",
        "                        target_rect.right = target_x + target_width\n",
        "                        target_rect.top = target_y + target_height\n",
        "    \n",
        "                        # Add group to page\n",
        "                        generator.paint_group(group, target_rect, None)\n",
        "                        page_count += 1\n",
        "    \n",
        "                    # Add page\n",
        "                    if out_page:\n",
        "                        generator.__exit__(None, None, None)\n",
        "                        out_pages.append(out_page)\n",

        "\n",
        "    print(\"Execution successful.\")\n",

        "except Exception as e:\n",
        "    print(f\"An error occurred: {e}\")"
      ]
    }
  ],
  "metadata": {
    "kernelspec": {
      "display_name": "Python 3",
      "language": "python",
      "name": "python3"
    },
    "language_info": {
      "codemirror_mode": {
        "name": "ipython",
        "version": 3
      },
      "file_extension": ".py",
      "mimetype": "text/x-python",
      "name": "python",
      "nbconvert_exporter": "python",
      "pygments_lexer": "ipython3",
      "version": "3.12.8"
    },
    "colab": {
      "provenance": []
    }
  },
  "nbformat": 4,
  "nbformat_minor": 5
}