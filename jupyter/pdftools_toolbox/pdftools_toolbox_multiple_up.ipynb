{
  "cells": [
    {
      "cell_type": "markdown",
      "id": "212f636a-2ff2-49ce-a2ba-be81c93368ad",
      "metadata": {
          "id": "d004e162-4adf-4915-a362-ce932d6b52db"
      },
      "source": [
        "[![Open In Colab](https://colab.research.google.com/assets/colab-badge.svg)](https://colab.research.google.com/github/pdf-tools/components-code-sample-hub/blob/main/jupyter/pdftools_toolbox/pdftools_toolbox_multiple_up.ipynb)"
      ]
    },
    {
      "cell_type": "code",
      "execution_count": null,
      "id": "5d039b0e-6694-4a17-bfc1-6496fd42eef7",
      "metadata": {
          "id": "e976f889-087a-49da-9824-d48c6cbc7609"
      },
      "outputs": [],
      "source": [
        "%pip install https://pdftools-public-downloads-production.s3.eu-west-1.amazonaws.com/productkits/PDFSDKXT/latest/pdftools_toolbox-latest.tar.gz\n",
        "%pip install ipython"
      ]
    },
    {
      "cell_type": "markdown",
      "id": "805e23fa-dad8-4026-9b2c-08a9c5c16787",
      "metadata": {
          "id": "4c859449-03d5-45e7-b6bf-6ecff9be1c42"
      },
      "source": [
        "# Place multiple pages on one page\n",
        "Place four pages of a PDF document on a single page."
      ]
    },
    {
      "cell_type": "code",
      "execution_count": null,
      "id": "94602715-8206-4632-bd29-b761fd0c03fa",
      "metadata": {
          "id": "09187d84-d805-467f-8be5-6d53929c2822"
      },
      "outputs": [],
      "source": [
        "import io\n",
        "from pdftools_toolbox.geometry.real import Rectangle, Size\n",
        "from pdftools_toolbox.pdf import Document, FileReference, Metadata, PageCopyOptions, Page\n",
        "from pdftools_toolbox.pdf.content import ContentGenerator, Group, IccBasedColorSpace\n",
        "from pdftools_toolbox.pdf.navigation import ViewerSettings"
      ]
    },
    {
      "cell_type": "code",
      "execution_count": null,
      "id": "ac1523dc-5638-4f1c-8ecd-308d63c6b2c9",
      "metadata": {
          "id": "cdd56feb-06eb-4af2-87a3-40078f864f4c"
      },
      "outputs": [],
      "source": [
        "# Download a file from a given URL and save it to the local system\n",
        "def prepare_file(url: str, path: str):\n",
        "    import requests\n",
        "    response = requests.get(url)\n",
        "    response.raise_for_status()\n",
        "\n",
        "    with open(path, 'wb') as f:\n",
        "        f.write(response.content)"
      ]
    },
    {
      "cell_type": "code",
      "execution_count": null,
      "id": "3c84bdcf-a87c-4f4d-a338-1b165cec3a41",
      "metadata": {
          "id": "595ff0c7-e7d5-4f90-8c41-c0c4d9af89c6"
      },
      "outputs": [],
      "source": [
        "# Set input arguments\n",
        "input_url = 'https://pdftools-public-downloads-production.s3.eu-west-1.amazonaws.com/samples/testfiles/PdfPrimerWhitepaper.pdf'\n",
        "input_file_path = 'PdfPrimerWhitepaper.pdf'\n",
        "prepare_file(input_url, input_file_path)\n",
        "output_file_path = 'ImposedPages.pdf'"
      ]
    },
    {
      "cell_type": "code",
      "execution_count": null,
      "id": "e988a761-d80f-40a1-b057-53444b10b96e",
      "metadata": {
          "id": "3f6fc838-8178-4f5d-8af3-b6c55435160b"
      },
      "outputs": [],
      "source": [
        "def copy_document_data(in_doc: Document, out_doc: Document):\n",
        "    # Copy document-wide data\n",
        "\n",
        "    # Output intent\n",
        "    if in_doc.output_intent is not None:\n",
        "        in_doc.output_intent = IccBasedColorSpace.copy(out_doc, in_doc.output_intent)\n",
        "\n",
        "    # Metadata\n",
        "    out_doc.metadata = Metadata.copy(out_doc, in_doc.metadata)\n",
        "\n",
        "    # Viewer settings\n",
        "    out_doc.viewer_settings = ViewerSettings.copy(out_doc, in_doc.viewer_settings)\n",
        "\n",
        "    # Associated files (for PDF/A-3 and PDF 2.0 only)\n",
        "    outAssociatedFiles = out_doc.associated_files\n",
        "    for in_file_ref in in_doc.associated_files:\n",
        "        outAssociatedFiles.append(FileReference.copy(out_doc, in_file_ref))\n",
        "\n",
        "    # Plain embedded files\n",
        "    out_embedded_files = out_doc.plain_embedded_files\n",
        "    for in_file_ref in in_doc.plain_embedded_files:\n",
        "        out_embedded_files.append(FileReference.copy(out_doc, in_file_ref))"
      ]
    },
    {
      "cell_type": "code",
      "execution_count": null,
      "id": "e42cf19d-9a09-46ce-a4ea-b431d9428ef3",
      "metadata": {
          "id": "99d52c19-b23d-46b6-8ac4-24210e22ceca"
      },
      "outputs": [],
      "source": [
        "try:\n",
        "    # Set and check license key. If the license key is not valid, an exception is thrown.\n",
        "    from pdftools_toolbox.sdk import Sdk\n",
        "    Sdk.initialize(\"INSERT-LICENSE-KEY\", None)\n",

        "\n",
        "    # Define global variables\n",
        "    nx = 2\n",
        "    ny = 2\n",
        "    page_size = Size(595.0, 842.0)  # A4 portrait\n",
        "    border = 10.0\n",
        "    \n",
        "    # Open input document\n",
        "    with io.FileIO(input_file_path, 'rb') as in_stream:\n",
        "        with Document.open(in_stream, None) as input_document:\n",
        "    \n",
        "            # Create output document\n",
        "            with io.FileIO(output_file_path, 'wb+') as output_stream:\n",
        "                with Document.create(output_stream, input_document.conformance, None) as output_document:\n",
        "                    out_pages = output_document.pages\n",
        "                    page_count = 0\n",
        "                    generator = None\n",
        "                    out_page = None\n",
        "    \n",
        "                    # Copy document-wide data\n",
        "                    copy_document_data(input_document, output_document)\n",
        "    \n",
        "                    # Copy all pages from input document\n",
        "                    for in_page in input_document.pages:\n",
        "                        if page_count == nx * ny:\n",
        "                            # Add to output document\n",
        "                            generator.__exit__(None, None, None)\n",
        "                            out_pages.append(out_page)\n",
        "                            out_page = None\n",
        "                            page_count = 0\n",
        "                        if out_page is None:\n",
        "                            # Create a new output page\n",
        "                            out_page = Page.create(output_document, page_size)\n",
        "                            generator = ContentGenerator(out_page.content, False)\n",
        "    \n",
        "                        # Get area where group has to be (// calculates the floor of the division)\n",
        "                        x = int(page_count % nx)\n",
        "                        y = int(ny - (page_count // nx) - 1)\n",
        "    \n",
        "                        # Compute cell size\n",
        "                        cell_width = (page_size.width - ((nx + 1) * border)) / nx\n",
        "                        cell_height = (page_size.height - ((ny + 1) * border)) / ny\n",
        "    \n",
        "                        # Compute cell position\n",
        "                        cell_x = border + x * (cell_width + border)\n",
        "                        cell_y = border + y * (cell_height + border)\n",
        "    \n",
        "                        # Define page copy options\n",
        "                        copy_options = PageCopyOptions()\n",
        "    \n",
        "                        # Copy page as group from input to output\n",
        "                        group = Group.copy_from_page(output_document, in_page, copy_options)\n",
        "    \n",
        "                        # Compute group position\n",
        "                        group_size = group.size\n",
        "                        scale = min(cell_width / group_size.width, cell_height / group_size.height)\n",
        "    \n",
        "                        # Compute target size\n",
        "                        target_width = group_size.width * scale\n",
        "                        target_height = group_size.height * scale\n",
        "    \n",
        "                        # Compute position\n",
        "                        target_x = cell_x + ((cell_width - target_width) / 2)\n",
        "                        target_y = cell_y + ((cell_height - target_height) / 2)\n",
        "    \n",
        "                        # Compute rectangle\n",
        "                        target_rect = Rectangle()\n",
        "                        target_rect.left = target_x\n",
        "                        target_rect.bottom = target_y\n",
        "                        target_rect.right = target_x + target_width\n",
        "                        target_rect.top = target_y + target_height\n",
        "    \n",
        "                        # Add group to page\n",
        "                        generator.paint_group(group, target_rect, None)\n",
        "                        page_count += 1\n",
        "    \n",
        "                    # Add page\n",
        "                    if out_page:\n",
        "                        generator.__exit__(None, None, None)\n",
        "                        out_pages.append(out_page)\n",

        "\n",
        "    print(\"Execution successful.\")\n",

        "except Exception as e:\n",
        "    print(f\"An error occurred: {e}\")"
      ]
    }
  ],
  "metadata": {
    "kernelspec": {
      "display_name": "Python 3",
      "language": "python",
      "name": "python3"
    },
    "language_info": {
      "codemirror_mode": {
        "name": "ipython",
        "version": 3
      },
      "file_extension": ".py",
      "mimetype": "text/x-python",
      "name": "python",
      "nbconvert_exporter": "python",
      "pygments_lexer": "ipython3",
      "version": "3.12.8"
    },
    "colab": {
      "provenance": []
    }
  },
  "nbformat": 4,
  "nbformat_minor": 5
}