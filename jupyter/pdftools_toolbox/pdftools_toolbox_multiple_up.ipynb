{
  "cells": [
    {
      "cell_type": "markdown",
      "id": "a6bb62d7-5d06-4f16-9fe5-9f80470e7b13",
      "metadata": {
          "id": "ba66740c-cdc3-46b8-9a60-52d5bebb3845"
      },
      "source": [
        "[![Open In Colab](https://colab.research.google.com/assets/colab-badge.svg)](https://colab.research.google.com/github/pdf-tools/components-code-sample-hub/blob/main/jupyter/pdftools_toolbox/pdftools_toolbox_multiple_up.ipynb)"
      ]
    },
    {
      "cell_type": "code",
      "execution_count": null,
      "id": "6bb60987-80a0-47ab-a3b1-67e76fab5990",
      "metadata": {
          "id": "29de90fe-f807-4974-9535-b403cba0c734"
      },
      "outputs": [],
      "source": [
        "%pip install pdftools_toolbox\n",
        "%pip install ipython"
      ]
    },
    {
      "cell_type": "markdown",
      "id": "6c9492e0-c5e8-40ae-86e1-a8ed3b68da25",
      "metadata": {
          "id": "4e98c40d-2cef-425e-8c6e-44fe5f41800a"
      },
      "source": [
        "# Place multiple pages on one page\n",
        "Place four pages of a PDF document on a single page."
      ]
    },
    {
      "cell_type": "code",
      "execution_count": null,
      "id": "b115d7dd-a7ff-4765-a72f-2c551c3c0b43",
      "metadata": {
          "id": "e6f59555-ccea-4a8c-8fcb-344929f5d3ce"
      },
      "outputs": [],
      "source": [
        "import io\n",
        "from pdftools_toolbox.geometry.real import Rectangle, Size\n",
        "from pdftools_toolbox.pdf import Document, FileReference, Metadata, PageCopyOptions, Page\n",
        "from pdftools_toolbox.pdf.content import ContentGenerator, Group, IccBasedColorSpace\n",
        "from pdftools_toolbox.pdf.navigation import ViewerSettings"
      ]
    },
    {
      "cell_type": "code",
      "execution_count": null,
      "id": "6ee89397-4be3-4db8-90f2-155a068645cd",
      "metadata": {
          "id": "4a21b5da-41cb-470c-89ee-f9ac4cd30608"
      },
      "outputs": [],
      "source": [
        "# Download a file from a given URL and save it to the local system\n",
        "def prepare_file(url: str, path: str):\n",
        "    import requests\n",
        "    response = requests.get(url)\n",
        "    response.raise_for_status()\n",
        "\n",
        "    with open(path, 'wb') as f:\n",
        "        f.write(response.content)"
      ]
    },
    {
      "cell_type": "code",
      "execution_count": null,
      "id": "c22813d3-6f12-4a75-b7f8-94f7b4d77a99",
      "metadata": {
          "id": "1fc11845-a124-473c-8d88-002e02584fc8"
      },
      "outputs": [],
      "source": [
        "# Set input arguments\n",
        "input_url = 'https://pdftools-public-downloads-production.s3.eu-west-1.amazonaws.com/samples/testfiles/PdfPrimerWhitepaper.pdf'\n",
        "input_file_path = 'PdfPrimerWhitepaper.pdf'\n",
        "prepare_file(input_url, input_file_path)\n",
        "output_file_path = 'ImposedPages.pdf'"
      ]
    },
    {
      "cell_type": "code",
      "execution_count": null,
      "id": "645a5414-decc-4a40-869a-656397584bf2",
      "metadata": {
          "id": "6b4d2bc3-25b9-4a03-a43a-31fc38868429"
      },
      "outputs": [],
      "source": [
        "def copy_document_data(in_doc: Document, out_doc: Document):\n",
        "    # Copy document-wide data\n",
        "\n",
        "    # Output intent\n",
        "    if in_doc.output_intent is not None:\n",
        "        in_doc.output_intent = IccBasedColorSpace.copy(out_doc, in_doc.output_intent)\n",
        "\n",
        "    # Metadata\n",
        "    out_doc.metadata = Metadata.copy(out_doc, in_doc.metadata)\n",
        "\n",
        "    # Viewer settings\n",
        "    out_doc.viewer_settings = ViewerSettings.copy(out_doc, in_doc.viewer_settings)\n",
        "\n",
        "    # Associated files (for PDF/A-3 and PDF 2.0 only)\n",
        "    outAssociatedFiles = out_doc.associated_files\n",
        "    for in_file_ref in in_doc.associated_files:\n",
        "        outAssociatedFiles.append(FileReference.copy(out_doc, in_file_ref))\n",
        "\n",
        "    # Plain embedded files\n",
        "    out_embedded_files = out_doc.plain_embedded_files\n",
        "    for in_file_ref in in_doc.plain_embedded_files:\n",
        "        out_embedded_files.append(FileReference.copy(out_doc, in_file_ref))"
      ]
    },
    {
      "cell_type": "code",
      "execution_count": null,
      "id": "8f0d122d-8e2e-4846-a537-84628b14f0ea",
      "metadata": {
          "id": "b8990dea-993b-4832-b044-0443ac28fb20"
      },
      "outputs": [],
      "source": [
        "try:\n",
        "    # Set and check license key. If the license key is not valid, an exception is thrown.\n",
        "    from pdftools_toolbox.sdk import Sdk\n",
        "    Sdk.initialize(\"INSERT-LICENSE-KEY\", None)\n",

        "\n",
        "    # Define global variables\n",
        "    nx = 2\n",
        "    ny = 2\n",
        "    page_size = Size(595.0, 842.0)  # A4 portrait\n",
        "    border = 10.0\n",
        "    \n",
        "    # Open input document\n",
        "    with io.FileIO(input_file_path, 'rb') as in_stream:\n",
        "        with Document.open(in_stream, None) as input_document:\n",
        "    \n",
        "            # Create output document\n",
        "            with io.FileIO(output_file_path, 'wb+') as output_stream:\n",
        "                with Document.create(output_stream, input_document.conformance, None) as output_document:\n",
        "                    out_pages = output_document.pages\n",
        "                    page_count = 0\n",
        "                    generator = None\n",
        "                    out_page = None\n",
        "    \n",
        "                    # Copy document-wide data\n",
        "                    copy_document_data(input_document, output_document)\n",
        "    \n",
        "                    # Copy all pages from input document\n",
        "                    for in_page in input_document.pages:\n",
        "                        if page_count == nx * ny:\n",
        "                            # Add to output document\n",
        "                            generator.__exit__(None, None, None)\n",
        "                            out_pages.append(out_page)\n",
        "                            out_page = None\n",
        "                            page_count = 0\n",
        "                        if out_page is None:\n",
        "                            # Create a new output page\n",
        "                            out_page = Page.create(output_document, page_size)\n",
        "                            generator = ContentGenerator(out_page.content, False)\n",
        "    \n",
        "                        # Get area where group has to be (// calculates the floor of the division)\n",
        "                        x = int(page_count % nx)\n",
        "                        y = int(ny - (page_count // nx) - 1)\n",
        "    \n",
        "                        # Compute cell size\n",
        "                        cell_width = (page_size.width - ((nx + 1) * border)) / nx\n",
        "                        cell_height = (page_size.height - ((ny + 1) * border)) / ny\n",
        "    \n",
        "                        # Compute cell position\n",
        "                        cell_x = border + x * (cell_width + border)\n",
        "                        cell_y = border + y * (cell_height + border)\n",
        "    \n",
        "                        # Define page copy options\n",
        "                        copy_options = PageCopyOptions()\n",
        "    \n",
        "                        # Copy page as group from input to output\n",
        "                        group = Group.copy_from_page(output_document, in_page, copy_options)\n",
        "    \n",
        "                        # Compute group position\n",
        "                        group_size = group.size\n",
        "                        scale = min(cell_width / group_size.width, cell_height / group_size.height)\n",
        "    \n",
        "                        # Compute target size\n",
        "                        target_width = group_size.width * scale\n",
        "                        target_height = group_size.height * scale\n",
        "    \n",
        "                        # Compute position\n",
        "                        target_x = cell_x + ((cell_width - target_width) / 2)\n",
        "                        target_y = cell_y + ((cell_height - target_height) / 2)\n",
        "    \n",
        "                        # Compute rectangle\n",
        "                        target_rect = Rectangle()\n",
        "                        target_rect.left = target_x\n",
        "                        target_rect.bottom = target_y\n",
        "                        target_rect.right = target_x + target_width\n",
        "                        target_rect.top = target_y + target_height\n",
        "    \n",
        "                        # Add group to page\n",
        "                        generator.paint_group(group, target_rect, None)\n",
        "                        page_count += 1\n",
        "    \n",
        "                    # Add page\n",
        "                    if out_page:\n",
        "                        generator.__exit__(None, None, None)\n",
        "                        out_pages.append(out_page)\n",

        "\n",
        "    print(\"Execution successful.\")\n",

        "except Exception as e:\n",
        "    print(f\"An error occurred: {e}\")"
      ]
    }
  ],
  "metadata": {
    "kernelspec": {
      "display_name": "Python 3",
      "language": "python",
      "name": "python3"
    },
    "language_info": {
      "codemirror_mode": {
        "name": "ipython",
        "version": 3
      },
      "file_extension": ".py",
      "mimetype": "text/x-python",
      "name": "python",
      "nbconvert_exporter": "python",
      "pygments_lexer": "ipython3",
      "version": "3.12.8"
    },
    "colab": {
      "provenance": []
    }
  },
  "nbformat": 4,
  "nbformat_minor": 5
}