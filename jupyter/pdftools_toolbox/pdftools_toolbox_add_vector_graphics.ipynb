{
  "cells": [
    {
      "cell_type": "markdown",
      "id": "c9c97e32-eb6f-4d17-9764-f73c48ce874f",
      "metadata": {
          "id": "0681571a-41d6-4b58-a2b2-623a8eebbd56"
      },
      "source": [
        "[![Open In Colab](https://colab.research.google.com/assets/colab-badge.svg)](https://colab.research.google.com/github/pdf-tools/components-code-sample-hub/blob/main/jupyter/pdftools_toolbox/pdftools_toolbox_add_vector_graphics.ipynb)"
      ]
    },
    {
      "cell_type": "code",
      "execution_count": null,
      "id": "643a2ab9-a589-4518-ab9e-d8189f4784fd",
      "metadata": {
          "id": "81809571-104c-4952-b651-da39972e79dd"
      },
      "outputs": [],
      "source": [
        "%pip install https://pdftools-public-downloads-production.s3.eu-west-1.amazonaws.com/productkits/PDFSDKXT/latest/pdftools_toolbox-latest.tar.gz\n",
        "%pip install ipython"
      ]
    },
    {
      "cell_type": "markdown",
      "id": "07e962eb-3e7d-4e81-a69e-b1f7877c40f9",
      "metadata": {
          "id": "1423c119-424f-467e-b04e-c7dc4c31937b"
      },
      "source": [
        "# Add vector graphic to PDF\n",
        "Draw a line on an existing PDF page."
      ]
    },
    {
      "cell_type": "code",
      "execution_count": null,
      "id": "aaaad389-5dfa-4e62-a3c0-845964c5a921",
      "metadata": {
          "id": "e65a3c04-036a-480f-987a-2a6cb155e6a5"
      },
      "outputs": [],
      "source": [
        "import io\n",
        "from pdftools_toolbox.pdf import Document, FileReference, Metadata, Page, PageCopyOptions\n",
        "from pdftools_toolbox.geometry.real import Point\n",
        "from pdftools_toolbox.pdf.content import ColorSpace, ContentGenerator, IccBasedColorSpace, Paint, ProcessColorSpaceType, Stroke, Path, PathGenerator\n",
        "from pdftools_toolbox.pdf.navigation import ViewerSettings"
      ]
    },
    {
      "cell_type": "code",
      "execution_count": null,
      "id": "04a539f2-89a9-4a82-8296-5481e28823a2",
      "metadata": {
          "id": "24e2980e-dc91-4d74-84b9-2162d0201ff0"
      },
      "outputs": [],
      "source": [
        "# Download a file from a given URL and save it to the local system\n",
        "def prepare_file(url: str, path: str):\n",
        "    import requests\n",
        "    response = requests.get(url)\n",
        "    response.raise_for_status()\n",
        "\n",
        "    with open(path, 'wb') as f:\n",
        "        f.write(response.content)"
      ]
    },
    {
      "cell_type": "code",
      "execution_count": null,
      "id": "c1e3a108-ab4e-48bd-ad7b-acf3d2792875",
      "metadata": {
          "id": "771d0af4-699d-4bab-ac2e-d86194004a71"
      },
      "outputs": [],
      "source": [
        "# Set input arguments\n",
        "input_url = 'https://pdftools-public-downloads-production.s3.eu-west-1.amazonaws.com/samples/testfiles/GraphicsNone.pdf'\n",
        "input_file_path = 'GraphicsNone.pdf'\n",
        "prepare_file(input_url, input_file_path)\n",
        "output_file_path = 'GraphicsWithLine.pdf'"
      ]
    },
    {
      "cell_type": "code",
      "execution_count": null,
      "id": "d64fd806-932c-4bf5-996b-b3758d38bd1e",
      "metadata": {
          "id": "bddd81da-a891-4ee9-863d-d7785be6d421"
      },
      "outputs": [],
      "source": [
        "def copy_document_data(in_doc: Document, out_doc: Document):\n",
        "    # Copy document-wide data\n",
        "\n",
        "    # Output intent\n",
        "    if in_doc.output_intent is not None:\n",
        "        in_doc.output_intent = IccBasedColorSpace.copy(out_doc, in_doc.output_intent)\n",
        "\n",
        "    # Metadata\n",
        "    out_doc.metadata = Metadata.copy(out_doc, in_doc.metadata)\n",
        "\n",
        "    # Viewer settings\n",
        "    out_doc.viewer_settings = ViewerSettings.copy(out_doc, in_doc.viewer_settings)\n",
        "\n",
        "    # Associated files (for PDF/A-3 and PDF 2.0 only)\n",
        "    outAssociatedFiles = out_doc.associated_files\n",
        "    for in_file_ref in in_doc.associated_files:\n",
        "        outAssociatedFiles.append(FileReference.copy(out_doc, in_file_ref))\n",
        "\n",
        "    # Plain embedded files\n",
        "    out_embedded_files = out_doc.plain_embedded_files\n",
        "    for in_file_ref in in_doc.plain_embedded_files:\n",
        "        out_embedded_files.append(FileReference.copy(out_doc, in_file_ref))"
      ]
    },
    {
      "cell_type": "code",
      "execution_count": null,
      "id": "11af87a5-336d-4e84-a819-fbcda9da9bed",
      "metadata": {
          "id": "3f5f771b-229a-463a-8ed2-37189b46b890"
      },
      "outputs": [],
      "source": [
        "def add_line(out_doc: Document, page: Page):\n",
        "    # Extract content generator\n",
        "    with ContentGenerator(page.content, False) as generator:\n",
        "\n",
        "        # Create a path\n",
        "        path = Path()\n",
        "        with PathGenerator(path) as path_generator:\n",
        "            # Draw a line diagonally across the page\n",
        "            page_size = page.size\n",
        "            path_generator.move_to(Point(x = 10.0, y = 10.0))\n",
        "            path_generator.line_to(Point(x = page_size.width - 10.0, y=page_size.height - 10.0))\n",
        "\n",
        "        # Create a RGB color space\n",
        "        device_rgb_color_space = ColorSpace.create_process_color_space(out_doc, ProcessColorSpaceType.RGB)\n",
        "\n",
        "        # Create a red color\n",
        "        red = [1.0, 0.0, 0.0]\n",
        "\n",
        "        #  Create a paint\n",
        "        paint = Paint.create(out_doc, device_rgb_color_space, red, None)\n",
        "\n",
        "        # Create stroking parameters with given paint and line width\n",
        "        stroke = Stroke(paint, 10.0)\n",
        "\n",
        "        # Draw the path onto the page\n",
        "        generator.paint_path(path, None, stroke)"
      ]
    },
    {
      "cell_type": "code",
      "execution_count": null,
      "id": "5eedbd0d-a854-4451-bf4f-1ed9606ea962",
      "metadata": {
          "id": "e5884910-0d01-4628-9c04-85110ebd445b"
      },
      "outputs": [],
      "source": [
        "try:\n",
        "    # Set and check license key. If the license key is not valid, an exception is thrown.\n",
        "    from pdftools_toolbox.sdk import Sdk\n",
        "    Sdk.initialize(\"INSERT-LICENSE-KEY\", None)\n",

        "\n",
        "    # Open input document\n",
        "    with io.FileIO(input_file_path, 'rb') as in_stream:\n",
        "        with Document.open(in_stream, None) as in_doc:\n",
        "    \n",
        "            # Create output document\n",
        "            with io.FileIO(output_file_path, 'wb+') as output_stream:\n",
        "                with Document.create(output_stream, in_doc.conformance, None) as out_doc:\n",
        "    \n",
        "                    # Copy document-wide data\n",
        "                    copy_document_data(in_doc, out_doc)\n",
        "    \n",
        "                    # Define page copy options\n",
        "                    copy_options = PageCopyOptions()\n",
        "    \n",
        "                    # Copy all pages from input document\n",
        "                    for in_page in in_doc.pages:\n",
        "                        out_page = Page.copy(out_doc, in_page, copy_options)\n",
        "    \n",
        "                        # Add a line\n",
        "                        add_line(out_doc, out_page)\n",
        "    \n",
        "                        # Add page to output document\n",
        "                        out_doc.pages.append(out_page)\n",

        "\n",
        "    print(\"Execution successful.\")\n",

        "except Exception as e:\n",
        "    print(f\"An error occurred: {e}\")"
      ]
    }
  ],
  "metadata": {
    "kernelspec": {
      "display_name": "Python 3",
      "language": "python",
      "name": "python3"
    },
    "language_info": {
      "codemirror_mode": {
        "name": "ipython",
        "version": 3
      },
      "file_extension": ".py",
      "mimetype": "text/x-python",
      "name": "python",
      "nbconvert_exporter": "python",
      "pygments_lexer": "ipython3",
      "version": "3.12.8"
    },
    "colab": {
      "provenance": []
    }
  },
  "nbformat": 4,
  "nbformat_minor": 5
}