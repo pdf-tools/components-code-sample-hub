{
  "cells": [
    {
      "cell_type": "markdown",
      "id": "26d53cbc-be5b-4bbb-ac9f-e5a4f6e463d9",
      "metadata": {
          "id": "0ac18755-8d0b-49bc-8694-72b511d956c3"
      },
      "source": [
        "[![Open In Colab](https://colab.research.google.com/assets/colab-badge.svg)](https://colab.research.google.com/github/pdf-tools/components-code-sample-hub/blob/main/jupyter/pdftools_toolbox/pdftools_toolbox_add_vector_graphics.ipynb)"
      ]
    },
    {
      "cell_type": "code",
      "execution_count": null,
      "id": "f2d53bec-3210-4c13-97c7-5477f441bb87",
      "metadata": {
          "id": "0eb09518-ca10-441a-97c9-0b8fe3e3adfa"
      },
      "outputs": [],
      "source": [
        "%pip install https://pdftools-public-downloads-production.s3.eu-west-1.amazonaws.com/productkits/PDFSDKXT/latest/pdftools_toolbox-latest.tar.gz\n",
        "%pip install ipython"
      ]
    },
    {
      "cell_type": "markdown",
      "id": "9df08b3e-540d-4784-92ec-cc4515fdf408",
      "metadata": {
          "id": "0d926d13-b980-444e-abf8-d41b931bcfe6"
      },
      "source": [
        "# Add vector graphic to PDF\n",
        "Draw a line on an existing PDF page."
      ]
    },
    {
      "cell_type": "code",
      "execution_count": null,
      "id": "acaa3d79-bd6f-4bdb-8e7a-2f01b7d6bece",
      "metadata": {
          "id": "1074e090-bdcc-47c8-96f4-1abf7d9b1220"
      },
      "outputs": [],
      "source": [
        "import io\n",
        "from pdftools_toolbox.pdf import Document, FileReference, Metadata, Page, PageCopyOptions\n",
        "from pdftools_toolbox.geometry.real import Point\n",
        "from pdftools_toolbox.pdf.content import ColorSpace, ContentGenerator, IccBasedColorSpace, Paint, ProcessColorSpaceType, Stroke, Path, PathGenerator\n",
        "from pdftools_toolbox.pdf.navigation import ViewerSettings"
      ]
    },
    {
      "cell_type": "code",
      "execution_count": null,
      "id": "67f221f9-9b95-406e-be1b-6c5a4070b211",
      "metadata": {
          "id": "95c49030-bfae-4503-b2ee-93c55fd56e32"
      },
      "outputs": [],
      "source": [
        "# Download a file from a given URL and save it to the local system\n",
        "def prepare_file(url: str, path: str):\n",
        "    import requests\n",
        "    response = requests.get(url)\n",
        "    response.raise_for_status()\n",
        "\n",
        "    with open(path, 'wb') as f:\n",
        "        f.write(response.content)"
      ]
    },
    {
      "cell_type": "code",
      "execution_count": null,
      "id": "8de069f8-ae5d-402c-960d-7c645c900202",
      "metadata": {
          "id": "29670055-1fd2-41c5-8447-699cc7771de6"
      },
      "outputs": [],
      "source": [
        "# Set input arguments\n",
        "input_url = 'https://pdftools-public-downloads-production.s3.eu-west-1.amazonaws.com/samples/testfiles/GraphicsNone.pdf'\n",
        "input_file_path = 'GraphicsNone.pdf'\n",
        "prepare_file(input_url, input_file_path)\n",
        "output_file_path = 'GraphicsWithLine.pdf'"
      ]
    },
    {
      "cell_type": "code",
      "execution_count": null,
      "id": "50537b6a-13f3-4a96-90ea-e40f99a8b914",
      "metadata": {
          "id": "b98446a5-8fc0-41ff-b38f-029b71ca56bf"
      },
      "outputs": [],
      "source": [
        "def copy_document_data(in_doc: Document, out_doc: Document):\n",
        "    # Copy document-wide data\n",
        "\n",
        "    # Output intent\n",
        "    if in_doc.output_intent is not None:\n",
        "        in_doc.output_intent = IccBasedColorSpace.copy(out_doc, in_doc.output_intent)\n",
        "\n",
        "    # Metadata\n",
        "    out_doc.metadata = Metadata.copy(out_doc, in_doc.metadata)\n",
        "\n",
        "    # Viewer settings\n",
        "    out_doc.viewer_settings = ViewerSettings.copy(out_doc, in_doc.viewer_settings)\n",
        "\n",
        "    # Associated files (for PDF/A-3 and PDF 2.0 only)\n",
        "    outAssociatedFiles = out_doc.associated_files\n",
        "    for in_file_ref in in_doc.associated_files:\n",
        "        outAssociatedFiles.append(FileReference.copy(out_doc, in_file_ref))\n",
        "\n",
        "    # Plain embedded files\n",
        "    out_embedded_files = out_doc.plain_embedded_files\n",
        "    for in_file_ref in in_doc.plain_embedded_files:\n",
        "        out_embedded_files.append(FileReference.copy(out_doc, in_file_ref))"
      ]
    },
    {
      "cell_type": "code",
      "execution_count": null,
      "id": "1cef2a88-a26f-4f8e-8d21-9a180681a7a0",
      "metadata": {
          "id": "9e21670c-0152-4b57-b270-f6a270838caa"
      },
      "outputs": [],
      "source": [
        "def add_line(out_doc: Document, page: Page):\n",
        "    # Extract content generator\n",
        "    with ContentGenerator(page.content, False) as generator:\n",
        "\n",
        "        # Create a path\n",
        "        path = Path()\n",
        "        with PathGenerator(path) as path_generator:\n",
        "            # Draw a line diagonally across the page\n",
        "            page_size = page.size\n",
        "            path_generator.move_to(Point(x = 10.0, y = 10.0))\n",
        "            path_generator.line_to(Point(x = page_size.width - 10.0, y=page_size.height - 10.0))\n",
        "\n",
        "        # Create a RGB color space\n",
        "        device_rgb_color_space = ColorSpace.create_process_color_space(out_doc, ProcessColorSpaceType.RGB)\n",
        "\n",
        "        # Create a red color\n",
        "        red = [1.0, 0.0, 0.0]\n",
        "\n",
        "        #  Create a paint\n",
        "        paint = Paint.create(out_doc, device_rgb_color_space, red, None)\n",
        "\n",
        "        # Create stroking parameters with given paint and line width\n",
        "        stroke = Stroke(paint, 10.0)\n",
        "\n",
        "        # Draw the path onto the page\n",
        "        generator.paint_path(path, None, stroke)"
      ]
    },
    {
      "cell_type": "code",
      "execution_count": null,
      "id": "0bb1b442-5dc4-4ef0-be41-dec890eaa27e",
      "metadata": {
          "id": "51901ac9-7efb-4da0-b41b-38059de73ff8"
      },
      "outputs": [],
      "source": [
        "try:\n",
        "    # Set and check license key. If the license key is not valid, an exception is thrown.\n",
        "    from pdftools_toolbox.sdk import Sdk\n",
        "    Sdk.initialize(\"INSERT-LICENSE-KEY\", None)\n",

        "\n",
        "    # Open input document\n",
        "    with io.FileIO(input_file_path, 'rb') as in_stream:\n",
        "        with Document.open(in_stream, None) as in_doc:\n",
        "    \n",
        "            # Create output document\n",
        "            with io.FileIO(output_file_path, 'wb+') as output_stream:\n",
        "                with Document.create(output_stream, in_doc.conformance, None) as out_doc:\n",
        "    \n",
        "                    # Copy document-wide data\n",
        "                    copy_document_data(in_doc, out_doc)\n",
        "    \n",
        "                    # Define page copy options\n",
        "                    copy_options = PageCopyOptions()\n",
        "    \n",
        "                    # Copy all pages from input document\n",
        "                    for in_page in in_doc.pages:\n",
        "                        out_page = Page.copy(out_doc, in_page, copy_options)\n",
        "    \n",
        "                        # Add a line\n",
        "                        add_line(out_doc, out_page)\n",
        "    \n",
        "                        # Add page to output document\n",
        "                        out_doc.pages.append(out_page)\n",

        "\n",
        "    print(\"Execution successful.\")\n",

        "except Exception as e:\n",
        "    print(f\"An error occurred: {e}\")"
      ]
    }
  ],
  "metadata": {
    "kernelspec": {
      "display_name": "Python 3",
      "language": "python",
      "name": "python3"
    },
    "language_info": {
      "codemirror_mode": {
        "name": "ipython",
        "version": 3
      },
      "file_extension": ".py",
      "mimetype": "text/x-python",
      "name": "python",
      "nbconvert_exporter": "python",
      "pygments_lexer": "ipython3",
      "version": "3.12.8"
    },
    "colab": {
      "provenance": []
    }
  },
  "nbformat": 4,
  "nbformat_minor": 5
}