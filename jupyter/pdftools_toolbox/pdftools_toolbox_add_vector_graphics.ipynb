{
  "cells": [
    {
      "cell_type": "markdown",
      "id": "cb778c94-68bd-40d1-9bfc-c5b6b1aece85",
      "metadata": {
          "id": "1777da0d-5b67-4c46-9d9c-6ccc6f4af773"
      },
      "source": [
        "[![Open In Colab](https://colab.research.google.com/assets/colab-badge.svg)](https://colab.research.google.com/github/pdf-tools/components-code-sample-hub/blob/main/jupyter/pdftools_toolbox/pdftools_toolbox_add_vector_graphics.ipynb)"
      ]
    },
    {
      "cell_type": "code",
      "execution_count": null,
      "id": "b9ceafd1-b446-49f4-8ca8-46f5cc5043ff",
      "metadata": {
          "id": "b978365c-e120-46c2-a931-abcb89dd00a6"
      },
      "outputs": [],
      "source": [
        "%pip install pdftools_toolbox\n",
        "%pip install ipython"
      ]
    },
    {
      "cell_type": "markdown",
      "id": "74986f2c-9cac-46b0-9b90-86e82c168ba8",
      "metadata": {
          "id": "e77221e7-2ba5-4478-8405-b25bfe9e6a4e"
      },
      "source": [
        "# Add vector graphic to PDF\n",
        "Draw a line on an existing PDF page."
      ]
    },
    {
      "cell_type": "code",
      "execution_count": null,
      "id": "a5692c32-fb0a-4508-9712-6aac0b7d93c9",
      "metadata": {
          "id": "2fae9afd-37b2-4c2a-bc3b-38d2e3071e8a"
      },
      "outputs": [],
      "source": [
        "import io\n",
        "from pdftools_toolbox.pdf import Document, FileReference, Metadata, Page, PageCopyOptions\n",
        "from pdftools_toolbox.geometry.real import Point\n",
        "from pdftools_toolbox.pdf.content import ColorSpace, ContentGenerator, IccBasedColorSpace, Paint, ProcessColorSpaceType, Stroke, Path, PathGenerator\n",
        "from pdftools_toolbox.pdf.navigation import ViewerSettings"
      ]
    },
    {
      "cell_type": "code",
      "execution_count": null,
      "id": "c1ec9ef1-342c-43c0-8040-5afc4017a3b0",
      "metadata": {
          "id": "c4238a45-fab4-4ae8-b879-4d4a0596f515"
      },
      "outputs": [],
      "source": [
        "# Download a file from a given URL and save it to the local system\n",
        "def prepare_file(url: str, path: str):\n",
        "    import requests\n",
        "    response = requests.get(url)\n",
        "    response.raise_for_status()\n",
        "\n",
        "    with open(path, 'wb') as f:\n",
        "        f.write(response.content)"
      ]
    },
    {
      "cell_type": "code",
      "execution_count": null,
      "id": "9aa35ead-d0eb-41f1-b6c3-85664f9ae5e3",
      "metadata": {
          "id": "442bcb5f-a2b1-4b6a-9111-6418e99ea087"
      },
      "outputs": [],
      "source": [
        "# Set input arguments\n",
        "input_url = 'https://pdftools-public-downloads-production.s3.eu-west-1.amazonaws.com/samples/testfiles/GraphicsNone.pdf'\n",
        "input_file_path = 'GraphicsNone.pdf'\n",
        "prepare_file(input_url, input_file_path)\n",
        "output_file_path = 'GraphicsWithLine.pdf'"
      ]
    },
    {
      "cell_type": "code",
      "execution_count": null,
      "id": "f56ca2ab-d441-4042-8de4-45cc48512d06",
      "metadata": {
          "id": "d6a25932-4cbf-4d80-be12-90dfd2b8b36e"
      },
      "outputs": [],
      "source": [
        "def copy_document_data(in_doc: Document, out_doc: Document):\n",
        "    # Copy document-wide data\n",
        "\n",
        "    # Output intent\n",
        "    if in_doc.output_intent is not None:\n",
        "        in_doc.output_intent = IccBasedColorSpace.copy(out_doc, in_doc.output_intent)\n",
        "\n",
        "    # Metadata\n",
        "    out_doc.metadata = Metadata.copy(out_doc, in_doc.metadata)\n",
        "\n",
        "    # Viewer settings\n",
        "    out_doc.viewer_settings = ViewerSettings.copy(out_doc, in_doc.viewer_settings)\n",
        "\n",
        "    # Associated files (for PDF/A-3 and PDF 2.0 only)\n",
        "    outAssociatedFiles = out_doc.associated_files\n",
        "    for in_file_ref in in_doc.associated_files:\n",
        "        outAssociatedFiles.append(FileReference.copy(out_doc, in_file_ref))\n",
        "\n",
        "    # Plain embedded files\n",
        "    out_embedded_files = out_doc.plain_embedded_files\n",
        "    for in_file_ref in in_doc.plain_embedded_files:\n",
        "        out_embedded_files.append(FileReference.copy(out_doc, in_file_ref))"
      ]
    },{
      "cell_type": "code",
      "execution_count": null,
      "id": "00a6835f-095b-4492-a72a-4b03d777fe4b",
      "metadata": {
          "id": "0ccfbb7f-4540-4194-a82b-b52a4eb139ce"
      },
      "outputs": [],
      "source": [
        "def add_line(out_doc: Document, page: Page):\n",
        "    # Extract content generator\n",
        "    with ContentGenerator(page.content, False) as generator:\n",
        "\n",
        "        # Create a path\n",
        "        path = Path()\n",
        "        with PathGenerator(path) as path_generator:\n",
        "            # Draw a line diagonally across the page\n",
        "            page_size = page.size\n",
        "            path_generator.move_to(Point(x = 10.0, y = 10.0))\n",
        "            path_generator.line_to(Point(x = page_size.width - 10.0, y=page_size.height - 10.0))\n",
        "\n",
        "        # Create a RGB color space\n",
        "        device_rgb_color_space = ColorSpace.create_process_color_space(out_doc, ProcessColorSpaceType.RGB)\n",
        "\n",
        "        # Create a red color\n",
        "        red = [1.0, 0.0, 0.0]\n",
        "\n",
        "        #  Create a paint\n",
        "        paint = Paint.create(out_doc, device_rgb_color_space, red, None)\n",
        "\n",
        "        # Create stroking parameters with given paint and line width\n",
        "        stroke = Stroke(paint, 10.0)\n",
        "\n",
        "        # Draw the path onto the page\n",
        "        generator.paint_path(path, None, stroke)"
      ]
    },
    {
      "cell_type": "code",
      "execution_count": null,
      "id": "fc0b9b16-2d37-4dd8-bb3f-c5ab2c552ac0",
      "metadata": {
          "id": "0c821649-0691-4727-a743-c52c2c1e18a4"
      },
      "outputs": [],
      "source": [
        "try:\n",
        "    # Set and check license key. If the license key is not valid, an exception is thrown.\n",
        "    from pdftools_toolbox.sdk import Sdk\n",
        "    Sdk.initialize(\"INSERT-LICENSE-KEY\", None)\n",

        "\n",
        "    # Open input document\n",
        "    with io.FileIO(input_file_path, 'rb') as in_stream:\n",
        "        with Document.open(in_stream, None) as in_doc:\n",
        "    \n",
        "            # Create output document\n",
        "            with io.FileIO(output_file_path, 'wb+') as output_stream:\n",
        "                with Document.create(output_stream, in_doc.conformance, None) as out_doc:\n",
        "    \n",
        "                    # Copy document-wide data\n",
        "                    copy_document_data(in_doc, out_doc)\n",
        "    \n",
        "                    # Define page copy options\n",
        "                    copy_options = PageCopyOptions()\n",
        "    \n",
        "                    # Copy all pages from input document\n",
        "                    for in_page in in_doc.pages:\n",
        "                        out_page = Page.copy(out_doc, in_page, copy_options)\n",
        "    \n",
        "                        # Add a line\n",
        "                        add_line(out_doc, out_page)\n",
        "    \n",
        "                        # Add page to output document\n",
        "                        out_doc.pages.append(out_page)\n",

        "\n",
        "    print(\"Execution successful.\")\n",

        "except Exception as e:\n",
        "    print(f\"An error occurred: {e}\")"
      ]
    }
  ],
  "metadata": {
    "kernelspec": {
      "display_name": "Python 3",
      "language": "python",
      "name": "python3"
    },
    "language_info": {
      "codemirror_mode": {
        "name": "ipython",
        "version": 3
      },
      "file_extension": ".py",
      "mimetype": "text/x-python",
      "name": "python",
      "nbconvert_exporter": "python",
      "pygments_lexer": "ipython3",
      "version": "3.12.8"
    },
    "colab": {
      "provenance": []
    }
  },
  "nbformat": 4,
  "nbformat_minor": 5
}