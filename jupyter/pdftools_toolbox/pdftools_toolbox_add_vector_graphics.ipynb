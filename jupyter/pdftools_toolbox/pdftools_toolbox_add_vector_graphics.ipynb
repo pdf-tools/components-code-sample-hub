{
  "cells": [
    {
      "cell_type": "markdown",
      "id": "b84b6a8e-368d-4c05-8cee-11df1eb892a3",
      "metadata": {
          "id": "43e520fa-9e92-4fc8-b5c7-7ea8c1cf0b4f"
      },
      "source": [
        "[![Open In Colab](https://colab.research.google.com/assets/colab-badge.svg)](https://colab.research.google.com/github/pdf-tools/components-code-sample-hub/blob/main/jupyter/pdftools_toolbox/pdftools_toolbox_add_vector_graphics.ipynb)"
      ]
    },
    {
      "cell_type": "code",
      "execution_count": null,
      "id": "bda4912e-9d5a-4c28-85a9-a0be1ffd9c39",
      "metadata": {
          "id": "975de72a-3e87-495e-b6f6-50939df4a082"
      },
      "outputs": [],
      "source": [
        "%pip install https://pdftools-public-downloads-production.s3.eu-west-1.amazonaws.com/productkits/PDFSDKXT/latest/pdftools_toolbox-latest.tar.gz\n",
        "%pip install ipython"
      ]
    },
    {
      "cell_type": "markdown",
      "id": "222164e9-d859-4e64-bd71-e318a69b2307",
      "metadata": {
          "id": "910f06cf-d597-4071-8415-b01a762137e7"
      },
      "source": [
        "# Add vector graphic to PDF\n",
        "Draw a line on an existing PDF page."
      ]
    },
    {
      "cell_type": "code",
      "execution_count": null,
      "id": "55468e54-7c86-44e2-b75e-3abe37fb505b",
      "metadata": {
          "id": "c04e9841-7ed9-4ebf-b07d-9f73b0ebc479"
      },
      "outputs": [],
      "source": [
        "import io\n",
        "from pdftools_toolbox.pdf import Document, FileReference, Metadata, Page, PageCopyOptions\n",
        "from pdftools_toolbox.geometry.real import Point\n",
        "from pdftools_toolbox.pdf.content import ColorSpace, ContentGenerator, IccBasedColorSpace, Paint, ProcessColorSpaceType, Stroke, Path, PathGenerator\n",
        "from pdftools_toolbox.pdf.navigation import ViewerSettings"
      ]
    },
    {
      "cell_type": "code",
      "execution_count": null,
      "id": "9b9c4270-35f5-4180-be54-7ea556b3ba5c",
      "metadata": {
          "id": "8603aa5c-18f9-4301-92b4-ea83452472c8"
      },
      "outputs": [],
      "source": [
        "# Download a file from a given URL and save it to the local system\n",
        "def prepare_file(url: str, path: str):\n",
        "    import requests\n",
        "    response = requests.get(url)\n",
        "    response.raise_for_status()\n",
        "\n",
        "    with open(path, 'wb') as f:\n",
        "        f.write(response.content)"
      ]
    },
    {
      "cell_type": "code",
      "execution_count": null,
      "id": "cf113428-9e75-4d3a-a4ca-208ad8b5b9c8",
      "metadata": {
          "id": "4bc9c166-59ed-4cb7-b04e-7bdb74f29aa7"
      },
      "outputs": [],
      "source": [
        "# Set input arguments\n",
        "input_url = 'https://pdftools-public-downloads-production.s3.eu-west-1.amazonaws.com/samples/testfiles/GraphicsNone.pdf'\n",
        "input_file_path = 'GraphicsNone.pdf'\n",
        "prepare_file(input_url, input_file_path)\n",
        "output_file_path = 'GraphicsWithLine.pdf'"
      ]
    },
    {
      "cell_type": "code",
      "execution_count": null,
      "id": "f4bb55da-d179-4e7e-bc44-0ffaf356422c",
      "metadata": {
          "id": "34672913-90ef-49cd-9216-ca7fd6694a43"
      },
      "outputs": [],
      "source": [
        "def copy_document_data(in_doc: Document, out_doc: Document):\n",
        "    # Copy document-wide data\n",
        "\n",
        "    # Output intent\n",
        "    if in_doc.output_intent is not None:\n",
        "        in_doc.output_intent = IccBasedColorSpace.copy(out_doc, in_doc.output_intent)\n",
        "\n",
        "    # Metadata\n",
        "    out_doc.metadata = Metadata.copy(out_doc, in_doc.metadata)\n",
        "\n",
        "    # Viewer settings\n",
        "    out_doc.viewer_settings = ViewerSettings.copy(out_doc, in_doc.viewer_settings)\n",
        "\n",
        "    # Associated files (for PDF/A-3 and PDF 2.0 only)\n",
        "    outAssociatedFiles = out_doc.associated_files\n",
        "    for in_file_ref in in_doc.associated_files:\n",
        "        outAssociatedFiles.append(FileReference.copy(out_doc, in_file_ref))\n",
        "\n",
        "    # Plain embedded files\n",
        "    out_embedded_files = out_doc.plain_embedded_files\n",
        "    for in_file_ref in in_doc.plain_embedded_files:\n",
        "        out_embedded_files.append(FileReference.copy(out_doc, in_file_ref))"
      ]
    },
    {
      "cell_type": "code",
      "execution_count": null,
      "id": "e4de83ba-b5c5-4f77-9fa1-845dba4dfc4d",
      "metadata": {
          "id": "a76c5853-2ef1-41a1-95a3-53deaa798232"
      },
      "outputs": [],
      "source": [
        "def add_line(out_doc: Document, page: Page):\n",
        "    # Extract content generator\n",
        "    with ContentGenerator(page.content, False) as generator:\n",
        "\n",
        "        # Create a path\n",
        "        path = Path()\n",
        "        with PathGenerator(path) as path_generator:\n",
        "            # Draw a line diagonally across the page\n",
        "            page_size = page.size\n",
        "            path_generator.move_to(Point(x = 10.0, y = 10.0))\n",
        "            path_generator.line_to(Point(x = page_size.width - 10.0, y=page_size.height - 10.0))\n",
        "\n",
        "        # Create a RGB color space\n",
        "        device_rgb_color_space = ColorSpace.create_process_color_space(out_doc, ProcessColorSpaceType.RGB)\n",
        "\n",
        "        # Create a red color\n",
        "        red = [1.0, 0.0, 0.0]\n",
        "\n",
        "        #  Create a paint\n",
        "        paint = Paint.create(out_doc, device_rgb_color_space, red, None)\n",
        "\n",
        "        # Create stroking parameters with given paint and line width\n",
        "        stroke = Stroke(paint, 10.0)\n",
        "\n",
        "        # Draw the path onto the page\n",
        "        generator.paint_path(path, None, stroke)"
      ]
    },
    {
      "cell_type": "code",
      "execution_count": null,
      "id": "4c256459-244b-41b0-96e7-a930813e3529",
      "metadata": {
          "id": "031b08f3-9a45-488c-8a01-12f5ce5a06d5"
      },
      "outputs": [],
      "source": [
        "try:\n",
        "    # Set and check license key. If the license key is not valid, an exception is thrown.\n",
        "    from pdftools_toolbox.sdk import Sdk\n",
        "    Sdk.initialize(\"<PDFSDK,V1,MGAASQD6L2JMQHL54PK08RQX8GG4SS0M8DAHVPH0VMP3NB8R9DUK>\", None)\n",

        "\n",
        "    # Open input document\n",
        "    with io.FileIO(input_file_path, 'rb') as in_stream:\n",
        "        with Document.open(in_stream, None) as in_doc:\n",
        "    \n",
        "            # Create output document\n",
        "            with io.FileIO(output_file_path, 'wb+') as output_stream:\n",
        "                with Document.create(output_stream, in_doc.conformance, None) as out_doc:\n",
        "    \n",
        "                    # Copy document-wide data\n",
        "                    copy_document_data(in_doc, out_doc)\n",
        "    \n",
        "                    # Define page copy options\n",
        "                    copy_options = PageCopyOptions()\n",
        "    \n",
        "                    # Copy all pages from input document\n",
        "                    for in_page in in_doc.pages:\n",
        "                        out_page = Page.copy(out_doc, in_page, copy_options)\n",
        "    \n",
        "                        # Add a line\n",
        "                        add_line(out_doc, out_page)\n",
        "    \n",
        "                        # Add page to output document\n",
        "                        out_doc.pages.append(out_page)\n",

        "\n",
        "    print(\"Execution successful.\")\n",

        "except Exception as e:\n",
        "    print(f\"An error occurred: {e}\")"
      ]
    }
  ],
  "metadata": {
    "kernelspec": {
      "display_name": "Python 3",
      "language": "python",
      "name": "python3"
    },
    "language_info": {
      "codemirror_mode": {
        "name": "ipython",
        "version": 3
      },
      "file_extension": ".py",
      "mimetype": "text/x-python",
      "name": "python",
      "nbconvert_exporter": "python",
      "pygments_lexer": "ipython3",
      "version": "3.12.8"
    },
    "colab": {
      "provenance": []
    }
  },
  "nbformat": 4,
  "nbformat_minor": 5
}