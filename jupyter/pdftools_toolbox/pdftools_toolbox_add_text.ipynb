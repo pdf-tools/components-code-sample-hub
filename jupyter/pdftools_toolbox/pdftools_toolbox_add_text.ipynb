{
  "cells": [
    {
      "cell_type": "markdown",
      "id": "aaa9b090-1d36-485b-9b4b-a2dc9a056847",
      "metadata": {
          "id": "34df282b-fa82-4ac5-8199-3246c785f9d0"
      },
      "source": [
        "[![Open In Colab](https://colab.research.google.com/assets/colab-badge.svg)](https://colab.research.google.com/github/pdf-tools/components-code-sample-hub/blob/main/jupyter/pdftools_toolbox/pdftools_toolbox_add_text.ipynb)"
      ]
    },
    {
      "cell_type": "code",
      "execution_count": null,
      "id": "f274a6f9-a557-4003-8917-02ad14c66242",
      "metadata": {
          "id": "d284c935-879f-471b-801f-fba9e065ec89"
      },
      "outputs": [],
      "source": [
        "%pip install https://pdftools-public-downloads-production.s3.eu-west-1.amazonaws.com/productkits/PDFSDKXT/latest/pdftools_toolbox-latest.tar.gz\n",
        "%pip install ipython"
      ]
    },
    {
      "cell_type": "markdown",
      "id": "947dd438-b862-42be-abfc-64f1beaecb80",
      "metadata": {
          "id": "eeb47d52-21c0-4d7e-9c31-4f7918ba56a5"
      },
      "source": [
        "# Add text to PDF\n",
        "Add text at a specified position on the first page of a\n",
        "PDF document."
      ]
    },
    {
      "cell_type": "code",
      "execution_count": null,
      "id": "78289cd3-f517-415e-9830-cf9161a6331a",
      "metadata": {
          "id": "683dc715-0e8b-41a6-b77e-f1023cc2a5bb"
      },
      "outputs": [],
      "source": [
        "import io\n",
        "from pdftools_toolbox.pdf import Document, FileReference, Metadata, Page, PageCopyOptions, PageList\n",
        "from pdftools_toolbox.geometry.real import Point\n",
        "from pdftools_toolbox.pdf.content import Font, ContentGenerator, IccBasedColorSpace, Text, TextGenerator\n",
        "from pdftools_toolbox.pdf.navigation import ViewerSettings"
      ]
    },
    {
      "cell_type": "code",
      "execution_count": null,
      "id": "8d43516d-417f-40ca-8e8c-f62e99817fa5",
      "metadata": {
          "id": "5b913a72-3873-4d96-b07f-cdb082c59213"
      },
      "outputs": [],
      "source": [
        "# Download a file from a given URL and save it to the local system\n",
        "def prepare_file(url: str, path: str):\n",
        "    import requests\n",
        "    response = requests.get(url)\n",
        "    response.raise_for_status()\n",
        "\n",
        "    with open(path, 'wb') as f:\n",
        "        f.write(response.content)"
      ]
    },
    {
      "cell_type": "code",
      "execution_count": null,
      "id": "dbd86b03-eeec-495d-9d25-7224973569b9",
      "metadata": {
          "id": "92b6e63e-fdc3-453b-a680-93b1c8a40f57"
      },
      "outputs": [],
      "source": [
        "# Set input arguments\n",
        "input_url = 'https://pdftools-public-downloads-production.s3.eu-west-1.amazonaws.com/samples/testfiles/BlankNoneNoTP.pdf'\n",
        "input_file_path = 'BlankNoneNoTP.pdf'\n",
        "prepare_file(input_url, input_file_path)\n",
        "text_string = \"Test String\"\n",
        "output_file_path = 'BlankWithText.pdf'"
      ]
    },
    {
      "cell_type": "code",
      "execution_count": null,
      "id": "5affc51c-cea9-41e2-a6bb-e62214e55a2d",
      "metadata": {
          "id": "502e7f3c-0e51-402c-ac58-6a867d880bc6"
      },
      "outputs": [],
      "source": [
        "def copy_document_data(in_doc: Document, out_doc: Document):\n",
        "    # Copy document-wide data\n",
        "\n",
        "    # Output intent\n",
        "    if in_doc.output_intent is not None:\n",
        "        in_doc.output_intent = IccBasedColorSpace.copy(out_doc, in_doc.output_intent)\n",
        "\n",
        "    # Metadata\n",
        "    out_doc.metadata = Metadata.copy(out_doc, in_doc.metadata)\n",
        "\n",
        "    # Viewer settings\n",
        "    out_doc.viewer_settings = ViewerSettings.copy(out_doc, in_doc.viewer_settings)\n",
        "\n",
        "    # Associated files (for PDF/A-3 and PDF 2.0 only)\n",
        "    outAssociatedFiles = out_doc.associated_files\n",
        "    for in_file_ref in in_doc.associated_files:\n",
        "        outAssociatedFiles.append(FileReference.copy(out_doc, in_file_ref))\n",
        "\n",
        "    # Plain embedded files\n",
        "    out_embedded_files = out_doc.plain_embedded_files\n",
        "    for in_file_ref in in_doc.plain_embedded_files:\n",
        "        out_embedded_files.append(FileReference.copy(out_doc, in_file_ref))"
      ]
    },
    {
      "cell_type": "code",
      "execution_count": null,
      "id": "15db40db-40fc-4023-ac3a-3abfc04e32e3",
      "metadata": {
          "id": "d4220156-2fbe-4799-a273-d13386a0a368"
      },
      "outputs": [],
      "source": [
        "def add_text(output_doc: Document, output_page: Page, text_string: str):\n",
        "    # Create content generator and text object\n",
        "    with ContentGenerator(output_page.content, False) as gen:\n",
        "        text = Text.create(output_doc)\n",
        "\n",
        "        # Create text generator\n",
        "        with TextGenerator(text, font, font_size, None) as textGenerator:\n",
        "            # Calculate position\n",
        "            position = Point(border, output_page.size.height - border - font_size * font.ascent)\n",
        "\n",
        "            # Move to position\n",
        "            textGenerator.move_to(position)\n",
        "            # Add given text string\n",
        "            textGenerator.show_line(text_string)\n",
        "\n",
        "        # Paint the positioned text\n",
        "        gen.paint_text(text)"
      ]
    },
    {
      "cell_type": "code",
      "execution_count": null,
      "id": "7831e2d0-b2a4-4c9d-846e-544d7b2f844d",
      "metadata": {
          "id": "ad507b14-129d-4928-86c3-6c4b164c97ae"
      },
      "outputs": [],
      "source": [
        "try:\n",
        "    # Set and check license key. If the license key is not valid, an exception is thrown.\n",
        "    from pdftools_toolbox.sdk import Sdk\n",
        "    Sdk.initialize(\"<PDFSDK,V1,MGAASQD6L2JMQHL54PK08RQX8GG4SS0M8DAHVPH0VMP3NB8R9DUK>\", None)\n",

        "\n",
        "    # Define global variables\n",
        "    border = 40.0\n",
        "    font_size = 15.0\n",
        "    \n",
        "    # Open input document\n",
        "    with io.FileIO(input_file_path, 'rb') as in_stream:\n",
        "        with Document.open(in_stream, None) as input_document:\n",
        "    \n",
        "            # Create output document\n",
        "            with io.FileIO(output_file_path, 'wb+') as output_stream:\n",
        "                with Document.create(output_stream, input_document.conformance, None) as output_document:\n",
        "    \n",
        "                    # Copy document-wide data\n",
        "                    copy_document_data(input_document, output_document)\n",
        "    \n",
        "                    # Create a font\n",
        "                    font = Font.create_from_system(output_document, \"Arial\", \"Italic\", True)\n",
        "    \n",
        "                    # Define page copy options\n",
        "                    copy_options = PageCopyOptions()\n",
        "    \n",
        "                    # Copy first page, add text, and append to output document\n",
        "                    out_page = Page.copy(output_document, input_document.pages[0], copy_options)\n",
        "                    add_text(output_document, out_page, text_string)\n",
        "                    output_document.pages.append(out_page)\n",
        "    \n",
        "                    # Copy remaining pages and append to output document\n",
        "                    inPageRange = input_document.pages[1:]\n",
        "                    copied_pages = PageList.copy(output_document, inPageRange, copy_options)\n",
        "                    output_document.pages.extend(copied_pages)\n",

        "\n",
        "    print(\"Execution successful.\")\n",

        "except Exception as e:\n",
        "    print(f\"An error occurred: {e}\")"
      ]
    }
  ],
  "metadata": {
    "kernelspec": {
      "display_name": "Python 3",
      "language": "python",
      "name": "python3"
    },
    "language_info": {
      "codemirror_mode": {
        "name": "ipython",
        "version": 3
      },
      "file_extension": ".py",
      "mimetype": "text/x-python",
      "name": "python",
      "nbconvert_exporter": "python",
      "pygments_lexer": "ipython3",
      "version": "3.12.8"
    },
    "colab": {
      "provenance": []
    }
  },
  "nbformat": 4,
  "nbformat_minor": 5
}