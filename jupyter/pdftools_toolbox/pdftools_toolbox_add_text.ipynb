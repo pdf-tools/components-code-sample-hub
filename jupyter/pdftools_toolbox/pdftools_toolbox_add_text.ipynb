{
  "cells": [
    {
      "cell_type": "markdown",
      "id": "fcca7075-d622-4d72-b8bf-68b19b89824c",
      "metadata": {
          "id": "9c14ba53-e464-4a7a-9df1-594c1e2035b2"
      },
      "source": [
        "[![Open In Colab](https://colab.research.google.com/assets/colab-badge.svg)](https://colab.research.google.com/github/pdf-tools/components-code-sample-hub/blob/main/jupyter/pdftools_toolbox/pdftools_toolbox_add_text.ipynb)"
      ]
    },
    {
      "cell_type": "code",
      "execution_count": null,
      "id": "9dd3b393-79f8-439f-b110-936ee2ea450f",
      "metadata": {
          "id": "12928339-ecab-4ab5-9773-76b5487a8bcb"
      },
      "outputs": [],
      "source": [
        "%pip install https://pdftools-public-downloads-production.s3.eu-west-1.amazonaws.com/productkits/PDFSDKXT/latest/pdftools_toolbox-latest.tar.gz\n",
        "%pip install ipython"
      ]
    },
    {
      "cell_type": "markdown",
      "id": "7963800c-5e55-4981-aa80-fe14febaf34d",
      "metadata": {
          "id": "de7f738b-99aa-4be9-b632-61427fcb404a"
      },
      "source": [
        "# Add text to PDF\n",
        "Add text at a specified position on the first page of a\n",
        "PDF document."
      ]
    },
    {
      "cell_type": "code",
      "execution_count": null,
      "id": "b2d185af-7fbb-4761-bd85-b25bfdace42f",
      "metadata": {
          "id": "d04ddc3d-8488-4b7f-9c86-27fb596e161a"
      },
      "outputs": [],
      "source": [
        "import io\n",
        "from pdftools_toolbox.pdf import Document, FileReference, Metadata, Page, PageCopyOptions, PageList\n",
        "from pdftools_toolbox.geometry.real import Point\n",
        "from pdftools_toolbox.pdf.content import Font, ContentGenerator, IccBasedColorSpace, Text, TextGenerator\n",
        "from pdftools_toolbox.pdf.navigation import ViewerSettings"
      ]
    },
    {
      "cell_type": "code",
      "execution_count": null,
      "id": "5e34f1a6-97b8-48fa-9fdb-dd2fd1c86dea",
      "metadata": {
          "id": "38bfa725-3bf0-4733-91ed-6177cd4d8ac8"
      },
      "outputs": [],
      "source": [
        "# Download a file from a given URL and save it to the local system\n",
        "def prepare_file(url: str, path: str):\n",
        "    import requests\n",
        "    response = requests.get(url)\n",
        "    response.raise_for_status()\n",
        "\n",
        "    with open(path, 'wb') as f:\n",
        "        f.write(response.content)"
      ]
    },
    {
      "cell_type": "code",
      "execution_count": null,
      "id": "01a1e963-8012-46ae-9462-a69ae07e28de",
      "metadata": {
          "id": "58dba913-e972-4e03-adc4-7524e051f0d7"
      },
      "outputs": [],
      "source": [
        "# Set input arguments\n",
        "input_url = 'https://pdftools-public-downloads-production.s3.eu-west-1.amazonaws.com/samples/testfiles/BlankNoneNoTP.pdf'\n",
        "input_file_path = 'BlankNoneNoTP.pdf'\n",
        "prepare_file(input_url, input_file_path)\n",
        "text_string = \"Test String\"\n",
        "output_file_path = 'BlankWithText.pdf'"
      ]
    },
    {
      "cell_type": "code",
      "execution_count": null,
      "id": "f0820396-89bf-45dd-bf9c-aca49f6c77cc",
      "metadata": {
          "id": "644a5375-0cbb-48a0-b886-d1eaeb792c99"
      },
      "outputs": [],
      "source": [
        "def copy_document_data(in_doc: Document, out_doc: Document):\n",
        "    # Copy document-wide data\n",
        "\n",
        "    # Output intent\n",
        "    if in_doc.output_intent is not None:\n",
        "        in_doc.output_intent = IccBasedColorSpace.copy(out_doc, in_doc.output_intent)\n",
        "\n",
        "    # Metadata\n",
        "    out_doc.metadata = Metadata.copy(out_doc, in_doc.metadata)\n",
        "\n",
        "    # Viewer settings\n",
        "    out_doc.viewer_settings = ViewerSettings.copy(out_doc, in_doc.viewer_settings)\n",
        "\n",
        "    # Associated files (for PDF/A-3 and PDF 2.0 only)\n",
        "    outAssociatedFiles = out_doc.associated_files\n",
        "    for in_file_ref in in_doc.associated_files:\n",
        "        outAssociatedFiles.append(FileReference.copy(out_doc, in_file_ref))\n",
        "\n",
        "    # Plain embedded files\n",
        "    out_embedded_files = out_doc.plain_embedded_files\n",
        "    for in_file_ref in in_doc.plain_embedded_files:\n",
        "        out_embedded_files.append(FileReference.copy(out_doc, in_file_ref))"
      ]
    },
    {
      "cell_type": "code",
      "execution_count": null,
      "id": "2399a652-de94-4fc2-bc49-ac2a052bdc36",
      "metadata": {
          "id": "410eb2b9-f71a-4761-af14-4083e2e6c040"
      },
      "outputs": [],
      "source": [
        "def add_text(output_doc: Document, output_page: Page, text_string: str):\n",
        "    # Create content generator and text object\n",
        "    with ContentGenerator(output_page.content, False) as gen:\n",
        "        text = Text.create(output_doc)\n",
        "\n",
        "        # Create text generator\n",
        "        with TextGenerator(text, font, font_size, None) as textGenerator:\n",
        "            # Calculate position\n",
        "            position = Point(border, output_page.size.height - border - font_size * font.ascent)\n",
        "\n",
        "            # Move to position\n",
        "            textGenerator.move_to(position)\n",
        "            # Add given text string\n",
        "            textGenerator.show_line(text_string)\n",
        "\n",
        "        # Paint the positioned text\n",
        "        gen.paint_text(text)"
      ]
    },
    {
      "cell_type": "code",
      "execution_count": null,
      "id": "be3705c1-938f-46dc-927b-cb1c872ba6b3",
      "metadata": {
          "id": "8a01f079-6dbc-4d86-967f-143517848364"
      },
      "outputs": [],
      "source": [
        "try:\n",
        "    # Set and check license key. If the license key is not valid, an exception is thrown.\n",
        "    from pdftools_toolbox.sdk import Sdk\n",
        "    Sdk.initialize(\"INSERT-LICENSE-KEY\", None)\n",

        "\n",
        "    # Define global variables\n",
        "    border = 40.0\n",
        "    font_size = 15.0\n",
        "    \n",
        "    # Open input document\n",
        "    with io.FileIO(input_file_path, 'rb') as in_stream:\n",
        "        with Document.open(in_stream, None) as input_document:\n",
        "    \n",
        "            # Create output document\n",
        "            with io.FileIO(output_file_path, 'wb+') as output_stream:\n",
        "                with Document.create(output_stream, input_document.conformance, None) as output_document:\n",
        "    \n",
        "                    # Copy document-wide data\n",
        "                    copy_document_data(input_document, output_document)\n",
        "    \n",
        "                    # Create a font\n",
        "                    font = Font.create_from_system(output_document, \"Arial\", \"Italic\", True)\n",
        "    \n",
        "                    # Define page copy options\n",
        "                    copy_options = PageCopyOptions()\n",
        "    \n",
        "                    # Copy first page, add text, and append to output document\n",
        "                    out_page = Page.copy(output_document, input_document.pages[0], copy_options)\n",
        "                    add_text(output_document, out_page, text_string)\n",
        "                    output_document.pages.append(out_page)\n",
        "    \n",
        "                    # Copy remaining pages and append to output document\n",
        "                    inPageRange = input_document.pages[1:]\n",
        "                    copied_pages = PageList.copy(output_document, inPageRange, copy_options)\n",
        "                    output_document.pages.extend(copied_pages)\n",

        "\n",
        "    print(\"Execution successful.\")\n",

        "except Exception as e:\n",
        "    print(f\"An error occurred: {e}\")"
      ]
    }
  ],
  "metadata": {
    "kernelspec": {
      "display_name": "Python 3",
      "language": "python",
      "name": "python3"
    },
    "language_info": {
      "codemirror_mode": {
        "name": "ipython",
        "version": 3
      },
      "file_extension": ".py",
      "mimetype": "text/x-python",
      "name": "python",
      "nbconvert_exporter": "python",
      "pygments_lexer": "ipython3",
      "version": "3.12.8"
    },
    "colab": {
      "provenance": []
    }
  },
  "nbformat": 4,
  "nbformat_minor": 5
}