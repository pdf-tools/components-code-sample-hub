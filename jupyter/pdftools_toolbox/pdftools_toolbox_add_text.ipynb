{
  "cells": [
    {
      "cell_type": "markdown",
      "id": "0b5b12d2-9a90-4a0c-83d6-0a20e7666df9",
      "metadata": {
          "id": "241e2447-967f-4fb6-9ddf-b2d1ab7628c1"
      },
      "source": [
        "[![Open In Colab](https://colab.research.google.com/assets/colab-badge.svg)](https://colab.research.google.com/github/pdf-tools/components-code-sample-hub/blob/main/jupyter/pdftools_toolbox/pdftools_toolbox_add_text.ipynb)"
      ]
    },
    {
      "cell_type": "code",
      "execution_count": null,
      "id": "85714b0d-1568-483b-b7da-72e6c4a588db",
      "metadata": {
          "id": "927b40cc-c188-45bd-b0f8-075e80c2d5a6"
      },
      "outputs": [],
      "source": [
        "%pip install pdftools_toolbox\n",
        "%pip install ipython"
      ]
    },
    {
      "cell_type": "markdown",
      "id": "5514ffae-b5d7-409e-bd34-95610f1d5c5d",
      "metadata": {
          "id": "9b5d81c0-769e-4f65-bafc-16c8c0961e32"
      },
      "source": [
        "# Add text to PDF\n",
        "Add text at a specified position on the first page of a\n",
        "PDF document."
      ]
    },
    {
      "cell_type": "code",
      "execution_count": null,
      "id": "2ecdf234-1a05-486c-abf5-72484f31fbad",
      "metadata": {
          "id": "8013e524-222d-4465-8f6e-f89d7378c51f"
      },
      "outputs": [],
      "source": [
        "import io\n",
        "from pdftools_toolbox.pdf import Document, FileReference, Metadata, Page, PageCopyOptions, PageList\n",
        "from pdftools_toolbox.geometry.real import Point\n",
        "from pdftools_toolbox.pdf.content import Font, ContentGenerator, IccBasedColorSpace, Text, TextGenerator\n",
        "from pdftools_toolbox.pdf.navigation import ViewerSettings"
      ]
    },
    {
      "cell_type": "code",
      "execution_count": null,
      "id": "9e823bb3-2fda-449d-b49a-abf0532e11b6",
      "metadata": {
          "id": "19e06d49-69ca-4995-b475-290cbcdb7b1c"
      },
      "outputs": [],
      "source": [
        "# Download a file from a given URL and save it to the local system\n",
        "def prepare_file(url: str, path: str):\n",
        "    import requests\n",
        "    response = requests.get(url)\n",
        "    response.raise_for_status()\n",
        "\n",
        "    with open(path, 'wb') as f:\n",
        "        f.write(response.content)"
      ]
    },
    {
      "cell_type": "code",
      "execution_count": null,
      "id": "58aa211c-d3d2-4600-a445-bdbf0782f3c3",
      "metadata": {
          "id": "3ef7e0c7-9849-4d28-8ae1-a120c159335a"
      },
      "outputs": [],
      "source": [
        "# Set input arguments\n",
        "input_url = 'https://pdftools-public-downloads-production.s3.eu-west-1.amazonaws.com/samples/testfiles/BlankNoneNoTP.pdf'\n",
        "input_file_path = 'BlankNoneNoTP.pdf'\n",
        "prepare_file(input_url, input_file_path)\n",
        "text_string = \"Test String\"\n",
        "output_file_path = 'BlankWithText.pdf'"
      ]
    },
    {
      "cell_type": "code",
      "execution_count": null,
      "id": "1afcd132-8738-40d8-a702-519c658c49fb",
      "metadata": {
          "id": "5a828ae8-f6a5-4e17-aca6-e6da3b60aaa7"
      },
      "outputs": [],
      "source": [
        "def copy_document_data(in_doc: Document, out_doc: Document):\n",
        "    # Copy document-wide data\n",
        "\n",
        "    # Output intent\n",
        "    if in_doc.output_intent is not None:\n",
        "        in_doc.output_intent = IccBasedColorSpace.copy(out_doc, in_doc.output_intent)\n",
        "\n",
        "    # Metadata\n",
        "    out_doc.metadata = Metadata.copy(out_doc, in_doc.metadata)\n",
        "\n",
        "    # Viewer settings\n",
        "    out_doc.viewer_settings = ViewerSettings.copy(out_doc, in_doc.viewer_settings)\n",
        "\n",
        "    # Associated files (for PDF/A-3 and PDF 2.0 only)\n",
        "    outAssociatedFiles = out_doc.associated_files\n",
        "    for in_file_ref in in_doc.associated_files:\n",
        "        outAssociatedFiles.append(FileReference.copy(out_doc, in_file_ref))\n",
        "\n",
        "    # Plain embedded files\n",
        "    out_embedded_files = out_doc.plain_embedded_files\n",
        "    for in_file_ref in in_doc.plain_embedded_files:\n",
        "        out_embedded_files.append(FileReference.copy(out_doc, in_file_ref))"
      ]
    },{
      "cell_type": "code",
      "execution_count": null,
      "id": "edbfd137-c692-43ff-adbd-cf475237830c",
      "metadata": {
          "id": "6cd84d53-caaa-4747-9e22-90790165ddb3"
      },
      "outputs": [],
      "source": [
        "def add_text(output_doc: Document, output_page: Page, text_string: str):\n",
        "    # Create content generator and text object\n",
        "    with ContentGenerator(output_page.content, False) as gen:\n",
        "        text = Text.create(output_doc)\n",
        "\n",
        "        # Create text generator\n",
        "        with TextGenerator(text, font, font_size, None) as textGenerator:\n",
        "            # Calculate position\n",
        "            position = Point(border, output_page.size.height - border - font_size * font.ascent)\n",
        "\n",
        "            # Move to position\n",
        "            textGenerator.move_to(position)\n",
        "            # Add given text string\n",
        "            textGenerator.show_line(text_string)\n",
        "\n",
        "        # Paint the positioned text\n",
        "        gen.paint_text(text)"
      ]
    },
    {
      "cell_type": "code",
      "execution_count": null,
      "id": "c7a37857-c211-404a-bad2-01c335e70aaa",
      "metadata": {
          "id": "1ca9d4ee-2861-4a83-8651-21143b68d27c"
      },
      "outputs": [],
      "source": [
        "try:\n",
        "    # Set and check license key. If the license key is not valid, an exception is thrown.\n",
        "    from pdftools_toolbox.sdk import Sdk\n",
        "    Sdk.initialize(\"INSERT-LICENSE-KEY\", None)\n",

        "\n",
        "    # Define global variables\n",
        "    border = 40.0\n",
        "    font_size = 15.0\n",
        "    \n",
        "    # Open input document\n",
        "    with io.FileIO(input_file_path, 'rb') as in_stream:\n",
        "        with Document.open(in_stream, None) as input_document:\n",
        "    \n",
        "            # Create output document\n",
        "            with io.FileIO(output_file_path, 'wb+') as output_stream:\n",
        "                with Document.create(output_stream, input_document.conformance, None) as output_document:\n",
        "    \n",
        "                    # Copy document-wide data\n",
        "                    copy_document_data(input_document, output_document)\n",
        "    \n",
        "                    # Create a font\n",
        "                    font = Font.create_from_system(output_document, \"Arial\", \"Italic\", True)\n",
        "    \n",
        "                    # Define page copy options\n",
        "                    copy_options = PageCopyOptions()\n",
        "    \n",
        "                    # Copy first page, add text, and append to output document\n",
        "                    out_page = Page.copy(output_document, input_document.pages[0], copy_options)\n",
        "                    add_text(output_document, out_page, text_string)\n",
        "                    output_document.pages.append(out_page)\n",
        "    \n",
        "                    # Copy remaining pages and append to output document\n",
        "                    inPageRange = input_document.pages[1:]\n",
        "                    copied_pages = PageList.copy(output_document, inPageRange, copy_options)\n",
        "                    output_document.pages.extend(copied_pages)\n",

        "\n",
        "    print(\"Execution successful.\")\n",

        "except Exception as e:\n",
        "    print(f\"An error occurred: {e}\")"
      ]
    }
  ],
  "metadata": {
    "kernelspec": {
      "display_name": "Python 3",
      "language": "python",
      "name": "python3"
    },
    "language_info": {
      "codemirror_mode": {
        "name": "ipython",
        "version": 3
      },
      "file_extension": ".py",
      "mimetype": "text/x-python",
      "name": "python",
      "nbconvert_exporter": "python",
      "pygments_lexer": "ipython3",
      "version": "3.12.8"
    },
    "colab": {
      "provenance": []
    }
  },
  "nbformat": 4,
  "nbformat_minor": 5
}