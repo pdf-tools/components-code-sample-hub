{
  "cells": [
    {
      "cell_type": "markdown",
      "id": "81d1795e-265c-4953-9ad7-ed9d5c9c2e22",
      "metadata": {
          "id": "47c01ffa-d2b1-424d-b3e1-0266f5ddbd6d"
      },
      "source": [
        "[![Open In Colab](https://colab.research.google.com/assets/colab-badge.svg)](https://colab.research.google.com/github/pdf-tools/components-code-sample-hub/blob/main/jupyter/pdftools_toolbox/pdftools_toolbox_add_text.ipynb)"
      ]
    },
    {
      "cell_type": "code",
      "execution_count": null,
      "id": "402777ff-88d6-4686-a052-aa94365036d4",
      "metadata": {
          "id": "3b702396-0a1f-4495-8e80-f710bb71fd3b"
      },
      "outputs": [],
      "source": [
        "%pip install https://pdftools-public-downloads-production.s3.eu-west-1.amazonaws.com/productkits/PDFSDKXT/latest/pdftools_toolbox-latest.tar.gz\n",
        "%pip install ipython"
      ]
    },
    {
      "cell_type": "markdown",
      "id": "a0fc4a0a-67dc-4756-a731-57fcdf8d298d",
      "metadata": {
          "id": "6bf22406-a0ec-4638-ba29-219555b63f18"
      },
      "source": [
        "# Add text to PDF\n",
        "Add text at a specified position on the first page of a\n",
        "PDF document."
      ]
    },
    {
      "cell_type": "code",
      "execution_count": null,
      "id": "69be0cf7-27bb-4969-b582-84c7f039d2a8",
      "metadata": {
          "id": "1a280bd0-1b76-4263-b963-74becd405612"
      },
      "outputs": [],
      "source": [
        "import io\n",
        "from pdftools_toolbox.pdf import Document, FileReference, Metadata, Page, PageCopyOptions, PageList\n",
        "from pdftools_toolbox.geometry.real import Point\n",
        "from pdftools_toolbox.pdf.content import Font, ContentGenerator, IccBasedColorSpace, Text, TextGenerator\n",
        "from pdftools_toolbox.pdf.navigation import ViewerSettings"
      ]
    },
    {
      "cell_type": "code",
      "execution_count": null,
      "id": "b1ad73c0-15bf-4771-a080-7c6c95100049",
      "metadata": {
          "id": "aa6c1d9b-f4f7-4b8d-91f1-867890e20c24"
      },
      "outputs": [],
      "source": [
        "# Download a file from a given URL and save it to the local system\n",
        "def prepare_file(url: str, path: str):\n",
        "    import requests\n",
        "    response = requests.get(url)\n",
        "    response.raise_for_status()\n",
        "\n",
        "    with open(path, 'wb') as f:\n",
        "        f.write(response.content)"
      ]
    },
    {
      "cell_type": "code",
      "execution_count": null,
      "id": "bf041da4-dcb2-4e4c-81a3-bf54ba82a1a6",
      "metadata": {
          "id": "61b2bf36-d827-49c4-8754-94fb9f1c3c34"
      },
      "outputs": [],
      "source": [
        "# Set input arguments\n",
        "input_url = 'https://pdftools-public-downloads-production.s3.eu-west-1.amazonaws.com/samples/testfiles/BlankNoneNoTP.pdf'\n",
        "input_file_path = 'BlankNoneNoTP.pdf'\n",
        "prepare_file(input_url, input_file_path)\n",
        "text_string = \"Test String\"\n",
        "output_file_path = 'BlankWithText.pdf'"
      ]
    },
    {
      "cell_type": "code",
      "execution_count": null,
      "id": "270100d0-3428-4fb5-b950-9f6609f89f9a",
      "metadata": {
          "id": "0d643c78-ada7-4378-bf2b-59ca70f63b48"
      },
      "outputs": [],
      "source": [
        "def copy_document_data(in_doc: Document, out_doc: Document):\n",
        "    # Copy document-wide data\n",
        "\n",
        "    # Output intent\n",
        "    if in_doc.output_intent is not None:\n",
        "        in_doc.output_intent = IccBasedColorSpace.copy(out_doc, in_doc.output_intent)\n",
        "\n",
        "    # Metadata\n",
        "    out_doc.metadata = Metadata.copy(out_doc, in_doc.metadata)\n",
        "\n",
        "    # Viewer settings\n",
        "    out_doc.viewer_settings = ViewerSettings.copy(out_doc, in_doc.viewer_settings)\n",
        "\n",
        "    # Associated files (for PDF/A-3 and PDF 2.0 only)\n",
        "    outAssociatedFiles = out_doc.associated_files\n",
        "    for in_file_ref in in_doc.associated_files:\n",
        "        outAssociatedFiles.append(FileReference.copy(out_doc, in_file_ref))\n",
        "\n",
        "    # Plain embedded files\n",
        "    out_embedded_files = out_doc.plain_embedded_files\n",
        "    for in_file_ref in in_doc.plain_embedded_files:\n",
        "        out_embedded_files.append(FileReference.copy(out_doc, in_file_ref))"
      ]
    },
    {
      "cell_type": "code",
      "execution_count": null,
      "id": "cda36de3-33cf-4323-9478-28fb8756e439",
      "metadata": {
          "id": "6b8c99a6-b88e-4894-b250-ae15904dd85d"
      },
      "outputs": [],
      "source": [
        "def add_text(output_doc: Document, output_page: Page, text_string: str):\n",
        "    # Create content generator and text object\n",
        "    with ContentGenerator(output_page.content, False) as gen:\n",
        "        text = Text.create(output_doc)\n",
        "\n",
        "        # Create text generator\n",
        "        with TextGenerator(text, font, font_size, None) as textGenerator:\n",
        "            # Calculate position\n",
        "            position = Point(border, output_page.size.height - border - font_size * font.ascent)\n",
        "\n",
        "            # Move to position\n",
        "            textGenerator.move_to(position)\n",
        "            # Add given text string\n",
        "            textGenerator.show_line(text_string)\n",
        "\n",
        "        # Paint the positioned text\n",
        "        gen.paint_text(text)"
      ]
    },
    {
      "cell_type": "code",
      "execution_count": null,
      "id": "7f35f02e-81fe-44e9-84a7-247aeb8b98a2",
      "metadata": {
          "id": "c48f9c44-873f-45c5-83c9-5ff6b17a3a24"
      },
      "outputs": [],
      "source": [
        "try:\n",
        "    # Set and check license key. If the license key is not valid, an exception is thrown.\n",
        "    from pdftools_toolbox.sdk import Sdk\n",
        "    Sdk.initialize(\"INSERT-LICENSE-KEY\", None)\n",

        "\n",
        "    # Define global variables\n",
        "    border = 40.0\n",
        "    font_size = 15.0\n",
        "    \n",
        "    # Open input document\n",
        "    with io.FileIO(input_file_path, 'rb') as in_stream:\n",
        "        with Document.open(in_stream, None) as input_document:\n",
        "    \n",
        "            # Create output document\n",
        "            with io.FileIO(output_file_path, 'wb+') as output_stream:\n",
        "                with Document.create(output_stream, input_document.conformance, None) as output_document:\n",
        "    \n",
        "                    # Copy document-wide data\n",
        "                    copy_document_data(input_document, output_document)\n",
        "    \n",
        "                    # Create a font\n",
        "                    font = Font.create_from_system(output_document, \"Arial\", \"Italic\", True)\n",
        "    \n",
        "                    # Define page copy options\n",
        "                    copy_options = PageCopyOptions()\n",
        "    \n",
        "                    # Copy first page, add text, and append to output document\n",
        "                    out_page = Page.copy(output_document, input_document.pages[0], copy_options)\n",
        "                    add_text(output_document, out_page, text_string)\n",
        "                    output_document.pages.append(out_page)\n",
        "    \n",
        "                    # Copy remaining pages and append to output document\n",
        "                    inPageRange = input_document.pages[1:]\n",
        "                    copied_pages = PageList.copy(output_document, inPageRange, copy_options)\n",
        "                    output_document.pages.extend(copied_pages)\n",

        "\n",
        "    print(\"Execution successful.\")\n",

        "except Exception as e:\n",
        "    print(f\"An error occurred: {e}\")"
      ]
    }
  ],
  "metadata": {
    "kernelspec": {
      "display_name": "Python 3",
      "language": "python",
      "name": "python3"
    },
    "language_info": {
      "codemirror_mode": {
        "name": "ipython",
        "version": 3
      },
      "file_extension": ".py",
      "mimetype": "text/x-python",
      "name": "python",
      "nbconvert_exporter": "python",
      "pygments_lexer": "ipython3",
      "version": "3.12.8"
    },
    "colab": {
      "provenance": []
    }
  },
  "nbformat": 4,
  "nbformat_minor": 5
}