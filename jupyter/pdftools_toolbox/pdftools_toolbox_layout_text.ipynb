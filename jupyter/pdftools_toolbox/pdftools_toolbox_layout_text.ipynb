{
  "cells": [
    {
      "cell_type": "markdown",
      "id": "01facff8-1c2d-46d6-b086-27cb83e9bfc8",
      "metadata": {
          "id": "4c41c66d-eca4-4dca-830e-8e8cb04be231"
      },
      "source": [
        "[![Open In Colab](https://colab.research.google.com/assets/colab-badge.svg)](https://colab.research.google.com/github/pdf-tools/components-code-sample-hub/blob/main/jupyter/pdftools_toolbox/pdftools_toolbox_layout_text.ipynb)"
      ]
    },
    {
      "cell_type": "code",
      "execution_count": null,
      "id": "982d7f96-62a1-49b1-8190-7e166b5c0915",
      "metadata": {
          "id": "6c13d430-0608-4240-ba41-2cccf8930818"
      },
      "outputs": [],
      "source": [
        "%pip install https://pdftools-public-downloads-production.s3.eu-west-1.amazonaws.com/productkits/PDFSDKXT/latest/pdftools_toolbox-latest.tar.gz\n",
        "%pip install ipython"
      ]
    },
    {
      "cell_type": "markdown",
      "id": "0240348c-c9d6-45e1-b761-8c99736f2dc4",
      "metadata": {
          "id": "7672ee23-ac44-43a1-ab2d-8b2cec44972c"
      },
      "source": [
        "# Layout text on PDF page\n",
        "Create a new PDF document with one page. On this page,\n",
        "within a given rectangular area, add a text block with a\n",
        "full justification layout."
      ]
    },
    {
      "cell_type": "code",
      "execution_count": null,
      "id": "b307ae07-3fdd-4596-b244-2deedcd0878e",
      "metadata": {
          "id": "584c5f31-3855-46cd-844e-ffac363d63bf"
      },
      "outputs": [],
      "source": [
        "import io\n",
        "from pdftools_toolbox.geometry.real import Size, Point\n",
        "from pdftools_toolbox.pdf import Document, Page\n",
        "from pdftools_toolbox.pdf.content import ContentGenerator, Font, Text, TextGenerator"
      ]
    },
    {
      "cell_type": "code",
      "execution_count": null,
      "id": "9832731c-216e-452a-a5bc-af5487d513e8",
      "metadata": {
          "id": "b5135c44-fb5f-4d9c-a9cd-bd1d53441208"
      },
      "outputs": [],
      "source": [
        "# Download a file from a given URL and save it to the local system\n",
        "def prepare_file(url: str, path: str):\n",
        "    import requests\n",
        "    response = requests.get(url)\n",
        "    response.raise_for_status()\n",
        "\n",
        "    with open(path, 'wb') as f:\n",
        "        f.write(response.content)"
      ]
    },
    {
      "cell_type": "code",
      "execution_count": null,
      "id": "43d98f66-c20a-494e-a432-efa4b651ce10",
      "metadata": {
          "id": "ba780a8d-9e5e-4b04-857c-049681f4c68a"
      },
      "outputs": [],
      "source": [
        "# Set input arguments\n",
        "input_url = 'https://pdftools-public-downloads-production.s3.eu-west-1.amazonaws.com/samples/testfiles/textdoc.txt'\n",
        "input_text_path = 'textdoc.txt'\n",
        "prepare_file(input_url, input_text_path)\n",
        "output_file_path = 'TextLayout.pdf'"
      ]
    },
    {
      "cell_type": "code",
      "execution_count": null,
      "id": "36470540-ca7e-4817-beab-e24489f404b2",
      "metadata": {
          "id": "5759973a-83b9-4ade-a596-1148fcc2260a"
      },
      "outputs": [],
      "source": [
        "def layout_text(output_doc: Document, out_page: Page, text_path: str, font: Font, font_size: float):\n",
        "    \"\"\"\n",
        "    Layout and justify text on the PDF page.\n",
        "    \"\"\"\n",
        "    # Create content generator\n",
        "    with ContentGenerator(out_page.content, False) as generator:\n",
        "\n",
        "        # Create text object\n",
        "        text = Text.create(output_doc)\n",
        "\n",
        "        # Create text generator\n",
        "        with TextGenerator(text, font, font_size, None) as text_generator:\n",
        "\n",
        "            # Calculate starting position\n",
        "            position = Point(x=BORDER, y=out_page.size.height - BORDER)\n",
        "\n",
        "            # Move to position\n",
        "            text_generator.move_to(position)\n",
        "\n",
        "            with open(text_path, \"r\", encoding=\"utf-8\") as file:\n",
        "                lines = file.readlines()\n",
        "\n",
        "            # Loop through all lines of the textinput\n",
        "            for line in lines:\n",
        "                # Split string in substrings\n",
        "                substrings = line.split(\" \")\n",
        "                current_line = \"\"\n",
        "                max_width = out_page.size.width - BORDER * 2\n",
        "                word_count = 0\n",
        "\n",
        "                # Loop through all words of input strings\n",
        "                for word in substrings:\n",
        "                    # Concatenate substrings to line\n",
        "                    temp_line = f\"{current_line} {word}\".strip()\n",
        "\n",
        "                    # Calculate the current width of line\n",
        "                    current_width = text_generator.get_width(current_line)\n",
        "\n",
        "                    if text_generator.get_width(temp_line) > max_width:\n",
        "                        # Calculate the word spacing\n",
        "                        text_generator.word_spacing = (max_width - current_width) / (word_count - 1) if word_count > 1 else 0\n",
        "                        text_generator.show_line(current_line)\n",
        "                        text_generator.word_spacing = 0\n",
        "                        current_line = word\n",
        "                        word_count = 1\n",
        "                    else:\n",
        "                        current_line = temp_line\n",
        "                        word_count += 1\n",
        "\n",
        "                text_generator.word_spacing = 0\n",
        "                # Add given stamp string\n",
        "                text_generator.show_line(current_line)\n",
        "\n",
        "        # Paint the positioned text\n",
        "        generator.paint_text(text)"
      ]
    },
    {
      "cell_type": "code",
      "execution_count": null,
      "id": "3241468c-575d-4c44-aa43-d7c2be380957",
      "metadata": {
          "id": "402a2177-a2e6-4ba4-bcfe-11235ab32dbf"
      },
      "outputs": [],
      "source": [
        "try:\n",
        "    # Set and check license key. If the license key is not valid, an exception is thrown.\n",
        "    from pdftools_toolbox.sdk import Sdk\n",
        "    Sdk.initialize(\"<PDFSDK,V1,MGAASQD6L2JMQHL54PK08RQX8GG4SS0M8DAHVPH0VMP3NB8R9DUK>\", None)\n",

        "\n",
        "    # Define global variables\n",
        "    BORDER = 50\n",
        "    PAGE_SIZE = Size(width=595, height=842)  # A4 page size in points\n",
        "    \n",
        "    # Create output document\n",
        "    with io.FileIO(output_file_path, \"wb+\") as out_stream:\n",
        "        with Document.create(out_stream, None, None) as out_doc:\n",
        "    \n",
        "            font = Font.create_from_system(out_doc, \"Arial\", \"Italic\", True)\n",
        "    \n",
        "            # Create page\n",
        "            out_page = Page.create(out_doc, PAGE_SIZE)\n",
        "    \n",
        "            # Add text as justified text\n",
        "            layout_text(out_doc, out_page, input_text_path, font, font_size=20)\n",
        "    \n",
        "            # Add page to document\n",
        "            out_doc.pages.append(out_page)\n",

        "\n",
        "    print(\"Execution successful.\")\n",

        "except Exception as e:\n",
        "    print(f\"An error occurred: {e}\")"
      ]
    }
  ],
  "metadata": {
    "kernelspec": {
      "display_name": "Python 3",
      "language": "python",
      "name": "python3"
    },
    "language_info": {
      "codemirror_mode": {
        "name": "ipython",
        "version": 3
      },
      "file_extension": ".py",
      "mimetype": "text/x-python",
      "name": "python",
      "nbconvert_exporter": "python",
      "pygments_lexer": "ipython3",
      "version": "3.12.8"
    },
    "colab": {
      "provenance": []
    }
  },
  "nbformat": 4,
  "nbformat_minor": 5
}