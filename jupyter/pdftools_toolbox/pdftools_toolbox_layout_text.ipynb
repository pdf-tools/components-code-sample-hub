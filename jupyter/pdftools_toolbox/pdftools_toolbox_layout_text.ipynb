{
  "cells": [
    {
      "cell_type": "markdown",
      "id": "ced03213-95ef-4766-94ad-eb6a85520c6a",
      "metadata": {
          "id": "2c6a1630-84b3-47c3-999e-ab553b65948b"
      },
      "source": [
        "[![Open In Colab](https://colab.research.google.com/assets/colab-badge.svg)](https://colab.research.google.com/github/pdf-tools/components-code-sample-hub/blob/main/jupyter/pdftools_toolbox/pdftools_toolbox_layout_text.ipynb)"
      ]
    },
    {
      "cell_type": "code",
      "execution_count": null,
      "id": "720b2b7a-f631-4c36-91ef-451fc653b35a",
      "metadata": {
          "id": "6c9ec9c9-3944-4cd7-bbac-3ced06884f3e"
      },
      "outputs": [],
      "source": [
        "%pip install https://pdftools-public-downloads-production.s3.eu-west-1.amazonaws.com/productkits/PDFSDKXT/latest/pdftools_toolbox-latest.tar.gz\n",
        "%pip install ipython"
      ]
    },
    {
      "cell_type": "markdown",
      "id": "e2432bc8-2d29-47b1-b256-94c2d910de55",
      "metadata": {
          "id": "8461c85f-9f20-4d0e-b99f-02faf1e9773d"
      },
      "source": [
        "# Layout text on PDF page\n",
        "Create a new PDF document with one page. On this page,\n",
        "within a given rectangular area, add a text block with a\n",
        "full justification layout."
      ]
    },
    {
      "cell_type": "code",
      "execution_count": null,
      "id": "79d2b34c-e5f4-443f-a331-5253752f1ce8",
      "metadata": {
          "id": "2ae6e7aa-e094-4388-ab92-bb335698eefe"
      },
      "outputs": [],
      "source": [
        "import io\n",
        "from pdftools_toolbox.geometry.real import Size, Point\n",
        "from pdftools_toolbox.pdf import Document, Page\n",
        "from pdftools_toolbox.pdf.content import ContentGenerator, Font, Text, TextGenerator"
      ]
    },
    {
      "cell_type": "code",
      "execution_count": null,
      "id": "4ea9bf67-f15c-4b9a-914d-8c71b6feefd4",
      "metadata": {
          "id": "43d92415-4ac7-49d1-80e0-206cfbeef125"
      },
      "outputs": [],
      "source": [
        "# Download a file from a given URL and save it to the local system\n",
        "def prepare_file(url: str, path: str):\n",
        "    import requests\n",
        "    response = requests.get(url)\n",
        "    response.raise_for_status()\n",
        "\n",
        "    with open(path, 'wb') as f:\n",
        "        f.write(response.content)"
      ]
    },
    {
      "cell_type": "code",
      "execution_count": null,
      "id": "41a0cb03-78b9-4ccf-9bf6-79bc7ab768ea",
      "metadata": {
          "id": "b82ab91c-9949-40cc-a876-a4cb09829ad2"
      },
      "outputs": [],
      "source": [
        "# Set input arguments\n",
        "input_url = 'https://pdftools-public-downloads-production.s3.eu-west-1.amazonaws.com/samples/testfiles/textdoc.txt'\n",
        "input_text_path = 'textdoc.txt'\n",
        "prepare_file(input_url, input_text_path)\n",
        "output_file_path = 'TextLayout.pdf'"
      ]
    },
    {
      "cell_type": "code",
      "execution_count": null,
      "id": "a485cdcf-332d-4682-84ea-1b2946bb208e",
      "metadata": {
          "id": "ce085a87-45ab-46f5-972a-6d943f23e626"
      },
      "outputs": [],
      "source": [
        "def layout_text(output_doc: Document, out_page: Page, text_path: str, font: Font, font_size: float):\n",
        "    \"\"\"\n",
        "    Layout and justify text on the PDF page.\n",
        "    \"\"\"\n",
        "    # Create content generator\n",
        "    with ContentGenerator(out_page.content, False) as generator:\n",
        "\n",
        "        # Create text object\n",
        "        text = Text.create(output_doc)\n",
        "\n",
        "        # Create text generator\n",
        "        with TextGenerator(text, font, font_size, None) as text_generator:\n",
        "\n",
        "            # Calculate starting position\n",
        "            position = Point(x=BORDER, y=out_page.size.height - BORDER)\n",
        "\n",
        "            # Move to position\n",
        "            text_generator.move_to(position)\n",
        "\n",
        "            with open(text_path, \"r\", encoding=\"utf-8\") as file:\n",
        "                lines = file.readlines()\n",
        "\n",
        "            # Loop through all lines of the textinput\n",
        "            for line in lines:\n",
        "                # Split string in substrings\n",
        "                substrings = line.split(\" \")\n",
        "                current_line = \"\"\n",
        "                max_width = out_page.size.width - BORDER * 2\n",
        "                word_count = 0\n",
        "\n",
        "                # Loop through all words of input strings\n",
        "                for word in substrings:\n",
        "                    # Concatenate substrings to line\n",
        "                    temp_line = f\"{current_line} {word}\".strip()\n",
        "\n",
        "                    # Calculate the current width of line\n",
        "                    current_width = text_generator.get_width(current_line)\n",
        "\n",
        "                    if text_generator.get_width(temp_line) > max_width:\n",
        "                        # Calculate the word spacing\n",
        "                        text_generator.word_spacing = (max_width - current_width) / (word_count - 1) if word_count > 1 else 0\n",
        "                        text_generator.show_line(current_line)\n",
        "                        text_generator.word_spacing = 0\n",
        "                        current_line = word\n",
        "                        word_count = 1\n",
        "                    else:\n",
        "                        current_line = temp_line\n",
        "                        word_count += 1\n",
        "\n",
        "                text_generator.word_spacing = 0\n",
        "                # Add given stamp string\n",
        "                text_generator.show_line(current_line)\n",
        "\n",
        "        # Paint the positioned text\n",
        "        generator.paint_text(text)"
      ]
    },
    {
      "cell_type": "code",
      "execution_count": null,
      "id": "9c5fddf5-8415-4b7f-82d7-ba32ca4a4bbe",
      "metadata": {
          "id": "40857e6f-d656-487f-97b7-4553e8e5915c"
      },
      "outputs": [],
      "source": [
        "try:\n",
        "    # Set and check license key. If the license key is not valid, an exception is thrown.\n",
        "    from pdftools_toolbox.sdk import Sdk\n",
        "    Sdk.initialize(\"INSERT-LICENSE-KEY\", None)\n",

        "\n",
        "    # Define global variables\n",
        "    BORDER = 50\n",
        "    PAGE_SIZE = Size(width=595, height=842)  # A4 page size in points\n",
        "    \n",
        "    # Create output document\n",
        "    with io.FileIO(output_file_path, \"wb+\") as out_stream:\n",
        "        with Document.create(out_stream, None, None) as out_doc:\n",
        "    \n",
        "            font = Font.create_from_system(out_doc, \"Arial\", \"Italic\", True)\n",
        "    \n",
        "            # Create page\n",
        "            out_page = Page.create(out_doc, PAGE_SIZE)\n",
        "    \n",
        "            # Add text as justified text\n",
        "            layout_text(out_doc, out_page, input_text_path, font, font_size=20)\n",
        "    \n",
        "            # Add page to document\n",
        "            out_doc.pages.append(out_page)\n",

        "\n",
        "    print(\"Execution successful.\")\n",

        "except Exception as e:\n",
        "    print(f\"An error occurred: {e}\")"
      ]
    }
  ],
  "metadata": {
    "kernelspec": {
      "display_name": "Python 3",
      "language": "python",
      "name": "python3"
    },
    "language_info": {
      "codemirror_mode": {
        "name": "ipython",
        "version": 3
      },
      "file_extension": ".py",
      "mimetype": "text/x-python",
      "name": "python",
      "nbconvert_exporter": "python",
      "pygments_lexer": "ipython3",
      "version": "3.12.8"
    },
    "colab": {
      "provenance": []
    }
  },
  "nbformat": 4,
  "nbformat_minor": 5
}