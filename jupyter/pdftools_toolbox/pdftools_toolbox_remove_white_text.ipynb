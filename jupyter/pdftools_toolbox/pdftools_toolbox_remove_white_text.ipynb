{
  "cells": [
    {
      "cell_type": "markdown",
      "id": "835ad64a-b6bf-4c6b-85be-967968128318",
      "metadata": {
          "id": "5d62f7f4-d202-43f2-b2e4-9c4dbef2c1d0"
      },
      "source": [
        "[![Open In Colab](https://colab.research.google.com/assets/colab-badge.svg)](https://colab.research.google.com/github/pdf-tools/components-code-sample-hub/blob/main/jupyter/pdftools_toolbox/pdftools_toolbox_remove_white_text.ipynb)"
      ]
    },
    {
      "cell_type": "code",
      "execution_count": null,
      "id": "cea49370-8247-4ed2-81cd-0db5e738a414",
      "metadata": {
          "id": "0b5546af-b3f4-4c67-ae6d-0299066cc107"
      },
      "outputs": [],
      "source": [
        "%pip install https://pdftools-public-downloads-production.s3.eu-west-1.amazonaws.com/productkits/PDFSDKXT/latest/pdftools_toolbox-latest.tar.gz\n",
        "%pip install ipython"
      ]
    },
    {
      "cell_type": "markdown",
      "id": "4d61d158-3ccd-4d1e-93cb-5a4accde01e5",
      "metadata": {
          "id": "d0b90567-b17b-47b7-adf2-1ca3c2104bf4"
      },
      "source": [
        "# Remove White Text from PDF\n",
        "Remove white text from all pages of a PDF. Links,\n",
        "annotations, form fields, outlines, logical structure,\n",
        "and embedded files are discarded."
      ]
    },
    {
      "cell_type": "code",
      "execution_count": null,
      "id": "f52723c0-3be4-4f5f-a06e-782dc9dde62a",
      "metadata": {
          "id": "febb2eb1-82b9-4562-8897-5e9598398940"
      },
      "outputs": [],
      "source": [
        "import io\n",
        "from pdftools_toolbox.pdf import Document, FileReference, Metadata, Page\n",
        "from pdftools_toolbox.pdf.content import Content, ContentElement, ContentExtractor, ContentGenerator, GroupElement, IccBasedColorSpace, TextElement, DeviceGrayColorSpace, CalibratedGrayColorSpace, DeviceRgbColorSpace, CalibratedRgbColorSpace, DeviceCmykColorSpace, Paint\n",
        "from pdftools_toolbox.pdf.navigation import ViewerSettings"
      ]
    },
    {
      "cell_type": "code",
      "execution_count": null,
      "id": "edf75bb7-c08b-4b06-8af7-e43b0a9d88b2",
      "metadata": {
          "id": "88d8b4f8-dae7-4a4a-86f1-09daf8080a5b"
      },
      "outputs": [],
      "source": [
        "# Download a file from a given URL and save it to the local system\n",
        "def prepare_file(url: str, path: str):\n",
        "    import requests\n",
        "    response = requests.get(url)\n",
        "    response.raise_for_status()\n",
        "\n",
        "    with open(path, 'wb') as f:\n",
        "        f.write(response.content)"
      ]
    },
    {
      "cell_type": "code",
      "execution_count": null,
      "id": "d4813f8c-8a7c-4df5-9710-24bc0e2ac8f4",
      "metadata": {
          "id": "5b4ef984-9048-4ad9-b89d-af0b1ab90bc9"
      },
      "outputs": [],
      "source": [
        "# Set input arguments\n",
        "input_url = 'https://pdftools-public-downloads-production.s3.eu-west-1.amazonaws.com/samples/testfiles/GraphicsWhiteTextNoTP.pdf'\n",
        "input_file_path = 'GraphicsWhiteTextNoTP.pdf'\n",
        "prepare_file(input_url, input_file_path)\n",
        "output_file_path = 'NoWhiteText.pdf'"
      ]
    },
    {
      "cell_type": "code",
      "execution_count": null,
      "id": "c1a22bfa-6b26-4980-b177-00d644ad5b35",
      "metadata": {
          "id": "e73e2afa-2bfa-464a-9da6-7ef3e40e090f"
      },
      "outputs": [],
      "source": [
        "def copy_document_data(in_doc: Document, out_doc: Document):\n",
        "    # Copy document-wide data\n",
        "\n",
        "    # Output intent\n",
        "    if in_doc.output_intent is not None:\n",
        "        in_doc.output_intent = IccBasedColorSpace.copy(out_doc, in_doc.output_intent)\n",
        "\n",
        "    # Metadata\n",
        "    out_doc.metadata = Metadata.copy(out_doc, in_doc.metadata)\n",
        "\n",
        "    # Viewer settings\n",
        "    out_doc.viewer_settings = ViewerSettings.copy(out_doc, in_doc.viewer_settings)\n",
        "\n",
        "    # Associated files (for PDF/A-3 and PDF 2.0 only)\n",
        "    outAssociatedFiles = out_doc.associated_files\n",
        "    for in_file_ref in in_doc.associated_files:\n",
        "        outAssociatedFiles.append(FileReference.copy(out_doc, in_file_ref))\n",
        "\n",
        "    # Plain embedded files\n",
        "    out_embedded_files = out_doc.plain_embedded_files\n",
        "    for in_file_ref in in_doc.plain_embedded_files:\n",
        "        out_embedded_files.append(FileReference.copy(out_doc, in_file_ref))"
      ]
    },
    {
      "cell_type": "code",
      "execution_count": null,
      "id": "1e25d920-c36f-4962-9e25-5d0a22f58376",
      "metadata": {
          "id": "1ff2b1fd-f577-45f1-9e3b-8d46dd5abf37"
      },
      "outputs": [],
      "source": [
        "def is_white(paint: Paint) -> bool:\n",
        "    \"\"\"Determine if a paint is white based on its color space.\"\"\"\n",
        "    color_space = paint.color_space\n",
        "    color = paint.color\n",
        "\n",
        "    if isinstance(color_space, (DeviceGrayColorSpace, CalibratedGrayColorSpace, DeviceRgbColorSpace, CalibratedRgbColorSpace)):\n",
        "        # These color spaces are additive: white is 1.0\n",
        "        return min(color) == 1.0\n",
        "    if isinstance(color_space, DeviceCmykColorSpace):\n",
        "        # This color space is subtractive: white is 0.0\n",
        "        return max(color) == 0.0\n",
        "\n",
        "    return False"
      ]
    },
    {
      "cell_type": "code",
      "execution_count": null,
      "id": "e2b964ad-78c1-4abe-b82a-999a44aa8b65",
      "metadata": {
          "id": "18d98a68-ad11-49a2-88f6-e01fde9cc9ef"
      },
      "outputs": [],
      "source": [
        "def copy_content_and_remove_white_text(in_content: Content, out_content: Content, out_doc: Document):\n",
        "    \"\"\"Process content to remove white text fragments.\"\"\"\n",
        "    # Use a content extractor and a content generator to copy content\n",
        "    extractor = ContentExtractor(in_content)\n",
        "    with ContentGenerator(out_content, False) as generator:\n",
        "\n",
        "        # Iterate over all content elements\n",
        "        for in_element in extractor:\n",
        "            # Special treatment for group elements\n",
        "            if isinstance(in_element, GroupElement):\n",
        "                # Create empty output group element\n",
        "                out_group_element = GroupElement.copy_without_content(out_doc, in_element)\n",
        "                out_element = out_group_element\n",
        "                copy_content_and_remove_white_text(in_element.group.content, out_group_element.group.content, out_doc)\n",
        "            else:\n",
        "                # Copy the content element to the output document\n",
        "                out_element = ContentElement.copy(out_doc, in_element)\n",
        "                if isinstance(out_element, TextElement):\n",
        "                    text = out_element.text\n",
        "                    # Remove all those text fragments whose fill and stroke paint is white\n",
        "                    for i_fragment in range(len(text) - 1, -1, -1):\n",
        "                        fragment = text[i_fragment]\n",
        "                        if ((fragment.fill is None or is_white(fragment.fill.paint)) and\n",
        "                            (fragment.stroke is None or is_white(fragment.stroke.paint))):\n",
        "                            text.remove(i_fragment)\n",
        "                    # Prevent appending an empty text element\n",
        "                    if len(text) == 0:\n",
        "                        out_element = None\n",
        "\n",
        "            # Append the finished output element to the content generator\n",
        "            if out_element:\n",
        "                generator.append_content_element(out_element)"
      ]
    },
    {
      "cell_type": "code",
      "execution_count": null,
      "id": "d2ee06c7-9b37-4cb6-8015-7e905800528e",
      "metadata": {
          "id": "7f0c8e73-3e68-4058-83c7-1880edb494c6"
      },
      "outputs": [],
      "source": [
        "try:\n",
        "    # Set and check license key. If the license key is not valid, an exception is thrown.\n",
        "    from pdftools_toolbox.sdk import Sdk\n",
        "    Sdk.initialize(\"INSERT-LICENSE-KEY\", None)\n",

        "\n",
        "    # Open input and create output documents\n",
        "    with io.FileIO(input_file_path, \"rb\") as in_stream:\n",
        "        with Document.open(in_stream, None) as in_doc:\n",
        "    \n",
        "            # Create output document\n",
        "            with io.FileIO(output_file_path, \"wb+\") as out_stream:\n",
        "                with Document.create(out_stream, in_doc.conformance, None) as out_doc:\n",
        "    \n",
        "                    # Copy document-wide data\n",
        "                    copy_document_data(in_doc, out_doc)\n",
        "    \n",
        "                    # Process each page\n",
        "                    for in_page in in_doc.pages:\n",
        "                        # Create empty output page\n",
        "                        out_page = Page.create(out_doc, in_page.size)\n",
        "                        # Copy page content from input to output and remove white text\n",
        "                        copy_content_and_remove_white_text(in_page.content, out_page.content, out_doc)\n",
        "                        # Add the new page to the output document's page list\n",
        "                        out_doc.pages.append(out_page)\n",

        "\n",
        "    print(\"Execution successful.\")\n",

        "except Exception as e:\n",
        "    print(f\"An error occurred: {e}\")"
      ]
    }
  ],
  "metadata": {
    "kernelspec": {
      "display_name": "Python 3",
      "language": "python",
      "name": "python3"
    },
    "language_info": {
      "codemirror_mode": {
        "name": "ipython",
        "version": 3
      },
      "file_extension": ".py",
      "mimetype": "text/x-python",
      "name": "python",
      "nbconvert_exporter": "python",
      "pygments_lexer": "ipython3",
      "version": "3.12.8"
    },
    "colab": {
      "provenance": []
    }
  },
  "nbformat": 4,
  "nbformat_minor": 5
}