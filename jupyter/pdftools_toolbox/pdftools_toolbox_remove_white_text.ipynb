{
  "cells": [
    {
      "cell_type": "markdown",
      "id": "a1ccd12c-5fc9-466e-83d2-13990adb0dcf",
      "metadata": {
          "id": "ce02ce78-e84c-4a53-a2a2-e8e593250721"
      },
      "source": [
        "[![Open In Colab](https://colab.research.google.com/assets/colab-badge.svg)](https://colab.research.google.com/github/pdf-tools/components-code-sample-hub/blob/main/jupyter/pdftools_toolbox/pdftools_toolbox_remove_white_text.ipynb)"
      ]
    },
    {
      "cell_type": "code",
      "execution_count": null,
      "id": "e7b0d545-7394-4d31-947d-c1f9b9189369",
      "metadata": {
          "id": "6166448b-7e1d-4f09-833d-a0ad61c19014"
      },
      "outputs": [],
      "source": [
        "%pip install pdftools_toolbox\n",
        "%pip install ipython"
      ]
    },
    {
      "cell_type": "markdown",
      "id": "4eee7930-a778-47cb-8eb5-ed5d28f86a9e",
      "metadata": {
          "id": "081689d0-4145-4788-8786-eb21dd3415a1"
      },
      "source": [
        "# Remove White Text from PDF\n",
        "Remove white text from all pages of a PDF. Links,\n",
        "annotations, form fields, outlines, logical structure,\n",
        "and embedded files are discarded."
      ]
    },
    {
      "cell_type": "code",
      "execution_count": null,
      "id": "92fd29fb-be62-47ed-ad54-ec2737b9e591",
      "metadata": {
          "id": "09a02800-c751-4824-aabb-5e70d97447b9"
      },
      "outputs": [],
      "source": [
        "import io\n",
        "from pdftools_toolbox.pdf import Document, FileReference, Metadata, Page\n",
        "from pdftools_toolbox.pdf.content import Content, ContentElement, ContentExtractor, ContentGenerator, GroupElement, IccBasedColorSpace, TextElement, DeviceGrayColorSpace, CalibratedGrayColorSpace, DeviceRgbColorSpace, CalibratedRgbColorSpace, DeviceCmykColorSpace, Paint\n",
        "from pdftools_toolbox.pdf.navigation import ViewerSettings"
      ]
    },
    {
      "cell_type": "code",
      "execution_count": null,
      "id": "86dc03fc-507a-46e5-89de-0ff08fcb3e65",
      "metadata": {
          "id": "1894d414-21b1-4870-b389-5de75d04ca2c"
      },
      "outputs": [],
      "source": [
        "# Download a file from a given URL and save it to the local system\n",
        "def prepare_file(url: str, path: str):\n",
        "    import requests\n",
        "    response = requests.get(url)\n",
        "    response.raise_for_status()\n",
        "\n",
        "    with open(path, 'wb') as f:\n",
        "        f.write(response.content)"
      ]
    },
    {
      "cell_type": "code",
      "execution_count": null,
      "id": "ac22ef5d-02b8-4faf-b22e-119087ceedc1",
      "metadata": {
          "id": "7050c3af-4ea8-41a4-8ac4-172385b2132e"
      },
      "outputs": [],
      "source": [
        "# Set input arguments\n",
        "input_url = 'https://pdftools-public-downloads-production.s3.eu-west-1.amazonaws.com/samples/testfiles/GraphicsWhiteTextNoTP.pdf'\n",
        "input_file_path = 'GraphicsWhiteTextNoTP.pdf'\n",
        "prepare_file(input_url, input_file_path)\n",
        "output_file_path = 'NoWhiteText.pdf'"
      ]
    },
    {
      "cell_type": "code",
      "execution_count": null,
      "id": "6033de6f-e045-4f03-a25b-c91f30e43b2b",
      "metadata": {
          "id": "45816533-8144-403a-9314-e8443dff6d17"
      },
      "outputs": [],
      "source": [
        "def copy_document_data(in_doc: Document, out_doc: Document):\n",
        "    # Copy document-wide data\n",
        "\n",
        "    # Output intent\n",
        "    if in_doc.output_intent is not None:\n",
        "        in_doc.output_intent = IccBasedColorSpace.copy(out_doc, in_doc.output_intent)\n",
        "\n",
        "    # Metadata\n",
        "    out_doc.metadata = Metadata.copy(out_doc, in_doc.metadata)\n",
        "\n",
        "    # Viewer settings\n",
        "    out_doc.viewer_settings = ViewerSettings.copy(out_doc, in_doc.viewer_settings)\n",
        "\n",
        "    # Associated files (for PDF/A-3 and PDF 2.0 only)\n",
        "    outAssociatedFiles = out_doc.associated_files\n",
        "    for in_file_ref in in_doc.associated_files:\n",
        "        outAssociatedFiles.append(FileReference.copy(out_doc, in_file_ref))\n",
        "\n",
        "    # Plain embedded files\n",
        "    out_embedded_files = out_doc.plain_embedded_files\n",
        "    for in_file_ref in in_doc.plain_embedded_files:\n",
        "        out_embedded_files.append(FileReference.copy(out_doc, in_file_ref))"
      ]
    },{
      "cell_type": "code",
      "execution_count": null,
      "id": "c781173a-3948-4b22-a13d-91a87746f0be",
      "metadata": {
          "id": "03900d7a-1251-4085-97ad-6a520e3297c4"
      },
      "outputs": [],
      "source": [
        "def is_white(paint: Paint) -> bool:\n",
        "    \"\"\"Determine if a paint is white based on its color space.\"\"\"\n",
        "    color_space = paint.color_space\n",
        "    color = paint.color\n",
        "\n",
        "    if isinstance(color_space, (DeviceGrayColorSpace, CalibratedGrayColorSpace, DeviceRgbColorSpace, CalibratedRgbColorSpace)):\n",
        "        # These color spaces are additive: white is 1.0\n",
        "        return min(color) == 1.0\n",
        "    if isinstance(color_space, DeviceCmykColorSpace):\n",
        "        # This color space is subtractive: white is 0.0\n",
        "        return max(color) == 0.0\n",
        "\n",
        "    return False"
      ]
    },{
      "cell_type": "code",
      "execution_count": null,
      "id": "138f5c63-bc2f-4375-8c6e-594c22866328",
      "metadata": {
          "id": "b53870a8-9f99-4a9d-b9c3-9e0c0b68e281"
      },
      "outputs": [],
      "source": [
        "def copy_content_and_remove_white_text(in_content: Content, out_content: Content, out_doc: Document):\n",
        "    \"\"\"Process content to remove white text fragments.\"\"\"\n",
        "    # Use a content extractor and a content generator to copy content\n",
        "    extractor = ContentExtractor(in_content)\n",
        "    with ContentGenerator(out_content, False) as generator:\n",
        "\n",
        "        # Iterate over all content elements\n",
        "        for in_element in extractor:\n",
        "            # Special treatment for group elements\n",
        "            if isinstance(in_element, GroupElement):\n",
        "                # Create empty output group element\n",
        "                out_group_element = GroupElement.copy_without_content(out_doc, in_element)\n",
        "                out_element = out_group_element\n",
        "                copy_content_and_remove_white_text(in_element.group.content, out_group_element.group.content, out_doc)\n",
        "            else:\n",
        "                # Copy the content element to the output document\n",
        "                out_element = ContentElement.copy(out_doc, in_element)\n",
        "                if isinstance(out_element, TextElement):\n",
        "                    text = out_element.text\n",
        "                    # Remove all those text fragments whose fill and stroke paint is white\n",
        "                    for i_fragment in range(len(text) - 1, -1, -1):\n",
        "                        fragment = text[i_fragment]\n",
        "                        if ((fragment.fill is None or is_white(fragment.fill.paint)) and\n",
        "                            (fragment.stroke is None or is_white(fragment.stroke.paint))):\n",
        "                            text.remove(i_fragment)\n",
        "                    # Prevent appending an empty text element\n",
        "                    if len(text) == 0:\n",
        "                        out_element = None\n",
        "\n",
        "            # Append the finished output element to the content generator\n",
        "            if out_element:\n",
        "                generator.append_content_element(out_element)"
      ]
    },
    {
      "cell_type": "code",
      "execution_count": null,
      "id": "a7e4672f-be27-41a1-839c-81f1cdda17ac",
      "metadata": {
          "id": "9d3485a6-0c41-4ffb-82dd-405a3da5fb67"
      },
      "outputs": [],
      "source": [
        "try:\n",
        "    # Set and check license key. If the license key is not valid, an exception is thrown.\n",
        "    from pdftools_toolbox.sdk import Sdk\n",
        "    Sdk.initialize(\"INSERT-LICENSE-KEY\", None)\n",

        "\n",
        "    # Open input and create output documents\n",
        "    with io.FileIO(input_file_path, \"rb\") as in_stream:\n",
        "        with Document.open(in_stream, None) as in_doc:\n",
        "    \n",
        "            # Create output document\n",
        "            with io.FileIO(output_file_path, \"wb+\") as out_stream:\n",
        "                with Document.create(out_stream, in_doc.conformance, None) as out_doc:\n",
        "    \n",
        "                    # Copy document-wide data\n",
        "                    copy_document_data(in_doc, out_doc)\n",
        "    \n",
        "                    # Process each page\n",
        "                    for in_page in in_doc.pages:\n",
        "                        # Create empty output page\n",
        "                        out_page = Page.create(out_doc, in_page.size)\n",
        "                        # Copy page content from input to output and remove white text\n",
        "                        copy_content_and_remove_white_text(in_page.content, out_page.content, out_doc)\n",
        "                        # Add the new page to the output document's page list\n",
        "                        out_doc.pages.append(out_page)\n",

        "\n",
        "    print(\"Execution successful.\")\n",

        "except Exception as e:\n",
        "    print(f\"An error occurred: {e}\")"
      ]
    }
  ],
  "metadata": {
    "kernelspec": {
      "display_name": "Python 3",
      "language": "python",
      "name": "python3"
    },
    "language_info": {
      "codemirror_mode": {
        "name": "ipython",
        "version": 3
      },
      "file_extension": ".py",
      "mimetype": "text/x-python",
      "name": "python",
      "nbconvert_exporter": "python",
      "pygments_lexer": "ipython3",
      "version": "3.12.8"
    },
    "colab": {
      "provenance": []
    }
  },
  "nbformat": 4,
  "nbformat_minor": 5
}