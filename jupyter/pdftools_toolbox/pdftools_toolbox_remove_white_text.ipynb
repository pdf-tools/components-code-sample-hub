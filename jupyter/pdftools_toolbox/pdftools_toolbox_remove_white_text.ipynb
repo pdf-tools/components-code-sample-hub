{
  "cells": [
    {
      "cell_type": "markdown",
      "id": "2e4e50df-d177-49bf-b8f7-e1d404be5e20",
      "metadata": {
          "id": "52aac598-b145-4708-859c-0e4ca40d4dd0"
      },
      "source": [
        "[![Open In Colab](https://colab.research.google.com/assets/colab-badge.svg)](https://colab.research.google.com/github/pdf-tools/components-code-sample-hub/blob/main/jupyter/pdftools_toolbox/pdftools_toolbox_remove_white_text.ipynb)"
      ]
    },
    {
      "cell_type": "code",
      "execution_count": null,
      "id": "2ebf5fc6-2994-4bac-8863-833a3dd3f733",
      "metadata": {
          "id": "e55fc3ae-9d56-4b5e-b5f0-601156ff49c5"
      },
      "outputs": [],
      "source": [
        "%pip install https://pdftools-public-downloads-production.s3.eu-west-1.amazonaws.com/productkits/PDFSDKXT/latest/pdftools_toolbox-latest.tar.gz\n",
        "%pip install ipython"
      ]
    },
    {
      "cell_type": "markdown",
      "id": "0b97b86d-93d5-49ac-bd88-662f0e49eb42",
      "metadata": {
          "id": "3bb1241e-1532-456f-9e61-0db9c8489a7b"
      },
      "source": [
        "# Remove White Text from PDF\n",
        "Remove white text from all pages of a PDF. Links,\n",
        "annotations, form fields, outlines, logical structure,\n",
        "and embedded files are discarded."
      ]
    },
    {
      "cell_type": "code",
      "execution_count": null,
      "id": "872e02aa-aac4-481d-b717-66856905c942",
      "metadata": {
          "id": "7cf48f66-9059-4d79-8dd1-648b2b8f67d8"
      },
      "outputs": [],
      "source": [
        "import io\n",
        "from pdftools_toolbox.pdf import Document, FileReference, Metadata, Page\n",
        "from pdftools_toolbox.pdf.content import Content, ContentElement, ContentExtractor, ContentGenerator, GroupElement, IccBasedColorSpace, TextElement, DeviceGrayColorSpace, CalibratedGrayColorSpace, DeviceRgbColorSpace, CalibratedRgbColorSpace, DeviceCmykColorSpace, Paint\n",
        "from pdftools_toolbox.pdf.navigation import ViewerSettings"
      ]
    },
    {
      "cell_type": "code",
      "execution_count": null,
      "id": "4e24d4b3-c544-46eb-9241-f09837627d89",
      "metadata": {
          "id": "117a5307-4a5e-4e5b-96e1-6a0d5ba394a9"
      },
      "outputs": [],
      "source": [
        "# Download a file from a given URL and save it to the local system\n",
        "def prepare_file(url: str, path: str):\n",
        "    import requests\n",
        "    response = requests.get(url)\n",
        "    response.raise_for_status()\n",
        "\n",
        "    with open(path, 'wb') as f:\n",
        "        f.write(response.content)"
      ]
    },
    {
      "cell_type": "code",
      "execution_count": null,
      "id": "c09e4921-107b-416f-a985-f0a48721b6f5",
      "metadata": {
          "id": "44272522-9312-40fe-94f7-c65834242284"
      },
      "outputs": [],
      "source": [
        "# Set input arguments\n",
        "input_url = 'https://pdftools-public-downloads-production.s3.eu-west-1.amazonaws.com/samples/testfiles/GraphicsWhiteTextNoTP.pdf'\n",
        "input_file_path = 'GraphicsWhiteTextNoTP.pdf'\n",
        "prepare_file(input_url, input_file_path)\n",
        "output_file_path = 'NoWhiteText.pdf'"
      ]
    },
    {
      "cell_type": "code",
      "execution_count": null,
      "id": "a41e7602-b4a1-4a33-be9f-04103c7080e3",
      "metadata": {
          "id": "156551b8-cc06-4be9-919a-1a0b9d2e59b0"
      },
      "outputs": [],
      "source": [
        "def copy_document_data(in_doc: Document, out_doc: Document):\n",
        "    # Copy document-wide data\n",
        "\n",
        "    # Output intent\n",
        "    if in_doc.output_intent is not None:\n",
        "        in_doc.output_intent = IccBasedColorSpace.copy(out_doc, in_doc.output_intent)\n",
        "\n",
        "    # Metadata\n",
        "    out_doc.metadata = Metadata.copy(out_doc, in_doc.metadata)\n",
        "\n",
        "    # Viewer settings\n",
        "    out_doc.viewer_settings = ViewerSettings.copy(out_doc, in_doc.viewer_settings)\n",
        "\n",
        "    # Associated files (for PDF/A-3 and PDF 2.0 only)\n",
        "    outAssociatedFiles = out_doc.associated_files\n",
        "    for in_file_ref in in_doc.associated_files:\n",
        "        outAssociatedFiles.append(FileReference.copy(out_doc, in_file_ref))\n",
        "\n",
        "    # Plain embedded files\n",
        "    out_embedded_files = out_doc.plain_embedded_files\n",
        "    for in_file_ref in in_doc.plain_embedded_files:\n",
        "        out_embedded_files.append(FileReference.copy(out_doc, in_file_ref))"
      ]
    },
    {
      "cell_type": "code",
      "execution_count": null,
      "id": "3c20d4ea-87ee-4546-9431-7df11c186137",
      "metadata": {
          "id": "8e147f60-f20e-4588-b978-ffba589bd89c"
      },
      "outputs": [],
      "source": [
        "def is_white(paint: Paint) -> bool:\n",
        "    \"\"\"Determine if a paint is white based on its color space.\"\"\"\n",
        "    color_space = paint.color_space\n",
        "    color = paint.color\n",
        "\n",
        "    if isinstance(color_space, (DeviceGrayColorSpace, CalibratedGrayColorSpace, DeviceRgbColorSpace, CalibratedRgbColorSpace)):\n",
        "        # These color spaces are additive: white is 1.0\n",
        "        return min(color) == 1.0\n",
        "    if isinstance(color_space, DeviceCmykColorSpace):\n",
        "        # This color space is subtractive: white is 0.0\n",
        "        return max(color) == 0.0\n",
        "\n",
        "    return False"
      ]
    },
    {
      "cell_type": "code",
      "execution_count": null,
      "id": "5316efa5-f476-40f8-904d-9e77434c4a77",
      "metadata": {
          "id": "ec59d9fc-6c6a-4c1e-9db2-6a5f0e829775"
      },
      "outputs": [],
      "source": [
        "def copy_content_and_remove_white_text(in_content: Content, out_content: Content, out_doc: Document):\n",
        "    \"\"\"Process content to remove white text fragments.\"\"\"\n",
        "    # Use a content extractor and a content generator to copy content\n",
        "    extractor = ContentExtractor(in_content)\n",
        "    with ContentGenerator(out_content, False) as generator:\n",
        "\n",
        "        # Iterate over all content elements\n",
        "        for in_element in extractor:\n",
        "            # Special treatment for group elements\n",
        "            if isinstance(in_element, GroupElement):\n",
        "                # Create empty output group element\n",
        "                out_group_element = GroupElement.copy_without_content(out_doc, in_element)\n",
        "                out_element = out_group_element\n",
        "                copy_content_and_remove_white_text(in_element.group.content, out_group_element.group.content, out_doc)\n",
        "            else:\n",
        "                # Copy the content element to the output document\n",
        "                out_element = ContentElement.copy(out_doc, in_element)\n",
        "                if isinstance(out_element, TextElement):\n",
        "                    text = out_element.text\n",
        "                    # Remove all those text fragments whose fill and stroke paint is white\n",
        "                    for i_fragment in range(len(text) - 1, -1, -1):\n",
        "                        fragment = text[i_fragment]\n",
        "                        if ((fragment.fill is None or is_white(fragment.fill.paint)) and\n",
        "                            (fragment.stroke is None or is_white(fragment.stroke.paint))):\n",
        "                            text.remove(i_fragment)\n",
        "                    # Prevent appending an empty text element\n",
        "                    if len(text) == 0:\n",
        "                        out_element = None\n",
        "\n",
        "            # Append the finished output element to the content generator\n",
        "            if out_element:\n",
        "                generator.append_content_element(out_element)"
      ]
    },
    {
      "cell_type": "code",
      "execution_count": null,
      "id": "f85bac58-468f-4f6f-b3b9-42fae2499c8b",
      "metadata": {
          "id": "0f38a36a-22cd-4445-8af3-44e04ebac7bc"
      },
      "outputs": [],
      "source": [
        "try:\n",
        "    # Set and check license key. If the license key is not valid, an exception is thrown.\n",
        "    from pdftools_toolbox.sdk import Sdk\n",
        "    Sdk.initialize(\"INSERT-LICENSE-KEY\", None)\n",

        "\n",
        "    # Open input and create output documents\n",
        "    with io.FileIO(input_file_path, \"rb\") as in_stream:\n",
        "        with Document.open(in_stream, None) as in_doc:\n",
        "    \n",
        "            # Create output document\n",
        "            with io.FileIO(output_file_path, \"wb+\") as out_stream:\n",
        "                with Document.create(out_stream, in_doc.conformance, None) as out_doc:\n",
        "    \n",
        "                    # Copy document-wide data\n",
        "                    copy_document_data(in_doc, out_doc)\n",
        "    \n",
        "                    # Process each page\n",
        "                    for in_page in in_doc.pages:\n",
        "                        # Create empty output page\n",
        "                        out_page = Page.create(out_doc, in_page.size)\n",
        "                        # Copy page content from input to output and remove white text\n",
        "                        copy_content_and_remove_white_text(in_page.content, out_page.content, out_doc)\n",
        "                        # Add the new page to the output document's page list\n",
        "                        out_doc.pages.append(out_page)\n",

        "\n",
        "    print(\"Execution successful.\")\n",

        "except Exception as e:\n",
        "    print(f\"An error occurred: {e}\")"
      ]
    }
  ],
  "metadata": {
    "kernelspec": {
      "display_name": "Python 3",
      "language": "python",
      "name": "python3"
    },
    "language_info": {
      "codemirror_mode": {
        "name": "ipython",
        "version": 3
      },
      "file_extension": ".py",
      "mimetype": "text/x-python",
      "name": "python",
      "nbconvert_exporter": "python",
      "pygments_lexer": "ipython3",
      "version": "3.12.8"
    },
    "colab": {
      "provenance": []
    }
  },
  "nbformat": 4,
  "nbformat_minor": 5
}