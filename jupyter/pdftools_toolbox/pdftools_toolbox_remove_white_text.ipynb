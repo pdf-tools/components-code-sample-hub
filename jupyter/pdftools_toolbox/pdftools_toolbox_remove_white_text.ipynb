{
  "cells": [
    {
      "cell_type": "markdown",
      "id": "22475131-9371-4123-978c-8af90b4f11f2",
      "metadata": {
          "id": "af77d36a-2b63-4572-b3e8-b859481105a4"
      },
      "source": [
        "[![Open In Colab](https://colab.research.google.com/assets/colab-badge.svg)](https://colab.research.google.com/github/pdf-tools/components-code-sample-hub/blob/main/jupyter/pdftools_toolbox/pdftools_toolbox_remove_white_text.ipynb)"
      ]
    },
    {
      "cell_type": "code",
      "execution_count": null,
      "id": "5b084edc-3c86-42ad-b500-c92784af5e26",
      "metadata": {
          "id": "8c650d1f-730d-41fd-acca-f4e5d18e2fdc"
      },
      "outputs": [],
      "source": [
        "%pip install https://pdftools-public-downloads-production.s3.eu-west-1.amazonaws.com/productkits/PDFSDKXT/latest/pdftools_toolbox-latest.tar.gz\n",
        "%pip install ipython"
      ]
    },
    {
      "cell_type": "markdown",
      "id": "8ca6b87f-73fd-4e52-9ffe-d48fcad09fc6",
      "metadata": {
          "id": "137271b2-5814-45a2-bd4c-322947e60f90"
      },
      "source": [
        "# Remove White Text from PDF\n",
        "Remove white text from all pages of a PDF. Links,\n",
        "annotations, form fields, outlines, logical structure,\n",
        "and embedded files are discarded."
      ]
    },
    {
      "cell_type": "code",
      "execution_count": null,
      "id": "6b8e77e0-7580-4452-b631-001b9cba8864",
      "metadata": {
          "id": "b45a434a-0f34-4e54-ac2d-91c8cc223a97"
      },
      "outputs": [],
      "source": [
        "import io\n",
        "from pdftools_toolbox.pdf import Document, FileReference, Metadata, Page\n",
        "from pdftools_toolbox.pdf.content import Content, ContentElement, ContentExtractor, ContentGenerator, GroupElement, IccBasedColorSpace, TextElement, DeviceGrayColorSpace, CalibratedGrayColorSpace, DeviceRgbColorSpace, CalibratedRgbColorSpace, DeviceCmykColorSpace, Paint\n",
        "from pdftools_toolbox.pdf.navigation import ViewerSettings"
      ]
    },
    {
      "cell_type": "code",
      "execution_count": null,
      "id": "abeb7384-fd4f-4236-92a6-f6123c772e42",
      "metadata": {
          "id": "19624699-164f-486d-8552-040de7e0da7b"
      },
      "outputs": [],
      "source": [
        "# Download a file from a given URL and save it to the local system\n",
        "def prepare_file(url: str, path: str):\n",
        "    import requests\n",
        "    response = requests.get(url)\n",
        "    response.raise_for_status()\n",
        "\n",
        "    with open(path, 'wb') as f:\n",
        "        f.write(response.content)"
      ]
    },
    {
      "cell_type": "code",
      "execution_count": null,
      "id": "6a19c87b-31ba-4a50-b423-62fd0b760904",
      "metadata": {
          "id": "5612b532-06f2-495e-8699-6dc4fdf63a90"
      },
      "outputs": [],
      "source": [
        "# Set input arguments\n",
        "input_url = 'https://pdftools-public-downloads-production.s3.eu-west-1.amazonaws.com/samples/testfiles/GraphicsWhiteTextNoTP.pdf'\n",
        "input_file_path = 'GraphicsWhiteTextNoTP.pdf'\n",
        "prepare_file(input_url, input_file_path)\n",
        "output_file_path = 'NoWhiteText.pdf'"
      ]
    },
    {
      "cell_type": "code",
      "execution_count": null,
      "id": "e21abca6-6b8d-4c30-814f-71d7474d28b4",
      "metadata": {
          "id": "4deaaa93-bef9-4211-9fe7-d8bd1f9748aa"
      },
      "outputs": [],
      "source": [
        "def copy_document_data(in_doc: Document, out_doc: Document):\n",
        "    # Copy document-wide data\n",
        "\n",
        "    # Output intent\n",
        "    if in_doc.output_intent is not None:\n",
        "        in_doc.output_intent = IccBasedColorSpace.copy(out_doc, in_doc.output_intent)\n",
        "\n",
        "    # Metadata\n",
        "    out_doc.metadata = Metadata.copy(out_doc, in_doc.metadata)\n",
        "\n",
        "    # Viewer settings\n",
        "    out_doc.viewer_settings = ViewerSettings.copy(out_doc, in_doc.viewer_settings)\n",
        "\n",
        "    # Associated files (for PDF/A-3 and PDF 2.0 only)\n",
        "    outAssociatedFiles = out_doc.associated_files\n",
        "    for in_file_ref in in_doc.associated_files:\n",
        "        outAssociatedFiles.append(FileReference.copy(out_doc, in_file_ref))\n",
        "\n",
        "    # Plain embedded files\n",
        "    out_embedded_files = out_doc.plain_embedded_files\n",
        "    for in_file_ref in in_doc.plain_embedded_files:\n",
        "        out_embedded_files.append(FileReference.copy(out_doc, in_file_ref))"
      ]
    },
    {
      "cell_type": "code",
      "execution_count": null,
      "id": "9e0517f5-51d9-4fdb-8de7-6cc5ba974169",
      "metadata": {
          "id": "dac448ea-4e2e-40f3-984a-4fd1034dbfa6"
      },
      "outputs": [],
      "source": [
        "def is_white(paint: Paint) -> bool:\n",
        "    \"\"\"Determine if a paint is white based on its color space.\"\"\"\n",
        "    color_space = paint.color_space\n",
        "    color = paint.color\n",
        "\n",
        "    if isinstance(color_space, (DeviceGrayColorSpace, CalibratedGrayColorSpace, DeviceRgbColorSpace, CalibratedRgbColorSpace)):\n",
        "        # These color spaces are additive: white is 1.0\n",
        "        return min(color) == 1.0\n",
        "    if isinstance(color_space, DeviceCmykColorSpace):\n",
        "        # This color space is subtractive: white is 0.0\n",
        "        return max(color) == 0.0\n",
        "\n",
        "    return False"
      ]
    },
    {
      "cell_type": "code",
      "execution_count": null,
      "id": "4dec5d76-85c8-4d91-a87d-110b23af66f3",
      "metadata": {
          "id": "793be4f5-e119-4773-9d7f-8397a08bb4bc"
      },
      "outputs": [],
      "source": [
        "def copy_content_and_remove_white_text(in_content: Content, out_content: Content, out_doc: Document):\n",
        "    \"\"\"Process content to remove white text fragments.\"\"\"\n",
        "    # Use a content extractor and a content generator to copy content\n",
        "    extractor = ContentExtractor(in_content)\n",
        "    with ContentGenerator(out_content, False) as generator:\n",
        "\n",
        "        # Iterate over all content elements\n",
        "        for in_element in extractor:\n",
        "            # Special treatment for group elements\n",
        "            if isinstance(in_element, GroupElement):\n",
        "                # Create empty output group element\n",
        "                out_group_element = GroupElement.copy_without_content(out_doc, in_element)\n",
        "                out_element = out_group_element\n",
        "                copy_content_and_remove_white_text(in_element.group.content, out_group_element.group.content, out_doc)\n",
        "            else:\n",
        "                # Copy the content element to the output document\n",
        "                out_element = ContentElement.copy(out_doc, in_element)\n",
        "                if isinstance(out_element, TextElement):\n",
        "                    text = out_element.text\n",
        "                    # Remove all those text fragments whose fill and stroke paint is white\n",
        "                    for i_fragment in range(len(text) - 1, -1, -1):\n",
        "                        fragment = text[i_fragment]\n",
        "                        if ((fragment.fill is None or is_white(fragment.fill.paint)) and\n",
        "                            (fragment.stroke is None or is_white(fragment.stroke.paint))):\n",
        "                            text.remove(i_fragment)\n",
        "                    # Prevent appending an empty text element\n",
        "                    if len(text) == 0:\n",
        "                        out_element = None\n",
        "\n",
        "            # Append the finished output element to the content generator\n",
        "            if out_element:\n",
        "                generator.append_content_element(out_element)"
      ]
    },
    {
      "cell_type": "code",
      "execution_count": null,
      "id": "ad4a4d49-3513-40d5-93b4-4fad638060d9",
      "metadata": {
          "id": "98c686eb-80d6-4f9f-a414-0878fe4b25e1"
      },
      "outputs": [],
      "source": [
        "try:\n",
        "    # Set and check license key. If the license key is not valid, an exception is thrown.\n",
        "    from pdftools_toolbox.sdk import Sdk\n",
        "    Sdk.initialize(\"<PDFSDK,V1,MGAASQD6L2JMQHL54PK08RQX8GG4SS0M8DAHVPH0VMP3NB8R9DUK>\", None)\n",

        "\n",
        "    # Open input and create output documents\n",
        "    with io.FileIO(input_file_path, \"rb\") as in_stream:\n",
        "        with Document.open(in_stream, None) as in_doc:\n",
        "    \n",
        "            # Create output document\n",
        "            with io.FileIO(output_file_path, \"wb+\") as out_stream:\n",
        "                with Document.create(out_stream, in_doc.conformance, None) as out_doc:\n",
        "    \n",
        "                    # Copy document-wide data\n",
        "                    copy_document_data(in_doc, out_doc)\n",
        "    \n",
        "                    # Process each page\n",
        "                    for in_page in in_doc.pages:\n",
        "                        # Create empty output page\n",
        "                        out_page = Page.create(out_doc, in_page.size)\n",
        "                        # Copy page content from input to output and remove white text\n",
        "                        copy_content_and_remove_white_text(in_page.content, out_page.content, out_doc)\n",
        "                        # Add the new page to the output document's page list\n",
        "                        out_doc.pages.append(out_page)\n",

        "\n",
        "    print(\"Execution successful.\")\n",

        "except Exception as e:\n",
        "    print(f\"An error occurred: {e}\")"
      ]
    }
  ],
  "metadata": {
    "kernelspec": {
      "display_name": "Python 3",
      "language": "python",
      "name": "python3"
    },
    "language_info": {
      "codemirror_mode": {
        "name": "ipython",
        "version": 3
      },
      "file_extension": ".py",
      "mimetype": "text/x-python",
      "name": "python",
      "nbconvert_exporter": "python",
      "pygments_lexer": "ipython3",
      "version": "3.12.8"
    },
    "colab": {
      "provenance": []
    }
  },
  "nbformat": 4,
  "nbformat_minor": 5
}