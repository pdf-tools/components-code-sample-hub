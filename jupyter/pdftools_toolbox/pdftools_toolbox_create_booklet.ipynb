{
  "cells": [
    {
      "cell_type": "markdown",
      "id": "c990adac-7c53-4244-b4ba-f33cdc9f53ca",
      "metadata": {
          "id": "4e6ea14b-49f4-4627-8d5e-4de500736a52"
      },
      "source": [
        "[![Open In Colab](https://colab.research.google.com/assets/colab-badge.svg)](https://colab.research.google.com/github/pdf-tools/components-code-sample-hub/blob/main/jupyter/pdftools_toolbox/pdftools_toolbox_create_booklet.ipynb)"
      ]
    },
    {
      "cell_type": "code",
      "execution_count": null,
      "id": "a205be5e-7d19-4905-bec1-1fc33593155a",
      "metadata": {
          "id": "4547fd51-461d-4578-9b26-7dd51743cfd8"
      },
      "outputs": [],
      "source": [
        "%pip install pdftools_toolbox\n",
        "%pip install ipython"
      ]
    },
    {
      "cell_type": "markdown",
      "id": "6e7ad9f9-c359-4621-8b7c-16a0b7e9516c",
      "metadata": {
          "id": "ef081981-52d0-400f-b5dc-d668459a3b82"
      },
      "source": [
        "# Create a booklet from PDF\n",
        "Place up to two A4 pages in the right order on an A3\n",
        "page, so that duplex printing and folding the A3 pages\n",
        "results in a booklet."
      ]
    },
    {
      "cell_type": "code",
      "execution_count": null,
      "id": "f8c2434b-1100-4fd1-92a8-7d446a4311b6",
      "metadata": {
          "id": "1eae24da-b06e-48ed-8bf4-66d06d5e00e8"
      },
      "outputs": [],
      "source": [
        "import io\n",
        "from pdftools_toolbox.pdf import Document, FileReference, Metadata, Page, PageCopyOptions, PageList\n",
        "from pdftools_toolbox.geometry.real import Point, Rectangle, Size\n",
        "from pdftools_toolbox.pdf.content import Font, ContentGenerator, Group, IccBasedColorSpace, Text, TextGenerator\n",
        "from pdftools_toolbox.pdf.navigation import ViewerSettings"
      ]
    },
    {
      "cell_type": "code",
      "execution_count": null,
      "id": "2f8c9dbc-b240-4d83-8006-59e4c020bd4e",
      "metadata": {
          "id": "1094a307-8f8e-4e1f-9491-fe89f5a211df"
      },
      "outputs": [],
      "source": [
        "# Download a file from a given URL and save it to the local system\n",
        "def prepare_file(url: str, path: str):\n",
        "    import requests\n",
        "    response = requests.get(url)\n",
        "    response.raise_for_status()\n",
        "\n",
        "    with open(path, 'wb') as f:\n",
        "        f.write(response.content)"
      ]
    },
    {
      "cell_type": "code",
      "execution_count": null,
      "id": "46448323-f18f-42ca-9b3c-46c13f82c533",
      "metadata": {
          "id": "3d287031-4826-4166-932f-afd0399cd334"
      },
      "outputs": [],
      "source": [
        "# Set input arguments\n",
        "input_url = 'https://pdftools-public-downloads-production.s3.eu-west-1.amazonaws.com/samples/testfiles/PdfPrimerWhitepaper.pdf'\n",
        "input_file_path = 'PdfPrimerWhitepaper.pdf'\n",
        "prepare_file(input_url, input_file_path)\n",
        "output_file_path = 'Booklet.pdf'"
      ]
    },
    {
      "cell_type": "code",
      "execution_count": null,
      "id": "35302f5a-75a1-4ebb-a234-e6bab2882eb4",
      "metadata": {
          "id": "970d0dfa-cf06-412d-96ea-e8a64b22c8e6"
      },
      "outputs": [],
      "source": [
        "def copy_document_data(in_doc: Document, out_doc: Document):\n",
        "    # Copy document-wide data\n",
        "\n",
        "    # Output intent\n",
        "    if in_doc.output_intent is not None:\n",
        "        in_doc.output_intent = IccBasedColorSpace.copy(out_doc, in_doc.output_intent)\n",
        "\n",
        "    # Metadata\n",
        "    out_doc.metadata = Metadata.copy(out_doc, in_doc.metadata)\n",
        "\n",
        "    # Viewer settings\n",
        "    out_doc.viewer_settings = ViewerSettings.copy(out_doc, in_doc.viewer_settings)\n",
        "\n",
        "    # Associated files (for PDF/A-3 and PDF 2.0 only)\n",
        "    outAssociatedFiles = out_doc.associated_files\n",
        "    for in_file_ref in in_doc.associated_files:\n",
        "        outAssociatedFiles.append(FileReference.copy(out_doc, in_file_ref))\n",
        "\n",
        "    # Plain embedded files\n",
        "    out_embedded_files = out_doc.plain_embedded_files\n",
        "    for in_file_ref in in_doc.plain_embedded_files:\n",
        "        out_embedded_files.append(FileReference.copy(out_doc, in_file_ref))"
      ]
    },{
      "cell_type": "code",
      "execution_count": null,
      "id": "b0a84ccf-1f7d-432b-9e35-e6da5766c2db",
      "metadata": {
          "id": "db434224-e873-4acf-9d37-54024336a4e9"
      },
      "outputs": [],
      "source": [
        "def compute_target_rect(bbox: Size, is_left_page: bool) -> Rectangle:\n",
        "    # Calculate factor for fitting page into rectangle\n",
        "    scale = min(cell_width / bbox.width, cell_height / bbox.height)\n",
        "    group_width = bbox.width * scale\n",
        "    group_height = bbox.height * scale\n",
        "\n",
        "    # Calculate x-value\n",
        "    group_x_pos = cell_left + (cell_width - group_width) / 2 if is_left_page else cell_right + (cell_width - group_width) / 2\n",
        "\n",
        "    # Calculate y-value\n",
        "    group_y_pos = cell_y_pos + (cell_height - group_height) / 2\n",
        "\n",
        "    # Calculate rectangle\n",
        "    return Rectangle(\n",
        "        left=group_x_pos,\n",
        "        bottom=group_y_pos,\n",
        "        right=group_x_pos + group_width,\n",
        "        top=group_y_pos + group_height,\n",
        "    )"
      ]
    },{
      "cell_type": "code",
      "execution_count": null,
      "id": "06e02326-8a6a-4636-b7a8-24ad5eba8cb9",
      "metadata": {
          "id": "d20cc4bb-384e-418a-8fe6-91da17633e77"
      },
      "outputs": [],
      "source": [
        "def stamp_page_number(document: Document, font: Font, generator: ContentGenerator, page_no: int, is_left_page: bool):\n",
        "    # Create text object\n",
        "    text = Text.create(document)\n",
        "\n",
        "    # Create text generator\n",
        "    with TextGenerator(text, font, 8.0, None) as text_generator:\n",
        "        stamp_text = f\"Page {page_no}\"\n",
        "\n",
        "        # Get width of stamp text\n",
        "        width = text_generator.get_width(stamp_text)\n",
        "\n",
        "        # Calculate position\n",
        "        x = border + 0.5 * cell_width - width / 2 if is_left_page else 2 * border + 1.5 * cell_width - width / 2\n",
        "        y = border\n",
        "\n",
        "        # Move to position\n",
        "        text_generator.move_to(Point(x=x, y=y))\n",
        "\n",
        "        # Add page number\n",
        "        text_generator.show(stamp_text)\n",
        "\n",
        "    # Paint the positioned text\n",
        "    generator.paint_text(text)"
      ]
    },{
      "cell_type": "code",
      "execution_count": null,
      "id": "c0804562-6888-485e-a00a-0cf0041e5e59",
      "metadata": {
          "id": "e309afd5-6a7a-40db-85f8-c592f4a1bf19"
      },
      "outputs": [],
      "source": [
        "def create_booklet(in_pages: PageList, out_doc: Document, out_pages: PageList, left_page_index: int, right_page_index: int, font: Font):\n",
        "    # Define page copy options\n",
        "    copy_options = PageCopyOptions()\n",
        "\n",
        "    # Create page object\n",
        "    out_page = Page.create(out_doc, page_size)\n",
        "\n",
        "    # Create content generator\n",
        "    with ContentGenerator(out_page.content, False) as generator:\n",
        "        # Left page\n",
        "        if left_page_index < len(in_pages):\n",
        "            # Copy page from input to output\n",
        "            left_page = in_pages[left_page_index]\n",
        "            left_group = Group.copy_from_page(out_doc, left_page, copy_options)\n",
        "\n",
        "            # Paint group into target rectangle\n",
        "            generator.paint_group(left_group, compute_target_rect(left_group.size, True), None)\n",
        "\n",
        "            # Add page number to page\n",
        "            stamp_page_number(out_doc, font, generator, left_page_index + 1, True)\n",
        "\n",
        "        # Right page\n",
        "        if right_page_index < len(in_pages):\n",
        "            # Copy page from input to output\n",
        "            right_page = in_pages[right_page_index]\n",
        "            right_group = Group.copy_from_page(out_doc, right_page, copy_options)\n",
        "\n",
        "            # Paint group on the calculated rectangle\n",
        "            generator.paint_group(right_group, compute_target_rect(right_group.size, False), None)\n",
        "\n",
        "            # Add page number to page\n",
        "            stamp_page_number(out_doc, font, generator, right_page_index + 1, False)\n",
        "\n",
        "    # Add page to output document\n",
        "    out_pages.append(out_page)"
      ]
    },
    {
      "cell_type": "code",
      "execution_count": null,
      "id": "1d39b048-b2a1-4abe-80d9-cf0858b9adee",
      "metadata": {
          "id": "bb2795b7-b725-4aae-b264-681fb191e17a"
      },
      "outputs": [],
      "source": [
        "try:\n",
        "    # Set and check license key. If the license key is not valid, an exception is thrown.\n",
        "    from pdftools_toolbox.sdk import Sdk\n",
        "    Sdk.initialize(\"INSERT-LICENSE-KEY\", None)\n",

        "\n",
        "    # Define global variables\n",
        "    page_size = Size(1190.0, 842.0)  # A3 portrait\n",
        "    border = 10.0\n",
        "    cell_width = (page_size.width - 3 * border) / 2\n",
        "    cell_height = page_size.height - 2 * border\n",
        "    cell_left = border\n",
        "    cell_right = 2 * border + cell_width\n",
        "    cell_y_pos = border\n",
        "    \n",
        "    # Open input document\n",
        "    with io.FileIO(input_file_path, \"rb\") as in_stream:\n",
        "        with Document.open(in_stream, None) as in_doc:\n",
        "    \n",
        "            # Create output document\n",
        "            with io.FileIO(output_file_path, \"wb+\") as output_stream:\n",
        "                with Document.create(output_stream, in_doc.conformance, None) as out_doc:\n",
        "    \n",
        "                    # Copy document-wide data\n",
        "                    copy_document_data(in_doc, out_doc)\n",
        "    \n",
        "                    # Create a font\n",
        "                    font = Font.create_from_system(out_doc, \"Arial\", \"Italic\", True)\n",
        "    \n",
        "                    # Copy pages\n",
        "                    in_pages = in_doc.pages\n",
        "                    out_pages = out_doc.pages\n",
        "                    number_of_sheets = (len(in_pages) + 3) // 4\n",
        "    \n",
        "                    for sheet_number in range(number_of_sheets):\n",
        "                        # Add front side\n",
        "                        create_booklet(in_pages, out_doc, out_pages, 4 * number_of_sheets - 2 * sheet_number - 1, 2 * sheet_number, font)\n",
        "                        # Add back side\n",
        "                        create_booklet(in_pages, out_doc, out_pages, 2 * sheet_number + 1, 4 * number_of_sheets - 2 * sheet_number - 2, font)\n",

        "\n",
        "    print(\"Execution successful.\")\n",

        "except Exception as e:\n",
        "    print(f\"An error occurred: {e}\")"
      ]
    }
  ],
  "metadata": {
    "kernelspec": {
      "display_name": "Python 3",
      "language": "python",
      "name": "python3"
    },
    "language_info": {
      "codemirror_mode": {
        "name": "ipython",
        "version": 3
      },
      "file_extension": ".py",
      "mimetype": "text/x-python",
      "name": "python",
      "nbconvert_exporter": "python",
      "pygments_lexer": "ipython3",
      "version": "3.12.8"
    },
    "colab": {
      "provenance": []
    }
  },
  "nbformat": 4,
  "nbformat_minor": 5
}