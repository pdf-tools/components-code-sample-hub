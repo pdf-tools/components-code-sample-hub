{
  "cells": [
    {
      "cell_type": "markdown",
      "id": "8be9cb19-315c-4c78-a8f1-75668e0d0fcd",
      "metadata": {
          "id": "c008bde8-8d35-409d-be02-6b091614b121"
      },
      "source": [
        "[![Open In Colab](https://colab.research.google.com/assets/colab-badge.svg)](https://colab.research.google.com/github/pdf-tools/components-code-sample-hub/blob/main/jupyter/pdftools_toolbox/pdftools_toolbox_create_booklet.ipynb)"
      ]
    },
    {
      "cell_type": "code",
      "execution_count": null,
      "id": "7043af08-a899-4f32-bc08-d6eaa0cf82f6",
      "metadata": {
          "id": "2280ae67-13c2-42f1-9f4b-2ca3c5959d31"
      },
      "outputs": [],
      "source": [
        "%pip install https://pdftools-public-downloads-production.s3.eu-west-1.amazonaws.com/productkits/PDFSDKXT/latest/pdftools_toolbox-latest.tar.gz\n",
        "%pip install ipython"
      ]
    },
    {
      "cell_type": "markdown",
      "id": "1d2a2969-be67-4684-854f-e291a87496f7",
      "metadata": {
          "id": "2b8fc0c7-8735-4271-9d0b-7cc05f648980"
      },
      "source": [
        "# Create a booklet from PDF\n",
        "Place up to two A4 pages in the right order on an A3\n",
        "page, so that duplex printing and folding the A3 pages\n",
        "results in a booklet."
      ]
    },
    {
      "cell_type": "code",
      "execution_count": null,
      "id": "8b3b5060-1a74-4dc9-b18d-30352d65a2a4",
      "metadata": {
          "id": "ec352ada-f6e4-45f6-bd4f-0df2781abdac"
      },
      "outputs": [],
      "source": [
        "import io\n",
        "from pdftools_toolbox.pdf import Document, FileReference, Metadata, Page, PageCopyOptions, PageList\n",
        "from pdftools_toolbox.geometry.real import Point, Rectangle, Size\n",
        "from pdftools_toolbox.pdf.content import Font, ContentGenerator, Group, IccBasedColorSpace, Text, TextGenerator\n",
        "from pdftools_toolbox.pdf.navigation import ViewerSettings"
      ]
    },
    {
      "cell_type": "code",
      "execution_count": null,
      "id": "f1f011f5-3185-4ea4-bd16-f0b59f42dbd0",
      "metadata": {
          "id": "fa2465bf-dedd-4ab8-aee7-93f9620bb7f8"
      },
      "outputs": [],
      "source": [
        "# Download a file from a given URL and save it to the local system\n",
        "def prepare_file(url: str, path: str):\n",
        "    import requests\n",
        "    response = requests.get(url)\n",
        "    response.raise_for_status()\n",
        "\n",
        "    with open(path, 'wb') as f:\n",
        "        f.write(response.content)"
      ]
    },
    {
      "cell_type": "code",
      "execution_count": null,
      "id": "94fdbf70-493d-4db2-af5a-12d63a16e067",
      "metadata": {
          "id": "c2ea727a-16a7-4e5c-83c8-4d8eb6e6b2cb"
      },
      "outputs": [],
      "source": [
        "# Set input arguments\n",
        "input_url = 'https://pdftools-public-downloads-production.s3.eu-west-1.amazonaws.com/samples/testfiles/PdfPrimerWhitepaper.pdf'\n",
        "input_file_path = 'PdfPrimerWhitepaper.pdf'\n",
        "prepare_file(input_url, input_file_path)\n",
        "output_file_path = 'Booklet.pdf'"
      ]
    },
    {
      "cell_type": "code",
      "execution_count": null,
      "id": "50079075-2dbd-4726-9a85-3bab99f899ba",
      "metadata": {
          "id": "4bcf7091-5a9a-44d7-b928-e2f1d5733899"
      },
      "outputs": [],
      "source": [
        "def copy_document_data(in_doc: Document, out_doc: Document):\n",
        "    # Copy document-wide data\n",
        "\n",
        "    # Output intent\n",
        "    if in_doc.output_intent is not None:\n",
        "        in_doc.output_intent = IccBasedColorSpace.copy(out_doc, in_doc.output_intent)\n",
        "\n",
        "    # Metadata\n",
        "    out_doc.metadata = Metadata.copy(out_doc, in_doc.metadata)\n",
        "\n",
        "    # Viewer settings\n",
        "    out_doc.viewer_settings = ViewerSettings.copy(out_doc, in_doc.viewer_settings)\n",
        "\n",
        "    # Associated files (for PDF/A-3 and PDF 2.0 only)\n",
        "    outAssociatedFiles = out_doc.associated_files\n",
        "    for in_file_ref in in_doc.associated_files:\n",
        "        outAssociatedFiles.append(FileReference.copy(out_doc, in_file_ref))\n",
        "\n",
        "    # Plain embedded files\n",
        "    out_embedded_files = out_doc.plain_embedded_files\n",
        "    for in_file_ref in in_doc.plain_embedded_files:\n",
        "        out_embedded_files.append(FileReference.copy(out_doc, in_file_ref))"
      ]
    },
    {
      "cell_type": "code",
      "execution_count": null,
      "id": "5cd467bc-a7ba-4229-896c-f0fed4133847",
      "metadata": {
          "id": "2a8c73d1-c333-4d8a-8d0e-2aa3ad0f1086"
      },
      "outputs": [],
      "source": [
        "def compute_target_rect(bbox: Size, is_left_page: bool) -> Rectangle:\n",
        "    # Calculate factor for fitting page into rectangle\n",
        "    scale = min(cell_width / bbox.width, cell_height / bbox.height)\n",
        "    group_width = bbox.width * scale\n",
        "    group_height = bbox.height * scale\n",
        "\n",
        "    # Calculate x-value\n",
        "    group_x_pos = cell_left + (cell_width - group_width) / 2 if is_left_page else cell_right + (cell_width - group_width) / 2\n",
        "\n",
        "    # Calculate y-value\n",
        "    group_y_pos = cell_y_pos + (cell_height - group_height) / 2\n",
        "\n",
        "    # Calculate rectangle\n",
        "    return Rectangle(\n",
        "        left=group_x_pos,\n",
        "        bottom=group_y_pos,\n",
        "        right=group_x_pos + group_width,\n",
        "        top=group_y_pos + group_height,\n",
        "    )"
      ]
    },
    {
      "cell_type": "code",
      "execution_count": null,
      "id": "7b9931a4-16d6-436d-a67a-c40ee60fdf2a",
      "metadata": {
          "id": "ab053c54-1f00-4e22-9eac-8c8f49c21a83"
      },
      "outputs": [],
      "source": [
        "def stamp_page_number(document: Document, font: Font, generator: ContentGenerator, page_no: int, is_left_page: bool):\n",
        "    # Create text object\n",
        "    text = Text.create(document)\n",
        "\n",
        "    # Create text generator\n",
        "    with TextGenerator(text, font, 8.0, None) as text_generator:\n",
        "        stamp_text = f\"Page {page_no}\"\n",
        "\n",
        "        # Get width of stamp text\n",
        "        width = text_generator.get_width(stamp_text)\n",
        "\n",
        "        # Calculate position\n",
        "        x = border + 0.5 * cell_width - width / 2 if is_left_page else 2 * border + 1.5 * cell_width - width / 2\n",
        "        y = border\n",
        "\n",
        "        # Move to position\n",
        "        text_generator.move_to(Point(x=x, y=y))\n",
        "\n",
        "        # Add page number\n",
        "        text_generator.show(stamp_text)\n",
        "\n",
        "    # Paint the positioned text\n",
        "    generator.paint_text(text)"
      ]
    },
    {
      "cell_type": "code",
      "execution_count": null,
      "id": "ffe6d388-09fc-4e00-a128-31a7b8c79822",
      "metadata": {
          "id": "3f734d81-7bc8-40e0-be65-6986aea4308a"
      },
      "outputs": [],
      "source": [
        "def create_booklet(in_pages: PageList, out_doc: Document, out_pages: PageList, left_page_index: int, right_page_index: int, font: Font):\n",
        "    # Define page copy options\n",
        "    copy_options = PageCopyOptions()\n",
        "\n",
        "    # Create page object\n",
        "    out_page = Page.create(out_doc, page_size)\n",
        "\n",
        "    # Create content generator\n",
        "    with ContentGenerator(out_page.content, False) as generator:\n",
        "        # Left page\n",
        "        if left_page_index < len(in_pages):\n",
        "            # Copy page from input to output\n",
        "            left_page = in_pages[left_page_index]\n",
        "            left_group = Group.copy_from_page(out_doc, left_page, copy_options)\n",
        "\n",
        "            # Paint group into target rectangle\n",
        "            generator.paint_group(left_group, compute_target_rect(left_group.size, True), None)\n",
        "\n",
        "            # Add page number to page\n",
        "            stamp_page_number(out_doc, font, generator, left_page_index + 1, True)\n",
        "\n",
        "        # Right page\n",
        "        if right_page_index < len(in_pages):\n",
        "            # Copy page from input to output\n",
        "            right_page = in_pages[right_page_index]\n",
        "            right_group = Group.copy_from_page(out_doc, right_page, copy_options)\n",
        "\n",
        "            # Paint group on the calculated rectangle\n",
        "            generator.paint_group(right_group, compute_target_rect(right_group.size, False), None)\n",
        "\n",
        "            # Add page number to page\n",
        "            stamp_page_number(out_doc, font, generator, right_page_index + 1, False)\n",
        "\n",
        "    # Add page to output document\n",
        "    out_pages.append(out_page)"
      ]
    },
    {
      "cell_type": "code",
      "execution_count": null,
      "id": "d4b5d1a5-8604-4008-ae0b-f019f4677cae",
      "metadata": {
          "id": "342cc3cb-e071-495a-b457-8e5b7236fbec"
      },
      "outputs": [],
      "source": [
        "try:\n",
        "    # Set and check license key. If the license key is not valid, an exception is thrown.\n",
        "    from pdftools_toolbox.sdk import Sdk\n",
        "    Sdk.initialize(\"<PDFSDK,V1,MGAASQD6L2JMQHL54PK08RQX8GG4SS0M8DAHVPH0VMP3NB8R9DUK>\", None)\n",

        "\n",
        "    # Define global variables\n",
        "    page_size = Size(1190.0, 842.0)  # A3 portrait\n",
        "    border = 10.0\n",
        "    cell_width = (page_size.width - 3 * border) / 2\n",
        "    cell_height = page_size.height - 2 * border\n",
        "    cell_left = border\n",
        "    cell_right = 2 * border + cell_width\n",
        "    cell_y_pos = border\n",
        "    \n",
        "    # Open input document\n",
        "    with io.FileIO(input_file_path, \"rb\") as in_stream:\n",
        "        with Document.open(in_stream, None) as in_doc:\n",
        "    \n",
        "            # Create output document\n",
        "            with io.FileIO(output_file_path, \"wb+\") as output_stream:\n",
        "                with Document.create(output_stream, in_doc.conformance, None) as out_doc:\n",
        "    \n",
        "                    # Copy document-wide data\n",
        "                    copy_document_data(in_doc, out_doc)\n",
        "    \n",
        "                    # Create a font\n",
        "                    font = Font.create_from_system(out_doc, \"Arial\", \"Italic\", True)\n",
        "    \n",
        "                    # Copy pages\n",
        "                    in_pages = in_doc.pages\n",
        "                    out_pages = out_doc.pages\n",
        "                    number_of_sheets = (len(in_pages) + 3) // 4\n",
        "    \n",
        "                    for sheet_number in range(number_of_sheets):\n",
        "                        # Add front side\n",
        "                        create_booklet(in_pages, out_doc, out_pages, 4 * number_of_sheets - 2 * sheet_number - 1, 2 * sheet_number, font)\n",
        "                        # Add back side\n",
        "                        create_booklet(in_pages, out_doc, out_pages, 2 * sheet_number + 1, 4 * number_of_sheets - 2 * sheet_number - 2, font)\n",

        "\n",
        "    print(\"Execution successful.\")\n",

        "except Exception as e:\n",
        "    print(f\"An error occurred: {e}\")"
      ]
    }
  ],
  "metadata": {
    "kernelspec": {
      "display_name": "Python 3",
      "language": "python",
      "name": "python3"
    },
    "language_info": {
      "codemirror_mode": {
        "name": "ipython",
        "version": 3
      },
      "file_extension": ".py",
      "mimetype": "text/x-python",
      "name": "python",
      "nbconvert_exporter": "python",
      "pygments_lexer": "ipython3",
      "version": "3.12.8"
    },
    "colab": {
      "provenance": []
    }
  },
  "nbformat": 4,
  "nbformat_minor": 5
}