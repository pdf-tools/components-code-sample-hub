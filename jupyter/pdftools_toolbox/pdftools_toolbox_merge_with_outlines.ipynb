{
  "cells": [
    {
      "cell_type": "markdown",
      "id": "c8b433cc-eaa3-4c0b-9ab8-aae96d8fcfe6",
      "metadata": {
          "id": "6affa893-0993-49fa-b484-ee96c5b11be0"
      },
      "source": [
        "[![Open In Colab](https://colab.research.google.com/assets/colab-badge.svg)](https://colab.research.google.com/github/pdf-tools/components-code-sample-hub/blob/main/jupyter/pdftools_toolbox/pdftools_toolbox_merge_with_outlines.ipynb)"
      ]
    },
    {
      "cell_type": "code",
      "execution_count": null,
      "id": "ca88153d-c3e6-4d1c-87fb-635062535c6d",
      "metadata": {
          "id": "d6f612ef-1aef-4d3a-b816-635b001ee867"
      },
      "outputs": [],
      "source": [
        "%pip install https://pdftools-public-downloads-production.s3.eu-west-1.amazonaws.com/productkits/PDFSDKXT/latest/pdftools_toolbox-latest.tar.gz\n",
        "%pip install ipython"
      ]
    },
    {
      "cell_type": "markdown",
      "id": "b9eedb2e-7cdb-4be5-a327-7fcabc3b5b55",
      "metadata": {
          "id": "e6e83a85-c120-49a8-88ec-7481cff83dc1"
      },
      "source": [
        "# Merge multiple PDFs with outlines\n",
        "Merge several PDF documents to one, while creating an\n",
        "outline item for each input document."
      ]
    },
    {
      "cell_type": "code",
      "execution_count": null,
      "id": "37ae0797-a928-4bf0-a9d5-13474093db49",
      "metadata": {
          "id": "bc086833-f137-4496-b0be-2d0ad2e164bf"
      },
      "outputs": [],
      "source": [
        "import io\n",
        "import os\n",
        "from pdftools_toolbox.pdf import Document, PageCopyOptions, PageList\n",
        "from pdftools_toolbox.pdf.navigation import LocationZoomDestination, OutlineCopyOptions, OutlineItem"
      ]
    },
    {
      "cell_type": "code",
      "execution_count": null,
      "id": "beef5070-f457-47c5-8936-e15df498fed2",
      "metadata": {
          "id": "618789cc-2259-4149-9f71-805926ef955c"
      },
      "outputs": [],
      "source": [
        "# Download a file from a given URL and save it to the local system\n",
        "def prepare_file(url: str, path: str):\n",
        "    import requests\n",
        "    response = requests.get(url)\n",
        "    response.raise_for_status()\n",
        "\n",
        "    with open(path, 'wb') as f:\n",
        "        f.write(response.content)"
      ]
    },
    {
      "cell_type": "code",
      "execution_count": null,
      "id": "9c988190-0d62-4995-90b8-b5b3a079def3",
      "metadata": {
          "id": "a54eeea2-2551-4f0e-b7c9-a6eaced1a28b"
      },
      "outputs": [],
      "source": [
        "# Set input arguments\n",
        "input_url1 = 'https://pdftools-public-downloads-production.s3.eu-west-1.amazonaws.com/samples/testfiles/GraphicsNone.pdf'\n",
        "input_url2 = 'https://pdftools-public-downloads-production.s3.eu-west-1.amazonaws.com/samples/testfiles/BlankNoneNoTP.pdf'\n",
        "input_paths = ['GraphicsNone.pdf', 'BlankNoneNoTP.pdf']\n",
        "prepare_file(input_url1, input_paths[0])\n",
        "prepare_file(input_url2, input_paths[1])\n",
        "output_file_path = 'MergedWithOutlines.pdf'"
      ]
    },
    {
      "cell_type": "code",
      "execution_count": null,
      "id": "2fa3c502-ce25-468d-a68d-eaa870bb8cfc",
      "metadata": {
          "id": "7da1b053-9a17-4302-9f38-8c451510ca30"
      },
      "outputs": [],
      "source": [
        "try:\n",
        "    # Set and check license key. If the license key is not valid, an exception is thrown.\n",
        "    from pdftools_toolbox.sdk import Sdk\n",
        "    Sdk.initialize(\"INSERT-LICENSE-KEY\", None)\n",

        "\n",
        "    # Create output document\n",
        "    with open(output_file_path, \"wb+\") as out_stream:\n",
        "        with Document.create(out_stream, None, None) as out_doc:\n",
        "    \n",
        "            # Define page copy options\n",
        "            page_copy_options = PageCopyOptions()\n",
        "            page_copy_options.copy_outline_items = False\n",
        "    \n",
        "            # Define outline copy options\n",
        "            outline_copy_options = OutlineCopyOptions()\n",
        "    \n",
        "            # Get output pages\n",
        "            out_pages = out_doc.pages\n",
        "    \n",
        "            # Merge input documents\n",
        "            for input_path in input_paths:\n",
        "                # Open input document\n",
        "                with open(input_path, \"rb\") as in_stream:\n",
        "                    with Document.open(in_stream, None) as in_doc:\n",
        "    \n",
        "                        # Copy all pages and append to output document\n",
        "                        copied_pages = PageList.copy(out_doc, in_doc.pages, page_copy_options)\n",
        "                        out_pages.extend(copied_pages)\n",
        "    \n",
        "                        # Create outline item\n",
        "                        title = in_doc.metadata.title or os.path.basename(input_path)\n",
        "                        first_copied_page = copied_pages[0]\n",
        "                        destination = LocationZoomDestination.create(out_doc, first_copied_page, 0, first_copied_page.size.height, None)\n",
        "                        outline_item = OutlineItem.create(out_doc, title, destination)\n",
        "                        out_doc.outline.append(outline_item)\n",
        "    \n",
        "                        # Add outline items from input document as children\n",
        "                        children = outline_item.children\n",
        "                        for in_outline_item in in_doc.outline:\n",
        "                            children.append(OutlineItem.copy(out_doc, in_outline_item, outline_copy_options))\n",

        "\n",
        "    print(\"Execution successful.\")\n",

        "except Exception as e:\n",
        "    print(f\"An error occurred: {e}\")"
      ]
    }
  ],
  "metadata": {
    "kernelspec": {
      "display_name": "Python 3",
      "language": "python",
      "name": "python3"
    },
    "language_info": {
      "codemirror_mode": {
        "name": "ipython",
        "version": 3
      },
      "file_extension": ".py",
      "mimetype": "text/x-python",
      "name": "python",
      "nbconvert_exporter": "python",
      "pygments_lexer": "ipython3",
      "version": "3.12.8"
    },
    "colab": {
      "provenance": []
    }
  },
  "nbformat": 4,
  "nbformat_minor": 5
}