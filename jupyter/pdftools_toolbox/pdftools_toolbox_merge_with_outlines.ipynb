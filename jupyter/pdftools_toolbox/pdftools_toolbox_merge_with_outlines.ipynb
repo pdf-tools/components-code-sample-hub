{
  "cells": [
    {
      "cell_type": "markdown",
      "id": "78e73a1c-d08a-4098-b1c5-8c0358748909",
      "metadata": {
          "id": "0caf162e-3b86-466d-a05a-31bf586a51ea"
      },
      "source": [
        "[![Open In Colab](https://colab.research.google.com/assets/colab-badge.svg)](https://colab.research.google.com/github/pdf-tools/components-code-sample-hub/blob/main/jupyter/pdftools_toolbox/pdftools_toolbox_merge_with_outlines.ipynb)"
      ]
    },
    {
      "cell_type": "code",
      "execution_count": null,
      "id": "3feacc38-6f28-440f-912a-be1f7e7b1433",
      "metadata": {
          "id": "67f7211f-fe9e-4533-bc85-ff1cd855af29"
      },
      "outputs": [],
      "source": [
        "%pip install pdftools_toolbox\n",
        "%pip install ipython"
      ]
    },
    {
      "cell_type": "markdown",
      "id": "fd21a7e3-9dc0-4234-85f5-e9fa05fe0a92",
      "metadata": {
          "id": "3f44c752-ebc7-4b4d-a93a-a1c9f65af58d"
      },
      "source": [
        "# Merge multiple PDFs with outlines\n",
        "Merge several PDF documents to one, while creating an\n",
        "outline item for each input document."
      ]
    },
    {
      "cell_type": "code",
      "execution_count": null,
      "id": "fdf99eb9-73da-41a4-8e8c-1c21478be088",
      "metadata": {
          "id": "0add3524-4edb-48c2-b496-1176c99c7f19"
      },
      "outputs": [],
      "source": [
        "import io\n",
        "import os\n",
        "from pdftools_toolbox.pdf import Document, PageCopyOptions, PageList\n",
        "from pdftools_toolbox.pdf.navigation import LocationZoomDestination, OutlineCopyOptions, OutlineItem"
      ]
    },
    {
      "cell_type": "code",
      "execution_count": null,
      "id": "2e071608-b9fc-4292-b06e-b3e79d3590a2",
      "metadata": {
          "id": "ff6d8ae0-b071-4019-944d-109bf4d4bbb0"
      },
      "outputs": [],
      "source": [
        "# Download a file from a given URL and save it to the local system\n",
        "def prepare_file(url: str, path: str):\n",
        "    import requests\n",
        "    response = requests.get(url)\n",
        "    response.raise_for_status()\n",
        "\n",
        "    with open(path, 'wb') as f:\n",
        "        f.write(response.content)"
      ]
    },
    {
      "cell_type": "code",
      "execution_count": null,
      "id": "bfb7f771-ec29-4a2e-8310-055e0ddab463",
      "metadata": {
          "id": "4f3ea651-6d14-400a-b8d8-edb5e49f3b4c"
      },
      "outputs": [],
      "source": [
        "# Set input arguments\n",
        "input_url1 = 'https://pdftools-public-downloads-production.s3.eu-west-1.amazonaws.com/samples/testfiles/GraphicsNone.pdf'\n",
        "input_url2 = 'https://pdftools-public-downloads-production.s3.eu-west-1.amazonaws.com/samples/testfiles/BlankNoneNoTP.pdf'\n",
        "input_paths = ['GraphicsNone.pdf', 'BlankNoneNoTP.pdf']\n",
        "prepare_file(input_url1, input_paths[0])\n",
        "prepare_file(input_url2, input_paths[1])\n",
        "output_file_path = 'MergedWithOutlines.pdf'"
      ]
    },
    {
      "cell_type": "code",
      "execution_count": null,
      "id": "d68b14d7-5d69-4853-a1ed-a4799a353a03",
      "metadata": {
          "id": "7c4b780b-e24c-4805-b06b-f5a63b7c1715"
      },
      "outputs": [],
      "source": [
        "try:\n",
        "    # Set and check license key. If the license key is not valid, an exception is thrown.\n",
        "    from pdftools_toolbox.sdk import Sdk\n",
        "    Sdk.initialize(\"INSERT-LICENSE-KEY\", None)\n",

        "\n",
        "    # Create output document\n",
        "    with open(output_file_path, \"wb+\") as out_stream:\n",
        "        with Document.create(out_stream, None, None) as out_doc:\n",
        "    \n",
        "            # Define page copy options\n",
        "            page_copy_options = PageCopyOptions()\n",
        "            page_copy_options.copy_outline_items = False\n",
        "    \n",
        "            # Define outline copy options\n",
        "            outline_copy_options = OutlineCopyOptions()\n",
        "    \n",
        "            # Get output pages\n",
        "            out_pages = out_doc.pages\n",
        "    \n",
        "            # Merge input documents\n",
        "            for input_path in input_paths:\n",
        "                # Open input document\n",
        "                with open(input_path, \"rb\") as in_stream:\n",
        "                    with Document.open(in_stream, None) as in_doc:\n",
        "    \n",
        "                        # Copy all pages and append to output document\n",
        "                        copied_pages = PageList.copy(out_doc, in_doc.pages, page_copy_options)\n",
        "                        out_pages.extend(copied_pages)\n",
        "    \n",
        "                        # Create outline item\n",
        "                        title = in_doc.metadata.title or os.path.basename(input_path)\n",
        "                        first_copied_page = copied_pages[0]\n",
        "                        destination = LocationZoomDestination.create(out_doc, first_copied_page, 0, first_copied_page.size.height, None)\n",
        "                        outline_item = OutlineItem.create(out_doc, title, destination)\n",
        "                        out_doc.outline.append(outline_item)\n",
        "    \n",
        "                        # Add outline items from input document as children\n",
        "                        children = outline_item.children\n",
        "                        for in_outline_item in in_doc.outline:\n",
        "                            children.append(OutlineItem.copy(out_doc, in_outline_item, outline_copy_options))\n",

        "\n",
        "    print(\"Execution successful.\")\n",

        "except Exception as e:\n",
        "    print(f\"An error occurred: {e}\")"
      ]
    }
  ],
  "metadata": {
    "kernelspec": {
      "display_name": "Python 3",
      "language": "python",
      "name": "python3"
    },
    "language_info": {
      "codemirror_mode": {
        "name": "ipython",
        "version": 3
      },
      "file_extension": ".py",
      "mimetype": "text/x-python",
      "name": "python",
      "nbconvert_exporter": "python",
      "pygments_lexer": "ipython3",
      "version": "3.12.8"
    },
    "colab": {
      "provenance": []
    }
  },
  "nbformat": 4,
  "nbformat_minor": 5
}