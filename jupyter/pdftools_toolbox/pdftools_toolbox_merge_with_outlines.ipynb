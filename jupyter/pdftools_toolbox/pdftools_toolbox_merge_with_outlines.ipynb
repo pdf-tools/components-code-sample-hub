{
  "cells": [
    {
      "cell_type": "markdown",
      "id": "b128d877-8cab-4979-81db-76966925f75d",
      "metadata": {
          "id": "eb9c8674-2637-447a-9fae-a02270aa7bce"
      },
      "source": [
        "[![Open In Colab](https://colab.research.google.com/assets/colab-badge.svg)](https://colab.research.google.com/github/pdf-tools/components-code-sample-hub/blob/main/jupyter/pdftools_toolbox/pdftools_toolbox_merge_with_outlines.ipynb)"
      ]
    },
    {
      "cell_type": "code",
      "execution_count": null,
      "id": "1b26c45a-afbf-40ca-b2ed-bdbb40a4000d",
      "metadata": {
          "id": "cc38b653-4992-4965-beb4-ff249ee50795"
      },
      "outputs": [],
      "source": [
        "%pip install https://pdftools-public-downloads-production.s3.eu-west-1.amazonaws.com/productkits/PDFSDKXT/latest/pdftools_toolbox-latest.tar.gz\n",
        "%pip install ipython"
      ]
    },
    {
      "cell_type": "markdown",
      "id": "90abfdc8-a4dc-463a-aa82-6bd565a45059",
      "metadata": {
          "id": "2ffaea16-7625-4e96-863e-12dc42c1db3b"
      },
      "source": [
        "# Merge multiple PDFs with outlines\n",
        "Merge several PDF documents to one, while creating an\n",
        "outline item for each input document."
      ]
    },
    {
      "cell_type": "code",
      "execution_count": null,
      "id": "fbab60c5-b247-48c4-ae3d-a3b28bb82a3e",
      "metadata": {
          "id": "26e271df-5ff0-4850-89ac-8e1c195e0f10"
      },
      "outputs": [],
      "source": [
        "import io\n",
        "import os\n",
        "from pdftools_toolbox.pdf import Document, PageCopyOptions, PageList\n",
        "from pdftools_toolbox.pdf.navigation import LocationZoomDestination, OutlineCopyOptions, OutlineItem"
      ]
    },
    {
      "cell_type": "code",
      "execution_count": null,
      "id": "88a10c2a-56a4-4ba6-aa14-6bfb586e44d3",
      "metadata": {
          "id": "441a13a3-5d7d-4544-89c2-93c0a1899718"
      },
      "outputs": [],
      "source": [
        "# Download a file from a given URL and save it to the local system\n",
        "def prepare_file(url: str, path: str):\n",
        "    import requests\n",
        "    response = requests.get(url)\n",
        "    response.raise_for_status()\n",
        "\n",
        "    with open(path, 'wb') as f:\n",
        "        f.write(response.content)"
      ]
    },
    {
      "cell_type": "code",
      "execution_count": null,
      "id": "1c87d2e5-4b66-4ce4-b0c7-17b1429c790f",
      "metadata": {
          "id": "97648baa-3248-46b3-9fec-6fc89b44baec"
      },
      "outputs": [],
      "source": [
        "# Set input arguments\n",
        "input_url1 = 'https://pdftools-public-downloads-production.s3.eu-west-1.amazonaws.com/samples/testfiles/GraphicsNone.pdf'\n",
        "input_url2 = 'https://pdftools-public-downloads-production.s3.eu-west-1.amazonaws.com/samples/testfiles/BlankNoneNoTP.pdf'\n",
        "input_paths = ['GraphicsNone.pdf', 'BlankNoneNoTP.pdf']\n",
        "prepare_file(input_url1, input_paths[0])\n",
        "prepare_file(input_url2, input_paths[1])\n",
        "output_file_path = 'MergedWithOutlines.pdf'"
      ]
    },
    {
      "cell_type": "code",
      "execution_count": null,
      "id": "d3ec1b87-9d84-437f-b3f2-74efcd97e568",
      "metadata": {
          "id": "54726bda-e520-4c1b-86b4-edef8be237f7"
      },
      "outputs": [],
      "source": [
        "try:\n",
        "    # Set and check license key. If the license key is not valid, an exception is thrown.\n",
        "    from pdftools_toolbox.sdk import Sdk\n",
        "    Sdk.initialize(\"<PDFSDK,V1,MGAASQD6L2JMQHL54PK08RQX8GG4SS0M8DAHVPH0VMP3NB8R9DUK>\", None)\n",

        "\n",
        "    # Create output document\n",
        "    with open(output_file_path, \"wb+\") as out_stream:\n",
        "        with Document.create(out_stream, None, None) as out_doc:\n",
        "    \n",
        "            # Define page copy options\n",
        "            page_copy_options = PageCopyOptions()\n",
        "            page_copy_options.copy_outline_items = False\n",
        "    \n",
        "            # Define outline copy options\n",
        "            outline_copy_options = OutlineCopyOptions()\n",
        "    \n",
        "            # Get output pages\n",
        "            out_pages = out_doc.pages\n",
        "    \n",
        "            # Merge input documents\n",
        "            for input_path in input_paths:\n",
        "                # Open input document\n",
        "                with open(input_path, \"rb\") as in_stream:\n",
        "                    with Document.open(in_stream, None) as in_doc:\n",
        "    \n",
        "                        # Copy all pages and append to output document\n",
        "                        copied_pages = PageList.copy(out_doc, in_doc.pages, page_copy_options)\n",
        "                        out_pages.extend(copied_pages)\n",
        "    \n",
        "                        # Create outline item\n",
        "                        title = in_doc.metadata.title or os.path.basename(input_path)\n",
        "                        first_copied_page = copied_pages[0]\n",
        "                        destination = LocationZoomDestination.create(out_doc, first_copied_page, 0, first_copied_page.size.height, None)\n",
        "                        outline_item = OutlineItem.create(out_doc, title, destination)\n",
        "                        out_doc.outline.append(outline_item)\n",
        "    \n",
        "                        # Add outline items from input document as children\n",
        "                        children = outline_item.children\n",
        "                        for in_outline_item in in_doc.outline:\n",
        "                            children.append(OutlineItem.copy(out_doc, in_outline_item, outline_copy_options))\n",

        "\n",
        "    print(\"Execution successful.\")\n",

        "except Exception as e:\n",
        "    print(f\"An error occurred: {e}\")"
      ]
    }
  ],
  "metadata": {
    "kernelspec": {
      "display_name": "Python 3",
      "language": "python",
      "name": "python3"
    },
    "language_info": {
      "codemirror_mode": {
        "name": "ipython",
        "version": 3
      },
      "file_extension": ".py",
      "mimetype": "text/x-python",
      "name": "python",
      "nbconvert_exporter": "python",
      "pygments_lexer": "ipython3",
      "version": "3.12.8"
    },
    "colab": {
      "provenance": []
    }
  },
  "nbformat": 4,
  "nbformat_minor": 5
}