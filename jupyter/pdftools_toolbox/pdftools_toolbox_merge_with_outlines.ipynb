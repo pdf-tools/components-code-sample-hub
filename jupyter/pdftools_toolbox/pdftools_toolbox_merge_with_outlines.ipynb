{
  "cells": [
    {
      "cell_type": "markdown",
      "id": "cd9436ea-f90c-492b-89fe-245d1f8d1a32",
      "metadata": {
          "id": "5241dfdc-d40b-4798-ae46-366ef484fab8"
      },
      "source": [
        "[![Open In Colab](https://colab.research.google.com/assets/colab-badge.svg)](https://colab.research.google.com/github/pdf-tools/components-code-sample-hub/blob/main/jupyter/pdftools_toolbox/pdftools_toolbox_merge_with_outlines.ipynb)"
      ]
    },
    {
      "cell_type": "code",
      "execution_count": null,
      "id": "71b1516a-aba4-483a-905b-56ee8ec5736c",
      "metadata": {
          "id": "f9e35e6a-cb75-4354-8722-d3ead2d4f0ec"
      },
      "outputs": [],
      "source": [
        "%pip install https://pdftools-public-downloads-production.s3.eu-west-1.amazonaws.com/productkits/PDFSDKXT/latest/pdftools_toolbox-latest.tar.gz\n",
        "%pip install ipython"
      ]
    },
    {
      "cell_type": "markdown",
      "id": "d80af9ab-6859-4e87-ac4d-c9c728d5bded",
      "metadata": {
          "id": "d081aa99-c92d-4815-9b86-fde1bc52aa63"
      },
      "source": [
        "# Merge multiple PDFs with outlines\n",
        "Merge several PDF documents to one, while creating an\n",
        "outline item for each input document."
      ]
    },
    {
      "cell_type": "code",
      "execution_count": null,
      "id": "6f1efccd-dbcb-4ebd-bef4-2a63962bb0eb",
      "metadata": {
          "id": "9ba6a30f-1f15-46ee-bf17-d12e49a8583c"
      },
      "outputs": [],
      "source": [
        "import io\n",
        "import os\n",
        "from pdftools_toolbox.pdf import Document, PageCopyOptions, PageList\n",
        "from pdftools_toolbox.pdf.navigation import LocationZoomDestination, OutlineCopyOptions, OutlineItem"
      ]
    },
    {
      "cell_type": "code",
      "execution_count": null,
      "id": "34cc37ed-07bc-44f4-82bf-b31e053f83c9",
      "metadata": {
          "id": "c538b2ec-51e3-4b56-a2b6-d527b86c7cf0"
      },
      "outputs": [],
      "source": [
        "# Download a file from a given URL and save it to the local system\n",
        "def prepare_file(url: str, path: str):\n",
        "    import requests\n",
        "    response = requests.get(url)\n",
        "    response.raise_for_status()\n",
        "\n",
        "    with open(path, 'wb') as f:\n",
        "        f.write(response.content)"
      ]
    },
    {
      "cell_type": "code",
      "execution_count": null,
      "id": "f1234046-ff35-4c10-a785-99f262d4a53f",
      "metadata": {
          "id": "21ec8da6-5880-44db-8c74-0785fbc01c5c"
      },
      "outputs": [],
      "source": [
        "# Set input arguments\n",
        "input_url1 = 'https://pdftools-public-downloads-production.s3.eu-west-1.amazonaws.com/samples/testfiles/GraphicsNone.pdf'\n",
        "input_url2 = 'https://pdftools-public-downloads-production.s3.eu-west-1.amazonaws.com/samples/testfiles/BlankNoneNoTP.pdf'\n",
        "input_paths = ['GraphicsNone.pdf', 'BlankNoneNoTP.pdf']\n",
        "prepare_file(input_url1, input_paths[0])\n",
        "prepare_file(input_url2, input_paths[1])\n",
        "output_file_path = 'MergedWithOutlines.pdf'"
      ]
    },
    {
      "cell_type": "code",
      "execution_count": null,
      "id": "1bed2e5a-6157-4ec0-ad01-9b3ebc85f913",
      "metadata": {
          "id": "bf79d4e7-2df8-4102-b21c-a383ecf685cb"
      },
      "outputs": [],
      "source": [
        "try:\n",
        "    # Set and check license key. If the license key is not valid, an exception is thrown.\n",
        "    from pdftools_toolbox.sdk import Sdk\n",
        "    Sdk.initialize(\"INSERT-LICENSE-KEY\", None)\n",

        "\n",
        "    # Create output document\n",
        "    with open(output_file_path, \"wb+\") as out_stream:\n",
        "        with Document.create(out_stream, None, None) as out_doc:\n",
        "    \n",
        "            # Define page copy options\n",
        "            page_copy_options = PageCopyOptions()\n",
        "            page_copy_options.copy_outline_items = False\n",
        "    \n",
        "            # Define outline copy options\n",
        "            outline_copy_options = OutlineCopyOptions()\n",
        "    \n",
        "            # Get output pages\n",
        "            out_pages = out_doc.pages\n",
        "    \n",
        "            # Merge input documents\n",
        "            for input_path in input_paths:\n",
        "                # Open input document\n",
        "                with open(input_path, \"rb\") as in_stream:\n",
        "                    with Document.open(in_stream, None) as in_doc:\n",
        "    \n",
        "                        # Copy all pages and append to output document\n",
        "                        copied_pages = PageList.copy(out_doc, in_doc.pages, page_copy_options)\n",
        "                        out_pages.extend(copied_pages)\n",
        "    \n",
        "                        # Create outline item\n",
        "                        title = in_doc.metadata.title or os.path.basename(input_path)\n",
        "                        first_copied_page = copied_pages[0]\n",
        "                        destination = LocationZoomDestination.create(out_doc, first_copied_page, 0, first_copied_page.size.height, None)\n",
        "                        outline_item = OutlineItem.create(out_doc, title, destination)\n",
        "                        out_doc.outline.append(outline_item)\n",
        "    \n",
        "                        # Add outline items from input document as children\n",
        "                        children = outline_item.children\n",
        "                        for in_outline_item in in_doc.outline:\n",
        "                            children.append(OutlineItem.copy(out_doc, in_outline_item, outline_copy_options))\n",

        "\n",
        "    print(\"Execution successful.\")\n",

        "except Exception as e:\n",
        "    print(f\"An error occurred: {e}\")"
      ]
    }
  ],
  "metadata": {
    "kernelspec": {
      "display_name": "Python 3",
      "language": "python",
      "name": "python3"
    },
    "language_info": {
      "codemirror_mode": {
        "name": "ipython",
        "version": 3
      },
      "file_extension": ".py",
      "mimetype": "text/x-python",
      "name": "python",
      "nbconvert_exporter": "python",
      "pygments_lexer": "ipython3",
      "version": "3.12.8"
    },
    "colab": {
      "provenance": []
    }
  },
  "nbformat": 4,
  "nbformat_minor": 5
}