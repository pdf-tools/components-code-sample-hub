{
  "cells": [
    {
      "cell_type": "markdown",
      "id": "e0487caa-ea1f-429e-96a5-2925fd11e155",
      "metadata": {
          "id": "bf97dd28-0a91-4a85-ad68-7a6f1f5db210"
      },
      "source": [
        "[![Open In Colab](https://colab.research.google.com/assets/colab-badge.svg)](https://colab.research.google.com/github/pdf-tools/components-code-sample-hub/blob/main/jupyter/pdftools_toolbox/pdftools_toolbox_add_metadata.ipynb)"
      ]
    },
    {
      "cell_type": "code",
      "execution_count": null,
      "id": "a17f09cb-610b-4935-bfd2-b9d4a4311239",
      "metadata": {
          "id": "ee4dc28e-a928-4217-8012-4f7637076826"
      },
      "outputs": [],
      "source": [
        "%pip install https://pdftools-public-downloads-production.s3.eu-west-1.amazonaws.com/productkits/PDFSDKXT/latest/pdftools_toolbox-latest.tar.gz\n",
        "%pip install ipython"
      ]
    },
    {
      "cell_type": "markdown",
      "id": "134262b8-f4d2-40b0-83ae-9384ab011ab5",
      "metadata": {
          "id": "b99598eb-3d85-4541-a77b-51aa7fbfe98d"
      },
      "source": [
        "# Add metadata to PDF\n",
        "Set metadata such as author, title, and creator of a PDF\n",
        "document. Optionally use the metadata of another PDF\n",
        "document or the content of an XMP file."
      ]
    },
    {
      "cell_type": "code",
      "execution_count": null,
      "id": "cc5af199-c75c-4631-bd10-e4be725a4052",
      "metadata": {
          "id": "afb89f3e-fc32-4d06-8f71-58288b8c4147"
      },
      "outputs": [],
      "source": [
        "import io\n",
        "from pdftools_toolbox.pdf import Document, FileReference, Metadata, PageCopyOptions, PageList\n",
        "from pdftools_toolbox.pdf.content import IccBasedColorSpace\n",
        "from pdftools_toolbox.pdf.navigation import ViewerSettings"
      ]
    },
    {
      "cell_type": "code",
      "execution_count": null,
      "id": "05b5964a-aebc-420a-83a0-226d563a5984",
      "metadata": {
          "id": "29790a01-c566-4100-9622-32d17916a74c"
      },
      "outputs": [],
      "source": [
        "# Download a file from a given URL and save it to the local system\n",
        "def prepare_file(url: str, path: str):\n",
        "    import requests\n",
        "    response = requests.get(url)\n",
        "    response.raise_for_status()\n",
        "\n",
        "    with open(path, 'wb') as f:\n",
        "        f.write(response.content)"
      ]
    },
    {
      "cell_type": "code",
      "execution_count": null,
      "id": "08c0718b-071b-4fed-9891-0adeb87624ac",
      "metadata": {
          "id": "c2f56ffc-ecb4-4475-9ff0-ddd40bac188c"
      },
      "outputs": [],
      "source": [
        "# Set input arguments\n",
        "input_url = 'https://pdftools-public-downloads-production.s3.eu-west-1.amazonaws.com/samples/testfiles/BlankNone.pdf'\n",
        "input_file_path = 'BlankNone.pdf'\n",
        "prepare_file(input_url, input_file_path)\n",
        "metadata_url = 'https://pdftools-public-downloads-production.s3.eu-west-1.amazonaws.com/samples/testfiles/MetadataTest.xmp'\n",
        "metadata_file_path = 'MetadataTest.xmp'\n",
        "prepare_file(metadata_url, metadata_file_path)\n",
        "output_file_path = 'BlankWithMetadata.pdf'"
      ]
    },
    {
      "cell_type": "code",
      "execution_count": null,
      "id": "973843ff-812d-405b-87b9-766fbbef7bc9",
      "metadata": {
          "id": "2653d5c9-769e-4605-9b6c-285deaef51c9"
      },
      "outputs": [],
      "source": [
        "def copy_document_data(in_doc: Document, out_doc: Document):\n",
        "    # Copy document-wide data (excluding metadata)\n",
        "\n",
        "    # Output intent\n",
        "    if in_doc.output_intent is not None:\n",
        "        in_doc.output_intent = IccBasedColorSpace.copy(out_doc, in_doc.output_intent)\n",
        "\n",
        "    # Viewer settings\n",
        "    out_doc.viewer_settings = ViewerSettings.copy(out_doc, in_doc.viewer_settings)\n",
        "\n",
        "    # Associated files (for PDF/A-3 and PDF 2.0 only)\n",
        "    outAssociatedFiles = out_doc.associated_files\n",
        "    for in_file_ref in in_doc.associated_files:\n",
        "        outAssociatedFiles.append(FileReference.copy(out_doc, in_file_ref))\n",
        "\n",
        "    # Plain embedded files\n",
        "    out_embedded_files = out_doc.plain_embedded_files\n",
        "    for in_file_ref in in_doc.plain_embedded_files:\n",
        "        out_embedded_files.append(FileReference.copy(out_doc, in_file_ref))"
      ]
    },
    {
      "cell_type": "code",
      "execution_count": null,
      "id": "71bfcdf2-cd5f-43d5-8f4f-6a94900e6f41",
      "metadata": {
          "id": "23fff93f-9a3d-4ac3-b052-416a8d385461"
      },
      "outputs": [],
      "source": [
        "try:\n",
        "    # Set and check license key. If the license key is not valid, an exception is thrown.\n",
        "    from pdftools_toolbox.sdk import Sdk\n",
        "    Sdk.initialize(\"INSERT-LICENSE-KEY\", None)\n",

        "\n",
        "    # Open input document\n",
        "    with io.FileIO(input_file_path, 'rb') as content_pdf_stream:\n",
        "        with Document.open(content_pdf_stream, None) as content_pdf_document:\n",
        "    \n",
        "            # Create output document\n",
        "            with io.FileIO(output_file_path, 'wb+') as output_stream:\n",
        "                with Document.create(output_stream, content_pdf_document.conformance, None) as output_document:\n",
        "                    # Copy document-wide data\n",
        "                    copy_document_data(content_pdf_document, output_document)\n",
        "    \n",
        "                    # Set Metadata\n",
        "                    if metadata_file_path is not None:\n",
        "                        with io.FileIO(metadata_file_path, 'rb') as metadata_stream:\n",
        "                            if metadata_file_path.endswith(\".pdf\"):\n",
        "                                # Use the metadata of another PDF file\n",
        "                                with Document.open(metadata_stream, \"\") as meta_doc:\n",
        "                                    mdata = Metadata.copy(output_document, meta_doc.metadata)\n",
        "                            else:\n",
        "                                # Use the content of an XMP metadata file\n",
        "                                mdata = Metadata.create(output_document, metadata_stream)\n",
        "                    else:\n",
        "                        mdata = output_document.metadata\n",
        "                        mdata.author = \"Your Author\"\n",
        "                        mdata.title = \"Your Title\"\n",
        "                        mdata.subject = \"Your Subject\"\n",
        "                        mdata.creator = \"Your Creator\"\n",
        "    \n",
        "                    output_document.metadata = mdata\n",
        "    \n",
        "                    # Define page copy options\n",
        "                    copy_options = PageCopyOptions()\n",
        "    \n",
        "                    # Copy all pages and append to output document\n",
        "                    copied_pages = PageList.copy(output_document, content_pdf_document.pages, copy_options)\n",
        "                    output_document.pages.extend(copied_pages)\n",

        "\n",
        "    print(\"Execution successful.\")\n",

        "except Exception as e:\n",
        "    print(f\"An error occurred: {e}\")"
      ]
    }
  ],
  "metadata": {
    "kernelspec": {
      "display_name": "Python 3",
      "language": "python",
      "name": "python3"
    },
    "language_info": {
      "codemirror_mode": {
        "name": "ipython",
        "version": 3
      },
      "file_extension": ".py",
      "mimetype": "text/x-python",
      "name": "python",
      "nbconvert_exporter": "python",
      "pygments_lexer": "ipython3",
      "version": "3.12.8"
    },
    "colab": {
      "provenance": []
    }
  },
  "nbformat": 4,
  "nbformat_minor": 5
}