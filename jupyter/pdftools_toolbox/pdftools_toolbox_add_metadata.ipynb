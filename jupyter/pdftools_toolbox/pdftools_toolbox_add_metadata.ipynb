{
  "cells": [
    {
      "cell_type": "markdown",
      "id": "d7ea7970-f2d9-41a5-8b40-6ae01db8bbcf",
      "metadata": {
          "id": "e2f7bf69-c37a-4482-828d-3723dc454fba"
      },
      "source": [
        "[![Open In Colab](https://colab.research.google.com/assets/colab-badge.svg)](https://colab.research.google.com/github/pdf-tools/components-code-sample-hub/blob/main/jupyter/pdftools_toolbox/pdftools_toolbox_add_metadata.ipynb)"
      ]
    },
    {
      "cell_type": "code",
      "execution_count": null,
      "id": "40dad884-24d3-4386-b305-0ee0e53ffdd8",
      "metadata": {
          "id": "a02faccc-a991-4d70-bff5-51c7d8a3d87f"
      },
      "outputs": [],
      "source": [
        "%pip install pdftools_toolbox\n",
        "%pip install ipython"
      ]
    },
    {
      "cell_type": "markdown",
      "id": "3d454472-d68e-474d-877c-6f0a40a94187",
      "metadata": {
          "id": "caf3642a-901e-4dc6-b1e3-8e56505ce01b"
      },
      "source": [
        "# Add metadata to PDF\n",
        "Set metadata such as author, title, and creator of a PDF\n",
        "document. Optionally use the metadata of another PDF\n",
        "document or the content of an XMP file."
      ]
    },
    {
      "cell_type": "code",
      "execution_count": null,
      "id": "64acd0bb-6682-42a5-aea5-6bc616f99894",
      "metadata": {
          "id": "c881d7e4-a018-4a48-8784-1f93a8223901"
      },
      "outputs": [],
      "source": [
        "import io\n",
        "from pdftools_toolbox.pdf import Document, FileReference, Metadata, PageCopyOptions, PageList\n",
        "from pdftools_toolbox.pdf.content import IccBasedColorSpace\n",
        "from pdftools_toolbox.pdf.navigation import ViewerSettings"
      ]
    },
    {
      "cell_type": "code",
      "execution_count": null,
      "id": "9d9a8630-6680-414d-9a8a-c9f8e8f1762d",
      "metadata": {
          "id": "25477a6e-719f-41e4-afe9-3e075fd713ee"
      },
      "outputs": [],
      "source": [
        "# Download a file from a given URL and save it to the local system\n",
        "def prepare_file(url: str, path: str):\n",
        "    import requests\n",
        "    response = requests.get(url)\n",
        "    response.raise_for_status()\n",
        "\n",
        "    with open(path, 'wb') as f:\n",
        "        f.write(response.content)"
      ]
    },
    {
      "cell_type": "code",
      "execution_count": null,
      "id": "dee3cd80-cc70-418f-aaa7-bd3d75c3feed",
      "metadata": {
          "id": "fee47e9a-b56d-4388-91d3-c03764a51d1b"
      },
      "outputs": [],
      "source": [
        "# Set input arguments\n",
        "input_url = 'https://pdftools-public-downloads-production.s3.eu-west-1.amazonaws.com/samples/testfiles/BlankNone.pdf'\n",
        "input_file_path = 'BlankNone.pdf'\n",
        "prepare_file(input_url, input_file_path)\n",
        "metadata_url = 'https://pdftools-public-downloads-production.s3.eu-west-1.amazonaws.com/samples/testfiles/MetadataTest.xmp'\n",
        "metadata_file_path = 'MetadataTest.xmp'\n",
        "prepare_file(metadata_url, metadata_file_path)\n",
        "output_file_path = 'BlankWithMetadata.pdf'"
      ]
    },
    {
      "cell_type": "code",
      "execution_count": null,
      "id": "2a38cc5d-9e91-41fd-944e-848e8b751ebd",
      "metadata": {
          "id": "831d7f0c-a6a9-4fcb-928a-44007cc2314e"
      },
      "outputs": [],
      "source": [
        "def copy_document_data(in_doc: Document, out_doc: Document):\n",
        "    # Copy document-wide data (excluding metadata)\n",
        "\n",
        "    # Output intent\n",
        "    if in_doc.output_intent is not None:\n",
        "        in_doc.output_intent = IccBasedColorSpace.copy(out_doc, in_doc.output_intent)\n",
        "\n",
        "    # Viewer settings\n",
        "    out_doc.viewer_settings = ViewerSettings.copy(out_doc, in_doc.viewer_settings)\n",
        "\n",
        "    # Associated files (for PDF/A-3 and PDF 2.0 only)\n",
        "    outAssociatedFiles = out_doc.associated_files\n",
        "    for in_file_ref in in_doc.associated_files:\n",
        "        outAssociatedFiles.append(FileReference.copy(out_doc, in_file_ref))\n",
        "\n",
        "    # Plain embedded files\n",
        "    out_embedded_files = out_doc.plain_embedded_files\n",
        "    for in_file_ref in in_doc.plain_embedded_files:\n",
        "        out_embedded_files.append(FileReference.copy(out_doc, in_file_ref))"
      ]
    },
    {
      "cell_type": "code",
      "execution_count": null,
      "id": "82bfd6b0-d379-400a-94f2-750955e93e12",
      "metadata": {
          "id": "3ddc81c6-4337-4f9a-b3d4-5503bf76b075"
      },
      "outputs": [],
      "source": [
        "try:\n",
        "    # Set and check license key. If the license key is not valid, an exception is thrown.\n",
        "    from pdftools_toolbox.sdk import Sdk\n",
        "    Sdk.initialize(\"INSERT-LICENSE-KEY\", None)\n",

        "\n",
        "    # Open input document\n",
        "    with io.FileIO(input_file_path, 'rb') as content_pdf_stream:\n",
        "        with Document.open(content_pdf_stream, None) as content_pdf_document:\n",
        "    \n",
        "            # Create output document\n",
        "            with io.FileIO(output_file_path, 'wb+') as output_stream:\n",
        "                with Document.create(output_stream, content_pdf_document.conformance, None) as output_document:\n",
        "                    # Copy document-wide data\n",
        "                    copy_document_data(content_pdf_document, output_document)\n",
        "    \n",
        "                    # Set Metadata\n",
        "                    if metadata_file_path is not None:\n",
        "                        with io.FileIO(metadata_file_path, 'rb') as metadata_stream:\n",
        "                            if metadata_file_path.endswith(\".pdf\"):\n",
        "                                # Use the metadata of another PDF file\n",
        "                                with Document.open(metadata_stream, \"\") as meta_doc:\n",
        "                                    mdata = Metadata.copy(output_document, meta_doc.metadata)\n",
        "                            else:\n",
        "                                # Use the content of an XMP metadata file\n",
        "                                mdata = Metadata.create(output_document, metadata_stream)\n",
        "                    else:\n",
        "                        mdata = output_document.metadata\n",
        "                        mdata.author = \"Your Author\"\n",
        "                        mdata.title = \"Your Title\"\n",
        "                        mdata.subject = \"Your Subject\"\n",
        "                        mdata.creator = \"Your Creator\"\n",
        "    \n",
        "                    output_document.metadata = mdata\n",
        "    \n",
        "                    # Define page copy options\n",
        "                    copy_options = PageCopyOptions()\n",
        "    \n",
        "                    # Copy all pages and append to output document\n",
        "                    copied_pages = PageList.copy(output_document, content_pdf_document.pages, copy_options)\n",
        "                    output_document.pages.extend(copied_pages)\n",

        "\n",
        "    print(\"Execution successful.\")\n",

        "except Exception as e:\n",
        "    print(f\"An error occurred: {e}\")"
      ]
    }
  ],
  "metadata": {
    "kernelspec": {
      "display_name": "Python 3",
      "language": "python",
      "name": "python3"
    },
    "language_info": {
      "codemirror_mode": {
        "name": "ipython",
        "version": 3
      },
      "file_extension": ".py",
      "mimetype": "text/x-python",
      "name": "python",
      "nbconvert_exporter": "python",
      "pygments_lexer": "ipython3",
      "version": "3.12.8"
    },
    "colab": {
      "provenance": []
    }
  },
  "nbformat": 4,
  "nbformat_minor": 5
}