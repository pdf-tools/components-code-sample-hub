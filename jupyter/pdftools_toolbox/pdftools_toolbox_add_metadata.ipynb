{
  "cells": [
    {
      "cell_type": "markdown",
      "id": "89ec1a28-50c2-4fd6-8c29-5ae41cc5c1cb",
      "metadata": {
          "id": "5e623d0c-b81f-4543-8397-3fb2389649a3"
      },
      "source": [
        "[![Open In Colab](https://colab.research.google.com/assets/colab-badge.svg)](https://colab.research.google.com/github/pdf-tools/components-code-sample-hub/blob/main/jupyter/pdftools_toolbox/pdftools_toolbox_add_metadata.ipynb)"
      ]
    },
    {
      "cell_type": "code",
      "execution_count": null,
      "id": "143879ac-44b9-4bcb-b529-4e9ba6179819",
      "metadata": {
          "id": "66fe78be-bae6-4c5d-8bf5-453fdb4a4075"
      },
      "outputs": [],
      "source": [
        "%pip install https://pdftools-public-downloads-production.s3.eu-west-1.amazonaws.com/productkits/PDFSDKXT/latest/pdftools_toolbox-latest.tar.gz\n",
        "%pip install ipython"
      ]
    },
    {
      "cell_type": "markdown",
      "id": "667832f4-338b-4644-af8d-c063d0cb9bd5",
      "metadata": {
          "id": "81540d02-856f-4064-9fb0-876c1ebeabdc"
      },
      "source": [
        "# Add metadata to PDF\n",
        "Set metadata such as author, title, and creator of a PDF\n",
        "document. Optionally use the metadata of another PDF\n",
        "document or the content of an XMP file."
      ]
    },
    {
      "cell_type": "code",
      "execution_count": null,
      "id": "d885997d-d7ee-48f3-8e17-e739920e914a",
      "metadata": {
          "id": "663b9f20-68a2-48fe-9e06-cb8affa5267c"
      },
      "outputs": [],
      "source": [
        "import io\n",
        "from pdftools_toolbox.pdf import Document, FileReference, Metadata, PageCopyOptions, PageList\n",
        "from pdftools_toolbox.pdf.content import IccBasedColorSpace\n",
        "from pdftools_toolbox.pdf.navigation import ViewerSettings"
      ]
    },
    {
      "cell_type": "code",
      "execution_count": null,
      "id": "be50780a-2433-4320-a8ca-ff1016cd4cb5",
      "metadata": {
          "id": "5cc15ea3-d8ce-4b0b-9e3b-2d19a29da142"
      },
      "outputs": [],
      "source": [
        "# Download a file from a given URL and save it to the local system\n",
        "def prepare_file(url: str, path: str):\n",
        "    import requests\n",
        "    response = requests.get(url)\n",
        "    response.raise_for_status()\n",
        "\n",
        "    with open(path, 'wb') as f:\n",
        "        f.write(response.content)"
      ]
    },
    {
      "cell_type": "code",
      "execution_count": null,
      "id": "e96d3ffc-e28a-402a-93c8-b24e413af2d1",
      "metadata": {
          "id": "bd218dfc-1249-42f4-a39b-88c479fe6621"
      },
      "outputs": [],
      "source": [
        "# Set input arguments\n",
        "input_url = 'https://pdftools-public-downloads-production.s3.eu-west-1.amazonaws.com/samples/testfiles/BlankNone.pdf'\n",
        "input_file_path = 'BlankNone.pdf'\n",
        "prepare_file(input_url, input_file_path)\n",
        "metadata_url = 'https://pdftools-public-downloads-production.s3.eu-west-1.amazonaws.com/samples/testfiles/MetadataTest.xmp'\n",
        "metadata_file_path = 'MetadataTest.xmp'\n",
        "prepare_file(metadata_url, metadata_file_path)\n",
        "output_file_path = 'BlankWithMetadata.pdf'"
      ]
    },
    {
      "cell_type": "code",
      "execution_count": null,
      "id": "c736d172-f714-4fd5-920d-180c51670080",
      "metadata": {
          "id": "33e0d673-5fff-4744-b512-788ed4e967c4"
      },
      "outputs": [],
      "source": [
        "def copy_document_data(in_doc: Document, out_doc: Document):\n",
        "    # Copy document-wide data (excluding metadata)\n",
        "\n",
        "    # Output intent\n",
        "    if in_doc.output_intent is not None:\n",
        "        in_doc.output_intent = IccBasedColorSpace.copy(out_doc, in_doc.output_intent)\n",
        "\n",
        "    # Viewer settings\n",
        "    out_doc.viewer_settings = ViewerSettings.copy(out_doc, in_doc.viewer_settings)\n",
        "\n",
        "    # Associated files (for PDF/A-3 and PDF 2.0 only)\n",
        "    outAssociatedFiles = out_doc.associated_files\n",
        "    for in_file_ref in in_doc.associated_files:\n",
        "        outAssociatedFiles.append(FileReference.copy(out_doc, in_file_ref))\n",
        "\n",
        "    # Plain embedded files\n",
        "    out_embedded_files = out_doc.plain_embedded_files\n",
        "    for in_file_ref in in_doc.plain_embedded_files:\n",
        "        out_embedded_files.append(FileReference.copy(out_doc, in_file_ref))"
      ]
    },
    {
      "cell_type": "code",
      "execution_count": null,
      "id": "7a84072c-fdb7-429c-9b28-71ba313d04da",
      "metadata": {
          "id": "c8399371-fa37-41a3-88df-ed8934e0e689"
      },
      "outputs": [],
      "source": [
        "try:\n",
        "    # Set and check license key. If the license key is not valid, an exception is thrown.\n",
        "    from pdftools_toolbox.sdk import Sdk\n",
        "    Sdk.initialize(\"<PDFSDK,V1,MGAASQD6L2JMQHL54PK08RQX8GG4SS0M8DAHVPH0VMP3NB8R9DUK>\", None)\n",

        "\n",
        "    # Open input document\n",
        "    with io.FileIO(input_file_path, 'rb') as content_pdf_stream:\n",
        "        with Document.open(content_pdf_stream, None) as content_pdf_document:\n",
        "    \n",
        "            # Create output document\n",
        "            with io.FileIO(output_file_path, 'wb+') as output_stream:\n",
        "                with Document.create(output_stream, content_pdf_document.conformance, None) as output_document:\n",
        "                    # Copy document-wide data\n",
        "                    copy_document_data(content_pdf_document, output_document)\n",
        "    \n",
        "                    # Set Metadata\n",
        "                    if metadata_file_path is not None:\n",
        "                        with io.FileIO(metadata_file_path, 'rb') as metadata_stream:\n",
        "                            if metadata_file_path.endswith(\".pdf\"):\n",
        "                                # Use the metadata of another PDF file\n",
        "                                with Document.open(metadata_stream, \"\") as meta_doc:\n",
        "                                    mdata = Metadata.copy(output_document, meta_doc.metadata)\n",
        "                            else:\n",
        "                                # Use the content of an XMP metadata file\n",
        "                                mdata = Metadata.create(output_document, metadata_stream)\n",
        "                    else:\n",
        "                        mdata = output_document.metadata\n",
        "                        mdata.author = \"Your Author\"\n",
        "                        mdata.title = \"Your Title\"\n",
        "                        mdata.subject = \"Your Subject\"\n",
        "                        mdata.creator = \"Your Creator\"\n",
        "    \n",
        "                    output_document.metadata = mdata\n",
        "    \n",
        "                    # Define page copy options\n",
        "                    copy_options = PageCopyOptions()\n",
        "    \n",
        "                    # Copy all pages and append to output document\n",
        "                    copied_pages = PageList.copy(output_document, content_pdf_document.pages, copy_options)\n",
        "                    output_document.pages.extend(copied_pages)\n",

        "\n",
        "    print(\"Execution successful.\")\n",

        "except Exception as e:\n",
        "    print(f\"An error occurred: {e}\")"
      ]
    }
  ],
  "metadata": {
    "kernelspec": {
      "display_name": "Python 3",
      "language": "python",
      "name": "python3"
    },
    "language_info": {
      "codemirror_mode": {
        "name": "ipython",
        "version": 3
      },
      "file_extension": ".py",
      "mimetype": "text/x-python",
      "name": "python",
      "nbconvert_exporter": "python",
      "pygments_lexer": "ipython3",
      "version": "3.12.8"
    },
    "colab": {
      "provenance": []
    }
  },
  "nbformat": 4,
  "nbformat_minor": 5
}