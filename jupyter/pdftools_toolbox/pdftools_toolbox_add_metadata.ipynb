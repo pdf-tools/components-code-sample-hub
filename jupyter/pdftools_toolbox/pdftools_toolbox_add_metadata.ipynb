{
  "cells": [
    {
      "cell_type": "markdown",
      "id": "f872daa6-53a4-4ee9-a097-7f86782e068b",
      "metadata": {
          "id": "1e94f639-def2-4e65-af91-51784786fde1"
      },
      "source": [
        "[![Open In Colab](https://colab.research.google.com/assets/colab-badge.svg)](https://colab.research.google.com/github/pdf-tools/components-code-sample-hub/blob/main/jupyter/pdftools_toolbox/pdftools_toolbox_add_metadata.ipynb)"
      ]
    },
    {
      "cell_type": "code",
      "execution_count": null,
      "id": "a587aa17-935d-4bb3-b71c-760c6247869a",
      "metadata": {
          "id": "9444b580-c01b-46b3-a4a7-b79946485e82"
      },
      "outputs": [],
      "source": [
        "%pip install https://pdftools-public-downloads-production.s3.eu-west-1.amazonaws.com/productkits/PDFSDKXT/latest/pdftools_toolbox-latest.tar.gz\n",
        "%pip install ipython"
      ]
    },
    {
      "cell_type": "markdown",
      "id": "33dc6d9d-4d76-4a90-b156-60af225dd168",
      "metadata": {
          "id": "05f2af7d-af48-4617-a34c-957d4128bcaa"
      },
      "source": [
        "# Add metadata to PDF\n",
        "Set metadata such as author, title, and creator of a PDF\n",
        "document. Optionally use the metadata of another PDF\n",
        "document or the content of an XMP file."
      ]
    },
    {
      "cell_type": "code",
      "execution_count": null,
      "id": "1d01c92a-1b18-4c6f-ba91-118f781f43c5",
      "metadata": {
          "id": "7b34ff40-98b2-4f52-b252-1ae6858b4cc1"
      },
      "outputs": [],
      "source": [
        "import io\n",
        "from pdftools_toolbox.pdf import Document, FileReference, Metadata, PageCopyOptions, PageList\n",
        "from pdftools_toolbox.pdf.content import IccBasedColorSpace\n",
        "from pdftools_toolbox.pdf.navigation import ViewerSettings"
      ]
    },
    {
      "cell_type": "code",
      "execution_count": null,
      "id": "00bb2cb3-79b8-40c8-81d2-31602eec253c",
      "metadata": {
          "id": "fb3f7259-ea74-46ab-858a-d4d0af734cde"
      },
      "outputs": [],
      "source": [
        "# Download a file from a given URL and save it to the local system\n",
        "def prepare_file(url: str, path: str):\n",
        "    import requests\n",
        "    response = requests.get(url)\n",
        "    response.raise_for_status()\n",
        "\n",
        "    with open(path, 'wb') as f:\n",
        "        f.write(response.content)"
      ]
    },
    {
      "cell_type": "code",
      "execution_count": null,
      "id": "c40ef3f8-f4bd-4efb-ba59-bd0c826c1e69",
      "metadata": {
          "id": "dda05a91-f989-439b-bd29-a670b2f5f2cd"
      },
      "outputs": [],
      "source": [
        "# Set input arguments\n",
        "input_url = 'https://pdftools-public-downloads-production.s3.eu-west-1.amazonaws.com/samples/testfiles/BlankNone.pdf'\n",
        "input_file_path = 'BlankNone.pdf'\n",
        "prepare_file(input_url, input_file_path)\n",
        "metadata_url = 'https://pdftools-public-downloads-production.s3.eu-west-1.amazonaws.com/samples/testfiles/MetadataTest.xmp'\n",
        "metadata_file_path = 'MetadataTest.xmp'\n",
        "prepare_file(metadata_url, metadata_file_path)\n",
        "output_file_path = 'BlankWithMetadata.pdf'"
      ]
    },
    {
      "cell_type": "code",
      "execution_count": null,
      "id": "0f83c028-582a-4a3a-8caf-cab02d71f9ed",
      "metadata": {
          "id": "58ec1e20-101b-4bd3-8842-ccb02ed86047"
      },
      "outputs": [],
      "source": [
        "def copy_document_data(in_doc: Document, out_doc: Document):\n",
        "    # Copy document-wide data (excluding metadata)\n",
        "\n",
        "    # Output intent\n",
        "    if in_doc.output_intent is not None:\n",
        "        in_doc.output_intent = IccBasedColorSpace.copy(out_doc, in_doc.output_intent)\n",
        "\n",
        "    # Viewer settings\n",
        "    out_doc.viewer_settings = ViewerSettings.copy(out_doc, in_doc.viewer_settings)\n",
        "\n",
        "    # Associated files (for PDF/A-3 and PDF 2.0 only)\n",
        "    outAssociatedFiles = out_doc.associated_files\n",
        "    for in_file_ref in in_doc.associated_files:\n",
        "        outAssociatedFiles.append(FileReference.copy(out_doc, in_file_ref))\n",
        "\n",
        "    # Plain embedded files\n",
        "    out_embedded_files = out_doc.plain_embedded_files\n",
        "    for in_file_ref in in_doc.plain_embedded_files:\n",
        "        out_embedded_files.append(FileReference.copy(out_doc, in_file_ref))"
      ]
    },
    {
      "cell_type": "code",
      "execution_count": null,
      "id": "4fbc7d89-95d8-40b6-a413-018109f7b289",
      "metadata": {
          "id": "d1d29a4b-3183-47c5-8703-26ca72eabb6f"
      },
      "outputs": [],
      "source": [
        "try:\n",
        "    # Set and check license key. If the license key is not valid, an exception is thrown.\n",
        "    from pdftools_toolbox.sdk import Sdk\n",
        "    Sdk.initialize(\"INSERT-LICENSE-KEY\", None)\n",

        "\n",
        "    # Open input document\n",
        "    with io.FileIO(input_file_path, 'rb') as content_pdf_stream:\n",
        "        with Document.open(content_pdf_stream, None) as content_pdf_document:\n",
        "    \n",
        "            # Create output document\n",
        "            with io.FileIO(output_file_path, 'wb+') as output_stream:\n",
        "                with Document.create(output_stream, content_pdf_document.conformance, None) as output_document:\n",
        "                    # Copy document-wide data\n",
        "                    copy_document_data(content_pdf_document, output_document)\n",
        "    \n",
        "                    # Set Metadata\n",
        "                    if metadata_file_path is not None:\n",
        "                        with io.FileIO(metadata_file_path, 'rb') as metadata_stream:\n",
        "                            if metadata_file_path.endswith(\".pdf\"):\n",
        "                                # Use the metadata of another PDF file\n",
        "                                with Document.open(metadata_stream, \"\") as meta_doc:\n",
        "                                    mdata = Metadata.copy(output_document, meta_doc.metadata)\n",
        "                            else:\n",
        "                                # Use the content of an XMP metadata file\n",
        "                                mdata = Metadata.create(output_document, metadata_stream)\n",
        "                    else:\n",
        "                        mdata = output_document.metadata\n",
        "                        mdata.author = \"Your Author\"\n",
        "                        mdata.title = \"Your Title\"\n",
        "                        mdata.subject = \"Your Subject\"\n",
        "                        mdata.creator = \"Your Creator\"\n",
        "    \n",
        "                    output_document.metadata = mdata\n",
        "    \n",
        "                    # Define page copy options\n",
        "                    copy_options = PageCopyOptions()\n",
        "    \n",
        "                    # Copy all pages and append to output document\n",
        "                    copied_pages = PageList.copy(output_document, content_pdf_document.pages, copy_options)\n",
        "                    output_document.pages.extend(copied_pages)\n",

        "\n",
        "    print(\"Execution successful.\")\n",

        "except Exception as e:\n",
        "    print(f\"An error occurred: {e}\")"
      ]
    }
  ],
  "metadata": {
    "kernelspec": {
      "display_name": "Python 3",
      "language": "python",
      "name": "python3"
    },
    "language_info": {
      "codemirror_mode": {
        "name": "ipython",
        "version": 3
      },
      "file_extension": ".py",
      "mimetype": "text/x-python",
      "name": "python",
      "nbconvert_exporter": "python",
      "pygments_lexer": "ipython3",
      "version": "3.12.8"
    },
    "colab": {
      "provenance": []
    }
  },
  "nbformat": 4,
  "nbformat_minor": 5
}