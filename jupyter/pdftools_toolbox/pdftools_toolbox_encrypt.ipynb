{
  "cells": [
    {
      "cell_type": "markdown",
      "id": "08cf77c0-2f97-4ddf-9e68-92dd0a96ee7c",
      "metadata": {
          "id": "4f59329b-3df3-45aa-8335-ef73cc3affdc"
      },
      "source": [
        "[![Open In Colab](https://colab.research.google.com/assets/colab-badge.svg)](https://colab.research.google.com/github/pdf-tools/components-code-sample-hub/blob/main/jupyter/pdftools_toolbox/pdftools_toolbox_encrypt.ipynb)"
      ]
    },
    {
      "cell_type": "code",
      "execution_count": null,
      "id": "b0da9c91-c427-49f2-8db4-7380626dcab3",
      "metadata": {
          "id": "4e1fbb37-8d2b-4fcc-9cb8-819f6e2da8f3"
      },
      "outputs": [],
      "source": [
        "%pip install pdftools_toolbox\n",
        "%pip install ipython"
      ]
    },
    {
      "cell_type": "markdown",
      "id": "169c3f77-9535-41a5-acbc-024537b74455",
      "metadata": {
          "id": "310b2607-b9e8-4f9c-87bc-c6a5e59e88f8"
      },
      "source": [
        "# Encrypt PDF\n",
        "Encrypt a PDF document with a user password and an owner\n",
        "password. When opening the document, either of the\n",
        "passwords must be provided. If providing the user\n",
        "password, the document can be viewed and printed only.\n",
        "Providing the owner password grants full access to the\n",
        "document."
      ]
    },
    {
      "cell_type": "code",
      "execution_count": null,
      "id": "63165b39-475a-4753-b0f6-4c08e8fe91e8",
      "metadata": {
          "id": "e9ff211b-e594-493d-b73e-9b4732403c0b"
      },
      "outputs": [],
      "source": [
        "import io\n",
        "from pdftools_toolbox.pdf import Document, Encryption, FileReference, Metadata, PageCopyOptions, PageList, Permission\n",
        "from pdftools_toolbox.pdf.content import IccBasedColorSpace\n",
        "from pdftools_toolbox.pdf.navigation import ViewerSettings"
      ]
    },
    {
      "cell_type": "code",
      "execution_count": null,
      "id": "6beec307-b14a-48ee-a5fb-35ad11be7573",
      "metadata": {
          "id": "fb7fd38a-1707-41af-a0cf-aa302a5e4fa4"
      },
      "outputs": [],
      "source": [
        "# Download a file from a given URL and save it to the local system\n",
        "def prepare_file(url: str, path: str):\n",
        "    import requests\n",
        "    response = requests.get(url)\n",
        "    response.raise_for_status()\n",
        "\n",
        "    with open(path, 'wb') as f:\n",
        "        f.write(response.content)"
      ]
    },
    {
      "cell_type": "code",
      "execution_count": null,
      "id": "b296ce16-3fd6-4d6d-a204-08447fcd8ce4",
      "metadata": {
          "id": "ddbefb04-b114-49f4-922a-ea29bd8a1953"
      },
      "outputs": [],
      "source": [
        "# Set input arguments\n",
        "input_url = 'https://pdftools-public-downloads-production.s3.eu-west-1.amazonaws.com/samples/testfiles/InvoiceNone.pdf'\n",
        "input_file_path = 'InvoiceNone.pdf'\n",
        "prepare_file(input_url, input_file_path)\n",
        "user_pwd = \"userpass\"\n",
        "owner_pwd = \"ownerpass\"\n",
        "output_file_path = 'EncryptedInvoice.pdf'"
      ]
    },
    {
      "cell_type": "code",
      "execution_count": null,
      "id": "3634f6e0-0bd8-4b03-b456-b9c4c8141ff5",
      "metadata": {
          "id": "85e7d4d4-5c55-4043-88a8-cdd5d1bc34ac"
      },
      "outputs": [],
      "source": [
        "def copy_document_data(in_doc: Document, out_doc: Document):\n",
        "    # Copy document-wide data\n",
        "\n",
        "    # Output intent\n",
        "    if in_doc.output_intent is not None:\n",
        "        in_doc.output_intent = IccBasedColorSpace.copy(out_doc, in_doc.output_intent)\n",
        "\n",
        "    # Metadata\n",
        "    out_doc.metadata = Metadata.copy(out_doc, in_doc.metadata)\n",
        "\n",
        "    # Viewer settings\n",
        "    out_doc.viewer_settings = ViewerSettings.copy(out_doc, in_doc.viewer_settings)\n",
        "\n",
        "    # Associated files (for PDF/A-3 and PDF 2.0 only)\n",
        "    outAssociatedFiles = out_doc.associated_files\n",
        "    for in_file_ref in in_doc.associated_files:\n",
        "        outAssociatedFiles.append(FileReference.copy(out_doc, in_file_ref))\n",
        "\n",
        "    # Plain embedded files\n",
        "    out_embedded_files = out_doc.plain_embedded_files\n",
        "    for in_file_ref in in_doc.plain_embedded_files:\n",
        "        out_embedded_files.append(FileReference.copy(out_doc, in_file_ref))"
      ]
    },
    {
      "cell_type": "code",
      "execution_count": null,
      "id": "0d3df64d-ec3e-4aa9-9f4e-37b7c484e19d",
      "metadata": {
          "id": "19ce20db-6024-4fbd-a046-d15a06f0fee0"
      },
      "outputs": [],
      "source": [
        "try:\n",
        "    # Set and check license key. If the license key is not valid, an exception is thrown.\n",
        "    from pdftools_toolbox.sdk import Sdk\n",
        "    Sdk.initialize(\"INSERT-LICENSE-KEY\", None)\n",

        "\n",
        "    # Open input document\n",
        "    with io.FileIO(input_file_path, \"rb\") as in_stream:\n",
        "        with Document.open(in_stream, None) as in_doc:\n",
        "    \n",
        "            # Create encryption parameters\n",
        "            encryption_params = Encryption(\n",
        "                user_pwd,\n",
        "                owner_pwd,\n",
        "                Permission.PRINT | Permission.DIGITAL_PRINT,\n",
        "            )\n",
        "    \n",
        "            # Create output document and set a user and owner password\n",
        "            with io.FileIO(output_file_path, \"wb+\") as out_stream:\n",
        "                with Document.create(out_stream, in_doc.conformance, encryption_params) as out_doc:\n",
        "    \n",
        "                    # Copy document-wide data\n",
        "                    copy_document_data(in_doc, out_doc)\n",
        "    \n",
        "                    # Define page copy options\n",
        "                    copy_options = PageCopyOptions()\n",
        "    \n",
        "                    # Copy all pages and append to output document\n",
        "                    copied_pages = PageList.copy(out_doc, in_doc.pages, copy_options)\n",
        "                    out_doc.pages.extend(copied_pages)\n",

        "\n",
        "    print(\"Execution successful.\")\n",

        "except Exception as e:\n",
        "    print(f\"An error occurred: {e}\")"
      ]
    }
  ],
  "metadata": {
    "kernelspec": {
      "display_name": "Python 3",
      "language": "python",
      "name": "python3"
    },
    "language_info": {
      "codemirror_mode": {
        "name": "ipython",
        "version": 3
      },
      "file_extension": ".py",
      "mimetype": "text/x-python",
      "name": "python",
      "nbconvert_exporter": "python",
      "pygments_lexer": "ipython3",
      "version": "3.12.8"
    },
    "colab": {
      "provenance": []
    }
  },
  "nbformat": 4,
  "nbformat_minor": 5
}