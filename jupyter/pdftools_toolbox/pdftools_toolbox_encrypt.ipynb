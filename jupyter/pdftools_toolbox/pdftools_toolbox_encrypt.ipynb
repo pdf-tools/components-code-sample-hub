{
  "cells": [
    {
      "cell_type": "markdown",
      "id": "6c8bd134-133e-4434-a0ac-457559656182",
      "metadata": {
          "id": "73a450a8-cb68-4ea3-aa03-a33311d9e937"
      },
      "source": [
        "[![Open In Colab](https://colab.research.google.com/assets/colab-badge.svg)](https://colab.research.google.com/github/pdf-tools/components-code-sample-hub/blob/main/jupyter/pdftools_toolbox/pdftools_toolbox_encrypt.ipynb)"
      ]
    },
    {
      "cell_type": "code",
      "execution_count": null,
      "id": "65d18938-e1e2-4c4e-a3af-7a85b4c29cfd",
      "metadata": {
          "id": "3d324a5b-0aa0-439c-afac-9667fe9b046d"
      },
      "outputs": [],
      "source": [
        "%pip install https://pdftools-public-downloads-production.s3.eu-west-1.amazonaws.com/productkits/PDFSDKXT/latest/pdftools_toolbox-latest.tar.gz\n",
        "%pip install ipython"
      ]
    },
    {
      "cell_type": "markdown",
      "id": "0f961e0a-1daf-4cc0-98b6-461929a4480e",
      "metadata": {
          "id": "0a2d7a7c-743b-4987-bb1d-24585f5632fc"
      },
      "source": [
        "# Encrypt PDF\n",
        "Encrypt a PDF document with a user password and an owner\n",
        "password. When opening the document, either of the\n",
        "passwords must be provided. If providing the user\n",
        "password, the document can be viewed and printed only.\n",
        "Providing the owner password grants full access to the\n",
        "document."
      ]
    },
    {
      "cell_type": "code",
      "execution_count": null,
      "id": "e8fa0ddb-d594-4ff3-b24a-54895b32a1cb",
      "metadata": {
          "id": "f6064057-943d-4603-9d44-1b337f2d5aaf"
      },
      "outputs": [],
      "source": [
        "import io\n",
        "from pdftools_toolbox.pdf import Document, Encryption, FileReference, Metadata, PageCopyOptions, PageList, Permission\n",
        "from pdftools_toolbox.pdf.content import IccBasedColorSpace\n",
        "from pdftools_toolbox.pdf.navigation import ViewerSettings"
      ]
    },
    {
      "cell_type": "code",
      "execution_count": null,
      "id": "6ecba591-94a1-4905-a2da-facf298beb12",
      "metadata": {
          "id": "8c7ce838-0b0c-4bda-802a-fab4bbc73150"
      },
      "outputs": [],
      "source": [
        "# Download a file from a given URL and save it to the local system\n",
        "def prepare_file(url: str, path: str):\n",
        "    import requests\n",
        "    response = requests.get(url)\n",
        "    response.raise_for_status()\n",
        "\n",
        "    with open(path, 'wb') as f:\n",
        "        f.write(response.content)"
      ]
    },
    {
      "cell_type": "code",
      "execution_count": null,
      "id": "16e6ca5a-9ed3-49d9-849b-591368dd425f",
      "metadata": {
          "id": "0a11dc16-6338-4d5b-9be3-68625c7b3a5d"
      },
      "outputs": [],
      "source": [
        "# Set input arguments\n",
        "input_url = 'https://pdftools-public-downloads-production.s3.eu-west-1.amazonaws.com/samples/testfiles/InvoiceNone.pdf'\n",
        "input_file_path = 'InvoiceNone.pdf'\n",
        "prepare_file(input_url, input_file_path)\n",
        "user_pwd = \"userpass\"\n",
        "owner_pwd = \"ownerpass\"\n",
        "output_file_path = 'EncryptedInvoice.pdf'"
      ]
    },
    {
      "cell_type": "code",
      "execution_count": null,
      "id": "db851a26-a23e-4b2b-828a-e1e4dd342e4a",
      "metadata": {
          "id": "2ef3ead9-83c4-4b31-be39-029976272700"
      },
      "outputs": [],
      "source": [
        "def copy_document_data(in_doc: Document, out_doc: Document):\n",
        "    # Copy document-wide data\n",
        "\n",
        "    # Output intent\n",
        "    if in_doc.output_intent is not None:\n",
        "        in_doc.output_intent = IccBasedColorSpace.copy(out_doc, in_doc.output_intent)\n",
        "\n",
        "    # Metadata\n",
        "    out_doc.metadata = Metadata.copy(out_doc, in_doc.metadata)\n",
        "\n",
        "    # Viewer settings\n",
        "    out_doc.viewer_settings = ViewerSettings.copy(out_doc, in_doc.viewer_settings)\n",
        "\n",
        "    # Associated files (for PDF/A-3 and PDF 2.0 only)\n",
        "    outAssociatedFiles = out_doc.associated_files\n",
        "    for in_file_ref in in_doc.associated_files:\n",
        "        outAssociatedFiles.append(FileReference.copy(out_doc, in_file_ref))\n",
        "\n",
        "    # Plain embedded files\n",
        "    out_embedded_files = out_doc.plain_embedded_files\n",
        "    for in_file_ref in in_doc.plain_embedded_files:\n",
        "        out_embedded_files.append(FileReference.copy(out_doc, in_file_ref))"
      ]
    },
    {
      "cell_type": "code",
      "execution_count": null,
      "id": "439e8b0a-1acc-43a2-af74-a4c070fa23a6",
      "metadata": {
          "id": "0cca5b62-c8ae-45eb-93a9-6383114b72a3"
      },
      "outputs": [],
      "source": [
        "try:\n",
        "    # Set and check license key. If the license key is not valid, an exception is thrown.\n",
        "    from pdftools_toolbox.sdk import Sdk\n",
        "    Sdk.initialize(\"INSERT-LICENSE-KEY\", None)\n",

        "\n",
        "    # Open input document\n",
        "    with io.FileIO(input_file_path, \"rb\") as in_stream:\n",
        "        with Document.open(in_stream, None) as in_doc:\n",
        "    \n",
        "            # Create encryption parameters\n",
        "            encryption_params = Encryption(\n",
        "                user_pwd,\n",
        "                owner_pwd,\n",
        "                Permission.PRINT | Permission.DIGITAL_PRINT,\n",
        "            )\n",
        "    \n",
        "            # Create output document and set a user and owner password\n",
        "            with io.FileIO(output_file_path, \"wb+\") as out_stream:\n",
        "                with Document.create(out_stream, in_doc.conformance, encryption_params) as out_doc:\n",
        "    \n",
        "                    # Copy document-wide data\n",
        "                    copy_document_data(in_doc, out_doc)\n",
        "    \n",
        "                    # Define page copy options\n",
        "                    copy_options = PageCopyOptions()\n",
        "    \n",
        "                    # Copy all pages and append to output document\n",
        "                    copied_pages = PageList.copy(out_doc, in_doc.pages, copy_options)\n",
        "                    out_doc.pages.extend(copied_pages)\n",

        "\n",
        "    print(\"Execution successful.\")\n",

        "except Exception as e:\n",
        "    print(f\"An error occurred: {e}\")"
      ]
    }
  ],
  "metadata": {
    "kernelspec": {
      "display_name": "Python 3",
      "language": "python",
      "name": "python3"
    },
    "language_info": {
      "codemirror_mode": {
        "name": "ipython",
        "version": 3
      },
      "file_extension": ".py",
      "mimetype": "text/x-python",
      "name": "python",
      "nbconvert_exporter": "python",
      "pygments_lexer": "ipython3",
      "version": "3.12.8"
    },
    "colab": {
      "provenance": []
    }
  },
  "nbformat": 4,
  "nbformat_minor": 5
}