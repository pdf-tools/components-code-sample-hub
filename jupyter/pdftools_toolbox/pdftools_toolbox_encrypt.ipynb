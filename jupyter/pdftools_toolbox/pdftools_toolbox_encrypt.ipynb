{
  "cells": [
    {
      "cell_type": "markdown",
      "id": "c58039c6-b12c-40b6-8239-7b04cbae0568",
      "metadata": {
          "id": "7ca14b81-5de6-44d3-be7c-0d94ca492456"
      },
      "source": [
        "[![Open In Colab](https://colab.research.google.com/assets/colab-badge.svg)](https://colab.research.google.com/github/pdf-tools/components-code-sample-hub/blob/main/jupyter/pdftools_toolbox/pdftools_toolbox_encrypt.ipynb)"
      ]
    },
    {
      "cell_type": "code",
      "execution_count": null,
      "id": "ba6ae9c2-cba6-4769-9b20-49c636bd800f",
      "metadata": {
          "id": "c5a795ac-afe6-4256-9f04-627c7c1d5a43"
      },
      "outputs": [],
      "source": [
        "%pip install https://pdftools-public-downloads-production.s3.eu-west-1.amazonaws.com/productkits/PDFSDKXT/latest/pdftools_toolbox-latest.tar.gz\n",
        "%pip install ipython"
      ]
    },
    {
      "cell_type": "markdown",
      "id": "251d18d3-b3b7-4951-91e3-6555e604620b",
      "metadata": {
          "id": "44fe2bbf-66a7-4c21-aedb-fbc63384a32a"
      },
      "source": [
        "# Encrypt PDF\n",
        "Encrypt a PDF document with a user password and an owner\n",
        "password. When opening the document, either of the\n",
        "passwords must be provided. If providing the user\n",
        "password, the document can be viewed and printed only.\n",
        "Providing the owner password grants full access to the\n",
        "document."
      ]
    },
    {
      "cell_type": "code",
      "execution_count": null,
      "id": "1218aac7-5db4-4578-9ba8-f4e6b90b7f1d",
      "metadata": {
          "id": "6ec2d196-0e29-4ff7-8f2b-cf6939239b4c"
      },
      "outputs": [],
      "source": [
        "import io\n",
        "from pdftools_toolbox.pdf import Document, Encryption, FileReference, Metadata, PageCopyOptions, PageList, Permission\n",
        "from pdftools_toolbox.pdf.content import IccBasedColorSpace\n",
        "from pdftools_toolbox.pdf.navigation import ViewerSettings"
      ]
    },
    {
      "cell_type": "code",
      "execution_count": null,
      "id": "5d0069dc-5961-46d8-9399-84e4ea80395f",
      "metadata": {
          "id": "4809fabb-422e-404c-9274-282b73d558f0"
      },
      "outputs": [],
      "source": [
        "# Download a file from a given URL and save it to the local system\n",
        "def prepare_file(url: str, path: str):\n",
        "    import requests\n",
        "    response = requests.get(url)\n",
        "    response.raise_for_status()\n",
        "\n",
        "    with open(path, 'wb') as f:\n",
        "        f.write(response.content)"
      ]
    },
    {
      "cell_type": "code",
      "execution_count": null,
      "id": "3f275fc6-b581-42f7-ad07-e936a14bcff1",
      "metadata": {
          "id": "11bc7a5b-4d6a-464a-a8be-cb94dd5b63aa"
      },
      "outputs": [],
      "source": [
        "# Set input arguments\n",
        "input_url = 'https://pdftools-public-downloads-production.s3.eu-west-1.amazonaws.com/samples/testfiles/InvoiceNone.pdf'\n",
        "input_file_path = 'InvoiceNone.pdf'\n",
        "prepare_file(input_url, input_file_path)\n",
        "user_pwd = \"userpass\"\n",
        "owner_pwd = \"ownerpass\"\n",
        "output_file_path = 'EncryptedInvoice.pdf'"
      ]
    },
    {
      "cell_type": "code",
      "execution_count": null,
      "id": "572c6c30-ba26-4138-b500-bbc53d50e47f",
      "metadata": {
          "id": "d6e742a9-ece8-4e3c-8696-16da0cccebd2"
      },
      "outputs": [],
      "source": [
        "def copy_document_data(in_doc: Document, out_doc: Document):\n",
        "    # Copy document-wide data\n",
        "\n",
        "    # Output intent\n",
        "    if in_doc.output_intent is not None:\n",
        "        in_doc.output_intent = IccBasedColorSpace.copy(out_doc, in_doc.output_intent)\n",
        "\n",
        "    # Metadata\n",
        "    out_doc.metadata = Metadata.copy(out_doc, in_doc.metadata)\n",
        "\n",
        "    # Viewer settings\n",
        "    out_doc.viewer_settings = ViewerSettings.copy(out_doc, in_doc.viewer_settings)\n",
        "\n",
        "    # Associated files (for PDF/A-3 and PDF 2.0 only)\n",
        "    outAssociatedFiles = out_doc.associated_files\n",
        "    for in_file_ref in in_doc.associated_files:\n",
        "        outAssociatedFiles.append(FileReference.copy(out_doc, in_file_ref))\n",
        "\n",
        "    # Plain embedded files\n",
        "    out_embedded_files = out_doc.plain_embedded_files\n",
        "    for in_file_ref in in_doc.plain_embedded_files:\n",
        "        out_embedded_files.append(FileReference.copy(out_doc, in_file_ref))"
      ]
    },
    {
      "cell_type": "code",
      "execution_count": null,
      "id": "15dd5dd5-6f4a-483a-81ef-45cb691dd9c9",
      "metadata": {
          "id": "95fe070a-2137-4c61-a170-37e2a07f5b52"
      },
      "outputs": [],
      "source": [
        "try:\n",
        "    # Set and check license key. If the license key is not valid, an exception is thrown.\n",
        "    from pdftools_toolbox.sdk import Sdk\n",
        "    Sdk.initialize(\"INSERT-LICENSE-KEY\", None)\n",

        "\n",
        "    # Open input document\n",
        "    with io.FileIO(input_file_path, \"rb\") as in_stream:\n",
        "        with Document.open(in_stream, None) as in_doc:\n",
        "    \n",
        "            # Create encryption parameters\n",
        "            encryption_params = Encryption(\n",
        "                user_pwd,\n",
        "                owner_pwd,\n",
        "                Permission.PRINT | Permission.DIGITAL_PRINT,\n",
        "            )\n",
        "    \n",
        "            # Create output document and set a user and owner password\n",
        "            with io.FileIO(output_file_path, \"wb+\") as out_stream:\n",
        "                with Document.create(out_stream, in_doc.conformance, encryption_params) as out_doc:\n",
        "    \n",
        "                    # Copy document-wide data\n",
        "                    copy_document_data(in_doc, out_doc)\n",
        "    \n",
        "                    # Define page copy options\n",
        "                    copy_options = PageCopyOptions()\n",
        "    \n",
        "                    # Copy all pages and append to output document\n",
        "                    copied_pages = PageList.copy(out_doc, in_doc.pages, copy_options)\n",
        "                    out_doc.pages.extend(copied_pages)\n",

        "\n",
        "    print(\"Execution successful.\")\n",

        "except Exception as e:\n",
        "    print(f\"An error occurred: {e}\")"
      ]
    }
  ],
  "metadata": {
    "kernelspec": {
      "display_name": "Python 3",
      "language": "python",
      "name": "python3"
    },
    "language_info": {
      "codemirror_mode": {
        "name": "ipython",
        "version": 3
      },
      "file_extension": ".py",
      "mimetype": "text/x-python",
      "name": "python",
      "nbconvert_exporter": "python",
      "pygments_lexer": "ipython3",
      "version": "3.12.8"
    },
    "colab": {
      "provenance": []
    }
  },
  "nbformat": 4,
  "nbformat_minor": 5
}