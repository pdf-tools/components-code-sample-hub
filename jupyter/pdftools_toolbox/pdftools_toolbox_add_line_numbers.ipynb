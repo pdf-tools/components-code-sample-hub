{
  "cells": [
    {
      "cell_type": "markdown",
      "id": "ad598b89-afe4-412a-a95c-b47fdd0f4914",
      "metadata": {
          "id": "fa493d25-3089-469e-9a72-7dbe8df974bc"
      },
      "source": [
        "[![Open In Colab](https://colab.research.google.com/assets/colab-badge.svg)](https://colab.research.google.com/github/pdf-tools/components-code-sample-hub/blob/main/jupyter/pdftools_toolbox/pdftools_toolbox_add_line_numbers.ipynb)"
      ]
    },
    {
      "cell_type": "code",
      "execution_count": null,
      "id": "24271b89-74a3-46a9-adc4-4cf3b067f333",
      "metadata": {
          "id": "3c5064a8-7aa2-4913-8b78-93a60f14f040"
      },
      "outputs": [],
      "source": [
        "%pip install https://pdftools-public-downloads-production.s3.eu-west-1.amazonaws.com/productkits/PDFSDKXT/latest/pdftools_toolbox-latest.tar.gz\n",
        "%pip install ipython"
      ]
    },
    {
      "cell_type": "markdown",
      "id": "203caf1c-c3fa-4a9d-b29b-2045fb5e18c2",
      "metadata": {
          "id": "70a09f1f-69aa-42c5-a3e3-f74768ed6b13"
      },
      "source": [
        "# Add line numbers to PDF\n",
        "Add a line number in front of each line that contains\n",
        "text."
      ]
    },
    {
      "cell_type": "code",
      "execution_count": null,
      "id": "8862478d-307a-4cac-9147-b03ee661ca15",
      "metadata": {
          "id": "da1b848f-a9db-4e46-9a90-b144a72f753b"
      },
      "outputs": [],
      "source": [
        "import io\n",
        "from pdftools_toolbox.pdf import Document, FileReference, Metadata, PageCopyOptions, PageList\n",
        "from pdftools_toolbox.geometry.real import Point\n",
        "from pdftools_toolbox.pdf.content import ContentExtractor, ContentGenerator, Font, IccBasedColorSpace, Text, TextElement, TextGenerator, UngroupingSelection\n",
        "from pdftools_toolbox.pdf.navigation import ViewerSettings"
      ]
    },
    {
      "cell_type": "code",
      "execution_count": null,
      "id": "7cd635a0-b8f8-461c-bb3e-c6356745911f",
      "metadata": {
          "id": "da5758f4-f051-400b-937d-0d7dca89d1d6"
      },
      "outputs": [],
      "source": [
        "# Download a file from a given URL and save it to the local system\n",
        "def prepare_file(url: str, path: str):\n",
        "    import requests\n",
        "    response = requests.get(url)\n",
        "    response.raise_for_status()\n",
        "\n",
        "    with open(path, 'wb') as f:\n",
        "        f.write(response.content)"
      ]
    },
    {
      "cell_type": "code",
      "execution_count": null,
      "id": "e449e762-27b7-40b4-ba91-baed775210aa",
      "metadata": {
          "id": "fd26e053-4938-4f61-998f-cb439fb8966c"
      },
      "outputs": [],
      "source": [
        "# Set input arguments\n",
        "input_url = 'https://pdftools-public-downloads-production.s3.eu-west-1.amazonaws.com/samples/testfiles/InvoiceNone.pdf'\n",
        "input_file_path = 'InvoiceNone.pdf'\n",
        "prepare_file(input_url, input_file_path)\n",
        "output_file_path = 'InvoiceWithLineNumbers.pdf'"
      ]
    },
    {
      "cell_type": "code",
      "execution_count": null,
      "id": "6a3ed363-9347-4b18-886f-1344aad6483d",
      "metadata": {
          "id": "4a9b6e27-fa97-44ae-b0c6-f53db83145bf"
      },
      "outputs": [],
      "source": [
        "def copy_document_data(in_doc: Document, out_doc: Document):\n",
        "    # Copy document-wide data\n",
        "\n",
        "    # Output intent\n",
        "    if in_doc.output_intent is not None:\n",
        "        in_doc.output_intent = IccBasedColorSpace.copy(out_doc, in_doc.output_intent)\n",
        "\n",
        "    # Metadata\n",
        "    out_doc.metadata = Metadata.copy(out_doc, in_doc.metadata)\n",
        "\n",
        "    # Viewer settings\n",
        "    out_doc.viewer_settings = ViewerSettings.copy(out_doc, in_doc.viewer_settings)\n",
        "\n",
        "    # Associated files (for PDF/A-3 and PDF 2.0 only)\n",
        "    outAssociatedFiles = out_doc.associated_files\n",
        "    for in_file_ref in in_doc.associated_files:\n",
        "        outAssociatedFiles.append(FileReference.copy(out_doc, in_file_ref))\n",
        "\n",
        "    # Plain embedded files\n",
        "    out_embedded_files = out_doc.plain_embedded_files\n",
        "    for in_file_ref in in_doc.plain_embedded_files:\n",
        "        out_embedded_files.append(FileReference.copy(out_doc, in_file_ref))"
      ]
    },
    {
      "cell_type": "code",
      "execution_count": null,
      "id": "1e091662-9079-496e-a931-dcdedf08623f",
      "metadata": {
          "id": "89181a15-a9f0-4cb7-8c6a-697ec636be20"
      },
      "outputs": [],
      "source": [
        "class TolerantSortedSet:\n",
        "    def add(self, value: float):\n",
        "        for existing in self.data:\n",
        "            if abs(existing - value) < self.tolerance:\n",
        "                return  # Do not add duplicate-like value\n",
        "\n",
        "        self.data.append(value)\n",
        "        self.data.sort(reverse=self.sort_reverse)\n",
        "\n",
        "    def iterator(self):\n",
        "        return iter(self.data)\n",
        "\n",
        "    def display(self):\n",
        "        return str(self.data)"
      ]
    },
    {
      "cell_type": "code",
      "execution_count": null,
      "id": "f61638e4-890d-4c35-a864-8f539f603319",
      "metadata": {
          "id": "bcf06381-1b69-4991-8aae-384863cf40cb"
      },
      "outputs": [],
      "source": [
        "def create_tolerant_sorted_set(tolerance: float, sort_reverse: bool):\n",
        "    tolerant_sorted_set = TolerantSortedSet()\n",
        "\n",
        "    tolerant_sorted_set.tolerance = tolerance\n",
        "    tolerant_sorted_set.sort_reverse = sort_reverse\n",
        "    tolerant_sorted_set.data = []\n",
        "\n",
        "    return tolerant_sorted_set"
      ]
    },
    {
      "cell_type": "code",
      "execution_count": null,
      "id": "10717c64-2b3c-4207-b90d-efebcfcf01d0",
      "metadata": {
          "id": "4efa0d52-8ccb-4c01-8ba9-ceeeaa2f6a07"
      },
      "outputs": [],
      "source": [
        "def add_line_numbers(out_doc: Document, line_number_font: Font, pair: tuple):\n",
        "    global line_number\n",
        "\n",
        "    # Add line numbers to all text found in the input page to the output page\n",
        "\n",
        "    # The input and output page\n",
        "    in_page, out_page = pair\n",
        "\n",
        "    # Extract all text fragments\n",
        "    extractor = ContentExtractor(in_page.content)\n",
        "    extractor.ungrouping = UngroupingSelection.ALL\n",
        "\n",
        "    # The left-most horizontal position of all text fragments\n",
        "    left_x = in_page.size.width\n",
        "\n",
        "    # A comparison for doubles that considers distances smaller than the font size as equal\n",
        "    def comparison(a, b):\n",
        "        d = b - a\n",
        "        if abs(d) < font_size:\n",
        "            return 0\n",
        "        return (d > 0) - (d < 0)    # return 1 if d > 0, -1 if d < 0, 0 otherwise\n",
        "\n",
        "    # A sorted set to hold the vertical positions of all text fragments\n",
        "    # Keep the data sorted in reverse order as the coordinates are reverse in a PDF\n",
        "    line_y_positions = create_tolerant_sorted_set(tolerance=font_size, sort_reverse=True)\n",
        "\n",
        "    # Iterate over all content elements of the input page\n",
        "    for element in extractor:\n",
        "        # Process only text elements\n",
        "        if isinstance(element, TextElement):\n",
        "            # Iterate over all text fragments\n",
        "            for fragment in element.text:\n",
        "                # Get the fragment's baseline starting point\n",
        "                point = fragment.transform.transform_point(\n",
        "                    Point(fragment.bounding_box.left, 0)\n",
        "                )\n",
        "\n",
        "                # Update the left-most position\n",
        "                left_x = min(left_x, point.x)\n",
        "\n",
        "                # Add the vertical position\n",
        "                line_y_positions.add(point.y)\n",
        "\n",
        "    # If at least one text fragment was found, add line numbers\n",
        "    if line_y_positions:\n",
        "        # Create a text object and use a text generator\n",
        "        text = Text.create(out_doc)\n",
        "        with TextGenerator(text, line_number_font, font_size, None) as text_generator:\n",
        "            # Iterate over all vertical positions found in the input\n",
        "            for y in line_y_positions.iterator():\n",
        "                # The line number string\n",
        "                line_number += 1\n",
        "                line_number_string = str(line_number)\n",
        "\n",
        "                # The width of the line number string when shown on the page\n",
        "                width = text_generator.get_width(line_number_string)\n",
        "\n",
        "                # Position line numbers right-aligned\n",
        "                # with a given distance to the right-most horizontal position\n",
        "                # and at the vertical position of the current text fragment\n",
        "                text_generator.move_to(Point(left_x - width - distance, y))\n",
        "\n",
        "                # Show the line number string\n",
        "                text_generator.show(line_number_string)\n",
        "\n",
        "        # Use a content generator to paint the text onto the page\n",
        "        with ContentGenerator(out_page.content, False) as content_generator:\n",
        "            content_generator.paint_text(text)"
      ]
    },
    {
      "cell_type": "code",
      "execution_count": null,
      "id": "f4810db3-93b6-4b19-a00a-19bbcfa1f689",
      "metadata": {
          "id": "ad146ff5-f218-4d61-98be-119c14b8c485"
      },
      "outputs": [],
      "source": [
        "try:\n",
        "    # Set and check license key. If the license key is not valid, an exception is thrown.\n",
        "    from pdftools_toolbox.sdk import Sdk\n",
        "    Sdk.initialize(\"INSERT-LICENSE-KEY\", None)\n",

        "\n",
        "    # Define global variables\n",
        "    distance = 10\n",
        "    font_size = 8.0\n",
        "    line_number = 0\n",
        "    \n",
        "    # Open input document\n",
        "    with io.FileIO(input_file_path, 'rb') as in_stream:\n",
        "        with Document.open(in_stream, None) as in_doc:\n",
        "    \n",
        "            # Create output document\n",
        "            with io.FileIO(output_file_path, 'wb+') as output_stream:\n",
        "                with Document.create(output_stream, in_doc.conformance, None) as out_doc:\n",
        "    \n",
        "                    # Copy document-wide data\n",
        "                    copy_document_data(in_doc, out_doc)\n",
        "    \n",
        "                    # Create a font for the line numbers\n",
        "                    lineNumberFont = Font.create_from_system(out_doc, \"Arial\", None, True)\n",
        "    \n",
        "                    # Define page copy options\n",
        "                    copy_options = PageCopyOptions()\n",
        "    \n",
        "                    # Copy all pages from input to output document\n",
        "                    in_pages = in_doc.pages\n",
        "                    out_pages = PageList.copy(out_doc, in_pages, copy_options)\n",
        "    \n",
        "                    # Iterate over all input-output page pairs\n",
        "                    pages = zip(in_pages, out_pages)\n",
        "                    for pair in pages:\n",
        "                        add_line_numbers(out_doc, lineNumberFont, pair)\n",
        "    \n",
        "                    out_doc.pages.extend(out_pages)\n",

        "\n",
        "    print(\"Execution successful.\")\n",

        "except Exception as e:\n",
        "    print(f\"An error occurred: {e}\")"
      ]
    }
  ],
  "metadata": {
    "kernelspec": {
      "display_name": "Python 3",
      "language": "python",
      "name": "python3"
    },
    "language_info": {
      "codemirror_mode": {
        "name": "ipython",
        "version": 3
      },
      "file_extension": ".py",
      "mimetype": "text/x-python",
      "name": "python",
      "nbconvert_exporter": "python",
      "pygments_lexer": "ipython3",
      "version": "3.12.8"
    },
    "colab": {
      "provenance": []
    }
  },
  "nbformat": 4,
  "nbformat_minor": 5
}