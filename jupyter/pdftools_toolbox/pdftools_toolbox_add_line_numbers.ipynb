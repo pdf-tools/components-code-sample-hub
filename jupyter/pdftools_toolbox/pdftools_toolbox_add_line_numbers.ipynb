{
  "cells": [
    {
      "cell_type": "markdown",
      "id": "529c156f-ec6b-414b-89c9-a90cd168b18b",
      "metadata": {
          "id": "c73304ff-4df7-4633-9c66-8b51148fbb0e"
      },
      "source": [
        "[![Open In Colab](https://colab.research.google.com/assets/colab-badge.svg)](https://colab.research.google.com/github/pdf-tools/components-code-sample-hub/blob/main/jupyter/pdftools_toolbox/pdftools_toolbox_add_line_numbers.ipynb)"
      ]
    },
    {
      "cell_type": "code",
      "execution_count": null,
      "id": "e38c06b7-68dc-4e60-b21f-9252a42ba513",
      "metadata": {
          "id": "2338b7bd-ca27-4ace-a860-71871859e915"
      },
      "outputs": [],
      "source": [
        "%pip install https://pdftools-public-downloads-production.s3.eu-west-1.amazonaws.com/productkits/PDFSDKXT/latest/pdftools_toolbox-latest.tar.gz\n",
        "%pip install ipython"
      ]
    },
    {
      "cell_type": "markdown",
      "id": "54224d08-0cb7-4aca-bad5-b4a47200ffb3",
      "metadata": {
          "id": "707cf2d7-b092-44a3-b35d-ce6aebe17cf2"
      },
      "source": [
        "# Add line numbers to PDF\n",
        "Add a line number in front of each line that contains\n",
        "text."
      ]
    },
    {
      "cell_type": "code",
      "execution_count": null,
      "id": "c167182d-ebb9-4d70-939f-6ad5c19d5d85",
      "metadata": {
          "id": "68f04258-dfb2-42fa-8532-b8cb480d1c2e"
      },
      "outputs": [],
      "source": [
        "import io\n",
        "from pdftools_toolbox.pdf import Document, FileReference, Metadata, PageCopyOptions, PageList\n",
        "from pdftools_toolbox.geometry.real import Point\n",
        "from pdftools_toolbox.pdf.content import ContentExtractor, ContentGenerator, Font, IccBasedColorSpace, Text, TextElement, TextGenerator, UngroupingSelection\n",
        "from pdftools_toolbox.pdf.navigation import ViewerSettings"
      ]
    },
    {
      "cell_type": "code",
      "execution_count": null,
      "id": "958f34d4-381c-4ca0-9092-23ec30928b7c",
      "metadata": {
          "id": "0a8f1832-59fb-4b1c-95a5-0cdf17868171"
      },
      "outputs": [],
      "source": [
        "# Download a file from a given URL and save it to the local system\n",
        "def prepare_file(url: str, path: str):\n",
        "    import requests\n",
        "    response = requests.get(url)\n",
        "    response.raise_for_status()\n",
        "\n",
        "    with open(path, 'wb') as f:\n",
        "        f.write(response.content)"
      ]
    },
    {
      "cell_type": "code",
      "execution_count": null,
      "id": "6856f062-9d27-4e4a-aa73-f1c66becc3ad",
      "metadata": {
          "id": "e313939a-e378-4b9d-8d02-97c2bb5cd895"
      },
      "outputs": [],
      "source": [
        "# Set input arguments\n",
        "input_url = 'https://pdftools-public-downloads-production.s3.eu-west-1.amazonaws.com/samples/testfiles/InvoiceNone.pdf'\n",
        "input_file_path = 'InvoiceNone.pdf'\n",
        "prepare_file(input_url, input_file_path)\n",
        "output_file_path = 'InvoiceWithLineNumbers.pdf'"
      ]
    },
    {
      "cell_type": "code",
      "execution_count": null,
      "id": "2ba04763-9d35-45ba-9dcb-3cd33dd834ab",
      "metadata": {
          "id": "30df22b7-73f7-4171-a11f-681dc7162698"
      },
      "outputs": [],
      "source": [
        "def copy_document_data(in_doc: Document, out_doc: Document):\n",
        "    # Copy document-wide data\n",
        "\n",
        "    # Output intent\n",
        "    if in_doc.output_intent is not None:\n",
        "        in_doc.output_intent = IccBasedColorSpace.copy(out_doc, in_doc.output_intent)\n",
        "\n",
        "    # Metadata\n",
        "    out_doc.metadata = Metadata.copy(out_doc, in_doc.metadata)\n",
        "\n",
        "    # Viewer settings\n",
        "    out_doc.viewer_settings = ViewerSettings.copy(out_doc, in_doc.viewer_settings)\n",
        "\n",
        "    # Associated files (for PDF/A-3 and PDF 2.0 only)\n",
        "    outAssociatedFiles = out_doc.associated_files\n",
        "    for in_file_ref in in_doc.associated_files:\n",
        "        outAssociatedFiles.append(FileReference.copy(out_doc, in_file_ref))\n",
        "\n",
        "    # Plain embedded files\n",
        "    out_embedded_files = out_doc.plain_embedded_files\n",
        "    for in_file_ref in in_doc.plain_embedded_files:\n",
        "        out_embedded_files.append(FileReference.copy(out_doc, in_file_ref))"
      ]
    },
    {
      "cell_type": "code",
      "execution_count": null,
      "id": "f7cdd0e3-7630-46ea-b28f-0f2ae3b0a08e",
      "metadata": {
          "id": "aea7e98a-aa0b-4697-a07a-324d83539b41"
      },
      "outputs": [],
      "source": [
        "class TolerantSortedSet:\n",
        "    def add(self, value: float):\n",
        "        for existing in self.data:\n",
        "            if abs(existing - value) < self.tolerance:\n",
        "                return  # Do not add duplicate-like value\n",
        "\n",
        "        self.data.append(value)\n",
        "        self.data.sort(reverse=self.sort_reverse)\n",
        "\n",
        "    def iterator(self):\n",
        "        return iter(self.data)\n",
        "\n",
        "    def display(self):\n",
        "        return str(self.data)"
      ]
    },
    {
      "cell_type": "code",
      "execution_count": null,
      "id": "addfa22f-382f-40fe-8e28-2640478b91b4",
      "metadata": {
          "id": "87a9c41e-01b5-45d5-a6cd-42e9c13d59f3"
      },
      "outputs": [],
      "source": [
        "def create_tolerant_sorted_set(tolerance: float, sort_reverse: bool):\n",
        "    tolerant_sorted_set = TolerantSortedSet()\n",
        "\n",
        "    tolerant_sorted_set.tolerance = tolerance\n",
        "    tolerant_sorted_set.sort_reverse = sort_reverse\n",
        "    tolerant_sorted_set.data = []\n",
        "\n",
        "    return tolerant_sorted_set"
      ]
    },
    {
      "cell_type": "code",
      "execution_count": null,
      "id": "407b5209-d282-44ae-89a2-d89ab76a6ee5",
      "metadata": {
          "id": "cc8b275a-a70b-4eb1-ac94-c1a7bc8f11cc"
      },
      "outputs": [],
      "source": [
        "def add_line_numbers(out_doc: Document, line_number_font: Font, pair: tuple):\n",
        "    global line_number\n",
        "\n",
        "    # Add line numbers to all text found in the input page to the output page\n",
        "\n",
        "    # The input and output page\n",
        "    in_page, out_page = pair\n",
        "\n",
        "    # Extract all text fragments\n",
        "    extractor = ContentExtractor(in_page.content)\n",
        "    extractor.ungrouping = UngroupingSelection.ALL\n",
        "\n",
        "    # The left-most horizontal position of all text fragments\n",
        "    left_x = in_page.size.width\n",
        "\n",
        "    # A comparison for doubles that considers distances smaller than the font size as equal\n",
        "    def comparison(a, b):\n",
        "        d = b - a\n",
        "        if abs(d) < font_size:\n",
        "            return 0\n",
        "        return (d > 0) - (d < 0)    # return 1 if d > 0, -1 if d < 0, 0 otherwise\n",
        "\n",
        "    # A sorted set to hold the vertical positions of all text fragments\n",
        "    # Keep the data sorted in reverse order as the coordinates are reverse in a PDF\n",
        "    line_y_positions = create_tolerant_sorted_set(tolerance=font_size, sort_reverse=True)\n",
        "\n",
        "    # Iterate over all content elements of the input page\n",
        "    for element in extractor:\n",
        "        # Process only text elements\n",
        "        if isinstance(element, TextElement):\n",
        "            # Iterate over all text fragments\n",
        "            for fragment in element.text:\n",
        "                # Get the fragment's baseline starting point\n",
        "                point = fragment.transform.transform_point(\n",
        "                    Point(fragment.bounding_box.left, 0)\n",
        "                )\n",
        "\n",
        "                # Update the left-most position\n",
        "                left_x = min(left_x, point.x)\n",
        "\n",
        "                # Add the vertical position\n",
        "                line_y_positions.add(point.y)\n",
        "\n",
        "    # If at least one text fragment was found, add line numbers\n",
        "    if line_y_positions:\n",
        "        # Create a text object and use a text generator\n",
        "        text = Text.create(out_doc)\n",
        "        with TextGenerator(text, line_number_font, font_size, None) as text_generator:\n",
        "            # Iterate over all vertical positions found in the input\n",
        "            for y in line_y_positions.iterator():\n",
        "                # The line number string\n",
        "                line_number += 1\n",
        "                line_number_string = str(line_number)\n",
        "\n",
        "                # The width of the line number string when shown on the page\n",
        "                width = text_generator.get_width(line_number_string)\n",
        "\n",
        "                # Position line numbers right-aligned\n",
        "                # with a given distance to the right-most horizontal position\n",
        "                # and at the vertical position of the current text fragment\n",
        "                text_generator.move_to(Point(left_x - width - distance, y))\n",
        "\n",
        "                # Show the line number string\n",
        "                text_generator.show(line_number_string)\n",
        "\n",
        "        # Use a content generator to paint the text onto the page\n",
        "        with ContentGenerator(out_page.content, False) as content_generator:\n",
        "            content_generator.paint_text(text)"
      ]
    },
    {
      "cell_type": "code",
      "execution_count": null,
      "id": "fe9d9b04-74f3-4851-9936-7165d178e118",
      "metadata": {
          "id": "dbf31f68-46c0-48f2-ba8a-fa2a80affedc"
      },
      "outputs": [],
      "source": [
        "try:\n",
        "    # Set and check license key. If the license key is not valid, an exception is thrown.\n",
        "    from pdftools_toolbox.sdk import Sdk\n",
        "    Sdk.initialize(\"<PDFSDK,V1,MGAASQD6L2JMQHL54PK08RQX8GG4SS0M8DAHVPH0VMP3NB8R9DUK>\", None)\n",

        "\n",
        "    # Define global variables\n",
        "    distance = 10\n",
        "    font_size = 8.0\n",
        "    line_number = 0\n",
        "    \n",
        "    # Open input document\n",
        "    with io.FileIO(input_file_path, 'rb') as in_stream:\n",
        "        with Document.open(in_stream, None) as in_doc:\n",
        "    \n",
        "            # Create output document\n",
        "            with io.FileIO(output_file_path, 'wb+') as output_stream:\n",
        "                with Document.create(output_stream, in_doc.conformance, None) as out_doc:\n",
        "    \n",
        "                    # Copy document-wide data\n",
        "                    copy_document_data(in_doc, out_doc)\n",
        "    \n",
        "                    # Create a font for the line numbers\n",
        "                    lineNumberFont = Font.create_from_system(out_doc, \"Arial\", None, True)\n",
        "    \n",
        "                    # Define page copy options\n",
        "                    copy_options = PageCopyOptions()\n",
        "    \n",
        "                    # Copy all pages from input to output document\n",
        "                    in_pages = in_doc.pages\n",
        "                    out_pages = PageList.copy(out_doc, in_pages, copy_options)\n",
        "    \n",
        "                    # Iterate over all input-output page pairs\n",
        "                    pages = zip(in_pages, out_pages)\n",
        "                    for pair in pages:\n",
        "                        add_line_numbers(out_doc, lineNumberFont, pair)\n",
        "    \n",
        "                    out_doc.pages.extend(out_pages)\n",

        "\n",
        "    print(\"Execution successful.\")\n",

        "except Exception as e:\n",
        "    print(f\"An error occurred: {e}\")"
      ]
    }
  ],
  "metadata": {
    "kernelspec": {
      "display_name": "Python 3",
      "language": "python",
      "name": "python3"
    },
    "language_info": {
      "codemirror_mode": {
        "name": "ipython",
        "version": 3
      },
      "file_extension": ".py",
      "mimetype": "text/x-python",
      "name": "python",
      "nbconvert_exporter": "python",
      "pygments_lexer": "ipython3",
      "version": "3.12.8"
    },
    "colab": {
      "provenance": []
    }
  },
  "nbformat": 4,
  "nbformat_minor": 5
}