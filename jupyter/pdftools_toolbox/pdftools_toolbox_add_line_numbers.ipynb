{
  "cells": [
    {
      "cell_type": "markdown",
      "id": "d554fae5-decc-42fc-abeb-51dbbd128104",
      "metadata": {
          "id": "9d019c7e-286d-499e-a908-615cba4a7281"
      },
      "source": [
        "[![Open In Colab](https://colab.research.google.com/assets/colab-badge.svg)](https://colab.research.google.com/github/pdf-tools/components-code-sample-hub/blob/main/jupyter/pdftools_toolbox/pdftools_toolbox_add_line_numbers.ipynb)"
      ]
    },
    {
      "cell_type": "code",
      "execution_count": null,
      "id": "2b08b368-dfc0-4603-a037-d2ee7ccf3264",
      "metadata": {
          "id": "29ec54c5-90bb-443e-93fd-935181272652"
      },
      "outputs": [],
      "source": [
        "%pip install pdftools_toolbox\n",
        "%pip install ipython"
      ]
    },
    {
      "cell_type": "markdown",
      "id": "564e93b0-6526-4c92-95a8-1d72d3ca1bf3",
      "metadata": {
          "id": "2cdbc9ff-2540-41ab-8de1-4ae0b4fbfac8"
      },
      "source": [
        "# Add line numbers to PDF\n",
        "Add a line number in front of each line that contains\n",
        "text."
      ]
    },
    {
      "cell_type": "code",
      "execution_count": null,
      "id": "3e3fc810-a788-4bb3-926b-a24e8eecb298",
      "metadata": {
          "id": "f5c975b1-4497-4481-9047-65f95a1d6871"
      },
      "outputs": [],
      "source": [
        "import io\n",
        "from pdftools_toolbox.pdf import Document, FileReference, Metadata, PageCopyOptions, PageList\n",
        "from pdftools_toolbox.geometry.real import Point\n",
        "from pdftools_toolbox.pdf.content import ContentExtractor, ContentGenerator, Font, IccBasedColorSpace, Text, TextElement, TextGenerator, UngroupingSelection\n",
        "from pdftools_toolbox.pdf.navigation import ViewerSettings"
      ]
    },
    {
      "cell_type": "code",
      "execution_count": null,
      "id": "1ec7cd68-0b6b-4dd0-b763-26d2b7dc7b41",
      "metadata": {
          "id": "6f230d04-8a09-45a2-81bb-6c2a0bf9508e"
      },
      "outputs": [],
      "source": [
        "# Download a file from a given URL and save it to the local system\n",
        "def prepare_file(url: str, path: str):\n",
        "    import requests\n",
        "    response = requests.get(url)\n",
        "    response.raise_for_status()\n",
        "\n",
        "    with open(path, 'wb') as f:\n",
        "        f.write(response.content)"
      ]
    },
    {
      "cell_type": "code",
      "execution_count": null,
      "id": "75dc7fe0-58f2-487a-8742-3eb17948fbef",
      "metadata": {
          "id": "e41fb0f2-c4b5-42ad-bfa2-a89bd03d7e79"
      },
      "outputs": [],
      "source": [
        "# Set input arguments\n",
        "input_url = 'https://pdftools-public-downloads-production.s3.eu-west-1.amazonaws.com/samples/testfiles/InvoiceNone.pdf'\n",
        "input_file_path = 'InvoiceNone.pdf'\n",
        "prepare_file(input_url, input_file_path)\n",
        "output_file_path = 'InvoiceWithLineNumbers.pdf'"
      ]
    },
    {
      "cell_type": "code",
      "execution_count": null,
      "id": "dd8c57d4-4e32-4eef-851b-173999c03055",
      "metadata": {
          "id": "511f5c10-3d29-4ba7-8dba-920328608fa8"
      },
      "outputs": [],
      "source": [
        "def copy_document_data(in_doc: Document, out_doc: Document):\n",
        "    # Copy document-wide data\n",
        "\n",
        "    # Output intent\n",
        "    if in_doc.output_intent is not None:\n",
        "        in_doc.output_intent = IccBasedColorSpace.copy(out_doc, in_doc.output_intent)\n",
        "\n",
        "    # Metadata\n",
        "    out_doc.metadata = Metadata.copy(out_doc, in_doc.metadata)\n",
        "\n",
        "    # Viewer settings\n",
        "    out_doc.viewer_settings = ViewerSettings.copy(out_doc, in_doc.viewer_settings)\n",
        "\n",
        "    # Associated files (for PDF/A-3 and PDF 2.0 only)\n",
        "    outAssociatedFiles = out_doc.associated_files\n",
        "    for in_file_ref in in_doc.associated_files:\n",
        "        outAssociatedFiles.append(FileReference.copy(out_doc, in_file_ref))\n",
        "\n",
        "    # Plain embedded files\n",
        "    out_embedded_files = out_doc.plain_embedded_files\n",
        "    for in_file_ref in in_doc.plain_embedded_files:\n",
        "        out_embedded_files.append(FileReference.copy(out_doc, in_file_ref))"
      ]
    },{
      "cell_type": "code",
      "execution_count": null,
      "id": "a6157a86-72e2-45c8-a6ae-2742047db328",
      "metadata": {
          "id": "234bdefa-4233-4819-b5e9-e8d85b84346a"
      },
      "outputs": [],
      "source": [
        "class TolerantSortedSet:\n",
        "    def add(self, value: float):\n",
        "        for existing in self.data:\n",
        "            if abs(existing - value) < self.tolerance:\n",
        "                return  # Do not add duplicate-like value\n",
        "\n",
        "        self.data.append(value)\n",
        "        self.data.sort(reverse=self.sort_reverse)\n",
        "\n",
        "    def iterator(self):\n",
        "        return iter(self.data)\n",
        "\n",
        "    def display(self):\n",
        "        return str(self.data)"
      ]
    },{
      "cell_type": "code",
      "execution_count": null,
      "id": "aa3d22fc-3cd3-45bb-bed4-c3111fb98519",
      "metadata": {
          "id": "6b397e2c-ba0f-469f-a8c3-e95140155023"
      },
      "outputs": [],
      "source": [
        "def create_tolerant_sorted_set(tolerance: float, sort_reverse: bool):\n",
        "    tolerant_sorted_set = TolerantSortedSet()\n",
        "\n",
        "    tolerant_sorted_set.tolerance = tolerance\n",
        "    tolerant_sorted_set.sort_reverse = sort_reverse\n",
        "    tolerant_sorted_set.data = []\n",
        "\n",
        "    return tolerant_sorted_set"
      ]
    },{
      "cell_type": "code",
      "execution_count": null,
      "id": "048adad0-901b-4a81-8c99-0a44b3248989",
      "metadata": {
          "id": "6d202b43-92a9-43b6-951d-33c74b7fec1d"
      },
      "outputs": [],
      "source": [
        "def add_line_numbers(out_doc: Document, line_number_font: Font, pair: tuple):\n",
        "    global line_number\n",
        "\n",
        "    # Add line numbers to all text found in the input page to the output page\n",
        "\n",
        "    # The input and output page\n",
        "    in_page, out_page = pair\n",
        "\n",
        "    # Extract all text fragments\n",
        "    extractor = ContentExtractor(in_page.content)\n",
        "    extractor.ungrouping = UngroupingSelection.ALL\n",
        "\n",
        "    # The left-most horizontal position of all text fragments\n",
        "    left_x = in_page.size.width\n",
        "\n",
        "    # A comparison for doubles that considers distances smaller than the font size as equal\n",
        "    def comparison(a, b):\n",
        "        d = b - a\n",
        "        if abs(d) < font_size:\n",
        "            return 0\n",
        "        return (d > 0) - (d < 0)    # return 1 if d > 0, -1 if d < 0, 0 otherwise\n",
        "\n",
        "    # A sorted set to hold the vertical positions of all text fragments\n",
        "    # Keep the data sorted in reverse order as the coordinates are reverse in a PDF\n",
        "    line_y_positions = create_tolerant_sorted_set(tolerance=font_size, sort_reverse=True)\n",
        "\n",
        "    # Iterate over all content elements of the input page\n",
        "    for element in extractor:\n",
        "        # Process only text elements\n",
        "        if isinstance(element, TextElement):\n",
        "            # Iterate over all text fragments\n",
        "            for fragment in element.text:\n",
        "                # Get the fragment's baseline starting point\n",
        "                point = fragment.transform.transform_point(\n",
        "                    Point(fragment.bounding_box.left, 0)\n",
        "                )\n",
        "\n",
        "                # Update the left-most position\n",
        "                left_x = min(left_x, point.x)\n",
        "\n",
        "                # Add the vertical position\n",
        "                line_y_positions.add(point.y)\n",
        "\n",
        "    # If at least one text fragment was found, add line numbers\n",
        "    if line_y_positions:\n",
        "        # Create a text object and use a text generator\n",
        "        text = Text.create(out_doc)\n",
        "        with TextGenerator(text, line_number_font, font_size, None) as text_generator:\n",
        "            # Iterate over all vertical positions found in the input\n",
        "            for y in line_y_positions.iterator():\n",
        "                # The line number string\n",
        "                line_number += 1\n",
        "                line_number_string = str(line_number)\n",
        "\n",
        "                # The width of the line number string when shown on the page\n",
        "                width = text_generator.get_width(line_number_string)\n",
        "\n",
        "                # Position line numbers right-aligned\n",
        "                # with a given distance to the right-most horizontal position\n",
        "                # and at the vertical position of the current text fragment\n",
        "                text_generator.move_to(Point(left_x - width - distance, y))\n",
        "\n",
        "                # Show the line number string\n",
        "                text_generator.show(line_number_string)\n",
        "\n",
        "        # Use a content generator to paint the text onto the page\n",
        "        with ContentGenerator(out_page.content, False) as content_generator:\n",
        "            content_generator.paint_text(text)"
      ]
    },
    {
      "cell_type": "code",
      "execution_count": null,
      "id": "e4755d65-cdfb-44fa-9539-6a264e0b99ae",
      "metadata": {
          "id": "3f65219d-a378-4c05-94ec-ba3881a8eadc"
      },
      "outputs": [],
      "source": [
        "try:\n",
        "    # Set and check license key. If the license key is not valid, an exception is thrown.\n",
        "    from pdftools_toolbox.sdk import Sdk\n",
        "    Sdk.initialize(\"INSERT-LICENSE-KEY\", None)\n",

        "\n",
        "    # Define global variables\n",
        "    distance = 10\n",
        "    font_size = 8.0\n",
        "    line_number = 0\n",
        "    \n",
        "    # Open input document\n",
        "    with io.FileIO(input_file_path, 'rb') as in_stream:\n",
        "        with Document.open(in_stream, None) as in_doc:\n",
        "    \n",
        "            # Create output document\n",
        "            with io.FileIO(output_file_path, 'wb+') as output_stream:\n",
        "                with Document.create(output_stream, in_doc.conformance, None) as out_doc:\n",
        "    \n",
        "                    # Copy document-wide data\n",
        "                    copy_document_data(in_doc, out_doc)\n",
        "    \n",
        "                    # Create a font for the line numbers\n",
        "                    lineNumberFont = Font.create_from_system(out_doc, \"Arial\", None, True)\n",
        "    \n",
        "                    # Define page copy options\n",
        "                    copy_options = PageCopyOptions()\n",
        "    \n",
        "                    # Copy all pages from input to output document\n",
        "                    in_pages = in_doc.pages\n",
        "                    out_pages = PageList.copy(out_doc, in_pages, copy_options)\n",
        "    \n",
        "                    # Iterate over all input-output page pairs\n",
        "                    pages = zip(in_pages, out_pages)\n",
        "                    for pair in pages:\n",
        "                        add_line_numbers(out_doc, lineNumberFont, pair)\n",
        "    \n",
        "                    out_doc.pages.extend(out_pages)\n",

        "\n",
        "    print(\"Execution successful.\")\n",

        "except Exception as e:\n",
        "    print(f\"An error occurred: {e}\")"
      ]
    }
  ],
  "metadata": {
    "kernelspec": {
      "display_name": "Python 3",
      "language": "python",
      "name": "python3"
    },
    "language_info": {
      "codemirror_mode": {
        "name": "ipython",
        "version": 3
      },
      "file_extension": ".py",
      "mimetype": "text/x-python",
      "name": "python",
      "nbconvert_exporter": "python",
      "pygments_lexer": "ipython3",
      "version": "3.12.8"
    },
    "colab": {
      "provenance": []
    }
  },
  "nbformat": 4,
  "nbformat_minor": 5
}