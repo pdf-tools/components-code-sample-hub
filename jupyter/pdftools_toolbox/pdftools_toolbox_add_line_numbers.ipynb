{
  "cells": [
    {
      "cell_type": "markdown",
      "id": "d51ec12c-86f5-48ca-b7ff-dd85800fefa2",
      "metadata": {
          "id": "fe403c09-b22e-4582-bdbc-221f6ab76fc5"
      },
      "source": [
        "[![Open In Colab](https://colab.research.google.com/assets/colab-badge.svg)](https://colab.research.google.com/github/pdf-tools/components-code-sample-hub/blob/main/jupyter/pdftools_toolbox/pdftools_toolbox_add_line_numbers.ipynb)"
      ]
    },
    {
      "cell_type": "code",
      "execution_count": null,
      "id": "d2674400-cfff-490d-8f47-34593e6b2183",
      "metadata": {
          "id": "93b176d7-670e-4c6b-9f6a-7983fb22c162"
      },
      "outputs": [],
      "source": [
        "%pip install https://pdftools-public-downloads-production.s3.eu-west-1.amazonaws.com/productkits/PDFSDKXT/latest/pdftools_toolbox-latest.tar.gz\n",
        "%pip install ipython"
      ]
    },
    {
      "cell_type": "markdown",
      "id": "cf359c3d-91e7-40b2-8fac-6a482817eb04",
      "metadata": {
          "id": "2b67882d-4f63-49ca-b4ae-87fc22d4fad5"
      },
      "source": [
        "# Add line numbers to PDF\n",
        "Add a line number in front of each line that contains\n",
        "text."
      ]
    },
    {
      "cell_type": "code",
      "execution_count": null,
      "id": "48be4439-55a9-4989-943a-98596c1764d6",
      "metadata": {
          "id": "4bffadc3-d787-4e7e-ab25-ffec3f823768"
      },
      "outputs": [],
      "source": [
        "import io\n",
        "from pdftools_toolbox.pdf import Document, FileReference, Metadata, PageCopyOptions, PageList\n",
        "from pdftools_toolbox.geometry.real import Point\n",
        "from pdftools_toolbox.pdf.content import ContentExtractor, ContentGenerator, Font, IccBasedColorSpace, Text, TextElement, TextGenerator, UngroupingSelection\n",
        "from pdftools_toolbox.pdf.navigation import ViewerSettings"
      ]
    },
    {
      "cell_type": "code",
      "execution_count": null,
      "id": "5780b50f-1739-4f5b-881b-138ab1252aa0",
      "metadata": {
          "id": "dea1da2e-7c72-48ce-9bdf-e6b690fd0c25"
      },
      "outputs": [],
      "source": [
        "# Download a file from a given URL and save it to the local system\n",
        "def prepare_file(url: str, path: str):\n",
        "    import requests\n",
        "    response = requests.get(url)\n",
        "    response.raise_for_status()\n",
        "\n",
        "    with open(path, 'wb') as f:\n",
        "        f.write(response.content)"
      ]
    },
    {
      "cell_type": "code",
      "execution_count": null,
      "id": "340b460f-2f82-4eff-bcfa-2dad4ab9494a",
      "metadata": {
          "id": "a0bcb436-a6d6-44bf-a1b3-0ce85517bd74"
      },
      "outputs": [],
      "source": [
        "# Set input arguments\n",
        "input_url = 'https://pdftools-public-downloads-production.s3.eu-west-1.amazonaws.com/samples/testfiles/InvoiceNone.pdf'\n",
        "input_file_path = 'InvoiceNone.pdf'\n",
        "prepare_file(input_url, input_file_path)\n",
        "output_file_path = 'InvoiceWithLineNumbers.pdf'"
      ]
    },
    {
      "cell_type": "code",
      "execution_count": null,
      "id": "05da20ea-c3cb-42c0-9a12-a1a37bbf92fd",
      "metadata": {
          "id": "790ad655-9467-4afb-8ce2-3fd2f9188c9c"
      },
      "outputs": [],
      "source": [
        "def copy_document_data(in_doc: Document, out_doc: Document):\n",
        "    # Copy document-wide data\n",
        "\n",
        "    # Output intent\n",
        "    if in_doc.output_intent is not None:\n",
        "        in_doc.output_intent = IccBasedColorSpace.copy(out_doc, in_doc.output_intent)\n",
        "\n",
        "    # Metadata\n",
        "    out_doc.metadata = Metadata.copy(out_doc, in_doc.metadata)\n",
        "\n",
        "    # Viewer settings\n",
        "    out_doc.viewer_settings = ViewerSettings.copy(out_doc, in_doc.viewer_settings)\n",
        "\n",
        "    # Associated files (for PDF/A-3 and PDF 2.0 only)\n",
        "    outAssociatedFiles = out_doc.associated_files\n",
        "    for in_file_ref in in_doc.associated_files:\n",
        "        outAssociatedFiles.append(FileReference.copy(out_doc, in_file_ref))\n",
        "\n",
        "    # Plain embedded files\n",
        "    out_embedded_files = out_doc.plain_embedded_files\n",
        "    for in_file_ref in in_doc.plain_embedded_files:\n",
        "        out_embedded_files.append(FileReference.copy(out_doc, in_file_ref))"
      ]
    },
    {
      "cell_type": "code",
      "execution_count": null,
      "id": "c6c2b513-f40d-4d37-949c-03a68c8d0b94",
      "metadata": {
          "id": "5357d527-d555-4d7b-8c48-af0d4006eb08"
      },
      "outputs": [],
      "source": [
        "class TolerantSortedSet:\n",
        "    def add(self, value: float):\n",
        "        for existing in self.data:\n",
        "            if abs(existing - value) < self.tolerance:\n",
        "                return  # Do not add duplicate-like value\n",
        "\n",
        "        self.data.append(value)\n",
        "        self.data.sort(reverse=self.sort_reverse)\n",
        "\n",
        "    def iterator(self):\n",
        "        return iter(self.data)\n",
        "\n",
        "    def display(self):\n",
        "        return str(self.data)"
      ]
    },
    {
      "cell_type": "code",
      "execution_count": null,
      "id": "3add05d8-ae0e-4744-90a2-1dd5c9eab6d2",
      "metadata": {
          "id": "fff2baed-ea45-4f3c-9f38-4c5dfd167c0c"
      },
      "outputs": [],
      "source": [
        "def create_tolerant_sorted_set(tolerance: float, sort_reverse: bool):\n",
        "    tolerant_sorted_set = TolerantSortedSet()\n",
        "\n",
        "    tolerant_sorted_set.tolerance = tolerance\n",
        "    tolerant_sorted_set.sort_reverse = sort_reverse\n",
        "    tolerant_sorted_set.data = []\n",
        "\n",
        "    return tolerant_sorted_set"
      ]
    },
    {
      "cell_type": "code",
      "execution_count": null,
      "id": "4a4a488d-1a21-4cbb-9af7-69cfc6105b7b",
      "metadata": {
          "id": "4e854862-4c3e-4c03-b1b3-1999aa2dc6ca"
      },
      "outputs": [],
      "source": [
        "def add_line_numbers(out_doc: Document, line_number_font: Font, pair: tuple):\n",
        "    global line_number\n",
        "\n",
        "    # Add line numbers to all text found in the input page to the output page\n",
        "\n",
        "    # The input and output page\n",
        "    in_page, out_page = pair\n",
        "\n",
        "    # Extract all text fragments\n",
        "    extractor = ContentExtractor(in_page.content)\n",
        "    extractor.ungrouping = UngroupingSelection.ALL\n",
        "\n",
        "    # The left-most horizontal position of all text fragments\n",
        "    left_x = in_page.size.width\n",
        "\n",
        "    # A comparison for doubles that considers distances smaller than the font size as equal\n",
        "    def comparison(a, b):\n",
        "        d = b - a\n",
        "        if abs(d) < font_size:\n",
        "            return 0\n",
        "        return (d > 0) - (d < 0)    # return 1 if d > 0, -1 if d < 0, 0 otherwise\n",
        "\n",
        "    # A sorted set to hold the vertical positions of all text fragments\n",
        "    # Keep the data sorted in reverse order as the coordinates are reverse in a PDF\n",
        "    line_y_positions = create_tolerant_sorted_set(tolerance=font_size, sort_reverse=True)\n",
        "\n",
        "    # Iterate over all content elements of the input page\n",
        "    for element in extractor:\n",
        "        # Process only text elements\n",
        "        if isinstance(element, TextElement):\n",
        "            # Iterate over all text fragments\n",
        "            for fragment in element.text:\n",
        "                # Get the fragment's baseline starting point\n",
        "                point = fragment.transform.transform_point(\n",
        "                    Point(fragment.bounding_box.left, 0)\n",
        "                )\n",
        "\n",
        "                # Update the left-most position\n",
        "                left_x = min(left_x, point.x)\n",
        "\n",
        "                # Add the vertical position\n",
        "                line_y_positions.add(point.y)\n",
        "\n",
        "    # If at least one text fragment was found, add line numbers\n",
        "    if line_y_positions:\n",
        "        # Create a text object and use a text generator\n",
        "        text = Text.create(out_doc)\n",
        "        with TextGenerator(text, line_number_font, font_size, None) as text_generator:\n",
        "            # Iterate over all vertical positions found in the input\n",
        "            for y in line_y_positions.iterator():\n",
        "                # The line number string\n",
        "                line_number += 1\n",
        "                line_number_string = str(line_number)\n",
        "\n",
        "                # The width of the line number string when shown on the page\n",
        "                width = text_generator.get_width(line_number_string)\n",
        "\n",
        "                # Position line numbers right-aligned\n",
        "                # with a given distance to the right-most horizontal position\n",
        "                # and at the vertical position of the current text fragment\n",
        "                text_generator.move_to(Point(left_x - width - distance, y))\n",
        "\n",
        "                # Show the line number string\n",
        "                text_generator.show(line_number_string)\n",
        "\n",
        "        # Use a content generator to paint the text onto the page\n",
        "        with ContentGenerator(out_page.content, False) as content_generator:\n",
        "            content_generator.paint_text(text)"
      ]
    },
    {
      "cell_type": "code",
      "execution_count": null,
      "id": "a765eb84-bf3f-4d6a-b10e-6c42e9e7fe81",
      "metadata": {
          "id": "c7aac42d-c92a-4683-afbd-d75b8cc932eb"
      },
      "outputs": [],
      "source": [
        "try:\n",
        "    # Set and check license key. If the license key is not valid, an exception is thrown.\n",
        "    from pdftools_toolbox.sdk import Sdk\n",
        "    Sdk.initialize(\"INSERT-LICENSE-KEY\", None)\n",

        "\n",
        "    # Define global variables\n",
        "    distance = 10\n",
        "    font_size = 8.0\n",
        "    line_number = 0\n",
        "    \n",
        "    # Open input document\n",
        "    with io.FileIO(input_file_path, 'rb') as in_stream:\n",
        "        with Document.open(in_stream, None) as in_doc:\n",
        "    \n",
        "            # Create output document\n",
        "            with io.FileIO(output_file_path, 'wb+') as output_stream:\n",
        "                with Document.create(output_stream, in_doc.conformance, None) as out_doc:\n",
        "    \n",
        "                    # Copy document-wide data\n",
        "                    copy_document_data(in_doc, out_doc)\n",
        "    \n",
        "                    # Create a font for the line numbers\n",
        "                    lineNumberFont = Font.create_from_system(out_doc, \"Arial\", None, True)\n",
        "    \n",
        "                    # Define page copy options\n",
        "                    copy_options = PageCopyOptions()\n",
        "    \n",
        "                    # Copy all pages from input to output document\n",
        "                    in_pages = in_doc.pages\n",
        "                    out_pages = PageList.copy(out_doc, in_pages, copy_options)\n",
        "    \n",
        "                    # Iterate over all input-output page pairs\n",
        "                    pages = zip(in_pages, out_pages)\n",
        "                    for pair in pages:\n",
        "                        add_line_numbers(out_doc, lineNumberFont, pair)\n",
        "    \n",
        "                    out_doc.pages.extend(out_pages)\n",

        "\n",
        "    print(\"Execution successful.\")\n",

        "except Exception as e:\n",
        "    print(f\"An error occurred: {e}\")"
      ]
    }
  ],
  "metadata": {
    "kernelspec": {
      "display_name": "Python 3",
      "language": "python",
      "name": "python3"
    },
    "language_info": {
      "codemirror_mode": {
        "name": "ipython",
        "version": 3
      },
      "file_extension": ".py",
      "mimetype": "text/x-python",
      "name": "python",
      "nbconvert_exporter": "python",
      "pygments_lexer": "ipython3",
      "version": "3.12.8"
    },
    "colab": {
      "provenance": []
    }
  },
  "nbformat": 4,
  "nbformat_minor": 5
}