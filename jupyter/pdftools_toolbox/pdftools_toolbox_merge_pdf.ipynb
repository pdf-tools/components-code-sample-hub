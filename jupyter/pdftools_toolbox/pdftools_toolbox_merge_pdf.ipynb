{
  "cells": [
    {
      "cell_type": "markdown",
      "id": "20be828f-8db0-4409-b081-7732b6b98b83",
      "metadata": {
          "id": "da490143-90c9-449a-92e8-80d3205d36a0"
      },
      "source": [
        "[![Open In Colab](https://colab.research.google.com/assets/colab-badge.svg)](https://colab.research.google.com/github/pdf-tools/components-code-sample-hub/blob/main/jupyter/pdftools_toolbox/pdftools_toolbox_merge_pdf.ipynb)"
      ]
    },
    {
      "cell_type": "code",
      "execution_count": null,
      "id": "714027c6-e868-4197-ae4a-fd9c0af1775c",
      "metadata": {
          "id": "0336d951-4a0c-4cba-8a52-e4abe2e3fc49"
      },
      "outputs": [],
      "source": [
        "%pip install pdftools_toolbox\n",
        "%pip install ipython"
      ]
    },
    {
      "cell_type": "markdown",
      "id": "6f690ddf-853a-47f3-8f8e-25c25752833f",
      "metadata": {
          "id": "dd381fdc-184a-4923-afcf-76dd74a4ebb1"
      },
      "source": [
        "# Merge multiple PDFs\n",
        "Merge several PDF documents to one."
      ]
    },
    {
      "cell_type": "code",
      "execution_count": null,
      "id": "e4b38fb8-03ef-40d7-b31f-e81e4df126a1",
      "metadata": {
          "id": "dd76b51e-4d43-447e-aff3-10a3f137c9f6"
      },
      "outputs": [],
      "source": [
        "import io\n",
        "from pdftools_toolbox.pdf import Document, PageCopyOptions, PageList"
      ]
    },
    {
      "cell_type": "code",
      "execution_count": null,
      "id": "6fd19581-0adf-41e1-b348-52bd6b647dd1",
      "metadata": {
          "id": "b4faa62b-27cf-4991-a9b8-0d5e0971f190"
      },
      "outputs": [],
      "source": [
        "# Download a file from a given URL and save it to the local system\n",
        "def prepare_file(url: str, path: str):\n",
        "    import requests\n",
        "    response = requests.get(url)\n",
        "    response.raise_for_status()\n",
        "\n",
        "    with open(path, 'wb') as f:\n",
        "        f.write(response.content)"
      ]
    },
    {
      "cell_type": "code",
      "execution_count": null,
      "id": "efaad80e-f269-4a96-93a2-ddf0a6dc389b",
      "metadata": {
          "id": "b33101a6-d85c-4cec-8ee8-4cdb8d2d331c"
      },
      "outputs": [],
      "source": [
        "# Set input arguments\n",
        "input_url1 = 'https://pdftools-public-downloads-production.s3.eu-west-1.amazonaws.com/samples/testfiles/GraphicsNone.pdf'\n",
        "input_url2 = 'https://pdftools-public-downloads-production.s3.eu-west-1.amazonaws.com/samples/testfiles/BlankNoneNoTP.pdf'\n",
        "input_paths = ['GraphicsNone.pdf', 'BlankNoneNoTP.pdf']\n",
        "prepare_file(input_url1, input_paths[0])\n",
        "prepare_file(input_url2, input_paths[1])\n",
        "output_file_path = 'Merged.pdf'"
      ]
    },
    {
      "cell_type": "code",
      "execution_count": null,
      "id": "01f29470-e87e-488b-a2f0-bc4a51bb03f2",
      "metadata": {
          "id": "c657c5a7-52dc-4376-87fd-0e4afee809be"
      },
      "outputs": [],
      "source": [
        "try:\n",
        "    # Set and check license key. If the license key is not valid, an exception is thrown.\n",
        "    from pdftools_toolbox.sdk import Sdk\n",
        "    Sdk.initialize(\"INSERT-LICENSE-KEY\", None)\n",

        "\n",
        "    # Create output document\n",
        "    with open(output_file_path, \"wb+\") as out_stream:\n",
        "        with Document.create(out_stream, None, None) as out_doc:\n",
        "    \n",
        "            # Define page copy options\n",
        "            page_copy_options = PageCopyOptions()\n",
        "    \n",
        "            # Get output pages\n",
        "            out_pages = out_doc.pages\n",
        "    \n",
        "            # Merge input documents\n",
        "            for input_path in input_paths:\n",
        "                # Open input document\n",
        "                with open(input_path, \"rb\") as in_stream:\n",
        "                    with Document.open(in_stream, None) as in_doc:\n",
        "    \n",
        "                        # Copy all pages and append to output document\n",
        "                        copied_pages = PageList.copy(out_doc, in_doc.pages, page_copy_options)\n",
        "                        out_pages.extend(copied_pages)\n",

        "\n",
        "    print(\"Execution successful.\")\n",

        "except Exception as e:\n",
        "    print(f\"An error occurred: {e}\")"
      ]
    }
  ],
  "metadata": {
    "kernelspec": {
      "display_name": "Python 3",
      "language": "python",
      "name": "python3"
    },
    "language_info": {
      "codemirror_mode": {
        "name": "ipython",
        "version": 3
      },
      "file_extension": ".py",
      "mimetype": "text/x-python",
      "name": "python",
      "nbconvert_exporter": "python",
      "pygments_lexer": "ipython3",
      "version": "3.12.8"
    },
    "colab": {
      "provenance": []
    }
  },
  "nbformat": 4,
  "nbformat_minor": 5
}