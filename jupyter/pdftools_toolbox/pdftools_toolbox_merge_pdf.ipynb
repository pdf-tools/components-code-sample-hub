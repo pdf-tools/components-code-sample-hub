{
  "cells": [
    {
      "cell_type": "markdown",
      "id": "b8dd0cdb-c7f2-4f10-b35a-beabd55ebcc4",
      "metadata": {
          "id": "0983aea0-276c-443a-b07e-fef303af2b25"
      },
      "source": [
        "[![Open In Colab](https://colab.research.google.com/assets/colab-badge.svg)](https://colab.research.google.com/github/pdf-tools/components-code-sample-hub/blob/main/jupyter/pdftools_toolbox/pdftools_toolbox_merge_pdf.ipynb)"
      ]
    },
    {
      "cell_type": "code",
      "execution_count": null,
      "id": "46f9e9ef-18b4-4b62-ba84-b676097bc954",
      "metadata": {
          "id": "ce34475e-3e48-483d-ba35-63cb9a2d88c2"
      },
      "outputs": [],
      "source": [
        "%pip install https://pdftools-public-downloads-production.s3.eu-west-1.amazonaws.com/productkits/PDFSDKXT/latest/pdftools_toolbox-latest.tar.gz\n",
        "%pip install ipython"
      ]
    },
    {
      "cell_type": "markdown",
      "id": "3d1c26bc-f85f-4ba5-839c-da11af9ef8e4",
      "metadata": {
          "id": "4a406107-f6f9-427f-b4ff-817bd749c71f"
      },
      "source": [
        "# Merge multiple PDFs\n",
        "Merge several PDF documents to one."
      ]
    },
    {
      "cell_type": "code",
      "execution_count": null,
      "id": "be67915f-2d32-42c1-a189-bd01083ff420",
      "metadata": {
          "id": "10657798-4ede-4f1b-9447-a00e02d0647e"
      },
      "outputs": [],
      "source": [
        "import io\n",
        "from pdftools_toolbox.pdf import Document, PageCopyOptions, PageList"
      ]
    },
    {
      "cell_type": "code",
      "execution_count": null,
      "id": "f18a5eba-9cc8-43dd-b69a-4f09d6c69983",
      "metadata": {
          "id": "7f35f04f-3629-4760-9cf4-395278563c18"
      },
      "outputs": [],
      "source": [
        "# Download a file from a given URL and save it to the local system\n",
        "def prepare_file(url: str, path: str):\n",
        "    import requests\n",
        "    response = requests.get(url)\n",
        "    response.raise_for_status()\n",
        "\n",
        "    with open(path, 'wb') as f:\n",
        "        f.write(response.content)"
      ]
    },
    {
      "cell_type": "code",
      "execution_count": null,
      "id": "edfa7c26-a013-4fb2-975b-006ec2c2cac5",
      "metadata": {
          "id": "c764f3ca-dd71-4314-801b-e58a221ee9f0"
      },
      "outputs": [],
      "source": [
        "# Set input arguments\n",
        "input_url1 = 'https://pdftools-public-downloads-production.s3.eu-west-1.amazonaws.com/samples/testfiles/GraphicsNone.pdf'\n",
        "input_url2 = 'https://pdftools-public-downloads-production.s3.eu-west-1.amazonaws.com/samples/testfiles/BlankNoneNoTP.pdf'\n",
        "input_paths = ['GraphicsNone.pdf', 'BlankNoneNoTP.pdf']\n",
        "prepare_file(input_url1, input_paths[0])\n",
        "prepare_file(input_url2, input_paths[1])\n",
        "output_file_path = 'Merged.pdf'"
      ]
    },
    {
      "cell_type": "code",
      "execution_count": null,
      "id": "76509033-b7ef-4f7c-a3dc-9b0e3622f346",
      "metadata": {
          "id": "6da4fc93-d01a-4a7d-bdb4-4e8cf73376bf"
      },
      "outputs": [],
      "source": [
        "try:\n",
        "    # Set and check license key. If the license key is not valid, an exception is thrown.\n",
        "    from pdftools_toolbox.sdk import Sdk\n",
        "    Sdk.initialize(\"<PDFSDK,V1,MGAASQD6L2JMQHL54PK08RQX8GG4SS0M8DAHVPH0VMP3NB8R9DUK>\", None)\n",

        "\n",
        "    # Create output document\n",
        "    with open(output_file_path, \"wb+\") as out_stream:\n",
        "        with Document.create(out_stream, None, None) as out_doc:\n",
        "    \n",
        "            # Define page copy options\n",
        "            page_copy_options = PageCopyOptions()\n",
        "    \n",
        "            # Get output pages\n",
        "            out_pages = out_doc.pages\n",
        "    \n",
        "            # Merge input documents\n",
        "            for input_path in input_paths:\n",
        "                # Open input document\n",
        "                with open(input_path, \"rb\") as in_stream:\n",
        "                    with Document.open(in_stream, None) as in_doc:\n",
        "    \n",
        "                        # Copy all pages and append to output document\n",
        "                        copied_pages = PageList.copy(out_doc, in_doc.pages, page_copy_options)\n",
        "                        out_pages.extend(copied_pages)\n",

        "\n",
        "    print(\"Execution successful.\")\n",

        "except Exception as e:\n",
        "    print(f\"An error occurred: {e}\")"
      ]
    }
  ],
  "metadata": {
    "kernelspec": {
      "display_name": "Python 3",
      "language": "python",
      "name": "python3"
    },
    "language_info": {
      "codemirror_mode": {
        "name": "ipython",
        "version": 3
      },
      "file_extension": ".py",
      "mimetype": "text/x-python",
      "name": "python",
      "nbconvert_exporter": "python",
      "pygments_lexer": "ipython3",
      "version": "3.12.8"
    },
    "colab": {
      "provenance": []
    }
  },
  "nbformat": 4,
  "nbformat_minor": 5
}