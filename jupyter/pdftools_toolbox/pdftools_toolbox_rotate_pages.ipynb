{
  "cells": [
    {
      "cell_type": "markdown",
      "id": "eecf35a1-b071-4f87-965a-3fe810f60b4f",
      "metadata": {
          "id": "f48c5155-2ae7-4b5a-9d68-069e1853de88"
      },
      "source": [
        "[![Open In Colab](https://colab.research.google.com/assets/colab-badge.svg)](https://colab.research.google.com/github/pdf-tools/components-code-sample-hub/blob/main/jupyter/pdftools_toolbox/pdftools_toolbox_rotate_pages.ipynb)"
      ]
    },
    {
      "cell_type": "code",
      "execution_count": null,
      "id": "80810838-b188-4bcb-81ca-63bd1b778102",
      "metadata": {
          "id": "26f64c07-5442-4ee7-8dd4-ec8caa48f98e"
      },
      "outputs": [],
      "source": [
        "%pip install https://pdftools-public-downloads-production.s3.eu-west-1.amazonaws.com/productkits/PDFSDKXT/latest/pdftools_toolbox-latest.tar.gz\n",
        "%pip install ipython"
      ]
    },
    {
      "cell_type": "markdown",
      "id": "64770dc6-7ec4-4c05-8445-4007a944dc59",
      "metadata": {
          "id": "369f19b0-d5e0-4810-b778-539aec29c36c"
      },
      "source": [
        "# Set page orientation\n",
        "Rotate a specified page of a PDF document by 90 degrees."
      ]
    },
    {
      "cell_type": "code",
      "execution_count": null,
      "id": "07c7a7f7-dbc5-4f53-ad2c-b33594ade53c",
      "metadata": {
          "id": "b83ec499-b150-4db9-9c1f-60416dc8b970"
      },
      "outputs": [],
      "source": [
        "import io\n",
        "from pdftools_toolbox.geometry import Rotation\n",
        "from pdftools_toolbox.pdf import Document, FileReference, Metadata, Page, PageCopyOptions, PageList\n",
        "from pdftools_toolbox.pdf.content import IccBasedColorSpace\n",
        "from pdftools_toolbox.pdf.navigation import ViewerSettings"
      ]
    },
    {
      "cell_type": "code",
      "execution_count": null,
      "id": "6caee540-3397-43ac-a9eb-6084b5619673",
      "metadata": {
          "id": "e3d557df-3a16-4a87-a290-7f9c277010d2"
      },
      "outputs": [],
      "source": [
        "# Download a file from a given URL and save it to the local system\n",
        "def prepare_file(url: str, path: str):\n",
        "    import requests\n",
        "    response = requests.get(url)\n",
        "    response.raise_for_status()\n",
        "\n",
        "    with open(path, 'wb') as f:\n",
        "        f.write(response.content)"
      ]
    },
    {
      "cell_type": "code",
      "execution_count": null,
      "id": "941a412c-e6ea-4233-b6b4-330649dc2c35",
      "metadata": {
          "id": "c7b6763c-f9e9-4f5f-a61f-75621de0dae0"
      },
      "outputs": [],
      "source": [
        "# Set input arguments\n",
        "input_url = 'https://pdftools-public-downloads-production.s3.eu-west-1.amazonaws.com/samples/testfiles/PdfPrimerWhitepaper.pdf'\n",
        "input_file_path = 'PdfPrimerWhitepaper.pdf'\n",
        "prepare_file(input_url, input_file_path)\n",
        "page_numbers = ['2', '4']  # Example from XML\n",
        "output_file_path = 'RotatedPages.pdf'"
      ]
    },
    {
      "cell_type": "code",
      "execution_count": null,
      "id": "b3370edc-8698-44be-8984-26abc8699d0a",
      "metadata": {
          "id": "990c23ee-43e4-4db0-b0e5-a0a229124590"
      },
      "outputs": [],
      "source": [
        "def copy_document_data(in_doc: Document, out_doc: Document):\n",
        "    # Copy document-wide data\n",
        "\n",
        "    # Output intent\n",
        "    if in_doc.output_intent is not None:\n",
        "        in_doc.output_intent = IccBasedColorSpace.copy(out_doc, in_doc.output_intent)\n",
        "\n",
        "    # Metadata\n",
        "    out_doc.metadata = Metadata.copy(out_doc, in_doc.metadata)\n",
        "\n",
        "    # Viewer settings\n",
        "    out_doc.viewer_settings = ViewerSettings.copy(out_doc, in_doc.viewer_settings)\n",
        "\n",
        "    # Associated files (for PDF/A-3 and PDF 2.0 only)\n",
        "    outAssociatedFiles = out_doc.associated_files\n",
        "    for in_file_ref in in_doc.associated_files:\n",
        "        outAssociatedFiles.append(FileReference.copy(out_doc, in_file_ref))\n",
        "\n",
        "    # Plain embedded files\n",
        "    out_embedded_files = out_doc.plain_embedded_files\n",
        "    for in_file_ref in in_doc.plain_embedded_files:\n",
        "        out_embedded_files.append(FileReference.copy(out_doc, in_file_ref))"
      ]
    },
    {
      "cell_type": "code",
      "execution_count": null,
      "id": "8791f85f-d3ad-47de-abdf-fc5c786dc93e",
      "metadata": {
          "id": "f326cc27-e1e8-4c42-9533-491bd6c5bf5f"
      },
      "outputs": [],
      "source": [
        "try:\n",
        "    # Set and check license key. If the license key is not valid, an exception is thrown.\n",
        "    from pdftools_toolbox.sdk import Sdk\n",
        "    Sdk.initialize(\"<PDFSDK,V1,MGAASQD6L2JMQHL54PK08RQX8GG4SS0M8DAHVPH0VMP3NB8R9DUK>\", None)\n",

        "\n",
        "    # Open input document\n",
        "    with io.FileIO(input_file_path, \"rb\") as in_stream:\n",
        "        with Document.open(in_stream, None) as in_doc:\n",
        "    \n",
        "            # Create output document\n",
        "            with io.FileIO(output_file_path, \"wb+\") as out_stream:\n",
        "                with Document.create(out_stream, in_doc.conformance, None) as out_doc:\n",
        "    \n",
        "                    # Copy document-wide data\n",
        "                    copy_document_data(in_doc, out_doc)\n",
        "    \n",
        "                    # Define page copy options\n",
        "                    page_copy_options = PageCopyOptions()\n",
        "    \n",
        "                    # Copy all pages\n",
        "                    copied_pages = PageList.copy(out_doc, in_doc.pages, page_copy_options)\n",
        "    \n",
        "                    # Rotate selected pages by 90 degrees\n",
        "                    for page_number in page_numbers:\n",
        "                        copied_pages[int(page_number) - 1].rotate(Rotation.CLOCKWISE)\n",
        "    \n",
        "                    # Add pages to output document\n",
        "                    out_doc.pages.extend(copied_pages)\n",

        "\n",
        "    print(\"Execution successful.\")\n",

        "except Exception as e:\n",
        "    print(f\"An error occurred: {e}\")"
      ]
    }
  ],
  "metadata": {
    "kernelspec": {
      "display_name": "Python 3",
      "language": "python",
      "name": "python3"
    },
    "language_info": {
      "codemirror_mode": {
        "name": "ipython",
        "version": 3
      },
      "file_extension": ".py",
      "mimetype": "text/x-python",
      "name": "python",
      "nbconvert_exporter": "python",
      "pygments_lexer": "ipython3",
      "version": "3.12.8"
    },
    "colab": {
      "provenance": []
    }
  },
  "nbformat": 4,
  "nbformat_minor": 5
}