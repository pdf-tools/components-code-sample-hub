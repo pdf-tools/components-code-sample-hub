{
  "cells": [
    {
      "cell_type": "markdown",
      "id": "ea3011cc-5932-4103-9cca-ca4b6c03afee",
      "metadata": {
          "id": "2a5dc188-1b24-4b6c-9b7e-29ab9444e0a8"
      },
      "source": [
        "[![Open In Colab](https://colab.research.google.com/assets/colab-badge.svg)](https://colab.research.google.com/github/pdf-tools/components-code-sample-hub/blob/main/jupyter/pdftools_toolbox/pdftools_toolbox_add_image.ipynb)"
      ]
    },
    {
      "cell_type": "code",
      "execution_count": null,
      "id": "9c267246-f3a4-44ef-8ba2-2ef57de5accb",
      "metadata": {
          "id": "e394cf5b-a865-4986-9b4c-5d150a9d90b6"
      },
      "outputs": [],
      "source": [
        "%pip install pdftools_toolbox\n",
        "%pip install ipython"
      ]
    },
    {
      "cell_type": "markdown",
      "id": "25ddbd81-79d1-406b-8baa-a42fa9224702",
      "metadata": {
          "id": "0cb8850c-1da7-4958-ba84-fcb287ddad57"
      },
      "source": [
        "# Add image to PDF\n",
        "Place an image with a specified size at a specific\n",
        "location of a page."
      ]
    },
    {
      "cell_type": "code",
      "execution_count": null,
      "id": "38e13dd2-3dd1-4150-a53c-6dcfb0ee0c39",
      "metadata": {
          "id": "3c1defa2-1544-4baf-8f2b-bed9637b66df"
      },
      "outputs": [],
      "source": [
        "import io\n",
        "from pdftools_toolbox.pdf import Document, FileReference, Metadata, Page, PageCopyOptions, PageList\n",
        "from pdftools_toolbox.geometry.real import Rectangle\n",
        "from pdftools_toolbox.pdf.content import ContentGenerator, IccBasedColorSpace, Image\n",
        "from pdftools_toolbox.pdf.navigation import ViewerSettings"
      ]
    },
    {
      "cell_type": "code",
      "execution_count": null,
      "id": "7ab57446-dd13-49ab-a57d-1dc2c502584a",
      "metadata": {
          "id": "20aa563d-1b9a-418a-8ade-a367516dbe18"
      },
      "outputs": [],
      "source": [
        "# Download a file from a given URL and save it to the local system\n",
        "def prepare_file(url: str, path: str):\n",
        "    import requests\n",
        "    response = requests.get(url)\n",
        "    response.raise_for_status()\n",
        "\n",
        "    with open(path, 'wb') as f:\n",
        "        f.write(response.content)"
      ]
    },
    {
      "cell_type": "code",
      "execution_count": null,
      "id": "bb8e7510-73b3-456b-9d74-8a78627bbdc8",
      "metadata": {
          "id": "a2157363-c503-4f44-865a-6a94a0439690"
      },
      "outputs": [],
      "source": [
        "# Set input arguments\n",
        "input_url = 'https://pdftools-public-downloads-production.s3.eu-west-1.amazonaws.com/samples/testfiles/BlankNoneNoTP.pdf'\n",
        "input_file_path = 'BlankNoneNoTP.pdf'\n",
        "prepare_file(input_url, input_file_path)\n",
        "image_url = 'https://pdftools-public-downloads-production.s3.eu-west-1.amazonaws.com/samples/testfiles/coffee.jpg'\n",
        "image_path = 'coffee.jpg'\n",
        "prepare_file(image_url, image_path)\n",
        "page_number = 1\n",
        "output_file_path = 'BlankWithImage.pdf'"
      ]
    },
    {
      "cell_type": "code",
      "execution_count": null,
      "id": "92d9b2d7-fdc7-4a7c-bc87-4bbc7b8ddc45",
      "metadata": {
          "id": "794b9063-2e44-45bb-bc07-7a7a64352349"
      },
      "outputs": [],
      "source": [
        "def copy_document_data(in_doc: Document, out_doc: Document):\n",
        "    # Copy document-wide data\n",
        "\n",
        "    # Output intent\n",
        "    if in_doc.output_intent is not None:\n",
        "        in_doc.output_intent = IccBasedColorSpace.copy(out_doc, in_doc.output_intent)\n",
        "\n",
        "    # Metadata\n",
        "    out_doc.metadata = Metadata.copy(out_doc, in_doc.metadata)\n",
        "\n",
        "    # Viewer settings\n",
        "    out_doc.viewer_settings = ViewerSettings.copy(out_doc, in_doc.viewer_settings)\n",
        "\n",
        "    # Associated files (for PDF/A-3 and PDF 2.0 only)\n",
        "    outAssociatedFiles = out_doc.associated_files\n",
        "    for in_file_ref in in_doc.associated_files:\n",
        "        outAssociatedFiles.append(FileReference.copy(out_doc, in_file_ref))\n",
        "\n",
        "    # Plain embedded files\n",
        "    out_embedded_files = out_doc.plain_embedded_files\n",
        "    for in_file_ref in in_doc.plain_embedded_files:\n",
        "        out_embedded_files.append(FileReference.copy(out_doc, in_file_ref))"
      ]
    },{
      "cell_type": "code",
      "execution_count": null,
      "id": "8a80013b-a29e-4faa-a4ca-a8c1d27f6890",
      "metadata": {
          "id": "1c77cbfb-9a93-4734-a3d0-4a0a71ba91c9"
      },
      "outputs": [],
      "source": [
        "def add_image(document: Document, page: Page, image_path: str, x: float, y: float):\n",
        "    # Create content generator\n",
        "    with ContentGenerator(page.content, False) as generator:\n",
        "\n",
        "        # Load image from input path\n",
        "        with io.FileIO(image_path, 'rb') as in_image_stream:\n",
        "            # Create image object\n",
        "            image = Image.create(document, in_image_stream)\n",
        "            resolution = 150\n",
        "\n",
        "            # Calculate rectangle for image\n",
        "            size = image.size\n",
        "            rect = Rectangle(\n",
        "                left=x,\n",
        "                bottom=y,\n",
        "                right=x + size.width * 72 / resolution,\n",
        "                top=y + size.height * 72 / resolution\n",
        "            )\n",
        "\n",
        "            # Paint image into the specified rectangle\n",
        "            generator.paint_image(image, rect)"
      ]
    },
    {
      "cell_type": "code",
      "execution_count": null,
      "id": "d580bac7-5373-4568-aa80-9d5bf626774f",
      "metadata": {
          "id": "02bcc483-219f-47e9-8b8a-751a9526bd78"
      },
      "outputs": [],
      "source": [
        "try:\n",
        "    # Set and check license key. If the license key is not valid, an exception is thrown.\n",
        "    from pdftools_toolbox.sdk import Sdk\n",
        "    Sdk.initialize(\"INSERT-LICENSE-KEY\", None)\n",

        "\n",
        "    # Open input document\n",
        "    with io.FileIO(input_file_path, 'rb') as in_stream:\n",
        "        with Document.open(in_stream, None) as in_doc:\n",
        "    \n",
        "            # Create output document\n",
        "            with io.FileIO(output_file_path, 'wb+') as output_stream:\n",
        "                with Document.create(output_stream, in_doc.conformance, None) as out_doc:\n",
        "    \n",
        "                    # Copy document-wide data\n",
        "                    copy_document_data(in_doc, out_doc)\n",
        "    \n",
        "                    # Define page copy options\n",
        "                    copy_options = PageCopyOptions()\n",
        "    \n",
        "                    # Copy pages preceding selected page and append to output document\n",
        "                    if page_number > 1:\n",
        "                        in_page_range = in_doc.pages[:page_number - 1]\n",
        "                        copied_pages = PageList.copy(out_doc, in_page_range, copy_options)\n",
        "                        out_doc.pages.extend(copied_pages)\n",
        "    \n",
        "                    # Copy selected page, add image, and append to output document\n",
        "                    out_page = Page.copy(out_doc, in_doc.pages[page_number - 1], copy_options)\n",
        "                    add_image(out_doc, out_page, image_path, 150, 150)\n",
        "                    out_doc.pages.append(out_page)\n",
        "    \n",
        "                    # Copy remaining pages and append to output document\n",
        "                    in_page_range = in_doc.pages[page_number:]\n",
        "                    copied_pages = PageList.copy(out_doc, in_page_range, copy_options)\n",
        "                    out_doc.pages.extend(copied_pages)\n",

        "\n",
        "    print(\"Execution successful.\")\n",

        "except Exception as e:\n",
        "    print(f\"An error occurred: {e}\")"
      ]
    }
  ],
  "metadata": {
    "kernelspec": {
      "display_name": "Python 3",
      "language": "python",
      "name": "python3"
    },
    "language_info": {
      "codemirror_mode": {
        "name": "ipython",
        "version": 3
      },
      "file_extension": ".py",
      "mimetype": "text/x-python",
      "name": "python",
      "nbconvert_exporter": "python",
      "pygments_lexer": "ipython3",
      "version": "3.12.8"
    },
    "colab": {
      "provenance": []
    }
  },
  "nbformat": 4,
  "nbformat_minor": 5
}