{
  "cells": [
    {
      "cell_type": "markdown",
      "id": "84efc03c-1a16-4433-b09f-f82da7778214",
      "metadata": {
          "id": "25eb8b31-46ba-443e-9ea1-907eaed1de56"
      },
      "source": [
        "[![Open In Colab](https://colab.research.google.com/assets/colab-badge.svg)](https://colab.research.google.com/github/pdf-tools/components-code-sample-hub/blob/main/jupyter/pdftools_toolbox/pdftools_toolbox_add_image.ipynb)"
      ]
    },
    {
      "cell_type": "code",
      "execution_count": null,
      "id": "6a969be8-c93c-489f-b69a-b49b27154e2b",
      "metadata": {
          "id": "67c8340f-33b6-4df2-9f12-78765861b5ff"
      },
      "outputs": [],
      "source": [
        "%pip install https://pdftools-public-downloads-production.s3.eu-west-1.amazonaws.com/productkits/PDFSDKXT/latest/pdftools_toolbox-latest.tar.gz\n",
        "%pip install ipython"
      ]
    },
    {
      "cell_type": "markdown",
      "id": "8992878b-ffc4-4b6b-91d2-b47c29e84c56",
      "metadata": {
          "id": "18182973-5ba3-473b-a384-6a4a5a0d837b"
      },
      "source": [
        "# Add image to PDF\n",
        "Place an image with a specified size at a specific\n",
        "location of a page."
      ]
    },
    {
      "cell_type": "code",
      "execution_count": null,
      "id": "b0c8796a-8496-423f-93fa-2b89c98092dd",
      "metadata": {
          "id": "862cf271-1478-44cd-93b2-a100d636efad"
      },
      "outputs": [],
      "source": [
        "import io\n",
        "from pdftools_toolbox.pdf import Document, FileReference, Metadata, Page, PageCopyOptions, PageList\n",
        "from pdftools_toolbox.geometry.real import Rectangle\n",
        "from pdftools_toolbox.pdf.content import ContentGenerator, IccBasedColorSpace, Image\n",
        "from pdftools_toolbox.pdf.navigation import ViewerSettings"
      ]
    },
    {
      "cell_type": "code",
      "execution_count": null,
      "id": "3fe7766f-9485-4586-ba89-7551eab70401",
      "metadata": {
          "id": "338ab2dd-01f4-4cd2-bf85-62ce053c4da1"
      },
      "outputs": [],
      "source": [
        "# Download a file from a given URL and save it to the local system\n",
        "def prepare_file(url: str, path: str):\n",
        "    import requests\n",
        "    response = requests.get(url)\n",
        "    response.raise_for_status()\n",
        "\n",
        "    with open(path, 'wb') as f:\n",
        "        f.write(response.content)"
      ]
    },
    {
      "cell_type": "code",
      "execution_count": null,
      "id": "c6c37af1-17e8-4e45-945a-3f756390e8a9",
      "metadata": {
          "id": "fcc5d553-e6c1-4b44-bbf5-e8a362549e5d"
      },
      "outputs": [],
      "source": [
        "# Set input arguments\n",
        "input_url = 'https://pdftools-public-downloads-production.s3.eu-west-1.amazonaws.com/samples/testfiles/BlankNoneNoTP.pdf'\n",
        "input_file_path = 'BlankNoneNoTP.pdf'\n",
        "prepare_file(input_url, input_file_path)\n",
        "image_url = 'https://pdftools-public-downloads-production.s3.eu-west-1.amazonaws.com/samples/testfiles/coffee.jpg'\n",
        "image_path = 'coffee.jpg'\n",
        "prepare_file(image_url, image_path)\n",
        "page_number = 1\n",
        "output_file_path = 'BlankWithImage.pdf'"
      ]
    },
    {
      "cell_type": "code",
      "execution_count": null,
      "id": "1b708f67-5f36-4e04-9dac-e7b2bc62250b",
      "metadata": {
          "id": "a1232819-d898-4cfa-bb75-e257afb9addf"
      },
      "outputs": [],
      "source": [
        "def copy_document_data(in_doc: Document, out_doc: Document):\n",
        "    # Copy document-wide data\n",
        "\n",
        "    # Output intent\n",
        "    if in_doc.output_intent is not None:\n",
        "        in_doc.output_intent = IccBasedColorSpace.copy(out_doc, in_doc.output_intent)\n",
        "\n",
        "    # Metadata\n",
        "    out_doc.metadata = Metadata.copy(out_doc, in_doc.metadata)\n",
        "\n",
        "    # Viewer settings\n",
        "    out_doc.viewer_settings = ViewerSettings.copy(out_doc, in_doc.viewer_settings)\n",
        "\n",
        "    # Associated files (for PDF/A-3 and PDF 2.0 only)\n",
        "    outAssociatedFiles = out_doc.associated_files\n",
        "    for in_file_ref in in_doc.associated_files:\n",
        "        outAssociatedFiles.append(FileReference.copy(out_doc, in_file_ref))\n",
        "\n",
        "    # Plain embedded files\n",
        "    out_embedded_files = out_doc.plain_embedded_files\n",
        "    for in_file_ref in in_doc.plain_embedded_files:\n",
        "        out_embedded_files.append(FileReference.copy(out_doc, in_file_ref))"
      ]
    },
    {
      "cell_type": "code",
      "execution_count": null,
      "id": "36f026da-646a-4ced-99c0-f6e2c16688ea",
      "metadata": {
          "id": "cc506fe8-a831-4693-803d-fa32dcb996e1"
      },
      "outputs": [],
      "source": [
        "def add_image(document: Document, page: Page, image_path: str, x: float, y: float):\n",
        "    # Create content generator\n",
        "    with ContentGenerator(page.content, False) as generator:\n",
        "\n",
        "        # Load image from input path\n",
        "        with io.FileIO(image_path, 'rb') as in_image_stream:\n",
        "            # Create image object\n",
        "            image = Image.create(document, in_image_stream)\n",
        "            resolution = 150\n",
        "\n",
        "            # Calculate rectangle for image\n",
        "            size = image.size\n",
        "            rect = Rectangle(\n",
        "                left=x,\n",
        "                bottom=y,\n",
        "                right=x + size.width * 72 / resolution,\n",
        "                top=y + size.height * 72 / resolution\n",
        "            )\n",
        "\n",
        "            # Paint image into the specified rectangle\n",
        "            generator.paint_image(image, rect)"
      ]
    },
    {
      "cell_type": "code",
      "execution_count": null,
      "id": "1e8232bf-4191-46e4-ac2d-a667fc6d86c5",
      "metadata": {
          "id": "b11c6c61-29c5-433c-82bd-eaf6e0102275"
      },
      "outputs": [],
      "source": [
        "try:\n",
        "    # Set and check license key. If the license key is not valid, an exception is thrown.\n",
        "    from pdftools_toolbox.sdk import Sdk\n",
        "    Sdk.initialize(\"<PDFSDK,V1,MGAASQD6L2JMQHL54PK08RQX8GG4SS0M8DAHVPH0VMP3NB8R9DUK>\", None)\n",

        "\n",
        "    # Open input document\n",
        "    with io.FileIO(input_file_path, 'rb') as in_stream:\n",
        "        with Document.open(in_stream, None) as in_doc:\n",
        "    \n",
        "            # Create output document\n",
        "            with io.FileIO(output_file_path, 'wb+') as output_stream:\n",
        "                with Document.create(output_stream, in_doc.conformance, None) as out_doc:\n",
        "    \n",
        "                    # Copy document-wide data\n",
        "                    copy_document_data(in_doc, out_doc)\n",
        "    \n",
        "                    # Define page copy options\n",
        "                    copy_options = PageCopyOptions()\n",
        "    \n",
        "                    # Copy pages preceding selected page and append to output document\n",
        "                    if page_number > 1:\n",
        "                        in_page_range = in_doc.pages[:page_number - 1]\n",
        "                        copied_pages = PageList.copy(out_doc, in_page_range, copy_options)\n",
        "                        out_doc.pages.extend(copied_pages)\n",
        "    \n",
        "                    # Copy selected page, add image, and append to output document\n",
        "                    out_page = Page.copy(out_doc, in_doc.pages[page_number - 1], copy_options)\n",
        "                    add_image(out_doc, out_page, image_path, 150, 150)\n",
        "                    out_doc.pages.append(out_page)\n",
        "    \n",
        "                    # Copy remaining pages and append to output document\n",
        "                    in_page_range = in_doc.pages[page_number:]\n",
        "                    copied_pages = PageList.copy(out_doc, in_page_range, copy_options)\n",
        "                    out_doc.pages.extend(copied_pages)\n",

        "\n",
        "    print(\"Execution successful.\")\n",

        "except Exception as e:\n",
        "    print(f\"An error occurred: {e}\")"
      ]
    }
  ],
  "metadata": {
    "kernelspec": {
      "display_name": "Python 3",
      "language": "python",
      "name": "python3"
    },
    "language_info": {
      "codemirror_mode": {
        "name": "ipython",
        "version": 3
      },
      "file_extension": ".py",
      "mimetype": "text/x-python",
      "name": "python",
      "nbconvert_exporter": "python",
      "pygments_lexer": "ipython3",
      "version": "3.12.8"
    },
    "colab": {
      "provenance": []
    }
  },
  "nbformat": 4,
  "nbformat_minor": 5
}