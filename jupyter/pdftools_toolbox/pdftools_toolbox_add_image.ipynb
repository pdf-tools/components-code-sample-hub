{
  "cells": [
    {
      "cell_type": "markdown",
      "id": "b40b2c55-bc39-401d-b66e-7f4f92e04377",
      "metadata": {
          "id": "d0c46025-20e4-42a8-9e96-dc324f9ae88b"
      },
      "source": [
        "[![Open In Colab](https://colab.research.google.com/assets/colab-badge.svg)](https://colab.research.google.com/github/pdf-tools/components-code-sample-hub/blob/main/jupyter/pdftools_toolbox/pdftools_toolbox_add_image.ipynb)"
      ]
    },
    {
      "cell_type": "code",
      "execution_count": null,
      "id": "db6f6077-3cce-4fda-b1c6-ec194fb554bc",
      "metadata": {
          "id": "6721382a-03c8-43ac-83c1-42f234353ed9"
      },
      "outputs": [],
      "source": [
        "%pip install https://pdftools-public-downloads-production.s3.eu-west-1.amazonaws.com/productkits/PDFSDKXT/latest/pdftools_toolbox-latest.tar.gz\n",
        "%pip install ipython"
      ]
    },
    {
      "cell_type": "markdown",
      "id": "69545437-c10f-466d-be02-1b15af706b57",
      "metadata": {
          "id": "839e5875-611a-412a-9c32-1b38bf1d720a"
      },
      "source": [
        "# Add image to PDF\n",
        "Place an image with a specified size at a specific\n",
        "location of a page."
      ]
    },
    {
      "cell_type": "code",
      "execution_count": null,
      "id": "39c78497-8e55-4214-9508-ea3542fcccf9",
      "metadata": {
          "id": "68dd1ff0-c085-4b90-be02-ca9f199d7910"
      },
      "outputs": [],
      "source": [
        "import io\n",
        "from pdftools_toolbox.pdf import Document, FileReference, Metadata, Page, PageCopyOptions, PageList\n",
        "from pdftools_toolbox.geometry.real import Rectangle\n",
        "from pdftools_toolbox.pdf.content import ContentGenerator, IccBasedColorSpace, Image\n",
        "from pdftools_toolbox.pdf.navigation import ViewerSettings"
      ]
    },
    {
      "cell_type": "code",
      "execution_count": null,
      "id": "1271c03d-e09b-4c17-a795-7cd636bbe42a",
      "metadata": {
          "id": "a59988a1-28bb-4e2b-a27e-f799d3b0e051"
      },
      "outputs": [],
      "source": [
        "# Download a file from a given URL and save it to the local system\n",
        "def prepare_file(url: str, path: str):\n",
        "    import requests\n",
        "    response = requests.get(url)\n",
        "    response.raise_for_status()\n",
        "\n",
        "    with open(path, 'wb') as f:\n",
        "        f.write(response.content)"
      ]
    },
    {
      "cell_type": "code",
      "execution_count": null,
      "id": "e55de1a8-1747-468e-b7ae-6606f5858d60",
      "metadata": {
          "id": "66438e30-78b4-4b52-a078-01a1c571ff48"
      },
      "outputs": [],
      "source": [
        "# Set input arguments\n",
        "input_url = 'https://pdftools-public-downloads-production.s3.eu-west-1.amazonaws.com/samples/testfiles/BlankNoneNoTP.pdf'\n",
        "input_file_path = 'BlankNoneNoTP.pdf'\n",
        "prepare_file(input_url, input_file_path)\n",
        "image_url = 'https://pdftools-public-downloads-production.s3.eu-west-1.amazonaws.com/samples/testfiles/coffee.jpg'\n",
        "image_path = 'coffee.jpg'\n",
        "prepare_file(image_url, image_path)\n",
        "page_number = 1\n",
        "output_file_path = 'BlankWithImage.pdf'"
      ]
    },
    {
      "cell_type": "code",
      "execution_count": null,
      "id": "9dc455fd-c29b-4e0d-89b5-51cff21d9101",
      "metadata": {
          "id": "c2f36d55-e164-42cd-8bef-663c5b0aeac6"
      },
      "outputs": [],
      "source": [
        "def copy_document_data(in_doc: Document, out_doc: Document):\n",
        "    # Copy document-wide data\n",
        "\n",
        "    # Output intent\n",
        "    if in_doc.output_intent is not None:\n",
        "        in_doc.output_intent = IccBasedColorSpace.copy(out_doc, in_doc.output_intent)\n",
        "\n",
        "    # Metadata\n",
        "    out_doc.metadata = Metadata.copy(out_doc, in_doc.metadata)\n",
        "\n",
        "    # Viewer settings\n",
        "    out_doc.viewer_settings = ViewerSettings.copy(out_doc, in_doc.viewer_settings)\n",
        "\n",
        "    # Associated files (for PDF/A-3 and PDF 2.0 only)\n",
        "    outAssociatedFiles = out_doc.associated_files\n",
        "    for in_file_ref in in_doc.associated_files:\n",
        "        outAssociatedFiles.append(FileReference.copy(out_doc, in_file_ref))\n",
        "\n",
        "    # Plain embedded files\n",
        "    out_embedded_files = out_doc.plain_embedded_files\n",
        "    for in_file_ref in in_doc.plain_embedded_files:\n",
        "        out_embedded_files.append(FileReference.copy(out_doc, in_file_ref))"
      ]
    },
    {
      "cell_type": "code",
      "execution_count": null,
      "id": "0ffc5559-81f0-4967-91d2-a7c94e94d125",
      "metadata": {
          "id": "ceec569f-33fd-4145-a3c5-2dedeca3ea70"
      },
      "outputs": [],
      "source": [
        "def add_image(document: Document, page: Page, image_path: str, x: float, y: float):\n",
        "    # Create content generator\n",
        "    with ContentGenerator(page.content, False) as generator:\n",
        "\n",
        "        # Load image from input path\n",
        "        with io.FileIO(image_path, 'rb') as in_image_stream:\n",
        "            # Create image object\n",
        "            image = Image.create(document, in_image_stream)\n",
        "            resolution = 150\n",
        "\n",
        "            # Calculate rectangle for image\n",
        "            size = image.size\n",
        "            rect = Rectangle(\n",
        "                left=x,\n",
        "                bottom=y,\n",
        "                right=x + size.width * 72 / resolution,\n",
        "                top=y + size.height * 72 / resolution\n",
        "            )\n",
        "\n",
        "            # Paint image into the specified rectangle\n",
        "            generator.paint_image(image, rect)"
      ]
    },
    {
      "cell_type": "code",
      "execution_count": null,
      "id": "cd564fa9-0592-4b04-b451-553c96495d6f",
      "metadata": {
          "id": "bf5eafc0-63ab-4ed9-8894-ea42fc5b2013"
      },
      "outputs": [],
      "source": [
        "try:\n",
        "    # Set and check license key. If the license key is not valid, an exception is thrown.\n",
        "    from pdftools_toolbox.sdk import Sdk\n",
        "    Sdk.initialize(\"INSERT-LICENSE-KEY\", None)\n",

        "\n",
        "    # Open input document\n",
        "    with io.FileIO(input_file_path, 'rb') as in_stream:\n",
        "        with Document.open(in_stream, None) as in_doc:\n",
        "    \n",
        "            # Create output document\n",
        "            with io.FileIO(output_file_path, 'wb+') as output_stream:\n",
        "                with Document.create(output_stream, in_doc.conformance, None) as out_doc:\n",
        "    \n",
        "                    # Copy document-wide data\n",
        "                    copy_document_data(in_doc, out_doc)\n",
        "    \n",
        "                    # Define page copy options\n",
        "                    copy_options = PageCopyOptions()\n",
        "    \n",
        "                    # Copy pages preceding selected page and append to output document\n",
        "                    if page_number > 1:\n",
        "                        in_page_range = in_doc.pages[:page_number - 1]\n",
        "                        copied_pages = PageList.copy(out_doc, in_page_range, copy_options)\n",
        "                        out_doc.pages.extend(copied_pages)\n",
        "    \n",
        "                    # Copy selected page, add image, and append to output document\n",
        "                    out_page = Page.copy(out_doc, in_doc.pages[page_number - 1], copy_options)\n",
        "                    add_image(out_doc, out_page, image_path, 150, 150)\n",
        "                    out_doc.pages.append(out_page)\n",
        "    \n",
        "                    # Copy remaining pages and append to output document\n",
        "                    in_page_range = in_doc.pages[page_number:]\n",
        "                    copied_pages = PageList.copy(out_doc, in_page_range, copy_options)\n",
        "                    out_doc.pages.extend(copied_pages)\n",

        "\n",
        "    print(\"Execution successful.\")\n",

        "except Exception as e:\n",
        "    print(f\"An error occurred: {e}\")"
      ]
    }
  ],
  "metadata": {
    "kernelspec": {
      "display_name": "Python 3",
      "language": "python",
      "name": "python3"
    },
    "language_info": {
      "codemirror_mode": {
        "name": "ipython",
        "version": 3
      },
      "file_extension": ".py",
      "mimetype": "text/x-python",
      "name": "python",
      "nbconvert_exporter": "python",
      "pygments_lexer": "ipython3",
      "version": "3.12.8"
    },
    "colab": {
      "provenance": []
    }
  },
  "nbformat": 4,
  "nbformat_minor": 5
}