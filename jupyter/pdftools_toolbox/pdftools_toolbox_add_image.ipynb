{
  "cells": [
    {
      "cell_type": "markdown",
      "id": "9348f1ab-2e9e-47dc-814e-727052f4e4d1",
      "metadata": {
          "id": "7a050a16-f3f0-4e3c-87c4-562725032a6f"
      },
      "source": [
        "[![Open In Colab](https://colab.research.google.com/assets/colab-badge.svg)](https://colab.research.google.com/github/pdf-tools/components-code-sample-hub/blob/main/jupyter/pdftools_toolbox/pdftools_toolbox_add_image.ipynb)"
      ]
    },
    {
      "cell_type": "code",
      "execution_count": null,
      "id": "3e3793dc-7e57-442b-a89c-12c31fad576b",
      "metadata": {
          "id": "51be5a5d-713c-41d0-b58a-137888d97d1e"
      },
      "outputs": [],
      "source": [
        "%pip install https://pdftools-public-downloads-production.s3.eu-west-1.amazonaws.com/productkits/PDFSDKXT/latest/pdftools_toolbox-latest.tar.gz\n",
        "%pip install ipython"
      ]
    },
    {
      "cell_type": "markdown",
      "id": "69caa2d0-22aa-4462-9d29-7d9f4a5a5000",
      "metadata": {
          "id": "5f28e673-490a-4cab-a3e4-7fb68b624841"
      },
      "source": [
        "# Add image to PDF\n",
        "Place an image with a specified size at a specific\n",
        "location of a page."
      ]
    },
    {
      "cell_type": "code",
      "execution_count": null,
      "id": "3cd8053b-738d-489a-9fcd-e67d9255c3fa",
      "metadata": {
          "id": "6134a6ba-4b15-4dde-a356-f3b7994fcf65"
      },
      "outputs": [],
      "source": [
        "import io\n",
        "from pdftools_toolbox.pdf import Document, FileReference, Metadata, Page, PageCopyOptions, PageList\n",
        "from pdftools_toolbox.geometry.real import Rectangle\n",
        "from pdftools_toolbox.pdf.content import ContentGenerator, IccBasedColorSpace, Image\n",
        "from pdftools_toolbox.pdf.navigation import ViewerSettings"
      ]
    },
    {
      "cell_type": "code",
      "execution_count": null,
      "id": "8473dd44-1452-4d91-af63-ba10e13cec64",
      "metadata": {
          "id": "b07bbfb8-1635-458a-b1d6-8347922cb61e"
      },
      "outputs": [],
      "source": [
        "# Download a file from a given URL and save it to the local system\n",
        "def prepare_file(url: str, path: str):\n",
        "    import requests\n",
        "    response = requests.get(url)\n",
        "    response.raise_for_status()\n",
        "\n",
        "    with open(path, 'wb') as f:\n",
        "        f.write(response.content)"
      ]
    },
    {
      "cell_type": "code",
      "execution_count": null,
      "id": "99650f14-70ed-47e3-92c0-2ac04c5ec36a",
      "metadata": {
          "id": "879d8401-2d86-460c-b4da-2b6c36395c49"
      },
      "outputs": [],
      "source": [
        "# Set input arguments\n",
        "input_url = 'https://pdftools-public-downloads-production.s3.eu-west-1.amazonaws.com/samples/testfiles/BlankNoneNoTP.pdf'\n",
        "input_file_path = 'BlankNoneNoTP.pdf'\n",
        "prepare_file(input_url, input_file_path)\n",
        "image_url = 'https://pdftools-public-downloads-production.s3.eu-west-1.amazonaws.com/samples/testfiles/coffee.jpg'\n",
        "image_path = 'coffee.jpg'\n",
        "prepare_file(image_url, image_path)\n",
        "page_number = 1\n",
        "output_file_path = 'BlankWithImage.pdf'"
      ]
    },
    {
      "cell_type": "code",
      "execution_count": null,
      "id": "dd43f025-2c38-4854-b4ad-62d6fcae443f",
      "metadata": {
          "id": "12757f90-61f0-4e6f-aa26-f4b223c6567f"
      },
      "outputs": [],
      "source": [
        "def copy_document_data(in_doc: Document, out_doc: Document):\n",
        "    # Copy document-wide data\n",
        "\n",
        "    # Output intent\n",
        "    if in_doc.output_intent is not None:\n",
        "        in_doc.output_intent = IccBasedColorSpace.copy(out_doc, in_doc.output_intent)\n",
        "\n",
        "    # Metadata\n",
        "    out_doc.metadata = Metadata.copy(out_doc, in_doc.metadata)\n",
        "\n",
        "    # Viewer settings\n",
        "    out_doc.viewer_settings = ViewerSettings.copy(out_doc, in_doc.viewer_settings)\n",
        "\n",
        "    # Associated files (for PDF/A-3 and PDF 2.0 only)\n",
        "    outAssociatedFiles = out_doc.associated_files\n",
        "    for in_file_ref in in_doc.associated_files:\n",
        "        outAssociatedFiles.append(FileReference.copy(out_doc, in_file_ref))\n",
        "\n",
        "    # Plain embedded files\n",
        "    out_embedded_files = out_doc.plain_embedded_files\n",
        "    for in_file_ref in in_doc.plain_embedded_files:\n",
        "        out_embedded_files.append(FileReference.copy(out_doc, in_file_ref))"
      ]
    },
    {
      "cell_type": "code",
      "execution_count": null,
      "id": "dfb60c05-d818-4168-93dc-6a728cf953a6",
      "metadata": {
          "id": "472356d6-c0f5-45b8-86a1-4928d3577dfa"
      },
      "outputs": [],
      "source": [
        "def add_image(document: Document, page: Page, image_path: str, x: float, y: float):\n",
        "    # Create content generator\n",
        "    with ContentGenerator(page.content, False) as generator:\n",
        "\n",
        "        # Load image from input path\n",
        "        with io.FileIO(image_path, 'rb') as in_image_stream:\n",
        "            # Create image object\n",
        "            image = Image.create(document, in_image_stream)\n",
        "            resolution = 150\n",
        "\n",
        "            # Calculate rectangle for image\n",
        "            size = image.size\n",
        "            rect = Rectangle(\n",
        "                left=x,\n",
        "                bottom=y,\n",
        "                right=x + size.width * 72 / resolution,\n",
        "                top=y + size.height * 72 / resolution\n",
        "            )\n",
        "\n",
        "            # Paint image into the specified rectangle\n",
        "            generator.paint_image(image, rect)"
      ]
    },
    {
      "cell_type": "code",
      "execution_count": null,
      "id": "8ed81046-65a8-473d-a51d-1eb94834010f",
      "metadata": {
          "id": "caf84fd5-5a24-4c2b-bade-dcfac8e0dec0"
      },
      "outputs": [],
      "source": [
        "try:\n",
        "    # Set and check license key. If the license key is not valid, an exception is thrown.\n",
        "    from pdftools_toolbox.sdk import Sdk\n",
        "    Sdk.initialize(\"INSERT-LICENSE-KEY\", None)\n",

        "\n",
        "    # Open input document\n",
        "    with io.FileIO(input_file_path, 'rb') as in_stream:\n",
        "        with Document.open(in_stream, None) as in_doc:\n",
        "    \n",
        "            # Create output document\n",
        "            with io.FileIO(output_file_path, 'wb+') as output_stream:\n",
        "                with Document.create(output_stream, in_doc.conformance, None) as out_doc:\n",
        "    \n",
        "                    # Copy document-wide data\n",
        "                    copy_document_data(in_doc, out_doc)\n",
        "    \n",
        "                    # Define page copy options\n",
        "                    copy_options = PageCopyOptions()\n",
        "    \n",
        "                    # Copy pages preceding selected page and append to output document\n",
        "                    if page_number > 1:\n",
        "                        in_page_range = in_doc.pages[:page_number - 1]\n",
        "                        copied_pages = PageList.copy(out_doc, in_page_range, copy_options)\n",
        "                        out_doc.pages.extend(copied_pages)\n",
        "    \n",
        "                    # Copy selected page, add image, and append to output document\n",
        "                    out_page = Page.copy(out_doc, in_doc.pages[page_number - 1], copy_options)\n",
        "                    add_image(out_doc, out_page, image_path, 150, 150)\n",
        "                    out_doc.pages.append(out_page)\n",
        "    \n",
        "                    # Copy remaining pages and append to output document\n",
        "                    in_page_range = in_doc.pages[page_number:]\n",
        "                    copied_pages = PageList.copy(out_doc, in_page_range, copy_options)\n",
        "                    out_doc.pages.extend(copied_pages)\n",

        "\n",
        "    print(\"Execution successful.\")\n",

        "except Exception as e:\n",
        "    print(f\"An error occurred: {e}\")"
      ]
    }
  ],
  "metadata": {
    "kernelspec": {
      "display_name": "Python 3",
      "language": "python",
      "name": "python3"
    },
    "language_info": {
      "codemirror_mode": {
        "name": "ipython",
        "version": 3
      },
      "file_extension": ".py",
      "mimetype": "text/x-python",
      "name": "python",
      "nbconvert_exporter": "python",
      "pygments_lexer": "ipython3",
      "version": "3.12.8"
    },
    "colab": {
      "provenance": []
    }
  },
  "nbformat": 4,
  "nbformat_minor": 5
}