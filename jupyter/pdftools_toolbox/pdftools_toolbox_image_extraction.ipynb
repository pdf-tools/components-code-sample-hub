{
  "cells": [
    {
      "cell_type": "markdown",
      "id": "5ade2a6e-f137-446a-98ee-a258a0c239d2",
      "metadata": {
          "id": "81c7c44e-afd6-4521-bbf9-5c6627221675"
      },
      "source": [
        "[![Open In Colab](https://colab.research.google.com/assets/colab-badge.svg)](https://colab.research.google.com/github/pdf-tools/components-code-sample-hub/blob/main/jupyter/pdftools_toolbox/pdftools_toolbox_image_extraction.ipynb)"
      ]
    },
    {
      "cell_type": "code",
      "execution_count": null,
      "id": "d3869c4f-c707-49fc-92e0-1925c7166130",
      "metadata": {
          "id": "f72ebcd4-8715-468f-a6ee-0ff8eeabbcd4"
      },
      "outputs": [],
      "source": [
        "%pip install pdftools_toolbox\n",
        "%pip install ipython"
      ]
    },
    {
      "cell_type": "markdown",
      "id": "938d10bc-decd-4563-b640-f754e37667d3",
      "metadata": {
          "id": "b903f693-9bce-4664-9326-6dc7cd0efd33"
      },
      "source": [
        "# Extract all images and image masks from a PDF\n",
        "Extract the embedded image data as JPEG or TIFF,\n",
        "depending on the compression format used."
      ]
    },
    {
      "cell_type": "code",
      "execution_count": null,
      "id": "6ba3a762-beaf-43d2-80db-6329d53323c5",
      "metadata": {
          "id": "dbcd854e-9e36-47b5-936f-c3149801fff6"
      },
      "outputs": [],
      "source": [
        "import io\n",
        "import io\n",
        "import os\n",
        "from pdftools_toolbox.pdf import Document, Page\n",
        "from pdftools_toolbox.pdf.content import ContentExtractor, ImageElement, ImageMaskElement, ImageType"
      ]
    },
    {
      "cell_type": "code",
      "execution_count": null,
      "id": "f8210bf5-6ff5-4a58-99eb-f7691db5b8e8",
      "metadata": {
          "id": "a067ed0b-eee7-4a75-9216-98c7c4f522cd"
      },
      "outputs": [],
      "source": [
        "# Download a file from a given URL and save it to the local system\n",
        "def prepare_file(url: str, path: str):\n",
        "    import requests\n",
        "    response = requests.get(url)\n",
        "    response.raise_for_status()\n",
        "\n",
        "    with open(path, 'wb') as f:\n",
        "        f.write(response.content)"
      ]
    },
    {
      "cell_type": "code",
      "execution_count": null,
      "id": "78a01b51-02a2-4174-abca-63db685b949e",
      "metadata": {
          "id": "76d7bafc-81a3-4c4b-9385-0e524ceb0c5f"
      },
      "outputs": [],
      "source": [
        "# Set input arguments\n",
        "input_url = 'https://pdftools-public-downloads-production.s3.eu-west-1.amazonaws.com/samples/testfiles/ImageCollection.pdf'\n",
        "input_file_path = 'ImageCollection.pdf'\n",
        "prepare_file(input_url, input_file_path)\n",
        "output_dir = 'extracted_images'"
      ]
    },
    {
      "cell_type": "code",
      "execution_count": null,
      "id": "ff5cab73-2db4-431c-b31a-77c072f789ee",
      "metadata": {
          "id": "9e43ba89-ceb7-44e9-a0ec-ecccf314aed6"
      },
      "outputs": [],
      "source": [
        "def extract_image(image_element: ImageElement, output_path: str):\n",
        "    with open(output_path, \"wb+\") as out_stream:\n",
        "        image_element.image.extract(out_stream)"
      ]
    },{
      "cell_type": "code",
      "execution_count": null,
      "id": "d8e2c8dd-35aa-433f-8213-f6f804dc466b",
      "metadata": {
          "id": "f4b7e301-0bf1-49a8-90cf-b7493f0750df"
      },
      "outputs": [],
      "source": [
        "def extract_image_mask(image_mask_element: ImageMaskElement, output_path: str):\n",
        "    with open(output_path, \"wb+\") as out_stream:\n",
        "        image_mask_element.image_mask.extract(out_stream)"
      ]
    },{
      "cell_type": "code",
      "execution_count": null,
      "id": "9d6dc439-612f-46db-8acc-4d052358176b",
      "metadata": {
          "id": "84e94f26-a547-49d7-9252-13944b255c4b"
      },
      "outputs": [],
      "source": [
        "def process_page_content(page: Page, page_number: int, output_dir: str):\n",
        "    extractor = ContentExtractor(page.content)\n",
        "    img_count = 0\n",
        "    mask_count = 0\n",
        "\n",
        "    for content_element in extractor:\n",
        "        # Extract image elements\n",
        "        if isinstance(content_element, ImageElement):\n",
        "            img_count += 1\n",
        "            image_type = content_element.image.default_image_type\n",
        "\n",
        "            extension = \".jpg\" if image_type == ImageType.JPEG else \".tiff\"\n",
        "\n",
        "            output_path = os.path.join(output_dir, f\"image_page{page_number}_{img_count}{extension}\")\n",
        "\n",
        "            extract_image(content_element, output_path)\n",
        "\n",
        "            print(f\"Extracted image: {output_path}\")\n",
        "\n",
        "        # Extract image masks\n",
        "        elif isinstance(content_element, ImageMaskElement):\n",
        "            mask_count += 1\n",
        "            output_path = os.path.join(output_dir, f\"image_mask_page{page_number}_{mask_count}.tiff\")\n",
        "            extract_image_mask(content_element, output_path)\n",
        "            print(f\"Extracted image mask: {output_path}\")"
      ]
    },
    {
      "cell_type": "code",
      "execution_count": null,
      "id": "44dfaed2-b449-4dfc-af88-624e9d796fff",
      "metadata": {
          "id": "48ab4a32-f280-4ab3-aed9-e4efa7fb46bb"
      },
      "outputs": [],
      "source": [
        "try:\n",
        "    # Set and check license key. If the license key is not valid, an exception is thrown.\n",
        "    from pdftools_toolbox.sdk import Sdk\n",
        "    Sdk.initialize(\"INSERT-LICENSE-KEY\", None)\n",

        "\n",
        "    # Ensure the output directory exists\n",
        "    os.makedirs(output_dir, exist_ok=True)\n",
        "    \n",
        "    # Open input document\n",
        "    with io.FileIO(input_file_path, \"rb\") as in_stream:\n",
        "        with Document.open(in_stream, None) as in_doc:\n",
        "    \n",
        "            for page_number, page in enumerate(in_doc.pages, start=1):\n",
        "                process_page_content(page, page_number, output_dir)\n",

        "\n",
        "    print(\"Execution successful.\")\n",

        "except Exception as e:\n",
        "    print(f\"An error occurred: {e}\")"
      ]
    }
  ],
  "metadata": {
    "kernelspec": {
      "display_name": "Python 3",
      "language": "python",
      "name": "python3"
    },
    "language_info": {
      "codemirror_mode": {
        "name": "ipython",
        "version": 3
      },
      "file_extension": ".py",
      "mimetype": "text/x-python",
      "name": "python",
      "nbconvert_exporter": "python",
      "pygments_lexer": "ipython3",
      "version": "3.12.8"
    },
    "colab": {
      "provenance": []
    }
  },
  "nbformat": 4,
  "nbformat_minor": 5
}