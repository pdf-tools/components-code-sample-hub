{
  "cells": [
    {
      "cell_type": "markdown",
      "id": "00a6f1c4-3129-4cad-9e95-5351ba693aec",
      "metadata": {
          "id": "2527517a-f38d-4444-823d-112f4aec3a1a"
      },
      "source": [
        "[![Open In Colab](https://colab.research.google.com/assets/colab-badge.svg)](https://colab.research.google.com/github/pdf-tools/components-code-sample-hub/blob/main/jupyter/pdftools_toolbox/pdftools_toolbox_image_extraction.ipynb)"
      ]
    },
    {
      "cell_type": "code",
      "execution_count": null,
      "id": "87f50b96-d598-421a-9324-8458e82406c3",
      "metadata": {
          "id": "e60b7620-60cd-4971-8a89-7c388db5fba1"
      },
      "outputs": [],
      "source": [
        "%pip install https://pdftools-public-downloads-production.s3.eu-west-1.amazonaws.com/productkits/PDFSDKXT/latest/pdftools_toolbox-latest.tar.gz\n",
        "%pip install ipython"
      ]
    },
    {
      "cell_type": "markdown",
      "id": "8d4847fd-4c41-4b5e-993b-7fa845d23bdb",
      "metadata": {
          "id": "90a6b702-ee87-449d-9031-2ff02f11ad88"
      },
      "source": [
        "# Extract all images and image masks from a PDF\n",
        "Extract the embedded image data as JPEG or TIFF,\n",
        "depending on the compression format used."
      ]
    },
    {
      "cell_type": "code",
      "execution_count": null,
      "id": "18042969-4b19-4fde-a507-bff5ca5438f8",
      "metadata": {
          "id": "09503dab-9327-492a-aa67-d3fddc980c4d"
      },
      "outputs": [],
      "source": [
        "import io\n",
        "import io\n",
        "import os\n",
        "from pdftools_toolbox.pdf import Document, Page\n",
        "from pdftools_toolbox.pdf.content import ContentExtractor, ImageElement, ImageMaskElement, ImageType"
      ]
    },
    {
      "cell_type": "code",
      "execution_count": null,
      "id": "9cb006a8-99d5-4e0d-a4fe-cdeaaf29526b",
      "metadata": {
          "id": "faaf7b2f-fc65-41aa-a923-80a92de3fa38"
      },
      "outputs": [],
      "source": [
        "# Download a file from a given URL and save it to the local system\n",
        "def prepare_file(url: str, path: str):\n",
        "    import requests\n",
        "    response = requests.get(url)\n",
        "    response.raise_for_status()\n",
        "\n",
        "    with open(path, 'wb') as f:\n",
        "        f.write(response.content)"
      ]
    },
    {
      "cell_type": "code",
      "execution_count": null,
      "id": "e0f4bd60-aeac-4e90-a25c-a401f303db0e",
      "metadata": {
          "id": "07cd5fcb-ce37-4a85-9c0a-382e086da6c6"
      },
      "outputs": [],
      "source": [
        "# Set input arguments\n",
        "input_url = 'https://pdftools-public-downloads-production.s3.eu-west-1.amazonaws.com/samples/testfiles/ImageCollection.pdf'\n",
        "input_file_path = 'ImageCollection.pdf'\n",
        "prepare_file(input_url, input_file_path)\n",
        "output_dir = 'extracted_images'"
      ]
    },
    {
      "cell_type": "code",
      "execution_count": null,
      "id": "c3816357-f80d-48db-8509-dfe4d35e51d2",
      "metadata": {
          "id": "8573e808-9e77-41d2-ba50-885edf9e099f"
      },
      "outputs": [],
      "source": [
        "def extract_image(image_element: ImageElement, output_path: str):\n",
        "    with open(output_path, \"wb+\") as out_stream:\n",
        "        image_element.image.extract(out_stream)"
      ]
    },
    {
      "cell_type": "code",
      "execution_count": null,
      "id": "028cc8e1-ca42-42b5-b30e-1d69c141f4d5",
      "metadata": {
          "id": "15881aaf-9c83-4873-82ed-4d9ecb5c37e4"
      },
      "outputs": [],
      "source": [
        "def extract_image_mask(image_mask_element: ImageMaskElement, output_path: str):\n",
        "    with open(output_path, \"wb+\") as out_stream:\n",
        "        image_mask_element.image_mask.extract(out_stream)"
      ]
    },
    {
      "cell_type": "code",
      "execution_count": null,
      "id": "5d4d3cb4-fc90-4271-b47b-47cf1b87eeb1",
      "metadata": {
          "id": "848eb8e8-72fa-4363-a73c-efd2060051c2"
      },
      "outputs": [],
      "source": [
        "def process_page_content(page: Page, page_number: int, output_dir: str):\n",
        "    extractor = ContentExtractor(page.content)\n",
        "    img_count = 0\n",
        "    mask_count = 0\n",
        "\n",
        "    for content_element in extractor:\n",
        "        # Extract image elements\n",
        "        if isinstance(content_element, ImageElement):\n",
        "            img_count += 1\n",
        "            image_type = content_element.image.default_image_type\n",
        "\n",
        "            extension = \".jpg\" if image_type == ImageType.JPEG else \".tiff\"\n",
        "\n",
        "            output_path = os.path.join(output_dir, f\"image_page{page_number}_{img_count}{extension}\")\n",
        "\n",
        "            extract_image(content_element, output_path)\n",
        "\n",
        "            print(f\"Extracted image: {output_path}\")\n",
        "\n",
        "        # Extract image masks\n",
        "        elif isinstance(content_element, ImageMaskElement):\n",
        "            mask_count += 1\n",
        "            output_path = os.path.join(output_dir, f\"image_mask_page{page_number}_{mask_count}.tiff\")\n",
        "            extract_image_mask(content_element, output_path)\n",
        "            print(f\"Extracted image mask: {output_path}\")"
      ]
    },
    {
      "cell_type": "code",
      "execution_count": null,
      "id": "4b43668e-dfa6-4b18-857e-b37de5047db1",
      "metadata": {
          "id": "83df214a-3f79-480f-a0ae-c7223ba82a8d"
      },
      "outputs": [],
      "source": [
        "try:\n",
        "    # Set and check license key. If the license key is not valid, an exception is thrown.\n",
        "    from pdftools_toolbox.sdk import Sdk\n",
        "    Sdk.initialize(\"<PDFSDK,V1,MGAASQD6L2JMQHL54PK08RQX8GG4SS0M8DAHVPH0VMP3NB8R9DUK>\", None)\n",

        "\n",
        "    # Ensure the output directory exists\n",
        "    os.makedirs(output_dir, exist_ok=True)\n",
        "    \n",
        "    # Open input document\n",
        "    with io.FileIO(input_file_path, \"rb\") as in_stream:\n",
        "        with Document.open(in_stream, None) as in_doc:\n",
        "    \n",
        "            for page_number, page in enumerate(in_doc.pages, start=1):\n",
        "                process_page_content(page, page_number, output_dir)\n",

        "\n",
        "    print(\"Execution successful.\")\n",

        "except Exception as e:\n",
        "    print(f\"An error occurred: {e}\")"
      ]
    }
  ],
  "metadata": {
    "kernelspec": {
      "display_name": "Python 3",
      "language": "python",
      "name": "python3"
    },
    "language_info": {
      "codemirror_mode": {
        "name": "ipython",
        "version": 3
      },
      "file_extension": ".py",
      "mimetype": "text/x-python",
      "name": "python",
      "nbconvert_exporter": "python",
      "pygments_lexer": "ipython3",
      "version": "3.12.8"
    },
    "colab": {
      "provenance": []
    }
  },
  "nbformat": 4,
  "nbformat_minor": 5
}