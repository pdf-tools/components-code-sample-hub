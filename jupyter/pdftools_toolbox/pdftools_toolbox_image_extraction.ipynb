{
  "cells": [
    {
      "cell_type": "markdown",
      "id": "de213de9-4748-4ff7-a415-2d068100aa09",
      "metadata": {
          "id": "9c7e758e-9a58-4aab-acab-ec336ff952ca"
      },
      "source": [
        "[![Open In Colab](https://colab.research.google.com/assets/colab-badge.svg)](https://colab.research.google.com/github/pdf-tools/components-code-sample-hub/blob/main/jupyter/pdftools_toolbox/pdftools_toolbox_image_extraction.ipynb)"
      ]
    },
    {
      "cell_type": "code",
      "execution_count": null,
      "id": "a07f1604-c4a2-4280-8765-32e2cdf635be",
      "metadata": {
          "id": "7df430b5-072b-40ff-a383-4da2196981b5"
      },
      "outputs": [],
      "source": [
        "%pip install https://pdftools-public-downloads-production.s3.eu-west-1.amazonaws.com/productkits/PDFSDKXT/latest/pdftools_toolbox-latest.tar.gz\n",
        "%pip install ipython"
      ]
    },
    {
      "cell_type": "markdown",
      "id": "068aa11b-6d5f-4d80-a6d9-ddfc574d7fda",
      "metadata": {
          "id": "c9264710-9c5f-4b2c-9dd7-7c43dafb9185"
      },
      "source": [
        "# Extract all images and image masks from a PDF\n",
        "Extract the embedded image data as JPEG or TIFF,\n",
        "depending on the compression format used."
      ]
    },
    {
      "cell_type": "code",
      "execution_count": null,
      "id": "f44099b5-6d84-4008-ba2f-bb952db6a683",
      "metadata": {
          "id": "44f4c32e-70ce-4d70-8e41-11b90ba8f0fe"
      },
      "outputs": [],
      "source": [
        "import io\n",
        "import io\n",
        "import os\n",
        "from pdftools_toolbox.pdf import Document, Page\n",
        "from pdftools_toolbox.pdf.content import ContentExtractor, ImageElement, ImageMaskElement, ImageType"
      ]
    },
    {
      "cell_type": "code",
      "execution_count": null,
      "id": "8e2274d0-2e5d-4685-896c-3d9d0bd9c013",
      "metadata": {
          "id": "2b51b8eb-88ca-4cee-9717-1cefc657b1a9"
      },
      "outputs": [],
      "source": [
        "# Download a file from a given URL and save it to the local system\n",
        "def prepare_file(url: str, path: str):\n",
        "    import requests\n",
        "    response = requests.get(url)\n",
        "    response.raise_for_status()\n",
        "\n",
        "    with open(path, 'wb') as f:\n",
        "        f.write(response.content)"
      ]
    },
    {
      "cell_type": "code",
      "execution_count": null,
      "id": "9b1f1dc5-cec2-4f6d-9722-ac4d55a852d8",
      "metadata": {
          "id": "4f9afc28-713f-4223-8069-319bb16af6a0"
      },
      "outputs": [],
      "source": [
        "# Set input arguments\n",
        "input_url = 'https://pdftools-public-downloads-production.s3.eu-west-1.amazonaws.com/samples/testfiles/ImageCollection.pdf'\n",
        "input_file_path = 'ImageCollection.pdf'\n",
        "prepare_file(input_url, input_file_path)\n",
        "output_dir = 'extracted_images'"
      ]
    },
    {
      "cell_type": "code",
      "execution_count": null,
      "id": "08284349-2e9e-498d-896e-e993e0432f09",
      "metadata": {
          "id": "d4bfe724-7426-48b5-9c18-96342cefc10b"
      },
      "outputs": [],
      "source": [
        "def extract_image(image_element: ImageElement, output_path: str):\n",
        "    with open(output_path, \"wb+\") as out_stream:\n",
        "        image_element.image.extract(out_stream)"
      ]
    },
    {
      "cell_type": "code",
      "execution_count": null,
      "id": "9577fc2d-ddf7-4d01-b8db-8120d4618334",
      "metadata": {
          "id": "3451551e-f8d9-4b18-af36-96d20fbddd37"
      },
      "outputs": [],
      "source": [
        "def extract_image_mask(image_mask_element: ImageMaskElement, output_path: str):\n",
        "    with open(output_path, \"wb+\") as out_stream:\n",
        "        image_mask_element.image_mask.extract(out_stream)"
      ]
    },
    {
      "cell_type": "code",
      "execution_count": null,
      "id": "1e2d46cd-5c33-438e-8651-49cefd90ff61",
      "metadata": {
          "id": "a4458065-0308-4aec-a451-dc155f996731"
      },
      "outputs": [],
      "source": [
        "def process_page_content(page: Page, page_number: int, output_dir: str):\n",
        "    extractor = ContentExtractor(page.content)\n",
        "    img_count = 0\n",
        "    mask_count = 0\n",
        "\n",
        "    for content_element in extractor:\n",
        "        # Extract image elements\n",
        "        if isinstance(content_element, ImageElement):\n",
        "            img_count += 1\n",
        "            image_type = content_element.image.default_image_type\n",
        "\n",
        "            extension = \".jpg\" if image_type == ImageType.JPEG else \".tiff\"\n",
        "\n",
        "            output_path = os.path.join(output_dir, f\"image_page{page_number}_{img_count}{extension}\")\n",
        "\n",
        "            extract_image(content_element, output_path)\n",
        "\n",
        "            print(f\"Extracted image: {output_path}\")\n",
        "\n",
        "        # Extract image masks\n",
        "        elif isinstance(content_element, ImageMaskElement):\n",
        "            mask_count += 1\n",
        "            output_path = os.path.join(output_dir, f\"image_mask_page{page_number}_{mask_count}.tiff\")\n",
        "            extract_image_mask(content_element, output_path)\n",
        "            print(f\"Extracted image mask: {output_path}\")"
      ]
    },
    {
      "cell_type": "code",
      "execution_count": null,
      "id": "85ea8c7e-4e51-4255-848a-c591e1f60eb8",
      "metadata": {
          "id": "40ee4a4c-772c-4b98-aa6e-4d3225295d20"
      },
      "outputs": [],
      "source": [
        "try:\n",
        "    # Set and check license key. If the license key is not valid, an exception is thrown.\n",
        "    from pdftools_toolbox.sdk import Sdk\n",
        "    Sdk.initialize(\"INSERT-LICENSE-KEY\", None)\n",

        "\n",
        "    # Ensure the output directory exists\n",
        "    os.makedirs(output_dir, exist_ok=True)\n",
        "    \n",
        "    # Open input document\n",
        "    with io.FileIO(input_file_path, \"rb\") as in_stream:\n",
        "        with Document.open(in_stream, None) as in_doc:\n",
        "    \n",
        "            for page_number, page in enumerate(in_doc.pages, start=1):\n",
        "                process_page_content(page, page_number, output_dir)\n",

        "\n",
        "    print(\"Execution successful.\")\n",

        "except Exception as e:\n",
        "    print(f\"An error occurred: {e}\")"
      ]
    }
  ],
  "metadata": {
    "kernelspec": {
      "display_name": "Python 3",
      "language": "python",
      "name": "python3"
    },
    "language_info": {
      "codemirror_mode": {
        "name": "ipython",
        "version": 3
      },
      "file_extension": ".py",
      "mimetype": "text/x-python",
      "name": "python",
      "nbconvert_exporter": "python",
      "pygments_lexer": "ipython3",
      "version": "3.12.8"
    },
    "colab": {
      "provenance": []
    }
  },
  "nbformat": 4,
  "nbformat_minor": 5
}