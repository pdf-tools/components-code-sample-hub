{
  "cells": [
    {
      "cell_type": "markdown",
      "id": "0fc08546-fb6b-4f65-aa6a-94cbe3d58c51",
      "metadata": {
          "id": "4a3db506-d37c-4cb7-8749-fabb7769aa89"
      },
      "source": [
        "[![Open In Colab](https://colab.research.google.com/assets/colab-badge.svg)](https://colab.research.google.com/github/pdf-tools/components-code-sample-hub/blob/main/jupyter/pdftools_toolbox/pdftools_toolbox_image_extraction.ipynb)"
      ]
    },
    {
      "cell_type": "code",
      "execution_count": null,
      "id": "10ff7201-2581-430d-9a10-a8fef2b200de",
      "metadata": {
          "id": "0d2fa7ea-19a3-4e68-a7da-5f57bbf0ec57"
      },
      "outputs": [],
      "source": [
        "%pip install https://pdftools-public-downloads-production.s3.eu-west-1.amazonaws.com/productkits/PDFSDKXT/latest/pdftools_toolbox-latest.tar.gz\n",
        "%pip install ipython"
      ]
    },
    {
      "cell_type": "markdown",
      "id": "67ec52ae-837f-4235-bacb-c082e757743f",
      "metadata": {
          "id": "b2efbac4-80ca-46f8-be0d-0a4e3b4ffa78"
      },
      "source": [
        "# Extract all images and image masks from a PDF\n",
        "Extract the embedded image data as JPEG or TIFF,\n",
        "depending on the compression format used."
      ]
    },
    {
      "cell_type": "code",
      "execution_count": null,
      "id": "45ae655a-2953-410e-8683-73943975fbe5",
      "metadata": {
          "id": "fe251c9c-7214-4540-b157-2851769934ec"
      },
      "outputs": [],
      "source": [
        "import io\n",
        "import io\n",
        "import os\n",
        "from pdftools_toolbox.pdf import Document, Page\n",
        "from pdftools_toolbox.pdf.content import ContentExtractor, ImageElement, ImageMaskElement, ImageType"
      ]
    },
    {
      "cell_type": "code",
      "execution_count": null,
      "id": "683b17f5-5fc6-4a7c-90d9-0ff4d4074ebf",
      "metadata": {
          "id": "a506194d-8eb1-4de4-a198-4bc74a6f7c92"
      },
      "outputs": [],
      "source": [
        "# Download a file from a given URL and save it to the local system\n",
        "def prepare_file(url: str, path: str):\n",
        "    import requests\n",
        "    response = requests.get(url)\n",
        "    response.raise_for_status()\n",
        "\n",
        "    with open(path, 'wb') as f:\n",
        "        f.write(response.content)"
      ]
    },
    {
      "cell_type": "code",
      "execution_count": null,
      "id": "750cd2a6-19d2-4a43-a503-5e3325888a49",
      "metadata": {
          "id": "bac30826-b184-48cb-9bcb-87de38fddd26"
      },
      "outputs": [],
      "source": [
        "# Set input arguments\n",
        "input_url = 'https://pdftools-public-downloads-production.s3.eu-west-1.amazonaws.com/samples/testfiles/ImageCollection.pdf'\n",
        "input_file_path = 'ImageCollection.pdf'\n",
        "prepare_file(input_url, input_file_path)\n",
        "output_dir = 'extracted_images'"
      ]
    },
    {
      "cell_type": "code",
      "execution_count": null,
      "id": "52c96bb0-92e1-4f5f-8937-54d1e33b6e93",
      "metadata": {
          "id": "e9c5930e-059b-4979-bfd7-929886224354"
      },
      "outputs": [],
      "source": [
        "def extract_image(image_element: ImageElement, output_path: str):\n",
        "    with open(output_path, \"wb+\") as out_stream:\n",
        "        image_element.image.extract(out_stream)"
      ]
    },
    {
      "cell_type": "code",
      "execution_count": null,
      "id": "90d509d3-8dad-4eac-b019-94859aeccb69",
      "metadata": {
          "id": "6a1c0eec-2c18-4f15-b8be-cbfe89650cbd"
      },
      "outputs": [],
      "source": [
        "def extract_image_mask(image_mask_element: ImageMaskElement, output_path: str):\n",
        "    with open(output_path, \"wb+\") as out_stream:\n",
        "        image_mask_element.image_mask.extract(out_stream)"
      ]
    },
    {
      "cell_type": "code",
      "execution_count": null,
      "id": "6e520257-5bb9-468d-8630-33d956f306a8",
      "metadata": {
          "id": "32a0f4c9-f884-4553-8944-79495b76eaa3"
      },
      "outputs": [],
      "source": [
        "def process_page_content(page: Page, page_number: int, output_dir: str):\n",
        "    extractor = ContentExtractor(page.content)\n",
        "    img_count = 0\n",
        "    mask_count = 0\n",
        "\n",
        "    for content_element in extractor:\n",
        "        # Extract image elements\n",
        "        if isinstance(content_element, ImageElement):\n",
        "            img_count += 1\n",
        "            image_type = content_element.image.default_image_type\n",
        "\n",
        "            extension = \".jpg\" if image_type == ImageType.JPEG else \".tiff\"\n",
        "\n",
        "            output_path = os.path.join(output_dir, f\"image_page{page_number}_{img_count}{extension}\")\n",
        "\n",
        "            extract_image(content_element, output_path)\n",
        "\n",
        "            print(f\"Extracted image: {output_path}\")\n",
        "\n",
        "        # Extract image masks\n",
        "        elif isinstance(content_element, ImageMaskElement):\n",
        "            mask_count += 1\n",
        "            output_path = os.path.join(output_dir, f\"image_mask_page{page_number}_{mask_count}.tiff\")\n",
        "            extract_image_mask(content_element, output_path)\n",
        "            print(f\"Extracted image mask: {output_path}\")"
      ]
    },
    {
      "cell_type": "code",
      "execution_count": null,
      "id": "5a0e8c8b-1c1b-4ed3-8418-287e6d14a54d",
      "metadata": {
          "id": "b75731c4-d358-404f-bd49-f922aff60ac6"
      },
      "outputs": [],
      "source": [
        "try:\n",
        "    # Set and check license key. If the license key is not valid, an exception is thrown.\n",
        "    from pdftools_toolbox.sdk import Sdk\n",
        "    Sdk.initialize(\"INSERT-LICENSE-KEY\", None)\n",

        "\n",
        "    # Ensure the output directory exists\n",
        "    os.makedirs(output_dir, exist_ok=True)\n",
        "    \n",
        "    # Open input document\n",
        "    with io.FileIO(input_file_path, \"rb\") as in_stream:\n",
        "        with Document.open(in_stream, None) as in_doc:\n",
        "    \n",
        "            for page_number, page in enumerate(in_doc.pages, start=1):\n",
        "                process_page_content(page, page_number, output_dir)\n",

        "\n",
        "    print(\"Execution successful.\")\n",

        "except Exception as e:\n",
        "    print(f\"An error occurred: {e}\")"
      ]
    }
  ],
  "metadata": {
    "kernelspec": {
      "display_name": "Python 3",
      "language": "python",
      "name": "python3"
    },
    "language_info": {
      "codemirror_mode": {
        "name": "ipython",
        "version": 3
      },
      "file_extension": ".py",
      "mimetype": "text/x-python",
      "name": "python",
      "nbconvert_exporter": "python",
      "pygments_lexer": "ipython3",
      "version": "3.12.8"
    },
    "colab": {
      "provenance": []
    }
  },
  "nbformat": 4,
  "nbformat_minor": 5
}