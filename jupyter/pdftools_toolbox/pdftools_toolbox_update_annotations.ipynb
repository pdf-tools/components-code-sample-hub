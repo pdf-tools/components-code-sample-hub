{
  "cells": [
    {
      "cell_type": "markdown",
      "id": "755460a2-9cda-40ec-9a3a-f0230516e198",
      "metadata": {
          "id": "fe01077a-3471-401c-b6b4-e6b4f0c481c0"
      },
      "source": [
        "[![Open In Colab](https://colab.research.google.com/assets/colab-badge.svg)](https://colab.research.google.com/github/pdf-tools/components-code-sample-hub/blob/main/jupyter/pdftools_toolbox/pdftools_toolbox_update_annotations.ipynb)"
      ]
    },
    {
      "cell_type": "code",
      "execution_count": null,
      "id": "85ddaa4b-4356-46a1-bbc0-22a4ae4cd9af",
      "metadata": {
          "id": "2e209cb5-8057-41f6-926e-e770608d8ae0"
      },
      "outputs": [],
      "source": [
        "%pip install https://pdftools-public-downloads-production.s3.eu-west-1.amazonaws.com/productkits/PDFSDKXT/latest/pdftools_toolbox-latest.tar.gz\n",
        "%pip install ipython"
      ]
    },
    {
      "cell_type": "markdown",
      "id": "a6f29315-5d5c-4a5c-b148-ffa57b581094",
      "metadata": {
          "id": "8da0c8d8-1bd8-44ec-b4b4-fb0f2a07d6a0"
      },
      "source": [
        "# Update annotations to PDF\n",
        "Remove the 'Ellipse' annotations from the PDF and export\n",
        "the new list of annotations to a new FDF-File."
      ]
    },
    {
      "cell_type": "code",
      "execution_count": null,
      "id": "d32dc19d-e89a-4b33-98b3-fce59095a558",
      "metadata": {
          "id": "2507a9b4-c822-45bf-83fd-e5fadbed6fdc"
      },
      "outputs": [],
      "source": [
        "import io\n",
        "from pdftools_toolbox.pdf import CopyStrategy, Document, FileReference, Metadata, PageCopyOptions, Page\n",
        "from pdftools_toolbox.pdf.content import IccBasedColorSpace\n",
        "from pdftools_toolbox.pdf.annotations import Annotation, EllipseAnnotation\n",
        "from pdftools_toolbox.pdf.navigation import ViewerSettings"
      ]
    },
    {
      "cell_type": "code",
      "execution_count": null,
      "id": "71ecdbb7-8e61-4a2c-b101-3eac163ce811",
      "metadata": {
          "id": "16185a9b-4217-44c6-8836-c2c7d0d6dfcf"
      },
      "outputs": [],
      "source": [
        "# Download a file from a given URL and save it to the local system\n",
        "def prepare_file(url: str, path: str):\n",
        "    import requests\n",
        "    response = requests.get(url)\n",
        "    response.raise_for_status()\n",
        "\n",
        "    with open(path, 'wb') as f:\n",
        "        f.write(response.content)"
      ]
    },
    {
      "cell_type": "code",
      "execution_count": null,
      "id": "5c926086-b762-447d-8331-3f48cd378f33",
      "metadata": {
          "id": "74a08fe0-25ff-4be3-8c4f-6d35552b87e0"
      },
      "outputs": [],
      "source": [
        "# Set input arguments\n",
        "input_url = 'https://pdftools-public-downloads-production.s3.eu-west-1.amazonaws.com/samples/testfiles/GraphicsWhiteTextNoTP.pdf'\n",
        "input_fdf_url = 'https://pdftools-public-downloads-production.s3.eu-west-1.amazonaws.com/samples/testfiles/GraphicsWhiteTextNoTP.fdf'\n",
        "input_file_path = 'GraphicsWhiteTextNoTP.pdf'\n",
        "input_fdf_path = 'GraphicsWhiteTextNoTP.fdf'\n",
        "prepare_file(input_url, input_file_path)\n",
        "prepare_file(input_fdf_url, input_fdf_path)\n",
        "output_file_path = 'UpdatedAnnotations.pdf'\n",
        "output_fdf_path = 'UpdatedAnnotations.fdf'"
      ]
    },
    {
      "cell_type": "code",
      "execution_count": null,
      "id": "0b1a0c7c-a6c2-4576-a683-ff7c60c0b504",
      "metadata": {
          "id": "d1e181a2-1e1b-46cb-a79f-72ce18b59d09"
      },
      "outputs": [],
      "source": [
        "def copy_document_data(in_doc: Document, out_doc: Document):\n",
        "    # Copy document-wide data\n",
        "\n",
        "    # Output intent\n",
        "    if in_doc.output_intent is not None:\n",
        "        in_doc.output_intent = IccBasedColorSpace.copy(out_doc, in_doc.output_intent)\n",
        "\n",
        "    # Metadata\n",
        "    out_doc.metadata = Metadata.copy(out_doc, in_doc.metadata)\n",
        "\n",
        "    # Viewer settings\n",
        "    out_doc.viewer_settings = ViewerSettings.copy(out_doc, in_doc.viewer_settings)\n",
        "\n",
        "    # Associated files (for PDF/A-3 and PDF 2.0 only)\n",
        "    outAssociatedFiles = out_doc.associated_files\n",
        "    for in_file_ref in in_doc.associated_files:\n",
        "        outAssociatedFiles.append(FileReference.copy(out_doc, in_file_ref))\n",
        "\n",
        "    # Plain embedded files\n",
        "    out_embedded_files = out_doc.plain_embedded_files\n",
        "    for in_file_ref in in_doc.plain_embedded_files:\n",
        "        out_embedded_files.append(FileReference.copy(out_doc, in_file_ref))"
      ]
    },
    {
      "cell_type": "code",
      "execution_count": null,
      "id": "d2641138-b255-48b9-9cc4-33ecfac82a19",
      "metadata": {
          "id": "ebaeb302-e159-42fb-8e33-317ec3d54ae3"
      },
      "outputs": [],
      "source": [
        "def filter_annotations(in_doc: Document, out_doc: Document):\n",
        "    \"\"\"Filter annotations and remove 'Ellipse' annotations.\"\"\"\n",
        "    # Define page copy options\n",
        "    copy_options = PageCopyOptions()\n",
        "    # Remove all annotations: we will add the filtered ones later\n",
        "    copy_options.annotations = CopyStrategy.REMOVE\n",
        "\n",
        "    for in_page in in_doc.pages:\n",
        "        # Copy page to the output document\n",
        "        out_page = Page.copy(out_doc, in_page, copy_options)\n",
        "\n",
        "        # Hold the annotations from the input document\n",
        "        in_annotations = in_page.annotations\n",
        "\n",
        "        # Selectively copy annotations (excluding EllipseAnnotations - like Circle)\n",
        "        for in_annotation in in_annotations:\n",
        "            if not isinstance(in_annotation, EllipseAnnotation):\n",
        "                out_page.annotations.append(Annotation.copy(out_doc, in_annotation))\n",
        "\n",
        "        # Add the page to the output document\n",
        "        out_doc.pages.append(out_page)"
      ]
    },
    {
      "cell_type": "code",
      "execution_count": null,
      "id": "588d3fd5-9b10-4410-8dd6-968dd9e6b825",
      "metadata": {
          "id": "216d120d-e8e8-43b5-bdf4-1426f5c029a4"
      },
      "outputs": [],
      "source": [
        "try:\n",
        "    # Set and check license key. If the license key is not valid, an exception is thrown.\n",
        "    from pdftools_toolbox.sdk import Sdk\n",
        "    Sdk.initialize(\"INSERT-LICENSE-KEY\", None)\n",

        "\n",
        "    # Open input PDF and FDF files\n",
        "    with io.FileIO(input_file_path, \"rb\") as in_stream:\n",
        "        with io.FileIO(input_fdf_path, \"rb\") as in_fdf_stream:\n",
        "            with Document.open_with_fdf(in_stream, in_fdf_stream, None) as in_doc:\n",
        "                # Create output PDF and FDF files\n",
        "                with io.FileIO(output_file_path, \"wb+\") as out_stream:\n",
        "                    with io.FileIO(output_fdf_path, \"wb+\") as out_fdf_stream:\n",
        "                        with Document.create_with_fdf(out_stream, out_fdf_stream, in_doc.conformance, None) as out_doc:\n",
        "                            # Copy document-wide data\n",
        "                            copy_document_data(in_doc, out_doc)\n",
        "    \n",
        "                            # Filter and process annotations\n",
        "                            filter_annotations(in_doc, out_doc)\n",

        "\n",
        "    print(\"Execution successful.\")\n",

        "except Exception as e:\n",
        "    print(f\"An error occurred: {e}\")"
      ]
    }
  ],
  "metadata": {
    "kernelspec": {
      "display_name": "Python 3",
      "language": "python",
      "name": "python3"
    },
    "language_info": {
      "codemirror_mode": {
        "name": "ipython",
        "version": 3
      },
      "file_extension": ".py",
      "mimetype": "text/x-python",
      "name": "python",
      "nbconvert_exporter": "python",
      "pygments_lexer": "ipython3",
      "version": "3.12.8"
    },
    "colab": {
      "provenance": []
    }
  },
  "nbformat": 4,
  "nbformat_minor": 5
}