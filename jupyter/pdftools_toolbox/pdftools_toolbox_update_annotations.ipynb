{
  "cells": [
    {
      "cell_type": "markdown",
      "id": "4b13849c-1e18-4418-8831-06974e7c5c9d",
      "metadata": {
          "id": "4d8d5beb-76fe-4ac6-98e4-63e5262ec5fc"
      },
      "source": [
        "[![Open In Colab](https://colab.research.google.com/assets/colab-badge.svg)](https://colab.research.google.com/github/pdf-tools/components-code-sample-hub/blob/main/jupyter/pdftools_toolbox/pdftools_toolbox_update_annotations.ipynb)"
      ]
    },
    {
      "cell_type": "code",
      "execution_count": null,
      "id": "9e39f44b-6eec-4011-8cfb-7c14320da16e",
      "metadata": {
          "id": "8ceead37-6063-4c95-a57e-07a66e30e8a7"
      },
      "outputs": [],
      "source": [
        "%pip install https://pdftools-public-downloads-production.s3.eu-west-1.amazonaws.com/productkits/PDFSDKXT/latest/pdftools_toolbox-latest.tar.gz\n",
        "%pip install ipython"
      ]
    },
    {
      "cell_type": "markdown",
      "id": "f8df2145-a2f2-4bb6-877a-fb0a8411514e",
      "metadata": {
          "id": "e22c9d65-8f39-4e73-9d79-90053f95cf30"
      },
      "source": [
        "# Update annotations to PDF\n",
        "Remove the 'Ellipse' annotations from the PDF and export\n",
        "the new list of annotations to a new FDF-File."
      ]
    },
    {
      "cell_type": "code",
      "execution_count": null,
      "id": "46022cbd-3b98-456f-9fb0-2f859cdab35a",
      "metadata": {
          "id": "80484b99-33f7-4ae7-8448-8fdc78e6f75a"
      },
      "outputs": [],
      "source": [
        "import io\n",
        "from pdftools_toolbox.pdf import CopyStrategy, Document, FileReference, Metadata, PageCopyOptions, Page\n",
        "from pdftools_toolbox.pdf.content import IccBasedColorSpace\n",
        "from pdftools_toolbox.pdf.annotations import Annotation, EllipseAnnotation\n",
        "from pdftools_toolbox.pdf.navigation import ViewerSettings"
      ]
    },
    {
      "cell_type": "code",
      "execution_count": null,
      "id": "736d1928-ec8b-40d1-9bad-65a987fc7fe1",
      "metadata": {
          "id": "cfb2c998-b542-4a9e-aa38-e747333b2f50"
      },
      "outputs": [],
      "source": [
        "# Download a file from a given URL and save it to the local system\n",
        "def prepare_file(url: str, path: str):\n",
        "    import requests\n",
        "    response = requests.get(url)\n",
        "    response.raise_for_status()\n",
        "\n",
        "    with open(path, 'wb') as f:\n",
        "        f.write(response.content)"
      ]
    },
    {
      "cell_type": "code",
      "execution_count": null,
      "id": "033a7dd4-76fd-4404-a3b5-a33ed7a2afc2",
      "metadata": {
          "id": "fd208187-7095-47c1-8ed7-96935519ebee"
      },
      "outputs": [],
      "source": [
        "# Set input arguments\n",
        "input_url = 'https://pdftools-public-downloads-production.s3.eu-west-1.amazonaws.com/samples/testfiles/GraphicsWhiteTextNoTP.pdf'\n",
        "input_fdf_url = 'https://pdftools-public-downloads-production.s3.eu-west-1.amazonaws.com/samples/testfiles/GraphicsWhiteTextNoTP.fdf'\n",
        "input_file_path = 'GraphicsWhiteTextNoTP.pdf'\n",
        "input_fdf_path = 'GraphicsWhiteTextNoTP.fdf'\n",
        "prepare_file(input_url, input_file_path)\n",
        "prepare_file(input_fdf_url, input_fdf_path)\n",
        "output_file_path = 'UpdatedAnnotations.pdf'\n",
        "output_fdf_path = 'UpdatedAnnotations.fdf'"
      ]
    },
    {
      "cell_type": "code",
      "execution_count": null,
      "id": "7b122fb0-d079-44ff-b629-3228d07b9cac",
      "metadata": {
          "id": "5c6e1714-4579-4b66-bce3-f82c10f55664"
      },
      "outputs": [],
      "source": [
        "def copy_document_data(in_doc: Document, out_doc: Document):\n",
        "    # Copy document-wide data\n",
        "\n",
        "    # Output intent\n",
        "    if in_doc.output_intent is not None:\n",
        "        in_doc.output_intent = IccBasedColorSpace.copy(out_doc, in_doc.output_intent)\n",
        "\n",
        "    # Metadata\n",
        "    out_doc.metadata = Metadata.copy(out_doc, in_doc.metadata)\n",
        "\n",
        "    # Viewer settings\n",
        "    out_doc.viewer_settings = ViewerSettings.copy(out_doc, in_doc.viewer_settings)\n",
        "\n",
        "    # Associated files (for PDF/A-3 and PDF 2.0 only)\n",
        "    outAssociatedFiles = out_doc.associated_files\n",
        "    for in_file_ref in in_doc.associated_files:\n",
        "        outAssociatedFiles.append(FileReference.copy(out_doc, in_file_ref))\n",
        "\n",
        "    # Plain embedded files\n",
        "    out_embedded_files = out_doc.plain_embedded_files\n",
        "    for in_file_ref in in_doc.plain_embedded_files:\n",
        "        out_embedded_files.append(FileReference.copy(out_doc, in_file_ref))"
      ]
    },
    {
      "cell_type": "code",
      "execution_count": null,
      "id": "5ba683f7-cda2-4009-a4a3-68c9dd2a3840",
      "metadata": {
          "id": "231fb676-b026-4a19-a3db-6b56c4b410ea"
      },
      "outputs": [],
      "source": [
        "def filter_annotations(in_doc: Document, out_doc: Document):\n",
        "    \"\"\"Filter annotations and remove 'Ellipse' annotations.\"\"\"\n",
        "    # Define page copy options\n",
        "    copy_options = PageCopyOptions()\n",
        "    # Remove all annotations: we will add the filtered ones later\n",
        "    copy_options.annotations = CopyStrategy.REMOVE\n",
        "\n",
        "    for in_page in in_doc.pages:\n",
        "        # Copy page to the output document\n",
        "        out_page = Page.copy(out_doc, in_page, copy_options)\n",
        "\n",
        "        # Hold the annotations from the input document\n",
        "        in_annotations = in_page.annotations\n",
        "\n",
        "        # Selectively copy annotations (excluding EllipseAnnotations - like Circle)\n",
        "        for in_annotation in in_annotations:\n",
        "            if not isinstance(in_annotation, EllipseAnnotation):\n",
        "                out_page.annotations.append(Annotation.copy(out_doc, in_annotation))\n",
        "\n",
        "        # Add the page to the output document\n",
        "        out_doc.pages.append(out_page)"
      ]
    },
    {
      "cell_type": "code",
      "execution_count": null,
      "id": "12f54682-ccf6-4104-86e0-166b2780d590",
      "metadata": {
          "id": "eeb01bbd-d192-404b-b239-43538d66711a"
      },
      "outputs": [],
      "source": [
        "try:\n",
        "    # Set and check license key. If the license key is not valid, an exception is thrown.\n",
        "    from pdftools_toolbox.sdk import Sdk\n",
        "    Sdk.initialize(\"<PDFSDK,V1,MGAASQD6L2JMQHL54PK08RQX8GG4SS0M8DAHVPH0VMP3NB8R9DUK>\", None)\n",

        "\n",
        "    # Open input PDF and FDF files\n",
        "    with io.FileIO(input_file_path, \"rb\") as in_stream:\n",
        "        with io.FileIO(input_fdf_path, \"rb\") as in_fdf_stream:\n",
        "            with Document.open_with_fdf(in_stream, in_fdf_stream, None) as in_doc:\n",
        "                # Create output PDF and FDF files\n",
        "                with io.FileIO(output_file_path, \"wb+\") as out_stream:\n",
        "                    with io.FileIO(output_fdf_path, \"wb+\") as out_fdf_stream:\n",
        "                        with Document.create_with_fdf(out_stream, out_fdf_stream, in_doc.conformance, None) as out_doc:\n",
        "                            # Copy document-wide data\n",
        "                            copy_document_data(in_doc, out_doc)\n",
        "    \n",
        "                            # Filter and process annotations\n",
        "                            filter_annotations(in_doc, out_doc)\n",

        "\n",
        "    print(\"Execution successful.\")\n",

        "except Exception as e:\n",
        "    print(f\"An error occurred: {e}\")"
      ]
    }
  ],
  "metadata": {
    "kernelspec": {
      "display_name": "Python 3",
      "language": "python",
      "name": "python3"
    },
    "language_info": {
      "codemirror_mode": {
        "name": "ipython",
        "version": 3
      },
      "file_extension": ".py",
      "mimetype": "text/x-python",
      "name": "python",
      "nbconvert_exporter": "python",
      "pygments_lexer": "ipython3",
      "version": "3.12.8"
    },
    "colab": {
      "provenance": []
    }
  },
  "nbformat": 4,
  "nbformat_minor": 5
}