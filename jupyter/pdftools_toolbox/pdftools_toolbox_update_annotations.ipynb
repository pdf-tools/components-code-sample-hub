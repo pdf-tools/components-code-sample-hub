{
  "cells": [
    {
      "cell_type": "markdown",
      "id": "caf4c2f2-8a2a-4da4-b13c-c582b787573a",
      "metadata": {
          "id": "d43f39eb-475f-4b35-9864-5ba8fa5d3fe3"
      },
      "source": [
        "[![Open In Colab](https://colab.research.google.com/assets/colab-badge.svg)](https://colab.research.google.com/github/pdf-tools/components-code-sample-hub/blob/main/jupyter/pdftools_toolbox/pdftools_toolbox_update_annotations.ipynb)"
      ]
    },
    {
      "cell_type": "code",
      "execution_count": null,
      "id": "f514f965-2d50-4071-a5ab-4c8e3b32dd57",
      "metadata": {
          "id": "34f75229-fa25-412c-a9d5-483a9884357f"
      },
      "outputs": [],
      "source": [
        "%pip install pdftools_toolbox\n",
        "%pip install ipython"
      ]
    },
    {
      "cell_type": "markdown",
      "id": "612d5392-b760-4e41-996c-651490678053",
      "metadata": {
          "id": "ae0ff26c-cc4a-4dcf-8eb6-bb2f8ebd7c3a"
      },
      "source": [
        "# Update annotations to PDF\n",
        "Remove the 'Ellipse' annotations from the PDF and export\n",
        "the new list of annotations to a new FDF-File."
      ]
    },
    {
      "cell_type": "code",
      "execution_count": null,
      "id": "be52ee92-1b6f-48a0-8eb9-ff2caa634e9e",
      "metadata": {
          "id": "a432ab6c-2354-49a7-b778-f14470c2aa4a"
      },
      "outputs": [],
      "source": [
        "import io\n",
        "from pdftools_toolbox.pdf import CopyStrategy, Document, FileReference, Metadata, PageCopyOptions, Page\n",
        "from pdftools_toolbox.pdf.content import IccBasedColorSpace\n",
        "from pdftools_toolbox.pdf.annotations import Annotation, EllipseAnnotation\n",
        "from pdftools_toolbox.pdf.navigation import ViewerSettings"
      ]
    },
    {
      "cell_type": "code",
      "execution_count": null,
      "id": "32c5a2c5-fb1d-4831-8cd4-81909bddd43d",
      "metadata": {
          "id": "75df0335-6f55-4060-b1cf-a525c783a24f"
      },
      "outputs": [],
      "source": [
        "# Download a file from a given URL and save it to the local system\n",
        "def prepare_file(url: str, path: str):\n",
        "    import requests\n",
        "    response = requests.get(url)\n",
        "    response.raise_for_status()\n",
        "\n",
        "    with open(path, 'wb') as f:\n",
        "        f.write(response.content)"
      ]
    },
    {
      "cell_type": "code",
      "execution_count": null,
      "id": "4f3b69c8-1c08-41e4-9683-16dd4fbeb827",
      "metadata": {
          "id": "6423fa07-d19b-49e4-81be-fac906f480ea"
      },
      "outputs": [],
      "source": [
        "# Set input arguments\n",
        "input_url = 'https://pdftools-public-downloads-production.s3.eu-west-1.amazonaws.com/samples/testfiles/GraphicsWhiteTextNoTP.pdf'\n",
        "input_fdf_url = 'https://pdftools-public-downloads-production.s3.eu-west-1.amazonaws.com/samples/testfiles/GraphicsWhiteTextNoTP.fdf'\n",
        "input_file_path = 'GraphicsWhiteTextNoTP.pdf'\n",
        "input_fdf_path = 'GraphicsWhiteTextNoTP.fdf'\n",
        "prepare_file(input_url, input_file_path)\n",
        "prepare_file(input_fdf_url, input_fdf_path)\n",
        "output_file_path = 'UpdatedAnnotations.pdf'\n",
        "output_fdf_path = 'UpdatedAnnotations.fdf'"
      ]
    },
    {
      "cell_type": "code",
      "execution_count": null,
      "id": "907fe1a2-fc7a-432f-9c21-6e1e1e5c48e8",
      "metadata": {
          "id": "28a55b03-134a-477e-a1d7-812473b1cf6b"
      },
      "outputs": [],
      "source": [
        "def copy_document_data(in_doc: Document, out_doc: Document):\n",
        "    # Copy document-wide data\n",
        "\n",
        "    # Output intent\n",
        "    if in_doc.output_intent is not None:\n",
        "        in_doc.output_intent = IccBasedColorSpace.copy(out_doc, in_doc.output_intent)\n",
        "\n",
        "    # Metadata\n",
        "    out_doc.metadata = Metadata.copy(out_doc, in_doc.metadata)\n",
        "\n",
        "    # Viewer settings\n",
        "    out_doc.viewer_settings = ViewerSettings.copy(out_doc, in_doc.viewer_settings)\n",
        "\n",
        "    # Associated files (for PDF/A-3 and PDF 2.0 only)\n",
        "    outAssociatedFiles = out_doc.associated_files\n",
        "    for in_file_ref in in_doc.associated_files:\n",
        "        outAssociatedFiles.append(FileReference.copy(out_doc, in_file_ref))\n",
        "\n",
        "    # Plain embedded files\n",
        "    out_embedded_files = out_doc.plain_embedded_files\n",
        "    for in_file_ref in in_doc.plain_embedded_files:\n",
        "        out_embedded_files.append(FileReference.copy(out_doc, in_file_ref))"
      ]
    },{
      "cell_type": "code",
      "execution_count": null,
      "id": "813ccedd-2bcf-4861-a178-73e4c45d44f0",
      "metadata": {
          "id": "4615a740-d979-47d2-a754-f2b9a918ce1f"
      },
      "outputs": [],
      "source": [
        "def filter_annotations(in_doc: Document, out_doc: Document):\n",
        "    \"\"\"Filter annotations and remove 'Ellipse' annotations.\"\"\"\n",
        "    # Define page copy options\n",
        "    copy_options = PageCopyOptions()\n",
        "    # Remove all annotations: we will add the filtered ones later\n",
        "    copy_options.annotations = CopyStrategy.REMOVE\n",
        "\n",
        "    for in_page in in_doc.pages:\n",
        "        # Copy page to the output document\n",
        "        out_page = Page.copy(out_doc, in_page, copy_options)\n",
        "\n",
        "        # Hold the annotations from the input document\n",
        "        in_annotations = in_page.annotations\n",
        "\n",
        "        # Selectively copy annotations (excluding EllipseAnnotations - like Circle)\n",
        "        for in_annotation in in_annotations:\n",
        "            if not isinstance(in_annotation, EllipseAnnotation):\n",
        "                out_page.annotations.append(Annotation.copy(out_doc, in_annotation))\n",
        "\n",
        "        # Add the page to the output document\n",
        "        out_doc.pages.append(out_page)"
      ]
    },
    {
      "cell_type": "code",
      "execution_count": null,
      "id": "cbbf133d-7380-47ba-a5c3-7bc2b23c8eaf",
      "metadata": {
          "id": "387c6b5e-1b9a-40da-b580-b091a749172d"
      },
      "outputs": [],
      "source": [
        "try:\n",
        "    # Set and check license key. If the license key is not valid, an exception is thrown.\n",
        "    from pdftools_toolbox.sdk import Sdk\n",
        "    Sdk.initialize(\"INSERT-LICENSE-KEY\", None)\n",

        "\n",
        "    # Open input PDF and FDF files\n",
        "    with io.FileIO(input_file_path, \"rb\") as in_stream:\n",
        "        with io.FileIO(input_fdf_path, \"rb\") as in_fdf_stream:\n",
        "            with Document.open_with_fdf(in_stream, in_fdf_stream, None) as in_doc:\n",
        "                # Create output PDF and FDF files\n",
        "                with io.FileIO(output_file_path, \"wb+\") as out_stream:\n",
        "                    with io.FileIO(output_fdf_path, \"wb+\") as out_fdf_stream:\n",
        "                        with Document.create_with_fdf(out_stream, out_fdf_stream, in_doc.conformance, None) as out_doc:\n",
        "                            # Copy document-wide data\n",
        "                            copy_document_data(in_doc, out_doc)\n",
        "    \n",
        "                            # Filter and process annotations\n",
        "                            filter_annotations(in_doc, out_doc)\n",

        "\n",
        "    print(\"Execution successful.\")\n",

        "except Exception as e:\n",
        "    print(f\"An error occurred: {e}\")"
      ]
    }
  ],
  "metadata": {
    "kernelspec": {
      "display_name": "Python 3",
      "language": "python",
      "name": "python3"
    },
    "language_info": {
      "codemirror_mode": {
        "name": "ipython",
        "version": 3
      },
      "file_extension": ".py",
      "mimetype": "text/x-python",
      "name": "python",
      "nbconvert_exporter": "python",
      "pygments_lexer": "ipython3",
      "version": "3.12.8"
    },
    "colab": {
      "provenance": []
    }
  },
  "nbformat": 4,
  "nbformat_minor": 5
}