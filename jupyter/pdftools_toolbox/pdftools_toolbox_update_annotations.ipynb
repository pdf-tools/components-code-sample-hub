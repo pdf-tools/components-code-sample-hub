{
  "cells": [
    {
      "cell_type": "markdown",
      "id": "7ec45977-3e3f-4b85-83bf-b334f1420466",
      "metadata": {
          "id": "f5e359ce-f8d1-4aa0-9d57-0423f3e251a3"
      },
      "source": [
        "[![Open In Colab](https://colab.research.google.com/assets/colab-badge.svg)](https://colab.research.google.com/github/pdf-tools/components-code-sample-hub/blob/main/jupyter/pdftools_toolbox/pdftools_toolbox_update_annotations.ipynb)"
      ]
    },
    {
      "cell_type": "code",
      "execution_count": null,
      "id": "85289b8b-242d-4dcd-8361-128440e56487",
      "metadata": {
          "id": "18ee9756-2fab-4a8b-b4d4-3b61fa0bdcab"
      },
      "outputs": [],
      "source": [
        "%pip install https://pdftools-public-downloads-production.s3.eu-west-1.amazonaws.com/productkits/PDFSDKXT/latest/pdftools_toolbox-latest.tar.gz\n",
        "%pip install ipython"
      ]
    },
    {
      "cell_type": "markdown",
      "id": "bd97653e-40ba-4112-b005-f254cd73cf05",
      "metadata": {
          "id": "0d3470bb-411e-4502-81f8-6cd62d6b4e16"
      },
      "source": [
        "# Update annotations to PDF\n",
        "Remove the 'Ellipse' annotations from the PDF and export\n",
        "the new list of annotations to a new FDF-File."
      ]
    },
    {
      "cell_type": "code",
      "execution_count": null,
      "id": "bb7bba7c-9515-4eef-8e00-da7a256ff608",
      "metadata": {
          "id": "76bf7f7d-503c-4a1d-adff-44367d4ebd84"
      },
      "outputs": [],
      "source": [
        "import io\n",
        "from pdftools_toolbox.pdf import CopyStrategy, Document, FileReference, Metadata, PageCopyOptions, Page\n",
        "from pdftools_toolbox.pdf.content import IccBasedColorSpace\n",
        "from pdftools_toolbox.pdf.annotations import Annotation, EllipseAnnotation\n",
        "from pdftools_toolbox.pdf.navigation import ViewerSettings"
      ]
    },
    {
      "cell_type": "code",
      "execution_count": null,
      "id": "ac75dc17-1560-4b81-8233-8cc736724b4e",
      "metadata": {
          "id": "8371a358-a166-4576-8c19-4af569f0c7be"
      },
      "outputs": [],
      "source": [
        "# Download a file from a given URL and save it to the local system\n",
        "def prepare_file(url: str, path: str):\n",
        "    import requests\n",
        "    response = requests.get(url)\n",
        "    response.raise_for_status()\n",
        "\n",
        "    with open(path, 'wb') as f:\n",
        "        f.write(response.content)"
      ]
    },
    {
      "cell_type": "code",
      "execution_count": null,
      "id": "10c4c7ec-0887-4622-ab8c-ea4e35341e8b",
      "metadata": {
          "id": "7ad07945-6a54-4fb2-8a38-d5c570775474"
      },
      "outputs": [],
      "source": [
        "# Set input arguments\n",
        "input_url = 'https://pdftools-public-downloads-production.s3.eu-west-1.amazonaws.com/samples/testfiles/GraphicsWhiteTextNoTP.pdf'\n",
        "input_fdf_url = 'https://pdftools-public-downloads-production.s3.eu-west-1.amazonaws.com/samples/testfiles/GraphicsWhiteTextNoTP.fdf'\n",
        "input_file_path = 'GraphicsWhiteTextNoTP.pdf'\n",
        "input_fdf_path = 'GraphicsWhiteTextNoTP.fdf'\n",
        "prepare_file(input_url, input_file_path)\n",
        "prepare_file(input_fdf_url, input_fdf_path)\n",
        "output_file_path = 'UpdatedAnnotations.pdf'\n",
        "output_fdf_path = 'UpdatedAnnotations.fdf'"
      ]
    },
    {
      "cell_type": "code",
      "execution_count": null,
      "id": "8b523856-fe20-47af-ac26-5958136b529e",
      "metadata": {
          "id": "dc40fbf7-dd66-4274-94f8-21d11cfcf310"
      },
      "outputs": [],
      "source": [
        "def copy_document_data(in_doc: Document, out_doc: Document):\n",
        "    # Copy document-wide data\n",
        "\n",
        "    # Output intent\n",
        "    if in_doc.output_intent is not None:\n",
        "        in_doc.output_intent = IccBasedColorSpace.copy(out_doc, in_doc.output_intent)\n",
        "\n",
        "    # Metadata\n",
        "    out_doc.metadata = Metadata.copy(out_doc, in_doc.metadata)\n",
        "\n",
        "    # Viewer settings\n",
        "    out_doc.viewer_settings = ViewerSettings.copy(out_doc, in_doc.viewer_settings)\n",
        "\n",
        "    # Associated files (for PDF/A-3 and PDF 2.0 only)\n",
        "    outAssociatedFiles = out_doc.associated_files\n",
        "    for in_file_ref in in_doc.associated_files:\n",
        "        outAssociatedFiles.append(FileReference.copy(out_doc, in_file_ref))\n",
        "\n",
        "    # Plain embedded files\n",
        "    out_embedded_files = out_doc.plain_embedded_files\n",
        "    for in_file_ref in in_doc.plain_embedded_files:\n",
        "        out_embedded_files.append(FileReference.copy(out_doc, in_file_ref))"
      ]
    },
    {
      "cell_type": "code",
      "execution_count": null,
      "id": "2c4db828-acf0-496c-8b84-3c228271a588",
      "metadata": {
          "id": "d6bbdc9b-e5ef-4e64-a2bc-d68ce7692057"
      },
      "outputs": [],
      "source": [
        "def filter_annotations(in_doc: Document, out_doc: Document):\n",
        "    \"\"\"Filter annotations and remove 'Ellipse' annotations.\"\"\"\n",
        "    # Define page copy options\n",
        "    copy_options = PageCopyOptions()\n",
        "    # Remove all annotations: we will add the filtered ones later\n",
        "    copy_options.annotations = CopyStrategy.REMOVE\n",
        "\n",
        "    for in_page in in_doc.pages:\n",
        "        # Copy page to the output document\n",
        "        out_page = Page.copy(out_doc, in_page, copy_options)\n",
        "\n",
        "        # Hold the annotations from the input document\n",
        "        in_annotations = in_page.annotations\n",
        "\n",
        "        # Selectively copy annotations (excluding EllipseAnnotations - like Circle)\n",
        "        for in_annotation in in_annotations:\n",
        "            if not isinstance(in_annotation, EllipseAnnotation):\n",
        "                out_page.annotations.append(Annotation.copy(out_doc, in_annotation))\n",
        "\n",
        "        # Add the page to the output document\n",
        "        out_doc.pages.append(out_page)"
      ]
    },
    {
      "cell_type": "code",
      "execution_count": null,
      "id": "496063df-1868-43f3-815e-9f01316274be",
      "metadata": {
          "id": "0d474f65-7d5d-4599-8924-bc3ea83d331d"
      },
      "outputs": [],
      "source": [
        "try:\n",
        "    # Set and check license key. If the license key is not valid, an exception is thrown.\n",
        "    from pdftools_toolbox.sdk import Sdk\n",
        "    Sdk.initialize(\"INSERT-LICENSE-KEY\", None)\n",

        "\n",
        "    # Open input PDF and FDF files\n",
        "    with io.FileIO(input_file_path, \"rb\") as in_stream:\n",
        "        with io.FileIO(input_fdf_path, \"rb\") as in_fdf_stream:\n",
        "            with Document.open_with_fdf(in_stream, in_fdf_stream, None) as in_doc:\n",
        "                # Create output PDF and FDF files\n",
        "                with io.FileIO(output_file_path, \"wb+\") as out_stream:\n",
        "                    with io.FileIO(output_fdf_path, \"wb+\") as out_fdf_stream:\n",
        "                        with Document.create_with_fdf(out_stream, out_fdf_stream, in_doc.conformance, None) as out_doc:\n",
        "                            # Copy document-wide data\n",
        "                            copy_document_data(in_doc, out_doc)\n",
        "    \n",
        "                            # Filter and process annotations\n",
        "                            filter_annotations(in_doc, out_doc)\n",

        "\n",
        "    print(\"Execution successful.\")\n",

        "except Exception as e:\n",
        "    print(f\"An error occurred: {e}\")"
      ]
    }
  ],
  "metadata": {
    "kernelspec": {
      "display_name": "Python 3",
      "language": "python",
      "name": "python3"
    },
    "language_info": {
      "codemirror_mode": {
        "name": "ipython",
        "version": 3
      },
      "file_extension": ".py",
      "mimetype": "text/x-python",
      "name": "python",
      "nbconvert_exporter": "python",
      "pygments_lexer": "ipython3",
      "version": "3.12.8"
    },
    "colab": {
      "provenance": []
    }
  },
  "nbformat": 4,
  "nbformat_minor": 5
}