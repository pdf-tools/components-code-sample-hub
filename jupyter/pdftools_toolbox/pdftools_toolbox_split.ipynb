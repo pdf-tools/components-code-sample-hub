{
  "cells": [
    {
      "cell_type": "markdown",
      "id": "2f4abe54-a8e2-40cf-bf13-2b4936e604a4",
      "metadata": {
          "id": "15e911ba-833b-42e1-b06d-8808587ba56c"
      },
      "source": [
        "[![Open In Colab](https://colab.research.google.com/assets/colab-badge.svg)](https://colab.research.google.com/github/pdf-tools/components-code-sample-hub/blob/main/jupyter/pdftools_toolbox/pdftools_toolbox_split.ipynb)"
      ]
    },
    {
      "cell_type": "code",
      "execution_count": null,
      "id": "77997094-58a7-4bc2-b4ba-617d69e241ce",
      "metadata": {
          "id": "267446de-cb04-4649-977d-c335931a3429"
      },
      "outputs": [],
      "source": [
        "%pip install https://pdftools-public-downloads-production.s3.eu-west-1.amazonaws.com/productkits/PDFSDKXT/latest/pdftools_toolbox-latest.tar.gz\n",
        "%pip install ipython"
      ]
    },
    {
      "cell_type": "markdown",
      "id": "1a428ac0-8250-49ea-9376-1c29b3b8d617",
      "metadata": {
          "id": "05066360-aa7d-4b47-992a-359490678bc8"
      },
      "source": [
        "# Remove pages from PDF\n",
        "Selectively remove pages from a PDF document."
      ]
    },
    {
      "cell_type": "code",
      "execution_count": null,
      "id": "94b85816-7fb4-4a0c-b49c-fbf6bc40be88",
      "metadata": {
          "id": "7f587929-ec7b-4564-86c8-5fb1dbc9da02"
      },
      "outputs": [],
      "source": [
        "import io\n",
        "from pdftools_toolbox.pdf import Document, FileReference, Metadata, PageCopyOptions, PageList\n",
        "from pdftools_toolbox.pdf.content import IccBasedColorSpace\n",
        "from pdftools_toolbox.pdf.navigation import ViewerSettings"
      ]
    },
    {
      "cell_type": "code",
      "execution_count": null,
      "id": "3e6c6a6b-58d2-4915-bcd2-157e63c5696d",
      "metadata": {
          "id": "fe39f538-f531-4a75-ad6b-6458700def9c"
      },
      "outputs": [],
      "source": [
        "# Download a file from a given URL and save it to the local system\n",
        "def prepare_file(url: str, path: str):\n",
        "    import requests\n",
        "    response = requests.get(url)\n",
        "    response.raise_for_status()\n",
        "\n",
        "    with open(path, 'wb') as f:\n",
        "        f.write(response.content)"
      ]
    },
    {
      "cell_type": "code",
      "execution_count": null,
      "id": "8fdb84d1-ebcb-408f-93f5-8867b280f470",
      "metadata": {
          "id": "e1cf5ad0-bd8a-4209-bae6-4246e7af8486"
      },
      "outputs": [],
      "source": [
        "# Set input arguments\n",
        "input_url = 'https://pdftools-public-downloads-production.s3.eu-west-1.amazonaws.com/samples/testfiles/PdfPrimerWhitepaper.pdf'\n",
        "input_file_path = 'PdfPrimerWhitepaper.pdf'\n",
        "prepare_file(input_url, input_file_path)\n",
        "first_page = '2'  # Example: remove pages 2-3\n",
        "last_page = '3'\n",
        "output_file_path = 'PagesRemoved.pdf'"
      ]
    },
    {
      "cell_type": "code",
      "execution_count": null,
      "id": "a5e61891-5ac5-4b13-b5f2-9f33ab75e43c",
      "metadata": {
          "id": "070d07f3-68d9-4a2b-ab99-c0d7b9f796e9"
      },
      "outputs": [],
      "source": [
        "def copy_document_data(in_doc: Document, out_doc: Document):\n",
        "    # Copy document-wide data\n",
        "\n",
        "    # Output intent\n",
        "    if in_doc.output_intent is not None:\n",
        "        in_doc.output_intent = IccBasedColorSpace.copy(out_doc, in_doc.output_intent)\n",
        "\n",
        "    # Metadata\n",
        "    out_doc.metadata = Metadata.copy(out_doc, in_doc.metadata)\n",
        "\n",
        "    # Viewer settings\n",
        "    out_doc.viewer_settings = ViewerSettings.copy(out_doc, in_doc.viewer_settings)\n",
        "\n",
        "    # Associated files (for PDF/A-3 and PDF 2.0 only)\n",
        "    outAssociatedFiles = out_doc.associated_files\n",
        "    for in_file_ref in in_doc.associated_files:\n",
        "        outAssociatedFiles.append(FileReference.copy(out_doc, in_file_ref))\n",
        "\n",
        "    # Plain embedded files\n",
        "    out_embedded_files = out_doc.plain_embedded_files\n",
        "    for in_file_ref in in_doc.plain_embedded_files:\n",
        "        out_embedded_files.append(FileReference.copy(out_doc, in_file_ref))"
      ]
    },
    {
      "cell_type": "code",
      "execution_count": null,
      "id": "f5ca4975-e871-4794-a742-4d0d1df192db",
      "metadata": {
          "id": "90c556f2-72b3-43b4-a09d-09cc480af855"
      },
      "outputs": [],
      "source": [
        "try:\n",
        "    # Set and check license key. If the license key is not valid, an exception is thrown.\n",
        "    from pdftools_toolbox.sdk import Sdk\n",
        "    Sdk.initialize(\"INSERT-LICENSE-KEY\", None)\n",

        "\n",
        "    start_index = int(first_page) - 1\n",
        "    last_page = int(last_page)\n",
        "    count = last_page - start_index\n",
        "    \n",
        "    # Open input document\n",
        "    with io.FileIO(input_file_path, \"rb\") as in_stream:\n",
        "        with Document.open(in_stream, None) as in_doc:\n",
        "    \n",
        "            # Validate page range\n",
        "            start_index = max(min(len(in_doc.pages) - 1, start_index), 0)\n",
        "            count = min(len(in_doc.pages) - start_index, count)\n",
        "            if count <= 0:\n",
        "                raise ValueError(\"lastPage must be greater or equal to firstPage\")\n",
        "    \n",
        "            # Create output document\n",
        "            with io.FileIO(output_file_path, \"wb+\") as out_stream:\n",
        "                with Document.create(out_stream, in_doc.conformance, None) as out_doc:\n",
        "    \n",
        "                    # Copy document-wide data\n",
        "                    copy_document_data(in_doc, out_doc)\n",
        "    \n",
        "                    # Define page copy options\n",
        "                    page_copy_options = PageCopyOptions()\n",
        "    \n",
        "                    # Get page range from input pages\n",
        "                    in_page_range = in_doc.pages[start_index:last_page]\n",
        "    \n",
        "                    # Copy page range and append to output document\n",
        "                    out_page_range = PageList.copy(out_doc, in_page_range, page_copy_options)\n",
        "                    out_doc.pages.extend(out_page_range)\n",

        "\n",
        "    print(\"Execution successful.\")\n",

        "except Exception as e:\n",
        "    print(f\"An error occurred: {e}\")"
      ]
    }
  ],
  "metadata": {
    "kernelspec": {
      "display_name": "Python 3",
      "language": "python",
      "name": "python3"
    },
    "language_info": {
      "codemirror_mode": {
        "name": "ipython",
        "version": 3
      },
      "file_extension": ".py",
      "mimetype": "text/x-python",
      "name": "python",
      "nbconvert_exporter": "python",
      "pygments_lexer": "ipython3",
      "version": "3.12.8"
    },
    "colab": {
      "provenance": []
    }
  },
  "nbformat": 4,
  "nbformat_minor": 5
}