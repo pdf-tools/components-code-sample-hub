{
  "cells": [
    {
      "cell_type": "markdown",
      "id": "2e6ffda4-d932-42eb-8e89-a7c9bf6a15a3",
      "metadata": {
          "id": "07d520c0-a91f-47f5-ad99-10722235e3a6"
      },
      "source": [
        "[![Open In Colab](https://colab.research.google.com/assets/colab-badge.svg)](https://colab.research.google.com/github/pdf-tools/components-code-sample-hub/blob/main/jupyter/pdftools_toolbox/pdftools_toolbox_split.ipynb)"
      ]
    },
    {
      "cell_type": "code",
      "execution_count": null,
      "id": "a8e2377a-6dc4-4fcc-998e-dd5ff17cd276",
      "metadata": {
          "id": "2ad6ae72-1e35-4b3f-bbab-f3277b319325"
      },
      "outputs": [],
      "source": [
        "%pip install https://pdftools-public-downloads-production.s3.eu-west-1.amazonaws.com/productkits/PDFSDKXT/latest/pdftools_toolbox-latest.tar.gz\n",
        "%pip install ipython"
      ]
    },
    {
      "cell_type": "markdown",
      "id": "8b164a50-d59a-4243-ad90-65b434913f8a",
      "metadata": {
          "id": "752a78b3-ea99-4c1c-b654-8cde9f0516c2"
      },
      "source": [
        "# Remove pages from PDF\n",
        "Selectively remove pages from a PDF document."
      ]
    },
    {
      "cell_type": "code",
      "execution_count": null,
      "id": "47f7fc5f-4c5c-4380-85e0-332620a0942b",
      "metadata": {
          "id": "099f6ac8-3ff4-4e05-873a-e1be60e61d42"
      },
      "outputs": [],
      "source": [
        "import io\n",
        "from pdftools_toolbox.pdf import Document, FileReference, Metadata, PageCopyOptions, PageList\n",
        "from pdftools_toolbox.pdf.content import IccBasedColorSpace\n",
        "from pdftools_toolbox.pdf.navigation import ViewerSettings"
      ]
    },
    {
      "cell_type": "code",
      "execution_count": null,
      "id": "73cb3b03-0f43-43cb-a771-79bad4b78a70",
      "metadata": {
          "id": "b0bb919c-a841-47b3-9419-9c3e343bf68d"
      },
      "outputs": [],
      "source": [
        "# Download a file from a given URL and save it to the local system\n",
        "def prepare_file(url: str, path: str):\n",
        "    import requests\n",
        "    response = requests.get(url)\n",
        "    response.raise_for_status()\n",
        "\n",
        "    with open(path, 'wb') as f:\n",
        "        f.write(response.content)"
      ]
    },
    {
      "cell_type": "code",
      "execution_count": null,
      "id": "c527786d-2e39-444f-a3cb-18b7617c66d9",
      "metadata": {
          "id": "e4a6ec40-4e98-4749-815c-05121db12075"
      },
      "outputs": [],
      "source": [
        "# Set input arguments\n",
        "input_url = 'https://pdftools-public-downloads-production.s3.eu-west-1.amazonaws.com/samples/testfiles/PdfPrimerWhitepaper.pdf'\n",
        "input_file_path = 'PdfPrimerWhitepaper.pdf'\n",
        "prepare_file(input_url, input_file_path)\n",
        "first_page = '2'  # Example: remove pages 2-3\n",
        "last_page = '3'\n",
        "output_file_path = 'PagesRemoved.pdf'"
      ]
    },
    {
      "cell_type": "code",
      "execution_count": null,
      "id": "b03ff35b-23aa-44f6-9e72-241cfd0c772c",
      "metadata": {
          "id": "32e121e6-0cd5-4f08-a0ab-3e0158b3f34b"
      },
      "outputs": [],
      "source": [
        "def copy_document_data(in_doc: Document, out_doc: Document):\n",
        "    # Copy document-wide data\n",
        "\n",
        "    # Output intent\n",
        "    if in_doc.output_intent is not None:\n",
        "        in_doc.output_intent = IccBasedColorSpace.copy(out_doc, in_doc.output_intent)\n",
        "\n",
        "    # Metadata\n",
        "    out_doc.metadata = Metadata.copy(out_doc, in_doc.metadata)\n",
        "\n",
        "    # Viewer settings\n",
        "    out_doc.viewer_settings = ViewerSettings.copy(out_doc, in_doc.viewer_settings)\n",
        "\n",
        "    # Associated files (for PDF/A-3 and PDF 2.0 only)\n",
        "    outAssociatedFiles = out_doc.associated_files\n",
        "    for in_file_ref in in_doc.associated_files:\n",
        "        outAssociatedFiles.append(FileReference.copy(out_doc, in_file_ref))\n",
        "\n",
        "    # Plain embedded files\n",
        "    out_embedded_files = out_doc.plain_embedded_files\n",
        "    for in_file_ref in in_doc.plain_embedded_files:\n",
        "        out_embedded_files.append(FileReference.copy(out_doc, in_file_ref))"
      ]
    },
    {
      "cell_type": "code",
      "execution_count": null,
      "id": "73e503d5-28af-48ef-986d-566c08b32a4a",
      "metadata": {
          "id": "8d204b02-fe2c-443f-ab69-8387b8ded093"
      },
      "outputs": [],
      "source": [
        "try:\n",
        "    # Set and check license key. If the license key is not valid, an exception is thrown.\n",
        "    from pdftools_toolbox.sdk import Sdk\n",
        "    Sdk.initialize(\"<PDFSDK,V1,MGAASQD6L2JMQHL54PK08RQX8GG4SS0M8DAHVPH0VMP3NB8R9DUK>\", None)\n",

        "\n",
        "    start_index = int(first_page) - 1\n",
        "    last_page = int(last_page)\n",
        "    count = last_page - start_index\n",
        "    \n",
        "    # Open input document\n",
        "    with io.FileIO(input_file_path, \"rb\") as in_stream:\n",
        "        with Document.open(in_stream, None) as in_doc:\n",
        "    \n",
        "            # Validate page range\n",
        "            start_index = max(min(len(in_doc.pages) - 1, start_index), 0)\n",
        "            count = min(len(in_doc.pages) - start_index, count)\n",
        "            if count <= 0:\n",
        "                raise ValueError(\"lastPage must be greater or equal to firstPage\")\n",
        "    \n",
        "            # Create output document\n",
        "            with io.FileIO(output_file_path, \"wb+\") as out_stream:\n",
        "                with Document.create(out_stream, in_doc.conformance, None) as out_doc:\n",
        "    \n",
        "                    # Copy document-wide data\n",
        "                    copy_document_data(in_doc, out_doc)\n",
        "    \n",
        "                    # Define page copy options\n",
        "                    page_copy_options = PageCopyOptions()\n",
        "    \n",
        "                    # Get page range from input pages\n",
        "                    in_page_range = in_doc.pages[start_index:last_page]\n",
        "    \n",
        "                    # Copy page range and append to output document\n",
        "                    out_page_range = PageList.copy(out_doc, in_page_range, page_copy_options)\n",
        "                    out_doc.pages.extend(out_page_range)\n",

        "\n",
        "    print(\"Execution successful.\")\n",

        "except Exception as e:\n",
        "    print(f\"An error occurred: {e}\")"
      ]
    }
  ],
  "metadata": {
    "kernelspec": {
      "display_name": "Python 3",
      "language": "python",
      "name": "python3"
    },
    "language_info": {
      "codemirror_mode": {
        "name": "ipython",
        "version": 3
      },
      "file_extension": ".py",
      "mimetype": "text/x-python",
      "name": "python",
      "nbconvert_exporter": "python",
      "pygments_lexer": "ipython3",
      "version": "3.12.8"
    },
    "colab": {
      "provenance": []
    }
  },
  "nbformat": 4,
  "nbformat_minor": 5
}