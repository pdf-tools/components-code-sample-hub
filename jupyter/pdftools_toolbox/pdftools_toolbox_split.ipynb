{
  "cells": [
    {
      "cell_type": "markdown",
      "id": "703a2aa5-896a-44c9-9325-0903cf1e2997",
      "metadata": {
          "id": "3008fa33-3355-4b85-aa33-61ebfc4f11ee"
      },
      "source": [
        "[![Open In Colab](https://colab.research.google.com/assets/colab-badge.svg)](https://colab.research.google.com/github/pdf-tools/components-code-sample-hub/blob/main/jupyter/pdftools_toolbox/pdftools_toolbox_split.ipynb)"
      ]
    },
    {
      "cell_type": "code",
      "execution_count": null,
      "id": "fb1647d1-c08a-447a-8325-a95e8d1f1562",
      "metadata": {
          "id": "85cbaaf7-0b65-49ce-90e6-63e4d5518a8c"
      },
      "outputs": [],
      "source": [
        "%pip install https://pdftools-public-downloads-production.s3.eu-west-1.amazonaws.com/productkits/PDFSDKXT/latest/pdftools_toolbox-latest.tar.gz\n",
        "%pip install ipython"
      ]
    },
    {
      "cell_type": "markdown",
      "id": "866b878c-d44a-4698-9bd4-d4221472d9b1",
      "metadata": {
          "id": "c1af72e1-7f81-44cf-85a8-223723a4e97f"
      },
      "source": [
        "# Remove pages from PDF\n",
        "Selectively remove pages from a PDF document."
      ]
    },
    {
      "cell_type": "code",
      "execution_count": null,
      "id": "4deffd27-77c7-4332-8d31-1b8afb354333",
      "metadata": {
          "id": "0849d867-848a-4ea4-a6e1-47d743f72c9a"
      },
      "outputs": [],
      "source": [
        "import io\n",
        "from pdftools_toolbox.pdf import Document, FileReference, Metadata, PageCopyOptions, PageList\n",
        "from pdftools_toolbox.pdf.content import IccBasedColorSpace\n",
        "from pdftools_toolbox.pdf.navigation import ViewerSettings"
      ]
    },
    {
      "cell_type": "code",
      "execution_count": null,
      "id": "9980dfcf-c965-4c3f-a0b3-6ca9b4b13e5f",
      "metadata": {
          "id": "821cb44c-7ce6-4c1a-b99c-eeee4fe90bc7"
      },
      "outputs": [],
      "source": [
        "# Download a file from a given URL and save it to the local system\n",
        "def prepare_file(url: str, path: str):\n",
        "    import requests\n",
        "    response = requests.get(url)\n",
        "    response.raise_for_status()\n",
        "\n",
        "    with open(path, 'wb') as f:\n",
        "        f.write(response.content)"
      ]
    },
    {
      "cell_type": "code",
      "execution_count": null,
      "id": "77ba0ff4-0e50-4644-a61a-41acbf04afc9",
      "metadata": {
          "id": "4e7c4d26-7fa4-4055-bbdc-1fcbc2d16ec6"
      },
      "outputs": [],
      "source": [
        "# Set input arguments\n",
        "input_url = 'https://pdftools-public-downloads-production.s3.eu-west-1.amazonaws.com/samples/testfiles/PdfPrimerWhitepaper.pdf'\n",
        "input_file_path = 'PdfPrimerWhitepaper.pdf'\n",
        "prepare_file(input_url, input_file_path)\n",
        "first_page = '2'  # Example: remove pages 2-3\n",
        "last_page = '3'\n",
        "output_file_path = 'PagesRemoved.pdf'"
      ]
    },
    {
      "cell_type": "code",
      "execution_count": null,
      "id": "0b74283f-b634-4ca5-995b-12f734882b8e",
      "metadata": {
          "id": "d79df158-c6ef-4987-985e-dcf37fdd4b42"
      },
      "outputs": [],
      "source": [
        "def copy_document_data(in_doc: Document, out_doc: Document):\n",
        "    # Copy document-wide data\n",
        "\n",
        "    # Output intent\n",
        "    if in_doc.output_intent is not None:\n",
        "        in_doc.output_intent = IccBasedColorSpace.copy(out_doc, in_doc.output_intent)\n",
        "\n",
        "    # Metadata\n",
        "    out_doc.metadata = Metadata.copy(out_doc, in_doc.metadata)\n",
        "\n",
        "    # Viewer settings\n",
        "    out_doc.viewer_settings = ViewerSettings.copy(out_doc, in_doc.viewer_settings)\n",
        "\n",
        "    # Associated files (for PDF/A-3 and PDF 2.0 only)\n",
        "    outAssociatedFiles = out_doc.associated_files\n",
        "    for in_file_ref in in_doc.associated_files:\n",
        "        outAssociatedFiles.append(FileReference.copy(out_doc, in_file_ref))\n",
        "\n",
        "    # Plain embedded files\n",
        "    out_embedded_files = out_doc.plain_embedded_files\n",
        "    for in_file_ref in in_doc.plain_embedded_files:\n",
        "        out_embedded_files.append(FileReference.copy(out_doc, in_file_ref))"
      ]
    },
    {
      "cell_type": "code",
      "execution_count": null,
      "id": "a150551d-0963-4f7b-880b-1e7741296af6",
      "metadata": {
          "id": "e4020d41-71fb-4bd9-a347-c35e698e3ded"
      },
      "outputs": [],
      "source": [
        "try:\n",
        "    # Set and check license key. If the license key is not valid, an exception is thrown.\n",
        "    from pdftools_toolbox.sdk import Sdk\n",
        "    Sdk.initialize(\"INSERT-LICENSE-KEY\", None)\n",

        "\n",
        "    start_index = int(first_page) - 1\n",
        "    last_page = int(last_page)\n",
        "    count = last_page - start_index\n",
        "    \n",
        "    # Open input document\n",
        "    with io.FileIO(input_file_path, \"rb\") as in_stream:\n",
        "        with Document.open(in_stream, None) as in_doc:\n",
        "    \n",
        "            # Validate page range\n",
        "            start_index = max(min(len(in_doc.pages) - 1, start_index), 0)\n",
        "            count = min(len(in_doc.pages) - start_index, count)\n",
        "            if count <= 0:\n",
        "                raise ValueError(\"lastPage must be greater or equal to firstPage\")\n",
        "    \n",
        "            # Create output document\n",
        "            with io.FileIO(output_file_path, \"wb+\") as out_stream:\n",
        "                with Document.create(out_stream, in_doc.conformance, None) as out_doc:\n",
        "    \n",
        "                    # Copy document-wide data\n",
        "                    copy_document_data(in_doc, out_doc)\n",
        "    \n",
        "                    # Define page copy options\n",
        "                    page_copy_options = PageCopyOptions()\n",
        "    \n",
        "                    # Get page range from input pages\n",
        "                    in_page_range = in_doc.pages[start_index:last_page]\n",
        "    \n",
        "                    # Copy page range and append to output document\n",
        "                    out_page_range = PageList.copy(out_doc, in_page_range, page_copy_options)\n",
        "                    out_doc.pages.extend(out_page_range)\n",

        "\n",
        "    print(\"Execution successful.\")\n",

        "except Exception as e:\n",
        "    print(f\"An error occurred: {e}\")"
      ]
    }
  ],
  "metadata": {
    "kernelspec": {
      "display_name": "Python 3",
      "language": "python",
      "name": "python3"
    },
    "language_info": {
      "codemirror_mode": {
        "name": "ipython",
        "version": 3
      },
      "file_extension": ".py",
      "mimetype": "text/x-python",
      "name": "python",
      "nbconvert_exporter": "python",
      "pygments_lexer": "ipython3",
      "version": "3.12.8"
    },
    "colab": {
      "provenance": []
    }
  },
  "nbformat": 4,
  "nbformat_minor": 5
}