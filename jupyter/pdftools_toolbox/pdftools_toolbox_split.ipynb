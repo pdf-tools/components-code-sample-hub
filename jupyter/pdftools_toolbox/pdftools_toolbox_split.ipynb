{
  "cells": [
    {
      "cell_type": "markdown",
      "id": "4d3b3856-fadb-4c0b-b8b3-3d8efca5d747",
      "metadata": {
          "id": "ebe86d9a-0bad-45e6-8ec9-45cc9df13846"
      },
      "source": [
        "[![Open In Colab](https://colab.research.google.com/assets/colab-badge.svg)](https://colab.research.google.com/github/pdf-tools/components-code-sample-hub/blob/main/jupyter/pdftools_toolbox/pdftools_toolbox_split.ipynb)"
      ]
    },
    {
      "cell_type": "code",
      "execution_count": null,
      "id": "aeaf1f8f-bd4e-4d61-a513-71be966017c3",
      "metadata": {
          "id": "686edc5c-0944-4b0a-ac26-88dce5ccbc11"
      },
      "outputs": [],
      "source": [
        "%pip install pdftools_toolbox\n",
        "%pip install ipython"
      ]
    },
    {
      "cell_type": "markdown",
      "id": "b7046573-20b9-468d-9308-160a81963a7d",
      "metadata": {
          "id": "cbf9aa40-f7f4-4178-9364-b24116b4222a"
      },
      "source": [
        "# Remove pages from PDF\n",
        "Selectively remove pages from a PDF document."
      ]
    },
    {
      "cell_type": "code",
      "execution_count": null,
      "id": "26bec798-ffac-4ece-9bc6-7e81de1a34b8",
      "metadata": {
          "id": "f7d15c8c-6500-436b-a33d-48c5ceb6683d"
      },
      "outputs": [],
      "source": [
        "import io\n",
        "from pdftools_toolbox.pdf import Document, FileReference, Metadata, PageCopyOptions, PageList\n",
        "from pdftools_toolbox.pdf.content import IccBasedColorSpace\n",
        "from pdftools_toolbox.pdf.navigation import ViewerSettings"
      ]
    },
    {
      "cell_type": "code",
      "execution_count": null,
      "id": "51f18136-28fc-4879-a6bc-907b03692bf8",
      "metadata": {
          "id": "39118120-d712-45f3-9cbb-6037572de543"
      },
      "outputs": [],
      "source": [
        "# Download a file from a given URL and save it to the local system\n",
        "def prepare_file(url: str, path: str):\n",
        "    import requests\n",
        "    response = requests.get(url)\n",
        "    response.raise_for_status()\n",
        "\n",
        "    with open(path, 'wb') as f:\n",
        "        f.write(response.content)"
      ]
    },
    {
      "cell_type": "code",
      "execution_count": null,
      "id": "29bd7063-3c55-4190-9a4a-b6c81375713c",
      "metadata": {
          "id": "44264d7a-3f1e-46f2-8dc7-0e91f8a57ecd"
      },
      "outputs": [],
      "source": [
        "# Set input arguments\n",
        "input_url = 'https://pdftools-public-downloads-production.s3.eu-west-1.amazonaws.com/samples/testfiles/PdfPrimerWhitepaper.pdf'\n",
        "input_file_path = 'PdfPrimerWhitepaper.pdf'\n",
        "prepare_file(input_url, input_file_path)\n",
        "first_page = '2'  # Example: remove pages 2-3\n",
        "last_page = '3'\n",
        "output_file_path = 'PagesRemoved.pdf'"
      ]
    },
    {
      "cell_type": "code",
      "execution_count": null,
      "id": "53e4eb98-2cf8-4531-8f51-0ad95291db30",
      "metadata": {
          "id": "f23fa697-a005-42db-bd20-52b45010f97a"
      },
      "outputs": [],
      "source": [
        "def copy_document_data(in_doc: Document, out_doc: Document):\n",
        "    # Copy document-wide data\n",
        "\n",
        "    # Output intent\n",
        "    if in_doc.output_intent is not None:\n",
        "        in_doc.output_intent = IccBasedColorSpace.copy(out_doc, in_doc.output_intent)\n",
        "\n",
        "    # Metadata\n",
        "    out_doc.metadata = Metadata.copy(out_doc, in_doc.metadata)\n",
        "\n",
        "    # Viewer settings\n",
        "    out_doc.viewer_settings = ViewerSettings.copy(out_doc, in_doc.viewer_settings)\n",
        "\n",
        "    # Associated files (for PDF/A-3 and PDF 2.0 only)\n",
        "    outAssociatedFiles = out_doc.associated_files\n",
        "    for in_file_ref in in_doc.associated_files:\n",
        "        outAssociatedFiles.append(FileReference.copy(out_doc, in_file_ref))\n",
        "\n",
        "    # Plain embedded files\n",
        "    out_embedded_files = out_doc.plain_embedded_files\n",
        "    for in_file_ref in in_doc.plain_embedded_files:\n",
        "        out_embedded_files.append(FileReference.copy(out_doc, in_file_ref))"
      ]
    },
    {
      "cell_type": "code",
      "execution_count": null,
      "id": "1503f477-59fe-4001-a65e-e89b95b93f94",
      "metadata": {
          "id": "71c4cc48-7d47-49b8-8324-41a3530cb831"
      },
      "outputs": [],
      "source": [
        "try:\n",
        "    # Set and check license key. If the license key is not valid, an exception is thrown.\n",
        "    from pdftools_toolbox.sdk import Sdk\n",
        "    Sdk.initialize(\"INSERT-LICENSE-KEY\", None)\n",

        "\n",
        "    start_index = int(first_page) - 1\n",
        "    last_page = int(last_page)\n",
        "    count = last_page - start_index\n",
        "    \n",
        "    # Open input document\n",
        "    with io.FileIO(input_file_path, \"rb\") as in_stream:\n",
        "        with Document.open(in_stream, None) as in_doc:\n",
        "    \n",
        "            # Validate page range\n",
        "            start_index = max(min(len(in_doc.pages) - 1, start_index), 0)\n",
        "            count = min(len(in_doc.pages) - start_index, count)\n",
        "            if count <= 0:\n",
        "                raise ValueError(\"lastPage must be greater or equal to firstPage\")\n",
        "    \n",
        "            # Create output document\n",
        "            with io.FileIO(output_file_path, \"wb+\") as out_stream:\n",
        "                with Document.create(out_stream, in_doc.conformance, None) as out_doc:\n",
        "    \n",
        "                    # Copy document-wide data\n",
        "                    copy_document_data(in_doc, out_doc)\n",
        "    \n",
        "                    # Define page copy options\n",
        "                    page_copy_options = PageCopyOptions()\n",
        "    \n",
        "                    # Get page range from input pages\n",
        "                    in_page_range = in_doc.pages[start_index:last_page]\n",
        "    \n",
        "                    # Copy page range and append to output document\n",
        "                    out_page_range = PageList.copy(out_doc, in_page_range, page_copy_options)\n",
        "                    out_doc.pages.extend(out_page_range)\n",

        "\n",
        "    print(\"Execution successful.\")\n",

        "except Exception as e:\n",
        "    print(f\"An error occurred: {e}\")"
      ]
    }
  ],
  "metadata": {
    "kernelspec": {
      "display_name": "Python 3",
      "language": "python",
      "name": "python3"
    },
    "language_info": {
      "codemirror_mode": {
        "name": "ipython",
        "version": 3
      },
      "file_extension": ".py",
      "mimetype": "text/x-python",
      "name": "python",
      "nbconvert_exporter": "python",
      "pygments_lexer": "ipython3",
      "version": "3.12.8"
    },
    "colab": {
      "provenance": []
    }
  },
  "nbformat": 4,
  "nbformat_minor": 5
}