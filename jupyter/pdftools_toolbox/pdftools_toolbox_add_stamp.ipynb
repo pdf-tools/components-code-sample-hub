{
  "cells": [
    {
      "cell_type": "markdown",
      "id": "6ba591dc-c0d9-4ce8-b96b-0307b45046f1",
      "metadata": {
          "id": "2d75de94-744a-40bc-882d-ca2e0cfa6720"
      },
      "source": [
        "[![Open In Colab](https://colab.research.google.com/assets/colab-badge.svg)](https://colab.research.google.com/github/pdf-tools/components-code-sample-hub/blob/main/jupyter/pdftools_toolbox/pdftools_toolbox_add_stamp.ipynb)"
      ]
    },
    {
      "cell_type": "code",
      "execution_count": null,
      "id": "2b79838f-4e97-49e5-83e6-68ba894fefb6",
      "metadata": {
          "id": "2250c231-b899-4cfa-871c-0e9ffba4d238"
      },
      "outputs": [],
      "source": [
        "%pip install https://pdftools-public-downloads-production.s3.eu-west-1.amazonaws.com/productkits/PDFSDKXT/latest/pdftools_toolbox-latest.tar.gz\n",
        "%pip install ipython"
      ]
    },
    {
      "cell_type": "markdown",
      "id": "1f7d307e-fed0-49de-b011-2d693db55598",
      "metadata": {
          "id": "e234c2fe-cafb-4f0a-aaab-a81745b5b679"
      },
      "source": [
        "# Add stamp to PDF\n",
        "Add a semi-transparent stamp text onto each page of a PDF\n",
        "document. Optionally specify the color and the opacity of\n",
        "the stamp."
      ]
    },
    {
      "cell_type": "code",
      "execution_count": null,
      "id": "1686ccd8-65cf-4d1b-b611-70ff9a213267",
      "metadata": {
          "id": "edce0d2a-b666-4235-90c3-34723a0a8501"
      },
      "outputs": [],
      "source": [
        "import io\n",
        "import math\n",
        "from pdftools_toolbox.pdf import Document, FileReference, Metadata, Page, PageCopyOptions\n",
        "from pdftools_toolbox.geometry.real import AffineTransform, Point\n",
        "from pdftools_toolbox.pdf.content import ColorSpace, ContentGenerator, Font, IccBasedColorSpace, Paint, ProcessColorSpaceType, Text, TextGenerator, Transparency\n",
        "from pdftools_toolbox.pdf.navigation import ViewerSettings"
      ]
    },
    {
      "cell_type": "code",
      "execution_count": null,
      "id": "77145707-eac0-46d6-8c7e-87f51aef04f2",
      "metadata": {
          "id": "0d194027-10e1-426a-affa-82df8121a380"
      },
      "outputs": [],
      "source": [
        "# Download a file from a given URL and save it to the local system\n",
        "def prepare_file(url: str, path: str):\n",
        "    import requests\n",
        "    response = requests.get(url)\n",
        "    response.raise_for_status()\n",
        "\n",
        "    with open(path, 'wb') as f:\n",
        "        f.write(response.content)"
      ]
    },
    {
      "cell_type": "code",
      "execution_count": null,
      "id": "a718e54d-ed3b-46b8-931a-284827da2b5c",
      "metadata": {
          "id": "e3f328e6-4b2c-4fd0-9a1e-b7276f6ad5ba"
      },
      "outputs": [],
      "source": [
        "# Set input arguments\n",
        "input_url = 'https://pdftools-public-downloads-production.s3.eu-west-1.amazonaws.com/samples/testfiles/InvoiceNone.pdf'\n",
        "input_file_path = 'InvoiceNone.pdf'\n",
        "prepare_file(input_url, input_file_path)\n",
        "stamp_string = \"APPROVED\"\n",
        "output_file_path = 'InvoiceWithStamp.pdf'\n",
        "alpha = 0.5"
      ]
    },
    {
      "cell_type": "code",
      "execution_count": null,
      "id": "6b7fa249-c590-49b4-bd95-d0a4172c3379",
      "metadata": {
          "id": "a0b61748-db16-46ae-8c4c-1076c1147299"
      },
      "outputs": [],
      "source": [
        "def copy_document_data(in_doc: Document, out_doc: Document):\n",
        "    # Copy document-wide data\n",
        "\n",
        "    # Output intent\n",
        "    if in_doc.output_intent is not None:\n",
        "        in_doc.output_intent = IccBasedColorSpace.copy(out_doc, in_doc.output_intent)\n",
        "\n",
        "    # Metadata\n",
        "    out_doc.metadata = Metadata.copy(out_doc, in_doc.metadata)\n",
        "\n",
        "    # Viewer settings\n",
        "    out_doc.viewer_settings = ViewerSettings.copy(out_doc, in_doc.viewer_settings)\n",
        "\n",
        "    # Associated files (for PDF/A-3 and PDF 2.0 only)\n",
        "    outAssociatedFiles = out_doc.associated_files\n",
        "    for in_file_ref in in_doc.associated_files:\n",
        "        outAssociatedFiles.append(FileReference.copy(out_doc, in_file_ref))\n",
        "\n",
        "    # Plain embedded files\n",
        "    out_embedded_files = out_doc.plain_embedded_files\n",
        "    for in_file_ref in_doc.plain_embedded_files:\n",
        "        out_embedded_files.append(FileReference.copy(out_doc, in_file_ref))"
      ]
    },
    {
      "cell_type": "code",
      "execution_count": null,
      "id": "6b9d1554-e110-4fce-b033-2fca95c09a64",
      "metadata": {
          "id": "19ed4e3e-62e2-47ed-99ec-30fb44db3652"
      },
      "outputs": [],
      "source": [
        "def add_stamp(output_doc: Document, out_page: Page, stamp_string: str):\n",
        "    # Create content generator and text object\n",
        "    with ContentGenerator(out_page.content, False) as gen:\n",
        "        text = Text.create(output_doc)\n",
        "\n",
        "        # Create text generator\n",
        "        with TextGenerator(text, font, font_size, None) as text_generator:\n",
        "            # Calculate point and angle of rotation\n",
        "            rotation_center = Point(\n",
        "                x=out_page.size.width / 2.0,\n",
        "                y=out_page.size.height / 2.0\n",
        "            )\n",
        "            rotation_angle = math.atan2(out_page.size.height, out_page.size.width) / math.pi * 180.0\n",
        "\n",
        "            # Rotate text input around the calculated position\n",
        "            trans = AffineTransform.get_identity()\n",
        "            trans.rotate(rotation_angle, rotation_center)\n",
        "            gen.transform(trans)\n",
        "\n",
        "            # Calculate position\n",
        "            position = Point(\n",
        "                x=(out_page.size.width - text_generator.get_width(stamp_string)) / 2.0,\n",
        "                y=(out_page.size.height - font.ascent * font_size) / 2.0\n",
        "            )\n",
        "\n",
        "            # Move to position\n",
        "            text_generator.move_to(position)\n",
        "\n",
        "            # Set text paint\n",
        "            text_generator.fill = paint\n",
        "\n",
        "            # Add given stamp string\n",
        "            text_generator.show_line(stamp_string)\n",
        "\n",
        "        # Paint the positioned text\n",
        "        gen.paint_text(text)"
      ]
    },
    {
      "cell_type": "code",
      "execution_count": null,
      "id": "41336d9f-a279-4706-85b6-0bd9400ddfab",
      "metadata": {
          "id": "a846277b-b960-45de-8f4e-5bc09064a64f"
      },
      "outputs": [],
      "source": [
        "try:\n",
        "    # Set and check license key. If the license key is not valid, an exception is thrown.\n",
        "    from pdftools_toolbox.sdk import Sdk\n",
        "    Sdk.initialize(\"INSERT-LICENSE-KEY\", None)\n",

        "\n",
        "    # Define global variables\n",
        "    font_size = 50.0\n",
        "    \n",
        "    # Open input document\n",
        "    with io.FileIO(input_file_path, 'rb') as in_stream:\n",
        "        with Document.open(in_stream, None) as in_doc:\n",
        "    \n",
        "            # Create output document\n",
        "            with io.FileIO(output_file_path, 'wb+') as output_stream:\n",
        "                with Document.create(output_stream, in_doc.conformance, None) as out_doc:\n",
        "    \n",
        "                    # Copy document-wide data\n",
        "                    copy_document_data(in_doc, out_doc)\n",
        "    \n",
        "                    # Create font\n",
        "                    font = Font.create_from_system(out_doc, \"Arial\", \"Italic\", True)\n",
        "    \n",
        "                    # Get the color space\n",
        "                    color_space = ColorSpace.create_process_color_space(out_doc, ProcessColorSpaceType.RGB)\n",
        "    \n",
        "                    # Choose the RGB color value and transparency\n",
        "                    color = [1.0, 0.0, 0.0]\n",
        "                    transparency = Transparency(alpha)\n",
        "    \n",
        "                    # Create paint object with the chosen RGB color\n",
        "                    paint = Paint.create(out_doc, color_space, color, transparency)\n",
        "    \n",
        "                    # Define copy options\n",
        "                    copy_options = PageCopyOptions()\n",
        "    \n",
        "                    # Copy all pages from input document\n",
        "                    for in_page in in_doc.pages:\n",
        "                        # Copy page from input to output\n",
        "                        out_page = Page.copy(out_doc, in_page, copy_options)\n",
        "    \n",
        "                        # Add text to page\n",
        "                        add_stamp(out_doc, out_page, stamp_string)\n",
        "    \n",
        "                        # Add page to document\n",
        "                        out_doc.pages.append(out_page)\n",

        "\n",
        "    print(\"Execution successful.\")\n",

        "except Exception as e:\n",
        "    print(f\"An error occurred: {e}\")"
      ]
    }
  ],
  "metadata": {
    "kernelspec": {
      "display_name": "Python 3",
      "language": "python",
      "name": "python3"
    },
    "language_info": {
      "codemirror_mode": {
        "name": "ipython",
        "version": 3
      },
      "file_extension": ".py",
      "mimetype": "text/x-python",
      "name": "python",
      "nbconvert_exporter": "python",
      "pygments_lexer": "ipython3",
      "version": "3.12.8"
    },
    "colab": {
      "provenance": []
    }
  },
  "nbformat": 4,
  "nbformat_minor": 5
}