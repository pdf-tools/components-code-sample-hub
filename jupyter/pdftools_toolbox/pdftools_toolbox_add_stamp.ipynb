{
  "cells": [
    {
      "cell_type": "markdown",
      "id": "cea9555e-cf4b-4567-b160-ae6ee019fadc",
      "metadata": {
          "id": "fa447df4-1ce2-4f22-a612-378fa5cf8313"
      },
      "source": [
        "[![Open In Colab](https://colab.research.google.com/assets/colab-badge.svg)](https://colab.research.google.com/github/pdf-tools/components-code-sample-hub/blob/main/jupyter/pdftools_toolbox/pdftools_toolbox_add_stamp.ipynb)"
      ]
    },
    {
      "cell_type": "code",
      "execution_count": null,
      "id": "e020f667-b4ed-4f0e-ba9c-e45a6baf22e1",
      "metadata": {
          "id": "4c2377e2-6378-49c0-87f6-a41a0f3f3053"
      },
      "outputs": [],
      "source": [
        "%pip install pdftools_toolbox\n",
        "%pip install ipython"
      ]
    },
    {
      "cell_type": "markdown",
      "id": "ca27f88d-d7d6-498c-bfcf-a23d8db8e2dd",
      "metadata": {
          "id": "84c77a92-5802-40f4-9f8d-635551bcc04c"
      },
      "source": [
        "# Add stamp to PDF\n",
        "Add a semi-transparent stamp text onto each page of a PDF\n",
        "document. Optionally specify the color and the opacity of\n",
        "the stamp."
      ]
    },
    {
      "cell_type": "code",
      "execution_count": null,
      "id": "c1c3c622-3d11-42ec-936b-318583e4c1c8",
      "metadata": {
          "id": "b89d7204-ef9d-425e-9fb2-b4a6ff9035ed"
      },
      "outputs": [],
      "source": [
        "import io\n",
        "import math\n",
        "from pdftools_toolbox.pdf import Document, FileReference, Metadata, Page, PageCopyOptions\n",
        "from pdftools_toolbox.geometry.real import AffineTransform, Point\n",
        "from pdftools_toolbox.pdf.content import ColorSpace, ContentGenerator, Font, IccBasedColorSpace, Paint, ProcessColorSpaceType, Text, TextGenerator, Transparency\n",
        "from pdftools_toolbox.pdf.navigation import ViewerSettings"
      ]
    },
    {
      "cell_type": "code",
      "execution_count": null,
      "id": "7d411c02-a1ff-4c30-8dd5-5ec6e59b18cc",
      "metadata": {
          "id": "d1a27fa2-07b2-4933-915c-b07c4fbab322"
      },
      "outputs": [],
      "source": [
        "# Download a file from a given URL and save it to the local system\n",
        "def prepare_file(url: str, path: str):\n",
        "    import requests\n",
        "    response = requests.get(url)\n",
        "    response.raise_for_status()\n",
        "\n",
        "    with open(path, 'wb') as f:\n",
        "        f.write(response.content)"
      ]
    },
    {
      "cell_type": "code",
      "execution_count": null,
      "id": "6ce26f15-a373-4810-9b9c-ddc440f219d8",
      "metadata": {
          "id": "c451598c-51fe-4a56-aa71-000c2b41a81b"
      },
      "outputs": [],
      "source": [
        "# Set input arguments\n",
        "input_url = 'https://pdftools-public-downloads-production.s3.eu-west-1.amazonaws.com/samples/testfiles/InvoiceNone.pdf'\n",
        "input_file_path = 'InvoiceNone.pdf'\n",
        "prepare_file(input_url, input_file_path)\n",
        "stamp_string = \"APPROVED\"\n",
        "output_file_path = 'InvoiceWithStamp.pdf'\n",
        "alpha = 0.5"
      ]
    },
    {
      "cell_type": "code",
      "execution_count": null,
      "id": "491aed70-c699-4253-8eda-2284152215ab",
      "metadata": {
          "id": "6c997dca-d388-4745-8d38-f5da42e8f122"
      },
      "outputs": [],
      "source": [
        "def copy_document_data(in_doc: Document, out_doc: Document):\n",
        "    # Copy document-wide data\n",
        "\n",
        "    # Output intent\n",
        "    if in_doc.output_intent is not None:\n",
        "        in_doc.output_intent = IccBasedColorSpace.copy(out_doc, in_doc.output_intent)\n",
        "\n",
        "    # Metadata\n",
        "    out_doc.metadata = Metadata.copy(out_doc, in_doc.metadata)\n",
        "\n",
        "    # Viewer settings\n",
        "    out_doc.viewer_settings = ViewerSettings.copy(out_doc, in_doc.viewer_settings)\n",
        "\n",
        "    # Associated files (for PDF/A-3 and PDF 2.0 only)\n",
        "    outAssociatedFiles = out_doc.associated_files\n",
        "    for in_file_ref in in_doc.associated_files:\n",
        "        outAssociatedFiles.append(FileReference.copy(out_doc, in_file_ref))\n",
        "\n",
        "    # Plain embedded files\n",
        "    out_embedded_files = out_doc.plain_embedded_files\n",
        "    for in_file_ref in in_doc.plain_embedded_files:\n",
        "        out_embedded_files.append(FileReference.copy(out_doc, in_file_ref))"
      ]
    },{
      "cell_type": "code",
      "execution_count": null,
      "id": "b8d7661d-1cc5-4895-922c-b49951d1562a",
      "metadata": {
          "id": "b886ccb9-dac4-439c-b2b7-c37b807dc881"
      },
      "outputs": [],
      "source": [
        "def add_stamp(output_doc: Document, out_page: Page, stamp_string: str):\n",
        "    # Create content generator and text object\n",
        "    with ContentGenerator(out_page.content, False) as gen:\n",
        "        text = Text.create(output_doc)\n",
        "\n",
        "        # Create text generator\n",
        "        with TextGenerator(text, font, font_size, None) as text_generator:\n",
        "            # Calculate point and angle of rotation\n",
        "            rotation_center = Point(\n",
        "                x=out_page.size.width / 2.0,\n",
        "                y=out_page.size.height / 2.0\n",
        "            )\n",
        "            rotation_angle = math.atan2(out_page.size.height, out_page.size.width) / math.pi * 180.0\n",
        "\n",
        "            # Rotate text input around the calculated position\n",
        "            trans = AffineTransform.get_identity()\n",
        "            trans.rotate(rotation_angle, rotation_center)\n",
        "            gen.transform(trans)\n",
        "\n",
        "            # Calculate position\n",
        "            position = Point(\n",
        "                x=(out_page.size.width - text_generator.get_width(stamp_string)) / 2.0,\n",
        "                y=(out_page.size.height - font.ascent * font_size) / 2.0\n",
        "            )\n",
        "\n",
        "            # Move to position\n",
        "            text_generator.move_to(position)\n",
        "\n",
        "            # Set text paint\n",
        "            text_generator.fill = paint\n",
        "\n",
        "            # Add given stamp string\n",
        "            text_generator.show_line(stamp_string)\n",
        "\n",
        "        # Paint the positioned text\n",
        "        gen.paint_text(text)"
      ]
    },
    {
      "cell_type": "code",
      "execution_count": null,
      "id": "8eb08904-b50b-4f1f-91a0-c9ae46f8ea36",
      "metadata": {
          "id": "3699a074-d253-490e-8cb1-f70b6c4744b1"
      },
      "outputs": [],
      "source": [
        "try:\n",
        "    # Set and check license key. If the license key is not valid, an exception is thrown.\n",
        "    from pdftools_toolbox.sdk import Sdk\n",
        "    Sdk.initialize(\"INSERT-LICENSE-KEY\", None)\n",

        "\n",
        "    # Define global variables\n",
        "    font_size = 50.0\n",
        "    \n",
        "    # Open input document\n",
        "    with io.FileIO(input_file_path, 'rb') as in_stream:\n",
        "        with Document.open(in_stream, None) as in_doc:\n",
        "    \n",
        "            # Create output document\n",
        "            with io.FileIO(output_file_path, 'wb+') as output_stream:\n",
        "                with Document.create(output_stream, in_doc.conformance, None) as out_doc:\n",
        "    \n",
        "                    # Copy document-wide data\n",
        "                    copy_document_data(in_doc, out_doc)\n",
        "    \n",
        "                    # Create font\n",
        "                    font = Font.create_from_system(out_doc, \"Arial\", \"Italic\", True)\n",
        "    \n",
        "                    # Get the color space\n",
        "                    color_space = ColorSpace.create_process_color_space(out_doc, ProcessColorSpaceType.RGB)\n",
        "    \n",
        "                    # Choose the RGB color value and transparency\n",
        "                    color = [1.0, 0.0, 0.0]\n",
        "                    transparency = Transparency(alpha)\n",
        "    \n",
        "                    # Create paint object with the chosen RGB color\n",
        "                    paint = Paint.create(out_doc, color_space, color, transparency)\n",
        "    \n",
        "                    # Define copy options\n",
        "                    copy_options = PageCopyOptions()\n",
        "    \n",
        "                    # Copy all pages from input document\n",
        "                    for in_page in in_doc.pages:\n",
        "                        # Copy page from input to output\n",
        "                        out_page = Page.copy(out_doc, in_page, copy_options)\n",
        "    \n",
        "                        # Add text to page\n",
        "                        add_stamp(out_doc, out_page, stamp_string)\n",
        "    \n",
        "                        # Add page to document\n",
        "                        out_doc.pages.append(out_page)\n",

        "\n",
        "    print(\"Execution successful.\")\n",

        "except Exception as e:\n",
        "    print(f\"An error occurred: {e}\")"
      ]
    }
  ],
  "metadata": {
    "kernelspec": {
      "display_name": "Python 3",
      "language": "python",
      "name": "python3"
    },
    "language_info": {
      "codemirror_mode": {
        "name": "ipython",
        "version": 3
      },
      "file_extension": ".py",
      "mimetype": "text/x-python",
      "name": "python",
      "nbconvert_exporter": "python",
      "pygments_lexer": "ipython3",
      "version": "3.12.8"
    },
    "colab": {
      "provenance": []
    }
  },
  "nbformat": 4,
  "nbformat_minor": 5
}