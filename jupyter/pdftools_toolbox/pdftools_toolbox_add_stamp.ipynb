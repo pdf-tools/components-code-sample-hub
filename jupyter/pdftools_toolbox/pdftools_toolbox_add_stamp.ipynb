{
  "cells": [
    {
      "cell_type": "markdown",
      "id": "0e770eb5-e7d6-4cdd-b912-e4c080536821",
      "metadata": {
          "id": "b2ca1af2-da9f-4330-bf3f-4c0e569c7b51"
      },
      "source": [
        "[![Open In Colab](https://colab.research.google.com/assets/colab-badge.svg)](https://colab.research.google.com/github/pdf-tools/components-code-sample-hub/blob/main/jupyter/pdftools_toolbox/pdftools_toolbox_add_stamp.ipynb)"
      ]
    },
    {
      "cell_type": "code",
      "execution_count": null,
      "id": "c0575f04-d213-478c-8fa5-e5e5b692557f",
      "metadata": {
          "id": "93c0f99e-9dbd-4637-9daf-c06732060266"
      },
      "outputs": [],
      "source": [
        "%pip install https://pdftools-public-downloads-production.s3.eu-west-1.amazonaws.com/productkits/PDFSDKXT/latest/pdftools_toolbox-latest.tar.gz\n",
        "%pip install ipython"
      ]
    },
    {
      "cell_type": "markdown",
      "id": "1dd62a73-016d-4612-ba2a-b3ca8b37c947",
      "metadata": {
          "id": "9c0f64fc-327b-427b-a2c0-fa65dad69df2"
      },
      "source": [
        "# Add stamp to PDF\n",
        "Add a semi-transparent stamp text onto each page of a PDF\n",
        "document. Optionally specify the color and the opacity of\n",
        "the stamp."
      ]
    },
    {
      "cell_type": "code",
      "execution_count": null,
      "id": "ca68df67-8ca3-4958-9736-06a0d9de5568",
      "metadata": {
          "id": "e3b41710-52c4-4b4b-812a-55a790d95203"
      },
      "outputs": [],
      "source": [
        "import io\n",
        "import math\n",
        "from pdftools_toolbox.pdf import Document, FileReference, Metadata, Page, PageCopyOptions\n",
        "from pdftools_toolbox.geometry.real import AffineTransform, Point\n",
        "from pdftools_toolbox.pdf.content import ColorSpace, ContentGenerator, Font, IccBasedColorSpace, Paint, ProcessColorSpaceType, Text, TextGenerator, Transparency\n",
        "from pdftools_toolbox.pdf.navigation import ViewerSettings"
      ]
    },
    {
      "cell_type": "code",
      "execution_count": null,
      "id": "ee25c8d8-cd33-4820-b3a5-12d21cb011bb",
      "metadata": {
          "id": "2850e49a-b716-499b-8505-c924189adc08"
      },
      "outputs": [],
      "source": [
        "# Download a file from a given URL and save it to the local system\n",
        "def prepare_file(url: str, path: str):\n",
        "    import requests\n",
        "    response = requests.get(url)\n",
        "    response.raise_for_status()\n",
        "\n",
        "    with open(path, 'wb') as f:\n",
        "        f.write(response.content)"
      ]
    },
    {
      "cell_type": "code",
      "execution_count": null,
      "id": "c22d83f9-b72e-45ac-9ef6-2b94d00a31ca",
      "metadata": {
          "id": "a14f99b5-2bd3-4d1a-81e5-86dc2be2e282"
      },
      "outputs": [],
      "source": [
        "# Set input arguments\n",
        "input_url = 'https://pdftools-public-downloads-production.s3.eu-west-1.amazonaws.com/samples/testfiles/InvoiceNone.pdf'\n",
        "input_file_path = 'InvoiceNone.pdf'\n",
        "prepare_file(input_url, input_file_path)\n",
        "stamp_string = \"APPROVED\"\n",
        "output_file_path = 'InvoiceWithStamp.pdf'\n",
        "alpha = 0.5"
      ]
    },
    {
      "cell_type": "code",
      "execution_count": null,
      "id": "afe96a8a-d164-4db4-8859-05229096d864",
      "metadata": {
          "id": "7f462a00-32b8-493c-8cbd-4ffcf1c3af82"
      },
      "outputs": [],
      "source": [
        "def copy_document_data(in_doc: Document, out_doc: Document):\n",
        "    # Copy document-wide data\n",
        "\n",
        "    # Output intent\n",
        "    if in_doc.output_intent is not None:\n",
        "        in_doc.output_intent = IccBasedColorSpace.copy(out_doc, in_doc.output_intent)\n",
        "\n",
        "    # Metadata\n",
        "    out_doc.metadata = Metadata.copy(out_doc, in_doc.metadata)\n",
        "\n",
        "    # Viewer settings\n",
        "    out_doc.viewer_settings = ViewerSettings.copy(out_doc, in_doc.viewer_settings)\n",
        "\n",
        "    # Associated files (for PDF/A-3 and PDF 2.0 only)\n",
        "    outAssociatedFiles = out_doc.associated_files\n",
        "    for in_file_ref in in_doc.associated_files:\n",
        "        outAssociatedFiles.append(FileReference.copy(out_doc, in_file_ref))\n",
        "\n",
        "    # Plain embedded files\n",
        "    out_embedded_files = out_doc.plain_embedded_files\n",
        "    for in_file_ref in_doc.plain_embedded_files:\n",
        "        out_embedded_files.append(FileReference.copy(out_doc, in_file_ref))"
      ]
    },
    {
      "cell_type": "code",
      "execution_count": null,
      "id": "f13bacac-f707-4043-b35c-3535ad08c965",
      "metadata": {
          "id": "7db8bf0d-290a-4747-b092-555b846ea137"
      },
      "outputs": [],
      "source": [
        "def add_stamp(output_doc: Document, out_page: Page, stamp_string: str):\n",
        "    # Create content generator and text object\n",
        "    with ContentGenerator(out_page.content, False) as gen:\n",
        "        text = Text.create(output_doc)\n",
        "\n",
        "        # Create text generator\n",
        "        with TextGenerator(text, font, font_size, None) as text_generator:\n",
        "            # Calculate point and angle of rotation\n",
        "            rotation_center = Point(\n",
        "                x=out_page.size.width / 2.0,\n",
        "                y=out_page.size.height / 2.0\n",
        "            )\n",
        "            rotation_angle = math.atan2(out_page.size.height, out_page.size.width) / math.pi * 180.0\n",
        "\n",
        "            # Rotate text input around the calculated position\n",
        "            trans = AffineTransform.get_identity()\n",
        "            trans.rotate(rotation_angle, rotation_center)\n",
        "            gen.transform(trans)\n",
        "\n",
        "            # Calculate position\n",
        "            position = Point(\n",
        "                x=(out_page.size.width - text_generator.get_width(stamp_string)) / 2.0,\n",
        "                y=(out_page.size.height - font.ascent * font_size) / 2.0\n",
        "            )\n",
        "\n",
        "            # Move to position\n",
        "            text_generator.move_to(position)\n",
        "\n",
        "            # Set text paint\n",
        "            text_generator.fill = paint\n",
        "\n",
        "            # Add given stamp string\n",
        "            text_generator.show_line(stamp_string)\n",
        "\n",
        "        # Paint the positioned text\n",
        "        gen.paint_text(text)"
      ]
    },
    {
      "cell_type": "code",
      "execution_count": null,
      "id": "85a004b8-0be3-4bcd-8f2d-6bc76468e6cc",
      "metadata": {
          "id": "791e09e5-cb8f-4532-9441-f1e20417ff66"
      },
      "outputs": [],
      "source": [
        "try:\n",
        "    # Set and check license key. If the license key is not valid, an exception is thrown.\n",
        "    from pdftools_toolbox.sdk import Sdk\n",
        "    Sdk.initialize(\"<PDFSDK,V1,MGAASQD6L2JMQHL54PK08RQX8GG4SS0M8DAHVPH0VMP3NB8R9DUK>\", None)\n",

        "\n",
        "    # Define global variables\n",
        "    font_size = 50.0\n",
        "    \n",
        "    # Open input document\n",
        "    with io.FileIO(input_file_path, 'rb') as in_stream:\n",
        "        with Document.open(in_stream, None) as in_doc:\n",
        "    \n",
        "            # Create output document\n",
        "            with io.FileIO(output_file_path, 'wb+') as output_stream:\n",
        "                with Document.create(output_stream, in_doc.conformance, None) as out_doc:\n",
        "    \n",
        "                    # Copy document-wide data\n",
        "                    copy_document_data(in_doc, out_doc)\n",
        "    \n",
        "                    # Create font\n",
        "                    font = Font.create_from_system(out_doc, \"Arial\", \"Italic\", True)\n",
        "    \n",
        "                    # Get the color space\n",
        "                    color_space = ColorSpace.create_process_color_space(out_doc, ProcessColorSpaceType.RGB)\n",
        "    \n",
        "                    # Choose the RGB color value and transparency\n",
        "                    color = [1.0, 0.0, 0.0]\n",
        "                    transparency = Transparency(alpha)\n",
        "    \n",
        "                    # Create paint object with the chosen RGB color\n",
        "                    paint = Paint.create(out_doc, color_space, color, transparency)\n",
        "    \n",
        "                    # Define copy options\n",
        "                    copy_options = PageCopyOptions()\n",
        "    \n",
        "                    # Copy all pages from input document\n",
        "                    for in_page in in_doc.pages:\n",
        "                        # Copy page from input to output\n",
        "                        out_page = Page.copy(out_doc, in_page, copy_options)\n",
        "    \n",
        "                        # Add text to page\n",
        "                        add_stamp(out_doc, out_page, stamp_string)\n",
        "    \n",
        "                        # Add page to document\n",
        "                        out_doc.pages.append(out_page)\n",

        "\n",
        "    print(\"Execution successful.\")\n",

        "except Exception as e:\n",
        "    print(f\"An error occurred: {e}\")"
      ]
    }
  ],
  "metadata": {
    "kernelspec": {
      "display_name": "Python 3",
      "language": "python",
      "name": "python3"
    },
    "language_info": {
      "codemirror_mode": {
        "name": "ipython",
        "version": 3
      },
      "file_extension": ".py",
      "mimetype": "text/x-python",
      "name": "python",
      "nbconvert_exporter": "python",
      "pygments_lexer": "ipython3",
      "version": "3.12.8"
    },
    "colab": {
      "provenance": []
    }
  },
  "nbformat": 4,
  "nbformat_minor": 5
}