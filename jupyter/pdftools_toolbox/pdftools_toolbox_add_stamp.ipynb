{
  "cells": [
    {
      "cell_type": "markdown",
      "id": "070fb2e0-500c-4bde-a300-36be1fd609e6",
      "metadata": {
          "id": "deeab6c5-967d-4acc-9c5a-eb1d54d27384"
      },
      "source": [
        "[![Open In Colab](https://colab.research.google.com/assets/colab-badge.svg)](https://colab.research.google.com/github/pdf-tools/components-code-sample-hub/blob/main/jupyter/pdftools_toolbox/pdftools_toolbox_add_stamp.ipynb)"
      ]
    },
    {
      "cell_type": "code",
      "execution_count": null,
      "id": "411e3dfe-9955-488c-b0d0-001b8317a71a",
      "metadata": {
          "id": "af902df0-2da4-40c6-af96-0959c190d37b"
      },
      "outputs": [],
      "source": [
        "%pip install https://pdftools-public-downloads-production.s3.eu-west-1.amazonaws.com/productkits/PDFSDKXT/latest/pdftools_toolbox-latest.tar.gz\n",
        "%pip install ipython"
      ]
    },
    {
      "cell_type": "markdown",
      "id": "2f8ad669-3b5b-4d09-859b-ff4ecfcb72a4",
      "metadata": {
          "id": "bf23b40f-a50e-4e16-9981-d91698d29626"
      },
      "source": [
        "# Add stamp to PDF\n",
        "Add a semi-transparent stamp text onto each page of a PDF\n",
        "document. Optionally specify the color and the opacity of\n",
        "the stamp."
      ]
    },
    {
      "cell_type": "code",
      "execution_count": null,
      "id": "d5a46058-8820-445a-9354-bfc058788625",
      "metadata": {
          "id": "b5540732-ffcc-44b0-95bd-fc128b981514"
      },
      "outputs": [],
      "source": [
        "import io\n",
        "import math\n",
        "from pdftools_toolbox.pdf import Document, FileReference, Metadata, Page, PageCopyOptions\n",
        "from pdftools_toolbox.geometry.real import AffineTransform, Point\n",
        "from pdftools_toolbox.pdf.content import ColorSpace, ContentGenerator, Font, IccBasedColorSpace, Paint, ProcessColorSpaceType, Text, TextGenerator, Transparency\n",
        "from pdftools_toolbox.pdf.navigation import ViewerSettings"
      ]
    },
    {
      "cell_type": "code",
      "execution_count": null,
      "id": "2e7bfa3e-293c-4cce-b293-5a3cc9278463",
      "metadata": {
          "id": "a0046e99-0aca-44cb-80fb-e85f505a552b"
      },
      "outputs": [],
      "source": [
        "# Download a file from a given URL and save it to the local system\n",
        "def prepare_file(url: str, path: str):\n",
        "    import requests\n",
        "    response = requests.get(url)\n",
        "    response.raise_for_status()\n",
        "\n",
        "    with open(path, 'wb') as f:\n",
        "        f.write(response.content)"
      ]
    },
    {
      "cell_type": "code",
      "execution_count": null,
      "id": "c45c3a9f-dfe0-4fe4-bea1-3f78c7577fd1",
      "metadata": {
          "id": "4e89857e-655d-44f4-a8b0-6a2e6a9903ed"
      },
      "outputs": [],
      "source": [
        "# Set input arguments\n",
        "input_url = 'https://pdftools-public-downloads-production.s3.eu-west-1.amazonaws.com/samples/testfiles/InvoiceNone.pdf'\n",
        "input_file_path = 'InvoiceNone.pdf'\n",
        "prepare_file(input_url, input_file_path)\n",
        "stamp_string = \"APPROVED\"\n",
        "output_file_path = 'InvoiceWithStamp.pdf'\n",
        "alpha = 0.5"
      ]
    },
    {
      "cell_type": "code",
      "execution_count": null,
      "id": "2d7090de-abd8-40c4-9926-bc16508f11ea",
      "metadata": {
          "id": "2c6ccf0e-119e-4db3-8e25-81a88d5d1d67"
      },
      "outputs": [],
      "source": [
        "def copy_document_data(in_doc: Document, out_doc: Document):\n",
        "    # Copy document-wide data\n",
        "\n",
        "    # Output intent\n",
        "    if in_doc.output_intent is not None:\n",
        "        in_doc.output_intent = IccBasedColorSpace.copy(out_doc, in_doc.output_intent)\n",
        "\n",
        "    # Metadata\n",
        "    out_doc.metadata = Metadata.copy(out_doc, in_doc.metadata)\n",
        "\n",
        "    # Viewer settings\n",
        "    out_doc.viewer_settings = ViewerSettings.copy(out_doc, in_doc.viewer_settings)\n",
        "\n",
        "    # Associated files (for PDF/A-3 and PDF 2.0 only)\n",
        "    outAssociatedFiles = out_doc.associated_files\n",
        "    for in_file_ref in in_doc.associated_files:\n",
        "        outAssociatedFiles.append(FileReference.copy(out_doc, in_file_ref))\n",
        "\n",
        "    # Plain embedded files\n",
        "    out_embedded_files = out_doc.plain_embedded_files\n",
        "    for in_file_ref in in_doc.plain_embedded_files:\n",
        "        out_embedded_files.append(FileReference.copy(out_doc, in_file_ref))"
      ]
    },
    {
      "cell_type": "code",
      "execution_count": null,
      "id": "baae53b2-d00f-431a-ab9d-76cde5dea2cc",
      "metadata": {
          "id": "48017e10-e5b8-49e0-9cea-19b64100cbcd"
      },
      "outputs": [],
      "source": [
        "def add_stamp(output_doc: Document, out_page: Page, stamp_string: str):\n",
        "    # Create content generator and text object\n",
        "    with ContentGenerator(out_page.content, False) as gen:\n",
        "        text = Text.create(output_doc)\n",
        "\n",
        "        # Create text generator\n",
        "        with TextGenerator(text, font, font_size, None) as text_generator:\n",
        "            # Calculate point and angle of rotation\n",
        "            rotation_center = Point(\n",
        "                x=out_page.size.width / 2.0,\n",
        "                y=out_page.size.height / 2.0\n",
        "            )\n",
        "            rotation_angle = math.atan2(out_page.size.height, out_page.size.width) / math.pi * 180.0\n",
        "\n",
        "            # Rotate text input around the calculated position\n",
        "            trans = AffineTransform.get_identity()\n",
        "            trans.rotate(rotation_angle, rotation_center)\n",
        "            gen.transform(trans)\n",
        "\n",
        "            # Calculate position\n",
        "            position = Point(\n",
        "                x=(out_page.size.width - text_generator.get_width(stamp_string)) / 2.0,\n",
        "                y=(out_page.size.height - font.ascent * font_size) / 2.0\n",
        "            )\n",
        "\n",
        "            # Move to position\n",
        "            text_generator.move_to(position)\n",
        "\n",
        "            # Set text paint\n",
        "            text_generator.fill = paint\n",
        "\n",
        "            # Add given stamp string\n",
        "            text_generator.show_line(stamp_string)\n",
        "\n",
        "        # Paint the positioned text\n",
        "        gen.paint_text(text)"
      ]
    },
    {
      "cell_type": "code",
      "execution_count": null,
      "id": "2ad70917-39f2-471d-990d-282614a30a44",
      "metadata": {
          "id": "5e0adea9-03c4-4117-be90-340d56213ec8"
      },
      "outputs": [],
      "source": [
        "try:\n",
        "    # Set and check license key. If the license key is not valid, an exception is thrown.\n",
        "    from pdftools_toolbox.sdk import Sdk\n",
        "    Sdk.initialize(\"INSERT-LICENSE-KEY\", None)\n",

        "\n",
        "    # Define global variables\n",
        "    font_size = 50.0\n",
        "    \n",
        "    # Open input document\n",
        "    with io.FileIO(input_file_path, 'rb') as in_stream:\n",
        "        with Document.open(in_stream, None) as in_doc:\n",
        "    \n",
        "            # Create output document\n",
        "            with io.FileIO(output_file_path, 'wb+') as output_stream:\n",
        "                with Document.create(output_stream, in_doc.conformance, None) as out_doc:\n",
        "    \n",
        "                    # Copy document-wide data\n",
        "                    copy_document_data(in_doc, out_doc)\n",
        "    \n",
        "                    # Create font\n",
        "                    font = Font.create_from_system(out_doc, \"Arial\", \"Italic\", True)\n",
        "    \n",
        "                    # Get the color space\n",
        "                    color_space = ColorSpace.create_process_color_space(out_doc, ProcessColorSpaceType.RGB)\n",
        "    \n",
        "                    # Choose the RGB color value and transparency\n",
        "                    color = [1.0, 0.0, 0.0]\n",
        "                    transparency = Transparency(alpha)\n",
        "    \n",
        "                    # Create paint object with the chosen RGB color\n",
        "                    paint = Paint.create(out_doc, color_space, color, transparency)\n",
        "    \n",
        "                    # Define copy options\n",
        "                    copy_options = PageCopyOptions()\n",
        "    \n",
        "                    # Copy all pages from input document\n",
        "                    for in_page in in_doc.pages:\n",
        "                        # Copy page from input to output\n",
        "                        out_page = Page.copy(out_doc, in_page, copy_options)\n",
        "    \n",
        "                        # Add text to page\n",
        "                        add_stamp(out_doc, out_page, stamp_string)\n",
        "    \n",
        "                        # Add page to document\n",
        "                        out_doc.pages.append(out_page)\n",

        "\n",
        "    print(\"Execution successful.\")\n",

        "except Exception as e:\n",
        "    print(f\"An error occurred: {e}\")"
      ]
    }
  ],
  "metadata": {
    "kernelspec": {
      "display_name": "Python 3",
      "language": "python",
      "name": "python3"
    },
    "language_info": {
      "codemirror_mode": {
        "name": "ipython",
        "version": 3
      },
      "file_extension": ".py",
      "mimetype": "text/x-python",
      "name": "python",
      "nbconvert_exporter": "python",
      "pygments_lexer": "ipython3",
      "version": "3.12.8"
    },
    "colab": {
      "provenance": []
    }
  },
  "nbformat": 4,
  "nbformat_minor": 5
}