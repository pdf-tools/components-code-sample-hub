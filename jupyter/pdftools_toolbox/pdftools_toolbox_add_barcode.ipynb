{
  "cells": [
    {
      "cell_type": "markdown",
      "id": "7c952656-b407-4654-90c2-6863fc10601c",
      "metadata": {
          "id": "d5b9b082-2586-40ad-9f91-7131856e30ba"
      },
      "source": [
        "[![Open In Colab](https://colab.research.google.com/assets/colab-badge.svg)](https://colab.research.google.com/github/pdf-tools/components-code-sample-hub/blob/main/jupyter/pdftools_toolbox/pdftools_toolbox_add_barcode.ipynb)"
      ]
    },
    {
      "cell_type": "code",
      "execution_count": null,
      "id": "25906a16-aa00-4120-ae0b-b8cb4b553a28",
      "metadata": {
          "id": "501cd518-5c4b-4617-9e70-d928f926a43e"
      },
      "outputs": [],
      "source": [
        "%pip install https://pdftools-public-downloads-production.s3.eu-west-1.amazonaws.com/productkits/PDFSDKXT/latest/pdftools_toolbox-latest.tar.gz\n",
        "%pip install ipython"
      ]
    },
    {
      "cell_type": "markdown",
      "id": "63689c6d-9a44-46e9-857e-11cc743cc7fc",
      "metadata": {
          "id": "6e98b68f-4077-44cc-92fc-1a5848f7c795"
      },
      "source": [
        "# Add barcode to PDF\n",
        "Generate and add a barcode at a specified position on the\n",
        "first page of a PDF document."
      ]
    },
    {
      "cell_type": "code",
      "execution_count": null,
      "id": "5f905080-d973-4c38-9138-1afc5ce69a6e",
      "metadata": {
          "id": "1b83f75b-f48e-4196-93c5-03cd64d9dd8f"
      },
      "outputs": [],
      "source": [
        "import io\n",
        "from pdftools_toolbox.pdf import Document, FileReference, Metadata, Page, PageCopyOptions, PageList\n",
        "from pdftools_toolbox.geometry.real import Point\n",
        "from pdftools_toolbox.pdf.content import ContentGenerator, Font, IccBasedColorSpace, Text, TextGenerator\n",
        "from pdftools_toolbox.pdf.navigation import ViewerSettings"
      ]
    },
    {
      "cell_type": "code",
      "execution_count": null,
      "id": "8788dabe-5156-41c6-9903-1fcb82366586",
      "metadata": {
          "id": "e3f935bb-2d8f-46ca-a8ba-134517f7d5bd"
      },
      "outputs": [],
      "source": [
        "# Download a file from a given URL and save it to the local system\n",
        "def prepare_file(url: str, path: str):\n",
        "    import requests\n",
        "    response = requests.get(url)\n",
        "    response.raise_for_status()\n",
        "\n",
        "    with open(path, 'wb') as f:\n",
        "        f.write(response.content)"
      ]
    },
    {
      "cell_type": "code",
      "execution_count": null,
      "id": "ab6751c0-a5ed-4988-9043-c93af4561b2b",
      "metadata": {
          "id": "4da50980-39a7-4e81-87a7-180ac437c951"
      },
      "outputs": [],
      "source": [
        "# Set input arguments\n",
        "input_url = 'https://pdftools-public-downloads-production.s3.eu-west-1.amazonaws.com/samples/testfiles/BlankNoneNoTP.pdf'\n",
        "input_file_path = 'BlankNoneNoTP.pdf'\n",
        "prepare_file(input_url, input_file_path)\n",
        "barcode = \"PDF123\"\n",
        "font_url = 'https://pdftools-public-downloads-production.s3.eu-west-1.amazonaws.com/samples/testfiles/free3of9.ttf'\n",
        "font_path = 'free3of9.ttf'\n",
        "prepare_file(font_url, font_path)\n",
        "output_file_path = 'BlankWithBarcode.pdf'"
      ]
    },
    {
      "cell_type": "code",
      "execution_count": null,
      "id": "b23a2143-18e7-45fd-8b9a-e51adaea710c",
      "metadata": {
          "id": "00930876-67ba-4ea6-b537-85524c90d266"
      },
      "outputs": [],
      "source": [
        "def copy_document_data(in_doc: Document, out_doc: Document):\n",
        "    # Copy document-wide data\n",
        "\n",
        "    # Output intent\n",
        "    if in_doc.output_intent is not None:\n",
        "        in_doc.output_intent = IccBasedColorSpace.copy(out_doc, in_doc.output_intent)\n",
        "\n",
        "    # Metadata\n",
        "    out_doc.metadata = Metadata.copy(out_doc, in_doc.metadata)\n",
        "\n",
        "    # Viewer settings\n",
        "    out_doc.viewer_settings = ViewerSettings.copy(out_doc, in_doc.viewer_settings)\n",
        "\n",
        "    # Associated files (for PDF/A-3 and PDF 2.0 only)\n",
        "    outAssociatedFiles = out_doc.associated_files\n",
        "    for in_file_ref in in_doc.associated_files:\n",
        "        outAssociatedFiles.append(FileReference.copy(out_doc, in_file_ref))\n",
        "\n",
        "    # Plain embedded files\n",
        "    out_embedded_files = out_doc.plain_embedded_files\n",
        "    for in_file_ref in in_doc.plain_embedded_files:\n",
        "        out_embedded_files.append(FileReference.copy(out_doc, in_file_ref))"
      ]
    },
    {
      "cell_type": "code",
      "execution_count": null,
      "id": "0909cb49-7ce8-41c8-93fc-7e4dfd00e5ac",
      "metadata": {
          "id": "0c9a5f28-9fdc-4fdc-a5df-06106d21475b"
      },
      "outputs": [],
      "source": [
        "def add_barcode(out_doc: Document, out_page: Page, barcode: str, font: Font, font_size: float):\n",
        "    # Create content generator\n",
        "    with ContentGenerator(out_page.content, False) as gen:\n",
        "        # Create text object\n",
        "        barcode_text = Text.create(out_doc)\n",
        "\n",
        "        #  Create text generator\n",
        "        with TextGenerator(barcode_text, font, font_size, None) as text_generator:\n",
        "            # Calculate position\n",
        "            position = Point(x=out_page.size.width - (text_generator.get_width(barcode) + border), \n",
        "                             y=out_page.size.height - (font_size * (font.ascent + font.descent) + border))\n",
        "\n",
        "            # Move to position\n",
        "            text_generator.move_to(position)\n",
        "            # Add given barcode string\n",
        "            text_generator.show_line(barcode)\n",
        "\n",
        "        # Paint the positioned barcode text\n",
        "        gen.paint_text(barcode_text)"
      ]
    },
    {
      "cell_type": "code",
      "execution_count": null,
      "id": "a4cc7137-6262-4425-8c5d-e163628b1b49",
      "metadata": {
          "id": "0da333f3-92bb-43dc-ba08-9ee66a0dfd17"
      },
      "outputs": [],
      "source": [
        "try:\n",
        "    # Set and check license key. If the license key is not valid, an exception is thrown.\n",
        "    from pdftools_toolbox.sdk import Sdk\n",
        "    Sdk.initialize(\"<PDFSDK,V1,MGAASQD6L2JMQHL54PK08RQX8GG4SS0M8DAHVPH0VMP3NB8R9DUK>\", None)\n",

        "\n",
        "    # Define border\n",
        "    border = 20\n",
        "    \n",
        "    # Open input document\n",
        "    with io.FileIO(input_file_path, 'rb') as in_stream:\n",
        "        with Document.open(in_stream, None) as in_doc:\n",
        "    \n",
        "            # Create font stream\n",
        "            with io.FileIO(font_path, 'rb') as font_stream:\n",
        "    \n",
        "                # Create output document\n",
        "                with io.FileIO(output_file_path, 'wb+') as output_stream:\n",
        "                    with Document.create(output_stream, in_doc.conformance, None) as out_doc:\n",
        "    \n",
        "                        # Copy document-wide data\n",
        "                        copy_document_data(in_doc, out_doc)\n",
        "    \n",
        "                        # Create embedded font in output document\n",
        "                        font = Font.create(out_doc, font_stream, True)\n",
        "    \n",
        "                        # Define page copy options\n",
        "                        copy_options = PageCopyOptions()\n",
        "    \n",
        "                        # Copy first page, add barcode, and append to output document\n",
        "                        out_page = Page.copy(out_doc, in_doc.pages[0], copy_options)\n",
        "                        add_barcode(out_doc, out_page, barcode, font, 50.0)\n",
        "                        out_doc.pages.append(out_page)\n",
        "    \n",
        "                        # Copy remaining pages and append to output document\n",
        "                        in_page_range = in_doc.pages[1:]\n",
        "                        copied_pages = PageList.copy(out_doc, in_page_range, copy_options)\n",
        "                        out_doc.pages.extend(copied_pages)\n",

        "\n",
        "    print(\"Execution successful.\")\n",

        "except Exception as e:\n",
        "    print(f\"An error occurred: {e}\")"
      ]
    }
  ],
  "metadata": {
    "kernelspec": {
      "display_name": "Python 3",
      "language": "python",
      "name": "python3"
    },
    "language_info": {
      "codemirror_mode": {
        "name": "ipython",
        "version": 3
      },
      "file_extension": ".py",
      "mimetype": "text/x-python",
      "name": "python",
      "nbconvert_exporter": "python",
      "pygments_lexer": "ipython3",
      "version": "3.12.8"
    },
    "colab": {
      "provenance": []
    }
  },
  "nbformat": 4,
  "nbformat_minor": 5
}