{
  "cells": [
    {
      "cell_type": "markdown",
      "id": "accf6e99-22af-4587-851e-6ae631bb3e58",
      "metadata": {
          "id": "cc30ae1a-ec8c-4f94-927d-2f44592989dd"
      },
      "source": [
        "[![Open In Colab](https://colab.research.google.com/assets/colab-badge.svg)](https://colab.research.google.com/github/pdf-tools/components-code-sample-hub/blob/main/jupyter/pdftools_toolbox/pdftools_toolbox_add_barcode.ipynb)"
      ]
    },
    {
      "cell_type": "code",
      "execution_count": null,
      "id": "a5b667c5-bf7f-413a-94be-1f7d45bd39c0",
      "metadata": {
          "id": "a953df60-d6dc-4da2-8bac-b247b8e03111"
      },
      "outputs": [],
      "source": [
        "%pip install https://pdftools-public-downloads-production.s3.eu-west-1.amazonaws.com/productkits/PDFSDKXT/latest/pdftools_toolbox-latest.tar.gz\n",
        "%pip install ipython"
      ]
    },
    {
      "cell_type": "markdown",
      "id": "013e8937-e5ca-41f2-836c-4f9b82692986",
      "metadata": {
          "id": "0954568d-541c-4a66-aae2-024472fee068"
      },
      "source": [
        "# Add barcode to PDF\n",
        "Generate and add a barcode at a specified position on the\n",
        "first page of a PDF document."
      ]
    },
    {
      "cell_type": "code",
      "execution_count": null,
      "id": "369d2100-f8c0-400a-a5bf-a4dc191548de",
      "metadata": {
          "id": "81efd4e6-d132-4f93-92af-0586eb7e4d47"
      },
      "outputs": [],
      "source": [
        "import io\n",
        "from pdftools_toolbox.pdf import Document, FileReference, Metadata, Page, PageCopyOptions, PageList\n",
        "from pdftools_toolbox.geometry.real import Point\n",
        "from pdftools_toolbox.pdf.content import ContentGenerator, Font, IccBasedColorSpace, Text, TextGenerator\n",
        "from pdftools_toolbox.pdf.navigation import ViewerSettings"
      ]
    },
    {
      "cell_type": "code",
      "execution_count": null,
      "id": "a961aff8-2ba4-47dd-a69d-05598f1126c5",
      "metadata": {
          "id": "ed5b9a37-65c4-41ad-b9ee-128d175ba0c8"
      },
      "outputs": [],
      "source": [
        "# Download a file from a given URL and save it to the local system\n",
        "def prepare_file(url: str, path: str):\n",
        "    import requests\n",
        "    response = requests.get(url)\n",
        "    response.raise_for_status()\n",
        "\n",
        "    with open(path, 'wb') as f:\n",
        "        f.write(response.content)"
      ]
    },
    {
      "cell_type": "code",
      "execution_count": null,
      "id": "c3d6582f-5025-4c84-be5b-90e9e7baf616",
      "metadata": {
          "id": "c1d8e753-524b-403e-af26-41db46d4e56f"
      },
      "outputs": [],
      "source": [
        "# Set input arguments\n",
        "input_url = 'https://pdftools-public-downloads-production.s3.eu-west-1.amazonaws.com/samples/testfiles/BlankNoneNoTP.pdf'\n",
        "input_file_path = 'BlankNoneNoTP.pdf'\n",
        "prepare_file(input_url, input_file_path)\n",
        "barcode = \"PDF123\"\n",
        "font_url = 'https://pdftools-public-downloads-production.s3.eu-west-1.amazonaws.com/samples/testfiles/free3of9.ttf'\n",
        "font_path = 'free3of9.ttf'\n",
        "prepare_file(font_url, font_path)\n",
        "output_file_path = 'BlankWithBarcode.pdf'"
      ]
    },
    {
      "cell_type": "code",
      "execution_count": null,
      "id": "3c7f62ef-130b-49e8-8af9-d08ec8e2591f",
      "metadata": {
          "id": "a5383c7c-6aa7-4a4b-b198-8b93b436516d"
      },
      "outputs": [],
      "source": [
        "def copy_document_data(in_doc: Document, out_doc: Document):\n",
        "    # Copy document-wide data\n",
        "\n",
        "    # Output intent\n",
        "    if in_doc.output_intent is not None:\n",
        "        in_doc.output_intent = IccBasedColorSpace.copy(out_doc, in_doc.output_intent)\n",
        "\n",
        "    # Metadata\n",
        "    out_doc.metadata = Metadata.copy(out_doc, in_doc.metadata)\n",
        "\n",
        "    # Viewer settings\n",
        "    out_doc.viewer_settings = ViewerSettings.copy(out_doc, in_doc.viewer_settings)\n",
        "\n",
        "    # Associated files (for PDF/A-3 and PDF 2.0 only)\n",
        "    outAssociatedFiles = out_doc.associated_files\n",
        "    for in_file_ref in in_doc.associated_files:\n",
        "        outAssociatedFiles.append(FileReference.copy(out_doc, in_file_ref))\n",
        "\n",
        "    # Plain embedded files\n",
        "    out_embedded_files = out_doc.plain_embedded_files\n",
        "    for in_file_ref in in_doc.plain_embedded_files:\n",
        "        out_embedded_files.append(FileReference.copy(out_doc, in_file_ref))"
      ]
    },
    {
      "cell_type": "code",
      "execution_count": null,
      "id": "8bdd7d9a-d940-491f-8bbb-508b9d383adb",
      "metadata": {
          "id": "7c11ed60-df6e-4288-b5d3-4e787566716d"
      },
      "outputs": [],
      "source": [
        "def add_barcode(out_doc: Document, out_page: Page, barcode: str, font: Font, font_size: float):\n",
        "    # Create content generator\n",
        "    with ContentGenerator(out_page.content, False) as gen:\n",
        "        # Create text object\n",
        "        barcode_text = Text.create(out_doc)\n",
        "\n",
        "        #  Create text generator\n",
        "        with TextGenerator(barcode_text, font, font_size, None) as text_generator:\n",
        "            # Calculate position\n",
        "            position = Point(x=out_page.size.width - (text_generator.get_width(barcode) + border), \n",
        "                             y=out_page.size.height - (font_size * (font.ascent + font.descent) + border))\n",
        "\n",
        "            # Move to position\n",
        "            text_generator.move_to(position)\n",
        "            # Add given barcode string\n",
        "            text_generator.show_line(barcode)\n",
        "\n",
        "        # Paint the positioned barcode text\n",
        "        gen.paint_text(barcode_text)"
      ]
    },
    {
      "cell_type": "code",
      "execution_count": null,
      "id": "3fbd127c-4966-45cc-a1d3-11c677e77768",
      "metadata": {
          "id": "ced6f363-606f-4501-a835-f0ec7ef5ebee"
      },
      "outputs": [],
      "source": [
        "try:\n",
        "    # Set and check license key. If the license key is not valid, an exception is thrown.\n",
        "    from pdftools_toolbox.sdk import Sdk\n",
        "    Sdk.initialize(\"INSERT-LICENSE-KEY\", None)\n",

        "\n",
        "    # Define border\n",
        "    border = 20\n",
        "    \n",
        "    # Open input document\n",
        "    with io.FileIO(input_file_path, 'rb') as in_stream:\n",
        "        with Document.open(in_stream, None) as in_doc:\n",
        "    \n",
        "            # Create font stream\n",
        "            with io.FileIO(font_path, 'rb') as font_stream:\n",
        "    \n",
        "                # Create output document\n",
        "                with io.FileIO(output_file_path, 'wb+') as output_stream:\n",
        "                    with Document.create(output_stream, in_doc.conformance, None) as out_doc:\n",
        "    \n",
        "                        # Copy document-wide data\n",
        "                        copy_document_data(in_doc, out_doc)\n",
        "    \n",
        "                        # Create embedded font in output document\n",
        "                        font = Font.create(out_doc, font_stream, True)\n",
        "    \n",
        "                        # Define page copy options\n",
        "                        copy_options = PageCopyOptions()\n",
        "    \n",
        "                        # Copy first page, add barcode, and append to output document\n",
        "                        out_page = Page.copy(out_doc, in_doc.pages[0], copy_options)\n",
        "                        add_barcode(out_doc, out_page, barcode, font, 50.0)\n",
        "                        out_doc.pages.append(out_page)\n",
        "    \n",
        "                        # Copy remaining pages and append to output document\n",
        "                        in_page_range = in_doc.pages[1:]\n",
        "                        copied_pages = PageList.copy(out_doc, in_page_range, copy_options)\n",
        "                        out_doc.pages.extend(copied_pages)\n",

        "\n",
        "    print(\"Execution successful.\")\n",

        "except Exception as e:\n",
        "    print(f\"An error occurred: {e}\")"
      ]
    }
  ],
  "metadata": {
    "kernelspec": {
      "display_name": "Python 3",
      "language": "python",
      "name": "python3"
    },
    "language_info": {
      "codemirror_mode": {
        "name": "ipython",
        "version": 3
      },
      "file_extension": ".py",
      "mimetype": "text/x-python",
      "name": "python",
      "nbconvert_exporter": "python",
      "pygments_lexer": "ipython3",
      "version": "3.12.8"
    },
    "colab": {
      "provenance": []
    }
  },
  "nbformat": 4,
  "nbformat_minor": 5
}