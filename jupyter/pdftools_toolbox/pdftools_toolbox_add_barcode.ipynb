{
  "cells": [
    {
      "cell_type": "markdown",
      "id": "95c068aa-6d05-438f-b93a-1c5067db4806",
      "metadata": {
          "id": "e40a51de-0727-45a6-baa8-0367e09fdf84"
      },
      "source": [
        "[![Open In Colab](https://colab.research.google.com/assets/colab-badge.svg)](https://colab.research.google.com/github/pdf-tools/components-code-sample-hub/blob/main/jupyter/pdftools_toolbox/pdftools_toolbox_add_barcode.ipynb)"
      ]
    },
    {
      "cell_type": "code",
      "execution_count": null,
      "id": "bb82a5a1-96b9-4ad3-ba30-2a14ee7fee03",
      "metadata": {
          "id": "8cbbc24c-5365-4cff-87cf-9d5f7a58e7d6"
      },
      "outputs": [],
      "source": [
        "%pip install pdftools_toolbox\n",
        "%pip install ipython"
      ]
    },
    {
      "cell_type": "markdown",
      "id": "d664258d-0039-4564-b344-5d5bdeb1f688",
      "metadata": {
          "id": "e5b0e1d2-9010-4b75-a040-2990ce833e6a"
      },
      "source": [
        "# Add barcode to PDF\n",
        "Generate and add a barcode at a specified position on the\n",
        "first page of a PDF document."
      ]
    },
    {
      "cell_type": "code",
      "execution_count": null,
      "id": "4052e367-48bc-47b0-ad0f-ca123ee0825b",
      "metadata": {
          "id": "829dbf2d-9462-40cc-90b6-568c75563ec9"
      },
      "outputs": [],
      "source": [
        "import io\n",
        "from pdftools_toolbox.pdf import Document, FileReference, Metadata, Page, PageCopyOptions, PageList\n",
        "from pdftools_toolbox.geometry.real import Point\n",
        "from pdftools_toolbox.pdf.content import ContentGenerator, Font, IccBasedColorSpace, Text, TextGenerator\n",
        "from pdftools_toolbox.pdf.navigation import ViewerSettings"
      ]
    },
    {
      "cell_type": "code",
      "execution_count": null,
      "id": "d64e9a82-f42c-4ba2-86aa-f86300271cbf",
      "metadata": {
          "id": "0c8db7f6-642d-4c96-a11c-80266fd8ae50"
      },
      "outputs": [],
      "source": [
        "# Download a file from a given URL and save it to the local system\n",
        "def prepare_file(url: str, path: str):\n",
        "    import requests\n",
        "    response = requests.get(url)\n",
        "    response.raise_for_status()\n",
        "\n",
        "    with open(path, 'wb') as f:\n",
        "        f.write(response.content)"
      ]
    },
    {
      "cell_type": "code",
      "execution_count": null,
      "id": "b8d2fbfc-6d84-4a11-8093-54142ff626cd",
      "metadata": {
          "id": "2fc66cd1-f3db-4351-858a-5c1c10346a39"
      },
      "outputs": [],
      "source": [
        "# Set input arguments\n",
        "input_url = 'https://pdftools-public-downloads-production.s3.eu-west-1.amazonaws.com/samples/testfiles/BlankNoneNoTP.pdf'\n",
        "input_file_path = 'BlankNoneNoTP.pdf'\n",
        "prepare_file(input_url, input_file_path)\n",
        "barcode = \"PDF123\"\n",
        "font_url = 'https://pdftools-public-downloads-production.s3.eu-west-1.amazonaws.com/samples/testfiles/free3of9.ttf'\n",
        "font_path = 'free3of9.ttf'\n",
        "prepare_file(font_url, font_path)\n",
        "output_file_path = 'BlankWithBarcode.pdf'"
      ]
    },
    {
      "cell_type": "code",
      "execution_count": null,
      "id": "b8306e63-7e36-456c-af6e-298d29bafddc",
      "metadata": {
          "id": "57c0d6fb-5894-4537-ac09-aee3310be6b6"
      },
      "outputs": [],
      "source": [
        "def copy_document_data(in_doc: Document, out_doc: Document):\n",
        "    # Copy document-wide data\n",
        "\n",
        "    # Output intent\n",
        "    if in_doc.output_intent is not None:\n",
        "        in_doc.output_intent = IccBasedColorSpace.copy(out_doc, in_doc.output_intent)\n",
        "\n",
        "    # Metadata\n",
        "    out_doc.metadata = Metadata.copy(out_doc, in_doc.metadata)\n",
        "\n",
        "    # Viewer settings\n",
        "    out_doc.viewer_settings = ViewerSettings.copy(out_doc, in_doc.viewer_settings)\n",
        "\n",
        "    # Associated files (for PDF/A-3 and PDF 2.0 only)\n",
        "    outAssociatedFiles = out_doc.associated_files\n",
        "    for in_file_ref in in_doc.associated_files:\n",
        "        outAssociatedFiles.append(FileReference.copy(out_doc, in_file_ref))\n",
        "\n",
        "    # Plain embedded files\n",
        "    out_embedded_files = out_doc.plain_embedded_files\n",
        "    for in_file_ref in in_doc.plain_embedded_files:\n",
        "        out_embedded_files.append(FileReference.copy(out_doc, in_file_ref))"
      ]
    },{
      "cell_type": "code",
      "execution_count": null,
      "id": "34b52cd4-caf4-4781-ad96-902d976ff8c7",
      "metadata": {
          "id": "c4da490f-09fc-4fc4-ade4-425170093211"
      },
      "outputs": [],
      "source": [
        "def add_barcode(out_doc: Document, out_page: Page, barcode: str, font: Font, font_size: float):\n",
        "    # Create content generator\n",
        "    with ContentGenerator(out_page.content, False) as gen:\n",
        "        # Create text object\n",
        "        barcode_text = Text.create(out_doc)\n",
        "\n",
        "        #  Create text generator\n",
        "        with TextGenerator(barcode_text, font, font_size, None) as text_generator:\n",
        "            # Calculate position\n",
        "            position = Point(x=out_page.size.width - (text_generator.get_width(barcode) + border), \n",
        "                             y=out_page.size.height - (font_size * (font.ascent + font.descent) + border))\n",
        "\n",
        "            # Move to position\n",
        "            text_generator.move_to(position)\n",
        "            # Add given barcode string\n",
        "            text_generator.show_line(barcode)\n",
        "\n",
        "        # Paint the positioned barcode text\n",
        "        gen.paint_text(barcode_text)"
      ]
    },
    {
      "cell_type": "code",
      "execution_count": null,
      "id": "6fd60174-4493-4010-a9f3-e06ee1f41c95",
      "metadata": {
          "id": "d4f55c6f-adb9-4064-8aa0-f237fdc8f403"
      },
      "outputs": [],
      "source": [
        "try:\n",
        "    # Set and check license key. If the license key is not valid, an exception is thrown.\n",
        "    from pdftools_toolbox.sdk import Sdk\n",
        "    Sdk.initialize(\"INSERT-LICENSE-KEY\", None)\n",

        "\n",
        "    # Define border\n",
        "    border = 20\n",
        "    \n",
        "    # Open input document\n",
        "    with io.FileIO(input_file_path, 'rb') as in_stream:\n",
        "        with Document.open(in_stream, None) as in_doc:\n",
        "    \n",
        "            # Create font stream\n",
        "            with io.FileIO(font_path, 'rb') as font_stream:\n",
        "    \n",
        "                # Create output document\n",
        "                with io.FileIO(output_file_path, 'wb+') as output_stream:\n",
        "                    with Document.create(output_stream, in_doc.conformance, None) as out_doc:\n",
        "    \n",
        "                        # Copy document-wide data\n",
        "                        copy_document_data(in_doc, out_doc)\n",
        "    \n",
        "                        # Create embedded font in output document\n",
        "                        font = Font.create(out_doc, font_stream, True)\n",
        "    \n",
        "                        # Define page copy options\n",
        "                        copy_options = PageCopyOptions()\n",
        "    \n",
        "                        # Copy first page, add barcode, and append to output document\n",
        "                        out_page = Page.copy(out_doc, in_doc.pages[0], copy_options)\n",
        "                        add_barcode(out_doc, out_page, barcode, font, 50.0)\n",
        "                        out_doc.pages.append(out_page)\n",
        "    \n",
        "                        # Copy remaining pages and append to output document\n",
        "                        in_page_range = in_doc.pages[1:]\n",
        "                        copied_pages = PageList.copy(out_doc, in_page_range, copy_options)\n",
        "                        out_doc.pages.extend(copied_pages)\n",

        "\n",
        "    print(\"Execution successful.\")\n",

        "except Exception as e:\n",
        "    print(f\"An error occurred: {e}\")"
      ]
    }
  ],
  "metadata": {
    "kernelspec": {
      "display_name": "Python 3",
      "language": "python",
      "name": "python3"
    },
    "language_info": {
      "codemirror_mode": {
        "name": "ipython",
        "version": 3
      },
      "file_extension": ".py",
      "mimetype": "text/x-python",
      "name": "python",
      "nbconvert_exporter": "python",
      "pygments_lexer": "ipython3",
      "version": "3.12.8"
    },
    "colab": {
      "provenance": []
    }
  },
  "nbformat": 4,
  "nbformat_minor": 5
}