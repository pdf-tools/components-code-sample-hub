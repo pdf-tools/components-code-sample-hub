{
  "cells": [
    {
      "cell_type": "markdown",
      "id": "f9809ec2-1688-4e56-809a-2b8013553a13",
      "metadata": {
          "id": "b0701d95-8208-4634-a984-9e7219850634"
      },
      "source": [
        "[![Open In Colab](https://colab.research.google.com/assets/colab-badge.svg)](https://colab.research.google.com/github/pdf-tools/components-code-sample-hub/blob/main/jupyter/pdftools_toolbox/pdftools_toolbox_add_barcode.ipynb)"
      ]
    },
    {
      "cell_type": "code",
      "execution_count": null,
      "id": "064c89d9-cf22-4ddb-8f2e-ec511be6931c",
      "metadata": {
          "id": "e51d2b06-1d31-43f3-ba7b-f81c33e717cd"
      },
      "outputs": [],
      "source": [
        "%pip install https://pdftools-public-downloads-production.s3.eu-west-1.amazonaws.com/productkits/PDFSDKXT/latest/pdftools_toolbox-latest.tar.gz\n",
        "%pip install ipython"
      ]
    },
    {
      "cell_type": "markdown",
      "id": "3362206c-40ba-41c3-b3b5-01896d656cb1",
      "metadata": {
          "id": "bf251b08-9ed6-4a79-8add-d4eec5e81194"
      },
      "source": [
        "# Add barcode to PDF\n",
        "Generate and add a barcode at a specified position on the\n",
        "first page of a PDF document."
      ]
    },
    {
      "cell_type": "code",
      "execution_count": null,
      "id": "3f412e30-1b62-45c0-a512-dbf1f013b3bc",
      "metadata": {
          "id": "ad738a16-beea-4da9-a9a5-bcd5816522ee"
      },
      "outputs": [],
      "source": [
        "import io\n",
        "from pdftools_toolbox.pdf import Document, FileReference, Metadata, Page, PageCopyOptions, PageList\n",
        "from pdftools_toolbox.geometry.real import Point\n",
        "from pdftools_toolbox.pdf.content import ContentGenerator, Font, IccBasedColorSpace, Text, TextGenerator\n",
        "from pdftools_toolbox.pdf.navigation import ViewerSettings"
      ]
    },
    {
      "cell_type": "code",
      "execution_count": null,
      "id": "1af62197-3a43-4e6e-9058-693a7a2115fd",
      "metadata": {
          "id": "59a218f9-ece2-43a1-91a5-66199198591c"
      },
      "outputs": [],
      "source": [
        "# Download a file from a given URL and save it to the local system\n",
        "def prepare_file(url: str, path: str):\n",
        "    import requests\n",
        "    response = requests.get(url)\n",
        "    response.raise_for_status()\n",
        "\n",
        "    with open(path, 'wb') as f:\n",
        "        f.write(response.content)"
      ]
    },
    {
      "cell_type": "code",
      "execution_count": null,
      "id": "5462ed11-8761-4775-9666-9415e0aa29ac",
      "metadata": {
          "id": "76a3992f-634f-4cb4-b987-b51dcce5fa9c"
      },
      "outputs": [],
      "source": [
        "# Set input arguments\n",
        "input_url = 'https://pdftools-public-downloads-production.s3.eu-west-1.amazonaws.com/samples/testfiles/BlankNoneNoTP.pdf'\n",
        "input_file_path = 'BlankNoneNoTP.pdf'\n",
        "prepare_file(input_url, input_file_path)\n",
        "barcode = \"PDF123\"\n",
        "font_url = 'https://pdftools-public-downloads-production.s3.eu-west-1.amazonaws.com/samples/testfiles/free3of9.ttf'\n",
        "font_path = 'free3of9.ttf'\n",
        "prepare_file(font_url, font_path)\n",
        "output_file_path = 'BlankWithBarcode.pdf'"
      ]
    },
    {
      "cell_type": "code",
      "execution_count": null,
      "id": "793d8954-6ef4-4b77-905c-b4cedefe4c35",
      "metadata": {
          "id": "deafd5c3-fd46-4765-9263-29db4105f4b5"
      },
      "outputs": [],
      "source": [
        "def copy_document_data(in_doc: Document, out_doc: Document):\n",
        "    # Copy document-wide data\n",
        "\n",
        "    # Output intent\n",
        "    if in_doc.output_intent is not None:\n",
        "        in_doc.output_intent = IccBasedColorSpace.copy(out_doc, in_doc.output_intent)\n",
        "\n",
        "    # Metadata\n",
        "    out_doc.metadata = Metadata.copy(out_doc, in_doc.metadata)\n",
        "\n",
        "    # Viewer settings\n",
        "    out_doc.viewer_settings = ViewerSettings.copy(out_doc, in_doc.viewer_settings)\n",
        "\n",
        "    # Associated files (for PDF/A-3 and PDF 2.0 only)\n",
        "    outAssociatedFiles = out_doc.associated_files\n",
        "    for in_file_ref in in_doc.associated_files:\n",
        "        outAssociatedFiles.append(FileReference.copy(out_doc, in_file_ref))\n",
        "\n",
        "    # Plain embedded files\n",
        "    out_embedded_files = out_doc.plain_embedded_files\n",
        "    for in_file_ref in in_doc.plain_embedded_files:\n",
        "        out_embedded_files.append(FileReference.copy(out_doc, in_file_ref))"
      ]
    },
    {
      "cell_type": "code",
      "execution_count": null,
      "id": "c4460a6c-5ae4-4f70-bfe1-a9addc7f5989",
      "metadata": {
          "id": "390b9efd-035f-46fb-9017-3c49cd2ba38a"
      },
      "outputs": [],
      "source": [
        "def add_barcode(out_doc: Document, out_page: Page, barcode: str, font: Font, font_size: float):\n",
        "    # Create content generator\n",
        "    with ContentGenerator(out_page.content, False) as gen:\n",
        "        # Create text object\n",
        "        barcode_text = Text.create(out_doc)\n",
        "\n",
        "        #  Create text generator\n",
        "        with TextGenerator(barcode_text, font, font_size, None) as text_generator:\n",
        "            # Calculate position\n",
        "            position = Point(x=out_page.size.width - (text_generator.get_width(barcode) + border), \n",
        "                             y=out_page.size.height - (font_size * (font.ascent + font.descent) + border))\n",
        "\n",
        "            # Move to position\n",
        "            text_generator.move_to(position)\n",
        "            # Add given barcode string\n",
        "            text_generator.show_line(barcode)\n",
        "\n",
        "        # Paint the positioned barcode text\n",
        "        gen.paint_text(barcode_text)"
      ]
    },
    {
      "cell_type": "code",
      "execution_count": null,
      "id": "32126966-23c1-4a09-b685-925013e43cbd",
      "metadata": {
          "id": "d89c0dc1-8267-451f-b077-68e17a206409"
      },
      "outputs": [],
      "source": [
        "try:\n",
        "    # Set and check license key. If the license key is not valid, an exception is thrown.\n",
        "    from pdftools_toolbox.sdk import Sdk\n",
        "    Sdk.initialize(\"INSERT-LICENSE-KEY\", None)\n",

        "\n",
        "    # Define border\n",
        "    border = 20\n",
        "    \n",
        "    # Open input document\n",
        "    with io.FileIO(input_file_path, 'rb') as in_stream:\n",
        "        with Document.open(in_stream, None) as in_doc:\n",
        "    \n",
        "            # Create font stream\n",
        "            with io.FileIO(font_path, 'rb') as font_stream:\n",
        "    \n",
        "                # Create output document\n",
        "                with io.FileIO(output_file_path, 'wb+') as output_stream:\n",
        "                    with Document.create(output_stream, in_doc.conformance, None) as out_doc:\n",
        "    \n",
        "                        # Copy document-wide data\n",
        "                        copy_document_data(in_doc, out_doc)\n",
        "    \n",
        "                        # Create embedded font in output document\n",
        "                        font = Font.create(out_doc, font_stream, True)\n",
        "    \n",
        "                        # Define page copy options\n",
        "                        copy_options = PageCopyOptions()\n",
        "    \n",
        "                        # Copy first page, add barcode, and append to output document\n",
        "                        out_page = Page.copy(out_doc, in_doc.pages[0], copy_options)\n",
        "                        add_barcode(out_doc, out_page, barcode, font, 50.0)\n",
        "                        out_doc.pages.append(out_page)\n",
        "    \n",
        "                        # Copy remaining pages and append to output document\n",
        "                        in_page_range = in_doc.pages[1:]\n",
        "                        copied_pages = PageList.copy(out_doc, in_page_range, copy_options)\n",
        "                        out_doc.pages.extend(copied_pages)\n",

        "\n",
        "    print(\"Execution successful.\")\n",

        "except Exception as e:\n",
        "    print(f\"An error occurred: {e}\")"
      ]
    }
  ],
  "metadata": {
    "kernelspec": {
      "display_name": "Python 3",
      "language": "python",
      "name": "python3"
    },
    "language_info": {
      "codemirror_mode": {
        "name": "ipython",
        "version": 3
      },
      "file_extension": ".py",
      "mimetype": "text/x-python",
      "name": "python",
      "nbconvert_exporter": "python",
      "pygments_lexer": "ipython3",
      "version": "3.12.8"
    },
    "colab": {
      "provenance": []
    }
  },
  "nbformat": 4,
  "nbformat_minor": 5
}