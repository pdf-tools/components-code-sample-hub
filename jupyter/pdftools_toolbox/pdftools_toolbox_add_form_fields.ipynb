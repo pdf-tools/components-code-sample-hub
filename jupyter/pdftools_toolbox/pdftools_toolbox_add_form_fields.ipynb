{
  "cells": [
    {
      "cell_type": "markdown",
      "id": "07c17107-b4e0-4854-aaec-41a42ca5a6de",
      "metadata": {
          "id": "0bfcd65b-a083-48c5-9947-93969920e0cf"
      },
      "source": [
        "[![Open In Colab](https://colab.research.google.com/assets/colab-badge.svg)](https://colab.research.google.com/github/pdf-tools/components-code-sample-hub/blob/main/jupyter/pdftools_toolbox/pdftools_toolbox_add_form_fields.ipynb)"
      ]
    },
    {
      "cell_type": "code",
      "execution_count": null,
      "id": "259260c2-5b7f-4e4e-991d-a8c0b9d16657",
      "metadata": {
          "id": "4905b80f-9dce-4009-aa73-622fd0587e5f"
      },
      "outputs": [],
      "source": [
        "%pip install pdftools_toolbox\n",
        "%pip install ipython"
      ]
    },
    {
      "cell_type": "markdown",
      "id": "4b4ab3a7-68fb-4ddd-a54c-58e3a59c1105",
      "metadata": {
          "id": "e9cb8534-53e6-4094-961a-543e7f5f512e"
      },
      "source": [
        "# Add Form Field\n",
        "Add form fields to a PDF."
      ]
    },
    {
      "cell_type": "code",
      "execution_count": null,
      "id": "00b4094f-5a42-4cc2-869b-973c72a2097d",
      "metadata": {
          "id": "b2011eff-9f94-4901-9ff6-81a752c54ad1"
      },
      "outputs": [],
      "source": [
        "import io\n",
        "from pdftools_toolbox.pdf import Document, FileReference, Metadata, Page, PageCopyOptions, PageList, CopyStrategy\n",
        "from pdftools_toolbox.geometry.real import Rectangle\n",
        "from pdftools_toolbox.pdf.content import IccBasedColorSpace\n",
        "from pdftools_toolbox.pdf.forms import CheckBox, ComboBox, FieldNode, FormFieldCopyStrategy, GeneralTextField, ListBox, RadioButtonGroup\n",
        "from pdftools_toolbox.pdf.navigation import ViewerSettings"
      ]
    },
    {
      "cell_type": "code",
      "execution_count": null,
      "id": "5187d26f-b10e-45bb-8f81-b8f0c6db1768",
      "metadata": {
          "id": "fdadc19e-56fd-474b-8348-2f0a009803f6"
      },
      "outputs": [],
      "source": [
        "# Download a file from a given URL and save it to the local system\n",
        "def prepare_file(url: str, path: str):\n",
        "    import requests\n",
        "    response = requests.get(url)\n",
        "    response.raise_for_status()\n",
        "\n",
        "    with open(path, 'wb') as f:\n",
        "        f.write(response.content)"
      ]
    },
    {
      "cell_type": "code",
      "execution_count": null,
      "id": "355309b1-349a-461f-a503-86f13aa02b8c",
      "metadata": {
          "id": "96ae6d50-4ef9-4fb9-ac45-beb2aa385c59"
      },
      "outputs": [],
      "source": [
        "# Set input arguments\n",
        "input_url = 'https://pdftools-public-downloads-production.s3.eu-west-1.amazonaws.com/samples/testfiles/Form2NoneNoTP.pdf'\n",
        "input_file_path = 'Form2NoneNoTP.pdf'\n",
        "prepare_file(input_url, input_file_path)\n",
        "output_file_path = 'Form2WithFields.pdf'"
      ]
    },
    {
      "cell_type": "code",
      "execution_count": null,
      "id": "6696eb35-b123-4df5-9071-6ba2e26f7125",
      "metadata": {
          "id": "1e2c7e93-1ede-457a-98fb-bd104054c6e7"
      },
      "outputs": [],
      "source": [
        "def copy_document_data(in_doc: Document, out_doc: Document):\n",
        "    # Copy document-wide data\n",
        "\n",
        "    # Output intent\n",
        "    if in_doc.output_intent is not None:\n",
        "        in_doc.output_intent = IccBasedColorSpace.copy(out_doc, in_doc.output_intent)\n",
        "\n",
        "    # Metadata\n",
        "    out_doc.metadata = Metadata.copy(out_doc, in_doc.metadata)\n",
        "\n",
        "    # Viewer settings\n",
        "    out_doc.viewer_settings = ViewerSettings.copy(out_doc, in_doc.viewer_settings)\n",
        "\n",
        "    # Associated files (for PDF/A-3 and PDF 2.0 only)\n",
        "    outAssociatedFiles = out_doc.associated_files\n",
        "    for in_file_ref in in_doc.associated_files:\n",
        "        outAssociatedFiles.append(FileReference.copy(out_doc, in_file_ref))\n",
        "\n",
        "    # Plain embedded files\n",
        "    out_embedded_files = out_doc.plain_embedded_files\n",
        "    for in_file_ref in in_doc.plain_embedded_files:\n",
        "        out_embedded_files.append(FileReference.copy(out_doc, in_file_ref))"
      ]
    },{
      "cell_type": "code",
      "execution_count": null,
      "id": "1918293f-82ee-4d07-af58-02dc45855b1a",
      "metadata": {
          "id": "fbaad339-81a4-45c6-9d7f-a616de9ce9d9"
      },
      "outputs": [],
      "source": [
        "def add_check_box(doc: Document, field_id: str, is_checked: bool, page: Page, rectangle: Rectangle):\n",
        "    # Create a check box\n",
        "    check_box = CheckBox.create(doc)\n",
        "\n",
        "    # Add the check box to the document\n",
        "    doc.form_fields[field_id] = check_box\n",
        "\n",
        "    # Set the check box's state\n",
        "    check_box.checked = is_checked\n",
        "\n",
        "    # Create a widget and add it to the page's widgets\n",
        "    page.widgets.append(check_box.add_new_widget(rectangle))"
      ]
    },{
      "cell_type": "code",
      "execution_count": null,
      "id": "12fb3526-9096-4366-aa3d-8f3a9f6f335d",
      "metadata": {
          "id": "4613580e-73a0-450c-b949-23f3e4db8ac8"
      },
      "outputs": [],
      "source": [
        "def add_combo_box(doc: Document, field_id: str, item_names: list[str], value: str, page: Page, rectangle: Rectangle):\n",
        "    # Create a combo box\n",
        "    combo_box = ComboBox.create(doc)\n",
        "\n",
        "    # Add the combo box to the document\n",
        "    doc.form_fields[field_id] = combo_box\n",
        "\n",
        "    # Loop over all given item names\n",
        "    for item_name in item_names:\n",
        "        # Create a new choice item\n",
        "        item = combo_box.add_new_item(item_name)\n",
        "\n",
        "        # Check whether this is the chosen item name\n",
        "        if value == item_name:\n",
        "            combo_box.chosen_item = item\n",
        "\n",
        "    if combo_box.chosen_item is None and value:\n",
        "        # If no item has been chosen then assume we want to set the editable item\n",
        "        combo_box.can_edit = True\n",
        "        combo_box.editable_item_name = value\n",
        "\n",
        "    # Create a widget and add it to the page's widgets\n",
        "    page.widgets.append(combo_box.add_new_widget(rectangle))"
      ]
    },{
      "cell_type": "code",
      "execution_count": null,
      "id": "f409fc81-3b73-47ab-9872-fd7990a2a18f",
      "metadata": {
          "id": "4acbb880-b8dd-4d0b-aed8-6477b721ce19"
      },
      "outputs": [],
      "source": [
        "def add_list_box(doc: Document, field_id: str, item_names: list[str], chosen_names: list[str], page: Page, rectangle: Rectangle):\n",
        "    # Create a list box\n",
        "    list_box = ListBox.create(doc)\n",
        "\n",
        "    # Add the list box to the document\n",
        "    doc.form_fields[field_id] = list_box\n",
        "\n",
        "    # Allow multiple selections\n",
        "    list_box.allow_multi_select = True\n",
        "    chosen_items = list_box.chosen_items\n",
        "\n",
        "    # Loop over all given item names\n",
        "    for item_name in item_names:\n",
        "        # Create a new choice item\n",
        "        item = list_box.add_new_item(item_name)\n",
        "\n",
        "        # Check whether to add to the chosen items\n",
        "        if item_name in chosen_names:\n",
        "            chosen_items.append(item)\n",
        "\n",
        "    # Create a widget and add it to the page's widgets\n",
        "    page.widgets.append(list_box.add_new_widget(rectangle))"
      ]
    },{
      "cell_type": "code",
      "execution_count": null,
      "id": "af98f0b3-8aaf-4fb9-b359-10cafa4cb399",
      "metadata": {
          "id": "b4203dee-100a-46b9-b1df-21e281e6ac50"
      },
      "outputs": [],
      "source": [
        "def add_radio_button_group(doc: Document, field_id: str, button_names: list[str], chosen: int, page: Page, rectangle: Rectangle):\n",
        "    # Create a radio button group\n",
        "    group = RadioButtonGroup.create(doc)\n",
        "\n",
        "    # Get the page's widgets\n",
        "    widgets = page.widgets\n",
        "\n",
        "    # Add the radio button group to the document\n",
        "    doc.form_fields[field_id] = group\n",
        "\n",
        "    # We partition the given rectangle horizontally into sub-rectangles, one for each button\n",
        "    #  Compute the width of the sub-rectangles\n",
        "    button_width = (rectangle.right - rectangle.left) / len(button_names)\n",
        "\n",
        "    # Loop over all button names\n",
        "    for i, button_name in enumerate(button_names):\n",
        "        # Compute the sub-rectangle for this button\n",
        "        button_rectangle = Rectangle(\n",
        "            left = rectangle.left + i * button_width,\n",
        "            bottom = rectangle.bottom,\n",
        "            right = rectangle.left + (i + 1) * button_width,\n",
        "            top = rectangle.top\n",
        "        )\n",
        "\n",
        "        # Create the button and associated widget\n",
        "        button = group.add_new_button(button_name)\n",
        "        widget = button.add_new_widget(button_rectangle)\n",
        "\n",
        "        # Check if this is the chosen button\n",
        "        if i == chosen:\n",
        "            group.chosen_button = button\n",
        "\n",
        "        # Add the widget to the page's widgets\n",
        "        widgets.append(widget)"
      ]
    },{
      "cell_type": "code",
      "execution_count": null,
      "id": "d31c9944-5c15-407a-8c05-48a4c3cf911f",
      "metadata": {
          "id": "ba0d78c9-2413-4d0a-9bbe-ecbe97200664"
      },
      "outputs": [],
      "source": [
        "def add_general_text_field(doc: Document, field_id: str, value: str, page: Page, rectangle: Rectangle):\n",
        "    # Create a general text field\n",
        "    text_field = GeneralTextField.create(doc)\n",
        "\n",
        "    # Add the field to the document\n",
        "    doc.form_fields[field_id] = text_field\n",
        "\n",
        "    # Set the text value\n",
        "    text_field.text = value\n",
        "\n",
        "    # Create a widget and add it to the page's widgets\n",
        "    page.widgets.append(text_field.add_new_widget(rectangle))"
      ]
    },
    {
      "cell_type": "code",
      "execution_count": null,
      "id": "6bcb04a9-9f2f-4f8f-8c6a-190a9b1a3474",
      "metadata": {
          "id": "6ae4ad25-e887-4f24-a345-17bfe0f31786"
      },
      "outputs": [],
      "source": [
        "try:\n",
        "    # Set and check license key. If the license key is not valid, an exception is thrown.\n",
        "    from pdftools_toolbox.sdk import Sdk\n",
        "    Sdk.initialize(\"INSERT-LICENSE-KEY\", None)\n",

        "\n",
        "    # Open input document\n",
        "    with io.FileIO(input_file_path, 'rb') as in_stream:\n",
        "        with Document.open(in_stream, None) as in_doc:\n",
        "    \n",
        "            # Create output document\n",
        "            with io.FileIO(output_file_path, 'wb+') as output_stream:\n",
        "                with Document.create(output_stream, in_doc.conformance, None) as out_doc:\n",
        "    \n",
        "                    # Copy document-wide data\n",
        "                    copy_document_data(in_doc, out_doc)\n",
        "    \n",
        "                    # Copy all form fields\n",
        "                    in_form_fields = in_doc.form_fields\n",
        "                    out_form_fields = out_doc.form_fields\n",
        "                    for in_pair_key, in_pair_node in in_form_fields.items():\n",
        "                        out_form_field_node = FieldNode.copy(out_doc, in_pair_node)\n",
        "                        out_form_fields[in_pair_key] = out_form_field_node\n",
        "    \n",
        "                    # Define page copy options\n",
        "                    copy_options = PageCopyOptions()\n",
        "                    copy_options.form_fields = FormFieldCopyStrategy.COPY_AND_UPDATE_WIDGETS\n",
        "                    copy_options.unsigned_signatures = CopyStrategy.REMOVE\n",
        "    \n",
        "                    # Copy first page\n",
        "                    out_page = Page.copy(out_doc, in_doc.pages[0], copy_options)\n",
        "    \n",
        "                    # Add different types of form fields to the output page\n",
        "                    add_check_box(out_doc, \"Check Box ID\", True, out_page, Rectangle(left=50.0, bottom=300.0, right=70.0, top=320.0))\n",
        "                    add_combo_box(out_doc, \"Combo Box ID\", [\"item 1\", \"item 2\"], \"item 1\", out_page, Rectangle(left=50.0, bottom=260.0, right=210.0, top=280.0))\n",
        "                    add_list_box(out_doc, \"List Box ID\", [\"item 1\", \"item 2\", \"item 3\"], [\"item 1\", \"item 3\"], out_page, Rectangle(left=50.0, bottom=160.0, right=210.0, top=240.0))\n",
        "                    add_radio_button_group(out_doc, \"Radio Button ID\", [\"A\", \"B\", \"C\"], 0, out_page, Rectangle(left=50.0, bottom=120.0, right=210.0, top=140.0))\n",
        "                    add_general_text_field(out_doc, \"Text ID\", \"Text\", out_page, Rectangle(left=50.0, bottom=80.0, right=210.0, top=100.0))\n",
        "    \n",
        "                    # Add page to output document\n",
        "                    out_doc.pages.append(out_page)\n",
        "    \n",
        "                    # Copy remaining pages and append to output document\n",
        "                    in_page_range = in_doc.pages[1:]\n",
        "                    copied_pages = PageList.copy(out_doc, in_page_range, copy_options)\n",
        "                    out_doc.pages.extend(copied_pages)\n",

        "\n",
        "    print(\"Execution successful.\")\n",

        "except Exception as e:\n",
        "    print(f\"An error occurred: {e}\")"
      ]
    }
  ],
  "metadata": {
    "kernelspec": {
      "display_name": "Python 3",
      "language": "python",
      "name": "python3"
    },
    "language_info": {
      "codemirror_mode": {
        "name": "ipython",
        "version": 3
      },
      "file_extension": ".py",
      "mimetype": "text/x-python",
      "name": "python",
      "nbconvert_exporter": "python",
      "pygments_lexer": "ipython3",
      "version": "3.12.8"
    },
    "colab": {
      "provenance": []
    }
  },
  "nbformat": 4,
  "nbformat_minor": 5
}