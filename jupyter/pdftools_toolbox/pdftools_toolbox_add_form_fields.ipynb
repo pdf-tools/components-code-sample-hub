{
  "cells": [
    {
      "cell_type": "markdown",
      "id": "2443be3b-17b1-41d6-be0e-3faeccc485d6",
      "metadata": {
          "id": "df7829fa-c7a6-4c78-b5a0-2b79f3d52c26"
      },
      "source": [
        "[![Open In Colab](https://colab.research.google.com/assets/colab-badge.svg)](https://colab.research.google.com/github/pdf-tools/components-code-sample-hub/blob/main/jupyter/pdftools_toolbox/pdftools_toolbox_add_form_fields.ipynb)"
      ]
    },
    {
      "cell_type": "code",
      "execution_count": null,
      "id": "9239313c-d3bc-4f30-8056-0fffeed92eac",
      "metadata": {
          "id": "c875e924-bb1e-4880-b8ab-ad3746edd8bc"
      },
      "outputs": [],
      "source": [
        "%pip install https://pdftools-public-downloads-production.s3.eu-west-1.amazonaws.com/productkits/PDFSDKXT/latest/pdftools_toolbox-latest.tar.gz\n",
        "%pip install ipython"
      ]
    },
    {
      "cell_type": "markdown",
      "id": "24accf90-9dc0-43b2-b662-925e654ad3bf",
      "metadata": {
          "id": "8479de16-c982-4105-a867-6e43feb11881"
      },
      "source": [
        "# Add Form Field\n",
        "Add form fields to a PDF."
      ]
    },
    {
      "cell_type": "code",
      "execution_count": null,
      "id": "0c687214-ee70-4383-b1e6-88c69d1ce29b",
      "metadata": {
          "id": "bd49c7a9-c5fd-44d2-b6b1-863051574148"
      },
      "outputs": [],
      "source": [
        "import io\n",
        "from pdftools_toolbox.pdf import Document, FileReference, Metadata, Page, PageCopyOptions, PageList, CopyStrategy\n",
        "from pdftools_toolbox.geometry.real import Rectangle\n",
        "from pdftools_toolbox.pdf.content import IccBasedColorSpace\n",
        "from pdftools_toolbox.pdf.forms import CheckBox, ComboBox, FieldNode, FormFieldCopyStrategy, GeneralTextField, ListBox, RadioButtonGroup\n",
        "from pdftools_toolbox.pdf.navigation import ViewerSettings"
      ]
    },
    {
      "cell_type": "code",
      "execution_count": null,
      "id": "2f9cd7f2-0b4d-468d-a4ca-47f49f7338be",
      "metadata": {
          "id": "90191b5c-a5c2-4e74-8c0f-e911ad02c2d6"
      },
      "outputs": [],
      "source": [
        "# Download a file from a given URL and save it to the local system\n",
        "def prepare_file(url: str, path: str):\n",
        "    import requests\n",
        "    response = requests.get(url)\n",
        "    response.raise_for_status()\n",
        "\n",
        "    with open(path, 'wb') as f:\n",
        "        f.write(response.content)"
      ]
    },
    {
      "cell_type": "code",
      "execution_count": null,
      "id": "67eab4a1-0aee-4fe6-b61c-bea843351e9d",
      "metadata": {
          "id": "0852af38-25ed-4a96-8bf1-7e1b311bf8bf"
      },
      "outputs": [],
      "source": [
        "# Set input arguments\n",
        "input_url = 'https://pdftools-public-downloads-production.s3.eu-west-1.amazonaws.com/samples/testfiles/Form2NoneNoTP.pdf'\n",
        "input_file_path = 'Form2NoneNoTP.pdf'\n",
        "prepare_file(input_url, input_file_path)\n",
        "output_file_path = 'Form2WithFields.pdf'"
      ]
    },
    {
      "cell_type": "code",
      "execution_count": null,
      "id": "e8085241-0b99-4567-b9f5-f72bccc84cd3",
      "metadata": {
          "id": "6c7b82b8-f8e9-45e1-96fd-e171eb13fbf4"
      },
      "outputs": [],
      "source": [
        "def copy_document_data(in_doc: Document, out_doc: Document):\n",
        "    # Copy document-wide data\n",
        "\n",
        "    # Output intent\n",
        "    if in_doc.output_intent is not None:\n",
        "        in_doc.output_intent = IccBasedColorSpace.copy(out_doc, in_doc.output_intent)\n",
        "\n",
        "    # Metadata\n",
        "    out_doc.metadata = Metadata.copy(out_doc, in_doc.metadata)\n",
        "\n",
        "    # Viewer settings\n",
        "    out_doc.viewer_settings = ViewerSettings.copy(out_doc, in_doc.viewer_settings)\n",
        "\n",
        "    # Associated files (for PDF/A-3 and PDF 2.0 only)\n",
        "    outAssociatedFiles = out_doc.associated_files\n",
        "    for in_file_ref in in_doc.associated_files:\n",
        "        outAssociatedFiles.append(FileReference.copy(out_doc, in_file_ref))\n",
        "\n",
        "    # Plain embedded files\n",
        "    out_embedded_files = out_doc.plain_embedded_files\n",
        "    for in_file_ref in in_doc.plain_embedded_files:\n",
        "        out_embedded_files.append(FileReference.copy(out_doc, in_file_ref))"
      ]
    },
    {
      "cell_type": "code",
      "execution_count": null,
      "id": "1dfb81fc-8b38-43ed-aa4e-f80add635631",
      "metadata": {
          "id": "2c086d26-c92e-442d-9512-e61fdc98bbb5"
      },
      "outputs": [],
      "source": [
        "def add_check_box(doc: Document, field_id: str, is_checked: bool, page: Page, rectangle: Rectangle):\n",
        "    # Create a check box\n",
        "    check_box = CheckBox.create(doc)\n",
        "\n",
        "    # Add the check box to the document\n",
        "    doc.form_fields[field_id] = check_box\n",
        "\n",
        "    # Set the check box's state\n",
        "    check_box.checked = is_checked\n",
        "\n",
        "    # Create a widget and add it to the page's widgets\n",
        "    page.widgets.append(check_box.add_new_widget(rectangle))"
      ]
    },
    {
      "cell_type": "code",
      "execution_count": null,
      "id": "7826b791-08ff-4502-aeff-c5a415e1ed51",
      "metadata": {
          "id": "b3652d2b-cd03-4208-bb43-4e17cdac3fcf"
      },
      "outputs": [],
      "source": [
        "def add_combo_box(doc: Document, field_id: str, item_names: list[str], value: str, page: Page, rectangle: Rectangle):\n",
        "    # Create a combo box\n",
        "    combo_box = ComboBox.create(doc)\n",
        "\n",
        "    # Add the combo box to the document\n",
        "    doc.form_fields[field_id] = combo_box\n",
        "\n",
        "    # Loop over all given item names\n",
        "    for item_name in item_names:\n",
        "        # Create a new choice item\n",
        "        item = combo_box.add_new_item(item_name)\n",
        "\n",
        "        # Check whether this is the chosen item name\n",
        "        if value == item_name:\n",
        "            combo_box.chosen_item = item\n",
        "\n",
        "    if combo_box.chosen_item is None and value:\n",
        "        # If no item has been chosen then assume we want to set the editable item\n",
        "        combo_box.can_edit = True\n",
        "        combo_box.editable_item_name = value\n",
        "\n",
        "    # Create a widget and add it to the page's widgets\n",
        "    page.widgets.append(combo_box.add_new_widget(rectangle))"
      ]
    },
    {
      "cell_type": "code",
      "execution_count": null,
      "id": "62d57731-7a7a-485f-8001-c1497e3a8139",
      "metadata": {
          "id": "b9286680-664a-4c80-bd09-4bd98117c793"
      },
      "outputs": [],
      "source": [
        "def add_list_box(doc: Document, field_id: str, item_names: list[str], chosen_names: list[str], page: Page, rectangle: Rectangle):\n",
        "    # Create a list box\n",
        "    list_box = ListBox.create(doc)\n",
        "\n",
        "    # Add the list box to the document\n",
        "    doc.form_fields[field_id] = list_box\n",
        "\n",
        "    # Allow multiple selections\n",
        "    list_box.allow_multi_select = True\n",
        "    chosen_items = list_box.chosen_items\n",
        "\n",
        "    # Loop over all given item names\n",
        "    for item_name in item_names:\n",
        "        # Create a new choice item\n",
        "        item = list_box.add_new_item(item_name)\n",
        "\n",
        "        # Check whether to add to the chosen items\n",
        "        if item_name in chosen_names:\n",
        "            chosen_items.append(item)\n",
        "\n",
        "    # Create a widget and add it to the page's widgets\n",
        "    page.widgets.append(list_box.add_new_widget(rectangle))"
      ]
    },
    {
      "cell_type": "code",
      "execution_count": null,
      "id": "aba809a1-f0dc-4969-96b5-65a42728ee27",
      "metadata": {
          "id": "e6d9e468-5f9c-44e2-a22e-7b01944708ad"
      },
      "outputs": [],
      "source": [
        "def add_radio_button_group(doc: Document, field_id: str, button_names: list[str], chosen: int, page: Page, rectangle: Rectangle):\n",
        "    # Create a radio button group\n",
        "    group = RadioButtonGroup.create(doc)\n",
        "\n",
        "    # Get the page's widgets\n",
        "    widgets = page.widgets\n",
        "\n",
        "    # Add the radio button group to the document\n",
        "    doc.form_fields[field_id] = group\n",
        "\n",
        "    # We partition the given rectangle horizontally into sub-rectangles, one for each button\n",
        "    #  Compute the width of the sub-rectangles\n",
        "    button_width = (rectangle.right - rectangle.left) / len(button_names)\n",
        "\n",
        "    # Loop over all button names\n",
        "    for i, button_name in enumerate(button_names):\n",
        "        # Compute the sub-rectangle for this button\n",
        "        button_rectangle = Rectangle(\n",
        "            left = rectangle.left + i * button_width,\n",
        "            bottom = rectangle.bottom,\n",
        "            right = rectangle.left + (i + 1) * button_width,\n",
        "            top = rectangle.top\n",
        "        )\n",
        "\n",
        "        # Create the button and associated widget\n",
        "        button = group.add_new_button(button_name)\n",
        "        widget = button.add_new_widget(button_rectangle)\n",
        "\n",
        "        # Check if this is the chosen button\n",
        "        if i == chosen:\n",
        "            group.chosen_button = button\n",
        "\n",
        "        # Add the widget to the page's widgets\n",
        "        widgets.append(widget)"
      ]
    },
    {
      "cell_type": "code",
      "execution_count": null,
      "id": "d51928b8-f769-4e09-b2a1-e8cb01464b3b",
      "metadata": {
          "id": "a960ee92-56cb-4425-b89a-fc5672d217e3"
      },
      "outputs": [],
      "source": [
        "def add_general_text_field(doc: Document, field_id: str, value: str, page: Page, rectangle: Rectangle):\n",
        "    # Create a general text field\n",
        "    text_field = GeneralTextField.create(doc)\n",
        "\n",
        "    # Add the field to the document\n",
        "    doc.form_fields[field_id] = text_field\n",
        "\n",
        "    # Set the text value\n",
        "    text_field.text = value\n",
        "\n",
        "    # Create a widget and add it to the page's widgets\n",
        "    page.widgets.append(text_field.add_new_widget(rectangle))"
      ]
    },
    {
      "cell_type": "code",
      "execution_count": null,
      "id": "a50f9106-5345-45af-9cf1-6e2eace67d29",
      "metadata": {
          "id": "5c336fbd-7a21-4337-9409-222300ccee37"
      },
      "outputs": [],
      "source": [
        "try:\n",
        "    # Set and check license key. If the license key is not valid, an exception is thrown.\n",
        "    from pdftools_toolbox.sdk import Sdk\n",
        "    Sdk.initialize(\"INSERT-LICENSE-KEY\", None)\n",

        "\n",
        "    # Open input document\n",
        "    with io.FileIO(input_file_path, 'rb') as in_stream:\n",
        "        with Document.open(in_stream, None) as in_doc:\n",
        "    \n",
        "            # Create output document\n",
        "            with io.FileIO(output_file_path, 'wb+') as output_stream:\n",
        "                with Document.create(output_stream, in_doc.conformance, None) as out_doc:\n",
        "    \n",
        "                    # Copy document-wide data\n",
        "                    copy_document_data(in_doc, out_doc)\n",
        "    \n",
        "                    # Copy all form fields\n",
        "                    in_form_fields = in_doc.form_fields\n",
        "                    out_form_fields = out_doc.form_fields\n",
        "                    for in_pair_key, in_pair_node in in_form_fields.items():\n",
        "                        out_form_field_node = FieldNode.copy(out_doc, in_pair_node)\n",
        "                        out_form_fields[in_pair_key] = out_form_field_node\n",
        "    \n",
        "                    # Define page copy options\n",
        "                    copy_options = PageCopyOptions()\n",
        "                    copy_options.form_fields = FormFieldCopyStrategy.COPY_AND_UPDATE_WIDGETS\n",
        "                    copy_options.unsigned_signatures = CopyStrategy.REMOVE\n",
        "    \n",
        "                    # Copy first page\n",
        "                    out_page = Page.copy(out_doc, in_doc.pages[0], copy_options)\n",
        "    \n",
        "                    # Add different types of form fields to the output page\n",
        "                    add_check_box(out_doc, \"Check Box ID\", True, out_page, Rectangle(left=50.0, bottom=300.0, right=70.0, top=320.0))\n",
        "                    add_combo_box(out_doc, \"Combo Box ID\", [\"item 1\", \"item 2\"], \"item 1\", out_page, Rectangle(left=50.0, bottom=260.0, right=210.0, top=280.0))\n",
        "                    add_list_box(out_doc, \"List Box ID\", [\"item 1\", \"item 2\", \"item 3\"], [\"item 1\", \"item 3\"], out_page, Rectangle(left=50.0, bottom=160.0, right=210.0, top=240.0))\n",
        "                    add_radio_button_group(out_doc, \"Radio Button ID\", [\"A\", \"B\", \"C\"], 0, out_page, Rectangle(left=50.0, bottom=120.0, right=210.0, top=140.0))\n",
        "                    add_general_text_field(out_doc, \"Text ID\", \"Text\", out_page, Rectangle(left=50.0, bottom=80.0, right=210.0, top=100.0))\n",
        "    \n",
        "                    # Add page to output document\n",
        "                    out_doc.pages.append(out_page)\n",
        "    \n",
        "                    # Copy remaining pages and append to output document\n",
        "                    in_page_range = in_doc.pages[1:]\n",
        "                    copied_pages = PageList.copy(out_doc, in_page_range, copy_options)\n",
        "                    out_doc.pages.extend(copied_pages)\n",

        "\n",
        "    print(\"Execution successful.\")\n",

        "except Exception as e:\n",
        "    print(f\"An error occurred: {e}\")"
      ]
    }
  ],
  "metadata": {
    "kernelspec": {
      "display_name": "Python 3",
      "language": "python",
      "name": "python3"
    },
    "language_info": {
      "codemirror_mode": {
        "name": "ipython",
        "version": 3
      },
      "file_extension": ".py",
      "mimetype": "text/x-python",
      "name": "python",
      "nbconvert_exporter": "python",
      "pygments_lexer": "ipython3",
      "version": "3.12.8"
    },
    "colab": {
      "provenance": []
    }
  },
  "nbformat": 4,
  "nbformat_minor": 5
}