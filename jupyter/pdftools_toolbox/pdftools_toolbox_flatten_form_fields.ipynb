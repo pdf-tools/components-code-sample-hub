{
  "cells": [
    {
      "cell_type": "markdown",
      "id": "2184e81b-0587-4b35-8b93-9c9cf7452e5b",
      "metadata": {
          "id": "89a10ea0-67fb-4303-880d-42b482019b62"
      },
      "source": [
        "[![Open In Colab](https://colab.research.google.com/assets/colab-badge.svg)](https://colab.research.google.com/github/pdf-tools/components-code-sample-hub/blob/main/jupyter/pdftools_toolbox/pdftools_toolbox_flatten_form_fields.ipynb)"
      ]
    },
    {
      "cell_type": "code",
      "execution_count": null,
      "id": "a1b3793b-e904-4118-9849-49f6140d6dcf",
      "metadata": {
          "id": "63342e50-6c5e-47ab-8113-3b4b54ab6012"
      },
      "outputs": [],
      "source": [
        "%pip install https://pdftools-public-downloads-production.s3.eu-west-1.amazonaws.com/productkits/PDFSDKXT/latest/pdftools_toolbox-latest.tar.gz\n",
        "%pip install ipython"
      ]
    },
    {
      "cell_type": "markdown",
      "id": "f5ca8a1e-b2f7-4f42-99e8-3df9236d3db9",
      "metadata": {
          "id": "817e1a04-2061-433a-bbbf-b76bd0c6d0f7"
      },
      "source": [
        "# Flatten form fields in PDF\n",
        "Flatten the visual appearance of form fields and discard\n",
        "all interactive elements."
      ]
    },
    {
      "cell_type": "code",
      "execution_count": null,
      "id": "8e1d128a-17de-4dda-90a9-02c1b2247a02",
      "metadata": {
          "id": "e1b8b1a6-9281-4207-8ce5-db3389da96b0"
      },
      "outputs": [],
      "source": [
        "import io\n",
        "from pdftools_toolbox.pdf import Document, FileReference, Metadata, PageList, PageCopyOptions\n",
        "from pdftools_toolbox.pdf.content import IccBasedColorSpace\n",
        "from pdftools_toolbox.pdf.forms import FormFieldCopyStrategy\n",
        "from pdftools_toolbox.pdf.navigation import ViewerSettings"
      ]
    },
    {
      "cell_type": "code",
      "execution_count": null,
      "id": "6340e185-942e-4ac1-929b-7cc866b52026",
      "metadata": {
          "id": "42688f3b-22b5-4d4f-ada6-51334d4b40de"
      },
      "outputs": [],
      "source": [
        "# Download a file from a given URL and save it to the local system\n",
        "def prepare_file(url: str, path: str):\n",
        "    import requests\n",
        "    response = requests.get(url)\n",
        "    response.raise_for_status()\n",
        "\n",
        "    with open(path, 'wb') as f:\n",
        "        f.write(response.content)"
      ]
    },
    {
      "cell_type": "code",
      "execution_count": null,
      "id": "9cc08ea1-6a39-4f05-a440-4d85aca03d23",
      "metadata": {
          "id": "9ba5ee15-7ba6-4a55-8395-4e5307598a9f"
      },
      "outputs": [],
      "source": [
        "# Set input arguments\n",
        "input_url = 'https://pdftools-public-downloads-production.s3.eu-west-1.amazonaws.com/samples/testfiles/FormNone.pdf'\n",
        "input_file_path = 'FormNone.pdf'\n",
        "prepare_file(input_url, input_file_path)\n",
        "output_file_path = 'FormFlattened.pdf'"
      ]
    },
    {
      "cell_type": "code",
      "execution_count": null,
      "id": "d2d5fb87-c783-48ed-8458-d7c9720a0d24",
      "metadata": {
          "id": "22b97963-1d26-47af-802e-63f786909765"
      },
      "outputs": [],
      "source": [
        "def copy_document_data(in_doc: Document, out_doc: Document):\n",
        "    # Copy document-wide data\n",
        "\n",
        "    # Output intent\n",
        "    if in_doc.output_intent is not None:\n",
        "        in_doc.output_intent = IccBasedColorSpace.copy(out_doc, in_doc.output_intent)\n",
        "\n",
        "    # Metadata\n",
        "    out_doc.metadata = Metadata.copy(out_doc, in_doc.metadata)\n",
        "\n",
        "    # Viewer settings\n",
        "    out_doc.viewer_settings = ViewerSettings.copy(out_doc, in_doc.viewer_settings)\n",
        "\n",
        "    # Associated files (for PDF/A-3 and PDF 2.0 only)\n",
        "    outAssociatedFiles = out_doc.associated_files\n",
        "    for in_file_ref in in_doc.associated_files:\n",
        "        outAssociatedFiles.append(FileReference.copy(out_doc, in_file_ref))\n",
        "\n",
        "    # Plain embedded files\n",
        "    out_embedded_files = out_doc.plain_embedded_files\n",
        "    for in_file_ref in in_doc.plain_embedded_files:\n",
        "        out_embedded_files.append(FileReference.copy(out_doc, in_file_ref))"
      ]
    },
    {
      "cell_type": "code",
      "execution_count": null,
      "id": "0cbbf200-af8a-4b32-8e15-337f4a05df48",
      "metadata": {
          "id": "e8cd94d8-0ea9-4d69-9ecf-7c27e497ef9f"
      },
      "outputs": [],
      "source": [
        "try:\n",
        "    # Set and check license key. If the license key is not valid, an exception is thrown.\n",
        "    from pdftools_toolbox.sdk import Sdk\n",
        "    Sdk.initialize(\"<PDFSDK,V1,MGAASQD6L2JMQHL54PK08RQX8GG4SS0M8DAHVPH0VMP3NB8R9DUK>\", None)\n",

        "\n",
        "    # Open input document\n",
        "    with io.FileIO(input_file_path, \"rb\") as in_stream:\n",
        "        with Document.open(in_stream, None) as in_doc:\n",
        "    \n",
        "            # Create output document\n",
        "            with io.FileIO(output_file_path, \"wb+\") as out_stream:\n",
        "                with Document.create(out_stream, in_doc.conformance, None) as out_doc:\n",
        "    \n",
        "                    # Copy document-wide data\n",
        "                    copy_document_data(in_doc, out_doc)\n",
        "    \n",
        "                    # Set form field flattening options\n",
        "                    copy_options = PageCopyOptions()\n",
        "                    copy_options.form_fields = FormFieldCopyStrategy.FLATTEN\n",
        "    \n",
        "                    # Copy all pages with flattening options\n",
        "                    copied_pages = PageList.copy(out_doc, in_doc.pages, copy_options)\n",
        "                    out_doc.pages.extend(copied_pages)\n",

        "\n",
        "    print(\"Execution successful.\")\n",

        "except Exception as e:\n",
        "    print(f\"An error occurred: {e}\")"
      ]
    }
  ],
  "metadata": {
    "kernelspec": {
      "display_name": "Python 3",
      "language": "python",
      "name": "python3"
    },
    "language_info": {
      "codemirror_mode": {
        "name": "ipython",
        "version": 3
      },
      "file_extension": ".py",
      "mimetype": "text/x-python",
      "name": "python",
      "nbconvert_exporter": "python",
      "pygments_lexer": "ipython3",
      "version": "3.12.8"
    },
    "colab": {
      "provenance": []
    }
  },
  "nbformat": 4,
  "nbformat_minor": 5
}