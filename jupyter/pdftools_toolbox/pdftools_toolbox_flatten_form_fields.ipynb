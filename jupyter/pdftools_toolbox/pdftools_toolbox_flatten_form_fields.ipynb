{
  "cells": [
    {
      "cell_type": "markdown",
      "id": "e85cf816-0781-4b70-bfcc-92d14f145a50",
      "metadata": {
          "id": "c96e4208-3447-451e-80d7-822d2ce2d396"
      },
      "source": [
        "[![Open In Colab](https://colab.research.google.com/assets/colab-badge.svg)](https://colab.research.google.com/github/pdf-tools/components-code-sample-hub/blob/main/jupyter/pdftools_toolbox/pdftools_toolbox_flatten_form_fields.ipynb)"
      ]
    },
    {
      "cell_type": "code",
      "execution_count": null,
      "id": "870c13be-a5f6-4b52-a82d-793b151d32ad",
      "metadata": {
          "id": "70269c4f-eab3-46ed-b1b2-d1605bd1bab9"
      },
      "outputs": [],
      "source": [
        "%pip install pdftools_toolbox\n",
        "%pip install ipython"
      ]
    },
    {
      "cell_type": "markdown",
      "id": "96e8a105-0114-4181-b59c-ff6155437961",
      "metadata": {
          "id": "f8e3db16-a18f-4ad4-885a-35fbd27ce421"
      },
      "source": [
        "# Flatten form fields in PDF\n",
        "Flatten the visual appearance of form fields and discard\n",
        "all interactive elements."
      ]
    },
    {
      "cell_type": "code",
      "execution_count": null,
      "id": "1cbe9d77-4017-495b-ad99-7bfadcb6fa48",
      "metadata": {
          "id": "5e8acd91-7684-42a7-b017-14b02b12c278"
      },
      "outputs": [],
      "source": [
        "import io\n",
        "from pdftools_toolbox.pdf import Document, FileReference, Metadata, PageList, PageCopyOptions\n",
        "from pdftools_toolbox.pdf.content import IccBasedColorSpace\n",
        "from pdftools_toolbox.pdf.forms import FormFieldCopyStrategy\n",
        "from pdftools_toolbox.pdf.navigation import ViewerSettings"
      ]
    },
    {
      "cell_type": "code",
      "execution_count": null,
      "id": "8a629744-cb8c-4077-ab5e-95e182272daf",
      "metadata": {
          "id": "ee7c0627-1607-4f64-93a2-3eb28a131a43"
      },
      "outputs": [],
      "source": [
        "# Download a file from a given URL and save it to the local system\n",
        "def prepare_file(url: str, path: str):\n",
        "    import requests\n",
        "    response = requests.get(url)\n",
        "    response.raise_for_status()\n",
        "\n",
        "    with open(path, 'wb') as f:\n",
        "        f.write(response.content)"
      ]
    },
    {
      "cell_type": "code",
      "execution_count": null,
      "id": "364b63d6-0ca8-4252-9110-bf256ddc9b5b",
      "metadata": {
          "id": "c4298815-134f-4b29-b6d6-f3f4ac578b7e"
      },
      "outputs": [],
      "source": [
        "# Set input arguments\n",
        "input_url = 'https://pdftools-public-downloads-production.s3.eu-west-1.amazonaws.com/samples/testfiles/FormNone.pdf'\n",
        "input_file_path = 'FormNone.pdf'\n",
        "prepare_file(input_url, input_file_path)\n",
        "output_file_path = 'FormFlattened.pdf'"
      ]
    },
    {
      "cell_type": "code",
      "execution_count": null,
      "id": "195d9d5d-443e-4b77-bdbe-510479d96e3a",
      "metadata": {
          "id": "bec6abd9-891c-4ef7-bed2-6187b5d783cc"
      },
      "outputs": [],
      "source": [
        "def copy_document_data(in_doc: Document, out_doc: Document):\n",
        "    # Copy document-wide data\n",
        "\n",
        "    # Output intent\n",
        "    if in_doc.output_intent is not None:\n",
        "        in_doc.output_intent = IccBasedColorSpace.copy(out_doc, in_doc.output_intent)\n",
        "\n",
        "    # Metadata\n",
        "    out_doc.metadata = Metadata.copy(out_doc, in_doc.metadata)\n",
        "\n",
        "    # Viewer settings\n",
        "    out_doc.viewer_settings = ViewerSettings.copy(out_doc, in_doc.viewer_settings)\n",
        "\n",
        "    # Associated files (for PDF/A-3 and PDF 2.0 only)\n",
        "    outAssociatedFiles = out_doc.associated_files\n",
        "    for in_file_ref in in_doc.associated_files:\n",
        "        outAssociatedFiles.append(FileReference.copy(out_doc, in_file_ref))\n",
        "\n",
        "    # Plain embedded files\n",
        "    out_embedded_files = out_doc.plain_embedded_files\n",
        "    for in_file_ref in in_doc.plain_embedded_files:\n",
        "        out_embedded_files.append(FileReference.copy(out_doc, in_file_ref))"
      ]
    },
    {
      "cell_type": "code",
      "execution_count": null,
      "id": "6767e19b-cf06-4c64-8039-cc8b2cdd29d3",
      "metadata": {
          "id": "f4ef2015-bbe2-4da5-897a-69e9d221a3d0"
      },
      "outputs": [],
      "source": [
        "try:\n",
        "    # Set and check license key. If the license key is not valid, an exception is thrown.\n",
        "    from pdftools_toolbox.sdk import Sdk\n",
        "    Sdk.initialize(\"INSERT-LICENSE-KEY\", None)\n",

        "\n",
        "    # Open input document\n",
        "    with io.FileIO(input_file_path, \"rb\") as in_stream:\n",
        "        with Document.open(in_stream, None) as in_doc:\n",
        "    \n",
        "            # Create output document\n",
        "            with io.FileIO(output_file_path, \"wb+\") as out_stream:\n",
        "                with Document.create(out_stream, in_doc.conformance, None) as out_doc:\n",
        "    \n",
        "                    # Copy document-wide data\n",
        "                    copy_document_data(in_doc, out_doc)\n",
        "    \n",
        "                    # Set form field flattening options\n",
        "                    copy_options = PageCopyOptions()\n",
        "                    copy_options.form_fields = FormFieldCopyStrategy.FLATTEN\n",
        "    \n",
        "                    # Copy all pages with flattening options\n",
        "                    copied_pages = PageList.copy(out_doc, in_doc.pages, copy_options)\n",
        "                    out_doc.pages.extend(copied_pages)\n",

        "\n",
        "    print(\"Execution successful.\")\n",

        "except Exception as e:\n",
        "    print(f\"An error occurred: {e}\")"
      ]
    }
  ],
  "metadata": {
    "kernelspec": {
      "display_name": "Python 3",
      "language": "python",
      "name": "python3"
    },
    "language_info": {
      "codemirror_mode": {
        "name": "ipython",
        "version": 3
      },
      "file_extension": ".py",
      "mimetype": "text/x-python",
      "name": "python",
      "nbconvert_exporter": "python",
      "pygments_lexer": "ipython3",
      "version": "3.12.8"
    },
    "colab": {
      "provenance": []
    }
  },
  "nbformat": 4,
  "nbformat_minor": 5
}