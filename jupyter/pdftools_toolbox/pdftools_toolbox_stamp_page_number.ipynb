{
  "cells": [
    {
      "cell_type": "markdown",
      "id": "9342942e-de1a-41ce-b2fd-73165f61f5db",
      "metadata": {
          "id": "262a684c-1795-4a0e-8962-6db0ef4f4642"
      },
      "source": [
        "[![Open In Colab](https://colab.research.google.com/assets/colab-badge.svg)](https://colab.research.google.com/github/pdf-tools/components-code-sample-hub/blob/main/jupyter/pdftools_toolbox/pdftools_toolbox_stamp_page_number.ipynb)"
      ]
    },
    {
      "cell_type": "code",
      "execution_count": null,
      "id": "bca30435-8cde-4604-8f9d-0572045e2c9c",
      "metadata": {
          "id": "0772d240-689b-4fc7-a0f5-65f38acf26d3"
      },
      "outputs": [],
      "source": [
        "%pip install pdftools_toolbox\n",
        "%pip install ipython"
      ]
    },
    {
      "cell_type": "markdown",
      "id": "8c88f3c9-af82-4114-8bfe-d19e7a2ee93c",
      "metadata": {
          "id": "0907478e-b883-4ddd-96e1-5e1ceee40d7f"
      },
      "source": [
        "# Stamp page number to PDF\n",
        "Stamp the page number to the footer of each page of a PDF\n",
        "document."
      ]
    },
    {
      "cell_type": "code",
      "execution_count": null,
      "id": "c8fb37a7-93a2-4f96-8382-32f4221623ed",
      "metadata": {
          "id": "131623b8-b09a-4088-b5af-8788975f32cc"
      },
      "outputs": [],
      "source": [
        "import io\n",
        "from pdftools_toolbox.geometry.real import Point\n",
        "from pdftools_toolbox.pdf import Document, FileReference, Metadata, PageCopyOptions, Page\n",
        "from pdftools_toolbox.pdf.content import ContentGenerator, Font, IccBasedColorSpace, Text, TextGenerator\n",
        "from pdftools_toolbox.pdf.navigation import ViewerSettings"
      ]
    },
    {
      "cell_type": "code",
      "execution_count": null,
      "id": "c5ebfd09-1f13-4367-ac8a-17f975e97f44",
      "metadata": {
          "id": "d542c526-da5e-4fa4-8cf3-e0f34acf8cd3"
      },
      "outputs": [],
      "source": [
        "# Download a file from a given URL and save it to the local system\n",
        "def prepare_file(url: str, path: str):\n",
        "    import requests\n",
        "    response = requests.get(url)\n",
        "    response.raise_for_status()\n",
        "\n",
        "    with open(path, 'wb') as f:\n",
        "        f.write(response.content)"
      ]
    },
    {
      "cell_type": "code",
      "execution_count": null,
      "id": "3392100b-72d2-41d1-9b12-d5a9c69420f9",
      "metadata": {
          "id": "61509945-9263-40f0-a46d-e9496a2ef986"
      },
      "outputs": [],
      "source": [
        "# Set input arguments\n",
        "input_url = 'https://pdftools-public-downloads-production.s3.eu-west-1.amazonaws.com/samples/testfiles/InvoiceNone.pdf'\n",
        "input_file_path = 'InvoiceNone.pdf'\n",
        "prepare_file(input_url, input_file_path)\n",
        "output_file_path = 'NumberedPages.pdf'"
      ]
    },
    {
      "cell_type": "code",
      "execution_count": null,
      "id": "010e07f0-54ba-4e4d-aa91-6f08655e87e8",
      "metadata": {
          "id": "84b23c8e-6367-419f-8423-7dfcd9151417"
      },
      "outputs": [],
      "source": [
        "def copy_document_data(in_doc: Document, out_doc: Document):\n",
        "    # Copy document-wide data\n",
        "\n",
        "    # Output intent\n",
        "    if in_doc.output_intent is not None:\n",
        "        in_doc.output_intent = IccBasedColorSpace.copy(out_doc, in_doc.output_intent)\n",
        "\n",
        "    # Metadata\n",
        "    out_doc.metadata = Metadata.copy(out_doc, in_doc.metadata)\n",
        "\n",
        "    # Viewer settings\n",
        "    out_doc.viewer_settings = ViewerSettings.copy(out_doc, in_doc.viewer_settings)\n",
        "\n",
        "    # Associated files (for PDF/A-3 and PDF 2.0 only)\n",
        "    outAssociatedFiles = out_doc.associated_files\n",
        "    for in_file_ref in in_doc.associated_files:\n",
        "        outAssociatedFiles.append(FileReference.copy(out_doc, in_file_ref))\n",
        "\n",
        "    # Plain embedded files\n",
        "    out_embedded_files = out_doc.plain_embedded_files\n",
        "    for in_file_ref in in_doc.plain_embedded_files:\n",
        "        out_embedded_files.append(FileReference.copy(out_doc, in_file_ref))"
      ]
    },{
      "cell_type": "code",
      "execution_count": null,
      "id": "217df24f-7d76-439c-843b-a59a65b50452",
      "metadata": {
          "id": "9b5e37c5-58e7-40b5-9ec7-9b2de21257d7"
      },
      "outputs": [],
      "source": [
        "def add_page_number(out_doc, out_page, font, page_number):\n",
        "    \"\"\"Stamp the page number on the specified page.\"\"\"\n",
        "    # Create content generator\n",
        "    with ContentGenerator(out_page.content, False) as generator:\n",
        "        # Create text object\n",
        "        text = Text.create(out_doc)\n",
        "\n",
        "        # Create a text generator with the given font, size, and position\n",
        "        with TextGenerator(text, font, 8, None) as text_generator:\n",
        "            # Generate string to be stamped as the page number\n",
        "            stamp_text = f\"Page {page_number}\"\n",
        "\n",
        "            # Calculate position for centering text at the bottom of the page\n",
        "            position = Point(\n",
        "                x=(out_page.size.width / 2) - (text_generator.get_width(stamp_text) / 2),\n",
        "                y=10\n",
        "            )\n",
        "\n",
        "            # Position the text\n",
        "            text_generator.move_to(position)\n",
        "            # Add page number\n",
        "            text_generator.show(stamp_text)\n",
        "\n",
        "        # Paint the positioned text\n",
        "        generator.paint_text(text)"
      ]
    },
    {
      "cell_type": "code",
      "execution_count": null,
      "id": "d925a7ee-88cd-417b-a694-55a5cfa1516d",
      "metadata": {
          "id": "b9644723-febb-4a63-ade2-898b547b3808"
      },
      "outputs": [],
      "source": [
        "try:\n",
        "    # Set and check license key. If the license key is not valid, an exception is thrown.\n",
        "    from pdftools_toolbox.sdk import Sdk\n",
        "    Sdk.initialize(\"INSERT-LICENSE-KEY\", None)\n",

        "\n",
        "    # Open input document\n",
        "    with io.FileIO(input_file_path, \"rb\") as in_stream:\n",
        "        with Document.open(in_stream, None) as in_doc:\n",
        "    \n",
        "            # Create output document\n",
        "            with io.FileIO(output_file_path, \"wb+\") as out_stream:\n",
        "                with Document.create(out_stream, in_doc.conformance, None) as out_doc:\n",
        "    \n",
        "                    # Copy document-wide data\n",
        "                    copy_document_data(in_doc, out_doc)\n",
        "    \n",
        "                    # Define page copy options\n",
        "                    page_copy_options = PageCopyOptions()\n",
        "    \n",
        "                    # Create embedded font in the output document\n",
        "                    font = Font.create_from_system(out_doc, \"Arial\", None, True)\n",
        "    \n",
        "                    # Copy all pages from input document\n",
        "                    for page_number, in_page in enumerate(in_doc.pages, start=1):\n",
        "                        # Copy page from input to output\n",
        "                        out_page = Page.copy(out_doc, in_page, page_copy_options)\n",
        "    \n",
        "                        # Stamp page number on current page of output document\n",
        "                        add_page_number(out_doc, out_page, font, page_number)\n",
        "    \n",
        "                        # Add page to output document\n",
        "                        out_doc.pages.append(out_page)\n",

        "\n",
        "    print(\"Execution successful.\")\n",

        "except Exception as e:\n",
        "    print(f\"An error occurred: {e}\")"
      ]
    }
  ],
  "metadata": {
    "kernelspec": {
      "display_name": "Python 3",
      "language": "python",
      "name": "python3"
    },
    "language_info": {
      "codemirror_mode": {
        "name": "ipython",
        "version": 3
      },
      "file_extension": ".py",
      "mimetype": "text/x-python",
      "name": "python",
      "nbconvert_exporter": "python",
      "pygments_lexer": "ipython3",
      "version": "3.12.8"
    },
    "colab": {
      "provenance": []
    }
  },
  "nbformat": 4,
  "nbformat_minor": 5
}