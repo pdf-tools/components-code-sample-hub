{
  "cells": [
    {
      "cell_type": "markdown",
      "id": "ba6d8fb7-4b3c-459d-895f-7e459418def5",
      "metadata": {
          "id": "0943e21f-c9b5-465e-afd9-35cc1d808c60"
      },
      "source": [
        "[![Open In Colab](https://colab.research.google.com/assets/colab-badge.svg)](https://colab.research.google.com/github/pdf-tools/components-code-sample-hub/blob/main/jupyter/pdftools_toolbox/pdftools_toolbox_stamp_page_number.ipynb)"
      ]
    },
    {
      "cell_type": "code",
      "execution_count": null,
      "id": "79633456-6dba-4501-824a-66093b3735db",
      "metadata": {
          "id": "d569f716-37ca-4394-b017-2d31c2f0cf4f"
      },
      "outputs": [],
      "source": [
        "%pip install https://pdftools-public-downloads-production.s3.eu-west-1.amazonaws.com/productkits/PDFSDKXT/latest/pdftools_toolbox-latest.tar.gz\n",
        "%pip install ipython"
      ]
    },
    {
      "cell_type": "markdown",
      "id": "5c75d219-e1e6-431b-aaa9-028c575f7f0a",
      "metadata": {
          "id": "6f1ed689-275d-4963-adc5-0fe876740299"
      },
      "source": [
        "# Stamp page number to PDF\n",
        "Stamp the page number to the footer of each page of a PDF\n",
        "document."
      ]
    },
    {
      "cell_type": "code",
      "execution_count": null,
      "id": "fc288773-5ba1-40c3-a42a-81541a13629e",
      "metadata": {
          "id": "c5824e4b-de43-4d42-b54f-73ac01ad1351"
      },
      "outputs": [],
      "source": [
        "import io\n",
        "from pdftools_toolbox.geometry.real import Point\n",
        "from pdftools_toolbox.pdf import Document, FileReference, Metadata, PageCopyOptions, Page\n",
        "from pdftools_toolbox.pdf.content import ContentGenerator, Font, IccBasedColorSpace, Text, TextGenerator\n",
        "from pdftools_toolbox.pdf.navigation import ViewerSettings"
      ]
    },
    {
      "cell_type": "code",
      "execution_count": null,
      "id": "d84bca2f-ea3b-40ad-a7b0-21b37079e804",
      "metadata": {
          "id": "e134a92b-fbb9-412d-a73b-fa40b998024c"
      },
      "outputs": [],
      "source": [
        "# Download a file from a given URL and save it to the local system\n",
        "def prepare_file(url: str, path: str):\n",
        "    import requests\n",
        "    response = requests.get(url)\n",
        "    response.raise_for_status()\n",
        "\n",
        "    with open(path, 'wb') as f:\n",
        "        f.write(response.content)"
      ]
    },
    {
      "cell_type": "code",
      "execution_count": null,
      "id": "56f9e1e4-2486-46b5-bc57-b4932f33872e",
      "metadata": {
          "id": "3ba2b211-92b3-4ce0-bb0e-cb1f8d963469"
      },
      "outputs": [],
      "source": [
        "# Set input arguments\n",
        "input_url = 'https://pdftools-public-downloads-production.s3.eu-west-1.amazonaws.com/samples/testfiles/InvoiceNone.pdf'\n",
        "input_file_path = 'InvoiceNone.pdf'\n",
        "prepare_file(input_url, input_file_path)\n",
        "output_file_path = 'NumberedPages.pdf'"
      ]
    },
    {
      "cell_type": "code",
      "execution_count": null,
      "id": "b057aa9e-6651-4fbe-b2d0-6d89e271e4ec",
      "metadata": {
          "id": "edb47e01-c6e8-4ddc-bbac-98795d5b1fae"
      },
      "outputs": [],
      "source": [
        "def copy_document_data(in_doc: Document, out_doc: Document):\n",
        "    # Copy document-wide data\n",
        "\n",
        "    # Output intent\n",
        "    if in_doc.output_intent is not None:\n",
        "        in_doc.output_intent = IccBasedColorSpace.copy(out_doc, in_doc.output_intent)\n",
        "\n",
        "    # Metadata\n",
        "    out_doc.metadata = Metadata.copy(out_doc, in_doc.metadata)\n",
        "\n",
        "    # Viewer settings\n",
        "    out_doc.viewer_settings = ViewerSettings.copy(out_doc, in_doc.viewer_settings)\n",
        "\n",
        "    # Associated files (for PDF/A-3 and PDF 2.0 only)\n",
        "    outAssociatedFiles = out_doc.associated_files\n",
        "    for in_file_ref in in_doc.associated_files:\n",
        "        outAssociatedFiles.append(FileReference.copy(out_doc, in_file_ref))\n",
        "\n",
        "    # Plain embedded files\n",
        "    out_embedded_files = out_doc.plain_embedded_files\n",
        "    for in_file_ref in in_doc.plain_embedded_files:\n",
        "        out_embedded_files.append(FileReference.copy(out_doc, in_file_ref))"
      ]
    },
    {
      "cell_type": "code",
      "execution_count": null,
      "id": "c26ecd03-d1d7-42a2-b7e2-335e4a7868c5",
      "metadata": {
          "id": "e2609b13-5ec8-4a89-bb16-8016767f09ea"
      },
      "outputs": [],
      "source": [
        "def add_page_number(out_doc, out_page, font, page_number):\n",
        "    \"\"\"Stamp the page number on the specified page.\"\"\"\n",
        "    # Create content generator\n",
        "    with ContentGenerator(out_page.content, False) as generator:\n",
        "        # Create text object\n",
        "        text = Text.create(out_doc)\n",
        "\n",
        "        # Create a text generator with the given font, size, and position\n",
        "        with TextGenerator(text, font, 8, None) as text_generator:\n",
        "            # Generate string to be stamped as the page number\n",
        "            stamp_text = f\"Page {page_number}\"\n",
        "\n",
        "            # Calculate position for centering text at the bottom of the page\n",
        "            position = Point(\n",
        "                x=(out_page.size.width / 2) - (text_generator.get_width(stamp_text) / 2),\n",
        "                y=10\n",
        "            )\n",
        "\n",
        "            # Position the text\n",
        "            text_generator.move_to(position)\n",
        "            # Add page number\n",
        "            text_generator.show(stamp_text)\n",
        "\n",
        "        # Paint the positioned text\n",
        "        generator.paint_text(text)"
      ]
    },
    {
      "cell_type": "code",
      "execution_count": null,
      "id": "df087632-38ec-41cf-ad0f-47bc3a30201a",
      "metadata": {
          "id": "5f95f14e-8710-48fd-8a4a-a0ca7545b3dc"
      },
      "outputs": [],
      "source": [
        "try:\n",
        "    # Set and check license key. If the license key is not valid, an exception is thrown.\n",
        "    from pdftools_toolbox.sdk import Sdk\n",
        "    Sdk.initialize(\"INSERT-LICENSE-KEY\", None)\n",

        "\n",
        "    # Open input document\n",
        "    with io.FileIO(input_file_path, \"rb\") as in_stream:\n",
        "        with Document.open(in_stream, None) as in_doc:\n",
        "    \n",
        "            # Create output document\n",
        "            with io.FileIO(output_file_path, \"wb+\") as out_stream:\n",
        "                with Document.create(out_stream, in_doc.conformance, None) as out_doc:\n",
        "    \n",
        "                    # Copy document-wide data\n",
        "                    copy_document_data(in_doc, out_doc)\n",
        "    \n",
        "                    # Define page copy options\n",
        "                    page_copy_options = PageCopyOptions()\n",
        "    \n",
        "                    # Create embedded font in the output document\n",
        "                    font = Font.create_from_system(out_doc, \"Arial\", None, True)\n",
        "    \n",
        "                    # Copy all pages from input document\n",
        "                    for page_number, in_page in enumerate(in_doc.pages, start=1):\n",
        "                        # Copy page from input to output\n",
        "                        out_page = Page.copy(out_doc, in_page, page_copy_options)\n",
        "    \n",
        "                        # Stamp page number on current page of output document\n",
        "                        add_page_number(out_doc, out_page, font, page_number)\n",
        "    \n",
        "                        # Add page to output document\n",
        "                        out_doc.pages.append(out_page)\n",

        "\n",
        "    print(\"Execution successful.\")\n",

        "except Exception as e:\n",
        "    print(f\"An error occurred: {e}\")"
      ]
    }
  ],
  "metadata": {
    "kernelspec": {
      "display_name": "Python 3",
      "language": "python",
      "name": "python3"
    },
    "language_info": {
      "codemirror_mode": {
        "name": "ipython",
        "version": 3
      },
      "file_extension": ".py",
      "mimetype": "text/x-python",
      "name": "python",
      "nbconvert_exporter": "python",
      "pygments_lexer": "ipython3",
      "version": "3.12.8"
    },
    "colab": {
      "provenance": []
    }
  },
  "nbformat": 4,
  "nbformat_minor": 5
}