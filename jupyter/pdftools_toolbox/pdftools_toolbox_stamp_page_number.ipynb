{
  "cells": [
    {
      "cell_type": "markdown",
      "id": "1a9115eb-dc6f-493e-b8a5-2a4aec20d831",
      "metadata": {
          "id": "f594079c-9da6-493d-ae05-354737566392"
      },
      "source": [
        "[![Open In Colab](https://colab.research.google.com/assets/colab-badge.svg)](https://colab.research.google.com/github/pdf-tools/components-code-sample-hub/blob/main/jupyter/pdftools_toolbox/pdftools_toolbox_stamp_page_number.ipynb)"
      ]
    },
    {
      "cell_type": "code",
      "execution_count": null,
      "id": "37158ca9-a476-4396-a13c-2f242b2f582a",
      "metadata": {
          "id": "f205977f-09fa-49e1-8147-56dd83326a1e"
      },
      "outputs": [],
      "source": [
        "%pip install https://pdftools-public-downloads-production.s3.eu-west-1.amazonaws.com/productkits/PDFSDKXT/latest/pdftools_toolbox-latest.tar.gz\n",
        "%pip install ipython"
      ]
    },
    {
      "cell_type": "markdown",
      "id": "6939cea6-4163-4b1e-9d98-4119b840e43f",
      "metadata": {
          "id": "4682d34c-14b6-4c2c-85ae-0e3cb2ea6b8a"
      },
      "source": [
        "# Stamp page number to PDF\n",
        "Stamp the page number to the footer of each page of a PDF\n",
        "document."
      ]
    },
    {
      "cell_type": "code",
      "execution_count": null,
      "id": "286c1772-1841-4cde-a582-c26144a6a180",
      "metadata": {
          "id": "29d8f1e7-217e-4a3d-8ab3-367e364f91e2"
      },
      "outputs": [],
      "source": [
        "import io\n",
        "from pdftools_toolbox.geometry.real import Point\n",
        "from pdftools_toolbox.pdf import Document, FileReference, Metadata, PageCopyOptions, Page\n",
        "from pdftools_toolbox.pdf.content import ContentGenerator, Font, IccBasedColorSpace, Text, TextGenerator\n",
        "from pdftools_toolbox.pdf.navigation import ViewerSettings"
      ]
    },
    {
      "cell_type": "code",
      "execution_count": null,
      "id": "c5c8509f-4c05-48ee-ae76-00cf005c82d0",
      "metadata": {
          "id": "1ad99490-7246-4c3c-bbbb-1ffe6e5a55f1"
      },
      "outputs": [],
      "source": [
        "# Download a file from a given URL and save it to the local system\n",
        "def prepare_file(url: str, path: str):\n",
        "    import requests\n",
        "    response = requests.get(url)\n",
        "    response.raise_for_status()\n",
        "\n",
        "    with open(path, 'wb') as f:\n",
        "        f.write(response.content)"
      ]
    },
    {
      "cell_type": "code",
      "execution_count": null,
      "id": "f5abb003-6e71-480c-9cb0-baea759372fb",
      "metadata": {
          "id": "4ed65203-d3ac-4789-bf1c-f94f367ad02f"
      },
      "outputs": [],
      "source": [
        "# Set input arguments\n",
        "input_url = 'https://pdftools-public-downloads-production.s3.eu-west-1.amazonaws.com/samples/testfiles/InvoiceNone.pdf'\n",
        "input_file_path = 'InvoiceNone.pdf'\n",
        "prepare_file(input_url, input_file_path)\n",
        "output_file_path = 'NumberedPages.pdf'"
      ]
    },
    {
      "cell_type": "code",
      "execution_count": null,
      "id": "013a0155-f8b1-43d4-8595-d41be60e7660",
      "metadata": {
          "id": "6983659f-6e69-40e1-b02d-8f6517e95ba6"
      },
      "outputs": [],
      "source": [
        "def copy_document_data(in_doc: Document, out_doc: Document):\n",
        "    # Copy document-wide data\n",
        "\n",
        "    # Output intent\n",
        "    if in_doc.output_intent is not None:\n",
        "        in_doc.output_intent = IccBasedColorSpace.copy(out_doc, in_doc.output_intent)\n",
        "\n",
        "    # Metadata\n",
        "    out_doc.metadata = Metadata.copy(out_doc, in_doc.metadata)\n",
        "\n",
        "    # Viewer settings\n",
        "    out_doc.viewer_settings = ViewerSettings.copy(out_doc, in_doc.viewer_settings)\n",
        "\n",
        "    # Associated files (for PDF/A-3 and PDF 2.0 only)\n",
        "    outAssociatedFiles = out_doc.associated_files\n",
        "    for in_file_ref in in_doc.associated_files:\n",
        "        outAssociatedFiles.append(FileReference.copy(out_doc, in_file_ref))\n",
        "\n",
        "    # Plain embedded files\n",
        "    out_embedded_files = out_doc.plain_embedded_files\n",
        "    for in_file_ref in in_doc.plain_embedded_files:\n",
        "        out_embedded_files.append(FileReference.copy(out_doc, in_file_ref))"
      ]
    },
    {
      "cell_type": "code",
      "execution_count": null,
      "id": "8172e030-39d9-4a1b-80a7-da08ae92f9e2",
      "metadata": {
          "id": "a68aa9c1-b7aa-4ca9-beef-c28b8efc9591"
      },
      "outputs": [],
      "source": [
        "def add_page_number(out_doc, out_page, font, page_number):\n",
        "    \"\"\"Stamp the page number on the specified page.\"\"\"\n",
        "    # Create content generator\n",
        "    with ContentGenerator(out_page.content, False) as generator:\n",
        "        # Create text object\n",
        "        text = Text.create(out_doc)\n",
        "\n",
        "        # Create a text generator with the given font, size, and position\n",
        "        with TextGenerator(text, font, 8, None) as text_generator:\n",
        "            # Generate string to be stamped as the page number\n",
        "            stamp_text = f\"Page {page_number}\"\n",
        "\n",
        "            # Calculate position for centering text at the bottom of the page\n",
        "            position = Point(\n",
        "                x=(out_page.size.width / 2) - (text_generator.get_width(stamp_text) / 2),\n",
        "                y=10\n",
        "            )\n",
        "\n",
        "            # Position the text\n",
        "            text_generator.move_to(position)\n",
        "            # Add page number\n",
        "            text_generator.show(stamp_text)\n",
        "\n",
        "        # Paint the positioned text\n",
        "        generator.paint_text(text)"
      ]
    },
    {
      "cell_type": "code",
      "execution_count": null,
      "id": "65afa06f-2e26-4c63-82e8-50cb5db14740",
      "metadata": {
          "id": "488e4e7d-8f85-42c9-a41c-207e28b7120c"
      },
      "outputs": [],
      "source": [
        "try:\n",
        "    # Set and check license key. If the license key is not valid, an exception is thrown.\n",
        "    from pdftools_toolbox.sdk import Sdk\n",
        "    Sdk.initialize(\"<PDFSDK,V1,MGAASQD6L2JMQHL54PK08RQX8GG4SS0M8DAHVPH0VMP3NB8R9DUK>\", None)\n",

        "\n",
        "    # Open input document\n",
        "    with io.FileIO(input_file_path, \"rb\") as in_stream:\n",
        "        with Document.open(in_stream, None) as in_doc:\n",
        "    \n",
        "            # Create output document\n",
        "            with io.FileIO(output_file_path, \"wb+\") as out_stream:\n",
        "                with Document.create(out_stream, in_doc.conformance, None) as out_doc:\n",
        "    \n",
        "                    # Copy document-wide data\n",
        "                    copy_document_data(in_doc, out_doc)\n",
        "    \n",
        "                    # Define page copy options\n",
        "                    page_copy_options = PageCopyOptions()\n",
        "    \n",
        "                    # Create embedded font in the output document\n",
        "                    font = Font.create_from_system(out_doc, \"Arial\", None, True)\n",
        "    \n",
        "                    # Copy all pages from input document\n",
        "                    for page_number, in_page in enumerate(in_doc.pages, start=1):\n",
        "                        # Copy page from input to output\n",
        "                        out_page = Page.copy(out_doc, in_page, page_copy_options)\n",
        "    \n",
        "                        # Stamp page number on current page of output document\n",
        "                        add_page_number(out_doc, out_page, font, page_number)\n",
        "    \n",
        "                        # Add page to output document\n",
        "                        out_doc.pages.append(out_page)\n",

        "\n",
        "    print(\"Execution successful.\")\n",

        "except Exception as e:\n",
        "    print(f\"An error occurred: {e}\")"
      ]
    }
  ],
  "metadata": {
    "kernelspec": {
      "display_name": "Python 3",
      "language": "python",
      "name": "python3"
    },
    "language_info": {
      "codemirror_mode": {
        "name": "ipython",
        "version": 3
      },
      "file_extension": ".py",
      "mimetype": "text/x-python",
      "name": "python",
      "nbconvert_exporter": "python",
      "pygments_lexer": "ipython3",
      "version": "3.12.8"
    },
    "colab": {
      "provenance": []
    }
  },
  "nbformat": 4,
  "nbformat_minor": 5
}