{
  "cells": [
    {
      "cell_type": "markdown",
      "id": "49e24dbd-55d8-452f-a05b-6a26731d8cb1",
      "metadata": {
          "id": "1a371514-92bf-4266-9cce-aaff3b151e20"
      },
      "source": [
        "[![Open In Colab](https://colab.research.google.com/assets/colab-badge.svg)](https://colab.research.google.com/github/pdf-tools/components-code-sample-hub/blob/main/jupyter/pdftools_toolbox/pdftools_toolbox_stamp_page_number.ipynb)"
      ]
    },
    {
      "cell_type": "code",
      "execution_count": null,
      "id": "efa470f6-e764-495d-812a-a24bf2a08761",
      "metadata": {
          "id": "0cf27c2e-9871-4a8c-834a-b5a16c6c08ad"
      },
      "outputs": [],
      "source": [
        "%pip install https://pdftools-public-downloads-production.s3.eu-west-1.amazonaws.com/productkits/PDFSDKXT/latest/pdftools_toolbox-latest.tar.gz\n",
        "%pip install ipython"
      ]
    },
    {
      "cell_type": "markdown",
      "id": "f47d56c4-b11c-4569-8c97-f514be348d87",
      "metadata": {
          "id": "7710e85d-d297-4fb5-b1ee-9a4ee16765e4"
      },
      "source": [
        "# Stamp page number to PDF\n",
        "Stamp the page number to the footer of each page of a PDF\n",
        "document."
      ]
    },
    {
      "cell_type": "code",
      "execution_count": null,
      "id": "de6f3c4b-5117-4605-acd9-b0164ee23a7f",
      "metadata": {
          "id": "764a714f-4bac-4da1-884f-2840692d6ef5"
      },
      "outputs": [],
      "source": [
        "import io\n",
        "from pdftools_toolbox.geometry.real import Point\n",
        "from pdftools_toolbox.pdf import Document, FileReference, Metadata, PageCopyOptions, Page\n",
        "from pdftools_toolbox.pdf.content import ContentGenerator, Font, IccBasedColorSpace, Text, TextGenerator\n",
        "from pdftools_toolbox.pdf.navigation import ViewerSettings"
      ]
    },
    {
      "cell_type": "code",
      "execution_count": null,
      "id": "25ad9006-7ab0-4417-8bdc-31b89a38e7e1",
      "metadata": {
          "id": "e04deabb-f11e-4149-8bff-b14099a911d9"
      },
      "outputs": [],
      "source": [
        "# Download a file from a given URL and save it to the local system\n",
        "def prepare_file(url: str, path: str):\n",
        "    import requests\n",
        "    response = requests.get(url)\n",
        "    response.raise_for_status()\n",
        "\n",
        "    with open(path, 'wb') as f:\n",
        "        f.write(response.content)"
      ]
    },
    {
      "cell_type": "code",
      "execution_count": null,
      "id": "8cfebda8-f463-4b5a-aab6-c407afc189eb",
      "metadata": {
          "id": "e8c1727f-dc8a-4906-a0c8-ff27ab3a681d"
      },
      "outputs": [],
      "source": [
        "# Set input arguments\n",
        "input_url = 'https://pdftools-public-downloads-production.s3.eu-west-1.amazonaws.com/samples/testfiles/InvoiceNone.pdf'\n",
        "input_file_path = 'InvoiceNone.pdf'\n",
        "prepare_file(input_url, input_file_path)\n",
        "output_file_path = 'NumberedPages.pdf'"
      ]
    },
    {
      "cell_type": "code",
      "execution_count": null,
      "id": "aa9bc2ef-5586-4bf8-9026-efb1315340e9",
      "metadata": {
          "id": "88408d49-e653-405d-a334-49bb198d5bff"
      },
      "outputs": [],
      "source": [
        "def copy_document_data(in_doc: Document, out_doc: Document):\n",
        "    # Copy document-wide data\n",
        "\n",
        "    # Output intent\n",
        "    if in_doc.output_intent is not None:\n",
        "        in_doc.output_intent = IccBasedColorSpace.copy(out_doc, in_doc.output_intent)\n",
        "\n",
        "    # Metadata\n",
        "    out_doc.metadata = Metadata.copy(out_doc, in_doc.metadata)\n",
        "\n",
        "    # Viewer settings\n",
        "    out_doc.viewer_settings = ViewerSettings.copy(out_doc, in_doc.viewer_settings)\n",
        "\n",
        "    # Associated files (for PDF/A-3 and PDF 2.0 only)\n",
        "    outAssociatedFiles = out_doc.associated_files\n",
        "    for in_file_ref in in_doc.associated_files:\n",
        "        outAssociatedFiles.append(FileReference.copy(out_doc, in_file_ref))\n",
        "\n",
        "    # Plain embedded files\n",
        "    out_embedded_files = out_doc.plain_embedded_files\n",
        "    for in_file_ref in in_doc.plain_embedded_files:\n",
        "        out_embedded_files.append(FileReference.copy(out_doc, in_file_ref))"
      ]
    },
    {
      "cell_type": "code",
      "execution_count": null,
      "id": "2f5511a2-b220-4468-a49b-4a3b839a19b0",
      "metadata": {
          "id": "f42fc416-6df5-40de-95bc-91af66e86348"
      },
      "outputs": [],
      "source": [
        "def add_page_number(out_doc, out_page, font, page_number):\n",
        "    \"\"\"Stamp the page number on the specified page.\"\"\"\n",
        "    # Create content generator\n",
        "    with ContentGenerator(out_page.content, False) as generator:\n",
        "        # Create text object\n",
        "        text = Text.create(out_doc)\n",
        "\n",
        "        # Create a text generator with the given font, size, and position\n",
        "        with TextGenerator(text, font, 8, None) as text_generator:\n",
        "            # Generate string to be stamped as the page number\n",
        "            stamp_text = f\"Page {page_number}\"\n",
        "\n",
        "            # Calculate position for centering text at the bottom of the page\n",
        "            position = Point(\n",
        "                x=(out_page.size.width / 2) - (text_generator.get_width(stamp_text) / 2),\n",
        "                y=10\n",
        "            )\n",
        "\n",
        "            # Position the text\n",
        "            text_generator.move_to(position)\n",
        "            # Add page number\n",
        "            text_generator.show(stamp_text)\n",
        "\n",
        "        # Paint the positioned text\n",
        "        generator.paint_text(text)"
      ]
    },
    {
      "cell_type": "code",
      "execution_count": null,
      "id": "7c4a708b-7ab1-432b-a959-bc3a4c652170",
      "metadata": {
          "id": "177f053f-8e1a-4b5c-852e-f3ba385bb3fe"
      },
      "outputs": [],
      "source": [
        "try:\n",
        "    # Set and check license key. If the license key is not valid, an exception is thrown.\n",
        "    from pdftools_toolbox.sdk import Sdk\n",
        "    Sdk.initialize(\"INSERT-LICENSE-KEY\", None)\n",

        "\n",
        "    # Open input document\n",
        "    with io.FileIO(input_file_path, \"rb\") as in_stream:\n",
        "        with Document.open(in_stream, None) as in_doc:\n",
        "    \n",
        "            # Create output document\n",
        "            with io.FileIO(output_file_path, \"wb+\") as out_stream:\n",
        "                with Document.create(out_stream, in_doc.conformance, None) as out_doc:\n",
        "    \n",
        "                    # Copy document-wide data\n",
        "                    copy_document_data(in_doc, out_doc)\n",
        "    \n",
        "                    # Define page copy options\n",
        "                    page_copy_options = PageCopyOptions()\n",
        "    \n",
        "                    # Create embedded font in the output document\n",
        "                    font = Font.create_from_system(out_doc, \"Arial\", None, True)\n",
        "    \n",
        "                    # Copy all pages from input document\n",
        "                    for page_number, in_page in enumerate(in_doc.pages, start=1):\n",
        "                        # Copy page from input to output\n",
        "                        out_page = Page.copy(out_doc, in_page, page_copy_options)\n",
        "    \n",
        "                        # Stamp page number on current page of output document\n",
        "                        add_page_number(out_doc, out_page, font, page_number)\n",
        "    \n",
        "                        # Add page to output document\n",
        "                        out_doc.pages.append(out_page)\n",

        "\n",
        "    print(\"Execution successful.\")\n",

        "except Exception as e:\n",
        "    print(f\"An error occurred: {e}\")"
      ]
    }
  ],
  "metadata": {
    "kernelspec": {
      "display_name": "Python 3",
      "language": "python",
      "name": "python3"
    },
    "language_info": {
      "codemirror_mode": {
        "name": "ipython",
        "version": 3
      },
      "file_extension": ".py",
      "mimetype": "text/x-python",
      "name": "python",
      "nbconvert_exporter": "python",
      "pygments_lexer": "ipython3",
      "version": "3.12.8"
    },
    "colab": {
      "provenance": []
    }
  },
  "nbformat": 4,
  "nbformat_minor": 5
}