{
  "cells": [
    {
      "cell_type": "markdown",
      "id": "665b515a-2192-415c-a3ae-e37f5181a012",
      "metadata": {
          "id": "a4458feb-5550-408c-ac96-f4dcdeb8d672"
      },
      "source": [
        "[![Open In Colab](https://colab.research.google.com/assets/colab-badge.svg)](https://colab.research.google.com/github/pdf-tools/components-code-sample-hub/blob/main/jupyter/pdftools_toolbox/pdftools_toolbox_add_annotations.ipynb)"
      ]
    },
    {
      "cell_type": "code",
      "execution_count": null,
      "id": "fd77423d-a3f8-4331-8b00-bb1727ec6251",
      "metadata": {
          "id": "42480350-7d52-437b-a56b-6ec59f585a8c"
      },
      "outputs": [],
      "source": [
        "%pip install https://pdftools-public-downloads-production.s3.eu-west-1.amazonaws.com/productkits/PDFSDKXT/latest/pdftools_toolbox-latest.tar.gz\n",
        "%pip install ipython"
      ]
    },
    {
      "cell_type": "markdown",
      "id": "e514c0b2-00c0-401d-a550-4463a3fe19f5",
      "metadata": {
          "id": "9493e482-3fc9-456e-bbc6-0ff10cc51cd0"
      },
      "source": [
        "# Add annotations to PDF\n",
        "Generate and add various types of annotations at\n",
        "specified positions on the first page of a PDF document."
      ]
    },
    {
      "cell_type": "code",
      "execution_count": null,
      "id": "f62515cb-d1d6-4029-b781-02238913b05f",
      "metadata": {
          "id": "0e76aa28-5789-4756-a757-947c001365c5"
      },
      "outputs": [],
      "source": [
        "import io\n",
        "from pdftools_toolbox.pdf import Document, FileReference, Metadata, Page, PageCopyOptions, PageList\n",
        "from pdftools_toolbox.geometry.real import Point, QuadrilateralList, Rectangle\n",
        "from pdftools_toolbox.pdf.annotations import EllipseAnnotation, FreeText, Highlight, StickyNote\n",
        "from pdftools_toolbox.pdf.content import ColorSpace, ContentExtractor, IccBasedColorSpace, ImageElement, Paint, ProcessColorSpaceType, Stroke, TextElement, Transparency\n",
        "from pdftools_toolbox.pdf.navigation import ViewerSettings, WebLink"
      ]
    },
    {
      "cell_type": "code",
      "execution_count": null,
      "id": "c8f41752-d47d-4e75-8f8f-b4f31326db1e",
      "metadata": {
          "id": "12dc48b4-cc65-4b0c-ab24-4bc1df921fff"
      },
      "outputs": [],
      "source": [
        "# Download a file from a given URL and save it to the local system\n",
        "def prepare_file(url: str, path: str):\n",
        "    import requests\n",
        "    response = requests.get(url)\n",
        "    response.raise_for_status()\n",
        "\n",
        "    with open(path, 'wb') as f:\n",
        "        f.write(response.content)"
      ]
    },
    {
      "cell_type": "code",
      "execution_count": null,
      "id": "1f1975c0-c087-4a59-9c6e-7328d3f68330",
      "metadata": {
          "id": "07e8446b-6861-413b-bd2f-2bbadd07fad5"
      },
      "outputs": [],
      "source": [
        "# Set input arguments\n",
        "input_url = 'https://pdftools-public-downloads-production.s3.eu-west-1.amazonaws.com/samples/testfiles/GraphicsWhiteTextNoTP.pdf'\n",
        "input_file_path = 'GraphicsWhiteTextNoTP.pdf'\n",
        "prepare_file(input_url, input_file_path)\n",
        "output_file_path = 'AnnotatedGraphics.pdf'"
      ]
    },
    {
      "cell_type": "code",
      "execution_count": null,
      "id": "7380124c-7479-4f93-b4e4-a05cb4d29730",
      "metadata": {
          "id": "189bd49e-49f0-4210-96a3-616f1d6734a9"
      },
      "outputs": [],
      "source": [
        "def copy_document_data(in_doc: Document, out_doc: Document):\n",
        "    # Copy document-wide data\n",
        "\n",
        "    # Output intent\n",
        "    if in_doc.output_intent is not None:\n",
        "        in_doc.output_intent = IccBasedColorSpace.copy(out_doc, in_doc.output_intent)\n",
        "\n",
        "    # Metadata\n",
        "    out_doc.metadata = Metadata.copy(out_doc, in_doc.metadata)\n",
        "\n",
        "    # Viewer settings\n",
        "    out_doc.viewer_settings = ViewerSettings.copy(out_doc, in_doc.viewer_settings)\n",
        "\n",
        "    # Associated files (for PDF/A-3 and PDF 2.0 only)\n",
        "    outAssociatedFiles = out_doc.associated_files\n",
        "    for in_file_ref in in_doc.associated_files:\n",
        "        outAssociatedFiles.append(FileReference.copy(out_doc, in_file_ref))\n",
        "\n",
        "    # Plain embedded files\n",
        "    out_embedded_files = out_doc.plain_embedded_files\n",
        "    for in_file_ref in in_doc.plain_embedded_files:\n",
        "        out_embedded_files.append(FileReference.copy(out_doc, in_file_ref))"
      ]
    },
    {
      "cell_type": "code",
      "execution_count": null,
      "id": "c2471038-0691-43de-9669-d5d99a585dbc",
      "metadata": {
          "id": "e17a8a21-2f8f-40d2-9a70-1798bf3ed499"
      },
      "outputs": [],
      "source": [
        "def copy_and_add_annotations(out_doc: Document, in_page: Page, copy_options: PageCopyOptions):\n",
        "    # Copy page to output document\n",
        "    out_page = Page.copy(out_doc, in_page, copy_options)\n",
        "\n",
        "    # Make a RGB color space\n",
        "    rgb = ColorSpace.create_process_color_space(out_doc, ProcessColorSpaceType.RGB)\n",
        "\n",
        "    # Get the page size for positioning annotations\n",
        "    page_size = out_page.size\n",
        "\n",
        "    # Get the output page's list of annotations for adding annotations\n",
        "    annotations = out_page.annotations\n",
        "\n",
        "    # Create a sticky note and add to output page's annotations\n",
        "    green = Paint.create(out_doc, rgb, [0.0, 1.0, 0.0], None)\n",
        "    sticky_note_top_left = Point(x=10.0, y=page_size.height - 10.0)\n",
        "    sticky_note = StickyNote.create(out_doc, sticky_note_top_left, \"Hello world!\", green)\n",
        "    annotations.append(sticky_note)\n",
        "\n",
        "    # Create an ellipse and add to output page's annotations\n",
        "    blue = Paint.create(out_doc, rgb, [0.0, 0.0, 1.0], None)\n",
        "    yellow = Paint.create(out_doc, rgb, [1.0, 1.0, 0.0], None)\n",
        "    ellipse_box = Rectangle(left=10.0, bottom=page_size.height - 60.0, right=70.0, top=page_size.height - 20.0)\n",
        "    ellipse = EllipseAnnotation.create(out_doc, ellipse_box, Stroke(blue, 1.5), yellow)\n",
        "    annotations.append(ellipse)\n",
        "\n",
        "    # Create a free text and add to output page's annotations\n",
        "    yellow_transp = Paint.create(out_doc, rgb, [1.0, 1.0, 0.0], Transparency(0.5))\n",
        "    free_text_box = Rectangle(left=10.0, bottom=page_size.height - 170.0, right=120.0, top=page_size.height - 70.0)\n",
        "    free_text = FreeText.create(out_doc, free_text_box, \"Lorem ipsum dolor sit amet, consectetur adipiscing elit.\", yellow_transp)\n",
        "    annotations.append(free_text)\n",
        "\n",
        "    # A highlight and a web-link to be fitted on existing page content elements\n",
        "    highlight = None\n",
        "    web_link = None\n",
        "    # Extract content elements from the input page\n",
        "    extractor = ContentExtractor(in_page.content)\n",
        "    for element in extractor:\n",
        "        # Take the first text element\n",
        "        if highlight is None and isinstance(element, TextElement):\n",
        "            # Get the quadrilaterals of this text element\n",
        "            quadrilaterals = QuadrilateralList()\n",
        "            for fragment in element.text:\n",
        "                quadrilaterals.append(fragment.transform.transform_rectangle(fragment.bounding_box))\n",
        "\n",
        "            # Create a highlight and add to output page's annotations\n",
        "            highlight = Highlight.create_from_quadrilaterals(out_doc, quadrilaterals, yellow)\n",
        "            annotations.append(highlight)\n",
        "\n",
        "        # Take the first image element\n",
        "        if web_link is None and isinstance(element, ImageElement):\n",
        "            # Get the quadrilateral of this image\n",
        "            quadrilaterals = QuadrilateralList()\n",
        "            quadrilaterals.append(element.transform.transform_rectangle(element.bounding_box))\n",
        "\n",
        "            # Create a web-link and add to the output page's links\n",
        "            web_link = WebLink.create_from_quadrilaterals(out_doc, quadrilaterals, \"https://www.pdf-tools.com\")\n",
        "            red = Paint.create(out_doc, rgb, [1.0, 0.0, 0.0], None)\n",
        "            web_link.border_style = Stroke(red, 1.5)\n",
        "            out_page.links.append(web_link)\n",
        "\n",
        "        # Exit loop if highlight and web-link have been created\n",
        "        if highlight is not None and web_link is not None:\n",
        "            break\n",
        "\n",
        "    return out_page"
      ]
    },
    {
      "cell_type": "code",
      "execution_count": null,
      "id": "dac8f31a-166f-497c-89a9-6d6b5945bc96",
      "metadata": {
          "id": "d7abc3db-aba4-46af-a276-a998eb091105"
      },
      "outputs": [],
      "source": [
        "try:\n",
        "    # Set and check license key. If the license key is not valid, an exception is thrown.\n",
        "    from pdftools_toolbox.sdk import Sdk\n",
        "    Sdk.initialize(\"<PDFSDK,V1,MGAASQD6L2JMQHL54PK08RQX8GG4SS0M8DAHVPH0VMP3NB8R9DUK>\", None)\n",

        "\n",
        "    # Open input document\n",
        "    with io.FileIO(input_file_path, 'rb') as in_stream:\n",
        "        with Document.open(in_stream, None) as in_doc:\n",
        "            # Create output document\n",
        "            with io.FileIO(output_file_path, 'wb+') as output_stream:\n",
        "                with Document.create(output_stream, in_doc.conformance, None) as out_doc:\n",
        "                    # Copy document-wide data\n",
        "                    copy_document_data(in_doc, out_doc)\n",
        "    \n",
        "                    # Define page copy options\n",
        "                    copy_options = PageCopyOptions()\n",
        "    \n",
        "                    # Copy first page and add annotations\n",
        "                    out_page = copy_and_add_annotations(out_doc, in_doc.pages[0], copy_options)\n",
        "    \n",
        "                    # Add the page to the output document's page list\n",
        "                    out_doc.pages.append(out_page)\n",
        "    \n",
        "                    # Copy the remaining pages and add to the output document's page list\n",
        "                    in_pages = in_doc.pages[1:]\n",
        "                    out_pages = PageList.copy(out_doc, in_pages, copy_options)\n",
        "                    out_doc.pages.extend(out_pages)\n",

        "\n",
        "    print(\"Execution successful.\")\n",

        "except Exception as e:\n",
        "    print(f\"An error occurred: {e}\")"
      ]
    }
  ],
  "metadata": {
    "kernelspec": {
      "display_name": "Python 3",
      "language": "python",
      "name": "python3"
    },
    "language_info": {
      "codemirror_mode": {
        "name": "ipython",
        "version": 3
      },
      "file_extension": ".py",
      "mimetype": "text/x-python",
      "name": "python",
      "nbconvert_exporter": "python",
      "pygments_lexer": "ipython3",
      "version": "3.12.8"
    },
    "colab": {
      "provenance": []
    }
  },
  "nbformat": 4,
  "nbformat_minor": 5
}