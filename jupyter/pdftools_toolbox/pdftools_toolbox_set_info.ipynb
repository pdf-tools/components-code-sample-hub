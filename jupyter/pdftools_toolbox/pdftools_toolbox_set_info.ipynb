{
  "cells": [
    {
      "cell_type": "markdown",
      "id": "bff7b902-cda8-4601-87f8-2e07f3a231db",
      "metadata": {
          "id": "771bffb9-adb0-4635-bb88-14b63ec70cea"
      },
      "source": [
        "[![Open In Colab](https://colab.research.google.com/assets/colab-badge.svg)](https://colab.research.google.com/github/pdf-tools/components-code-sample-hub/blob/main/jupyter/pdftools_toolbox/pdftools_toolbox_set_info.ipynb)"
      ]
    },
    {
      "cell_type": "code",
      "execution_count": null,
      "id": "ff6afb5f-4062-4a26-85a3-3eee07c14b86",
      "metadata": {
          "id": "1632d86e-adcd-4377-8311-583467ec331b"
      },
      "outputs": [],
      "source": [
        "%pip install pdftools_toolbox\n",
        "%pip install ipython"
      ]
    },
    {
      "cell_type": "markdown",
      "id": "0ad3bdaf-1542-4ab4-af90-51ad904b5daf",
      "metadata": {
          "id": "0c2d81ac-c590-4275-8be1-133f4af1ad94"
      },
      "source": [
        "# Add info entries to PDF\n",
        "Set metadata such as author, title, and creator of a PDF\n",
        "document or add a custom entry."
      ]
    },
    {
      "cell_type": "code",
      "execution_count": null,
      "id": "77ad7d1b-a4ac-4764-b9b4-15d8407c7111",
      "metadata": {
          "id": "35922f32-fe97-471a-85e5-ab627272c9c6"
      },
      "outputs": [],
      "source": [
        "import io\n",
        "from pdftools_toolbox.pdf import Document, FileReference, Metadata, Page, PageCopyOptions, PageList\n",
        "from pdftools_toolbox.pdf.content import IccBasedColorSpace\n",
        "from pdftools_toolbox.pdf.navigation import ViewerSettings\n",
        "from datetime import datetime"
      ]
    },
    {
      "cell_type": "code",
      "execution_count": null,
      "id": "5751fe52-6900-418e-b93b-f48731b43638",
      "metadata": {
          "id": "756d2314-c71e-44df-ac3e-65c7676b4689"
      },
      "outputs": [],
      "source": [
        "# Download a file from a given URL and save it to the local system\n",
        "def prepare_file(url: str, path: str):\n",
        "    import requests\n",
        "    response = requests.get(url)\n",
        "    response.raise_for_status()\n",
        "\n",
        "    with open(path, 'wb') as f:\n",
        "        f.write(response.content)"
      ]
    },
    {
      "cell_type": "code",
      "execution_count": null,
      "id": "0cfa2b72-9d46-4367-b4d4-82dd27736ff1",
      "metadata": {
          "id": "9734e3e6-ea16-4a5d-913e-1d5574b3b80b"
      },
      "outputs": [],
      "source": [
        "# Set input arguments\n",
        "input_url = 'https://pdftools-public-downloads-production.s3.eu-west-1.amazonaws.com/samples/testfiles/BlankNone.pdf'\n",
        "input_file_path = 'BlankNone.pdf'\n",
        "prepare_file(input_url, input_file_path)\n",
        "key = \"Author\"  # Example key\n",
        "value = \"John Doe\"  # Example value\n",
        "output_file_path = 'MetadataAdded.pdf'"
      ]
    },
    {
      "cell_type": "code",
      "execution_count": null,
      "id": "14f512a5-cabf-4c89-90bc-ed7bcc21c7d8",
      "metadata": {
          "id": "8dc54ade-f8fd-4e4e-ba92-622c557b2798"
      },
      "outputs": [],
      "source": [
        "def copy_document_data(in_doc: Document, out_doc: Document):\n",
        "    # Copy document-wide data (excluding metadata)\n",
        "\n",
        "    # Output intent\n",
        "    if in_doc.output_intent is not None:\n",
        "        in_doc.output_intent = IccBasedColorSpace.copy(out_doc, in_doc.output_intent)\n",
        "\n",
        "    # Viewer settings\n",
        "    out_doc.viewer_settings = ViewerSettings.copy(out_doc, in_doc.viewer_settings)\n",
        "\n",
        "    # Associated files (for PDF/A-3 and PDF 2.0 only)\n",
        "    outAssociatedFiles = out_doc.associated_files\n",
        "    for in_file_ref in in_doc.associated_files:\n",
        "        outAssociatedFiles.append(FileReference.copy(out_doc, in_file_ref))\n",
        "\n",
        "    # Plain embedded files\n",
        "    out_embedded_files = out_doc.plain_embedded_files\n",
        "    for in_file_ref in in_doc.plain_embedded_files:\n",
        "        out_embedded_files.append(FileReference.copy(out_doc, in_file_ref))"
      ]
    },
    {
      "cell_type": "code",
      "execution_count": null,
      "id": "1c9ad759-8e73-4e56-b4dd-775daacbf565",
      "metadata": {
          "id": "ebbe7d77-7d26-4826-bc5b-31d5949fa8a6"
      },
      "outputs": [],
      "source": [
        "try:\n",
        "    # Set and check license key. If the license key is not valid, an exception is thrown.\n",
        "    from pdftools_toolbox.sdk import Sdk\n",
        "    Sdk.initialize(\"INSERT-LICENSE-KEY\", None)\n",

        "\n",
        "    # Open input document\n",
        "    with io.FileIO(input_file_path, \"rb\") as in_stream:\n",
        "        with Document.open(in_stream, None) as in_doc:\n",
        "    \n",
        "            # Create output document\n",
        "            with io.FileIO(output_file_path, \"wb+\") as out_stream:\n",
        "                with Document.create(out_stream, in_doc.conformance, None) as out_doc:\n",
        "    \n",
        "                    # Copy document-wide data\n",
        "                    copy_document_data(in_doc, out_doc)\n",
        "    \n",
        "                    # Define page copy options\n",
        "                    page_copy_options = PageCopyOptions()\n",
        "    \n",
        "                    # Copy all pages and append to output document\n",
        "                    copied_pages = PageList.copy(out_doc, in_doc.pages, page_copy_options)\n",
        "                    out_doc.pages.extend(copied_pages)\n",
        "    \n",
        "                    # Set info entry\n",
        "                    metadata = Metadata.copy(out_doc, in_doc.metadata)\n",
        "                    if key == \"Title\":\n",
        "                        metadata.title = value\n",
        "                    elif key == \"Author\":\n",
        "                        metadata.author = value\n",
        "                    elif key == \"Subject\":\n",
        "                        metadata.subject = value\n",
        "                    elif key == \"Keywords\":\n",
        "                        metadata.keywords = value\n",
        "                    elif key == \"CreationDate\":\n",
        "                        # Use of the ISO 8601 format for the date\n",
        "                        date_format = \"%Y-%m-%dT%H:%M:%S\"\n",
        "                        parsed_date = datetime.strptime(value, date_format)\n",
        "                        metadata.creation_date = parsed_date\n",
        "                    elif key == \"ModDate\":\n",
        "                        raise Exception(\"ModDate cannot be set.\")\n",
        "                    elif key == \"Creator\":\n",
        "                        metadata.creator = value\n",
        "                    elif key == \"Producer\":\n",
        "                        raise Exception(\"Producer is set by means of the license key.\")\n",
        "                    else:\n",
        "                        metadata.custom_entries[key] = value\n",
        "    \n",
        "                    # Assign modified metadata to the output document\n",
        "                    out_doc.metadata = metadata\n",

        "\n",
        "    print(\"Execution successful.\")\n",

        "except Exception as e:\n",
        "    print(f\"An error occurred: {e}\")"
      ]
    }
  ],
  "metadata": {
    "kernelspec": {
      "display_name": "Python 3",
      "language": "python",
      "name": "python3"
    },
    "language_info": {
      "codemirror_mode": {
        "name": "ipython",
        "version": 3
      },
      "file_extension": ".py",
      "mimetype": "text/x-python",
      "name": "python",
      "nbconvert_exporter": "python",
      "pygments_lexer": "ipython3",
      "version": "3.12.8"
    },
    "colab": {
      "provenance": []
    }
  },
  "nbformat": 4,
  "nbformat_minor": 5
}