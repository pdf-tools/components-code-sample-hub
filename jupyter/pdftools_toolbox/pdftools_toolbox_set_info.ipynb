{
  "cells": [
    {
      "cell_type": "markdown",
      "id": "03f8abc7-2734-4798-a91d-4eca4a810bbb",
      "metadata": {
          "id": "02eaaac8-b5c9-4097-bdcd-7d102825b2aa"
      },
      "source": [
        "[![Open In Colab](https://colab.research.google.com/assets/colab-badge.svg)](https://colab.research.google.com/github/pdf-tools/components-code-sample-hub/blob/main/jupyter/pdftools_toolbox/pdftools_toolbox_set_info.ipynb)"
      ]
    },
    {
      "cell_type": "code",
      "execution_count": null,
      "id": "7d4f8c17-d2a7-4383-a0b2-8e97a6ebde56",
      "metadata": {
          "id": "633339f2-914f-4b1e-87e3-32bb649060a9"
      },
      "outputs": [],
      "source": [
        "%pip install https://pdftools-public-downloads-production.s3.eu-west-1.amazonaws.com/productkits/PDFSDKXT/latest/pdftools_toolbox-latest.tar.gz\n",
        "%pip install ipython"
      ]
    },
    {
      "cell_type": "markdown",
      "id": "1e456224-b816-4d8c-a0a2-44cf6c177893",
      "metadata": {
          "id": "eff07cac-0c84-4b77-906e-44a97fbf4c6b"
      },
      "source": [
        "# Add info entries to PDF\n",
        "Set metadata such as author, title, and creator of a PDF\n",
        "document or add a custom entry."
      ]
    },
    {
      "cell_type": "code",
      "execution_count": null,
      "id": "2b3d88b4-88cf-4f1f-b456-bc9c1e7fc624",
      "metadata": {
          "id": "bc5d43bf-e66c-44ed-8a58-3de3ddaf5f32"
      },
      "outputs": [],
      "source": [
        "import io\n",
        "from pdftools_toolbox.pdf import Document, FileReference, Metadata, Page, PageCopyOptions, PageList\n",
        "from pdftools_toolbox.pdf.content import IccBasedColorSpace\n",
        "from pdftools_toolbox.pdf.navigation import ViewerSettings\n",
        "from datetime import datetime"
      ]
    },
    {
      "cell_type": "code",
      "execution_count": null,
      "id": "bbc9f448-b61a-4f79-ab18-44ebd22532fe",
      "metadata": {
          "id": "fe66dd6d-ce5f-4a73-aeae-7010d56361de"
      },
      "outputs": [],
      "source": [
        "# Download a file from a given URL and save it to the local system\n",
        "def prepare_file(url: str, path: str):\n",
        "    import requests\n",
        "    response = requests.get(url)\n",
        "    response.raise_for_status()\n",
        "\n",
        "    with open(path, 'wb') as f:\n",
        "        f.write(response.content)"
      ]
    },
    {
      "cell_type": "code",
      "execution_count": null,
      "id": "1f7c068c-f3ac-4b47-a2d2-878220e5094c",
      "metadata": {
          "id": "d2ad24d1-0d44-4d23-822d-7b26a27fbeb0"
      },
      "outputs": [],
      "source": [
        "# Set input arguments\n",
        "input_url = 'https://pdftools-public-downloads-production.s3.eu-west-1.amazonaws.com/samples/testfiles/BlankNone.pdf'\n",
        "input_file_path = 'BlankNone.pdf'\n",
        "prepare_file(input_url, input_file_path)\n",
        "key = \"Author\"  # Example key\n",
        "value = \"John Doe\"  # Example value\n",
        "output_file_path = 'MetadataAdded.pdf'"
      ]
    },
    {
      "cell_type": "code",
      "execution_count": null,
      "id": "5979b7cd-7d22-47fd-aeb8-64301f4dfeda",
      "metadata": {
          "id": "0b0d0562-9f98-40d6-8df0-63fbbe790c00"
      },
      "outputs": [],
      "source": [
        "def copy_document_data(in_doc: Document, out_doc: Document):\n",
        "    # Copy document-wide data (excluding metadata)\n",
        "\n",
        "    # Output intent\n",
        "    if in_doc.output_intent is not None:\n",
        "        in_doc.output_intent = IccBasedColorSpace.copy(out_doc, in_doc.output_intent)\n",
        "\n",
        "    # Viewer settings\n",
        "    out_doc.viewer_settings = ViewerSettings.copy(out_doc, in_doc.viewer_settings)\n",
        "\n",
        "    # Associated files (for PDF/A-3 and PDF 2.0 only)\n",
        "    outAssociatedFiles = out_doc.associated_files\n",
        "    for in_file_ref in in_doc.associated_files:\n",
        "        outAssociatedFiles.append(FileReference.copy(out_doc, in_file_ref))\n",
        "\n",
        "    # Plain embedded files\n",
        "    out_embedded_files = out_doc.plain_embedded_files\n",
        "    for in_file_ref in in_doc.plain_embedded_files:\n",
        "        out_embedded_files.append(FileReference.copy(out_doc, in_file_ref))"
      ]
    },
    {
      "cell_type": "code",
      "execution_count": null,
      "id": "3e513564-036f-4dbe-badf-dc0e065f2feb",
      "metadata": {
          "id": "ad6aad53-ab1d-4eef-9e08-43a34457f46e"
      },
      "outputs": [],
      "source": [
        "try:\n",
        "    # Set and check license key. If the license key is not valid, an exception is thrown.\n",
        "    from pdftools_toolbox.sdk import Sdk\n",
        "    Sdk.initialize(\"<PDFSDK,V1,MGAASQD6L2JMQHL54PK08RQX8GG4SS0M8DAHVPH0VMP3NB8R9DUK>\", None)\n",

        "\n",
        "    # Open input document\n",
        "    with io.FileIO(input_file_path, \"rb\") as in_stream:\n",
        "        with Document.open(in_stream, None) as in_doc:\n",
        "    \n",
        "            # Create output document\n",
        "            with io.FileIO(output_file_path, \"wb+\") as out_stream:\n",
        "                with Document.create(out_stream, in_doc.conformance, None) as out_doc:\n",
        "    \n",
        "                    # Copy document-wide data\n",
        "                    copy_document_data(in_doc, out_doc)\n",
        "    \n",
        "                    # Define page copy options\n",
        "                    page_copy_options = PageCopyOptions()\n",
        "    \n",
        "                    # Copy all pages and append to output document\n",
        "                    copied_pages = PageList.copy(out_doc, in_doc.pages, page_copy_options)\n",
        "                    out_doc.pages.extend(copied_pages)\n",
        "    \n",
        "                    # Set info entry\n",
        "                    metadata = Metadata.copy(out_doc, in_doc.metadata)\n",
        "                    if key == \"Title\":\n",
        "                        metadata.title = value\n",
        "                    elif key == \"Author\":\n",
        "                        metadata.author = value\n",
        "                    elif key == \"Subject\":\n",
        "                        metadata.subject = value\n",
        "                    elif key == \"Keywords\":\n",
        "                        metadata.keywords = value\n",
        "                    elif key == \"CreationDate\":\n",
        "                        # Use of the ISO 8601 format for the date\n",
        "                        date_format = \"%Y-%m-%dT%H:%M:%S\"\n",
        "                        parsed_date = datetime.strptime(value, date_format)\n",
        "                        metadata.creation_date = parsed_date\n",
        "                    elif key == \"ModDate\":\n",
        "                        raise Exception(\"ModDate cannot be set.\")\n",
        "                    elif key == \"Creator\":\n",
        "                        metadata.creator = value\n",
        "                    elif key == \"Producer\":\n",
        "                        raise Exception(\"Producer is set by means of the license key.\")\n",
        "                    else:\n",
        "                        metadata.custom_entries[key] = value\n",
        "    \n",
        "                    # Assign modified metadata to the output document\n",
        "                    out_doc.metadata = metadata\n",

        "\n",
        "    print(\"Execution successful.\")\n",

        "except Exception as e:\n",
        "    print(f\"An error occurred: {e}\")"
      ]
    }
  ],
  "metadata": {
    "kernelspec": {
      "display_name": "Python 3",
      "language": "python",
      "name": "python3"
    },
    "language_info": {
      "codemirror_mode": {
        "name": "ipython",
        "version": 3
      },
      "file_extension": ".py",
      "mimetype": "text/x-python",
      "name": "python",
      "nbconvert_exporter": "python",
      "pygments_lexer": "ipython3",
      "version": "3.12.8"
    },
    "colab": {
      "provenance": []
    }
  },
  "nbformat": 4,
  "nbformat_minor": 5
}