{
  "cells": [
    {
      "cell_type": "markdown",
      "id": "b63d2e17-a179-47e5-98f3-10e0041597b5",
      "metadata": {
          "id": "78fc111e-d46f-48f7-a411-9f3f25b4994e"
      },
      "source": [
        "[![Open In Colab](https://colab.research.google.com/assets/colab-badge.svg)](https://colab.research.google.com/github/pdf-tools/components-code-sample-hub/blob/main/jupyter/pdftools_toolbox/pdftools_toolbox_set_info.ipynb)"
      ]
    },
    {
      "cell_type": "code",
      "execution_count": null,
      "id": "8f368798-0a8a-4b8d-8ef6-fa0496a9f106",
      "metadata": {
          "id": "15b1164c-5c5d-478f-803e-cfd3929d5e7c"
      },
      "outputs": [],
      "source": [
        "%pip install https://pdftools-public-downloads-production.s3.eu-west-1.amazonaws.com/productkits/PDFSDKXT/latest/pdftools_toolbox-latest.tar.gz\n",
        "%pip install ipython"
      ]
    },
    {
      "cell_type": "markdown",
      "id": "47b3065a-2d08-42cc-90a4-b0dd52f636c5",
      "metadata": {
          "id": "6ea3a2fb-cb68-45c2-91de-e0d619aafaca"
      },
      "source": [
        "# Add info entries to PDF\n",
        "Set metadata such as author, title, and creator of a PDF\n",
        "document or add a custom entry."
      ]
    },
    {
      "cell_type": "code",
      "execution_count": null,
      "id": "417925f6-a422-4745-90dc-5ed5ac232e7d",
      "metadata": {
          "id": "a2ba52f4-f08d-4a2a-95b1-7be5f2fbee77"
      },
      "outputs": [],
      "source": [
        "import io\n",
        "from pdftools_toolbox.pdf import Document, FileReference, Metadata, Page, PageCopyOptions, PageList\n",
        "from pdftools_toolbox.pdf.content import IccBasedColorSpace\n",
        "from pdftools_toolbox.pdf.navigation import ViewerSettings\n",
        "from datetime import datetime"
      ]
    },
    {
      "cell_type": "code",
      "execution_count": null,
      "id": "218c7845-b905-4424-9281-e1fcc69ffb0b",
      "metadata": {
          "id": "b7ad4faa-f34e-4eac-9b46-7fcef2df722b"
      },
      "outputs": [],
      "source": [
        "# Download a file from a given URL and save it to the local system\n",
        "def prepare_file(url: str, path: str):\n",
        "    import requests\n",
        "    response = requests.get(url)\n",
        "    response.raise_for_status()\n",
        "\n",
        "    with open(path, 'wb') as f:\n",
        "        f.write(response.content)"
      ]
    },
    {
      "cell_type": "code",
      "execution_count": null,
      "id": "c237dd28-1dcd-4b75-9f3f-66a5d92ea1f2",
      "metadata": {
          "id": "6c9df1e0-7474-402c-9861-287f7c00d066"
      },
      "outputs": [],
      "source": [
        "# Set input arguments\n",
        "input_url = 'https://pdftools-public-downloads-production.s3.eu-west-1.amazonaws.com/samples/testfiles/BlankNone.pdf'\n",
        "input_file_path = 'BlankNone.pdf'\n",
        "prepare_file(input_url, input_file_path)\n",
        "key = \"Author\"  # Example key\n",
        "value = \"John Doe\"  # Example value\n",
        "output_file_path = 'MetadataAdded.pdf'"
      ]
    },
    {
      "cell_type": "code",
      "execution_count": null,
      "id": "22fc544d-6c5b-4b7f-8dd3-ae1c40168cbc",
      "metadata": {
          "id": "eccc588e-0cf9-42dd-93e0-6345110fa033"
      },
      "outputs": [],
      "source": [
        "def copy_document_data(in_doc: Document, out_doc: Document):\n",
        "    # Copy document-wide data (excluding metadata)\n",
        "\n",
        "    # Output intent\n",
        "    if in_doc.output_intent is not None:\n",
        "        in_doc.output_intent = IccBasedColorSpace.copy(out_doc, in_doc.output_intent)\n",
        "\n",
        "    # Viewer settings\n",
        "    out_doc.viewer_settings = ViewerSettings.copy(out_doc, in_doc.viewer_settings)\n",
        "\n",
        "    # Associated files (for PDF/A-3 and PDF 2.0 only)\n",
        "    outAssociatedFiles = out_doc.associated_files\n",
        "    for in_file_ref in in_doc.associated_files:\n",
        "        outAssociatedFiles.append(FileReference.copy(out_doc, in_file_ref))\n",
        "\n",
        "    # Plain embedded files\n",
        "    out_embedded_files = out_doc.plain_embedded_files\n",
        "    for in_file_ref in in_doc.plain_embedded_files:\n",
        "        out_embedded_files.append(FileReference.copy(out_doc, in_file_ref))"
      ]
    },
    {
      "cell_type": "code",
      "execution_count": null,
      "id": "423d7dfa-4c2f-40b0-a995-a8cc0a18ccea",
      "metadata": {
          "id": "3e8e00eb-e6b2-4db6-ab30-0d606b87c092"
      },
      "outputs": [],
      "source": [
        "try:\n",
        "    # Set and check license key. If the license key is not valid, an exception is thrown.\n",
        "    from pdftools_toolbox.sdk import Sdk\n",
        "    Sdk.initialize(\"INSERT-LICENSE-KEY\", None)\n",

        "\n",
        "    # Open input document\n",
        "    with io.FileIO(input_file_path, \"rb\") as in_stream:\n",
        "        with Document.open(in_stream, None) as in_doc:\n",
        "    \n",
        "            # Create output document\n",
        "            with io.FileIO(output_file_path, \"wb+\") as out_stream:\n",
        "                with Document.create(out_stream, in_doc.conformance, None) as out_doc:\n",
        "    \n",
        "                    # Copy document-wide data\n",
        "                    copy_document_data(in_doc, out_doc)\n",
        "    \n",
        "                    # Define page copy options\n",
        "                    page_copy_options = PageCopyOptions()\n",
        "    \n",
        "                    # Copy all pages and append to output document\n",
        "                    copied_pages = PageList.copy(out_doc, in_doc.pages, page_copy_options)\n",
        "                    out_doc.pages.extend(copied_pages)\n",
        "    \n",
        "                    # Set info entry\n",
        "                    metadata = Metadata.copy(out_doc, in_doc.metadata)\n",
        "                    if key == \"Title\":\n",
        "                        metadata.title = value\n",
        "                    elif key == \"Author\":\n",
        "                        metadata.author = value\n",
        "                    elif key == \"Subject\":\n",
        "                        metadata.subject = value\n",
        "                    elif key == \"Keywords\":\n",
        "                        metadata.keywords = value\n",
        "                    elif key == \"CreationDate\":\n",
        "                        # Use of the ISO 8601 format for the date\n",
        "                        date_format = \"%Y-%m-%dT%H:%M:%S\"\n",
        "                        parsed_date = datetime.strptime(value, date_format)\n",
        "                        metadata.creation_date = parsed_date\n",
        "                    elif key == \"ModDate\":\n",
        "                        raise Exception(\"ModDate cannot be set.\")\n",
        "                    elif key == \"Creator\":\n",
        "                        metadata.creator = value\n",
        "                    elif key == \"Producer\":\n",
        "                        raise Exception(\"Producer is set by means of the license key.\")\n",
        "                    else:\n",
        "                        metadata.custom_entries[key] = value\n",
        "    \n",
        "                    # Assign modified metadata to the output document\n",
        "                    out_doc.metadata = metadata\n",

        "\n",
        "    print(\"Execution successful.\")\n",

        "except Exception as e:\n",
        "    print(f\"An error occurred: {e}\")"
      ]
    }
  ],
  "metadata": {
    "kernelspec": {
      "display_name": "Python 3",
      "language": "python",
      "name": "python3"
    },
    "language_info": {
      "codemirror_mode": {
        "name": "ipython",
        "version": 3
      },
      "file_extension": ".py",
      "mimetype": "text/x-python",
      "name": "python",
      "nbconvert_exporter": "python",
      "pygments_lexer": "ipython3",
      "version": "3.12.8"
    },
    "colab": {
      "provenance": []
    }
  },
  "nbformat": 4,
  "nbformat_minor": 5
}