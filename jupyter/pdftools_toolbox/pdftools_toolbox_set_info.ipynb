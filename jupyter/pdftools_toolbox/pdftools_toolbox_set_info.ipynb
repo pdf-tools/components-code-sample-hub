{
  "cells": [
    {
      "cell_type": "markdown",
      "id": "4fc4d66f-9df1-4003-86a6-a8b6917263f4",
      "metadata": {
          "id": "d5e32c13-85d2-4e05-8339-2a962919fd59"
      },
      "source": [
        "[![Open In Colab](https://colab.research.google.com/assets/colab-badge.svg)](https://colab.research.google.com/github/pdf-tools/components-code-sample-hub/blob/main/jupyter/pdftools_toolbox/pdftools_toolbox_set_info.ipynb)"
      ]
    },
    {
      "cell_type": "code",
      "execution_count": null,
      "id": "b1071b36-f626-4647-b5c1-630d3fb54da6",
      "metadata": {
          "id": "45e13c98-f8ab-40fd-ba3c-261f905bcec6"
      },
      "outputs": [],
      "source": [
        "%pip install https://pdftools-public-downloads-production.s3.eu-west-1.amazonaws.com/productkits/PDFSDKXT/latest/pdftools_toolbox-latest.tar.gz\n",
        "%pip install ipython"
      ]
    },
    {
      "cell_type": "markdown",
      "id": "de055dfa-6d94-401c-a6f8-dc8055a2190c",
      "metadata": {
          "id": "6ec9d731-a71c-42f7-9ffb-4f846cf702a2"
      },
      "source": [
        "# Add info entries to PDF\n",
        "Set metadata such as author, title, and creator of a PDF\n",
        "document or add a custom entry."
      ]
    },
    {
      "cell_type": "code",
      "execution_count": null,
      "id": "e49b18a6-f6ce-45da-821b-45ad22d890fc",
      "metadata": {
          "id": "26d7cbeb-862c-4cb2-9751-a383973a77ad"
      },
      "outputs": [],
      "source": [
        "import io\n",
        "from pdftools_toolbox.pdf import Document, FileReference, Metadata, Page, PageCopyOptions, PageList\n",
        "from pdftools_toolbox.pdf.content import IccBasedColorSpace\n",
        "from pdftools_toolbox.pdf.navigation import ViewerSettings\n",
        "from datetime import datetime"
      ]
    },
    {
      "cell_type": "code",
      "execution_count": null,
      "id": "fc063b57-c4bf-41fc-ae57-b931181e83dd",
      "metadata": {
          "id": "1635dea6-be93-4340-8502-cecb341e808f"
      },
      "outputs": [],
      "source": [
        "# Download a file from a given URL and save it to the local system\n",
        "def prepare_file(url: str, path: str):\n",
        "    import requests\n",
        "    response = requests.get(url)\n",
        "    response.raise_for_status()\n",
        "\n",
        "    with open(path, 'wb') as f:\n",
        "        f.write(response.content)"
      ]
    },
    {
      "cell_type": "code",
      "execution_count": null,
      "id": "9279caec-4be3-4eab-8649-6330a7e13f01",
      "metadata": {
          "id": "1fcec754-9cc0-48be-afd7-2d7f5ae6302b"
      },
      "outputs": [],
      "source": [
        "# Set input arguments\n",
        "input_url = 'https://pdftools-public-downloads-production.s3.eu-west-1.amazonaws.com/samples/testfiles/BlankNone.pdf'\n",
        "input_file_path = 'BlankNone.pdf'\n",
        "prepare_file(input_url, input_file_path)\n",
        "key = \"Author\"  # Example key\n",
        "value = \"John Doe\"  # Example value\n",
        "output_file_path = 'MetadataAdded.pdf'"
      ]
    },
    {
      "cell_type": "code",
      "execution_count": null,
      "id": "820d4f98-a89d-4b05-9d2c-d488967c4474",
      "metadata": {
          "id": "9343da13-2472-451e-8f10-9292ba4d58b2"
      },
      "outputs": [],
      "source": [
        "def copy_document_data(in_doc: Document, out_doc: Document):\n",
        "    # Copy document-wide data (excluding metadata)\n",
        "\n",
        "    # Output intent\n",
        "    if in_doc.output_intent is not None:\n",
        "        in_doc.output_intent = IccBasedColorSpace.copy(out_doc, in_doc.output_intent)\n",
        "\n",
        "    # Viewer settings\n",
        "    out_doc.viewer_settings = ViewerSettings.copy(out_doc, in_doc.viewer_settings)\n",
        "\n",
        "    # Associated files (for PDF/A-3 and PDF 2.0 only)\n",
        "    outAssociatedFiles = out_doc.associated_files\n",
        "    for in_file_ref in in_doc.associated_files:\n",
        "        outAssociatedFiles.append(FileReference.copy(out_doc, in_file_ref))\n",
        "\n",
        "    # Plain embedded files\n",
        "    out_embedded_files = out_doc.plain_embedded_files\n",
        "    for in_file_ref in in_doc.plain_embedded_files:\n",
        "        out_embedded_files.append(FileReference.copy(out_doc, in_file_ref))"
      ]
    },
    {
      "cell_type": "code",
      "execution_count": null,
      "id": "7c6dcd1f-f31f-4a0c-91ac-051907adc568",
      "metadata": {
          "id": "753f74cf-7656-4c71-a6b0-03d397092d0f"
      },
      "outputs": [],
      "source": [
        "try:\n",
        "    # Set and check license key. If the license key is not valid, an exception is thrown.\n",
        "    from pdftools_toolbox.sdk import Sdk\n",
        "    Sdk.initialize(\"INSERT-LICENSE-KEY\", None)\n",

        "\n",
        "    # Open input document\n",
        "    with io.FileIO(input_file_path, \"rb\") as in_stream:\n",
        "        with Document.open(in_stream, None) as in_doc:\n",
        "    \n",
        "            # Create output document\n",
        "            with io.FileIO(output_file_path, \"wb+\") as out_stream:\n",
        "                with Document.create(out_stream, in_doc.conformance, None) as out_doc:\n",
        "    \n",
        "                    # Copy document-wide data\n",
        "                    copy_document_data(in_doc, out_doc)\n",
        "    \n",
        "                    # Define page copy options\n",
        "                    page_copy_options = PageCopyOptions()\n",
        "    \n",
        "                    # Copy all pages and append to output document\n",
        "                    copied_pages = PageList.copy(out_doc, in_doc.pages, page_copy_options)\n",
        "                    out_doc.pages.extend(copied_pages)\n",
        "    \n",
        "                    # Set info entry\n",
        "                    metadata = Metadata.copy(out_doc, in_doc.metadata)\n",
        "                    if key == \"Title\":\n",
        "                        metadata.title = value\n",
        "                    elif key == \"Author\":\n",
        "                        metadata.author = value\n",
        "                    elif key == \"Subject\":\n",
        "                        metadata.subject = value\n",
        "                    elif key == \"Keywords\":\n",
        "                        metadata.keywords = value\n",
        "                    elif key == \"CreationDate\":\n",
        "                        # Use of the ISO 8601 format for the date\n",
        "                        date_format = \"%Y-%m-%dT%H:%M:%S\"\n",
        "                        parsed_date = datetime.strptime(value, date_format)\n",
        "                        metadata.creation_date = parsed_date\n",
        "                    elif key == \"ModDate\":\n",
        "                        raise Exception(\"ModDate cannot be set.\")\n",
        "                    elif key == \"Creator\":\n",
        "                        metadata.creator = value\n",
        "                    elif key == \"Producer\":\n",
        "                        raise Exception(\"Producer is set by means of the license key.\")\n",
        "                    else:\n",
        "                        metadata.custom_entries[key] = value\n",
        "    \n",
        "                    # Assign modified metadata to the output document\n",
        "                    out_doc.metadata = metadata\n",

        "\n",
        "    print(\"Execution successful.\")\n",

        "except Exception as e:\n",
        "    print(f\"An error occurred: {e}\")"
      ]
    }
  ],
  "metadata": {
    "kernelspec": {
      "display_name": "Python 3",
      "language": "python",
      "name": "python3"
    },
    "language_info": {
      "codemirror_mode": {
        "name": "ipython",
        "version": 3
      },
      "file_extension": ".py",
      "mimetype": "text/x-python",
      "name": "python",
      "nbconvert_exporter": "python",
      "pygments_lexer": "ipython3",
      "version": "3.12.8"
    },
    "colab": {
      "provenance": []
    }
  },
  "nbformat": 4,
  "nbformat_minor": 5
}