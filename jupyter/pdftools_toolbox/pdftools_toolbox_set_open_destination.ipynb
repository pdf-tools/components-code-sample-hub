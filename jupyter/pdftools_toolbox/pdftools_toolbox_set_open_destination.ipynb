{
  "cells": [
    {
      "cell_type": "markdown",
      "id": "e59a3f4e-eb8d-43c6-a269-3721837b34c5",
      "metadata": {
          "id": "eb76b453-096b-4ae8-ac2b-44f4065a2448"
      },
      "source": [
        "[![Open In Colab](https://colab.research.google.com/assets/colab-badge.svg)](https://colab.research.google.com/github/pdf-tools/components-code-sample-hub/blob/main/jupyter/pdftools_toolbox/pdftools_toolbox_set_open_destination.ipynb)"
      ]
    },
    {
      "cell_type": "code",
      "execution_count": null,
      "id": "431efd25-6401-4573-8fc5-0182a4ad1cce",
      "metadata": {
          "id": "954fc4b2-0c4e-4d20-ac27-5916cd78e18b"
      },
      "outputs": [],
      "source": [
        "%pip install https://pdftools-public-downloads-production.s3.eu-west-1.amazonaws.com/productkits/PDFSDKXT/latest/pdftools_toolbox-latest.tar.gz\n",
        "%pip install ipython"
      ]
    },
    {
      "cell_type": "markdown",
      "id": "a5ef6c99-5a74-4abb-a5fc-86b850276392",
      "metadata": {
          "id": "e123e17c-5b49-4f39-b94d-bf66576240a2"
      },
      "source": [
        "# Set the open-destination of a PDF\n",
        "Set the page that is displayed when opening the document."
      ]
    },
    {
      "cell_type": "code",
      "execution_count": null,
      "id": "b6ea5248-ce0d-430c-80b5-03c25ff57f2a",
      "metadata": {
          "id": "39725e1f-f1a2-44c9-87f1-8cb3fef908af"
      },
      "outputs": [],
      "source": [
        "import io\n",
        "from pdftools_toolbox.pdf import Document, FileReference, Metadata, PageCopyOptions, PageList\n",
        "from pdftools_toolbox.pdf.content import IccBasedColorSpace\n",
        "from pdftools_toolbox.pdf.navigation import ViewerSettings, LocationZoomDestination"
      ]
    },
    {
      "cell_type": "code",
      "execution_count": null,
      "id": "caa05d6c-6d30-4e09-83ba-3dcf0b72212f",
      "metadata": {
          "id": "e654c208-b416-4239-ab97-f8918fc465f9"
      },
      "outputs": [],
      "source": [
        "# Download a file from a given URL and save it to the local system\n",
        "def prepare_file(url: str, path: str):\n",
        "    import requests\n",
        "    response = requests.get(url)\n",
        "    response.raise_for_status()\n",
        "\n",
        "    with open(path, 'wb') as f:\n",
        "        f.write(response.content)"
      ]
    },
    {
      "cell_type": "code",
      "execution_count": null,
      "id": "7a8cce2f-b0d2-45d7-ba57-1e6fce1cef07",
      "metadata": {
          "id": "f5016551-5a3c-4565-89d0-9856f169933a"
      },
      "outputs": [],
      "source": [
        "# Set input arguments\n",
        "input_url = 'https://pdftools-public-downloads-production.s3.eu-west-1.amazonaws.com/samples/testfiles/BlankNone.pdf'\n",
        "input_file_path = 'BlankNone.pdf'\n",
        "prepare_file(input_url, input_file_path)\n",
        "page_number = '2'  # Example from XML\n",
        "output_file_path = 'OpenDestinationSet.pdf'"
      ]
    },
    {
      "cell_type": "code",
      "execution_count": null,
      "id": "0f93d529-240c-4ba7-900e-a249de15d6de",
      "metadata": {
          "id": "5f07a28f-e987-4e1f-b014-76c7b4f0dbd5"
      },
      "outputs": [],
      "source": [
        "def copy_document_data(in_doc: Document, out_doc: Document):\n",
        "    # Copy document-wide data\n",
        "\n",
        "    # Output intent\n",
        "    if in_doc.output_intent is not None:\n",
        "        in_doc.output_intent = IccBasedColorSpace.copy(out_doc, in_doc.output_intent)\n",
        "\n",
        "    # Metadata\n",
        "    out_doc.metadata = Metadata.copy(out_doc, in_doc.metadata)\n",
        "\n",
        "    # Viewer settings\n",
        "    out_doc.viewer_settings = ViewerSettings.copy(out_doc, in_doc.viewer_settings)\n",
        "\n",
        "    # Associated files (for PDF/A-3 and PDF 2.0 only)\n",
        "    outAssociatedFiles = out_doc.associated_files\n",
        "    for in_file_ref in in_doc.associated_files:\n",
        "        outAssociatedFiles.append(FileReference.copy(out_doc, in_file_ref))\n",
        "\n",
        "    # Plain embedded files\n",
        "    out_embedded_files = out_doc.plain_embedded_files\n",
        "    for in_file_ref in in_doc.plain_embedded_files:\n",
        "        out_embedded_files.append(FileReference.copy(out_doc, in_file_ref))"
      ]
    },
    {
      "cell_type": "code",
      "execution_count": null,
      "id": "c3df21aa-e503-4ebd-980a-1eab686a05bc",
      "metadata": {
          "id": "221e4812-0982-4e29-85bf-284fdb9c3e4e"
      },
      "outputs": [],
      "source": [
        "try:\n",
        "    # Set and check license key. If the license key is not valid, an exception is thrown.\n",
        "    from pdftools_toolbox.sdk import Sdk\n",
        "    Sdk.initialize(\"INSERT-LICENSE-KEY\", None)\n",

        "\n",
        "    destination_page_number = int(page_number)\n",
        "    \n",
        "    # Open input document\n",
        "    with io.FileIO(input_file_path, \"rb\") as in_stream:\n",
        "        with Document.open(in_stream, None) as in_doc:\n",
        "    \n",
        "            if destination_page_number < 1 or destination_page_number > len(in_doc.pages):\n",
        "                raise ValueError(\"Given page number is invalid\")\n",
        "    \n",
        "            # Create output document\n",
        "            with io.FileIO(output_file_path, \"wb+\") as out_stream:\n",
        "                with Document.create(out_stream, in_doc.conformance, None) as out_doc:\n",
        "    \n",
        "                    # Copy document-wide data\n",
        "                    copy_document_data(in_doc, out_doc)\n",
        "    \n",
        "                    # Define page copy options\n",
        "                    page_copy_options = PageCopyOptions()\n",
        "    \n",
        "                    # Copy all pages and append to output document\n",
        "                    copied_pages = PageList.copy(out_doc, in_doc.pages, page_copy_options)\n",
        "                    out_doc.pages.extend(copied_pages)\n",
        "    \n",
        "                    # Add open destination\n",
        "                    out_page = copied_pages[destination_page_number - 1]\n",
        "                    out_doc.open_destination = LocationZoomDestination.create(out_doc, out_page, 0, out_page.size.height, None)\n",

        "\n",
        "    print(\"Execution successful.\")\n",

        "except Exception as e:\n",
        "    print(f\"An error occurred: {e}\")"
      ]
    }
  ],
  "metadata": {
    "kernelspec": {
      "display_name": "Python 3",
      "language": "python",
      "name": "python3"
    },
    "language_info": {
      "codemirror_mode": {
        "name": "ipython",
        "version": 3
      },
      "file_extension": ".py",
      "mimetype": "text/x-python",
      "name": "python",
      "nbconvert_exporter": "python",
      "pygments_lexer": "ipython3",
      "version": "3.12.8"
    },
    "colab": {
      "provenance": []
    }
  },
  "nbformat": 4,
  "nbformat_minor": 5
}