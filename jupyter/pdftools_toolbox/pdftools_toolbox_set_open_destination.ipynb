{
  "cells": [
    {
      "cell_type": "markdown",
      "id": "ee7cfa67-aaaf-47e8-848a-41d4c0ebc999",
      "metadata": {
          "id": "53788422-6733-41d5-b657-f4c071a9f8c9"
      },
      "source": [
        "[![Open In Colab](https://colab.research.google.com/assets/colab-badge.svg)](https://colab.research.google.com/github/pdf-tools/components-code-sample-hub/blob/main/jupyter/pdftools_toolbox/pdftools_toolbox_set_open_destination.ipynb)"
      ]
    },
    {
      "cell_type": "code",
      "execution_count": null,
      "id": "8b4e9b5c-be4b-4d17-95f9-6acd842317bd",
      "metadata": {
          "id": "a56c6a40-c69f-462a-bb87-d94310bd0ff1"
      },
      "outputs": [],
      "source": [
        "%pip install https://pdftools-public-downloads-production.s3.eu-west-1.amazonaws.com/productkits/PDFSDKXT/latest/pdftools_toolbox-latest.tar.gz\n",
        "%pip install ipython"
      ]
    },
    {
      "cell_type": "markdown",
      "id": "64881159-f2fb-4b94-ac2f-4bd0e3fee89a",
      "metadata": {
          "id": "f2e7008f-beb3-41ee-8109-2b037e78674e"
      },
      "source": [
        "# Set the open-destination of a PDF\n",
        "Set the page that is displayed when opening the document."
      ]
    },
    {
      "cell_type": "code",
      "execution_count": null,
      "id": "3fdf5eda-6580-46f3-a4d8-7705acfd1a47",
      "metadata": {
          "id": "3eebfc7e-b119-4072-91a1-8890aa7b5fea"
      },
      "outputs": [],
      "source": [
        "import io\n",
        "from pdftools_toolbox.pdf import Document, FileReference, Metadata, PageCopyOptions, PageList\n",
        "from pdftools_toolbox.pdf.content import IccBasedColorSpace\n",
        "from pdftools_toolbox.pdf.navigation import ViewerSettings, LocationZoomDestination"
      ]
    },
    {
      "cell_type": "code",
      "execution_count": null,
      "id": "43b73ec2-129d-404c-8dec-113c74c29e11",
      "metadata": {
          "id": "d0d2019d-4d5a-41f9-8233-c3ad7b606070"
      },
      "outputs": [],
      "source": [
        "# Download a file from a given URL and save it to the local system\n",
        "def prepare_file(url: str, path: str):\n",
        "    import requests\n",
        "    response = requests.get(url)\n",
        "    response.raise_for_status()\n",
        "\n",
        "    with open(path, 'wb') as f:\n",
        "        f.write(response.content)"
      ]
    },
    {
      "cell_type": "code",
      "execution_count": null,
      "id": "76abb9f9-0932-43ea-91d8-3530f5a7ec34",
      "metadata": {
          "id": "2c57c9f1-e490-4510-8a2c-101a2e882cb6"
      },
      "outputs": [],
      "source": [
        "# Set input arguments\n",
        "input_url = 'https://pdftools-public-downloads-production.s3.eu-west-1.amazonaws.com/samples/testfiles/BlankNone.pdf'\n",
        "input_file_path = 'BlankNone.pdf'\n",
        "prepare_file(input_url, input_file_path)\n",
        "page_number = '2'\n",
        "output_file_path = 'OpenDestinationSet.pdf'"
      ]
    },
    {
      "cell_type": "code",
      "execution_count": null,
      "id": "bdcb5a11-1d5a-421f-a4b6-12096339c149",
      "metadata": {
          "id": "870a017d-9bf7-477f-9f30-f16a1d8fbf86"
      },
      "outputs": [],
      "source": [
        "def copy_document_data(in_doc: Document, out_doc: Document):\n",
        "    # Copy document-wide data\n",
        "\n",
        "    # Output intent\n",
        "    if in_doc.output_intent is not None:\n",
        "        in_doc.output_intent = IccBasedColorSpace.copy(out_doc, in_doc.output_intent)\n",
        "\n",
        "    # Metadata\n",
        "    out_doc.metadata = Metadata.copy(out_doc, in_doc.metadata)\n",
        "\n",
        "    # Viewer settings\n",
        "    out_doc.viewer_settings = ViewerSettings.copy(out_doc, in_doc.viewer_settings)\n",
        "\n",
        "    # Associated files (for PDF/A-3 and PDF 2.0 only)\n",
        "    outAssociatedFiles = out_doc.associated_files\n",
        "    for in_file_ref in in_doc.associated_files:\n",
        "        outAssociatedFiles.append(FileReference.copy(out_doc, in_file_ref))\n",
        "\n",
        "    # Plain embedded files\n",
        "    out_embedded_files = out_doc.plain_embedded_files\n",
        "    for in_file_ref in in_doc.plain_embedded_files:\n",
        "        out_embedded_files.append(FileReference.copy(out_doc, in_file_ref))"
      ]
    },
    {
      "cell_type": "code",
      "execution_count": null,
      "id": "6da884d3-a7f3-46e4-8f81-631d404a1361",
      "metadata": {
          "id": "912207bc-8c13-40cc-a95e-cf95449fb789"
      },
      "outputs": [],
      "source": [
        "try:\n",
        "    # Set and check license key. If the license key is not valid, an exception is thrown.\n",
        "    from pdftools_toolbox.sdk import Sdk\n",
        "    Sdk.initialize(\"INSERT-LICENSE-KEY\", None)\n",

        "\n",
        "    destination_page_number = int(page_number)\n",
        "    \n",
        "    # Open input document\n",
        "    with io.FileIO(input_file_path, \"rb\") as in_stream:\n",
        "        with Document.open(in_stream, None) as in_doc:\n",
        "    \n",
        "            if destination_page_number < 1 or destination_page_number > len(in_doc.pages):\n",
        "                raise ValueError(\"Given page number is invalid\")\n",
        "    \n",
        "            # Create output document\n",
        "            with io.FileIO(output_file_path, \"wb+\") as out_stream:\n",
        "                with Document.create(out_stream, in_doc.conformance, None) as out_doc:\n",
        "    \n",
        "                    # Copy document-wide data\n",
        "                    copy_document_data(in_doc, out_doc)\n",
        "    \n",
        "                    # Define page copy options\n",
        "                    page_copy_options = PageCopyOptions()\n",
        "    \n",
        "                    # Copy all pages and append to output document\n",
        "                    copied_pages = PageList.copy(out_doc, in_doc.pages, page_copy_options)\n",
        "                    out_doc.pages.extend(copied_pages)\n",
        "    \n",
        "                    # Add open destination\n",
        "                    out_page = copied_pages[destination_page_number - 1]\n",
        "                    out_doc.open_destination = LocationZoomDestination.create(out_doc, out_page, 0, out_page.size.height, None)\n",

        "\n",
        "    print(\"Execution successful.\")\n",

        "except Exception as e:\n",
        "    print(f\"An error occurred: {e}\")"
      ]
    }
  ],
  "metadata": {
    "kernelspec": {
      "display_name": "Python 3",
      "language": "python",
      "name": "python3"
    },
    "language_info": {
      "codemirror_mode": {
        "name": "ipython",
        "version": 3
      },
      "file_extension": ".py",
      "mimetype": "text/x-python",
      "name": "python",
      "nbconvert_exporter": "python",
      "pygments_lexer": "ipython3",
      "version": "3.12.8"
    },
    "colab": {
      "provenance": []
    }
  },
  "nbformat": 4,
  "nbformat_minor": 5
}