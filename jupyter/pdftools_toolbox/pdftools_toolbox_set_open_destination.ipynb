{
  "cells": [
    {
      "cell_type": "markdown",
      "id": "66efdac6-38eb-498c-a7fe-a21d0dfa3652",
      "metadata": {
          "id": "54a7640d-aa78-4ac0-81e6-4186605b1c6d"
      },
      "source": [
        "[![Open In Colab](https://colab.research.google.com/assets/colab-badge.svg)](https://colab.research.google.com/github/pdf-tools/components-code-sample-hub/blob/main/jupyter/pdftools_toolbox/pdftools_toolbox_set_open_destination.ipynb)"
      ]
    },
    {
      "cell_type": "code",
      "execution_count": null,
      "id": "ab130b4b-fd15-41db-8961-594e07d98f26",
      "metadata": {
          "id": "c974c217-dec1-499a-b05a-050343ece946"
      },
      "outputs": [],
      "source": [
        "%pip install pdftools_toolbox\n",
        "%pip install ipython"
      ]
    },
    {
      "cell_type": "markdown",
      "id": "bf3a9a0a-5f6d-4554-aff5-1d56037cd18d",
      "metadata": {
          "id": "78b66db3-f0d9-4652-b9bf-f11882484a7e"
      },
      "source": [
        "# Set the open-destination of a PDF\n",
        "Set the page that is displayed when opening the document."
      ]
    },
    {
      "cell_type": "code",
      "execution_count": null,
      "id": "5fc62960-0475-4ca5-a985-d9bd0fb692e8",
      "metadata": {
          "id": "091236e2-5e66-410b-a276-34a7a67bdee9"
      },
      "outputs": [],
      "source": [
        "import io\n",
        "from pdftools_toolbox.pdf import Document, FileReference, Metadata, PageCopyOptions, PageList\n",
        "from pdftools_toolbox.pdf.content import IccBasedColorSpace\n",
        "from pdftools_toolbox.pdf.navigation import ViewerSettings, LocationZoomDestination"
      ]
    },
    {
      "cell_type": "code",
      "execution_count": null,
      "id": "cd9e8456-ad7a-4a2b-9da5-bf76a2ebd32b",
      "metadata": {
          "id": "6422b5a1-5ef1-46e0-8b68-387857627832"
      },
      "outputs": [],
      "source": [
        "# Download a file from a given URL and save it to the local system\n",
        "def prepare_file(url: str, path: str):\n",
        "    import requests\n",
        "    response = requests.get(url)\n",
        "    response.raise_for_status()\n",
        "\n",
        "    with open(path, 'wb') as f:\n",
        "        f.write(response.content)"
      ]
    },
    {
      "cell_type": "code",
      "execution_count": null,
      "id": "036a39cf-e2e8-41c6-9658-fba985278b68",
      "metadata": {
          "id": "0af1b9db-eb34-4ad5-a677-5b79d7d76112"
      },
      "outputs": [],
      "source": [
        "# Set input arguments\n",
        "input_url = 'https://pdftools-public-downloads-production.s3.eu-west-1.amazonaws.com/samples/testfiles/BlankNone.pdf'\n",
        "input_file_path = 'BlankNone.pdf'\n",
        "prepare_file(input_url, input_file_path)\n",
        "page_number = '2'\n",
        "output_file_path = 'OpenDestinationSet.pdf'"
      ]
    },
    {
      "cell_type": "code",
      "execution_count": null,
      "id": "604eb559-07f9-4882-b3cc-4c4b4d057165",
      "metadata": {
          "id": "fc64459c-c25c-4681-9d17-9e5d574bc99d"
      },
      "outputs": [],
      "source": [
        "def copy_document_data(in_doc: Document, out_doc: Document):\n",
        "    # Copy document-wide data\n",
        "\n",
        "    # Output intent\n",
        "    if in_doc.output_intent is not None:\n",
        "        in_doc.output_intent = IccBasedColorSpace.copy(out_doc, in_doc.output_intent)\n",
        "\n",
        "    # Metadata\n",
        "    out_doc.metadata = Metadata.copy(out_doc, in_doc.metadata)\n",
        "\n",
        "    # Viewer settings\n",
        "    out_doc.viewer_settings = ViewerSettings.copy(out_doc, in_doc.viewer_settings)\n",
        "\n",
        "    # Associated files (for PDF/A-3 and PDF 2.0 only)\n",
        "    outAssociatedFiles = out_doc.associated_files\n",
        "    for in_file_ref in in_doc.associated_files:\n",
        "        outAssociatedFiles.append(FileReference.copy(out_doc, in_file_ref))\n",
        "\n",
        "    # Plain embedded files\n",
        "    out_embedded_files = out_doc.plain_embedded_files\n",
        "    for in_file_ref in in_doc.plain_embedded_files:\n",
        "        out_embedded_files.append(FileReference.copy(out_doc, in_file_ref))"
      ]
    },
    {
      "cell_type": "code",
      "execution_count": null,
      "id": "fc01ac74-9c9f-45ca-ad92-2018dbea3df4",
      "metadata": {
          "id": "c0a87937-2027-4142-a5b6-e5be66655409"
      },
      "outputs": [],
      "source": [
        "try:\n",
        "    # Set and check license key. If the license key is not valid, an exception is thrown.\n",
        "    from pdftools_toolbox.sdk import Sdk\n",
        "    Sdk.initialize(\"INSERT-LICENSE-KEY\", None)\n",

        "\n",
        "    destination_page_number = int(page_number)\n",
        "    \n",
        "    # Open input document\n",
        "    with io.FileIO(input_file_path, \"rb\") as in_stream:\n",
        "        with Document.open(in_stream, None) as in_doc:\n",
        "    \n",
        "            if destination_page_number < 1 or destination_page_number > len(in_doc.pages):\n",
        "                raise ValueError(\"Given page number is invalid\")\n",
        "    \n",
        "            # Create output document\n",
        "            with io.FileIO(output_file_path, \"wb+\") as out_stream:\n",
        "                with Document.create(out_stream, in_doc.conformance, None) as out_doc:\n",
        "    \n",
        "                    # Copy document-wide data\n",
        "                    copy_document_data(in_doc, out_doc)\n",
        "    \n",
        "                    # Define page copy options\n",
        "                    page_copy_options = PageCopyOptions()\n",
        "    \n",
        "                    # Copy all pages and append to output document\n",
        "                    copied_pages = PageList.copy(out_doc, in_doc.pages, page_copy_options)\n",
        "                    out_doc.pages.extend(copied_pages)\n",
        "    \n",
        "                    # Add open destination\n",
        "                    out_page = copied_pages[destination_page_number - 1]\n",
        "                    out_doc.open_destination = LocationZoomDestination.create(out_doc, out_page, 0, out_page.size.height, None)\n",

        "\n",
        "    print(\"Execution successful.\")\n",

        "except Exception as e:\n",
        "    print(f\"An error occurred: {e}\")"
      ]
    }
  ],
  "metadata": {
    "kernelspec": {
      "display_name": "Python 3",
      "language": "python",
      "name": "python3"
    },
    "language_info": {
      "codemirror_mode": {
        "name": "ipython",
        "version": 3
      },
      "file_extension": ".py",
      "mimetype": "text/x-python",
      "name": "python",
      "nbconvert_exporter": "python",
      "pygments_lexer": "ipython3",
      "version": "3.12.8"
    },
    "colab": {
      "provenance": []
    }
  },
  "nbformat": 4,
  "nbformat_minor": 5
}