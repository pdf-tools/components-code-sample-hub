{
  "cells": [
    {
      "cell_type": "markdown",
      "id": "15dfaad5-8f83-4526-a2f4-cd0e0ed1c6ef",
      "metadata": {
          "id": "b9da6dab-9455-45a1-ae77-d0c16f261909"
      },
      "source": [
        "[![Open In Colab](https://colab.research.google.com/assets/colab-badge.svg)](https://colab.research.google.com/github/pdf-tools/components-code-sample-hub/blob/main/jupyter/pdftools_toolbox/pdftools_toolbox_set_open_destination.ipynb)"
      ]
    },
    {
      "cell_type": "code",
      "execution_count": null,
      "id": "769f59da-f3c9-47f2-bfb3-2894bc994bf0",
      "metadata": {
          "id": "96a37097-270e-4c9e-b833-770689259c7c"
      },
      "outputs": [],
      "source": [
        "%pip install https://pdftools-public-downloads-production.s3.eu-west-1.amazonaws.com/productkits/PDFSDKXT/latest/pdftools_toolbox-latest.tar.gz\n",
        "%pip install ipython"
      ]
    },
    {
      "cell_type": "markdown",
      "id": "31dbbedc-b81e-4c71-9adc-a2623635cbd7",
      "metadata": {
          "id": "2b99e0e8-3076-44b9-afae-e9fc95202dc8"
      },
      "source": [
        "# Set the open-destination of a PDF\n",
        "Set the page that is displayed when opening the document."
      ]
    },
    {
      "cell_type": "code",
      "execution_count": null,
      "id": "543b501e-32f8-4c03-8b36-cefe8557a406",
      "metadata": {
          "id": "17996e50-18d0-411b-b60e-e295371a9792"
      },
      "outputs": [],
      "source": [
        "import io\n",
        "from pdftools_toolbox.pdf import Document, FileReference, Metadata, PageCopyOptions, PageList\n",
        "from pdftools_toolbox.pdf.content import IccBasedColorSpace\n",
        "from pdftools_toolbox.pdf.navigation import ViewerSettings, LocationZoomDestination"
      ]
    },
    {
      "cell_type": "code",
      "execution_count": null,
      "id": "fac628ca-6d69-456b-8733-6b78a54339f0",
      "metadata": {
          "id": "5a702de6-5a35-43f4-aa8a-563e200d6170"
      },
      "outputs": [],
      "source": [
        "# Download a file from a given URL and save it to the local system\n",
        "def prepare_file(url: str, path: str):\n",
        "    import requests\n",
        "    response = requests.get(url)\n",
        "    response.raise_for_status()\n",
        "\n",
        "    with open(path, 'wb') as f:\n",
        "        f.write(response.content)"
      ]
    },
    {
      "cell_type": "code",
      "execution_count": null,
      "id": "a6e471c9-7ab8-4fb8-a7f6-94048afe7dbb",
      "metadata": {
          "id": "2190d258-9f6a-41c8-9eaf-a7eb5ceb188a"
      },
      "outputs": [],
      "source": [
        "# Set input arguments\n",
        "input_url = 'https://pdftools-public-downloads-production.s3.eu-west-1.amazonaws.com/samples/testfiles/BlankNone.pdf'\n",
        "input_file_path = 'BlankNone.pdf'\n",
        "prepare_file(input_url, input_file_path)\n",
        "page_number = '2'  # Example from XML\n",
        "output_file_path = 'OpenDestinationSet.pdf'"
      ]
    },
    {
      "cell_type": "code",
      "execution_count": null,
      "id": "b4605edb-3055-48af-84a3-5bab2403af6b",
      "metadata": {
          "id": "8b3a28c5-0aa8-4e2e-8abd-0c104b8fe421"
      },
      "outputs": [],
      "source": [
        "def copy_document_data(in_doc: Document, out_doc: Document):\n",
        "    # Copy document-wide data\n",
        "\n",
        "    # Output intent\n",
        "    if in_doc.output_intent is not None:\n",
        "        in_doc.output_intent = IccBasedColorSpace.copy(out_doc, in_doc.output_intent)\n",
        "\n",
        "    # Metadata\n",
        "    out_doc.metadata = Metadata.copy(out_doc, in_doc.metadata)\n",
        "\n",
        "    # Viewer settings\n",
        "    out_doc.viewer_settings = ViewerSettings.copy(out_doc, in_doc.viewer_settings)\n",
        "\n",
        "    # Associated files (for PDF/A-3 and PDF 2.0 only)\n",
        "    outAssociatedFiles = out_doc.associated_files\n",
        "    for in_file_ref in in_doc.associated_files:\n",
        "        outAssociatedFiles.append(FileReference.copy(out_doc, in_file_ref))\n",
        "\n",
        "    # Plain embedded files\n",
        "    out_embedded_files = out_doc.plain_embedded_files\n",
        "    for in_file_ref in in_doc.plain_embedded_files:\n",
        "        out_embedded_files.append(FileReference.copy(out_doc, in_file_ref))"
      ]
    },
    {
      "cell_type": "code",
      "execution_count": null,
      "id": "79a4caef-820d-4c4c-b94c-fa30292fb78e",
      "metadata": {
          "id": "840659ff-2dcb-4ef3-ba9c-c5b7d2a799dc"
      },
      "outputs": [],
      "source": [
        "try:\n",
        "    # Set and check license key. If the license key is not valid, an exception is thrown.\n",
        "    from pdftools_toolbox.sdk import Sdk\n",
        "    Sdk.initialize(\"<PDFSDK,V1,MGAASQD6L2JMQHL54PK08RQX8GG4SS0M8DAHVPH0VMP3NB8R9DUK>\", None)\n",

        "\n",
        "    destination_page_number = int(page_number)\n",
        "    \n",
        "    # Open input document\n",
        "    with io.FileIO(input_file_path, \"rb\") as in_stream:\n",
        "        with Document.open(in_stream, None) as in_doc:\n",
        "    \n",
        "            if destination_page_number < 1 or destination_page_number > len(in_doc.pages):\n",
        "                raise ValueError(\"Given page number is invalid\")\n",
        "    \n",
        "            # Create output document\n",
        "            with io.FileIO(output_file_path, \"wb+\") as out_stream:\n",
        "                with Document.create(out_stream, in_doc.conformance, None) as out_doc:\n",
        "    \n",
        "                    # Copy document-wide data\n",
        "                    copy_document_data(in_doc, out_doc)\n",
        "    \n",
        "                    # Define page copy options\n",
        "                    page_copy_options = PageCopyOptions()\n",
        "    \n",
        "                    # Copy all pages and append to output document\n",
        "                    copied_pages = PageList.copy(out_doc, in_doc.pages, page_copy_options)\n",
        "                    out_doc.pages.extend(copied_pages)\n",
        "    \n",
        "                    # Add open destination\n",
        "                    out_page = copied_pages[destination_page_number - 1]\n",
        "                    out_doc.open_destination = LocationZoomDestination.create(out_doc, out_page, 0, out_page.size.height, None)\n",

        "\n",
        "    print(\"Execution successful.\")\n",

        "except Exception as e:\n",
        "    print(f\"An error occurred: {e}\")"
      ]
    }
  ],
  "metadata": {
    "kernelspec": {
      "display_name": "Python 3",
      "language": "python",
      "name": "python3"
    },
    "language_info": {
      "codemirror_mode": {
        "name": "ipython",
        "version": 3
      },
      "file_extension": ".py",
      "mimetype": "text/x-python",
      "name": "python",
      "nbconvert_exporter": "python",
      "pygments_lexer": "ipython3",
      "version": "3.12.8"
    },
    "colab": {
      "provenance": []
    }
  },
  "nbformat": 4,
  "nbformat_minor": 5
}