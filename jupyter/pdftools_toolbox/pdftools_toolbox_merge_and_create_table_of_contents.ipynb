{
  "cells": [
    {
      "cell_type": "markdown",
      "id": "c02dee64-423a-4bbd-8104-88afdf9b4163",
      "metadata": {
          "id": "1b78e4a8-fde2-431c-8ab4-e94fd96a026e"
      },
      "source": [
        "[![Open In Colab](https://colab.research.google.com/assets/colab-badge.svg)](https://colab.research.google.com/github/pdf-tools/components-code-sample-hub/blob/main/jupyter/pdftools_toolbox/pdftools_toolbox_merge_and_create_table_of_contents.ipynb)"
      ]
    },
    {
      "cell_type": "code",
      "execution_count": null,
      "id": "bfcc948d-75f5-4cfc-92dd-04ba50defdaa",
      "metadata": {
          "id": "c0f8c8a4-390e-409f-a251-2632289ea325"
      },
      "outputs": [],
      "source": [
        "%pip install https://pdftools-public-downloads-production.s3.eu-west-1.amazonaws.com/productkits/PDFSDKXT/latest/pdftools_toolbox-latest.tar.gz\n",
        "%pip install ipython"
      ]
    },
    {
      "cell_type": "markdown",
      "id": "e059ad59-bbc8-4b53-98a7-a29915ac3c91",
      "metadata": {
          "id": "9392ffca-78b6-4170-aa93-f6f2e80cbc30"
      },
      "source": [
        "# Merge multiple PDFs and create a table of contents page\n",
        "Merge several PDF documents to one and create a table of\n",
        "contents page."
      ]
    },
    {
      "cell_type": "code",
      "execution_count": null,
      "id": "22e3a179-3fba-4f3c-93a2-b568b922bfb7",
      "metadata": {
          "id": "ffff8dda-d857-4192-9dfb-6ec52dafa4e0"
      },
      "outputs": [],
      "source": [
        "import io\n",
        "import os\n",
        "from pdftools_toolbox.geometry.real import Point, Rectangle\n",
        "from pdftools_toolbox.pdf import Document, Page, PageCopyOptions, PageList\n",
        "from pdftools_toolbox.pdf.content import ContentGenerator, Font, Text, TextGenerator\n",
        "from pdftools_toolbox.pdf.navigation import InternalLink, LocationZoomDestination"
      ]
    },
    {
      "cell_type": "code",
      "execution_count": null,
      "id": "0fe5012e-755e-4eea-8799-91739b1416b7",
      "metadata": {
          "id": "dfd12296-f915-4c31-b9fa-96580d39886d"
      },
      "outputs": [],
      "source": [
        "# Download a file from a given URL and save it to the local system\n",
        "def prepare_file(url: str, path: str):\n",
        "    import requests\n",
        "    response = requests.get(url)\n",
        "    response.raise_for_status()\n",
        "\n",
        "    with open(path, 'wb') as f:\n",
        "        f.write(response.content)"
      ]
    },
    {
      "cell_type": "code",
      "execution_count": null,
      "id": "77534abc-6f15-4835-9e20-31fb0b2541d1",
      "metadata": {
          "id": "01a2f593-55f6-4885-97e6-7ef1e6225500"
      },
      "outputs": [],
      "source": [
        "# Set input arguments\n",
        "input_url1 = 'https://pdftools-public-downloads-production.s3.eu-west-1.amazonaws.com/samples/testfiles/GraphicsNone.pdf'\n",
        "input_url2 = 'https://pdftools-public-downloads-production.s3.eu-west-1.amazonaws.com/samples/testfiles/PdfPrimerWhitepaper.pdf'\n",
        "input_paths = ['GraphicsNone.pdf', 'PdfPrimerWhitepaper.pdf']\n",
        "prepare_file(input_url1, input_paths[0])\n",
        "prepare_file(input_url2, input_paths[1])\n",
        "output_file_path = 'MergedWithTOC.pdf'"
      ]
    },
    {
      "cell_type": "code",
      "execution_count": null,
      "id": "d88fe445-b48f-4311-834c-c77d0721c188",
      "metadata": {
          "id": "9473578d-bc75-4d71-a39c-5e3cc4be58e5"
      },
      "outputs": [],
      "source": [
        "def add_page_number(out_doc: Document, page: Page, font: Font, page_number: int):\n",
        "    \"\"\"Add a page number to the bottom center of a page.\"\"\"\n",
        "    # Create content generator\n",
        "    with ContentGenerator(page.content, False) as generator:\n",
        "\n",
        "        # Create text object\n",
        "        text = Text.create(out_doc)\n",
        "\n",
        "        # Create a text generator with the given font, size and position\n",
        "        with TextGenerator(text, font, 8, None) as text_generator:\n",
        "            # Generate string to be stamped as page number\n",
        "            stamp_text = f\"Page {page_number}\"\n",
        "\n",
        "            # Calculate position for centering text at bottom of page\n",
        "            position = Point(\n",
        "                x=(page.size.width / 2) - (text_generator.get_width(stamp_text) / 2),\n",
        "                y=10,\n",
        "            )\n",
        "\n",
        "            # Position the text\n",
        "            text_generator.move_to(position)\n",
        "            # Add page number\n",
        "            text_generator.show(stamp_text)\n",
        "\n",
        "        # Paint the positioned text\n",
        "        generator.paint_text(text)"
      ]
    },
    {
      "cell_type": "code",
      "execution_count": null,
      "id": "abc42749-c07a-4520-b2db-e41d89c3305f",
      "metadata": {
          "id": "4cf7e273-4631-4d04-9a70-4868b91bf0e0"
      },
      "outputs": [],
      "source": [
        "def create_table_of_contents(out_doc: Document, toc_entries: tuple, font: Font):\n",
        "    \"\"\"Create a table of contents (TOC) page.\"\"\"\n",
        "    # Create a new page with size equal to the first page copied\n",
        "    page = Page.create(out_doc, toc_entries[0][1][0].size)\n",
        "\n",
        "    # Parameters for layout computation\n",
        "    border = 30\n",
        "    text_width = page.size.width - 2 * border\n",
        "    chapter_title_size = 24\n",
        "    title_size = 12\n",
        "\n",
        "    # The current text location\n",
        "    location = Point(x=border, y=page.size.height - border - chapter_title_size)\n",
        "\n",
        "    # The page number of the current item in the table of content\n",
        "    page_number = 2\n",
        "\n",
        "    # Create a content generator for the table of contents page\n",
        "    with ContentGenerator(page.content, False) as content_generator:\n",
        "        # Create a text object\n",
        "        text = Text.create(out_doc)\n",
        "\n",
        "        # Create a text generator to generate the table of contents. Initially, use the chapter title font size\n",
        "        with TextGenerator(text, font, chapter_title_size, location) as text_gen:\n",
        "            # Show a chapter title\n",
        "            text_gen.show_line(\"Table of Contents\")\n",
        "\n",
        "            # Advance the vertical position\n",
        "            location.y -= 1.7 * chapter_title_size\n",
        "\n",
        "            # Select the font size for an entry in the table of contents\n",
        "            text_gen.font_size = title_size\n",
        "\n",
        "            # Iterate over all copied page ranges\n",
        "            for title, page_list in toc_entries:\n",
        "                # The title string for the current entry\n",
        "                title_text = title\n",
        "\n",
        "                # The page number string of the target page for this entry\n",
        "                page_number_text = f\"{page_number}\"\n",
        "\n",
        "                # The width of the page number string\n",
        "                page_number_width = text_gen.get_width(page_number_text)\n",
        "\n",
        "                # Compute the number of filler dots to be displayed between the entry title and the page number\n",
        "                filler_dots_count = int(\n",
        "                    (text_width - text_gen.get_width(title_text) - page_number_width)\n",
        "                    / text_gen.get_width(\".\")\n",
        "                )\n",
        "\n",
        "                # Move to the current location and show the entry's title and the filler dots\n",
        "                text_gen.move_to(location)\n",
        "                text_gen.show(title_text + \".\" * filler_dots_count)\n",
        "\n",
        "                # Show the page number\n",
        "                text_gen.move_to(Point(x=page.size.width - border - page_number_width, y=location.y))\n",
        "                text_gen.show(page_number_text)\n",
        "\n",
        "                # Compute the rectangle for the link\n",
        "                link_rectangle = Rectangle(\n",
        "                    left=border,\n",
        "                    bottom=location.y + font.descent * title_size,\n",
        "                    right=border + text_width,\n",
        "                    top=location.y + font.ascent * title_size,\n",
        "                )\n",
        "\n",
        "                # Create a destination to the first page of the current page range and create a link for this destination\n",
        "                target_page = page_list[0]\n",
        "                destination = LocationZoomDestination.create(out_doc, target_page, 0, target_page.size.height, None)\n",
        "                link = InternalLink.create(out_doc, link_rectangle, destination)\n",
        "\n",
        "                # Add the link to the table of contents page\n",
        "                page.links.append(link)\n",
        "\n",
        "                # Advance the location for the next entry\n",
        "                location.y -= 1.8 * title_size\n",
        "                page_number += len(page_list)\n",
        "\n",
        "        # Paint the generated text\n",
        "        content_generator.paint_text(text)\n",
        "\n",
        "    return page"
      ]
    },
    {
      "cell_type": "code",
      "execution_count": null,
      "id": "b4f5393f-ef28-4571-9cce-4087c6c4adba",
      "metadata": {
          "id": "c88cc578-322e-495f-8037-a068bfd836c5"
      },
      "outputs": [],
      "source": [
        "try:\n",
        "    # Set and check license key. If the license key is not valid, an exception is thrown.\n",
        "    from pdftools_toolbox.sdk import Sdk\n",
        "    Sdk.initialize(\"INSERT-LICENSE-KEY\", None)\n",

        "\n",
        "    # Create output document\n",
        "    with open(output_file_path, \"wb+\") as out_stream:\n",
        "        with Document.create(out_stream, None, None) as out_doc:\n",
        "            # Create embedded font in output document\n",
        "            font = Font.create_from_system(out_doc, \"Arial\", None, True)\n",
        "    \n",
        "            # Define page copy options\n",
        "            page_copy_options = PageCopyOptions()\n",
        "    \n",
        "            # List of copied pages that will be added to the table of contents\n",
        "            toc_entries = []\n",
        "    \n",
        "            # A page number counter\n",
        "            page_number = 2\n",
        "    \n",
        "            # Copy all input documents pages\n",
        "            for input_path in input_paths:\n",
        "                # Open input document\n",
        "                with open(input_path, \"rb\") as in_stream:\n",
        "                    with Document.open(in_stream, None) as in_doc:\n",
        "    \n",
        "                        # Copy all pages and append to output document\n",
        "                        copied_pages = PageList.copy(out_doc, in_doc.pages, page_copy_options)\n",
        "    \n",
        "                        for copied_page in copied_pages:\n",
        "                            add_page_number(out_doc, copied_page, font, page_number)\n",
        "                            page_number += 1\n",
        "    \n",
        "                        # Create outline item\n",
        "                        title = in_doc.metadata.title or os.path.splitext(os.path.basename(input_path))[0]\n",
        "                        toc_entries.append((title, copied_pages))\n",
        "    \n",
        "            # Create table of contents page\n",
        "            contents_page = create_table_of_contents(out_doc, toc_entries, font)\n",
        "            add_page_number(out_doc, contents_page, font, 1)\n",
        "    \n",
        "            # Add pages to the output document\n",
        "            out_doc.pages.append(contents_page)\n",
        "            for _, pages in toc_entries:\n",
        "                out_doc.pages.extend(pages)\n",

        "\n",
        "    print(\"Execution successful.\")\n",

        "except Exception as e:\n",
        "    print(f\"An error occurred: {e}\")"
      ]
    }
  ],
  "metadata": {
    "kernelspec": {
      "display_name": "Python 3",
      "language": "python",
      "name": "python3"
    },
    "language_info": {
      "codemirror_mode": {
        "name": "ipython",
        "version": 3
      },
      "file_extension": ".py",
      "mimetype": "text/x-python",
      "name": "python",
      "nbconvert_exporter": "python",
      "pygments_lexer": "ipython3",
      "version": "3.12.8"
    },
    "colab": {
      "provenance": []
    }
  },
  "nbformat": 4,
  "nbformat_minor": 5
}