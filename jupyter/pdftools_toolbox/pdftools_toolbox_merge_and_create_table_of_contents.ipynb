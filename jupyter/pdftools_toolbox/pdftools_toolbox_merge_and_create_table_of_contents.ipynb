{
  "cells": [
    {
      "cell_type": "markdown",
      "id": "c1b5c311-db7b-428c-bb04-eb22a5b4d2ff",
      "metadata": {
          "id": "5f8637f7-c0b2-440e-b307-76829307eaf1"
      },
      "source": [
        "[![Open In Colab](https://colab.research.google.com/assets/colab-badge.svg)](https://colab.research.google.com/github/pdf-tools/components-code-sample-hub/blob/main/jupyter/pdftools_toolbox/pdftools_toolbox_merge_and_create_table_of_contents.ipynb)"
      ]
    },
    {
      "cell_type": "code",
      "execution_count": null,
      "id": "c2f8b056-6257-4ec9-b299-6b8561b98d54",
      "metadata": {
          "id": "e8142571-bc9b-4e7b-8ec2-d1398e13b301"
      },
      "outputs": [],
      "source": [
        "%pip install https://pdftools-public-downloads-production.s3.eu-west-1.amazonaws.com/productkits/PDFSDKXT/latest/pdftools_toolbox-latest.tar.gz\n",
        "%pip install ipython"
      ]
    },
    {
      "cell_type": "markdown",
      "id": "7514a217-862f-42d0-846b-fd03fa016639",
      "metadata": {
          "id": "a011219c-b58d-4b14-b915-b3b4f4ec68cb"
      },
      "source": [
        "# Merge multiple PDFs and create a table of contents page\n",
        "Merge several PDF documents to one and create a table of\n",
        "contents page."
      ]
    },
    {
      "cell_type": "code",
      "execution_count": null,
      "id": "b901b959-8751-49c0-8e8e-4ad8a798f5c3",
      "metadata": {
          "id": "3a900f19-e642-47f4-b3e0-45497aed5ca2"
      },
      "outputs": [],
      "source": [
        "import io\n",
        "import os\n",
        "from pdftools_toolbox.geometry.real import Point, Rectangle\n",
        "from pdftools_toolbox.pdf import Document, Page, PageCopyOptions, PageList\n",
        "from pdftools_toolbox.pdf.content import ContentGenerator, Font, Text, TextGenerator\n",
        "from pdftools_toolbox.pdf.navigation import InternalLink, LocationZoomDestination"
      ]
    },
    {
      "cell_type": "code",
      "execution_count": null,
      "id": "939540d2-db95-4ac7-90f1-cd3e524d54d7",
      "metadata": {
          "id": "8f82b924-0ca7-4457-817a-7ecdf0b2d495"
      },
      "outputs": [],
      "source": [
        "# Download a file from a given URL and save it to the local system\n",
        "def prepare_file(url: str, path: str):\n",
        "    import requests\n",
        "    response = requests.get(url)\n",
        "    response.raise_for_status()\n",
        "\n",
        "    with open(path, 'wb') as f:\n",
        "        f.write(response.content)"
      ]
    },
    {
      "cell_type": "code",
      "execution_count": null,
      "id": "98bfe724-48e8-4929-8e42-36cfdb61ffbb",
      "metadata": {
          "id": "24378738-a68a-45e1-b425-d19d3b00019a"
      },
      "outputs": [],
      "source": [
        "# Set input arguments\n",
        "input_url1 = 'https://pdftools-public-downloads-production.s3.eu-west-1.amazonaws.com/samples/testfiles/GraphicsNone.pdf'\n",
        "input_url2 = 'https://pdftools-public-downloads-production.s3.eu-west-1.amazonaws.com/samples/testfiles/PdfPrimerWhitepaper.pdf'\n",
        "input_paths = ['GraphicsNone.pdf', 'PdfPrimerWhitepaper.pdf']\n",
        "prepare_file(input_url1, input_paths[0])\n",
        "prepare_file(input_url2, input_paths[1])\n",
        "output_file_path = 'MergedWithTOC.pdf'"
      ]
    },
    {
      "cell_type": "code",
      "execution_count": null,
      "id": "ef6f4398-e41f-4a77-b2e0-0dc36d3f18c6",
      "metadata": {
          "id": "ef32ec03-eb7f-49da-a96d-6e297d63f4e0"
      },
      "outputs": [],
      "source": [
        "def add_page_number(out_doc: Document, page: Page, font: Font, page_number: int):\n",
        "    \"\"\"Add a page number to the bottom center of a page.\"\"\"\n",
        "    # Create content generator\n",
        "    with ContentGenerator(page.content, False) as generator:\n",
        "\n",
        "        # Create text object\n",
        "        text = Text.create(out_doc)\n",
        "\n",
        "        # Create a text generator with the given font, size and position\n",
        "        with TextGenerator(text, font, 8, None) as text_generator:\n",
        "            # Generate string to be stamped as page number\n",
        "            stamp_text = f\"Page {page_number}\"\n",
        "\n",
        "            # Calculate position for centering text at bottom of page\n",
        "            position = Point(\n",
        "                x=(page.size.width / 2) - (text_generator.get_width(stamp_text) / 2),\n",
        "                y=10,\n",
        "            )\n",
        "\n",
        "            # Position the text\n",
        "            text_generator.move_to(position)\n",
        "            # Add page number\n",
        "            text_generator.show(stamp_text)\n",
        "\n",
        "        # Paint the positioned text\n",
        "        generator.paint_text(text)"
      ]
    },
    {
      "cell_type": "code",
      "execution_count": null,
      "id": "d84bcc12-fc74-43c7-b912-aa3b4ff4fa3b",
      "metadata": {
          "id": "584539dc-e06e-4501-8a37-dd9b69355b01"
      },
      "outputs": [],
      "source": [
        "def create_table_of_contents(out_doc: Document, toc_entries: tuple, font: Font):\n",
        "    \"\"\"Create a table of contents (TOC) page.\"\"\"\n",
        "    # Create a new page with size equal to the first page copied\n",
        "    page = Page.create(out_doc, toc_entries[0][1][0].size)\n",
        "\n",
        "    # Parameters for layout computation\n",
        "    border = 30\n",
        "    text_width = page.size.width - 2 * border\n",
        "    chapter_title_size = 24\n",
        "    title_size = 12\n",
        "\n",
        "    # The current text location\n",
        "    location = Point(x=border, y=page.size.height - border - chapter_title_size)\n",
        "\n",
        "    # The page number of the current item in the table of content\n",
        "    page_number = 2\n",
        "\n",
        "    # Create a content generator for the table of contents page\n",
        "    with ContentGenerator(page.content, False) as content_generator:\n",
        "        # Create a text object\n",
        "        text = Text.create(out_doc)\n",
        "\n",
        "        # Create a text generator to generate the table of contents. Initially, use the chapter title font size\n",
        "        with TextGenerator(text, font, chapter_title_size, location) as text_gen:\n",
        "            # Show a chapter title\n",
        "            text_gen.show_line(\"Table of Contents\")\n",
        "\n",
        "            # Advance the vertical position\n",
        "            location.y -= 1.7 * chapter_title_size\n",
        "\n",
        "            # Select the font size for an entry in the table of contents\n",
        "            text_gen.font_size = title_size\n",
        "\n",
        "            # Iterate over all copied page ranges\n",
        "            for title, page_list in toc_entries:\n",
        "                # The title string for the current entry\n",
        "                title_text = title\n",
        "\n",
        "                # The page number string of the target page for this entry\n",
        "                page_number_text = f\"{page_number}\"\n",
        "\n",
        "                # The width of the page number string\n",
        "                page_number_width = text_gen.get_width(page_number_text)\n",
        "\n",
        "                # Compute the number of filler dots to be displayed between the entry title and the page number\n",
        "                filler_dots_count = int(\n",
        "                    (text_width - text_gen.get_width(title_text) - page_number_width)\n",
        "                    / text_gen.get_width(\".\")\n",
        "                )\n",
        "\n",
        "                # Move to the current location and show the entry's title and the filler dots\n",
        "                text_gen.move_to(location)\n",
        "                text_gen.show(title_text + \".\" * filler_dots_count)\n",
        "\n",
        "                # Show the page number\n",
        "                text_gen.move_to(Point(x=page.size.width - border - page_number_width, y=location.y))\n",
        "                text_gen.show(page_number_text)\n",
        "\n",
        "                # Compute the rectangle for the link\n",
        "                link_rectangle = Rectangle(\n",
        "                    left=border,\n",
        "                    bottom=location.y + font.descent * title_size,\n",
        "                    right=border + text_width,\n",
        "                    top=location.y + font.ascent * title_size,\n",
        "                )\n",
        "\n",
        "                # Create a destination to the first page of the current page range and create a link for this destination\n",
        "                target_page = page_list[0]\n",
        "                destination = LocationZoomDestination.create(out_doc, target_page, 0, target_page.size.height, None)\n",
        "                link = InternalLink.create(out_doc, link_rectangle, destination)\n",
        "\n",
        "                # Add the link to the table of contents page\n",
        "                page.links.append(link)\n",
        "\n",
        "                # Advance the location for the next entry\n",
        "                location.y -= 1.8 * title_size\n",
        "                page_number += len(page_list)\n",
        "\n",
        "        # Paint the generated text\n",
        "        content_generator.paint_text(text)\n",
        "\n",
        "    return page"
      ]
    },
    {
      "cell_type": "code",
      "execution_count": null,
      "id": "ae97b9de-0086-44bf-87c8-71263bc56848",
      "metadata": {
          "id": "e7b0db5c-167c-4cf3-bb0c-02e6a3dc241f"
      },
      "outputs": [],
      "source": [
        "try:\n",
        "    # Set and check license key. If the license key is not valid, an exception is thrown.\n",
        "    from pdftools_toolbox.sdk import Sdk\n",
        "    Sdk.initialize(\"<PDFSDK,V1,MGAASQD6L2JMQHL54PK08RQX8GG4SS0M8DAHVPH0VMP3NB8R9DUK>\", None)\n",

        "\n",
        "    # Create output document\n",
        "    with open(output_file_path, \"wb+\") as out_stream:\n",
        "        with Document.create(out_stream, None, None) as out_doc:\n",
        "            # Create embedded font in output document\n",
        "            font = Font.create_from_system(out_doc, \"Arial\", None, True)\n",
        "    \n",
        "            # Define page copy options\n",
        "            page_copy_options = PageCopyOptions()\n",
        "    \n",
        "            # List of copied pages that will be added to the table of contents\n",
        "            toc_entries = []\n",
        "    \n",
        "            # A page number counter\n",
        "            page_number = 2\n",
        "    \n",
        "            # Copy all input documents pages\n",
        "            for input_path in input_paths:\n",
        "                # Open input document\n",
        "                with open(input_path, \"rb\") as in_stream:\n",
        "                    with Document.open(in_stream, None) as in_doc:\n",
        "    \n",
        "                        # Copy all pages and append to output document\n",
        "                        copied_pages = PageList.copy(out_doc, in_doc.pages, page_copy_options)\n",
        "    \n",
        "                        for copied_page in copied_pages:\n",
        "                            add_page_number(out_doc, copied_page, font, page_number)\n",
        "                            page_number += 1\n",
        "    \n",
        "                        # Create outline item\n",
        "                        title = in_doc.metadata.title or os.path.splitext(os.path.basename(input_path))[0]\n",
        "                        toc_entries.append((title, copied_pages))\n",
        "    \n",
        "            # Create table of contents page\n",
        "            contents_page = create_table_of_contents(out_doc, toc_entries, font)\n",
        "            add_page_number(out_doc, contents_page, font, 1)\n",
        "    \n",
        "            # Add pages to the output document\n",
        "            out_doc.pages.append(contents_page)\n",
        "            for _, pages in toc_entries:\n",
        "                out_doc.pages.extend(pages)\n",

        "\n",
        "    print(\"Execution successful.\")\n",

        "except Exception as e:\n",
        "    print(f\"An error occurred: {e}\")"
      ]
    }
  ],
  "metadata": {
    "kernelspec": {
      "display_name": "Python 3",
      "language": "python",
      "name": "python3"
    },
    "language_info": {
      "codemirror_mode": {
        "name": "ipython",
        "version": 3
      },
      "file_extension": ".py",
      "mimetype": "text/x-python",
      "name": "python",
      "nbconvert_exporter": "python",
      "pygments_lexer": "ipython3",
      "version": "3.12.8"
    },
    "colab": {
      "provenance": []
    }
  },
  "nbformat": 4,
  "nbformat_minor": 5
}