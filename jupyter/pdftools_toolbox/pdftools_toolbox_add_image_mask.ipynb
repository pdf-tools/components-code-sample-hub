{
  "cells": [
    {
      "cell_type": "markdown",
      "id": "395e0591-f4b1-4fe7-97be-7e37e0abee5a",
      "metadata": {
          "id": "6439acae-210c-47b6-90b4-02219792f932"
      },
      "source": [
        "[![Open In Colab](https://colab.research.google.com/assets/colab-badge.svg)](https://colab.research.google.com/github/pdf-tools/components-code-sample-hub/blob/main/jupyter/pdftools_toolbox/pdftools_toolbox_add_image_mask.ipynb)"
      ]
    },
    {
      "cell_type": "code",
      "execution_count": null,
      "id": "14cef666-1a59-4cc2-9370-26064b567404",
      "metadata": {
          "id": "0038b616-5bee-4704-8bb5-8fcc1586610a"
      },
      "outputs": [],
      "source": [
        "%pip install pdftools_toolbox\n",
        "%pip install ipython"
      ]
    },
    {
      "cell_type": "markdown",
      "id": "210c41ce-4b06-4f01-ac62-35d0b5b8875b",
      "metadata": {
          "id": "d55e36da-a1b1-4133-acf3-99d7848a9d3b"
      },
      "source": [
        "# Add image mask to PDF\n",
        "Place a rectangular image mask at a specified location of\n",
        "a page. The image mask is a stencil mask to fill or mask\n",
        "out the image per pixel."
      ]
    },
    {
      "cell_type": "code",
      "execution_count": null,
      "id": "db9969b9-6bf9-49d2-ba03-a83803ebaa42",
      "metadata": {
          "id": "cd165618-9086-415c-9c4e-07f20774ebfd"
      },
      "outputs": [],
      "source": [
        "import io\n",
        "import io\n",
        "from pdftools_toolbox.pdf import Document, FileReference, Metadata, Page, PageCopyOptions, PageList\n",
        "from pdftools_toolbox.geometry.real import Rectangle\n",
        "from pdftools_toolbox.pdf.content import ColorSpace, ContentGenerator, IccBasedColorSpace, ImageMask, Paint, ProcessColorSpaceType\n",
        "from pdftools_toolbox.pdf.navigation import ViewerSettings"
      ]
    },
    {
      "cell_type": "code",
      "execution_count": null,
      "id": "5051eeb4-b59f-45c8-8f90-ae902d25f610",
      "metadata": {
          "id": "b8b933b5-e95e-414e-9f7c-cf707909ca58"
      },
      "outputs": [],
      "source": [
        "# Download a file from a given URL and save it to the local system\n",
        "def prepare_file(url: str, path: str):\n",
        "    import requests\n",
        "    response = requests.get(url)\n",
        "    response.raise_for_status()\n",
        "\n",
        "    with open(path, 'wb') as f:\n",
        "        f.write(response.content)"
      ]
    },
    {
      "cell_type": "code",
      "execution_count": null,
      "id": "606dc131-34e7-4d62-8ede-8d86740bfc38",
      "metadata": {
          "id": "f1065457-08f3-4776-a0dc-ec7a1135f24c"
      },
      "outputs": [],
      "source": [
        "# Set input arguments\n",
        "input_url = 'https://pdftools-public-downloads-production.s3.eu-west-1.amazonaws.com/samples/testfiles/BlankNoneNoTP.pdf'\n",
        "input_file_path = 'BlankNoneNoTP.pdf'\n",
        "prepare_file(input_url, input_file_path)\n",
        "image_mask_url = 'https://pdftools-public-downloads-production.s3.eu-west-1.amazonaws.com/samples/testfiles/TestFileResources/bird_bw.tif'\n",
        "image_mask_path = 'bird_bw.tif'\n",
        "prepare_file(image_mask_url, image_mask_path)\n",
        "output_file_path = 'BlankWithImageMask.pdf'"
      ]
    },
    {
      "cell_type": "code",
      "execution_count": null,
      "id": "8cf34ee3-e4b0-4a80-8d89-1e9e775247dd",
      "metadata": {
          "id": "ea6c6db0-c3e0-4e55-809d-f75fa75c7a46"
      },
      "outputs": [],
      "source": [
        "def copy_document_data(in_doc: Document, out_doc: Document):\n",
        "    # Copy document-wide data\n",
        "\n",
        "    # Output intent\n",
        "    if in_doc.output_intent is not None:\n",
        "        in_doc.output_intent = IccBasedColorSpace.copy(out_doc, in_doc.output_intent)\n",
        "\n",
        "    # Metadata\n",
        "    out_doc.metadata = Metadata.copy(out_doc, in_doc.metadata)\n",
        "\n",
        "    # Viewer settings\n",
        "    out_doc.viewer_settings = ViewerSettings.copy(out_doc, in_doc.viewer_settings)\n",
        "\n",
        "    # Associated files (for PDF/A-3 and PDF 2.0 only)\n",
        "    outAssociatedFiles = out_doc.associated_files\n",
        "    for in_file_ref in in_doc.associated_files:\n",
        "        outAssociatedFiles.append(FileReference.copy(out_doc, in_file_ref))\n",
        "\n",
        "    # Plain embedded files\n",
        "    out_embedded_files = out_doc.plain_embedded_files\n",
        "    for in_file_ref in in_doc.plain_embedded_files:\n",
        "        out_embedded_files.append(FileReference.copy(out_doc, in_file_ref))"
      ]
    },{
      "cell_type": "code",
      "execution_count": null,
      "id": "9bb98f8a-fe28-47ff-96b5-ca1364b30d0b",
      "metadata": {
          "id": "8a812952-4f2c-4d22-8872-bf7adea151d5"
      },
      "outputs": [],
      "source": [
        "def add_image_mask(document: Document, page: Page, image_path: str, x: float, y: float):\n",
        "    # Create content generator\n",
        "    with ContentGenerator(page.content, False) as generator:\n",
        "\n",
        "        # Load image from input path\n",
        "        with io.FileIO(image_path, 'rb') as in_image_stream:\n",
        "            # Create image mask object\n",
        "            image_mask = ImageMask.create(document, in_image_stream)\n",
        "            resolution = 150\n",
        "\n",
        "            # Calculate rectangle for image\n",
        "            size = image_mask.size\n",
        "            rect = Rectangle(\n",
        "                left=x,\n",
        "                bottom=y,\n",
        "                right=x + size.width * 72 / resolution,\n",
        "                top=y + size.height * 72 / resolution\n",
        "            )\n",
        "\n",
        "            # Paint image mask into the specified rectangle\n",
        "            generator.paint_image_mask(image_mask, rect, paint)"
      ]
    },
    {
      "cell_type": "code",
      "execution_count": null,
      "id": "66a46a84-b4d0-4183-9a41-7968badb4992",
      "metadata": {
          "id": "3e7360c5-eadd-44d9-87ba-b29e7868c40d"
      },
      "outputs": [],
      "source": [
        "try:\n",
        "    # Set and check license key. If the license key is not valid, an exception is thrown.\n",
        "    from pdftools_toolbox.sdk import Sdk\n",
        "    Sdk.initialize(\"INSERT-LICENSE-KEY\", None)\n",

        "\n",
        "    # Open input document\n",
        "    with io.FileIO(input_file_path, 'rb') as in_stream:\n",
        "        with Document.open(in_stream, None) as in_doc:\n",
        "    \n",
        "            # Create output document\n",
        "            with io.FileIO(output_file_path, 'wb+') as output_stream:\n",
        "                with Document.create(output_stream, in_doc.conformance, None) as out_doc:\n",
        "    \n",
        "                    # Copy document-wide data\n",
        "                    copy_document_data(in_doc, out_doc)\n",
        "    \n",
        "                    # Get the device color space\n",
        "                    color_space = ColorSpace.create_process_color_space(out_doc, ProcessColorSpaceType.RGB)\n",
        "    \n",
        "                    # Create paint object\n",
        "                    paint = Paint.create(out_doc, color_space, [1.0, 0.0, 0.0], None)\n",
        "    \n",
        "                    # Define page copy options\n",
        "                    copy_options = PageCopyOptions()\n",
        "    \n",
        "                    # Copy first page, add image mask, and append to output document\n",
        "                    out_page = Page.copy(out_doc, in_doc.pages[0], copy_options)\n",
        "                    add_image_mask(out_doc, out_page, image_mask_path, 250, 150)\n",
        "                    out_doc.pages.append(out_page)\n",
        "    \n",
        "                    # Copy remaining pages and append to output document\n",
        "                    in_page_range = in_doc.pages[1:]\n",
        "                    copied_pages = PageList.copy(out_doc, in_page_range, copy_options)\n",
        "                    out_doc.pages.extend(copied_pages)\n",

        "\n",
        "    print(\"Execution successful.\")\n",

        "except Exception as e:\n",
        "    print(f\"An error occurred: {e}\")"
      ]
    }
  ],
  "metadata": {
    "kernelspec": {
      "display_name": "Python 3",
      "language": "python",
      "name": "python3"
    },
    "language_info": {
      "codemirror_mode": {
        "name": "ipython",
        "version": 3
      },
      "file_extension": ".py",
      "mimetype": "text/x-python",
      "name": "python",
      "nbconvert_exporter": "python",
      "pygments_lexer": "ipython3",
      "version": "3.12.8"
    },
    "colab": {
      "provenance": []
    }
  },
  "nbformat": 4,
  "nbformat_minor": 5
}