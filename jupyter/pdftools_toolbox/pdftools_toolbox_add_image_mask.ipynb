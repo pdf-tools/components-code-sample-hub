{
  "cells": [
    {
      "cell_type": "markdown",
      "id": "6e8f7e67-4f75-4edc-a6ac-631b5d785eb6",
      "metadata": {
          "id": "18e0f02a-ec7c-44cf-b9e4-04a546daf5cc"
      },
      "source": [
        "[![Open In Colab](https://colab.research.google.com/assets/colab-badge.svg)](https://colab.research.google.com/github/pdf-tools/components-code-sample-hub/blob/main/jupyter/pdftools_toolbox/pdftools_toolbox_add_image_mask.ipynb)"
      ]
    },
    {
      "cell_type": "code",
      "execution_count": null,
      "id": "7dae9d73-1030-4143-8d9f-32aa2de1d46c",
      "metadata": {
          "id": "8dcc0416-59ca-4fed-9162-b14fb240b464"
      },
      "outputs": [],
      "source": [
        "%pip install https://pdftools-public-downloads-production.s3.eu-west-1.amazonaws.com/productkits/PDFSDKXT/latest/pdftools_toolbox-latest.tar.gz\n",
        "%pip install ipython"
      ]
    },
    {
      "cell_type": "markdown",
      "id": "6d7666e1-3bf5-4535-a311-cd53f37a5870",
      "metadata": {
          "id": "8a2c51c3-4d23-4fe2-b368-b036fa2e4543"
      },
      "source": [
        "# Add image mask to PDF\n",
        "Place a rectangular image mask at a specified location of\n",
        "a page. The image mask is a stencil mask to fill or mask\n",
        "out the image per pixel."
      ]
    },
    {
      "cell_type": "code",
      "execution_count": null,
      "id": "55ca5358-3edd-49dd-8c3c-9e48dfffb7f3",
      "metadata": {
          "id": "160fc890-6cbb-4f97-bba2-049c3a381eef"
      },
      "outputs": [],
      "source": [
        "import io\n",
        "import io\n",
        "from pdftools_toolbox.pdf import Document, FileReference, Metadata, Page, PageCopyOptions, PageList\n",
        "from pdftools_toolbox.geometry.real import Rectangle\n",
        "from pdftools_toolbox.pdf.content import ColorSpace, ContentGenerator, IccBasedColorSpace, ImageMask, Paint, ProcessColorSpaceType\n",
        "from pdftools_toolbox.pdf.navigation import ViewerSettings"
      ]
    },
    {
      "cell_type": "code",
      "execution_count": null,
      "id": "9029401a-c46f-4361-8f6b-3384fea3456e",
      "metadata": {
          "id": "d318b17f-94ad-4c30-b30f-4569ec6fdf26"
      },
      "outputs": [],
      "source": [
        "# Download a file from a given URL and save it to the local system\n",
        "def prepare_file(url: str, path: str):\n",
        "    import requests\n",
        "    response = requests.get(url)\n",
        "    response.raise_for_status()\n",
        "\n",
        "    with open(path, 'wb') as f:\n",
        "        f.write(response.content)"
      ]
    },
    {
      "cell_type": "code",
      "execution_count": null,
      "id": "3a92a49b-5d2b-4018-8ec4-ff2b8bd14323",
      "metadata": {
          "id": "2fe8165a-c2a7-4bfc-9ced-d0b7425ae8a5"
      },
      "outputs": [],
      "source": [
        "# Set input arguments\n",
        "input_url = 'https://pdftools-public-downloads-production.s3.eu-west-1.amazonaws.com/samples/testfiles/BlankNoneNoTP.pdf'\n",
        "input_file_path = 'BlankNoneNoTP.pdf'\n",
        "prepare_file(input_url, input_file_path)\n",
        "image_mask_url = 'https://pdftools-public-downloads-production.s3.eu-west-1.amazonaws.com/samples/testfiles/TestFileResources/bird_bw.tif'\n",
        "image_mask_path = 'bird_bw.tif'\n",
        "prepare_file(image_mask_url, image_mask_path)\n",
        "output_file_path = 'BlankWithImageMask.pdf'"
      ]
    },
    {
      "cell_type": "code",
      "execution_count": null,
      "id": "b08d1e7a-2b12-4e9b-9e10-4cc2d5a3ea99",
      "metadata": {
          "id": "3f862357-f177-4b1c-979f-ef643fa42c8e"
      },
      "outputs": [],
      "source": [
        "def copy_document_data(in_doc: Document, out_doc: Document):\n",
        "    # Copy document-wide data\n",
        "\n",
        "    # Output intent\n",
        "    if in_doc.output_intent is not None:\n",
        "        in_doc.output_intent = IccBasedColorSpace.copy(out_doc, in_doc.output_intent)\n",
        "\n",
        "    # Metadata\n",
        "    out_doc.metadata = Metadata.copy(out_doc, in_doc.metadata)\n",
        "\n",
        "    # Viewer settings\n",
        "    out_doc.viewer_settings = ViewerSettings.copy(out_doc, in_doc.viewer_settings)\n",
        "\n",
        "    # Associated files (for PDF/A-3 and PDF 2.0 only)\n",
        "    outAssociatedFiles = out_doc.associated_files\n",
        "    for in_file_ref in in_doc.associated_files:\n",
        "        outAssociatedFiles.append(FileReference.copy(out_doc, in_file_ref))\n",
        "\n",
        "    # Plain embedded files\n",
        "    out_embedded_files = out_doc.plain_embedded_files\n",
        "    for in_file_ref in in_doc.plain_embedded_files:\n",
        "        out_embedded_files.append(FileReference.copy(out_doc, in_file_ref))"
      ]
    },
    {
      "cell_type": "code",
      "execution_count": null,
      "id": "27d51c05-48ad-443e-bfe9-544e2e192d8e",
      "metadata": {
          "id": "b870b44c-bd4e-4759-b9ca-c338f2df9368"
      },
      "outputs": [],
      "source": [
        "def add_image_mask(document: Document, page: Page, image_path: str, x: float, y: float):\n",
        "    # Create content generator\n",
        "    with ContentGenerator(page.content, False) as generator:\n",
        "\n",
        "        # Load image from input path\n",
        "        with io.FileIO(image_path, 'rb') as in_image_stream:\n",
        "            # Create image mask object\n",
        "            image_mask = ImageMask.create(document, in_image_stream)\n",
        "            resolution = 150\n",
        "\n",
        "            # Calculate rectangle for image\n",
        "            size = image_mask.size\n",
        "            rect = Rectangle(\n",
        "                left=x,\n",
        "                bottom=y,\n",
        "                right=x + size.width * 72 / resolution,\n",
        "                top=y + size.height * 72 / resolution\n",
        "            )\n",
        "\n",
        "            # Paint image mask into the specified rectangle\n",
        "            generator.paint_image_mask(image_mask, rect, paint)"
      ]
    },
    {
      "cell_type": "code",
      "execution_count": null,
      "id": "e4b4de2c-798b-43fa-947d-d8c2db13acbf",
      "metadata": {
          "id": "b8899a3e-af07-4821-ab3f-870186daeac1"
      },
      "outputs": [],
      "source": [
        "try:\n",
        "    # Set and check license key. If the license key is not valid, an exception is thrown.\n",
        "    from pdftools_toolbox.sdk import Sdk\n",
        "    Sdk.initialize(\"INSERT-LICENSE-KEY\", None)\n",

        "\n",
        "    # Open input document\n",
        "    with io.FileIO(input_file_path, 'rb') as in_stream:\n",
        "        with Document.open(in_stream, None) as in_doc:\n",
        "    \n",
        "            # Create output document\n",
        "            with io.FileIO(output_file_path, 'wb+') as output_stream:\n",
        "                with Document.create(output_stream, in_doc.conformance, None) as out_doc:\n",
        "    \n",
        "                    # Copy document-wide data\n",
        "                    copy_document_data(in_doc, out_doc)\n",
        "    \n",
        "                    # Get the device color space\n",
        "                    color_space = ColorSpace.create_process_color_space(out_doc, ProcessColorSpaceType.RGB)\n",
        "    \n",
        "                    # Create paint object\n",
        "                    paint = Paint.create(out_doc, color_space, [1.0, 0.0, 0.0], None)\n",
        "    \n",
        "                    # Define page copy options\n",
        "                    copy_options = PageCopyOptions()\n",
        "    \n",
        "                    # Copy first page, add image mask, and append to output document\n",
        "                    out_page = Page.copy(out_doc, in_doc.pages[0], copy_options)\n",
        "                    add_image_mask(out_doc, out_page, image_mask_path, 250, 150)\n",
        "                    out_doc.pages.append(out_page)\n",
        "    \n",
        "                    # Copy remaining pages and append to output document\n",
        "                    in_page_range = in_doc.pages[1:]\n",
        "                    copied_pages = PageList.copy(out_doc, in_page_range, copy_options)\n",
        "                    out_doc.pages.extend(copied_pages)\n",

        "\n",
        "    print(\"Execution successful.\")\n",

        "except Exception as e:\n",
        "    print(f\"An error occurred: {e}\")"
      ]
    }
  ],
  "metadata": {
    "kernelspec": {
      "display_name": "Python 3",
      "language": "python",
      "name": "python3"
    },
    "language_info": {
      "codemirror_mode": {
        "name": "ipython",
        "version": 3
      },
      "file_extension": ".py",
      "mimetype": "text/x-python",
      "name": "python",
      "nbconvert_exporter": "python",
      "pygments_lexer": "ipython3",
      "version": "3.12.8"
    },
    "colab": {
      "provenance": []
    }
  },
  "nbformat": 4,
  "nbformat_minor": 5
}