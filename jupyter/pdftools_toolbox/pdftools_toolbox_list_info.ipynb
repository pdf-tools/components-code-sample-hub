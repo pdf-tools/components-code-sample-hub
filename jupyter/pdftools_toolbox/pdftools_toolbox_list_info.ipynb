{
  "cells": [
    {
      "cell_type": "markdown",
      "id": "579d7653-1f35-429a-8bce-fe168fe08e44",
      "metadata": {
          "id": "1f06b14b-c9b6-4523-8964-554c06388280"
      },
      "source": [
        "[![Open In Colab](https://colab.research.google.com/assets/colab-badge.svg)](https://colab.research.google.com/github/pdf-tools/components-code-sample-hub/blob/main/jupyter/pdftools_toolbox/pdftools_toolbox_list_info.ipynb)"
      ]
    },
    {
      "cell_type": "code",
      "execution_count": null,
      "id": "d14fec5b-b613-4a2d-9726-3171221a0cb0",
      "metadata": {
          "id": "e5a5a532-3dc0-4a0e-8d64-cec1f3fb974d"
      },
      "outputs": [],
      "source": [
        "%pip install pdftools_toolbox\n",
        "%pip install ipython"
      ]
    },
    {
      "cell_type": "markdown",
      "id": "93c43bce-636d-4e75-ace5-f953f1da765d",
      "metadata": {
          "id": "232f03bb-1244-4b69-9308-497cd6597f42"
      },
      "source": [
        "# List document information of PDF\n",
        "List attributes of a PDF document (i.e. conformance and\n",
        "encryption information) and metadata (i.e. author, title,\n",
        "creation date etc.)."
      ]
    },
    {
      "cell_type": "code",
      "execution_count": null,
      "id": "e6c954a4-993f-4588-afde-402bc7ba9352",
      "metadata": {
          "id": "f9ee986e-3e70-4f07-bfd3-6dc9a1665326"
      },
      "outputs": [],
      "source": [
        "import io\n",
        "from pdftools_toolbox.pdf import Document, Permission"
      ]
    },
    {
      "cell_type": "code",
      "execution_count": null,
      "id": "c722a075-bc1e-47a2-9e78-6e9ffd190bbe",
      "metadata": {
          "id": "0bab9fa8-35bd-48cf-a3c0-a048dd691d13"
      },
      "outputs": [],
      "source": [
        "# Download a file from a given URL and save it to the local system\n",
        "def prepare_file(url: str, path: str):\n",
        "    import requests\n",
        "    response = requests.get(url)\n",
        "    response.raise_for_status()\n",
        "\n",
        "    with open(path, 'wb') as f:\n",
        "        f.write(response.content)"
      ]
    },
    {
      "cell_type": "code",
      "execution_count": null,
      "id": "8f83b3a8-71c4-4286-9d73-ec5fd22de82d",
      "metadata": {
          "id": "5d8e7ad4-5a70-460f-a310-0fb4ee40398f"
      },
      "outputs": [],
      "source": [
        "# Set input arguments\n",
        "input_url = 'https://pdftools-public-downloads-production.s3.eu-west-1.amazonaws.com/samples/testfiles/InvoiceMetadata.pdf'\n",
        "input_file_path = 'InvoiceMetadata.pdf'\n",
        "prepare_file(input_url, input_file_path)\n",
        "pdf_password = None"
      ]
    },
    {
      "cell_type": "code",
      "execution_count": null,
      "id": "d49f3d21-a8ef-4217-8ef9-b32d37443340",
      "metadata": {
          "id": "368c92d9-d8a6-4330-8dc3-9bc8a24934e9"
      },
      "outputs": [],
      "source": [
        "def display_permissions(permissions: int):\n",
        "    \"\"\"Display encryption permissions in a readable format.\"\"\"\n",
        "    # Display active permission names\n",
        "    active_permissions = [perm.name for perm in Permission if permissions & perm]\n",
        "    for perm in active_permissions:\n",
        "        print(f\"  - {perm}\")"
      ]
    },{
      "cell_type": "code",
      "execution_count": null,
      "id": "e6e534e9-8c6c-4ef7-8e50-f89c8a952550",
      "metadata": {
          "id": "00c04175-8691-4a90-b581-ec443851cb96"
      },
      "outputs": [],
      "source": [
        "def list_pdf_info(input_doc: Document):\n",
        "    \"\"\"\n",
        "    List document information and metadata of the given PDF.\n",
        "    \"\"\"\n",
        "    # Conformance\n",
        "    print(f\"Conformance: {input_doc.conformance.name}\")\n",
        "\n",
        "    # Encryption information\n",
        "    permissions = input_doc.permissions\n",
        "    if permissions is None:\n",
        "        print(\"Not encrypted\")\n",
        "    else:\n",
        "        display_permissions(permissions)\n",
        "\n",
        "    # Get metadata\n",
        "    metadata = input_doc.metadata\n",
        "    print(\"Document information:\")\n",
        "\n",
        "    # Display standard metadata\n",
        "    if metadata.title:\n",
        "        print(f\"  - Title: {metadata.title}\")\n",
        "    if metadata.author:\n",
        "        print(f\"  - Author: {metadata.author}\")\n",
        "    if metadata.subject:\n",
        "        print(f\"  - Subject: {metadata.subject}\")\n",
        "    if metadata.keywords:\n",
        "        print(f\"  - Keywords: {metadata.keywords}\")\n",
        "    if metadata.creation_date:\n",
        "        print(f\"  - Creation Date: {metadata.creation_date}\")\n",
        "    if metadata.modification_date:\n",
        "        print(f\"  - Modification Date: {metadata.modification_date}\")\n",
        "    if metadata.creator:\n",
        "        print(f\"  - Creator: {metadata.creator}\")\n",
        "    if metadata.producer:\n",
        "        print(f\"  - Producer: {metadata.producer}\")\n",
        "\n",
        "    # Display custom entries\n",
        "    print(\"Custom entries:\")\n",
        "    for key, value in metadata.custom_entries.items():\n",
        "        print(f\"  - {key}: {value}\")"
      ]
    },
    {
      "cell_type": "code",
      "execution_count": null,
      "id": "d244ffac-05f1-4ec6-80a4-d52fe0db6227",
      "metadata": {
          "id": "ef390f89-8d07-4587-9204-115df17fdab2"
      },
      "outputs": [],
      "source": [
        "try:\n",
        "    # Set and check license key. If the license key is not valid, an exception is thrown.\n",
        "    from pdftools_toolbox.sdk import Sdk\n",
        "    Sdk.initialize(\"INSERT-LICENSE-KEY\", None)\n",

        "\n",
        "    # Open input document\n",
        "    with io.FileIO(input_file_path, \"rb\") as in_stream:\n",
        "        with Document.open(in_stream, pdf_password) as in_doc:\n",
        "            # Process the PDF\n",
        "            list_pdf_info(in_doc)\n",

        "\n",
        "    print(\"Execution successful.\")\n",

        "except Exception as e:\n",
        "    print(f\"An error occurred: {e}\")"
      ]
    }
  ],
  "metadata": {
    "kernelspec": {
      "display_name": "Python 3",
      "language": "python",
      "name": "python3"
    },
    "language_info": {
      "codemirror_mode": {
        "name": "ipython",
        "version": 3
      },
      "file_extension": ".py",
      "mimetype": "text/x-python",
      "name": "python",
      "nbconvert_exporter": "python",
      "pygments_lexer": "ipython3",
      "version": "3.12.8"
    },
    "colab": {
      "provenance": []
    }
  },
  "nbformat": 4,
  "nbformat_minor": 5
}