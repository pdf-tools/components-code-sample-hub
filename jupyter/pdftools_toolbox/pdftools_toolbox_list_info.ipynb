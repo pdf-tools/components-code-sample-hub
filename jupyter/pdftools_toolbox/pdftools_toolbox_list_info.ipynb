{
  "cells": [
    {
      "cell_type": "markdown",
      "id": "208a7e1e-bf07-43b2-8f39-189482ac5cc6",
      "metadata": {
          "id": "d4c6ba82-c534-4817-a432-3cd7c483784c"
      },
      "source": [
        "[![Open In Colab](https://colab.research.google.com/assets/colab-badge.svg)](https://colab.research.google.com/github/pdf-tools/components-code-sample-hub/blob/main/jupyter/pdftools_toolbox/pdftools_toolbox_list_info.ipynb)"
      ]
    },
    {
      "cell_type": "code",
      "execution_count": null,
      "id": "d2b8366b-9c70-4306-85d6-1f150091ebe1",
      "metadata": {
          "id": "68463e9c-cf9b-4615-89cc-08a108710e1b"
      },
      "outputs": [],
      "source": [
        "%pip install https://pdftools-public-downloads-production.s3.eu-west-1.amazonaws.com/productkits/PDFSDKXT/latest/pdftools_toolbox-latest.tar.gz\n",
        "%pip install ipython"
      ]
    },
    {
      "cell_type": "markdown",
      "id": "d98d874d-cee9-4dd7-80ea-a62f862ce3da",
      "metadata": {
          "id": "8ab86edd-e62c-4c86-9291-e57dad696867"
      },
      "source": [
        "# List document information of PDF\n",
        "List attributes of a PDF document (i.e. conformance and\n",
        "encryption information) and metadata (i.e. author, title,\n",
        "creation date etc.)."
      ]
    },
    {
      "cell_type": "code",
      "execution_count": null,
      "id": "1a35a7ef-f620-4a55-bccd-421092621338",
      "metadata": {
          "id": "e8df2096-c32b-448d-aa9c-777a810fb50f"
      },
      "outputs": [],
      "source": [
        "import io\n",
        "from pdftools_toolbox.pdf import Document, Permission"
      ]
    },
    {
      "cell_type": "code",
      "execution_count": null,
      "id": "47b0c04a-8f61-4d6d-8137-aa2e045917dc",
      "metadata": {
          "id": "2a522b92-eb48-406d-983d-0842268d53c0"
      },
      "outputs": [],
      "source": [
        "# Download a file from a given URL and save it to the local system\n",
        "def prepare_file(url: str, path: str):\n",
        "    import requests\n",
        "    response = requests.get(url)\n",
        "    response.raise_for_status()\n",
        "\n",
        "    with open(path, 'wb') as f:\n",
        "        f.write(response.content)"
      ]
    },
    {
      "cell_type": "code",
      "execution_count": null,
      "id": "fc2e5724-75c7-447e-9886-73514062d6bd",
      "metadata": {
          "id": "007cafbc-5650-46d7-9c24-cbb15e3c091f"
      },
      "outputs": [],
      "source": [
        "# Set input arguments\n",
        "input_url = 'https://pdftools-public-downloads-production.s3.eu-west-1.amazonaws.com/samples/testfiles/InvoiceMetadata.pdf'\n",
        "input_file_path = 'InvoiceMetadata.pdf'\n",
        "prepare_file(input_url, input_file_path)\n",
        "pdf_password = None"
      ]
    },
    {
      "cell_type": "code",
      "execution_count": null,
      "id": "d1f4e9b2-2a96-4822-b4e2-7866fcad7839",
      "metadata": {
          "id": "b2b32edf-ba2c-481b-925f-a1892a3094d9"
      },
      "outputs": [],
      "source": [
        "def display_permissions(permissions: int):\n",
        "    \"\"\"Display encryption permissions in a readable format.\"\"\"\n",
        "    # Display active permission names\n",
        "    active_permissions = [perm.name for perm in Permission if permissions & perm]\n",
        "    for perm in active_permissions:\n",
        "        print(f\"  - {perm}\")"
      ]
    },
    {
      "cell_type": "code",
      "execution_count": null,
      "id": "e23efc77-a7d4-4fa3-81ed-f89a0162c5f2",
      "metadata": {
          "id": "960c1ddf-a363-43d5-be3e-c084c816d212"
      },
      "outputs": [],
      "source": [
        "def list_pdf_info(input_doc: Document):\n",
        "    \"\"\"\n",
        "    List document information and metadata of the given PDF.\n",
        "    \"\"\"\n",
        "    # Conformance\n",
        "    print(f\"Conformance: {input_doc.conformance.name}\")\n",
        "\n",
        "    # Encryption information\n",
        "    permissions = input_doc.permissions\n",
        "    if permissions is None:\n",
        "        print(\"Not encrypted\")\n",
        "    else:\n",
        "        display_permissions(permissions)\n",
        "\n",
        "    # Get metadata\n",
        "    metadata = input_doc.metadata\n",
        "    print(\"Document information:\")\n",
        "\n",
        "    # Display standard metadata\n",
        "    if metadata.title:\n",
        "        print(f\"  - Title: {metadata.title}\")\n",
        "    if metadata.author:\n",
        "        print(f\"  - Author: {metadata.author}\")\n",
        "    if metadata.subject:\n",
        "        print(f\"  - Subject: {metadata.subject}\")\n",
        "    if metadata.keywords:\n",
        "        print(f\"  - Keywords: {metadata.keywords}\")\n",
        "    if metadata.creation_date:\n",
        "        print(f\"  - Creation Date: {metadata.creation_date}\")\n",
        "    if metadata.modification_date:\n",
        "        print(f\"  - Modification Date: {metadata.modification_date}\")\n",
        "    if metadata.creator:\n",
        "        print(f\"  - Creator: {metadata.creator}\")\n",
        "    if metadata.producer:\n",
        "        print(f\"  - Producer: {metadata.producer}\")\n",
        "\n",
        "    # Display custom entries\n",
        "    print(\"Custom entries:\")\n",
        "    for key, value in metadata.custom_entries.items():\n",
        "        print(f\"  - {key}: {value}\")"
      ]
    },
    {
      "cell_type": "code",
      "execution_count": null,
      "id": "e1ff59c6-3cec-4912-b7b2-157067c3b118",
      "metadata": {
          "id": "ba7f2f5d-778d-49cf-bf5e-af8af55f8aeb"
      },
      "outputs": [],
      "source": [
        "try:\n",
        "    # Set and check license key. If the license key is not valid, an exception is thrown.\n",
        "    from pdftools_toolbox.sdk import Sdk\n",
        "    Sdk.initialize(\"INSERT-LICENSE-KEY\", None)\n",

        "\n",
        "    # Open input document\n",
        "    with io.FileIO(input_file_path, \"rb\") as in_stream:\n",
        "        with Document.open(in_stream, pdf_password) as in_doc:\n",
        "            # Process the PDF\n",
        "            list_pdf_info(in_doc)\n",

        "\n",
        "    print(\"Execution successful.\")\n",

        "except Exception as e:\n",
        "    print(f\"An error occurred: {e}\")"
      ]
    }
  ],
  "metadata": {
    "kernelspec": {
      "display_name": "Python 3",
      "language": "python",
      "name": "python3"
    },
    "language_info": {
      "codemirror_mode": {
        "name": "ipython",
        "version": 3
      },
      "file_extension": ".py",
      "mimetype": "text/x-python",
      "name": "python",
      "nbconvert_exporter": "python",
      "pygments_lexer": "ipython3",
      "version": "3.12.8"
    },
    "colab": {
      "provenance": []
    }
  },
  "nbformat": 4,
  "nbformat_minor": 5
}