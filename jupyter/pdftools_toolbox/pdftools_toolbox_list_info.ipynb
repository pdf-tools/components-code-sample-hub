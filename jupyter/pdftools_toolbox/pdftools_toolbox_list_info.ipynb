{
  "cells": [
    {
      "cell_type": "markdown",
      "id": "8c4a4072-7f5c-40d5-b48f-0e1f3b5869f1",
      "metadata": {
          "id": "b33e4c02-fda3-41f4-9509-187b3fd8b377"
      },
      "source": [
        "[![Open In Colab](https://colab.research.google.com/assets/colab-badge.svg)](https://colab.research.google.com/github/pdf-tools/components-code-sample-hub/blob/main/jupyter/pdftools_toolbox/pdftools_toolbox_list_info.ipynb)"
      ]
    },
    {
      "cell_type": "code",
      "execution_count": null,
      "id": "943cb56e-123f-4aab-9a4a-e7485df32639",
      "metadata": {
          "id": "5afc2d06-1950-4348-9586-644d40237a03"
      },
      "outputs": [],
      "source": [
        "%pip install https://pdftools-public-downloads-production.s3.eu-west-1.amazonaws.com/productkits/PDFSDKXT/latest/pdftools_toolbox-latest.tar.gz\n",
        "%pip install ipython"
      ]
    },
    {
      "cell_type": "markdown",
      "id": "7aca0e4f-6fbf-46da-85fd-8893925b380c",
      "metadata": {
          "id": "300dcbf2-3a30-4d44-89de-5b290f02ccc8"
      },
      "source": [
        "# List document information of PDF\n",
        "List attributes of a PDF document (i.e. conformance and\n",
        "encryption information) and metadata (i.e. author, title,\n",
        "creation date etc.)."
      ]
    },
    {
      "cell_type": "code",
      "execution_count": null,
      "id": "053252c9-0c47-4d0f-beae-31edf4c010da",
      "metadata": {
          "id": "af9490c2-f93b-4f90-b906-069fe2447046"
      },
      "outputs": [],
      "source": [
        "import io\n",
        "from pdftools_toolbox.pdf import Document, Permission"
      ]
    },
    {
      "cell_type": "code",
      "execution_count": null,
      "id": "b6b08ee6-7a95-40e0-8012-add4b51eb8ac",
      "metadata": {
          "id": "968cf3cf-07d2-410c-99da-a63ab5ca1cc5"
      },
      "outputs": [],
      "source": [
        "# Download a file from a given URL and save it to the local system\n",
        "def prepare_file(url: str, path: str):\n",
        "    import requests\n",
        "    response = requests.get(url)\n",
        "    response.raise_for_status()\n",
        "\n",
        "    with open(path, 'wb') as f:\n",
        "        f.write(response.content)"
      ]
    },
    {
      "cell_type": "code",
      "execution_count": null,
      "id": "2b77cbe0-0690-4f11-86f1-11ba3b923efc",
      "metadata": {
          "id": "69d8fb3b-3608-4f03-bfb6-d6304244fd9c"
      },
      "outputs": [],
      "source": [
        "# Set input arguments\n",
        "input_url = 'https://pdftools-public-downloads-production.s3.eu-west-1.amazonaws.com/samples/testfiles/InvoiceMetadata.pdf'\n",
        "input_file_path = 'InvoiceMetadata.pdf'\n",
        "prepare_file(input_url, input_file_path)\n",
        "pdf_password = None"
      ]
    },
    {
      "cell_type": "code",
      "execution_count": null,
      "id": "f64195aa-2eac-4987-8005-9a02945fac50",
      "metadata": {
          "id": "9d693f27-876d-45b5-919f-5dad1aa80de9"
      },
      "outputs": [],
      "source": [
        "def display_permissions(permissions: int):\n",
        "    \"\"\"Display encryption permissions in a readable format.\"\"\"\n",
        "    # Display active permission names\n",
        "    active_permissions = [perm.name for perm in Permission if permissions & perm]\n",
        "    for perm in active_permissions:\n",
        "        print(f\"  - {perm}\")"
      ]
    },
    {
      "cell_type": "code",
      "execution_count": null,
      "id": "5fde321a-ab21-48c5-a37b-bd3eb2ab57b1",
      "metadata": {
          "id": "93960563-9ccb-420a-b382-d2be7533af1f"
      },
      "outputs": [],
      "source": [
        "def list_pdf_info(input_doc: Document):\n",
        "    \"\"\"\n",
        "    List document information and metadata of the given PDF.\n",
        "    \"\"\"\n",
        "    # Conformance\n",
        "    print(f\"Conformance: {input_doc.conformance.name}\")\n",
        "\n",
        "    # Encryption information\n",
        "    permissions = input_doc.permissions\n",
        "    if permissions is None:\n",
        "        print(\"Not encrypted\")\n",
        "    else:\n",
        "        display_permissions(permissions)\n",
        "\n",
        "    # Get metadata\n",
        "    metadata = input_doc.metadata\n",
        "    print(\"Document information:\")\n",
        "\n",
        "    # Display standard metadata\n",
        "    if metadata.title:\n",
        "        print(f\"  - Title: {metadata.title}\")\n",
        "    if metadata.author:\n",
        "        print(f\"  - Author: {metadata.author}\")\n",
        "    if metadata.subject:\n",
        "        print(f\"  - Subject: {metadata.subject}\")\n",
        "    if metadata.keywords:\n",
        "        print(f\"  - Keywords: {metadata.keywords}\")\n",
        "    if metadata.creation_date:\n",
        "        print(f\"  - Creation Date: {metadata.creation_date}\")\n",
        "    if metadata.modification_date:\n",
        "        print(f\"  - Modification Date: {metadata.modification_date}\")\n",
        "    if metadata.creator:\n",
        "        print(f\"  - Creator: {metadata.creator}\")\n",
        "    if metadata.producer:\n",
        "        print(f\"  - Producer: {metadata.producer}\")\n",
        "\n",
        "    # Display custom entries\n",
        "    print(\"Custom entries:\")\n",
        "    for key, value in metadata.custom_entries.items():\n",
        "        print(f\"  - {key}: {value}\")"
      ]
    },
    {
      "cell_type": "code",
      "execution_count": null,
      "id": "40631ab5-d188-4d1c-bb8d-b15706317856",
      "metadata": {
          "id": "3c2c2793-5fa9-4fe9-b482-cc49270238ca"
      },
      "outputs": [],
      "source": [
        "try:\n",
        "    # Set and check license key. If the license key is not valid, an exception is thrown.\n",
        "    from pdftools_toolbox.sdk import Sdk\n",
        "    Sdk.initialize(\"INSERT-LICENSE-KEY\", None)\n",

        "\n",
        "    # Open input document\n",
        "    with io.FileIO(input_file_path, \"rb\") as in_stream:\n",
        "        with Document.open(in_stream, pdf_password) as in_doc:\n",
        "            # Process the PDF\n",
        "            list_pdf_info(in_doc)\n",

        "\n",
        "    print(\"Execution successful.\")\n",

        "except Exception as e:\n",
        "    print(f\"An error occurred: {e}\")"
      ]
    }
  ],
  "metadata": {
    "kernelspec": {
      "display_name": "Python 3",
      "language": "python",
      "name": "python3"
    },
    "language_info": {
      "codemirror_mode": {
        "name": "ipython",
        "version": 3
      },
      "file_extension": ".py",
      "mimetype": "text/x-python",
      "name": "python",
      "nbconvert_exporter": "python",
      "pygments_lexer": "ipython3",
      "version": "3.12.8"
    },
    "colab": {
      "provenance": []
    }
  },
  "nbformat": 4,
  "nbformat_minor": 5
}