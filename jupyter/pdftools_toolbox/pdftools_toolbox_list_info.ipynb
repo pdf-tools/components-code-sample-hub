{
  "cells": [
    {
      "cell_type": "markdown",
      "id": "65bcf0ca-a497-4720-820c-6d2fd2067ea6",
      "metadata": {
          "id": "34bbe96d-32a5-4680-83a4-02b3cfad294f"
      },
      "source": [
        "[![Open In Colab](https://colab.research.google.com/assets/colab-badge.svg)](https://colab.research.google.com/github/pdf-tools/components-code-sample-hub/blob/main/jupyter/pdftools_toolbox/pdftools_toolbox_list_info.ipynb)"
      ]
    },
    {
      "cell_type": "code",
      "execution_count": null,
      "id": "1b0ae395-ffc0-49db-986e-5e3d1f623ca3",
      "metadata": {
          "id": "e0285459-2a4e-4a36-b426-7f7b0ce5183c"
      },
      "outputs": [],
      "source": [
        "%pip install https://pdftools-public-downloads-production.s3.eu-west-1.amazonaws.com/productkits/PDFSDKXT/latest/pdftools_toolbox-latest.tar.gz\n",
        "%pip install ipython"
      ]
    },
    {
      "cell_type": "markdown",
      "id": "a4b106c6-9ffc-460d-9138-3cc21f4f2735",
      "metadata": {
          "id": "ac148345-b088-4ff2-ad28-e6253466420d"
      },
      "source": [
        "# List document information of PDF\n",
        "List attributes of a PDF document (i.e. conformance and\n",
        "encryption information) and metadata (i.e. author, title,\n",
        "creation date etc.)."
      ]
    },
    {
      "cell_type": "code",
      "execution_count": null,
      "id": "67756c06-a0f8-4adb-a54a-b2bbc6649517",
      "metadata": {
          "id": "d68aba69-7da7-4a48-855c-e0fe4a3d25c4"
      },
      "outputs": [],
      "source": [
        "import io\n",
        "from pdftools_toolbox.pdf import Document, Permission"
      ]
    },
    {
      "cell_type": "code",
      "execution_count": null,
      "id": "fc3ff2d0-d4b4-4779-8997-6ded14efb3c3",
      "metadata": {
          "id": "c135404e-9cbf-429a-9872-22b74b011a28"
      },
      "outputs": [],
      "source": [
        "# Download a file from a given URL and save it to the local system\n",
        "def prepare_file(url: str, path: str):\n",
        "    import requests\n",
        "    response = requests.get(url)\n",
        "    response.raise_for_status()\n",
        "\n",
        "    with open(path, 'wb') as f:\n",
        "        f.write(response.content)"
      ]
    },
    {
      "cell_type": "code",
      "execution_count": null,
      "id": "43681cd9-a1ce-4766-80e1-879914208886",
      "metadata": {
          "id": "5aa9d572-2a86-4585-9464-55e78c07b28d"
      },
      "outputs": [],
      "source": [
        "# Set input arguments\n",
        "input_url = 'https://pdftools-public-downloads-production.s3.eu-west-1.amazonaws.com/samples/testfiles/InvoiceMetadata.pdf'\n",
        "input_file_path = 'InvoiceMetadata.pdf'\n",
        "prepare_file(input_url, input_file_path)\n",
        "pdf_password = None"
      ]
    },
    {
      "cell_type": "code",
      "execution_count": null,
      "id": "2d10ebee-3f06-49e5-be88-e5976f5d9e72",
      "metadata": {
          "id": "f49bc6a9-83fb-41cc-919a-2d56f6174f07"
      },
      "outputs": [],
      "source": [
        "def display_permissions(permissions: int):\n",
        "    \"\"\"Display encryption permissions in a readable format.\"\"\"\n",
        "    # Display active permission names\n",
        "    active_permissions = [perm.name for perm in Permission if permissions & perm]\n",
        "    for perm in active_permissions:\n",
        "        print(f\"  - {perm}\")"
      ]
    },
    {
      "cell_type": "code",
      "execution_count": null,
      "id": "8c6e6b9b-90ed-4113-a567-fdae0bcea330",
      "metadata": {
          "id": "e07ade06-74ef-410b-b5c6-956f3c3eec0d"
      },
      "outputs": [],
      "source": [
        "def list_pdf_info(input_doc: Document):\n",
        "    \"\"\"\n",
        "    List document information and metadata of the given PDF.\n",
        "    \"\"\"\n",
        "    # Conformance\n",
        "    print(f\"Conformance: {input_doc.conformance.name}\")\n",
        "\n",
        "    # Encryption information\n",
        "    permissions = input_doc.permissions\n",
        "    if permissions is None:\n",
        "        print(\"Not encrypted\")\n",
        "    else:\n",
        "        display_permissions(permissions)\n",
        "\n",
        "    # Get metadata\n",
        "    metadata = input_doc.metadata\n",
        "    print(\"Document information:\")\n",
        "\n",
        "    # Display standard metadata\n",
        "    if metadata.title:\n",
        "        print(f\"  - Title: {metadata.title}\")\n",
        "    if metadata.author:\n",
        "        print(f\"  - Author: {metadata.author}\")\n",
        "    if metadata.subject:\n",
        "        print(f\"  - Subject: {metadata.subject}\")\n",
        "    if metadata.keywords:\n",
        "        print(f\"  - Keywords: {metadata.keywords}\")\n",
        "    if metadata.creation_date:\n",
        "        print(f\"  - Creation Date: {metadata.creation_date}\")\n",
        "    if metadata.modification_date:\n",
        "        print(f\"  - Modification Date: {metadata.modification_date}\")\n",
        "    if metadata.creator:\n",
        "        print(f\"  - Creator: {metadata.creator}\")\n",
        "    if metadata.producer:\n",
        "        print(f\"  - Producer: {metadata.producer}\")\n",
        "\n",
        "    # Display custom entries\n",
        "    print(\"Custom entries:\")\n",
        "    for key, value in metadata.custom_entries.items():\n",
        "        print(f\"  - {key}: {value}\")"
      ]
    },
    {
      "cell_type": "code",
      "execution_count": null,
      "id": "fddf14fb-35d3-440c-a5cb-3c2d24824ae3",
      "metadata": {
          "id": "21a22086-1bfb-40e5-b7f2-7dc24ebc1cd3"
      },
      "outputs": [],
      "source": [
        "try:\n",
        "    # Set and check license key. If the license key is not valid, an exception is thrown.\n",
        "    from pdftools_toolbox.sdk import Sdk\n",
        "    Sdk.initialize(\"<PDFSDK,V1,MGAASQD6L2JMQHL54PK08RQX8GG4SS0M8DAHVPH0VMP3NB8R9DUK>\", None)\n",

        "\n",
        "    # Open input document\n",
        "    with io.FileIO(input_file_path, \"rb\") as in_stream:\n",
        "        with Document.open(in_stream, pdf_password) as in_doc:\n",
        "            # Process the PDF\n",
        "            list_pdf_info(in_doc)\n",

        "\n",
        "    print(\"Execution successful.\")\n",

        "except Exception as e:\n",
        "    print(f\"An error occurred: {e}\")"
      ]
    }
  ],
  "metadata": {
    "kernelspec": {
      "display_name": "Python 3",
      "language": "python",
      "name": "python3"
    },
    "language_info": {
      "codemirror_mode": {
        "name": "ipython",
        "version": 3
      },
      "file_extension": ".py",
      "mimetype": "text/x-python",
      "name": "python",
      "nbconvert_exporter": "python",
      "pygments_lexer": "ipython3",
      "version": "3.12.8"
    },
    "colab": {
      "provenance": []
    }
  },
  "nbformat": 4,
  "nbformat_minor": 5
}