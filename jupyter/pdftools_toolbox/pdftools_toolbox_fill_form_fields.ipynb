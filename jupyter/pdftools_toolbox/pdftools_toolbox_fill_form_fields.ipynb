{
  "cells": [
    {
      "cell_type": "markdown",
      "id": "c6b8efae-eac7-48ad-ab38-c5a4cadbeb2e",
      "metadata": {
          "id": "08875028-fc14-47de-9ba8-1b2d33046b21"
      },
      "source": [
        "[![Open In Colab](https://colab.research.google.com/assets/colab-badge.svg)](https://colab.research.google.com/github/pdf-tools/components-code-sample-hub/blob/main/jupyter/pdftools_toolbox/pdftools_toolbox_fill_form_fields.ipynb)"
      ]
    },
    {
      "cell_type": "code",
      "execution_count": null,
      "id": "a8e5491f-a03f-4431-a7c1-ceabf0f99ef3",
      "metadata": {
          "id": "b0528593-5544-442a-bec9-321c9dd96aaf"
      },
      "outputs": [],
      "source": [
        "%pip install https://pdftools-public-downloads-production.s3.eu-west-1.amazonaws.com/productkits/PDFSDKXT/latest/pdftools_toolbox-latest.tar.gz\n",
        "%pip install ipython"
      ]
    },
    {
      "cell_type": "markdown",
      "id": "7077c5d7-f4ba-4830-9dc9-008924f587a5",
      "metadata": {
          "id": "04dc5bb3-180c-45cc-b7b6-d46af89a4ba2"
      },
      "source": [
        "# Fill Form Fields\n",
        "Change values of AcroForm form fields."
      ]
    },
    {
      "cell_type": "code",
      "execution_count": null,
      "id": "4b25a4e1-c6ab-4c0a-840d-a8043a4a737b",
      "metadata": {
          "id": "84067e5d-7d29-46e8-92d5-d38a8b82e5d1"
      },
      "outputs": [],
      "source": [
        "import io\n",
        "from pdftools_toolbox.pdf import CopyStrategy, Document, FileReference, Metadata, PageList, PageCopyOptions\n",
        "from pdftools_toolbox.pdf.forms import TextField, CheckBox, ComboBox, Field, FieldNode, FormFieldCopyStrategy, ListBox, RadioButtonGroup\n",
        "from pdftools_toolbox.pdf.content import IccBasedColorSpace\n",
        "from pdftools_toolbox.pdf.navigation import ViewerSettings"
      ]
    },
    {
      "cell_type": "code",
      "execution_count": null,
      "id": "40194cff-79a5-49cf-9941-c528b814ef97",
      "metadata": {
          "id": "3f31b301-9b2f-4558-a604-ec59ac986a7a"
      },
      "outputs": [],
      "source": [
        "# Download a file from a given URL and save it to the local system\n",
        "def prepare_file(url: str, path: str):\n",
        "    import requests\n",
        "    response = requests.get(url)\n",
        "    response.raise_for_status()\n",
        "\n",
        "    with open(path, 'wb') as f:\n",
        "        f.write(response.content)"
      ]
    },
    {
      "cell_type": "code",
      "execution_count": null,
      "id": "d7568c2f-94fd-4b60-8a20-a48b989564e6",
      "metadata": {
          "id": "eddfa893-7aed-4a02-b882-c63c52327af8"
      },
      "outputs": [],
      "source": [
        "# Set input arguments\n",
        "input_url = 'https://pdftools-public-downloads-production.s3.eu-west-1.amazonaws.com/samples/testfiles/Form2None.pdf'\n",
        "input_file_path = 'Form2None.pdf'\n",
        "prepare_file(input_url, input_file_path)\n",
        "field_identifier = \"TextField1\"\n",
        "field_value = \"New Text\"\n",
        "output_file_path = 'Form2Filled.pdf'"
      ]
    },
    {
      "cell_type": "code",
      "execution_count": null,
      "id": "8313fb40-c2bc-40cf-9d41-89629e1a720b",
      "metadata": {
          "id": "b952db0a-3d87-4bf9-812c-83dd374436c5"
      },
      "outputs": [],
      "source": [
        "def copy_document_data(in_doc: Document, out_doc: Document):\n",
        "    # Copy document-wide data\n",
        "\n",
        "    # Output intent\n",
        "    if in_doc.output_intent is not None:\n",
        "        in_doc.output_intent = IccBasedColorSpace.copy(out_doc, in_doc.output_intent)\n",
        "\n",
        "    # Metadata\n",
        "    out_doc.metadata = Metadata.copy(out_doc, in_doc.metadata)\n",
        "\n",
        "    # Viewer settings\n",
        "    out_doc.viewer_settings = ViewerSettings.copy(out_doc, in_doc.viewer_settings)\n",
        "\n",
        "    # Associated files (for PDF/A-3 and PDF 2.0 only)\n",
        "    outAssociatedFiles = out_doc.associated_files\n",
        "    for in_file_ref in in_doc.associated_files:\n",
        "        outAssociatedFiles.append(FileReference.copy(out_doc, in_file_ref))\n",
        "\n",
        "    # Plain embedded files\n",
        "    out_embedded_files = out_doc.plain_embedded_files\n",
        "    for in_file_ref in in_doc.plain_embedded_files:\n",
        "        out_embedded_files.append(FileReference.copy(out_doc, in_file_ref))"
      ]
    },
    {
      "cell_type": "code",
      "execution_count": null,
      "id": "d0f746a0-f957-4084-8a64-8f4c40053206",
      "metadata": {
          "id": "fb602e83-5a10-4c5b-a0a0-669ab257d420"
      },
      "outputs": [],
      "source": [
        "def fill_form_field(form_field: Field, value: str):\n",
        "    \"\"\"Set the value of a form field based on its type.\"\"\"\n",
        "    if isinstance(form_field, TextField):\n",
        "        form_field.text = value\n",
        "    elif isinstance(form_field, CheckBox):\n",
        "        form_field.checked = value.lower() == \"on\"\n",
        "    elif isinstance(form_field, RadioButtonGroup):\n",
        "        for button in form_field.buttons:\n",
        "            if button.export_name == value:\n",
        "                form_field.chosen_button = button\n",
        "                break\n",
        "    elif isinstance(form_field, ComboBox):\n",
        "        for item in form_field.items:\n",
        "            if item.display_name == value:\n",
        "                form_field.chosen_item = item\n",
        "                break\n",
        "    elif isinstance(form_field, ListBox):\n",
        "        for item in form_field.items:\n",
        "            if item.display_name == value:\n",
        "                form_field.chosen_items.clear()\n",
        "                form_field.chosen_items.append(item)\n",
        "                break"
      ]
    },
    {
      "cell_type": "code",
      "execution_count": null,
      "id": "2ee8804e-b037-4211-af49-733a79d3c8e3",
      "metadata": {
          "id": "ac9eb419-7400-4089-a78d-0301bc98c5ef"
      },
      "outputs": [],
      "source": [
        "try:\n",
        "    # Set and check license key. If the license key is not valid, an exception is thrown.\n",
        "    from pdftools_toolbox.sdk import Sdk\n",
        "    Sdk.initialize(\"<PDFSDK,V1,MGAASQD6L2JMQHL54PK08RQX8GG4SS0M8DAHVPH0VMP3NB8R9DUK>\", None)\n",

        "\n",
        "    # Open input document\n",
        "    with io.FileIO(input_file_path, \"rb\") as in_stream:\n",
        "        with Document.open(in_stream, None) as in_doc:\n",
        "    \n",
        "            # Create output document\n",
        "            with io.FileIO(output_file_path, \"wb+\") as out_stream:\n",
        "                with Document.create(out_stream, in_doc.conformance, None) as out_doc:\n",
        "    \n",
        "                    # Copy document-wide data\n",
        "                    copy_document_data(in_doc, out_doc)\n",
        "    \n",
        "                    # Copy form fields\n",
        "                    in_fields = in_doc.form_fields\n",
        "                    out_fields = out_doc.form_fields\n",
        "                    for key, in_field_node in in_fields.items():\n",
        "                        out_fields[key] = FieldNode.copy(out_doc, in_field_node)\n",
        "    \n",
        "                    # Find the form field and update its value\n",
        "                    selected_field = out_fields.lookup(field_identifier)\n",
        "                    if selected_field:\n",
        "                        fill_form_field(selected_field, field_value)\n",
        "    \n",
        "                    # Configure page copy options\n",
        "                    copy_options = PageCopyOptions()\n",
        "                    copy_options.form_fields = FormFieldCopyStrategy.COPY_AND_UPDATE_WIDGETS\n",
        "                    copy_options.unsigned_signatures = CopyStrategy.REMOVE\n",
        "    \n",
        "                    # Copy all pages\n",
        "                    copied_pages = PageList.copy(out_doc, in_doc.pages, copy_options)\n",
        "                    out_doc.pages.extend(copied_pages)\n",

        "\n",
        "    print(\"Execution successful.\")\n",

        "except Exception as e:\n",
        "    print(f\"An error occurred: {e}\")"
      ]
    }
  ],
  "metadata": {
    "kernelspec": {
      "display_name": "Python 3",
      "language": "python",
      "name": "python3"
    },
    "language_info": {
      "codemirror_mode": {
        "name": "ipython",
        "version": 3
      },
      "file_extension": ".py",
      "mimetype": "text/x-python",
      "name": "python",
      "nbconvert_exporter": "python",
      "pygments_lexer": "ipython3",
      "version": "3.12.8"
    },
    "colab": {
      "provenance": []
    }
  },
  "nbformat": 4,
  "nbformat_minor": 5
}