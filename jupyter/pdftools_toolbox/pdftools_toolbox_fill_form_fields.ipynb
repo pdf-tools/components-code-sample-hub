{
  "cells": [
    {
      "cell_type": "markdown",
      "id": "2ee2c31d-d511-46a5-943f-8b635adcf83f",
      "metadata": {
          "id": "59c9b3b0-ecfe-453c-88a3-a6eac3d323ff"
      },
      "source": [
        "[![Open In Colab](https://colab.research.google.com/assets/colab-badge.svg)](https://colab.research.google.com/github/pdf-tools/components-code-sample-hub/blob/main/jupyter/pdftools_toolbox/pdftools_toolbox_fill_form_fields.ipynb)"
      ]
    },
    {
      "cell_type": "code",
      "execution_count": null,
      "id": "f2c61731-5b39-4456-b6dc-e8957654853d",
      "metadata": {
          "id": "63047939-8a58-4bed-8bcd-d9ac5a81877f"
      },
      "outputs": [],
      "source": [
        "%pip install pdftools_toolbox\n",
        "%pip install ipython"
      ]
    },
    {
      "cell_type": "markdown",
      "id": "56d576a1-598a-4694-a216-443ad1d81d96",
      "metadata": {
          "id": "bd8be328-5b28-4bc7-ae34-93c438f6a8a8"
      },
      "source": [
        "# Fill Form Fields\n",
        "Change values of AcroForm form fields."
      ]
    },
    {
      "cell_type": "code",
      "execution_count": null,
      "id": "579ada3d-ac90-4b85-ad1a-77db15a70890",
      "metadata": {
          "id": "cf5bda6b-08c2-4479-a7fa-1058b224a441"
      },
      "outputs": [],
      "source": [
        "import io\n",
        "from pdftools_toolbox.pdf import CopyStrategy, Document, FileReference, Metadata, PageList, PageCopyOptions\n",
        "from pdftools_toolbox.pdf.forms import TextField, CheckBox, ComboBox, Field, FieldNode, FormFieldCopyStrategy, ListBox, RadioButtonGroup\n",
        "from pdftools_toolbox.pdf.content import IccBasedColorSpace\n",
        "from pdftools_toolbox.pdf.navigation import ViewerSettings"
      ]
    },
    {
      "cell_type": "code",
      "execution_count": null,
      "id": "5317e1c1-6db2-4117-896d-580a7b8b9003",
      "metadata": {
          "id": "c85ff034-1b84-46e6-a86d-0d5445c1a83e"
      },
      "outputs": [],
      "source": [
        "# Download a file from a given URL and save it to the local system\n",
        "def prepare_file(url: str, path: str):\n",
        "    import requests\n",
        "    response = requests.get(url)\n",
        "    response.raise_for_status()\n",
        "\n",
        "    with open(path, 'wb') as f:\n",
        "        f.write(response.content)"
      ]
    },
    {
      "cell_type": "code",
      "execution_count": null,
      "id": "71fa977b-72e0-47f2-9c02-f441ebc61f96",
      "metadata": {
          "id": "2e5b207f-2b7f-41d1-aff6-05fbadcc8eff"
      },
      "outputs": [],
      "source": [
        "# Set input arguments\n",
        "input_url = 'https://pdftools-public-downloads-production.s3.eu-west-1.amazonaws.com/samples/testfiles/Form2None.pdf'\n",
        "input_file_path = 'Form2None.pdf'\n",
        "prepare_file(input_url, input_file_path)\n",
        "field_identifier = \"TextField1\"\n",
        "field_value = \"New Text\"\n",
        "output_file_path = 'Form2Filled.pdf'"
      ]
    },
    {
      "cell_type": "code",
      "execution_count": null,
      "id": "f803fa0c-a8c2-449c-98c7-ed6013824034",
      "metadata": {
          "id": "ff1dc8ef-9bef-4a58-b94c-227a51660dfb"
      },
      "outputs": [],
      "source": [
        "def copy_document_data(in_doc: Document, out_doc: Document):\n",
        "    # Copy document-wide data\n",
        "\n",
        "    # Output intent\n",
        "    if in_doc.output_intent is not None:\n",
        "        in_doc.output_intent = IccBasedColorSpace.copy(out_doc, in_doc.output_intent)\n",
        "\n",
        "    # Metadata\n",
        "    out_doc.metadata = Metadata.copy(out_doc, in_doc.metadata)\n",
        "\n",
        "    # Viewer settings\n",
        "    out_doc.viewer_settings = ViewerSettings.copy(out_doc, in_doc.viewer_settings)\n",
        "\n",
        "    # Associated files (for PDF/A-3 and PDF 2.0 only)\n",
        "    outAssociatedFiles = out_doc.associated_files\n",
        "    for in_file_ref in in_doc.associated_files:\n",
        "        outAssociatedFiles.append(FileReference.copy(out_doc, in_file_ref))\n",
        "\n",
        "    # Plain embedded files\n",
        "    out_embedded_files = out_doc.plain_embedded_files\n",
        "    for in_file_ref in in_doc.plain_embedded_files:\n",
        "        out_embedded_files.append(FileReference.copy(out_doc, in_file_ref))"
      ]
    },{
      "cell_type": "code",
      "execution_count": null,
      "id": "aac686b8-5abf-4db9-9598-fd9c9c75f41d",
      "metadata": {
          "id": "a08ae600-b866-4a22-b36b-c9d0cb6ffd12"
      },
      "outputs": [],
      "source": [
        "def fill_form_field(form_field: Field, value: str):\n",
        "    \"\"\"Set the value of a form field based on its type.\"\"\"\n",
        "    if isinstance(form_field, TextField):\n",
        "        form_field.text = value\n",
        "    elif isinstance(form_field, CheckBox):\n",
        "        form_field.checked = value.lower() == \"on\"\n",
        "    elif isinstance(form_field, RadioButtonGroup):\n",
        "        for button in form_field.buttons:\n",
        "            if button.export_name == value:\n",
        "                form_field.chosen_button = button\n",
        "                break\n",
        "    elif isinstance(form_field, ComboBox):\n",
        "        for item in form_field.items:\n",
        "            if item.display_name == value:\n",
        "                form_field.chosen_item = item\n",
        "                break\n",
        "    elif isinstance(form_field, ListBox):\n",
        "        for item in form_field.items:\n",
        "            if item.display_name == value:\n",
        "                form_field.chosen_items.clear()\n",
        "                form_field.chosen_items.append(item)\n",
        "                break"
      ]
    },
    {
      "cell_type": "code",
      "execution_count": null,
      "id": "f1b22faa-f12c-402f-98bf-82281400ff3f",
      "metadata": {
          "id": "ebe080f7-bc4a-44df-83f5-3d51b5d0f479"
      },
      "outputs": [],
      "source": [
        "try:\n",
        "    # Set and check license key. If the license key is not valid, an exception is thrown.\n",
        "    from pdftools_toolbox.sdk import Sdk\n",
        "    Sdk.initialize(\"INSERT-LICENSE-KEY\", None)\n",

        "\n",
        "    # Open input document\n",
        "    with io.FileIO(input_file_path, \"rb\") as in_stream:\n",
        "        with Document.open(in_stream, None) as in_doc:\n",
        "    \n",
        "            # Create output document\n",
        "            with io.FileIO(output_file_path, \"wb+\") as out_stream:\n",
        "                with Document.create(out_stream, in_doc.conformance, None) as out_doc:\n",
        "    \n",
        "                    # Copy document-wide data\n",
        "                    copy_document_data(in_doc, out_doc)\n",
        "    \n",
        "                    # Copy form fields\n",
        "                    in_fields = in_doc.form_fields\n",
        "                    out_fields = out_doc.form_fields\n",
        "                    for key, in_field_node in in_fields.items():\n",
        "                        out_fields[key] = FieldNode.copy(out_doc, in_field_node)\n",
        "    \n",
        "                    # Find the form field and update its value\n",
        "                    selected_field = out_fields.lookup(field_identifier)\n",
        "                    if selected_field:\n",
        "                        fill_form_field(selected_field, field_value)\n",
        "    \n",
        "                    # Configure page copy options\n",
        "                    copy_options = PageCopyOptions()\n",
        "                    copy_options.form_fields = FormFieldCopyStrategy.COPY_AND_UPDATE_WIDGETS\n",
        "                    copy_options.unsigned_signatures = CopyStrategy.REMOVE\n",
        "    \n",
        "                    # Copy all pages\n",
        "                    copied_pages = PageList.copy(out_doc, in_doc.pages, copy_options)\n",
        "                    out_doc.pages.extend(copied_pages)\n",

        "\n",
        "    print(\"Execution successful.\")\n",

        "except Exception as e:\n",
        "    print(f\"An error occurred: {e}\")"
      ]
    }
  ],
  "metadata": {
    "kernelspec": {
      "display_name": "Python 3",
      "language": "python",
      "name": "python3"
    },
    "language_info": {
      "codemirror_mode": {
        "name": "ipython",
        "version": 3
      },
      "file_extension": ".py",
      "mimetype": "text/x-python",
      "name": "python",
      "nbconvert_exporter": "python",
      "pygments_lexer": "ipython3",
      "version": "3.12.8"
    },
    "colab": {
      "provenance": []
    }
  },
  "nbformat": 4,
  "nbformat_minor": 5
}