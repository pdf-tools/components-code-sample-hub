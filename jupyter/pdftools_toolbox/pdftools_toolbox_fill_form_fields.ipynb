{
  "cells": [
    {
      "cell_type": "markdown",
      "id": "21ac4030-31bf-48fe-8885-1cb55420551e",
      "metadata": {
          "id": "ff42d0aa-451c-4674-a3c2-4a5c54c0fd87"
      },
      "source": [
        "[![Open In Colab](https://colab.research.google.com/assets/colab-badge.svg)](https://colab.research.google.com/github/pdf-tools/components-code-sample-hub/blob/main/jupyter/pdftools_toolbox/pdftools_toolbox_fill_form_fields.ipynb)"
      ]
    },
    {
      "cell_type": "code",
      "execution_count": null,
      "id": "5c436e5a-7d0a-4f41-be1c-f2bb78777e13",
      "metadata": {
          "id": "dd84e552-1ade-4aad-8ffd-69c78965baab"
      },
      "outputs": [],
      "source": [
        "%pip install https://pdftools-public-downloads-production.s3.eu-west-1.amazonaws.com/productkits/PDFSDKXT/latest/pdftools_toolbox-latest.tar.gz\n",
        "%pip install ipython"
      ]
    },
    {
      "cell_type": "markdown",
      "id": "5bd96e5b-4b8c-4f6e-82c0-250fdd724fed",
      "metadata": {
          "id": "3dbc1562-c9d7-43ca-a005-d288c8fe0d45"
      },
      "source": [
        "# Fill Form Fields\n",
        "Change values of AcroForm form fields."
      ]
    },
    {
      "cell_type": "code",
      "execution_count": null,
      "id": "b88d0f90-6b6a-47e0-a4c9-2224156365e1",
      "metadata": {
          "id": "9c5e6020-f59f-4492-ad92-41de26521435"
      },
      "outputs": [],
      "source": [
        "import io\n",
        "from pdftools_toolbox.pdf import CopyStrategy, Document, FileReference, Metadata, PageList, PageCopyOptions\n",
        "from pdftools_toolbox.pdf.forms import TextField, CheckBox, ComboBox, Field, FieldNode, FormFieldCopyStrategy, ListBox, RadioButtonGroup\n",
        "from pdftools_toolbox.pdf.content import IccBasedColorSpace\n",
        "from pdftools_toolbox.pdf.navigation import ViewerSettings"
      ]
    },
    {
      "cell_type": "code",
      "execution_count": null,
      "id": "446ba0ea-e952-4f67-a666-7b4e48c99457",
      "metadata": {
          "id": "036ac540-ccb7-44a3-8486-896111d2f551"
      },
      "outputs": [],
      "source": [
        "# Download a file from a given URL and save it to the local system\n",
        "def prepare_file(url: str, path: str):\n",
        "    import requests\n",
        "    response = requests.get(url)\n",
        "    response.raise_for_status()\n",
        "\n",
        "    with open(path, 'wb') as f:\n",
        "        f.write(response.content)"
      ]
    },
    {
      "cell_type": "code",
      "execution_count": null,
      "id": "67acb3c3-6e78-48a9-800b-b1d2f71f4203",
      "metadata": {
          "id": "628a6e7b-d977-4459-a24f-2846db93b0ad"
      },
      "outputs": [],
      "source": [
        "# Set input arguments\n",
        "input_url = 'https://pdftools-public-downloads-production.s3.eu-west-1.amazonaws.com/samples/testfiles/Form2None.pdf'\n",
        "input_file_path = 'Form2None.pdf'\n",
        "prepare_file(input_url, input_file_path)\n",
        "field_identifier = \"TextField1\"\n",
        "field_value = \"New Text\"\n",
        "output_file_path = 'Form2Filled.pdf'"
      ]
    },
    {
      "cell_type": "code",
      "execution_count": null,
      "id": "f268ab10-8b46-4029-8b61-7cea61d0fcfb",
      "metadata": {
          "id": "f52f1c99-6353-4d3f-87d1-9fd02c821702"
      },
      "outputs": [],
      "source": [
        "def copy_document_data(in_doc: Document, out_doc: Document):\n",
        "    # Copy document-wide data\n",
        "\n",
        "    # Output intent\n",
        "    if in_doc.output_intent is not None:\n",
        "        in_doc.output_intent = IccBasedColorSpace.copy(out_doc, in_doc.output_intent)\n",
        "\n",
        "    # Metadata\n",
        "    out_doc.metadata = Metadata.copy(out_doc, in_doc.metadata)\n",
        "\n",
        "    # Viewer settings\n",
        "    out_doc.viewer_settings = ViewerSettings.copy(out_doc, in_doc.viewer_settings)\n",
        "\n",
        "    # Associated files (for PDF/A-3 and PDF 2.0 only)\n",
        "    outAssociatedFiles = out_doc.associated_files\n",
        "    for in_file_ref in in_doc.associated_files:\n",
        "        outAssociatedFiles.append(FileReference.copy(out_doc, in_file_ref))\n",
        "\n",
        "    # Plain embedded files\n",
        "    out_embedded_files = out_doc.plain_embedded_files\n",
        "    for in_file_ref in in_doc.plain_embedded_files:\n",
        "        out_embedded_files.append(FileReference.copy(out_doc, in_file_ref))"
      ]
    },
    {
      "cell_type": "code",
      "execution_count": null,
      "id": "82282d3b-0faa-4400-a6d3-f98da43a959c",
      "metadata": {
          "id": "79ad151c-f4fc-4299-bb17-7dde0fdd8481"
      },
      "outputs": [],
      "source": [
        "def fill_form_field(form_field: Field, value: str):\n",
        "    \"\"\"Set the value of a form field based on its type.\"\"\"\n",
        "    if isinstance(form_field, TextField):\n",
        "        form_field.text = value\n",
        "    elif isinstance(form_field, CheckBox):\n",
        "        form_field.checked = value.lower() == \"on\"\n",
        "    elif isinstance(form_field, RadioButtonGroup):\n",
        "        for button in form_field.buttons:\n",
        "            if button.export_name == value:\n",
        "                form_field.chosen_button = button\n",
        "                break\n",
        "    elif isinstance(form_field, ComboBox):\n",
        "        for item in form_field.items:\n",
        "            if item.display_name == value:\n",
        "                form_field.chosen_item = item\n",
        "                break\n",
        "    elif isinstance(form_field, ListBox):\n",
        "        for item in form_field.items:\n",
        "            if item.display_name == value:\n",
        "                form_field.chosen_items.clear()\n",
        "                form_field.chosen_items.append(item)\n",
        "                break"
      ]
    },
    {
      "cell_type": "code",
      "execution_count": null,
      "id": "36c56570-dedd-4217-84d0-2cc8fa3c74cd",
      "metadata": {
          "id": "11174a0a-704b-4346-a907-f6177574118d"
      },
      "outputs": [],
      "source": [
        "try:\n",
        "    # Set and check license key. If the license key is not valid, an exception is thrown.\n",
        "    from pdftools_toolbox.sdk import Sdk\n",
        "    Sdk.initialize(\"INSERT-LICENSE-KEY\", None)\n",

        "\n",
        "    # Open input document\n",
        "    with io.FileIO(input_file_path, \"rb\") as in_stream:\n",
        "        with Document.open(in_stream, None) as in_doc:\n",
        "    \n",
        "            # Create output document\n",
        "            with io.FileIO(output_file_path, \"wb+\") as out_stream:\n",
        "                with Document.create(out_stream, in_doc.conformance, None) as out_doc:\n",
        "    \n",
        "                    # Copy document-wide data\n",
        "                    copy_document_data(in_doc, out_doc)\n",
        "    \n",
        "                    # Copy form fields\n",
        "                    in_fields = in_doc.form_fields\n",
        "                    out_fields = out_doc.form_fields\n",
        "                    for key, in_field_node in in_fields.items():\n",
        "                        out_fields[key] = FieldNode.copy(out_doc, in_field_node)\n",
        "    \n",
        "                    # Find the form field and update its value\n",
        "                    selected_field = out_fields.lookup(field_identifier)\n",
        "                    if selected_field:\n",
        "                        fill_form_field(selected_field, field_value)\n",
        "    \n",
        "                    # Configure page copy options\n",
        "                    copy_options = PageCopyOptions()\n",
        "                    copy_options.form_fields = FormFieldCopyStrategy.COPY_AND_UPDATE_WIDGETS\n",
        "                    copy_options.unsigned_signatures = CopyStrategy.REMOVE\n",
        "    \n",
        "                    # Copy all pages\n",
        "                    copied_pages = PageList.copy(out_doc, in_doc.pages, copy_options)\n",
        "                    out_doc.pages.extend(copied_pages)\n",

        "\n",
        "    print(\"Execution successful.\")\n",

        "except Exception as e:\n",
        "    print(f\"An error occurred: {e}\")"
      ]
    }
  ],
  "metadata": {
    "kernelspec": {
      "display_name": "Python 3",
      "language": "python",
      "name": "python3"
    },
    "language_info": {
      "codemirror_mode": {
        "name": "ipython",
        "version": 3
      },
      "file_extension": ".py",
      "mimetype": "text/x-python",
      "name": "python",
      "nbconvert_exporter": "python",
      "pygments_lexer": "ipython3",
      "version": "3.12.8"
    },
    "colab": {
      "provenance": []
    }
  },
  "nbformat": 4,
  "nbformat_minor": 5
}