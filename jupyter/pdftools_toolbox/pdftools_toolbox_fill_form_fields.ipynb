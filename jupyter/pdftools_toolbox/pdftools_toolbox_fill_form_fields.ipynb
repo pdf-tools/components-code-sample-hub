{
  "cells": [
    {
      "cell_type": "markdown",
      "id": "8b5f5f86-711b-4fe7-b054-f155bef6d770",
      "metadata": {
          "id": "46e66c1b-942e-4df0-85db-5743e7f5a9e5"
      },
      "source": [
        "[![Open In Colab](https://colab.research.google.com/assets/colab-badge.svg)](https://colab.research.google.com/github/pdf-tools/components-code-sample-hub/blob/main/jupyter/pdftools_toolbox/pdftools_toolbox_fill_form_fields.ipynb)"
      ]
    },
    {
      "cell_type": "code",
      "execution_count": null,
      "id": "d981c0e3-d136-4298-a40e-929a56ce2b86",
      "metadata": {
          "id": "215b3666-d936-4450-86d9-6b678eca2a64"
      },
      "outputs": [],
      "source": [
        "%pip install https://pdftools-public-downloads-production.s3.eu-west-1.amazonaws.com/productkits/PDFSDKXT/latest/pdftools_toolbox-latest.tar.gz\n",
        "%pip install ipython"
      ]
    },
    {
      "cell_type": "markdown",
      "id": "d3e5f8c5-283b-48cd-acc9-e7b254a65957",
      "metadata": {
          "id": "b813970f-6382-40d0-93b5-44b48719f417"
      },
      "source": [
        "# Fill Form Fields\n",
        "Change values of AcroForm form fields."
      ]
    },
    {
      "cell_type": "code",
      "execution_count": null,
      "id": "09901a19-77f0-49a2-9a8c-23a1b01adde2",
      "metadata": {
          "id": "1d11a4e3-aab7-499d-b187-3646089fc3e9"
      },
      "outputs": [],
      "source": [
        "import io\n",
        "from pdftools_toolbox.pdf import CopyStrategy, Document, FileReference, Metadata, PageList, PageCopyOptions\n",
        "from pdftools_toolbox.pdf.forms import TextField, CheckBox, ComboBox, Field, FieldNode, FormFieldCopyStrategy, ListBox, RadioButtonGroup\n",
        "from pdftools_toolbox.pdf.content import IccBasedColorSpace\n",
        "from pdftools_toolbox.pdf.navigation import ViewerSettings"
      ]
    },
    {
      "cell_type": "code",
      "execution_count": null,
      "id": "69008f22-25c2-4f85-a587-858a47f0672a",
      "metadata": {
          "id": "b801f0be-0666-4b42-8e1e-ed693132c0d4"
      },
      "outputs": [],
      "source": [
        "# Download a file from a given URL and save it to the local system\n",
        "def prepare_file(url: str, path: str):\n",
        "    import requests\n",
        "    response = requests.get(url)\n",
        "    response.raise_for_status()\n",
        "\n",
        "    with open(path, 'wb') as f:\n",
        "        f.write(response.content)"
      ]
    },
    {
      "cell_type": "code",
      "execution_count": null,
      "id": "a1c4a1c8-98e3-46e2-9a75-22b4b3854bd7",
      "metadata": {
          "id": "d0d41dde-0b20-4bc6-b0f7-e646cb64ddd3"
      },
      "outputs": [],
      "source": [
        "# Set input arguments\n",
        "input_url = 'https://pdftools-public-downloads-production.s3.eu-west-1.amazonaws.com/samples/testfiles/Form2None.pdf'\n",
        "input_file_path = 'Form2None.pdf'\n",
        "prepare_file(input_url, input_file_path)\n",
        "field_identifier = \"TextField1\"\n",
        "field_value = \"New Text\"\n",
        "output_file_path = 'Form2Filled.pdf'"
      ]
    },
    {
      "cell_type": "code",
      "execution_count": null,
      "id": "ad14da6a-de39-4de6-89ed-1193aeb3cb1f",
      "metadata": {
          "id": "acc1ec2f-d4af-4768-ad6a-46d3933403b3"
      },
      "outputs": [],
      "source": [
        "def copy_document_data(in_doc: Document, out_doc: Document):\n",
        "    # Copy document-wide data\n",
        "\n",
        "    # Output intent\n",
        "    if in_doc.output_intent is not None:\n",
        "        in_doc.output_intent = IccBasedColorSpace.copy(out_doc, in_doc.output_intent)\n",
        "\n",
        "    # Metadata\n",
        "    out_doc.metadata = Metadata.copy(out_doc, in_doc.metadata)\n",
        "\n",
        "    # Viewer settings\n",
        "    out_doc.viewer_settings = ViewerSettings.copy(out_doc, in_doc.viewer_settings)\n",
        "\n",
        "    # Associated files (for PDF/A-3 and PDF 2.0 only)\n",
        "    outAssociatedFiles = out_doc.associated_files\n",
        "    for in_file_ref in in_doc.associated_files:\n",
        "        outAssociatedFiles.append(FileReference.copy(out_doc, in_file_ref))\n",
        "\n",
        "    # Plain embedded files\n",
        "    out_embedded_files = out_doc.plain_embedded_files\n",
        "    for in_file_ref in in_doc.plain_embedded_files:\n",
        "        out_embedded_files.append(FileReference.copy(out_doc, in_file_ref))"
      ]
    },
    {
      "cell_type": "code",
      "execution_count": null,
      "id": "b8eb3882-d16d-4910-8a21-f236ce55bad0",
      "metadata": {
          "id": "86c84b42-7858-4af7-9e94-a1bb9e0ba502"
      },
      "outputs": [],
      "source": [
        "def fill_form_field(form_field: Field, value: str):\n",
        "    \"\"\"Set the value of a form field based on its type.\"\"\"\n",
        "    if isinstance(form_field, TextField):\n",
        "        form_field.text = value\n",
        "    elif isinstance(form_field, CheckBox):\n",
        "        form_field.checked = value.lower() == \"on\"\n",
        "    elif isinstance(form_field, RadioButtonGroup):\n",
        "        for button in form_field.buttons:\n",
        "            if button.export_name == value:\n",
        "                form_field.chosen_button = button\n",
        "                break\n",
        "    elif isinstance(form_field, ComboBox):\n",
        "        for item in form_field.items:\n",
        "            if item.display_name == value:\n",
        "                form_field.chosen_item = item\n",
        "                break\n",
        "    elif isinstance(form_field, ListBox):\n",
        "        for item in form_field.items:\n",
        "            if item.display_name == value:\n",
        "                form_field.chosen_items.clear()\n",
        "                form_field.chosen_items.append(item)\n",
        "                break"
      ]
    },
    {
      "cell_type": "code",
      "execution_count": null,
      "id": "4341cece-e325-45a0-b4fa-c0eae44d9b82",
      "metadata": {
          "id": "565136c7-5702-416c-a3b3-5143115665df"
      },
      "outputs": [],
      "source": [
        "try:\n",
        "    # Set and check license key. If the license key is not valid, an exception is thrown.\n",
        "    from pdftools_toolbox.sdk import Sdk\n",
        "    Sdk.initialize(\"INSERT-LICENSE-KEY\", None)\n",

        "\n",
        "    # Open input document\n",
        "    with io.FileIO(input_file_path, \"rb\") as in_stream:\n",
        "        with Document.open(in_stream, None) as in_doc:\n",
        "    \n",
        "            # Create output document\n",
        "            with io.FileIO(output_file_path, \"wb+\") as out_stream:\n",
        "                with Document.create(out_stream, in_doc.conformance, None) as out_doc:\n",
        "    \n",
        "                    # Copy document-wide data\n",
        "                    copy_document_data(in_doc, out_doc)\n",
        "    \n",
        "                    # Copy form fields\n",
        "                    in_fields = in_doc.form_fields\n",
        "                    out_fields = out_doc.form_fields\n",
        "                    for key, in_field_node in in_fields.items():\n",
        "                        out_fields[key] = FieldNode.copy(out_doc, in_field_node)\n",
        "    \n",
        "                    # Find the form field and update its value\n",
        "                    selected_field = out_fields.lookup(field_identifier)\n",
        "                    if selected_field:\n",
        "                        fill_form_field(selected_field, field_value)\n",
        "    \n",
        "                    # Configure page copy options\n",
        "                    copy_options = PageCopyOptions()\n",
        "                    copy_options.form_fields = FormFieldCopyStrategy.COPY_AND_UPDATE_WIDGETS\n",
        "                    copy_options.unsigned_signatures = CopyStrategy.REMOVE\n",
        "    \n",
        "                    # Copy all pages\n",
        "                    copied_pages = PageList.copy(out_doc, in_doc.pages, copy_options)\n",
        "                    out_doc.pages.extend(copied_pages)\n",

        "\n",
        "    print(\"Execution successful.\")\n",

        "except Exception as e:\n",
        "    print(f\"An error occurred: {e}\")"
      ]
    }
  ],
  "metadata": {
    "kernelspec": {
      "display_name": "Python 3",
      "language": "python",
      "name": "python3"
    },
    "language_info": {
      "codemirror_mode": {
        "name": "ipython",
        "version": 3
      },
      "file_extension": ".py",
      "mimetype": "text/x-python",
      "name": "python",
      "nbconvert_exporter": "python",
      "pygments_lexer": "ipython3",
      "version": "3.12.8"
    },
    "colab": {
      "provenance": []
    }
  },
  "nbformat": 4,
  "nbformat_minor": 5
}