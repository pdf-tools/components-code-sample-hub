{
  "cells": [
    {
      "cell_type": "markdown",
      "id": "b7076c16-e68f-4e12-8a17-8b5b8e31e43a",
      "metadata": {
          "id": "408333ba-2e86-4588-a40d-53790f2cab31"
      },
      "source": [
        "[![Open In Colab](https://colab.research.google.com/assets/colab-badge.svg)](https://colab.research.google.com/github/pdf-tools/components-code-sample-hub/blob/main/jupyter/pdftools_toolbox/pdftools_toolbox_split_at_outlines.ipynb)"
      ]
    },
    {
      "cell_type": "code",
      "execution_count": null,
      "id": "fdefc50a-28d5-4318-a1ba-0da3c43f7c69",
      "metadata": {
          "id": "503e5785-18fc-44a3-99d2-0bd46031f825"
      },
      "outputs": [],
      "source": [
        "%pip install https://pdftools-public-downloads-production.s3.eu-west-1.amazonaws.com/productkits/PDFSDKXT/latest/pdftools_toolbox-latest.tar.gz\n",
        "%pip install ipython"
      ]
    },
    {
      "cell_type": "markdown",
      "id": "0e321076-80f9-4dbd-80b3-13a5e598206e",
      "metadata": {
          "id": "e89d7edf-16f9-4114-8c74-e53825086d99"
      },
      "source": [
        "# Split at Outlines\n",
        "\n",
        "Split a PDF document into several parts defined by the\n",
        "document's outlines at a given level.\n",
        "The outlines' titles define the output file names.\n",
        ""
      ]
    },
    {
      "cell_type": "code",
      "execution_count": null,
      "id": "30236601-ac0b-40b2-854e-13932cc367f5",
      "metadata": {
          "id": "79f6d022-d225-489b-bc9c-fca85498df36"
      },
      "outputs": [],
      "source": [
        "import io\n",
        "import os\n",
        "from pdftools_toolbox.pdf import Document, FileReference, Metadata, PageCopyOptions, PageList\n",
        "from pdftools_toolbox.pdf.content import IccBasedColorSpace\n",
        "from pdftools_toolbox.pdf.navigation import OutlineCopyOptions, OutlineItem, OutlineItemList, ViewerSettings"
      ]
    },
    {
      "cell_type": "code",
      "execution_count": null,
      "id": "4e9ee01c-9ca0-457d-b91f-2d0dbd907852",
      "metadata": {
          "id": "800b7884-e7b1-4691-8bc8-665a807d6c2e"
      },
      "outputs": [],
      "source": [
        "# Download a file from a given URL and save it to the local system\n",
        "def prepare_file(url: str, path: str):\n",
        "    import requests\n",
        "    response = requests.get(url)\n",
        "    response.raise_for_status()\n",
        "\n",
        "    with open(path, 'wb') as f:\n",
        "        f.write(response.content)"
      ]
    },
    {
      "cell_type": "code",
      "execution_count": null,
      "id": "e5c80058-276d-4824-971f-ddfb7428b723",
      "metadata": {
          "id": "7ffe010a-ceab-44a3-8455-91d5c85faa0e"
      },
      "outputs": [],
      "source": [
        "# Set input arguments\n",
        "input_url = 'https://pdftools-public-downloads-production.s3.eu-west-1.amazonaws.com/samples/testfiles/MultipageOutlines.pdf'\n",
        "input_file_path = 'MultipageOutlines.pdf'\n",
        "prepare_file(input_url, input_file_path)\n",
        "output_dir = '.'\n",
        "level = '2'"
      ]
    },
    {
      "cell_type": "code",
      "execution_count": null,
      "id": "cb1922f0-fd0b-475c-b1f7-2709aca86d83",
      "metadata": {
          "id": "637d7356-868d-458b-849d-55f80c3ca3d0"
      },
      "outputs": [],
      "source": [
        "def copy_document_data(in_doc: Document, out_doc: Document):\n",
        "    # Copy document-wide data\n",
        "\n",
        "    # Output intent\n",
        "    if in_doc.output_intent is not None:\n",
        "        in_doc.output_intent = IccBasedColorSpace.copy(out_doc, in_doc.output_intent)\n",
        "\n",
        "    # Metadata\n",
        "    out_doc.metadata = Metadata.copy(out_doc, in_doc.metadata)\n",
        "\n",
        "    # Viewer settings\n",
        "    out_doc.viewer_settings = ViewerSettings.copy(out_doc, in_doc.viewer_settings)\n",
        "\n",
        "    # Associated files (for PDF/A-3 and PDF 2.0 only)\n",
        "    outAssociatedFiles = out_doc.associated_files\n",
        "    for in_file_ref in in_doc.associated_files:\n",
        "        outAssociatedFiles.append(FileReference.copy(out_doc, in_file_ref))\n",
        "\n",
        "    # Plain embedded files\n",
        "    out_embedded_files = out_doc.plain_embedded_files\n",
        "    for in_file_ref in in_doc.plain_embedded_files:\n",
        "        out_embedded_files.append(FileReference.copy(out_doc, in_file_ref))"
      ]
    },
    {
      "cell_type": "code",
      "execution_count": null,
      "id": "369d8be5-f06f-42f0-a08d-ef7362605be4",
      "metadata": {
          "id": "67f93245-af5d-4330-976e-c69a8e3d7ba0"
      },
      "outputs": [],
      "source": [
        "def get_outlines(current_outlines: OutlineItemList, level: int, current_level: int = 1) -> list:\n",
        "    \"\"\"Recursively collect outline items at the specified level.\"\"\"\n",
        "    matching_outlines = []\n",
        "    # If the current level matches the specified level add the given outline items\n",
        "    if level == current_level:\n",
        "        matching_outlines.extend(current_outlines)\n",
        "    else:\n",
        "        # Otherwise recurse to next level\n",
        "        for outline in current_outlines:\n",
        "            matching_outlines.extend(get_outlines(outline.children, level, current_level + 1))\n",
        "\n",
        "    return matching_outlines"
      ]
    },
    {
      "cell_type": "code",
      "execution_count": null,
      "id": "2c54bd3e-07c2-4674-bf7f-de313030631f",
      "metadata": {
          "id": "425549fa-47ce-447f-8c01-750e249f08fb"
      },
      "outputs": [],
      "source": [
        "def get_parts(in_pages: PageList, outlines: list) -> list:\n",
        "    \"\"\"Collect page ranges corresponding to the outlines.\"\"\"\n",
        "    # Construct parts according to the given outlines\n",
        "    parts = []\n",
        "\n",
        "    # No parts to be constructed if no outlines are found\n",
        "    if not outlines or len(outlines) == 0:\n",
        "        return parts\n",
        "\n",
        "    # Keep both the last and the next outline items while iterating\n",
        "    last_outline = None\n",
        "    last_page_index = 0\n",
        "\n",
        "    for page_index, page in enumerate(in_pages):\n",
        "        # Check if this page is the destination's page of the next outline\n",
        "        if outlines and page == outlines[0].destination.target.page:\n",
        "            # Create a new part if the last outline item is defined and if the page index has increased at least by 1\n",
        "            if last_outline and page_index - last_page_index > 0:\n",
        "                parts.append((in_pages[last_page_index:page_index], last_outline))\n",
        "            last_outline = outlines.pop(0)\n",
        "\n",
        "            # Keep the current page index as the last page index used\n",
        "            last_page_index = page_index\n",
        "\n",
        "    # Add the last part which is assumed to contain all the pages until the end of the document\n",
        "    if last_outline:\n",
        "        parts.append((in_pages[last_page_index:], last_outline))\n",
        "\n",
        "    return parts"
      ]
    },
    {
      "cell_type": "code",
      "execution_count": null,
      "id": "3f38a969-2b9d-47c0-9aa8-4585960c2da1",
      "metadata": {
          "id": "bb4d383e-c318-4964-a6c4-895dccee1d59"
      },
      "outputs": [],
      "source": [
        "try:\n",
        "    # Set and check license key. If the license key is not valid, an exception is thrown.\n",
        "    from pdftools_toolbox.sdk import Sdk\n",
        "    Sdk.initialize(\"INSERT-LICENSE-KEY\", None)\n",

        "\n",
        "    # Get the level from the arguments, default to 1 if not provided\n",
        "    level = int(level)\n",
        "    if level < 1:\n",
        "        raise ValueError(\"The level must be greater than zero.\")\n",
        "    \n",
        "    # Ensure the output directory exists\n",
        "    os.makedirs(output_dir, exist_ok=True)\n",
        "    \n",
        "    # Open input document\n",
        "    with io.FileIO(input_file_path, \"rb\") as in_stream:\n",
        "        with Document.open(in_stream, None) as in_doc:\n",
        "    \n",
        "            # Collect all outline items at the given level\n",
        "            outlines = get_outlines(in_doc.outline, level)\n",
        "    \n",
        "            # Collect all page ranges corresponding to the given outline items\n",
        "            parts = get_parts(in_doc.pages, outlines)\n",
        "    \n",
        "            # Iterate over all collected parts\n",
        "            for page_list, outline_item in parts:\n",
        "                # Turn the outline item's title into a valid file name\n",
        "                file_name = \"\".join([c if c.isalnum() or c in \"._-\" else \"_\" for c in outline_item.title.replace(\"\\x00\", \"\")]) + \".pdf\"\n",
        "                file_path = os.path.join(output_dir, file_name)\n",
        "    \n",
        "                # Create output document\n",
        "                with io.FileIO(file_path, \"wb+\") as out_stream:\n",
        "                    with Document.create(out_stream, in_doc.conformance, None) as out_doc:\n",
        "                        # Copy document-wide data\n",
        "                        copy_document_data(in_doc, out_doc)\n",
        "    \n",
        "                        # Define page copy options\n",
        "                        page_copy_options = PageCopyOptions()\n",
        "                        page_copy_options.copy_outline_items = False\n",
        "    \n",
        "                        # Copy the pages and add to the output document's page list\n",
        "                        out_pages = PageList.copy(out_doc, page_list, page_copy_options)\n",
        "                        out_doc.pages.extend(out_pages)\n",
        "    \n",
        "                        # Copy child outline items\n",
        "                        outline_copy_options = OutlineCopyOptions()\n",
        "                        for child in outline_item.children:\n",
        "                            out_doc.outline.append(OutlineItem.copy(out_doc, child, outline_copy_options))\n",

        "\n",
        "    print(\"Execution successful.\")\n",

        "except Exception as e:\n",
        "    print(f\"An error occurred: {e}\")"
      ]
    }
  ],
  "metadata": {
    "kernelspec": {
      "display_name": "Python 3",
      "language": "python",
      "name": "python3"
    },
    "language_info": {
      "codemirror_mode": {
        "name": "ipython",
        "version": 3
      },
      "file_extension": ".py",
      "mimetype": "text/x-python",
      "name": "python",
      "nbconvert_exporter": "python",
      "pygments_lexer": "ipython3",
      "version": "3.12.8"
    },
    "colab": {
      "provenance": []
    }
  },
  "nbformat": 4,
  "nbformat_minor": 5
}