{
  "cells": [
    {
      "cell_type": "markdown",
      "id": "926b4c16-5616-4136-8972-e6ca443cc967",
      "metadata": {
          "id": "f4226377-589f-4132-8e94-769eba34c1f8"
      },
      "source": [
        "[![Open In Colab](https://colab.research.google.com/assets/colab-badge.svg)](https://colab.research.google.com/github/pdf-tools/components-code-sample-hub/blob/main/jupyter/pdftools_toolbox/pdftools_toolbox_print_t_o_c.ipynb)"
      ]
    },
    {
      "cell_type": "code",
      "execution_count": null,
      "id": "a17b6d75-51c8-450c-a4d6-0caba87d309b",
      "metadata": {
          "id": "1052a69b-0b93-43b9-b531-21c17cda67e3"
      },
      "outputs": [],
      "source": [
        "%pip install pdftools_toolbox\n",
        "%pip install ipython"
      ]
    },
    {
      "cell_type": "markdown",
      "id": "269da002-40ef-4a32-aff0-c1f638521c3c",
      "metadata": {
          "id": "a587530e-68e2-4079-9001-827d2004a40b"
      },
      "source": [
        "# Print a table of content\n",
        "Print a formatted table of content from the document\n",
        "outline."
      ]
    },
    {
      "cell_type": "code",
      "execution_count": null,
      "id": "03c8db53-58e3-469c-ad4a-bfd075335f7c",
      "metadata": {
          "id": "49799dd8-0029-438a-93b9-297748c7c001"
      },
      "outputs": [],
      "source": [
        "import io\n",
        "from pdftools_toolbox.pdf import Document\n",
        "from pdftools_toolbox.pdf.navigation import OutlineItem, OutlineItemList"
      ]
    },
    {
      "cell_type": "code",
      "execution_count": null,
      "id": "69cf40dc-df81-4202-9dee-05c19eb4bad7",
      "metadata": {
          "id": "70954a43-9bd4-446e-b274-20db96160cdd"
      },
      "outputs": [],
      "source": [
        "# Download a file from a given URL and save it to the local system\n",
        "def prepare_file(url: str, path: str):\n",
        "    import requests\n",
        "    response = requests.get(url)\n",
        "    response.raise_for_status()\n",
        "\n",
        "    with open(path, 'wb') as f:\n",
        "        f.write(response.content)"
      ]
    },
    {
      "cell_type": "code",
      "execution_count": null,
      "id": "6c3793ed-bd1d-48f4-a233-ac9008c941d9",
      "metadata": {
          "id": "44c16d9f-3e70-41e6-8b02-5e45b619f959"
      },
      "outputs": [],
      "source": [
        "# Set input arguments\n",
        "input_url = 'https://pdftools-public-downloads-production.s3.eu-west-1.amazonaws.com/samples/testfiles/MultipageOutlines.pdf'\n",
        "input_file_path = 'MultipageOutlines.pdf'\n",
        "prepare_file(input_url, input_file_path)"
      ]
    },
    {
      "cell_type": "code",
      "execution_count": null,
      "id": "44c08227-a542-44e9-bf52-30a7ce01244d",
      "metadata": {
          "id": "b3074bff-c4ec-4fe1-bde0-37047dca6156"
      },
      "outputs": [],
      "source": [
        "def print_outline_item(item: OutlineItem, indentation: str, in_doc: Document):\n",
        "    title = item.title\n",
        "    print(f\"{indentation}{title}\", end=\"\")\n",
        "\n",
        "    dest = item.destination\n",
        "    if dest and dest.target:\n",
        "        page_number = in_doc.pages.index(dest.target.page) + 1\n",
        "        dots_length = max(0, 78 - len(indentation) - len(title) - len(str(page_number)))\n",
        "        dots = \".\" * dots_length\n",
        "        print(f\" {dots} {page_number}\", end=\"\")\n",
        "\n",
        "    print()  # End the current line\n",
        "    print_outline_items(item.children, indentation + \"  \", in_doc)"
      ]
    },{
      "cell_type": "code",
      "execution_count": null,
      "id": "573cab0e-0649-4efb-bb3c-c26b4b08e602",
      "metadata": {
          "id": "220a727f-420e-49ab-87d6-1b4d0326b075"
      },
      "outputs": [],
      "source": [
        "def print_outline_items(items: OutlineItemList, indentation: str, in_doc: Document):\n",
        "    for outline_item in items:\n",
        "        print_outline_item(outline_item, indentation, in_doc)"
      ]
    },
    {
      "cell_type": "code",
      "execution_count": null,
      "id": "4bd67cd9-848f-40d1-8a64-c0b8712e658d",
      "metadata": {
          "id": "e5e49adf-e707-4ee1-83a3-e0041519be73"
      },
      "outputs": [],
      "source": [
        "try:\n",
        "    # Set and check license key. If the license key is not valid, an exception is thrown.\n",
        "    from pdftools_toolbox.sdk import Sdk\n",
        "    Sdk.initialize(\"INSERT-LICENSE-KEY\", None)\n",

        "\n",
        "    # Open the input document\n",
        "    with open(input_file_path, \"rb\") as in_stream:\n",
        "        with Document.open(in_stream, None) as in_doc:\n",
        "            print_outline_items(in_doc.outline, \"\", in_doc)\n",

        "\n",
        "    print(\"Execution successful.\")\n",

        "except Exception as e:\n",
        "    print(f\"An error occurred: {e}\")"
      ]
    }
  ],
  "metadata": {
    "kernelspec": {
      "display_name": "Python 3",
      "language": "python",
      "name": "python3"
    },
    "language_info": {
      "codemirror_mode": {
        "name": "ipython",
        "version": 3
      },
      "file_extension": ".py",
      "mimetype": "text/x-python",
      "name": "python",
      "nbconvert_exporter": "python",
      "pygments_lexer": "ipython3",
      "version": "3.12.8"
    },
    "colab": {
      "provenance": []
    }
  },
  "nbformat": 4,
  "nbformat_minor": 5
}