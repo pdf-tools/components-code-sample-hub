{
  "cells": [
    {
      "cell_type": "markdown",
      "id": "8c6ef1b6-3993-46b7-89a1-bf6a6e416fd1",
      "metadata": {
          "id": "e6d87431-d7a1-465b-bbde-e1fae3f03e89"
      },
      "source": [
        "[![Open In Colab](https://colab.research.google.com/assets/colab-badge.svg)](https://colab.research.google.com/github/pdf-tools/components-code-sample-hub/blob/main/jupyter/pdftools_toolbox/pdftools_toolbox_print_t_o_c.ipynb)"
      ]
    },
    {
      "cell_type": "code",
      "execution_count": null,
      "id": "398b18d2-46ab-4077-b092-c8293d7d142c",
      "metadata": {
          "id": "e70b39e9-c639-473e-a859-c3b291214795"
      },
      "outputs": [],
      "source": [
        "%pip install https://pdftools-public-downloads-production.s3.eu-west-1.amazonaws.com/productkits/PDFSDKXT/latest/pdftools_toolbox-latest.tar.gz\n",
        "%pip install ipython"
      ]
    },
    {
      "cell_type": "markdown",
      "id": "f3c71f97-d0f3-46e3-948b-448b8f9671de",
      "metadata": {
          "id": "83922b6c-31cd-4761-ba74-cb7c57ef503d"
      },
      "source": [
        "# Print a table of content\n",
        "Print a formatted table of content from the document\n",
        "outline."
      ]
    },
    {
      "cell_type": "code",
      "execution_count": null,
      "id": "ca250211-74af-489c-8e2b-093660b280fd",
      "metadata": {
          "id": "09181e7c-978a-4e4d-aa80-889804ac6159"
      },
      "outputs": [],
      "source": [
        "import io\n",
        "from pdftools_toolbox.pdf import Document\n",
        "from pdftools_toolbox.pdf.navigation import OutlineItem, OutlineItemList"
      ]
    },
    {
      "cell_type": "code",
      "execution_count": null,
      "id": "480519a3-f03d-4e84-aa23-b5c6ab0893a7",
      "metadata": {
          "id": "6b6dd270-2eb4-4c04-b636-abf77bf45439"
      },
      "outputs": [],
      "source": [
        "# Download a file from a given URL and save it to the local system\n",
        "def prepare_file(url: str, path: str):\n",
        "    import requests\n",
        "    response = requests.get(url)\n",
        "    response.raise_for_status()\n",
        "\n",
        "    with open(path, 'wb') as f:\n",
        "        f.write(response.content)"
      ]
    },
    {
      "cell_type": "code",
      "execution_count": null,
      "id": "bfd05ac6-65ee-477b-8e38-30381e142b0c",
      "metadata": {
          "id": "8dc9275f-8e51-4028-b505-8373d412dbb7"
      },
      "outputs": [],
      "source": [
        "# Set input arguments\n",
        "input_url = 'https://pdftools-public-downloads-production.s3.eu-west-1.amazonaws.com/samples/testfiles/MultipageOutlines.pdf'\n",
        "input_file_path = 'MultipageOutlines.pdf'\n",
        "prepare_file(input_url, input_file_path)"
      ]
    },
    {
      "cell_type": "code",
      "execution_count": null,
      "id": "fee37de7-d588-4eb2-9c5f-8ff44155dd3b",
      "metadata": {
          "id": "753b585f-7d37-4815-b33d-57fe9ac8b345"
      },
      "outputs": [],
      "source": [
        "def print_outline_item(item: OutlineItem, indentation: str, in_doc: Document):\n",
        "    title = item.title\n",
        "    print(f\"{indentation}{title}\", end=\"\")\n",
        "\n",
        "    dest = item.destination\n",
        "    if dest and dest.target:\n",
        "        page_number = in_doc.pages.index(dest.target.page) + 1\n",
        "        dots_length = max(0, 78 - len(indentation) - len(title) - len(str(page_number)))\n",
        "        dots = \".\" * dots_length\n",
        "        print(f\" {dots} {page_number}\", end=\"\")\n",
        "\n",
        "    print()  # End the current line\n",
        "    print_outline_items(item.children, indentation + \"  \", in_doc)"
      ]
    },
    {
      "cell_type": "code",
      "execution_count": null,
      "id": "b847d979-9ca8-40d8-9a6b-dd71ee92f46a",
      "metadata": {
          "id": "1a77552d-4ad2-496f-87c0-b6cb03c78ae4"
      },
      "outputs": [],
      "source": [
        "def print_outline_items(items: OutlineItemList, indentation: str, in_doc: Document):\n",
        "    for outline_item in items:\n",
        "        print_outline_item(outline_item, indentation, in_doc)"
      ]
    },
    {
      "cell_type": "code",
      "execution_count": null,
      "id": "ffeb927c-5248-4321-a6e1-a07a8b238a61",
      "metadata": {
          "id": "e02b82dd-fe5a-4036-aa6e-caf280706796"
      },
      "outputs": [],
      "source": [
        "try:\n",
        "    # Set and check license key. If the license key is not valid, an exception is thrown.\n",
        "    from pdftools_toolbox.sdk import Sdk\n",
        "    Sdk.initialize(\"INSERT-LICENSE-KEY\", None)\n",

        "\n",
        "    # Open the input document\n",
        "    with open(input_file_path, \"rb\") as in_stream:\n",
        "        with Document.open(in_stream, None) as in_doc:\n",
        "            print_outline_items(in_doc.outline, \"\", in_doc)\n",

        "\n",
        "    print(\"Execution successful.\")\n",

        "except Exception as e:\n",
        "    print(f\"An error occurred: {e}\")"
      ]
    }
  ],
  "metadata": {
    "kernelspec": {
      "display_name": "Python 3",
      "language": "python",
      "name": "python3"
    },
    "language_info": {
      "codemirror_mode": {
        "name": "ipython",
        "version": 3
      },
      "file_extension": ".py",
      "mimetype": "text/x-python",
      "name": "python",
      "nbconvert_exporter": "python",
      "pygments_lexer": "ipython3",
      "version": "3.12.8"
    },
    "colab": {
      "provenance": []
    }
  },
  "nbformat": 4,
  "nbformat_minor": 5
}