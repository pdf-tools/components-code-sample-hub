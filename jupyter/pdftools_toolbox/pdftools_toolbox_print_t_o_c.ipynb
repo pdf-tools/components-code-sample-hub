{
  "cells": [
    {
      "cell_type": "markdown",
      "id": "3f862521-f983-4fdf-9187-3fafdf90b3c2",
      "metadata": {
          "id": "61d990ba-be17-4dcc-b4cf-717dfcd49854"
      },
      "source": [
        "[![Open In Colab](https://colab.research.google.com/assets/colab-badge.svg)](https://colab.research.google.com/github/pdf-tools/components-code-sample-hub/blob/main/jupyter/pdftools_toolbox/pdftools_toolbox_print_t_o_c.ipynb)"
      ]
    },
    {
      "cell_type": "code",
      "execution_count": null,
      "id": "95236a3b-34de-4e39-8e5b-24e953002e3a",
      "metadata": {
          "id": "7655eae5-a94e-4a35-ad58-ae33e036ab25"
      },
      "outputs": [],
      "source": [
        "%pip install https://pdftools-public-downloads-production.s3.eu-west-1.amazonaws.com/productkits/PDFSDKXT/latest/pdftools_toolbox-latest.tar.gz\n",
        "%pip install ipython"
      ]
    },
    {
      "cell_type": "markdown",
      "id": "30b3e9ea-0f4a-4c91-a194-ca640a709634",
      "metadata": {
          "id": "27c1809d-e2a9-4f13-8891-8b0be792afdd"
      },
      "source": [
        "# Print a table of content\n",
        "Print a formatted table of content from the document\n",
        "outline."
      ]
    },
    {
      "cell_type": "code",
      "execution_count": null,
      "id": "7245522e-27e8-4138-a0b3-5e7955419840",
      "metadata": {
          "id": "eb99177c-93b6-429e-994a-370e713721be"
      },
      "outputs": [],
      "source": [
        "import io\n",
        "from pdftools_toolbox.pdf import Document\n",
        "from pdftools_toolbox.pdf.navigation import OutlineItem, OutlineItemList"
      ]
    },
    {
      "cell_type": "code",
      "execution_count": null,
      "id": "51d74b40-2626-4dbe-8a8c-9fa55ad1ad1f",
      "metadata": {
          "id": "26dc580b-a613-47ee-872c-003cbf1932ad"
      },
      "outputs": [],
      "source": [
        "# Download a file from a given URL and save it to the local system\n",
        "def prepare_file(url: str, path: str):\n",
        "    import requests\n",
        "    response = requests.get(url)\n",
        "    response.raise_for_status()\n",
        "\n",
        "    with open(path, 'wb') as f:\n",
        "        f.write(response.content)"
      ]
    },
    {
      "cell_type": "code",
      "execution_count": null,
      "id": "8b1a338e-5573-4df9-9839-6bdb705a4837",
      "metadata": {
          "id": "eb57b5fe-512e-4679-8abf-e117e43a6af4"
      },
      "outputs": [],
      "source": [
        "# Set input arguments\n",
        "input_url = 'https://pdftools-public-downloads-production.s3.eu-west-1.amazonaws.com/samples/testfiles/MultipageOutlines.pdf'\n",
        "input_file_path = 'MultipageOutlines.pdf'\n",
        "prepare_file(input_url, input_file_path)"
      ]
    },
    {
      "cell_type": "code",
      "execution_count": null,
      "id": "7b360e10-b27a-46bc-95c8-e3b4df421111",
      "metadata": {
          "id": "dcc95dc1-c391-4cee-8d02-c47052039a86"
      },
      "outputs": [],
      "source": [
        "def print_outline_item(item: OutlineItem, indentation: str, in_doc: Document):\n",
        "    title = item.title\n",
        "    print(f\"{indentation}{title}\", end=\"\")\n",
        "\n",
        "    dest = item.destination\n",
        "    if dest and dest.target:\n",
        "        page_number = in_doc.pages.index(dest.target.page) + 1\n",
        "        dots_length = max(0, 78 - len(indentation) - len(title) - len(str(page_number)))\n",
        "        dots = \".\" * dots_length\n",
        "        print(f\" {dots} {page_number}\", end=\"\")\n",
        "\n",
        "    print()  # End the current line\n",
        "    print_outline_items(item.children, indentation + \"  \", in_doc)"
      ]
    },
    {
      "cell_type": "code",
      "execution_count": null,
      "id": "6ea81d5d-b094-42be-ab74-239a32567444",
      "metadata": {
          "id": "780d39a6-2d72-4a43-be1a-7331ae069d6b"
      },
      "outputs": [],
      "source": [
        "def print_outline_items(items: OutlineItemList, indentation: str, in_doc: Document):\n",
        "    for outline_item in items:\n",
        "        print_outline_item(outline_item, indentation, in_doc)"
      ]
    },
    {
      "cell_type": "code",
      "execution_count": null,
      "id": "85a58483-27df-4a1b-9ea4-fc7f911e16bb",
      "metadata": {
          "id": "2c38d5f6-e37e-46fc-a103-172b040ccdc9"
      },
      "outputs": [],
      "source": [
        "try:\n",
        "    # Set and check license key. If the license key is not valid, an exception is thrown.\n",
        "    from pdftools_toolbox.sdk import Sdk\n",
        "    Sdk.initialize(\"<PDFSDK,V1,MGAASQD6L2JMQHL54PK08RQX8GG4SS0M8DAHVPH0VMP3NB8R9DUK>\", None)\n",

        "\n",
        "    # Open the input document\n",
        "    with open(input_file_path, \"rb\") as in_stream:\n",
        "        with Document.open(in_stream, None) as in_doc:\n",
        "            print_outline_items(in_doc.outline, \"\", in_doc)\n",

        "\n",
        "    print(\"Execution successful.\")\n",

        "except Exception as e:\n",
        "    print(f\"An error occurred: {e}\")"
      ]
    }
  ],
  "metadata": {
    "kernelspec": {
      "display_name": "Python 3",
      "language": "python",
      "name": "python3"
    },
    "language_info": {
      "codemirror_mode": {
        "name": "ipython",
        "version": 3
      },
      "file_extension": ".py",
      "mimetype": "text/x-python",
      "name": "python",
      "nbconvert_exporter": "python",
      "pygments_lexer": "ipython3",
      "version": "3.12.8"
    },
    "colab": {
      "provenance": []
    }
  },
  "nbformat": 4,
  "nbformat_minor": 5
}