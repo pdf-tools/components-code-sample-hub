{
  "cells": [
    {
      "cell_type": "markdown",
      "id": "9df89b8a-f554-4d00-9938-de361d19417e",
      "metadata": {
          "id": "ede9ca8d-cbd7-4fbb-8661-d14bd42313ae"
      },
      "source": [
        "[![Open In Colab](https://colab.research.google.com/assets/colab-badge.svg)](https://colab.research.google.com/github/pdf-tools/components-code-sample-hub/blob/main/jupyter/pdftools_toolbox/pdftools_toolbox_print_t_o_c.ipynb)"
      ]
    },
    {
      "cell_type": "code",
      "execution_count": null,
      "id": "52fdc394-db26-4487-a488-9443ef6b235b",
      "metadata": {
          "id": "11949587-73c7-4414-9091-4940c79bb7c5"
      },
      "outputs": [],
      "source": [
        "%pip install https://pdftools-public-downloads-production.s3.eu-west-1.amazonaws.com/productkits/PDFSDKXT/latest/pdftools_toolbox-latest.tar.gz\n",
        "%pip install ipython"
      ]
    },
    {
      "cell_type": "markdown",
      "id": "4fc96db0-ce79-4e9c-bbb3-fbc1cc94d4be",
      "metadata": {
          "id": "66345d04-b0c1-443e-bf64-501f8147e21b"
      },
      "source": [
        "# Print a table of content\n",
        "Print a formatted table of content from the document\n",
        "outline."
      ]
    },
    {
      "cell_type": "code",
      "execution_count": null,
      "id": "ecd01759-1a39-4c28-89f4-6dca9e2eb55d",
      "metadata": {
          "id": "704df261-2b6c-49e9-96f4-544406c4e22a"
      },
      "outputs": [],
      "source": [
        "import io\n",
        "from pdftools_toolbox.pdf import Document\n",
        "from pdftools_toolbox.pdf.navigation import OutlineItem, OutlineItemList"
      ]
    },
    {
      "cell_type": "code",
      "execution_count": null,
      "id": "6b807fb5-fd62-491b-be57-c84dbee6f636",
      "metadata": {
          "id": "275f38c0-8c69-4c57-a4ed-e8b468438fb8"
      },
      "outputs": [],
      "source": [
        "# Download a file from a given URL and save it to the local system\n",
        "def prepare_file(url: str, path: str):\n",
        "    import requests\n",
        "    response = requests.get(url)\n",
        "    response.raise_for_status()\n",
        "\n",
        "    with open(path, 'wb') as f:\n",
        "        f.write(response.content)"
      ]
    },
    {
      "cell_type": "code",
      "execution_count": null,
      "id": "b5a9af52-ab6e-467b-b8f7-016ebed6027c",
      "metadata": {
          "id": "0662f501-71ad-4e32-8981-d41b5e81765f"
      },
      "outputs": [],
      "source": [
        "# Set input arguments\n",
        "input_url = 'https://pdftools-public-downloads-production.s3.eu-west-1.amazonaws.com/samples/testfiles/MultipageOutlines.pdf'\n",
        "input_file_path = 'MultipageOutlines.pdf'\n",
        "prepare_file(input_url, input_file_path)"
      ]
    },
    {
      "cell_type": "code",
      "execution_count": null,
      "id": "ed2c44e3-f60d-40f5-a5f4-6fed226c40be",
      "metadata": {
          "id": "43c4d10b-244f-4bf5-9d56-21246613fb01"
      },
      "outputs": [],
      "source": [
        "def print_outline_item(item: OutlineItem, indentation: str, in_doc: Document):\n",
        "    title = item.title\n",
        "    print(f\"{indentation}{title}\", end=\"\")\n",
        "\n",
        "    dest = item.destination\n",
        "    if dest and dest.target:\n",
        "        page_number = in_doc.pages.index(dest.target.page) + 1\n",
        "        dots_length = max(0, 78 - len(indentation) - len(title) - len(str(page_number)))\n",
        "        dots = \".\" * dots_length\n",
        "        print(f\" {dots} {page_number}\", end=\"\")\n",
        "\n",
        "    print()  # End the current line\n",
        "    print_outline_items(item.children, indentation + \"  \", in_doc)"
      ]
    },
    {
      "cell_type": "code",
      "execution_count": null,
      "id": "b8489f85-d9ac-41b3-9b2e-312e06b74dd6",
      "metadata": {
          "id": "4cde709e-2cc9-4fb7-96e8-68dcbccce0f8"
      },
      "outputs": [],
      "source": [
        "def print_outline_items(items: OutlineItemList, indentation: str, in_doc: Document):\n",
        "    for outline_item in items:\n",
        "        print_outline_item(outline_item, indentation, in_doc)"
      ]
    },
    {
      "cell_type": "code",
      "execution_count": null,
      "id": "4a580c73-1b79-421d-9722-6a0bf82866ca",
      "metadata": {
          "id": "2dccb070-6b92-4155-8537-ab55137debe5"
      },
      "outputs": [],
      "source": [
        "try:\n",
        "    # Set and check license key. If the license key is not valid, an exception is thrown.\n",
        "    from pdftools_toolbox.sdk import Sdk\n",
        "    Sdk.initialize(\"INSERT-LICENSE-KEY\", None)\n",

        "\n",
        "    # Open the input document\n",
        "    with open(input_file_path, \"rb\") as in_stream:\n",
        "        with Document.open(in_stream, None) as in_doc:\n",
        "            print_outline_items(in_doc.outline, \"\", in_doc)\n",

        "\n",
        "    print(\"Execution successful.\")\n",

        "except Exception as e:\n",
        "    print(f\"An error occurred: {e}\")"
      ]
    }
  ],
  "metadata": {
    "kernelspec": {
      "display_name": "Python 3",
      "language": "python",
      "name": "python3"
    },
    "language_info": {
      "codemirror_mode": {
        "name": "ipython",
        "version": 3
      },
      "file_extension": ".py",
      "mimetype": "text/x-python",
      "name": "python",
      "nbconvert_exporter": "python",
      "pygments_lexer": "ipython3",
      "version": "3.12.8"
    },
    "colab": {
      "provenance": []
    }
  },
  "nbformat": 4,
  "nbformat_minor": 5
}