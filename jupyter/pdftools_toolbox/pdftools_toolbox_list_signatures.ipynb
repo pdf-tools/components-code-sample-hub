{
  "cells": [
    {
      "cell_type": "markdown",
      "id": "05a56610-96e8-43b6-a6a8-091a06c9069c",
      "metadata": {
          "id": "6aad9e7e-6590-49b1-bfab-2827fad10984"
      },
      "source": [
        "[![Open In Colab](https://colab.research.google.com/assets/colab-badge.svg)](https://colab.research.google.com/github/pdf-tools/components-code-sample-hub/blob/main/jupyter/pdftools_toolbox/pdftools_toolbox_list_signatures.ipynb)"
      ]
    },
    {
      "cell_type": "code",
      "execution_count": null,
      "id": "09a4a6ef-eb60-481e-890b-d5b86473ca1c",
      "metadata": {
          "id": "ab5103bf-5cfe-422e-8501-3c649689c1e0"
      },
      "outputs": [],
      "source": [
        "%pip install https://pdftools-public-downloads-production.s3.eu-west-1.amazonaws.com/productkits/PDFSDKXT/latest/pdftools_toolbox-latest.tar.gz\n",
        "%pip install ipython"
      ]
    },
    {
      "cell_type": "markdown",
      "id": "938a1f0b-b167-476d-b6a4-d283cd037970",
      "metadata": {
          "id": "16768262-4dc6-4bc6-aa72-170019e2e656"
      },
      "source": [
        "# List Signatures in PDF\n",
        "List all signature fields in a PDF document and their\n",
        "properties."
      ]
    },
    {
      "cell_type": "code",
      "execution_count": null,
      "id": "72157187-1c84-4e11-951d-b9de635ab187",
      "metadata": {
          "id": "9a4e8803-e146-46f9-99d7-df1f744fc889"
      },
      "outputs": [],
      "source": [
        "import io\n",
        "from pdftools_toolbox.pdf import Document\n",
        "from pdftools_toolbox.pdf.forms import Signature"
      ]
    },
    {
      "cell_type": "code",
      "execution_count": null,
      "id": "03a9b70a-20b6-406e-8281-87ba844700eb",
      "metadata": {
          "id": "515fe630-a1aa-4b0b-923a-9814bcfd831e"
      },
      "outputs": [],
      "source": [
        "# Download a file from a given URL and save it to the local system\n",
        "def prepare_file(url: str, path: str):\n",
        "    import requests\n",
        "    response = requests.get(url)\n",
        "    response.raise_for_status()\n",
        "\n",
        "    with open(path, 'wb') as f:\n",
        "        f.write(response.content)"
      ]
    },
    {
      "cell_type": "code",
      "execution_count": null,
      "id": "7e25948e-4363-4c9e-b9f8-43e40fe79aeb",
      "metadata": {
          "id": "97a6bdf9-e768-482e-ba01-1d65a41ebfae"
      },
      "outputs": [],
      "source": [
        "# Set input arguments\n",
        "input_url = 'https://pdftools-public-downloads-production.s3.eu-west-1.amazonaws.com/samples/testfiles/InvoiceSigned.pdf'\n",
        "input_file_path = 'InvoiceSigned.pdf'\n",
        "prepare_file(input_url, input_file_path)"
      ]
    },
    {
      "cell_type": "code",
      "execution_count": null,
      "id": "ee9c50d5-a66b-47f3-88a7-661354e050c6",
      "metadata": {
          "id": "e30fb6d8-cb6a-45ab-8ace-fdd3ca8b9bf1"
      },
      "outputs": [],
      "source": [
        "def list_signatures(in_doc: Document):\n",
        "    # Retrieve the list of signature fields\n",
        "    signature_fields = in_doc.signature_fields\n",
        "    print(f\"Number of signature fields: {len(signature_fields)}\")\n",
        "\n",
        "    for field in signature_fields:\n",
        "        if isinstance(field, Signature):\n",
        "            # List name\n",
        "            name = field.name or \"(Unknown name)\"\n",
        "            print(f\"- {'Visible' if field.is_visible else 'Invisible'} field, signed by: {name}\")\n",
        "\n",
        "            # List location\n",
        "            if field.location:\n",
        "                print(f\"  - Location: {field.location}\")\n",
        "\n",
        "            # List reason\n",
        "            if field.reason:\n",
        "                print(f\"  - Reason: {field.reason}\")\n",
        "\n",
        "            # List contact info\n",
        "            if field.contact_info:\n",
        "                print(f\"  - Contact info: {field.contact_info}\")\n",
        "\n",
        "            # List date\n",
        "            if field.date:\n",
        "                print(f\"  - Date: {field.date}\")\n",
        "        else:\n",
        "            print(f\"- {'Visible' if field.is_visible else 'Invisible'} field, not signed\")"
      ]
    },
    {
      "cell_type": "code",
      "execution_count": null,
      "id": "b83f88d5-3f74-47f1-ac99-1482d2a05ebc",
      "metadata": {
          "id": "72914495-b237-493f-8335-cb9110dd5f90"
      },
      "outputs": [],
      "source": [
        "try:\n",
        "    # Set and check license key. If the license key is not valid, an exception is thrown.\n",
        "    from pdftools_toolbox.sdk import Sdk\n",
        "    Sdk.initialize(\"INSERT-LICENSE-KEY\", None)\n",

        "\n",
        "    # Open input document\n",
        "    with io.FileIO(input_file_path, \"rb\") as in_stream:\n",
        "        with Document.open(in_stream, None) as in_doc:\n",
        "            # List all signatures of the PDF document\n",
        "            list_signatures(in_doc)\n",

        "\n",
        "    print(\"Execution successful.\")\n",

        "except Exception as e:\n",
        "    print(f\"An error occurred: {e}\")"
      ]
    }
  ],
  "metadata": {
    "kernelspec": {
      "display_name": "Python 3",
      "language": "python",
      "name": "python3"
    },
    "language_info": {
      "codemirror_mode": {
        "name": "ipython",
        "version": 3
      },
      "file_extension": ".py",
      "mimetype": "text/x-python",
      "name": "python",
      "nbconvert_exporter": "python",
      "pygments_lexer": "ipython3",
      "version": "3.12.8"
    },
    "colab": {
      "provenance": []
    }
  },
  "nbformat": 4,
  "nbformat_minor": 5
}