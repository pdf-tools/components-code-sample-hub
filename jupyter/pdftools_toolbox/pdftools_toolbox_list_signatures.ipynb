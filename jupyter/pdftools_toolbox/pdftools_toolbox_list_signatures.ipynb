{
  "cells": [
    {
      "cell_type": "markdown",
      "id": "38dd9d13-a65c-4182-ab97-d3c2f20b2d31",
      "metadata": {
          "id": "19f06344-f0c1-4f01-a4b7-5e7d79498c04"
      },
      "source": [
        "[![Open In Colab](https://colab.research.google.com/assets/colab-badge.svg)](https://colab.research.google.com/github/pdf-tools/components-code-sample-hub/blob/main/jupyter/pdftools_toolbox/pdftools_toolbox_list_signatures.ipynb)"
      ]
    },
    {
      "cell_type": "code",
      "execution_count": null,
      "id": "f13a3564-b8b3-49bf-bcb2-3a355e9e1706",
      "metadata": {
          "id": "b0e496f3-e211-4096-88cc-7614f77b636c"
      },
      "outputs": [],
      "source": [
        "%pip install https://pdftools-public-downloads-production.s3.eu-west-1.amazonaws.com/productkits/PDFSDKXT/latest/pdftools_toolbox-latest.tar.gz\n",
        "%pip install ipython"
      ]
    },
    {
      "cell_type": "markdown",
      "id": "08f0a8ce-26c6-438d-871b-b27a013b0005",
      "metadata": {
          "id": "f7e7bb71-33b5-44f9-9ec7-db68e2e0a24a"
      },
      "source": [
        "# List Signatures in PDF\n",
        "List all signature fields in a PDF document and their\n",
        "properties."
      ]
    },
    {
      "cell_type": "code",
      "execution_count": null,
      "id": "83a35eb9-58b0-4df8-a68c-620c65e0d5a2",
      "metadata": {
          "id": "d52425e3-2d60-47fe-adb0-f2542023dfc6"
      },
      "outputs": [],
      "source": [
        "import io\n",
        "from pdftools_toolbox.pdf import Document\n",
        "from pdftools_toolbox.pdf.forms import Signature"
      ]
    },
    {
      "cell_type": "code",
      "execution_count": null,
      "id": "c1680844-5868-449e-a659-d2932a3db942",
      "metadata": {
          "id": "c0c55622-8d18-4cf5-b662-36a46bc2bd25"
      },
      "outputs": [],
      "source": [
        "# Download a file from a given URL and save it to the local system\n",
        "def prepare_file(url: str, path: str):\n",
        "    import requests\n",
        "    response = requests.get(url)\n",
        "    response.raise_for_status()\n",
        "\n",
        "    with open(path, 'wb') as f:\n",
        "        f.write(response.content)"
      ]
    },
    {
      "cell_type": "code",
      "execution_count": null,
      "id": "a1519331-55a3-4f5f-9686-7dc98f38062e",
      "metadata": {
          "id": "47265af9-3997-42dc-b62a-6542b4564eb8"
      },
      "outputs": [],
      "source": [
        "# Set input arguments\n",
        "input_url = 'https://pdftools-public-downloads-production.s3.eu-west-1.amazonaws.com/samples/testfiles/InvoiceSigned.pdf'\n",
        "input_file_path = 'InvoiceSigned.pdf'\n",
        "prepare_file(input_url, input_file_path)"
      ]
    },
    {
      "cell_type": "code",
      "execution_count": null,
      "id": "9e58ef3d-3326-49d3-b8d3-97fdee0953be",
      "metadata": {
          "id": "0afffe4c-2a3e-4816-a644-da7c7a8c0a48"
      },
      "outputs": [],
      "source": [
        "def list_signatures(in_doc: Document):\n",
        "    # Retrieve the list of signature fields\n",
        "    signature_fields = in_doc.signature_fields\n",
        "    print(f\"Number of signature fields: {len(signature_fields)}\")\n",
        "\n",
        "    for field in signature_fields:\n",
        "        if isinstance(field, Signature):\n",
        "            # List name\n",
        "            name = field.name or \"(Unknown name)\"\n",
        "            print(f\"- {'Visible' if field.is_visible else 'Invisible'} field, signed by: {name}\")\n",
        "\n",
        "            # List location\n",
        "            if field.location:\n",
        "                print(f\"  - Location: {field.location}\")\n",
        "\n",
        "            # List reason\n",
        "            if field.reason:\n",
        "                print(f\"  - Reason: {field.reason}\")\n",
        "\n",
        "            # List contact info\n",
        "            if field.contact_info:\n",
        "                print(f\"  - Contact info: {field.contact_info}\")\n",
        "\n",
        "            # List date\n",
        "            if field.date:\n",
        "                print(f\"  - Date: {field.date}\")\n",
        "        else:\n",
        "            print(f\"- {'Visible' if field.is_visible else 'Invisible'} field, not signed\")"
      ]
    },
    {
      "cell_type": "code",
      "execution_count": null,
      "id": "77a2c012-e58f-40cc-9447-a0c4934f6d5b",
      "metadata": {
          "id": "91a689f6-44f8-421e-946f-a1a30e34db07"
      },
      "outputs": [],
      "source": [
        "try:\n",
        "    # Set and check license key. If the license key is not valid, an exception is thrown.\n",
        "    from pdftools_toolbox.sdk import Sdk\n",
        "    Sdk.initialize(\"<PDFSDK,V1,MGAASQD6L2JMQHL54PK08RQX8GG4SS0M8DAHVPH0VMP3NB8R9DUK>\", None)\n",

        "\n",
        "    # Open input document\n",
        "    with io.FileIO(input_file_path, \"rb\") as in_stream:\n",
        "        with Document.open(in_stream, None) as in_doc:\n",
        "            # List all signatures of the PDF document\n",
        "            list_signatures(in_doc)\n",

        "\n",
        "    print(\"Execution successful.\")\n",

        "except Exception as e:\n",
        "    print(f\"An error occurred: {e}\")"
      ]
    }
  ],
  "metadata": {
    "kernelspec": {
      "display_name": "Python 3",
      "language": "python",
      "name": "python3"
    },
    "language_info": {
      "codemirror_mode": {
        "name": "ipython",
        "version": 3
      },
      "file_extension": ".py",
      "mimetype": "text/x-python",
      "name": "python",
      "nbconvert_exporter": "python",
      "pygments_lexer": "ipython3",
      "version": "3.12.8"
    },
    "colab": {
      "provenance": []
    }
  },
  "nbformat": 4,
  "nbformat_minor": 5
}