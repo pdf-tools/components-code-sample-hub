{
  "cells": [
    {
      "cell_type": "markdown",
      "id": "6f91958a-95ff-4f7c-8f91-4547758031fa",
      "metadata": {
          "id": "5a16d856-fb09-4b5f-a2f6-f16611a7ae74"
      },
      "source": [
        "[![Open In Colab](https://colab.research.google.com/assets/colab-badge.svg)](https://colab.research.google.com/github/pdf-tools/components-code-sample-hub/blob/main/jupyter/pdftools_toolbox/pdftools_toolbox_list_signatures.ipynb)"
      ]
    },
    {
      "cell_type": "code",
      "execution_count": null,
      "id": "4ec98024-d782-4a01-a036-e0b0bdafb602",
      "metadata": {
          "id": "34a30fad-1c69-4612-a128-ce87f74e1f69"
      },
      "outputs": [],
      "source": [
        "%pip install pdftools_toolbox\n",
        "%pip install ipython"
      ]
    },
    {
      "cell_type": "markdown",
      "id": "79dc5df5-075b-4eec-a9d9-d0b629e24379",
      "metadata": {
          "id": "baab319a-f069-4f36-bc42-e7d321dd09bf"
      },
      "source": [
        "# List Signatures in PDF\n",
        "List all signature fields in a PDF document and their\n",
        "properties."
      ]
    },
    {
      "cell_type": "code",
      "execution_count": null,
      "id": "742e58cb-bfb9-41eb-b7af-fd846830d191",
      "metadata": {
          "id": "b272a2dd-68d2-47c3-b0fb-727196841032"
      },
      "outputs": [],
      "source": [
        "import io\n",
        "from pdftools_toolbox.pdf import Document\n",
        "from pdftools_toolbox.pdf.forms import Signature"
      ]
    },
    {
      "cell_type": "code",
      "execution_count": null,
      "id": "27c85ebe-60f3-45f3-b316-bec60ab95981",
      "metadata": {
          "id": "60e8b1fb-a2cf-4203-8aab-467adce1758b"
      },
      "outputs": [],
      "source": [
        "# Download a file from a given URL and save it to the local system\n",
        "def prepare_file(url: str, path: str):\n",
        "    import requests\n",
        "    response = requests.get(url)\n",
        "    response.raise_for_status()\n",
        "\n",
        "    with open(path, 'wb') as f:\n",
        "        f.write(response.content)"
      ]
    },
    {
      "cell_type": "code",
      "execution_count": null,
      "id": "18fb350f-095b-424e-90b6-ab1fa936a12c",
      "metadata": {
          "id": "23f018de-228b-4425-954a-34e2f02aedcf"
      },
      "outputs": [],
      "source": [
        "# Set input arguments\n",
        "input_url = 'https://pdftools-public-downloads-production.s3.eu-west-1.amazonaws.com/samples/testfiles/InvoiceSigned.pdf'\n",
        "input_file_path = 'InvoiceSigned.pdf'\n",
        "prepare_file(input_url, input_file_path)"
      ]
    },
    {
      "cell_type": "code",
      "execution_count": null,
      "id": "e19c5d25-e1f1-47a8-a9a0-9e969ad99e01",
      "metadata": {
          "id": "f6c6e31e-b239-416a-844f-827828e10d7f"
      },
      "outputs": [],
      "source": [
        "def list_signatures(in_doc: Document):\n",
        "    # Retrieve the list of signature fields\n",
        "    signature_fields = in_doc.signature_fields\n",
        "    print(f\"Number of signature fields: {len(signature_fields)}\")\n",
        "\n",
        "    for field in signature_fields:\n",
        "        if isinstance(field, Signature):\n",
        "            # List name\n",
        "            name = field.name or \"(Unknown name)\"\n",
        "            print(f\"- {'Visible' if field.is_visible else 'Invisible'} field, signed by: {name}\")\n",
        "\n",
        "            # List location\n",
        "            if field.location:\n",
        "                print(f\"  - Location: {field.location}\")\n",
        "\n",
        "            # List reason\n",
        "            if field.reason:\n",
        "                print(f\"  - Reason: {field.reason}\")\n",
        "\n",
        "            # List contact info\n",
        "            if field.contact_info:\n",
        "                print(f\"  - Contact info: {field.contact_info}\")\n",
        "\n",
        "            # List date\n",
        "            if field.date:\n",
        "                print(f\"  - Date: {field.date}\")\n",
        "        else:\n",
        "            print(f\"- {'Visible' if field.is_visible else 'Invisible'} field, not signed\")"
      ]
    },
    {
      "cell_type": "code",
      "execution_count": null,
      "id": "3d6b50f6-b7b1-48ff-b7de-e298a9ae72f6",
      "metadata": {
          "id": "67ae7e6f-ddf6-4685-9407-9c610350bda1"
      },
      "outputs": [],
      "source": [
        "try:\n",
        "    # Set and check license key. If the license key is not valid, an exception is thrown.\n",
        "    from pdftools_toolbox.sdk import Sdk\n",
        "    Sdk.initialize(\"INSERT-LICENSE-KEY\", None)\n",

        "\n",
        "    # Open input document\n",
        "    with io.FileIO(input_file_path, \"rb\") as in_stream:\n",
        "        with Document.open(in_stream, None) as in_doc:\n",
        "            # List all signatures of the PDF document\n",
        "            list_signatures(in_doc)\n",

        "\n",
        "    print(\"Execution successful.\")\n",

        "except Exception as e:\n",
        "    print(f\"An error occurred: {e}\")"
      ]
    }
  ],
  "metadata": {
    "kernelspec": {
      "display_name": "Python 3",
      "language": "python",
      "name": "python3"
    },
    "language_info": {
      "codemirror_mode": {
        "name": "ipython",
        "version": 3
      },
      "file_extension": ".py",
      "mimetype": "text/x-python",
      "name": "python",
      "nbconvert_exporter": "python",
      "pygments_lexer": "ipython3",
      "version": "3.12.8"
    },
    "colab": {
      "provenance": []
    }
  },
  "nbformat": 4,
  "nbformat_minor": 5
}