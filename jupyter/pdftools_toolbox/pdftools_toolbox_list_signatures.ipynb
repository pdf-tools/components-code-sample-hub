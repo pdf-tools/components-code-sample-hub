{
  "cells": [
    {
      "cell_type": "markdown",
      "id": "bf143d12-238f-45b2-a3ae-c607dfb094dd",
      "metadata": {
          "id": "3bd397c2-7cc5-437b-ace8-25543c0ac139"
      },
      "source": [
        "[![Open In Colab](https://colab.research.google.com/assets/colab-badge.svg)](https://colab.research.google.com/github/pdf-tools/components-code-sample-hub/blob/main/jupyter/pdftools_toolbox/pdftools_toolbox_list_signatures.ipynb)"
      ]
    },
    {
      "cell_type": "code",
      "execution_count": null,
      "id": "2df375fe-5130-478f-ba8f-2ed850be30f0",
      "metadata": {
          "id": "bf95e45b-a473-47b8-bb44-cf61b4714e92"
      },
      "outputs": [],
      "source": [
        "%pip install https://pdftools-public-downloads-production.s3.eu-west-1.amazonaws.com/productkits/PDFSDKXT/latest/pdftools_toolbox-latest.tar.gz\n",
        "%pip install ipython"
      ]
    },
    {
      "cell_type": "markdown",
      "id": "8495712b-09a6-4694-9d3d-aea79aba38d2",
      "metadata": {
          "id": "f81f81c3-36c9-47f8-b421-3e61a3c1503b"
      },
      "source": [
        "# List Signatures in PDF\n",
        "List all signature fields in a PDF document and their\n",
        "properties."
      ]
    },
    {
      "cell_type": "code",
      "execution_count": null,
      "id": "64d3d1ed-84b5-4a59-8469-1bfe2e28a1a2",
      "metadata": {
          "id": "a83f98d5-b51d-43b7-8f74-755d2300af98"
      },
      "outputs": [],
      "source": [
        "import io\n",
        "from pdftools_toolbox.pdf import Document\n",
        "from pdftools_toolbox.pdf.forms import Signature"
      ]
    },
    {
      "cell_type": "code",
      "execution_count": null,
      "id": "06310dc2-c961-4033-a3e8-160e78c155a4",
      "metadata": {
          "id": "63f9a5f9-9f42-4ec5-884b-ff659d28da85"
      },
      "outputs": [],
      "source": [
        "# Download a file from a given URL and save it to the local system\n",
        "def prepare_file(url: str, path: str):\n",
        "    import requests\n",
        "    response = requests.get(url)\n",
        "    response.raise_for_status()\n",
        "\n",
        "    with open(path, 'wb') as f:\n",
        "        f.write(response.content)"
      ]
    },
    {
      "cell_type": "code",
      "execution_count": null,
      "id": "e9146a69-e038-45de-bc71-ef572515d674",
      "metadata": {
          "id": "c1389b8e-08ff-4ee2-b89d-b7d936683707"
      },
      "outputs": [],
      "source": [
        "# Set input arguments\n",
        "input_url = 'https://pdftools-public-downloads-production.s3.eu-west-1.amazonaws.com/samples/testfiles/InvoiceSigned.pdf'\n",
        "input_file_path = 'InvoiceSigned.pdf'\n",
        "prepare_file(input_url, input_file_path)"
      ]
    },
    {
      "cell_type": "code",
      "execution_count": null,
      "id": "218637b3-010a-4a16-bbab-0760cbe8ab58",
      "metadata": {
          "id": "5810b4a6-b0fc-4f7f-9816-e7c483dc292a"
      },
      "outputs": [],
      "source": [
        "def list_signatures(in_doc: Document):\n",
        "    # Retrieve the list of signature fields\n",
        "    signature_fields = in_doc.signature_fields\n",
        "    print(f\"Number of signature fields: {len(signature_fields)}\")\n",
        "\n",
        "    for field in signature_fields:\n",
        "        if isinstance(field, Signature):\n",
        "            # List name\n",
        "            name = field.name or \"(Unknown name)\"\n",
        "            print(f\"- {'Visible' if field.is_visible else 'Invisible'} field, signed by: {name}\")\n",
        "\n",
        "            # List location\n",
        "            if field.location:\n",
        "                print(f\"  - Location: {field.location}\")\n",
        "\n",
        "            # List reason\n",
        "            if field.reason:\n",
        "                print(f\"  - Reason: {field.reason}\")\n",
        "\n",
        "            # List contact info\n",
        "            if field.contact_info:\n",
        "                print(f\"  - Contact info: {field.contact_info}\")\n",
        "\n",
        "            # List date\n",
        "            if field.date:\n",
        "                print(f\"  - Date: {field.date}\")\n",
        "        else:\n",
        "            print(f\"- {'Visible' if field.is_visible else 'Invisible'} field, not signed\")"
      ]
    },
    {
      "cell_type": "code",
      "execution_count": null,
      "id": "e6ed05e9-b81d-44f9-a34b-6335ec0a5f85",
      "metadata": {
          "id": "2ce7374b-3dcb-4c8d-88b4-630c04f9b92b"
      },
      "outputs": [],
      "source": [
        "try:\n",
        "    # Set and check license key. If the license key is not valid, an exception is thrown.\n",
        "    from pdftools_toolbox.sdk import Sdk\n",
        "    Sdk.initialize(\"INSERT-LICENSE-KEY\", None)\n",

        "\n",
        "    # Open input document\n",
        "    with io.FileIO(input_file_path, \"rb\") as in_stream:\n",
        "        with Document.open(in_stream, None) as in_doc:\n",
        "            # List all signatures of the PDF document\n",
        "            list_signatures(in_doc)\n",

        "\n",
        "    print(\"Execution successful.\")\n",

        "except Exception as e:\n",
        "    print(f\"An error occurred: {e}\")"
      ]
    }
  ],
  "metadata": {
    "kernelspec": {
      "display_name": "Python 3",
      "language": "python",
      "name": "python3"
    },
    "language_info": {
      "codemirror_mode": {
        "name": "ipython",
        "version": 3
      },
      "file_extension": ".py",
      "mimetype": "text/x-python",
      "name": "python",
      "nbconvert_exporter": "python",
      "pygments_lexer": "ipython3",
      "version": "3.12.8"
    },
    "colab": {
      "provenance": []
    }
  },
  "nbformat": 4,
  "nbformat_minor": 5
}