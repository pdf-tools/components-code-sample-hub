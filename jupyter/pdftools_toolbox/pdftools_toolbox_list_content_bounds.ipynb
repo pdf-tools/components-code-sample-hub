{
  "cells": [
    {
      "cell_type": "markdown",
      "id": "3317fcaf-b906-4a74-818b-f40399fe5964",
      "metadata": {
          "id": "f40112a1-d7aa-4801-9283-a77dd45e1d68"
      },
      "source": [
        "[![Open In Colab](https://colab.research.google.com/assets/colab-badge.svg)](https://colab.research.google.com/github/pdf-tools/components-code-sample-hub/blob/main/jupyter/pdftools_toolbox/pdftools_toolbox_list_content_bounds.ipynb)"
      ]
    },
    {
      "cell_type": "code",
      "execution_count": null,
      "id": "9f1a528e-0c66-49c3-981a-a8740c6c2f3b",
      "metadata": {
          "id": "2c6e8e1a-3a3f-4847-93fe-5d9fd7d3a274"
      },
      "outputs": [],
      "source": [
        "%pip install https://pdftools-public-downloads-production.s3.eu-west-1.amazonaws.com/productkits/PDFSDKXT/latest/pdftools_toolbox-latest.tar.gz\n",
        "%pip install ipython"
      ]
    },
    {
      "cell_type": "markdown",
      "id": "351d9f71-825d-4064-ba6b-5924f6b104cf",
      "metadata": {
          "id": "97ac02b2-ffda-4953-ba27-5a193d9d49ba"
      },
      "source": [
        "# List bounds of page content\n",
        "For each page, list the page size and the rectangular\n",
        "bounding box of all content on the page in PDF points\n",
        "(1/72 inch)."
      ]
    },
    {
      "cell_type": "code",
      "execution_count": null,
      "id": "d3788f4e-38fb-4fcd-a762-8e7bdb19013c",
      "metadata": {
          "id": "244f5994-594a-4ba3-99cd-b52f11a3fcc7"
      },
      "outputs": [],
      "source": [
        "import io\n",
        "from pdftools_toolbox.geometry.real import Point, Rectangle\n",
        "from pdftools_toolbox.pdf import Document\n",
        "from pdftools_toolbox.pdf.content import ContentExtractor"
      ]
    },
    {
      "cell_type": "code",
      "execution_count": null,
      "id": "346592f5-7adf-434b-b0e1-c41d833397f7",
      "metadata": {
          "id": "b1593064-f7b2-453a-a329-5999b6c8ec59"
      },
      "outputs": [],
      "source": [
        "# Download a file from a given URL and save it to the local system\n",
        "def prepare_file(url: str, path: str):\n",
        "    import requests\n",
        "    response = requests.get(url)\n",
        "    response.raise_for_status()\n",
        "\n",
        "    with open(path, 'wb') as f:\n",
        "        f.write(response.content)"
      ]
    },
    {
      "cell_type": "code",
      "execution_count": null,
      "id": "132dc54c-b8ac-449e-b76e-cda3b257ea0a",
      "metadata": {
          "id": "4d3f1d1e-cdbf-4d9a-aa30-acc78cc23edf"
      },
      "outputs": [],
      "source": [
        "# Set input arguments\n",
        "input_url = 'https://pdftools-public-downloads-production.s3.eu-west-1.amazonaws.com/samples/testfiles/InvoiceNone.pdf'\n",
        "input_file_path = 'InvoiceNone.pdf'\n",
        "prepare_file(input_url, input_file_path)"
      ]
    },
    {
      "cell_type": "code",
      "execution_count": null,
      "id": "a901dea2-0402-4934-a1c2-158634731dfd",
      "metadata": {
          "id": "c350b387-a03b-49b9-bfac-9186b2fb1506"
      },
      "outputs": [],
      "source": [
        "def enlarge(content_box: Rectangle, point: Point):\n",
        "    \"\"\"\n",
        "    Enlarge the bounding box to include the given point.\n",
        "    \"\"\"\n",
        "    content_box.left = min(content_box.left, point.x)\n",
        "    content_box.right = max(content_box.right, point.x)\n",
        "    content_box.bottom = min(content_box.bottom, point.y)\n",
        "    content_box.top = max(content_box.top, point.y)"
      ]
    },
    {
      "cell_type": "code",
      "execution_count": null,
      "id": "91cfe420-76e5-4c40-b8d6-69500ede15fc",
      "metadata": {
          "id": "26703c8a-f47b-449a-88d7-3162b0e4df07"
      },
      "outputs": [],
      "source": [
        "def list_content_bounds(input_doc: Document):\n",
        "    \"\"\"\n",
        "    Process the input PDF file to list page size and bounding boxes.\n",
        "    \"\"\"\n",
        "    # Iterate over all pages\n",
        "    for page_number, page in enumerate(input_doc.pages, start=1):\n",
        "        print(f\"Page {page_number}\")\n",
        "\n",
        "        # Print page size\n",
        "        size = page.size\n",
        "        print(\"  Size:\")\n",
        "        print(f\"    Width: {size.width}\")\n",
        "        print(f\"    Height: {size.height}\")\n",
        "\n",
        "        # Compute rectangular bounding box of all content on page\n",
        "        content_box = Rectangle(\n",
        "            left=float(\"inf\"),\n",
        "            bottom=float(\"inf\"),\n",
        "            right=float(\"-inf\"),\n",
        "            top=float(\"-inf\"),\n",
        "        )\n",
        "\n",
        "        # Extract content and compute bounding box\n",
        "        extractor = ContentExtractor(page.content)\n",
        "        for element in extractor:\n",
        "            # Enlarge the content box for each content element\n",
        "            tr = element.transform\n",
        "            box = element.bounding_box\n",
        "\n",
        "            # The location on the page is given by the transformed points\n",
        "            enlarge(content_box, tr.transform_point(Point(x=box.left, y=box.bottom)))\n",
        "            enlarge(content_box, tr.transform_point(Point(x=box.right, y=box.bottom)))\n",
        "            enlarge(content_box, tr.transform_point(Point(x=box.right, y=box.top)))\n",
        "            enlarge(content_box, tr.transform_point(Point(x=box.left, y=box.top)))\n",
        "\n",
        "        print(\"  Content bounding box:\")\n",
        "        print(f\"    Left: {content_box.left}\")\n",
        "        print(f\"    Bottom: {content_box.bottom}\")\n",
        "        print(f\"    Right: {content_box.right}\")\n",
        "        print(f\"    Top: {content_box.top}\")"
      ]
    },
    {
      "cell_type": "code",
      "execution_count": null,
      "id": "96f323f0-ef64-4bfa-9dc2-09c16f65bc96",
      "metadata": {
          "id": "34dd58ed-9a24-4794-bf51-a5b0ece604e5"
      },
      "outputs": [],
      "source": [
        "try:\n",
        "    # Set and check license key. If the license key is not valid, an exception is thrown.\n",
        "    from pdftools_toolbox.sdk import Sdk\n",
        "    Sdk.initialize(\"<PDFSDK,V1,MGAASQD6L2JMQHL54PK08RQX8GG4SS0M8DAHVPH0VMP3NB8R9DUK>\", None)\n",

        "\n",
        "    # Open input document\n",
        "    with io.FileIO(input_file_path, \"rb\") as in_stream:\n",
        "        with Document.open(in_stream, None) as in_doc:\n",
        "            # Process the PDF\n",
        "            list_content_bounds(in_doc)\n",

        "\n",
        "    print(\"Execution successful.\")\n",

        "except Exception as e:\n",
        "    print(f\"An error occurred: {e}\")"
      ]
    }
  ],
  "metadata": {
    "kernelspec": {
      "display_name": "Python 3",
      "language": "python",
      "name": "python3"
    },
    "language_info": {
      "codemirror_mode": {
        "name": "ipython",
        "version": 3
      },
      "file_extension": ".py",
      "mimetype": "text/x-python",
      "name": "python",
      "nbconvert_exporter": "python",
      "pygments_lexer": "ipython3",
      "version": "3.12.8"
    },
    "colab": {
      "provenance": []
    }
  },
  "nbformat": 4,
  "nbformat_minor": 5
}