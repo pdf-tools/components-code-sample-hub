{
  "cells": [
    {
      "cell_type": "markdown",
      "id": "8a83b9d9-89ce-41ae-9b2a-89851a9449c4",
      "metadata": {
          "id": "b7a4d093-b4b1-4cc5-9093-39c865cdc7a7"
      },
      "source": [
        "[![Open In Colab](https://colab.research.google.com/assets/colab-badge.svg)](https://colab.research.google.com/github/pdf-tools/components-code-sample-hub/blob/main/jupyter/pdftools_toolbox/pdftools_toolbox_list_content_bounds.ipynb)"
      ]
    },
    {
      "cell_type": "code",
      "execution_count": null,
      "id": "ae0d7834-d27e-4fcb-98a7-fb9f8d01f703",
      "metadata": {
          "id": "525a7481-7917-47e3-b5eb-0cfa2716c4d1"
      },
      "outputs": [],
      "source": [
        "%pip install https://pdftools-public-downloads-production.s3.eu-west-1.amazonaws.com/productkits/PDFSDKXT/latest/pdftools_toolbox-latest.tar.gz\n",
        "%pip install ipython"
      ]
    },
    {
      "cell_type": "markdown",
      "id": "5eae2951-8f76-4c84-9fd3-28a3d39d420c",
      "metadata": {
          "id": "97546950-91c1-458d-86f1-1dd199b34b67"
      },
      "source": [
        "# List bounds of page content\n",
        "For each page, list the page size and the rectangular\n",
        "bounding box of all content on the page in PDF points\n",
        "(1/72 inch)."
      ]
    },
    {
      "cell_type": "code",
      "execution_count": null,
      "id": "607177c0-75b2-484a-b0bf-09e5d08e9204",
      "metadata": {
          "id": "fd882c15-8a24-49d4-9591-e66067310e7e"
      },
      "outputs": [],
      "source": [
        "import io\n",
        "from pdftools_toolbox.geometry.real import Point, Rectangle\n",
        "from pdftools_toolbox.pdf import Document\n",
        "from pdftools_toolbox.pdf.content import ContentExtractor"
      ]
    },
    {
      "cell_type": "code",
      "execution_count": null,
      "id": "f1ea1a60-a8ea-4087-a154-1fba5e59b81f",
      "metadata": {
          "id": "9279527d-c271-4186-8ea3-6778c979c989"
      },
      "outputs": [],
      "source": [
        "# Download a file from a given URL and save it to the local system\n",
        "def prepare_file(url: str, path: str):\n",
        "    import requests\n",
        "    response = requests.get(url)\n",
        "    response.raise_for_status()\n",
        "\n",
        "    with open(path, 'wb') as f:\n",
        "        f.write(response.content)"
      ]
    },
    {
      "cell_type": "code",
      "execution_count": null,
      "id": "0df32b92-0fc6-4473-b86f-eb479a848201",
      "metadata": {
          "id": "c842a096-167b-446e-a088-cc740816fe8e"
      },
      "outputs": [],
      "source": [
        "# Set input arguments\n",
        "input_url = 'https://pdftools-public-downloads-production.s3.eu-west-1.amazonaws.com/samples/testfiles/InvoiceNone.pdf'\n",
        "input_file_path = 'InvoiceNone.pdf'\n",
        "prepare_file(input_url, input_file_path)"
      ]
    },
    {
      "cell_type": "code",
      "execution_count": null,
      "id": "9fccde02-befc-4596-bf4d-89e0e16b61b5",
      "metadata": {
          "id": "8d006346-c7a1-426a-ab4c-c1d469a8c2c5"
      },
      "outputs": [],
      "source": [
        "def enlarge(content_box: Rectangle, point: Point):\n",
        "    \"\"\"\n",
        "    Enlarge the bounding box to include the given point.\n",
        "    \"\"\"\n",
        "    content_box.left = min(content_box.left, point.x)\n",
        "    content_box.right = max(content_box.right, point.x)\n",
        "    content_box.bottom = min(content_box.bottom, point.y)\n",
        "    content_box.top = max(content_box.top, point.y)"
      ]
    },
    {
      "cell_type": "code",
      "execution_count": null,
      "id": "40769d28-1761-46de-8ab2-f69601940651",
      "metadata": {
          "id": "5d16ebd3-7cfa-41ea-b205-323f2350a1bd"
      },
      "outputs": [],
      "source": [
        "def list_content_bounds(input_doc: Document):\n",
        "    \"\"\"\n",
        "    Process the input PDF file to list page size and bounding boxes.\n",
        "    \"\"\"\n",
        "    # Iterate over all pages\n",
        "    for page_number, page in enumerate(input_doc.pages, start=1):\n",
        "        print(f\"Page {page_number}\")\n",
        "\n",
        "        # Print page size\n",
        "        size = page.size\n",
        "        print(\"  Size:\")\n",
        "        print(f\"    Width: {size.width}\")\n",
        "        print(f\"    Height: {size.height}\")\n",
        "\n",
        "        # Compute rectangular bounding box of all content on page\n",
        "        content_box = Rectangle(\n",
        "            left=float(\"inf\"),\n",
        "            bottom=float(\"inf\"),\n",
        "            right=float(\"-inf\"),\n",
        "            top=float(\"-inf\"),\n",
        "        )\n",
        "\n",
        "        # Extract content and compute bounding box\n",
        "        extractor = ContentExtractor(page.content)\n",
        "        for element in extractor:\n",
        "            # Enlarge the content box for each content element\n",
        "            tr = element.transform\n",
        "            box = element.bounding_box\n",
        "\n",
        "            # The location on the page is given by the transformed points\n",
        "            enlarge(content_box, tr.transform_point(Point(x=box.left, y=box.bottom)))\n",
        "            enlarge(content_box, tr.transform_point(Point(x=box.right, y=box.bottom)))\n",
        "            enlarge(content_box, tr.transform_point(Point(x=box.right, y=box.top)))\n",
        "            enlarge(content_box, tr.transform_point(Point(x=box.left, y=box.top)))\n",
        "\n",
        "        print(\"  Content bounding box:\")\n",
        "        print(f\"    Left: {content_box.left}\")\n",
        "        print(f\"    Bottom: {content_box.bottom}\")\n",
        "        print(f\"    Right: {content_box.right}\")\n",
        "        print(f\"    Top: {content_box.top}\")"
      ]
    },
    {
      "cell_type": "code",
      "execution_count": null,
      "id": "53e85e2b-256c-47c2-a986-db48ee95abf0",
      "metadata": {
          "id": "a7aa7353-e013-40cc-b8a1-4e960a422427"
      },
      "outputs": [],
      "source": [
        "try:\n",
        "    # Set and check license key. If the license key is not valid, an exception is thrown.\n",
        "    from pdftools_toolbox.sdk import Sdk\n",
        "    Sdk.initialize(\"INSERT-LICENSE-KEY\", None)\n",

        "\n",
        "    # Open input document\n",
        "    with io.FileIO(input_file_path, \"rb\") as in_stream:\n",
        "        with Document.open(in_stream, None) as in_doc:\n",
        "            # Process the PDF\n",
        "            list_content_bounds(in_doc)\n",

        "\n",
        "    print(\"Execution successful.\")\n",

        "except Exception as e:\n",
        "    print(f\"An error occurred: {e}\")"
      ]
    }
  ],
  "metadata": {
    "kernelspec": {
      "display_name": "Python 3",
      "language": "python",
      "name": "python3"
    },
    "language_info": {
      "codemirror_mode": {
        "name": "ipython",
        "version": 3
      },
      "file_extension": ".py",
      "mimetype": "text/x-python",
      "name": "python",
      "nbconvert_exporter": "python",
      "pygments_lexer": "ipython3",
      "version": "3.12.8"
    },
    "colab": {
      "provenance": []
    }
  },
  "nbformat": 4,
  "nbformat_minor": 5
}