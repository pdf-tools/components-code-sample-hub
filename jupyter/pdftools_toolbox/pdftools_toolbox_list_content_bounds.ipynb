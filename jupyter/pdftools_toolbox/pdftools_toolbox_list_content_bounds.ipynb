{
  "cells": [
    {
      "cell_type": "markdown",
      "id": "ee02fcbb-89dc-4985-9c80-88c92c44647d",
      "metadata": {
          "id": "d84b9f3c-0c8e-4dc5-a85c-aac76fd0c2de"
      },
      "source": [
        "[![Open In Colab](https://colab.research.google.com/assets/colab-badge.svg)](https://colab.research.google.com/github/pdf-tools/components-code-sample-hub/blob/main/jupyter/pdftools_toolbox/pdftools_toolbox_list_content_bounds.ipynb)"
      ]
    },
    {
      "cell_type": "code",
      "execution_count": null,
      "id": "0b7f48ba-21d5-43eb-bcf0-afd631220e9a",
      "metadata": {
          "id": "5070e16e-8134-45fb-957f-d012a104013d"
      },
      "outputs": [],
      "source": [
        "%pip install pdftools_toolbox\n",
        "%pip install ipython"
      ]
    },
    {
      "cell_type": "markdown",
      "id": "d27a1b6d-50a1-4bc0-889a-94257a4dcc52",
      "metadata": {
          "id": "e29945ac-e7fa-4d10-ac4b-4a9cbecb4592"
      },
      "source": [
        "# List bounds of page content\n",
        "For each page, list the page size and the rectangular\n",
        "bounding box of all content on the page in PDF points\n",
        "(1/72 inch)."
      ]
    },
    {
      "cell_type": "code",
      "execution_count": null,
      "id": "ee1884ad-6789-4c3e-bac9-391d7569d862",
      "metadata": {
          "id": "e74f3344-62b4-4ee3-a663-d4b98612bc38"
      },
      "outputs": [],
      "source": [
        "import io\n",
        "from pdftools_toolbox.geometry.real import Point, Rectangle\n",
        "from pdftools_toolbox.pdf import Document\n",
        "from pdftools_toolbox.pdf.content import ContentExtractor"
      ]
    },
    {
      "cell_type": "code",
      "execution_count": null,
      "id": "aab7192b-6ea7-4227-867c-876fe3400ea8",
      "metadata": {
          "id": "2ae8a06c-de5f-415d-87a2-8d1771ce31f9"
      },
      "outputs": [],
      "source": [
        "# Download a file from a given URL and save it to the local system\n",
        "def prepare_file(url: str, path: str):\n",
        "    import requests\n",
        "    response = requests.get(url)\n",
        "    response.raise_for_status()\n",
        "\n",
        "    with open(path, 'wb') as f:\n",
        "        f.write(response.content)"
      ]
    },
    {
      "cell_type": "code",
      "execution_count": null,
      "id": "072c6118-e1f2-4a2d-be8f-5f325f723fd9",
      "metadata": {
          "id": "6febe38f-627f-4e9f-9a31-5782775c46e9"
      },
      "outputs": [],
      "source": [
        "# Set input arguments\n",
        "input_url = 'https://pdftools-public-downloads-production.s3.eu-west-1.amazonaws.com/samples/testfiles/InvoiceNone.pdf'\n",
        "input_file_path = 'InvoiceNone.pdf'\n",
        "prepare_file(input_url, input_file_path)"
      ]
    },
    {
      "cell_type": "code",
      "execution_count": null,
      "id": "e4a4fab7-e6bd-494a-9d50-0b9e69d68f2d",
      "metadata": {
          "id": "1726fd23-6234-4c03-8174-f6884b9a9e30"
      },
      "outputs": [],
      "source": [
        "def enlarge(content_box: Rectangle, point: Point):\n",
        "    \"\"\"\n",
        "    Enlarge the bounding box to include the given point.\n",
        "    \"\"\"\n",
        "    content_box.left = min(content_box.left, point.x)\n",
        "    content_box.right = max(content_box.right, point.x)\n",
        "    content_box.bottom = min(content_box.bottom, point.y)\n",
        "    content_box.top = max(content_box.top, point.y)"
      ]
    },{
      "cell_type": "code",
      "execution_count": null,
      "id": "baaa5290-875a-46d5-acdc-2e04127c1e59",
      "metadata": {
          "id": "ed8416fd-224c-4a86-88cc-1888e27b1e63"
      },
      "outputs": [],
      "source": [
        "def list_content_bounds(input_doc: Document):\n",
        "    \"\"\"\n",
        "    Process the input PDF file to list page size and bounding boxes.\n",
        "    \"\"\"\n",
        "    # Iterate over all pages\n",
        "    for page_number, page in enumerate(input_doc.pages, start=1):\n",
        "        print(f\"Page {page_number}\")\n",
        "\n",
        "        # Print page size\n",
        "        size = page.size\n",
        "        print(\"  Size:\")\n",
        "        print(f\"    Width: {size.width}\")\n",
        "        print(f\"    Height: {size.height}\")\n",
        "\n",
        "        # Compute rectangular bounding box of all content on page\n",
        "        content_box = Rectangle(\n",
        "            left=float(\"inf\"),\n",
        "            bottom=float(\"inf\"),\n",
        "            right=float(\"-inf\"),\n",
        "            top=float(\"-inf\"),\n",
        "        )\n",
        "\n",
        "        # Extract content and compute bounding box\n",
        "        extractor = ContentExtractor(page.content)\n",
        "        for element in extractor:\n",
        "            # Enlarge the content box for each content element\n",
        "            tr = element.transform\n",
        "            box = element.bounding_box\n",
        "\n",
        "            # The location on the page is given by the transformed points\n",
        "            enlarge(content_box, tr.transform_point(Point(x=box.left, y=box.bottom)))\n",
        "            enlarge(content_box, tr.transform_point(Point(x=box.right, y=box.bottom)))\n",
        "            enlarge(content_box, tr.transform_point(Point(x=box.right, y=box.top)))\n",
        "            enlarge(content_box, tr.transform_point(Point(x=box.left, y=box.top)))\n",
        "\n",
        "        print(\"  Content bounding box:\")\n",
        "        print(f\"    Left: {content_box.left}\")\n",
        "        print(f\"    Bottom: {content_box.bottom}\")\n",
        "        print(f\"    Right: {content_box.right}\")\n",
        "        print(f\"    Top: {content_box.top}\")"
      ]
    },
    {
      "cell_type": "code",
      "execution_count": null,
      "id": "fd0d0d23-ba6b-4d56-aece-7f3c36c492a1",
      "metadata": {
          "id": "6be924e8-df9e-4d22-aba1-6e7481628c07"
      },
      "outputs": [],
      "source": [
        "try:\n",
        "    # Set and check license key. If the license key is not valid, an exception is thrown.\n",
        "    from pdftools_toolbox.sdk import Sdk\n",
        "    Sdk.initialize(\"INSERT-LICENSE-KEY\", None)\n",

        "\n",
        "    # Open input document\n",
        "    with io.FileIO(input_file_path, \"rb\") as in_stream:\n",
        "        with Document.open(in_stream, None) as in_doc:\n",
        "            # Process the PDF\n",
        "            list_content_bounds(in_doc)\n",

        "\n",
        "    print(\"Execution successful.\")\n",

        "except Exception as e:\n",
        "    print(f\"An error occurred: {e}\")"
      ]
    }
  ],
  "metadata": {
    "kernelspec": {
      "display_name": "Python 3",
      "language": "python",
      "name": "python3"
    },
    "language_info": {
      "codemirror_mode": {
        "name": "ipython",
        "version": 3
      },
      "file_extension": ".py",
      "mimetype": "text/x-python",
      "name": "python",
      "nbconvert_exporter": "python",
      "pygments_lexer": "ipython3",
      "version": "3.12.8"
    },
    "colab": {
      "provenance": []
    }
  },
  "nbformat": 4,
  "nbformat_minor": 5
}