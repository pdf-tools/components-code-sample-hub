{
  "cells": [
    {
      "cell_type": "markdown",
      "id": "e2714f53-b0cb-48b6-98eb-73df95514982",
      "metadata": {
          "id": "63f000cd-bb87-48f3-9308-6c679c548526"
      },
      "source": [
        "[![Open In Colab](https://colab.research.google.com/assets/colab-badge.svg)](https://colab.research.google.com/github/pdf-tools/components-code-sample-hub/blob/main/jupyter/pdftools_toolbox/pdftools_toolbox_list_content_bounds.ipynb)"
      ]
    },
    {
      "cell_type": "code",
      "execution_count": null,
      "id": "a44696eb-95b8-4aee-b873-89eb60dc4485",
      "metadata": {
          "id": "6483acc5-b145-4e26-9d3b-84c1a5d56697"
      },
      "outputs": [],
      "source": [
        "%pip install https://pdftools-public-downloads-production.s3.eu-west-1.amazonaws.com/productkits/PDFSDKXT/latest/pdftools_toolbox-latest.tar.gz\n",
        "%pip install ipython"
      ]
    },
    {
      "cell_type": "markdown",
      "id": "c9ff64e9-be5a-456a-8d8b-e1bd7c2e040d",
      "metadata": {
          "id": "95d6766d-bd76-4c3b-904b-5cc6e25cc41f"
      },
      "source": [
        "# List bounds of page content\n",
        "For each page, list the page size and the rectangular\n",
        "bounding box of all content on the page in PDF points\n",
        "(1/72 inch)."
      ]
    },
    {
      "cell_type": "code",
      "execution_count": null,
      "id": "a7c362f1-b917-487c-a3b0-f3f0c5907a3a",
      "metadata": {
          "id": "dad7859e-83c6-4380-9860-cf00f2e78163"
      },
      "outputs": [],
      "source": [
        "import io\n",
        "from pdftools_toolbox.geometry.real import Point, Rectangle\n",
        "from pdftools_toolbox.pdf import Document\n",
        "from pdftools_toolbox.pdf.content import ContentExtractor"
      ]
    },
    {
      "cell_type": "code",
      "execution_count": null,
      "id": "29fe2c09-71d7-46d0-bd9f-1bf45363df66",
      "metadata": {
          "id": "1bc0aeab-20bc-4c17-ba50-2b8ed11e2de9"
      },
      "outputs": [],
      "source": [
        "# Download a file from a given URL and save it to the local system\n",
        "def prepare_file(url: str, path: str):\n",
        "    import requests\n",
        "    response = requests.get(url)\n",
        "    response.raise_for_status()\n",
        "\n",
        "    with open(path, 'wb') as f:\n",
        "        f.write(response.content)"
      ]
    },
    {
      "cell_type": "code",
      "execution_count": null,
      "id": "403129be-d64e-43b2-8c1a-3504a5dac243",
      "metadata": {
          "id": "8bcb0d1f-7f3f-4988-8053-3c330e508d7e"
      },
      "outputs": [],
      "source": [
        "# Set input arguments\n",
        "input_url = 'https://pdftools-public-downloads-production.s3.eu-west-1.amazonaws.com/samples/testfiles/InvoiceNone.pdf'\n",
        "input_file_path = 'InvoiceNone.pdf'\n",
        "prepare_file(input_url, input_file_path)"
      ]
    },
    {
      "cell_type": "code",
      "execution_count": null,
      "id": "4ba40623-c918-4b99-8c2c-f9345276fbdf",
      "metadata": {
          "id": "c8d1b2c3-0bab-4753-90b3-46f4685057cc"
      },
      "outputs": [],
      "source": [
        "def enlarge(content_box: Rectangle, point: Point):\n",
        "    \"\"\"\n",
        "    Enlarge the bounding box to include the given point.\n",
        "    \"\"\"\n",
        "    content_box.left = min(content_box.left, point.x)\n",
        "    content_box.right = max(content_box.right, point.x)\n",
        "    content_box.bottom = min(content_box.bottom, point.y)\n",
        "    content_box.top = max(content_box.top, point.y)"
      ]
    },
    {
      "cell_type": "code",
      "execution_count": null,
      "id": "97793b85-3e67-4a06-9e0b-1a5dbe765d69",
      "metadata": {
          "id": "2f5eb212-b850-4e57-a595-5f3f3e441821"
      },
      "outputs": [],
      "source": [
        "def list_content_bounds(input_doc: Document):\n",
        "    \"\"\"\n",
        "    Process the input PDF file to list page size and bounding boxes.\n",
        "    \"\"\"\n",
        "    # Iterate over all pages\n",
        "    for page_number, page in enumerate(input_doc.pages, start=1):\n",
        "        print(f\"Page {page_number}\")\n",
        "\n",
        "        # Print page size\n",
        "        size = page.size\n",
        "        print(\"  Size:\")\n",
        "        print(f\"    Width: {size.width}\")\n",
        "        print(f\"    Height: {size.height}\")\n",
        "\n",
        "        # Compute rectangular bounding box of all content on page\n",
        "        content_box = Rectangle(\n",
        "            left=float(\"inf\"),\n",
        "            bottom=float(\"inf\"),\n",
        "            right=float(\"-inf\"),\n",
        "            top=float(\"-inf\"),\n",
        "        )\n",
        "\n",
        "        # Extract content and compute bounding box\n",
        "        extractor = ContentExtractor(page.content)\n",
        "        for element in extractor:\n",
        "            # Enlarge the content box for each content element\n",
        "            tr = element.transform\n",
        "            box = element.bounding_box\n",
        "\n",
        "            # The location on the page is given by the transformed points\n",
        "            enlarge(content_box, tr.transform_point(Point(x=box.left, y=box.bottom)))\n",
        "            enlarge(content_box, tr.transform_point(Point(x=box.right, y=box.bottom)))\n",
        "            enlarge(content_box, tr.transform_point(Point(x=box.right, y=box.top)))\n",
        "            enlarge(content_box, tr.transform_point(Point(x=box.left, y=box.top)))\n",
        "\n",
        "        print(\"  Content bounding box:\")\n",
        "        print(f\"    Left: {content_box.left}\")\n",
        "        print(f\"    Bottom: {content_box.bottom}\")\n",
        "        print(f\"    Right: {content_box.right}\")\n",
        "        print(f\"    Top: {content_box.top}\")"
      ]
    },
    {
      "cell_type": "code",
      "execution_count": null,
      "id": "8d6339cf-1624-433a-94f4-486d061ca378",
      "metadata": {
          "id": "988c0ae3-371f-495f-a4ba-a3ed3f4a3db6"
      },
      "outputs": [],
      "source": [
        "try:\n",
        "    # Set and check license key. If the license key is not valid, an exception is thrown.\n",
        "    from pdftools_toolbox.sdk import Sdk\n",
        "    Sdk.initialize(\"INSERT-LICENSE-KEY\", None)\n",

        "\n",
        "    # Open input document\n",
        "    with io.FileIO(input_file_path, \"rb\") as in_stream:\n",
        "        with Document.open(in_stream, None) as in_doc:\n",
        "            # Process the PDF\n",
        "            list_content_bounds(in_doc)\n",

        "\n",
        "    print(\"Execution successful.\")\n",

        "except Exception as e:\n",
        "    print(f\"An error occurred: {e}\")"
      ]
    }
  ],
  "metadata": {
    "kernelspec": {
      "display_name": "Python 3",
      "language": "python",
      "name": "python3"
    },
    "language_info": {
      "codemirror_mode": {
        "name": "ipython",
        "version": 3
      },
      "file_extension": ".py",
      "mimetype": "text/x-python",
      "name": "python",
      "nbconvert_exporter": "python",
      "pygments_lexer": "ipython3",
      "version": "3.12.8"
    },
    "colab": {
      "provenance": []
    }
  },
  "nbformat": 4,
  "nbformat_minor": 5
}