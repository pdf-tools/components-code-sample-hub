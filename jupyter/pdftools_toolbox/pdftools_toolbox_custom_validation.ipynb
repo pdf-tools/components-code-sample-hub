{
  "cells": [
    {
      "cell_type": "markdown",
      "id": "2c720f19-5e39-4402-902a-3f31548b8a5a",
      "metadata": {
          "id": "aa9f7657-4ddc-4aa7-93e6-5e2878fdd6ae"
      },
      "source": [
        "[![Open In Colab](https://colab.research.google.com/assets/colab-badge.svg)](https://colab.research.google.com/github/pdf-tools/components-code-sample-hub/blob/main/jupyter/pdftools_toolbox/pdftools_toolbox_custom_validation.ipynb)"
      ]
    },
    {
      "cell_type": "code",
      "execution_count": null,
      "id": "42f3e65e-3f5a-44c7-a132-b6b67dfbb7ef",
      "metadata": {
          "id": "635046b9-424a-41bf-9499-bf45f9aac533"
      },
      "outputs": [],
      "source": [
        "%pip install pdftools_toolbox\n",
        "%pip install ipython"
      ]
    },
    {
      "cell_type": "markdown",
      "id": "90c008e5-c6e9-4b2e-97cf-84837f03e810",
      "metadata": {
          "id": "bf0fbe77-5e0d-4f11-b5fe-e4dbeb6d6231"
      },
      "source": [
        "# Validate custom properties of a PDF file\n",
        "Validates the properties defined in a custom properties\n",
        "file. The validation results are written to the console."
      ]
    },
    {
      "cell_type": "code",
      "execution_count": null,
      "id": "42d04dda-2896-42a9-a0e4-6532b5bd272d",
      "metadata": {
          "id": "6acfff44-1808-4c01-8dfc-e6e9e1912128"
      },
      "outputs": [],
      "source": [
        "import io\n",
        "import os\n",
        "import re\n",
        "import configparser\n",
        "from pdftools_toolbox.geometry.integer import Size\n",
        "from pdftools_toolbox.pdf import Conformance, Document, Permission\n",
        "from pdftools_toolbox.pdf.content import ContentExtractor, TextElement, UngroupingSelection"
      ]
    },
    {
      "cell_type": "code",
      "execution_count": null,
      "id": "4af2189a-dc1e-4db7-8b86-ed7d92e2d61f",
      "metadata": {
          "id": "19f0cc4e-7e4b-4b1d-89c0-b0849141ec04"
      },
      "outputs": [],
      "source": [
        "# Download a file from a given URL and save it to the local system\n",
        "def prepare_file(url: str, path: str):\n",
        "    import requests\n",
        "    response = requests.get(url)\n",
        "    response.raise_for_status()\n",
        "\n",
        "    with open(path, 'wb') as f:\n",
        "        f.write(response.content)"
      ]
    },
    {
      "cell_type": "code",
      "execution_count": null,
      "id": "13dc73a8-d2a5-429a-870b-6aae121279b6",
      "metadata": {
          "id": "00b2ca3c-3b04-4368-b8a7-07a066970613"
      },
      "outputs": [],
      "source": [
        "# Set input arguments\n",
        "input_url = 'https://pdftools-public-downloads-production.s3.eu-west-1.amazonaws.com/samples/testfiles/InvoiceEncrypted(pwd_pdftools).pdf'\n",
        "input_file_path = 'InvoiceEncrypted(pwd_pdftools).pdf'\n",
        "prepare_file(input_url, input_file_path)\n",
        "ini_url = 'https://pdftools-public-downloads-production.s3.eu-west-1.amazonaws.com/samples/testfiles/properties.ini'\n",
        "ini_path = 'properties.ini'\n",
        "prepare_file(ini_url, ini_path)\n",
        "pdf_password = \"pdftools\""
      ]
    },
    {
      "cell_type": "code",
      "execution_count": null,
      "id": "277ba7ee-4b26-4fc1-ae14-2ed79be079ac",
      "metadata": {
          "id": "560e04a2-63ed-443b-b69e-9bc3839ee864"
      },
      "outputs": [],
      "source": [
        "class IniFile:\n",
        "    def get_value(self, section: str, key: str, default_value: str = None) -> str:\n",
        "        return self.config.get(section, key, fallback=default_value)\n",
        "\n",
        "    def get_keys_matching_pattern(self, section: str, pattern: str) -> list:\n",
        "        matching_keys = []\n",
        "        if section in self.config:\n",
        "            for key in self.config[section]:\n",
        "                if re.match(pattern, key, re.IGNORECASE):\n",
        "                    matching_keys.append(self.config[section][key])\n",
        "        return matching_keys"
      ]
    },{
      "cell_type": "code",
      "execution_count": null,
      "id": "1434e703-8eef-4eb2-b57d-cd9788119171",
      "metadata": {
          "id": "90a40fde-275b-4f2d-a286-fba2cc813f12"
      },
      "outputs": [],
      "source": [
        "def open_ini_file(path: str) -> IniFile:\n",
        "    ini_file = IniFile()\n",
        "\n",
        "    ini_file.config = configparser.ConfigParser()\n",
        "    ini_file.config.read(path)\n",
        "\n",
        "    return ini_file"
      ]
    },{
      "cell_type": "code",
      "execution_count": null,
      "id": "65fdfd50-741a-4ceb-9a61-e067a516c5bf",
      "metadata": {
          "id": "289f6003-70fe-4ccc-9c2d-8bb470ccc1d8"
      },
      "outputs": [],
      "source": [
        "class DocumentValidator:\n",
        "    def validate_document(self) -> bool:\n",
        "        is_valid = self.validate_file_size()\n",
        "\n",
        "        with open(self.input_path, \"rb\") as in_stream:\n",
        "            with Document.open(in_stream, self.pdf_password) as in_doc:\n",
        "                is_valid &= self.validate_conformance(in_doc.conformance)\n",
        "                is_valid &= self.validate_encryption(in_doc.permissions)\n",
        "                is_valid &= self.validate_pages_size(in_doc)\n",
        "                is_valid &= self.validate_fonts(in_doc)\n",
        "\n",
        "        return is_valid\n",
        "\n",
        "    def validate_file_size(self) -> bool:\n",
        "        file_size_in_mb = os.path.getsize(self.input_path) / (1024 * 1024)\n",
        "\n",
        "        if self.ini_file_size:\n",
        "            ini_file_size_in_mb = float(self.ini_file_size)\n",
        "            if file_size_in_mb > ini_file_size_in_mb:\n",
        "                print(\"The PDF file size exceeds the specified custom limit.\")\n",
        "                return False\n",
        "            else:\n",
        "                print(\"The PDF file size does not exceed the specified custom limit.\")\n",
        "                return True\n",
        "        return True\n",
        "\n",
        "    def validate_conformance(self, current_conformance: Conformance) -> bool:\n",
        "        if self.ini_max_pdf_version_str:\n",
        "            if ConformanceValidator.validate_conformance(self.ini_max_pdf_version_str, current_conformance):\n",
        "                print(\"The PDF version does not exceed the specified custom maximum version.\")\n",
        "                return True\n",
        "            else:\n",
        "                print(\"The PDF version exceeds the specified custom maximum version.\")\n",
        "                return False\n",
        "        return True\n",
        "\n",
        "    def validate_encryption(self, permissions: Permission) -> bool:\n",
        "        if self.ini_encryption:\n",
        "            encryption_required = self.ini_encryption.lower() == \"true\"\n",
        "            if encryption_required and not permissions:\n",
        "                print(\"Encryption not conform: the PDF file is not encrypted. The custom encryption value specifies that the PDF file should be encrypted.\")\n",
        "                return False\n",
        "            elif not encryption_required and permissions:\n",
        "                print(\"Encryption not conform: the PDF file is encrypted. The custom encryption value specifies that the PDF file should not be encrypted.\")\n",
        "                return False\n",
        "            else:\n",
        "                print(\"The PDF encryption is conform to the specified custom value.\")\n",
        "                return True\n",
        "        return True\n",
        "\n",
        "    def validate_pages_size(self, in_doc: Document) -> bool:\n",
        "        is_valid = True\n",
        "\n",
        "        if self.ini_max_page_size is not None:\n",
        "            page_number = 0\n",
        "            for page in in_doc.pages:\n",
        "                page_number += 1\n",
        "                size_with_int = Size(\n",
        "                    width=int(page.size.width), height=int(page.size.height)\n",
        "                )\n",
        "                is_valid &= self.validate_page_size(page_number, size_with_int)\n",
        "\n",
        "        return is_valid\n",
        "\n",
        "    def validate_page_size(self, page_number: int, page_size: Size) -> bool:\n",
        "        if self.ini_max_page_size is not None:\n",
        "            validator = create_page_size_validator(self.ini_max_page_size, self.size_tolerance)\n",
        "            if validator.validate_page_size(page_size):\n",
        "                print(\n",
        "                    f\"The size of page {page_number} is within the specified custom maximum page size value.\"\n",
        "                )\n",
        "                return True\n",
        "            else:\n",
        "                print(\n",
        "                    f\"The size of page {page_number} exceeds the specified custom maximum page size value.\"\n",
        "                )\n",
        "                return False\n",
        "\n",
        "        return True\n",
        "\n",
        "    def validate_fonts(self, in_doc: Document) -> bool:\n",
        "        is_valid = True\n",
        "\n",
        "        if self.ini_embedding:\n",
        "            embedding_required = self.ini_embedding.lower() == \"true\"\n",
        "\n",
        "            for page_number in range(len(in_doc.pages)):\n",
        "                page_number += 1\n",
        "                page = in_doc.pages[page_number-1]\n",
        "\n",
        "                extractor = ContentExtractor(page.content)\n",
        "                extractor.ungrouping = UngroupingSelection.ALL\n",
        "\n",
        "                for element in extractor:\n",
        "                    if isinstance(element, TextElement):\n",
        "                        for fragment in element.text:\n",
        "                            font_name = fragment.font.base_font\n",
        "                            is_embedded = fragment.font.is_embedded\n",
        "\n",
        "                            # Check if the font is in the exception list\n",
        "                            is_current_font_an_exception = any(\n",
        "                                re.match(exc.replace(\"*\", \".*\"), font_name, re.IGNORECASE)\n",
        "                                for exc in self.embedding_exception_fonts\n",
        "                            )\n",
        "\n",
        "                            # Validate based on the embedding setting\n",
        "                            if (embedding_required and not is_embedded and not is_current_font_an_exception) or (\n",
        "                                not embedding_required and is_embedded and not is_current_font_an_exception\n",
        "                            ):\n",
        "                                is_valid = False\n",
        "                                status_text = \"be embedded\" if embedding_required else \"not be embedded\"\n",
        "                                print(\n",
        "                                    f\"The font '{font_name}' on page {page_number} should {status_text} as specified by the property 'Embedding' or it should be added to the list of exceptions.\"\n",
        "                                )\n",
        "                            else:\n",
        "                                status_text = (\n",
        "                                    \"in the exception list\" if embedding_required != is_embedded \n",
        "                                    else \"embedded\" if is_embedded \n",
        "                                    else \"not be embedded\"\n",
        "                                )\n",
        "                                print(\n",
        "                                    f\"The font '{font_name}' on page {page_number} is conform to the 'Embedding' property as it is {status_text}.\"\n",
        "                                )\n",
        "        return is_valid"
      ]
    },{
      "cell_type": "code",
      "execution_count": null,
      "id": "c92a8506-fefc-4371-8b03-f0d72b31ae5a",
      "metadata": {
          "id": "acdd336d-7f9d-403a-964e-434cda4af5d4"
      },
      "outputs": [],
      "source": [
        "def create_document_validator(ini_file: IniFile, input_path: str, pdf_password: str = None) -> DocumentValidator:\n",
        "    document_validator = DocumentValidator()\n",
        "\n",
        "    document_validator.ini_file = ini_file\n",
        "    document_validator.input_path = input_path\n",
        "    document_validator.pdf_password = pdf_password\n",
        "\n",
        "    # Extract values from INI file\n",
        "    document_validator.size_tolerance = ini_file.get_value(\"Pages\", \"SizeTolerance\", \"3.0\")\n",
        "    document_validator.ini_max_page_size = ini_file.get_value(\"Pages\", \"MaxPageSize\")\n",
        "    document_validator.ini_max_pdf_version_str = ini_file.get_value(\"File\", \"MaxPdfVersion\")\n",
        "    document_validator.ini_encryption = ini_file.get_value(\"File\", \"Encryption\")\n",
        "    document_validator.ini_file_size = ini_file.get_value(\"File\", \"FileSize\")\n",
        "    document_validator.ini_embedding = ini_file.get_value(\"Fonts\", \"Embedding\")\n",
        "    document_validator.embedding_exception_fonts = ini_file.get_keys_matching_pattern(\"Fonts\", r\"EmbeddingExcFont\\d+\")\n",
        "\n",
        "    return document_validator"
      ]
    },{
      "cell_type": "code",
      "execution_count": null,
      "id": "24f962ed-f83a-4046-8d9d-678d055159c0",
      "metadata": {
          "id": "ee2bd00b-8fde-4572-b801-b633a6734a72"
      },
      "outputs": [],
      "source": [
        "class PageSizeValidator:\n",
        "    named_page_sizes = {\n",
        "        \"Letter\": Size(width=612, height=792),\n",
        "        \"A0\": Size(width=2384, height=3370),\n",
        "        \"A1\": Size(width=1684, height=2384),\n",
        "        \"A2\": Size(width=1191, height=1684),\n",
        "        \"A3\": Size(width=842, height=1191),\n",
        "        \"A4\": Size(width=595, height=842),\n",
        "        \"A5\": Size(width=420, height=595),\n",
        "        \"A6\": Size(width=298, height=420),\n",
        "        \"A7\": Size(width=210, height=298),\n",
        "        \"A8\": Size(width=147, height=210),\n",
        "        \"A9\": Size(width=105, height=147),\n",
        "        \"A10\": Size(width=74, height=105),\n",
        "        \"DL\": Size(width=283, height=595),\n",
        "    }\n",
        "\n",
        "    def parse_page_size(self, max_page_size: str) -> Size:\n",
        "        named_size = self.named_page_sizes.get(max_page_size)\n",
        "        if named_size:\n",
        "            return named_size\n",
        "\n",
        "        match = re.match(\n",
        "            r\"(\\d+(\\.\\d+)?)\\s*x\\s*(\\d+(\\.\\d+)?)(\\s*(pt|in|cm|mm))?\", max_page_size, re.IGNORECASE\n",
        "        )\n",
        "        if not match:\n",
        "            raise ValueError(f\"Invalid MaxPageSize format: {max_page_size}\")\n",
        "\n",
        "        width = float(match.group(1))\n",
        "        height = float(match.group(3))\n",
        "        unit = match.group(6).lower() if match.group(6) else \"pt\"\n",
        "\n",
        "        if unit == \"in\":\n",
        "            return Size(width=int(width * 72), height=int(height * 72))\n",
        "        elif unit == \"cm\":\n",
        "            return Size(width=int(width * 28.3465), height=int(height * 28.3465))\n",
        "        elif unit == \"mm\":\n",
        "            return Size(width=int(width * 2.83465), height=int(height * 2.83465))\n",
        "        elif unit in [\"pt\", \"\"]:\n",
        "            return Size(width=int(width), height=int(height))\n",
        "        else:\n",
        "            raise ValueError(f\"Unsupported unit: {unit}\")\n",
        "\n",
        "    def parse_size_tolerance(self, size_tolerance_str: str) -> float:\n",
        "        if not size_tolerance_str:\n",
        "            return 3.0\n",
        "\n",
        "        match = re.match(r\"(\\d+(\\.\\d+)?)\\s*(%)?\", size_tolerance_str, re.IGNORECASE)\n",
        "        if not match:\n",
        "            raise ValueError(f\"Invalid SizeTolerance format: {size_tolerance_str}\")\n",
        "\n",
        "        value = float(match.group(1))\n",
        "        return value / 100.0 if match.group(3) else value\n",
        "\n",
        "    def validate_page_size(self, page_size: Size) -> bool:\n",
        "        is_valid = (\n",
        "            (page_size.width <= self.max_size.width + self.size_tolerance\n",
        "            and page_size.height <= self.max_size.height + self.size_tolerance\n",
        "            ) or \n",
        "            (page_size.height <= self.max_size.width + self.size_tolerance\n",
        "            and page_size.width <= self.max_size.height + self.size_tolerance)\n",
        "        )\n",
        "        return is_valid"
      ]
    },{
      "cell_type": "code",
      "execution_count": null,
      "id": "a790561f-9046-42f2-b048-3b036499ca33",
      "metadata": {
          "id": "6f496445-b5f3-4655-a77c-787678508a7d"
      },
      "outputs": [],
      "source": [
        "def create_page_size_validator(max_page_size_str: str, size_tolerance_str: str) -> PageSizeValidator:\n",
        "    page_size_validator = PageSizeValidator()\n",
        "\n",
        "    page_size_validator.max_size = page_size_validator.parse_page_size(max_page_size_str)\n",
        "    page_size_validator.size_tolerance = page_size_validator.parse_size_tolerance(size_tolerance_str)\n",
        "\n",
        "    return page_size_validator"
      ]
    },{
      "cell_type": "code",
      "execution_count": null,
      "id": "62593206-349d-420c-b643-77f25497e662",
      "metadata": {
          "id": "119353fc-b76a-49ae-a5fe-c3ece450be12"
      },
      "outputs": [],
      "source": [
        "class ConformanceValidator:\n",
        "    version_map = {\n",
        "        \"1.0\": Conformance.PDF10,\n",
        "        \"1.1\": Conformance.PDF11,\n",
        "        \"1.2\": Conformance.PDF12,\n",
        "        \"1.3\": Conformance.PDF13,\n",
        "        \"1.4\": Conformance.PDF14,\n",
        "        \"1.5\": Conformance.PDF15,\n",
        "        \"1.6\": Conformance.PDF16,\n",
        "        \"1.7\": Conformance.PDF17,\n",
        "        \"2.0\": Conformance.PDF20,\n",
        "    }\n",
        "\n",
        "    @staticmethod\n",
        "    def parse_version_string(version: str) -> Conformance:\n",
        "        version_parts = version.split(\".\")\n",
        "        if len(version_parts) == 2:\n",
        "            major_minor_version = f\"{version_parts[0]}.{version_parts[1]}\"\n",
        "            conformance = ConformanceValidator.version_map.get(major_minor_version)\n",
        "            if conformance:\n",
        "                return conformance\n",
        "        raise ValueError(f\"Unsupported version or conformance level: {version}\")\n",
        "\n",
        "    @staticmethod\n",
        "    def validate_conformance(max_pdf_version_str: str, current_conformance: Conformance) -> bool:\n",
        "        max_pdf_conformance = ConformanceValidator.parse_version_string(max_pdf_version_str)\n",
        "        current_conformance_version = ConformanceValidator.get_version_from_conformance(current_conformance)\n",
        "        return current_conformance_version.value <= max_pdf_conformance.value\n",
        "\n",
        "    @staticmethod\n",
        "    def get_version_from_conformance(conformance: Conformance) -> Conformance:\n",
        "        if conformance in ConformanceValidator.version_map.values():\n",
        "            return conformance\n",
        "        if conformance in {Conformance.PDF_A1_A, Conformance.PDF_A1_B}:\n",
        "            return Conformance.PDF14\n",
        "        if conformance in {\n",
        "            Conformance.PDF_A2_A,\n",
        "            Conformance.PDF_A2_B,\n",
        "            Conformance.PDF_A2_U,\n",
        "            Conformance.PDF_A3_A,\n",
        "            Conformance.PDF_A3_B,\n",
        "            Conformance.PDF_A3_U,\n",
        "        }:\n",
        "            return Conformance.PDF17\n",
        "        raise ValueError(f\"Unsupported conformance level: {conformance}\")"
      ]
    },
    {
      "cell_type": "code",
      "execution_count": null,
      "id": "6674d0ae-baa9-4c0a-97ba-f3e192c357a6",
      "metadata": {
          "id": "9963d543-03ea-4c4d-817c-a5fb82282a87"
      },
      "outputs": [],
      "source": [
        "try:\n",
        "    # Set and check license key. If the license key is not valid, an exception is thrown.\n",
        "    from pdftools_toolbox.sdk import Sdk\n",
        "    Sdk.initialize(\"INSERT-LICENSE-KEY\", None)\n",

        "\n",
        "    ini_file = open_ini_file(ini_path)\n",
        "    document_validator = create_document_validator(ini_file, input_file_path, pdf_password)\n",
        "    if document_validator.validate_document():\n",
        "        print(\"\\nThe document does conform the specified properties.\")\n",
        "    else:\n",
        "        print(\"\\nThe document does not conform the specified properties.\")\n",

        "\n",
        "    print(\"Execution successful.\")\n",

        "except Exception as e:\n",
        "    print(f\"An error occurred: {e}\")"
      ]
    }
  ],
  "metadata": {
    "kernelspec": {
      "display_name": "Python 3",
      "language": "python",
      "name": "python3"
    },
    "language_info": {
      "codemirror_mode": {
        "name": "ipython",
        "version": 3
      },
      "file_extension": ".py",
      "mimetype": "text/x-python",
      "name": "python",
      "nbconvert_exporter": "python",
      "pygments_lexer": "ipython3",
      "version": "3.12.8"
    },
    "colab": {
      "provenance": []
    }
  },
  "nbformat": 4,
  "nbformat_minor": 5
}