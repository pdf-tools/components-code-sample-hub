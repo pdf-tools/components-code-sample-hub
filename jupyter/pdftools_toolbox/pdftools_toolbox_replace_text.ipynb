{
  "cells": [
    {
      "cell_type": "markdown",
      "id": "1f17c498-a545-4e5e-b5ce-4efa7cc428f6",
      "metadata": {
          "id": "02def486-8da8-49d6-a9a8-ff89934111ff"
      },
      "source": [
        "[![Open In Colab](https://colab.research.google.com/assets/colab-badge.svg)](https://colab.research.google.com/github/pdf-tools/components-code-sample-hub/blob/main/jupyter/pdftools_toolbox/pdftools_toolbox_replace_text.ipynb)"
      ]
    },
    {
      "cell_type": "code",
      "execution_count": null,
      "id": "1869f864-b2cb-47fe-985d-5f2ff38e07d2",
      "metadata": {
          "id": "c3b0ca57-9b3e-40d1-93f4-95101e5d3933"
      },
      "outputs": [],
      "source": [
        "%pip install https://pdftools-public-downloads-production.s3.eu-west-1.amazonaws.com/productkits/PDFSDKXT/latest/pdftools_toolbox-latest.tar.gz\n",
        "%pip install ipython"
      ]
    },
    {
      "cell_type": "markdown",
      "id": "cd18be83-bbc2-43e2-bbb2-6fb7c12f9ae0",
      "metadata": {
          "id": "262a0254-4c4e-48ca-8237-b84f4a6d4dee"
      },
      "source": [
        "# Replace Text Fragment in PDF\n",
        "For a given text, search through all text fragments on\n",
        "all pages and replace the first matching fragment found.\n",
        "Links, annotations, form fields, outlines, and logical\n",
        "structure are discarded."
      ]
    },
    {
      "cell_type": "code",
      "execution_count": null,
      "id": "096bf9bc-15e5-45f8-ac82-a0e46c19aa72",
      "metadata": {
          "id": "01e30b96-4496-4db1-bea7-9c28f2b874a6"
      },
      "outputs": [],
      "source": [
        "import io\n",
        "from pdftools_toolbox.geometry.real import AffineTransform\n",
        "from pdftools_toolbox.pdf import Document, FileReference, Metadata, Page\n",
        "from pdftools_toolbox.pdf.content import Content, ContentElement, ContentExtractor, ContentGenerator, GroupElement, IccBasedColorSpace, Text, TextElement, TextFragment, TextGenerator\n",
        "from pdftools_toolbox.pdf.navigation import ViewerSettings\n",
        "from pdftools_toolbox.pdf.content.font import Font"
      ]
    },
    {
      "cell_type": "code",
      "execution_count": null,
      "id": "359a5541-2a9a-41b8-9729-49bfc0df0af7",
      "metadata": {
          "id": "3bf6a907-f9d2-4143-b52a-e9b6321a43a6"
      },
      "outputs": [],
      "source": [
        "# Download a file from a given URL and save it to the local system\n",
        "def prepare_file(url: str, path: str):\n",
        "    import requests\n",
        "    response = requests.get(url)\n",
        "    response.raise_for_status()\n",
        "\n",
        "    with open(path, 'wb') as f:\n",
        "        f.write(response.content)"
      ]
    },
    {
      "cell_type": "code",
      "execution_count": null,
      "id": "dfc2428d-c963-4f28-be00-24eb99557215",
      "metadata": {
          "id": "2c19344c-6479-4794-8df2-215bd65b9438"
      },
      "outputs": [],
      "source": [
        "# Set input arguments\n",
        "input_url = 'https://pdftools-public-downloads-production.s3.eu-west-1.amazonaws.com/samples/testfiles/InvoiceNone.pdf'\n",
        "input_file_path = 'InvoiceNone.pdf'\n",
        "prepare_file(input_url, input_file_path)\n",
        "output_file_path = 'TextReplaced.pdf'"
      ]
    },
    {
      "cell_type": "code",
      "execution_count": null,
      "id": "c2cf4c22-2b37-4365-8c8a-2670209a9031",
      "metadata": {
          "id": "aa2b3aea-7cb2-41fb-bdb3-dc991dfd7c67"
      },
      "outputs": [],
      "source": [
        "def copy_document_data(in_doc: Document, out_doc: Document):\n",
        "    # Copy document-wide data\n",
        "\n",
        "    # Output intent\n",
        "    if in_doc.output_intent is not None:\n",
        "        in_doc.output_intent = IccBasedColorSpace.copy(out_doc, in_doc.output_intent)\n",
        "\n",
        "    # Metadata\n",
        "    out_doc.metadata = Metadata.copy(out_doc, in_doc.metadata)\n",
        "\n",
        "    # Viewer settings\n",
        "    out_doc.viewer_settings = ViewerSettings.copy(out_doc, in_doc.viewer_settings)\n",
        "\n",
        "    # Associated files (for PDF/A-3 and PDF 2.0 only)\n",
        "    outAssociatedFiles = out_doc.associated_files\n",
        "    for in_file_ref in in_doc.associated_files:\n",
        "        outAssociatedFiles.append(FileReference.copy(out_doc, in_file_ref))\n",
        "\n",
        "    # Plain embedded files\n",
        "    out_embedded_files = out_doc.plain_embedded_files\n",
        "    for in_file_ref in in_doc.plain_embedded_files:\n",
        "        out_embedded_files.append(FileReference.copy(out_doc, in_file_ref))"
      ]
    },
    {
      "cell_type": "code",
      "execution_count": null,
      "id": "830ad40b-b730-409b-ac2d-e6f91984a974",
      "metadata": {
          "id": "5721bbd9-5c20-42ce-afa9-3cd927d35d85"
      },
      "outputs": [],
      "source": [
        "def copy_content_and_remove_text(in_content: Content, out_content: Content, out_doc: Document, search_text: str):\n",
        "    \"\"\"Process content to find and remove a specific text fragment.\"\"\"\n",
        "    global overall_transform, fragment\n",
        "\n",
        "    # Use a content extractor and a content generator to copy content\n",
        "    extractor = ContentExtractor(in_content)\n",
        "    with ContentGenerator(out_content, False) as generator:\n",
        "\n",
        "        # Iterate over all content elements\n",
        "        for in_element in extractor:\n",
        "            # Special treatment for group elements\n",
        "            if isinstance(in_element, GroupElement):\n",
        "                out_group_element = GroupElement.copy_without_content(out_doc, in_element)\n",
        "                out_element = out_group_element\n",
        "                # Save transform for later restore\n",
        "                current_transform = overall_transform\n",
        "                # Update the transform\n",
        "                copy_content_and_remove_text(in_element.group.content, out_group_element.group.content, out_doc, search_text)\n",
        "                # Restore the transform\n",
        "                overall_transform = current_transform\n",
        "            else:\n",
        "                # Copy the content element to the output document\n",
        "                out_element = ContentElement.copy(out_doc, in_element)\n",
        "                if isinstance(out_element, TextElement) and fragment is None:\n",
        "                    # Special treatment for text element\n",
        "                    text = out_element.text\n",
        "                    # Find text fragment with string to replace\n",
        "                    for index_fragment in range(len(text) - 1, -1, -1):\n",
        "                        # In this sample, the fragment text must match in its entirety (Text might contain null characters)\n",
        "                        if text[index_fragment].text.replace(\"\x00\", \"\") == search_text:\n",
        "                            # Keep the found fragment for later use\n",
        "                            fragment = text[index_fragment]\n",
        "                            # Update the transform\n",
        "                            overall_transform.concatenate(fragment.transform)\n",
        "                            # Remove the fragment from the text element\n",
        "                            text.remove(index_fragment)\n",
        "\n",
        "                    # Prevent appending an empty text element\n",
        "                    if len(text) == 0:\n",
        "                        out_element = None\n",
        "\n",
        "            # Append the finished output element to the content generator\n",
        "            if out_element:\n",
        "                generator.append_content_element(out_element)"
      ]
    },
    {
      "cell_type": "code",
      "execution_count": null,
      "id": "b5969676-49d6-4029-9e76-37a94a7807bd",
      "metadata": {
          "id": "f264ddcb-0dea-4263-8c58-c6866729aedc"
      },
      "outputs": [],
      "source": [
        "def add_text(out_doc: Document, page, replacement_text):\n",
        "    \"\"\"Add the replacement text at the location of the removed fragment.\"\"\"\n",
        "    # Create a new text object\n",
        "    text = Text.create(out_doc)\n",
        "    # Heuristic to map the extracted font base name to a font name and font family\n",
        "    font_parts = fragment.font.base_font.split(\"-\")\n",
        "    font_family = font_parts[0]\n",
        "    font_style = font_parts[1] if len(font_parts) > 1 else None\n",
        "\n",
        "    # Create a new font object\n",
        "    font = Font.create_from_system(out_doc, font_family, font_style, True)\n",
        "\n",
        "    # Create a text generator and set the original fragment's properties\n",
        "    with TextGenerator(text, font, fragment.font_size, None) as text_gen:\n",
        "        text_gen.character_spacing = fragment.character_spacing\n",
        "        text_gen.word_spacing = fragment.word_spacing\n",
        "        text_gen.horizontal_scaling = fragment.horizontal_scaling\n",
        "        text_gen.rise = fragment.rise\n",
        "        text_gen.show(replacement_text)\n",
        "\n",
        "    # Create a content generator\n",
        "    with ContentGenerator(page.content, False) as content_gen:\n",
        "        # Apply the computed transform\n",
        "        content_gen.transform(overall_transform)\n",
        "        # Paint the new text\n",
        "        content_gen.paint_text(text)"
      ]
    },
    {
      "cell_type": "code",
      "execution_count": null,
      "id": "a816fa4c-1baa-4a11-88e6-620cd69a540f",
      "metadata": {
          "id": "cfb6685c-21e5-4f34-94a0-9c80b6b83442"
      },
      "outputs": [],
      "source": [
        "try:\n",
        "    # Set and check license key. If the license key is not valid, an exception is thrown.\n",
        "    from pdftools_toolbox.sdk import Sdk\n",
        "    Sdk.initialize(\"<PDFSDK,V1,MGAASQD6L2JMQHL54PK08RQX8GG4SS0M8DAHVPH0VMP3NB8R9DUK>\", None)\n",

        "\n",
        "    # Define global variables\n",
        "    overall_transform = AffineTransform.get_identity()\n",
        "    fragment = None\n",
        "    search_string = \"Muster Company AG\"\n",
        "    replacement_string = \"Replacement String\"\n",
        "    \n",
        "    # Open input document\n",
        "    with io.FileIO(input_file_path, \"rb\") as in_stream:\n",
        "        with Document.open(in_stream, None) as in_doc:\n",
        "    \n",
        "            # Create output document\n",
        "            with io.FileIO(output_file_path, \"wb+\") as out_stream:\n",
        "                with Document.create(out_stream, in_doc.conformance, None) as out_doc:\n",
        "    \n",
        "                    # Copy document-wide data\n",
        "                    copy_document_data(in_doc, out_doc)\n",
        "    \n",
        "                    # Process each page\n",
        "                    for in_page in in_doc.pages:\n",
        "                        # Create empty output page\n",
        "                        out_page = Page.create(out_doc, in_page.size)\n",
        "                        # Copy page content from input to output and search for string\n",
        "                        copy_content_and_remove_text(in_page.content, out_page.content, out_doc, search_string)\n",
        "                        # If the text was found and deleted, add the replacement text\n",
        "                        if fragment:\n",
        "                            add_text(out_doc, out_page, replacement_string)\n",
        "                        # Add the new page to the output document's page list\n",
        "                        out_doc.pages.append(out_page)\n",

        "\n",
        "    print(\"Execution successful.\")\n",

        "except Exception as e:\n",
        "    print(f\"An error occurred: {e}\")"
      ]
    }
  ],
  "metadata": {
    "kernelspec": {
      "display_name": "Python 3",
      "language": "python",
      "name": "python3"
    },
    "language_info": {
      "codemirror_mode": {
        "name": "ipython",
        "version": 3
      },
      "file_extension": ".py",
      "mimetype": "text/x-python",
      "name": "python",
      "nbconvert_exporter": "python",
      "pygments_lexer": "ipython3",
      "version": "3.12.8"
    },
    "colab": {
      "provenance": []
    }
  },
  "nbformat": 4,
  "nbformat_minor": 5
}