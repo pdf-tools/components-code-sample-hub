{
  "cells": [
    {
      "cell_type": "markdown",
      "id": "599f34a1-acda-4407-a817-0336cd1abb61",
      "metadata": {
          "id": "c8182c7d-6f56-458d-89c3-0708ff19c855"
      },
      "source": [
        "[![Open In Colab](https://colab.research.google.com/assets/colab-badge.svg)](https://colab.research.google.com/github/pdf-tools/components-code-sample-hub/blob/main/jupyter/pdftools_toolbox/pdftools_toolbox_remove_glyphs.ipynb)"
      ]
    },
    {
      "cell_type": "code",
      "execution_count": null,
      "id": "571d5cce-cb75-471e-a6a0-ade6adb32552",
      "metadata": {
          "id": "cdd87f12-b97d-4957-929e-48be80fa72c9"
      },
      "outputs": [],
      "source": [
        "%pip install pdftools_toolbox\n",
        "%pip install ipython"
      ]
    },
    {
      "cell_type": "markdown",
      "id": "860a8e8b-09db-42ab-862b-7be957cdb708",
      "metadata": {
          "id": "f7175489-8418-4efc-865a-6c344c6b8c51"
      },
      "source": [
        "# Remove glyphs\n",
        "Remove the first two glyphs from every text fragment."
      ]
    },
    {
      "cell_type": "code",
      "execution_count": null,
      "id": "f369b956-0b06-4c72-a202-4a99e5ab8273",
      "metadata": {
          "id": "5a926dab-43d4-4391-93b3-c5a7c060a26b"
      },
      "outputs": [],
      "source": [
        "import io\n",
        "from pdftools_toolbox.pdf import Document, FileReference, Metadata, Page\n",
        "from pdftools_toolbox.pdf.content import Content, ContentElement, ContentExtractor, ContentGenerator, GroupElement, IccBasedColorSpace, TextElement\n",
        "from pdftools_toolbox.pdf.navigation import ViewerSettings"
      ]
    },
    {
      "cell_type": "code",
      "execution_count": null,
      "id": "44171d46-4264-46ab-ad88-ea1317b1f571",
      "metadata": {
          "id": "3d1440ff-f975-4d07-bbbb-a7e2071de002"
      },
      "outputs": [],
      "source": [
        "# Download a file from a given URL and save it to the local system\n",
        "def prepare_file(url: str, path: str):\n",
        "    import requests\n",
        "    response = requests.get(url)\n",
        "    response.raise_for_status()\n",
        "\n",
        "    with open(path, 'wb') as f:\n",
        "        f.write(response.content)"
      ]
    },
    {
      "cell_type": "code",
      "execution_count": null,
      "id": "2fd96cfe-d502-4989-8371-f3b3a6a91a8d",
      "metadata": {
          "id": "fcc5bfb0-3fa3-4aa5-8120-a44895783ce4"
      },
      "outputs": [],
      "source": [
        "# Set input arguments\n",
        "input_url = 'https://pdftools-public-downloads-production.s3.eu-west-1.amazonaws.com/samples/testfiles/InvoiceNone.pdf'\n",
        "input_file_path = 'InvoiceNone.pdf'\n",
        "prepare_file(input_url, input_file_path)\n",
        "output_file_path = 'InvoiceNoGlyphs.pdf'"
      ]
    },
    {
      "cell_type": "code",
      "execution_count": null,
      "id": "a0aea229-b16d-4c3d-a5d8-50f03a3fc9a4",
      "metadata": {
          "id": "2036e8db-2c15-46bf-8e0b-1925bb1469c2"
      },
      "outputs": [],
      "source": [
        "def copy_document_data(in_doc: Document, out_doc: Document):\n",
        "    # Copy document-wide data\n",
        "\n",
        "    # Output intent\n",
        "    if in_doc.output_intent is not None:\n",
        "        in_doc.output_intent = IccBasedColorSpace.copy(out_doc, in_doc.output_intent)\n",
        "\n",
        "    # Metadata\n",
        "    out_doc.metadata = Metadata.copy(out_doc, in_doc.metadata)\n",
        "\n",
        "    # Viewer settings\n",
        "    out_doc.viewer_settings = ViewerSettings.copy(out_doc, in_doc.viewer_settings)\n",
        "\n",
        "    # Associated files (for PDF/A-3 and PDF 2.0 only)\n",
        "    outAssociatedFiles = out_doc.associated_files\n",
        "    for in_file_ref in in_doc.associated_files:\n",
        "        outAssociatedFiles.append(FileReference.copy(out_doc, in_file_ref))\n",
        "\n",
        "    # Plain embedded files\n",
        "    out_embedded_files = out_doc.plain_embedded_files\n",
        "    for in_file_ref in in_doc.plain_embedded_files:\n",
        "        out_embedded_files.append(FileReference.copy(out_doc, in_file_ref))"
      ]
    },{
      "cell_type": "code",
      "execution_count": null,
      "id": "2b723f68-a8e6-44cb-a9a8-7cbb5bae44eb",
      "metadata": {
          "id": "daf423d0-5f1b-4ddc-9d01-2a567359804b"
      },
      "outputs": [],
      "source": [
        "def copy_content_and_remove_glyphs(in_content: Content, out_content: Content, out_doc: Document):\n",
        "    \"\"\"Process content to remove the first two glyphs from text fragments.\"\"\"\n",
        "    # Use a content extractor and a content generator to copy content\n",
        "    extractor = ContentExtractor(in_content)\n",
        "    with ContentGenerator(out_content, False) as generator:\n",
        "\n",
        "        # Iterate over all content elements\n",
        "        for in_element in extractor:\n",
        "            # Special treatment for group elements\n",
        "            if isinstance(in_element, GroupElement):\n",
        "                # Create empty output group element\n",
        "                out_group_element = GroupElement.copy_without_content(out_doc, in_element)\n",
        "                out_element = out_group_element\n",
        "                copy_content_and_remove_glyphs(in_element.group.content, out_group_element.group.content, out_doc)\n",
        "            else:\n",
        "                # Copy the content element to the output document\n",
        "                out_element = ContentElement.copy(out_doc, in_element)\n",
        "                if isinstance(out_element, TextElement):\n",
        "                    # Special treatment for text element\n",
        "                    text = out_element.text\n",
        "                    # Remove the first two glyphs from each text fragment\n",
        "                    for fragment in text:\n",
        "                        # Ensure that the fragment has more than two glyphs\n",
        "                        if len(fragment) > 2:\n",
        "                            # Call RemoveAt twice\n",
        "                            fragment.remove(0)\n",
        "                            fragment.remove(0)\n",
        "\n",
        "            # Append the finished output element to the content generator\n",
        "            generator.append_content_element(out_element)"
      ]
    },
    {
      "cell_type": "code",
      "execution_count": null,
      "id": "135b0c31-0546-4fdf-abb5-a63c1c111728",
      "metadata": {
          "id": "a76cd31b-3e58-41d6-9daa-81072e1362f7"
      },
      "outputs": [],
      "source": [
        "try:\n",
        "    # Set and check license key. If the license key is not valid, an exception is thrown.\n",
        "    from pdftools_toolbox.sdk import Sdk\n",
        "    Sdk.initialize(\"INSERT-LICENSE-KEY\", None)\n",

        "\n",
        "    # Open input and create output documents\n",
        "    with io.FileIO(input_file_path, \"rb\") as in_stream:\n",
        "        with Document.open(in_stream, None) as in_doc:\n",
        "    \n",
        "            # Create output document\n",
        "            with io.FileIO(output_file_path, \"wb+\") as out_stream:\n",
        "                with Document.create(out_stream, in_doc.conformance, None) as out_doc:\n",
        "    \n",
        "                    # Copy document-wide data\n",
        "                    copy_document_data(in_doc, out_doc)\n",
        "    \n",
        "                    # Process each page\n",
        "                    for in_page in in_doc.pages:\n",
        "                        # Create empty output page\n",
        "                        out_page = Page.create(out_doc, in_page.size)\n",
        "                        # Copy page content from input to output and remove glyphs\n",
        "                        copy_content_and_remove_glyphs(in_page.content, out_page.content, out_doc)\n",
        "                        # Add the new page to the output document's page list\n",
        "                        out_doc.pages.append(out_page)\n",

        "\n",
        "    print(\"Execution successful.\")\n",

        "except Exception as e:\n",
        "    print(f\"An error occurred: {e}\")"
      ]
    }
  ],
  "metadata": {
    "kernelspec": {
      "display_name": "Python 3",
      "language": "python",
      "name": "python3"
    },
    "language_info": {
      "codemirror_mode": {
        "name": "ipython",
        "version": 3
      },
      "file_extension": ".py",
      "mimetype": "text/x-python",
      "name": "python",
      "nbconvert_exporter": "python",
      "pygments_lexer": "ipython3",
      "version": "3.12.8"
    },
    "colab": {
      "provenance": []
    }
  },
  "nbformat": 4,
  "nbformat_minor": 5
}