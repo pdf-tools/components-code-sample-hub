{
  "cells": [
    {
      "cell_type": "markdown",
      "id": "27a7946e-5a86-447d-99b8-4a2d4773eb73",
      "metadata": {
          "id": "0cb4b0ab-b188-4d16-b375-2685dfe2f4d2"
      },
      "source": [
        "[![Open In Colab](https://colab.research.google.com/assets/colab-badge.svg)](https://colab.research.google.com/github/pdf-tools/components-code-sample-hub/blob/main/jupyter/pdftools_toolbox/pdftools_toolbox_remove_glyphs.ipynb)"
      ]
    },
    {
      "cell_type": "code",
      "execution_count": null,
      "id": "d9702d92-8f63-4e9e-ba48-c62477bf66c3",
      "metadata": {
          "id": "0e382530-f357-48dc-b1a5-19fa3b0ba5ea"
      },
      "outputs": [],
      "source": [
        "%pip install https://pdftools-public-downloads-production.s3.eu-west-1.amazonaws.com/productkits/PDFSDKXT/latest/pdftools_toolbox-latest.tar.gz\n",
        "%pip install ipython"
      ]
    },
    {
      "cell_type": "markdown",
      "id": "9ab957f1-333f-4edf-bb59-345aff851cc4",
      "metadata": {
          "id": "daaaf299-3a5b-4631-b657-751df114ebb1"
      },
      "source": [
        "# Remove glyphs\n",
        "Remove the first two glyphs from every text fragment."
      ]
    },
    {
      "cell_type": "code",
      "execution_count": null,
      "id": "337a0324-63d1-4eb2-9822-a20fb9492878",
      "metadata": {
          "id": "82de0c5c-6a08-4500-9a03-693bfea1f8a8"
      },
      "outputs": [],
      "source": [
        "import io\n",
        "from pdftools_toolbox.pdf import Document, FileReference, Metadata, Page\n",
        "from pdftools_toolbox.pdf.content import Content, ContentElement, ContentExtractor, ContentGenerator, GroupElement, IccBasedColorSpace, TextElement\n",
        "from pdftools_toolbox.pdf.navigation import ViewerSettings"
      ]
    },
    {
      "cell_type": "code",
      "execution_count": null,
      "id": "46a0b3c9-ba9f-449f-8eb5-69c53a38b9be",
      "metadata": {
          "id": "cca8ba3a-fce4-4d47-b1ca-19ebfd8cdeed"
      },
      "outputs": [],
      "source": [
        "# Download a file from a given URL and save it to the local system\n",
        "def prepare_file(url: str, path: str):\n",
        "    import requests\n",
        "    response = requests.get(url)\n",
        "    response.raise_for_status()\n",
        "\n",
        "    with open(path, 'wb') as f:\n",
        "        f.write(response.content)"
      ]
    },
    {
      "cell_type": "code",
      "execution_count": null,
      "id": "01661fc5-1f8f-4169-bceb-e55c836a955e",
      "metadata": {
          "id": "d47f3ce1-e474-4c12-951f-e3bee733390e"
      },
      "outputs": [],
      "source": [
        "# Set input arguments\n",
        "input_url = 'https://pdftools-public-downloads-production.s3.eu-west-1.amazonaws.com/samples/testfiles/InvoiceNone.pdf'\n",
        "input_file_path = 'InvoiceNone.pdf'\n",
        "prepare_file(input_url, input_file_path)\n",
        "output_file_path = 'InvoiceNoGlyphs.pdf'"
      ]
    },
    {
      "cell_type": "code",
      "execution_count": null,
      "id": "acd21866-6642-4306-af1c-6ba41e3524a7",
      "metadata": {
          "id": "64db3443-7a8b-44e7-9f36-6285380068ae"
      },
      "outputs": [],
      "source": [
        "def copy_document_data(in_doc: Document, out_doc: Document):\n",
        "    # Copy document-wide data\n",
        "\n",
        "    # Output intent\n",
        "    if in_doc.output_intent is not None:\n",
        "        in_doc.output_intent = IccBasedColorSpace.copy(out_doc, in_doc.output_intent)\n",
        "\n",
        "    # Metadata\n",
        "    out_doc.metadata = Metadata.copy(out_doc, in_doc.metadata)\n",
        "\n",
        "    # Viewer settings\n",
        "    out_doc.viewer_settings = ViewerSettings.copy(out_doc, in_doc.viewer_settings)\n",
        "\n",
        "    # Associated files (for PDF/A-3 and PDF 2.0 only)\n",
        "    outAssociatedFiles = out_doc.associated_files\n",
        "    for in_file_ref in in_doc.associated_files:\n",
        "        outAssociatedFiles.append(FileReference.copy(out_doc, in_file_ref))\n",
        "\n",
        "    # Plain embedded files\n",
        "    out_embedded_files = out_doc.plain_embedded_files\n",
        "    for in_file_ref in in_doc.plain_embedded_files:\n",
        "        out_embedded_files.append(FileReference.copy(out_doc, in_file_ref))"
      ]
    },
    {
      "cell_type": "code",
      "execution_count": null,
      "id": "8bf5a2fd-3c71-4dcb-929c-7a5ea69bc496",
      "metadata": {
          "id": "6e225eda-ff80-4a02-9aac-9d9e2b4727d5"
      },
      "outputs": [],
      "source": [
        "def copy_content_and_remove_glyphs(in_content: Content, out_content: Content, out_doc: Document):\n",
        "    \"\"\"Process content to remove the first two glyphs from text fragments.\"\"\"\n",
        "    # Use a content extractor and a content generator to copy content\n",
        "    extractor = ContentExtractor(in_content)\n",
        "    with ContentGenerator(out_content, False) as generator:\n",
        "\n",
        "        # Iterate over all content elements\n",
        "        for in_element in extractor:\n",
        "            # Special treatment for group elements\n",
        "            if isinstance(in_element, GroupElement):\n",
        "                # Create empty output group element\n",
        "                out_group_element = GroupElement.copy_without_content(out_doc, in_element)\n",
        "                out_element = out_group_element\n",
        "                copy_content_and_remove_glyphs(in_element.group.content, out_group_element.group.content, out_doc)\n",
        "            else:\n",
        "                # Copy the content element to the output document\n",
        "                out_element = ContentElement.copy(out_doc, in_element)\n",
        "                if isinstance(out_element, TextElement):\n",
        "                    # Special treatment for text element\n",
        "                    text = out_element.text\n",
        "                    # Remove the first two glyphs from each text fragment\n",
        "                    for fragment in text:\n",
        "                        # Ensure that the fragment has more than two glyphs\n",
        "                        if len(fragment) > 2:\n",
        "                            # Call RemoveAt twice\n",
        "                            fragment.remove(0)\n",
        "                            fragment.remove(0)\n",
        "\n",
        "            # Append the finished output element to the content generator\n",
        "            generator.append_content_element(out_element)"
      ]
    },
    {
      "cell_type": "code",
      "execution_count": null,
      "id": "f6a4cdfd-4046-449e-942f-835b01ba3c3e",
      "metadata": {
          "id": "c25cea73-da3a-41b3-889d-33df33110932"
      },
      "outputs": [],
      "source": [
        "try:\n",
        "    # Set and check license key. If the license key is not valid, an exception is thrown.\n",
        "    from pdftools_toolbox.sdk import Sdk\n",
        "    Sdk.initialize(\"INSERT-LICENSE-KEY\", None)\n",

        "\n",
        "    # Open input and create output documents\n",
        "    with io.FileIO(input_file_path, \"rb\") as in_stream:\n",
        "        with Document.open(in_stream, None) as in_doc:\n",
        "    \n",
        "            # Create output document\n",
        "            with io.FileIO(output_file_path, \"wb+\") as out_stream:\n",
        "                with Document.create(out_stream, in_doc.conformance, None) as out_doc:\n",
        "    \n",
        "                    # Copy document-wide data\n",
        "                    copy_document_data(in_doc, out_doc)\n",
        "    \n",
        "                    # Process each page\n",
        "                    for in_page in in_doc.pages:\n",
        "                        # Create empty output page\n",
        "                        out_page = Page.create(out_doc, in_page.size)\n",
        "                        # Copy page content from input to output and remove glyphs\n",
        "                        copy_content_and_remove_glyphs(in_page.content, out_page.content, out_doc)\n",
        "                        # Add the new page to the output document's page list\n",
        "                        out_doc.pages.append(out_page)\n",

        "\n",
        "    print(\"Execution successful.\")\n",

        "except Exception as e:\n",
        "    print(f\"An error occurred: {e}\")"
      ]
    }
  ],
  "metadata": {
    "kernelspec": {
      "display_name": "Python 3",
      "language": "python",
      "name": "python3"
    },
    "language_info": {
      "codemirror_mode": {
        "name": "ipython",
        "version": 3
      },
      "file_extension": ".py",
      "mimetype": "text/x-python",
      "name": "python",
      "nbconvert_exporter": "python",
      "pygments_lexer": "ipython3",
      "version": "3.12.8"
    },
    "colab": {
      "provenance": []
    }
  },
  "nbformat": 4,
  "nbformat_minor": 5
}