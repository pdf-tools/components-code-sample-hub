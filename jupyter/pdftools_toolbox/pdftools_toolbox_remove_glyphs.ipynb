{
  "cells": [
    {
      "cell_type": "markdown",
      "id": "805f8bf4-15db-45a7-96cb-3854b2017ccc",
      "metadata": {
          "id": "99805626-72c9-4b9a-8811-3d01954e9f8a"
      },
      "source": [
        "[![Open In Colab](https://colab.research.google.com/assets/colab-badge.svg)](https://colab.research.google.com/github/pdf-tools/components-code-sample-hub/blob/main/jupyter/pdftools_toolbox/pdftools_toolbox_remove_glyphs.ipynb)"
      ]
    },
    {
      "cell_type": "code",
      "execution_count": null,
      "id": "27f660be-8cbf-4b53-bd9e-817715428d45",
      "metadata": {
          "id": "0d1142db-d28e-4591-a8d0-079486bccd21"
      },
      "outputs": [],
      "source": [
        "%pip install https://pdftools-public-downloads-production.s3.eu-west-1.amazonaws.com/productkits/PDFSDKXT/latest/pdftools_toolbox-latest.tar.gz\n",
        "%pip install ipython"
      ]
    },
    {
      "cell_type": "markdown",
      "id": "97b2ad5c-b7c0-4d7a-b481-19037d054fb8",
      "metadata": {
          "id": "88397e6d-1529-4a05-ba1d-fa3c23625cbb"
      },
      "source": [
        "# Remove glyphs\n",
        "Remove the first two glyphs from every text fragment."
      ]
    },
    {
      "cell_type": "code",
      "execution_count": null,
      "id": "0830c31a-f1c1-432b-8974-0eb892fbcbe7",
      "metadata": {
          "id": "5bb89df7-1f10-407f-bd82-41c820637c53"
      },
      "outputs": [],
      "source": [
        "import io\n",
        "from pdftools_toolbox.pdf import Document, FileReference, Metadata, Page\n",
        "from pdftools_toolbox.pdf.content import Content, ContentElement, ContentExtractor, ContentGenerator, GroupElement, IccBasedColorSpace, TextElement\n",
        "from pdftools_toolbox.pdf.navigation import ViewerSettings"
      ]
    },
    {
      "cell_type": "code",
      "execution_count": null,
      "id": "2faae4fb-6d39-48a1-937c-1ab0cd71aab0",
      "metadata": {
          "id": "2668f3d8-7bbf-4597-826a-dc56191dd7a1"
      },
      "outputs": [],
      "source": [
        "# Download a file from a given URL and save it to the local system\n",
        "def prepare_file(url: str, path: str):\n",
        "    import requests\n",
        "    response = requests.get(url)\n",
        "    response.raise_for_status()\n",
        "\n",
        "    with open(path, 'wb') as f:\n",
        "        f.write(response.content)"
      ]
    },
    {
      "cell_type": "code",
      "execution_count": null,
      "id": "f463ac32-55b0-4918-b4d4-810da0361eb7",
      "metadata": {
          "id": "343a8698-de81-4ac5-bc78-f1107b600366"
      },
      "outputs": [],
      "source": [
        "# Set input arguments\n",
        "input_url = 'https://pdftools-public-downloads-production.s3.eu-west-1.amazonaws.com/samples/testfiles/InvoiceNone.pdf'\n",
        "input_file_path = 'InvoiceNone.pdf'\n",
        "prepare_file(input_url, input_file_path)\n",
        "output_file_path = 'InvoiceNoGlyphs.pdf'"
      ]
    },
    {
      "cell_type": "code",
      "execution_count": null,
      "id": "cce543e2-edb8-4ccf-9dcb-9f8ee0dc3e6c",
      "metadata": {
          "id": "0db37b3a-dfc8-4168-a62a-2d25aa984bf6"
      },
      "outputs": [],
      "source": [
        "def copy_document_data(in_doc: Document, out_doc: Document):\n",
        "    # Copy document-wide data\n",
        "\n",
        "    # Output intent\n",
        "    if in_doc.output_intent is not None:\n",
        "        in_doc.output_intent = IccBasedColorSpace.copy(out_doc, in_doc.output_intent)\n",
        "\n",
        "    # Metadata\n",
        "    out_doc.metadata = Metadata.copy(out_doc, in_doc.metadata)\n",
        "\n",
        "    # Viewer settings\n",
        "    out_doc.viewer_settings = ViewerSettings.copy(out_doc, in_doc.viewer_settings)\n",
        "\n",
        "    # Associated files (for PDF/A-3 and PDF 2.0 only)\n",
        "    outAssociatedFiles = out_doc.associated_files\n",
        "    for in_file_ref in in_doc.associated_files:\n",
        "        outAssociatedFiles.append(FileReference.copy(out_doc, in_file_ref))\n",
        "\n",
        "    # Plain embedded files\n",
        "    out_embedded_files = out_doc.plain_embedded_files\n",
        "    for in_file_ref in in_doc.plain_embedded_files:\n",
        "        out_embedded_files.append(FileReference.copy(out_doc, in_file_ref))"
      ]
    },
    {
      "cell_type": "code",
      "execution_count": null,
      "id": "8249a25b-9760-4ee0-b211-8f29f9edc5ae",
      "metadata": {
          "id": "cb953382-6767-40c0-99b8-734f58a64244"
      },
      "outputs": [],
      "source": [
        "def copy_content_and_remove_glyphs(in_content: Content, out_content: Content, out_doc: Document):\n",
        "    \"\"\"Process content to remove the first two glyphs from text fragments.\"\"\"\n",
        "    # Use a content extractor and a content generator to copy content\n",
        "    extractor = ContentExtractor(in_content)\n",
        "    with ContentGenerator(out_content, False) as generator:\n",
        "\n",
        "        # Iterate over all content elements\n",
        "        for in_element in extractor:\n",
        "            # Special treatment for group elements\n",
        "            if isinstance(in_element, GroupElement):\n",
        "                # Create empty output group element\n",
        "                out_group_element = GroupElement.copy_without_content(out_doc, in_element)\n",
        "                out_element = out_group_element\n",
        "                copy_content_and_remove_glyphs(in_element.group.content, out_group_element.group.content, out_doc)\n",
        "            else:\n",
        "                # Copy the content element to the output document\n",
        "                out_element = ContentElement.copy(out_doc, in_element)\n",
        "                if isinstance(out_element, TextElement):\n",
        "                    # Special treatment for text element\n",
        "                    text = out_element.text\n",
        "                    # Remove the first two glyphs from each text fragment\n",
        "                    for fragment in text:\n",
        "                        # Ensure that the fragment has more than two glyphs\n",
        "                        if len(fragment) > 2:\n",
        "                            # Call RemoveAt twice\n",
        "                            fragment.remove(0)\n",
        "                            fragment.remove(0)\n",
        "\n",
        "            # Append the finished output element to the content generator\n",
        "            generator.append_content_element(out_element)"
      ]
    },
    {
      "cell_type": "code",
      "execution_count": null,
      "id": "1a3c4071-4870-4803-bcb5-faa5b758cd6e",
      "metadata": {
          "id": "09abd116-c7a9-4302-a7a5-6b1a4d5d1344"
      },
      "outputs": [],
      "source": [
        "try:\n",
        "    # Set and check license key. If the license key is not valid, an exception is thrown.\n",
        "    from pdftools_toolbox.sdk import Sdk\n",
        "    Sdk.initialize(\"INSERT-LICENSE-KEY\", None)\n",

        "\n",
        "    # Open input and create output documents\n",
        "    with io.FileIO(input_file_path, \"rb\") as in_stream:\n",
        "        with Document.open(in_stream, None) as in_doc:\n",
        "    \n",
        "            # Create output document\n",
        "            with io.FileIO(output_file_path, \"wb+\") as out_stream:\n",
        "                with Document.create(out_stream, in_doc.conformance, None) as out_doc:\n",
        "    \n",
        "                    # Copy document-wide data\n",
        "                    copy_document_data(in_doc, out_doc)\n",
        "    \n",
        "                    # Process each page\n",
        "                    for in_page in in_doc.pages:\n",
        "                        # Create empty output page\n",
        "                        out_page = Page.create(out_doc, in_page.size)\n",
        "                        # Copy page content from input to output and remove glyphs\n",
        "                        copy_content_and_remove_glyphs(in_page.content, out_page.content, out_doc)\n",
        "                        # Add the new page to the output document's page list\n",
        "                        out_doc.pages.append(out_page)\n",

        "\n",
        "    print(\"Execution successful.\")\n",

        "except Exception as e:\n",
        "    print(f\"An error occurred: {e}\")"
      ]
    }
  ],
  "metadata": {
    "kernelspec": {
      "display_name": "Python 3",
      "language": "python",
      "name": "python3"
    },
    "language_info": {
      "codemirror_mode": {
        "name": "ipython",
        "version": 3
      },
      "file_extension": ".py",
      "mimetype": "text/x-python",
      "name": "python",
      "nbconvert_exporter": "python",
      "pygments_lexer": "ipython3",
      "version": "3.12.8"
    },
    "colab": {
      "provenance": []
    }
  },
  "nbformat": 4,
  "nbformat_minor": 5
}